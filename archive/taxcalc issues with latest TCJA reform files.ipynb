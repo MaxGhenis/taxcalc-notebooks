{
 "cells": [
  {
   "cell_type": "markdown",
   "metadata": {},
   "source": [
    "## Initialize and create test"
   ]
  },
  {
   "cell_type": "code",
   "execution_count": 9,
   "metadata": {
    "collapsed": true
   },
   "outputs": [],
   "source": [
    "from taxcalc import *"
   ]
  },
  {
   "cell_type": "code",
   "execution_count": 20,
   "metadata": {
    "collapsed": true
   },
   "outputs": [],
   "source": [
    "def test(reform_path):\n",
    "    # Initiate baseline calculator\n",
    "    recs = Records.cps_constructor()\n",
    "    calc = Calculator(records=recs, policy=Policy())\n",
    "    # Advance and calculate.\n",
    "    calc.advance_to_year(2018)\n",
    "    calc.calc_all()\n",
    "\n",
    "    # Initiate calculator to apply reforms to\n",
    "    recs_x = Records.cps_constructor()\n",
    "    calc_x = Calculator(records=recs_x, policy=Policy())\n",
    "    \n",
    "    reform = calc_x.read_json_param_objects(reform_path, 'JCT_Behavior.json')\n",
    "    \n",
    "    calc_x.policy.implement_reform(reform['policy'])\n",
    "    calc_x.consumption.update_consumption(reform['consumption'])\n",
    "    calc_x.advance_to_year(2018)\n",
    "\n",
    "    calc_x.behavior.update_behavior(reform['behavior'])\n",
    "    print \"breaks here\"\n",
    "    calc_response = Behavior.response(calc, calc_x)"
   ]
  },
  {
   "cell_type": "markdown",
   "metadata": {},
   "source": [
    "## Test reform files"
   ]
  },
  {
   "cell_type": "markdown",
   "metadata": {},
   "source": [
    "### Old files work"
   ]
  },
  {
   "cell_type": "markdown",
   "metadata": {},
   "source": [
    "From the training notebook."
   ]
  },
  {
   "cell_type": "code",
   "execution_count": 7,
   "metadata": {},
   "outputs": [
    {
     "name": "stdout",
     "output_type": "stream",
     "text": [
      "You loaded data for 2014.\n",
      "Tax-Calculator startup automatically extrapolated your data to 2014.\n",
      "You loaded data for 2014.\n",
      "Tax-Calculator startup automatically extrapolated your data to 2014.\n"
     ]
    }
   ],
   "source": [
    "test('SampleReform.json')"
   ]
  },
  {
   "cell_type": "markdown",
   "metadata": {},
   "source": [
    "These files were pulled around Nov 10."
   ]
  },
  {
   "cell_type": "code",
   "execution_count": 11,
   "metadata": {},
   "outputs": [
    {
     "name": "stdout",
     "output_type": "stream",
     "text": [
      "You loaded data for 2014.\n",
      "Tax-Calculator startup automatically extrapolated your data to 2014.\n",
      "You loaded data for 2014.\n",
      "Tax-Calculator startup automatically extrapolated your data to 2014.\n"
     ]
    }
   ],
   "source": [
    "test('TCJA_House_old.json')"
   ]
  },
  {
   "cell_type": "code",
   "execution_count": 12,
   "metadata": {},
   "outputs": [
    {
     "name": "stdout",
     "output_type": "stream",
     "text": [
      "You loaded data for 2014.\n",
      "Tax-Calculator startup automatically extrapolated your data to 2014.\n",
      "You loaded data for 2014.\n",
      "Tax-Calculator startup automatically extrapolated your data to 2014.\n"
     ]
    }
   ],
   "source": [
    "test('TCJA_Senate_old.json')"
   ]
  },
  {
   "cell_type": "markdown",
   "metadata": {},
   "source": [
    "### New files fail"
   ]
  },
  {
   "cell_type": "code",
   "execution_count": 21,
   "metadata": {},
   "outputs": [
    {
     "name": "stdout",
     "output_type": "stream",
     "text": [
      "You loaded data for 2014.\n",
      "Tax-Calculator startup automatically extrapolated your data to 2014.\n",
      "You loaded data for 2014.\n",
      "Tax-Calculator startup automatically extrapolated your data to 2014.\n",
      "breaks here\n"
     ]
    },
    {
     "ename": "AssertionError",
     "evalue": "",
     "output_type": "error",
     "traceback": [
      "\u001b[0;31m---------------------------------------------------------------------------\u001b[0m",
      "\u001b[0;31mAssertionError\u001b[0m                            Traceback (most recent call last)",
      "\u001b[0;32m<ipython-input-21-0e5cf184aa7e>\u001b[0m in \u001b[0;36m<module>\u001b[0;34m()\u001b[0m\n\u001b[0;32m----> 1\u001b[0;31m \u001b[0mtest\u001b[0m\u001b[0;34m(\u001b[0m\u001b[0;34m'TCJA_House.json'\u001b[0m\u001b[0;34m)\u001b[0m\u001b[0;34m\u001b[0m\u001b[0m\n\u001b[0m",
      "\u001b[0;32m<ipython-input-20-c436b86ccac9>\u001b[0m in \u001b[0;36mtest\u001b[0;34m(reform_path)\u001b[0m\n\u001b[1;32m     19\u001b[0m     \u001b[0mcalc_x\u001b[0m\u001b[0;34m.\u001b[0m\u001b[0mbehavior\u001b[0m\u001b[0;34m.\u001b[0m\u001b[0mupdate_behavior\u001b[0m\u001b[0;34m(\u001b[0m\u001b[0mreform\u001b[0m\u001b[0;34m[\u001b[0m\u001b[0;34m'behavior'\u001b[0m\u001b[0;34m]\u001b[0m\u001b[0;34m)\u001b[0m\u001b[0;34m\u001b[0m\u001b[0m\n\u001b[1;32m     20\u001b[0m     \u001b[0;32mprint\u001b[0m \u001b[0;34m\"breaks here\"\u001b[0m\u001b[0;34m\u001b[0m\u001b[0m\n\u001b[0;32m---> 21\u001b[0;31m     \u001b[0mcalc_response\u001b[0m \u001b[0;34m=\u001b[0m \u001b[0mBehavior\u001b[0m\u001b[0;34m.\u001b[0m\u001b[0mresponse\u001b[0m\u001b[0;34m(\u001b[0m\u001b[0mcalc\u001b[0m\u001b[0;34m,\u001b[0m \u001b[0mcalc_x\u001b[0m\u001b[0;34m)\u001b[0m\u001b[0;34m\u001b[0m\u001b[0m\n\u001b[0m",
      "\u001b[0;32m/usr/local/google/home/mghenis/miniconda2/lib/python2.7/site-packages/taxcalc/behavior.pyc\u001b[0m in \u001b[0;36mresponse\u001b[0;34m(calc_x, calc_y)\u001b[0m\n\u001b[1;32m    281\u001b[0m                                                calc_y_behv)\n\u001b[1;32m    282\u001b[0m         \u001b[0;31m# Recalculate post-reform taxes incorporating behavioral responses\u001b[0m\u001b[0;34m\u001b[0m\u001b[0;34m\u001b[0m\u001b[0m\n\u001b[0;32m--> 283\u001b[0;31m         \u001b[0mcalc_y_behv\u001b[0m\u001b[0;34m.\u001b[0m\u001b[0mcalc_all\u001b[0m\u001b[0;34m(\u001b[0m\u001b[0;34m)\u001b[0m\u001b[0;34m\u001b[0m\u001b[0m\n\u001b[0m\u001b[1;32m    284\u001b[0m         \u001b[0;32mreturn\u001b[0m \u001b[0mcalc_y_behv\u001b[0m\u001b[0;34m\u001b[0m\u001b[0m\n\u001b[1;32m    285\u001b[0m \u001b[0;34m\u001b[0m\u001b[0m\n",
      "\u001b[0;32m/usr/local/google/home/mghenis/miniconda2/lib/python2.7/site-packages/taxcalc/calculate.pyc\u001b[0m in \u001b[0;36mcalc_all\u001b[0;34m(self, zero_out_calc_vars)\u001b[0m\n\u001b[1;32m    142\u001b[0m         \"\"\"\n\u001b[1;32m    143\u001b[0m         \u001b[0;31m# conducts static analysis of Calculator object for current_year\u001b[0m\u001b[0;34m\u001b[0m\u001b[0;34m\u001b[0m\u001b[0m\n\u001b[0;32m--> 144\u001b[0;31m         \u001b[0;32massert\u001b[0m \u001b[0mself\u001b[0m\u001b[0;34m.\u001b[0m\u001b[0mrecords\u001b[0m\u001b[0;34m.\u001b[0m\u001b[0mcurrent_year\u001b[0m \u001b[0;34m==\u001b[0m \u001b[0mself\u001b[0m\u001b[0;34m.\u001b[0m\u001b[0mpolicy\u001b[0m\u001b[0;34m.\u001b[0m\u001b[0mcurrent_year\u001b[0m\u001b[0;34m\u001b[0m\u001b[0m\n\u001b[0m\u001b[1;32m    145\u001b[0m         \u001b[0mself\u001b[0m\u001b[0;34m.\u001b[0m\u001b[0m_calc_one_year\u001b[0m\u001b[0;34m(\u001b[0m\u001b[0mzero_out_calc_vars\u001b[0m\u001b[0;34m)\u001b[0m\u001b[0;34m\u001b[0m\u001b[0m\n\u001b[1;32m    146\u001b[0m         \u001b[0mBenefitSurtax\u001b[0m\u001b[0;34m(\u001b[0m\u001b[0mself\u001b[0m\u001b[0;34m)\u001b[0m\u001b[0;34m\u001b[0m\u001b[0m\n",
      "\u001b[0;31mAssertionError\u001b[0m: "
     ]
    }
   ],
   "source": [
    "test('TCJA_House.json')"
   ]
  },
  {
   "cell_type": "code",
   "execution_count": 22,
   "metadata": {},
   "outputs": [
    {
     "name": "stdout",
     "output_type": "stream",
     "text": [
      "You loaded data for 2014.\n",
      "Tax-Calculator startup automatically extrapolated your data to 2014.\n",
      "You loaded data for 2014.\n",
      "Tax-Calculator startup automatically extrapolated your data to 2014.\n",
      "breaks here\n"
     ]
    },
    {
     "ename": "AssertionError",
     "evalue": "",
     "output_type": "error",
     "traceback": [
      "\u001b[0;31m---------------------------------------------------------------------------\u001b[0m",
      "\u001b[0;31mAssertionError\u001b[0m                            Traceback (most recent call last)",
      "\u001b[0;32m<ipython-input-22-6793b6cf54dc>\u001b[0m in \u001b[0;36m<module>\u001b[0;34m()\u001b[0m\n\u001b[0;32m----> 1\u001b[0;31m \u001b[0mtest\u001b[0m\u001b[0;34m(\u001b[0m\u001b[0;34m'TCJA_House_Amended.json'\u001b[0m\u001b[0;34m)\u001b[0m\u001b[0;34m\u001b[0m\u001b[0m\n\u001b[0m",
      "\u001b[0;32m<ipython-input-20-c436b86ccac9>\u001b[0m in \u001b[0;36mtest\u001b[0;34m(reform_path)\u001b[0m\n\u001b[1;32m     19\u001b[0m     \u001b[0mcalc_x\u001b[0m\u001b[0;34m.\u001b[0m\u001b[0mbehavior\u001b[0m\u001b[0;34m.\u001b[0m\u001b[0mupdate_behavior\u001b[0m\u001b[0;34m(\u001b[0m\u001b[0mreform\u001b[0m\u001b[0;34m[\u001b[0m\u001b[0;34m'behavior'\u001b[0m\u001b[0;34m]\u001b[0m\u001b[0;34m)\u001b[0m\u001b[0;34m\u001b[0m\u001b[0m\n\u001b[1;32m     20\u001b[0m     \u001b[0;32mprint\u001b[0m \u001b[0;34m\"breaks here\"\u001b[0m\u001b[0;34m\u001b[0m\u001b[0m\n\u001b[0;32m---> 21\u001b[0;31m     \u001b[0mcalc_response\u001b[0m \u001b[0;34m=\u001b[0m \u001b[0mBehavior\u001b[0m\u001b[0;34m.\u001b[0m\u001b[0mresponse\u001b[0m\u001b[0;34m(\u001b[0m\u001b[0mcalc\u001b[0m\u001b[0;34m,\u001b[0m \u001b[0mcalc_x\u001b[0m\u001b[0;34m)\u001b[0m\u001b[0;34m\u001b[0m\u001b[0m\n\u001b[0m",
      "\u001b[0;32m/usr/local/google/home/mghenis/miniconda2/lib/python2.7/site-packages/taxcalc/behavior.pyc\u001b[0m in \u001b[0;36mresponse\u001b[0;34m(calc_x, calc_y)\u001b[0m\n\u001b[1;32m    281\u001b[0m                                                calc_y_behv)\n\u001b[1;32m    282\u001b[0m         \u001b[0;31m# Recalculate post-reform taxes incorporating behavioral responses\u001b[0m\u001b[0;34m\u001b[0m\u001b[0;34m\u001b[0m\u001b[0m\n\u001b[0;32m--> 283\u001b[0;31m         \u001b[0mcalc_y_behv\u001b[0m\u001b[0;34m.\u001b[0m\u001b[0mcalc_all\u001b[0m\u001b[0;34m(\u001b[0m\u001b[0;34m)\u001b[0m\u001b[0;34m\u001b[0m\u001b[0m\n\u001b[0m\u001b[1;32m    284\u001b[0m         \u001b[0;32mreturn\u001b[0m \u001b[0mcalc_y_behv\u001b[0m\u001b[0;34m\u001b[0m\u001b[0m\n\u001b[1;32m    285\u001b[0m \u001b[0;34m\u001b[0m\u001b[0m\n",
      "\u001b[0;32m/usr/local/google/home/mghenis/miniconda2/lib/python2.7/site-packages/taxcalc/calculate.pyc\u001b[0m in \u001b[0;36mcalc_all\u001b[0;34m(self, zero_out_calc_vars)\u001b[0m\n\u001b[1;32m    142\u001b[0m         \"\"\"\n\u001b[1;32m    143\u001b[0m         \u001b[0;31m# conducts static analysis of Calculator object for current_year\u001b[0m\u001b[0;34m\u001b[0m\u001b[0;34m\u001b[0m\u001b[0m\n\u001b[0;32m--> 144\u001b[0;31m         \u001b[0;32massert\u001b[0m \u001b[0mself\u001b[0m\u001b[0;34m.\u001b[0m\u001b[0mrecords\u001b[0m\u001b[0;34m.\u001b[0m\u001b[0mcurrent_year\u001b[0m \u001b[0;34m==\u001b[0m \u001b[0mself\u001b[0m\u001b[0;34m.\u001b[0m\u001b[0mpolicy\u001b[0m\u001b[0;34m.\u001b[0m\u001b[0mcurrent_year\u001b[0m\u001b[0;34m\u001b[0m\u001b[0m\n\u001b[0m\u001b[1;32m    145\u001b[0m         \u001b[0mself\u001b[0m\u001b[0;34m.\u001b[0m\u001b[0m_calc_one_year\u001b[0m\u001b[0;34m(\u001b[0m\u001b[0mzero_out_calc_vars\u001b[0m\u001b[0;34m)\u001b[0m\u001b[0;34m\u001b[0m\u001b[0m\n\u001b[1;32m    146\u001b[0m         \u001b[0mBenefitSurtax\u001b[0m\u001b[0;34m(\u001b[0m\u001b[0mself\u001b[0m\u001b[0;34m)\u001b[0m\u001b[0;34m\u001b[0m\u001b[0m\n",
      "\u001b[0;31mAssertionError\u001b[0m: "
     ]
    }
   ],
   "source": [
    "test('TCJA_House_Amended.json')"
   ]
  },
  {
   "cell_type": "code",
   "execution_count": null,
   "metadata": {},
   "outputs": [],
   "source": [
    "test('TCJA_Senate.json')"
   ]
  },
  {
   "cell_type": "code",
   "execution_count": null,
   "metadata": {
    "collapsed": true
   },
   "outputs": [],
   "source": []
  }
 ],
 "metadata": {
  "kernelspec": {
   "display_name": "Python 2",
   "language": "python",
   "name": "python2"
  },
  "language_info": {
   "codemirror_mode": {
    "name": "ipython",
    "version": 2
   },
   "file_extension": ".py",
   "mimetype": "text/x-python",
   "name": "python",
   "nbconvert_exporter": "python",
   "pygments_lexer": "ipython2",
   "version": "2.7.14"
  }
 },
 "nbformat": 4,
 "nbformat_minor": 2
}
