{
 "cells": [
  {
   "cell_type": "markdown",
   "metadata": {},
   "source": [
    "Compare House TCJA total change in liability when using default weights vs. those provided by Ernie Tedeschi. \n",
    "\n",
    "Uses behavior file provided by Matt Jensen."
   ]
  },
  {
   "cell_type": "code",
   "execution_count": 1,
   "metadata": {
    "collapsed": true
   },
   "outputs": [],
   "source": [
    "from taxcalc import *\n",
    "from taxcalc.utils import *"
   ]
  },
  {
   "cell_type": "code",
   "execution_count": 2,
   "metadata": {},
   "outputs": [],
   "source": [
    "# Load Ernie Tedeschi's weights file.\n",
    "tedeschi_weights = pd.read_csv('~/cps_weights_2026.csv')"
   ]
  },
  {
   "cell_type": "markdown",
   "metadata": {},
   "source": [
    "Something to do with behavior? Doesn't calculate `combined` without `Behavior.response()`."
   ]
  },
  {
   "cell_type": "code",
   "execution_count": 21,
   "metadata": {},
   "outputs": [
    {
     "data": {
      "text/plain": [
       "array([ 230.01666667,  194.6       ,  245.27666667, ...,  113.12666667,\n",
       "         96.25666667,  113.12666667])"
      ]
     },
     "execution_count": 21,
     "metadata": {},
     "output_type": "execute_result"
    }
   ],
   "source": [
    "Records.cps_constructor().s006"
   ]
  },
  {
   "cell_type": "code",
   "execution_count": 33,
   "metadata": {},
   "outputs": [],
   "source": [
    "def total_combined_liability(calc):\n",
    "    # combined is combined tax liability while s006 is weight\n",
    "    return (calc.records.combined * calc.records.s006).sum()"
   ]
  },
  {
   "cell_type": "code",
   "execution_count": 34,
   "metadata": {
    "collapsed": true
   },
   "outputs": [],
   "source": [
    "def print_combined_liability(baseline_calc, reform_calc):\n",
    "    # Calculate and print liabilities.\n",
    "    baseline = total_combined_liability(baseline_calc)\n",
    "    reformed = total_combined_liability(reform_calc)\n",
    "    diff = reformed - baseline\n",
    "    print ('Combined Liability - Baseline: {:0.2f}'.format(baseline))\n",
    "    print ('Combined Liability - Reform: {:>18.2f}'.format(reformed))\n",
    "    print ('-' * 47)\n",
    "    print ('Difference: {:35.2f}'.format(diff))"
   ]
  },
  {
   "cell_type": "code",
   "execution_count": 40,
   "metadata": {
    "collapsed": true
   },
   "outputs": [],
   "source": [
    "def new_test(replace_records_tedeschi_weights,\n",
    "             replace_calc_tedeschi_weights):\n",
    "    # Initiate baseline calculator\n",
    "    recs = Records.cps_constructor()\n",
    "    if (replace_records_tedeschi_weights):\n",
    "        recs.s006 = tedeschi_weights.s006\n",
    "    calc = Calculator(records=recs, policy=Policy())\n",
    "    if (replace_calc_tedeschi_weights):\n",
    "        calc.s006 = tedeschi_weights.s006\n",
    "    # Advance and calculate.\n",
    "    calc.advance_to_year(2018)\n",
    "    calc.calc_all()\n",
    "    # Initiate calculator to apply reforms to\n",
    "    reform = Calculator.read_json_param_objects('TCJA_House_Amended.json',\n",
    "                                                'JCT_Behavior.json')\n",
    "    pol = Policy()\n",
    "    pol.implement_reform(reform['policy'])\n",
    "    con = Consumption()\n",
    "    con.update_consumption(reform['consumption'])\n",
    "    beh = Behavior()\n",
    "    beh.update_behavior(reform['behavior'])\n",
    "    calc_x = Calculator(records=recs, policy=pol,\n",
    "                        consumption=con, behavior=beh)\n",
    "    if (replace_calc_tedeschi_weights):\n",
    "        calc_x.s006 = tedeschi_weights.s006\n",
    "    calc_x.advance_to_year(2018)\n",
    "    calc_response = Behavior.response(calc, calc_x)\n",
    "    print_combined_liability(calc, calc_response)"
   ]
  },
  {
   "cell_type": "code",
   "execution_count": 42,
   "metadata": {},
   "outputs": [
    {
     "name": "stdout",
     "output_type": "stream",
     "text": [
      "You loaded data for 2014.\n",
      "Tax-Calculator startup automatically extrapolated your data to 2014.\n",
      "You loaded data for 2014.\n",
      "Tax-Calculator startup automatically extrapolated your data to 2014.\n",
      "Combined Liability - Baseline: 2521070511449.64\n",
      "Combined Liability - Reform:   2458101656483.74\n",
      "-----------------------------------------------\n",
      "Difference:                     -62968854965.90\n"
     ]
    }
   ],
   "source": [
    "new_test(replace_records_tedeschi_weights = True,\n",
    "         replace_calc_tedeschi_weights = True)"
   ]
  },
  {
   "cell_type": "code",
   "execution_count": 45,
   "metadata": {},
   "outputs": [
    {
     "name": "stdout",
     "output_type": "stream",
     "text": [
      "You loaded data for 2014.\n",
      "Tax-Calculator startup automatically extrapolated your data to 2014.\n",
      "You loaded data for 2014.\n",
      "Tax-Calculator startup automatically extrapolated your data to 2014.\n",
      "Combined Liability - Baseline: 2521070511449.64\n",
      "Combined Liability - Reform:   2458101656483.74\n",
      "-----------------------------------------------\n",
      "Difference:                     -62968854965.90\n"
     ]
    }
   ],
   "source": [
    "new_test(replace_records_tedeschi_weights = False,\n",
    "         replace_calc_tedeschi_weights = False)"
   ]
  },
  {
   "cell_type": "code",
   "execution_count": 39,
   "metadata": {},
   "outputs": [
    {
     "name": "stdout",
     "output_type": "stream",
     "text": [
      "You loaded data for 2014.\n",
      "Tax-Calculator startup automatically extrapolated your data to 2014.\n",
      "You loaded data for 2014.\n",
      "Tax-Calculator startup automatically extrapolated your data to 2014.\n",
      "Combined Liability - Baseline: 2521070511449.64\n",
      "Combined Liability - Reform:   2458101656483.74\n",
      "-----------------------------------------------\n",
      "Difference:                     -62968854965.90\n"
     ]
    }
   ],
   "source": [
    "new_test(use_tedeschi_weights = False)"
   ]
  },
  {
   "cell_type": "code",
   "execution_count": 24,
   "metadata": {
    "collapsed": true
   },
   "outputs": [],
   "source": [
    "def test(use_tedeschi_weights):\n",
    "    # Initiate baseline calculator\n",
    "    recs = Records.cps_constructor()\n",
    "    if (use_tedeschi_weights):\n",
    "        recs.s006 = tedeschi_weights.s006\n",
    "    calc = Calculator(records=recs, policy=Policy())\n",
    "    # Initiate calculator to apply reforms to\n",
    "    reform = Calculator.read_json_param_objects('TCJA_House_Amended.json',\n",
    "                                                'JCT_Behavior.json')\n",
    "    pol = Policy()\n",
    "    pol.implement_reform(reform['policy'])\n",
    "    con = Consumption()\n",
    "    con.update_consumption(reform['consumption'])\n",
    "    beh = Behavior()\n",
    "    beh.update_behavior(reform['behavior'])\n",
    "    calc_x = Calculator(records=recs, policy=pol,\n",
    "                        consumption=con, behavior=beh)\n",
    "    calc_x.advance_to_year(2018)\n",
    "    calc_response = Behavior.response(calc, calc_x)\n",
    "    # Calculate and print liabilities.\n",
    "    baseline = (calc.records.combined * calc.records.s006).sum()  # combined is combined tax liability while s006 is weight\n",
    "    reformed = (calc_response.records.combined * calc_response.records.s006).sum()\n",
    "    diff = reformed - baseline\n",
    "    print ('Combined Liability - Baseline: {:0.2f}'.format(baseline))\n",
    "    print ('Combined Liability - Reform: {:>18.2f}'.format(reformed))\n",
    "    print ('-' * 47)\n",
    "    print ('Difference: {:35.2f}'.format(diff))"
   ]
  },
  {
   "cell_type": "code",
   "execution_count": 31,
   "metadata": {},
   "outputs": [
    {
     "name": "stdout",
     "output_type": "stream",
     "text": [
      "You loaded data for 2014.\n",
      "Tax-Calculator startup automatically extrapolated your data to 2014.\n",
      "You loaded data for 2014.\n",
      "Tax-Calculator startup automatically extrapolated your data to 2014.\n"
     ]
    },
    {
     "ename": "AssertionError",
     "evalue": "",
     "output_type": "error",
     "traceback": [
      "\u001b[0;31m---------------------------------------------------------------------------\u001b[0m",
      "\u001b[0;31mAssertionError\u001b[0m                            Traceback (most recent call last)",
      "\u001b[0;32m<ipython-input-31-24a055af80f9>\u001b[0m in \u001b[0;36m<module>\u001b[0;34m()\u001b[0m\n\u001b[0;32m----> 1\u001b[0;31m \u001b[0mtest\u001b[0m\u001b[0;34m(\u001b[0m\u001b[0muse_tedeschi_weights\u001b[0m \u001b[0;34m=\u001b[0m \u001b[0mTrue\u001b[0m\u001b[0;34m)\u001b[0m\u001b[0;34m\u001b[0m\u001b[0m\n\u001b[0m",
      "\u001b[0;32m<ipython-input-24-b7d7a5eca5d3>\u001b[0m in \u001b[0;36mtest\u001b[0;34m(use_tedeschi_weights)\u001b[0m\n\u001b[1;32m     17\u001b[0m                         consumption=con, behavior=beh)\n\u001b[1;32m     18\u001b[0m     \u001b[0mcalc_x\u001b[0m\u001b[0;34m.\u001b[0m\u001b[0madvance_to_year\u001b[0m\u001b[0;34m(\u001b[0m\u001b[0;36m2018\u001b[0m\u001b[0;34m)\u001b[0m\u001b[0;34m\u001b[0m\u001b[0m\n\u001b[0;32m---> 19\u001b[0;31m     \u001b[0mcalc_response\u001b[0m \u001b[0;34m=\u001b[0m \u001b[0mBehavior\u001b[0m\u001b[0;34m.\u001b[0m\u001b[0mresponse\u001b[0m\u001b[0;34m(\u001b[0m\u001b[0mcalc\u001b[0m\u001b[0;34m,\u001b[0m \u001b[0mcalc_x\u001b[0m\u001b[0;34m)\u001b[0m\u001b[0;34m\u001b[0m\u001b[0m\n\u001b[0m\u001b[1;32m     20\u001b[0m     \u001b[0;31m# Calculate and print liabilities.\u001b[0m\u001b[0;34m\u001b[0m\u001b[0;34m\u001b[0m\u001b[0m\n\u001b[1;32m     21\u001b[0m     \u001b[0mbaseline\u001b[0m \u001b[0;34m=\u001b[0m \u001b[0;34m(\u001b[0m\u001b[0mcalc\u001b[0m\u001b[0;34m.\u001b[0m\u001b[0mrecords\u001b[0m\u001b[0;34m.\u001b[0m\u001b[0mcombined\u001b[0m \u001b[0;34m*\u001b[0m \u001b[0mcalc\u001b[0m\u001b[0;34m.\u001b[0m\u001b[0mrecords\u001b[0m\u001b[0;34m.\u001b[0m\u001b[0ms006\u001b[0m\u001b[0;34m)\u001b[0m\u001b[0;34m.\u001b[0m\u001b[0msum\u001b[0m\u001b[0;34m(\u001b[0m\u001b[0;34m)\u001b[0m  \u001b[0;31m# combined is combined tax liability while s006 is weight\u001b[0m\u001b[0;34m\u001b[0m\u001b[0m\n",
      "\u001b[0;32m/usr/local/google/home/mghenis/miniconda2/lib/python2.7/site-packages/taxcalc/behavior.pyc\u001b[0m in \u001b[0;36mresponse\u001b[0;34m(calc_x, calc_y)\u001b[0m\n\u001b[1;32m    147\u001b[0m         \u001b[0;31m# pylint: disable=too-many-statements,too-many-locals,too-many-branches\u001b[0m\u001b[0;34m\u001b[0m\u001b[0;34m\u001b[0m\u001b[0m\n\u001b[1;32m    148\u001b[0m         \u001b[0;32massert\u001b[0m \u001b[0mcalc_x\u001b[0m\u001b[0;34m.\u001b[0m\u001b[0mrecords\u001b[0m\u001b[0;34m.\u001b[0m\u001b[0mdim\u001b[0m \u001b[0;34m==\u001b[0m \u001b[0mcalc_y\u001b[0m\u001b[0;34m.\u001b[0m\u001b[0mrecords\u001b[0m\u001b[0;34m.\u001b[0m\u001b[0mdim\u001b[0m\u001b[0;34m\u001b[0m\u001b[0m\n\u001b[0;32m--> 149\u001b[0;31m         \u001b[0;32massert\u001b[0m \u001b[0mcalc_x\u001b[0m\u001b[0;34m.\u001b[0m\u001b[0mrecords\u001b[0m\u001b[0;34m.\u001b[0m\u001b[0mcurrent_year\u001b[0m \u001b[0;34m==\u001b[0m \u001b[0mcalc_y\u001b[0m\u001b[0;34m.\u001b[0m\u001b[0mrecords\u001b[0m\u001b[0;34m.\u001b[0m\u001b[0mcurrent_year\u001b[0m\u001b[0;34m\u001b[0m\u001b[0m\n\u001b[0m\u001b[1;32m    150\u001b[0m         \u001b[0;31m# calculate sum of substitution and income effects\u001b[0m\u001b[0;34m\u001b[0m\u001b[0;34m\u001b[0m\u001b[0m\n\u001b[1;32m    151\u001b[0m         \u001b[0;32mif\u001b[0m \u001b[0mcalc_y\u001b[0m\u001b[0;34m.\u001b[0m\u001b[0mbehavior\u001b[0m\u001b[0;34m.\u001b[0m\u001b[0mBE_sub\u001b[0m \u001b[0;34m==\u001b[0m \u001b[0;36m0.0\u001b[0m \u001b[0;32mand\u001b[0m \u001b[0mcalc_y\u001b[0m\u001b[0;34m.\u001b[0m\u001b[0mbehavior\u001b[0m\u001b[0;34m.\u001b[0m\u001b[0mBE_inc\u001b[0m \u001b[0;34m==\u001b[0m \u001b[0;36m0.0\u001b[0m\u001b[0;34m:\u001b[0m\u001b[0;34m\u001b[0m\u001b[0m\n",
      "\u001b[0;31mAssertionError\u001b[0m: "
     ]
    }
   ],
   "source": [
    "test(use_tedeschi_weights = True)"
   ]
  },
  {
   "cell_type": "code",
   "execution_count": 26,
   "metadata": {},
   "outputs": [
    {
     "name": "stdout",
     "output_type": "stream",
     "text": [
      "You loaded data for 2014.\n",
      "Tax-Calculator startup automatically extrapolated your data to 2014.\n",
      "You loaded data for 2014.\n",
      "Tax-Calculator startup automatically extrapolated your data to 2014.\n"
     ]
    },
    {
     "ename": "AssertionError",
     "evalue": "",
     "output_type": "error",
     "traceback": [
      "\u001b[0;31m---------------------------------------------------------------------------\u001b[0m",
      "\u001b[0;31mAssertionError\u001b[0m                            Traceback (most recent call last)",
      "\u001b[0;32m<ipython-input-26-e8e56e6a7ab2>\u001b[0m in \u001b[0;36m<module>\u001b[0;34m()\u001b[0m\n\u001b[0;32m----> 1\u001b[0;31m \u001b[0mtest\u001b[0m\u001b[0;34m(\u001b[0m\u001b[0muse_tedeschi_weights\u001b[0m \u001b[0;34m=\u001b[0m \u001b[0mFalse\u001b[0m\u001b[0;34m)\u001b[0m\u001b[0;34m\u001b[0m\u001b[0m\n\u001b[0m",
      "\u001b[0;32m<ipython-input-24-b7d7a5eca5d3>\u001b[0m in \u001b[0;36mtest\u001b[0;34m(use_tedeschi_weights)\u001b[0m\n\u001b[1;32m     17\u001b[0m                         consumption=con, behavior=beh)\n\u001b[1;32m     18\u001b[0m     \u001b[0mcalc_x\u001b[0m\u001b[0;34m.\u001b[0m\u001b[0madvance_to_year\u001b[0m\u001b[0;34m(\u001b[0m\u001b[0;36m2018\u001b[0m\u001b[0;34m)\u001b[0m\u001b[0;34m\u001b[0m\u001b[0m\n\u001b[0;32m---> 19\u001b[0;31m     \u001b[0mcalc_response\u001b[0m \u001b[0;34m=\u001b[0m \u001b[0mBehavior\u001b[0m\u001b[0;34m.\u001b[0m\u001b[0mresponse\u001b[0m\u001b[0;34m(\u001b[0m\u001b[0mcalc\u001b[0m\u001b[0;34m,\u001b[0m \u001b[0mcalc_x\u001b[0m\u001b[0;34m)\u001b[0m\u001b[0;34m\u001b[0m\u001b[0m\n\u001b[0m\u001b[1;32m     20\u001b[0m     \u001b[0;31m# Calculate and print liabilities.\u001b[0m\u001b[0;34m\u001b[0m\u001b[0;34m\u001b[0m\u001b[0m\n\u001b[1;32m     21\u001b[0m     \u001b[0mbaseline\u001b[0m \u001b[0;34m=\u001b[0m \u001b[0;34m(\u001b[0m\u001b[0mcalc\u001b[0m\u001b[0;34m.\u001b[0m\u001b[0mrecords\u001b[0m\u001b[0;34m.\u001b[0m\u001b[0mcombined\u001b[0m \u001b[0;34m*\u001b[0m \u001b[0mcalc\u001b[0m\u001b[0;34m.\u001b[0m\u001b[0mrecords\u001b[0m\u001b[0;34m.\u001b[0m\u001b[0ms006\u001b[0m\u001b[0;34m)\u001b[0m\u001b[0;34m.\u001b[0m\u001b[0msum\u001b[0m\u001b[0;34m(\u001b[0m\u001b[0;34m)\u001b[0m  \u001b[0;31m# combined is combined tax liability while s006 is weight\u001b[0m\u001b[0;34m\u001b[0m\u001b[0m\n",
      "\u001b[0;32m/usr/local/google/home/mghenis/miniconda2/lib/python2.7/site-packages/taxcalc/behavior.pyc\u001b[0m in \u001b[0;36mresponse\u001b[0;34m(calc_x, calc_y)\u001b[0m\n\u001b[1;32m    147\u001b[0m         \u001b[0;31m# pylint: disable=too-many-statements,too-many-locals,too-many-branches\u001b[0m\u001b[0;34m\u001b[0m\u001b[0;34m\u001b[0m\u001b[0m\n\u001b[1;32m    148\u001b[0m         \u001b[0;32massert\u001b[0m \u001b[0mcalc_x\u001b[0m\u001b[0;34m.\u001b[0m\u001b[0mrecords\u001b[0m\u001b[0;34m.\u001b[0m\u001b[0mdim\u001b[0m \u001b[0;34m==\u001b[0m \u001b[0mcalc_y\u001b[0m\u001b[0;34m.\u001b[0m\u001b[0mrecords\u001b[0m\u001b[0;34m.\u001b[0m\u001b[0mdim\u001b[0m\u001b[0;34m\u001b[0m\u001b[0m\n\u001b[0;32m--> 149\u001b[0;31m         \u001b[0;32massert\u001b[0m \u001b[0mcalc_x\u001b[0m\u001b[0;34m.\u001b[0m\u001b[0mrecords\u001b[0m\u001b[0;34m.\u001b[0m\u001b[0mcurrent_year\u001b[0m \u001b[0;34m==\u001b[0m \u001b[0mcalc_y\u001b[0m\u001b[0;34m.\u001b[0m\u001b[0mrecords\u001b[0m\u001b[0;34m.\u001b[0m\u001b[0mcurrent_year\u001b[0m\u001b[0;34m\u001b[0m\u001b[0m\n\u001b[0m\u001b[1;32m    150\u001b[0m         \u001b[0;31m# calculate sum of substitution and income effects\u001b[0m\u001b[0;34m\u001b[0m\u001b[0;34m\u001b[0m\u001b[0m\n\u001b[1;32m    151\u001b[0m         \u001b[0;32mif\u001b[0m \u001b[0mcalc_y\u001b[0m\u001b[0;34m.\u001b[0m\u001b[0mbehavior\u001b[0m\u001b[0;34m.\u001b[0m\u001b[0mBE_sub\u001b[0m \u001b[0;34m==\u001b[0m \u001b[0;36m0.0\u001b[0m \u001b[0;32mand\u001b[0m \u001b[0mcalc_y\u001b[0m\u001b[0;34m.\u001b[0m\u001b[0mbehavior\u001b[0m\u001b[0;34m.\u001b[0m\u001b[0mBE_inc\u001b[0m \u001b[0;34m==\u001b[0m \u001b[0;36m0.0\u001b[0m\u001b[0;34m:\u001b[0m\u001b[0;34m\u001b[0m\u001b[0m\n",
      "\u001b[0;31mAssertionError\u001b[0m: "
     ]
    }
   ],
   "source": [
    "test(use_tedeschi_weights = False)"
   ]
  },
  {
   "cell_type": "code",
   "execution_count": null,
   "metadata": {},
   "outputs": [],
   "source": [
    "# Initiate calculator to apply reforms to\n",
    "recs_x = Records.cps_constructor()\n",
    "calc_x = Calculator(records=recs_x, policy=Policy())\n",
    "# Replace weights attribute of calc_x.\n",
    "calc_x.records.s006 = tedeschi_weights.s006"
   ]
  },
  {
   "cell_type": "code",
   "execution_count": null,
   "metadata": {},
   "outputs": [],
   "source": [
    "reforms = calc_x.read_json_param_objects('TCJA_House_old.json', 'JCT_Behavior.json')"
   ]
  },
  {
   "cell_type": "markdown",
   "metadata": {},
   "source": [
    "You can specify your reforms in a JSON file and, using the `read_json_param_objects` method, create a dictionary containing both policy reforms and behavioral assumptions\n",
    "\n",
    "The policy reform and any behavioral assumptions need to be in separate JSON files.\n",
    "\n",
    "Here is [more information](https://github.com/open-source-economics/Tax-Calculator/blob/master/taxcalc/reforms/REFORMS.md) on creating reform files."
   ]
  },
  {
   "cell_type": "code",
   "execution_count": null,
   "metadata": {
    "collapsed": true
   },
   "outputs": [],
   "source": [
    "calc_x.policy.implement_reform(reforms['policy'])\n",
    "calc_x.consumption.update_consumption(reforms['consumption'])\n",
    "calc_x.advance_to_year(2018)"
   ]
  },
  {
   "cell_type": "markdown",
   "metadata": {},
   "source": [
    "### Behavioral response\n",
    "\n",
    "A dictionary is also used to implement behavioral reforms. The only difference is you must then pass the baseline and reform calculators into the response method of the behavioral class. This method calculates the change in tax liabilities and then, using the specified elasticities, returns a new calculator object that accounts for any behavioral change."
   ]
  },
  {
   "cell_type": "code",
   "execution_count": null,
   "metadata": {},
   "outputs": [],
   "source": [
    "calc_x.behavior.update_behavior(reforms['behavior'])\n",
    "calc_response = Behavior.response(calc, calc_x)"
   ]
  },
  {
   "cell_type": "markdown",
   "metadata": {},
   "source": [
    "\n",
    "### Without Tedeschi weights"
   ]
  },
  {
   "cell_type": "code",
   "execution_count": null,
   "metadata": {},
   "outputs": [],
   "source": [
    "# Initiate baseline calculator\n",
    "recs = Records.cps_constructor()\n",
    "calc = Calculator(records=recs, policy=Policy())\n",
    "# Replace weights attribute of calc.\n",
    "#calc.records.s006 = tedeschi_weights.s006\n",
    "# Advance and calculate.\n",
    "calc.advance_to_year(2018)\n",
    "calc.calc_all()\n",
    "\n",
    "# Initiate calculator to apply reforms to\n",
    "recs_x = Records.cps_constructor()\n",
    "calc_x = Calculator(records=recs_x, policy=Policy())\n",
    "# Replace weights attribute of calc_x.\n",
    "#calc_x.records.s006 = tedeschi_weights.s006\n",
    "\n",
    "calc_x.policy.implement_reform(reforms['policy'])\n",
    "calc_x.consumption.update_consumption(reforms['consumption'])\n",
    "calc_x.advance_to_year(2018)\n",
    "\n",
    "calc_x.behavior.update_behavior(reforms['behavior'])\n",
    "calc_response = Behavior.response(calc, calc_x)"
   ]
  },
  {
   "cell_type": "markdown",
   "metadata": {},
   "source": [
    "### Viewing the results"
   ]
  },
  {
   "cell_type": "code",
   "execution_count": null,
   "metadata": {
    "collapsed": true
   },
   "outputs": [],
   "source": [
    "from taxcalc.utils import *"
   ]
  },
  {
   "cell_type": "markdown",
   "metadata": {},
   "source": [
    "#### Analyzing Individual Variables\n",
    "\n",
    "Individual variables are attributes of the records class and can therefore be accessed using a simple dot notation"
   ]
  },
  {
   "cell_type": "code",
   "execution_count": null,
   "metadata": {},
   "outputs": [],
   "source": [
    "baseline = (calc.records.combined * calc.records.s006).sum()  # combined is combined tax liability while s006 is weight\n",
    "reformed = (calc_response.records.combined * calc_response.records.s006).sum()\n",
    "diff = reformed - baseline\n",
    "print ('Combined Liability - Baseline: {:0.2f}'.format(baseline))\n",
    "print ('Combined Liability - Reform: {:>18.2f}'.format(reformed))\n",
    "print ('-' * 47)\n",
    "print ('Difference: {:35.2f}'.format(diff))"
   ]
  },
  {
   "cell_type": "markdown",
   "metadata": {},
   "source": [
    "#### Diagnostic Table\n",
    "\n",
    "Diagnostic tables are the most straight forward methods of evaluation. They simply show aggregate values for a given calculator"
   ]
  },
  {
   "cell_type": "code",
   "execution_count": null,
   "metadata": {
    "collapsed": true
   },
   "outputs": [],
   "source": [
    "create_diagnostic_table(calc)"
   ]
  },
  {
   "cell_type": "code",
   "execution_count": null,
   "metadata": {},
   "outputs": [],
   "source": [
    "create_diagnostic_table(calc_response)"
   ]
  },
  {
   "cell_type": "markdown",
   "metadata": {},
   "source": [
    "#### Distribution Table\n",
    "\n",
    "The distribution table shows the same information as the diagnostic table, but broken down by income bin or decile. You can view the results as either the weighted average or the weighted sum in each bin"
   ]
  },
  {
   "cell_type": "code",
   "execution_count": null,
   "metadata": {},
   "outputs": [],
   "source": [
    "create_distribution_table(calc.records, groupby='weighted_deciles',\n",
    "                          income_measure='expanded_income', result_type='weighted_avg')"
   ]
  },
  {
   "cell_type": "code",
   "execution_count": null,
   "metadata": {},
   "outputs": [],
   "source": [
    "create_distribution_table(calc_response.records, groupby='weighted_deciles',\n",
    "                          income_measure='expanded_income', result_type='weighted_sum')"
   ]
  },
  {
   "cell_type": "markdown",
   "metadata": {},
   "source": [
    "#### Differences Table\n",
    "\n",
    "The differences table displays the difference between your baseline and refoms. You can also group the results by decile or income bin."
   ]
  },
  {
   "cell_type": "code",
   "execution_count": null,
   "metadata": {
    "collapsed": true
   },
   "outputs": [],
   "source": [
    "create_difference_table(calc.records, calc_response.records, groupby='weighted_deciles',\n",
    "                        income_measure='expanded_income', tax_to_diff='combined')"
   ]
  },
  {
   "cell_type": "markdown",
   "metadata": {},
   "source": [
    "#### Plotting\n",
    "\n",
    "You can use built in methods to get MTR and ATR plots. Each one is returned as a simple Bokeh figure that you can then add to as desired"
   ]
  },
  {
   "cell_type": "code",
   "execution_count": null,
   "metadata": {
    "collapsed": true
   },
   "outputs": [],
   "source": [
    "from bokeh.io import show, output_notebook\n",
    "output_notebook()"
   ]
  },
  {
   "cell_type": "code",
   "execution_count": null,
   "metadata": {},
   "outputs": [],
   "source": [
    "mtr_plot_data = mtr_graph_data(calc, calc_response)"
   ]
  },
  {
   "cell_type": "code",
   "execution_count": null,
   "metadata": {},
   "outputs": [],
   "source": [
    "show(xtr_graph_plot(mtr_plot_data))"
   ]
  },
  {
   "cell_type": "code",
   "execution_count": null,
   "metadata": {},
   "outputs": [],
   "source": [
    "atr_plot_data = atr_graph_data(calc, calc_response)"
   ]
  },
  {
   "cell_type": "code",
   "execution_count": null,
   "metadata": {},
   "outputs": [],
   "source": [
    "show(xtr_graph_plot(atr_plot_data))"
   ]
  },
  {
   "cell_type": "markdown",
   "metadata": {},
   "source": [
    "#### Multiyear diagnostic tables\n",
    "\n",
    "You can also produce diagnostic tables up to 2026"
   ]
  },
  {
   "cell_type": "code",
   "execution_count": null,
   "metadata": {},
   "outputs": [],
   "source": [
    "multiyear_diagnostic_table(calc, num_years=9)"
   ]
  },
  {
   "cell_type": "code",
   "execution_count": null,
   "metadata": {},
   "outputs": [],
   "source": [
    "multiyear_diagnostic_table(calc_response, num_years=9)"
   ]
  },
  {
   "cell_type": "markdown",
   "metadata": {},
   "source": [
    "#### Reporting your changes\n",
    "\n",
    "To display what reforms you included in a way that is easy for humans to read, you can use the `reform_documentation` method. It will print out all of the policy parameters you've specified with a short description and their default and current values\n",
    "\n",
    "\n",
    "_Note: this feature is not yet available in the taxcalc package. You must use the source code to access it. It will be available in the next taxcalc release._"
   ]
  },
  {
   "cell_type": "code",
   "execution_count": null,
   "metadata": {
    "collapsed": true
   },
   "outputs": [],
   "source": [
    "print(calc_response.reform_documentation(reforms))"
   ]
  },
  {
   "cell_type": "markdown",
   "metadata": {},
   "source": [
    "One thing I didn't cover is how to extract the marginal tax rates. All you need to do is call the `Calculator.mtr()` method. It will return MTR for individual income tax, payroll tax, and individaul income tax + payroll tax"
   ]
  },
  {
   "cell_type": "code",
   "execution_count": null,
   "metadata": {
    "collapsed": true
   },
   "outputs": [],
   "source": [
    "mtr_payroll, mtr_income, mtr_combined = calc.mtr()"
   ]
  },
  {
   "cell_type": "code",
   "execution_count": null,
   "metadata": {
    "collapsed": true
   },
   "outputs": [],
   "source": [
    "mtr_payroll"
   ]
  },
  {
   "cell_type": "code",
   "execution_count": null,
   "metadata": {
    "collapsed": true
   },
   "outputs": [],
   "source": [
    "mtr_income"
   ]
  },
  {
   "cell_type": "code",
   "execution_count": null,
   "metadata": {
    "collapsed": true
   },
   "outputs": [],
   "source": [
    "mtr_combined"
   ]
  },
  {
   "cell_type": "code",
   "execution_count": null,
   "metadata": {
    "collapsed": true
   },
   "outputs": [],
   "source": []
  }
 ],
 "metadata": {
  "kernelspec": {
   "display_name": "Python 2",
   "language": "python",
   "name": "python2"
  },
  "language_info": {
   "codemirror_mode": {
    "name": "ipython",
    "version": 2
   },
   "file_extension": ".py",
   "mimetype": "text/x-python",
   "name": "python",
   "nbconvert_exporter": "python",
   "pygments_lexer": "ipython2",
   "version": "2.7.14"
  }
 },
 "nbformat": 4,
 "nbformat_minor": 2
}
