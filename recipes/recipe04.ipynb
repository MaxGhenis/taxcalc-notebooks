{
 "cells": [
  {
   "cell_type": "markdown",
   "metadata": {},
   "source": [
    "# Recipe 4: Estimating Differential Reform Response\n",
    "\n",
    "\n",
    "Source: https://pslmodels.github.io/Tax-Calculator/recipe04_py.html"
   ]
  },
  {
   "cell_type": "code",
   "execution_count": 1,
   "metadata": {},
   "outputs": [],
   "source": [
    "from taxcalc import *\n",
    "import behresp"
   ]
  },
  {
   "cell_type": "code",
   "execution_count": 2,
   "metadata": {},
   "outputs": [],
   "source": [
    "# use publicly-available CPS input file\n",
    "recs = Records.cps_constructor()\n",
    "\n",
    "# specify Calculator object for static analysis of current-law policy\n",
    "pol = Policy()\n",
    "calc1 = Calculator(policy=pol, records=recs)\n",
    "\n",
    "cyr = 2020\n",
    "\n",
    "# calculate current-law tax liabilities for cyr\n",
    "calc1.advance_to_year(cyr)\n",
    "calc1.calc_all()"
   ]
  },
  {
   "cell_type": "code",
   "execution_count": 3,
   "metadata": {},
   "outputs": [],
   "source": [
    "# calculate marginal tax rate wrt cash charitable giving\n",
    "(_, _, mtr1) = calc1.mtr('e19800', calc_all_already_called=True,\n",
    "                         wrt_full_compensation=False)\n",
    "\n",
    "# specify Calculator object for static analysis of reform policy\n",
    "pol.implement_reform(Policy.read_json_reform('reformB.json'))\n",
    "calc2 = Calculator(policy=pol, records=recs)\n",
    "\n",
    "# calculate reform tax liabilities for cyr\n",
    "calc2.advance_to_year(cyr)\n",
    "calc2.calc_all()\n",
    "\n",
    "# calculate marginal tax rate wrt cash charitable giving\n",
    "(_, _, mtr2) = calc2.mtr('e19800', calc_all_already_called=True,\n",
    "                         wrt_full_compensation=False)"
   ]
  },
  {
   "cell_type": "code",
   "execution_count": 4,
   "metadata": {},
   "outputs": [
    {
     "name": "stdout",
     "output_type": "stream",
     "text": [
      "\n",
      "Response in Charitable Giving by Earnings Group\n",
      "Earnings Group    \t Num(#M)\tResp($B)\t Resp(%)\n",
      "[-9e+99, 50000)   \t 109.371\t   0.704\t    0.56\n",
      "[50000, 9e+99)    \t  58.142\t   3.606\t    2.12\n",
      "ALL               \t 167.512\t   4.310\t    1.46\n"
     ]
    }
   ],
   "source": [
    "# extract variables needed for quantity_response function\n",
    "# (note the aftertax price is 1+mtr because mtr wrt charity is non-positive)\n",
    "vdf = calc1.dataframe(['s006', 'e19800', 'e00200'])\n",
    "vdf['price1'] = 1.0 + mtr1\n",
    "vdf['price2'] = 1.0 + mtr2\n",
    "vdf['atinc1'] = calc1.array('aftertax_income')\n",
    "vdf['atinc2'] = calc2.array('aftertax_income')\n",
    "\n",
    "# group filing units into earnings groups with different response elasticities\n",
    "# (note earnings groups are just an example based on no empirical results)\n",
    "earnings_bins = [-9e99, 50e3, 9e99]  # two groups: below and above $50,000\n",
    "vdf = add_income_table_row_variable(vdf, 'e00200', earnings_bins)\n",
    "gbydf = vdf.groupby('table_row', as_index=False)\n",
    "\n",
    "# compute percentage response in charitable giving\n",
    "# (note elasticity values are just an example based on no empirical results)\n",
    "price_elasticity = [-0.1, -0.4]\n",
    "income_elasticity = [0.1, 0.1]\n",
    "print('\\nResponse in Charitable Giving by Earnings Group')\n",
    "results = '{:18s}\\t{:8.3f}\\t{:8.3f}\\t{:8.2f}'\n",
    "colhead = '{:18s}\\t{:>8s}\\t{:>8s}\\t{:>8s}'\n",
    "print(colhead.format('Earnings Group', 'Num(#M)', 'Resp($B)', 'Resp(%)'))\n",
    "tot_funits = 0.\n",
    "tot_response = 0.\n",
    "tot_baseline = 0.\n",
    "idx = 0\n",
    "for grp_interval, grp in gbydf:\n",
    "    funits = grp['s006'].sum() * 1e-6\n",
    "    tot_funits += funits\n",
    "    response = behresp.quantity_response(grp['e19800'],\n",
    "                                         price_elasticity[idx],\n",
    "                                         grp['price1'],\n",
    "                                         grp['price2'],\n",
    "                                         income_elasticity[idx],\n",
    "                                         grp['atinc1'],\n",
    "                                         grp['atinc2'])\n",
    "    grp_response = (response * grp['s006']).sum() * 1e-9\n",
    "    tot_response += grp_response\n",
    "    grp_baseline = (grp['e19800'] * grp['s006']).sum() * 1e-9\n",
    "    tot_baseline += grp_baseline\n",
    "    pct_response = 100. * grp_response / grp_baseline\n",
    "    glabel = '[{:.8g}, {:.8g})'.format(grp_interval.left, grp_interval.right)\n",
    "    print(results.format(glabel, funits, grp_response, pct_response))\n",
    "    idx += 1\n",
    "pct_response = 100. * tot_response / tot_baseline\n",
    "print(results.format('ALL', tot_funits, tot_response, pct_response))"
   ]
  }
 ],
 "metadata": {
  "kernelspec": {
   "display_name": "Python 3",
   "language": "python",
   "name": "python3"
  },
  "language_info": {
   "codemirror_mode": {
    "name": "ipython",
    "version": 3
   },
   "file_extension": ".py",
   "mimetype": "text/x-python",
   "name": "python",
   "nbconvert_exporter": "python",
   "pygments_lexer": "ipython3",
   "version": "3.7.4"
  },
  "toc": {
   "base_numbering": 1,
   "nav_menu": {},
   "number_sections": true,
   "sideBar": true,
   "skip_h1_title": false,
   "title_cell": "Table of Contents",
   "title_sidebar": "Contents",
   "toc_cell": false,
   "toc_position": {},
   "toc_section_display": true,
   "toc_window_display": false
  }
 },
 "nbformat": 4,
 "nbformat_minor": 2
}
