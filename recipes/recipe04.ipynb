{
 "cells": [
  {
   "cell_type": "markdown",
   "metadata": {},
   "source": [
    "# Recipe 4: Estimating Differential Reform Response\n",
    "\n",
    "\n",
    "Source: https://pslmodels.github.io/Tax-Calculator/recipe04_py.html"
   ]
  },
  {
   "cell_type": "code",
   "execution_count": 1,
   "metadata": {},
   "outputs": [],
   "source": [
    "from taxcalc import *\n",
    "import pandas as pd\n",
    "import behresp"
   ]
  },
  {
   "cell_type": "code",
   "execution_count": 2,
   "metadata": {},
   "outputs": [],
   "source": [
    "# use publicly-available CPS input file\n",
    "recs = Records.cps_constructor()\n",
    "\n",
    "# specify Calculator object for static analysis of current-law policy\n",
    "pol = Policy()\n",
    "calc1 = Calculator(policy=pol, records=recs)\n",
    "\n",
    "cyr = 2020\n",
    "\n",
    "# calculate current-law tax liabilities for cyr\n",
    "calc1.advance_to_year(cyr)\n",
    "calc1.calc_all()"
   ]
  },
  {
   "cell_type": "code",
   "execution_count": 3,
   "metadata": {},
   "outputs": [],
   "source": [
    "# calculate marginal tax rate wrt cash charitable giving\n",
    "(_, _, mtr1) = calc1.mtr('e19800', calc_all_already_called=True,\n",
    "                         wrt_full_compensation=False)\n",
    "\n",
    "# specify Calculator object for static analysis of reform policy\n",
    "pol.implement_reform(Policy.read_json_reform('reformB.json'))\n",
    "calc2 = Calculator(policy=pol, records=recs)\n",
    "\n",
    "# calculate reform tax liabilities for cyr\n",
    "calc2.advance_to_year(cyr)\n",
    "calc2.calc_all()\n",
    "\n",
    "# calculate marginal tax rate wrt cash charitable giving\n",
    "(_, _, mtr2) = calc2.mtr('e19800', calc_all_already_called=True,\n",
    "                         wrt_full_compensation=False)"
   ]
  },
  {
   "cell_type": "code",
   "execution_count": 4,
   "metadata": {},
   "outputs": [],
   "source": [
    "# extract variables needed for quantity_response function\n",
    "# (note the aftertax price is 1+mtr because mtr wrt charity is non-positive)\n",
    "vdf = calc1.dataframe(['s006', 'e19800', 'e00200'])\n",
    "vdf['price1'] = 1.0 + mtr1\n",
    "vdf['price2'] = 1.0 + mtr2\n",
    "vdf['atinc1'] = calc1.array('aftertax_income')\n",
    "vdf['atinc2'] = calc2.array('aftertax_income')"
   ]
  },
  {
   "cell_type": "code",
   "execution_count": 5,
   "metadata": {},
   "outputs": [],
   "source": [
    "# group filing units into earnings groups with different response elasticities\n",
    "# (note earnings groups are just an example based on no empirical results)\n",
    "EARNINGS_BINS = [-9e99, 50e3, 9e99]  # two groups: below and above $50,000\n",
    "vdf['table_row'] = pd.cut(vdf.e00200, EARNINGS_BINS, right=False).astype(str)"
   ]
  },
  {
   "cell_type": "code",
   "execution_count": 6,
   "metadata": {},
   "outputs": [],
   "source": [
    "vdf['price_elasticity'] = np.where(vdf.e00200 < EARNINGS_BINS[1],\n",
    "                                   -0.1, -0.4)\n",
    "vdf['income_elasticity'] = 0.1"
   ]
  },
  {
   "cell_type": "code",
   "execution_count": 7,
   "metadata": {},
   "outputs": [],
   "source": [
    "# Calculate response based on features of each filing unit.\n",
    "vdf['response'] = behresp.quantity_response(vdf.e19800,\n",
    "                                            vdf.price_elasticity,\n",
    "                                            vdf.price1,\n",
    "                                            vdf.price2,\n",
    "                                            vdf.income_elasticity,\n",
    "                                            vdf.atinc1,\n",
    "                                            vdf.atinc2)"
   ]
  },
  {
   "cell_type": "code",
   "execution_count": 8,
   "metadata": {},
   "outputs": [],
   "source": [
    "# Add weighted totals.\n",
    "# Can also use microdf as mdf.add_weighted_totals(vdf, ['response', 'e19800'])\n",
    "vdf['e19800_b'] = vdf.s006 * vdf.e19800 / 1e9\n",
    "vdf['response_b'] = vdf.s006 * vdf.response / 1e9\n",
    "vdf['funits_m'] = vdf.s006 / 1e6"
   ]
  },
  {
   "cell_type": "code",
   "execution_count": 9,
   "metadata": {},
   "outputs": [],
   "source": [
    "SUM_VARS = ['funits_m', 'e19800_b', 'response_b']\n",
    "# Sum weighted total columns for each income group.\n",
    "grouped = vdf.groupby('table_row')[SUM_VARS].sum()\n",
    "# Add a total row\n",
    "grouped.loc['TOTAL'] = grouped.sum()\n",
    "grouped.reset_index(inplace=True)"
   ]
  },
  {
   "cell_type": "code",
   "execution_count": 10,
   "metadata": {},
   "outputs": [],
   "source": [
    "# Calculate percent response and drop unnecessary total.\n",
    "grouped['pct_response'] = 100 * grouped.response_b / grouped.e19800_b\n",
    "grouped.drop('e19800_b', axis=1, inplace=True)"
   ]
  },
  {
   "cell_type": "code",
   "execution_count": 11,
   "metadata": {},
   "outputs": [],
   "source": [
    "# Rename columns for printing.\n",
    "grouped.columns = ['Earnings Group', 'Num(#M)', 'Resp($B)', 'Resp(%)']"
   ]
  },
  {
   "cell_type": "code",
   "execution_count": 12,
   "metadata": {},
   "outputs": [
    {
     "name": "stdout",
     "output_type": "stream",
     "text": [
      "Response in Charitable Giving by Earnings Group\n",
      "    Earnings Group  Num(#M)  Resp($B)  Resp(%)\n",
      " [-9e+99, 50000.0)  109.371     0.704    0.560\n",
      "  [50000.0, 9e+99)   58.142     3.606    2.123\n",
      "             TOTAL  167.512     4.310    1.458\n"
     ]
    }
   ],
   "source": [
    "print('Response in Charitable Giving by Earnings Group')\n",
    "print(grouped.round(3).to_string(index=False))"
   ]
  }
 ],
 "metadata": {
  "kernelspec": {
   "display_name": "Python 3",
   "language": "python",
   "name": "python3"
  },
  "language_info": {
   "codemirror_mode": {
    "name": "ipython",
    "version": 3
   },
   "file_extension": ".py",
   "mimetype": "text/x-python",
   "name": "python",
   "nbconvert_exporter": "python",
   "pygments_lexer": "ipython3",
   "version": "3.7.4"
  },
  "toc": {
   "base_numbering": 1,
   "nav_menu": {},
   "number_sections": true,
   "sideBar": true,
   "skip_h1_title": false,
   "title_cell": "Table of Contents",
   "title_sidebar": "Contents",
   "toc_cell": false,
   "toc_position": {},
   "toc_section_display": true,
   "toc_window_display": false
  }
 },
 "nbformat": 4,
 "nbformat_minor": 2
}
