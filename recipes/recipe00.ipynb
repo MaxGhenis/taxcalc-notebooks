{
 "cells": [
  {
   "cell_type": "markdown",
   "metadata": {},
   "source": [
    "# Basic Recipe: Static Analysis of a Simple Reform\n",
    "\n",
    "This is the recipe you should follow first.  Mastering this recipe is a prerequisite for all the other recipes in this cookbook.\n",
    "\n",
    "When following the recipe as shown below, you will get several instances \n",
    "of the same **ignored** error message from deep inside the Pandas\n",
    "library that is being used by Tax-Calculator.  After conferring with\n",
    "the Pandas developers, our expectation is these error messages will go\n",
    "away when we upgrade to Pandas version 0.22.0, which is scheduled to\n",
    "be released in January 2018, and which fixes a bug in the Pandas\n",
    "library.  Meanwhile, the error messages are annoying but harmless."
   ]
  },
  {
   "cell_type": "markdown",
   "metadata": {},
   "source": [
    "## Imports"
   ]
  },
  {
   "cell_type": "code",
   "execution_count": 28,
   "metadata": {},
   "outputs": [],
   "source": [
    "from __future__ import print_function  # Necessary only if using Python 2.7.\n",
    "from taxcalc import *"
   ]
  },
  {
   "cell_type": "markdown",
   "metadata": {},
   "source": [
    "## Setup\n",
    "\n",
    "Use publicly-available CPS input file.\n",
    "\n",
    "NOTE: if you have access to the restricted-use IRS-SOI PUF-based input file\n",
    "and you have that file (named 'puf.csv') located in the directory\n",
    "where this script is located, then you can substitute the following\n",
    "statement for the prior statement:\n",
    "\n",
    "`recs = Records()`"
   ]
  },
  {
   "cell_type": "code",
   "execution_count": 29,
   "metadata": {
    "collapsed": true
   },
   "outputs": [],
   "source": [
    "recs = Records.cps_constructor()"
   ]
  },
  {
   "cell_type": "markdown",
   "metadata": {},
   "source": [
    "Specify `Calculator` object for static analysis of current-law policy."
   ]
  },
  {
   "cell_type": "code",
   "execution_count": 30,
   "metadata": {},
   "outputs": [
    {
     "name": "stdout",
     "output_type": "stream",
     "text": [
      "You loaded data for 2014.\n",
      "Tax-Calculator startup automatically extrapolated your data to 2014.\n"
     ]
    }
   ],
   "source": [
    "pol = Policy()\n",
    "calc1 = Calculator(policy=pol, records=recs)"
   ]
  },
  {
   "cell_type": "markdown",
   "metadata": {},
   "source": [
    "NOTE: `calc1` now contains a PRIVATE COPY of `pol` and a PRIVATE COPY of `recs`,\n",
    "so we can continue to use `pol` and `recs` in this script without any\n",
    "concern about side effects from `Calculator` method calls on `calc1`.\n",
    "\n",
    "Calculate aggregate current-law income tax liabilities for 2018."
   ]
  },
  {
   "cell_type": "code",
   "execution_count": 31,
   "metadata": {
    "collapsed": true
   },
   "outputs": [],
   "source": [
    "calc1.advance_to_year(2018)\n",
    "calc1.calc_all()\n",
    "itax_rev1 = calc1.weighted_total('iitax')"
   ]
  },
  {
   "cell_type": "markdown",
   "metadata": {},
   "source": [
    "Read JSON reform file and use (the default) static analysis assumptions.\n",
    "\n",
    "*Requires `reformA.json` to have been downloaded and put in `ingredients` folder.*"
   ]
  },
  {
   "cell_type": "code",
   "execution_count": 32,
   "metadata": {
    "collapsed": true
   },
   "outputs": [],
   "source": [
    "reform_filename = './ingredients/reformA.json'\n",
    "params = Calculator.read_json_param_objects(reform=reform_filename,\n",
    "                                            assump=None)"
   ]
  },
  {
   "cell_type": "markdown",
   "metadata": {},
   "source": [
    "Print reform documentation."
   ]
  },
  {
   "cell_type": "code",
   "execution_count": 33,
   "metadata": {},
   "outputs": [
    {
     "name": "stdout",
     "output_type": "stream",
     "text": [
      "REFORM DOCUMENTATION\n",
      "Baseline Growth-Difference Assumption Values by Year:\n",
      "none: using default baseline growth assumptions\n",
      "Policy Reform Parameter Values by Year:\n",
      "2018:\n",
      " _II_rt5 : 0.35\n",
      "  name: Personal income (regular/non-AMT/non-pass-through) tax rate 5\n",
      "  desc: The third highest tax rate, applied to the portion of taxable income\n",
      "        below tax bracket 5 and above tax bracket 4.\n",
      "  baseline_value: 0.33\n",
      " _II_rt6 : 0.37\n",
      "  name: Personal income (regular/non-AMT/non-pass-through) tax rate 6\n",
      "  desc: The second higher tax rate, applied to the portion of taxable income\n",
      "        below tax bracket 6 and above tax bracket 5.\n",
      "  baseline_value: 0.35\n",
      " _II_rt7 : 0.42\n",
      "  name: Personal income (regular/non-AMT/non-pass-through) tax rate 7\n",
      "  desc: The tax rate applied to the portion of taxable income below tax\n",
      "        bracket 7 and above tax bracket 6.\n",
      "  baseline_value: 0.396\n",
      " _PT_rt5 : 0.35\n",
      "  name: Pass-through income tax rate 5\n",
      "  desc: The third highest tax rate, applied to the portion of income from sole\n",
      "        proprietorships, partnerships and S corporations below tax bracket 5\n",
      "        and above tax bracket 4.\n",
      "  baseline_value: 0.33\n",
      " _PT_rt6 : 0.37\n",
      "  name: Pass-through income tax rate 6\n",
      "  desc: The second higher tax rate, applied to the portion of income from sole\n",
      "        proprietorships, partnerships and S corporations below tax bracket 6\n",
      "        and above tax bracket 5.\n",
      "  baseline_value: 0.35\n",
      " _PT_rt7 : 0.42\n",
      "  name: Pass-through income tax rate 7\n",
      "  desc: The highest tax rate, applied to the portion of income from sole\n",
      "        proprietorships, partnerships and S corporations below tax bracket 7\n",
      "        and above tax bracket 6.\n",
      "  baseline_value: 0.396\n",
      " _STD : [12000, 24000, 12000, 18000, 24000]\n",
      "        ['single', 'joint', 'separate', 'headhousehold', 'widow']\n",
      "  name: Standard deduction amount\n",
      "  desc: Amount filing unit can use as a standard deduction.\n",
      "  baseline_value: [6492.88, 12985.75, 6492.88, 9560.38, 12985.75]\n",
      " _STD_Aged : [0, 0, 0, 0, 0]\n",
      "             ['single', 'joint', 'separate', 'headhousehold', 'widow']\n",
      "  name: Additional standard deduction for blind and aged\n",
      "  desc: To get the standard deduction for aged or blind individuals, taxpayers\n",
      "        need to add this value to regular standard deduction.\n",
      "  baseline_value: [1584.88, 1278.13, 1278.13, 1584.88, 1584.88]\n",
      " _STD_Dep : 0\n",
      "  name: Standard deduction for dependents\n",
      "  desc: This is the maximum standard deduction for dependents.\n",
      "  baseline_value: 1073.63\n",
      "\n"
     ]
    }
   ],
   "source": [
    "print(Calculator.reform_documentation(params))"
   ]
  },
  {
   "cell_type": "markdown",
   "metadata": {},
   "source": [
    "Implement reform and check for reform error messages."
   ]
  },
  {
   "cell_type": "code",
   "execution_count": 34,
   "metadata": {
    "collapsed": true
   },
   "outputs": [],
   "source": [
    "pol.implement_reform(params['policy'])\n",
    "if pol.reform_errors:\n",
    "    print(pol.reform_errors)\n",
    "    exit(1)"
   ]
  },
  {
   "cell_type": "markdown",
   "metadata": {},
   "source": [
    "## Calculate"
   ]
  },
  {
   "cell_type": "markdown",
   "metadata": {},
   "source": [
    "Specify Calculator object for static analysis of reform policy."
   ]
  },
  {
   "cell_type": "code",
   "execution_count": 35,
   "metadata": {},
   "outputs": [
    {
     "name": "stdout",
     "output_type": "stream",
     "text": [
      "You loaded data for 2014.\n",
      "Tax-Calculator startup automatically extrapolated your data to 2014.\n"
     ]
    }
   ],
   "source": [
    "calc2 = Calculator(policy=pol, records=recs)"
   ]
  },
  {
   "cell_type": "markdown",
   "metadata": {},
   "source": [
    "Calculate reform income tax liabilities for 2018."
   ]
  },
  {
   "cell_type": "code",
   "execution_count": 36,
   "metadata": {
    "collapsed": true
   },
   "outputs": [],
   "source": [
    "calc2.advance_to_year(2018)\n",
    "calc2.calc_all()\n",
    "itax_rev2 = calc2.weighted_total('iitax')"
   ]
  },
  {
   "cell_type": "markdown",
   "metadata": {},
   "source": [
    "## Results"
   ]
  },
  {
   "cell_type": "markdown",
   "metadata": {},
   "source": [
    "Print total revenue estimates for 2018.\n",
    "\n",
    "*Estimates in billons of dollars rounded to nearest hundredth of a billion.*"
   ]
  },
  {
   "cell_type": "code",
   "execution_count": 37,
   "metadata": {},
   "outputs": [
    {
     "name": "stdout",
     "output_type": "stream",
     "text": [
      "2018_CLP_itax_rev($B)= 1287.51\n",
      "2018_REF_itax_rev($B)= 1234.66\n"
     ]
    }
   ],
   "source": [
    "print('2018_CLP_itax_rev($B)= {:.2f}'.format(itax_rev1 * 1e-9))\n",
    "print('2018_REF_itax_rev($B)= {:.2f}'.format(itax_rev2 * 1e-9))"
   ]
  },
  {
   "cell_type": "markdown",
   "metadata": {},
   "source": [
    "Generate several other standard results tables."
   ]
  },
  {
   "cell_type": "code",
   "execution_count": 38,
   "metadata": {},
   "outputs": [
    {
     "ename": "ValueError",
     "evalue": "Buffer dtype mismatch, expected 'Python object' but got 'long'",
     "output_type": "error",
     "traceback": [
      "\u001b[0;31m---------------------------------------------------------------------\u001b[0m",
      "\u001b[0;31mValueError\u001b[0m                          Traceback (most recent call last)",
      "\u001b[0;31mValueError\u001b[0m: Buffer dtype mismatch, expected 'Python object' but got 'long'"
     ]
    },
    {
     "name": "stderr",
     "output_type": "stream",
     "text": [
      "Exception ValueError: \"Buffer dtype mismatch, expected 'Python object' but got 'long'\" in 'pandas._libs.lib.is_bool_array' ignored\n"
     ]
    },
    {
     "ename": "ValueError",
     "evalue": "Buffer dtype mismatch, expected 'Python object' but got 'long'",
     "output_type": "error",
     "traceback": [
      "\u001b[0;31m---------------------------------------------------------------------\u001b[0m",
      "\u001b[0;31mValueError\u001b[0m                          Traceback (most recent call last)",
      "\u001b[0;31mValueError\u001b[0m: Buffer dtype mismatch, expected 'Python object' but got 'long'"
     ]
    },
    {
     "name": "stderr",
     "output_type": "stream",
     "text": [
      "Exception ValueError: \"Buffer dtype mismatch, expected 'Python object' but got 'long'\" in 'pandas._libs.lib.is_bool_array' ignored\n"
     ]
    },
    {
     "ename": "ValueError",
     "evalue": "Buffer dtype mismatch, expected 'Python object' but got 'long'",
     "output_type": "error",
     "traceback": [
      "\u001b[0;31m---------------------------------------------------------------------\u001b[0m",
      "\u001b[0;31mValueError\u001b[0m                          Traceback (most recent call last)",
      "\u001b[0;31mValueError\u001b[0m: Buffer dtype mismatch, expected 'Python object' but got 'long'"
     ]
    },
    {
     "name": "stderr",
     "output_type": "stream",
     "text": [
      "Exception ValueError: \"Buffer dtype mismatch, expected 'Python object' but got 'long'\" in 'pandas._libs.lib.is_bool_array' ignored\n"
     ]
    }
   ],
   "source": [
    "# Aggregate diagnostic tables for 2018.\n",
    "clp_diagnostic_table = calc1.diagnostic_table(1)\n",
    "ref_diagnostic_table = calc2.diagnostic_table(1)\n",
    "\n",
    "# Income-tax distribution for 2018 with CLP and REF results side-by-side.\n",
    "dist_table1, dist_table2 = calc1.distribution_tables(calc2)\n",
    "assert isinstance(dist_table1, pd.DataFrame)\n",
    "assert isinstance(dist_table2, pd.DataFrame)\n",
    "dist_extract = pd.DataFrame()\n",
    "dist_extract['funits(#m)'] = dist_table1['s006'] * 1e-6\n",
    "dist_extract['itax1($b)'] = dist_table1['iitax'] * 1e-9\n",
    "dist_extract['itax2($b)'] = dist_table2['iitax'] * 1e-9\n",
    "dist_extract['aftertax_inc1($b)'] = dist_table1['aftertax_income'] * 1e-9\n",
    "dist_extract['aftertax_inc2($b)'] = dist_table2['aftertax_income'] * 1e-9\n",
    "\n",
    "# Income-tax difference table by expanded-income decile for 2018.\n",
    "diff_table = calc1.difference_table(calc2, tax_to_diff='iitax')\n",
    "assert isinstance(diff_table, pd.DataFrame)\n",
    "diff_extract = pd.DataFrame()\n",
    "dif_colnames = ['count', 'tot_change', 'mean',\n",
    "                'pc_aftertaxinc']\n",
    "ext_colnames = ['funits(#m)', 'agg_diff($b)', 'mean_diff($)',\n",
    "                'aftertaxinc_diff(%)']\n",
    "scaling_factors = [1e-6, 1e-9, 1e0, 1e0, 1e0]\n",
    "for dname, ename, sfactor in zip(dif_colnames, ext_colnames, scaling_factors):\n",
    "    diff_extract[ename] = diff_table[dname] * sfactor"
   ]
  },
  {
   "cell_type": "markdown",
   "metadata": {},
   "source": [
    "Generate a decile graph."
   ]
  },
  {
   "cell_type": "code",
   "execution_count": 39,
   "metadata": {},
   "outputs": [
    {
     "ename": "ValueError",
     "evalue": "Buffer dtype mismatch, expected 'Python object' but got 'long'",
     "output_type": "error",
     "traceback": [
      "\u001b[0;31m---------------------------------------------------------------------\u001b[0m",
      "\u001b[0;31mValueError\u001b[0m                          Traceback (most recent call last)",
      "\u001b[0;31mValueError\u001b[0m: Buffer dtype mismatch, expected 'Python object' but got 'long'"
     ]
    },
    {
     "name": "stderr",
     "output_type": "stream",
     "text": [
      "Exception ValueError: \"Buffer dtype mismatch, expected 'Python object' but got 'long'\" in 'pandas._libs.lib.is_bool_array' ignored\n"
     ]
    },
    {
     "data": {
      "text/html": [
       "<div style=\"display: table;\"><div style=\"display: table-row;\"><div style=\"display: table-cell;\"><b title=\"bokeh.plotting.figure.Figure\">Figure</b>(</div><div style=\"display: table-cell;\">id&nbsp;=&nbsp;'56a5f96b-2e85-4e4f-967b-296ccfbd41a6', <span id=\"621119fc-d8cd-4222-aa0b-3a3f116725dd\" style=\"cursor: pointer;\">&hellip;)</span></div></div><div class=\"28b752cd-0541-45bf-90f0-4e929fdac02c\" style=\"display: none;\"><div style=\"display: table-cell;\"></div><div style=\"display: table-cell;\">above&nbsp;=&nbsp;[],</div></div><div class=\"28b752cd-0541-45bf-90f0-4e929fdac02c\" style=\"display: none;\"><div style=\"display: table-cell;\"></div><div style=\"display: table-cell;\">aspect_scale&nbsp;=&nbsp;1,</div></div><div class=\"28b752cd-0541-45bf-90f0-4e929fdac02c\" style=\"display: none;\"><div style=\"display: table-cell;\"></div><div style=\"display: table-cell;\">background_fill_alpha&nbsp;=&nbsp;{'value': 1.0},</div></div><div class=\"28b752cd-0541-45bf-90f0-4e929fdac02c\" style=\"display: none;\"><div style=\"display: table-cell;\"></div><div style=\"display: table-cell;\">background_fill_color&nbsp;=&nbsp;{'value': '#ffffff'},</div></div><div class=\"28b752cd-0541-45bf-90f0-4e929fdac02c\" style=\"display: none;\"><div style=\"display: table-cell;\"></div><div style=\"display: table-cell;\">below&nbsp;=&nbsp;[LinearAxis(id='866ac7d3-e508-4da0-a415-d3524e9799ab', ...)],</div></div><div class=\"28b752cd-0541-45bf-90f0-4e929fdac02c\" style=\"display: none;\"><div style=\"display: table-cell;\"></div><div style=\"display: table-cell;\">border_fill_alpha&nbsp;=&nbsp;{'value': 1.0},</div></div><div class=\"28b752cd-0541-45bf-90f0-4e929fdac02c\" style=\"display: none;\"><div style=\"display: table-cell;\"></div><div style=\"display: table-cell;\">border_fill_color&nbsp;=&nbsp;{'value': '#ffffff'},</div></div><div class=\"28b752cd-0541-45bf-90f0-4e929fdac02c\" style=\"display: none;\"><div style=\"display: table-cell;\"></div><div style=\"display: table-cell;\">css_classes&nbsp;=&nbsp;None,</div></div><div class=\"28b752cd-0541-45bf-90f0-4e929fdac02c\" style=\"display: none;\"><div style=\"display: table-cell;\"></div><div style=\"display: table-cell;\">disabled&nbsp;=&nbsp;False,</div></div><div class=\"28b752cd-0541-45bf-90f0-4e929fdac02c\" style=\"display: none;\"><div style=\"display: table-cell;\"></div><div style=\"display: table-cell;\">extra_x_ranges&nbsp;=&nbsp;{},</div></div><div class=\"28b752cd-0541-45bf-90f0-4e929fdac02c\" style=\"display: none;\"><div style=\"display: table-cell;\"></div><div style=\"display: table-cell;\">extra_y_ranges&nbsp;=&nbsp;{},</div></div><div class=\"28b752cd-0541-45bf-90f0-4e929fdac02c\" style=\"display: none;\"><div style=\"display: table-cell;\"></div><div style=\"display: table-cell;\">h_symmetry&nbsp;=&nbsp;True,</div></div><div class=\"28b752cd-0541-45bf-90f0-4e929fdac02c\" style=\"display: none;\"><div style=\"display: table-cell;\"></div><div style=\"display: table-cell;\">height&nbsp;=&nbsp;None,</div></div><div class=\"28b752cd-0541-45bf-90f0-4e929fdac02c\" style=\"display: none;\"><div style=\"display: table-cell;\"></div><div style=\"display: table-cell;\">hidpi&nbsp;=&nbsp;True,</div></div><div class=\"28b752cd-0541-45bf-90f0-4e929fdac02c\" style=\"display: none;\"><div style=\"display: table-cell;\"></div><div style=\"display: table-cell;\">js_event_callbacks&nbsp;=&nbsp;{},</div></div><div class=\"28b752cd-0541-45bf-90f0-4e929fdac02c\" style=\"display: none;\"><div style=\"display: table-cell;\"></div><div style=\"display: table-cell;\">js_property_callbacks&nbsp;=&nbsp;{},</div></div><div class=\"28b752cd-0541-45bf-90f0-4e929fdac02c\" style=\"display: none;\"><div style=\"display: table-cell;\"></div><div style=\"display: table-cell;\">left&nbsp;=&nbsp;[CategoricalAxis(id='80ccfdfc-02b0-4487-99a0-f8b73d19228d', ...)],</div></div><div class=\"28b752cd-0541-45bf-90f0-4e929fdac02c\" style=\"display: none;\"><div style=\"display: table-cell;\"></div><div style=\"display: table-cell;\">lod_factor&nbsp;=&nbsp;10,</div></div><div class=\"28b752cd-0541-45bf-90f0-4e929fdac02c\" style=\"display: none;\"><div style=\"display: table-cell;\"></div><div style=\"display: table-cell;\">lod_interval&nbsp;=&nbsp;300,</div></div><div class=\"28b752cd-0541-45bf-90f0-4e929fdac02c\" style=\"display: none;\"><div style=\"display: table-cell;\"></div><div style=\"display: table-cell;\">lod_threshold&nbsp;=&nbsp;2000,</div></div><div class=\"28b752cd-0541-45bf-90f0-4e929fdac02c\" style=\"display: none;\"><div style=\"display: table-cell;\"></div><div style=\"display: table-cell;\">lod_timeout&nbsp;=&nbsp;500,</div></div><div class=\"28b752cd-0541-45bf-90f0-4e929fdac02c\" style=\"display: none;\"><div style=\"display: table-cell;\"></div><div style=\"display: table-cell;\">match_aspect&nbsp;=&nbsp;False,</div></div><div class=\"28b752cd-0541-45bf-90f0-4e929fdac02c\" style=\"display: none;\"><div style=\"display: table-cell;\"></div><div style=\"display: table-cell;\">min_border&nbsp;=&nbsp;5,</div></div><div class=\"28b752cd-0541-45bf-90f0-4e929fdac02c\" style=\"display: none;\"><div style=\"display: table-cell;\"></div><div style=\"display: table-cell;\">min_border_bottom&nbsp;=&nbsp;None,</div></div><div class=\"28b752cd-0541-45bf-90f0-4e929fdac02c\" style=\"display: none;\"><div style=\"display: table-cell;\"></div><div style=\"display: table-cell;\">min_border_left&nbsp;=&nbsp;None,</div></div><div class=\"28b752cd-0541-45bf-90f0-4e929fdac02c\" style=\"display: none;\"><div style=\"display: table-cell;\"></div><div style=\"display: table-cell;\">min_border_right&nbsp;=&nbsp;None,</div></div><div class=\"28b752cd-0541-45bf-90f0-4e929fdac02c\" style=\"display: none;\"><div style=\"display: table-cell;\"></div><div style=\"display: table-cell;\">min_border_top&nbsp;=&nbsp;None,</div></div><div class=\"28b752cd-0541-45bf-90f0-4e929fdac02c\" style=\"display: none;\"><div style=\"display: table-cell;\"></div><div style=\"display: table-cell;\">name&nbsp;=&nbsp;None,</div></div><div class=\"28b752cd-0541-45bf-90f0-4e929fdac02c\" style=\"display: none;\"><div style=\"display: table-cell;\"></div><div style=\"display: table-cell;\">outline_line_alpha&nbsp;=&nbsp;{'value': 1.0},</div></div><div class=\"28b752cd-0541-45bf-90f0-4e929fdac02c\" style=\"display: none;\"><div style=\"display: table-cell;\"></div><div style=\"display: table-cell;\">outline_line_cap&nbsp;=&nbsp;'butt',</div></div><div class=\"28b752cd-0541-45bf-90f0-4e929fdac02c\" style=\"display: none;\"><div style=\"display: table-cell;\"></div><div style=\"display: table-cell;\">outline_line_color&nbsp;=&nbsp;{'value': None},</div></div><div class=\"28b752cd-0541-45bf-90f0-4e929fdac02c\" style=\"display: none;\"><div style=\"display: table-cell;\"></div><div style=\"display: table-cell;\">outline_line_dash&nbsp;=&nbsp;[],</div></div><div class=\"28b752cd-0541-45bf-90f0-4e929fdac02c\" style=\"display: none;\"><div style=\"display: table-cell;\"></div><div style=\"display: table-cell;\">outline_line_dash_offset&nbsp;=&nbsp;0,</div></div><div class=\"28b752cd-0541-45bf-90f0-4e929fdac02c\" style=\"display: none;\"><div style=\"display: table-cell;\"></div><div style=\"display: table-cell;\">outline_line_join&nbsp;=&nbsp;'miter',</div></div><div class=\"28b752cd-0541-45bf-90f0-4e929fdac02c\" style=\"display: none;\"><div style=\"display: table-cell;\"></div><div style=\"display: table-cell;\">outline_line_width&nbsp;=&nbsp;{'value': 1},</div></div><div class=\"28b752cd-0541-45bf-90f0-4e929fdac02c\" style=\"display: none;\"><div style=\"display: table-cell;\"></div><div style=\"display: table-cell;\">output_backend&nbsp;=&nbsp;'canvas',</div></div><div class=\"28b752cd-0541-45bf-90f0-4e929fdac02c\" style=\"display: none;\"><div style=\"display: table-cell;\"></div><div style=\"display: table-cell;\">plot_height&nbsp;=&nbsp;500,</div></div><div class=\"28b752cd-0541-45bf-90f0-4e929fdac02c\" style=\"display: none;\"><div style=\"display: table-cell;\"></div><div style=\"display: table-cell;\">plot_width&nbsp;=&nbsp;850,</div></div><div class=\"28b752cd-0541-45bf-90f0-4e929fdac02c\" style=\"display: none;\"><div style=\"display: table-cell;\"></div><div style=\"display: table-cell;\">renderers&nbsp;=&nbsp;[LinearAxis(id='866ac7d3-e508-4da0-a415-d3524e9799ab', ...), Grid(id='15fccde7-cc95-439d-a182-487f49411eb3', ...), CategoricalAxis(id='80ccfdfc-02b0-4487-99a0-f8b73d19228d', ...), Grid(id='1ec67827-1992-4968-9053-182d1e9356b1', ...), BoxAnnotation(id='ee71357e-4081-466a-9b74-102253876871', ...), GlyphRenderer(id='7c591b22-4684-4844-aa5c-e0af3b45a25d', ...), GlyphRenderer(id='ab7b8d49-1f8f-41a5-8757-f45029841c03', ...), GlyphRenderer(id='19a3e553-0d55-4916-bfb0-7782ae97242c', ...), GlyphRenderer(id='92a82c60-f283-46a2-bddc-8b86319ec280', ...), GlyphRenderer(id='164f5dcd-9970-40c6-9488-72a6c053f522', ...), GlyphRenderer(id='50c5612e-093f-4a5a-b081-509cddd750e3', ...), GlyphRenderer(id='139ec681-dd54-4cc4-a7a8-3fb378b7917b', ...), GlyphRenderer(id='26d21b0d-3c60-43b9-a351-311e3c9e6d13', ...), GlyphRenderer(id='45661480-2566-49cc-bba3-3fd4034b0110', ...), GlyphRenderer(id='a84283ec-cea8-45aa-b9d4-cb38f47cf05f', ...), GlyphRenderer(id='1ba9fcef-3e0a-4897-bf8a-ec01676bcf99', ...), GlyphRenderer(id='d12a5fe0-6aaf-4da0-a09c-d3a50ab5af26', ...), GlyphRenderer(id='ae167d6d-d239-46c7-b3f2-0c41ff86a226', ...), GlyphRenderer(id='8cbaa643-68ca-4d0b-9b85-71b3b4b61224', ...), GlyphRenderer(id='3f8d4289-3b53-47bf-8b43-1c14ed9b0a48', ...)],</div></div><div class=\"28b752cd-0541-45bf-90f0-4e929fdac02c\" style=\"display: none;\"><div style=\"display: table-cell;\"></div><div style=\"display: table-cell;\">right&nbsp;=&nbsp;[],</div></div><div class=\"28b752cd-0541-45bf-90f0-4e929fdac02c\" style=\"display: none;\"><div style=\"display: table-cell;\"></div><div style=\"display: table-cell;\">sizing_mode&nbsp;=&nbsp;'fixed',</div></div><div class=\"28b752cd-0541-45bf-90f0-4e929fdac02c\" style=\"display: none;\"><div style=\"display: table-cell;\"></div><div style=\"display: table-cell;\">subscribed_events&nbsp;=&nbsp;[],</div></div><div class=\"28b752cd-0541-45bf-90f0-4e929fdac02c\" style=\"display: none;\"><div style=\"display: table-cell;\"></div><div style=\"display: table-cell;\">tags&nbsp;=&nbsp;[],</div></div><div class=\"28b752cd-0541-45bf-90f0-4e929fdac02c\" style=\"display: none;\"><div style=\"display: table-cell;\"></div><div style=\"display: table-cell;\">title&nbsp;=&nbsp;Title(id='9e3a153a-6cb9-4cfe-8fe5-ee1542a0d40b', ...),</div></div><div class=\"28b752cd-0541-45bf-90f0-4e929fdac02c\" style=\"display: none;\"><div style=\"display: table-cell;\"></div><div style=\"display: table-cell;\">title_location&nbsp;=&nbsp;'above',</div></div><div class=\"28b752cd-0541-45bf-90f0-4e929fdac02c\" style=\"display: none;\"><div style=\"display: table-cell;\"></div><div style=\"display: table-cell;\">toolbar&nbsp;=&nbsp;Toolbar(id='4abfad53-a927-47b3-9238-f34a2e5dd458', ...),</div></div><div class=\"28b752cd-0541-45bf-90f0-4e929fdac02c\" style=\"display: none;\"><div style=\"display: table-cell;\"></div><div style=\"display: table-cell;\">toolbar_location&nbsp;=&nbsp;'right',</div></div><div class=\"28b752cd-0541-45bf-90f0-4e929fdac02c\" style=\"display: none;\"><div style=\"display: table-cell;\"></div><div style=\"display: table-cell;\">toolbar_sticky&nbsp;=&nbsp;True,</div></div><div class=\"28b752cd-0541-45bf-90f0-4e929fdac02c\" style=\"display: none;\"><div style=\"display: table-cell;\"></div><div style=\"display: table-cell;\">v_symmetry&nbsp;=&nbsp;False,</div></div><div class=\"28b752cd-0541-45bf-90f0-4e929fdac02c\" style=\"display: none;\"><div style=\"display: table-cell;\"></div><div style=\"display: table-cell;\">width&nbsp;=&nbsp;None,</div></div><div class=\"28b752cd-0541-45bf-90f0-4e929fdac02c\" style=\"display: none;\"><div style=\"display: table-cell;\"></div><div style=\"display: table-cell;\">x_range&nbsp;=&nbsp;DataRange1d(id='5412ffa8-184d-4985-934e-eeaa24670f95', ...),</div></div><div class=\"28b752cd-0541-45bf-90f0-4e929fdac02c\" style=\"display: none;\"><div style=\"display: table-cell;\"></div><div style=\"display: table-cell;\">x_scale&nbsp;=&nbsp;LinearScale(id='55cc6751-58c8-45e2-98ad-524f92057428', ...),</div></div><div class=\"28b752cd-0541-45bf-90f0-4e929fdac02c\" style=\"display: none;\"><div style=\"display: table-cell;\"></div><div style=\"display: table-cell;\">y_range&nbsp;=&nbsp;FactorRange(id='86320e46-eee3-479c-b1c8-c61f61fcdd40', ...),</div></div><div class=\"28b752cd-0541-45bf-90f0-4e929fdac02c\" style=\"display: none;\"><div style=\"display: table-cell;\"></div><div style=\"display: table-cell;\">y_scale&nbsp;=&nbsp;CategoricalScale(id='ca77f059-246a-4e3a-a687-f138d4fbc2d0', ...))</div></div></div>\n",
       "<script>\n",
       "(function() {\n",
       "  var expanded = false;\n",
       "  var ellipsis = document.getElementById(\"621119fc-d8cd-4222-aa0b-3a3f116725dd\");\n",
       "  ellipsis.addEventListener(\"click\", function() {\n",
       "    var rows = document.getElementsByClassName(\"28b752cd-0541-45bf-90f0-4e929fdac02c\");\n",
       "    for (var i = 0; i < rows.length; i++) {\n",
       "      var el = rows[i];\n",
       "      el.style.display = expanded ? \"none\" : \"table-row\";\n",
       "    }\n",
       "    ellipsis.innerHTML = expanded ? \"&hellip;)\" : \"&lsaquo;&lsaquo;&lsaquo;\";\n",
       "    expanded = !expanded;\n",
       "  });\n",
       "})();\n",
       "</script>\n"
      ],
      "text/plain": [
       "Figure(id='56a5f96b-2e85-4e4f-967b-296ccfbd41a6', ...)"
      ]
     },
     "execution_count": 39,
     "metadata": {},
     "output_type": "execute_result"
    }
   ],
   "source": [
    "calc1.decile_graph(calc2)"
   ]
  },
  {
   "cell_type": "markdown",
   "metadata": {},
   "source": [
    "## Print tables"
   ]
  },
  {
   "cell_type": "markdown",
   "metadata": {},
   "source": [
    "CLP diagnostic table for 2018."
   ]
  },
  {
   "cell_type": "code",
   "execution_count": 40,
   "metadata": {},
   "outputs": [
    {
     "name": "stdout",
     "output_type": "stream",
     "text": [
      "                                     2018\n",
      "Returns (#m)                       169.89\n",
      "AGI ($b)                        10,503.83\n",
      "Itemizers (#m)                      67.99\n",
      "Itemized Deduction ($b)          1,500.94\n",
      "Standard Deduction Filers (#m)      83.86\n",
      "Standard Deduction ($b)            771.37\n",
      "Personal Exemption ($b)          1,222.60\n",
      "Taxable Income ($b)              7,421.92\n",
      "Regular Tax ($b)                 1,369.71\n",
      "AMT Income ($b)                  9,664.54\n",
      "AMT Liability ($b)                  18.02\n",
      "AMT Filers (#m)                      4.22\n",
      "Tax before Credits ($b)          1,387.73\n",
      "Refundable Credits ($b)             76.61\n",
      "Nonrefundable Credits ($b)          32.93\n",
      "Reform Surtaxes ($b)                 0.00\n",
      "Other Taxes ($b)                     9.32\n",
      "Ind Income Tax ($b)              1,287.51\n",
      "Payroll Taxes ($b)               1,233.56\n",
      "Combined Liability ($b)          2,521.07\n",
      "With Income Tax <= 0 (#m)           72.00\n",
      "With Combined Tax <= 0 (#m)         48.60\n"
     ]
    }
   ],
   "source": [
    "print(clp_diagnostic_table)"
   ]
  },
  {
   "cell_type": "markdown",
   "metadata": {},
   "source": [
    "REF diagnostic table for 2018."
   ]
  },
  {
   "cell_type": "code",
   "execution_count": 41,
   "metadata": {},
   "outputs": [
    {
     "name": "stdout",
     "output_type": "stream",
     "text": [
      "                                     2018\n",
      "Returns (#m)                       169.89\n",
      "AGI ($b)                        10,503.83\n",
      "Itemizers (#m)                      34.58\n",
      "Itemized Deduction ($b)          1,010.91\n",
      "Standard Deduction Filers (#m)     117.28\n",
      "Standard Deduction ($b)          1,958.91\n",
      "Personal Exemption ($b)          1,222.60\n",
      "Taxable Income ($b)              6,993.08\n",
      "Regular Tax ($b)                 1,317.86\n",
      "AMT Income ($b)                  9,945.40\n",
      "AMT Liability ($b)                  16.87\n",
      "AMT Filers (#m)                      4.40\n",
      "Tax before Credits ($b)          1,334.73\n",
      "Refundable Credits ($b)             81.41\n",
      "Nonrefundable Credits ($b)          27.99\n",
      "Reform Surtaxes ($b)                 0.00\n",
      "Other Taxes ($b)                     9.32\n",
      "Ind Income Tax ($b)              1,234.66\n",
      "Payroll Taxes ($b)               1,233.56\n",
      "Combined Liability ($b)          2,468.22\n",
      "With Income Tax <= 0 (#m)           79.01\n",
      "With Combined Tax <= 0 (#m)         49.54\n"
     ]
    }
   ],
   "source": [
    "print(ref_diagnostic_table)"
   ]
  },
  {
   "cell_type": "markdown",
   "metadata": {},
   "source": [
    "Extract of 2018 distribution tables by baseline expanded-income decile.\n",
    "\n",
    "*Note: deciles are numbered 0-9 with top decile divided into bottom 5%, \n",
    "next 4%, and top 1%, in the lines numbered 11-13, respectively.*"
   ]
  },
  {
   "cell_type": "code",
   "execution_count": 42,
   "metadata": {},
   "outputs": [
    {
     "name": "stdout",
     "output_type": "stream",
     "text": [
      "    funits(#m)  itax1($b)  itax2($b)  aftertax_inc1($b)  aftertax_inc2($b)\n",
      "0        16.99      -1.65      -1.65              -5.30              -5.31\n",
      "1        16.99     -12.65     -12.82             168.67             168.85\n",
      "2        16.99     -15.20     -17.23             287.66             289.69\n",
      "3        16.99     -12.74     -17.18             402.40             406.84\n",
      "4        16.99       2.69      -4.50             520.45             527.65\n",
      "5        16.99      27.14      17.77             665.73             675.10\n",
      "6        16.99      63.42      50.65             861.52             874.29\n",
      "7        16.99     119.61     107.46           1,153.42           1,165.57\n",
      "8        16.99     212.26     201.22           1,629.28           1,640.32\n",
      "9        16.99     904.62     910.94           3,599.33           3,593.01\n",
      "10      169.89   1,287.51   1,234.66           9,283.16           9,336.02\n",
      "11        8.49     200.80     197.05           1,150.22           1,153.97\n",
      "12        6.79     318.15     317.48           1,386.68           1,387.35\n",
      "13        1.70     385.67     396.41           1,062.43           1,051.69\n"
     ]
    }
   ],
   "source": [
    "print(dist_extract)"
   ]
  },
  {
   "cell_type": "markdown",
   "metadata": {},
   "source": [
    "Extract of 2018 income-tax difference table by expanded-income decile."
   ]
  },
  {
   "cell_type": "code",
   "execution_count": 43,
   "metadata": {},
   "outputs": [
    {
     "name": "stdout",
     "output_type": "stream",
     "text": [
      "    funits(#m)  agg_diff($b)  mean_diff($)  aftertaxinc_diff(%)\n",
      "0        16.99          0.00          0.27                 0.09\n",
      "1        16.99         -0.17        -10.24                 0.10\n",
      "2        16.99         -2.03       -119.71                 0.71\n",
      "3        16.99         -4.43       -260.96                 1.10\n",
      "4        16.99         -7.19       -423.46                 1.38\n",
      "5        16.99         -9.37       -551.70                 1.41\n",
      "6        16.99        -12.77       -751.77                 1.48\n",
      "7        16.99        -12.15       -715.03                 1.05\n",
      "8        16.99        -11.05       -650.18                 0.68\n",
      "9        16.99          6.32        371.95                -0.18\n",
      "10      169.89        -52.85       -311.09                 0.57\n",
      "11        8.49         -3.75       -441.16                 0.33\n",
      "12        6.79         -0.67        -98.94                 0.05\n",
      "13        1.70         10.74      6,315.38                -1.01\n"
     ]
    }
   ],
   "source": [
    "print(diff_extract)"
   ]
  }
 ],
 "metadata": {
  "kernelspec": {
   "display_name": "Python 2",
   "language": "python",
   "name": "python2"
  },
  "language_info": {
   "codemirror_mode": {
    "name": "ipython",
    "version": 2
   },
   "file_extension": ".py",
   "mimetype": "text/x-python",
   "name": "python",
   "nbconvert_exporter": "python",
   "pygments_lexer": "ipython2",
   "version": "2.7.14"
  }
 },
 "nbformat": 4,
 "nbformat_minor": 2
}
