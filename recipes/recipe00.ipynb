{
 "cells": [
  {
   "cell_type": "markdown",
   "metadata": {},
   "source": [
    "# Basic Recipe: Static Analysis of a Simple Reform\n",
    "\n",
    "This is the recipe you should follow first.  Mastering this recipe is a prerequisite for all the other recipes in this cookbook.\n",
    "\n",
    "**Ingredients**\n",
    "\n",
    "[Policy reform](http://open-source-economics.github.io/Tax-Calculator/reformA.json) in the `ingredients/reformA.json` file.\n",
    "\n",
    "*When following the recipe as shown below, you will get several instances \n",
    "of the same **ignored** error message from deep inside the Pandas\n",
    "library that is being used by Tax-Calculator.  After conferring with\n",
    "the Pandas developers, our expectation is these error messages will go\n",
    "away when we upgrade to Pandas version 0.22.0, which is scheduled to\n",
    "be released in January 2018, and which fixes a bug in the Pandas\n",
    "library.  Meanwhile, the error messages are annoying but harmless.*"
   ]
  },
  {
   "cell_type": "markdown",
   "metadata": {},
   "source": [
    "## Imports"
   ]
  },
  {
   "cell_type": "code",
   "execution_count": 1,
   "metadata": {
    "collapsed": true
   },
   "outputs": [],
   "source": [
    "from __future__ import print_function  # Necessary only if using Python 2.7.\n",
    "import taxcalc as tc\n",
    "import pandas as pd\n",
    "from bokeh.io import show, output_notebook"
   ]
  },
  {
   "cell_type": "markdown",
   "metadata": {},
   "source": [
    "## Setup\n",
    "\n",
    "Use publicly-available CPS input file.\n",
    "\n",
    "NOTE: if you have access to the restricted-use IRS-SOI PUF-based input file\n",
    "and you have that file (named 'puf.csv') located in the directory\n",
    "where this script is located, then you can substitute the following\n",
    "statement for the prior statement:\n",
    "\n",
    "`recs = Records()`"
   ]
  },
  {
   "cell_type": "code",
   "execution_count": 2,
   "metadata": {
    "collapsed": true
   },
   "outputs": [],
   "source": [
    "recs = tc.Records.cps_constructor()"
   ]
  },
  {
   "cell_type": "markdown",
   "metadata": {},
   "source": [
    "Specify `Calculator` object for static analysis of current-law policy."
   ]
  },
  {
   "cell_type": "code",
   "execution_count": 3,
   "metadata": {},
   "outputs": [
    {
     "name": "stdout",
     "output_type": "stream",
     "text": [
      "You loaded data for 2014.\n",
      "Tax-Calculator startup automatically extrapolated your data to 2014.\n"
     ]
    }
   ],
   "source": [
    "pol = tc.Policy()\n",
    "calc1 = tc.Calculator(policy=pol, records=recs)"
   ]
  },
  {
   "cell_type": "markdown",
   "metadata": {},
   "source": [
    "NOTE: `calc1` now contains a PRIVATE COPY of `pol` and a PRIVATE COPY of `recs`,\n",
    "so we can continue to use `pol` and `recs` in this script without any\n",
    "concern about side effects from `Calculator` method calls on `calc1`.\n",
    "\n",
    "Calculate aggregate current-law income tax liabilities for 2018."
   ]
  },
  {
   "cell_type": "code",
   "execution_count": 4,
   "metadata": {
    "collapsed": true
   },
   "outputs": [],
   "source": [
    "calc1.advance_to_year(2018)\n",
    "calc1.calc_all()\n",
    "itax_rev1 = calc1.weighted_total('iitax')"
   ]
  },
  {
   "cell_type": "markdown",
   "metadata": {},
   "source": [
    "Read JSON reform file and use (the default) static analysis assumptions.\n",
    "\n",
    "*Requires `reformA.json` to have been downloaded and put in `ingredients` folder.*"
   ]
  },
  {
   "cell_type": "code",
   "execution_count": 5,
   "metadata": {
    "collapsed": true
   },
   "outputs": [],
   "source": [
    "reform_filename = './ingredients/reformA.json'\n",
    "params = tc.Calculator.read_json_param_objects(reform=reform_filename,\n",
    "                                               assump=None)"
   ]
  },
  {
   "cell_type": "markdown",
   "metadata": {},
   "source": [
    "Print reform documentation."
   ]
  },
  {
   "cell_type": "code",
   "execution_count": 6,
   "metadata": {},
   "outputs": [
    {
     "name": "stdout",
     "output_type": "stream",
     "text": [
      "REFORM DOCUMENTATION\n",
      "Baseline Growth-Difference Assumption Values by Year:\n",
      "none: using default baseline growth assumptions\n",
      "Policy Reform Parameter Values by Year:\n",
      "2018:\n",
      " _II_rt5 : 0.35\n",
      "  name: Personal income (regular/non-AMT/non-pass-through) tax rate 5\n",
      "  desc: The third highest tax rate, applied to the portion of taxable income\n",
      "        below tax bracket 5 and above tax bracket 4.\n",
      "  baseline_value: 0.33\n",
      " _II_rt6 : 0.37\n",
      "  name: Personal income (regular/non-AMT/non-pass-through) tax rate 6\n",
      "  desc: The second higher tax rate, applied to the portion of taxable income\n",
      "        below tax bracket 6 and above tax bracket 5.\n",
      "  baseline_value: 0.35\n",
      " _II_rt7 : 0.42\n",
      "  name: Personal income (regular/non-AMT/non-pass-through) tax rate 7\n",
      "  desc: The tax rate applied to the portion of taxable income below tax\n",
      "        bracket 7 and above tax bracket 6.\n",
      "  baseline_value: 0.396\n",
      " _PT_rt5 : 0.35\n",
      "  name: Pass-through income tax rate 5\n",
      "  desc: The third highest tax rate, applied to the portion of income from sole\n",
      "        proprietorships, partnerships and S corporations below tax bracket 5\n",
      "        and above tax bracket 4.\n",
      "  baseline_value: 0.33\n",
      " _PT_rt6 : 0.37\n",
      "  name: Pass-through income tax rate 6\n",
      "  desc: The second higher tax rate, applied to the portion of income from sole\n",
      "        proprietorships, partnerships and S corporations below tax bracket 6\n",
      "        and above tax bracket 5.\n",
      "  baseline_value: 0.35\n",
      " _PT_rt7 : 0.42\n",
      "  name: Pass-through income tax rate 7\n",
      "  desc: The highest tax rate, applied to the portion of income from sole\n",
      "        proprietorships, partnerships and S corporations below tax bracket 7\n",
      "        and above tax bracket 6.\n",
      "  baseline_value: 0.396\n",
      " _STD : [12000, 24000, 12000, 18000, 24000]\n",
      "        ['single', 'joint', 'separate', 'headhousehold', 'widow']\n",
      "  name: Standard deduction amount\n",
      "  desc: Amount filing unit can use as a standard deduction.\n",
      "  baseline_value: [6492.88, 12985.75, 6492.88, 9560.38, 12985.75]\n",
      " _STD_Aged : [0, 0, 0, 0, 0]\n",
      "             ['single', 'joint', 'separate', 'headhousehold', 'widow']\n",
      "  name: Additional standard deduction for blind and aged\n",
      "  desc: To get the standard deduction for aged or blind individuals, taxpayers\n",
      "        need to add this value to regular standard deduction.\n",
      "  baseline_value: [1584.88, 1278.13, 1278.13, 1584.88, 1584.88]\n",
      " _STD_Dep : 0\n",
      "  name: Standard deduction for dependents\n",
      "  desc: This is the maximum standard deduction for dependents.\n",
      "  baseline_value: 1073.63\n",
      "\n"
     ]
    }
   ],
   "source": [
    "print(tc.Calculator.reform_documentation(params))"
   ]
  },
  {
   "cell_type": "markdown",
   "metadata": {},
   "source": [
    "Implement reform and check for reform error messages."
   ]
  },
  {
   "cell_type": "code",
   "execution_count": 7,
   "metadata": {
    "collapsed": true
   },
   "outputs": [],
   "source": [
    "pol.implement_reform(params['policy'])\n",
    "if pol.reform_errors:\n",
    "    print(pol.reform_errors)\n",
    "    exit(1)"
   ]
  },
  {
   "cell_type": "markdown",
   "metadata": {},
   "source": [
    "## Calculate"
   ]
  },
  {
   "cell_type": "markdown",
   "metadata": {},
   "source": [
    "Specify Calculator object for static analysis of reform policy."
   ]
  },
  {
   "cell_type": "code",
   "execution_count": 8,
   "metadata": {},
   "outputs": [
    {
     "name": "stdout",
     "output_type": "stream",
     "text": [
      "You loaded data for 2014.\n",
      "Tax-Calculator startup automatically extrapolated your data to 2014.\n"
     ]
    }
   ],
   "source": [
    "calc2 = tc.Calculator(policy=pol, records=recs)"
   ]
  },
  {
   "cell_type": "markdown",
   "metadata": {},
   "source": [
    "Calculate reform income tax liabilities for 2018."
   ]
  },
  {
   "cell_type": "code",
   "execution_count": 9,
   "metadata": {
    "collapsed": true
   },
   "outputs": [],
   "source": [
    "calc2.advance_to_year(2018)\n",
    "calc2.calc_all()\n",
    "itax_rev2 = calc2.weighted_total('iitax')"
   ]
  },
  {
   "cell_type": "markdown",
   "metadata": {},
   "source": [
    "## Results"
   ]
  },
  {
   "cell_type": "markdown",
   "metadata": {},
   "source": [
    "Print total revenue estimates for 2018.\n",
    "\n",
    "*Estimates in billons of dollars rounded to nearest hundredth of a billion.*"
   ]
  },
  {
   "cell_type": "code",
   "execution_count": 10,
   "metadata": {},
   "outputs": [
    {
     "name": "stdout",
     "output_type": "stream",
     "text": [
      "2018_CLP_itax_rev($B)= 1287.51\n",
      "2018_REF_itax_rev($B)= 1234.66\n"
     ]
    }
   ],
   "source": [
    "print('2018_CLP_itax_rev($B)= {:.2f}'.format(itax_rev1 * 1e-9))\n",
    "print('2018_REF_itax_rev($B)= {:.2f}'.format(itax_rev2 * 1e-9))"
   ]
  },
  {
   "cell_type": "markdown",
   "metadata": {},
   "source": [
    "Generate several other standard results tables."
   ]
  },
  {
   "cell_type": "code",
   "execution_count": 11,
   "metadata": {},
   "outputs": [
    {
     "ename": "ValueError",
     "evalue": "Buffer dtype mismatch, expected 'Python object' but got 'long'",
     "output_type": "error",
     "traceback": [
      "\u001b[0;31m---------------------------------------------------------------------\u001b[0m",
      "\u001b[0;31mValueError\u001b[0m                          Traceback (most recent call last)",
      "\u001b[0;31mValueError\u001b[0m: Buffer dtype mismatch, expected 'Python object' but got 'long'"
     ]
    },
    {
     "name": "stderr",
     "output_type": "stream",
     "text": [
      "Exception ValueError: \"Buffer dtype mismatch, expected 'Python object' but got 'long'\" in 'pandas._libs.lib.is_bool_array' ignored\n"
     ]
    },
    {
     "ename": "ValueError",
     "evalue": "Buffer dtype mismatch, expected 'Python object' but got 'long'",
     "output_type": "error",
     "traceback": [
      "\u001b[0;31m---------------------------------------------------------------------\u001b[0m",
      "\u001b[0;31mValueError\u001b[0m                          Traceback (most recent call last)",
      "\u001b[0;31mValueError\u001b[0m: Buffer dtype mismatch, expected 'Python object' but got 'long'"
     ]
    },
    {
     "name": "stderr",
     "output_type": "stream",
     "text": [
      "Exception ValueError: \"Buffer dtype mismatch, expected 'Python object' but got 'long'\" in 'pandas._libs.lib.is_bool_array' ignored\n"
     ]
    },
    {
     "ename": "ValueError",
     "evalue": "Buffer dtype mismatch, expected 'Python object' but got 'long'",
     "output_type": "error",
     "traceback": [
      "\u001b[0;31m---------------------------------------------------------------------\u001b[0m",
      "\u001b[0;31mValueError\u001b[0m                          Traceback (most recent call last)",
      "\u001b[0;31mValueError\u001b[0m: Buffer dtype mismatch, expected 'Python object' but got 'long'"
     ]
    },
    {
     "name": "stderr",
     "output_type": "stream",
     "text": [
      "Exception ValueError: \"Buffer dtype mismatch, expected 'Python object' but got 'long'\" in 'pandas._libs.lib.is_bool_array' ignored\n"
     ]
    }
   ],
   "source": [
    "# Aggregate diagnostic tables for 2018.\n",
    "clp_diagnostic_table = calc1.diagnostic_table(1)\n",
    "ref_diagnostic_table = calc2.diagnostic_table(1)\n",
    "\n",
    "# Income-tax distribution for 2018 with CLP and REF results side-by-side.\n",
    "dist_table1, dist_table2 = calc1.distribution_tables(calc2)\n",
    "assert isinstance(dist_table1, pd.DataFrame)\n",
    "assert isinstance(dist_table2, pd.DataFrame)\n",
    "dist_extract = pd.DataFrame()\n",
    "dist_extract['funits(#m)'] = dist_table1['s006'] * 1e-6\n",
    "dist_extract['itax1($b)'] = dist_table1['iitax'] * 1e-9\n",
    "dist_extract['itax2($b)'] = dist_table2['iitax'] * 1e-9\n",
    "dist_extract['aftertax_inc1($b)'] = dist_table1['aftertax_income'] * 1e-9\n",
    "dist_extract['aftertax_inc2($b)'] = dist_table2['aftertax_income'] * 1e-9\n",
    "\n",
    "# Income-tax difference table by expanded-income decile for 2018.\n",
    "diff_table = calc1.difference_table(calc2, tax_to_diff='iitax')\n",
    "assert isinstance(diff_table, pd.DataFrame)\n",
    "diff_extract = pd.DataFrame()\n",
    "dif_colnames = ['count', 'tot_change', 'mean',\n",
    "                'pc_aftertaxinc']\n",
    "ext_colnames = ['funits(#m)', 'agg_diff($b)', 'mean_diff($)',\n",
    "                'aftertaxinc_diff(%)']\n",
    "scaling_factors = [1e-6, 1e-9, 1e0, 1e0, 1e0]\n",
    "for dname, ename, sfactor in zip(dif_colnames, ext_colnames, scaling_factors):\n",
    "    diff_extract[ename] = diff_table[dname] * sfactor"
   ]
  },
  {
   "cell_type": "markdown",
   "metadata": {},
   "source": [
    "## Plotting\n",
    "\n",
    "Generate a decile graph and display it using Bokeh."
   ]
  },
  {
   "cell_type": "code",
   "execution_count": 12,
   "metadata": {},
   "outputs": [
    {
     "ename": "ValueError",
     "evalue": "Buffer dtype mismatch, expected 'Python object' but got 'long'",
     "output_type": "error",
     "traceback": [
      "\u001b[0;31m---------------------------------------------------------------------\u001b[0m",
      "\u001b[0;31mValueError\u001b[0m                          Traceback (most recent call last)",
      "\u001b[0;31mValueError\u001b[0m: Buffer dtype mismatch, expected 'Python object' but got 'long'"
     ]
    },
    {
     "name": "stderr",
     "output_type": "stream",
     "text": [
      "Exception ValueError: \"Buffer dtype mismatch, expected 'Python object' but got 'long'\" in 'pandas._libs.lib.is_bool_array' ignored\n"
     ]
    }
   ],
   "source": [
    "fig = calc1.decile_graph(calc2)"
   ]
  },
  {
   "cell_type": "code",
   "execution_count": 13,
   "metadata": {},
   "outputs": [
    {
     "data": {
      "text/html": [
       "\n",
       "    <div class=\"bk-root\">\n",
       "        <a href=\"https://bokeh.pydata.org\" target=\"_blank\" class=\"bk-logo bk-logo-small bk-logo-notebook\"></a>\n",
       "        <span id=\"9960d842-05f3-471f-bbf5-54015f0f4a8e\">Loading BokehJS ...</span>\n",
       "    </div>"
      ]
     },
     "metadata": {},
     "output_type": "display_data"
    },
    {
     "data": {
      "application/javascript": [
       "\n",
       "(function(root) {\n",
       "  function now() {\n",
       "    return new Date();\n",
       "  }\n",
       "\n",
       "  var force = true;\n",
       "\n",
       "  if (typeof (root._bokeh_onload_callbacks) === \"undefined\" || force === true) {\n",
       "    root._bokeh_onload_callbacks = [];\n",
       "    root._bokeh_is_loading = undefined;\n",
       "  }\n",
       "\n",
       "  var JS_MIME_TYPE = 'application/javascript';\n",
       "  var HTML_MIME_TYPE = 'text/html';\n",
       "  var EXEC_MIME_TYPE = 'application/vnd.bokehjs_exec.v0+json';\n",
       "  var CLASS_NAME = 'output_bokeh rendered_html';\n",
       "\n",
       "  /**\n",
       "   * Render data to the DOM node\n",
       "   */\n",
       "  function render(props, node) {\n",
       "    var script = document.createElement(\"script\");\n",
       "    node.appendChild(script);\n",
       "  }\n",
       "\n",
       "  /**\n",
       "   * Handle when an output is cleared or removed\n",
       "   */\n",
       "  function handleClearOutput(event, handle) {\n",
       "    var cell = handle.cell;\n",
       "\n",
       "    var id = cell.output_area._bokeh_element_id;\n",
       "    var server_id = cell.output_area._bokeh_server_id;\n",
       "    // Clean up Bokeh references\n",
       "    if (id !== undefined) {\n",
       "      Bokeh.index[id].model.document.clear();\n",
       "      delete Bokeh.index[id];\n",
       "    }\n",
       "\n",
       "    if (server_id !== undefined) {\n",
       "      // Clean up Bokeh references\n",
       "      var cmd = \"from bokeh.io.state import curstate; print(curstate().uuid_to_server['\" + server_id + \"'].get_sessions()[0].document.roots[0]._id)\";\n",
       "      cell.notebook.kernel.execute(cmd, {\n",
       "        iopub: {\n",
       "          output: function(msg) {\n",
       "            var element_id = msg.content.text.trim();\n",
       "            Bokeh.index[element_id].model.document.clear();\n",
       "            delete Bokeh.index[element_id];\n",
       "          }\n",
       "        }\n",
       "      });\n",
       "      // Destroy server and session\n",
       "      var cmd = \"import bokeh.io.notebook as ion; ion.destroy_server('\" + server_id + \"')\";\n",
       "      cell.notebook.kernel.execute(cmd);\n",
       "    }\n",
       "  }\n",
       "\n",
       "  /**\n",
       "   * Handle when a new output is added\n",
       "   */\n",
       "  function handleAddOutput(event, handle) {\n",
       "    var output_area = handle.output_area;\n",
       "    var output = handle.output;\n",
       "\n",
       "    // limit handleAddOutput to display_data with EXEC_MIME_TYPE content only\n",
       "    if ((output.output_type != \"display_data\") || (!output.data.hasOwnProperty(EXEC_MIME_TYPE))) {\n",
       "      return\n",
       "    }\n",
       "\n",
       "    var toinsert = output_area.element.find(`.${CLASS_NAME.split(' ')[0]}`);\n",
       "\n",
       "    if (output.metadata[EXEC_MIME_TYPE][\"id\"] !== undefined) {\n",
       "      toinsert[0].firstChild.textContent = output.data[JS_MIME_TYPE];\n",
       "      // store reference to embed id on output_area\n",
       "      output_area._bokeh_element_id = output.metadata[EXEC_MIME_TYPE][\"id\"];\n",
       "    }\n",
       "    if (output.metadata[EXEC_MIME_TYPE][\"server_id\"] !== undefined) {\n",
       "      var bk_div = document.createElement(\"div\");\n",
       "      bk_div.innerHTML = output.data[HTML_MIME_TYPE];\n",
       "      var script_attrs = bk_div.children[0].attributes;\n",
       "      for (var i = 0; i < script_attrs.length; i++) {\n",
       "        toinsert[0].firstChild.setAttribute(script_attrs[i].name, script_attrs[i].value);\n",
       "      }\n",
       "      // store reference to server id on output_area\n",
       "      output_area._bokeh_server_id = output.metadata[EXEC_MIME_TYPE][\"server_id\"];\n",
       "    }\n",
       "  }\n",
       "\n",
       "  function register_renderer(events, OutputArea) {\n",
       "\n",
       "    function append_mime(data, metadata, element) {\n",
       "      // create a DOM node to render to\n",
       "      var toinsert = this.create_output_subarea(\n",
       "        metadata,\n",
       "        CLASS_NAME,\n",
       "        EXEC_MIME_TYPE\n",
       "      );\n",
       "      this.keyboard_manager.register_events(toinsert);\n",
       "      // Render to node\n",
       "      var props = {data: data, metadata: metadata[EXEC_MIME_TYPE]};\n",
       "      render(props, toinsert[0]);\n",
       "      element.append(toinsert);\n",
       "      return toinsert\n",
       "    }\n",
       "\n",
       "    /* Handle when an output is cleared or removed */\n",
       "    events.on('clear_output.CodeCell', handleClearOutput);\n",
       "    events.on('delete.Cell', handleClearOutput);\n",
       "\n",
       "    /* Handle when a new output is added */\n",
       "    events.on('output_added.OutputArea', handleAddOutput);\n",
       "\n",
       "    /**\n",
       "     * Register the mime type and append_mime function with output_area\n",
       "     */\n",
       "    OutputArea.prototype.register_mime_type(EXEC_MIME_TYPE, append_mime, {\n",
       "      /* Is output safe? */\n",
       "      safe: true,\n",
       "      /* Index of renderer in `output_area.display_order` */\n",
       "      index: 0\n",
       "    });\n",
       "  }\n",
       "\n",
       "  // register the mime type if in Jupyter Notebook environment and previously unregistered\n",
       "  if (root.Jupyter !== undefined) {\n",
       "    var events = require('base/js/events');\n",
       "    var OutputArea = require('notebook/js/outputarea').OutputArea;\n",
       "\n",
       "    if (OutputArea.prototype.mime_types().indexOf(EXEC_MIME_TYPE) == -1) {\n",
       "      register_renderer(events, OutputArea);\n",
       "    }\n",
       "  }\n",
       "\n",
       "  \n",
       "  if (typeof (root._bokeh_timeout) === \"undefined\" || force === true) {\n",
       "    root._bokeh_timeout = Date.now() + 5000;\n",
       "    root._bokeh_failed_load = false;\n",
       "  }\n",
       "\n",
       "  var NB_LOAD_WARNING = {'data': {'text/html':\n",
       "     \"<div style='background-color: #fdd'>\\n\"+\n",
       "     \"<p>\\n\"+\n",
       "     \"BokehJS does not appear to have successfully loaded. If loading BokehJS from CDN, this \\n\"+\n",
       "     \"may be due to a slow or bad network connection. Possible fixes:\\n\"+\n",
       "     \"</p>\\n\"+\n",
       "     \"<ul>\\n\"+\n",
       "     \"<li>re-rerun `output_notebook()` to attempt to load from CDN again, or</li>\\n\"+\n",
       "     \"<li>use INLINE resources instead, as so:</li>\\n\"+\n",
       "     \"</ul>\\n\"+\n",
       "     \"<code>\\n\"+\n",
       "     \"from bokeh.resources import INLINE\\n\"+\n",
       "     \"output_notebook(resources=INLINE)\\n\"+\n",
       "     \"</code>\\n\"+\n",
       "     \"</div>\"}};\n",
       "\n",
       "  function display_loaded() {\n",
       "    var el = document.getElementById(\"9960d842-05f3-471f-bbf5-54015f0f4a8e\");\n",
       "    if (el != null) {\n",
       "      el.textContent = \"BokehJS is loading...\";\n",
       "    }\n",
       "    if (root.Bokeh !== undefined) {\n",
       "      if (el != null) {\n",
       "        el.textContent = \"BokehJS \" + root.Bokeh.version + \" successfully loaded.\";\n",
       "      }\n",
       "    } else if (Date.now() < root._bokeh_timeout) {\n",
       "      setTimeout(display_loaded, 100)\n",
       "    }\n",
       "  }\n",
       "\n",
       "\n",
       "  function run_callbacks() {\n",
       "    try {\n",
       "      root._bokeh_onload_callbacks.forEach(function(callback) { callback() });\n",
       "    }\n",
       "    finally {\n",
       "      delete root._bokeh_onload_callbacks\n",
       "    }\n",
       "    console.info(\"Bokeh: all callbacks have finished\");\n",
       "  }\n",
       "\n",
       "  function load_libs(js_urls, callback) {\n",
       "    root._bokeh_onload_callbacks.push(callback);\n",
       "    if (root._bokeh_is_loading > 0) {\n",
       "      console.log(\"Bokeh: BokehJS is being loaded, scheduling callback at\", now());\n",
       "      return null;\n",
       "    }\n",
       "    if (js_urls == null || js_urls.length === 0) {\n",
       "      run_callbacks();\n",
       "      return null;\n",
       "    }\n",
       "    console.log(\"Bokeh: BokehJS not loaded, scheduling load and callback at\", now());\n",
       "    root._bokeh_is_loading = js_urls.length;\n",
       "    for (var i = 0; i < js_urls.length; i++) {\n",
       "      var url = js_urls[i];\n",
       "      var s = document.createElement('script');\n",
       "      s.src = url;\n",
       "      s.async = false;\n",
       "      s.onreadystatechange = s.onload = function() {\n",
       "        root._bokeh_is_loading--;\n",
       "        if (root._bokeh_is_loading === 0) {\n",
       "          console.log(\"Bokeh: all BokehJS libraries loaded\");\n",
       "          run_callbacks()\n",
       "        }\n",
       "      };\n",
       "      s.onerror = function() {\n",
       "        console.warn(\"failed to load library \" + url);\n",
       "      };\n",
       "      console.log(\"Bokeh: injecting script tag for BokehJS library: \", url);\n",
       "      document.getElementsByTagName(\"head\")[0].appendChild(s);\n",
       "    }\n",
       "  };var element = document.getElementById(\"9960d842-05f3-471f-bbf5-54015f0f4a8e\");\n",
       "  if (element == null) {\n",
       "    console.log(\"Bokeh: ERROR: autoload.js configured with elementid '9960d842-05f3-471f-bbf5-54015f0f4a8e' but no matching script tag was found. \")\n",
       "    return false;\n",
       "  }\n",
       "\n",
       "  var js_urls = [\"https://cdn.pydata.org/bokeh/release/bokeh-0.12.10.min.js\", \"https://cdn.pydata.org/bokeh/release/bokeh-widgets-0.12.10.min.js\", \"https://cdn.pydata.org/bokeh/release/bokeh-tables-0.12.10.min.js\", \"https://cdn.pydata.org/bokeh/release/bokeh-gl-0.12.10.min.js\"];\n",
       "\n",
       "  var inline_js = [\n",
       "    function(Bokeh) {\n",
       "      Bokeh.set_log_level(\"info\");\n",
       "    },\n",
       "    \n",
       "    function(Bokeh) {\n",
       "      \n",
       "    },\n",
       "    function(Bokeh) {\n",
       "      console.log(\"Bokeh: injecting CSS: https://cdn.pydata.org/bokeh/release/bokeh-0.12.10.min.css\");\n",
       "      Bokeh.embed.inject_css(\"https://cdn.pydata.org/bokeh/release/bokeh-0.12.10.min.css\");\n",
       "      console.log(\"Bokeh: injecting CSS: https://cdn.pydata.org/bokeh/release/bokeh-widgets-0.12.10.min.css\");\n",
       "      Bokeh.embed.inject_css(\"https://cdn.pydata.org/bokeh/release/bokeh-widgets-0.12.10.min.css\");\n",
       "      console.log(\"Bokeh: injecting CSS: https://cdn.pydata.org/bokeh/release/bokeh-tables-0.12.10.min.css\");\n",
       "      Bokeh.embed.inject_css(\"https://cdn.pydata.org/bokeh/release/bokeh-tables-0.12.10.min.css\");\n",
       "    }\n",
       "  ];\n",
       "\n",
       "  function run_inline_js() {\n",
       "    \n",
       "    if ((root.Bokeh !== undefined) || (force === true)) {\n",
       "      for (var i = 0; i < inline_js.length; i++) {\n",
       "        inline_js[i].call(root, root.Bokeh);\n",
       "      }if (force === true) {\n",
       "        display_loaded();\n",
       "      }} else if (Date.now() < root._bokeh_timeout) {\n",
       "      setTimeout(run_inline_js, 100);\n",
       "    } else if (!root._bokeh_failed_load) {\n",
       "      console.log(\"Bokeh: BokehJS failed to load within specified timeout.\");\n",
       "      root._bokeh_failed_load = true;\n",
       "    } else if (force !== true) {\n",
       "      var cell = $(document.getElementById(\"9960d842-05f3-471f-bbf5-54015f0f4a8e\")).parents('.cell').data().cell;\n",
       "      cell.output_area.append_execute_result(NB_LOAD_WARNING)\n",
       "    }\n",
       "\n",
       "  }\n",
       "\n",
       "  if (root._bokeh_is_loading === 0) {\n",
       "    console.log(\"Bokeh: BokehJS loaded, going straight to plotting\");\n",
       "    run_inline_js();\n",
       "  } else {\n",
       "    load_libs(js_urls, function() {\n",
       "      console.log(\"Bokeh: BokehJS plotting callback run at\", now());\n",
       "      run_inline_js();\n",
       "    });\n",
       "  }\n",
       "}(window));"
      ],
      "application/vnd.bokehjs_load.v0+json": "\n(function(root) {\n  function now() {\n    return new Date();\n  }\n\n  var force = true;\n\n  if (typeof (root._bokeh_onload_callbacks) === \"undefined\" || force === true) {\n    root._bokeh_onload_callbacks = [];\n    root._bokeh_is_loading = undefined;\n  }\n\n  \n\n  \n  if (typeof (root._bokeh_timeout) === \"undefined\" || force === true) {\n    root._bokeh_timeout = Date.now() + 5000;\n    root._bokeh_failed_load = false;\n  }\n\n  var NB_LOAD_WARNING = {'data': {'text/html':\n     \"<div style='background-color: #fdd'>\\n\"+\n     \"<p>\\n\"+\n     \"BokehJS does not appear to have successfully loaded. If loading BokehJS from CDN, this \\n\"+\n     \"may be due to a slow or bad network connection. Possible fixes:\\n\"+\n     \"</p>\\n\"+\n     \"<ul>\\n\"+\n     \"<li>re-rerun `output_notebook()` to attempt to load from CDN again, or</li>\\n\"+\n     \"<li>use INLINE resources instead, as so:</li>\\n\"+\n     \"</ul>\\n\"+\n     \"<code>\\n\"+\n     \"from bokeh.resources import INLINE\\n\"+\n     \"output_notebook(resources=INLINE)\\n\"+\n     \"</code>\\n\"+\n     \"</div>\"}};\n\n  function display_loaded() {\n    var el = document.getElementById(\"9960d842-05f3-471f-bbf5-54015f0f4a8e\");\n    if (el != null) {\n      el.textContent = \"BokehJS is loading...\";\n    }\n    if (root.Bokeh !== undefined) {\n      if (el != null) {\n        el.textContent = \"BokehJS \" + root.Bokeh.version + \" successfully loaded.\";\n      }\n    } else if (Date.now() < root._bokeh_timeout) {\n      setTimeout(display_loaded, 100)\n    }\n  }\n\n\n  function run_callbacks() {\n    try {\n      root._bokeh_onload_callbacks.forEach(function(callback) { callback() });\n    }\n    finally {\n      delete root._bokeh_onload_callbacks\n    }\n    console.info(\"Bokeh: all callbacks have finished\");\n  }\n\n  function load_libs(js_urls, callback) {\n    root._bokeh_onload_callbacks.push(callback);\n    if (root._bokeh_is_loading > 0) {\n      console.log(\"Bokeh: BokehJS is being loaded, scheduling callback at\", now());\n      return null;\n    }\n    if (js_urls == null || js_urls.length === 0) {\n      run_callbacks();\n      return null;\n    }\n    console.log(\"Bokeh: BokehJS not loaded, scheduling load and callback at\", now());\n    root._bokeh_is_loading = js_urls.length;\n    for (var i = 0; i < js_urls.length; i++) {\n      var url = js_urls[i];\n      var s = document.createElement('script');\n      s.src = url;\n      s.async = false;\n      s.onreadystatechange = s.onload = function() {\n        root._bokeh_is_loading--;\n        if (root._bokeh_is_loading === 0) {\n          console.log(\"Bokeh: all BokehJS libraries loaded\");\n          run_callbacks()\n        }\n      };\n      s.onerror = function() {\n        console.warn(\"failed to load library \" + url);\n      };\n      console.log(\"Bokeh: injecting script tag for BokehJS library: \", url);\n      document.getElementsByTagName(\"head\")[0].appendChild(s);\n    }\n  };var element = document.getElementById(\"9960d842-05f3-471f-bbf5-54015f0f4a8e\");\n  if (element == null) {\n    console.log(\"Bokeh: ERROR: autoload.js configured with elementid '9960d842-05f3-471f-bbf5-54015f0f4a8e' but no matching script tag was found. \")\n    return false;\n  }\n\n  var js_urls = [\"https://cdn.pydata.org/bokeh/release/bokeh-0.12.10.min.js\", \"https://cdn.pydata.org/bokeh/release/bokeh-widgets-0.12.10.min.js\", \"https://cdn.pydata.org/bokeh/release/bokeh-tables-0.12.10.min.js\", \"https://cdn.pydata.org/bokeh/release/bokeh-gl-0.12.10.min.js\"];\n\n  var inline_js = [\n    function(Bokeh) {\n      Bokeh.set_log_level(\"info\");\n    },\n    \n    function(Bokeh) {\n      \n    },\n    function(Bokeh) {\n      console.log(\"Bokeh: injecting CSS: https://cdn.pydata.org/bokeh/release/bokeh-0.12.10.min.css\");\n      Bokeh.embed.inject_css(\"https://cdn.pydata.org/bokeh/release/bokeh-0.12.10.min.css\");\n      console.log(\"Bokeh: injecting CSS: https://cdn.pydata.org/bokeh/release/bokeh-widgets-0.12.10.min.css\");\n      Bokeh.embed.inject_css(\"https://cdn.pydata.org/bokeh/release/bokeh-widgets-0.12.10.min.css\");\n      console.log(\"Bokeh: injecting CSS: https://cdn.pydata.org/bokeh/release/bokeh-tables-0.12.10.min.css\");\n      Bokeh.embed.inject_css(\"https://cdn.pydata.org/bokeh/release/bokeh-tables-0.12.10.min.css\");\n    }\n  ];\n\n  function run_inline_js() {\n    \n    if ((root.Bokeh !== undefined) || (force === true)) {\n      for (var i = 0; i < inline_js.length; i++) {\n        inline_js[i].call(root, root.Bokeh);\n      }if (force === true) {\n        display_loaded();\n      }} else if (Date.now() < root._bokeh_timeout) {\n      setTimeout(run_inline_js, 100);\n    } else if (!root._bokeh_failed_load) {\n      console.log(\"Bokeh: BokehJS failed to load within specified timeout.\");\n      root._bokeh_failed_load = true;\n    } else if (force !== true) {\n      var cell = $(document.getElementById(\"9960d842-05f3-471f-bbf5-54015f0f4a8e\")).parents('.cell').data().cell;\n      cell.output_area.append_execute_result(NB_LOAD_WARNING)\n    }\n\n  }\n\n  if (root._bokeh_is_loading === 0) {\n    console.log(\"Bokeh: BokehJS loaded, going straight to plotting\");\n    run_inline_js();\n  } else {\n    load_libs(js_urls, function() {\n      console.log(\"Bokeh: BokehJS plotting callback run at\", now());\n      run_inline_js();\n    });\n  }\n}(window));"
     },
     "metadata": {},
     "output_type": "display_data"
    }
   ],
   "source": [
    "output_notebook()"
   ]
  },
  {
   "cell_type": "code",
   "execution_count": 14,
   "metadata": {},
   "outputs": [
    {
     "data": {
      "text/html": [
       "\n",
       "<div class=\"bk-root\">\n",
       "    <div class=\"bk-plotdiv\" id=\"fb4662f9-0734-4122-8bff-c0a1c99d3b19\"></div>\n",
       "</div>"
      ]
     },
     "metadata": {},
     "output_type": "display_data"
    },
    {
     "data": {
      "application/javascript": [
       "(function(root) {\n",
       "  function embed_document(root) {\n",
       "    var docs_json = {\"447b2203-2982-440d-bfb3-730554f5d0d1\":{\"roots\":{\"references\":[{\"attributes\":{\"fill_alpha\":{\"value\":0.1},\"fill_color\":{\"value\":\"#1f77b4\"},\"height\":{\"units\":\"data\",\"value\":0.8},\"line_alpha\":{\"value\":0.1},\"line_color\":{\"value\":\"#1f77b4\"},\"width\":{\"units\":\"data\",\"value\":0.7070488668898811},\"x\":{\"value\":0.35352443344494056},\"y\":{\"value\":2.5}},\"id\":\"04f74469-3c23-4083-bdb2-292c848be3b1\",\"type\":\"Rect\"},{\"attributes\":{\"plot\":null,\"text\":\"Change in After-Tax Income by Income Percentile Group for 2018\",\"text_font_size\":{\"value\":\"12pt\"}},\"id\":\"de7d8099-826e-4fd6-8680-98664f1e8cff\",\"type\":\"Title\"},{\"attributes\":{\"data_source\":{\"id\":\"6022c868-d357-4ecf-8e05-2b52c89ffe08\",\"type\":\"ColumnDataSource\"},\"glyph\":{\"id\":\"685b57c8-0232-4a73-bd88-0cf7896c7a25\",\"type\":\"Rect\"},\"hover_glyph\":null,\"muted_glyph\":null,\"nonselection_glyph\":{\"id\":\"60554441-30f2-4d6b-a854-7f4f4f76b117\",\"type\":\"Rect\"},\"selection_glyph\":null,\"view\":{\"id\":\"2d3be480-4ce3-4ab3-a924-5d35d4649551\",\"type\":\"CDSView\"}},\"id\":\"6f47b6bb-c72d-4c02-850f-06881ceeda8e\",\"type\":\"GlyphRenderer\"},{\"attributes\":{\"fill_color\":{\"value\":\"blue\"},\"height\":{\"units\":\"data\",\"value\":0.8},\"line_color\":{\"value\":\"blue\"},\"width\":{\"units\":\"data\",\"value\":0.1755680968180906},\"x\":{\"value\":-0.0877840484090453},\"y\":{\"value\":9.5}},\"id\":\"ea22e71b-4ee1-4c30-9ff0-f18acb84814a\",\"type\":\"Rect\"},{\"attributes\":{\"source\":{\"id\":\"e86f5414-3352-41c8-94b7-d4b70ca9b44b\",\"type\":\"ColumnDataSource\"}},\"id\":\"f8bbfd8c-cd7c-4cbb-aed3-6bc625515945\",\"type\":\"CDSView\"},{\"attributes\":{\"x\":{\"field\":\"x\"},\"y\":{\"field\":\"y\"}},\"id\":\"9301ae54-7d0f-4a45-9924-a21420a16c55\",\"type\":\"Line\"},{\"attributes\":{\"fill_color\":{\"value\":\"red\"},\"height\":{\"units\":\"data\",\"value\":0.32000000000000006},\"line_color\":{\"value\":\"red\"},\"width\":{\"units\":\"data\",\"value\":0.04848151942162815},\"x\":{\"value\":0.024240759710814075},\"y\":{\"value\":12.5}},\"id\":\"9879bd7e-0881-4397-827a-f2f180308564\",\"type\":\"Rect\"},{\"attributes\":{\"fill_color\":{\"value\":\"blue\"},\"height\":{\"units\":\"data\",\"value\":0.8},\"line_color\":{\"value\":\"blue\"},\"width\":{\"units\":\"data\",\"value\":0.7070488668898811},\"x\":{\"value\":0.35352443344494056},\"y\":{\"value\":2.5}},\"id\":\"afe3a9d9-5a56-4bfb-8a4f-979011f43414\",\"type\":\"Rect\"},{\"attributes\":{\"source\":{\"id\":\"28965909-d157-4e3e-ab7d-1cb9a198fc45\",\"type\":\"ColumnDataSource\"}},\"id\":\"c77acaa9-edb9-47ab-9bae-05d4f085076f\",\"type\":\"CDSView\"},{\"attributes\":{\"overlay\":{\"id\":\"aa855b65-b70c-4038-93bc-5d3f1ea3e7a6\",\"type\":\"BoxAnnotation\"}},\"id\":\"2a025094-8d5b-494f-81fe-87b847c2c8ba\",\"type\":\"BoxZoomTool\"},{\"attributes\":{\"fill_alpha\":{\"value\":0.1},\"fill_color\":{\"value\":\"#1f77b4\"},\"height\":{\"units\":\"data\",\"value\":0.08000000000000002},\"line_alpha\":{\"value\":0.1},\"line_color\":{\"value\":\"#1f77b4\"},\"width\":{\"units\":\"data\",\"value\":1.0107822293440538},\"x\":{\"value\":-0.5053911146720269},\"y\":{\"value\":13.5}},\"id\":\"09be682f-352d-4dd5-ab2e-d50a1eb9684f\",\"type\":\"Rect\"},{\"attributes\":{\"data_source\":{\"id\":\"dd95c4e2-54ee-493a-b2a6-598d80299569\",\"type\":\"ColumnDataSource\"},\"glyph\":{\"id\":\"f3a9b17c-e108-4c37-8651-1ce998d6bfbc\",\"type\":\"Rect\"},\"hover_glyph\":null,\"muted_glyph\":null,\"nonselection_glyph\":{\"id\":\"2712a24a-127c-4c2d-97f1-7b4b16a32669\",\"type\":\"Rect\"},\"selection_glyph\":null,\"view\":{\"id\":\"ee88a8bb-f8d6-4cf0-a1d4-0c61ad771257\",\"type\":\"CDSView\"}},\"id\":\"b828b6de-fd4b-47aa-8412-24a5a3cf3b43\",\"type\":\"GlyphRenderer\"},{\"attributes\":{\"source\":{\"id\":\"9e202cea-1979-466d-bb4f-5b655a748c92\",\"type\":\"ColumnDataSource\"}},\"id\":\"fdfcb8d4-9e3f-45b9-9386-8fabc9d7153e\",\"type\":\"CDSView\"},{\"attributes\":{},\"id\":\"3e2745b1-8973-4ca2-81e8-1a2ac3832a25\",\"type\":\"BasicTicker\"},{\"attributes\":{\"fill_alpha\":{\"value\":0.1},\"fill_color\":{\"value\":\"#1f77b4\"},\"height\":{\"units\":\"data\",\"value\":0.8},\"line_alpha\":{\"value\":0.1},\"line_color\":{\"value\":\"#1f77b4\"},\"width\":{\"units\":\"data\",\"value\":0.08550105844946643},\"x\":{\"value\":0.042750529224733214},\"y\":{\"value\":0.5}},\"id\":\"721388ef-7cf1-4a67-8e2b-28dcf510976f\",\"type\":\"Rect\"},{\"attributes\":{\"source\":{\"id\":\"f8c38d1e-6d07-46c3-b3e7-f2af9a126966\",\"type\":\"ColumnDataSource\"}},\"id\":\"c56fa7c0-caa9-483d-8fad-78d49e42e54e\",\"type\":\"CDSView\"},{\"attributes\":{\"format\":\"%+d%%\"},\"id\":\"0aacd372-bda0-4d6f-8a97-c14c07e51372\",\"type\":\"PrintfTickFormatter\"},{\"attributes\":{},\"id\":\"ca7a866a-c152-4010-a329-d40bace7bd98\",\"type\":\"CategoricalTickFormatter\"},{\"attributes\":{\"callback\":null,\"data\":{}},\"id\":\"28965909-d157-4e3e-ab7d-1cb9a198fc45\",\"type\":\"ColumnDataSource\"},{\"attributes\":{\"callback\":null,\"data\":{}},\"id\":\"a5e135db-0e4e-428c-8c08-4f3c88564d14\",\"type\":\"ColumnDataSource\"},{\"attributes\":{},\"id\":\"f0ccdae5-2e62-48d2-a757-85827ad49590\",\"type\":\"CategoricalScale\"},{\"attributes\":{\"data_source\":{\"id\":\"ee780145-1f13-4754-8bbf-fce1723c6751\",\"type\":\"ColumnDataSource\"},\"glyph\":{\"id\":\"00f533b3-e597-4519-917c-02a37c4685a7\",\"type\":\"Rect\"},\"hover_glyph\":null,\"muted_glyph\":null,\"nonselection_glyph\":{\"id\":\"7f2abb1d-29a4-4077-a049-0c7ae55485f4\",\"type\":\"Rect\"},\"selection_glyph\":null,\"view\":{\"id\":\"b977c360-1c3c-458b-b954-65a72617d854\",\"type\":\"CDSView\"}},\"id\":\"dbdee133-50e9-4d69-bee0-46ca9b732d09\",\"type\":\"GlyphRenderer\"},{\"attributes\":{\"fill_color\":{\"value\":\"blue\"},\"height\":{\"units\":\"data\",\"value\":0.8},\"line_color\":{\"value\":\"blue\"},\"width\":{\"units\":\"data\",\"value\":1.053220728751536},\"x\":{\"value\":0.526610364375768},\"y\":{\"value\":7.5}},\"id\":\"f3a9b17c-e108-4c37-8651-1ce998d6bfbc\",\"type\":\"Rect\"},{\"attributes\":{\"fill_color\":{\"value\":\"blue\"},\"height\":{\"units\":\"data\",\"value\":0.8},\"line_color\":{\"value\":\"blue\"},\"width\":{\"units\":\"data\",\"value\":1.4079183887343971},\"x\":{\"value\":0.7039591943671986},\"y\":{\"value\":5.5}},\"id\":\"bd3064ef-55d5-4e35-99f2-067718bc64f7\",\"type\":\"Rect\"},{\"attributes\":{\"callback\":null,\"data\":{}},\"id\":\"ce91ce89-2cff-446c-a3e3-7430f4121665\",\"type\":\"ColumnDataSource\"},{\"attributes\":{\"data_source\":{\"id\":\"f8c38d1e-6d07-46c3-b3e7-f2af9a126966\",\"type\":\"ColumnDataSource\"},\"glyph\":{\"id\":\"afe3a9d9-5a56-4bfb-8a4f-979011f43414\",\"type\":\"Rect\"},\"hover_glyph\":null,\"muted_glyph\":null,\"nonselection_glyph\":{\"id\":\"04f74469-3c23-4083-bdb2-292c848be3b1\",\"type\":\"Rect\"},\"selection_glyph\":null,\"view\":{\"id\":\"c56fa7c0-caa9-483d-8fad-78d49e42e54e\",\"type\":\"CDSView\"}},\"id\":\"a6e09cb3-6f74-46cf-a7f6-60702119e55a\",\"type\":\"GlyphRenderer\"},{\"attributes\":{\"fill_color\":{\"value\":\"blue\"},\"height\":{\"units\":\"data\",\"value\":0.8},\"line_color\":{\"value\":\"blue\"},\"width\":{\"units\":\"data\",\"value\":0.10313997830064814},\"x\":{\"value\":0.05156998915032407},\"y\":{\"value\":1.5}},\"id\":\"00f533b3-e597-4519-917c-02a37c4685a7\",\"type\":\"Rect\"},{\"attributes\":{\"data_source\":{\"id\":\"28965909-d157-4e3e-ab7d-1cb9a198fc45\",\"type\":\"ColumnDataSource\"},\"glyph\":{\"id\":\"0abdf84e-9b30-4390-af47-4cd1429a51dc\",\"type\":\"Rect\"},\"hover_glyph\":null,\"muted_glyph\":null,\"nonselection_glyph\":{\"id\":\"09be682f-352d-4dd5-ab2e-d50a1eb9684f\",\"type\":\"Rect\"},\"selection_glyph\":null,\"view\":{\"id\":\"c77acaa9-edb9-47ab-9bae-05d4f085076f\",\"type\":\"CDSView\"}},\"id\":\"70933ef3-5fae-4c10-b05e-603536c8888f\",\"type\":\"GlyphRenderer\"},{\"attributes\":{\"source\":{\"id\":\"ee780145-1f13-4754-8bbf-fce1723c6751\",\"type\":\"ColumnDataSource\"}},\"id\":\"b977c360-1c3c-458b-b954-65a72617d854\",\"type\":\"CDSView\"},{\"attributes\":{\"callback\":null,\"data\":{}},\"id\":\"643fb12f-457b-4e35-9e4d-a8fad09c477d\",\"type\":\"ColumnDataSource\"},{\"attributes\":{\"dimension\":1,\"grid_line_color\":{\"value\":null},\"plot\":{\"id\":\"b93eb923-3385-4a35-b8d3-27cfb6db830e\",\"subtype\":\"Figure\",\"type\":\"Plot\"},\"ticker\":{\"id\":\"96af789a-d71c-4f79-a844-db431c659640\",\"type\":\"CategoricalTicker\"}},\"id\":\"35a19268-e736-45af-9e55-7b89fd75d594\",\"type\":\"Grid\"},{\"attributes\":{\"fill_color\":{\"value\":\"red\"},\"height\":{\"units\":\"data\",\"value\":0.4},\"line_color\":{\"value\":\"red\"},\"width\":{\"units\":\"data\",\"value\":0.32578850255753355},\"x\":{\"value\":0.16289425127876678},\"y\":{\"value\":11.5}},\"id\":\"fb9f06f9-69e7-4b98-b657-5deffcdb0a50\",\"type\":\"Rect\"},{\"attributes\":{\"source\":{\"id\":\"c8f11bf6-cc1e-43f7-8692-fb6803ba90af\",\"type\":\"ColumnDataSource\"}},\"id\":\"77e1309e-c96b-4302-9ce6-e5af6eab1abf\",\"type\":\"CDSView\"},{\"attributes\":{\"fill_color\":{\"value\":\"blue\"},\"height\":{\"units\":\"data\",\"value\":0.8},\"line_color\":{\"value\":\"blue\"},\"width\":{\"units\":\"data\",\"value\":0.6779908133809132},\"x\":{\"value\":0.3389954066904566},\"y\":{\"value\":8.5}},\"id\":\"685b57c8-0232-4a73-bd88-0cf7896c7a25\",\"type\":\"Rect\"},{\"attributes\":{\"data_source\":{\"id\":\"643fb12f-457b-4e35-9e4d-a8fad09c477d\",\"type\":\"ColumnDataSource\"},\"glyph\":{\"id\":\"9879bd7e-0881-4397-827a-f2f180308564\",\"type\":\"Rect\"},\"hover_glyph\":null,\"muted_glyph\":null,\"nonselection_glyph\":{\"id\":\"05ab60d1-ba62-4ff3-a7f5-fa913e9d873c\",\"type\":\"Rect\"},\"selection_glyph\":null,\"view\":{\"id\":\"9069d358-f296-4b80-8b2d-f1d5a2989c7b\",\"type\":\"CDSView\"}},\"id\":\"5768bfe0-ee51-4a51-88e2-7115cc5a1e5c\",\"type\":\"GlyphRenderer\"},{\"attributes\":{\"callback\":null,\"factors\":[\"0-10\",\"10-20\",\"20-30\",\"30-40\",\"40-50\",\"50-60\",\"60-70\",\"70-80\",\"80-90\",\"90-100\",\"---------\",\"90-95\",\"95-99\",\"Top 1%\"]},\"id\":\"11d9915f-63b6-4078-a78f-df7f546a229c\",\"type\":\"FactorRange\"},{\"attributes\":{\"source\":{\"id\":\"b29374a4-8a2e-4cb2-80a3-9d48ce17fdd4\",\"type\":\"ColumnDataSource\"}},\"id\":\"6b79da70-c819-4491-85f6-c19f1dd0a41d\",\"type\":\"CDSView\"},{\"attributes\":{\"source\":{\"id\":\"330ee3b8-2358-45c9-8886-295da87a6873\",\"type\":\"ColumnDataSource\"}},\"id\":\"7d4fffaf-146c-4a66-a218-54502c68f7bd\",\"type\":\"CDSView\"},{\"attributes\":{\"callback\":null,\"data\":{}},\"id\":\"e86f5414-3352-41c8-94b7-d4b70ca9b44b\",\"type\":\"ColumnDataSource\"},{\"attributes\":{},\"id\":\"b26c1d81-99b5-4bb5-8163-0bfd15859df2\",\"type\":\"HelpTool\"},{\"attributes\":{\"callback\":null},\"id\":\"89de68d4-635d-41e1-aa03-a89f17dc4bcd\",\"type\":\"DataRange1d\"},{\"attributes\":{\"callback\":null,\"data\":{}},\"id\":\"ee780145-1f13-4754-8bbf-fce1723c6751\",\"type\":\"ColumnDataSource\"},{\"attributes\":{\"data_source\":{\"id\":\"b56b2ea1-d97a-4f59-989e-b8d8f7d269bd\",\"type\":\"ColumnDataSource\"},\"glyph\":{\"id\":\"bd3064ef-55d5-4e35-99f2-067718bc64f7\",\"type\":\"Rect\"},\"hover_glyph\":null,\"muted_glyph\":null,\"nonselection_glyph\":{\"id\":\"e381f2da-d042-4a82-aed2-402f8b08aac8\",\"type\":\"Rect\"},\"selection_glyph\":null,\"view\":{\"id\":\"9a8803ec-7078-43e3-b732-d1e3debd2116\",\"type\":\"CDSView\"}},\"id\":\"07723e5c-f3a7-43b0-a245-449661ca5600\",\"type\":\"GlyphRenderer\"},{\"attributes\":{\"callback\":null,\"data\":{}},\"id\":\"dd95c4e2-54ee-493a-b2a6-598d80299569\",\"type\":\"ColumnDataSource\"},{\"attributes\":{\"data_source\":{\"id\":\"c8f11bf6-cc1e-43f7-8692-fb6803ba90af\",\"type\":\"ColumnDataSource\"},\"glyph\":{\"id\":\"fd6209ca-40be-4200-bbd8-19a14b3a1f15\",\"type\":\"Rect\"},\"hover_glyph\":null,\"muted_glyph\":null,\"nonselection_glyph\":{\"id\":\"a7b0b789-9f6f-4ebc-9329-001dff89496c\",\"type\":\"Rect\"},\"selection_glyph\":null,\"view\":{\"id\":\"77e1309e-c96b-4302-9ce6-e5af6eab1abf\",\"type\":\"CDSView\"}},\"id\":\"79527aee-72f8-408c-95cf-59b921f03395\",\"type\":\"GlyphRenderer\"},{\"attributes\":{\"data_source\":{\"id\":\"a5e135db-0e4e-428c-8c08-4f3c88564d14\",\"type\":\"ColumnDataSource\"},\"glyph\":{\"id\":\"dc1072d0-6f58-4016-8c38-a053c6ca46da\",\"type\":\"Rect\"},\"hover_glyph\":null,\"muted_glyph\":null,\"nonselection_glyph\":{\"id\":\"f2a01a30-bc0f-4b10-8f37-6a3238c2045d\",\"type\":\"Rect\"},\"selection_glyph\":null,\"view\":{\"id\":\"6d1491af-c7af-4e77-a619-f51043298923\",\"type\":\"CDSView\"}},\"id\":\"59a95812-72a5-467f-a01f-e92d6696cbd0\",\"type\":\"GlyphRenderer\"},{\"attributes\":{\"source\":{\"id\":\"a5e135db-0e4e-428c-8c08-4f3c88564d14\",\"type\":\"ColumnDataSource\"}},\"id\":\"6d1491af-c7af-4e77-a619-f51043298923\",\"type\":\"CDSView\"},{\"attributes\":{\"callback\":null,\"data\":{}},\"id\":\"6022c868-d357-4ecf-8e05-2b52c89ffe08\",\"type\":\"ColumnDataSource\"},{\"attributes\":{\"fill_alpha\":{\"value\":0.1},\"fill_color\":{\"value\":\"#1f77b4\"},\"height\":{\"units\":\"data\",\"value\":0.8},\"line_alpha\":{\"value\":0.1},\"line_color\":{\"value\":\"#1f77b4\"},\"width\":{\"units\":\"data\",\"value\":1.4079183887343971},\"x\":{\"value\":0.7039591943671986},\"y\":{\"value\":5.5}},\"id\":\"e381f2da-d042-4a82-aed2-402f8b08aac8\",\"type\":\"Rect\"},{\"attributes\":{\"source\":{\"id\":\"ce91ce89-2cff-446c-a3e3-7430f4121665\",\"type\":\"ColumnDataSource\"}},\"id\":\"9c5bc53c-b49e-4b94-ae15-e2237dae076a\",\"type\":\"CDSView\"},{\"attributes\":{\"fill_alpha\":{\"value\":0.1},\"fill_color\":{\"value\":\"#1f77b4\"},\"height\":{\"units\":\"data\",\"value\":0.8},\"line_alpha\":{\"value\":0.1},\"line_color\":{\"value\":\"#1f77b4\"},\"width\":{\"units\":\"data\",\"value\":0.10313997830064814},\"x\":{\"value\":0.05156998915032407},\"y\":{\"value\":1.5}},\"id\":\"7f2abb1d-29a4-4077-a049-0c7ae55485f4\",\"type\":\"Rect\"},{\"attributes\":{\"fill_color\":{\"value\":\"blue\"},\"height\":{\"units\":\"data\",\"value\":0.8},\"line_color\":{\"value\":\"blue\"},\"width\":{\"units\":\"data\",\"value\":0},\"x\":{\"value\":0.0},\"y\":{\"value\":10.5}},\"id\":\"12ff283b-1bc6-451b-af3a-161d9a21a767\",\"type\":\"Rect\"},{\"attributes\":{\"fill_color\":{\"value\":\"blue\"},\"height\":{\"units\":\"data\",\"value\":0.8},\"line_color\":{\"value\":\"blue\"},\"width\":{\"units\":\"data\",\"value\":0.08550105844946643},\"x\":{\"value\":0.042750529224733214},\"y\":{\"value\":0.5}},\"id\":\"ec9c7ad6-c4ef-46fc-9134-f67531267cc2\",\"type\":\"Rect\"},{\"attributes\":{\"below\":[{\"id\":\"0be85b84-681e-4ab4-b532-2ae4fa1c2af8\",\"type\":\"LinearAxis\"}],\"left\":[{\"id\":\"c0b33349-a2f2-40db-ab37-c9c589590ae2\",\"type\":\"CategoricalAxis\"}],\"outline_line_color\":{\"value\":null},\"plot_height\":500,\"plot_width\":850,\"renderers\":[{\"id\":\"0be85b84-681e-4ab4-b532-2ae4fa1c2af8\",\"type\":\"LinearAxis\"},{\"id\":\"7d5451e9-9d4d-43bc-98b9-e6ac031640ba\",\"type\":\"Grid\"},{\"id\":\"c0b33349-a2f2-40db-ab37-c9c589590ae2\",\"type\":\"CategoricalAxis\"},{\"id\":\"35a19268-e736-45af-9e55-7b89fd75d594\",\"type\":\"Grid\"},{\"id\":\"aa855b65-b70c-4038-93bc-5d3f1ea3e7a6\",\"type\":\"BoxAnnotation\"},{\"id\":\"d04af47a-b81f-4fc5-81d7-5fb94a48b40c\",\"type\":\"GlyphRenderer\"},{\"id\":\"c46315cd-36cc-4bda-a790-3af79b6abdf3\",\"type\":\"GlyphRenderer\"},{\"id\":\"dbdee133-50e9-4d69-bee0-46ca9b732d09\",\"type\":\"GlyphRenderer\"},{\"id\":\"a6e09cb3-6f74-46cf-a7f6-60702119e55a\",\"type\":\"GlyphRenderer\"},{\"id\":\"4a40db8d-082f-4476-9644-2c2008444100\",\"type\":\"GlyphRenderer\"},{\"id\":\"59a95812-72a5-467f-a01f-e92d6696cbd0\",\"type\":\"GlyphRenderer\"},{\"id\":\"07723e5c-f3a7-43b0-a245-449661ca5600\",\"type\":\"GlyphRenderer\"},{\"id\":\"79527aee-72f8-408c-95cf-59b921f03395\",\"type\":\"GlyphRenderer\"},{\"id\":\"b828b6de-fd4b-47aa-8412-24a5a3cf3b43\",\"type\":\"GlyphRenderer\"},{\"id\":\"6f47b6bb-c72d-4c02-850f-06881ceeda8e\",\"type\":\"GlyphRenderer\"},{\"id\":\"4dea286a-21b7-4d2e-88fb-d2b3d47e485f\",\"type\":\"GlyphRenderer\"},{\"id\":\"ff5cfc9b-7c00-4fc1-9818-0f16c0ee9302\",\"type\":\"GlyphRenderer\"},{\"id\":\"adf470d8-c223-4f5d-95d7-cc3655f44c53\",\"type\":\"GlyphRenderer\"},{\"id\":\"5768bfe0-ee51-4a51-88e2-7115cc5a1e5c\",\"type\":\"GlyphRenderer\"},{\"id\":\"70933ef3-5fae-4c10-b05e-603536c8888f\",\"type\":\"GlyphRenderer\"}],\"title\":{\"id\":\"de7d8099-826e-4fd6-8680-98664f1e8cff\",\"type\":\"Title\"},\"toolbar\":{\"id\":\"8f49f46d-71f8-46cd-a3f8-a3094e019b58\",\"type\":\"Toolbar\"},\"x_range\":{\"id\":\"89de68d4-635d-41e1-aa03-a89f17dc4bcd\",\"type\":\"DataRange1d\"},\"x_scale\":{\"id\":\"9b9e87a6-e5eb-4c73-8f8f-a46c9da24cb2\",\"type\":\"LinearScale\"},\"y_range\":{\"id\":\"11d9915f-63b6-4078-a78f-df7f546a229c\",\"type\":\"FactorRange\"},\"y_scale\":{\"id\":\"f0ccdae5-2e62-48d2-a757-85827ad49590\",\"type\":\"CategoricalScale\"}},\"id\":\"b93eb923-3385-4a35-b8d3-27cfb6db830e\",\"subtype\":\"Figure\",\"type\":\"Plot\"},{\"attributes\":{\"plot\":{\"id\":\"b93eb923-3385-4a35-b8d3-27cfb6db830e\",\"subtype\":\"Figure\",\"type\":\"Plot\"},\"ticker\":{\"id\":\"3e2745b1-8973-4ca2-81e8-1a2ac3832a25\",\"type\":\"BasicTicker\"}},\"id\":\"7d5451e9-9d4d-43bc-98b9-e6ac031640ba\",\"type\":\"Grid\"},{\"attributes\":{\"fill_alpha\":{\"value\":0.1},\"fill_color\":{\"value\":\"#1f77b4\"},\"height\":{\"units\":\"data\",\"value\":0.8},\"line_alpha\":{\"value\":0.1},\"line_color\":{\"value\":\"#1f77b4\"},\"width\":{\"units\":\"data\",\"value\":1.053220728751536},\"x\":{\"value\":0.526610364375768},\"y\":{\"value\":7.5}},\"id\":\"2712a24a-127c-4c2d-97f1-7b4b16a32669\",\"type\":\"Rect\"},{\"attributes\":{\"callback\":null,\"data\":{}},\"id\":\"9e202cea-1979-466d-bb4f-5b655a748c92\",\"type\":\"ColumnDataSource\"},{\"attributes\":{\"fill_color\":{\"value\":\"red\"},\"height\":{\"units\":\"data\",\"value\":0.08000000000000002},\"line_color\":{\"value\":\"red\"},\"width\":{\"units\":\"data\",\"value\":1.0107822293440538},\"x\":{\"value\":-0.5053911146720269},\"y\":{\"value\":13.5}},\"id\":\"0abdf84e-9b30-4390-af47-4cd1429a51dc\",\"type\":\"Rect\"},{\"attributes\":{\"callback\":null,\"data\":{}},\"id\":\"51d91621-2b71-4aa7-895d-0720bdb56441\",\"type\":\"ColumnDataSource\"},{\"attributes\":{\"axis_label\":\"Reform-Induced Percentage Change in After-Tax Expanded Income\",\"axis_label_text_font_size\":{\"value\":\"12pt\"},\"axis_label_text_font_style\":\"normal\",\"axis_line_color\":{\"value\":null},\"formatter\":{\"id\":\"0aacd372-bda0-4d6f-8a97-c14c07e51372\",\"type\":\"PrintfTickFormatter\"},\"major_label_text_font_size\":{\"value\":\"12pt\"},\"minor_tick_line_color\":{\"value\":null},\"plot\":{\"id\":\"b93eb923-3385-4a35-b8d3-27cfb6db830e\",\"subtype\":\"Figure\",\"type\":\"Plot\"},\"ticker\":{\"id\":\"3e2745b1-8973-4ca2-81e8-1a2ac3832a25\",\"type\":\"BasicTicker\"}},\"id\":\"0be85b84-681e-4ab4-b532-2ae4fa1c2af8\",\"type\":\"LinearAxis\"},{\"attributes\":{},\"id\":\"96af789a-d71c-4f79-a844-db431c659640\",\"type\":\"CategoricalTicker\"},{\"attributes\":{\"fill_alpha\":{\"value\":0.1},\"fill_color\":{\"value\":\"#1f77b4\"},\"height\":{\"units\":\"data\",\"value\":0.8},\"line_alpha\":{\"value\":0.1},\"line_color\":{\"value\":\"#1f77b4\"},\"width\":{\"units\":\"data\",\"value\":0.6779908133809132},\"x\":{\"value\":0.3389954066904566},\"y\":{\"value\":8.5}},\"id\":\"60554441-30f2-4d6b-a854-7f4f4f76b117\",\"type\":\"Rect\"},{\"attributes\":{},\"id\":\"badc8616-1741-4cda-b770-e4e299341785\",\"type\":\"WheelZoomTool\"},{\"attributes\":{\"fill_alpha\":{\"value\":0.1},\"fill_color\":{\"value\":\"#1f77b4\"},\"height\":{\"units\":\"data\",\"value\":0.8},\"line_alpha\":{\"value\":0.1},\"line_color\":{\"value\":\"#1f77b4\"},\"width\":{\"units\":\"data\",\"value\":1.1017802004293253},\"x\":{\"value\":0.5508901002146627},\"y\":{\"value\":3.5}},\"id\":\"8fb3d30a-240e-4bfe-a73b-f8bddb9bfa65\",\"type\":\"Rect\"},{\"attributes\":{},\"id\":\"5dbecd3e-2353-4f22-bd93-8cdf724d5b67\",\"type\":\"PanTool\"},{\"attributes\":{\"source\":{\"id\":\"b56b2ea1-d97a-4f59-989e-b8d8f7d269bd\",\"type\":\"ColumnDataSource\"}},\"id\":\"9a8803ec-7078-43e3-b732-d1e3debd2116\",\"type\":\"CDSView\"},{\"attributes\":{\"callback\":null,\"column_names\":[\"y\",\"x\"],\"data\":{\"x\":[0,0],\"y\":[0,14]}},\"id\":\"b29374a4-8a2e-4cb2-80a3-9d48ce17fdd4\",\"type\":\"ColumnDataSource\"},{\"attributes\":{\"data_source\":{\"id\":\"51d91621-2b71-4aa7-895d-0720bdb56441\",\"type\":\"ColumnDataSource\"},\"glyph\":{\"id\":\"12ff283b-1bc6-451b-af3a-161d9a21a767\",\"type\":\"Rect\"},\"hover_glyph\":null,\"muted_glyph\":null,\"nonselection_glyph\":{\"id\":\"7c30e26e-5877-4218-ae36-599f2347abe4\",\"type\":\"Rect\"},\"selection_glyph\":null,\"view\":{\"id\":\"fd04f122-cc8e-4a73-a7cc-dbd5e1cec28c\",\"type\":\"CDSView\"}},\"id\":\"ff5cfc9b-7c00-4fc1-9818-0f16c0ee9302\",\"type\":\"GlyphRenderer\"},{\"attributes\":{\"source\":{\"id\":\"dd95c4e2-54ee-493a-b2a6-598d80299569\",\"type\":\"ColumnDataSource\"}},\"id\":\"ee88a8bb-f8d6-4cf0-a1d4-0c61ad771257\",\"type\":\"CDSView\"},{\"attributes\":{\"fill_alpha\":{\"value\":0.1},\"fill_color\":{\"value\":\"#1f77b4\"},\"height\":{\"units\":\"data\",\"value\":0.4},\"line_alpha\":{\"value\":0.1},\"line_color\":{\"value\":\"#1f77b4\"},\"width\":{\"units\":\"data\",\"value\":0.32578850255753355},\"x\":{\"value\":0.16289425127876678},\"y\":{\"value\":11.5}},\"id\":\"9ead8460-67a3-481e-9eb9-ab00e174a629\",\"type\":\"Rect\"},{\"attributes\":{\"callback\":null,\"data\":{}},\"id\":\"330ee3b8-2358-45c9-8886-295da87a6873\",\"type\":\"ColumnDataSource\"},{\"attributes\":{\"source\":{\"id\":\"6022c868-d357-4ecf-8e05-2b52c89ffe08\",\"type\":\"ColumnDataSource\"}},\"id\":\"2d3be480-4ce3-4ab3-a924-5d35d4649551\",\"type\":\"CDSView\"},{\"attributes\":{},\"id\":\"5c039af1-39a1-470f-b3ae-247dd7f9925f\",\"type\":\"ResetTool\"},{\"attributes\":{\"callback\":null,\"data\":{}},\"id\":\"f8c38d1e-6d07-46c3-b3e7-f2af9a126966\",\"type\":\"ColumnDataSource\"},{\"attributes\":{\"fill_alpha\":{\"value\":0.1},\"fill_color\":{\"value\":\"#1f77b4\"},\"height\":{\"units\":\"data\",\"value\":0.8},\"line_alpha\":{\"value\":0.1},\"line_color\":{\"value\":\"#1f77b4\"},\"width\":{\"units\":\"data\",\"value\":0.1755680968180906},\"x\":{\"value\":-0.0877840484090453},\"y\":{\"value\":9.5}},\"id\":\"0a81270a-ce62-4abe-9b0b-155f0bdba3eb\",\"type\":\"Rect\"},{\"attributes\":{\"bottom_units\":\"screen\",\"fill_alpha\":{\"value\":0.5},\"fill_color\":{\"value\":\"lightgrey\"},\"left_units\":\"screen\",\"level\":\"overlay\",\"line_alpha\":{\"value\":1.0},\"line_color\":{\"value\":\"black\"},\"line_dash\":[4,4],\"line_width\":{\"value\":2},\"plot\":null,\"render_mode\":\"css\",\"right_units\":\"screen\",\"top_units\":\"screen\"},\"id\":\"aa855b65-b70c-4038-93bc-5d3f1ea3e7a6\",\"type\":\"BoxAnnotation\"},{\"attributes\":{\"data_source\":{\"id\":\"ce91ce89-2cff-446c-a3e3-7430f4121665\",\"type\":\"ColumnDataSource\"},\"glyph\":{\"id\":\"270e2712-b0db-4c35-81a1-b177006d00ac\",\"type\":\"Rect\"},\"hover_glyph\":null,\"muted_glyph\":null,\"nonselection_glyph\":{\"id\":\"8fb3d30a-240e-4bfe-a73b-f8bddb9bfa65\",\"type\":\"Rect\"},\"selection_glyph\":null,\"view\":{\"id\":\"9c5bc53c-b49e-4b94-ae15-e2237dae076a\",\"type\":\"CDSView\"}},\"id\":\"4a40db8d-082f-4476-9644-2c2008444100\",\"type\":\"GlyphRenderer\"},{\"attributes\":{\"data_source\":{\"id\":\"e86f5414-3352-41c8-94b7-d4b70ca9b44b\",\"type\":\"ColumnDataSource\"},\"glyph\":{\"id\":\"fb9f06f9-69e7-4b98-b657-5deffcdb0a50\",\"type\":\"Rect\"},\"hover_glyph\":null,\"muted_glyph\":null,\"nonselection_glyph\":{\"id\":\"9ead8460-67a3-481e-9eb9-ab00e174a629\",\"type\":\"Rect\"},\"selection_glyph\":null,\"view\":{\"id\":\"f8bbfd8c-cd7c-4cbb-aed3-6bc625515945\",\"type\":\"CDSView\"}},\"id\":\"adf470d8-c223-4f5d-95d7-cc3655f44c53\",\"type\":\"GlyphRenderer\"},{\"attributes\":{\"active_drag\":\"auto\",\"active_inspect\":\"auto\",\"active_scroll\":\"auto\",\"active_tap\":\"auto\",\"tools\":[{\"id\":\"5dbecd3e-2353-4f22-bd93-8cdf724d5b67\",\"type\":\"PanTool\"},{\"id\":\"badc8616-1741-4cda-b770-e4e299341785\",\"type\":\"WheelZoomTool\"},{\"id\":\"2a025094-8d5b-494f-81fe-87b847c2c8ba\",\"type\":\"BoxZoomTool\"},{\"id\":\"cafe23fa-a101-4e57-aa92-07a8952040f1\",\"type\":\"SaveTool\"},{\"id\":\"5c039af1-39a1-470f-b3ae-247dd7f9925f\",\"type\":\"ResetTool\"},{\"id\":\"b26c1d81-99b5-4bb5-8163-0bfd15859df2\",\"type\":\"HelpTool\"}]},\"id\":\"8f49f46d-71f8-46cd-a3f8-a3094e019b58\",\"type\":\"Toolbar\"},{\"attributes\":{\"fill_alpha\":{\"value\":0.1},\"fill_color\":{\"value\":\"#1f77b4\"},\"height\":{\"units\":\"data\",\"value\":0.8},\"line_alpha\":{\"value\":0.1},\"line_color\":{\"value\":\"#1f77b4\"},\"width\":{\"units\":\"data\",\"value\":1.4825479319283463},\"x\":{\"value\":0.7412739659641732},\"y\":{\"value\":6.5}},\"id\":\"a7b0b789-9f6f-4ebc-9329-001dff89496c\",\"type\":\"Rect\"},{\"attributes\":{\"fill_color\":{\"value\":\"blue\"},\"height\":{\"units\":\"data\",\"value\":0.8},\"line_color\":{\"value\":\"blue\"},\"width\":{\"units\":\"data\",\"value\":1.3823627837252328},\"x\":{\"value\":0.6911813918626164},\"y\":{\"value\":4.5}},\"id\":\"dc1072d0-6f58-4016-8c38-a053c6ca46da\",\"type\":\"Rect\"},{\"attributes\":{\"data_source\":{\"id\":\"b29374a4-8a2e-4cb2-80a3-9d48ce17fdd4\",\"type\":\"ColumnDataSource\"},\"glyph\":{\"id\":\"9301ae54-7d0f-4a45-9924-a21420a16c55\",\"type\":\"Line\"},\"hover_glyph\":null,\"muted_glyph\":null,\"nonselection_glyph\":{\"id\":\"b305ee84-bf93-48a9-9579-d866b12ee47c\",\"type\":\"Line\"},\"selection_glyph\":null,\"view\":{\"id\":\"6b79da70-c819-4491-85f6-c19f1dd0a41d\",\"type\":\"CDSView\"}},\"id\":\"d04af47a-b81f-4fc5-81d7-5fb94a48b40c\",\"type\":\"GlyphRenderer\"},{\"attributes\":{\"data_source\":{\"id\":\"330ee3b8-2358-45c9-8886-295da87a6873\",\"type\":\"ColumnDataSource\"},\"glyph\":{\"id\":\"ea22e71b-4ee1-4c30-9ff0-f18acb84814a\",\"type\":\"Rect\"},\"hover_glyph\":null,\"muted_glyph\":null,\"nonselection_glyph\":{\"id\":\"0a81270a-ce62-4abe-9b0b-155f0bdba3eb\",\"type\":\"Rect\"},\"selection_glyph\":null,\"view\":{\"id\":\"7d4fffaf-146c-4a66-a218-54502c68f7bd\",\"type\":\"CDSView\"}},\"id\":\"4dea286a-21b7-4d2e-88fb-d2b3d47e485f\",\"type\":\"GlyphRenderer\"},{\"attributes\":{\"axis_label\":\"Expanded Income Percentile Group\",\"axis_label_text_font_size\":{\"value\":\"12pt\"},\"axis_label_text_font_style\":\"normal\",\"axis_line_color\":{\"value\":null},\"formatter\":{\"id\":\"ca7a866a-c152-4010-a329-d40bace7bd98\",\"type\":\"CategoricalTickFormatter\"},\"major_label_text_font_size\":{\"value\":\"12pt\"},\"minor_tick_line_color\":{\"value\":null},\"plot\":{\"id\":\"b93eb923-3385-4a35-b8d3-27cfb6db830e\",\"subtype\":\"Figure\",\"type\":\"Plot\"},\"ticker\":{\"id\":\"96af789a-d71c-4f79-a844-db431c659640\",\"type\":\"CategoricalTicker\"}},\"id\":\"c0b33349-a2f2-40db-ab37-c9c589590ae2\",\"type\":\"CategoricalAxis\"},{\"attributes\":{\"callback\":null,\"data\":{}},\"id\":\"c8f11bf6-cc1e-43f7-8692-fb6803ba90af\",\"type\":\"ColumnDataSource\"},{\"attributes\":{\"fill_alpha\":{\"value\":0.1},\"fill_color\":{\"value\":\"#1f77b4\"},\"height\":{\"units\":\"data\",\"value\":0.32000000000000006},\"line_alpha\":{\"value\":0.1},\"line_color\":{\"value\":\"#1f77b4\"},\"width\":{\"units\":\"data\",\"value\":0.04848151942162815},\"x\":{\"value\":0.024240759710814075},\"y\":{\"value\":12.5}},\"id\":\"05ab60d1-ba62-4ff3-a7f5-fa913e9d873c\",\"type\":\"Rect\"},{\"attributes\":{\"data_source\":{\"id\":\"9e202cea-1979-466d-bb4f-5b655a748c92\",\"type\":\"ColumnDataSource\"},\"glyph\":{\"id\":\"ec9c7ad6-c4ef-46fc-9134-f67531267cc2\",\"type\":\"Rect\"},\"hover_glyph\":null,\"muted_glyph\":null,\"nonselection_glyph\":{\"id\":\"721388ef-7cf1-4a67-8e2b-28dcf510976f\",\"type\":\"Rect\"},\"selection_glyph\":null,\"view\":{\"id\":\"fdfcb8d4-9e3f-45b9-9386-8fabc9d7153e\",\"type\":\"CDSView\"}},\"id\":\"c46315cd-36cc-4bda-a790-3af79b6abdf3\",\"type\":\"GlyphRenderer\"},{\"attributes\":{},\"id\":\"cafe23fa-a101-4e57-aa92-07a8952040f1\",\"type\":\"SaveTool\"},{\"attributes\":{\"fill_color\":{\"value\":\"blue\"},\"height\":{\"units\":\"data\",\"value\":0.8},\"line_color\":{\"value\":\"blue\"},\"width\":{\"units\":\"data\",\"value\":1.1017802004293253},\"x\":{\"value\":0.5508901002146627},\"y\":{\"value\":3.5}},\"id\":\"270e2712-b0db-4c35-81a1-b177006d00ac\",\"type\":\"Rect\"},{\"attributes\":{\"fill_alpha\":{\"value\":0.1},\"fill_color\":{\"value\":\"#1f77b4\"},\"height\":{\"units\":\"data\",\"value\":0.8},\"line_alpha\":{\"value\":0.1},\"line_color\":{\"value\":\"#1f77b4\"},\"width\":{\"units\":\"data\",\"value\":1.3823627837252328},\"x\":{\"value\":0.6911813918626164},\"y\":{\"value\":4.5}},\"id\":\"f2a01a30-bc0f-4b10-8f37-6a3238c2045d\",\"type\":\"Rect\"},{\"attributes\":{\"source\":{\"id\":\"643fb12f-457b-4e35-9e4d-a8fad09c477d\",\"type\":\"ColumnDataSource\"}},\"id\":\"9069d358-f296-4b80-8b2d-f1d5a2989c7b\",\"type\":\"CDSView\"},{\"attributes\":{\"callback\":null,\"data\":{}},\"id\":\"b56b2ea1-d97a-4f59-989e-b8d8f7d269bd\",\"type\":\"ColumnDataSource\"},{\"attributes\":{\"line_alpha\":{\"value\":0.1},\"line_color\":{\"value\":\"#1f77b4\"},\"x\":{\"field\":\"x\"},\"y\":{\"field\":\"y\"}},\"id\":\"b305ee84-bf93-48a9-9579-d866b12ee47c\",\"type\":\"Line\"},{\"attributes\":{\"source\":{\"id\":\"51d91621-2b71-4aa7-895d-0720bdb56441\",\"type\":\"ColumnDataSource\"}},\"id\":\"fd04f122-cc8e-4a73-a7cc-dbd5e1cec28c\",\"type\":\"CDSView\"},{\"attributes\":{},\"id\":\"9b9e87a6-e5eb-4c73-8f8f-a46c9da24cb2\",\"type\":\"LinearScale\"},{\"attributes\":{\"fill_color\":{\"value\":\"blue\"},\"height\":{\"units\":\"data\",\"value\":0.8},\"line_color\":{\"value\":\"blue\"},\"width\":{\"units\":\"data\",\"value\":1.4825479319283463},\"x\":{\"value\":0.7412739659641732},\"y\":{\"value\":6.5}},\"id\":\"fd6209ca-40be-4200-bbd8-19a14b3a1f15\",\"type\":\"Rect\"},{\"attributes\":{\"fill_alpha\":{\"value\":0.1},\"fill_color\":{\"value\":\"#1f77b4\"},\"height\":{\"units\":\"data\",\"value\":0.8},\"line_alpha\":{\"value\":0.1},\"line_color\":{\"value\":\"#1f77b4\"},\"width\":{\"units\":\"data\",\"value\":0},\"x\":{\"value\":0.0},\"y\":{\"value\":10.5}},\"id\":\"7c30e26e-5877-4218-ae36-599f2347abe4\",\"type\":\"Rect\"}],\"root_ids\":[\"b93eb923-3385-4a35-b8d3-27cfb6db830e\"]},\"title\":\"Bokeh Application\",\"version\":\"0.12.10\"}};\n",
       "    var render_items = [{\"docid\":\"447b2203-2982-440d-bfb3-730554f5d0d1\",\"elementid\":\"fb4662f9-0734-4122-8bff-c0a1c99d3b19\",\"modelid\":\"b93eb923-3385-4a35-b8d3-27cfb6db830e\"}];\n",
       "\n",
       "    root.Bokeh.embed.embed_items(docs_json, render_items);\n",
       "  }\n",
       "\n",
       "  if (root.Bokeh !== undefined) {\n",
       "    embed_document(root);\n",
       "  } else {\n",
       "    var attempts = 0;\n",
       "    var timer = setInterval(function(root) {\n",
       "      if (root.Bokeh !== undefined) {\n",
       "        embed_document(root);\n",
       "        clearInterval(timer);\n",
       "      }\n",
       "      attempts++;\n",
       "      if (attempts > 100) {\n",
       "        console.log(\"Bokeh: ERROR: Unable to embed document because BokehJS library is missing\")\n",
       "        clearInterval(timer);\n",
       "      }\n",
       "    }, 10, root)\n",
       "  }\n",
       "})(window);"
      ],
      "application/vnd.bokehjs_exec.v0+json": ""
     },
     "metadata": {
      "application/vnd.bokehjs_exec.v0+json": {
       "id": "b93eb923-3385-4a35-b8d3-27cfb6db830e"
      }
     },
     "output_type": "display_data"
    }
   ],
   "source": [
    "show(fig)"
   ]
  },
  {
   "cell_type": "markdown",
   "metadata": {},
   "source": [
    "## Print tables"
   ]
  },
  {
   "cell_type": "markdown",
   "metadata": {},
   "source": [
    "CLP diagnostic table for 2018."
   ]
  },
  {
   "cell_type": "code",
   "execution_count": 15,
   "metadata": {},
   "outputs": [
    {
     "data": {
      "text/html": [
       "<div>\n",
       "<style scoped>\n",
       "    .dataframe tbody tr th:only-of-type {\n",
       "        vertical-align: middle;\n",
       "    }\n",
       "\n",
       "    .dataframe tbody tr th {\n",
       "        vertical-align: top;\n",
       "    }\n",
       "\n",
       "    .dataframe thead th {\n",
       "        text-align: right;\n",
       "    }\n",
       "</style>\n",
       "<table border=\"1\" class=\"dataframe\">\n",
       "  <thead>\n",
       "    <tr style=\"text-align: right;\">\n",
       "      <th></th>\n",
       "      <th>2018</th>\n",
       "    </tr>\n",
       "  </thead>\n",
       "  <tbody>\n",
       "    <tr>\n",
       "      <th>Returns (#m)</th>\n",
       "      <td>169.89</td>\n",
       "    </tr>\n",
       "    <tr>\n",
       "      <th>AGI ($b)</th>\n",
       "      <td>10,503.83</td>\n",
       "    </tr>\n",
       "    <tr>\n",
       "      <th>Itemizers (#m)</th>\n",
       "      <td>67.99</td>\n",
       "    </tr>\n",
       "    <tr>\n",
       "      <th>Itemized Deduction ($b)</th>\n",
       "      <td>1,500.94</td>\n",
       "    </tr>\n",
       "    <tr>\n",
       "      <th>Standard Deduction Filers (#m)</th>\n",
       "      <td>83.86</td>\n",
       "    </tr>\n",
       "    <tr>\n",
       "      <th>Standard Deduction ($b)</th>\n",
       "      <td>771.37</td>\n",
       "    </tr>\n",
       "    <tr>\n",
       "      <th>Personal Exemption ($b)</th>\n",
       "      <td>1,222.60</td>\n",
       "    </tr>\n",
       "    <tr>\n",
       "      <th>Taxable Income ($b)</th>\n",
       "      <td>7,421.92</td>\n",
       "    </tr>\n",
       "    <tr>\n",
       "      <th>Regular Tax ($b)</th>\n",
       "      <td>1,369.71</td>\n",
       "    </tr>\n",
       "    <tr>\n",
       "      <th>AMT Income ($b)</th>\n",
       "      <td>9,664.54</td>\n",
       "    </tr>\n",
       "    <tr>\n",
       "      <th>AMT Liability ($b)</th>\n",
       "      <td>18.02</td>\n",
       "    </tr>\n",
       "    <tr>\n",
       "      <th>AMT Filers (#m)</th>\n",
       "      <td>4.22</td>\n",
       "    </tr>\n",
       "    <tr>\n",
       "      <th>Tax before Credits ($b)</th>\n",
       "      <td>1,387.73</td>\n",
       "    </tr>\n",
       "    <tr>\n",
       "      <th>Refundable Credits ($b)</th>\n",
       "      <td>76.61</td>\n",
       "    </tr>\n",
       "    <tr>\n",
       "      <th>Nonrefundable Credits ($b)</th>\n",
       "      <td>32.93</td>\n",
       "    </tr>\n",
       "    <tr>\n",
       "      <th>Reform Surtaxes ($b)</th>\n",
       "      <td>0.00</td>\n",
       "    </tr>\n",
       "    <tr>\n",
       "      <th>Other Taxes ($b)</th>\n",
       "      <td>9.32</td>\n",
       "    </tr>\n",
       "    <tr>\n",
       "      <th>Ind Income Tax ($b)</th>\n",
       "      <td>1,287.51</td>\n",
       "    </tr>\n",
       "    <tr>\n",
       "      <th>Payroll Taxes ($b)</th>\n",
       "      <td>1,233.56</td>\n",
       "    </tr>\n",
       "    <tr>\n",
       "      <th>Combined Liability ($b)</th>\n",
       "      <td>2,521.07</td>\n",
       "    </tr>\n",
       "    <tr>\n",
       "      <th>With Income Tax &lt;= 0 (#m)</th>\n",
       "      <td>72.00</td>\n",
       "    </tr>\n",
       "    <tr>\n",
       "      <th>With Combined Tax &lt;= 0 (#m)</th>\n",
       "      <td>48.60</td>\n",
       "    </tr>\n",
       "  </tbody>\n",
       "</table>\n",
       "</div>"
      ],
      "text/plain": [
       "                                     2018\n",
       "Returns (#m)                       169.89\n",
       "AGI ($b)                        10,503.83\n",
       "Itemizers (#m)                      67.99\n",
       "Itemized Deduction ($b)          1,500.94\n",
       "Standard Deduction Filers (#m)      83.86\n",
       "Standard Deduction ($b)            771.37\n",
       "Personal Exemption ($b)          1,222.60\n",
       "Taxable Income ($b)              7,421.92\n",
       "Regular Tax ($b)                 1,369.71\n",
       "AMT Income ($b)                  9,664.54\n",
       "AMT Liability ($b)                  18.02\n",
       "AMT Filers (#m)                      4.22\n",
       "Tax before Credits ($b)          1,387.73\n",
       "Refundable Credits ($b)             76.61\n",
       "Nonrefundable Credits ($b)          32.93\n",
       "Reform Surtaxes ($b)                 0.00\n",
       "Other Taxes ($b)                     9.32\n",
       "Ind Income Tax ($b)              1,287.51\n",
       "Payroll Taxes ($b)               1,233.56\n",
       "Combined Liability ($b)          2,521.07\n",
       "With Income Tax <= 0 (#m)           72.00\n",
       "With Combined Tax <= 0 (#m)         48.60"
      ]
     },
     "execution_count": 15,
     "metadata": {},
     "output_type": "execute_result"
    }
   ],
   "source": [
    "clp_diagnostic_table"
   ]
  },
  {
   "cell_type": "markdown",
   "metadata": {},
   "source": [
    "REF diagnostic table for 2018."
   ]
  },
  {
   "cell_type": "code",
   "execution_count": 16,
   "metadata": {},
   "outputs": [
    {
     "data": {
      "text/html": [
       "<div>\n",
       "<style scoped>\n",
       "    .dataframe tbody tr th:only-of-type {\n",
       "        vertical-align: middle;\n",
       "    }\n",
       "\n",
       "    .dataframe tbody tr th {\n",
       "        vertical-align: top;\n",
       "    }\n",
       "\n",
       "    .dataframe thead th {\n",
       "        text-align: right;\n",
       "    }\n",
       "</style>\n",
       "<table border=\"1\" class=\"dataframe\">\n",
       "  <thead>\n",
       "    <tr style=\"text-align: right;\">\n",
       "      <th></th>\n",
       "      <th>2018</th>\n",
       "    </tr>\n",
       "  </thead>\n",
       "  <tbody>\n",
       "    <tr>\n",
       "      <th>Returns (#m)</th>\n",
       "      <td>169.89</td>\n",
       "    </tr>\n",
       "    <tr>\n",
       "      <th>AGI ($b)</th>\n",
       "      <td>10,503.83</td>\n",
       "    </tr>\n",
       "    <tr>\n",
       "      <th>Itemizers (#m)</th>\n",
       "      <td>34.58</td>\n",
       "    </tr>\n",
       "    <tr>\n",
       "      <th>Itemized Deduction ($b)</th>\n",
       "      <td>1,010.91</td>\n",
       "    </tr>\n",
       "    <tr>\n",
       "      <th>Standard Deduction Filers (#m)</th>\n",
       "      <td>117.28</td>\n",
       "    </tr>\n",
       "    <tr>\n",
       "      <th>Standard Deduction ($b)</th>\n",
       "      <td>1,958.91</td>\n",
       "    </tr>\n",
       "    <tr>\n",
       "      <th>Personal Exemption ($b)</th>\n",
       "      <td>1,222.60</td>\n",
       "    </tr>\n",
       "    <tr>\n",
       "      <th>Taxable Income ($b)</th>\n",
       "      <td>6,993.08</td>\n",
       "    </tr>\n",
       "    <tr>\n",
       "      <th>Regular Tax ($b)</th>\n",
       "      <td>1,317.86</td>\n",
       "    </tr>\n",
       "    <tr>\n",
       "      <th>AMT Income ($b)</th>\n",
       "      <td>9,945.40</td>\n",
       "    </tr>\n",
       "    <tr>\n",
       "      <th>AMT Liability ($b)</th>\n",
       "      <td>16.87</td>\n",
       "    </tr>\n",
       "    <tr>\n",
       "      <th>AMT Filers (#m)</th>\n",
       "      <td>4.40</td>\n",
       "    </tr>\n",
       "    <tr>\n",
       "      <th>Tax before Credits ($b)</th>\n",
       "      <td>1,334.73</td>\n",
       "    </tr>\n",
       "    <tr>\n",
       "      <th>Refundable Credits ($b)</th>\n",
       "      <td>81.41</td>\n",
       "    </tr>\n",
       "    <tr>\n",
       "      <th>Nonrefundable Credits ($b)</th>\n",
       "      <td>27.99</td>\n",
       "    </tr>\n",
       "    <tr>\n",
       "      <th>Reform Surtaxes ($b)</th>\n",
       "      <td>0.00</td>\n",
       "    </tr>\n",
       "    <tr>\n",
       "      <th>Other Taxes ($b)</th>\n",
       "      <td>9.32</td>\n",
       "    </tr>\n",
       "    <tr>\n",
       "      <th>Ind Income Tax ($b)</th>\n",
       "      <td>1,234.66</td>\n",
       "    </tr>\n",
       "    <tr>\n",
       "      <th>Payroll Taxes ($b)</th>\n",
       "      <td>1,233.56</td>\n",
       "    </tr>\n",
       "    <tr>\n",
       "      <th>Combined Liability ($b)</th>\n",
       "      <td>2,468.22</td>\n",
       "    </tr>\n",
       "    <tr>\n",
       "      <th>With Income Tax &lt;= 0 (#m)</th>\n",
       "      <td>79.01</td>\n",
       "    </tr>\n",
       "    <tr>\n",
       "      <th>With Combined Tax &lt;= 0 (#m)</th>\n",
       "      <td>49.54</td>\n",
       "    </tr>\n",
       "  </tbody>\n",
       "</table>\n",
       "</div>"
      ],
      "text/plain": [
       "                                     2018\n",
       "Returns (#m)                       169.89\n",
       "AGI ($b)                        10,503.83\n",
       "Itemizers (#m)                      34.58\n",
       "Itemized Deduction ($b)          1,010.91\n",
       "Standard Deduction Filers (#m)     117.28\n",
       "Standard Deduction ($b)          1,958.91\n",
       "Personal Exemption ($b)          1,222.60\n",
       "Taxable Income ($b)              6,993.08\n",
       "Regular Tax ($b)                 1,317.86\n",
       "AMT Income ($b)                  9,945.40\n",
       "AMT Liability ($b)                  16.87\n",
       "AMT Filers (#m)                      4.40\n",
       "Tax before Credits ($b)          1,334.73\n",
       "Refundable Credits ($b)             81.41\n",
       "Nonrefundable Credits ($b)          27.99\n",
       "Reform Surtaxes ($b)                 0.00\n",
       "Other Taxes ($b)                     9.32\n",
       "Ind Income Tax ($b)              1,234.66\n",
       "Payroll Taxes ($b)               1,233.56\n",
       "Combined Liability ($b)          2,468.22\n",
       "With Income Tax <= 0 (#m)           79.01\n",
       "With Combined Tax <= 0 (#m)         49.54"
      ]
     },
     "execution_count": 16,
     "metadata": {},
     "output_type": "execute_result"
    }
   ],
   "source": [
    "ref_diagnostic_table"
   ]
  },
  {
   "cell_type": "markdown",
   "metadata": {},
   "source": [
    "Extract of 2018 distribution tables by baseline expanded-income decile.\n",
    "\n",
    "*Note: deciles are numbered 0-9 with top decile divided into bottom 5%, \n",
    "next 4%, and top 1%, in the lines numbered 11-13, respectively.*"
   ]
  },
  {
   "cell_type": "code",
   "execution_count": 17,
   "metadata": {},
   "outputs": [
    {
     "data": {
      "text/html": [
       "<div>\n",
       "<style scoped>\n",
       "    .dataframe tbody tr th:only-of-type {\n",
       "        vertical-align: middle;\n",
       "    }\n",
       "\n",
       "    .dataframe tbody tr th {\n",
       "        vertical-align: top;\n",
       "    }\n",
       "\n",
       "    .dataframe thead th {\n",
       "        text-align: right;\n",
       "    }\n",
       "</style>\n",
       "<table border=\"1\" class=\"dataframe\">\n",
       "  <thead>\n",
       "    <tr style=\"text-align: right;\">\n",
       "      <th></th>\n",
       "      <th>funits(#m)</th>\n",
       "      <th>itax1($b)</th>\n",
       "      <th>itax2($b)</th>\n",
       "      <th>aftertax_inc1($b)</th>\n",
       "      <th>aftertax_inc2($b)</th>\n",
       "    </tr>\n",
       "  </thead>\n",
       "  <tbody>\n",
       "    <tr>\n",
       "      <th>0</th>\n",
       "      <td>16.99</td>\n",
       "      <td>-1.65</td>\n",
       "      <td>-1.65</td>\n",
       "      <td>-5.30</td>\n",
       "      <td>-5.31</td>\n",
       "    </tr>\n",
       "    <tr>\n",
       "      <th>1</th>\n",
       "      <td>16.99</td>\n",
       "      <td>-12.65</td>\n",
       "      <td>-12.82</td>\n",
       "      <td>168.67</td>\n",
       "      <td>168.85</td>\n",
       "    </tr>\n",
       "    <tr>\n",
       "      <th>2</th>\n",
       "      <td>16.99</td>\n",
       "      <td>-15.20</td>\n",
       "      <td>-17.23</td>\n",
       "      <td>287.66</td>\n",
       "      <td>289.69</td>\n",
       "    </tr>\n",
       "    <tr>\n",
       "      <th>3</th>\n",
       "      <td>16.99</td>\n",
       "      <td>-12.74</td>\n",
       "      <td>-17.18</td>\n",
       "      <td>402.40</td>\n",
       "      <td>406.84</td>\n",
       "    </tr>\n",
       "    <tr>\n",
       "      <th>4</th>\n",
       "      <td>16.99</td>\n",
       "      <td>2.69</td>\n",
       "      <td>-4.50</td>\n",
       "      <td>520.45</td>\n",
       "      <td>527.65</td>\n",
       "    </tr>\n",
       "    <tr>\n",
       "      <th>5</th>\n",
       "      <td>16.99</td>\n",
       "      <td>27.14</td>\n",
       "      <td>17.77</td>\n",
       "      <td>665.73</td>\n",
       "      <td>675.10</td>\n",
       "    </tr>\n",
       "    <tr>\n",
       "      <th>6</th>\n",
       "      <td>16.99</td>\n",
       "      <td>63.42</td>\n",
       "      <td>50.65</td>\n",
       "      <td>861.52</td>\n",
       "      <td>874.29</td>\n",
       "    </tr>\n",
       "    <tr>\n",
       "      <th>7</th>\n",
       "      <td>16.99</td>\n",
       "      <td>119.61</td>\n",
       "      <td>107.46</td>\n",
       "      <td>1,153.42</td>\n",
       "      <td>1,165.57</td>\n",
       "    </tr>\n",
       "    <tr>\n",
       "      <th>8</th>\n",
       "      <td>16.99</td>\n",
       "      <td>212.26</td>\n",
       "      <td>201.22</td>\n",
       "      <td>1,629.28</td>\n",
       "      <td>1,640.32</td>\n",
       "    </tr>\n",
       "    <tr>\n",
       "      <th>9</th>\n",
       "      <td>16.99</td>\n",
       "      <td>904.62</td>\n",
       "      <td>910.94</td>\n",
       "      <td>3,599.33</td>\n",
       "      <td>3,593.01</td>\n",
       "    </tr>\n",
       "    <tr>\n",
       "      <th>10</th>\n",
       "      <td>169.89</td>\n",
       "      <td>1,287.51</td>\n",
       "      <td>1,234.66</td>\n",
       "      <td>9,283.16</td>\n",
       "      <td>9,336.02</td>\n",
       "    </tr>\n",
       "    <tr>\n",
       "      <th>11</th>\n",
       "      <td>8.49</td>\n",
       "      <td>200.80</td>\n",
       "      <td>197.05</td>\n",
       "      <td>1,150.22</td>\n",
       "      <td>1,153.97</td>\n",
       "    </tr>\n",
       "    <tr>\n",
       "      <th>12</th>\n",
       "      <td>6.79</td>\n",
       "      <td>318.15</td>\n",
       "      <td>317.48</td>\n",
       "      <td>1,386.68</td>\n",
       "      <td>1,387.35</td>\n",
       "    </tr>\n",
       "    <tr>\n",
       "      <th>13</th>\n",
       "      <td>1.70</td>\n",
       "      <td>385.67</td>\n",
       "      <td>396.41</td>\n",
       "      <td>1,062.43</td>\n",
       "      <td>1,051.69</td>\n",
       "    </tr>\n",
       "  </tbody>\n",
       "</table>\n",
       "</div>"
      ],
      "text/plain": [
       "    funits(#m)  itax1($b)  itax2($b)  aftertax_inc1($b)  aftertax_inc2($b)\n",
       "0        16.99      -1.65      -1.65              -5.30              -5.31\n",
       "1        16.99     -12.65     -12.82             168.67             168.85\n",
       "2        16.99     -15.20     -17.23             287.66             289.69\n",
       "3        16.99     -12.74     -17.18             402.40             406.84\n",
       "4        16.99       2.69      -4.50             520.45             527.65\n",
       "5        16.99      27.14      17.77             665.73             675.10\n",
       "6        16.99      63.42      50.65             861.52             874.29\n",
       "7        16.99     119.61     107.46           1,153.42           1,165.57\n",
       "8        16.99     212.26     201.22           1,629.28           1,640.32\n",
       "9        16.99     904.62     910.94           3,599.33           3,593.01\n",
       "10      169.89   1,287.51   1,234.66           9,283.16           9,336.02\n",
       "11        8.49     200.80     197.05           1,150.22           1,153.97\n",
       "12        6.79     318.15     317.48           1,386.68           1,387.35\n",
       "13        1.70     385.67     396.41           1,062.43           1,051.69"
      ]
     },
     "execution_count": 17,
     "metadata": {},
     "output_type": "execute_result"
    }
   ],
   "source": [
    "dist_extract"
   ]
  },
  {
   "cell_type": "markdown",
   "metadata": {},
   "source": [
    "Extract of 2018 income-tax difference table by expanded-income decile."
   ]
  },
  {
   "cell_type": "code",
   "execution_count": 18,
   "metadata": {},
   "outputs": [
    {
     "data": {
      "text/html": [
       "<div>\n",
       "<style scoped>\n",
       "    .dataframe tbody tr th:only-of-type {\n",
       "        vertical-align: middle;\n",
       "    }\n",
       "\n",
       "    .dataframe tbody tr th {\n",
       "        vertical-align: top;\n",
       "    }\n",
       "\n",
       "    .dataframe thead th {\n",
       "        text-align: right;\n",
       "    }\n",
       "</style>\n",
       "<table border=\"1\" class=\"dataframe\">\n",
       "  <thead>\n",
       "    <tr style=\"text-align: right;\">\n",
       "      <th></th>\n",
       "      <th>funits(#m)</th>\n",
       "      <th>agg_diff($b)</th>\n",
       "      <th>mean_diff($)</th>\n",
       "      <th>aftertaxinc_diff(%)</th>\n",
       "    </tr>\n",
       "  </thead>\n",
       "  <tbody>\n",
       "    <tr>\n",
       "      <th>0</th>\n",
       "      <td>16.99</td>\n",
       "      <td>0.00</td>\n",
       "      <td>0.27</td>\n",
       "      <td>0.09</td>\n",
       "    </tr>\n",
       "    <tr>\n",
       "      <th>1</th>\n",
       "      <td>16.99</td>\n",
       "      <td>-0.17</td>\n",
       "      <td>-10.24</td>\n",
       "      <td>0.10</td>\n",
       "    </tr>\n",
       "    <tr>\n",
       "      <th>2</th>\n",
       "      <td>16.99</td>\n",
       "      <td>-2.03</td>\n",
       "      <td>-119.71</td>\n",
       "      <td>0.71</td>\n",
       "    </tr>\n",
       "    <tr>\n",
       "      <th>3</th>\n",
       "      <td>16.99</td>\n",
       "      <td>-4.43</td>\n",
       "      <td>-260.96</td>\n",
       "      <td>1.10</td>\n",
       "    </tr>\n",
       "    <tr>\n",
       "      <th>4</th>\n",
       "      <td>16.99</td>\n",
       "      <td>-7.19</td>\n",
       "      <td>-423.46</td>\n",
       "      <td>1.38</td>\n",
       "    </tr>\n",
       "    <tr>\n",
       "      <th>5</th>\n",
       "      <td>16.99</td>\n",
       "      <td>-9.37</td>\n",
       "      <td>-551.70</td>\n",
       "      <td>1.41</td>\n",
       "    </tr>\n",
       "    <tr>\n",
       "      <th>6</th>\n",
       "      <td>16.99</td>\n",
       "      <td>-12.77</td>\n",
       "      <td>-751.77</td>\n",
       "      <td>1.48</td>\n",
       "    </tr>\n",
       "    <tr>\n",
       "      <th>7</th>\n",
       "      <td>16.99</td>\n",
       "      <td>-12.15</td>\n",
       "      <td>-715.03</td>\n",
       "      <td>1.05</td>\n",
       "    </tr>\n",
       "    <tr>\n",
       "      <th>8</th>\n",
       "      <td>16.99</td>\n",
       "      <td>-11.05</td>\n",
       "      <td>-650.18</td>\n",
       "      <td>0.68</td>\n",
       "    </tr>\n",
       "    <tr>\n",
       "      <th>9</th>\n",
       "      <td>16.99</td>\n",
       "      <td>6.32</td>\n",
       "      <td>371.95</td>\n",
       "      <td>-0.18</td>\n",
       "    </tr>\n",
       "    <tr>\n",
       "      <th>10</th>\n",
       "      <td>169.89</td>\n",
       "      <td>-52.85</td>\n",
       "      <td>-311.09</td>\n",
       "      <td>0.57</td>\n",
       "    </tr>\n",
       "    <tr>\n",
       "      <th>11</th>\n",
       "      <td>8.49</td>\n",
       "      <td>-3.75</td>\n",
       "      <td>-441.16</td>\n",
       "      <td>0.33</td>\n",
       "    </tr>\n",
       "    <tr>\n",
       "      <th>12</th>\n",
       "      <td>6.79</td>\n",
       "      <td>-0.67</td>\n",
       "      <td>-98.94</td>\n",
       "      <td>0.05</td>\n",
       "    </tr>\n",
       "    <tr>\n",
       "      <th>13</th>\n",
       "      <td>1.70</td>\n",
       "      <td>10.74</td>\n",
       "      <td>6,315.38</td>\n",
       "      <td>-1.01</td>\n",
       "    </tr>\n",
       "  </tbody>\n",
       "</table>\n",
       "</div>"
      ],
      "text/plain": [
       "    funits(#m)  agg_diff($b)  mean_diff($)  aftertaxinc_diff(%)\n",
       "0        16.99          0.00          0.27                 0.09\n",
       "1        16.99         -0.17        -10.24                 0.10\n",
       "2        16.99         -2.03       -119.71                 0.71\n",
       "3        16.99         -4.43       -260.96                 1.10\n",
       "4        16.99         -7.19       -423.46                 1.38\n",
       "5        16.99         -9.37       -551.70                 1.41\n",
       "6        16.99        -12.77       -751.77                 1.48\n",
       "7        16.99        -12.15       -715.03                 1.05\n",
       "8        16.99        -11.05       -650.18                 0.68\n",
       "9        16.99          6.32        371.95                -0.18\n",
       "10      169.89        -52.85       -311.09                 0.57\n",
       "11        8.49         -3.75       -441.16                 0.33\n",
       "12        6.79         -0.67        -98.94                 0.05\n",
       "13        1.70         10.74      6,315.38                -1.01"
      ]
     },
     "execution_count": 18,
     "metadata": {},
     "output_type": "execute_result"
    }
   ],
   "source": [
    "diff_extract"
   ]
  }
 ],
 "metadata": {
  "kernelspec": {
   "display_name": "Python 2",
   "language": "python",
   "name": "python2"
  },
  "language_info": {
   "codemirror_mode": {
    "name": "ipython",
    "version": 2
   },
   "file_extension": ".py",
   "mimetype": "text/x-python",
   "name": "python",
   "nbconvert_exporter": "python",
   "pygments_lexer": "ipython2",
   "version": "2.7.14"
  }
 },
 "nbformat": 4,
 "nbformat_minor": 2
}
