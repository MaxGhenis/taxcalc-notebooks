{
 "cells": [
  {
   "cell_type": "markdown",
   "metadata": {},
   "source": [
    "# Basic Recipe: Static Analysis of a Simple Reform\n",
    "\n",
    "This is the recipe you should follow first.  Mastering this recipe is a prerequisite for all the other recipes in this cookbook.\n",
    "\n",
    "**Ingredients**\n",
    "\n",
    "[Policy reform](http://open-source-economics.github.io/Tax-Calculator/reformA.json) in the `ingredients/reformA.json` file.\n",
    "\n",
    "*When following the recipe as shown below, you will get several instances \n",
    "of the same **ignored** error message from deep inside the Pandas\n",
    "library that is being used by Tax-Calculator.  After conferring with\n",
    "the Pandas developers, our expectation is these error messages will go\n",
    "away when we upgrade to Pandas version 0.22.0, which is scheduled to\n",
    "be released in January 2018, and which fixes a bug in the Pandas\n",
    "library.  Meanwhile, the error messages are annoying but harmless.*"
   ]
  },
  {
   "cell_type": "markdown",
   "metadata": {},
   "source": [
    "## Imports"
   ]
  },
  {
   "cell_type": "code",
   "execution_count": 1,
   "metadata": {
    "collapsed": true
   },
   "outputs": [],
   "source": [
    "from __future__ import print_function  # Necessary only if using Python 2.7.\n",
    "from taxcalc import *\n",
    "from bokeh.io import show, output_notebook"
   ]
  },
  {
   "cell_type": "markdown",
   "metadata": {},
   "source": [
    "## Setup\n",
    "\n",
    "Use publicly-available CPS input file.\n",
    "\n",
    "NOTE: if you have access to the restricted-use IRS-SOI PUF-based input file\n",
    "and you have that file (named 'puf.csv') located in the directory\n",
    "where this script is located, then you can substitute the following\n",
    "statement for the prior statement:\n",
    "\n",
    "`recs = Records()`"
   ]
  },
  {
   "cell_type": "code",
   "execution_count": 2,
   "metadata": {
    "collapsed": true
   },
   "outputs": [],
   "source": [
    "recs = Records.cps_constructor()"
   ]
  },
  {
   "cell_type": "markdown",
   "metadata": {},
   "source": [
    "Specify `Calculator` object for static analysis of current-law policy."
   ]
  },
  {
   "cell_type": "code",
   "execution_count": 3,
   "metadata": {},
   "outputs": [
    {
     "name": "stdout",
     "output_type": "stream",
     "text": [
      "You loaded data for 2014.\n",
      "Tax-Calculator startup automatically extrapolated your data to 2014.\n"
     ]
    }
   ],
   "source": [
    "pol = Policy()\n",
    "calc1 = Calculator(policy=pol, records=recs)"
   ]
  },
  {
   "cell_type": "markdown",
   "metadata": {},
   "source": [
    "NOTE: `calc1` now contains a PRIVATE COPY of `pol` and a PRIVATE COPY of `recs`,\n",
    "so we can continue to use `pol` and `recs` in this script without any\n",
    "concern about side effects from `Calculator` method calls on `calc1`.\n",
    "\n",
    "Calculate aggregate current-law income tax liabilities for 2018."
   ]
  },
  {
   "cell_type": "code",
   "execution_count": 4,
   "metadata": {
    "collapsed": true
   },
   "outputs": [],
   "source": [
    "calc1.advance_to_year(2018)\n",
    "calc1.calc_all()\n",
    "itax_rev1 = calc1.weighted_total('iitax')"
   ]
  },
  {
   "cell_type": "markdown",
   "metadata": {},
   "source": [
    "Read JSON reform file and use (the default) static analysis assumptions.\n",
    "\n",
    "*Requires `reformA.json` to have been downloaded and put in `ingredients` folder.*"
   ]
  },
  {
   "cell_type": "code",
   "execution_count": 5,
   "metadata": {
    "collapsed": true
   },
   "outputs": [],
   "source": [
    "reform_filename = './ingredients/reformA.json'\n",
    "params = Calculator.read_json_param_objects(reform=reform_filename,\n",
    "                                            assump=None)"
   ]
  },
  {
   "cell_type": "markdown",
   "metadata": {},
   "source": [
    "Print reform documentation."
   ]
  },
  {
   "cell_type": "code",
   "execution_count": 6,
   "metadata": {},
   "outputs": [
    {
     "name": "stdout",
     "output_type": "stream",
     "text": [
      "REFORM DOCUMENTATION\n",
      "Baseline Growth-Difference Assumption Values by Year:\n",
      "none: using default baseline growth assumptions\n",
      "Policy Reform Parameter Values by Year:\n",
      "2018:\n",
      " _II_rt5 : 0.35\n",
      "  name: Personal income (regular/non-AMT/non-pass-through) tax rate 5\n",
      "  desc: The third highest tax rate, applied to the portion of taxable income\n",
      "        below tax bracket 5 and above tax bracket 4.\n",
      "  baseline_value: 0.33\n",
      " _II_rt6 : 0.37\n",
      "  name: Personal income (regular/non-AMT/non-pass-through) tax rate 6\n",
      "  desc: The second higher tax rate, applied to the portion of taxable income\n",
      "        below tax bracket 6 and above tax bracket 5.\n",
      "  baseline_value: 0.35\n",
      " _II_rt7 : 0.42\n",
      "  name: Personal income (regular/non-AMT/non-pass-through) tax rate 7\n",
      "  desc: The tax rate applied to the portion of taxable income below tax\n",
      "        bracket 7 and above tax bracket 6.\n",
      "  baseline_value: 0.396\n",
      " _PT_rt5 : 0.35\n",
      "  name: Pass-through income tax rate 5\n",
      "  desc: The third highest tax rate, applied to the portion of income from sole\n",
      "        proprietorships, partnerships and S corporations below tax bracket 5\n",
      "        and above tax bracket 4.\n",
      "  baseline_value: 0.33\n",
      " _PT_rt6 : 0.37\n",
      "  name: Pass-through income tax rate 6\n",
      "  desc: The second higher tax rate, applied to the portion of income from sole\n",
      "        proprietorships, partnerships and S corporations below tax bracket 6\n",
      "        and above tax bracket 5.\n",
      "  baseline_value: 0.35\n",
      " _PT_rt7 : 0.42\n",
      "  name: Pass-through income tax rate 7\n",
      "  desc: The highest tax rate, applied to the portion of income from sole\n",
      "        proprietorships, partnerships and S corporations below tax bracket 7\n",
      "        and above tax bracket 6.\n",
      "  baseline_value: 0.396\n",
      " _STD : [12000, 24000, 12000, 18000, 24000]\n",
      "        ['single', 'joint', 'separate', 'headhousehold', 'widow']\n",
      "  name: Standard deduction amount\n",
      "  desc: Amount filing unit can use as a standard deduction.\n",
      "  baseline_value: [6492.88, 12985.75, 6492.88, 9560.38, 12985.75]\n",
      " _STD_Aged : [0, 0, 0, 0, 0]\n",
      "             ['single', 'joint', 'separate', 'headhousehold', 'widow']\n",
      "  name: Additional standard deduction for blind and aged\n",
      "  desc: To get the standard deduction for aged or blind individuals, taxpayers\n",
      "        need to add this value to regular standard deduction.\n",
      "  baseline_value: [1584.88, 1278.13, 1278.13, 1584.88, 1584.88]\n",
      " _STD_Dep : 0\n",
      "  name: Standard deduction for dependents\n",
      "  desc: This is the maximum standard deduction for dependents.\n",
      "  baseline_value: 1073.63\n",
      "\n"
     ]
    }
   ],
   "source": [
    "print(Calculator.reform_documentation(params))"
   ]
  },
  {
   "cell_type": "markdown",
   "metadata": {},
   "source": [
    "Implement reform and check for reform error messages."
   ]
  },
  {
   "cell_type": "code",
   "execution_count": 7,
   "metadata": {
    "collapsed": true
   },
   "outputs": [],
   "source": [
    "pol.implement_reform(params['policy'])\n",
    "if pol.reform_errors:\n",
    "    print(pol.reform_errors)\n",
    "    exit(1)"
   ]
  },
  {
   "cell_type": "markdown",
   "metadata": {},
   "source": [
    "## Calculate"
   ]
  },
  {
   "cell_type": "markdown",
   "metadata": {},
   "source": [
    "Specify Calculator object for static analysis of reform policy."
   ]
  },
  {
   "cell_type": "code",
   "execution_count": 8,
   "metadata": {},
   "outputs": [
    {
     "name": "stdout",
     "output_type": "stream",
     "text": [
      "You loaded data for 2014.\n",
      "Tax-Calculator startup automatically extrapolated your data to 2014.\n"
     ]
    }
   ],
   "source": [
    "calc2 = Calculator(policy=pol, records=recs)"
   ]
  },
  {
   "cell_type": "markdown",
   "metadata": {},
   "source": [
    "Calculate reform income tax liabilities for 2018."
   ]
  },
  {
   "cell_type": "code",
   "execution_count": 9,
   "metadata": {
    "collapsed": true
   },
   "outputs": [],
   "source": [
    "calc2.advance_to_year(2018)\n",
    "calc2.calc_all()\n",
    "itax_rev2 = calc2.weighted_total('iitax')"
   ]
  },
  {
   "cell_type": "markdown",
   "metadata": {},
   "source": [
    "## Results"
   ]
  },
  {
   "cell_type": "markdown",
   "metadata": {},
   "source": [
    "Print total revenue estimates for 2018.\n",
    "\n",
    "*Estimates in billons of dollars rounded to nearest hundredth of a billion.*"
   ]
  },
  {
   "cell_type": "code",
   "execution_count": 10,
   "metadata": {},
   "outputs": [
    {
     "name": "stdout",
     "output_type": "stream",
     "text": [
      "2018_CLP_itax_rev($B)= 1287.51\n",
      "2018_REF_itax_rev($B)= 1234.66\n"
     ]
    }
   ],
   "source": [
    "print('2018_CLP_itax_rev($B)= {:.2f}'.format(itax_rev1 * 1e-9))\n",
    "print('2018_REF_itax_rev($B)= {:.2f}'.format(itax_rev2 * 1e-9))"
   ]
  },
  {
   "cell_type": "markdown",
   "metadata": {},
   "source": [
    "Generate several other standard results tables."
   ]
  },
  {
   "cell_type": "code",
   "execution_count": 11,
   "metadata": {},
   "outputs": [
    {
     "ename": "ValueError",
     "evalue": "Buffer dtype mismatch, expected 'Python object' but got 'long'",
     "output_type": "error",
     "traceback": [
      "\u001b[0;31m---------------------------------------------------------------------\u001b[0m",
      "\u001b[0;31mValueError\u001b[0m                          Traceback (most recent call last)",
      "\u001b[0;31mValueError\u001b[0m: Buffer dtype mismatch, expected 'Python object' but got 'long'"
     ]
    },
    {
     "name": "stderr",
     "output_type": "stream",
     "text": [
      "Exception ValueError: \"Buffer dtype mismatch, expected 'Python object' but got 'long'\" in 'pandas._libs.lib.is_bool_array' ignored\n"
     ]
    },
    {
     "ename": "ValueError",
     "evalue": "Buffer dtype mismatch, expected 'Python object' but got 'long'",
     "output_type": "error",
     "traceback": [
      "\u001b[0;31m---------------------------------------------------------------------\u001b[0m",
      "\u001b[0;31mValueError\u001b[0m                          Traceback (most recent call last)",
      "\u001b[0;31mValueError\u001b[0m: Buffer dtype mismatch, expected 'Python object' but got 'long'"
     ]
    },
    {
     "name": "stderr",
     "output_type": "stream",
     "text": [
      "Exception ValueError: \"Buffer dtype mismatch, expected 'Python object' but got 'long'\" in 'pandas._libs.lib.is_bool_array' ignored\n"
     ]
    },
    {
     "ename": "ValueError",
     "evalue": "Buffer dtype mismatch, expected 'Python object' but got 'long'",
     "output_type": "error",
     "traceback": [
      "\u001b[0;31m---------------------------------------------------------------------\u001b[0m",
      "\u001b[0;31mValueError\u001b[0m                          Traceback (most recent call last)",
      "\u001b[0;31mValueError\u001b[0m: Buffer dtype mismatch, expected 'Python object' but got 'long'"
     ]
    },
    {
     "name": "stderr",
     "output_type": "stream",
     "text": [
      "Exception ValueError: \"Buffer dtype mismatch, expected 'Python object' but got 'long'\" in 'pandas._libs.lib.is_bool_array' ignored\n"
     ]
    }
   ],
   "source": [
    "# Aggregate diagnostic tables for 2018.\n",
    "clp_diagnostic_table = calc1.diagnostic_table(1)\n",
    "ref_diagnostic_table = calc2.diagnostic_table(1)\n",
    "\n",
    "# Income-tax distribution for 2018 with CLP and REF results side-by-side.\n",
    "dist_table1, dist_table2 = calc1.distribution_tables(calc2)\n",
    "assert isinstance(dist_table1, pd.DataFrame)\n",
    "assert isinstance(dist_table2, pd.DataFrame)\n",
    "dist_extract = pd.DataFrame()\n",
    "dist_extract['funits(#m)'] = dist_table1['s006'] * 1e-6\n",
    "dist_extract['itax1($b)'] = dist_table1['iitax'] * 1e-9\n",
    "dist_extract['itax2($b)'] = dist_table2['iitax'] * 1e-9\n",
    "dist_extract['aftertax_inc1($b)'] = dist_table1['aftertax_income'] * 1e-9\n",
    "dist_extract['aftertax_inc2($b)'] = dist_table2['aftertax_income'] * 1e-9\n",
    "\n",
    "# Income-tax difference table by expanded-income decile for 2018.\n",
    "diff_table = calc1.difference_table(calc2, tax_to_diff='iitax')\n",
    "assert isinstance(diff_table, pd.DataFrame)\n",
    "diff_extract = pd.DataFrame()\n",
    "dif_colnames = ['count', 'tot_change', 'mean',\n",
    "                'pc_aftertaxinc']\n",
    "ext_colnames = ['funits(#m)', 'agg_diff($b)', 'mean_diff($)',\n",
    "                'aftertaxinc_diff(%)']\n",
    "scaling_factors = [1e-6, 1e-9, 1e0, 1e0, 1e0]\n",
    "for dname, ename, sfactor in zip(dif_colnames, ext_colnames, scaling_factors):\n",
    "    diff_extract[ename] = diff_table[dname] * sfactor"
   ]
  },
  {
   "cell_type": "markdown",
   "metadata": {},
   "source": [
    "## Plotting\n",
    "\n",
    "Generate a decile graph and display it using Bokeh."
   ]
  },
  {
   "cell_type": "code",
   "execution_count": 12,
   "metadata": {},
   "outputs": [
    {
     "ename": "ValueError",
     "evalue": "Buffer dtype mismatch, expected 'Python object' but got 'long'",
     "output_type": "error",
     "traceback": [
      "\u001b[0;31m---------------------------------------------------------------------\u001b[0m",
      "\u001b[0;31mValueError\u001b[0m                          Traceback (most recent call last)",
      "\u001b[0;31mValueError\u001b[0m: Buffer dtype mismatch, expected 'Python object' but got 'long'"
     ]
    },
    {
     "name": "stderr",
     "output_type": "stream",
     "text": [
      "Exception ValueError: \"Buffer dtype mismatch, expected 'Python object' but got 'long'\" in 'pandas._libs.lib.is_bool_array' ignored\n"
     ]
    }
   ],
   "source": [
    "fig = calc1.decile_graph(calc2)"
   ]
  },
  {
   "cell_type": "code",
   "execution_count": 13,
   "metadata": {},
   "outputs": [
    {
     "data": {
      "text/html": [
       "\n",
       "    <div class=\"bk-root\">\n",
       "        <a href=\"https://bokeh.pydata.org\" target=\"_blank\" class=\"bk-logo bk-logo-small bk-logo-notebook\"></a>\n",
       "        <span id=\"c4b9e718-d574-4c26-bfb9-c50080431573\">Loading BokehJS ...</span>\n",
       "    </div>"
      ]
     },
     "metadata": {},
     "output_type": "display_data"
    },
    {
     "data": {
      "application/javascript": [
       "\n",
       "(function(root) {\n",
       "  function now() {\n",
       "    return new Date();\n",
       "  }\n",
       "\n",
       "  var force = true;\n",
       "\n",
       "  if (typeof (root._bokeh_onload_callbacks) === \"undefined\" || force === true) {\n",
       "    root._bokeh_onload_callbacks = [];\n",
       "    root._bokeh_is_loading = undefined;\n",
       "  }\n",
       "\n",
       "  var JS_MIME_TYPE = 'application/javascript';\n",
       "  var HTML_MIME_TYPE = 'text/html';\n",
       "  var EXEC_MIME_TYPE = 'application/vnd.bokehjs_exec.v0+json';\n",
       "  var CLASS_NAME = 'output_bokeh rendered_html';\n",
       "\n",
       "  /**\n",
       "   * Render data to the DOM node\n",
       "   */\n",
       "  function render(props, node) {\n",
       "    var script = document.createElement(\"script\");\n",
       "    node.appendChild(script);\n",
       "  }\n",
       "\n",
       "  /**\n",
       "   * Handle when an output is cleared or removed\n",
       "   */\n",
       "  function handleClearOutput(event, handle) {\n",
       "    var cell = handle.cell;\n",
       "\n",
       "    var id = cell.output_area._bokeh_element_id;\n",
       "    var server_id = cell.output_area._bokeh_server_id;\n",
       "    // Clean up Bokeh references\n",
       "    if (id !== undefined) {\n",
       "      Bokeh.index[id].model.document.clear();\n",
       "      delete Bokeh.index[id];\n",
       "    }\n",
       "\n",
       "    if (server_id !== undefined) {\n",
       "      // Clean up Bokeh references\n",
       "      var cmd = \"from bokeh.io.state import curstate; print(curstate().uuid_to_server['\" + server_id + \"'].get_sessions()[0].document.roots[0]._id)\";\n",
       "      cell.notebook.kernel.execute(cmd, {\n",
       "        iopub: {\n",
       "          output: function(msg) {\n",
       "            var element_id = msg.content.text.trim();\n",
       "            Bokeh.index[element_id].model.document.clear();\n",
       "            delete Bokeh.index[element_id];\n",
       "          }\n",
       "        }\n",
       "      });\n",
       "      // Destroy server and session\n",
       "      var cmd = \"import bokeh.io.notebook as ion; ion.destroy_server('\" + server_id + \"')\";\n",
       "      cell.notebook.kernel.execute(cmd);\n",
       "    }\n",
       "  }\n",
       "\n",
       "  /**\n",
       "   * Handle when a new output is added\n",
       "   */\n",
       "  function handleAddOutput(event, handle) {\n",
       "    var output_area = handle.output_area;\n",
       "    var output = handle.output;\n",
       "\n",
       "    // limit handleAddOutput to display_data with EXEC_MIME_TYPE content only\n",
       "    if ((output.output_type != \"display_data\") || (!output.data.hasOwnProperty(EXEC_MIME_TYPE))) {\n",
       "      return\n",
       "    }\n",
       "\n",
       "    var toinsert = output_area.element.find(`.${CLASS_NAME.split(' ')[0]}`);\n",
       "\n",
       "    if (output.metadata[EXEC_MIME_TYPE][\"id\"] !== undefined) {\n",
       "      toinsert[0].firstChild.textContent = output.data[JS_MIME_TYPE];\n",
       "      // store reference to embed id on output_area\n",
       "      output_area._bokeh_element_id = output.metadata[EXEC_MIME_TYPE][\"id\"];\n",
       "    }\n",
       "    if (output.metadata[EXEC_MIME_TYPE][\"server_id\"] !== undefined) {\n",
       "      var bk_div = document.createElement(\"div\");\n",
       "      bk_div.innerHTML = output.data[HTML_MIME_TYPE];\n",
       "      var script_attrs = bk_div.children[0].attributes;\n",
       "      for (var i = 0; i < script_attrs.length; i++) {\n",
       "        toinsert[0].firstChild.setAttribute(script_attrs[i].name, script_attrs[i].value);\n",
       "      }\n",
       "      // store reference to server id on output_area\n",
       "      output_area._bokeh_server_id = output.metadata[EXEC_MIME_TYPE][\"server_id\"];\n",
       "    }\n",
       "  }\n",
       "\n",
       "  function register_renderer(events, OutputArea) {\n",
       "\n",
       "    function append_mime(data, metadata, element) {\n",
       "      // create a DOM node to render to\n",
       "      var toinsert = this.create_output_subarea(\n",
       "        metadata,\n",
       "        CLASS_NAME,\n",
       "        EXEC_MIME_TYPE\n",
       "      );\n",
       "      this.keyboard_manager.register_events(toinsert);\n",
       "      // Render to node\n",
       "      var props = {data: data, metadata: metadata[EXEC_MIME_TYPE]};\n",
       "      render(props, toinsert[0]);\n",
       "      element.append(toinsert);\n",
       "      return toinsert\n",
       "    }\n",
       "\n",
       "    /* Handle when an output is cleared or removed */\n",
       "    events.on('clear_output.CodeCell', handleClearOutput);\n",
       "    events.on('delete.Cell', handleClearOutput);\n",
       "\n",
       "    /* Handle when a new output is added */\n",
       "    events.on('output_added.OutputArea', handleAddOutput);\n",
       "\n",
       "    /**\n",
       "     * Register the mime type and append_mime function with output_area\n",
       "     */\n",
       "    OutputArea.prototype.register_mime_type(EXEC_MIME_TYPE, append_mime, {\n",
       "      /* Is output safe? */\n",
       "      safe: true,\n",
       "      /* Index of renderer in `output_area.display_order` */\n",
       "      index: 0\n",
       "    });\n",
       "  }\n",
       "\n",
       "  // register the mime type if in Jupyter Notebook environment and previously unregistered\n",
       "  if (root.Jupyter !== undefined) {\n",
       "    var events = require('base/js/events');\n",
       "    var OutputArea = require('notebook/js/outputarea').OutputArea;\n",
       "\n",
       "    if (OutputArea.prototype.mime_types().indexOf(EXEC_MIME_TYPE) == -1) {\n",
       "      register_renderer(events, OutputArea);\n",
       "    }\n",
       "  }\n",
       "\n",
       "  \n",
       "  if (typeof (root._bokeh_timeout) === \"undefined\" || force === true) {\n",
       "    root._bokeh_timeout = Date.now() + 5000;\n",
       "    root._bokeh_failed_load = false;\n",
       "  }\n",
       "\n",
       "  var NB_LOAD_WARNING = {'data': {'text/html':\n",
       "     \"<div style='background-color: #fdd'>\\n\"+\n",
       "     \"<p>\\n\"+\n",
       "     \"BokehJS does not appear to have successfully loaded. If loading BokehJS from CDN, this \\n\"+\n",
       "     \"may be due to a slow or bad network connection. Possible fixes:\\n\"+\n",
       "     \"</p>\\n\"+\n",
       "     \"<ul>\\n\"+\n",
       "     \"<li>re-rerun `output_notebook()` to attempt to load from CDN again, or</li>\\n\"+\n",
       "     \"<li>use INLINE resources instead, as so:</li>\\n\"+\n",
       "     \"</ul>\\n\"+\n",
       "     \"<code>\\n\"+\n",
       "     \"from bokeh.resources import INLINE\\n\"+\n",
       "     \"output_notebook(resources=INLINE)\\n\"+\n",
       "     \"</code>\\n\"+\n",
       "     \"</div>\"}};\n",
       "\n",
       "  function display_loaded() {\n",
       "    var el = document.getElementById(\"c4b9e718-d574-4c26-bfb9-c50080431573\");\n",
       "    if (el != null) {\n",
       "      el.textContent = \"BokehJS is loading...\";\n",
       "    }\n",
       "    if (root.Bokeh !== undefined) {\n",
       "      if (el != null) {\n",
       "        el.textContent = \"BokehJS \" + root.Bokeh.version + \" successfully loaded.\";\n",
       "      }\n",
       "    } else if (Date.now() < root._bokeh_timeout) {\n",
       "      setTimeout(display_loaded, 100)\n",
       "    }\n",
       "  }\n",
       "\n",
       "\n",
       "  function run_callbacks() {\n",
       "    try {\n",
       "      root._bokeh_onload_callbacks.forEach(function(callback) { callback() });\n",
       "    }\n",
       "    finally {\n",
       "      delete root._bokeh_onload_callbacks\n",
       "    }\n",
       "    console.info(\"Bokeh: all callbacks have finished\");\n",
       "  }\n",
       "\n",
       "  function load_libs(js_urls, callback) {\n",
       "    root._bokeh_onload_callbacks.push(callback);\n",
       "    if (root._bokeh_is_loading > 0) {\n",
       "      console.log(\"Bokeh: BokehJS is being loaded, scheduling callback at\", now());\n",
       "      return null;\n",
       "    }\n",
       "    if (js_urls == null || js_urls.length === 0) {\n",
       "      run_callbacks();\n",
       "      return null;\n",
       "    }\n",
       "    console.log(\"Bokeh: BokehJS not loaded, scheduling load and callback at\", now());\n",
       "    root._bokeh_is_loading = js_urls.length;\n",
       "    for (var i = 0; i < js_urls.length; i++) {\n",
       "      var url = js_urls[i];\n",
       "      var s = document.createElement('script');\n",
       "      s.src = url;\n",
       "      s.async = false;\n",
       "      s.onreadystatechange = s.onload = function() {\n",
       "        root._bokeh_is_loading--;\n",
       "        if (root._bokeh_is_loading === 0) {\n",
       "          console.log(\"Bokeh: all BokehJS libraries loaded\");\n",
       "          run_callbacks()\n",
       "        }\n",
       "      };\n",
       "      s.onerror = function() {\n",
       "        console.warn(\"failed to load library \" + url);\n",
       "      };\n",
       "      console.log(\"Bokeh: injecting script tag for BokehJS library: \", url);\n",
       "      document.getElementsByTagName(\"head\")[0].appendChild(s);\n",
       "    }\n",
       "  };var element = document.getElementById(\"c4b9e718-d574-4c26-bfb9-c50080431573\");\n",
       "  if (element == null) {\n",
       "    console.log(\"Bokeh: ERROR: autoload.js configured with elementid 'c4b9e718-d574-4c26-bfb9-c50080431573' but no matching script tag was found. \")\n",
       "    return false;\n",
       "  }\n",
       "\n",
       "  var js_urls = [\"https://cdn.pydata.org/bokeh/release/bokeh-0.12.10.min.js\", \"https://cdn.pydata.org/bokeh/release/bokeh-widgets-0.12.10.min.js\", \"https://cdn.pydata.org/bokeh/release/bokeh-tables-0.12.10.min.js\", \"https://cdn.pydata.org/bokeh/release/bokeh-gl-0.12.10.min.js\"];\n",
       "\n",
       "  var inline_js = [\n",
       "    function(Bokeh) {\n",
       "      Bokeh.set_log_level(\"info\");\n",
       "    },\n",
       "    \n",
       "    function(Bokeh) {\n",
       "      \n",
       "    },\n",
       "    function(Bokeh) {\n",
       "      console.log(\"Bokeh: injecting CSS: https://cdn.pydata.org/bokeh/release/bokeh-0.12.10.min.css\");\n",
       "      Bokeh.embed.inject_css(\"https://cdn.pydata.org/bokeh/release/bokeh-0.12.10.min.css\");\n",
       "      console.log(\"Bokeh: injecting CSS: https://cdn.pydata.org/bokeh/release/bokeh-widgets-0.12.10.min.css\");\n",
       "      Bokeh.embed.inject_css(\"https://cdn.pydata.org/bokeh/release/bokeh-widgets-0.12.10.min.css\");\n",
       "      console.log(\"Bokeh: injecting CSS: https://cdn.pydata.org/bokeh/release/bokeh-tables-0.12.10.min.css\");\n",
       "      Bokeh.embed.inject_css(\"https://cdn.pydata.org/bokeh/release/bokeh-tables-0.12.10.min.css\");\n",
       "    }\n",
       "  ];\n",
       "\n",
       "  function run_inline_js() {\n",
       "    \n",
       "    if ((root.Bokeh !== undefined) || (force === true)) {\n",
       "      for (var i = 0; i < inline_js.length; i++) {\n",
       "        inline_js[i].call(root, root.Bokeh);\n",
       "      }if (force === true) {\n",
       "        display_loaded();\n",
       "      }} else if (Date.now() < root._bokeh_timeout) {\n",
       "      setTimeout(run_inline_js, 100);\n",
       "    } else if (!root._bokeh_failed_load) {\n",
       "      console.log(\"Bokeh: BokehJS failed to load within specified timeout.\");\n",
       "      root._bokeh_failed_load = true;\n",
       "    } else if (force !== true) {\n",
       "      var cell = $(document.getElementById(\"c4b9e718-d574-4c26-bfb9-c50080431573\")).parents('.cell').data().cell;\n",
       "      cell.output_area.append_execute_result(NB_LOAD_WARNING)\n",
       "    }\n",
       "\n",
       "  }\n",
       "\n",
       "  if (root._bokeh_is_loading === 0) {\n",
       "    console.log(\"Bokeh: BokehJS loaded, going straight to plotting\");\n",
       "    run_inline_js();\n",
       "  } else {\n",
       "    load_libs(js_urls, function() {\n",
       "      console.log(\"Bokeh: BokehJS plotting callback run at\", now());\n",
       "      run_inline_js();\n",
       "    });\n",
       "  }\n",
       "}(window));"
      ],
      "application/vnd.bokehjs_load.v0+json": "\n(function(root) {\n  function now() {\n    return new Date();\n  }\n\n  var force = true;\n\n  if (typeof (root._bokeh_onload_callbacks) === \"undefined\" || force === true) {\n    root._bokeh_onload_callbacks = [];\n    root._bokeh_is_loading = undefined;\n  }\n\n  \n\n  \n  if (typeof (root._bokeh_timeout) === \"undefined\" || force === true) {\n    root._bokeh_timeout = Date.now() + 5000;\n    root._bokeh_failed_load = false;\n  }\n\n  var NB_LOAD_WARNING = {'data': {'text/html':\n     \"<div style='background-color: #fdd'>\\n\"+\n     \"<p>\\n\"+\n     \"BokehJS does not appear to have successfully loaded. If loading BokehJS from CDN, this \\n\"+\n     \"may be due to a slow or bad network connection. Possible fixes:\\n\"+\n     \"</p>\\n\"+\n     \"<ul>\\n\"+\n     \"<li>re-rerun `output_notebook()` to attempt to load from CDN again, or</li>\\n\"+\n     \"<li>use INLINE resources instead, as so:</li>\\n\"+\n     \"</ul>\\n\"+\n     \"<code>\\n\"+\n     \"from bokeh.resources import INLINE\\n\"+\n     \"output_notebook(resources=INLINE)\\n\"+\n     \"</code>\\n\"+\n     \"</div>\"}};\n\n  function display_loaded() {\n    var el = document.getElementById(\"c4b9e718-d574-4c26-bfb9-c50080431573\");\n    if (el != null) {\n      el.textContent = \"BokehJS is loading...\";\n    }\n    if (root.Bokeh !== undefined) {\n      if (el != null) {\n        el.textContent = \"BokehJS \" + root.Bokeh.version + \" successfully loaded.\";\n      }\n    } else if (Date.now() < root._bokeh_timeout) {\n      setTimeout(display_loaded, 100)\n    }\n  }\n\n\n  function run_callbacks() {\n    try {\n      root._bokeh_onload_callbacks.forEach(function(callback) { callback() });\n    }\n    finally {\n      delete root._bokeh_onload_callbacks\n    }\n    console.info(\"Bokeh: all callbacks have finished\");\n  }\n\n  function load_libs(js_urls, callback) {\n    root._bokeh_onload_callbacks.push(callback);\n    if (root._bokeh_is_loading > 0) {\n      console.log(\"Bokeh: BokehJS is being loaded, scheduling callback at\", now());\n      return null;\n    }\n    if (js_urls == null || js_urls.length === 0) {\n      run_callbacks();\n      return null;\n    }\n    console.log(\"Bokeh: BokehJS not loaded, scheduling load and callback at\", now());\n    root._bokeh_is_loading = js_urls.length;\n    for (var i = 0; i < js_urls.length; i++) {\n      var url = js_urls[i];\n      var s = document.createElement('script');\n      s.src = url;\n      s.async = false;\n      s.onreadystatechange = s.onload = function() {\n        root._bokeh_is_loading--;\n        if (root._bokeh_is_loading === 0) {\n          console.log(\"Bokeh: all BokehJS libraries loaded\");\n          run_callbacks()\n        }\n      };\n      s.onerror = function() {\n        console.warn(\"failed to load library \" + url);\n      };\n      console.log(\"Bokeh: injecting script tag for BokehJS library: \", url);\n      document.getElementsByTagName(\"head\")[0].appendChild(s);\n    }\n  };var element = document.getElementById(\"c4b9e718-d574-4c26-bfb9-c50080431573\");\n  if (element == null) {\n    console.log(\"Bokeh: ERROR: autoload.js configured with elementid 'c4b9e718-d574-4c26-bfb9-c50080431573' but no matching script tag was found. \")\n    return false;\n  }\n\n  var js_urls = [\"https://cdn.pydata.org/bokeh/release/bokeh-0.12.10.min.js\", \"https://cdn.pydata.org/bokeh/release/bokeh-widgets-0.12.10.min.js\", \"https://cdn.pydata.org/bokeh/release/bokeh-tables-0.12.10.min.js\", \"https://cdn.pydata.org/bokeh/release/bokeh-gl-0.12.10.min.js\"];\n\n  var inline_js = [\n    function(Bokeh) {\n      Bokeh.set_log_level(\"info\");\n    },\n    \n    function(Bokeh) {\n      \n    },\n    function(Bokeh) {\n      console.log(\"Bokeh: injecting CSS: https://cdn.pydata.org/bokeh/release/bokeh-0.12.10.min.css\");\n      Bokeh.embed.inject_css(\"https://cdn.pydata.org/bokeh/release/bokeh-0.12.10.min.css\");\n      console.log(\"Bokeh: injecting CSS: https://cdn.pydata.org/bokeh/release/bokeh-widgets-0.12.10.min.css\");\n      Bokeh.embed.inject_css(\"https://cdn.pydata.org/bokeh/release/bokeh-widgets-0.12.10.min.css\");\n      console.log(\"Bokeh: injecting CSS: https://cdn.pydata.org/bokeh/release/bokeh-tables-0.12.10.min.css\");\n      Bokeh.embed.inject_css(\"https://cdn.pydata.org/bokeh/release/bokeh-tables-0.12.10.min.css\");\n    }\n  ];\n\n  function run_inline_js() {\n    \n    if ((root.Bokeh !== undefined) || (force === true)) {\n      for (var i = 0; i < inline_js.length; i++) {\n        inline_js[i].call(root, root.Bokeh);\n      }if (force === true) {\n        display_loaded();\n      }} else if (Date.now() < root._bokeh_timeout) {\n      setTimeout(run_inline_js, 100);\n    } else if (!root._bokeh_failed_load) {\n      console.log(\"Bokeh: BokehJS failed to load within specified timeout.\");\n      root._bokeh_failed_load = true;\n    } else if (force !== true) {\n      var cell = $(document.getElementById(\"c4b9e718-d574-4c26-bfb9-c50080431573\")).parents('.cell').data().cell;\n      cell.output_area.append_execute_result(NB_LOAD_WARNING)\n    }\n\n  }\n\n  if (root._bokeh_is_loading === 0) {\n    console.log(\"Bokeh: BokehJS loaded, going straight to plotting\");\n    run_inline_js();\n  } else {\n    load_libs(js_urls, function() {\n      console.log(\"Bokeh: BokehJS plotting callback run at\", now());\n      run_inline_js();\n    });\n  }\n}(window));"
     },
     "metadata": {},
     "output_type": "display_data"
    }
   ],
   "source": [
    "output_notebook()"
   ]
  },
  {
   "cell_type": "code",
   "execution_count": 14,
   "metadata": {},
   "outputs": [
    {
     "data": {
      "text/html": [
       "\n",
       "<div class=\"bk-root\">\n",
       "    <div class=\"bk-plotdiv\" id=\"0201613f-336a-43b6-8757-baf308ede6ed\"></div>\n",
       "</div>"
      ]
     },
     "metadata": {},
     "output_type": "display_data"
    },
    {
     "data": {
      "application/javascript": [
       "(function(root) {\n",
       "  function embed_document(root) {\n",
       "    var docs_json = {\"139b1ec7-3a55-4a4b-b9db-7673c9717fbf\":{\"roots\":{\"references\":[{\"attributes\":{\"fill_alpha\":{\"value\":0.1},\"fill_color\":{\"value\":\"#1f77b4\"},\"height\":{\"units\":\"data\",\"value\":0.8},\"line_alpha\":{\"value\":0.1},\"line_color\":{\"value\":\"#1f77b4\"},\"width\":{\"units\":\"data\",\"value\":1.053220728751536},\"x\":{\"value\":0.526610364375768},\"y\":{\"value\":7.5}},\"id\":\"c99adc9c-0c60-4b7f-8158-9933b40d8c9d\",\"type\":\"Rect\"},{\"attributes\":{\"data_source\":{\"id\":\"a1f6bd51-88e6-4c62-951a-de80ff9ad82e\",\"type\":\"ColumnDataSource\"},\"glyph\":{\"id\":\"77dad41d-9c38-44b2-a919-21584deb682c\",\"type\":\"Rect\"},\"hover_glyph\":null,\"muted_glyph\":null,\"nonselection_glyph\":{\"id\":\"e1a5875b-2903-49c7-985c-aa5d822b656d\",\"type\":\"Rect\"},\"selection_glyph\":null,\"view\":{\"id\":\"e6cad04c-17a8-4bad-a588-58e60c518f8b\",\"type\":\"CDSView\"}},\"id\":\"4358f677-1a11-4f50-ad88-3b27e8734e4e\",\"type\":\"GlyphRenderer\"},{\"attributes\":{\"callback\":null},\"id\":\"e34b0af8-d7b0-46e4-8cc3-aba4607d3d6f\",\"type\":\"DataRange1d\"},{\"attributes\":{\"format\":\"%+d%%\"},\"id\":\"3faa89d7-623b-4b10-9b80-d15c793ae146\",\"type\":\"PrintfTickFormatter\"},{\"attributes\":{\"callback\":null,\"data\":{}},\"id\":\"320a7cea-ca16-4ba3-952b-bc97d4621178\",\"type\":\"ColumnDataSource\"},{\"attributes\":{\"source\":{\"id\":\"4d06b956-97df-4682-b71f-98395fb5c35c\",\"type\":\"ColumnDataSource\"}},\"id\":\"095130b4-7de3-49a7-aeae-271885b7de10\",\"type\":\"CDSView\"},{\"attributes\":{},\"id\":\"8554ab5b-eaab-440a-b28a-effd25b4fdd8\",\"type\":\"PanTool\"},{\"attributes\":{\"fill_alpha\":{\"value\":0.1},\"fill_color\":{\"value\":\"#1f77b4\"},\"height\":{\"units\":\"data\",\"value\":0.8},\"line_alpha\":{\"value\":0.1},\"line_color\":{\"value\":\"#1f77b4\"},\"width\":{\"units\":\"data\",\"value\":1.4079183887343971},\"x\":{\"value\":0.7039591943671986},\"y\":{\"value\":5.5}},\"id\":\"8f9da5d4-4d6d-47ed-b8f1-f05c768d6682\",\"type\":\"Rect\"},{\"attributes\":{},\"id\":\"240e5892-cf84-4fea-b297-37de06549490\",\"type\":\"LinearScale\"},{\"attributes\":{\"callback\":null,\"data\":{}},\"id\":\"9b0d7df6-0af8-4183-833f-98541572140d\",\"type\":\"ColumnDataSource\"},{\"attributes\":{\"data_source\":{\"id\":\"f727ae89-c485-4702-8c50-5c36eec7b434\",\"type\":\"ColumnDataSource\"},\"glyph\":{\"id\":\"4f33a70c-f1e4-4953-a273-1b2deae19793\",\"type\":\"Rect\"},\"hover_glyph\":null,\"muted_glyph\":null,\"nonselection_glyph\":{\"id\":\"c5dd3c5f-af9f-456c-a429-644d7cc351d3\",\"type\":\"Rect\"},\"selection_glyph\":null,\"view\":{\"id\":\"52c2a779-0260-4c84-a48f-ec3c307bcfe5\",\"type\":\"CDSView\"}},\"id\":\"9549953f-5a7a-4696-b040-9dd9890ffea7\",\"type\":\"GlyphRenderer\"},{\"attributes\":{\"source\":{\"id\":\"b80f604e-5ff2-49b8-bfb6-686fc00d26e7\",\"type\":\"ColumnDataSource\"}},\"id\":\"2adad547-e2db-4dc7-8a87-233922f66ef8\",\"type\":\"CDSView\"},{\"attributes\":{},\"id\":\"81d2907e-0a46-4df0-ac51-0376f130b925\",\"type\":\"HelpTool\"},{\"attributes\":{\"axis_label\":\"Reform-Induced Percentage Change in After-Tax Expanded Income\",\"axis_label_text_font_size\":{\"value\":\"12pt\"},\"axis_label_text_font_style\":\"normal\",\"axis_line_color\":{\"value\":null},\"formatter\":{\"id\":\"3faa89d7-623b-4b10-9b80-d15c793ae146\",\"type\":\"PrintfTickFormatter\"},\"major_label_text_font_size\":{\"value\":\"12pt\"},\"minor_tick_line_color\":{\"value\":null},\"plot\":{\"id\":\"2ee599c2-1fa5-47d5-a150-587a7669fd85\",\"subtype\":\"Figure\",\"type\":\"Plot\"},\"ticker\":{\"id\":\"0925f8c4-0c9a-4c6e-80b4-c1b2a5ef40c2\",\"type\":\"BasicTicker\"}},\"id\":\"2cec81eb-eb0c-40d2-be89-b6b939fdad84\",\"type\":\"LinearAxis\"},{\"attributes\":{\"data_source\":{\"id\":\"f24909d4-764c-4883-a918-b6d416e2baf2\",\"type\":\"ColumnDataSource\"},\"glyph\":{\"id\":\"3fb52ce4-e180-41a1-b3b7-8c1767e0f68c\",\"type\":\"Rect\"},\"hover_glyph\":null,\"muted_glyph\":null,\"nonselection_glyph\":{\"id\":\"9e51bec4-ace9-412e-b9a4-bd76de989e18\",\"type\":\"Rect\"},\"selection_glyph\":null,\"view\":{\"id\":\"5ff9459a-e05c-4c6b-8e63-aa5d0a3f651f\",\"type\":\"CDSView\"}},\"id\":\"e2ce163d-8f01-414d-a6fb-54c270e0177b\",\"type\":\"GlyphRenderer\"},{\"attributes\":{\"data_source\":{\"id\":\"b80f604e-5ff2-49b8-bfb6-686fc00d26e7\",\"type\":\"ColumnDataSource\"},\"glyph\":{\"id\":\"10ceb884-4754-46c9-b5f2-d6c43ed0eb7b\",\"type\":\"Rect\"},\"hover_glyph\":null,\"muted_glyph\":null,\"nonselection_glyph\":{\"id\":\"185ea232-3bfd-414b-97b7-c50e3a942bd5\",\"type\":\"Rect\"},\"selection_glyph\":null,\"view\":{\"id\":\"2adad547-e2db-4dc7-8a87-233922f66ef8\",\"type\":\"CDSView\"}},\"id\":\"31ae3aa6-df6e-4e2f-a77c-2b992dc20602\",\"type\":\"GlyphRenderer\"},{\"attributes\":{\"data_source\":{\"id\":\"b4af1fdd-4ce1-4c82-8318-c8f83d66568d\",\"type\":\"ColumnDataSource\"},\"glyph\":{\"id\":\"63dd6cf8-c9dc-43bf-a997-a447a4be8b41\",\"type\":\"Rect\"},\"hover_glyph\":null,\"muted_glyph\":null,\"nonselection_glyph\":{\"id\":\"82fca095-7b57-4243-afac-512348221775\",\"type\":\"Rect\"},\"selection_glyph\":null,\"view\":{\"id\":\"a84194c0-ef36-4aed-a8f8-e5d34caa7fc2\",\"type\":\"CDSView\"}},\"id\":\"016d81ef-e28c-4b71-a753-2c991f0fb5a0\",\"type\":\"GlyphRenderer\"},{\"attributes\":{\"fill_color\":{\"value\":\"blue\"},\"height\":{\"units\":\"data\",\"value\":0.8},\"line_color\":{\"value\":\"blue\"},\"width\":{\"units\":\"data\",\"value\":0.08550105844946643},\"x\":{\"value\":0.042750529224733214},\"y\":{\"value\":0.5}},\"id\":\"10ceb884-4754-46c9-b5f2-d6c43ed0eb7b\",\"type\":\"Rect\"},{\"attributes\":{\"plot\":null,\"text\":\"Change in After-Tax Income by Income Percentile Group for 2018\",\"text_font_size\":{\"value\":\"12pt\"}},\"id\":\"8b854cc4-a00f-43cf-a34c-7a921eb595f9\",\"type\":\"Title\"},{\"attributes\":{\"data_source\":{\"id\":\"0c5aba27-2eb8-4f80-971b-921fbafa2da8\",\"type\":\"ColumnDataSource\"},\"glyph\":{\"id\":\"fdf67798-601a-45bc-8199-b168dfd64b83\",\"type\":\"Rect\"},\"hover_glyph\":null,\"muted_glyph\":null,\"nonselection_glyph\":{\"id\":\"1ba556f7-b897-4db4-b351-44c113f75c43\",\"type\":\"Rect\"},\"selection_glyph\":null,\"view\":{\"id\":\"192ed9d3-35bc-44ea-b7b5-58b0dae0daea\",\"type\":\"CDSView\"}},\"id\":\"25de09ba-5924-401e-afe6-1e7932d4bfa3\",\"type\":\"GlyphRenderer\"},{\"attributes\":{\"source\":{\"id\":\"b4af1fdd-4ce1-4c82-8318-c8f83d66568d\",\"type\":\"ColumnDataSource\"}},\"id\":\"a84194c0-ef36-4aed-a8f8-e5d34caa7fc2\",\"type\":\"CDSView\"},{\"attributes\":{\"fill_color\":{\"value\":\"blue\"},\"height\":{\"units\":\"data\",\"value\":0.8},\"line_color\":{\"value\":\"blue\"},\"width\":{\"units\":\"data\",\"value\":1.4079183887343971},\"x\":{\"value\":0.7039591943671986},\"y\":{\"value\":5.5}},\"id\":\"dacd9ce2-255b-4413-9c05-0eda65421f4b\",\"type\":\"Rect\"},{\"attributes\":{\"source\":{\"id\":\"9b88726d-57f1-4773-b975-9b8231ec9503\",\"type\":\"ColumnDataSource\"}},\"id\":\"894afb4c-99e4-47c6-bad1-9c94db22beb1\",\"type\":\"CDSView\"},{\"attributes\":{\"callback\":null,\"data\":{}},\"id\":\"eb2b2f79-b466-43af-bf67-666464ee3f5f\",\"type\":\"ColumnDataSource\"},{\"attributes\":{\"callback\":null,\"data\":{}},\"id\":\"0c5aba27-2eb8-4f80-971b-921fbafa2da8\",\"type\":\"ColumnDataSource\"},{\"attributes\":{\"callback\":null,\"data\":{}},\"id\":\"a1f6bd51-88e6-4c62-951a-de80ff9ad82e\",\"type\":\"ColumnDataSource\"},{\"attributes\":{\"data_source\":{\"id\":\"320a7cea-ca16-4ba3-952b-bc97d4621178\",\"type\":\"ColumnDataSource\"},\"glyph\":{\"id\":\"2edd0f6f-8251-440c-9ab7-4fc3cc0c0f20\",\"type\":\"Rect\"},\"hover_glyph\":null,\"muted_glyph\":null,\"nonselection_glyph\":{\"id\":\"c99adc9c-0c60-4b7f-8158-9933b40d8c9d\",\"type\":\"Rect\"},\"selection_glyph\":null,\"view\":{\"id\":\"6f24bcd6-1cac-45f3-ae35-2de2cb0eb468\",\"type\":\"CDSView\"}},\"id\":\"dfc7ae1b-482a-43a2-bf1c-70a3226d76c6\",\"type\":\"GlyphRenderer\"},{\"attributes\":{\"callback\":null,\"data\":{}},\"id\":\"f24909d4-764c-4883-a918-b6d416e2baf2\",\"type\":\"ColumnDataSource\"},{\"attributes\":{\"data_source\":{\"id\":\"eb2b2f79-b466-43af-bf67-666464ee3f5f\",\"type\":\"ColumnDataSource\"},\"glyph\":{\"id\":\"33f07f77-968e-4c81-96d0-c27c01efdc01\",\"type\":\"Rect\"},\"hover_glyph\":null,\"muted_glyph\":null,\"nonselection_glyph\":{\"id\":\"5f9d36b3-17fd-4c7c-a53b-13fa45539e4f\",\"type\":\"Rect\"},\"selection_glyph\":null,\"view\":{\"id\":\"0d059689-0b7a-42ae-b663-c59e98c77197\",\"type\":\"CDSView\"}},\"id\":\"d011add2-f5cd-4a2c-8668-134f6a74dfe8\",\"type\":\"GlyphRenderer\"},{\"attributes\":{\"source\":{\"id\":\"a1f6bd51-88e6-4c62-951a-de80ff9ad82e\",\"type\":\"ColumnDataSource\"}},\"id\":\"e6cad04c-17a8-4bad-a588-58e60c518f8b\",\"type\":\"CDSView\"},{\"attributes\":{\"fill_color\":{\"value\":\"blue\"},\"height\":{\"units\":\"data\",\"value\":0.8},\"line_color\":{\"value\":\"blue\"},\"width\":{\"units\":\"data\",\"value\":1.053220728751536},\"x\":{\"value\":0.526610364375768},\"y\":{\"value\":7.5}},\"id\":\"2edd0f6f-8251-440c-9ab7-4fc3cc0c0f20\",\"type\":\"Rect\"},{\"attributes\":{\"fill_alpha\":{\"value\":0.1},\"fill_color\":{\"value\":\"#1f77b4\"},\"height\":{\"units\":\"data\",\"value\":0.4},\"line_alpha\":{\"value\":0.1},\"line_color\":{\"value\":\"#1f77b4\"},\"width\":{\"units\":\"data\",\"value\":0.32578850255753355},\"x\":{\"value\":0.16289425127876678},\"y\":{\"value\":11.5}},\"id\":\"9e51bec4-ace9-412e-b9a4-bd76de989e18\",\"type\":\"Rect\"},{\"attributes\":{\"callback\":null,\"data\":{}},\"id\":\"a12079bf-fdb5-43d5-8895-fbe0b7368871\",\"type\":\"ColumnDataSource\"},{\"attributes\":{\"fill_alpha\":{\"value\":0.1},\"fill_color\":{\"value\":\"#1f77b4\"},\"height\":{\"units\":\"data\",\"value\":0.08000000000000002},\"line_alpha\":{\"value\":0.1},\"line_color\":{\"value\":\"#1f77b4\"},\"width\":{\"units\":\"data\",\"value\":1.0107822293440538},\"x\":{\"value\":-0.5053911146720269},\"y\":{\"value\":13.5}},\"id\":\"c5dd3c5f-af9f-456c-a429-644d7cc351d3\",\"type\":\"Rect\"},{\"attributes\":{\"callback\":null,\"data\":{}},\"id\":\"535ffcf9-671c-4cba-96d8-b923d0124c40\",\"type\":\"ColumnDataSource\"},{\"attributes\":{\"fill_color\":{\"value\":\"blue\"},\"height\":{\"units\":\"data\",\"value\":0.8},\"line_color\":{\"value\":\"blue\"},\"width\":{\"units\":\"data\",\"value\":0},\"x\":{\"value\":0.0},\"y\":{\"value\":10.5}},\"id\":\"6fadb8a3-db30-41ad-9760-1f0e68ef2c32\",\"type\":\"Rect\"},{\"attributes\":{\"fill_alpha\":{\"value\":0.1},\"fill_color\":{\"value\":\"#1f77b4\"},\"height\":{\"units\":\"data\",\"value\":0.8},\"line_alpha\":{\"value\":0.1},\"line_color\":{\"value\":\"#1f77b4\"},\"width\":{\"units\":\"data\",\"value\":1.4825479319283463},\"x\":{\"value\":0.7412739659641732},\"y\":{\"value\":6.5}},\"id\":\"5f9d36b3-17fd-4c7c-a53b-13fa45539e4f\",\"type\":\"Rect\"},{\"attributes\":{\"source\":{\"id\":\"9b0d7df6-0af8-4183-833f-98541572140d\",\"type\":\"ColumnDataSource\"}},\"id\":\"86b14966-9eb2-4b4d-a5c1-633f1c942974\",\"type\":\"CDSView\"},{\"attributes\":{\"overlay\":{\"id\":\"a372ce67-c771-4b89-8de7-a06f3da9be21\",\"type\":\"BoxAnnotation\"}},\"id\":\"858ed4f8-ab65-4ba7-ae28-9d8c9c808301\",\"type\":\"BoxZoomTool\"},{\"attributes\":{\"callback\":null,\"data\":{}},\"id\":\"9b88726d-57f1-4773-b975-9b8231ec9503\",\"type\":\"ColumnDataSource\"},{\"attributes\":{\"fill_alpha\":{\"value\":0.1},\"fill_color\":{\"value\":\"#1f77b4\"},\"height\":{\"units\":\"data\",\"value\":0.8},\"line_alpha\":{\"value\":0.1},\"line_color\":{\"value\":\"#1f77b4\"},\"width\":{\"units\":\"data\",\"value\":0.08550105844946643},\"x\":{\"value\":0.042750529224733214},\"y\":{\"value\":0.5}},\"id\":\"185ea232-3bfd-414b-97b7-c50e3a942bd5\",\"type\":\"Rect\"},{\"attributes\":{\"below\":[{\"id\":\"2cec81eb-eb0c-40d2-be89-b6b939fdad84\",\"type\":\"LinearAxis\"}],\"left\":[{\"id\":\"c3b2d8e4-1af3-4113-84a7-c362b4d401d1\",\"type\":\"CategoricalAxis\"}],\"outline_line_color\":{\"value\":null},\"plot_height\":500,\"plot_width\":850,\"renderers\":[{\"id\":\"2cec81eb-eb0c-40d2-be89-b6b939fdad84\",\"type\":\"LinearAxis\"},{\"id\":\"88ebce5b-3f32-41fe-a664-01c57947f029\",\"type\":\"Grid\"},{\"id\":\"c3b2d8e4-1af3-4113-84a7-c362b4d401d1\",\"type\":\"CategoricalAxis\"},{\"id\":\"df8f963f-45e9-4bde-b779-1bc5101568c3\",\"type\":\"Grid\"},{\"id\":\"a372ce67-c771-4b89-8de7-a06f3da9be21\",\"type\":\"BoxAnnotation\"},{\"id\":\"2077bfd2-a641-448e-9cfd-e3abd3a1ce06\",\"type\":\"GlyphRenderer\"},{\"id\":\"31ae3aa6-df6e-4e2f-a77c-2b992dc20602\",\"type\":\"GlyphRenderer\"},{\"id\":\"ca88f572-94e7-451e-b218-3d536f255972\",\"type\":\"GlyphRenderer\"},{\"id\":\"25de09ba-5924-401e-afe6-1e7932d4bfa3\",\"type\":\"GlyphRenderer\"},{\"id\":\"00372863-077d-498a-9d53-2093c0cc93e6\",\"type\":\"GlyphRenderer\"},{\"id\":\"016d81ef-e28c-4b71-a753-2c991f0fb5a0\",\"type\":\"GlyphRenderer\"},{\"id\":\"6bae1e45-2c4d-43f9-b6e6-e9afb61774d0\",\"type\":\"GlyphRenderer\"},{\"id\":\"d011add2-f5cd-4a2c-8668-134f6a74dfe8\",\"type\":\"GlyphRenderer\"},{\"id\":\"dfc7ae1b-482a-43a2-bf1c-70a3226d76c6\",\"type\":\"GlyphRenderer\"},{\"id\":\"9878f95f-548d-4158-9087-49d9031bd600\",\"type\":\"GlyphRenderer\"},{\"id\":\"4358f677-1a11-4f50-ad88-3b27e8734e4e\",\"type\":\"GlyphRenderer\"},{\"id\":\"4a56bfb3-120b-407b-87cf-280235fab65c\",\"type\":\"GlyphRenderer\"},{\"id\":\"e2ce163d-8f01-414d-a6fb-54c270e0177b\",\"type\":\"GlyphRenderer\"},{\"id\":\"b2fcac13-2fc2-4ef4-a525-6d6890aca8fe\",\"type\":\"GlyphRenderer\"},{\"id\":\"9549953f-5a7a-4696-b040-9dd9890ffea7\",\"type\":\"GlyphRenderer\"}],\"title\":{\"id\":\"8b854cc4-a00f-43cf-a34c-7a921eb595f9\",\"type\":\"Title\"},\"toolbar\":{\"id\":\"95f160b5-78c9-447a-bd6e-d8e9baeb6e23\",\"type\":\"Toolbar\"},\"x_range\":{\"id\":\"e34b0af8-d7b0-46e4-8cc3-aba4607d3d6f\",\"type\":\"DataRange1d\"},\"x_scale\":{\"id\":\"240e5892-cf84-4fea-b297-37de06549490\",\"type\":\"LinearScale\"},\"y_range\":{\"id\":\"99d79a97-25a2-445b-8195-9de12e65be95\",\"type\":\"FactorRange\"},\"y_scale\":{\"id\":\"bccfca0f-7267-4ca2-91b1-660fb20cdefa\",\"type\":\"CategoricalScale\"}},\"id\":\"2ee599c2-1fa5-47d5-a150-587a7669fd85\",\"subtype\":\"Figure\",\"type\":\"Plot\"},{\"attributes\":{\"fill_color\":{\"value\":\"blue\"},\"height\":{\"units\":\"data\",\"value\":0.8},\"line_color\":{\"value\":\"blue\"},\"width\":{\"units\":\"data\",\"value\":0.10313997830064814},\"x\":{\"value\":0.05156998915032407},\"y\":{\"value\":1.5}},\"id\":\"955c9684-007c-49ba-878d-a9ba250d3c74\",\"type\":\"Rect\"},{\"attributes\":{\"plot\":{\"id\":\"2ee599c2-1fa5-47d5-a150-587a7669fd85\",\"subtype\":\"Figure\",\"type\":\"Plot\"},\"ticker\":{\"id\":\"0925f8c4-0c9a-4c6e-80b4-c1b2a5ef40c2\",\"type\":\"BasicTicker\"}},\"id\":\"88ebce5b-3f32-41fe-a664-01c57947f029\",\"type\":\"Grid\"},{\"attributes\":{\"bottom_units\":\"screen\",\"fill_alpha\":{\"value\":0.5},\"fill_color\":{\"value\":\"lightgrey\"},\"left_units\":\"screen\",\"level\":\"overlay\",\"line_alpha\":{\"value\":1.0},\"line_color\":{\"value\":\"black\"},\"line_dash\":[4,4],\"line_width\":{\"value\":2},\"plot\":null,\"render_mode\":\"css\",\"right_units\":\"screen\",\"top_units\":\"screen\"},\"id\":\"a372ce67-c771-4b89-8de7-a06f3da9be21\",\"type\":\"BoxAnnotation\"},{\"attributes\":{\"callback\":null,\"data\":{}},\"id\":\"b4af1fdd-4ce1-4c82-8318-c8f83d66568d\",\"type\":\"ColumnDataSource\"},{\"attributes\":{},\"id\":\"0925f8c4-0c9a-4c6e-80b4-c1b2a5ef40c2\",\"type\":\"BasicTicker\"},{\"attributes\":{\"fill_color\":{\"value\":\"blue\"},\"height\":{\"units\":\"data\",\"value\":0.8},\"line_color\":{\"value\":\"blue\"},\"width\":{\"units\":\"data\",\"value\":0.1755680968180906},\"x\":{\"value\":-0.0877840484090453},\"y\":{\"value\":9.5}},\"id\":\"77dad41d-9c38-44b2-a919-21584deb682c\",\"type\":\"Rect\"},{\"attributes\":{\"fill_color\":{\"value\":\"blue\"},\"height\":{\"units\":\"data\",\"value\":0.8},\"line_color\":{\"value\":\"blue\"},\"width\":{\"units\":\"data\",\"value\":1.1017802004293253},\"x\":{\"value\":0.5508901002146627},\"y\":{\"value\":3.5}},\"id\":\"468933f4-ab95-494c-b78b-76daa9717a65\",\"type\":\"Rect\"},{\"attributes\":{\"fill_color\":{\"value\":\"red\"},\"height\":{\"units\":\"data\",\"value\":0.32000000000000006},\"line_color\":{\"value\":\"red\"},\"width\":{\"units\":\"data\",\"value\":0.04848151942162815},\"x\":{\"value\":0.024240759710814075},\"y\":{\"value\":12.5}},\"id\":\"b13a9c1e-877c-4788-aff6-8d8724312c27\",\"type\":\"Rect\"},{\"attributes\":{\"callback\":null,\"data\":{}},\"id\":\"4d06b956-97df-4682-b71f-98395fb5c35c\",\"type\":\"ColumnDataSource\"},{\"attributes\":{\"fill_color\":{\"value\":\"blue\"},\"height\":{\"units\":\"data\",\"value\":0.8},\"line_color\":{\"value\":\"blue\"},\"width\":{\"units\":\"data\",\"value\":0.7070488668898811},\"x\":{\"value\":0.35352443344494056},\"y\":{\"value\":2.5}},\"id\":\"fdf67798-601a-45bc-8199-b168dfd64b83\",\"type\":\"Rect\"},{\"attributes\":{\"data_source\":{\"id\":\"9b0d7df6-0af8-4183-833f-98541572140d\",\"type\":\"ColumnDataSource\"},\"glyph\":{\"id\":\"dacd9ce2-255b-4413-9c05-0eda65421f4b\",\"type\":\"Rect\"},\"hover_glyph\":null,\"muted_glyph\":null,\"nonselection_glyph\":{\"id\":\"8f9da5d4-4d6d-47ed-b8f1-f05c768d6682\",\"type\":\"Rect\"},\"selection_glyph\":null,\"view\":{\"id\":\"86b14966-9eb2-4b4d-a5c1-633f1c942974\",\"type\":\"CDSView\"}},\"id\":\"6bae1e45-2c4d-43f9-b6e6-e9afb61774d0\",\"type\":\"GlyphRenderer\"},{\"attributes\":{},\"id\":\"004819b5-24be-448a-b148-4b4aeb369c06\",\"type\":\"WheelZoomTool\"},{\"attributes\":{\"callback\":null,\"data\":{}},\"id\":\"f727ae89-c485-4702-8c50-5c36eec7b434\",\"type\":\"ColumnDataSource\"},{\"attributes\":{\"fill_alpha\":{\"value\":0.1},\"fill_color\":{\"value\":\"#1f77b4\"},\"height\":{\"units\":\"data\",\"value\":0.8},\"line_alpha\":{\"value\":0.1},\"line_color\":{\"value\":\"#1f77b4\"},\"width\":{\"units\":\"data\",\"value\":1.1017802004293253},\"x\":{\"value\":0.5508901002146627},\"y\":{\"value\":3.5}},\"id\":\"30e16332-eb12-4d27-9e61-3eb74ad17cd2\",\"type\":\"Rect\"},{\"attributes\":{},\"id\":\"c7c5d33a-12e6-402e-b931-043e1e68a2bd\",\"type\":\"SaveTool\"},{\"attributes\":{\"callback\":null,\"factors\":[\"0-10\",\"10-20\",\"20-30\",\"30-40\",\"40-50\",\"50-60\",\"60-70\",\"70-80\",\"80-90\",\"90-100\",\"---------\",\"90-95\",\"95-99\",\"Top 1%\"]},\"id\":\"99d79a97-25a2-445b-8195-9de12e65be95\",\"type\":\"FactorRange\"},{\"attributes\":{\"fill_alpha\":{\"value\":0.1},\"fill_color\":{\"value\":\"#1f77b4\"},\"height\":{\"units\":\"data\",\"value\":0.8},\"line_alpha\":{\"value\":0.1},\"line_color\":{\"value\":\"#1f77b4\"},\"width\":{\"units\":\"data\",\"value\":0},\"x\":{\"value\":0.0},\"y\":{\"value\":10.5}},\"id\":\"835a8b73-96f3-4a47-af7f-45ac7623a256\",\"type\":\"Rect\"},{\"attributes\":{\"source\":{\"id\":\"a12079bf-fdb5-43d5-8895-fbe0b7368871\",\"type\":\"ColumnDataSource\"}},\"id\":\"6f483038-d481-45e0-93bc-9b1b3bd1803f\",\"type\":\"CDSView\"},{\"attributes\":{\"source\":{\"id\":\"f727ae89-c485-4702-8c50-5c36eec7b434\",\"type\":\"ColumnDataSource\"}},\"id\":\"52c2a779-0260-4c84-a48f-ec3c307bcfe5\",\"type\":\"CDSView\"},{\"attributes\":{\"fill_alpha\":{\"value\":0.1},\"fill_color\":{\"value\":\"#1f77b4\"},\"height\":{\"units\":\"data\",\"value\":0.8},\"line_alpha\":{\"value\":0.1},\"line_color\":{\"value\":\"#1f77b4\"},\"width\":{\"units\":\"data\",\"value\":1.3823627837252328},\"x\":{\"value\":0.6911813918626164},\"y\":{\"value\":4.5}},\"id\":\"82fca095-7b57-4243-afac-512348221775\",\"type\":\"Rect\"},{\"attributes\":{\"data_source\":{\"id\":\"535ffcf9-671c-4cba-96d8-b923d0124c40\",\"type\":\"ColumnDataSource\"},\"glyph\":{\"id\":\"808e7d7b-f884-4401-aa0a-7fb9f5c291ed\",\"type\":\"Rect\"},\"hover_glyph\":null,\"muted_glyph\":null,\"nonselection_glyph\":{\"id\":\"5c6557f6-d749-4041-84b6-aa527aec9886\",\"type\":\"Rect\"},\"selection_glyph\":null,\"view\":{\"id\":\"34dbd8b3-a883-438b-98de-a88ccdd70ad4\",\"type\":\"CDSView\"}},\"id\":\"9878f95f-548d-4158-9087-49d9031bd600\",\"type\":\"GlyphRenderer\"},{\"attributes\":{\"source\":{\"id\":\"0c5aba27-2eb8-4f80-971b-921fbafa2da8\",\"type\":\"ColumnDataSource\"}},\"id\":\"192ed9d3-35bc-44ea-b7b5-58b0dae0daea\",\"type\":\"CDSView\"},{\"attributes\":{\"fill_color\":{\"value\":\"red\"},\"height\":{\"units\":\"data\",\"value\":0.4},\"line_color\":{\"value\":\"red\"},\"width\":{\"units\":\"data\",\"value\":0.32578850255753355},\"x\":{\"value\":0.16289425127876678},\"y\":{\"value\":11.5}},\"id\":\"3fb52ce4-e180-41a1-b3b7-8c1767e0f68c\",\"type\":\"Rect\"},{\"attributes\":{\"source\":{\"id\":\"535ffcf9-671c-4cba-96d8-b923d0124c40\",\"type\":\"ColumnDataSource\"}},\"id\":\"34dbd8b3-a883-438b-98de-a88ccdd70ad4\",\"type\":\"CDSView\"},{\"attributes\":{\"data_source\":{\"id\":\"b5114b01-690e-41ec-98f0-37239ac80a07\",\"type\":\"ColumnDataSource\"},\"glyph\":{\"id\":\"3623e559-b647-47a6-b632-b150773c4e98\",\"type\":\"Line\"},\"hover_glyph\":null,\"muted_glyph\":null,\"nonselection_glyph\":{\"id\":\"118f51a9-1a67-4386-b556-fe4714c7d7bc\",\"type\":\"Line\"},\"selection_glyph\":null,\"view\":{\"id\":\"1d741938-78fe-49a3-8e77-45b84208347d\",\"type\":\"CDSView\"}},\"id\":\"2077bfd2-a641-448e-9cfd-e3abd3a1ce06\",\"type\":\"GlyphRenderer\"},{\"attributes\":{\"active_drag\":\"auto\",\"active_inspect\":\"auto\",\"active_scroll\":\"auto\",\"active_tap\":\"auto\",\"tools\":[{\"id\":\"8554ab5b-eaab-440a-b28a-effd25b4fdd8\",\"type\":\"PanTool\"},{\"id\":\"004819b5-24be-448a-b148-4b4aeb369c06\",\"type\":\"WheelZoomTool\"},{\"id\":\"858ed4f8-ab65-4ba7-ae28-9d8c9c808301\",\"type\":\"BoxZoomTool\"},{\"id\":\"c7c5d33a-12e6-402e-b931-043e1e68a2bd\",\"type\":\"SaveTool\"},{\"id\":\"6ca2def1-116c-4449-b61f-b23f92421e17\",\"type\":\"ResetTool\"},{\"id\":\"81d2907e-0a46-4df0-ac51-0376f130b925\",\"type\":\"HelpTool\"}]},\"id\":\"95f160b5-78c9-447a-bd6e-d8e9baeb6e23\",\"type\":\"Toolbar\"},{\"attributes\":{\"fill_color\":{\"value\":\"blue\"},\"height\":{\"units\":\"data\",\"value\":0.8},\"line_color\":{\"value\":\"blue\"},\"width\":{\"units\":\"data\",\"value\":1.3823627837252328},\"x\":{\"value\":0.6911813918626164},\"y\":{\"value\":4.5}},\"id\":\"63dd6cf8-c9dc-43bf-a997-a447a4be8b41\",\"type\":\"Rect\"},{\"attributes\":{\"fill_alpha\":{\"value\":0.1},\"fill_color\":{\"value\":\"#1f77b4\"},\"height\":{\"units\":\"data\",\"value\":0.8},\"line_alpha\":{\"value\":0.1},\"line_color\":{\"value\":\"#1f77b4\"},\"width\":{\"units\":\"data\",\"value\":0.10313997830064814},\"x\":{\"value\":0.05156998915032407},\"y\":{\"value\":1.5}},\"id\":\"91533cb4-c45a-43f6-a7c6-4cb4f0c53eff\",\"type\":\"Rect\"},{\"attributes\":{\"fill_alpha\":{\"value\":0.1},\"fill_color\":{\"value\":\"#1f77b4\"},\"height\":{\"units\":\"data\",\"value\":0.32000000000000006},\"line_alpha\":{\"value\":0.1},\"line_color\":{\"value\":\"#1f77b4\"},\"width\":{\"units\":\"data\",\"value\":0.04848151942162815},\"x\":{\"value\":0.024240759710814075},\"y\":{\"value\":12.5}},\"id\":\"d9f0aed0-a29d-4f0c-a2aa-5effd818a751\",\"type\":\"Rect\"},{\"attributes\":{\"x\":{\"field\":\"x\"},\"y\":{\"field\":\"y\"}},\"id\":\"3623e559-b647-47a6-b632-b150773c4e98\",\"type\":\"Line\"},{\"attributes\":{},\"id\":\"bccfca0f-7267-4ca2-91b1-660fb20cdefa\",\"type\":\"CategoricalScale\"},{\"attributes\":{\"callback\":null,\"column_names\":[\"y\",\"x\"],\"data\":{\"x\":[0,0],\"y\":[0,14]}},\"id\":\"b5114b01-690e-41ec-98f0-37239ac80a07\",\"type\":\"ColumnDataSource\"},{\"attributes\":{\"source\":{\"id\":\"409fb022-02f0-4249-9dfd-12ffb922ad24\",\"type\":\"ColumnDataSource\"}},\"id\":\"9c120ef9-a9e6-46e9-9dc9-4fbad13afd61\",\"type\":\"CDSView\"},{\"attributes\":{\"fill_color\":{\"value\":\"blue\"},\"height\":{\"units\":\"data\",\"value\":0.8},\"line_color\":{\"value\":\"blue\"},\"width\":{\"units\":\"data\",\"value\":0.6779908133809132},\"x\":{\"value\":0.3389954066904566},\"y\":{\"value\":8.5}},\"id\":\"808e7d7b-f884-4401-aa0a-7fb9f5c291ed\",\"type\":\"Rect\"},{\"attributes\":{\"source\":{\"id\":\"320a7cea-ca16-4ba3-952b-bc97d4621178\",\"type\":\"ColumnDataSource\"}},\"id\":\"6f24bcd6-1cac-45f3-ae35-2de2cb0eb468\",\"type\":\"CDSView\"},{\"attributes\":{},\"id\":\"6ca2def1-116c-4449-b61f-b23f92421e17\",\"type\":\"ResetTool\"},{\"attributes\":{\"dimension\":1,\"grid_line_color\":{\"value\":null},\"plot\":{\"id\":\"2ee599c2-1fa5-47d5-a150-587a7669fd85\",\"subtype\":\"Figure\",\"type\":\"Plot\"},\"ticker\":{\"id\":\"65d37ce3-61ba-4a1a-ba02-8aeb44d508cf\",\"type\":\"CategoricalTicker\"}},\"id\":\"df8f963f-45e9-4bde-b779-1bc5101568c3\",\"type\":\"Grid\"},{\"attributes\":{\"source\":{\"id\":\"f24909d4-764c-4883-a918-b6d416e2baf2\",\"type\":\"ColumnDataSource\"}},\"id\":\"5ff9459a-e05c-4c6b-8e63-aa5d0a3f651f\",\"type\":\"CDSView\"},{\"attributes\":{\"axis_label\":\"Expanded Income Percentile Group\",\"axis_label_text_font_size\":{\"value\":\"12pt\"},\"axis_label_text_font_style\":\"normal\",\"axis_line_color\":{\"value\":null},\"formatter\":{\"id\":\"8cb9ab25-68b1-4ad9-ba53-12b1c8e04403\",\"type\":\"CategoricalTickFormatter\"},\"major_label_text_font_size\":{\"value\":\"12pt\"},\"minor_tick_line_color\":{\"value\":null},\"plot\":{\"id\":\"2ee599c2-1fa5-47d5-a150-587a7669fd85\",\"subtype\":\"Figure\",\"type\":\"Plot\"},\"ticker\":{\"id\":\"65d37ce3-61ba-4a1a-ba02-8aeb44d508cf\",\"type\":\"CategoricalTicker\"}},\"id\":\"c3b2d8e4-1af3-4113-84a7-c362b4d401d1\",\"type\":\"CategoricalAxis\"},{\"attributes\":{},\"id\":\"8cb9ab25-68b1-4ad9-ba53-12b1c8e04403\",\"type\":\"CategoricalTickFormatter\"},{\"attributes\":{\"fill_alpha\":{\"value\":0.1},\"fill_color\":{\"value\":\"#1f77b4\"},\"height\":{\"units\":\"data\",\"value\":0.8},\"line_alpha\":{\"value\":0.1},\"line_color\":{\"value\":\"#1f77b4\"},\"width\":{\"units\":\"data\",\"value\":0.1755680968180906},\"x\":{\"value\":-0.0877840484090453},\"y\":{\"value\":9.5}},\"id\":\"e1a5875b-2903-49c7-985c-aa5d822b656d\",\"type\":\"Rect\"},{\"attributes\":{\"data_source\":{\"id\":\"4d06b956-97df-4682-b71f-98395fb5c35c\",\"type\":\"ColumnDataSource\"},\"glyph\":{\"id\":\"955c9684-007c-49ba-878d-a9ba250d3c74\",\"type\":\"Rect\"},\"hover_glyph\":null,\"muted_glyph\":null,\"nonselection_glyph\":{\"id\":\"91533cb4-c45a-43f6-a7c6-4cb4f0c53eff\",\"type\":\"Rect\"},\"selection_glyph\":null,\"view\":{\"id\":\"095130b4-7de3-49a7-aeae-271885b7de10\",\"type\":\"CDSView\"}},\"id\":\"ca88f572-94e7-451e-b218-3d536f255972\",\"type\":\"GlyphRenderer\"},{\"attributes\":{\"data_source\":{\"id\":\"a12079bf-fdb5-43d5-8895-fbe0b7368871\",\"type\":\"ColumnDataSource\"},\"glyph\":{\"id\":\"468933f4-ab95-494c-b78b-76daa9717a65\",\"type\":\"Rect\"},\"hover_glyph\":null,\"muted_glyph\":null,\"nonselection_glyph\":{\"id\":\"30e16332-eb12-4d27-9e61-3eb74ad17cd2\",\"type\":\"Rect\"},\"selection_glyph\":null,\"view\":{\"id\":\"6f483038-d481-45e0-93bc-9b1b3bd1803f\",\"type\":\"CDSView\"}},\"id\":\"00372863-077d-498a-9d53-2093c0cc93e6\",\"type\":\"GlyphRenderer\"},{\"attributes\":{},\"id\":\"65d37ce3-61ba-4a1a-ba02-8aeb44d508cf\",\"type\":\"CategoricalTicker\"},{\"attributes\":{\"data_source\":{\"id\":\"9b88726d-57f1-4773-b975-9b8231ec9503\",\"type\":\"ColumnDataSource\"},\"glyph\":{\"id\":\"b13a9c1e-877c-4788-aff6-8d8724312c27\",\"type\":\"Rect\"},\"hover_glyph\":null,\"muted_glyph\":null,\"nonselection_glyph\":{\"id\":\"d9f0aed0-a29d-4f0c-a2aa-5effd818a751\",\"type\":\"Rect\"},\"selection_glyph\":null,\"view\":{\"id\":\"894afb4c-99e4-47c6-bad1-9c94db22beb1\",\"type\":\"CDSView\"}},\"id\":\"b2fcac13-2fc2-4ef4-a525-6d6890aca8fe\",\"type\":\"GlyphRenderer\"},{\"attributes\":{\"source\":{\"id\":\"b5114b01-690e-41ec-98f0-37239ac80a07\",\"type\":\"ColumnDataSource\"}},\"id\":\"1d741938-78fe-49a3-8e77-45b84208347d\",\"type\":\"CDSView\"},{\"attributes\":{\"data_source\":{\"id\":\"409fb022-02f0-4249-9dfd-12ffb922ad24\",\"type\":\"ColumnDataSource\"},\"glyph\":{\"id\":\"6fadb8a3-db30-41ad-9760-1f0e68ef2c32\",\"type\":\"Rect\"},\"hover_glyph\":null,\"muted_glyph\":null,\"nonselection_glyph\":{\"id\":\"835a8b73-96f3-4a47-af7f-45ac7623a256\",\"type\":\"Rect\"},\"selection_glyph\":null,\"view\":{\"id\":\"9c120ef9-a9e6-46e9-9dc9-4fbad13afd61\",\"type\":\"CDSView\"}},\"id\":\"4a56bfb3-120b-407b-87cf-280235fab65c\",\"type\":\"GlyphRenderer\"},{\"attributes\":{\"callback\":null,\"data\":{}},\"id\":\"409fb022-02f0-4249-9dfd-12ffb922ad24\",\"type\":\"ColumnDataSource\"},{\"attributes\":{\"source\":{\"id\":\"eb2b2f79-b466-43af-bf67-666464ee3f5f\",\"type\":\"ColumnDataSource\"}},\"id\":\"0d059689-0b7a-42ae-b663-c59e98c77197\",\"type\":\"CDSView\"},{\"attributes\":{\"line_alpha\":{\"value\":0.1},\"line_color\":{\"value\":\"#1f77b4\"},\"x\":{\"field\":\"x\"},\"y\":{\"field\":\"y\"}},\"id\":\"118f51a9-1a67-4386-b556-fe4714c7d7bc\",\"type\":\"Line\"},{\"attributes\":{\"fill_color\":{\"value\":\"blue\"},\"height\":{\"units\":\"data\",\"value\":0.8},\"line_color\":{\"value\":\"blue\"},\"width\":{\"units\":\"data\",\"value\":1.4825479319283463},\"x\":{\"value\":0.7412739659641732},\"y\":{\"value\":6.5}},\"id\":\"33f07f77-968e-4c81-96d0-c27c01efdc01\",\"type\":\"Rect\"},{\"attributes\":{\"fill_alpha\":{\"value\":0.1},\"fill_color\":{\"value\":\"#1f77b4\"},\"height\":{\"units\":\"data\",\"value\":0.8},\"line_alpha\":{\"value\":0.1},\"line_color\":{\"value\":\"#1f77b4\"},\"width\":{\"units\":\"data\",\"value\":0.7070488668898811},\"x\":{\"value\":0.35352443344494056},\"y\":{\"value\":2.5}},\"id\":\"1ba556f7-b897-4db4-b351-44c113f75c43\",\"type\":\"Rect\"},{\"attributes\":{\"callback\":null,\"data\":{}},\"id\":\"b80f604e-5ff2-49b8-bfb6-686fc00d26e7\",\"type\":\"ColumnDataSource\"},{\"attributes\":{\"fill_color\":{\"value\":\"red\"},\"height\":{\"units\":\"data\",\"value\":0.08000000000000002},\"line_color\":{\"value\":\"red\"},\"width\":{\"units\":\"data\",\"value\":1.0107822293440538},\"x\":{\"value\":-0.5053911146720269},\"y\":{\"value\":13.5}},\"id\":\"4f33a70c-f1e4-4953-a273-1b2deae19793\",\"type\":\"Rect\"},{\"attributes\":{\"fill_alpha\":{\"value\":0.1},\"fill_color\":{\"value\":\"#1f77b4\"},\"height\":{\"units\":\"data\",\"value\":0.8},\"line_alpha\":{\"value\":0.1},\"line_color\":{\"value\":\"#1f77b4\"},\"width\":{\"units\":\"data\",\"value\":0.6779908133809132},\"x\":{\"value\":0.3389954066904566},\"y\":{\"value\":8.5}},\"id\":\"5c6557f6-d749-4041-84b6-aa527aec9886\",\"type\":\"Rect\"}],\"root_ids\":[\"2ee599c2-1fa5-47d5-a150-587a7669fd85\"]},\"title\":\"Bokeh Application\",\"version\":\"0.12.10\"}};\n",
       "    var render_items = [{\"docid\":\"139b1ec7-3a55-4a4b-b9db-7673c9717fbf\",\"elementid\":\"0201613f-336a-43b6-8757-baf308ede6ed\",\"modelid\":\"2ee599c2-1fa5-47d5-a150-587a7669fd85\"}];\n",
       "\n",
       "    root.Bokeh.embed.embed_items(docs_json, render_items);\n",
       "  }\n",
       "\n",
       "  if (root.Bokeh !== undefined) {\n",
       "    embed_document(root);\n",
       "  } else {\n",
       "    var attempts = 0;\n",
       "    var timer = setInterval(function(root) {\n",
       "      if (root.Bokeh !== undefined) {\n",
       "        embed_document(root);\n",
       "        clearInterval(timer);\n",
       "      }\n",
       "      attempts++;\n",
       "      if (attempts > 100) {\n",
       "        console.log(\"Bokeh: ERROR: Unable to embed document because BokehJS library is missing\")\n",
       "        clearInterval(timer);\n",
       "      }\n",
       "    }, 10, root)\n",
       "  }\n",
       "})(window);"
      ],
      "application/vnd.bokehjs_exec.v0+json": ""
     },
     "metadata": {
      "application/vnd.bokehjs_exec.v0+json": {
       "id": "2ee599c2-1fa5-47d5-a150-587a7669fd85"
      }
     },
     "output_type": "display_data"
    }
   ],
   "source": [
    "show(fig)"
   ]
  },
  {
   "cell_type": "markdown",
   "metadata": {},
   "source": [
    "## Print tables"
   ]
  },
  {
   "cell_type": "markdown",
   "metadata": {},
   "source": [
    "CLP diagnostic table for 2018."
   ]
  },
  {
   "cell_type": "code",
   "execution_count": 15,
   "metadata": {},
   "outputs": [
    {
     "name": "stdout",
     "output_type": "stream",
     "text": [
      "                                     2018\n",
      "Returns (#m)                       169.89\n",
      "AGI ($b)                        10,503.83\n",
      "Itemizers (#m)                      67.99\n",
      "Itemized Deduction ($b)          1,500.94\n",
      "Standard Deduction Filers (#m)      83.86\n",
      "Standard Deduction ($b)            771.37\n",
      "Personal Exemption ($b)          1,222.60\n",
      "Taxable Income ($b)              7,421.92\n",
      "Regular Tax ($b)                 1,369.71\n",
      "AMT Income ($b)                  9,664.54\n",
      "AMT Liability ($b)                  18.02\n",
      "AMT Filers (#m)                      4.22\n",
      "Tax before Credits ($b)          1,387.73\n",
      "Refundable Credits ($b)             76.61\n",
      "Nonrefundable Credits ($b)          32.93\n",
      "Reform Surtaxes ($b)                 0.00\n",
      "Other Taxes ($b)                     9.32\n",
      "Ind Income Tax ($b)              1,287.51\n",
      "Payroll Taxes ($b)               1,233.56\n",
      "Combined Liability ($b)          2,521.07\n",
      "With Income Tax <= 0 (#m)           72.00\n",
      "With Combined Tax <= 0 (#m)         48.60\n"
     ]
    }
   ],
   "source": [
    "print(clp_diagnostic_table)"
   ]
  },
  {
   "cell_type": "markdown",
   "metadata": {},
   "source": [
    "REF diagnostic table for 2018."
   ]
  },
  {
   "cell_type": "code",
   "execution_count": 16,
   "metadata": {},
   "outputs": [
    {
     "name": "stdout",
     "output_type": "stream",
     "text": [
      "                                     2018\n",
      "Returns (#m)                       169.89\n",
      "AGI ($b)                        10,503.83\n",
      "Itemizers (#m)                      34.58\n",
      "Itemized Deduction ($b)          1,010.91\n",
      "Standard Deduction Filers (#m)     117.28\n",
      "Standard Deduction ($b)          1,958.91\n",
      "Personal Exemption ($b)          1,222.60\n",
      "Taxable Income ($b)              6,993.08\n",
      "Regular Tax ($b)                 1,317.86\n",
      "AMT Income ($b)                  9,945.40\n",
      "AMT Liability ($b)                  16.87\n",
      "AMT Filers (#m)                      4.40\n",
      "Tax before Credits ($b)          1,334.73\n",
      "Refundable Credits ($b)             81.41\n",
      "Nonrefundable Credits ($b)          27.99\n",
      "Reform Surtaxes ($b)                 0.00\n",
      "Other Taxes ($b)                     9.32\n",
      "Ind Income Tax ($b)              1,234.66\n",
      "Payroll Taxes ($b)               1,233.56\n",
      "Combined Liability ($b)          2,468.22\n",
      "With Income Tax <= 0 (#m)           79.01\n",
      "With Combined Tax <= 0 (#m)         49.54\n"
     ]
    }
   ],
   "source": [
    "print(ref_diagnostic_table)"
   ]
  },
  {
   "cell_type": "markdown",
   "metadata": {},
   "source": [
    "Extract of 2018 distribution tables by baseline expanded-income decile.\n",
    "\n",
    "*Note: deciles are numbered 0-9 with top decile divided into bottom 5%, \n",
    "next 4%, and top 1%, in the lines numbered 11-13, respectively.*"
   ]
  },
  {
   "cell_type": "code",
   "execution_count": 17,
   "metadata": {},
   "outputs": [
    {
     "name": "stdout",
     "output_type": "stream",
     "text": [
      "    funits(#m)  itax1($b)  itax2($b)  aftertax_inc1($b)  aftertax_inc2($b)\n",
      "0        16.99      -1.65      -1.65              -5.30              -5.31\n",
      "1        16.99     -12.65     -12.82             168.67             168.85\n",
      "2        16.99     -15.20     -17.23             287.66             289.69\n",
      "3        16.99     -12.74     -17.18             402.40             406.84\n",
      "4        16.99       2.69      -4.50             520.45             527.65\n",
      "5        16.99      27.14      17.77             665.73             675.10\n",
      "6        16.99      63.42      50.65             861.52             874.29\n",
      "7        16.99     119.61     107.46           1,153.42           1,165.57\n",
      "8        16.99     212.26     201.22           1,629.28           1,640.32\n",
      "9        16.99     904.62     910.94           3,599.33           3,593.01\n",
      "10      169.89   1,287.51   1,234.66           9,283.16           9,336.02\n",
      "11        8.49     200.80     197.05           1,150.22           1,153.97\n",
      "12        6.79     318.15     317.48           1,386.68           1,387.35\n",
      "13        1.70     385.67     396.41           1,062.43           1,051.69\n"
     ]
    }
   ],
   "source": [
    "print(dist_extract)"
   ]
  },
  {
   "cell_type": "markdown",
   "metadata": {},
   "source": [
    "Extract of 2018 income-tax difference table by expanded-income decile."
   ]
  },
  {
   "cell_type": "code",
   "execution_count": 18,
   "metadata": {},
   "outputs": [
    {
     "name": "stdout",
     "output_type": "stream",
     "text": [
      "    funits(#m)  agg_diff($b)  mean_diff($)  aftertaxinc_diff(%)\n",
      "0        16.99          0.00          0.27                 0.09\n",
      "1        16.99         -0.17        -10.24                 0.10\n",
      "2        16.99         -2.03       -119.71                 0.71\n",
      "3        16.99         -4.43       -260.96                 1.10\n",
      "4        16.99         -7.19       -423.46                 1.38\n",
      "5        16.99         -9.37       -551.70                 1.41\n",
      "6        16.99        -12.77       -751.77                 1.48\n",
      "7        16.99        -12.15       -715.03                 1.05\n",
      "8        16.99        -11.05       -650.18                 0.68\n",
      "9        16.99          6.32        371.95                -0.18\n",
      "10      169.89        -52.85       -311.09                 0.57\n",
      "11        8.49         -3.75       -441.16                 0.33\n",
      "12        6.79         -0.67        -98.94                 0.05\n",
      "13        1.70         10.74      6,315.38                -1.01\n"
     ]
    }
   ],
   "source": [
    "print(diff_extract)"
   ]
  }
 ],
 "metadata": {
  "kernelspec": {
   "display_name": "Python 2",
   "language": "python",
   "name": "python2"
  },
  "language_info": {
   "codemirror_mode": {
    "name": "ipython",
    "version": 2
   },
   "file_extension": ".py",
   "mimetype": "text/x-python",
   "name": "python",
   "nbconvert_exporter": "python",
   "pygments_lexer": "ipython2",
   "version": "2.7.14"
  }
 },
 "nbformat": 4,
 "nbformat_minor": 2
}
