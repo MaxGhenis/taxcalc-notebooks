{
  "nbformat": 4,
  "nbformat_minor": 0,
  "metadata": {
    "colab": {
      "name": "quantile_regression_comparison_cps.ipynb",
      "version": "0.3.2",
      "provenance": [],
      "collapsed_sections": [],
      "include_colab_link": true
    },
    "kernelspec": {
      "name": "python3",
      "display_name": "Python 3"
    }
  },
  "cells": [
    {
      "cell_type": "markdown",
      "metadata": {
        "id": "view-in-github",
        "colab_type": "text"
      },
      "source": [
        "[View in Colaboratory](https://colab.research.google.com/github/MaxGhenis/taxcalc-notebooks/blob/master/quantile_regression_comparison_cps.ipynb)"
      ]
    },
    {
      "metadata": {
        "id": "zricQzqlyPYk",
        "colab_type": "toc"
      },
      "cell_type": "markdown",
      "source": [
        ">[Quantile regression from OLS to TensorFlow](#scrollTo=PQdJbWCS9N3G)\n",
        "\n",
        ">>[Setup](#scrollTo=VjvK4vP2-X_D)\n",
        "\n",
        ">>>[Graph options](#scrollTo=sm3RTN850S70)\n",
        "\n",
        ">>>[Data](#scrollTo=vdaqXkSCe7gG)\n",
        "\n",
        ">>>>[Load](#scrollTo=vdaqXkSCe7gG)\n",
        "\n",
        ">>>>[Randomize and split](#scrollTo=80yZ1lihmLQq)\n",
        "\n",
        ">>>>[Normalize](#scrollTo=xuphFNDqtEiW)\n",
        "\n",
        ">>>[Initialize result](#scrollTo=utzAT-gdBTqj)\n",
        "\n",
        ">>[OLS](#scrollTo=6dRLoTDhCrpO)\n",
        "\n",
        ">>[QuantReg](#scrollTo=esTAKyTyG1TS)\n",
        "\n",
        ">>[Random forests](#scrollTo=qCt2S4V9Uepc)\n",
        "\n",
        ">>[Gradient boosted trees](#scrollTo=6ssXXxsCA7FS)\n",
        "\n",
        ">>[Keras](#scrollTo=H55y_74W97jH)\n",
        "\n",
        ">>[TensorFlow](#scrollTo=PEy2M6X89tbD)\n",
        "\n",
        ">>[Compare quantile loss](#scrollTo=42LIBXl933YI)\n",
        "\n"
      ]
    },
    {
      "metadata": {
        "id": "PQdJbWCS9N3G",
        "colab_type": "text"
      },
      "cell_type": "markdown",
      "source": [
        "# Quantile regression from OLS to TensorFlow\n",
        "\n",
        "Use the [CPS data.](https://github.com/open-source-economics/taxdata/blob/master/cps_data/cps.csv.gz)\n",
        "\n",
        "Based on blog posts using:\n",
        "* Keras: https://towardsdatascience.com/deep-quantile-regression-c85481548b5a\n",
        "* Tensorflow: https://towardsdatascience.com/deep-quantile-regression-in-tensorflow-1dbc792fe597\n",
        "* statsmodels quantile regression: https://www.statsmodels.org/dev/examples/notebooks/generated/quantile_regression.html"
      ]
    },
    {
      "metadata": {
        "id": "VjvK4vP2-X_D",
        "colab_type": "text"
      },
      "cell_type": "markdown",
      "source": [
        "## Setup"
      ]
    },
    {
      "metadata": {
        "id": "yf26Fpx3-H-Y",
        "colab_type": "code",
        "colab": {
          "base_uri": "https://localhost:8080/",
          "height": 51
        },
        "outputId": "7e8d6132-aed4-4fbf-b130-2ea20a289239"
      },
      "cell_type": "code",
      "source": [
        "import pandas as pd\n",
        "import numpy as np\n",
        "\n",
        "import matplotlib as mpl\n",
        "import matplotlib.pyplot as plt\n",
        "import seaborn as sns\n",
        "\n",
        "import statsmodels.api as sm\n",
        "\n",
        "from scipy.stats import norm\n",
        "\n",
        "from sklearn import ensemble\n",
        "from sklearn.model_selection import train_test_split\n",
        "from sklearn import linear_model\n",
        "\n",
        "import tensorflow as tf\n",
        "from tensorflow import keras"
      ],
      "execution_count": 2,
      "outputs": [
        {
          "output_type": "stream",
          "text": [
            "/usr/local/lib/python3.6/dist-packages/statsmodels/compat/pandas.py:56: FutureWarning: The pandas.core.datetools module is deprecated and will be removed in a future version. Please use the pandas.tseries module instead.\n",
            "  from pandas.core import datetools\n"
          ],
          "name": "stderr"
        }
      ]
    },
    {
      "metadata": {
        "id": "VrIWCe8L1imk",
        "colab_type": "text"
      },
      "cell_type": "markdown",
      "source": [
        "Random forest and GBM options."
      ]
    },
    {
      "metadata": {
        "id": "-r1h-uzW1lC3",
        "colab_type": "code",
        "colab": {}
      },
      "cell_type": "code",
      "source": [
        "N_ESTIMATORS = 200"
      ],
      "execution_count": 0,
      "outputs": []
    },
    {
      "metadata": {
        "id": "oBg62ioP8v0l",
        "colab_type": "text"
      },
      "cell_type": "markdown",
      "source": [
        "Keras and TensorFlow options"
      ]
    },
    {
      "metadata": {
        "id": "SWyQCM_S8xvp",
        "colab_type": "code",
        "colab": {}
      },
      "cell_type": "code",
      "source": [
        "EPOCHS = 20\n",
        "BATCH_SIZE = 32\n",
        "UNITS = 64"
      ],
      "execution_count": 0,
      "outputs": []
    },
    {
      "metadata": {
        "id": "sm3RTN850S70",
        "colab_type": "text"
      },
      "cell_type": "markdown",
      "source": [
        "### Graph options"
      ]
    },
    {
      "metadata": {
        "id": "2x4nw9Pm1r6S",
        "colab_type": "code",
        "colab": {
          "base_uri": "https://localhost:8080/",
          "height": 51
        },
        "outputId": "baec6a25-b453-484d-90df-88e667746445"
      },
      "cell_type": "code",
      "source": [
        "!wget https://github.com/MaxGhenis/random/raw/master/Roboto-Regular.ttf -P /usr/local/lib/python3.6/dist-packages/matplotlib/mpl-data/fonts/ttf\n",
        "mpl.font_manager._rebuild()"
      ],
      "execution_count": 5,
      "outputs": [
        {
          "output_type": "stream",
          "text": [
            "\n",
            "Redirecting output to ‘wget-log’.\n"
          ],
          "name": "stdout"
        }
      ]
    },
    {
      "metadata": {
        "id": "Nhth3s2j0VIK",
        "colab_type": "code",
        "colab": {}
      },
      "cell_type": "code",
      "source": [
        "sns.set_style('white')\n",
        "DPI = 200\n",
        "mpl.rc('savefig', dpi=DPI)\n",
        "mpl.rcParams['figure.dpi'] = DPI\n",
        "mpl.rcParams['figure.figsize'] = 6.4, 4.8  # Default.\n",
        "mpl.rcParams['font.sans-serif'] = 'Roboto'\n",
        "mpl.rcParams['font.family'] = 'sans-serif'\n",
        "\n",
        "# Set title text color to dark gray (https://material.io/color) not black.\n",
        "TITLE_COLOR = '#212121'\n",
        "mpl.rcParams['text.color'] = TITLE_COLOR\n",
        "\n",
        "# Axis titles and tick marks are medium gray.\n",
        "AXIS_COLOR = '#757575'\n",
        "mpl.rcParams['axes.labelcolor'] = AXIS_COLOR\n",
        "mpl.rcParams['xtick.color'] = AXIS_COLOR\n",
        "mpl.rcParams['ytick.color'] = AXIS_COLOR"
      ],
      "execution_count": 0,
      "outputs": []
    },
    {
      "metadata": {
        "id": "vdaqXkSCe7gG",
        "colab_type": "text"
      },
      "cell_type": "markdown",
      "source": [
        "### Data\n",
        "\n",
        "#### Load"
      ]
    },
    {
      "metadata": {
        "id": "mZ5Ic69nk1OH",
        "colab_type": "code",
        "colab": {
          "base_uri": "https://localhost:8080/",
          "height": 51
        },
        "outputId": "2db8309e-0d7a-4002-851e-8f50aef5e6aa"
      },
      "cell_type": "code",
      "source": [
        "!wget -N https://github.com/open-source-economics/taxdata/raw/master/cps_data/cps.csv.gz\n",
        "!gunzip -f cps.csv.gz"
      ],
      "execution_count": 7,
      "outputs": [
        {
          "output_type": "stream",
          "text": [
            "\n",
            "Redirecting output to ‘wget-log.1’.\n"
          ],
          "name": "stdout"
        }
      ]
    },
    {
      "metadata": {
        "id": "6DX58bWylfOC",
        "colab_type": "code",
        "colab": {}
      },
      "cell_type": "code",
      "source": [
        "raw = pd.read_csv('cps.csv')"
      ],
      "execution_count": 0,
      "outputs": []
    },
    {
      "metadata": {
        "id": "SJhy87dDRHOU",
        "colab_type": "text"
      },
      "cell_type": "markdown",
      "source": [
        "### Preprocess\n",
        "\n",
        "Select only common variables."
      ]
    },
    {
      "metadata": {
        "id": "ZuuydcoblEmZ",
        "colab_type": "code",
        "colab": {}
      },
      "cell_type": "code",
      "source": [
        "TARGET = 'e00900'"
      ],
      "execution_count": 0,
      "outputs": []
    },
    {
      "metadata": {
        "id": "Y4GGDAsYFHoL",
        "colab_type": "code",
        "colab": {}
      },
      "cell_type": "code",
      "source": [
        "dat = raw.copy(deep=True)"
      ],
      "execution_count": 0,
      "outputs": []
    },
    {
      "metadata": {
        "id": "gOunEKiEFN8z",
        "colab_type": "text"
      },
      "cell_type": "markdown",
      "source": [
        "Feature engineering."
      ]
    },
    {
      "metadata": {
        "id": "jLeBHgDvRON9",
        "colab_type": "code",
        "colab": {}
      },
      "cell_type": "code",
      "source": [
        "# CPS data has MARS values of 1, 2, and 4.\n",
        "dat[['MARS2', 'MARS4']] = pd.get_dummies(dat.MARS, drop_first=True)"
      ],
      "execution_count": 0,
      "outputs": []
    },
    {
      "metadata": {
        "id": "se5-Q9-YSZcp",
        "colab_type": "code",
        "colab": {}
      },
      "cell_type": "code",
      "source": [
        "dat['e19800_e20100'] = dat.e19800 + dat.e20100"
      ],
      "execution_count": 0,
      "outputs": []
    },
    {
      "metadata": {
        "id": "-5PrkL6RRI97",
        "colab_type": "code",
        "colab": {}
      },
      "cell_type": "code",
      "source": [
        "PREDICTORS =  ['DSI', 'EIC', 'MARS2', 'MARS4', 'XTOT', \n",
        "               'e00200', 'e00300', 'e00400', 'e00600', 'e00800',\n",
        "               'e01400', 'e01500', 'e01700', 'e02100', 'e02300', 'e02400', \n",
        "               'e03150', 'e03210', 'e03240', 'e03270', 'e03300', 'e17500', \n",
        "               'e18400', 'e18500', 'e19200', 'e19800_e20100', 'e20400', \n",
        "               'e32800', 'f2441', 'n24', 'e01100']"
      ],
      "execution_count": 0,
      "outputs": []
    },
    {
      "metadata": {
        "id": "dZKQQ6zOSmju",
        "colab_type": "code",
        "colab": {}
      },
      "cell_type": "code",
      "source": [
        "dat = dat[PREDICTORS + [TARGET]]"
      ],
      "execution_count": 0,
      "outputs": []
    },
    {
      "metadata": {
        "id": "oI4nrhsJFdCw",
        "colab_type": "text"
      },
      "cell_type": "markdown",
      "source": [
        "Create log-transformed version. Calculate y later."
      ]
    },
    {
      "metadata": {
        "id": "GXwWatLxFe9p",
        "colab_type": "code",
        "colab": {}
      },
      "cell_type": "code",
      "source": [
        "LOG_PREDICTORS = ['e00200', 'e00300', 'e00400', 'e00600', 'e00800',\n",
        "                  'e01400', 'e01500', 'e01700', 'e02100', 'e02300', 'e02400', \n",
        "                  'e03150', 'e03210', 'e03240', 'e03270', 'e03300', 'e17500', \n",
        "                  'e18400', 'e18500', 'e19200', 'e19800_e20100', 'e20400', \n",
        "                  'e32800', 'e01100']"
      ],
      "execution_count": 0,
      "outputs": []
    },
    {
      "metadata": {
        "id": "T-RwPF4-Gb9I",
        "colab_type": "code",
        "colab": {}
      },
      "cell_type": "code",
      "source": [
        "for i in LOG_PREDICTORS:\n",
        "  dat[i + '_log'] = np.log(dat[i] - dat[i].min() + 1)"
      ],
      "execution_count": 0,
      "outputs": []
    },
    {
      "metadata": {
        "id": "80yZ1lihmLQq",
        "colab_type": "text"
      },
      "cell_type": "markdown",
      "source": [
        "#### Randomize and split\n",
        "\n",
        "Initial order may or may not be random."
      ]
    },
    {
      "metadata": {
        "id": "qNcGS0-cprG_",
        "colab_type": "code",
        "colab": {}
      },
      "cell_type": "code",
      "source": [
        "X_train_full, X_test_full, y_train, y_test = train_test_split(\n",
        "    dat.drop(TARGET, axis=1), dat[TARGET], test_size=0.2, random_state=42)"
      ],
      "execution_count": 0,
      "outputs": []
    },
    {
      "metadata": {
        "id": "xuphFNDqtEiW",
        "colab_type": "text"
      },
      "cell_type": "markdown",
      "source": [
        "#### Normalize"
      ]
    },
    {
      "metadata": {
        "id": "f4nQmq2b9H7s",
        "colab_type": "code",
        "colab": {}
      },
      "cell_type": "code",
      "source": [
        "mean = X_train_full.mean(axis=0)\n",
        "std = X_train_full.std(axis=0)\n",
        "X_train_full_std = (X_train_full - mean) / std\n",
        "X_test_full_std = (X_test_full - mean) / std"
      ],
      "execution_count": 0,
      "outputs": []
    },
    {
      "metadata": {
        "id": "oVp-_TEuIiWZ",
        "colab_type": "text"
      },
      "cell_type": "markdown",
      "source": [
        "Separate into standard and log versions."
      ]
    },
    {
      "metadata": {
        "id": "FVC8snhaIll-",
        "colab_type": "code",
        "colab": {}
      },
      "cell_type": "code",
      "source": [
        "X_train = X_train_full_std[PREDICTORS]\n",
        "X_test = X_test_full_std[PREDICTORS]\n",
        "\n",
        "X_train_log = X_train_full_std.drop(PREDICTORS, axis=1)\n",
        "X_test_log = X_test_full_std.drop(PREDICTORS, axis=1)"
      ],
      "execution_count": 0,
      "outputs": []
    },
    {
      "metadata": {
        "id": "4Ho4sGWUK4gj",
        "colab_type": "text"
      },
      "cell_type": "markdown",
      "source": [
        "Reformat data for `statsmodels`."
      ]
    },
    {
      "metadata": {
        "id": "3JHMdYEsK0Fy",
        "colab_type": "code",
        "colab": {}
      },
      "cell_type": "code",
      "source": [
        "X_train_w_constant = sm.add_constant(X_train)\n",
        "X_test_w_constant = sm.add_constant(X_test)\n",
        "\n",
        "X_train_log_w_constant = sm.add_constant(X_train_log)\n",
        "X_test_log_w_constant = sm.add_constant(X_test_log)"
      ],
      "execution_count": 0,
      "outputs": []
    },
    {
      "metadata": {
        "id": "0b3NaFmD1Ccs",
        "colab_type": "text"
      },
      "cell_type": "markdown",
      "source": [
        "Reformat 1-column data for `tensorflow`."
      ]
    },
    {
      "metadata": {
        "id": "Uw3v_o1E-TL4",
        "colab_type": "code",
        "colab": {}
      },
      "cell_type": "code",
      "source": [
        "y_train_expanded = np.expand_dims(y_train, 1)"
      ],
      "execution_count": 0,
      "outputs": []
    },
    {
      "metadata": {
        "id": "rsEPQ7D5CVvY",
        "colab_type": "text"
      },
      "cell_type": "markdown",
      "source": [
        "#### Data for two-stage logit+OLS\n",
        "\n",
        "Log features."
      ]
    },
    {
      "metadata": {
        "id": "mDZHkXiSCaFQ",
        "colab_type": "code",
        "colab": {}
      },
      "cell_type": "code",
      "source": [
        "y_train_sign = np.sign(y_train)\n",
        "y_train_pos = y_train[y_train > 0]\n",
        "y_train_pos_log = np.log(y_train_pos)\n",
        "X_train_log_w_constant_pos = X_train_log_w_constant[y_train > 0]\n",
        "y_train_neg = y_train[y_train < 0]\n",
        "y_train_neg_log = np.log(-y_train_neg)\n",
        "X_train_log_w_constant_neg = X_train_log_w_constant[y_train < 0]"
      ],
      "execution_count": 0,
      "outputs": []
    },
    {
      "metadata": {
        "id": "utzAT-gdBTqj",
        "colab_type": "text"
      },
      "cell_type": "markdown",
      "source": [
        "### Initialize result\n",
        "\n",
        "Dataset per method, quantile, and `x` value."
      ]
    },
    {
      "metadata": {
        "id": "Yl9sksV-Gqz1",
        "colab_type": "code",
        "colab": {}
      },
      "cell_type": "code",
      "source": [
        "METHODS = ['OLS', 'LogitOLS', 'QuantReg', 'Random forests', 'Gradient boosting', 'Keras',\n",
        "           'TensorFlow']\n",
        "\n",
        "QUANTILES = [0.1, 0.3, 0.5, 0.7, 0.9]\n",
        "\n",
        "quantiles_legend = [str(int(q * 100)) + 'th percentile' for q in QUANTILES]"
      ],
      "execution_count": 0,
      "outputs": []
    },
    {
      "metadata": {
        "id": "8YjjbPaDRPgV",
        "colab_type": "code",
        "colab": {}
      },
      "cell_type": "code",
      "source": [
        "# sns.set_palette(sns.color_palette('Blues', len(QUANTILES)))\n",
        "sns.set_palette(sns.color_palette('Blues'))\n",
        "# Set dots to a light gray\n",
        "dot_color = sns.color_palette('coolwarm', 3)[1]"
      ],
      "execution_count": 0,
      "outputs": []
    },
    {
      "metadata": {
        "id": "UTPkMtz-BlcI",
        "colab_type": "code",
        "colab": {}
      },
      "cell_type": "code",
      "source": [
        "preds = np.array([(method, q, ix) \n",
        "                  for method in METHODS \n",
        "                  for q in QUANTILES\n",
        "                  for ix in y_test.index])\n",
        "preds = pd.DataFrame(preds)\n",
        "preds.columns = ['method', 'q', 'ix']\n",
        "preds['label'] = np.resize(y_test, preds.shape[0])\n",
        "preds = preds.apply(lambda x: pd.to_numeric(x, errors='ignore'))"
      ],
      "execution_count": 0,
      "outputs": []
    },
    {
      "metadata": {
        "id": "6dRLoTDhCrpO",
        "colab_type": "text"
      },
      "cell_type": "markdown",
      "source": [
        "## OLS\n",
        "\n",
        "https://stackoverflow.com/questions/17559408/confidence-and-prediction-intervals-with-statsmodels"
      ]
    },
    {
      "metadata": {
        "id": "kw6TMkrSxz2K",
        "colab_type": "code",
        "colab": {}
      },
      "cell_type": "code",
      "source": [
        "ols = sm.OLS(y_train, X_train_w_constant).fit()"
      ],
      "execution_count": 0,
      "outputs": []
    },
    {
      "metadata": {
        "id": "sj5U8ws6xr1G",
        "colab_type": "code",
        "colab": {}
      },
      "cell_type": "code",
      "source": [
        "def ols_quantile(m, X, q):\n",
        "  # m: OLS model.\n",
        "  # X: X matrix.\n",
        "  # q: Quantile.\n",
        "  #\n",
        "  # Set alpha based on q. Vectorized for different values of q.\n",
        "  mean_pred = m.predict(X)\n",
        "  se = np.sqrt(m.scale)\n",
        "  return mean_pred + norm.ppf(q) * se"
      ],
      "execution_count": 0,
      "outputs": []
    },
    {
      "metadata": {
        "id": "J3_c9gO8MK9y",
        "colab_type": "code",
        "colab": {}
      },
      "cell_type": "code",
      "source": [
        "preds.loc[preds.method == 'OLS', 'pred'] = np.concatenate(\n",
        "    [ols_quantile(ols, X_test_w_constant, q) for q in QUANTILES]) "
      ],
      "execution_count": 0,
      "outputs": []
    },
    {
      "metadata": {
        "id": "dcIdeWX_TRX8",
        "colab_type": "text"
      },
      "cell_type": "markdown",
      "source": [
        "## Logit + OLS\n",
        "\n",
        "Predict the sign (negative/zero/positive), then apply log regressions.\n",
        "\n",
        "See [taxdata #221](https://github.com/open-source-economics/taxdata/issues/221), [taxdata #267](https://github.com/open-source-economics/taxdata/issues/267), [taxdata #275](https://github.com/open-source-economics/taxdata/pull/275), [my notebook](http://nbviewer.jupyter.org/github/MaxGhenis/taxcalc-notebooks/blob/master/exploratory/random_forests_imputation.ipynb), and [Avi Leventhal's notebook](http://nbviewer.jupyter.org/github/Abraham-Leventhal/taxdata/blob/Abraham-Leventhal-patch-1/cps_data/Imputation%20Project/P22250%20Full%20Imputation%20RF%20vs%20mnlogitOLS.ipynb)."
      ]
    },
    {
      "metadata": {
        "id": "8_sBdrjsUxOB",
        "colab_type": "text"
      },
      "cell_type": "markdown",
      "source": [
        "Segment into positive and negative.\n"
      ]
    },
    {
      "metadata": {
        "id": "c5bcLQF-lHSt",
        "colab_type": "code",
        "colab": {
          "base_uri": "https://localhost:8080/",
          "height": 85
        },
        "outputId": "ebfbef88-fbca-415e-d3d2-d2a5e4a3693c"
      },
      "cell_type": "code",
      "source": [
        "mult = linear_model.LogisticRegression(\n",
        "    multi_class='multinomial', solver='newton-cg', random_state=3)\n",
        "mult.fit(X_train_log, y_train_sign)"
      ],
      "execution_count": 125,
      "outputs": [
        {
          "output_type": "execute_result",
          "data": {
            "text/plain": [
              "LogisticRegression(C=1.0, class_weight=None, dual=False, fit_intercept=True,\n",
              "          intercept_scaling=1, max_iter=100, multi_class='multinomial',\n",
              "          n_jobs=1, penalty='l2', random_state=3, solver='newton-cg',\n",
              "          tol=0.0001, verbose=0, warm_start=False)"
            ]
          },
          "metadata": {
            "tags": []
          },
          "execution_count": 125
        }
      ]
    },
    {
      "metadata": {
        "id": "2nhLzZucVCdd",
        "colab_type": "code",
        "colab": {}
      },
      "cell_type": "code",
      "source": [
        "ols_pos = sm.OLS(y_train_pos_log, X_train_log_w_constant_pos).fit()\n",
        "ols_neg = sm.OLS(y_train_neg_log, X_train_log_w_constant_neg).fit()"
      ],
      "execution_count": 0,
      "outputs": []
    },
    {
      "metadata": {
        "id": "O-ccxbmpmfmr",
        "colab_type": "text"
      },
      "cell_type": "markdown",
      "source": [
        "### Predict"
      ]
    },
    {
      "metadata": {
        "id": "0TR5HbRTnGbz",
        "colab_type": "code",
        "colab": {}
      },
      "cell_type": "code",
      "source": [
        "mult_probs = mult.predict_proba(X_test_log)"
      ],
      "execution_count": 0,
      "outputs": []
    },
    {
      "metadata": {
        "id": "Ev_ii5i5mi3s",
        "colab_type": "code",
        "colab": {}
      },
      "cell_type": "code",
      "source": [
        "test_logit_ols = pd.DataFrame({\n",
        "    'neg_prob': mult_probs[:, 0],\n",
        "    'zero_prob': mult_probs[:, 1],\n",
        "    'neg_pred': ols_neg.predict(X_test_log_w_constant),\n",
        "    'neg_se': np.sqrt(ols_neg.scale),\n",
        "    'pos_pred': ols_pos.predict(X_test_log_w_constant),\n",
        "    'pos_se': np.sqrt(ols_pos.scale)\n",
        "})"
      ],
      "execution_count": 0,
      "outputs": []
    },
    {
      "metadata": {
        "id": "kuit9rnyK1xE",
        "colab_type": "code",
        "colab": {}
      },
      "cell_type": "code",
      "source": [
        "def ols_q(mean, q, se):\n",
        "  return mean + norm.ppf(q) * se"
      ],
      "execution_count": 0,
      "outputs": []
    },
    {
      "metadata": {
        "id": "kPjCieienwR0",
        "colab_type": "code",
        "colab": {}
      },
      "cell_type": "code",
      "source": [
        "def mult_ols_quantile(df, q):\n",
        "  # df: DataFrame with columns for neg_prob, zero_prob, neg_pred, neg_se, \n",
        "  #     pos_pred, and pos_se.\n",
        "  # q: Quantile.\n",
        "  #\n",
        "  # Calculate the quantile within each OLS model.\n",
        "  neg_q = q / df.neg_prob\n",
        "  pos_q = (q - df.neg_prob - df.zero_prob) / (1 - df.neg_prob - df.zero_prob)\n",
        "  sign = np.where(q < df.neg_prob, -1, \n",
        "                  np.where(q < (df.neg_prob + df.zero_prob), 0, 1))\n",
        "  return np.where(sign == -1, -np.exp(ols_q(df.neg_pred, neg_q, df.neg_se)),\n",
        "                  np.where(sign == 1, \n",
        "                           np.exp(ols_q(df.pos_pred, pos_q, df.pos_se)),\n",
        "                           0))"
      ],
      "execution_count": 0,
      "outputs": []
    },
    {
      "metadata": {
        "id": "4cOiA6uos2GV",
        "colab_type": "code",
        "colab": {}
      },
      "cell_type": "code",
      "source": [
        "preds.loc[preds.method == 'LogitOLS', 'pred'] = np.concatenate(\n",
        "    [mult_ols_quantile(test_logit_ols, q) for q in QUANTILES]) "
      ],
      "execution_count": 0,
      "outputs": []
    },
    {
      "metadata": {
        "id": "esTAKyTyG1TS",
        "colab_type": "text"
      },
      "cell_type": "markdown",
      "source": [
        "## QuantReg\n",
        "\n",
        "https://www.statsmodels.org/dev/examples/notebooks/generated/quantile_regression.html"
      ]
    },
    {
      "metadata": {
        "id": "nqQsdsgxG39N",
        "colab_type": "code",
        "colab": {}
      },
      "cell_type": "code",
      "source": [
        "# Don't fit yet, since we'll fit once per quantile.\n",
        "quantreg = sm.QuantReg(y_train, X_train_w_constant)"
      ],
      "execution_count": 0,
      "outputs": []
    },
    {
      "metadata": {
        "id": "KzSxkZpoTnr2",
        "colab_type": "code",
        "colab": {}
      },
      "cell_type": "code",
      "source": [
        "preds.loc[preds.method == 'QuantReg', 'pred'] = np.concatenate(\n",
        "    [quantreg.fit(q=q).predict(X_test_w_constant) for q in QUANTILES]) "
      ],
      "execution_count": 0,
      "outputs": []
    },
    {
      "metadata": {
        "id": "qCt2S4V9Uepc",
        "colab_type": "text"
      },
      "cell_type": "markdown",
      "source": [
        "## Random forests"
      ]
    },
    {
      "metadata": {
        "id": "0PerkzyaUgRg",
        "colab_type": "code",
        "colab": {
          "base_uri": "https://localhost:8080/",
          "height": 170
        },
        "outputId": "9ef8de0f-5754-4e8a-dc2d-b32610178f0c"
      },
      "cell_type": "code",
      "source": [
        "rf = ensemble.RandomForestRegressor(n_estimators=N_ESTIMATORS, \n",
        "                                    min_samples_leaf=1, random_state=3, \n",
        "                                    verbose=True, \n",
        "                                    n_jobs=-1)  # Use maximum number of cores.\n",
        "rf.fit(X_train, y_train)"
      ],
      "execution_count": 37,
      "outputs": [
        {
          "output_type": "stream",
          "text": [
            "[Parallel(n_jobs=-1)]: Done  46 tasks      | elapsed:  3.8min\n",
            "[Parallel(n_jobs=-1)]: Done 196 tasks      | elapsed: 16.0min\n",
            "[Parallel(n_jobs=-1)]: Done 200 out of 200 | elapsed: 16.3min finished\n"
          ],
          "name": "stderr"
        },
        {
          "output_type": "execute_result",
          "data": {
            "text/plain": [
              "RandomForestRegressor(bootstrap=True, criterion='mse', max_depth=None,\n",
              "           max_features='auto', max_leaf_nodes=None,\n",
              "           min_impurity_decrease=0.0, min_impurity_split=None,\n",
              "           min_samples_leaf=1, min_samples_split=2,\n",
              "           min_weight_fraction_leaf=0.0, n_estimators=200, n_jobs=-1,\n",
              "           oob_score=False, random_state=3, verbose=True, warm_start=False)"
            ]
          },
          "metadata": {
            "tags": []
          },
          "execution_count": 37
        }
      ]
    },
    {
      "metadata": {
        "id": "_xwAmHf4QICh",
        "colab_type": "code",
        "colab": {}
      },
      "cell_type": "code",
      "source": [
        "def rf_quantile(m, X, q):\n",
        "    rf_preds = []\n",
        "    for estimator in m.estimators_:\n",
        "        rf_preds.append(estimator.predict(X))\n",
        "    rf_preds = np.array(rf_preds).transpose()  # One row per record.\n",
        "    return np.percentile(rf_preds, q * 100, axis=1)"
      ],
      "execution_count": 0,
      "outputs": []
    },
    {
      "metadata": {
        "id": "Mcza9OH6PysW",
        "colab_type": "code",
        "colab": {}
      },
      "cell_type": "code",
      "source": [
        "preds.loc[preds.method == 'Random forests', 'pred'] = np.concatenate(\n",
        "    [rf_quantile(rf, X_test, q) for q in QUANTILES]) "
      ],
      "execution_count": 0,
      "outputs": []
    },
    {
      "metadata": {
        "id": "6ssXXxsCA7FS",
        "colab_type": "text"
      },
      "cell_type": "markdown",
      "source": [
        "## Gradient boosted trees"
      ]
    },
    {
      "metadata": {
        "id": "g7s7Grj-A-Sf",
        "colab_type": "code",
        "colab": {}
      },
      "cell_type": "code",
      "source": [
        "def gb_quantile(X_train, train_labels, X, q):\n",
        "  print(q)\n",
        "  gbf = ensemble.GradientBoostingRegressor(loss='quantile', alpha=q,\n",
        "                                           n_estimators=N_ESTIMATORS,\n",
        "                                           max_depth=3,\n",
        "                                           verbose=True,\n",
        "                                           learning_rate=0.1, \n",
        "                                           min_samples_leaf=9,\n",
        "                                           min_samples_split=9)\n",
        "  gbf.fit(X_train, train_labels)\n",
        "  return gbf.predict(X)"
      ],
      "execution_count": 0,
      "outputs": []
    },
    {
      "metadata": {
        "id": "AJLhBaTcCgZL",
        "colab_type": "code",
        "colab": {
          "base_uri": "https://localhost:8080/",
          "height": 1887
        },
        "outputId": "fd0537e2-37f6-4f55-c9f5-0edd82975b83"
      },
      "cell_type": "code",
      "source": [
        "preds.loc[preds.method == 'Gradient boosting', 'pred'] = np.concatenate(\n",
        "    [gb_quantile(X_train, y_train, X_test, q)\n",
        "     for q in QUANTILES])"
      ],
      "execution_count": 41,
      "outputs": [
        {
          "output_type": "stream",
          "text": [
            "0.1\n",
            "      Iter       Train Loss   Remaining Time \n",
            "         1        1035.2734            2.26m\n",
            "         2        1035.2734            2.23m\n",
            "         3        1035.2734            2.23m\n",
            "         4        1035.2734            2.22m\n",
            "         5        1035.2734            2.22m\n",
            "         6        1035.2734            2.22m\n",
            "         7        1035.2734            2.22m\n",
            "         8        1035.2734            2.22m\n",
            "         9        1035.2734            2.21m\n",
            "        10        1035.2734            2.21m\n",
            "        20        1035.2734            2.10m\n",
            "        30        1035.2734            2.00m\n",
            "        40        1035.2734            1.90m\n",
            "        50        1035.2734            1.78m\n",
            "        60        1035.2734            1.66m\n",
            "        70        1035.2734            1.54m\n",
            "        80        1035.2734            1.42m\n",
            "        90        1035.2734            1.30m\n",
            "       100        1035.2734            1.18m\n",
            "       200        1035.2734            0.00s\n",
            "0.3\n",
            "      Iter       Train Loss   Remaining Time \n",
            "         1        2870.9439            2.38m\n",
            "         2        2870.8054            2.37m\n",
            "         3        2870.7081            2.40m\n",
            "         4        2869.6915            2.40m\n",
            "         5        2869.0260            2.40m\n",
            "         6        2868.7040            2.38m\n",
            "         7        2868.3893            2.37m\n",
            "         8        2868.1410            2.36m\n",
            "         9        2867.9482            2.35m\n",
            "        10        2867.7302            2.34m\n",
            "        20        2866.5036            2.27m\n",
            "        30        2862.5196            2.14m\n",
            "        40        2860.7919            2.01m\n",
            "        50        2857.2792            1.90m\n",
            "        60        2856.3757            1.79m\n",
            "        70        2851.8679            1.66m\n",
            "        80        2849.5281            1.54m\n",
            "        90        2846.7930            1.42m\n",
            "       100        2844.0305            1.29m\n",
            "       200        2830.1153            0.00s\n",
            "0.5\n",
            "      Iter       Train Loss   Remaining Time \n",
            "         1        4692.0647            2.61m\n",
            "         2        4678.8259            2.64m\n",
            "         3        4667.3195            2.58m\n",
            "         4        4658.5275            2.56m\n",
            "         5        4649.6677            2.52m\n",
            "         6        4642.8820            2.48m\n",
            "         7        4636.9898            2.46m\n",
            "         8        4631.8154            2.43m\n",
            "         9        4626.1916            2.41m\n",
            "        10        4619.1359            2.40m\n",
            "        20        4598.4591            2.27m\n",
            "        30        4593.3814            2.13m\n",
            "        40        4588.2154            1.99m\n",
            "        50        4583.3671            1.85m\n",
            "        60        4578.0011            1.73m\n",
            "        70        4573.5810            1.61m\n",
            "        80        4569.7910            1.49m\n",
            "        90        4566.1793            1.37m\n",
            "       100        4562.6173            1.25m\n",
            "       200        4536.8804            0.00s\n",
            "0.7\n",
            "      Iter       Train Loss   Remaining Time \n",
            "         1        6488.9940            2.95m\n",
            "         2        6434.5371            2.94m\n",
            "         3        6397.0718            2.90m\n",
            "         4        6355.7493            2.88m\n",
            "         5        6321.0080            2.83m\n",
            "         6        6291.4892            2.82m\n",
            "         7        6269.4393            2.81m\n",
            "         8        6251.7225            2.80m\n",
            "         9        6238.1897            2.78m\n",
            "        10        6227.4985            2.77m\n",
            "        20        5840.2182            2.68m\n",
            "        30        5743.4240            2.60m\n",
            "        40        5705.0136            2.46m\n",
            "        50        5692.1113            2.30m\n",
            "        60        5685.9822            2.15m\n",
            "        70        5680.2777            2.01m\n",
            "        80        5675.6369            1.87m\n",
            "        90        5671.0865            1.71m\n",
            "       100        5666.9214            1.55m\n",
            "       200        5643.8790            0.00s\n",
            "0.9\n",
            "      Iter       Train Loss   Remaining Time \n",
            "         1        7563.8009            2.44m\n",
            "         2        7353.6364            2.42m\n",
            "         3        7161.3795            2.42m\n",
            "         4        6904.6536            2.50m\n",
            "         5        6683.4869            2.53m\n",
            "         6        6496.3361            2.55m\n",
            "         7        6323.7878            2.58m\n",
            "         8        6184.3325            2.59m\n",
            "         9        6057.4769            2.59m\n",
            "        10        5946.5049            2.59m\n",
            "        20        5298.2247            2.41m\n",
            "        30        5083.7560            2.29m\n",
            "        40        4997.9081            2.17m\n",
            "        50        4892.4644            2.04m\n",
            "        60        4821.2919            1.90m\n",
            "        70        4783.5055            1.79m\n",
            "        80        4778.8681            1.68m\n",
            "        90        4772.9954            1.54m\n",
            "       100        4770.0468            1.39m\n",
            "       200        4709.8788            0.00s\n"
          ],
          "name": "stdout"
        }
      ]
    },
    {
      "metadata": {
        "id": "H55y_74W97jH",
        "colab_type": "text"
      },
      "cell_type": "markdown",
      "source": [
        "## Keras\n",
        "\n",
        "From https://github.com/sachinruk/KerasQuantileModel/blob/master/Keras%20Quantile%20Model.ipynb\n",
        "\n",
        "One area that Deep Learning has not explored extensively is the uncertainty in estimates. However, as far as decision making goes, most people actually require quantiles as opposed to true uncertainty in an estimate. eg. For a given age the weight of an individual will vary. What would be interesting is the (for arguments sake) the 10th and 90th percentile. The uncertainty of the estimate of an individuals weight is less interesting."
      ]
    },
    {
      "metadata": {
        "id": "FcPl_HNl9bzY",
        "colab_type": "code",
        "colab": {}
      },
      "cell_type": "code",
      "source": [
        "def tilted_loss(q, y, f):\n",
        "    e = (y - f)\n",
        "    return keras.backend.mean(keras.backend.maximum(q * e, (q - 1) * e), \n",
        "                              axis=-1)"
      ],
      "execution_count": 0,
      "outputs": []
    },
    {
      "metadata": {
        "id": "FUGzb8LAY2TI",
        "colab_type": "code",
        "colab": {}
      },
      "cell_type": "code",
      "source": [
        "optimizer = tf.train.AdamOptimizer(0.001)\n",
        "early_stop = keras.callbacks.EarlyStopping(monitor='val_loss', patience=20)"
      ],
      "execution_count": 0,
      "outputs": []
    },
    {
      "metadata": {
        "id": "yaR-Nnep2t7Z",
        "colab_type": "code",
        "colab": {}
      },
      "cell_type": "code",
      "source": [
        "sess = tf.Session()\n",
        "#tf.reset_default_graph()"
      ],
      "execution_count": 0,
      "outputs": []
    },
    {
      "metadata": {
        "id": "3QoChH3zXVnl",
        "colab_type": "code",
        "colab": {}
      },
      "cell_type": "code",
      "source": [
        "def keras_pred(x_train, train_labels, x_test, q):\n",
        "    print(q)\n",
        "#     optimizer = tf.train.AdamOptimizer(0.001)\n",
        "#     early_stop = keras.callbacks.EarlyStopping(monitor='val_loss', patience=20)\n",
        "    # Set input_dim for the number of features.\n",
        "    if len(x_train.shape) == 1:\n",
        "        input_dim = 1\n",
        "    else:\n",
        "        input_dim = x_train.shape[1]\n",
        "    model = keras.Sequential([\n",
        "      keras.layers.Dense(UNITS, activation=tf.nn.relu,\n",
        "                         input_dim=input_dim),\n",
        "      keras.layers.Dense(UNITS, activation=tf.nn.relu),\n",
        "      keras.layers.Dense(1)\n",
        "    ])\n",
        "    \n",
        "    model.compile(loss=lambda y, f: tilted_loss(q, y, f), optimizer=optimizer)\n",
        "    model.fit(x_train, train_labels, epochs=EPOCHS, batch_size=BATCH_SIZE,\n",
        "              verbose=0, validation_split=0.2, callbacks=[early_stop])\n",
        "    \n",
        "    # Predict the quantile\n",
        "    return model.predict(x_test)"
      ],
      "execution_count": 0,
      "outputs": []
    },
    {
      "metadata": {
        "id": "V8TX2Mn8wHVX",
        "colab_type": "code",
        "colab": {
          "base_uri": "https://localhost:8080/",
          "height": 102
        },
        "outputId": "009745d7-e52d-4412-eadb-66d27bc0e4d3"
      },
      "cell_type": "code",
      "source": [
        "preds.loc[preds.method == 'Keras', 'pred'] = np.concatenate(\n",
        "    [keras_pred(X_train, y_train, X_test, q) \n",
        "     for q in QUANTILES])"
      ],
      "execution_count": 46,
      "outputs": [
        {
          "output_type": "stream",
          "text": [
            "0.1\n",
            "0.3\n",
            "0.5\n",
            "0.7\n",
            "0.9\n"
          ],
          "name": "stdout"
        }
      ]
    },
    {
      "metadata": {
        "id": "PEy2M6X89tbD",
        "colab_type": "text"
      },
      "cell_type": "markdown",
      "source": [
        "## TensorFlow\n",
        "\n",
        "Adapted from https://github.com/strongio/quantile-regression-tensorflow/blob/master/Quantile%20Loss.ipynb"
      ]
    },
    {
      "metadata": {
        "id": "rpC7QNgqAaRE",
        "colab_type": "code",
        "colab": {}
      },
      "cell_type": "code",
      "source": [
        "# Initialize session\n",
        "tf.reset_default_graph()\n",
        "sess = tf.Session()"
      ],
      "execution_count": 0,
      "outputs": []
    },
    {
      "metadata": {
        "id": "UlIlyNTIZqed",
        "colab_type": "code",
        "colab": {}
      },
      "cell_type": "code",
      "source": [
        "# Create network\n",
        "class q_model:\n",
        "    def __init__(self, \n",
        "                 sess,\n",
        "                 quantiles,\n",
        "                 in_shape=1, \n",
        "                 out_shape=1, \n",
        "                 batch_size=32):\n",
        "        \n",
        "#         tf.reset_default_graph()\n",
        "        \n",
        "        self.sess = sess\n",
        "        \n",
        "        self.quantiles = quantiles\n",
        "        self.num_quantiles = len(quantiles)\n",
        "        \n",
        "        self.in_shape = in_shape\n",
        "        self.out_shape = out_shape\n",
        "        self.batch_size = batch_size\n",
        "        \n",
        "        self.outputs = []\n",
        "        self.losses = []\n",
        "        self.loss_history = []\n",
        "        \n",
        "        self.build_model()\n",
        "        \n",
        "    def build_model(self, scope='q_model', reuse=tf.AUTO_REUSE): \n",
        "        with tf.variable_scope(scope, reuse=reuse) as scope:\n",
        "            self.x = tf.placeholder(tf.float32, shape=(None, self.in_shape))\n",
        "            self.y = tf.placeholder(tf.float32, shape=(None, self.out_shape))\n",
        "\n",
        "            self.layer0 = tf.layers.dense(self.x, \n",
        "                                          units=UNITS, \n",
        "                                          activation=tf.nn.relu)\n",
        "            self.layer1 = tf.layers.dense(self.layer0, \n",
        "                                          units=UNITS,\n",
        "                                          activation=tf.nn.relu)\n",
        "\n",
        "            # Create outputs and losses for all quantiles\n",
        "            for i, q in enumerate(self.quantiles):\n",
        "                # Get output layers \n",
        "                output = tf.layers.dense(self.layer1, self.out_shape,\n",
        "                                         name=\"{}_q{}\".format(i, int(q * 100)))\n",
        "                self.outputs.append(output)\n",
        "                \n",
        "                # Create losses\n",
        "                error = tf.subtract(self.y, output)\n",
        "                loss = tf.reduce_mean(tf.maximum(q * error, (q - 1) * error),\n",
        "                                      axis=-1)\n",
        "\n",
        "                self.losses.append(loss)\n",
        "\n",
        "            # Create combined loss\n",
        "            self.combined_loss = tf.reduce_mean(tf.add_n(self.losses))\n",
        "            self.train_step = tf.train.AdamOptimizer().minimize(\n",
        "                self.combined_loss)\n",
        "\n",
        "    def fit(self, x, y, epochs=EPOCHS):\n",
        "        for epoch in range(epochs):\n",
        "            epoch_losses = []\n",
        "            for idx in range(0, x.shape[0], self.batch_size):\n",
        "                batch_x = x[idx : min(idx + self.batch_size, x.shape[0]), :]\n",
        "                batch_y = y[idx : min(idx + self.batch_size, y.shape[0]), :]\n",
        "\n",
        "                feed_dict = {self.x: batch_x,\n",
        "                             self.y: batch_y}\n",
        "\n",
        "                _, c_loss = self.sess.run([self.train_step, self.combined_loss],\n",
        "                                          feed_dict)\n",
        "                epoch_losses.append(c_loss)\n",
        "                \n",
        "            epoch_loss =  np.mean(epoch_losses)\n",
        "            self.loss_history.append(epoch_loss)\n",
        "            if epoch % 10 == 0:\n",
        "                print(\"Epoch {}: {}\".format(epoch, epoch_loss))\n",
        "            \n",
        "    def predict(self, x):   \n",
        "        # Run model to get outputs\n",
        "        feed_dict = {self.x: x}\n",
        "        predictions = sess.run(self.outputs, feed_dict)\n",
        "        \n",
        "        return predictions"
      ],
      "execution_count": 0,
      "outputs": []
    },
    {
      "metadata": {
        "id": "2n7hPnDU__Yd",
        "colab_type": "code",
        "colab": {}
      },
      "cell_type": "code",
      "source": [
        "# Instantiate model\n",
        "tf_model = q_model(sess, quantiles=QUANTILES, in_shape=X_train.shape[1],\n",
        "                   out_shape=1, batch_size=BATCH_SIZE)\n",
        "\n",
        "# Initialize all variables\n",
        "init_op = tf.global_variables_initializer()\n",
        "sess.run(init_op)"
      ],
      "execution_count": 0,
      "outputs": []
    },
    {
      "metadata": {
        "id": "6zX3wO8tAXH6",
        "colab_type": "code",
        "colab": {
          "base_uri": "https://localhost:8080/",
          "height": 51
        },
        "outputId": "b233db60-fc7e-4825-b2e4-f749de18ee58"
      },
      "cell_type": "code",
      "source": [
        "# Run training\n",
        "tf_model.fit(np.array(X_train), y_train_expanded, EPOCHS)"
      ],
      "execution_count": 50,
      "outputs": [
        {
          "output_type": "stream",
          "text": [
            "Epoch 0: 21430.86328125\n",
            "Epoch 10: 15456.2646484375\n"
          ],
          "name": "stdout"
        }
      ]
    },
    {
      "metadata": {
        "id": "YBuUtIhA2FZm",
        "colab_type": "code",
        "colab": {}
      },
      "cell_type": "code",
      "source": [
        "preds.loc[preds.method == 'TensorFlow', 'pred'] = \\\n",
        "    np.array([item for sublist in tf_model.predict(X_test)\n",
        "              for item in sublist])"
      ],
      "execution_count": 0,
      "outputs": []
    },
    {
      "metadata": {
        "id": "42LIBXl933YI",
        "colab_type": "text"
      },
      "cell_type": "markdown",
      "source": [
        "## Compare quantile loss"
      ]
    },
    {
      "metadata": {
        "id": "NwrasOq8ClOJ",
        "colab_type": "code",
        "colab": {}
      },
      "cell_type": "code",
      "source": [
        "# pandas version rather than Keras.\n",
        "def quantile_loss(q, y, f):\n",
        "    e = (y - f)\n",
        "    return np.maximum(q * e, (q - 1) * e)"
      ],
      "execution_count": 0,
      "outputs": []
    },
    {
      "metadata": {
        "id": "LKbkvlvm4p6s",
        "colab_type": "code",
        "colab": {}
      },
      "cell_type": "code",
      "source": [
        "preds['quantile_loss'] = quantile_loss(preds.q, preds.label, preds.pred)"
      ],
      "execution_count": 0,
      "outputs": []
    },
    {
      "metadata": {
        "id": "2xXUGt4TKZsj",
        "colab_type": "code",
        "colab": {}
      },
      "cell_type": "code",
      "source": [
        "def plot_loss_comparison(preds):\n",
        "  overall_loss_comparison = preds[~preds.quantile_loss.isnull()].\\\n",
        "    pivot_table(index='method', values='quantile_loss').\\\n",
        "    sort_values('quantile_loss')\n",
        "  # Show overall table.\n",
        "  print(overall_loss_comparison)\n",
        "  \n",
        "  # Plot overall.\n",
        "  with sns.color_palette('Blues', 1):\n",
        "    ax = overall_loss_comparison.plot.barh()\n",
        "    plt.title('Total quantile loss', loc='left')\n",
        "    sns.despine(left=True, bottom=True)\n",
        "    plt.xlabel('Quantile loss')\n",
        "    plt.ylabel('')\n",
        "    ax.legend_.remove()\n",
        "  \n",
        "  # Per quantile.\n",
        "  per_quantile_loss_comparison = preds[~preds.quantile_loss.isnull()].\\\n",
        "    pivot_table(index='q', columns='method', values='quantile_loss')\n",
        "  # Sort by overall quantile loss.\n",
        "  per_quantile_loss_comparison = \\\n",
        "    per_quantile_loss_comparison[overall_loss_comparison.index]\n",
        "  print(per_quantile_loss_comparison)\n",
        "  \n",
        "  # Plot per quantile.\n",
        "  with sns.color_palette('Blues', 7):\n",
        "    ax = per_quantile_loss_comparison.plot.barh()\n",
        "    plt.title('Quantile loss per quantile', loc='left')\n",
        "    sns.despine(left=True, bottom=True)\n",
        "    handles, labels = ax.get_legend_handles_labels()\n",
        "    plt.xlabel('Quantile loss')\n",
        "    plt.ylabel('Quantile')\n",
        "    # Reverse legend.\n",
        "    ax.legend(reversed(handles), reversed(labels));"
      ],
      "execution_count": 0,
      "outputs": []
    },
    {
      "metadata": {
        "id": "tSvkJkbfQXE6",
        "colab_type": "code",
        "colab": {
          "base_uri": "https://localhost:8080/",
          "height": 2213
        },
        "outputId": "dbe15b51-0bd5-4406-856e-9932ad7f2a97"
      },
      "cell_type": "code",
      "source": [
        "plot_loss_comparison(preds)"
      ],
      "execution_count": 136,
      "outputs": [
        {
          "output_type": "stream",
          "text": [
            "                   quantile_loss\n",
            "method                          \n",
            "Random forests       1780.631185\n",
            "Keras                2902.365968\n",
            "TensorFlow           2947.832552\n",
            "Gradient boosting    3714.276605\n",
            "LogitOLS             4143.752395\n",
            "QuantReg             4344.568016\n",
            "OLS                 11349.309620\n",
            "method  Random forests        Keras   TensorFlow  Gradient boosting  \\\n",
            "q                                                                     \n",
            "0.1         733.596181  1001.585328   988.429851        1001.582703   \n",
            "0.3        1582.886857  2314.623860  2355.565532        2796.654666   \n",
            "0.5        2109.426515  3460.318307  3408.195883        4502.006050   \n",
            "0.7        2404.227426  4078.920450  4150.995083        5600.271240   \n",
            "0.9        2073.018947  3656.381897  3835.976413        4670.868368   \n",
            "\n",
            "method     LogitOLS     QuantReg           OLS  \n",
            "q                                               \n",
            "0.1     1035.972781  1001.582703   9589.040988  \n",
            "0.3     2931.184005  2836.598634  12109.529109  \n",
            "0.5     4460.544050  4664.776094   7560.337541  \n",
            "0.7     5826.730336  6360.021823  15555.600464  \n",
            "0.9     6464.330806  6859.860824  11932.040000  \n"
          ],
          "name": "stdout"
        },
        {
          "output_type": "display_data",
          "data": {
            "image/png": "[encoded data removed]",
            "text/plain": [
              "<matplotlib.figure.Figure at 0x7f3e09695080>"
            ]
          },
          "metadata": {
            "tags": []
          }
        },
        {
          "output_type": "display_data",
          "data": {
            "image/png": "[encoded data removed]",
            "text/plain": [
              "<matplotlib.figure.Figure at 0x7f3e0968b358>"
            ]
          },
          "metadata": {
            "tags": []
          }
        }
      ]
    },
    {
      "metadata": {
        "id": "N_WYiyyfN_ZE",
        "colab_type": "text"
      },
      "cell_type": "markdown",
      "source": [
        "Examine individual predictions."
      ]
    },
    {
      "metadata": {
        "id": "PO1czqfSN-6-",
        "colab_type": "code",
        "colab": {}
      },
      "cell_type": "code",
      "source": [
        "worst_logitols = preds[preds.method == 'LogitOLS'] \\\n",
        "  .sort_values('quantile_loss', ascending=False).head(1)\n",
        "worst_logitols_ix = worst_logitols['ix'].values[0]\n",
        "worst_logitols_label = worst_logitols['label'].values[0]"
      ],
      "execution_count": 0,
      "outputs": []
    },
    {
      "metadata": {
        "id": "ApGeT5nQL0S8",
        "colab_type": "code",
        "colab": {}
      },
      "cell_type": "code",
      "source": [
        "example = preds[(preds['ix'] == worst_logitols_ix) &\n",
        "                (preds.method.isin(['OLS', 'LogitOLS', 'Random forests']))]"
      ],
      "execution_count": 0,
      "outputs": []
    },
    {
      "metadata": {
        "id": "-q11hTbqMQdP",
        "colab_type": "code",
        "colab": {}
      },
      "cell_type": "code",
      "source": [
        "example_pivot = example.pivot_table('pred', 'q', 'method')"
      ],
      "execution_count": 0,
      "outputs": []
    },
    {
      "metadata": {
        "id": "FMjWTsiqTLDS",
        "colab_type": "code",
        "colab": {
          "base_uri": "https://localhost:8080/",
          "height": 940
        },
        "outputId": "4835c128-b6f9-46e1-be88-b5915c7ca1d4"
      },
      "cell_type": "code",
      "source": [
        "with sns.color_palette('Blues', 3):\n",
        "  example_pivot.plot()\n",
        "  sns.despine(left=True, bottom=True)\n",
        "  plt.title('Inverse CDF by method: RECID ' + worst_logitols_ix.astype(str),\n",
        "            loc='left', y=1.04)\n",
        "  plt.axhline(worst_logitols_label, color='gray', ls='dashed')"
      ],
      "execution_count": 203,
      "outputs": [
        {
          "output_type": "display_data",
          "data": {
            "image/png": "[encoded data removed]",
            "text/plain": [
              "<matplotlib.figure.Figure at 0x7f3e0963de48>"
            ]
          },
          "metadata": {
            "tags": []
          }
        }
      ]
    }
  ]
}