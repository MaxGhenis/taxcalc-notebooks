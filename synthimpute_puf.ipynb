{
 "cells": [
  {
   "cell_type": "markdown",
   "metadata": {},
   "source": [
    "# Synthesizing the PUF with `synthimpute` "
   ]
  },
  {
   "cell_type": "code",
   "execution_count": 1,
   "metadata": {},
   "outputs": [],
   "source": [
    "import pandas as pd\n",
    "import numpy as np\n",
    "import synthimpute as si\n",
    "from sklearn.model_selection import train_test_split"
   ]
  },
  {
   "cell_type": "markdown",
   "metadata": {},
   "source": [
    "## Load data\n",
    "\n",
    "Columns to synthesize listed in https://github.com/donboyd5/synpuf/issues/4."
   ]
  },
  {
   "cell_type": "code",
   "execution_count": 2,
   "metadata": {},
   "outputs": [],
   "source": [
    "COLS = [\n",
    "    'dsi',\n",
    "    'e00200',\n",
    "    'e00300',\n",
    "    'e00400',\n",
    "    'e00600',\n",
    "    'e00650',\n",
    "    'e00700',\n",
    "    'e00800',\n",
    "    'e00900',\n",
    "    'e01100',\n",
    "    'e01200',\n",
    "    'e01400',\n",
    "    'e01500',\n",
    "    'e01700',\n",
    "    'e02000',\n",
    "    'e02100',\n",
    "    'e02300',\n",
    "    'e02400',\n",
    "    'e03150',\n",
    "    'e03210',\n",
    "    'e03220',\n",
    "    'e03230',\n",
    "    'e03240',\n",
    "    'e03270',\n",
    "    'e03290',\n",
    "    'e03300',\n",
    "    'e03400',\n",
    "    'e03500',\n",
    "    'e07240',\n",
    "    'e07260',\n",
    "    'e07300',\n",
    "    'e07400',\n",
    "    'e07600',\n",
    "    'e09700',\n",
    "    'e09800',\n",
    "    'e09900',\n",
    "    'e11200',\n",
    "    'e17500',\n",
    "    'e18400',\n",
    "    'e18500',\n",
    "    'e19200',\n",
    "    'e19800',\n",
    "    'e20100',\n",
    "    'e20400',\n",
    "    'e24515',\n",
    "    'e24518',\n",
    "    'e26270',\n",
    "    'e27200',\n",
    "    'e32800',\n",
    "    'e58990',\n",
    "    'e62900',\n",
    "    'e87521',\n",
    "    'e87530',\n",
    "    'eic',\n",
    "    'f2441',\n",
    "    'f6251',\n",
    "    'fded',\n",
    "    'mars',\n",
    "    'midr',\n",
    "    'n24',\n",
    "    'p08000',\n",
    "    'p22250',\n",
    "    'p23250',\n",
    "    's006',\n",
    "    'e00100', 'e09600',  # Calculateds for this test.\n",
    "    'xtot']"
   ]
  },
  {
   "cell_type": "code",
   "execution_count": 3,
   "metadata": {},
   "outputs": [],
   "source": [
    "# Include RECID to exclude 4 aggregate records.\n",
    "input_cols = [x.upper() for x in COLS] + ['RECID']\n",
    "raw = pd.read_csv('~/puf2011.csv', usecols=input_cols)"
   ]
  },
  {
   "cell_type": "markdown",
   "metadata": {},
   "source": [
    "## Preprocess\n",
    "\n",
    "Drop aggregates and `RECID`."
   ]
  },
  {
   "cell_type": "code",
   "execution_count": 4,
   "metadata": {},
   "outputs": [],
   "source": [
    "AGG_RECIDS = [999996, 999997, 999998, 999999]\n",
    "full = raw[~raw.RECID.isin(AGG_RECIDS)].drop('RECID', axis=1)"
   ]
  },
  {
   "cell_type": "markdown",
   "metadata": {},
   "source": [
    "Calculate differences of variables that must be nonnegative for Tax-Calculator to run. Per [synpuf#17](https://github.com/donboyd5/synpuf/issues/17), `e00600` must be weakly greater than `e00650` and `e01500` must be weakly greater than `e01700`."
   ]
  },
  {
   "cell_type": "code",
   "execution_count": 5,
   "metadata": {},
   "outputs": [],
   "source": [
    "full['e00600_minus_e00650'] = full.E00600 - full.E00650\n",
    "full['e01500_minus_e01700'] = full.E01500 - full.E01700\n",
    "full.drop(['E00600', 'E01500'], axis=1, inplace=True)"
   ]
  },
  {
   "cell_type": "markdown",
   "metadata": {},
   "source": [
    "Convert MARS to dummies.\n",
    "\n",
    "*Seed on MARS instead.*"
   ]
  },
  {
   "cell_type": "code",
   "execution_count": 6,
   "metadata": {},
   "outputs": [],
   "source": [
    "# full[['MARS2', 'MARS3', 'MARS4']] = pd.get_dummies(full.MARS, drop_first=True)\n",
    "# full.drop('MARS', axis=1, inplace=True)"
   ]
  },
  {
   "cell_type": "markdown",
   "metadata": {},
   "source": [
    "Split into two 10% test and train samples by starting with a 20% sample and splitting."
   ]
  },
  {
   "cell_type": "code",
   "execution_count": 7,
   "metadata": {},
   "outputs": [],
   "source": [
    "train, test = train_test_split(\n",
    "    full.sample(frac=0.2, random_state=0), test_size=0.5, random_state=0)"
   ]
  },
  {
   "cell_type": "markdown",
   "metadata": {},
   "source": [
    "## Synthesize"
   ]
  },
  {
   "cell_type": "code",
   "execution_count": 8,
   "metadata": {},
   "outputs": [],
   "source": [
    "SEED_COLS = ['MARS', 'E00100', 'E09600', 'XTOT', 'S006']\n",
    "CLASSIFICATION_COLS = ['F6251', 'MIDR', 'FDED', 'DSI']\n",
    "SEED_COLS += CLASSIFICATION_COLS  # Until rf_synth handles classification."
   ]
  },
  {
   "cell_type": "markdown",
   "metadata": {},
   "source": [
    "How many records are uniquely identified by seeds?"
   ]
  },
  {
   "cell_type": "code",
   "execution_count": 32,
   "metadata": {},
   "outputs": [
    {
     "data": {
      "text/plain": [
       "0.5936282710365965"
      ]
     },
     "execution_count": 32,
     "metadata": {},
     "output_type": "execute_result"
    }
   ],
   "source": [
    "seed_nrow = full.groupby(SEED_COLS).size().reset_index()\n",
    "(seed_nrow[0] == 1).sum() / full.shape[0]"
   ]
  },
  {
   "cell_type": "code",
   "execution_count": 9,
   "metadata": {
    "scrolled": true
   },
   "outputs": [
    {
     "name": "stdout",
     "output_type": "stream",
     "text": [
      "Synthesizing feature 1 of 58: E07240...\n",
      "Synthesizing feature 2 of 58: E19800...\n",
      "Synthesizing feature 3 of 58: E03240...\n",
      "Synthesizing feature 4 of 58: E03500...\n",
      "Synthesizing feature 5 of 58: e00600_minus_e00650...\n",
      "Synthesizing feature 6 of 58: E03150...\n",
      "Synthesizing feature 7 of 58: EIC...\n",
      "Synthesizing feature 8 of 58: e01500_minus_e01700...\n",
      "Synthesizing feature 9 of 58: E20100...\n",
      "Synthesizing feature 10 of 58: E17500...\n",
      "Synthesizing feature 11 of 58: E09700...\n",
      "Synthesizing feature 12 of 58: E02400...\n",
      "Synthesizing feature 13 of 58: F2441...\n",
      "Synthesizing feature 14 of 58: E24518...\n",
      "Synthesizing feature 15 of 58: P22250...\n",
      "Synthesizing feature 16 of 58: E26270...\n",
      "Synthesizing feature 17 of 58: E19200...\n",
      "Synthesizing feature 18 of 58: E03270...\n",
      "Synthesizing feature 19 of 58: E03300...\n",
      "Synthesizing feature 20 of 58: E58990...\n",
      "Synthesizing feature 21 of 58: E87530...\n",
      "Synthesizing feature 22 of 58: E03230...\n",
      "Synthesizing feature 23 of 58: E87521...\n",
      "Synthesizing feature 24 of 58: E01100...\n",
      "Synthesizing feature 25 of 58: E03220...\n",
      "Synthesizing feature 26 of 58: E00200...\n",
      "Synthesizing feature 27 of 58: E03290...\n",
      "Synthesizing feature 28 of 58: E00300...\n",
      "Synthesizing feature 29 of 58: E03210...\n",
      "Synthesizing feature 30 of 58: E11200...\n",
      "Synthesizing feature 31 of 58: E00650...\n",
      "Synthesizing feature 32 of 58: E18400...\n",
      "Synthesizing feature 33 of 58: P08000...\n",
      "Synthesizing feature 34 of 58: E07260...\n",
      "Synthesizing feature 35 of 58: E02300...\n",
      "Synthesizing feature 36 of 58: E07600...\n",
      "Synthesizing feature 37 of 58: E02000...\n",
      "Synthesizing feature 38 of 58: E24515...\n",
      "Synthesizing feature 39 of 58: E20400...\n",
      "Synthesizing feature 40 of 58: E00700...\n",
      "Synthesizing feature 41 of 58: E18500...\n",
      "Synthesizing feature 42 of 58: E32800...\n",
      "Synthesizing feature 43 of 58: E01400...\n",
      "Synthesizing feature 44 of 58: E01200...\n",
      "Synthesizing feature 45 of 58: E00800...\n",
      "Synthesizing feature 46 of 58: E02100...\n",
      "Synthesizing feature 47 of 58: E03400...\n",
      "Synthesizing feature 48 of 58: P23250...\n",
      "Synthesizing feature 49 of 58: E07300...\n",
      "Synthesizing feature 50 of 58: E00400...\n",
      "Synthesizing feature 51 of 58: E27200...\n",
      "Synthesizing feature 52 of 58: E62900...\n",
      "Synthesizing feature 53 of 58: E00900...\n",
      "Synthesizing feature 54 of 58: E09800...\n",
      "Synthesizing feature 55 of 58: N24...\n",
      "Synthesizing feature 56 of 58: E07400...\n",
      "Synthesizing feature 57 of 58: E01700...\n",
      "Synthesizing feature 58 of 58: E09900...\n",
      "CPU times: user 17min 50s, sys: 990 ms, total: 17min 51s\n",
      "Wall time: 7min 3s\n"
     ]
    }
   ],
   "source": [
    "%%time\n",
    "synth = si.rf_synth(train, random_state=0, seed_cols=SEED_COLS, trees=50)"
   ]
  },
  {
   "cell_type": "code",
   "execution_count": 10,
   "metadata": {},
   "outputs": [
    {
     "name": "stdout",
     "output_type": "stream",
     "text": [
      "Synthesizing feature 1 of 58: E07240...\n",
      "Synthesizing feature 2 of 58: E19800...\n",
      "Synthesizing feature 3 of 58: E03240...\n",
      "Synthesizing feature 4 of 58: E03500...\n",
      "Synthesizing feature 5 of 58: e00600_minus_e00650...\n",
      "Synthesizing feature 6 of 58: E03150...\n",
      "Synthesizing feature 7 of 58: EIC...\n",
      "Synthesizing feature 8 of 58: e01500_minus_e01700...\n",
      "Synthesizing feature 9 of 58: E20100...\n",
      "Synthesizing feature 10 of 58: E17500...\n",
      "Synthesizing feature 11 of 58: E09700...\n",
      "Synthesizing feature 12 of 58: E02400...\n",
      "Synthesizing feature 13 of 58: F2441...\n",
      "Synthesizing feature 14 of 58: E24518...\n",
      "Synthesizing feature 15 of 58: P22250...\n",
      "Synthesizing feature 16 of 58: E26270...\n",
      "Synthesizing feature 17 of 58: E19200...\n",
      "Synthesizing feature 18 of 58: E03270...\n",
      "Synthesizing feature 19 of 58: E03300...\n",
      "Synthesizing feature 20 of 58: E58990...\n",
      "Synthesizing feature 21 of 58: E87530...\n",
      "Synthesizing feature 22 of 58: E03230...\n",
      "Synthesizing feature 23 of 58: E87521...\n",
      "Synthesizing feature 24 of 58: E01100...\n",
      "Synthesizing feature 25 of 58: E03220...\n",
      "Synthesizing feature 26 of 58: E00200...\n",
      "Synthesizing feature 27 of 58: E03290...\n",
      "Synthesizing feature 28 of 58: E00300...\n",
      "Synthesizing feature 29 of 58: E03210...\n",
      "Synthesizing feature 30 of 58: E11200...\n",
      "Synthesizing feature 31 of 58: E00650...\n",
      "Synthesizing feature 32 of 58: E18400...\n",
      "Synthesizing feature 33 of 58: P08000...\n",
      "Synthesizing feature 34 of 58: E07260...\n",
      "Synthesizing feature 35 of 58: E02300...\n",
      "Synthesizing feature 36 of 58: E07600...\n",
      "Synthesizing feature 37 of 58: E02000...\n",
      "Synthesizing feature 38 of 58: E24515...\n",
      "Synthesizing feature 39 of 58: E20400...\n",
      "Synthesizing feature 40 of 58: E00700...\n",
      "Synthesizing feature 41 of 58: E18500...\n",
      "Synthesizing feature 42 of 58: E32800...\n",
      "Synthesizing feature 43 of 58: E01400...\n",
      "Synthesizing feature 44 of 58: E01200...\n",
      "Synthesizing feature 45 of 58: E00800...\n",
      "Synthesizing feature 46 of 58: E02100...\n",
      "Synthesizing feature 47 of 58: E03400...\n",
      "Synthesizing feature 48 of 58: P23250...\n",
      "Synthesizing feature 49 of 58: E07300...\n",
      "Synthesizing feature 50 of 58: E00400...\n",
      "Synthesizing feature 51 of 58: E27200...\n",
      "Synthesizing feature 52 of 58: E62900...\n",
      "Synthesizing feature 53 of 58: E00900...\n",
      "Synthesizing feature 54 of 58: E09800...\n",
      "Synthesizing feature 55 of 58: N24...\n",
      "Synthesizing feature 56 of 58: E07400...\n",
      "Synthesizing feature 57 of 58: E01700...\n",
      "Synthesizing feature 58 of 58: E09900...\n",
      "CPU times: user 4h 39min 46s, sys: 1min 18s, total: 4h 41min 5s\n",
      "Wall time: 9h 43min 41s\n"
     ]
    }
   ],
   "source": [
    "%%time\n",
    "synth_full = si.rf_synth(full, random_state=0, seed_cols=SEED_COLS, trees=50)"
   ]
  },
  {
   "cell_type": "markdown",
   "metadata": {},
   "source": [
    "## Checks\n",
    "\n",
    "These should be nonnegative (probably 0)."
   ]
  },
  {
   "cell_type": "code",
   "execution_count": 11,
   "metadata": {},
   "outputs": [
    {
     "data": {
      "text/plain": [
       "0.0"
      ]
     },
     "execution_count": 11,
     "metadata": {},
     "output_type": "execute_result"
    }
   ],
   "source": [
    "synth.e00600_minus_e00650.min()"
   ]
  },
  {
   "cell_type": "code",
   "execution_count": 12,
   "metadata": {},
   "outputs": [
    {
     "data": {
      "text/plain": [
       "0.0"
      ]
     },
     "execution_count": 12,
     "metadata": {},
     "output_type": "execute_result"
    }
   ],
   "source": [
    "synth.e01500_minus_e01700.min()"
   ]
  },
  {
   "cell_type": "code",
   "execution_count": 13,
   "metadata": {},
   "outputs": [
    {
     "data": {
      "text/plain": [
       "0.0"
      ]
     },
     "execution_count": 13,
     "metadata": {},
     "output_type": "execute_result"
    }
   ],
   "source": [
    "synth_full.e00600_minus_e00650.min()"
   ]
  },
  {
   "cell_type": "code",
   "execution_count": 14,
   "metadata": {},
   "outputs": [
    {
     "data": {
      "text/plain": [
       "0.0"
      ]
     },
     "execution_count": 14,
     "metadata": {},
     "output_type": "execute_result"
    }
   ],
   "source": [
    "synth_full.e01500_minus_e01700.min()"
   ]
  },
  {
   "cell_type": "markdown",
   "metadata": {},
   "source": [
    "## Postprocessing"
   ]
  },
  {
   "cell_type": "code",
   "execution_count": 15,
   "metadata": {},
   "outputs": [],
   "source": [
    "def add_subtracted_features(df):\n",
    "    df['E00600'] = df.E00650 + df.e00600_minus_e00650\n",
    "    df['E01500'] = df.E01700 + df.e01500_minus_e01700\n",
    "    df.drop(['e00600_minus_e00650', 'e01500_minus_e01700'], axis=1, inplace=True)"
   ]
  },
  {
   "cell_type": "code",
   "execution_count": 16,
   "metadata": {},
   "outputs": [],
   "source": [
    "add_subtracted_features(synth)\n",
    "add_subtracted_features(synth_full)"
   ]
  },
  {
   "cell_type": "code",
   "execution_count": 17,
   "metadata": {},
   "outputs": [
    {
     "data": {
      "text/plain": [
       "0"
      ]
     },
     "execution_count": 17,
     "metadata": {},
     "output_type": "execute_result"
    }
   ],
   "source": [
    "(synth_full.E00600 < synth_full.E00650).sum()"
   ]
  },
  {
   "cell_type": "code",
   "execution_count": 18,
   "metadata": {},
   "outputs": [
    {
     "data": {
      "text/plain": [
       "0"
      ]
     },
     "execution_count": 18,
     "metadata": {},
     "output_type": "execute_result"
    }
   ],
   "source": [
    "(synth_full.E01500 < synth_full.E01700).sum()"
   ]
  },
  {
   "cell_type": "markdown",
   "metadata": {},
   "source": [
    "Un-dummy MARS.\n",
    "\n",
    "*Seeded on it instead.*"
   ]
  },
  {
   "cell_type": "code",
   "execution_count": 19,
   "metadata": {},
   "outputs": [],
   "source": [
    "def undummy_MARS(df):\n",
    "    df['MARS'] = np.where(df.MARS2, 2, np.where(df.MARS3, 3, np.where(df.MARS4, 4, 1)))\n",
    "    df.drop(['MARS2', 'MARS3', 'MARS4'], axis=1, inplace=True)"
   ]
  },
  {
   "cell_type": "code",
   "execution_count": 20,
   "metadata": {},
   "outputs": [],
   "source": [
    "# undummy_MARS(synth)\n",
    "# undummy_MARS(synth_full)"
   ]
  },
  {
   "cell_type": "markdown",
   "metadata": {},
   "source": [
    "Round."
   ]
  },
  {
   "cell_type": "code",
   "execution_count": 21,
   "metadata": {},
   "outputs": [],
   "source": [
    "synth = synth.round()\n",
    "synth_full = synth_full.round()"
   ]
  },
  {
   "cell_type": "markdown",
   "metadata": {},
   "source": [
    "## Export"
   ]
  },
  {
   "cell_type": "code",
   "execution_count": 22,
   "metadata": {},
   "outputs": [],
   "source": [
    "def export_csv(df, f):\n",
    "    df.to_csv('~/Downloads/' + f + '.csv', index=False)"
   ]
  },
  {
   "cell_type": "code",
   "execution_count": 23,
   "metadata": {},
   "outputs": [],
   "source": [
    "export_csv(synth_full, 'puf_synth_full')\n",
    "export_csv(synth, 'puf_synth_10p_sample')\n",
    "export_csv(train, 'puf_10p_sample_train')\n",
    "export_csv(test, 'puf_10p_sample_test')"
   ]
  }
 ],
 "metadata": {
  "kernelspec": {
   "display_name": "Python 3",
   "language": "python",
   "name": "python3"
  },
  "language_info": {
   "codemirror_mode": {
    "name": "ipython",
    "version": 3
   },
   "file_extension": ".py",
   "mimetype": "text/x-python",
   "name": "python",
   "nbconvert_exporter": "python",
   "pygments_lexer": "ipython3",
   "version": "3.6.6"
  }
 },
 "nbformat": 4,
 "nbformat_minor": 2
}
