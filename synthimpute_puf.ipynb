{
 "cells": [
  {
   "cell_type": "markdown",
   "metadata": {},
   "source": [
    "# Synthesizing the PUF with `synthimpute` "
   ]
  },
  {
   "cell_type": "code",
   "execution_count": 1,
   "metadata": {},
   "outputs": [],
   "source": [
    "import pandas as pd\n",
    "import numpy as np\n",
    "import synthimpute as si"
   ]
  },
  {
   "cell_type": "markdown",
   "metadata": {},
   "source": [
    "## Load data\n",
    "\n",
    "Columns to synthesize listed in https://github.com/donboyd5/synpuf/issues/4."
   ]
  },
  {
   "cell_type": "code",
   "execution_count": 7,
   "metadata": {},
   "outputs": [],
   "source": [
    "COLS = [\n",
    "    'dsi',\n",
    "    'e00200',\n",
    "    'e00300',\n",
    "    'e00400',\n",
    "    'e00600',\n",
    "    'e00650',\n",
    "    'e00700',\n",
    "    'e00800',\n",
    "    'e00900',\n",
    "    'e01100',\n",
    "    'e01200',\n",
    "    'e01400',\n",
    "    'e01500',\n",
    "    'e01700',\n",
    "    'e02000',\n",
    "    'e02100',\n",
    "    'e02300',\n",
    "    'e02400',\n",
    "    'e03150',\n",
    "    'e03210',\n",
    "    'e03220',\n",
    "    'e03230',\n",
    "    'e03240',\n",
    "    'e03270',\n",
    "    'e03290',\n",
    "    'e03300',\n",
    "    'e03400',\n",
    "    'e03500',\n",
    "    'e07240',\n",
    "    'e07260',\n",
    "    'e07300',\n",
    "    'e07400',\n",
    "    'e07600',\n",
    "    'e09700',\n",
    "    'e09800',\n",
    "    'e09900',\n",
    "    'e11200',\n",
    "    'e17500',\n",
    "    'e18400',\n",
    "    'e18500',\n",
    "    'e19200',\n",
    "    'e19800',\n",
    "    'e20100',\n",
    "    'e20400',\n",
    "    'e24515',\n",
    "    'e24518',\n",
    "    'e26270',\n",
    "    'e27200',\n",
    "    'e32800',\n",
    "    'e58990',\n",
    "    'e62900',\n",
    "    'e87521',\n",
    "    'e87530',\n",
    "    'eic',\n",
    "    'f2441',\n",
    "    'f6251',\n",
    "    'fded',\n",
    "    'mars',\n",
    "    'midr',\n",
    "    'n24',\n",
    "    'p08000',\n",
    "    'p22250',\n",
    "    'p23250',\n",
    "    's006',\n",
    "    'xtot']"
   ]
  },
  {
   "cell_type": "code",
   "execution_count": 29,
   "metadata": {},
   "outputs": [],
   "source": [
    "# Include RECID to exclude 4 aggregate records.\n",
    "input_cols = [x.upper() for x in COLS] + ['RECID']\n",
    "raw = pd.read_csv('puf2011.csv', usecols=input_cols)"
   ]
  },
  {
   "cell_type": "markdown",
   "metadata": {},
   "source": [
    "## Preprocess\n",
    "\n",
    "Drop aggregates and `RECID`."
   ]
  },
  {
   "cell_type": "code",
   "execution_count": 31,
   "metadata": {},
   "outputs": [],
   "source": [
    "AGG_RECIDS = [999996, 999997, 999998, 999999]\n",
    "full = raw[~raw.RECID.isin(AGG_RECIDS)].drop('RECID', axis=1)\n",
    "train = full.sample(frac=0.1, random_state=0)"
   ]
  },
  {
   "cell_type": "markdown",
   "metadata": {},
   "source": [
    "## Synthesize"
   ]
  },
  {
   "cell_type": "code",
   "execution_count": 38,
   "metadata": {
    "scrolled": true
   },
   "outputs": [
    {
     "name": "stdout",
     "output_type": "stream",
     "text": [
      "Synthesizing feature 1 of 63: E18400...\n",
      "Synthesizing feature 2 of 63: E20400...\n",
      "Synthesizing feature 3 of 63: E03220...\n",
      "Synthesizing feature 4 of 63: E09900...\n",
      "Synthesizing feature 5 of 63: E07400...\n",
      "Synthesizing feature 6 of 63: EIC...\n",
      "Synthesizing feature 7 of 63: FDED...\n",
      "Synthesizing feature 8 of 63: E02100...\n",
      "Synthesizing feature 9 of 63: N24...\n",
      "Synthesizing feature 10 of 63: F6251...\n",
      "Synthesizing feature 11 of 63: E00900...\n",
      "Synthesizing feature 12 of 63: E03240...\n",
      "Synthesizing feature 13 of 63: E07600...\n",
      "Synthesizing feature 14 of 63: E87521...\n",
      "Synthesizing feature 15 of 63: E00650...\n",
      "Synthesizing feature 16 of 63: P23250...\n",
      "Synthesizing feature 17 of 63: E03290...\n",
      "Synthesizing feature 18 of 63: E24518...\n",
      "Synthesizing feature 19 of 63: E01100...\n",
      "Synthesizing feature 20 of 63: E01700...\n",
      "Synthesizing feature 21 of 63: P08000...\n",
      "Synthesizing feature 22 of 63: E24515...\n",
      "Synthesizing feature 23 of 63: E01400...\n",
      "Synthesizing feature 24 of 63: E03300...\n",
      "Synthesizing feature 25 of 63: E03210...\n",
      "Synthesizing feature 26 of 63: E07260...\n",
      "Synthesizing feature 27 of 63: E09800...\n",
      "Synthesizing feature 28 of 63: E02000...\n",
      "Synthesizing feature 29 of 63: E00800...\n",
      "Synthesizing feature 30 of 63: E02400...\n",
      "Synthesizing feature 31 of 63: MARS...\n",
      "Synthesizing feature 32 of 63: E58990...\n",
      "Synthesizing feature 33 of 63: S006...\n",
      "Synthesizing feature 34 of 63: E62900...\n",
      "Synthesizing feature 35 of 63: F2441...\n",
      "Synthesizing feature 36 of 63: E03230...\n",
      "Synthesizing feature 37 of 63: E02300...\n",
      "Synthesizing feature 38 of 63: E19800...\n",
      "Synthesizing feature 39 of 63: E27200...\n",
      "Synthesizing feature 40 of 63: E03150...\n",
      "Synthesizing feature 41 of 63: MIDR...\n",
      "Synthesizing feature 42 of 63: E17500...\n",
      "Synthesizing feature 43 of 63: E00400...\n",
      "Synthesizing feature 44 of 63: E19200...\n",
      "Synthesizing feature 45 of 63: E00300...\n",
      "Synthesizing feature 46 of 63: E00700...\n",
      "Synthesizing feature 47 of 63: E07300...\n",
      "Synthesizing feature 48 of 63: E01500...\n",
      "Synthesizing feature 49 of 63: E00600...\n",
      "Synthesizing feature 50 of 63: E32800...\n",
      "Synthesizing feature 51 of 63: E03500...\n",
      "Synthesizing feature 52 of 63: E18500...\n",
      "Synthesizing feature 53 of 63: E87530...\n",
      "Synthesizing feature 54 of 63: P22250...\n",
      "Synthesizing feature 55 of 63: E07240...\n",
      "Synthesizing feature 56 of 63: E11200...\n",
      "Synthesizing feature 57 of 63: E20100...\n",
      "Synthesizing feature 58 of 63: E26270...\n",
      "Synthesizing feature 59 of 63: E03270...\n",
      "Synthesizing feature 60 of 63: E00200...\n",
      "Synthesizing feature 61 of 63: E03400...\n",
      "Synthesizing feature 62 of 63: E09700...\n",
      "Synthesizing feature 63 of 63: E01200...\n",
      "CPU times: user 7min 43s, sys: 701 ms, total: 7min 44s\n",
      "Wall time: 4min 13s\n"
     ]
    }
   ],
   "source": [
    "%%time\n",
    "synth = si.rf_synth(train, random_state=0, seed_cols=['DSI', 'XTOT'], trees=20)"
   ]
  },
  {
   "cell_type": "code",
   "execution_count": 39,
   "metadata": {},
   "outputs": [
    {
     "name": "stdout",
     "output_type": "stream",
     "text": [
      "Synthesizing feature 1 of 63: E18400...\n",
      "Synthesizing feature 2 of 63: E20400...\n",
      "Synthesizing feature 3 of 63: E03220...\n",
      "Synthesizing feature 4 of 63: E09900...\n",
      "Synthesizing feature 5 of 63: E07400...\n",
      "Synthesizing feature 6 of 63: EIC...\n",
      "Synthesizing feature 7 of 63: FDED...\n",
      "Synthesizing feature 8 of 63: E02100...\n",
      "Synthesizing feature 9 of 63: N24...\n",
      "Synthesizing feature 10 of 63: F6251...\n",
      "Synthesizing feature 11 of 63: E00900...\n",
      "Synthesizing feature 12 of 63: E03240...\n",
      "Synthesizing feature 13 of 63: E07600...\n",
      "Synthesizing feature 14 of 63: E87521...\n",
      "Synthesizing feature 15 of 63: E00650...\n",
      "Synthesizing feature 16 of 63: P23250...\n",
      "Synthesizing feature 17 of 63: E03290...\n",
      "Synthesizing feature 18 of 63: E24518...\n",
      "Synthesizing feature 19 of 63: E01100...\n",
      "Synthesizing feature 20 of 63: E01700...\n",
      "Synthesizing feature 21 of 63: P08000...\n",
      "Synthesizing feature 22 of 63: E24515...\n",
      "Synthesizing feature 23 of 63: E01400...\n",
      "Synthesizing feature 24 of 63: E03300...\n",
      "Synthesizing feature 25 of 63: E03210...\n",
      "Synthesizing feature 26 of 63: E07260...\n",
      "Synthesizing feature 27 of 63: E09800...\n",
      "Synthesizing feature 28 of 63: E02000...\n",
      "Synthesizing feature 29 of 63: E00800...\n",
      "Synthesizing feature 30 of 63: E02400...\n",
      "Synthesizing feature 31 of 63: MARS...\n",
      "Synthesizing feature 32 of 63: E58990...\n",
      "Synthesizing feature 33 of 63: S006...\n",
      "Synthesizing feature 34 of 63: E62900...\n",
      "Synthesizing feature 35 of 63: F2441...\n",
      "Synthesizing feature 36 of 63: E03230...\n",
      "Synthesizing feature 37 of 63: E02300...\n",
      "Synthesizing feature 38 of 63: E19800...\n",
      "Synthesizing feature 39 of 63: E27200...\n",
      "Synthesizing feature 40 of 63: E03150...\n",
      "Synthesizing feature 41 of 63: MIDR...\n",
      "Synthesizing feature 42 of 63: E17500...\n",
      "Synthesizing feature 43 of 63: E00400...\n",
      "Synthesizing feature 44 of 63: E19200...\n",
      "Synthesizing feature 45 of 63: E00300...\n",
      "Synthesizing feature 46 of 63: E00700...\n",
      "Synthesizing feature 47 of 63: E07300...\n",
      "Synthesizing feature 48 of 63: E01500...\n",
      "Synthesizing feature 49 of 63: E00600...\n",
      "Synthesizing feature 50 of 63: E32800...\n",
      "Synthesizing feature 51 of 63: E03500...\n",
      "Synthesizing feature 52 of 63: E18500...\n",
      "Synthesizing feature 53 of 63: E87530...\n",
      "Synthesizing feature 54 of 63: P22250...\n",
      "Synthesizing feature 55 of 63: E07240...\n",
      "Synthesizing feature 56 of 63: E11200...\n",
      "Synthesizing feature 57 of 63: E20100...\n",
      "Synthesizing feature 58 of 63: E26270...\n",
      "Synthesizing feature 59 of 63: E03270...\n",
      "Synthesizing feature 60 of 63: E00200...\n",
      "Synthesizing feature 61 of 63: E03400...\n",
      "Synthesizing feature 62 of 63: E09700...\n",
      "Synthesizing feature 63 of 63: E01200...\n",
      "CPU times: user 1h 55min 48s, sys: 25.4 s, total: 1h 56min 14s\n",
      "Wall time: 54min 11s\n"
     ]
    }
   ],
   "source": [
    "%%time\n",
    "synth_full = si.rf_synth(full, random_state=0, seed_cols=['DSI', 'XTOT'], trees=20)"
   ]
  },
  {
   "cell_type": "markdown",
   "metadata": {},
   "source": [
    "## Export"
   ]
  },
  {
   "cell_type": "code",
   "execution_count": 40,
   "metadata": {},
   "outputs": [],
   "source": [
    "synth_full.to_csv('~/Downloads/puf_synth_full.csv')"
   ]
  },
  {
   "cell_type": "code",
   "execution_count": 41,
   "metadata": {},
   "outputs": [],
   "source": [
    "synth.to_csv('~/Downloads/puf_synth_10p_sample.csv')"
   ]
  }
 ],
 "metadata": {
  "kernelspec": {
   "display_name": "Python 3",
   "language": "python",
   "name": "python3"
  },
  "language_info": {
   "codemirror_mode": {
    "name": "ipython",
    "version": 3
   },
   "file_extension": ".py",
   "mimetype": "text/x-python",
   "name": "python",
   "nbconvert_exporter": "python",
   "pygments_lexer": "ipython3",
   "version": "3.6.6"
  }
 },
 "nbformat": 4,
 "nbformat_minor": 2
}
