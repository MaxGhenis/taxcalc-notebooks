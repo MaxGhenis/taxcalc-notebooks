{
 "cells": [
  {
   "cell_type": "markdown",
   "metadata": {},
   "source": [
    "# Analysis of Chris Hughes' \"Fair Shot\" Plan\n",
    "\n",
    "Analysis of cash transfer plan proposed by Chris Hughes in his 2018 book, [*FAIR SHOT: Rethinking Inequality and How We Earn*](http://www.fairshotbook.com/).\n",
    "\n",
    "Per [Felix Salmon's review](https://www.nytimes.com/2018/02/25/books/review/chris-hughes-fair-shot.html) (summarized in my [Twitter thread](https://twitter.com/MaxGhenis/status/968216600670171136)), the elements of the plan are:\n",
    "\n",
    "1) \\$6k/year paid monthly to each adult in a household with income between \\$6k-\\$50k in previous year, or who earned <\\$50k but (a) had cared for a dependent under age six or over age 70, or (b) were enrolled in an accredited college.\n",
    "\n",
    "2) Households earning <\\$6k in past year and who don't meet dependent or college requirements get their previous year's earnings matched 100%.\n",
    "\n",
    "3) Funded by increasing to 50% the marginal rate on income and capital gains for households earning above \\$250k.\n",
    "\n",
    "Tax-Calculator CPS data ([documentation](http://open-source-economics.github.io/Tax-Calculator/)) lacks certain data elements necessary to fully implement this, so we make simplifying assumptions.\n",
    "\n",
    "* **No ages of child dependents.** Instead flag tax units with at least one person under age 18 (`nu18 > 0`).\n",
    "* **No ages of elderly parent dependents.** Instead flag all tax units that claimed an elderly parent as a dependent (`elderly_dependent`, which has [no age threshold](https://turbotax.intuit.com/tax-tips/family/steps-to-claiming-an-elderly-parent-as-a-dependent/L34jePeT9)).\n",
    "* **No college enrollment.** Instead flag tax units with nonzero education tax credits (`c07230 > 0`).\n",
    "* **No knowledge of the number of adults working.** Instead give for each adult in the tax unit.\n",
    "\n",
    "To simplify, this also gives money to the tax units in the same year. It's unclear whether taxdata models longitudinal variance of tax units' incomes and other situations.\n",
    "\n",
    "Potential child care fields include:\n",
    "\n",
    "* `e32800`: \"Child/dependent-care expenses for qualifying persons from Form 2441\"\n",
    "* `f2441`: \"number of child/dependent-care qualifying persons\"\n",
    "* `c07180`: \"Credit for child and dependent care expenses from Form 2441\"\n",
    "\n",
    "*Data: CPS  |  Tax year: 2018  |  Type: Static  |  Author: Max Ghenis  |  Date run: 2018-03-01*"
   ]
  },
  {
   "cell_type": "markdown",
   "metadata": {},
   "source": [
    "## Setup\n",
    "\n",
    "### Imports"
   ]
  },
  {
   "cell_type": "code",
   "execution_count": 2,
   "metadata": {
    "collapsed": true
   },
   "outputs": [],
   "source": [
    "import taxcalc as tc\n",
    "import pandas as pd\n",
    "import numpy as np\n",
    "import copy\n",
    "from bokeh.io import show, output_notebook\n",
    "import matplotlib as mpl\n",
    "import matplotlib.pyplot as plt\n",
    "import seaborn as sns\n",
    "import urllib as url_lib  # On Python 3.6 use \"import urllib.request as url_lib\"."
   ]
  },
  {
   "cell_type": "code",
   "execution_count": 3,
   "metadata": {},
   "outputs": [
    {
     "data": {
      "text/plain": [
       "'0.16.1'"
      ]
     },
     "execution_count": 3,
     "metadata": {},
     "output_type": "execute_result"
    }
   ],
   "source": [
    "tc.__version__"
   ]
  },
  {
   "cell_type": "code",
   "execution_count": 4,
   "metadata": {
    "collapsed": true
   },
   "outputs": [],
   "source": [
    "sns.set_style('white')\n",
    "DPI = 75\n",
    "mpl.rc('savefig', dpi=DPI)\n",
    "mpl.rcParams['figure.dpi']= DPI\n",
    "mpl.rcParams['figure.figsize'] = 6.4, 4.8  # Default."
   ]
  },
  {
   "cell_type": "code",
   "execution_count": 5,
   "metadata": {
    "collapsed": true
   },
   "outputs": [],
   "source": [
    "mpl.rcParams['font.sans-serif'] = 'Roboto'\n",
    "mpl.rcParams['font.family'] = 'sans-serif'\n",
    "\n",
    "# Set title text color to dark gray (https://material.io/color) not black.\n",
    "TITLE_COLOR = '#212121'\n",
    "mpl.rcParams['text.color'] = TITLE_COLOR\n",
    "\n",
    "# Axis titles and tick marks are medium gray.\n",
    "AXIS_COLOR = '#757575'\n",
    "mpl.rcParams['axes.labelcolor'] = AXIS_COLOR\n",
    "mpl.rcParams['xtick.color'] = AXIS_COLOR\n",
    "mpl.rcParams['ytick.color'] = AXIS_COLOR\n",
    "\n",
    "# Use Seaborn's default color palette.\n",
    "# https://stackoverflow.com/q/48958426/1840471 for reproducibility.\n",
    "sns.set_palette(sns.color_palette())"
   ]
  },
  {
   "cell_type": "code",
   "execution_count": 57,
   "metadata": {
    "collapsed": true
   },
   "outputs": [],
   "source": [
    "# Show one decimal in tables.\n",
    "pd.set_option('precision', 2)"
   ]
  },
  {
   "cell_type": "markdown",
   "metadata": {},
   "source": [
    "### Utility functions"
   ]
  },
  {
   "cell_type": "code",
   "execution_count": 53,
   "metadata": {
    "collapsed": true
   },
   "outputs": [],
   "source": [
    "def weighted_sum(df, col):\n",
    "    return (df[col] * df['s006']).sum()"
   ]
  },
  {
   "cell_type": "code",
   "execution_count": 7,
   "metadata": {
    "collapsed": true
   },
   "outputs": [],
   "source": [
    "def gini(x, weights=None):\n",
    "    if weights is None:\n",
    "        weights = np.ones_like(x)\n",
    "    # Calculate mean absolute deviation in two steps, for weights.\n",
    "    count = np.multiply.outer(weights, weights)\n",
    "    mad = np.abs(np.subtract.outer(x, x) * count).sum() / count.sum()\n",
    "    # Gini equals half the relative mean absolute deviation.\n",
    "    rmad = mad / np.average(x, weights=weights)\n",
    "    return 0.5 * rmad"
   ]
  },
  {
   "cell_type": "markdown",
   "metadata": {},
   "source": [
    "## Model\n",
    "\n",
    "Create `DataFrame`s for the baseline and reform scenarios. Only the tax increase is modeled as part of the taxcalc reform, since the particular form of the cash transfer isn't available. Instead it's added separately."
   ]
  },
  {
   "cell_type": "markdown",
   "metadata": {},
   "source": [
    "### Specify reform\n",
    "\n",
    "For all tax brackets with thresholds exceeding 250k, set to 250k. Set to 50% all brackets."
   ]
  },
  {
   "cell_type": "code",
   "execution_count": 26,
   "metadata": {
    "collapsed": true
   },
   "outputs": [],
   "source": [
    "reform = {\n",
    "    2018: {\n",
    "        '_II_brk4': [[157500.0, 250000.0, 157500.0, 157500.0, 250000.0]],\n",
    "        '_II_brk5': [[200000.0, 250000.0, 200000.0, 200000.0, 250000.0]],\n",
    "        '_II_brk6': [[250000.0, 250000.0, 250000.0, 250000.0, 250000.0]],\n",
    "        '_II_rt7': [0.5]\n",
    "    }\n",
    "}"
   ]
  },
  {
   "cell_type": "markdown",
   "metadata": {},
   "source": [
    "### Run Tax-Calculator"
   ]
  },
  {
   "cell_type": "code",
   "execution_count": 11,
   "metadata": {
    "collapsed": true
   },
   "outputs": [],
   "source": [
    "recs = tc.Records.cps_constructor()"
   ]
  },
  {
   "cell_type": "markdown",
   "metadata": {},
   "source": [
    "0% the marginal rate on income and capital gains for households earning above $250k.\n",
    "\n",
    "Tax-Calculator CPS data (documentation) lacks certain data elements necessary to fully implement this, so we make simplifying assumptions.\n",
    "\n",
    "No ages of child dependents. Instead flag tax units with at least one person under age 18 (nu18 > 0).\n",
    "No ages of elderly parent dependents. Instead flag all tax units that claimed an elderly parent as a dependent (elderly_dependent, which has no age threshold).\n",
    "No college enrollment. Instead flag tax units with nonzero education tax credits (c07230 > 0).\n",
    "No knowledge of the number of adults working. Instead give for each adult in the tax unit.\n",
    "To simplify, this also gives money to the tax units in the same year. It's unclear whether taxdata models longitudinal variance of tax units' incomes and other situations.\n",
    "\n",
    "Potential child care fields include:\n",
    "\n",
    "e32800: \"Child/dependent-care expenses for qualifying persons from Form 2441\"\n",
    "f2441: \"number of child/dependent-care qualifying persons\"\n",
    "c07180:"
   ]
  },
  {
   "cell_type": "code",
   "execution_count": 65,
   "metadata": {},
   "outputs": [
    {
     "name": "stdout",
     "output_type": "stream",
     "text": [
      "You loaded data for 2014.\n",
      "Tax-Calculator startup automatically extrapolated your data to 2014.\n"
     ]
    }
   ],
   "source": [
    "base_calc = tc.Calculator(records=recs, policy=tc.Policy())\n",
    "base_calc.advance_to_year(2018)\n",
    "base_calc.calc_all()\n",
    "\n",
    "base_df = base_calc.dataframe(['s006', 'nu18', 'XTOT', 'elderly_dependent', \n",
    "                               'c07230', 'expanded_income', 'aftertax_income'])"
   ]
  },
  {
   "cell_type": "code",
   "execution_count": 37,
   "metadata": {},
   "outputs": [
    {
     "name": "stdout",
     "output_type": "stream",
     "text": [
      "You loaded data for 2014.\n",
      "Tax-Calculator startup automatically extrapolated your data to 2014.\n"
     ]
    }
   ],
   "source": [
    "pol = tc.Policy()\n",
    "pol.implement_reform(reform)\n",
    "reform_calc = tc.Calculator(records=recs, policy=pol)\n",
    "reform_calc.advance_to_year(2018)\n",
    "reform_calc.calc_all()\n",
    "\n",
    "reform_df = reform_calc.dataframe(['aftertax_income'])"
   ]
  },
  {
   "cell_type": "markdown",
   "metadata": {},
   "source": [
    "### Merge base and reform"
   ]
  },
  {
   "cell_type": "code",
   "execution_count": 66,
   "metadata": {},
   "outputs": [],
   "source": [
    "base_df.rename(columns={'aftertax_income':'aftertax_income_base'}, inplace=True)\n",
    "reform_df.rename(columns={'aftertax_income':'aftertax_income_reform_preubi'}, \n",
    "                 inplace=True)"
   ]
  },
  {
   "cell_type": "code",
   "execution_count": 67,
   "metadata": {},
   "outputs": [],
   "source": [
    "df = pd.merge(base_df, reform_df, left_index=True, right_index=True)"
   ]
  },
  {
   "cell_type": "markdown",
   "metadata": {},
   "source": [
    "### Add FairShot cash amount\n",
    "\n",
    "Pseudocode:\n",
    "```\n",
    "if expanded_income > 50000 then 0\n",
    "elif elderly_dependent > 0 or nu18 > 0 or expanded_income > (6000 * (XTOT - nu18)) \n",
    "  then 6000 * (XTOT - nu18)\n",
    "else expanded_income\n",
    "```\n",
    "\n",
    "1. Flag eligibility using expanded income.\n",
    "2. Calculate maximum possible amount as `6000 * (XTOT - nu18)`.\n",
    "3. Calculate eligibility for full amount based on dependents and college.\n",
    "4. Calculate amount as ((1) if (2)) otherwise just expanded income."
   ]
  },
  {
   "cell_type": "code",
   "execution_count": 69,
   "metadata": {},
   "outputs": [
    {
     "data": {
      "text/plain": [
       "s006                             float64\n",
       "nu18                             float64\n",
       "XTOT                             float64\n",
       "elderly_dependent                float64\n",
       "c07230                           float64\n",
       "expanded_income                  float64\n",
       "aftertax_income_base             float64\n",
       "aftertax_income_reform_preubi    float64\n",
       "dtype: object"
      ]
     },
     "execution_count": 69,
     "metadata": {},
     "output_type": "execute_result"
    }
   ],
   "source": [
    "df.dtypes"
   ]
  },
  {
   "cell_type": "code",
   "execution_count": 73,
   "metadata": {},
   "outputs": [
    {
     "data": {
      "text/plain": [
       "0"
      ]
     },
     "execution_count": 73,
     "metadata": {},
     "output_type": "execute_result"
    }
   ],
   "source": [
    "np.argmax(np.array([2, 2]))"
   ]
  },
  {
   "cell_type": "code",
   "execution_count": 78,
   "metadata": {},
   "outputs": [
    {
     "data": {
      "text/plain": [
       "array([1, 4])"
      ]
     },
     "execution_count": 78,
     "metadata": {},
     "output_type": "execute_result"
    }
   ],
   "source": [
    "np.where([True, False], [1, 3], [2, 4])"
   ]
  },
  {
   "cell_type": "code",
   "execution_count": 85,
   "metadata": {},
   "outputs": [],
   "source": [
    "df['fairshot_eligible'] = df['expanded_income'] < 50000\n",
    "df['fairshot_max'] = 6000 * (df['XTOT'] - df['nu18'])\n",
    "df['fairshot_max_eligible'] = (\n",
    "    (df['elderly_dependent'] > 0) | \n",
    "    (df['nu18'] > 0) |\n",
    "    (df['c07230'] > 0) |\n",
    "    (df['expanded_income'] >= df['fairshot_max']))\n",
    "df['fairshot'] = np.where(df['fairshot_eligible'], \n",
    "                          np.where(df['fairshot_max_eligible'],\n",
    "                                   df['fairshot_max'],\n",
    "                                   df['expanded_income']),\n",
    "                          0)"
   ]
  },
  {
   "cell_type": "code",
   "execution_count": 87,
   "metadata": {},
   "outputs": [
    {
     "data": {
      "text/plain": [
       "c07230\n",
       "0.0    1.70e+08\n",
       "Name: s006, dtype: float64"
      ]
     },
     "execution_count": 87,
     "metadata": {},
     "output_type": "execute_result"
    }
   ],
   "source": [
    "df.groupby('c07230')['s006'].sum()"
   ]
  },
  {
   "cell_type": "code",
   "execution_count": 86,
   "metadata": {},
   "outputs": [
    {
     "data": {
      "text/html": [
       "<div>\n",
       "<style scoped>\n",
       "    .dataframe tbody tr th:only-of-type {\n",
       "        vertical-align: middle;\n",
       "    }\n",
       "\n",
       "    .dataframe tbody tr th {\n",
       "        vertical-align: top;\n",
       "    }\n",
       "\n",
       "    .dataframe thead th {\n",
       "        text-align: right;\n",
       "    }\n",
       "</style>\n",
       "<table border=\"1\" class=\"dataframe\">\n",
       "  <thead>\n",
       "    <tr style=\"text-align: right;\">\n",
       "      <th></th>\n",
       "      <th>s006</th>\n",
       "      <th>nu18</th>\n",
       "      <th>XTOT</th>\n",
       "      <th>elderly_dependent</th>\n",
       "      <th>c07230</th>\n",
       "      <th>expanded_income</th>\n",
       "      <th>aftertax_income_base</th>\n",
       "      <th>aftertax_income_reform_preubi</th>\n",
       "      <th>fairshot_eligible</th>\n",
       "      <th>fairshot_max</th>\n",
       "      <th>fairshot_max_eligible</th>\n",
       "      <th>fairshot</th>\n",
       "    </tr>\n",
       "  </thead>\n",
       "  <tbody>\n",
       "    <tr>\n",
       "      <th>440233</th>\n",
       "      <td>472.20</td>\n",
       "      <td>0.0</td>\n",
       "      <td>1.0</td>\n",
       "      <td>0.0</td>\n",
       "      <td>0.0</td>\n",
       "      <td>1772.41</td>\n",
       "      <td>1520.50</td>\n",
       "      <td>1520.50</td>\n",
       "      <td>True</td>\n",
       "      <td>6000.0</td>\n",
       "      <td>False</td>\n",
       "      <td>1772.41</td>\n",
       "    </tr>\n",
       "    <tr>\n",
       "      <th>158456</th>\n",
       "      <td>1281.16</td>\n",
       "      <td>0.0</td>\n",
       "      <td>1.0</td>\n",
       "      <td>0.0</td>\n",
       "      <td>0.0</td>\n",
       "      <td>4100.04</td>\n",
       "      <td>4100.04</td>\n",
       "      <td>4100.04</td>\n",
       "      <td>True</td>\n",
       "      <td>6000.0</td>\n",
       "      <td>False</td>\n",
       "      <td>4100.04</td>\n",
       "    </tr>\n",
       "    <tr>\n",
       "      <th>271809</th>\n",
       "      <td>1146.34</td>\n",
       "      <td>0.0</td>\n",
       "      <td>2.0</td>\n",
       "      <td>0.0</td>\n",
       "      <td>0.0</td>\n",
       "      <td>3248.73</td>\n",
       "      <td>3017.86</td>\n",
       "      <td>3017.86</td>\n",
       "      <td>True</td>\n",
       "      <td>12000.0</td>\n",
       "      <td>False</td>\n",
       "      <td>3248.73</td>\n",
       "    </tr>\n",
       "    <tr>\n",
       "      <th>89353</th>\n",
       "      <td>532.08</td>\n",
       "      <td>0.0</td>\n",
       "      <td>1.0</td>\n",
       "      <td>0.0</td>\n",
       "      <td>0.0</td>\n",
       "      <td>4447.20</td>\n",
       "      <td>4393.49</td>\n",
       "      <td>4393.49</td>\n",
       "      <td>True</td>\n",
       "      <td>6000.0</td>\n",
       "      <td>False</td>\n",
       "      <td>4447.20</td>\n",
       "    </tr>\n",
       "    <tr>\n",
       "      <th>219284</th>\n",
       "      <td>1314.24</td>\n",
       "      <td>0.0</td>\n",
       "      <td>1.0</td>\n",
       "      <td>0.0</td>\n",
       "      <td>0.0</td>\n",
       "      <td>4534.26</td>\n",
       "      <td>4534.26</td>\n",
       "      <td>4534.26</td>\n",
       "      <td>True</td>\n",
       "      <td>6000.0</td>\n",
       "      <td>False</td>\n",
       "      <td>4534.26</td>\n",
       "    </tr>\n",
       "  </tbody>\n",
       "</table>\n",
       "</div>"
      ],
      "text/plain": [
       "           s006  nu18  XTOT  elderly_dependent  c07230  expanded_income  \\\n",
       "440233   472.20   0.0   1.0                0.0     0.0          1772.41   \n",
       "158456  1281.16   0.0   1.0                0.0     0.0          4100.04   \n",
       "271809  1146.34   0.0   2.0                0.0     0.0          3248.73   \n",
       "89353    532.08   0.0   1.0                0.0     0.0          4447.20   \n",
       "219284  1314.24   0.0   1.0                0.0     0.0          4534.26   \n",
       "\n",
       "        aftertax_income_base  aftertax_income_reform_preubi  \\\n",
       "440233               1520.50                        1520.50   \n",
       "158456               4100.04                        4100.04   \n",
       "271809               3017.86                        3017.86   \n",
       "89353                4393.49                        4393.49   \n",
       "219284               4534.26                        4534.26   \n",
       "\n",
       "        fairshot_eligible  fairshot_max  fairshot_max_eligible  fairshot  \n",
       "440233               True        6000.0                  False   1772.41  \n",
       "158456               True        6000.0                  False   4100.04  \n",
       "271809               True       12000.0                  False   3248.73  \n",
       "89353                True        6000.0                  False   4447.20  \n",
       "219284               True        6000.0                  False   4534.26  "
      ]
     },
     "execution_count": 86,
     "metadata": {},
     "output_type": "execute_result"
    }
   ],
   "source": [
    "df[df['expanded_income'] < 6000].sample(5)"
   ]
  },
  {
   "cell_type": "markdown",
   "metadata": {},
   "source": [
    "## Analysis"
   ]
  },
  {
   "cell_type": "markdown",
   "metadata": {},
   "source": [
    "### Calculate revenue from tax increases"
   ]
  },
  {
   "cell_type": "code",
   "execution_count": 64,
   "metadata": {},
   "outputs": [
    {
     "data": {
      "text/plain": [
       "'Tax increases would raise $86.7B in revenue.'"
      ]
     },
     "execution_count": 64,
     "metadata": {},
     "output_type": "execute_result"
    }
   ],
   "source": [
    "'Tax increases would raise ${0:0.1f}B in revenue.'.format(\n",
    "    (weighted_sum(df, 'aftertax_income_base') -\n",
    "     weighted_sum(df, 'aftertax_income_reform_preubi')) / 1e9)"
   ]
  },
  {
   "cell_type": "code",
   "execution_count": null,
   "metadata": {
    "collapsed": true
   },
   "outputs": [],
   "source": []
  }
 ],
 "metadata": {
  "kernelspec": {
   "display_name": "Python 2",
   "language": "python",
   "name": "python2"
  },
  "language_info": {
   "codemirror_mode": {
    "name": "ipython",
    "version": 2
   },
   "file_extension": ".py",
   "mimetype": "text/x-python",
   "name": "python",
   "nbconvert_exporter": "python",
   "pygments_lexer": "ipython2",
   "version": "2.7.14"
  }
 },
 "nbformat": 4,
 "nbformat_minor": 2
}
