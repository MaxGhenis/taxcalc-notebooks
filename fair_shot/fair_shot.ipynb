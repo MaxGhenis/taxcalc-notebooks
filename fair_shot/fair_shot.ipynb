{
 "cells": [
  {
   "cell_type": "markdown",
   "metadata": {},
   "source": [
    "# Analysis of Chris Hughes' *Fair Shot* Plan\n",
    "\n",
    "Analysis of cash transfer plan proposed by Chris Hughes in his 2018 book, [*FAIR SHOT: Rethinking Inequality and How We Earn*](http://www.fairshotbook.com/).\n",
    "\n",
    "Per [Felix Salmon's review](https://www.nytimes.com/2018/02/25/books/review/chris-hughes-fair-shot.html) (summarized in my [Twitter thread](https://twitter.com/MaxGhenis/status/968216600670171136)), the elements of the plan are:\n",
    "\n",
    "1) \\$6k/year paid monthly to each adult in a household with income between \\$6k-\\$50k in previous year, or who earned <\\$50k but (a) had cared for a dependent under age six or over age 70, or (b) were enrolled in an accredited college.\n",
    "\n",
    "2) Households earning <\\$6k in past year and who don't meet dependent or college requirements get their previous year's earnings matched 100%.\n",
    "\n",
    "3) Funded by increasing to 50% the marginal rate on income and capital gains for households earning above \\$250k.\n",
    "\n",
    "Tax-Calculator CPS data ([documentation](http://open-source-economics.github.io/Tax-Calculator/)) lacks certain data elements necessary to fully implement this, so we make simplifying assumptions.\n",
    "\n",
    "* **Elderly dependents are 65+ not 70+.**\n",
    "* **No college enrollment.** CPS data lacks data on lifetime learning tax expenses (`e87530`), so no substitute here. NCES [estimated](https://nces.ed.gov/fastfacts/display.asp?id=372) that 12.6 million students attended college full-time in fall 2017.\n",
    "* **No knowledge of the number of adults working.** Instead determine each tax unit's eligibility and give for each adult in the tax unit. If the tax unit does not include any adults (`nu18 == XTOT`) then assume a single adult.\n",
    "\n",
    "Other simplifying assumptions:\n",
    "* Tax units receive the payment in the same year. It's unclear whether taxdata models longitudinal variance of tax units' incomes and other situations, and this makes it relatively similar to tax refunds like EITC.\n",
    "* The payment is not taxes.\n",
    "* The payment does not affect eligibility for other taxes, tax credits, or benefits like SNAP.\n",
    "* The 50% rate also applies to pass-through income.\n",
    "\n",
    "*Data: CPS  |  Tax year: 2018  |  Type: Static  |  Author: Max Ghenis  |  Date run: 2018-03-01*"
   ]
  },
  {
   "cell_type": "markdown",
   "metadata": {},
   "source": [
    "## Setup\n",
    "\n",
    "### Imports"
   ]
  },
  {
   "cell_type": "code",
   "execution_count": 2,
   "metadata": {
    "collapsed": true
   },
   "outputs": [],
   "source": [
    "import taxcalc as tc\n",
    "import pandas as pd\n",
    "import numpy as np\n",
    "import copy\n",
    "from bokeh.io import show, output_notebook\n",
    "import matplotlib as mpl\n",
    "import matplotlib.pyplot as plt\n",
    "import seaborn as sns\n",
    "# On Python 3.6 use \"import urllib.request as url_lib\".\n",
    "import urllib as url_lib"
   ]
  },
  {
   "cell_type": "code",
   "execution_count": 3,
   "metadata": {},
   "outputs": [
    {
     "data": {
      "text/plain": [
       "'0.16.1'"
      ]
     },
     "execution_count": 3,
     "metadata": {},
     "output_type": "execute_result"
    }
   ],
   "source": [
    "tc.__version__"
   ]
  },
  {
   "cell_type": "code",
   "execution_count": 4,
   "metadata": {
    "collapsed": true
   },
   "outputs": [],
   "source": [
    "sns.set_style('white')\n",
    "DPI = 75\n",
    "mpl.rc('savefig', dpi=DPI)\n",
    "mpl.rcParams['figure.dpi']= DPI\n",
    "mpl.rcParams['figure.figsize'] = 6.4, 4.8  # Default."
   ]
  },
  {
   "cell_type": "code",
   "execution_count": 5,
   "metadata": {
    "collapsed": true
   },
   "outputs": [],
   "source": [
    "mpl.rcParams['font.sans-serif'] = 'Roboto'\n",
    "mpl.rcParams['font.family'] = 'sans-serif'\n",
    "\n",
    "# Set title text color to dark gray (https://material.io/color) not black.\n",
    "TITLE_COLOR = '#212121'\n",
    "mpl.rcParams['text.color'] = TITLE_COLOR\n",
    "\n",
    "# Axis titles and tick marks are medium gray.\n",
    "AXIS_COLOR = '#757575'\n",
    "mpl.rcParams['axes.labelcolor'] = AXIS_COLOR\n",
    "mpl.rcParams['xtick.color'] = AXIS_COLOR\n",
    "mpl.rcParams['ytick.color'] = AXIS_COLOR\n",
    "\n",
    "# Use Seaborn's default color palette.\n",
    "# https://stackoverflow.com/q/48958426/1840471 for reproducibility.\n",
    "sns.set_palette(sns.color_palette())"
   ]
  },
  {
   "cell_type": "code",
   "execution_count": 57,
   "metadata": {
    "collapsed": true
   },
   "outputs": [],
   "source": [
    "# Show one decimal in tables.\n",
    "pd.set_option('precision', 2)"
   ]
  },
  {
   "cell_type": "markdown",
   "metadata": {},
   "source": [
    "### Utility functions"
   ]
  },
  {
   "cell_type": "code",
   "execution_count": 53,
   "metadata": {
    "collapsed": true
   },
   "outputs": [],
   "source": [
    "def weighted_sum(df, col):\n",
    "    return (df[col] * df['s006']).sum()"
   ]
  },
  {
   "cell_type": "code",
   "execution_count": 7,
   "metadata": {
    "collapsed": true
   },
   "outputs": [],
   "source": [
    "def gini(x, weights=None):\n",
    "    if weights is None:\n",
    "        weights = np.ones_like(x)\n",
    "    # Calculate mean absolute deviation in two steps, for weights.\n",
    "    count = np.multiply.outer(weights, weights)\n",
    "    mad = np.abs(np.subtract.outer(x, x) * count).sum() / count.sum()\n",
    "    # Gini equals half the relative mean absolute deviation.\n",
    "    rmad = mad / np.average(x, weights=weights)\n",
    "    return 0.5 * rmad"
   ]
  },
  {
   "cell_type": "markdown",
   "metadata": {},
   "source": [
    "## Model\n",
    "\n",
    "Create `DataFrame`s for the baseline and reform scenarios. Only the tax increase is modeled as part of the taxcalc reform, since the particular form of the cash transfer isn't available. Instead it's added separately."
   ]
  },
  {
   "cell_type": "markdown",
   "metadata": {},
   "source": [
    "### Specify reform\n",
    "\n",
    "For all tax brackets with thresholds exceeding 250k, set to 250k. Set to 50% all brackets."
   ]
  },
  {
   "cell_type": "code",
   "execution_count": 26,
   "metadata": {
    "collapsed": true
   },
   "outputs": [],
   "source": [
    "reform = {\n",
    "    2018: {\n",
    "        '_II_brk4': [[157500.0, 250000.0, 157500.0, 157500.0, 250000.0]],\n",
    "        '_II_brk5': [[200000.0, 250000.0, 200000.0, 200000.0, 250000.0]],\n",
    "        '_II_brk6': [[250000.0, 250000.0, 250000.0, 250000.0, 250000.0]],\n",
    "        '_II_rt7': [0.5]\n",
    "    }\n",
    "}"
   ]
  },
  {
   "cell_type": "markdown",
   "metadata": {},
   "source": [
    "### Run Tax-Calculator"
   ]
  },
  {
   "cell_type": "code",
   "execution_count": 11,
   "metadata": {
    "collapsed": true
   },
   "outputs": [],
   "source": [
    "recs = tc.Records.cps_constructor()"
   ]
  },
  {
   "cell_type": "code",
   "execution_count": 185,
   "metadata": {},
   "outputs": [
    {
     "name": "stdout",
     "output_type": "stream",
     "text": [
      "You loaded data for 2014.\n",
      "Tax-Calculator startup automatically extrapolated your data to 2014.\n"
     ]
    }
   ],
   "source": [
    "base_calc = tc.Calculator(records=recs, policy=tc.Policy())\n",
    "base_calc.advance_to_year(2018)\n",
    "base_calc.calc_all()\n",
    "\n",
    "base_df = base_calc.dataframe([\n",
    "    's006', 'XTOT', 'nu18', 'nu05', 'elderly_dependent',\n",
    "    'expanded_income', 'aftertax_income',\n",
    "    # Include non-cash benefits to subtract for cash income.\n",
    "    # Vet and other benefits have some cash components, but unclear how much.\n",
    "    'snap_ben', 'mcaid_ben', 'mcare_ben', 'vet_ben', 'other_ben'])"
   ]
  },
  {
   "cell_type": "code",
   "execution_count": 186,
   "metadata": {},
   "outputs": [
    {
     "name": "stdout",
     "output_type": "stream",
     "text": [
      "You loaded data for 2014.\n",
      "Tax-Calculator startup automatically extrapolated your data to 2014.\n"
     ]
    }
   ],
   "source": [
    "pol = tc.Policy()\n",
    "pol.implement_reform(reform)\n",
    "reform_calc = tc.Calculator(records=recs, policy=pol)\n",
    "reform_calc.advance_to_year(2018)\n",
    "reform_calc.calc_all()\n",
    "\n",
    "# Only get after-tax income. \n",
    "# Since only rates change, benefits will stay the same.\n",
    "reform_df = reform_calc.dataframe(['aftertax_income'])"
   ]
  },
  {
   "cell_type": "markdown",
   "metadata": {},
   "source": [
    "### Merge base and reform"
   ]
  },
  {
   "cell_type": "code",
   "execution_count": 174,
   "metadata": {
    "collapsed": true
   },
   "outputs": [],
   "source": [
    "base_df.rename(columns={'aftertax_income':'afti0'}, inplace=True)\n",
    "reform_df.rename(columns={'aftertax_income':'afti1_preubi'}, inplace=True)"
   ]
  },
  {
   "cell_type": "code",
   "execution_count": 175,
   "metadata": {
    "collapsed": true
   },
   "outputs": [],
   "source": [
    "df = pd.merge(base_df, reform_df, left_index=True, right_index=True)"
   ]
  },
  {
   "cell_type": "markdown",
   "metadata": {},
   "source": [
    "### Add FairShot cash amount\n",
    "\n",
    "Pseudocode:\n",
    "```\n",
    "if expanded_income > 50000 then 0\n",
    "elif elderly_dependent > 0 or nu18 > 0 or expanded_income > (6000 * (XTOT - nu18)) \n",
    "  then 6000 * (XTOT - nu18)\n",
    "else expanded_income\n",
    "```\n",
    "\n",
    "1. Flag eligibility using expanded income.\n",
    "2. Calculate maximum possible amount as `6000 * (XTOT - nu18)`.\n",
    "3. Calculate eligibility for full amount based on dependents and college.\n",
    "4. Calculate amount as ((1) if (2)) otherwise just expanded income.\n",
    "\n",
    "*NB: `nu05` includes 5-year-olds, therefore meeting the FairShot proposal's criteria. See https://github.com/open-source-economics/taxdata/issues/164.*"
   ]
  },
  {
   "cell_type": "code",
   "execution_count": 184,
   "metadata": {
    "collapsed": true
   },
   "outputs": [],
   "source": [
    "df['adults'] = df['XTOT'] - df['nu18']\n",
    "df['fairshot_eligible'] = df['expanded_income'] < 50000\n",
    "# Use min(1, adults) to include tax units with no adults.\n",
    "df['fairshot_max'] = 6000 * df['adults'].clip(1)\n",
    "df['fairshot_max_eligible'] = (\n",
    "    (df['elderly_dependent'] > 0) |\n",
    "    (df['nu05'] > 0) |\n",
    "    (df['expanded_income'] >= df['fairshot_max']))\n",
    "df['fairshot'] = np.where(df['fairshot_eligible'], \n",
    "                          np.where(df['fairshot_max_eligible'],\n",
    "                                   df['fairshot_max'],\n",
    "                                   df['expanded_income']),\n",
    "                          0)\n",
    "df['afti1'] = df['afti1_preubi'] + df['fairshot']"
   ]
  },
  {
   "cell_type": "code",
   "execution_count": 177,
   "metadata": {},
   "outputs": [
    {
     "data": {
      "text/html": [
       "<div>\n",
       "<style scoped>\n",
       "    .dataframe tbody tr th:only-of-type {\n",
       "        vertical-align: middle;\n",
       "    }\n",
       "\n",
       "    .dataframe tbody tr th {\n",
       "        vertical-align: top;\n",
       "    }\n",
       "\n",
       "    .dataframe thead th {\n",
       "        text-align: right;\n",
       "    }\n",
       "</style>\n",
       "<table border=\"1\" class=\"dataframe\">\n",
       "  <thead>\n",
       "    <tr style=\"text-align: right;\">\n",
       "      <th></th>\n",
       "      <th>s006</th>\n",
       "      <th>XTOT</th>\n",
       "      <th>nu18</th>\n",
       "      <th>nu05</th>\n",
       "      <th>elderly_dependent</th>\n",
       "      <th>expanded_income</th>\n",
       "      <th>afti0</th>\n",
       "      <th>afti1_preubi</th>\n",
       "      <th>adults</th>\n",
       "      <th>fairshot_eligible</th>\n",
       "      <th>fairshot_max</th>\n",
       "      <th>fairshot_max_eligible</th>\n",
       "      <th>fairshot</th>\n",
       "      <th>afti1</th>\n",
       "    </tr>\n",
       "  </thead>\n",
       "  <tbody>\n",
       "    <tr>\n",
       "      <th>351770</th>\n",
       "      <td>65.48</td>\n",
       "      <td>1.0</td>\n",
       "      <td>1.0</td>\n",
       "      <td>0.0</td>\n",
       "      <td>0.0</td>\n",
       "      <td>4570.37</td>\n",
       "      <td>4004.05</td>\n",
       "      <td>4004.05</td>\n",
       "      <td>0.0</td>\n",
       "      <td>True</td>\n",
       "      <td>6000.0</td>\n",
       "      <td>False</td>\n",
       "      <td>4570.37</td>\n",
       "      <td>8574.42</td>\n",
       "    </tr>\n",
       "    <tr>\n",
       "      <th>179703</th>\n",
       "      <td>210.84</td>\n",
       "      <td>1.0</td>\n",
       "      <td>1.0</td>\n",
       "      <td>1.0</td>\n",
       "      <td>0.0</td>\n",
       "      <td>681.62</td>\n",
       "      <td>633.18</td>\n",
       "      <td>633.18</td>\n",
       "      <td>0.0</td>\n",
       "      <td>True</td>\n",
       "      <td>6000.0</td>\n",
       "      <td>True</td>\n",
       "      <td>6000.00</td>\n",
       "      <td>6633.18</td>\n",
       "    </tr>\n",
       "    <tr>\n",
       "      <th>241450</th>\n",
       "      <td>849.91</td>\n",
       "      <td>1.0</td>\n",
       "      <td>0.0</td>\n",
       "      <td>0.0</td>\n",
       "      <td>0.0</td>\n",
       "      <td>3607.59</td>\n",
       "      <td>3607.59</td>\n",
       "      <td>3607.59</td>\n",
       "      <td>1.0</td>\n",
       "      <td>True</td>\n",
       "      <td>6000.0</td>\n",
       "      <td>False</td>\n",
       "      <td>3607.59</td>\n",
       "      <td>7215.18</td>\n",
       "    </tr>\n",
       "    <tr>\n",
       "      <th>213681</th>\n",
       "      <td>397.68</td>\n",
       "      <td>1.0</td>\n",
       "      <td>0.0</td>\n",
       "      <td>0.0</td>\n",
       "      <td>0.0</td>\n",
       "      <td>1112.92</td>\n",
       "      <td>55.76</td>\n",
       "      <td>55.76</td>\n",
       "      <td>1.0</td>\n",
       "      <td>True</td>\n",
       "      <td>6000.0</td>\n",
       "      <td>False</td>\n",
       "      <td>1112.92</td>\n",
       "      <td>1168.68</td>\n",
       "    </tr>\n",
       "    <tr>\n",
       "      <th>61603</th>\n",
       "      <td>8.32</td>\n",
       "      <td>1.0</td>\n",
       "      <td>0.0</td>\n",
       "      <td>0.0</td>\n",
       "      <td>0.0</td>\n",
       "      <td>-395.50</td>\n",
       "      <td>-395.50</td>\n",
       "      <td>-395.50</td>\n",
       "      <td>1.0</td>\n",
       "      <td>True</td>\n",
       "      <td>6000.0</td>\n",
       "      <td>False</td>\n",
       "      <td>-395.50</td>\n",
       "      <td>-791.01</td>\n",
       "    </tr>\n",
       "  </tbody>\n",
       "</table>\n",
       "</div>"
      ],
      "text/plain": [
       "          s006  XTOT  nu18  nu05  elderly_dependent  expanded_income    afti0  \\\n",
       "351770   65.48   1.0   1.0   0.0                0.0          4570.37  4004.05   \n",
       "179703  210.84   1.0   1.0   1.0                0.0           681.62   633.18   \n",
       "241450  849.91   1.0   0.0   0.0                0.0          3607.59  3607.59   \n",
       "213681  397.68   1.0   0.0   0.0                0.0          1112.92    55.76   \n",
       "61603     8.32   1.0   0.0   0.0                0.0          -395.50  -395.50   \n",
       "\n",
       "        afti1_preubi  adults  fairshot_eligible  fairshot_max  \\\n",
       "351770       4004.05     0.0               True        6000.0   \n",
       "179703        633.18     0.0               True        6000.0   \n",
       "241450       3607.59     1.0               True        6000.0   \n",
       "213681         55.76     1.0               True        6000.0   \n",
       "61603        -395.50     1.0               True        6000.0   \n",
       "\n",
       "        fairshot_max_eligible  fairshot    afti1  \n",
       "351770                  False   4570.37  8574.42  \n",
       "179703                   True   6000.00  6633.18  \n",
       "241450                  False   3607.59  7215.18  \n",
       "213681                  False   1112.92  1168.68  \n",
       "61603                   False   -395.50  -791.01  "
      ]
     },
     "execution_count": 177,
     "metadata": {},
     "output_type": "execute_result"
    }
   ],
   "source": [
    "df[df['expanded_income'] < 6000].sample(5)"
   ]
  },
  {
   "cell_type": "markdown",
   "metadata": {},
   "source": [
    "## Analysis"
   ]
  },
  {
   "cell_type": "markdown",
   "metadata": {},
   "source": [
    "### Calculate cost and revenue"
   ]
  },
  {
   "cell_type": "code",
   "execution_count": 180,
   "metadata": {},
   "outputs": [
    {
     "data": {
      "text/plain": [
       "'Tax increases would raise $86.7B in revenue.'"
      ]
     },
     "execution_count": 180,
     "metadata": {},
     "output_type": "execute_result"
    }
   ],
   "source": [
    "'Tax increases would raise ${0:0.1f}B in revenue.'.format(\n",
    "    (weighted_sum(df, 'afti0') -\n",
    "     weighted_sum(df, 'afti1_preubi')) / 1e9)"
   ]
  },
  {
   "cell_type": "code",
   "execution_count": 181,
   "metadata": {},
   "outputs": [
    {
     "data": {
      "text/plain": [
       "'FairShot transfer would cost an aggregate $561.8B.'"
      ]
     },
     "execution_count": 181,
     "metadata": {},
     "output_type": "execute_result"
    }
   ],
   "source": [
    "'FairShot transfer would cost an aggregate ${0:0.1f}B.'.format(\n",
    "    (weighted_sum(df, 'afti1') -\n",
    "     weighted_sum(df, 'afti1_preubi')) / 1e9)"
   ]
  },
  {
   "cell_type": "code",
   "execution_count": 182,
   "metadata": {},
   "outputs": [
    {
     "data": {
      "text/plain": [
       "'The overall plan would cost an aggregate $475.1B.'"
      ]
     },
     "execution_count": 182,
     "metadata": {},
     "output_type": "execute_result"
    }
   ],
   "source": [
    "'The overall plan would cost an aggregate ${0:0.1f}B.'.format(\n",
    "    (weighted_sum(df, 'afti1') -\n",
    "     weighted_sum(df, 'afti0')) / 1e9)"
   ]
  },
  {
   "cell_type": "markdown",
   "metadata": {},
   "source": [
    "## Appendix"
   ]
  },
  {
   "cell_type": "markdown",
   "metadata": {},
   "source": [
    "### Check if education and child care fields are available\n",
    "\n",
    "Potential child care fields include:\n",
    "\n",
    "* `e32800`: \"Child/dependent-care expenses for qualifying persons from Form 2441\"\n",
    "* `f2441`: \"number of child/dependent-care qualifying persons\"\n",
    "* `c07180`: \"Credit for child and dependent care expenses from Form 2441\"\n",
    "\n",
    "[Form 2441 instructions](https://www.irs.gov/pub/irs-pdf/i2441.pdf) state:\n",
    "\n",
    "> A qualifying person is:\n",
    "1. A qualifying child under age 13 whom you can claim\n",
    "as a dependent. If the child turned 13 during the year, the\n",
    "child is a qualifying person for the part of the year he or\n",
    "she was under age 13.\n",
    "2. Your disabled spouse who wasn't physically or\n",
    "mentally able to care for himself or herself.\n",
    "3. Any disabled person who wasn't physically or\n",
    "mentally able to care for himself or herself whom you can claim as a dependent or could claim as a dependent\n",
    "except:\n",
    "a. The disabled person had gross income of $4,050 or\n",
    "more,\n",
    "b. The disabled person filed a joint return, or\n",
    "c. You (or your spouse if filing jointly) could be claimed\n",
    "as a dependent on another taxpayer's 2017 return.\n",
    "\n",
    "This shows the number of tax units, in millions, with nonzero values of certain fields."
   ]
  },
  {
   "cell_type": "code",
   "execution_count": 99,
   "metadata": {},
   "outputs": [
    {
     "data": {
      "text/plain": [
       "8.0"
      ]
     },
     "execution_count": 99,
     "metadata": {},
     "output_type": "execute_result"
    }
   ],
   "source": [
    "(((recs.e32800 > 0) * recs.s006).sum() / 1e6).round()"
   ]
  },
  {
   "cell_type": "code",
   "execution_count": 100,
   "metadata": {},
   "outputs": [
    {
     "data": {
      "text/plain": [
       "34.0"
      ]
     },
     "execution_count": 100,
     "metadata": {},
     "output_type": "execute_result"
    }
   ],
   "source": [
    "(((recs.f2441 > 0) * recs.s006).sum() / 1e6).round()"
   ]
  },
  {
   "cell_type": "code",
   "execution_count": 101,
   "metadata": {},
   "outputs": [
    {
     "data": {
      "text/plain": [
       "45.0"
      ]
     },
     "execution_count": 101,
     "metadata": {},
     "output_type": "execute_result"
    }
   ],
   "source": [
    "(((recs.nu18 > 0) * recs.s006).sum() / 1e6).round()"
   ]
  },
  {
   "cell_type": "code",
   "execution_count": 102,
   "metadata": {},
   "outputs": [
    {
     "data": {
      "text/plain": [
       "0.0"
      ]
     },
     "execution_count": 102,
     "metadata": {},
     "output_type": "execute_result"
    }
   ],
   "source": [
    "(((recs.c07180 > 0) * recs.s006).sum() / 1e6).round()"
   ]
  },
  {
   "cell_type": "markdown",
   "metadata": {},
   "source": [
    "### Tax units with only under-18-year-olds\n",
    "\n",
    "This is less than the total tax units above that aren't eligible because there are no adults, because of data aging."
   ]
  },
  {
   "cell_type": "code",
   "execution_count": 124,
   "metadata": {},
   "outputs": [
    {
     "data": {
      "text/plain": [
       "2.3229575333338626"
      ]
     },
     "execution_count": 124,
     "metadata": {},
     "output_type": "execute_result"
    }
   ],
   "source": [
    "((recs.nu18 == recs.XTOT) * recs.s006).sum() / 1e6"
   ]
  },
  {
   "cell_type": "code",
   "execution_count": 125,
   "metadata": {},
   "outputs": [
    {
     "data": {
      "text/plain": [
       "2.3784936633338964"
      ]
     },
     "execution_count": 125,
     "metadata": {},
     "output_type": "execute_result"
    }
   ],
   "source": [
    "((recs.nu18 == recs.XTOT) * recs.s006 * recs.XTOT).sum() / 1e6"
   ]
  },
  {
   "cell_type": "markdown",
   "metadata": {},
   "source": [
    "% of all tax units."
   ]
  },
  {
   "cell_type": "code",
   "execution_count": 127,
   "metadata": {},
   "outputs": [
    {
     "data": {
      "text/plain": [
       "0.014234177317173094"
      ]
     },
     "execution_count": 127,
     "metadata": {},
     "output_type": "execute_result"
    }
   ],
   "source": [
    "((recs.nu18 == recs.XTOT) * recs.s006).sum() / recs.s006.sum()"
   ]
  }
 ],
 "metadata": {
  "kernelspec": {
   "display_name": "Python 3",
   "language": "python",
   "name": "python3"
  },
  "language_info": {
   "codemirror_mode": {
    "name": "ipython",
    "version": 3
   },
   "file_extension": ".py",
   "mimetype": "text/x-python",
   "name": "python",
   "nbconvert_exporter": "python",
   "pygments_lexer": "ipython3",
   "version": "3.6.5"
  },
  "toc": {
   "base_numbering": 1,
   "nav_menu": {},
   "number_sections": true,
   "sideBar": true,
   "skip_h1_title": false,
   "title_cell": "Table of Contents",
   "title_sidebar": "Contents",
   "toc_cell": false,
   "toc_position": {},
   "toc_section_display": true,
   "toc_window_display": true
  }
 },
 "nbformat": 4,
 "nbformat_minor": 2
}
