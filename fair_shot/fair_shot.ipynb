{
 "cells": [
  {
   "cell_type": "markdown",
   "metadata": {},
   "source": [
    "# Analysis of Chris Hughes' \"Fair Shot\" Plan\n",
    "\n",
    "Analysis of cash transfer plan proposed by Chris Hughes in his 2018 book, [*FAIR SHOT: Rethinking Inequality and How We Earn*](http://www.fairshotbook.com/).\n",
    "\n",
    "Per [Felix Salmon's review](https://www.nytimes.com/2018/02/25/books/review/chris-hughes-fair-shot.html) (summarized in my [Twitter thread](https://twitter.com/MaxGhenis/status/968216600670171136)), the elements of the plan are:\n",
    "\n",
    "1) \\$6k/year paid monthly to each adult in a household with income between \\$6k-\\$50k in previous year, or who earned <\\$50k but (a) had cared for a dependent under age six or over age 70, or (b) were enrolled in an accredited college.\n",
    "\n",
    "2) Households earning <\\$6k in past year and who don't meet dependent or college requirements get their previous year's earnings matched 100%.\n",
    "\n",
    "3) Funded by increasing to 50% the marginal rate on income and capital gains for households earning above \\$250k.\n",
    "\n",
    "Tax-Calculator CPS data ([documentation](http://open-source-economics.github.io/Tax-Calculator/)) lacks certain data elements necessary to fully implement this, so we make simplifying assumptions.\n",
    "\n",
    "* **No ages of child dependents.** Instead flag tax units with child/dependent-care qualifying persons as marked on [IRS Form 2441](https://www.irs.gov/pub/irs-pdf/i2441.pdf), which considers children under age 13 and disabled people (`f2441 > 0`).\n",
    "* **No ages of elderly parent dependents.** Instead flag all tax units that claimed an elderly parent as a dependent (`elderly_dependent`, which has [no age threshold](https://turbotax.intuit.com/tax-tips/family/steps-to-claiming-an-elderly-parent-as-a-dependent/L34jePeT9)).\n",
    "* **No college enrollment.** CPS data lacks data on lifetime learning tax expenses (`e87530`), so no substitute here. NCES [estimated](https://nces.ed.gov/fastfacts/display.asp?id=372) that 12.6 million students attended college full-time in fall 2017.\n",
    "* **No knowledge of the number of adults working.** Instead determine each tax unit's eligibility and give for each adult in the tax unit. If the tax unit does not include any adults (`nu18 == XTOT`) then assume a single adult.\n",
    "\n",
    "To simplify, this also gives money to the tax units in the same year. It's unclear whether taxdata models longitudinal variance of tax units' incomes and other situations.\n",
    "\n",
    "*Data: CPS  |  Tax year: 2018  |  Type: Static  |  Author: Max Ghenis  |  Date run: 2018-03-01*"
   ]
  },
  {
   "cell_type": "markdown",
   "metadata": {},
   "source": [
    "## Setup\n",
    "\n",
    "### Imports"
   ]
  },
  {
   "cell_type": "code",
   "execution_count": 2,
   "metadata": {
    "collapsed": true
   },
   "outputs": [],
   "source": [
    "import taxcalc as tc\n",
    "import pandas as pd\n",
    "import numpy as np\n",
    "import copy\n",
    "from bokeh.io import show, output_notebook\n",
    "import matplotlib as mpl\n",
    "import matplotlib.pyplot as plt\n",
    "import seaborn as sns\n",
    "import urllib as url_lib  # On Python 3.6 use \"import urllib.request as url_lib\"."
   ]
  },
  {
   "cell_type": "code",
   "execution_count": 3,
   "metadata": {},
   "outputs": [
    {
     "data": {
      "text/plain": [
       "'0.16.1'"
      ]
     },
     "execution_count": 3,
     "metadata": {},
     "output_type": "execute_result"
    }
   ],
   "source": [
    "tc.__version__"
   ]
  },
  {
   "cell_type": "code",
   "execution_count": 4,
   "metadata": {
    "collapsed": true
   },
   "outputs": [],
   "source": [
    "sns.set_style('white')\n",
    "DPI = 75\n",
    "mpl.rc('savefig', dpi=DPI)\n",
    "mpl.rcParams['figure.dpi']= DPI\n",
    "mpl.rcParams['figure.figsize'] = 6.4, 4.8  # Default."
   ]
  },
  {
   "cell_type": "code",
   "execution_count": 5,
   "metadata": {
    "collapsed": true
   },
   "outputs": [],
   "source": [
    "mpl.rcParams['font.sans-serif'] = 'Roboto'\n",
    "mpl.rcParams['font.family'] = 'sans-serif'\n",
    "\n",
    "# Set title text color to dark gray (https://material.io/color) not black.\n",
    "TITLE_COLOR = '#212121'\n",
    "mpl.rcParams['text.color'] = TITLE_COLOR\n",
    "\n",
    "# Axis titles and tick marks are medium gray.\n",
    "AXIS_COLOR = '#757575'\n",
    "mpl.rcParams['axes.labelcolor'] = AXIS_COLOR\n",
    "mpl.rcParams['xtick.color'] = AXIS_COLOR\n",
    "mpl.rcParams['ytick.color'] = AXIS_COLOR\n",
    "\n",
    "# Use Seaborn's default color palette.\n",
    "# https://stackoverflow.com/q/48958426/1840471 for reproducibility.\n",
    "sns.set_palette(sns.color_palette())"
   ]
  },
  {
   "cell_type": "code",
   "execution_count": 57,
   "metadata": {
    "collapsed": true
   },
   "outputs": [],
   "source": [
    "# Show one decimal in tables.\n",
    "pd.set_option('precision', 2)"
   ]
  },
  {
   "cell_type": "markdown",
   "metadata": {},
   "source": [
    "### Utility functions"
   ]
  },
  {
   "cell_type": "code",
   "execution_count": 53,
   "metadata": {
    "collapsed": true
   },
   "outputs": [],
   "source": [
    "def weighted_sum(df, col):\n",
    "    return (df[col] * df['s006']).sum()"
   ]
  },
  {
   "cell_type": "code",
   "execution_count": 7,
   "metadata": {
    "collapsed": true
   },
   "outputs": [],
   "source": [
    "def gini(x, weights=None):\n",
    "    if weights is None:\n",
    "        weights = np.ones_like(x)\n",
    "    # Calculate mean absolute deviation in two steps, for weights.\n",
    "    count = np.multiply.outer(weights, weights)\n",
    "    mad = np.abs(np.subtract.outer(x, x) * count).sum() / count.sum()\n",
    "    # Gini equals half the relative mean absolute deviation.\n",
    "    rmad = mad / np.average(x, weights=weights)\n",
    "    return 0.5 * rmad"
   ]
  },
  {
   "cell_type": "markdown",
   "metadata": {},
   "source": [
    "## Model\n",
    "\n",
    "Create `DataFrame`s for the baseline and reform scenarios. Only the tax increase is modeled as part of the taxcalc reform, since the particular form of the cash transfer isn't available. Instead it's added separately."
   ]
  },
  {
   "cell_type": "markdown",
   "metadata": {},
   "source": [
    "### Specify reform\n",
    "\n",
    "For all tax brackets with thresholds exceeding 250k, set to 250k. Set to 50% all brackets."
   ]
  },
  {
   "cell_type": "code",
   "execution_count": 26,
   "metadata": {
    "collapsed": true
   },
   "outputs": [],
   "source": [
    "reform = {\n",
    "    2018: {\n",
    "        '_II_brk4': [[157500.0, 250000.0, 157500.0, 157500.0, 250000.0]],\n",
    "        '_II_brk5': [[200000.0, 250000.0, 200000.0, 200000.0, 250000.0]],\n",
    "        '_II_brk6': [[250000.0, 250000.0, 250000.0, 250000.0, 250000.0]],\n",
    "        '_II_rt7': [0.5]\n",
    "    }\n",
    "}"
   ]
  },
  {
   "cell_type": "markdown",
   "metadata": {},
   "source": [
    "### Run Tax-Calculator"
   ]
  },
  {
   "cell_type": "code",
   "execution_count": 11,
   "metadata": {
    "collapsed": true
   },
   "outputs": [],
   "source": [
    "recs = tc.Records.cps_constructor()"
   ]
  },
  {
   "cell_type": "code",
   "execution_count": 165,
   "metadata": {},
   "outputs": [
    {
     "name": "stdout",
     "output_type": "stream",
     "text": [
      "You loaded data for 2014.\n",
      "Tax-Calculator startup automatically extrapolated your data to 2014.\n"
     ]
    }
   ],
   "source": [
    "base_calc = tc.Calculator(records=recs, policy=tc.Policy())\n",
    "base_calc.advance_to_year(2018)\n",
    "base_calc.calc_all()\n",
    "\n",
    "base_df = base_calc.dataframe(['s006', 'XTOT', 'nu18', 'n1820', 'n21', \n",
    "                               'f2441', 'elderly_dependent',\n",
    "                               'expanded_income', 'aftertax_income'])"
   ]
  },
  {
   "cell_type": "code",
   "execution_count": 166,
   "metadata": {},
   "outputs": [
    {
     "name": "stdout",
     "output_type": "stream",
     "text": [
      "You loaded data for 2014.\n",
      "Tax-Calculator startup automatically extrapolated your data to 2014.\n"
     ]
    }
   ],
   "source": [
    "pol = tc.Policy()\n",
    "pol.implement_reform(reform)\n",
    "reform_calc = tc.Calculator(records=recs, policy=pol)\n",
    "reform_calc.advance_to_year(2018)\n",
    "reform_calc.calc_all()\n",
    "\n",
    "reform_df = reform_calc.dataframe(['aftertax_income'])"
   ]
  },
  {
   "cell_type": "markdown",
   "metadata": {},
   "source": [
    "### Merge base and reform"
   ]
  },
  {
   "cell_type": "code",
   "execution_count": 167,
   "metadata": {
    "collapsed": true
   },
   "outputs": [],
   "source": [
    "base_df.rename(columns={'aftertax_income':'afti0'}, inplace=True)\n",
    "reform_df.rename(columns={'aftertax_income':'afti1_preubi'}, inplace=True)"
   ]
  },
  {
   "cell_type": "code",
   "execution_count": 168,
   "metadata": {
    "collapsed": true
   },
   "outputs": [],
   "source": [
    "df = pd.merge(base_df, reform_df, left_index=True, right_index=True)"
   ]
  },
  {
   "cell_type": "markdown",
   "metadata": {},
   "source": [
    "### Add FairShot cash amount\n",
    "\n",
    "Pseudocode:\n",
    "```\n",
    "if expanded_income > 50000 then 0\n",
    "elif elderly_dependent > 0 or nu18 > 0 or expanded_income > (6000 * (XTOT - nu18)) \n",
    "  then 6000 * (XTOT - nu18)\n",
    "else expanded_income\n",
    "```\n",
    "\n",
    "1. Flag eligibility using expanded income.\n",
    "2. Calculate maximum possible amount as `6000 * (XTOT - nu18)`.\n",
    "3. Calculate eligibility for full amount based on dependents and college.\n",
    "4. Calculate amount as ((1) if (2)) otherwise just expanded income."
   ]
  },
  {
   "cell_type": "code",
   "execution_count": 169,
   "metadata": {
    "collapsed": true
   },
   "outputs": [],
   "source": [
    "df['adults'] = df['XTOT'] - df['nu18']\n",
    "df['fairshot_eligible'] = df['expanded_income'] < 50000\n",
    "df['fairshot_max'] = 6000 * df['adults'].clip(1)\n",
    "df['fairshot_max_eligible'] = (\n",
    "    (df['elderly_dependent'] > 0) |\n",
    "    (df['f2441'] > 0) |\n",
    "    (df['expanded_income'] >= df['fairshot_max']))\n",
    "df['fairshot'] = np.where(df['fairshot_eligible'], \n",
    "                          np.where(df['fairshot_max_eligible'],\n",
    "                                   df['fairshot_max'],\n",
    "                                   df['expanded_income']),\n",
    "                          0)\n",
    "df['afti1'] = df['afti1_preubi'] + df['fairshot']"
   ]
  },
  {
   "cell_type": "code",
   "execution_count": 170,
   "metadata": {},
   "outputs": [
    {
     "data": {
      "text/html": [
       "<div>\n",
       "<style scoped>\n",
       "    .dataframe tbody tr th:only-of-type {\n",
       "        vertical-align: middle;\n",
       "    }\n",
       "\n",
       "    .dataframe tbody tr th {\n",
       "        vertical-align: top;\n",
       "    }\n",
       "\n",
       "    .dataframe thead th {\n",
       "        text-align: right;\n",
       "    }\n",
       "</style>\n",
       "<table border=\"1\" class=\"dataframe\">\n",
       "  <thead>\n",
       "    <tr style=\"text-align: right;\">\n",
       "      <th></th>\n",
       "      <th>s006</th>\n",
       "      <th>XTOT</th>\n",
       "      <th>nu18</th>\n",
       "      <th>n1820</th>\n",
       "      <th>n21</th>\n",
       "      <th>f2441</th>\n",
       "      <th>elderly_dependent</th>\n",
       "      <th>expanded_income</th>\n",
       "      <th>afti0</th>\n",
       "      <th>afti1_preubi</th>\n",
       "      <th>adults</th>\n",
       "      <th>fairshot_eligible</th>\n",
       "      <th>fairshot_max</th>\n",
       "      <th>fairshot_max_eligible</th>\n",
       "      <th>fairshot</th>\n",
       "      <th>afti1</th>\n",
       "    </tr>\n",
       "  </thead>\n",
       "  <tbody>\n",
       "    <tr>\n",
       "      <th>181522</th>\n",
       "      <td>145.12</td>\n",
       "      <td>1.0</td>\n",
       "      <td>0.0</td>\n",
       "      <td>0.0</td>\n",
       "      <td>1.0</td>\n",
       "      <td>0.0</td>\n",
       "      <td>0.0</td>\n",
       "      <td>2986.13</td>\n",
       "      <td>2986.13</td>\n",
       "      <td>2986.13</td>\n",
       "      <td>1.0</td>\n",
       "      <td>True</td>\n",
       "      <td>6000.0</td>\n",
       "      <td>False</td>\n",
       "      <td>2986.13</td>\n",
       "      <td>5972.26</td>\n",
       "    </tr>\n",
       "    <tr>\n",
       "      <th>160524</th>\n",
       "      <td>539.40</td>\n",
       "      <td>1.0</td>\n",
       "      <td>0.0</td>\n",
       "      <td>1.0</td>\n",
       "      <td>0.0</td>\n",
       "      <td>0.0</td>\n",
       "      <td>0.0</td>\n",
       "      <td>4100.04</td>\n",
       "      <td>4100.04</td>\n",
       "      <td>4100.04</td>\n",
       "      <td>1.0</td>\n",
       "      <td>True</td>\n",
       "      <td>6000.0</td>\n",
       "      <td>False</td>\n",
       "      <td>4100.04</td>\n",
       "      <td>8200.08</td>\n",
       "    </tr>\n",
       "    <tr>\n",
       "      <th>455358</th>\n",
       "      <td>191.48</td>\n",
       "      <td>2.0</td>\n",
       "      <td>0.0</td>\n",
       "      <td>0.0</td>\n",
       "      <td>2.0</td>\n",
       "      <td>0.0</td>\n",
       "      <td>0.0</td>\n",
       "      <td>0.00</td>\n",
       "      <td>0.00</td>\n",
       "      <td>0.00</td>\n",
       "      <td>2.0</td>\n",
       "      <td>True</td>\n",
       "      <td>12000.0</td>\n",
       "      <td>False</td>\n",
       "      <td>0.00</td>\n",
       "      <td>0.00</td>\n",
       "    </tr>\n",
       "    <tr>\n",
       "      <th>29778</th>\n",
       "      <td>771.64</td>\n",
       "      <td>1.0</td>\n",
       "      <td>0.0</td>\n",
       "      <td>0.0</td>\n",
       "      <td>1.0</td>\n",
       "      <td>0.0</td>\n",
       "      <td>0.0</td>\n",
       "      <td>2513.81</td>\n",
       "      <td>2156.52</td>\n",
       "      <td>2156.52</td>\n",
       "      <td>1.0</td>\n",
       "      <td>True</td>\n",
       "      <td>6000.0</td>\n",
       "      <td>False</td>\n",
       "      <td>2513.81</td>\n",
       "      <td>4670.33</td>\n",
       "    </tr>\n",
       "    <tr>\n",
       "      <th>236795</th>\n",
       "      <td>2621.78</td>\n",
       "      <td>1.0</td>\n",
       "      <td>0.0</td>\n",
       "      <td>0.0</td>\n",
       "      <td>1.0</td>\n",
       "      <td>0.0</td>\n",
       "      <td>0.0</td>\n",
       "      <td>0.00</td>\n",
       "      <td>0.00</td>\n",
       "      <td>0.00</td>\n",
       "      <td>1.0</td>\n",
       "      <td>True</td>\n",
       "      <td>6000.0</td>\n",
       "      <td>False</td>\n",
       "      <td>0.00</td>\n",
       "      <td>0.00</td>\n",
       "    </tr>\n",
       "  </tbody>\n",
       "</table>\n",
       "</div>"
      ],
      "text/plain": [
       "           s006  XTOT  nu18  n1820  n21  f2441  elderly_dependent  \\\n",
       "181522   145.12   1.0   0.0    0.0  1.0    0.0                0.0   \n",
       "160524   539.40   1.0   0.0    1.0  0.0    0.0                0.0   \n",
       "455358   191.48   2.0   0.0    0.0  2.0    0.0                0.0   \n",
       "29778    771.64   1.0   0.0    0.0  1.0    0.0                0.0   \n",
       "236795  2621.78   1.0   0.0    0.0  1.0    0.0                0.0   \n",
       "\n",
       "        expanded_income    afti0  afti1_preubi  adults  fairshot_eligible  \\\n",
       "181522          2986.13  2986.13       2986.13     1.0               True   \n",
       "160524          4100.04  4100.04       4100.04     1.0               True   \n",
       "455358             0.00     0.00          0.00     2.0               True   \n",
       "29778           2513.81  2156.52       2156.52     1.0               True   \n",
       "236795             0.00     0.00          0.00     1.0               True   \n",
       "\n",
       "        fairshot_max  fairshot_max_eligible  fairshot    afti1  \n",
       "181522        6000.0                  False   2986.13  5972.26  \n",
       "160524        6000.0                  False   4100.04  8200.08  \n",
       "455358       12000.0                  False      0.00     0.00  \n",
       "29778         6000.0                  False   2513.81  4670.33  \n",
       "236795        6000.0                  False      0.00     0.00  "
      ]
     },
     "execution_count": 170,
     "metadata": {},
     "output_type": "execute_result"
    }
   ],
   "source": [
    "df[df['expanded_income'] < 6000].sample(5)"
   ]
  },
  {
   "cell_type": "markdown",
   "metadata": {},
   "source": [
    "## Analysis"
   ]
  },
  {
   "cell_type": "markdown",
   "metadata": {},
   "source": [
    "### Calculate revenue from tax increases"
   ]
  },
  {
   "cell_type": "code",
   "execution_count": 135,
   "metadata": {},
   "outputs": [
    {
     "data": {
      "text/plain": [
       "'Tax increases would raise $86.7B in revenue.'"
      ]
     },
     "execution_count": 135,
     "metadata": {},
     "output_type": "execute_result"
    }
   ],
   "source": [
    "'Tax increases would raise ${0:0.1f}B in revenue.'.format(\n",
    "    (weighted_sum(df, 'aftertax_income_base') -\n",
    "     weighted_sum(df, 'aftertax_income_reform_preubi')) / 1e9)"
   ]
  },
  {
   "cell_type": "markdown",
   "metadata": {},
   "source": [
    "### Sensitivity to inclusion criteria"
   ]
  },
  {
   "cell_type": "markdown",
   "metadata": {},
   "source": [
    "How many tax units are eligible but include zero adults?"
   ]
  },
  {
   "cell_type": "code",
   "execution_count": 147,
   "metadata": {},
   "outputs": [
    {
     "data": {
      "text/html": [
       "<div>\n",
       "<style scoped>\n",
       "    .dataframe tbody tr th:only-of-type {\n",
       "        vertical-align: middle;\n",
       "    }\n",
       "\n",
       "    .dataframe tbody tr th {\n",
       "        vertical-align: top;\n",
       "    }\n",
       "\n",
       "    .dataframe thead th {\n",
       "        text-align: right;\n",
       "    }\n",
       "</style>\n",
       "<table border=\"1\" class=\"dataframe\">\n",
       "  <thead>\n",
       "    <tr style=\"text-align: right;\">\n",
       "      <th></th>\n",
       "      <th>s006</th>\n",
       "      <th>XTOT</th>\n",
       "      <th>nu18</th>\n",
       "      <th>n1820</th>\n",
       "      <th>n21</th>\n",
       "      <th>f2441</th>\n",
       "      <th>elderly_dependent</th>\n",
       "      <th>expanded_income</th>\n",
       "      <th>aftertax_income_base</th>\n",
       "      <th>aftertax_income_reform_preubi</th>\n",
       "      <th>fairshot_eligible</th>\n",
       "      <th>fairshot_max</th>\n",
       "      <th>fairshot_max_eligible</th>\n",
       "      <th>fairshot</th>\n",
       "      <th>n</th>\n",
       "      <th>XTOT_minus_n</th>\n",
       "      <th>adults</th>\n",
       "    </tr>\n",
       "  </thead>\n",
       "  <tbody>\n",
       "    <tr>\n",
       "      <th>29958</th>\n",
       "      <td>573.23</td>\n",
       "      <td>1.0</td>\n",
       "      <td>1.0</td>\n",
       "      <td>0.0</td>\n",
       "      <td>0.0</td>\n",
       "      <td>2.0</td>\n",
       "      <td>0.0</td>\n",
       "      <td>1382.59</td>\n",
       "      <td>1284.34</td>\n",
       "      <td>1284.34</td>\n",
       "      <td>True</td>\n",
       "      <td>6000.0</td>\n",
       "      <td>True</td>\n",
       "      <td>6000.00</td>\n",
       "      <td>1.0</td>\n",
       "      <td>0.0</td>\n",
       "      <td>0.0</td>\n",
       "    </tr>\n",
       "    <tr>\n",
       "      <th>405016</th>\n",
       "      <td>462.83</td>\n",
       "      <td>1.0</td>\n",
       "      <td>1.0</td>\n",
       "      <td>0.0</td>\n",
       "      <td>0.0</td>\n",
       "      <td>1.0</td>\n",
       "      <td>0.0</td>\n",
       "      <td>5112.93</td>\n",
       "      <td>6338.55</td>\n",
       "      <td>6338.55</td>\n",
       "      <td>True</td>\n",
       "      <td>6000.0</td>\n",
       "      <td>True</td>\n",
       "      <td>6000.00</td>\n",
       "      <td>1.0</td>\n",
       "      <td>0.0</td>\n",
       "      <td>0.0</td>\n",
       "    </tr>\n",
       "    <tr>\n",
       "      <th>104734</th>\n",
       "      <td>452.35</td>\n",
       "      <td>1.0</td>\n",
       "      <td>1.0</td>\n",
       "      <td>0.0</td>\n",
       "      <td>0.0</td>\n",
       "      <td>0.0</td>\n",
       "      <td>0.0</td>\n",
       "      <td>8532.20</td>\n",
       "      <td>7320.81</td>\n",
       "      <td>7320.81</td>\n",
       "      <td>True</td>\n",
       "      <td>6000.0</td>\n",
       "      <td>True</td>\n",
       "      <td>6000.00</td>\n",
       "      <td>1.0</td>\n",
       "      <td>0.0</td>\n",
       "      <td>0.0</td>\n",
       "    </tr>\n",
       "    <tr>\n",
       "      <th>54587</th>\n",
       "      <td>390.15</td>\n",
       "      <td>1.0</td>\n",
       "      <td>1.0</td>\n",
       "      <td>0.0</td>\n",
       "      <td>0.0</td>\n",
       "      <td>1.0</td>\n",
       "      <td>0.0</td>\n",
       "      <td>5917.77</td>\n",
       "      <td>7395.34</td>\n",
       "      <td>7395.34</td>\n",
       "      <td>True</td>\n",
       "      <td>6000.0</td>\n",
       "      <td>True</td>\n",
       "      <td>6000.00</td>\n",
       "      <td>1.0</td>\n",
       "      <td>0.0</td>\n",
       "      <td>0.0</td>\n",
       "    </tr>\n",
       "    <tr>\n",
       "      <th>220800</th>\n",
       "      <td>129.48</td>\n",
       "      <td>1.0</td>\n",
       "      <td>1.0</td>\n",
       "      <td>0.0</td>\n",
       "      <td>0.0</td>\n",
       "      <td>0.0</td>\n",
       "      <td>0.0</td>\n",
       "      <td>2739.39</td>\n",
       "      <td>2544.72</td>\n",
       "      <td>2544.72</td>\n",
       "      <td>True</td>\n",
       "      <td>6000.0</td>\n",
       "      <td>False</td>\n",
       "      <td>2739.39</td>\n",
       "      <td>1.0</td>\n",
       "      <td>0.0</td>\n",
       "      <td>0.0</td>\n",
       "    </tr>\n",
       "  </tbody>\n",
       "</table>\n",
       "</div>"
      ],
      "text/plain": [
       "          s006  XTOT  nu18  n1820  n21  f2441  elderly_dependent  \\\n",
       "29958   573.23   1.0   1.0    0.0  0.0    2.0                0.0   \n",
       "405016  462.83   1.0   1.0    0.0  0.0    1.0                0.0   \n",
       "104734  452.35   1.0   1.0    0.0  0.0    0.0                0.0   \n",
       "54587   390.15   1.0   1.0    0.0  0.0    1.0                0.0   \n",
       "220800  129.48   1.0   1.0    0.0  0.0    0.0                0.0   \n",
       "\n",
       "        expanded_income  aftertax_income_base  aftertax_income_reform_preubi  \\\n",
       "29958           1382.59               1284.34                        1284.34   \n",
       "405016          5112.93               6338.55                        6338.55   \n",
       "104734          8532.20               7320.81                        7320.81   \n",
       "54587           5917.77               7395.34                        7395.34   \n",
       "220800          2739.39               2544.72                        2544.72   \n",
       "\n",
       "        fairshot_eligible  fairshot_max  fairshot_max_eligible  fairshot    n  \\\n",
       "29958                True        6000.0                   True   6000.00  1.0   \n",
       "405016               True        6000.0                   True   6000.00  1.0   \n",
       "104734               True        6000.0                   True   6000.00  1.0   \n",
       "54587                True        6000.0                   True   6000.00  1.0   \n",
       "220800               True        6000.0                  False   2739.39  1.0   \n",
       "\n",
       "        XTOT_minus_n  adults  \n",
       "29958            0.0     0.0  \n",
       "405016           0.0     0.0  \n",
       "104734           0.0     0.0  \n",
       "54587            0.0     0.0  \n",
       "220800           0.0     0.0  "
      ]
     },
     "execution_count": 147,
     "metadata": {},
     "output_type": "execute_result"
    }
   ],
   "source": [
    "df.loc[df['adults'] == 0].sample(5)"
   ]
  },
  {
   "cell_type": "code",
   "execution_count": 142,
   "metadata": {},
   "outputs": [
    {
     "data": {
      "text/html": [
       "<div>\n",
       "<style scoped>\n",
       "    .dataframe tbody tr th:only-of-type {\n",
       "        vertical-align: middle;\n",
       "    }\n",
       "\n",
       "    .dataframe tbody tr th {\n",
       "        vertical-align: top;\n",
       "    }\n",
       "\n",
       "    .dataframe thead th {\n",
       "        text-align: right;\n",
       "    }\n",
       "</style>\n",
       "<table border=\"1\" class=\"dataframe\">\n",
       "  <thead>\n",
       "    <tr style=\"text-align: right;\">\n",
       "      <th></th>\n",
       "      <th>s006</th>\n",
       "      <th>XTOT</th>\n",
       "      <th>nu18</th>\n",
       "      <th>n1820</th>\n",
       "      <th>n21</th>\n",
       "      <th>f2441</th>\n",
       "      <th>elderly_dependent</th>\n",
       "      <th>expanded_income</th>\n",
       "      <th>aftertax_income_base</th>\n",
       "      <th>aftertax_income_reform_preubi</th>\n",
       "      <th>fairshot_eligible</th>\n",
       "      <th>fairshot_max</th>\n",
       "      <th>fairshot_max_eligible</th>\n",
       "      <th>fairshot</th>\n",
       "      <th>n</th>\n",
       "      <th>XTOT_minus_n</th>\n",
       "      <th>adults</th>\n",
       "    </tr>\n",
       "  </thead>\n",
       "  <tbody>\n",
       "  </tbody>\n",
       "</table>\n",
       "</div>"
      ],
      "text/plain": [
       "Empty DataFrame\n",
       "Columns: [s006, XTOT, nu18, n1820, n21, f2441, elderly_dependent, expanded_income, aftertax_income_base, aftertax_income_reform_preubi, fairshot_eligible, fairshot_max, fairshot_max_eligible, fairshot, n, XTOT_minus_n, adults]\n",
       "Index: []"
      ]
     },
     "execution_count": 142,
     "metadata": {},
     "output_type": "execute_result"
    }
   ],
   "source": [
    "df.loc[df['fairshot_max_eligible'] & (df['fairshot_max'] == 0)].head()"
   ]
  },
  {
   "cell_type": "code",
   "execution_count": 138,
   "metadata": {},
   "outputs": [
    {
     "data": {
      "text/plain": [
       "0.0"
      ]
     },
     "execution_count": 138,
     "metadata": {},
     "output_type": "execute_result"
    }
   ],
   "source": [
    "df.loc[(df['fairshot_max_eligible']) & (df['fairshot_max'] == 0), 'adults'].sum()"
   ]
  },
  {
   "cell_type": "markdown",
   "metadata": {},
   "source": [
    "## Appendix"
   ]
  },
  {
   "cell_type": "markdown",
   "metadata": {},
   "source": [
    "### Check if education and child care fields are available\n",
    "\n",
    "Potential child care fields include:\n",
    "\n",
    "* `e32800`: \"Child/dependent-care expenses for qualifying persons from Form 2441\"\n",
    "* `f2441`: \"number of child/dependent-care qualifying persons\"\n",
    "* `c07180`: \"Credit for child and dependent care expenses from Form 2441\"\n",
    "\n",
    "[Form 2441 instructions](https://www.irs.gov/pub/irs-pdf/i2441.pdf) state:\n",
    "\n",
    "> A qualifying person is:\n",
    "1. A qualifying child under age 13 whom you can claim\n",
    "as a dependent. If the child turned 13 during the year, the\n",
    "child is a qualifying person for the part of the year he or\n",
    "she was under age 13.\n",
    "2. Your disabled spouse who wasn't physically or\n",
    "mentally able to care for himself or herself.\n",
    "3. Any disabled person who wasn't physically or\n",
    "mentally able to care for himself or herself whom you can claim as a dependent or could claim as a dependent\n",
    "except:\n",
    "a. The disabled person had gross income of $4,050 or\n",
    "more,\n",
    "b. The disabled person filed a joint return, or\n",
    "c. You (or your spouse if filing jointly) could be claimed\n",
    "as a dependent on another taxpayer's 2017 return.\n",
    "\n",
    "This shows the number of tax units, in millions, with nonzero values of certain fields."
   ]
  },
  {
   "cell_type": "code",
   "execution_count": 99,
   "metadata": {},
   "outputs": [
    {
     "data": {
      "text/plain": [
       "8.0"
      ]
     },
     "execution_count": 99,
     "metadata": {},
     "output_type": "execute_result"
    }
   ],
   "source": [
    "(((recs.e32800 > 0) * recs.s006).sum() / 1e6).round()"
   ]
  },
  {
   "cell_type": "code",
   "execution_count": 100,
   "metadata": {},
   "outputs": [
    {
     "data": {
      "text/plain": [
       "34.0"
      ]
     },
     "execution_count": 100,
     "metadata": {},
     "output_type": "execute_result"
    }
   ],
   "source": [
    "(((recs.f2441 > 0) * recs.s006).sum() / 1e6).round()"
   ]
  },
  {
   "cell_type": "code",
   "execution_count": 101,
   "metadata": {},
   "outputs": [
    {
     "data": {
      "text/plain": [
       "45.0"
      ]
     },
     "execution_count": 101,
     "metadata": {},
     "output_type": "execute_result"
    }
   ],
   "source": [
    "(((recs.nu18 > 0) * recs.s006).sum() / 1e6).round()"
   ]
  },
  {
   "cell_type": "code",
   "execution_count": 102,
   "metadata": {},
   "outputs": [
    {
     "data": {
      "text/plain": [
       "0.0"
      ]
     },
     "execution_count": 102,
     "metadata": {},
     "output_type": "execute_result"
    }
   ],
   "source": [
    "(((recs.c07180 > 0) * recs.s006).sum() / 1e6).round()"
   ]
  },
  {
   "cell_type": "markdown",
   "metadata": {},
   "source": [
    "### Tax units with only under-18-year-olds\n",
    "\n",
    "This is less than the total tax units above that aren't eligible because there are no adults, because of data aging."
   ]
  },
  {
   "cell_type": "code",
   "execution_count": 124,
   "metadata": {},
   "outputs": [
    {
     "data": {
      "text/plain": [
       "2.3229575333338626"
      ]
     },
     "execution_count": 124,
     "metadata": {},
     "output_type": "execute_result"
    }
   ],
   "source": [
    "((recs.nu18 == recs.XTOT) * recs.s006).sum() / 1e6"
   ]
  },
  {
   "cell_type": "code",
   "execution_count": 125,
   "metadata": {},
   "outputs": [
    {
     "data": {
      "text/plain": [
       "2.3784936633338964"
      ]
     },
     "execution_count": 125,
     "metadata": {},
     "output_type": "execute_result"
    }
   ],
   "source": [
    "((recs.nu18 == recs.XTOT) * recs.s006 * recs.XTOT).sum() / 1e6"
   ]
  },
  {
   "cell_type": "markdown",
   "metadata": {},
   "source": [
    "% of all tax units."
   ]
  },
  {
   "cell_type": "code",
   "execution_count": 127,
   "metadata": {},
   "outputs": [
    {
     "data": {
      "text/plain": [
       "0.014234177317173094"
      ]
     },
     "execution_count": 127,
     "metadata": {},
     "output_type": "execute_result"
    }
   ],
   "source": [
    "((recs.nu18 == recs.XTOT) * recs.s006).sum() / recs.s006.sum()"
   ]
  }
 ],
 "metadata": {
  "kernelspec": {
   "display_name": "Python 2",
   "language": "python",
   "name": "python2"
  },
  "language_info": {
   "codemirror_mode": {
    "name": "ipython",
    "version": 2
   },
   "file_extension": ".py",
   "mimetype": "text/x-python",
   "name": "python",
   "nbconvert_exporter": "python",
   "pygments_lexer": "ipython2",
   "version": "2.7.14"
  }
 },
 "nbformat": 4,
 "nbformat_minor": 2
}
