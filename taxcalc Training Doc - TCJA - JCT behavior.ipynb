{
 "cells": [
  {
   "cell_type": "markdown",
   "metadata": {},
   "source": [
    "[Rendered Version](http://nbviewer.jupyter.org/github/MaxGhenis/taxcalc-notebooks/blob/master/taxcalc%20Training%20Doc%20-%20TCJA%20-%20Tedeschi%20weights.ipynb.ipynb)"
   ]
  },
  {
   "cell_type": "markdown",
   "metadata": {},
   "source": [
    "This resembles the [normal training notebook](http://nbviewer.jupyter.org/github/andersonfrailey/Notebook-Uploads/blob/master/Training%20Doc.ipynb), with the following changes:\n",
    "* Models the House TCJA reform, not the sample reform.\n",
    "* Uses Ernie Tedeschi's weights instead. This approach can be used to use any other weight file.\n",
    "* Removes reference to sample reform dictionary."
   ]
  },
  {
   "cell_type": "code",
   "execution_count": 1,
   "metadata": {
    "collapsed": true
   },
   "outputs": [],
   "source": [
    "from taxcalc import *"
   ]
  },
  {
   "cell_type": "markdown",
   "metadata": {},
   "source": [
    "This example uses the packaged CPS file. If you were to use the PUF, you would create the records class using\n",
    "`Records()` or `Records('path to puf')` if the PUF is not in your current working directory."
   ]
  },
  {
   "cell_type": "code",
   "execution_count": 2,
   "metadata": {},
   "outputs": [
    {
     "name": "stdout",
     "output_type": "stream",
     "text": [
      "You loaded data for 2014.\n",
      "Tax-Calculator startup automatically extrapolated your data to 2014.\n"
     ]
    }
   ],
   "source": [
    "# Initiate baseline calculator\n",
    "recs = Records.cps_constructor()\n",
    "calc = Calculator(records=recs, policy=Policy())\n",
    "# Advance and calculate.\n",
    "calc.advance_to_year(2018)\n",
    "calc.calc_all()"
   ]
  },
  {
   "cell_type": "code",
   "execution_count": 3,
   "metadata": {},
   "outputs": [
    {
     "name": "stdout",
     "output_type": "stream",
     "text": [
      "You loaded data for 2014.\n",
      "Tax-Calculator startup automatically extrapolated your data to 2014.\n"
     ]
    }
   ],
   "source": [
    "# Initiate calculator to apply reforms to\n",
    "recs_x = Records.cps_constructor()\n",
    "calc_x = Calculator(records=recs_x, policy=Policy())"
   ]
  },
  {
   "cell_type": "markdown",
   "metadata": {},
   "source": [
    "You can specify your reforms in a JSON file and, using the `read_json_param_objects` method, create a dictionary containing both policy reforms and behavioral assumptions\n",
    "\n",
    "The policy reform and any behavioral assumptions need to be in separate JSON files.\n",
    "\n",
    "Here is [more information](https://github.com/open-source-economics/Tax-Calculator/blob/master/taxcalc/reforms/REFORMS.md) on creating reform files."
   ]
  },
  {
   "cell_type": "code",
   "execution_count": 4,
   "metadata": {
    "scrolled": true
   },
   "outputs": [
    {
     "data": {
      "text/plain": [
       "{'behavior': {2018: {u'_BE_inc': [-0.25]}},\n",
       " 'consumption': {2018: {u'_MPC_e19800': [0.2]}},\n",
       " 'growdiff_baseline': {},\n",
       " 'growdiff_response': {},\n",
       " 'policy': {2018: {u'_ALD_DomesticProduction_hc': [1],\n",
       "   u'_ALD_StudentLoan_hc': [1],\n",
       "   u'_ALD_Tuition_hc': [1],\n",
       "   u'_AMT_rt1': [0],\n",
       "   u'_AMT_rt2': [0],\n",
       "   u'_CG_brk1': [[38600, 77200, 38600, 51700, 77200]],\n",
       "   u'_CG_brk2': [[425800, 479000, 239500, 452400, 479000]],\n",
       "   u'_CR_SchR_hc': [1],\n",
       "   u'_CTC_c': [1100],\n",
       "   u'_CTC_ps': [[115000, 230000, 115000, 115000, 115000]],\n",
       "   u'_DependentCredit_Child_c': [500],\n",
       "   u'_DependentCredit_Nonchild_c': [300],\n",
       "   u'_FilerCredit_c': [[300, 600, 300, 300, 300]],\n",
       "   u'_ID_Casualty_hc': [1],\n",
       "   u'_ID_Medical_hc': [1],\n",
       "   u'_ID_Miscellaneous_hc': [1],\n",
       "   u'_ID_RealEstate_c': [[10000, 10000, 10000, 10000, 10000]],\n",
       "   u'_ID_StateLocalTax_hc': [1],\n",
       "   u'_ID_prt': [0],\n",
       "   u'_II_brk1': [[45000, 90000, 45000, 67500, 90000]],\n",
       "   u'_II_brk2': [[200000, 260000, 130000, 200000, 260000]],\n",
       "   u'_II_brk3': [[500000, 1000000, 500000, 500000, 1000000]],\n",
       "   u'_II_brk4': [[1000000, 1200000, 1000000, 1000000, 1200000]],\n",
       "   u'_II_brk5': [[1207000, 1614000, 1207000, 1310500, 1614000]],\n",
       "   u'_II_brk6': [[9e+99, 9e+99, 9e+99, 9e+99, 9e+99]],\n",
       "   u'_II_em': [0],\n",
       "   u'_II_rt1': [0.12],\n",
       "   u'_II_rt2': [0.25],\n",
       "   u'_II_rt3': [0.35],\n",
       "   u'_II_rt4': [0.396],\n",
       "   u'_II_rt5': [0.456],\n",
       "   u'_II_rt6': [0.396],\n",
       "   u'_II_rt7': [0.396],\n",
       "   u'_LLC_Expense_c': [0],\n",
       "   u'_PT_EligibleRate_active': [0.3],\n",
       "   u'_PT_EligibleRate_passive': [1.0],\n",
       "   u'_PT_brk1': [[37500, 75000, 37500, 56250, 75000]],\n",
       "   u'_PT_brk2': [[45000, 90000, 45000, 67500, 90000]],\n",
       "   u'_PT_brk3': [[75000, 150000, 75000, 112500, 150000]],\n",
       "   u'_PT_brk4': [[112500, 225000, 112500, 168750, 225000]],\n",
       "   u'_PT_brk5': [[1000000, 1200000, 1000000, 1000000, 1200000]],\n",
       "   u'_PT_brk6': [[1207000, 1614000, 1207000, 1310500, 1614000]],\n",
       "   u'_PT_brk7': [[9e+99, 9e+99, 9e+99, 9e+99, 9e+99]],\n",
       "   u'_PT_rt1': [0.11],\n",
       "   u'_PT_rt2': [0.12],\n",
       "   u'_PT_rt3': [0.25],\n",
       "   u'_PT_rt4': [0.26],\n",
       "   u'_PT_rt5': [0.25],\n",
       "   u'_PT_rt6': [0.31],\n",
       "   u'_PT_rt7': [0.25],\n",
       "   u'_PT_rt8': [0.25],\n",
       "   u'_PT_top_stacking': [False],\n",
       "   u'_PT_wages_active_income': [True],\n",
       "   u'_STD': [[12000, 24000, 12000, 18000, 24000]],\n",
       "   u'_STD_Aged': [[0, 0, 0, 0, 0]],\n",
       "   u'_STD_Dep': [500],\n",
       "   u'_cpi_offset': [-0.0025]},\n",
       "  2019: {u'_CTC_c': [1200], u'_DependentCredit_Child_c': [400]},\n",
       "  2020: {u'_PT_rt1': [0.1], u'_PT_rt4': [0.27]},\n",
       "  2022: {u'_PT_rt1': [0.09], u'_PT_rt4': [0.28]},\n",
       "  2023: {u'_CTC_c': [1300],\n",
       "   u'_DependentCredit_Child_c': [300],\n",
       "   u'_DependentCredit_Nonchild_c': [0],\n",
       "   u'_FilerCredit_c': [[0, 0, 0, 0, 0]]},\n",
       "  2027: {u'_CTC_c': [1400], u'_DependentCredit_Child_c': [200]}}}"
      ]
     },
     "execution_count": 4,
     "metadata": {},
     "output_type": "execute_result"
    }
   ],
   "source": [
    "reforms = calc_x.read_json_param_objects('TCJA_House_Amended.json', 'JCT_Behavior.json')\n",
    "reforms"
   ]
  },
  {
   "cell_type": "code",
   "execution_count": 5,
   "metadata": {
    "collapsed": true
   },
   "outputs": [],
   "source": [
    "calc_x.policy.implement_reform(reforms['policy'])\n",
    "calc_x.consumption.update_consumption(reforms['consumption'])\n",
    "calc_x.advance_to_year(2018)"
   ]
  },
  {
   "cell_type": "markdown",
   "metadata": {},
   "source": [
    "### Behavioral response\n",
    "\n",
    "A dictionary is also used to implement behavioral reforms. The only difference is you must then pass the baseline and reform calculators into the response method of the behavioral class. This method calculates the change in tax liabilities and then, using the specified elasticities, returns a new calculator object that accounts for any behavioral change."
   ]
  },
  {
   "cell_type": "code",
   "execution_count": 6,
   "metadata": {},
   "outputs": [
    {
     "ename": "AssertionError",
     "evalue": "",
     "output_type": "error",
     "traceback": [
      "\u001b[0;31m---------------------------------------------------------------------------\u001b[0m",
      "\u001b[0;31mAssertionError\u001b[0m                            Traceback (most recent call last)",
      "\u001b[0;32m<ipython-input-6-517700093213>\u001b[0m in \u001b[0;36m<module>\u001b[0;34m()\u001b[0m\n\u001b[1;32m      1\u001b[0m \u001b[0mcalc_x\u001b[0m\u001b[0;34m.\u001b[0m\u001b[0mbehavior\u001b[0m\u001b[0;34m.\u001b[0m\u001b[0mupdate_behavior\u001b[0m\u001b[0;34m(\u001b[0m\u001b[0mreforms\u001b[0m\u001b[0;34m[\u001b[0m\u001b[0;34m'behavior'\u001b[0m\u001b[0;34m]\u001b[0m\u001b[0;34m)\u001b[0m\u001b[0;34m\u001b[0m\u001b[0m\n\u001b[0;32m----> 2\u001b[0;31m \u001b[0mcalc_response\u001b[0m \u001b[0;34m=\u001b[0m \u001b[0mBehavior\u001b[0m\u001b[0;34m.\u001b[0m\u001b[0mresponse\u001b[0m\u001b[0;34m(\u001b[0m\u001b[0mcalc\u001b[0m\u001b[0;34m,\u001b[0m \u001b[0mcalc_x\u001b[0m\u001b[0;34m)\u001b[0m\u001b[0;34m\u001b[0m\u001b[0m\n\u001b[0m",
      "\u001b[0;32m/usr/local/google/home/mghenis/miniconda2/lib/python2.7/site-packages/taxcalc/behavior.pyc\u001b[0m in \u001b[0;36mresponse\u001b[0;34m(calc_x, calc_y)\u001b[0m\n\u001b[1;32m    281\u001b[0m                                                calc_y_behv)\n\u001b[1;32m    282\u001b[0m         \u001b[0;31m# Recalculate post-reform taxes incorporating behavioral responses\u001b[0m\u001b[0;34m\u001b[0m\u001b[0;34m\u001b[0m\u001b[0m\n\u001b[0;32m--> 283\u001b[0;31m         \u001b[0mcalc_y_behv\u001b[0m\u001b[0;34m.\u001b[0m\u001b[0mcalc_all\u001b[0m\u001b[0;34m(\u001b[0m\u001b[0;34m)\u001b[0m\u001b[0;34m\u001b[0m\u001b[0m\n\u001b[0m\u001b[1;32m    284\u001b[0m         \u001b[0;32mreturn\u001b[0m \u001b[0mcalc_y_behv\u001b[0m\u001b[0;34m\u001b[0m\u001b[0m\n\u001b[1;32m    285\u001b[0m \u001b[0;34m\u001b[0m\u001b[0m\n",
      "\u001b[0;32m/usr/local/google/home/mghenis/miniconda2/lib/python2.7/site-packages/taxcalc/calculate.pyc\u001b[0m in \u001b[0;36mcalc_all\u001b[0;34m(self, zero_out_calc_vars)\u001b[0m\n\u001b[1;32m    142\u001b[0m         \"\"\"\n\u001b[1;32m    143\u001b[0m         \u001b[0;31m# conducts static analysis of Calculator object for current_year\u001b[0m\u001b[0;34m\u001b[0m\u001b[0;34m\u001b[0m\u001b[0m\n\u001b[0;32m--> 144\u001b[0;31m         \u001b[0;32massert\u001b[0m \u001b[0mself\u001b[0m\u001b[0;34m.\u001b[0m\u001b[0mrecords\u001b[0m\u001b[0;34m.\u001b[0m\u001b[0mcurrent_year\u001b[0m \u001b[0;34m==\u001b[0m \u001b[0mself\u001b[0m\u001b[0;34m.\u001b[0m\u001b[0mpolicy\u001b[0m\u001b[0;34m.\u001b[0m\u001b[0mcurrent_year\u001b[0m\u001b[0;34m\u001b[0m\u001b[0m\n\u001b[0m\u001b[1;32m    145\u001b[0m         \u001b[0mself\u001b[0m\u001b[0;34m.\u001b[0m\u001b[0m_calc_one_year\u001b[0m\u001b[0;34m(\u001b[0m\u001b[0mzero_out_calc_vars\u001b[0m\u001b[0;34m)\u001b[0m\u001b[0;34m\u001b[0m\u001b[0m\n\u001b[1;32m    146\u001b[0m         \u001b[0mBenefitSurtax\u001b[0m\u001b[0;34m(\u001b[0m\u001b[0mself\u001b[0m\u001b[0;34m)\u001b[0m\u001b[0;34m\u001b[0m\u001b[0m\n",
      "\u001b[0;31mAssertionError\u001b[0m: "
     ]
    }
   ],
   "source": [
    "calc_x.behavior.update_behavior(reforms['behavior'])\n",
    "calc_response = Behavior.response(calc, calc_x)"
   ]
  },
  {
   "cell_type": "markdown",
   "metadata": {},
   "source": [
    "### Viewing the results"
   ]
  },
  {
   "cell_type": "code",
   "execution_count": null,
   "metadata": {
    "collapsed": true
   },
   "outputs": [],
   "source": [
    "from taxcalc.utils import *"
   ]
  },
  {
   "cell_type": "markdown",
   "metadata": {},
   "source": [
    "#### Analyzing Individual Variables\n",
    "\n",
    "Individual variables are attributes of the records class and can therefore be accessed using a simple dot notation"
   ]
  },
  {
   "cell_type": "code",
   "execution_count": null,
   "metadata": {
    "collapsed": true
   },
   "outputs": [],
   "source": [
    "baseline = (calc.records.combined * calc.records.s006).sum()  # combined is combined tax liability while s006 is weight\n",
    "reformed = (calc_response.records.combined * calc_response.records.s006).sum()\n",
    "diff = reformed - baseline\n",
    "print ('Combined Liability - Baseline: {:0.2f}'.format(baseline))\n",
    "print ('Combined Liability - Reform: {:>18.2f}'.format(reformed))\n",
    "print ('-' * 47)\n",
    "print ('Difference: {:35.2f}'.format(diff))"
   ]
  },
  {
   "cell_type": "markdown",
   "metadata": {},
   "source": [
    "#### Diagnostic Table\n",
    "\n",
    "Diagnostic tables are the most straight forward methods of evaluation. They simply show aggregate values for a given calculator"
   ]
  },
  {
   "cell_type": "code",
   "execution_count": null,
   "metadata": {
    "collapsed": true
   },
   "outputs": [],
   "source": [
    "create_diagnostic_table(calc)"
   ]
  },
  {
   "cell_type": "code",
   "execution_count": null,
   "metadata": {},
   "outputs": [],
   "source": [
    "create_diagnostic_table(calc_response)"
   ]
  },
  {
   "cell_type": "markdown",
   "metadata": {},
   "source": [
    "#### Distribution Table\n",
    "\n",
    "The distribution table shows the same information as the diagnostic table, but broken down by income bin or decile. You can view the results as either the weighted average or the weighted sum in each bin"
   ]
  },
  {
   "cell_type": "code",
   "execution_count": null,
   "metadata": {},
   "outputs": [],
   "source": [
    "create_distribution_table(calc.records, groupby='weighted_deciles',\n",
    "                          income_measure='expanded_income', result_type='weighted_avg')"
   ]
  },
  {
   "cell_type": "code",
   "execution_count": null,
   "metadata": {},
   "outputs": [],
   "source": [
    "create_distribution_table(calc_response.records, groupby='weighted_deciles',\n",
    "                          income_measure='expanded_income', result_type='weighted_sum')"
   ]
  },
  {
   "cell_type": "markdown",
   "metadata": {},
   "source": [
    "#### Differences Table\n",
    "\n",
    "The differences table displays the difference between your baseline and refoms. You can also group the results by decile or income bin."
   ]
  },
  {
   "cell_type": "code",
   "execution_count": null,
   "metadata": {
    "collapsed": true
   },
   "outputs": [],
   "source": [
    "create_difference_table(calc.records, calc_response.records, groupby='weighted_deciles',\n",
    "                        income_measure='expanded_income', tax_to_diff='combined')"
   ]
  },
  {
   "cell_type": "markdown",
   "metadata": {},
   "source": [
    "#### Plotting\n",
    "\n",
    "You can use built in methods to get MTR and ATR plots. Each one is returned as a simple Bokeh figure that you can then add to as desired"
   ]
  },
  {
   "cell_type": "code",
   "execution_count": null,
   "metadata": {
    "collapsed": true
   },
   "outputs": [],
   "source": [
    "from bokeh.io import show, output_notebook\n",
    "output_notebook()"
   ]
  },
  {
   "cell_type": "code",
   "execution_count": null,
   "metadata": {},
   "outputs": [],
   "source": [
    "mtr_plot_data = mtr_graph_data(calc, calc_response)"
   ]
  },
  {
   "cell_type": "code",
   "execution_count": null,
   "metadata": {},
   "outputs": [],
   "source": [
    "show(xtr_graph_plot(mtr_plot_data))"
   ]
  },
  {
   "cell_type": "code",
   "execution_count": null,
   "metadata": {},
   "outputs": [],
   "source": [
    "atr_plot_data = atr_graph_data(calc, calc_response)"
   ]
  },
  {
   "cell_type": "code",
   "execution_count": null,
   "metadata": {},
   "outputs": [],
   "source": [
    "show(xtr_graph_plot(atr_plot_data))"
   ]
  },
  {
   "cell_type": "markdown",
   "metadata": {},
   "source": [
    "#### Multiyear diagnostic tables\n",
    "\n",
    "You can also produce diagnostic tables up to 2026"
   ]
  },
  {
   "cell_type": "code",
   "execution_count": null,
   "metadata": {},
   "outputs": [],
   "source": [
    "multiyear_diagnostic_table(calc, num_years=9)"
   ]
  },
  {
   "cell_type": "code",
   "execution_count": null,
   "metadata": {},
   "outputs": [],
   "source": [
    "multiyear_diagnostic_table(calc_response, num_years=9)"
   ]
  },
  {
   "cell_type": "markdown",
   "metadata": {},
   "source": [
    "#### Reporting your changes\n",
    "\n",
    "To display what reforms you included in a way that is easy for humans to read, you can use the `reform_documentation` method. It will print out all of the policy parameters you've specified with a short description and their default and current values\n",
    "\n",
    "\n",
    "_Note: this feature is not yet available in the taxcalc package. You must use the source code to access it. It will be available in the next taxcalc release._"
   ]
  },
  {
   "cell_type": "code",
   "execution_count": null,
   "metadata": {
    "collapsed": true
   },
   "outputs": [],
   "source": [
    "print(calc_response.reform_documentation(reforms))"
   ]
  },
  {
   "cell_type": "markdown",
   "metadata": {},
   "source": [
    "One thing I didn't cover is how to extract the marginal tax rates. All you need to do is call the `Calculator.mtr()` method. It will return MTR for individual income tax, payroll tax, and individaul income tax + payroll tax"
   ]
  },
  {
   "cell_type": "code",
   "execution_count": null,
   "metadata": {
    "collapsed": true
   },
   "outputs": [],
   "source": [
    "mtr_payroll, mtr_income, mtr_combined = calc.mtr()"
   ]
  },
  {
   "cell_type": "code",
   "execution_count": null,
   "metadata": {
    "collapsed": true
   },
   "outputs": [],
   "source": [
    "mtr_payroll"
   ]
  },
  {
   "cell_type": "code",
   "execution_count": null,
   "metadata": {
    "collapsed": true
   },
   "outputs": [],
   "source": [
    "mtr_income"
   ]
  },
  {
   "cell_type": "code",
   "execution_count": null,
   "metadata": {
    "collapsed": true
   },
   "outputs": [],
   "source": [
    "mtr_combined"
   ]
  },
  {
   "cell_type": "code",
   "execution_count": null,
   "metadata": {
    "collapsed": true
   },
   "outputs": [],
   "source": []
  }
 ],
 "metadata": {
  "kernelspec": {
   "display_name": "Python 2",
   "language": "python",
   "name": "python2"
  },
  "language_info": {
   "codemirror_mode": {
    "name": "ipython",
    "version": 2
   },
   "file_extension": ".py",
   "mimetype": "text/x-python",
   "name": "python",
   "nbconvert_exporter": "python",
   "pygments_lexer": "ipython2",
   "version": "2.7.14"
  }
 },
 "nbformat": 4,
 "nbformat_minor": 2
}
