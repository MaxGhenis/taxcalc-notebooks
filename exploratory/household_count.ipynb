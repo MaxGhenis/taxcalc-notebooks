{
 "cells": [
  {
   "cell_type": "markdown",
   "metadata": {},
   "source": [
    "# Counting households using Tax-Calculator\n",
    "\n",
    "Using the `h_seq` field to aggregate by household.\n",
    "\n",
    "*Data: CPS  |  Tax year: 2017  |  Author: Max Ghenis  |  Date run: 2018-04-08*"
   ]
  },
  {
   "cell_type": "markdown",
   "metadata": {},
   "source": [
    "## Setup\n",
    "\n",
    "### Imports"
   ]
  },
  {
   "cell_type": "code",
   "execution_count": 1,
   "metadata": {},
   "outputs": [],
   "source": [
    "import taxcalc as tc\n",
    "import pandas as pd\n",
    "import numpy as np"
   ]
  },
  {
   "cell_type": "code",
   "execution_count": 2,
   "metadata": {},
   "outputs": [
    {
     "data": {
      "text/plain": [
       "'0.19.0'"
      ]
     },
     "execution_count": 2,
     "metadata": {},
     "output_type": "execute_result"
    }
   ],
   "source": [
    "tc.__version__"
   ]
  },
  {
   "cell_type": "markdown",
   "metadata": {},
   "source": [
    "### Settings"
   ]
  },
  {
   "cell_type": "code",
   "execution_count": 3,
   "metadata": {},
   "outputs": [],
   "source": [
    "pd.set_option('precision', 1)"
   ]
  },
  {
   "cell_type": "markdown",
   "metadata": {},
   "source": [
    "## Data"
   ]
  },
  {
   "cell_type": "code",
   "execution_count": 4,
   "metadata": {},
   "outputs": [],
   "source": [
    "recs = tc.Records.cps_constructor()\n",
    "calc = tc.Calculator(records=recs, policy=tc.Policy(), verbose=False)\n",
    "calc.advance_to_year(2017)\n",
    "calc.calc_all()"
   ]
  },
  {
   "cell_type": "code",
   "execution_count": 5,
   "metadata": {},
   "outputs": [],
   "source": [
    "tu = calc.dataframe(['s006', 'h_seq', 'ffpos',  \n",
    "                     # 'FLPDYR',  # 2014 for all records.\n",
    "                     'XTOT', 'expanded_income'])\n",
    "tu['filers'] = 1\n",
    "tu['XTOT_m'] = tu.XTOT * tu.s006 / 1e6\n",
    "tu['expanded_income_b'] = tu.expanded_income * tu.s006 / 1e9"
   ]
  },
  {
   "cell_type": "markdown",
   "metadata": {},
   "source": [
    "### Create household-level dataset"
   ]
  },
  {
   "cell_type": "code",
   "execution_count": 6,
   "metadata": {},
   "outputs": [],
   "source": [
    "hh = tu.drop(columns='ffpos').groupby(['h_seq']).sum()"
   ]
  },
  {
   "cell_type": "markdown",
   "metadata": {},
   "source": [
    "Add maximum `s006` per household to test [Ernie Tedeschi's idea](https://github.com/open-source-economics/Tax-Calculator/issues/1961#issuecomment-382421861)."
   ]
  },
  {
   "cell_type": "code",
   "execution_count": 7,
   "metadata": {},
   "outputs": [],
   "source": [
    "hh_max_s006 = tu[['h_seq', 's006']].groupby('h_seq').max()\n",
    "hh_max_s006.columns = ['max_s006']"
   ]
  },
  {
   "cell_type": "code",
   "execution_count": 8,
   "metadata": {},
   "outputs": [],
   "source": [
    "hh = pd.merge(hh, hh_max_s006, left_index=True, right_index=True)"
   ]
  },
  {
   "cell_type": "markdown",
   "metadata": {},
   "source": [
    "## Check aggregates"
   ]
  },
  {
   "cell_type": "markdown",
   "metadata": {},
   "source": [
    "### Verify expanded income total"
   ]
  },
  {
   "cell_type": "code",
   "execution_count": 9,
   "metadata": {},
   "outputs": [
    {
     "data": {
      "text/plain": [
       "(13196.0, 13196.0)"
      ]
     },
     "execution_count": 9,
     "metadata": {},
     "output_type": "execute_result"
    }
   ],
   "source": [
    "(round(tu.expanded_income_b.sum()), round(hh.expanded_income_b.sum()))"
   ]
  },
  {
   "cell_type": "code",
   "execution_count": 10,
   "metadata": {},
   "outputs": [
    {
     "data": {
      "text/plain": [
       "(330.0, 330.0)"
      ]
     },
     "execution_count": 10,
     "metadata": {},
     "output_type": "execute_result"
    }
   ],
   "source": [
    "(round(tu.XTOT_m.sum()), round(hh.XTOT_m.sum()))"
   ]
  },
  {
   "cell_type": "markdown",
   "metadata": {},
   "source": [
    "### Count households\n",
    "\n",
    "Four approaches."
   ]
  },
  {
   "cell_type": "markdown",
   "metadata": {},
   "source": [
    "#### Normalize each household's weight by number of filers\n",
    "\n",
    "Is this right? For each household, assign weight as:\n",
    "\n",
    "$weight = \\frac{\\sum_{filers}weight}{n_{filers}}$"
   ]
  },
  {
   "cell_type": "code",
   "execution_count": 11,
   "metadata": {},
   "outputs": [],
   "source": [
    "hh['hh_s006'] = hh.s006 / hh.filers"
   ]
  },
  {
   "cell_type": "markdown",
   "metadata": {},
   "source": [
    "#### Match to Census household count\n",
    "\n",
    "https://fred.stlouisfed.org/series/TTLHH estimates 126,224,000 total households in 2017.\n",
    "\n",
    "Multiply this by a household's total *share* of `s006`."
   ]
  },
  {
   "cell_type": "code",
   "execution_count": 12,
   "metadata": {},
   "outputs": [],
   "source": [
    "hh['s006_share'] = hh.s006 / hh.s006.sum()\n",
    "TOTAL_HHS = 126224e3\n",
    "hh['hh_s006_census'] = hh.s006_share * TOTAL_HHS"
   ]
  },
  {
   "cell_type": "markdown",
   "metadata": {},
   "source": [
    "#### Calculate weights based on variable totals"
   ]
  },
  {
   "cell_type": "code",
   "execution_count": 13,
   "metadata": {},
   "outputs": [],
   "source": [
    "hh['XTOT_s006'] = 1e6 * hh.XTOT_m / hh.XTOT\n",
    "hh['expanded_income_s006'] = 1e9 * hh.expanded_income_b / hh.expanded_income"
   ]
  },
  {
   "cell_type": "markdown",
   "metadata": {},
   "source": [
    "#### Add maximum `s006` per household\n",
    "\n",
    "[Ernie Tedeschi's idea](https://github.com/open-source-economics/Tax-Calculator/issues/1961#issuecomment-382421861).\n",
    "\n",
    "No additional code needed."
   ]
  },
  {
   "cell_type": "markdown",
   "metadata": {},
   "source": [
    "#### Compare\n",
    "\n",
    "In millions."
   ]
  },
  {
   "cell_type": "code",
   "execution_count": 14,
   "metadata": {},
   "outputs": [
    {
     "data": {
      "text/plain": [
       "hh_s006                  52.9\n",
       "hh_s006_census          126.2\n",
       "XTOT_s006                51.5\n",
       "expanded_income_s006     52.3\n",
       "max_s006                 75.2\n",
       "dtype: float64"
      ]
     },
     "execution_count": 14,
     "metadata": {},
     "output_type": "execute_result"
    }
   ],
   "source": [
    "hh[['hh_s006', 'hh_s006_census', 'XTOT_s006', \n",
    "    'expanded_income_s006', 'max_s006']].sum() / 1e6"
   ]
  },
  {
   "cell_type": "markdown",
   "metadata": {},
   "source": [
    "### Recover expanded income total\n",
    "\n",
    "Neither weighting approach recovers the true expanded income total."
   ]
  },
  {
   "cell_type": "code",
   "execution_count": 15,
   "metadata": {},
   "outputs": [
    {
     "data": {
      "text/plain": [
       "15991.0"
      ]
     },
     "execution_count": 15,
     "metadata": {},
     "output_type": "execute_result"
    }
   ],
   "source": [
    "round((hh.expanded_income * hh.hh_s006).sum() / 1e9)"
   ]
  },
  {
   "cell_type": "code",
   "execution_count": 16,
   "metadata": {},
   "outputs": [
    {
     "data": {
      "text/plain": [
       "109675.0"
      ]
     },
     "execution_count": 16,
     "metadata": {},
     "output_type": "execute_result"
    }
   ],
   "source": [
    "round((hh.expanded_income * hh.hh_s006_census).sum() / 1e9)"
   ]
  },
  {
   "cell_type": "markdown",
   "metadata": {},
   "source": [
    "### Replicate by household-family\n",
    "\n",
    "2017 estimate: 82,827,000 family households (https://fred.stlouisfed.org/series/TTLFHH). This isn't comparable since family households exclude single-person households."
   ]
  },
  {
   "cell_type": "code",
   "execution_count": 17,
   "metadata": {},
   "outputs": [],
   "source": [
    "BYVARS = ['h_seq', 'ffpos']"
   ]
  },
  {
   "cell_type": "code",
   "execution_count": 18,
   "metadata": {},
   "outputs": [],
   "source": [
    "fhh = tu.groupby(BYVARS).sum()"
   ]
  },
  {
   "cell_type": "code",
   "execution_count": 19,
   "metadata": {},
   "outputs": [],
   "source": [
    "fhh_max_s006 = tu[BYVARS + ['s006']].groupby(BYVARS).max()\n",
    "fhh_max_s006.columns = ['max_s006']\n",
    "fhh = pd.merge(fhh, fhh_max_s006, left_index=True, right_index=True)"
   ]
  },
  {
   "cell_type": "code",
   "execution_count": 20,
   "metadata": {},
   "outputs": [],
   "source": [
    "fhh['hh_s006'] = fhh.s006 / fhh.filers\n",
    "fhh['XTOT_s006'] = 1e6 * fhh.XTOT_m / fhh.XTOT\n",
    "fhh['expanded_income_s006'] = (\n",
    "    1e9 * fhh.expanded_income_b / fhh.expanded_income)"
   ]
  },
  {
   "cell_type": "code",
   "execution_count": 21,
   "metadata": {},
   "outputs": [
    {
     "data": {
      "text/plain": [
       "hh_s006                 68.9\n",
       "XTOT_s006               67.4\n",
       "expanded_income_s006    67.9\n",
       "max_s006                90.6\n",
       "dtype: float64"
      ]
     },
     "execution_count": 21,
     "metadata": {},
     "output_type": "execute_result"
    }
   ],
   "source": [
    "fhh[['hh_s006', 'XTOT_s006', 'expanded_income_s006', 'max_s006']].sum() / 1e6"
   ]
  }
 ],
 "metadata": {
  "kernelspec": {
   "display_name": "Python 3",
   "language": "python",
   "name": "python3"
  },
  "language_info": {
   "codemirror_mode": {
    "name": "ipython",
    "version": 3
   },
   "file_extension": ".py",
   "mimetype": "text/x-python",
   "name": "python",
   "nbconvert_exporter": "python",
   "pygments_lexer": "ipython3",
   "version": "3.6.5"
  },
  "toc": {
   "base_numbering": 1,
   "nav_menu": {},
   "number_sections": true,
   "sideBar": true,
   "skip_h1_title": false,
   "title_cell": "Table of Contents",
   "title_sidebar": "Contents",
   "toc_cell": false,
   "toc_position": {},
   "toc_section_display": true,
   "toc_window_display": true
  }
 },
 "nbformat": 4,
 "nbformat_minor": 2
}
