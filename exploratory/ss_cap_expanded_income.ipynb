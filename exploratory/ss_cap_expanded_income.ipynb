{
 "cells": [
  {
   "cell_type": "markdown",
   "metadata": {},
   "source": [
    "# Social Security cap and `expanded_income`\n",
    "\n",
    "Why does raising the Social Security cap change `expanded_income`?"
   ]
  },
  {
   "cell_type": "code",
   "execution_count": 1,
   "metadata": {},
   "outputs": [],
   "source": [
    "import taxcalc as tc\n",
    "import pandas as pd"
   ]
  },
  {
   "cell_type": "code",
   "execution_count": 2,
   "metadata": {},
   "outputs": [],
   "source": [
    "recs = tc.Records.cps_constructor()"
   ]
  },
  {
   "cell_type": "code",
   "execution_count": 3,
   "metadata": {},
   "outputs": [],
   "source": [
    "REMOVE_SS_CAP_REFORM = {'SS_Earnings_c': {2019: 1e+16}}"
   ]
  },
  {
   "cell_type": "code",
   "execution_count": 4,
   "metadata": {},
   "outputs": [],
   "source": [
    "base = tc.Calculator(tc.Policy(), recs)\n",
    "base.advance_to_year(2019)\n",
    "base.calc_all()"
   ]
  },
  {
   "cell_type": "code",
   "execution_count": 5,
   "metadata": {},
   "outputs": [],
   "source": [
    "pol = tc.Policy()\n",
    "pol.implement_reform(REMOVE_SS_CAP_REFORM)\n",
    "reform = tc.Calculator(pol, recs)\n",
    "reform.advance_to_year(2019)\n",
    "reform.calc_all()"
   ]
  },
  {
   "cell_type": "markdown",
   "metadata": {},
   "source": [
    "As expected, `aftertax_income` falls, by $89 billion."
   ]
  },
  {
   "cell_type": "code",
   "execution_count": 6,
   "metadata": {},
   "outputs": [],
   "source": [
    "def chg(metric):\n",
    "    return reform.weighted_total(metric) - base.weighted_total(metric)"
   ]
  },
  {
   "cell_type": "code",
   "execution_count": 7,
   "metadata": {},
   "outputs": [],
   "source": [
    "METRICS = ['aftertax_income', 'expanded_income', 'combined', 'iitax',\n",
    "           'payrolltax', 'ptax_was']"
   ]
  },
  {
   "cell_type": "code",
   "execution_count": 8,
   "metadata": {},
   "outputs": [
    {
     "data": {
      "text/plain": [
       "aftertax_income    -88\n",
       "expanded_income     63\n",
       "combined           152\n",
       "iitax               -5\n",
       "payrolltax         157\n",
       "ptax_was           127\n",
       "dtype: int64"
      ]
     },
     "execution_count": 8,
     "metadata": {},
     "output_type": "execute_result"
    }
   ],
   "source": [
    "chgs_b = pd.Series([chg(i) for i in METRICS], index=METRICS) / 1e9\n",
    "chgs_b.astype(int)"
   ]
  },
  {
   "cell_type": "markdown",
   "metadata": {},
   "source": [
    "The rise in expanded income is half the change in payroll taxes from wages and salaries."
   ]
  },
  {
   "cell_type": "code",
   "execution_count": 9,
   "metadata": {},
   "outputs": [
    {
     "data": {
      "text/plain": [
       "0.4999999999999914"
      ]
     },
     "execution_count": 9,
     "metadata": {},
     "output_type": "execute_result"
    }
   ],
   "source": [
    "chg('expanded_income') / chg('ptax_was')"
   ]
  },
  {
   "cell_type": "markdown",
   "metadata": {},
   "source": [
    "Using Comp with the PUF (https://www.compmodels.org/PSLmodels/Tax-Brain/41139/), the payroll tax liability rises by $191 billion, and there's virtually no change to income tax liability.\n",
    "\n",
    "Comp is currently having issues, so can't get the changes it says from the CPS."
   ]
  }
 ],
 "metadata": {
  "kernelspec": {
   "display_name": "Python 3",
   "language": "python",
   "name": "python3"
  },
  "language_info": {
   "codemirror_mode": {
    "name": "ipython",
    "version": 3
   },
   "file_extension": ".py",
   "mimetype": "text/x-python",
   "name": "python",
   "nbconvert_exporter": "python",
   "pygments_lexer": "ipython3",
   "version": "3.7.3"
  },
  "toc": {
   "base_numbering": 1,
   "nav_menu": {},
   "number_sections": true,
   "sideBar": true,
   "skip_h1_title": false,
   "title_cell": "Table of Contents",
   "title_sidebar": "Contents",
   "toc_cell": false,
   "toc_position": {},
   "toc_section_display": true,
   "toc_window_display": false
  }
 },
 "nbformat": 4,
 "nbformat_minor": 2
}
