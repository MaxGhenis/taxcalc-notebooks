{
 "cells": [
  {
   "cell_type": "markdown",
   "metadata": {},
   "source": [
    "# Social Security cap and `expanded_income`\n",
    "\n",
    "Why does raising the Social Security cap change `expanded_income`?"
   ]
  },
  {
   "cell_type": "markdown",
   "metadata": {},
   "source": [
    "## Setup"
   ]
  },
  {
   "cell_type": "code",
   "execution_count": 1,
   "metadata": {},
   "outputs": [],
   "source": [
    "import taxcalc as tc\n",
    "import pandas as pd"
   ]
  },
  {
   "cell_type": "markdown",
   "metadata": {},
   "source": [
    "## Create Calculators"
   ]
  },
  {
   "cell_type": "code",
   "execution_count": 2,
   "metadata": {},
   "outputs": [],
   "source": [
    "recs = tc.Records.cps_constructor()"
   ]
  },
  {
   "cell_type": "code",
   "execution_count": 3,
   "metadata": {},
   "outputs": [],
   "source": [
    "REMOVE_SS_CAP_REFORM = {'SS_Earnings_c': {2019: 1e+16}}"
   ]
  },
  {
   "cell_type": "code",
   "execution_count": 4,
   "metadata": {},
   "outputs": [],
   "source": [
    "base = tc.Calculator(tc.Policy(), recs)\n",
    "base.advance_to_year(2019)\n",
    "base.calc_all()"
   ]
  },
  {
   "cell_type": "code",
   "execution_count": 5,
   "metadata": {},
   "outputs": [],
   "source": [
    "pol = tc.Policy()\n",
    "pol.implement_reform(REMOVE_SS_CAP_REFORM)\n",
    "reform = tc.Calculator(pol, recs)\n",
    "reform.advance_to_year(2019)\n",
    "reform.calc_all()"
   ]
  },
  {
   "cell_type": "markdown",
   "metadata": {},
   "source": [
    "## Compare\n",
    "As expected, `aftertax_income` falls, by $89 billion."
   ]
  },
  {
   "cell_type": "code",
   "execution_count": 6,
   "metadata": {},
   "outputs": [],
   "source": [
    "def chg(metric):\n",
    "    return reform.weighted_total(metric) - base.weighted_total(metric)"
   ]
  },
  {
   "cell_type": "code",
   "execution_count": 7,
   "metadata": {},
   "outputs": [],
   "source": [
    "METRICS = ['aftertax_income', 'expanded_income', 'combined', 'iitax',\n",
    "           'payrolltax', 'ptax_was']"
   ]
  },
  {
   "cell_type": "code",
   "execution_count": 8,
   "metadata": {},
   "outputs": [
    {
     "data": {
      "text/plain": [
       "aftertax_income    -88\n",
       "expanded_income     63\n",
       "combined           152\n",
       "iitax               -5\n",
       "payrolltax         157\n",
       "ptax_was           127\n",
       "dtype: int64"
      ]
     },
     "execution_count": 8,
     "metadata": {},
     "output_type": "execute_result"
    }
   ],
   "source": [
    "chgs_b = pd.Series([chg(i) for i in METRICS], index=METRICS) / 1e9\n",
    "chgs_b.astype(int)"
   ]
  },
  {
   "cell_type": "markdown",
   "metadata": {},
   "source": [
    "The rise in expanded income is half the change in payroll taxes from wages and salaries."
   ]
  },
  {
   "cell_type": "code",
   "execution_count": 9,
   "metadata": {},
   "outputs": [
    {
     "data": {
      "text/plain": [
       "0.4999999999999914"
      ]
     },
     "execution_count": 9,
     "metadata": {},
     "output_type": "execute_result"
    }
   ],
   "source": [
    "chg('expanded_income') / chg('ptax_was')"
   ]
  },
  {
   "cell_type": "markdown",
   "metadata": {},
   "source": [
    "These numbers match [this Comp run](https://www.compmodels.org/PSLmodels/Tax-Brain/41147/).\n",
    "\n",
    "Using Comp with the PUF (https://www.compmodels.org/PSLmodels/Tax-Brain/41139/), the payroll tax liability rises by $191 billion, and there's virtually no change to income tax liability."
   ]
  },
  {
   "cell_type": "markdown",
   "metadata": {},
   "source": [
    "## Match tax units\n",
    "\n",
    "Calculate each tax unit's difference in after-tax income, *assuming they bear the cost of the employer payroll tax hike.*"
   ]
  },
  {
   "cell_type": "code",
   "execution_count": 10,
   "metadata": {},
   "outputs": [],
   "source": [
    "base_df = base.dataframe(['combined', 's006'])\n",
    "reform_df = reform.dataframe(['combined'])"
   ]
  },
  {
   "cell_type": "code",
   "execution_count": 11,
   "metadata": {},
   "outputs": [
    {
     "data": {
      "text/plain": [
       "152359.0333187517"
      ]
     },
     "execution_count": 11,
     "metadata": {},
     "output_type": "execute_result"
    }
   ],
   "source": [
    "joined_df = base_df.join(reform_df, lsuffix='_base', rsuffix='_reform')\n",
    "joined_df['combined_diff'] = (joined_df.combined_reform - \n",
    "                              joined_df.combined_base)\n",
    "joined_df['combined_diff_m'] = joined_df.combined_diff * joined_df.s006 / 1e6\n",
    "joined_df.combined_diff_m.sum()"
   ]
  },
  {
   "cell_type": "code",
   "execution_count": 12,
   "metadata": {},
   "outputs": [
    {
     "data": {
      "text/html": [
       "<div>\n",
       "<style scoped>\n",
       "    .dataframe tbody tr th:only-of-type {\n",
       "        vertical-align: middle;\n",
       "    }\n",
       "\n",
       "    .dataframe tbody tr th {\n",
       "        vertical-align: top;\n",
       "    }\n",
       "\n",
       "    .dataframe thead th {\n",
       "        text-align: right;\n",
       "    }\n",
       "</style>\n",
       "<table border=\"1\" class=\"dataframe\">\n",
       "  <thead>\n",
       "    <tr style=\"text-align: right;\">\n",
       "      <th></th>\n",
       "      <th>combined_base</th>\n",
       "      <th>s006</th>\n",
       "      <th>combined_reform</th>\n",
       "      <th>combined_diff</th>\n",
       "      <th>combined_diff_m</th>\n",
       "    </tr>\n",
       "  </thead>\n",
       "  <tbody>\n",
       "    <tr>\n",
       "      <th>291260</th>\n",
       "      <td>54501.082068</td>\n",
       "      <td>10.83</td>\n",
       "      <td>67330.711321</td>\n",
       "      <td>12829.629253</td>\n",
       "      <td>0.138945</td>\n",
       "    </tr>\n",
       "    <tr>\n",
       "      <th>304801</th>\n",
       "      <td>70187.407626</td>\n",
       "      <td>11.11</td>\n",
       "      <td>81433.594645</td>\n",
       "      <td>11246.187019</td>\n",
       "      <td>0.124945</td>\n",
       "    </tr>\n",
       "    <tr>\n",
       "      <th>447151</th>\n",
       "      <td>86595.135909</td>\n",
       "      <td>75.83</td>\n",
       "      <td>108615.217219</td>\n",
       "      <td>22020.081311</td>\n",
       "      <td>1.669783</td>\n",
       "    </tr>\n",
       "    <tr>\n",
       "      <th>120261</th>\n",
       "      <td>87075.600218</td>\n",
       "      <td>77.90</td>\n",
       "      <td>103900.202178</td>\n",
       "      <td>16824.601960</td>\n",
       "      <td>1.310636</td>\n",
       "    </tr>\n",
       "    <tr>\n",
       "      <th>96029</th>\n",
       "      <td>42878.331796</td>\n",
       "      <td>588.61</td>\n",
       "      <td>46575.892895</td>\n",
       "      <td>3697.561099</td>\n",
       "      <td>2.176421</td>\n",
       "    </tr>\n",
       "    <tr>\n",
       "      <th>285475</th>\n",
       "      <td>75593.209578</td>\n",
       "      <td>45.18</td>\n",
       "      <td>89021.421276</td>\n",
       "      <td>13428.211699</td>\n",
       "      <td>0.606687</td>\n",
       "    </tr>\n",
       "    <tr>\n",
       "      <th>37968</th>\n",
       "      <td>133214.300293</td>\n",
       "      <td>36.84</td>\n",
       "      <td>170879.351125</td>\n",
       "      <td>37665.050832</td>\n",
       "      <td>1.387580</td>\n",
       "    </tr>\n",
       "    <tr>\n",
       "      <th>80290</th>\n",
       "      <td>156954.557937</td>\n",
       "      <td>45.07</td>\n",
       "      <td>201479.570009</td>\n",
       "      <td>44525.012072</td>\n",
       "      <td>2.006742</td>\n",
       "    </tr>\n",
       "    <tr>\n",
       "      <th>412486</th>\n",
       "      <td>42384.685534</td>\n",
       "      <td>9.19</td>\n",
       "      <td>45691.967139</td>\n",
       "      <td>3307.281605</td>\n",
       "      <td>0.030394</td>\n",
       "    </tr>\n",
       "    <tr>\n",
       "      <th>217305</th>\n",
       "      <td>48903.652960</td>\n",
       "      <td>416.07</td>\n",
       "      <td>53388.512152</td>\n",
       "      <td>4484.859193</td>\n",
       "      <td>1.866015</td>\n",
       "    </tr>\n",
       "  </tbody>\n",
       "</table>\n",
       "</div>"
      ],
      "text/plain": [
       "        combined_base    s006  combined_reform  combined_diff  combined_diff_m\n",
       "291260   54501.082068   10.83     67330.711321   12829.629253         0.138945\n",
       "304801   70187.407626   11.11     81433.594645   11246.187019         0.124945\n",
       "447151   86595.135909   75.83    108615.217219   22020.081311         1.669783\n",
       "120261   87075.600218   77.90    103900.202178   16824.601960         1.310636\n",
       "96029    42878.331796  588.61     46575.892895    3697.561099         2.176421\n",
       "285475   75593.209578   45.18     89021.421276   13428.211699         0.606687\n",
       "37968   133214.300293   36.84    170879.351125   37665.050832         1.387580\n",
       "80290   156954.557937   45.07    201479.570009   44525.012072         2.006742\n",
       "412486   42384.685534    9.19     45691.967139    3307.281605         0.030394\n",
       "217305   48903.652960  416.07     53388.512152    4484.859193         1.866015"
      ]
     },
     "execution_count": 12,
     "metadata": {},
     "output_type": "execute_result"
    }
   ],
   "source": [
    "joined_df[joined_df.combined_diff > 0].sample(10)"
   ]
  }
 ],
 "metadata": {
  "kernelspec": {
   "display_name": "Python 3",
   "language": "python",
   "name": "python3"
  },
  "language_info": {
   "codemirror_mode": {
    "name": "ipython",
    "version": 3
   },
   "file_extension": ".py",
   "mimetype": "text/x-python",
   "name": "python",
   "nbconvert_exporter": "python",
   "pygments_lexer": "ipython3",
   "version": "3.7.3"
  },
  "toc": {
   "base_numbering": 1,
   "nav_menu": {},
   "number_sections": true,
   "sideBar": true,
   "skip_h1_title": false,
   "title_cell": "Table of Contents",
   "title_sidebar": "Contents",
   "toc_cell": false,
   "toc_position": {},
   "toc_section_display": true,
   "toc_window_display": false
  }
 },
 "nbformat": 4,
 "nbformat_minor": 2
}
