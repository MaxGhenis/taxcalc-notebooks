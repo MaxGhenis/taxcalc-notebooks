{
 "cells": [
  {
   "cell_type": "markdown",
   "metadata": {},
   "source": [
    "# Manipulate `Records` after advancing year\n",
    "\n",
    "Sample run adding 10% to wages (`e00200`) in tax year 2018.\n",
    "\n",
    "## Setup\n",
    "\n",
    "### Imports"
   ]
  },
  {
   "cell_type": "code",
   "execution_count": 1,
   "metadata": {},
   "outputs": [],
   "source": [
    "import taxcalc as tc\n",
    "import pandas as pd\n",
    "import numpy as np\n",
    "import os"
   ]
  },
  {
   "cell_type": "code",
   "execution_count": 2,
   "metadata": {
    "scrolled": true
   },
   "outputs": [
    {
     "data": {
      "text/plain": [
       "'0.20.1'"
      ]
     },
     "execution_count": 2,
     "metadata": {},
     "output_type": "execute_result"
    }
   ],
   "source": [
    "tc.__version__"
   ]
  },
  {
   "cell_type": "markdown",
   "metadata": {},
   "source": [
    "## Generate data\n",
    "\n",
    "### Load data\n",
    "\n",
    "Generate a set of normal CPS records for 2018 using `Calculator`, then extract the dataframe."
   ]
  },
  {
   "cell_type": "code",
   "execution_count": 3,
   "metadata": {},
   "outputs": [],
   "source": [
    "base_calc = tc.Calculator(records=tc.Records.cps_constructor(), \n",
    "                          policy=tc.Policy(), verbose=False)\n",
    "base_calc.advance_to_year(2018)\n",
    "base_calc.calc_all()  # Is this necessary?"
   ]
  },
  {
   "cell_type": "code",
   "execution_count": 4,
   "metadata": {},
   "outputs": [],
   "source": [
    "cps_raw_cols = list(pd.read_csv(\n",
    "    os.path.join(tc.Records.CUR_PATH, 'cps.csv.gz')).columns)"
   ]
  },
  {
   "cell_type": "code",
   "execution_count": 5,
   "metadata": {},
   "outputs": [
    {
     "data": {
      "text/plain": [
       "2014"
      ]
     },
     "execution_count": 5,
     "metadata": {},
     "output_type": "execute_result"
    }
   ],
   "source": [
    "base_calc.data_year"
   ]
  },
  {
   "cell_type": "code",
   "execution_count": 6,
   "metadata": {},
   "outputs": [],
   "source": [
    "df = base_calc.dataframe(cps_raw_cols + ['aftertax_income'])"
   ]
  },
  {
   "cell_type": "markdown",
   "metadata": {},
   "source": [
    "### Manipulate"
   ]
  },
  {
   "cell_type": "code",
   "execution_count": 7,
   "metadata": {},
   "outputs": [],
   "source": [
    "df['e00200_orig'] = df.e00200"
   ]
  },
  {
   "cell_type": "code",
   "execution_count": 8,
   "metadata": {},
   "outputs": [],
   "source": [
    "df['e00200'] = df.e00200 * 1.1\n",
    "df['e00200p'] = df.e00200p * 1.1\n",
    "df['e00200s'] = df.e00200s * 1.1"
   ]
  },
  {
   "cell_type": "markdown",
   "metadata": {},
   "source": [
    "### Clean data\n",
    "\n",
    "Fix `e00900` pending https://github.com/open-source-economics/Tax-Calculator/issues/2024."
   ]
  },
  {
   "cell_type": "code",
   "execution_count": 9,
   "metadata": {},
   "outputs": [],
   "source": [
    "df['e00900'] = df.e00900p + df.e00900s"
   ]
  },
  {
   "cell_type": "markdown",
   "metadata": {},
   "source": [
    "## Calculate\n",
    "\n",
    "Run Tax-Calculator."
   ]
  },
  {
   "cell_type": "markdown",
   "metadata": {},
   "source": [
    "Adapt [`cps_constructor` code](https://github.com/open-source-economics/Tax-Calculator/blob/master/taxcalc/records.py#L187)."
   ]
  },
  {
   "cell_type": "code",
   "execution_count": 10,
   "metadata": {},
   "outputs": [],
   "source": [
    "recs = tc.Records(data=df, \n",
    "                  start_year=2018,\n",
    "                  weights=tc.Records.CPS_WEIGHTS_FILENAME,\n",
    "                  adjust_ratios=tc.Records.CPS_RATIOS_FILENAME,\n",
    "                  benefits=tc.Records.CPS_BENEFITS_FILENAME)"
   ]
  },
  {
   "cell_type": "code",
   "execution_count": 11,
   "metadata": {},
   "outputs": [
    {
     "name": "stdout",
     "output_type": "stream",
     "text": [
      "You loaded data for 2018.\n",
      "Your data include the following unused variables that will be ignored:\n",
      "  aftertax_income\n",
      "  e00200_orig\n",
      "Tax-Calculator startup automatically extrapolated your data to 2018.\n"
     ]
    }
   ],
   "source": [
    "calc = tc.Calculator(records=recs, policy=tc.Policy())\n",
    "calc.calc_all()"
   ]
  },
  {
   "cell_type": "markdown",
   "metadata": {},
   "source": [
    "## Verify\n",
    "\n",
    "Fields should match df."
   ]
  },
  {
   "cell_type": "code",
   "execution_count": 12,
   "metadata": {},
   "outputs": [],
   "source": [
    "calc_df = calc.dataframe(cps_raw_cols + ['aftertax_income'])"
   ]
  },
  {
   "cell_type": "code",
   "execution_count": 13,
   "metadata": {},
   "outputs": [
    {
     "data": {
      "text/plain": [
       "True"
      ]
     },
     "execution_count": 13,
     "metadata": {},
     "output_type": "execute_result"
    }
   ],
   "source": [
    "df.e00200.equals(calc_df.e00200)"
   ]
  },
  {
   "cell_type": "markdown",
   "metadata": {},
   "source": [
    "### Compare to baseline\n",
    "\n",
    "After-tax income should only increase."
   ]
  },
  {
   "cell_type": "code",
   "execution_count": 14,
   "metadata": {},
   "outputs": [],
   "source": [
    "calc_df['e00200_precalc'] = df.e00200\n",
    "calc_df['aftertax_income_precalc'] = df.aftertax_income\n",
    "calc_df['e00200_orig'] = df.e00200_orig"
   ]
  },
  {
   "cell_type": "code",
   "execution_count": 15,
   "metadata": {},
   "outputs": [],
   "source": [
    "diff = df[cps_raw_cols].iloc[2] - calc_df[cps_raw_cols].iloc[2]\n",
    "full_diff = df.iloc[2] - calc_df.iloc[2]"
   ]
  },
  {
   "cell_type": "code",
   "execution_count": 16,
   "metadata": {},
   "outputs": [
    {
     "data": {
      "text/plain": [
       "2018.0"
      ]
     },
     "execution_count": 16,
     "metadata": {},
     "output_type": "execute_result"
    }
   ],
   "source": [
    "calc_df.FLPDYR[0]"
   ]
  },
  {
   "cell_type": "code",
   "execution_count": 17,
   "metadata": {},
   "outputs": [
    {
     "data": {
      "text/plain": [
       "2014.0"
      ]
     },
     "execution_count": 17,
     "metadata": {},
     "output_type": "execute_result"
    }
   ],
   "source": [
    "df.FLPDYR[0]"
   ]
  },
  {
   "cell_type": "code",
   "execution_count": 18,
   "metadata": {},
   "outputs": [],
   "source": [
    "cps_raw_cols_no_flpdyr = cps_raw_cols.copy()\n",
    "cps_raw_cols_no_flpdyr.remove('FLPDYR')"
   ]
  },
  {
   "cell_type": "code",
   "execution_count": 19,
   "metadata": {},
   "outputs": [
    {
     "data": {
      "text/plain": [
       "True"
      ]
     },
     "execution_count": 19,
     "metadata": {},
     "output_type": "execute_result"
    }
   ],
   "source": [
    "df[cps_raw_cols_no_flpdyr].equals(calc_df[cps_raw_cols_no_flpdyr])"
   ]
  },
  {
   "cell_type": "markdown",
   "metadata": {},
   "source": [
    "No records have `aftertax_income` fall."
   ]
  },
  {
   "cell_type": "code",
   "execution_count": 20,
   "metadata": {},
   "outputs": [
    {
     "data": {
      "text/plain": [
       "(0, 71)"
      ]
     },
     "execution_count": 20,
     "metadata": {},
     "output_type": "execute_result"
    }
   ],
   "source": [
    "calc_df[(calc_df.aftertax_income - calc_df.aftertax_income_precalc) \n",
    "        < -0.01].shape"
   ]
  },
  {
   "cell_type": "code",
   "execution_count": 21,
   "metadata": {},
   "outputs": [
    {
     "data": {
      "text/html": [
       "<div>\n",
       "<style scoped>\n",
       "    .dataframe tbody tr th:only-of-type {\n",
       "        vertical-align: middle;\n",
       "    }\n",
       "\n",
       "    .dataframe tbody tr th {\n",
       "        vertical-align: top;\n",
       "    }\n",
       "\n",
       "    .dataframe thead th {\n",
       "        text-align: right;\n",
       "    }\n",
       "</style>\n",
       "<table border=\"1\" class=\"dataframe\">\n",
       "  <thead>\n",
       "    <tr style=\"text-align: right;\">\n",
       "      <th></th>\n",
       "      <th>e00200_orig</th>\n",
       "      <th>e00200</th>\n",
       "      <th>aftertax_income_precalc</th>\n",
       "      <th>aftertax_income</th>\n",
       "    </tr>\n",
       "  </thead>\n",
       "  <tbody>\n",
       "    <tr>\n",
       "      <th>0</th>\n",
       "      <td>48543.437088</td>\n",
       "      <td>53397.780797</td>\n",
       "      <td>42278.741719</td>\n",
       "      <td>46179.206889</td>\n",
       "    </tr>\n",
       "    <tr>\n",
       "      <th>1</th>\n",
       "      <td>16884.522625</td>\n",
       "      <td>18572.974888</td>\n",
       "      <td>20460.856644</td>\n",
       "      <td>22020.142309</td>\n",
       "    </tr>\n",
       "    <tr>\n",
       "      <th>2</th>\n",
       "      <td>0.000000</td>\n",
       "      <td>0.000000</td>\n",
       "      <td>93093.497901</td>\n",
       "      <td>93093.497901</td>\n",
       "    </tr>\n",
       "    <tr>\n",
       "      <th>3</th>\n",
       "      <td>23216.073763</td>\n",
       "      <td>25537.681139</td>\n",
       "      <td>25068.333532</td>\n",
       "      <td>26609.184348</td>\n",
       "    </tr>\n",
       "    <tr>\n",
       "      <th>4</th>\n",
       "      <td>0.000000</td>\n",
       "      <td>0.000000</td>\n",
       "      <td>41630.214290</td>\n",
       "      <td>41630.214290</td>\n",
       "    </tr>\n",
       "  </tbody>\n",
       "</table>\n",
       "</div>"
      ],
      "text/plain": [
       "    e00200_orig        e00200  aftertax_income_precalc  aftertax_income\n",
       "0  48543.437088  53397.780797             42278.741719     46179.206889\n",
       "1  16884.522625  18572.974888             20460.856644     22020.142309\n",
       "2      0.000000      0.000000             93093.497901     93093.497901\n",
       "3  23216.073763  25537.681139             25068.333532     26609.184348\n",
       "4      0.000000      0.000000             41630.214290     41630.214290"
      ]
     },
     "execution_count": 21,
     "metadata": {},
     "output_type": "execute_result"
    }
   ],
   "source": [
    "calc_df[['e00200_orig', 'e00200', 'aftertax_income_precalc', \n",
    "         'aftertax_income']].head()"
   ]
  },
  {
   "cell_type": "markdown",
   "metadata": {},
   "source": [
    "#### Aggregate change\n",
    "\n",
    "As expected, the increase to `aftertax_income` is less than the increase to `e00200`."
   ]
  },
  {
   "cell_type": "code",
   "execution_count": 22,
   "metadata": {},
   "outputs": [
    {
     "data": {
      "text/plain": [
       "3.9379521997057267"
      ]
     },
     "execution_count": 22,
     "metadata": {},
     "output_type": "execute_result"
    }
   ],
   "source": [
    "(calc_df.e00200.sum() - calc_df.e00200_orig.sum()) / 1e9"
   ]
  },
  {
   "cell_type": "code",
   "execution_count": 23,
   "metadata": {},
   "outputs": [
    {
     "data": {
      "text/plain": [
       "2.6958270729730454"
      ]
     },
     "execution_count": 23,
     "metadata": {},
     "output_type": "execute_result"
    }
   ],
   "source": [
    "(calc_df.aftertax_income.sum() - calc_df.aftertax_income_precalc.sum()) / 1e9"
   ]
  },
  {
   "cell_type": "code",
   "execution_count": 24,
   "metadata": {},
   "outputs": [
    {
     "data": {
      "text/plain": [
       "e00200_orig                3.937952e+10\n",
       "e00200                     4.331747e+10\n",
       "aftertax_income_precalc    5.956881e+10\n",
       "aftertax_income            6.226464e+10\n",
       "dtype: float64"
      ]
     },
     "execution_count": 24,
     "metadata": {},
     "output_type": "execute_result"
    }
   ],
   "source": [
    "calc_df[['e00200_orig', 'e00200', 'aftertax_income_precalc', \n",
    "         'aftertax_income']].sum()"
   ]
  }
 ],
 "metadata": {
  "kernelspec": {
   "display_name": "Python 3",
   "language": "python",
   "name": "python3"
  },
  "language_info": {
   "codemirror_mode": {
    "name": "ipython",
    "version": 3
   },
   "file_extension": ".py",
   "mimetype": "text/x-python",
   "name": "python",
   "nbconvert_exporter": "python",
   "pygments_lexer": "ipython3",
   "version": "3.6.5"
  },
  "toc": {
   "base_numbering": 1,
   "nav_menu": {},
   "number_sections": true,
   "sideBar": true,
   "skip_h1_title": false,
   "title_cell": "Table of Contents",
   "title_sidebar": "Contents",
   "toc_cell": false,
   "toc_position": {},
   "toc_section_display": true,
   "toc_window_display": false
  }
 },
 "nbformat": 4,
 "nbformat_minor": 2
}
