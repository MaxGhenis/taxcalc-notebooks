{
 "cells": [
  {
   "cell_type": "markdown",
   "metadata": {},
   "source": [
    "# What fields in taxdata are collinear?\n",
    "\n",
    "Apparently:\n",
    "* `e00650` and `e00600`\n",
    "* `e19800` and `e20100`"
   ]
  },
  {
   "cell_type": "markdown",
   "metadata": {},
   "source": [
    "## Setup"
   ]
  },
  {
   "cell_type": "code",
   "execution_count": 1,
   "metadata": {
    "collapsed": true
   },
   "outputs": [],
   "source": [
    "import taxcalc as tc\n",
    "import numpy as np\n",
    "import pandas as pd\n",
    "import os\n",
    "import seaborn as sns\n",
    "import matplotlib.pyplot as plt"
   ]
  },
  {
   "cell_type": "code",
   "execution_count": 2,
   "metadata": {
    "collapsed": true
   },
   "outputs": [],
   "source": [
    "df = pd.read_csv(os.path.join(tc.Records.CUR_PATH, 'cps.csv.gz'))"
   ]
  },
  {
   "cell_type": "markdown",
   "metadata": {},
   "source": [
    "## Check `e00650` and `e00600`\n",
    "\n",
    "As was hypothesized."
   ]
  },
  {
   "cell_type": "code",
   "execution_count": 3,
   "metadata": {},
   "outputs": [
    {
     "data": {
      "text/plain": [
       "0.99956451611861186"
      ]
     },
     "execution_count": 3,
     "metadata": {},
     "output_type": "execute_result"
    }
   ],
   "source": [
    "np.corrcoef(df.e00650, df.e00600)[0][1]"
   ]
  },
  {
   "cell_type": "code",
   "execution_count": 4,
   "metadata": {},
   "outputs": [
    {
     "data": {
      "text/plain": [
       "456465"
      ]
     },
     "execution_count": 4,
     "metadata": {},
     "output_type": "execute_result"
    }
   ],
   "source": [
    "df.shape[0]"
   ]
  },
  {
   "cell_type": "code",
   "execution_count": 5,
   "metadata": {
    "collapsed": true
   },
   "outputs": [],
   "source": [
    "df_e00650_e00600 = df[(df.e00650 + df.e00600) > 0.]"
   ]
  },
  {
   "cell_type": "code",
   "execution_count": 6,
   "metadata": {},
   "outputs": [
    {
     "data": {
      "text/plain": [
       "126505"
      ]
     },
     "execution_count": 6,
     "metadata": {},
     "output_type": "execute_result"
    }
   ],
   "source": [
    "df_e00650_e00600.shape[0]"
   ]
  },
  {
   "cell_type": "code",
   "execution_count": 7,
   "metadata": {},
   "outputs": [
    {
     "data": {
      "text/plain": [
       "0.99956582657494664"
      ]
     },
     "execution_count": 7,
     "metadata": {},
     "output_type": "execute_result"
    }
   ],
   "source": [
    "np.corrcoef(df_e00650_e00600.e00650, df_e00650_e00600.e00600)[0][1]"
   ]
  },
  {
   "cell_type": "markdown",
   "metadata": {},
   "source": [
    "## Is `e01100` collinear with others?"
   ]
  },
  {
   "cell_type": "code",
   "execution_count": 8,
   "metadata": {
    "collapsed": true
   },
   "outputs": [],
   "source": [
    "predictors = [\n",
    "    'DSI', 'EIC', 'MARS', 'XTOT', 'e00200', 'e00300', 'e00400','e00600',\n",
    "    'e00800', 'e00900', 'e01400', 'e01500', 'e01700','e02100', 'e02300', \n",
    "    'e02400', 'e03150', 'e03210', 'e03240', 'e03270','e03300', 'e17500', \n",
    "    'e18400', 'e18500', 'e19200', 'e19800', 'e20100','e20400', 'e32800', \n",
    "    'f2441', 'n24']\n",
    "predictors_plus_e01100 = predictors + ['e01100']"
   ]
  },
  {
   "cell_type": "code",
   "execution_count": 9,
   "metadata": {},
   "outputs": [
    {
     "name": "stdout",
     "output_type": "stream",
     "text": [
      "DSI: -0.00943423201959\n",
      "EIC: 7.48279041637e-06\n",
      "MARS: 0.0165217293794\n",
      "XTOT: 0.0179244964297\n",
      "e00200: 0.0242090747824\n",
      "e00300: 0.0413804917623\n",
      "e00400: 0.104999056777\n",
      "e00600: 0.00178937850128\n",
      "e00800: -0.000352717761821\n",
      "e00900: 0.0131502490407\n",
      "e01400: 0.00621748268821\n",
      "e01500: 0.00963262791038\n",
      "e01700: 0.00867674069107\n",
      "e02100: -0.00127081388506\n",
      "e02300: -0.0025545334211\n",
      "e02400: 0.013436096883\n",
      "e03150: 0.00923146953027\n",
      "e03210: 0.00516462671525\n",
      "e03240: 0.0184532039415\n",
      "e03270: 0.00469268161616\n",
      "e03300: 0.0061969642544\n",
      "e17500: 0.00784004498532\n",
      "e18400: 0.0976477093074\n",
      "e18500: 0.118052544972\n",
      "e19200: 0.100916850333\n",
      "e19800: 0.0234195161821\n",
      "e20100: 0.0234226362954\n",
      "e20400: 0.0026808891064\n",
      "e32800: 0.0054747590789\n",
      "f2441: 0.000487883822811\n",
      "n24: 0.000929575348699\n"
     ]
    }
   ],
   "source": [
    "for i in predictors:\n",
    "    corr = np.corrcoef(df.e01100, df[i])[0][1]\n",
    "    print(i + ': ' + corr.astype(str))"
   ]
  },
  {
   "cell_type": "markdown",
   "metadata": {},
   "source": [
    "No not really."
   ]
  },
  {
   "cell_type": "markdown",
   "metadata": {},
   "source": [
    "## Check general collinearity\n",
    "\n",
    "Check collinearity per https://stackoverflow.com/a/25833792/1840471. Any value close to 0 in the eigenvector points to collinearity."
   ]
  },
  {
   "cell_type": "code",
   "execution_count": 10,
   "metadata": {
    "collapsed": true
   },
   "outputs": [],
   "source": [
    "def min_eig(df):\n",
    "    corr = np.corrcoef(df, rowvar=0)\n",
    "    w, v = np.linalg.eig(corr) \n",
    "    return w.min()"
   ]
  },
  {
   "cell_type": "code",
   "execution_count": 11,
   "metadata": {},
   "outputs": [
    {
     "data": {
      "text/plain": [
       "5.0075676315020712e-08"
      ]
     },
     "execution_count": 11,
     "metadata": {},
     "output_type": "execute_result"
    }
   ],
   "source": [
    "min_eig(df[predictors_plus_e01100])"
   ]
  },
  {
   "cell_type": "markdown",
   "metadata": {},
   "source": [
    "Now after removing `e001100`."
   ]
  },
  {
   "cell_type": "code",
   "execution_count": 12,
   "metadata": {},
   "outputs": [
    {
     "data": {
      "text/plain": [
       "5.0076222077280099e-08"
      ]
     },
     "execution_count": 12,
     "metadata": {},
     "output_type": "execute_result"
    }
   ],
   "source": [
    "min_eig(df[predictors])"
   ]
  },
  {
   "cell_type": "markdown",
   "metadata": {},
   "source": [
    "Remove each feature from `predictors` to see what's causing the low value."
   ]
  },
  {
   "cell_type": "code",
   "execution_count": 13,
   "metadata": {},
   "outputs": [
    {
     "name": "stdout",
     "output_type": "stream",
     "text": [
      "DSI: 5.00762231406e-08\n",
      "EIC: 5.00757408019e-08\n",
      "MARS: 5.0076197714e-08\n",
      "XTOT: 5.00756776324e-08\n",
      "e00200: 5.01643203711e-08\n",
      "e00300: 5.00777282012e-08\n",
      "e00400: 5.00766030174e-08\n",
      "e00600: 5.00756784009e-08\n",
      "e00800: 5.00758275672e-08\n",
      "e00900: 5.00787845089e-08\n",
      "e01400: 5.00758299244e-08\n",
      "e01500: 5.00763329675e-08\n",
      "e01700: 5.00757520751e-08\n",
      "e02100: 5.01060467431e-08\n",
      "e02300: 5.00769688113e-08\n",
      "e02400: 5.00789293443e-08\n",
      "e03150: 5.00756870268e-08\n",
      "e03210: 5.00761758863e-08\n",
      "e03240: 5.00849786381e-08\n",
      "e03270: 5.00769045568e-08\n",
      "e03300: 5.00784438891e-08\n",
      "e17500: 5.00758724896e-08\n",
      "e18400: 5.01323240733e-08\n",
      "e18500: 5.00806773239e-08\n",
      "e19200: 5.00918667783e-08\n",
      "e19800: 0.0290156273866\n",
      "e20100: 0.0290156273282\n",
      "e20400: 5.00773499209e-08\n",
      "e32800: 5.00756766236e-08\n",
      "f2441: 5.00772370311e-08\n",
      "n24: 5.00757110602e-08\n",
      "e01100: 5.00762220773e-08\n"
     ]
    }
   ],
   "source": [
    "for i in predictors_plus_e01100:\n",
    "    print(i + ': ' + \n",
    "          min_eig(df[predictors_plus_e01100].drop(i, axis=1)).astype(str))"
   ]
  },
  {
   "cell_type": "markdown",
   "metadata": {},
   "source": [
    "## `e19800` vs `e20100`\n",
    "\n",
    "Looks like `e19800` and `e20100`, defined respectively as \"Itemizable charitable giving: cash/check contributions. WARNING: this variable is already capped in PUF data.\" and \"Itemizable charitable giving: other than cash/check contributions. WARNING: this variable is already capped in PUF data.\""
   ]
  },
  {
   "cell_type": "code",
   "execution_count": 14,
   "metadata": {},
   "outputs": [
    {
     "data": {
      "text/plain": [
       "0.99999994878238485"
      ]
     },
     "execution_count": 14,
     "metadata": {},
     "output_type": "execute_result"
    }
   ],
   "source": [
    "np.corrcoef(df.e19800, df.e20100)[0][1]"
   ]
  },
  {
   "cell_type": "code",
   "execution_count": 15,
   "metadata": {},
   "outputs": [
    {
     "data": {
      "image/png": "[encoded data removed]",
      "text/plain": [
       "<matplotlib.figure.Figure at 0x7f738b6917d0>"
      ]
     },
     "metadata": {},
     "output_type": "display_data"
    }
   ],
   "source": [
    "sns.regplot(df.e19800, df.e20100)\n",
    "plt.show()"
   ]
  },
  {
   "cell_type": "markdown",
   "metadata": {},
   "source": [
    "## Re-run collinearity with `e19800` and `e20100` merged\n",
    "\n",
    "These should be added into a single feature, since the CPS data [splits them based on a constant proportion]( https://github.com/open-source-economics/taxdata/blob/4f86528bc264f11fe70583cbf35a2a4a5b8b7983/cps_data/finalprep.py#L149)."
   ]
  },
  {
   "cell_type": "code",
   "execution_count": 16,
   "metadata": {
    "collapsed": true
   },
   "outputs": [],
   "source": [
    "df['e19800_e20100'] = df.e19800 + df.e20100"
   ]
  },
  {
   "cell_type": "code",
   "execution_count": 17,
   "metadata": {
    "collapsed": true
   },
   "outputs": [],
   "source": [
    "predictors = [\n",
    "    'DSI', 'EIC', 'MARS', 'XTOT', 'e00200', 'e00300', 'e00400','e00600',\n",
    "    'e00800', 'e00900', 'e01400', 'e01500', 'e01700','e02100', 'e02300', \n",
    "    'e02400', 'e03150', 'e03210', 'e03240', 'e03270','e03300', 'e17500', \n",
    "    'e18400', 'e18500', 'e19200', 'e19800_e20100','e20400', 'e32800', \n",
    "    'f2441', 'n24', 'e01100']"
   ]
  },
  {
   "cell_type": "code",
   "execution_count": 18,
   "metadata": {},
   "outputs": [
    {
     "name": "stdout",
     "output_type": "stream",
     "text": [
      "DSI: 0.0290986734\n",
      "EIC: 0.0673337757569\n",
      "MARS: 0.029199622059\n",
      "XTOT: 0.0291234066378\n",
      "e00200: 0.0290196614152\n",
      "e00300: 0.029015725856\n",
      "e00400: 0.0290167782683\n",
      "e00600: 0.0290156292321\n",
      "e00800: 0.0290162850995\n",
      "e00900: 0.0290157083031\n",
      "e01400: 0.0290157226414\n",
      "e01500: 0.0290162450703\n",
      "e01700: 0.0290157308543\n",
      "e02100: 0.0290247565738\n",
      "e02300: 0.0290161356589\n",
      "e02400: 0.0290239357172\n",
      "e03150: 0.0290156892396\n",
      "e03210: 0.0290157522712\n",
      "e03240: 0.0290161595361\n",
      "e03270: 0.029015776976\n",
      "e03300: 0.0290156322524\n",
      "e17500: 0.0290156301711\n",
      "e18400: 0.0290187225997\n",
      "e18500: 0.0290508368223\n",
      "e19200: 0.0291020217076\n",
      "e19800_e20100: 0.0290157740373\n",
      "e20400: 0.0290156943474\n",
      "e32800: 0.0290713911359\n",
      "f2441: 0.0301672283313\n",
      "n24: 0.0673339942005\n",
      "e01100: 0.0290168595775\n"
     ]
    }
   ],
   "source": [
    "for i in predictors:\n",
    "    print(i + ': ' + \n",
    "          min_eig(df[predictors].drop(i, axis=1)).astype(str))"
   ]
  },
  {
   "cell_type": "code",
   "execution_count": 19,
   "metadata": {},
   "outputs": [
    {
     "data": {
      "text/plain": [
       "0.96909184099968071"
      ]
     },
     "execution_count": 19,
     "metadata": {},
     "output_type": "execute_result"
    }
   ],
   "source": [
    "np.corrcoef(df.EIC, df.n24)[0][1]"
   ]
  }
 ],
 "metadata": {
  "kernelspec": {
   "display_name": "Python 2",
   "language": "python",
   "name": "python2"
  },
  "language_info": {
   "codemirror_mode": {
    "name": "ipython",
    "version": 2
   },
   "file_extension": ".py",
   "mimetype": "text/x-python",
   "name": "python",
   "nbconvert_exporter": "python",
   "pygments_lexer": "ipython2",
   "version": "2.7.14"
  },
  "toc": {
   "nav_menu": {},
   "number_sections": true,
   "sideBar": true,
   "skip_h1_title": false,
   "title_cell": "Table of Contents",
   "title_sidebar": "Contents",
   "toc_cell": false,
   "toc_position": {},
   "toc_section_display": true,
   "toc_window_display": true
  }
 },
 "nbformat": 4,
 "nbformat_minor": 2
}
