{
 "cells": [
  {
   "cell_type": "markdown",
   "metadata": {},
   "source": [
    "# Compare 2017 Child Tax Credit to repeal\n",
    "\n",
    "Investigates why tax units would be worse off when using the 2017 CTC than a repealed CTC, as Sean Wang discovered when running my CTC -> child benefit notebook using the PUF ([notebook](https://github.com/GoFroggyRun/Notebook/blob/master/ctc_ubi_puf.ipynb))."
   ]
  },
  {
   "cell_type": "markdown",
   "metadata": {},
   "source": [
    "## Setup"
   ]
  },
  {
   "cell_type": "markdown",
   "metadata": {},
   "source": [
    "### Settings"
   ]
  },
  {
   "cell_type": "code",
   "execution_count": 1,
   "metadata": {
    "collapsed": true
   },
   "outputs": [],
   "source": [
    "import taxcalc as tc\n",
    "import pandas as pd\n",
    "import numpy as np\n",
    "import copy\n",
    "from bokeh.io import show, output_notebook\n",
    "import matplotlib as mpl\n",
    "import matplotlib.pyplot as plt\n",
    "import seaborn as sns\n",
    "# On Python 3.6 use \"import urllib.request as url_lib\".\n",
    "import urllib as url_lib"
   ]
  },
  {
   "cell_type": "code",
   "execution_count": 2,
   "metadata": {
    "scrolled": true
   },
   "outputs": [
    {
     "data": {
      "text/plain": [
       "'0.17.0'"
      ]
     },
     "execution_count": 2,
     "metadata": {},
     "output_type": "execute_result"
    }
   ],
   "source": [
    "tc.__version__"
   ]
  },
  {
   "cell_type": "code",
   "execution_count": 3,
   "metadata": {
    "collapsed": true
   },
   "outputs": [],
   "source": [
    "sns.set_style('white')\n",
    "DPI = 75\n",
    "mpl.rc('savefig', dpi=DPI)\n",
    "mpl.rcParams['figure.dpi'] = DPI\n",
    "mpl.rcParams['figure.figsize'] = 6.4, 4.8  # Default."
   ]
  },
  {
   "cell_type": "code",
   "execution_count": 4,
   "metadata": {
    "collapsed": true
   },
   "outputs": [],
   "source": [
    "mpl.rcParams['font.sans-serif'] = 'Roboto'\n",
    "mpl.rcParams['font.family'] = 'sans-serif'\n",
    "\n",
    "# Set title text color to dark gray (https://material.io/color) not black.\n",
    "TITLE_COLOR = '#212121'\n",
    "mpl.rcParams['text.color'] = TITLE_COLOR\n",
    "\n",
    "# Axis titles and tick marks are medium gray.\n",
    "AXIS_COLOR = '#757575'\n",
    "mpl.rcParams['axes.labelcolor'] = AXIS_COLOR\n",
    "mpl.rcParams['xtick.color'] = AXIS_COLOR\n",
    "mpl.rcParams['ytick.color'] = AXIS_COLOR\n",
    "\n",
    "# Use Seaborn's default color palette.\n",
    "# https://stackoverflow.com/q/48958426/1840471 for reproducibility.\n",
    "sns.set_palette(sns.color_palette())"
   ]
  },
  {
   "cell_type": "code",
   "execution_count": 5,
   "metadata": {
    "collapsed": true
   },
   "outputs": [],
   "source": [
    "# Show one decimal in tables.\n",
    "pd.set_option('precision', 2)"
   ]
  },
  {
   "cell_type": "markdown",
   "metadata": {},
   "source": [
    "### Utilities"
   ]
  },
  {
   "cell_type": "code",
   "execution_count": 6,
   "metadata": {
    "collapsed": true
   },
   "outputs": [],
   "source": [
    "def weighted_sum(df, col):\n",
    "    return (df[col] * df.s006).sum()\n",
    "\n",
    "def weighted_mean(df, col):\n",
    "    return weighted_sum(df, col) / df.s006.sum()"
   ]
  },
  {
   "cell_type": "markdown",
   "metadata": {},
   "source": [
    "### Create reforms\n",
    "\n",
    "CTC repeal involves eliminating the normal CTC as well as the new dependent credit for children.\n",
    "\n",
    "A reform to return to 2017 CTC law is used to show how the distribution of CTC benefits changed with TCJA."
   ]
  },
  {
   "cell_type": "code",
   "execution_count": 7,
   "metadata": {
    "collapsed": true
   },
   "outputs": [],
   "source": [
    "noctc_reform = {\n",
    "    2018: {\n",
    "        '_CTC_c': [0],\n",
    "        '_DependentCredit_Child_c': [0]\n",
    "    }\n",
    "}\n",
    "\n",
    "y2017_reform = {\n",
    "    2018: {\n",
    "        # Current: 1400.0\n",
    "        \"_CTC_c\": [1000.0],\n",
    "        # Current: [200000.0, 400000.0, 200000.0, 200000.0, 400000.0]\n",
    "        \"_CTC_ps\": [[75000.0, 110000.0, 55000.0, 75000.0, 75000.0]],\n",
    "        # Current: 2500.0\n",
    "        \"_ACTC_Income_thd\": [3000.0],\n",
    "        # Current: 600.0\n",
    "        \"_DependentCredit_Child_c\": [0.0],\n",
    "        # Current: True\n",
    "        \"_DependentCredit_before_CTC\": [False]\n",
    "    }\n",
    "}"
   ]
  },
  {
   "cell_type": "markdown",
   "metadata": {},
   "source": [
    "## Generate data"
   ]
  },
  {
   "cell_type": "code",
   "execution_count": 8,
   "metadata": {
    "collapsed": true
   },
   "outputs": [],
   "source": [
    "recs = tc.Records.cps_constructor()"
   ]
  },
  {
   "cell_type": "code",
   "execution_count": 9,
   "metadata": {
    "collapsed": true
   },
   "outputs": [],
   "source": [
    "def static_baseline_calc(year):\n",
    "    calc = tc.Calculator(records=recs, policy=tc.Policy())\n",
    "    calc.advance_to_year(year)\n",
    "    calc.calc_all()\n",
    "    return calc"
   ]
  },
  {
   "cell_type": "code",
   "execution_count": 10,
   "metadata": {
    "collapsed": true
   },
   "outputs": [],
   "source": [
    "def add_weighted_quantiles(df, col):\n",
    "    df.sort_values(by=col, inplace=True)\n",
    "    col_pctile = col + '_percentile_exact'\n",
    "    df[col_pctile] = 100 * df.s006.cumsum() / df.s006.sum()\n",
    "    # \"Null out\" negatives using -1, since integer arrays can't be NaN.\n",
    "    # TODO: Should these be null floats?\n",
    "    df[col_pctile] = np.where(df[col] >= 0, df[col_pctile], 0)\n",
    "    # Reduce top record, otherwise it's incorrectly rounded up.\n",
    "    df[col_pctile] = np.where(df[col_pctile] >= 99.99999, 99.99999, \n",
    "                              df[col_pctile])\n",
    "    df[col + '_percentile'] = np.ceil(df[col_pctile]).astype(int)\n",
    "    df[col + '_2percentile'] = np.ceil(df[col_pctile] / 2).astype(int)\n",
    "    df[col + '_ventile'] = np.ceil(df[col_pctile] / 5).astype(int)\n",
    "    df[col + '_decile'] = np.ceil(df[col_pctile] / 10).astype(int)\n",
    "    df[col + '_quintile'] = np.ceil(df[col_pctile] / 20).astype(int)\n",
    "    df[col + '_quartile'] = np.ceil(df[col_pctile] / 25).astype(int)\n",
    "    return df"
   ]
  },
  {
   "cell_type": "code",
   "execution_count": 11,
   "metadata": {
    "collapsed": true
   },
   "outputs": [],
   "source": [
    "def static_calc(ctc_treatment='keep',\n",
    "                year=2018,\n",
    "                cols=['s006', 'aftertax_income', 'expanded_income',\n",
    "                      'n24', 'XTOT'],\n",
    "                child_tax_units_only=True):\n",
    "    \"\"\"Creates static Calculator.\n",
    "\n",
    "    Args:\n",
    "        ctc_treatment: How the Child Tax Credit is treated. Options include:\n",
    "            * 'keep': No change. Default.\n",
    "            * 'repeal': End entirely.\n",
    "            * 'y2017': Use 2017 law.\n",
    "        year: Year to advance calculations to.\n",
    "        cols: Columns to extract per Calculator record. \n",
    "            Defaults to ['s006', 'expanded_income', 'aftertax_income', 'nu18',\n",
    "            'n24', 'XTOT'].\n",
    "        child_tax_units_only: Limit tax units to those with n24 > 0. \n",
    "            Quantiles are calculated after this filtering. Defaults to true.\n",
    "        \n",
    "    Returns:\n",
    "        DataFrame with `cols` and percentile, decile, and quintile of \n",
    "        after-tax income.\n",
    "    \"\"\"\n",
    "    pol = tc.Policy()\n",
    "    # Enact reform based on ctc_treatment.\n",
    "    # Repeal CTC unless it's kept.\n",
    "    if ctc_treatment == 'y2017':\n",
    "        pol.implement_reform(y2017_reform)\n",
    "    elif ctc_treatment == 'repeal':\n",
    "        pol.implement_reform(noctc_reform)\n",
    "    # Calculate. This is needed to calculate the revenue-neutral UBI.\n",
    "    calc = tc.Calculator(records=recs, policy=pol, verbose=False)\n",
    "    calc.advance_to_year(year)\n",
    "    calc.calc_all()\n",
    "    # Create DataFrame and add identifiers.\n",
    "    df = calc.dataframe(cols)\n",
    "    if child_tax_units_only:\n",
    "        df = df[df.n24 > 0]\n",
    "    # Add percentiles.\n",
    "    df = add_weighted_quantiles(df, 'expanded_income')\n",
    "    df = add_weighted_quantiles(df, 'aftertax_income')\n",
    "    # Add identifier.\n",
    "    df['ctc_treatment'] = ctc_treatment\n",
    "    # What's the column for the ID?\n",
    "    df['id'] = df.index\n",
    "    # Add weighted sums.\n",
    "    df['s006_m'] = df.s006 / 1e6\n",
    "    df['s006_b'] = df.s006 / 1e9\n",
    "    df['expanded_income_b'] = df.expanded_income * df.s006_b\n",
    "    df['aftertax_income_b'] = df.aftertax_income * df.s006_b\n",
    "    df['n24_m'] = df.n24 * df.s006_m\n",
    "    df['XTOT_m'] = df.XTOT * df.s006_m\n",
    "    return df"
   ]
  },
  {
   "cell_type": "code",
   "execution_count": 12,
   "metadata": {
    "collapsed": true
   },
   "outputs": [],
   "source": [
    "scenarios = pd.concat([\n",
    "    static_calc(ctc_treatment='keep'),\n",
    "    static_calc(ctc_treatment='y2017'),\n",
    "    static_calc(ctc_treatment='repeal')])"
   ]
  },
  {
   "cell_type": "markdown",
   "metadata": {},
   "source": [
    "## Preprocess"
   ]
  },
  {
   "cell_type": "code",
   "execution_count": 13,
   "metadata": {
    "collapsed": true
   },
   "outputs": [],
   "source": [
    "tu = scenarios.pivot_table(values='aftertax_income',\n",
    "                           index='id', columns='ctc_treatment').reset_index()\n",
    "tu.columns = ['id', 'afti_keep', 'afti_repeal', 'afti_y2017']"
   ]
  },
  {
   "cell_type": "code",
   "execution_count": 14,
   "metadata": {
    "collapsed": true
   },
   "outputs": [],
   "source": [
    "AFTI_QUANTILES = ['aftertax_income_percentile', \n",
    "                  'aftertax_income_2percentile', 'aftertax_income_ventile', \n",
    "                  'aftertax_income_decile', 'aftertax_income_quintile', \n",
    "                  'aftertax_income_quartile']\n",
    "\n",
    "# Dimensions based on tax unit and baseline.\n",
    "base_aftiq = (\n",
    "    scenarios.loc[scenarios['ctc_treatment'] == 'keep',\n",
    "                  np.append(['id', 'n24', 'n24_m', 's006', 's006_m', 'XTOT',\n",
    "                             'XTOT_m', 'expanded_income'], \n",
    "                            AFTI_QUANTILES)])\n",
    "# Same for repeal scenario for showing who gets CTC.\n",
    "repeal_aftiq = scenarios.loc[scenarios['ctc_treatment'] == 'repeal',\n",
    "                             np.append(['id'], AFTI_QUANTILES)]\n",
    "repeal_aftiq.columns = np.append(['id'], \n",
    "                                 repeal_aftiq.columns[1:] + \n",
    "                                 '_repeal').tolist()"
   ]
  },
  {
   "cell_type": "code",
   "execution_count": 15,
   "metadata": {
    "collapsed": true
   },
   "outputs": [],
   "source": [
    "tu = pd.merge(pd.merge(tu, base_aftiq, on='id'), repeal_aftiq, on='id')"
   ]
  },
  {
   "cell_type": "markdown",
   "metadata": {},
   "source": [
    "## Analysis"
   ]
  },
  {
   "cell_type": "markdown",
   "metadata": {},
   "source": [
    "### Tax units with higher aftertax_income without CTC than with 2017 CTC"
   ]
  },
  {
   "cell_type": "code",
   "execution_count": 16,
   "metadata": {
    "collapsed": true
   },
   "outputs": [],
   "source": [
    "tu_pos = tu[tu.afti_repeal < tu.afti_y2017]\n",
    "tu_neg = tu[tu.afti_repeal > tu.afti_y2017]"
   ]
  },
  {
   "cell_type": "code",
   "execution_count": 17,
   "metadata": {
    "scrolled": true
   },
   "outputs": [
    {
     "data": {
      "text/plain": [
       "1.22"
      ]
     },
     "execution_count": 17,
     "metadata": {},
     "output_type": "execute_result"
    }
   ],
   "source": [
    "round(tu_neg.s006_m.sum(), 2)"
   ]
  },
  {
   "cell_type": "code",
   "execution_count": 18,
   "metadata": {},
   "outputs": [
    {
     "data": {
      "text/plain": [
       "35.54"
      ]
     },
     "execution_count": 18,
     "metadata": {},
     "output_type": "execute_result"
    }
   ],
   "source": [
    "round(tu_pos.s006_m.sum(), 2)"
   ]
  },
  {
   "cell_type": "code",
   "execution_count": 19,
   "metadata": {},
   "outputs": [
    {
     "data": {
      "text/plain": [
       "0.033176397653144729"
      ]
     },
     "execution_count": 19,
     "metadata": {},
     "output_type": "execute_result"
    }
   ],
   "source": [
    "tu_neg.s006.sum() / (tu_pos.s006.sum() + tu_neg.s006.sum())"
   ]
  },
  {
   "cell_type": "code",
   "execution_count": 20,
   "metadata": {},
   "outputs": [
    {
     "data": {
      "text/plain": [
       "201276.77736075359"
      ]
     },
     "execution_count": 20,
     "metadata": {},
     "output_type": "execute_result"
    }
   ],
   "source": [
    "weighted_mean(tu_neg, 'expanded_income')"
   ]
  },
  {
   "cell_type": "code",
   "execution_count": 21,
   "metadata": {},
   "outputs": [
    {
     "data": {
      "text/plain": [
       "64937.526468231677"
      ]
     },
     "execution_count": 21,
     "metadata": {},
     "output_type": "execute_result"
    }
   ],
   "source": [
    "weighted_mean(tu_pos, 'expanded_income')"
   ]
  },
  {
   "cell_type": "code",
   "execution_count": 22,
   "metadata": {},
   "outputs": [
    {
     "data": {
      "text/html": [
       "<div>\n",
       "<style scoped>\n",
       "    .dataframe tbody tr th:only-of-type {\n",
       "        vertical-align: middle;\n",
       "    }\n",
       "\n",
       "    .dataframe tbody tr th {\n",
       "        vertical-align: top;\n",
       "    }\n",
       "\n",
       "    .dataframe thead th {\n",
       "        text-align: right;\n",
       "    }\n",
       "</style>\n",
       "<table border=\"1\" class=\"dataframe\">\n",
       "  <thead>\n",
       "    <tr style=\"text-align: right;\">\n",
       "      <th></th>\n",
       "      <th>id</th>\n",
       "      <th>afti_keep</th>\n",
       "      <th>afti_repeal</th>\n",
       "      <th>afti_y2017</th>\n",
       "      <th>n24</th>\n",
       "      <th>n24_m</th>\n",
       "      <th>s006</th>\n",
       "      <th>s006_m</th>\n",
       "      <th>XTOT</th>\n",
       "      <th>XTOT_m</th>\n",
       "      <th>...</th>\n",
       "      <th>aftertax_income_ventile</th>\n",
       "      <th>aftertax_income_decile</th>\n",
       "      <th>aftertax_income_quintile</th>\n",
       "      <th>aftertax_income_quartile</th>\n",
       "      <th>aftertax_income_percentile_repeal</th>\n",
       "      <th>aftertax_income_2percentile_repeal</th>\n",
       "      <th>aftertax_income_ventile_repeal</th>\n",
       "      <th>aftertax_income_decile_repeal</th>\n",
       "      <th>aftertax_income_quintile_repeal</th>\n",
       "      <th>aftertax_income_quartile_repeal</th>\n",
       "    </tr>\n",
       "  </thead>\n",
       "  <tbody>\n",
       "    <tr>\n",
       "      <th>145502</th>\n",
       "      <td>422328</td>\n",
       "      <td>170611.87</td>\n",
       "      <td>168611.87</td>\n",
       "      <td>167611.87</td>\n",
       "      <td>1.0</td>\n",
       "      <td>2.05e-05</td>\n",
       "      <td>20.51</td>\n",
       "      <td>2.05e-05</td>\n",
       "      <td>5.0</td>\n",
       "      <td>1.03e-04</td>\n",
       "      <td>...</td>\n",
       "      <td>19</td>\n",
       "      <td>10</td>\n",
       "      <td>5</td>\n",
       "      <td>4</td>\n",
       "      <td>93</td>\n",
       "      <td>47</td>\n",
       "      <td>19</td>\n",
       "      <td>10</td>\n",
       "      <td>5</td>\n",
       "      <td>4</td>\n",
       "    </tr>\n",
       "    <tr>\n",
       "      <th>10762</th>\n",
       "      <td>30959</td>\n",
       "      <td>315645.44</td>\n",
       "      <td>311645.44</td>\n",
       "      <td>311145.44</td>\n",
       "      <td>2.0</td>\n",
       "      <td>8.13e-05</td>\n",
       "      <td>40.66</td>\n",
       "      <td>4.07e-05</td>\n",
       "      <td>5.0</td>\n",
       "      <td>2.03e-04</td>\n",
       "      <td>...</td>\n",
       "      <td>20</td>\n",
       "      <td>10</td>\n",
       "      <td>5</td>\n",
       "      <td>4</td>\n",
       "      <td>99</td>\n",
       "      <td>50</td>\n",
       "      <td>20</td>\n",
       "      <td>10</td>\n",
       "      <td>5</td>\n",
       "      <td>4</td>\n",
       "    </tr>\n",
       "  </tbody>\n",
       "</table>\n",
       "<p>2 rows × 23 columns</p>\n",
       "</div>"
      ],
      "text/plain": [
       "            id  afti_keep  afti_repeal  afti_y2017  n24     n24_m   s006  \\\n",
       "145502  422328  170611.87    168611.87   167611.87  1.0  2.05e-05  20.51   \n",
       "10762    30959  315645.44    311645.44   311145.44  2.0  8.13e-05  40.66   \n",
       "\n",
       "          s006_m  XTOT    XTOT_m               ...                 \\\n",
       "145502  2.05e-05   5.0  1.03e-04               ...                  \n",
       "10762   4.07e-05   5.0  2.03e-04               ...                  \n",
       "\n",
       "        aftertax_income_ventile  aftertax_income_decile  \\\n",
       "145502                       19                      10   \n",
       "10762                        20                      10   \n",
       "\n",
       "        aftertax_income_quintile  aftertax_income_quartile  \\\n",
       "145502                         5                         4   \n",
       "10762                          5                         4   \n",
       "\n",
       "        aftertax_income_percentile_repeal  aftertax_income_2percentile_repeal  \\\n",
       "145502                                 93                                  47   \n",
       "10762                                  99                                  50   \n",
       "\n",
       "        aftertax_income_ventile_repeal  aftertax_income_decile_repeal  \\\n",
       "145502                              19                             10   \n",
       "10762                               20                             10   \n",
       "\n",
       "        aftertax_income_quintile_repeal  aftertax_income_quartile_repeal  \n",
       "145502                                5                                4  \n",
       "10762                                 5                                4  \n",
       "\n",
       "[2 rows x 23 columns]"
      ]
     },
     "execution_count": 22,
     "metadata": {},
     "output_type": "execute_result"
    }
   ],
   "source": [
    "tu_neg.sample(2)"
   ]
  },
  {
   "cell_type": "markdown",
   "metadata": {},
   "source": [
    "Average `XTOT`."
   ]
  },
  {
   "cell_type": "code",
   "execution_count": 23,
   "metadata": {},
   "outputs": [
    {
     "data": {
      "text/plain": [
       "4.56"
      ]
     },
     "execution_count": 23,
     "metadata": {},
     "output_type": "execute_result"
    }
   ],
   "source": [
    "round(tu_neg.XTOT.mean(), 2)"
   ]
  },
  {
   "cell_type": "code",
   "execution_count": 24,
   "metadata": {},
   "outputs": [
    {
     "data": {
      "text/plain": [
       "3.32"
      ]
     },
     "execution_count": 24,
     "metadata": {},
     "output_type": "execute_result"
    }
   ],
   "source": [
    "round(tu_pos.XTOT.mean(), 2)"
   ]
  },
  {
   "cell_type": "markdown",
   "metadata": {},
   "source": [
    "### No tax units have higher aftertax_income without CTC than with 2018 CTC"
   ]
  },
  {
   "cell_type": "code",
   "execution_count": 25,
   "metadata": {},
   "outputs": [
    {
     "data": {
      "text/plain": [
       "(0, 23)"
      ]
     },
     "execution_count": 25,
     "metadata": {},
     "output_type": "execute_result"
    }
   ],
   "source": [
    "tu[tu.afti_repeal > tu.afti_keep].shape"
   ]
  }
 ],
 "metadata": {
  "kernelspec": {
   "display_name": "Python 2",
   "language": "python",
   "name": "python2"
  },
  "language_info": {
   "codemirror_mode": {
    "name": "ipython",
    "version": 2
   },
   "file_extension": ".py",
   "mimetype": "text/x-python",
   "name": "python",
   "nbconvert_exporter": "python",
   "pygments_lexer": "ipython2",
   "version": "2.7.14"
  },
  "toc": {
   "nav_menu": {},
   "number_sections": true,
   "sideBar": true,
   "skip_h1_title": false,
   "title_cell": "Table of Contents",
   "title_sidebar": "Contents",
   "toc_cell": false,
   "toc_position": {},
   "toc_section_display": true,
   "toc_window_display": true
  }
 },
 "nbformat": 4,
 "nbformat_minor": 2
}
