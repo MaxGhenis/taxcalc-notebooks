{
 "cells": [
  {
   "cell_type": "markdown",
   "metadata": {},
   "source": [
    "# Compare 2017 Child Tax Credit to repeal\n",
    "\n",
    "Investigates why tax units would be worse off when using the 2017 CTC than a repealed CTC, as Sean Wang discovered when running my CTC -> child benefit notebook using the PUF ([notebook](https://github.com/GoFroggyRun/Notebook/blob/master/ctc_ubi_puf.ipynb)).\n",
    "\n",
    "Findings:\n",
    "* 21k CPS records have a higher after-tax income when repealing the CTC as compared to with the 2017 CTC. 85k records have the reverse, as expected.\n",
    "* 60% of these records have `n24 == 0`, which should be unaffected by any CTC changes. No records with `n24 == 0` had a lower after-tax income after repealing the CTC vs. 2017 CTC.\n",
    "* The unexpected records have higher after expanded income than those with expected behavior.\n",
    "\n",
    "*This behavior is still present when removing `\"_DependentCredit_before_CTC\": [False]` from the 2017 reform.*"
   ]
  },
  {
   "cell_type": "markdown",
   "metadata": {},
   "source": [
    "## Setup"
   ]
  },
  {
   "cell_type": "markdown",
   "metadata": {},
   "source": [
    "### Imports"
   ]
  },
  {
   "cell_type": "code",
   "execution_count": 1,
   "metadata": {},
   "outputs": [],
   "source": [
    "import taxcalc as tc\n",
    "import pandas as pd\n",
    "import numpy as np"
   ]
  },
  {
   "cell_type": "code",
   "execution_count": 2,
   "metadata": {
    "scrolled": true
   },
   "outputs": [
    {
     "data": {
      "text/plain": [
       "'0.19.0'"
      ]
     },
     "execution_count": 2,
     "metadata": {},
     "output_type": "execute_result"
    }
   ],
   "source": [
    "tc.__version__"
   ]
  },
  {
   "cell_type": "markdown",
   "metadata": {},
   "source": [
    "### Settings"
   ]
  },
  {
   "cell_type": "code",
   "execution_count": 3,
   "metadata": {},
   "outputs": [],
   "source": [
    "pd.set_option('precision', 2)"
   ]
  },
  {
   "cell_type": "markdown",
   "metadata": {},
   "source": [
    "### Utilities"
   ]
  },
  {
   "cell_type": "code",
   "execution_count": 4,
   "metadata": {},
   "outputs": [],
   "source": [
    "def weighted_sum(df, col):\n",
    "    return (df[col] * 1.0 * df.s006).sum()\n",
    "\n",
    "def weighted_mean(df, col):\n",
    "    return weighted_sum(df, col) / df.s006.sum()"
   ]
  },
  {
   "cell_type": "markdown",
   "metadata": {},
   "source": [
    "### Create reforms\n",
    "\n",
    "CTC repeal involves eliminating the normal CTC as well as the new dependent credit for children.\n",
    "\n",
    "A reform to return to 2017 CTC law is used to show how the distribution of CTC benefits changed with TCJA."
   ]
  },
  {
   "cell_type": "code",
   "execution_count": 5,
   "metadata": {},
   "outputs": [],
   "source": [
    "noctc_reform = {\n",
    "    2018: {\n",
    "        '_CTC_c': [0],\n",
    "        '_DependentCredit_Child_c': [0]\n",
    "    }\n",
    "}\n",
    "\n",
    "y2017_reform = {\n",
    "    2018: {\n",
    "        # Current: 1400.0\n",
    "        \"_CTC_c\": [1000.0],\n",
    "        # Current: [200000.0, 400000.0, 200000.0, 200000.0, 400000.0]\n",
    "        \"_CTC_ps\": [[75000.0, 110000.0, 55000.0, 75000.0, 75000.0]],\n",
    "        # Current: 2500.0\n",
    "        \"_ACTC_Income_thd\": [3000.0],\n",
    "        # Current: 600.0\n",
    "        \"_DependentCredit_Child_c\": [0.0],\n",
    "        # Current: True\n",
    "        \"_DependentCredit_before_CTC\": [False]\n",
    "    }\n",
    "}"
   ]
  },
  {
   "cell_type": "markdown",
   "metadata": {},
   "source": [
    "## Generate data"
   ]
  },
  {
   "cell_type": "code",
   "execution_count": 6,
   "metadata": {},
   "outputs": [],
   "source": [
    "recs = tc.Records.cps_constructor()"
   ]
  },
  {
   "cell_type": "code",
   "execution_count": 7,
   "metadata": {},
   "outputs": [],
   "source": [
    "def static_baseline_calc(year):\n",
    "    calc = tc.Calculator(records=recs, policy=tc.Policy())\n",
    "    calc.advance_to_year(year)\n",
    "    calc.calc_all()\n",
    "    return calc"
   ]
  },
  {
   "cell_type": "code",
   "execution_count": 8,
   "metadata": {},
   "outputs": [],
   "source": [
    "def static_calc(ctc_treatment='keep',\n",
    "                year=2018,\n",
    "                cols=['s006', 'aftertax_income', 'expanded_income',\n",
    "                      'n24', 'XTOT']):\n",
    "    \"\"\"Creates static Calculator.\n",
    "\n",
    "    Args:\n",
    "        ctc_treatment: How the Child Tax Credit is treated. Options include:\n",
    "            * 'keep': No change. Default.\n",
    "            * 'repeal': End entirely.\n",
    "            * 'y2017': Use 2017 law.\n",
    "        year: Year to advance calculations to.\n",
    "        cols: Columns to extract per Calculator record. \n",
    "            Defaults to ['s006', 'expanded_income', 'aftertax_income', 'nu18',\n",
    "            'n24', 'XTOT'].\n",
    "        \n",
    "    Returns:\n",
    "        DataFrame with `cols` and percentile, decile, and quintile of \n",
    "        after-tax income.\n",
    "    \"\"\"\n",
    "    pol = tc.Policy()\n",
    "    # Enact reform based on ctc_treatment.\n",
    "    # Repeal CTC unless it's kept.\n",
    "    if ctc_treatment == 'y2017':\n",
    "        pol.implement_reform(y2017_reform)\n",
    "    elif ctc_treatment == 'repeal':\n",
    "        pol.implement_reform(noctc_reform)\n",
    "    # Calculate. This is needed to calculate the revenue-neutral UBI.\n",
    "    calc = tc.Calculator(records=recs, policy=pol, verbose=False)\n",
    "    calc.advance_to_year(year)\n",
    "    calc.calc_all()\n",
    "    # Create DataFrame and add identifiers.\n",
    "    df = calc.dataframe(cols)\n",
    "    # Add weighted sums.\n",
    "    df['s006_m'] = df.s006 / 1e6\n",
    "    df['expanded_income_m'] = df.s006_m * df.expanded_income\n",
    "    # Add identifier.\n",
    "    df['ctc_treatment'] = ctc_treatment\n",
    "    # What's the column for the ID?\n",
    "    df['id'] = df.index\n",
    "    return df"
   ]
  },
  {
   "cell_type": "code",
   "execution_count": 9,
   "metadata": {},
   "outputs": [],
   "source": [
    "scenarios = pd.concat([\n",
    "    static_calc(ctc_treatment='keep'),\n",
    "    static_calc(ctc_treatment='y2017'),\n",
    "    static_calc(ctc_treatment='repeal')])"
   ]
  },
  {
   "cell_type": "markdown",
   "metadata": {},
   "source": [
    "## Preprocess"
   ]
  },
  {
   "cell_type": "code",
   "execution_count": 10,
   "metadata": {},
   "outputs": [],
   "source": [
    "tu = scenarios.pivot_table(values='aftertax_income',\n",
    "                           index='id', columns='ctc_treatment').reset_index()\n",
    "tu.columns = ['id', 'afti_keep', 'afti_repeal', 'afti_y2017']"
   ]
  },
  {
   "cell_type": "code",
   "execution_count": 11,
   "metadata": {},
   "outputs": [],
   "source": [
    "# Dimensions based on tax unit and baseline.\n",
    "base_aftiq = scenarios.loc[scenarios.ctc_treatment == \n",
    "                           'keep'].drop('ctc_treatment', axis=1)"
   ]
  },
  {
   "cell_type": "code",
   "execution_count": 12,
   "metadata": {},
   "outputs": [],
   "source": [
    "tu = pd.merge(tu, base_aftiq, on='id')"
   ]
  },
  {
   "cell_type": "code",
   "execution_count": 13,
   "metadata": {},
   "outputs": [],
   "source": [
    "tu['y2017_vs_repeal'] = np.where(tu.afti_y2017 > tu.afti_repeal, 'Higher',\n",
    "                                 np.where(tu.afti_y2017 < tu.afti_repeal,\n",
    "                                          'Lower', 'Same'))\n",
    "tu['has_n24'] = tu.n24 > 0\n",
    "tu['records'] = 1"
   ]
  },
  {
   "cell_type": "code",
   "execution_count": 14,
   "metadata": {},
   "outputs": [],
   "source": [
    "tu_pos = tu[tu.y2017_vs_repeal == 'Higher']\n",
    "tu_neg = tu[tu.y2017_vs_repeal == 'Lower']"
   ]
  },
  {
   "cell_type": "markdown",
   "metadata": {},
   "source": [
    "## Analysis"
   ]
  },
  {
   "cell_type": "code",
   "execution_count": 15,
   "metadata": {},
   "outputs": [
    {
     "data": {
      "text/html": [
       "<div>\n",
       "<style scoped>\n",
       "    .dataframe tbody tr th:only-of-type {\n",
       "        vertical-align: middle;\n",
       "    }\n",
       "\n",
       "    .dataframe tbody tr th {\n",
       "        vertical-align: top;\n",
       "    }\n",
       "\n",
       "    .dataframe thead th {\n",
       "        text-align: right;\n",
       "    }\n",
       "</style>\n",
       "<table border=\"1\" class=\"dataframe\">\n",
       "  <thead>\n",
       "    <tr style=\"text-align: right;\">\n",
       "      <th></th>\n",
       "      <th>records</th>\n",
       "      <th>s006_m</th>\n",
       "    </tr>\n",
       "    <tr>\n",
       "      <th>y2017_vs_repeal</th>\n",
       "      <th></th>\n",
       "      <th></th>\n",
       "    </tr>\n",
       "  </thead>\n",
       "  <tbody>\n",
       "    <tr>\n",
       "      <th>Higher</th>\n",
       "      <td>85518</td>\n",
       "      <td>33.95</td>\n",
       "    </tr>\n",
       "    <tr>\n",
       "      <th>Lower</th>\n",
       "      <td>20731</td>\n",
       "      <td>4.01</td>\n",
       "    </tr>\n",
       "    <tr>\n",
       "      <th>Same</th>\n",
       "      <td>350216</td>\n",
       "      <td>131.93</td>\n",
       "    </tr>\n",
       "  </tbody>\n",
       "</table>\n",
       "</div>"
      ],
      "text/plain": [
       "                 records  s006_m\n",
       "y2017_vs_repeal                 \n",
       "Higher             85518   33.95\n",
       "Lower              20731    4.01\n",
       "Same              350216  131.93"
      ]
     },
     "execution_count": 15,
     "metadata": {},
     "output_type": "execute_result"
    }
   ],
   "source": [
    "tu.pivot_table(index='y2017_vs_repeal', values=['records', 's006_m'],\n",
    "               aggfunc=sum)"
   ]
  },
  {
   "cell_type": "code",
   "execution_count": 16,
   "metadata": {},
   "outputs": [
    {
     "data": {
      "text/html": [
       "<div>\n",
       "<style scoped>\n",
       "    .dataframe tbody tr th:only-of-type {\n",
       "        vertical-align: middle;\n",
       "    }\n",
       "\n",
       "    .dataframe tbody tr th {\n",
       "        vertical-align: top;\n",
       "    }\n",
       "\n",
       "    .dataframe thead tr th {\n",
       "        text-align: left;\n",
       "    }\n",
       "\n",
       "    .dataframe thead tr:last-of-type th {\n",
       "        text-align: right;\n",
       "    }\n",
       "</style>\n",
       "<table border=\"1\" class=\"dataframe\">\n",
       "  <thead>\n",
       "    <tr>\n",
       "      <th></th>\n",
       "      <th colspan=\"2\" halign=\"left\">expanded_income_m</th>\n",
       "      <th colspan=\"2\" halign=\"left\">records</th>\n",
       "      <th colspan=\"2\" halign=\"left\">s006_m</th>\n",
       "      <th>mean_expanded_income_false</th>\n",
       "      <th>mean_expanded_income_true</th>\n",
       "    </tr>\n",
       "    <tr>\n",
       "      <th>has_n24</th>\n",
       "      <th>False</th>\n",
       "      <th>True</th>\n",
       "      <th>False</th>\n",
       "      <th>True</th>\n",
       "      <th>False</th>\n",
       "      <th>True</th>\n",
       "      <th></th>\n",
       "      <th></th>\n",
       "    </tr>\n",
       "    <tr>\n",
       "      <th>y2017_vs_repeal</th>\n",
       "      <th></th>\n",
       "      <th></th>\n",
       "      <th></th>\n",
       "      <th></th>\n",
       "      <th></th>\n",
       "      <th></th>\n",
       "      <th></th>\n",
       "      <th></th>\n",
       "    </tr>\n",
       "  </thead>\n",
       "  <tbody>\n",
       "    <tr>\n",
       "      <th>Higher</th>\n",
       "      <td>NaN</td>\n",
       "      <td>2.23e+06</td>\n",
       "      <td>NaN</td>\n",
       "      <td>85518.0</td>\n",
       "      <td>NaN</td>\n",
       "      <td>33.95</td>\n",
       "      <td>NaN</td>\n",
       "      <td>65767.77</td>\n",
       "    </tr>\n",
       "    <tr>\n",
       "      <th>Lower</th>\n",
       "      <td>5.01e+05</td>\n",
       "      <td>2.61e+05</td>\n",
       "      <td>12685.0</td>\n",
       "      <td>8046.0</td>\n",
       "      <td>2.81</td>\n",
       "      <td>1.20</td>\n",
       "      <td>178236.16</td>\n",
       "      <td>217137.93</td>\n",
       "    </tr>\n",
       "    <tr>\n",
       "      <th>Same</th>\n",
       "      <td>9.23e+06</td>\n",
       "      <td>1.66e+06</td>\n",
       "      <td>295117.0</td>\n",
       "      <td>55099.0</td>\n",
       "      <td>121.22</td>\n",
       "      <td>10.71</td>\n",
       "      <td>76168.83</td>\n",
       "      <td>155145.58</td>\n",
       "    </tr>\n",
       "  </tbody>\n",
       "</table>\n",
       "</div>"
      ],
      "text/plain": [
       "                expanded_income_m             records           s006_m         \\\n",
       "has_n24                     False      True     False     True   False   True   \n",
       "y2017_vs_repeal                                                                 \n",
       "Higher                        NaN  2.23e+06       NaN  85518.0     NaN  33.95   \n",
       "Lower                    5.01e+05  2.61e+05   12685.0   8046.0    2.81   1.20   \n",
       "Same                     9.23e+06  1.66e+06  295117.0  55099.0  121.22  10.71   \n",
       "\n",
       "                mean_expanded_income_false mean_expanded_income_true  \n",
       "has_n24                                                               \n",
       "y2017_vs_repeal                                                       \n",
       "Higher                                 NaN                  65767.77  \n",
       "Lower                            178236.16                 217137.93  \n",
       "Same                              76168.83                 155145.58  "
      ]
     },
     "execution_count": 16,
     "metadata": {},
     "output_type": "execute_result"
    }
   ],
   "source": [
    "x = tu.pivot_table(index='y2017_vs_repeal', columns='has_n24',\n",
    "                   values=['records', 's006_m', 'expanded_income_m'], aggfunc=sum)\n",
    "# There's a better way to do this using slices.\n",
    "x['mean_expanded_income_false'] = x.expanded_income_m[0] / x.s006_m[0]\n",
    "x['mean_expanded_income_true'] = x.expanded_income_m[1] / x.s006_m[1]\n",
    "x"
   ]
  },
  {
   "cell_type": "code",
   "execution_count": 17,
   "metadata": {},
   "outputs": [
    {
     "name": "stdout",
     "output_type": "stream",
     "text": [
      "The average people per tax unit among negative tax units is 3.42 vs. 3.21 among positive tax units.\n"
     ]
    }
   ],
   "source": [
    "print(('The average people per tax unit among negative tax units is {:0.2f} '\n",
    "       'vs. {:1.2f} among positive tax units.').format(\n",
    "    weighted_mean(tu_neg, 'XTOT'), weighted_mean(tu_pos, 'XTOT')))"
   ]
  },
  {
   "cell_type": "markdown",
   "metadata": {},
   "source": [
    "### Tax units with higher aftertax_income without CTC than with 2017 CTC"
   ]
  },
  {
   "cell_type": "code",
   "execution_count": 18,
   "metadata": {},
   "outputs": [
    {
     "data": {
      "text/html": [
       "<div>\n",
       "<style scoped>\n",
       "    .dataframe tbody tr th:only-of-type {\n",
       "        vertical-align: middle;\n",
       "    }\n",
       "\n",
       "    .dataframe tbody tr th {\n",
       "        vertical-align: top;\n",
       "    }\n",
       "\n",
       "    .dataframe thead th {\n",
       "        text-align: right;\n",
       "    }\n",
       "</style>\n",
       "<table border=\"1\" class=\"dataframe\">\n",
       "  <thead>\n",
       "    <tr style=\"text-align: right;\">\n",
       "      <th></th>\n",
       "      <th>id</th>\n",
       "      <th>afti_keep</th>\n",
       "      <th>afti_repeal</th>\n",
       "      <th>afti_y2017</th>\n",
       "      <th>s006</th>\n",
       "      <th>aftertax_income</th>\n",
       "      <th>expanded_income</th>\n",
       "      <th>n24</th>\n",
       "      <th>XTOT</th>\n",
       "      <th>s006_m</th>\n",
       "      <th>expanded_income_m</th>\n",
       "      <th>y2017_vs_repeal</th>\n",
       "      <th>has_n24</th>\n",
       "      <th>records</th>\n",
       "    </tr>\n",
       "  </thead>\n",
       "  <tbody>\n",
       "    <tr>\n",
       "      <th>20796</th>\n",
       "      <td>20796</td>\n",
       "      <td>67569.95</td>\n",
       "      <td>67569.95</td>\n",
       "      <td>67224.69</td>\n",
       "      <td>728.71</td>\n",
       "      <td>67569.95</td>\n",
       "      <td>88133.33</td>\n",
       "      <td>0.0</td>\n",
       "      <td>2.0</td>\n",
       "      <td>7.29e-04</td>\n",
       "      <td>64.22</td>\n",
       "      <td>Lower</td>\n",
       "      <td>False</td>\n",
       "      <td>1</td>\n",
       "    </tr>\n",
       "    <tr>\n",
       "      <th>273231</th>\n",
       "      <td>273231</td>\n",
       "      <td>254454.75</td>\n",
       "      <td>254454.75</td>\n",
       "      <td>253954.75</td>\n",
       "      <td>46.78</td>\n",
       "      <td>254454.75</td>\n",
       "      <td>325671.56</td>\n",
       "      <td>0.0</td>\n",
       "      <td>3.0</td>\n",
       "      <td>4.68e-05</td>\n",
       "      <td>15.23</td>\n",
       "      <td>Lower</td>\n",
       "      <td>False</td>\n",
       "      <td>1</td>\n",
       "    </tr>\n",
       "  </tbody>\n",
       "</table>\n",
       "</div>"
      ],
      "text/plain": [
       "            id  afti_keep  afti_repeal  afti_y2017    s006  aftertax_income  \\\n",
       "20796    20796   67569.95     67569.95    67224.69  728.71         67569.95   \n",
       "273231  273231  254454.75    254454.75   253954.75   46.78        254454.75   \n",
       "\n",
       "        expanded_income  n24  XTOT    s006_m  expanded_income_m  \\\n",
       "20796          88133.33  0.0   2.0  7.29e-04              64.22   \n",
       "273231        325671.56  0.0   3.0  4.68e-05              15.23   \n",
       "\n",
       "       y2017_vs_repeal  has_n24  records  \n",
       "20796            Lower    False        1  \n",
       "273231           Lower    False        1  "
      ]
     },
     "execution_count": 18,
     "metadata": {},
     "output_type": "execute_result"
    }
   ],
   "source": [
    "tu_neg[tu_neg.n24 == 0].sample(2)"
   ]
  },
  {
   "cell_type": "code",
   "execution_count": 19,
   "metadata": {},
   "outputs": [
    {
     "data": {
      "text/html": [
       "<div>\n",
       "<style scoped>\n",
       "    .dataframe tbody tr th:only-of-type {\n",
       "        vertical-align: middle;\n",
       "    }\n",
       "\n",
       "    .dataframe tbody tr th {\n",
       "        vertical-align: top;\n",
       "    }\n",
       "\n",
       "    .dataframe thead th {\n",
       "        text-align: right;\n",
       "    }\n",
       "</style>\n",
       "<table border=\"1\" class=\"dataframe\">\n",
       "  <thead>\n",
       "    <tr style=\"text-align: right;\">\n",
       "      <th></th>\n",
       "      <th>id</th>\n",
       "      <th>afti_keep</th>\n",
       "      <th>afti_repeal</th>\n",
       "      <th>afti_y2017</th>\n",
       "      <th>s006</th>\n",
       "      <th>aftertax_income</th>\n",
       "      <th>expanded_income</th>\n",
       "      <th>n24</th>\n",
       "      <th>XTOT</th>\n",
       "      <th>s006_m</th>\n",
       "      <th>expanded_income_m</th>\n",
       "      <th>y2017_vs_repeal</th>\n",
       "      <th>has_n24</th>\n",
       "      <th>records</th>\n",
       "    </tr>\n",
       "  </thead>\n",
       "  <tbody>\n",
       "    <tr>\n",
       "      <th>214572</th>\n",
       "      <td>214572</td>\n",
       "      <td>207269.92</td>\n",
       "      <td>205269.92</td>\n",
       "      <td>204769.92</td>\n",
       "      <td>37.17</td>\n",
       "      <td>207269.92</td>\n",
       "      <td>264340.92</td>\n",
       "      <td>1.0</td>\n",
       "      <td>4.0</td>\n",
       "      <td>3.72e-05</td>\n",
       "      <td>9.83</td>\n",
       "      <td>Lower</td>\n",
       "      <td>True</td>\n",
       "      <td>1</td>\n",
       "    </tr>\n",
       "    <tr>\n",
       "      <th>444597</th>\n",
       "      <td>444597</td>\n",
       "      <td>224126.55</td>\n",
       "      <td>222126.55</td>\n",
       "      <td>221126.55</td>\n",
       "      <td>33.46</td>\n",
       "      <td>224126.55</td>\n",
       "      <td>256418.90</td>\n",
       "      <td>1.0</td>\n",
       "      <td>5.0</td>\n",
       "      <td>3.35e-05</td>\n",
       "      <td>8.58</td>\n",
       "      <td>Lower</td>\n",
       "      <td>True</td>\n",
       "      <td>1</td>\n",
       "    </tr>\n",
       "  </tbody>\n",
       "</table>\n",
       "</div>"
      ],
      "text/plain": [
       "            id  afti_keep  afti_repeal  afti_y2017   s006  aftertax_income  \\\n",
       "214572  214572  207269.92    205269.92   204769.92  37.17        207269.92   \n",
       "444597  444597  224126.55    222126.55   221126.55  33.46        224126.55   \n",
       "\n",
       "        expanded_income  n24  XTOT    s006_m  expanded_income_m  \\\n",
       "214572        264340.92  1.0   4.0  3.72e-05               9.83   \n",
       "444597        256418.90  1.0   5.0  3.35e-05               8.58   \n",
       "\n",
       "       y2017_vs_repeal  has_n24  records  \n",
       "214572           Lower     True        1  \n",
       "444597           Lower     True        1  "
      ]
     },
     "execution_count": 19,
     "metadata": {},
     "output_type": "execute_result"
    }
   ],
   "source": [
    "tu_neg[tu_neg.n24 > 0].sample(2)"
   ]
  },
  {
   "cell_type": "markdown",
   "metadata": {},
   "source": [
    "### No tax units have higher aftertax_income without CTC than with 2018 CTC"
   ]
  },
  {
   "cell_type": "code",
   "execution_count": 20,
   "metadata": {},
   "outputs": [
    {
     "name": "stdout",
     "output_type": "stream",
     "text": [
      "0 tax units have higher after-tax income without CTC than with 2018 CTC\n"
     ]
    }
   ],
   "source": [
    "print(('{:0.0f} tax units have higher after-tax income without CTC than '\n",
    "       'with 2018 CTC').format(tu[tu.afti_repeal > tu.afti_keep].shape[0]))"
   ]
  },
  {
   "cell_type": "markdown",
   "metadata": {},
   "source": [
    "## Create tax records\n",
    "\n",
    "Start with a record with unexpected result, then re-test after simplifying the record (zeroing out various inputs) until a minimal case is identified.\n",
    "\n",
    "Without a way to convert Records to dataframes and back, or to index Records, unclear how to do this."
   ]
  },
  {
   "cell_type": "code",
   "execution_count": 21,
   "metadata": {},
   "outputs": [
    {
     "ename": "TypeError",
     "evalue": "'Records' object does not support indexing",
     "output_type": "error",
     "traceback": [
      "\u001b[0;31m---------------------------------------------------------------------------\u001b[0m",
      "\u001b[0;31mTypeError\u001b[0m                                 Traceback (most recent call last)",
      "\u001b[0;32m<ipython-input-21-67e6ddec8aec>\u001b[0m in \u001b[0;36m<module>\u001b[0;34m()\u001b[0m\n\u001b[0;32m----> 1\u001b[0;31m \u001b[0mrecs\u001b[0m\u001b[0;34m[\u001b[0m\u001b[0;36m455159\u001b[0m\u001b[0;34m]\u001b[0m\u001b[0;34m\u001b[0m\u001b[0m\n\u001b[0m",
      "\u001b[0;31mTypeError\u001b[0m: 'Records' object does not support indexing"
     ]
    }
   ],
   "source": [
    "recs[455159]"
   ]
  }
 ],
 "metadata": {
  "kernelspec": {
   "display_name": "Python 3",
   "language": "python",
   "name": "python3"
  },
  "language_info": {
   "codemirror_mode": {
    "name": "ipython",
    "version": 3
   },
   "file_extension": ".py",
   "mimetype": "text/x-python",
   "name": "python",
   "nbconvert_exporter": "python",
   "pygments_lexer": "ipython3",
   "version": "3.6.5"
  },
  "toc": {
   "base_numbering": 1,
   "nav_menu": {},
   "number_sections": true,
   "sideBar": true,
   "skip_h1_title": false,
   "title_cell": "Table of Contents",
   "title_sidebar": "Contents",
   "toc_cell": false,
   "toc_position": {},
   "toc_section_display": true,
   "toc_window_display": true
  }
 },
 "nbformat": 4,
 "nbformat_minor": 2
}
