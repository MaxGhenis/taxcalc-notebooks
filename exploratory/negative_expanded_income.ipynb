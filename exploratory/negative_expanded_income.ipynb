{
 "cells": [
  {
   "cell_type": "markdown",
   "metadata": {},
   "source": [
    "# Negative expanded income\n",
    "\n",
    "The bottom decile from both PUF and CPS have negative aggregate expanded income, as reported in [Tax-Calculator issue 1806](https://github.com/open-source-economics/Tax-Calculator/issues/1806). More information was requested in [taxdata issue 143](https://github.com/open-source-economics/taxdata/issues/143), in which codykallen@ said:\n",
    "\n",
    "> Based on a quick tabulation for 2017, there are 5066 filing units with negative expanded income, corresponding to 1.53 million tax filers. Of these 5066 units with negative expanded income, 1943 have a capital loss (`c23650` < 0), 1591 have a Schedule C (sole proprietorship) loss (`e00900` < 0), and 3507 have a Schedule E (partnership, S corporation, and passive business) loss (`e02000` < 0).\n",
    "\n",
    "This notebook reproduces those results to the extent possible using CPS data (which lacks `c23650` and `e02000`), and performs other analysis requested there.\n",
    "\n",
    "TL;DR: CPS losses are explained by 1.4% of the bottom decile, and Schedule C explains 0.15% of this loss."
   ]
  },
  {
   "cell_type": "markdown",
   "metadata": {},
   "source": [
    "## Setup"
   ]
  },
  {
   "cell_type": "code",
   "execution_count": 1,
   "metadata": {
    "collapsed": true
   },
   "outputs": [],
   "source": [
    "import taxcalc as tc\n",
    "import pandas as pd\n",
    "import numpy as np\n",
    "import matplotlib as mpl\n",
    "import matplotlib.pyplot as plt\n",
    "import seaborn as sns"
   ]
  },
  {
   "cell_type": "code",
   "execution_count": 2,
   "metadata": {
    "collapsed": true
   },
   "outputs": [],
   "source": [
    "sns.set_style('white')\n",
    "DPI = 300\n",
    "mpl.rc(\"savefig\", dpi=DPI)\n",
    "mpl.rcParams['figure.dpi']= DPI"
   ]
  },
  {
   "cell_type": "code",
   "execution_count": 3,
   "metadata": {},
   "outputs": [
    {
     "name": "stdout",
     "output_type": "stream",
     "text": [
      "You loaded data for 2014.\n",
      "Tax-Calculator startup automatically extrapolated your data to 2014.\n"
     ]
    }
   ],
   "source": [
    "recs = tc.Records.cps_constructor()\n",
    "calc = tc.Calculator(records=recs, policy=tc.Policy())\n",
    "calc.calc_all()"
   ]
  },
  {
   "cell_type": "markdown",
   "metadata": {},
   "source": [
    "Create `DataFrame` of the items desired."
   ]
  },
  {
   "cell_type": "markdown",
   "metadata": {},
   "source": [
    "Which relevant columns are available? Don't need weighted sums since this just checks for > 0."
   ]
  },
  {
   "cell_type": "code",
   "execution_count": 4,
   "metadata": {},
   "outputs": [
    {
     "name": "stdout",
     "output_type": "stream",
     "text": [
      "c23650 (net capital gain): 0\n",
      "e00900 (Schedule C): 4361354169\n",
      "e02000 (Schedule E): 0\n"
     ]
    }
   ],
   "source": [
    "print 'c23650 (net capital gain): {:.0f}'.format(calc.records.c23650.sum())\n",
    "print 'e00900 (Schedule C): {:.0f}'.format(calc.records.e00900.sum())\n",
    "print 'e02000 (Schedule E): {:.0f}'.format(calc.records.e02000.sum())"
   ]
  },
  {
   "cell_type": "code",
   "execution_count": 5,
   "metadata": {},
   "outputs": [
    {
     "data": {
      "text/html": [
       "<div>\n",
       "<style scoped>\n",
       "    .dataframe tbody tr th:only-of-type {\n",
       "        vertical-align: middle;\n",
       "    }\n",
       "\n",
       "    .dataframe tbody tr th {\n",
       "        vertical-align: top;\n",
       "    }\n",
       "\n",
       "    .dataframe thead th {\n",
       "        text-align: right;\n",
       "    }\n",
       "</style>\n",
       "<table border=\"1\" class=\"dataframe\">\n",
       "  <thead>\n",
       "    <tr style=\"text-align: right;\">\n",
       "      <th></th>\n",
       "      <th>s006</th>\n",
       "      <th>expanded_income</th>\n",
       "      <th>aftertax_income</th>\n",
       "      <th>e00900</th>\n",
       "      <th>c00100</th>\n",
       "    </tr>\n",
       "  </thead>\n",
       "  <tbody>\n",
       "    <tr>\n",
       "      <th>0</th>\n",
       "      <td>230.016667</td>\n",
       "      <td>46925.154857</td>\n",
       "      <td>38271.758799</td>\n",
       "      <td>0.0</td>\n",
       "      <td>43580.855708</td>\n",
       "    </tr>\n",
       "    <tr>\n",
       "      <th>1</th>\n",
       "      <td>194.600000</td>\n",
       "      <td>16314.838518</td>\n",
       "      <td>18301.055152</td>\n",
       "      <td>0.0</td>\n",
       "      <td>15155.446835</td>\n",
       "    </tr>\n",
       "    <tr>\n",
       "      <th>2</th>\n",
       "      <td>245.276667</td>\n",
       "      <td>11887.694152</td>\n",
       "      <td>11887.694152</td>\n",
       "      <td>0.0</td>\n",
       "      <td>0.000000</td>\n",
       "    </tr>\n",
       "    <tr>\n",
       "      <th>3</th>\n",
       "      <td>171.326667</td>\n",
       "      <td>22435.645156</td>\n",
       "      <td>22824.841501</td>\n",
       "      <td>0.0</td>\n",
       "      <td>20840.330752</td>\n",
       "    </tr>\n",
       "    <tr>\n",
       "      <th>4</th>\n",
       "      <td>260.123333</td>\n",
       "      <td>18662.496942</td>\n",
       "      <td>18662.496942</td>\n",
       "      <td>0.0</td>\n",
       "      <td>938.970854</td>\n",
       "    </tr>\n",
       "  </tbody>\n",
       "</table>\n",
       "</div>"
      ],
      "text/plain": [
       "         s006  expanded_income  aftertax_income  e00900        c00100\n",
       "0  230.016667     46925.154857     38271.758799     0.0  43580.855708\n",
       "1  194.600000     16314.838518     18301.055152     0.0  15155.446835\n",
       "2  245.276667     11887.694152     11887.694152     0.0      0.000000\n",
       "3  171.326667     22435.645156     22824.841501     0.0  20840.330752\n",
       "4  260.123333     18662.496942     18662.496942     0.0    938.970854"
      ]
     },
     "execution_count": 5,
     "metadata": {},
     "output_type": "execute_result"
    }
   ],
   "source": [
    "df = calc.dataframe(['s006',  # Weight. \n",
    "                     'expanded_income', \n",
    "                     'aftertax_income', \n",
    "                     'e00900',  # Schedule C.\n",
    "                     'c00100'  # AGI.\n",
    "                    ])\n",
    "df.head()"
   ]
  },
  {
   "cell_type": "markdown",
   "metadata": {},
   "source": [
    "## Preprocessing"
   ]
  },
  {
   "cell_type": "markdown",
   "metadata": {},
   "source": [
    "Add weight normalized to sum to 100, to simplify percentile calculations."
   ]
  },
  {
   "cell_type": "code",
   "execution_count": 6,
   "metadata": {
    "collapsed": true
   },
   "outputs": [],
   "source": [
    "df['weight'] = 100 * df['s006'] / df['s006'].sum()"
   ]
  },
  {
   "cell_type": "markdown",
   "metadata": {},
   "source": [
    "Add percentiles of expanded income, after-tax income, and e00900 by sorting and summing `cumsum` of normalized weight."
   ]
  },
  {
   "cell_type": "code",
   "execution_count": 7,
   "metadata": {
    "collapsed": true
   },
   "outputs": [],
   "source": [
    "df.sort_values(by=['expanded_income'], inplace=True)\n",
    "df['expanded_income_percentile'] = df['weight'].cumsum()\n",
    "df['expanded_income_s006_cumsum'] = df['s006'].cumsum()"
   ]
  },
  {
   "cell_type": "code",
   "execution_count": 8,
   "metadata": {
    "collapsed": true
   },
   "outputs": [],
   "source": [
    "df.sort_values(by=['aftertax_income'], inplace=True)\n",
    "df['aftertax_income_percentile'] = df['weight'].cumsum()"
   ]
  },
  {
   "cell_type": "code",
   "execution_count": 9,
   "metadata": {
    "collapsed": true
   },
   "outputs": [],
   "source": [
    "df.sort_values(by=['e00900'], inplace=True)\n",
    "df['e00900_percentile'] = df['weight'].cumsum()"
   ]
  },
  {
   "cell_type": "markdown",
   "metadata": {},
   "source": [
    "Add flags for whether expanded income and `e00900` are negative, zero, or positive. "
   ]
  },
  {
   "cell_type": "code",
   "execution_count": 10,
   "metadata": {
    "collapsed": true
   },
   "outputs": [],
   "source": [
    "df['expanded_income_sign'] = np.where(df['expanded_income'] < 0, 'Negative', \n",
    "                                      np.where(df['expanded_income'] > 0, 'Positive', 'Zero'))\n",
    "df['e00900_sign'] = np.where(df['e00900'] < 0, 'Negative', \n",
    "                             np.where(df['e00900'] > 0, 'Positive', 'Zero'))\n",
    "df['aftertax_income_sign'] = np.where(df['aftertax_income'] < 0, 'Negative', \n",
    "                                      np.where(df['aftertax_income'] > 0, 'Positive', 'Zero'))"
   ]
  },
  {
   "cell_type": "markdown",
   "metadata": {},
   "source": [
    "## Analysis"
   ]
  },
  {
   "cell_type": "markdown",
   "metadata": {},
   "source": [
    "### Examination"
   ]
  },
  {
   "cell_type": "code",
   "execution_count": 11,
   "metadata": {},
   "outputs": [
    {
     "data": {
      "text/html": [
       "<div>\n",
       "<style scoped>\n",
       "    .dataframe tbody tr th:only-of-type {\n",
       "        vertical-align: middle;\n",
       "    }\n",
       "\n",
       "    .dataframe tbody tr th {\n",
       "        vertical-align: top;\n",
       "    }\n",
       "\n",
       "    .dataframe thead th {\n",
       "        text-align: right;\n",
       "    }\n",
       "</style>\n",
       "<table border=\"1\" class=\"dataframe\">\n",
       "  <thead>\n",
       "    <tr style=\"text-align: right;\">\n",
       "      <th></th>\n",
       "      <th>s006</th>\n",
       "      <th>expanded_income</th>\n",
       "      <th>aftertax_income</th>\n",
       "      <th>e00900</th>\n",
       "      <th>c00100</th>\n",
       "      <th>weight</th>\n",
       "      <th>expanded_income_percentile</th>\n",
       "      <th>expanded_income_s006_cumsum</th>\n",
       "      <th>aftertax_income_percentile</th>\n",
       "      <th>e00900_percentile</th>\n",
       "      <th>expanded_income_sign</th>\n",
       "      <th>e00900_sign</th>\n",
       "      <th>aftertax_income_sign</th>\n",
       "    </tr>\n",
       "  </thead>\n",
       "  <tbody>\n",
       "    <tr>\n",
       "      <th>74827</th>\n",
       "      <td>5.480889</td>\n",
       "      <td>6.184868e+07</td>\n",
       "      <td>3.551183e+07</td>\n",
       "      <td>-4.375737e+06</td>\n",
       "      <td>6.182728e+07</td>\n",
       "      <td>0.000003</td>\n",
       "      <td>99.999981</td>\n",
       "      <td>1.631957e+08</td>\n",
       "      <td>99.999981</td>\n",
       "      <td>0.000003</td>\n",
       "      <td>Positive</td>\n",
       "      <td>Negative</td>\n",
       "      <td>Positive</td>\n",
       "    </tr>\n",
       "    <tr>\n",
       "      <th>37355</th>\n",
       "      <td>58.108222</td>\n",
       "      <td>-3.184715e+06</td>\n",
       "      <td>-3.196435e+06</td>\n",
       "      <td>-3.734775e+06</td>\n",
       "      <td>-3.368172e+06</td>\n",
       "      <td>0.000036</td>\n",
       "      <td>0.000036</td>\n",
       "      <td>5.810822e+01</td>\n",
       "      <td>0.000036</td>\n",
       "      <td>0.000039</td>\n",
       "      <td>Negative</td>\n",
       "      <td>Negative</td>\n",
       "      <td>Negative</td>\n",
       "    </tr>\n",
       "    <tr>\n",
       "      <th>394742</th>\n",
       "      <td>479.483333</td>\n",
       "      <td>-8.336610e+05</td>\n",
       "      <td>-8.339394e+05</td>\n",
       "      <td>-8.417563e+05</td>\n",
       "      <td>-8.345421e+05</td>\n",
       "      <td>0.000294</td>\n",
       "      <td>0.000329</td>\n",
       "      <td>5.375916e+02</td>\n",
       "      <td>0.000329</td>\n",
       "      <td>0.000333</td>\n",
       "      <td>Negative</td>\n",
       "      <td>Negative</td>\n",
       "      <td>Negative</td>\n",
       "    </tr>\n",
       "    <tr>\n",
       "      <th>306673</th>\n",
       "      <td>383.603333</td>\n",
       "      <td>-7.121966e+05</td>\n",
       "      <td>-7.142727e+05</td>\n",
       "      <td>-7.268042e+05</td>\n",
       "      <td>-7.132347e+05</td>\n",
       "      <td>0.000235</td>\n",
       "      <td>0.001277</td>\n",
       "      <td>2.083228e+03</td>\n",
       "      <td>0.001277</td>\n",
       "      <td>0.000568</td>\n",
       "      <td>Negative</td>\n",
       "      <td>Negative</td>\n",
       "      <td>Negative</td>\n",
       "    </tr>\n",
       "    <tr>\n",
       "      <th>29539</th>\n",
       "      <td>1162.033333</td>\n",
       "      <td>-7.204076e+05</td>\n",
       "      <td>-7.204076e+05</td>\n",
       "      <td>-7.204076e+05</td>\n",
       "      <td>-7.204076e+05</td>\n",
       "      <td>0.000712</td>\n",
       "      <td>0.001041</td>\n",
       "      <td>1.699625e+03</td>\n",
       "      <td>0.001041</td>\n",
       "      <td>0.001280</td>\n",
       "      <td>Negative</td>\n",
       "      <td>Negative</td>\n",
       "      <td>Negative</td>\n",
       "    </tr>\n",
       "  </tbody>\n",
       "</table>\n",
       "</div>"
      ],
      "text/plain": [
       "               s006  expanded_income  aftertax_income        e00900  \\\n",
       "74827      5.480889     6.184868e+07     3.551183e+07 -4.375737e+06   \n",
       "37355     58.108222    -3.184715e+06    -3.196435e+06 -3.734775e+06   \n",
       "394742   479.483333    -8.336610e+05    -8.339394e+05 -8.417563e+05   \n",
       "306673   383.603333    -7.121966e+05    -7.142727e+05 -7.268042e+05   \n",
       "29539   1162.033333    -7.204076e+05    -7.204076e+05 -7.204076e+05   \n",
       "\n",
       "              c00100    weight  expanded_income_percentile  \\\n",
       "74827   6.182728e+07  0.000003                   99.999981   \n",
       "37355  -3.368172e+06  0.000036                    0.000036   \n",
       "394742 -8.345421e+05  0.000294                    0.000329   \n",
       "306673 -7.132347e+05  0.000235                    0.001277   \n",
       "29539  -7.204076e+05  0.000712                    0.001041   \n",
       "\n",
       "        expanded_income_s006_cumsum  aftertax_income_percentile  \\\n",
       "74827                  1.631957e+08                   99.999981   \n",
       "37355                  5.810822e+01                    0.000036   \n",
       "394742                 5.375916e+02                    0.000329   \n",
       "306673                 2.083228e+03                    0.001277   \n",
       "29539                  1.699625e+03                    0.001041   \n",
       "\n",
       "        e00900_percentile expanded_income_sign e00900_sign  \\\n",
       "74827            0.000003             Positive    Negative   \n",
       "37355            0.000039             Negative    Negative   \n",
       "394742           0.000333             Negative    Negative   \n",
       "306673           0.000568             Negative    Negative   \n",
       "29539            0.001280             Negative    Negative   \n",
       "\n",
       "       aftertax_income_sign  \n",
       "74827              Positive  \n",
       "37355              Negative  \n",
       "394742             Negative  \n",
       "306673             Negative  \n",
       "29539              Negative  "
      ]
     },
     "execution_count": 11,
     "metadata": {},
     "output_type": "execute_result"
    }
   ],
   "source": [
    "df.head()"
   ]
  },
  {
   "cell_type": "markdown",
   "metadata": {},
   "source": [
    "Examine record with most negative expanded income."
   ]
  },
  {
   "cell_type": "code",
   "execution_count": 12,
   "metadata": {},
   "outputs": [
    {
     "data": {
      "text/html": [
       "<div>\n",
       "<style scoped>\n",
       "    .dataframe tbody tr th:only-of-type {\n",
       "        vertical-align: middle;\n",
       "    }\n",
       "\n",
       "    .dataframe tbody tr th {\n",
       "        vertical-align: top;\n",
       "    }\n",
       "\n",
       "    .dataframe thead th {\n",
       "        text-align: right;\n",
       "    }\n",
       "</style>\n",
       "<table border=\"1\" class=\"dataframe\">\n",
       "  <thead>\n",
       "    <tr style=\"text-align: right;\">\n",
       "      <th></th>\n",
       "      <th>s006</th>\n",
       "      <th>expanded_income</th>\n",
       "      <th>aftertax_income</th>\n",
       "      <th>e00900</th>\n",
       "      <th>c00100</th>\n",
       "      <th>weight</th>\n",
       "      <th>expanded_income_percentile</th>\n",
       "      <th>expanded_income_s006_cumsum</th>\n",
       "      <th>aftertax_income_percentile</th>\n",
       "      <th>e00900_percentile</th>\n",
       "      <th>expanded_income_sign</th>\n",
       "      <th>e00900_sign</th>\n",
       "      <th>aftertax_income_sign</th>\n",
       "    </tr>\n",
       "  </thead>\n",
       "  <tbody>\n",
       "    <tr>\n",
       "      <th>37355</th>\n",
       "      <td>58.108222</td>\n",
       "      <td>-3.184715e+06</td>\n",
       "      <td>-3.196435e+06</td>\n",
       "      <td>-3.734775e+06</td>\n",
       "      <td>-3.368172e+06</td>\n",
       "      <td>0.000036</td>\n",
       "      <td>0.000036</td>\n",
       "      <td>58.108222</td>\n",
       "      <td>0.000036</td>\n",
       "      <td>0.000039</td>\n",
       "      <td>Negative</td>\n",
       "      <td>Negative</td>\n",
       "      <td>Negative</td>\n",
       "    </tr>\n",
       "  </tbody>\n",
       "</table>\n",
       "</div>"
      ],
      "text/plain": [
       "            s006  expanded_income  aftertax_income        e00900  \\\n",
       "37355  58.108222    -3.184715e+06    -3.196435e+06 -3.734775e+06   \n",
       "\n",
       "             c00100    weight  expanded_income_percentile  \\\n",
       "37355 -3.368172e+06  0.000036                    0.000036   \n",
       "\n",
       "       expanded_income_s006_cumsum  aftertax_income_percentile  \\\n",
       "37355                    58.108222                    0.000036   \n",
       "\n",
       "       e00900_percentile expanded_income_sign e00900_sign aftertax_income_sign  \n",
       "37355           0.000039             Negative    Negative             Negative  "
      ]
     },
     "execution_count": 12,
     "metadata": {},
     "output_type": "execute_result"
    }
   ],
   "source": [
    "df[df['expanded_income'] == df['expanded_income'].min()]"
   ]
  },
  {
   "cell_type": "markdown",
   "metadata": {},
   "source": [
    "### Zero expanded income"
   ]
  },
  {
   "cell_type": "markdown",
   "metadata": {},
   "source": [
    "> What fraction (using sample weights) of the bottom decile has zero expanded income?\n",
    "\n",
    "Per below pivot table, 3.78%, or 37.8% of the bottom decile."
   ]
  },
  {
   "cell_type": "code",
   "execution_count": 13,
   "metadata": {},
   "outputs": [
    {
     "data": {
      "text/html": [
       "<div>\n",
       "<style scoped>\n",
       "    .dataframe tbody tr th:only-of-type {\n",
       "        vertical-align: middle;\n",
       "    }\n",
       "\n",
       "    .dataframe tbody tr th {\n",
       "        vertical-align: top;\n",
       "    }\n",
       "\n",
       "    .dataframe thead th {\n",
       "        text-align: right;\n",
       "    }\n",
       "</style>\n",
       "<table border=\"1\" class=\"dataframe\">\n",
       "  <thead>\n",
       "    <tr style=\"text-align: right;\">\n",
       "      <th></th>\n",
       "      <th>weight</th>\n",
       "    </tr>\n",
       "    <tr>\n",
       "      <th>expanded_income_sign</th>\n",
       "      <th></th>\n",
       "    </tr>\n",
       "  </thead>\n",
       "  <tbody>\n",
       "    <tr>\n",
       "      <th>Negative</th>\n",
       "      <td>0.14</td>\n",
       "    </tr>\n",
       "    <tr>\n",
       "      <th>Positive</th>\n",
       "      <td>96.08</td>\n",
       "    </tr>\n",
       "    <tr>\n",
       "      <th>Zero</th>\n",
       "      <td>3.78</td>\n",
       "    </tr>\n",
       "    <tr>\n",
       "      <th>All</th>\n",
       "      <td>100.00</td>\n",
       "    </tr>\n",
       "  </tbody>\n",
       "</table>\n",
       "</div>"
      ],
      "text/plain": [
       "                      weight\n",
       "expanded_income_sign        \n",
       "Negative                0.14\n",
       "Positive               96.08\n",
       "Zero                    3.78\n",
       "All                   100.00"
      ]
     },
     "execution_count": 13,
     "metadata": {},
     "output_type": "execute_result"
    }
   ],
   "source": [
    "pd.pivot_table(df, values='weight', index=['expanded_income_sign'],\n",
    "               aggfunc=np.sum, margins=True).round(2)"
   ]
  },
  {
   "cell_type": "markdown",
   "metadata": {},
   "source": [
    "### Negative expanded income"
   ]
  },
  {
   "cell_type": "markdown",
   "metadata": {},
   "source": [
    "> What fraction of the bottom decile has negative expanded income?\n",
    "\n",
    "Per above pivot table, 0.14% of total tax units, or 1.4% of the bottom decile."
   ]
  },
  {
   "cell_type": "code",
   "execution_count": 14,
   "metadata": {
    "collapsed": true
   },
   "outputs": [],
   "source": [
    "neg_ei = df[df['expanded_income'] < 0].sort_values(by=['expanded_income'])"
   ]
  },
  {
   "cell_type": "markdown",
   "metadata": {},
   "source": [
    "Aggregate expanded income of tax units with negative expanded income."
   ]
  },
  {
   "cell_type": "code",
   "execution_count": 15,
   "metadata": {},
   "outputs": [
    {
     "name": "stdout",
     "output_type": "stream",
     "text": [
      "Tax units with negative expanded income have a total expanded income of -$23.8B\n",
      "This is an average of -$105745 per tax unit.\n"
     ]
    }
   ],
   "source": [
    "agg_neg_ei = (neg_ei['expanded_income'] * neg_ei['s006']).sum()\n",
    "neg_ei_per_unit = agg_neg_ei / neg_ei['s006'].sum()\n",
    "print 'Tax units with negative expanded income have a total expanded income of -${:.1f}B'.format(\n",
    "    -agg_neg_ei / 1e9)\n",
    "print 'This is an average of -${:.0f} per tax unit.'.format(-neg_ei_per_unit)"
   ]
  },
  {
   "cell_type": "markdown",
   "metadata": {},
   "source": [
    "CDF."
   ]
  },
  {
   "cell_type": "code",
   "execution_count": 16,
   "metadata": {},
   "outputs": [
    {
     "data": {
      "image/png": "[encoded data removed]",
      "text/plain": [
       "<matplotlib.figure.Figure at 0x7f506feeffd0>"
      ]
     },
     "metadata": {},
     "output_type": "display_data"
    }
   ],
   "source": [
    "f, ax = plt.subplots()\n",
    "\n",
    "line, = ax.plot(neg_ei['expanded_income'], neg_ei['expanded_income_s006_cumsum'])\n",
    "\n",
    "plt.xscale('symlog')\n",
    "\n",
    "ax.get_yaxis().set_major_formatter(plt.FuncFormatter(\n",
    "    lambda x, loc: \"{:,}\".format(int(x))))\n",
    "\n",
    "ax.set(xlabel='Expanded income', ylabel='Cumulative tax units', \n",
    "       title='Expanded income CDF of tax units with negative expanded income')\n",
    "\n",
    "plt.show()"
   ]
  },
  {
   "cell_type": "markdown",
   "metadata": {},
   "source": [
    "### Expanded income and `e00900`\n",
    "\n",
    "> Which input variables cause the negative expanded income for those people?\n"
   ]
  },
  {
   "cell_type": "code",
   "execution_count": 17,
   "metadata": {},
   "outputs": [
    {
     "data": {
      "text/html": [
       "<div>\n",
       "<style scoped>\n",
       "    .dataframe tbody tr th:only-of-type {\n",
       "        vertical-align: middle;\n",
       "    }\n",
       "\n",
       "    .dataframe tbody tr th {\n",
       "        vertical-align: top;\n",
       "    }\n",
       "\n",
       "    .dataframe thead th {\n",
       "        text-align: right;\n",
       "    }\n",
       "</style>\n",
       "<table border=\"1\" class=\"dataframe\">\n",
       "  <thead>\n",
       "    <tr style=\"text-align: right;\">\n",
       "      <th>e00900_sign</th>\n",
       "      <th>Negative</th>\n",
       "      <th>Positive</th>\n",
       "      <th>Zero</th>\n",
       "      <th>All</th>\n",
       "    </tr>\n",
       "    <tr>\n",
       "      <th>expanded_income_sign</th>\n",
       "      <th></th>\n",
       "      <th></th>\n",
       "      <th></th>\n",
       "      <th></th>\n",
       "    </tr>\n",
       "  </thead>\n",
       "  <tbody>\n",
       "    <tr>\n",
       "      <th>Negative</th>\n",
       "      <td>0.06</td>\n",
       "      <td>0.02</td>\n",
       "      <td>0.06</td>\n",
       "      <td>0.14</td>\n",
       "    </tr>\n",
       "    <tr>\n",
       "      <th>Positive</th>\n",
       "      <td>0.23</td>\n",
       "      <td>6.42</td>\n",
       "      <td>89.43</td>\n",
       "      <td>96.08</td>\n",
       "    </tr>\n",
       "    <tr>\n",
       "      <th>Zero</th>\n",
       "      <td>0.00</td>\n",
       "      <td>0.00</td>\n",
       "      <td>3.78</td>\n",
       "      <td>3.78</td>\n",
       "    </tr>\n",
       "    <tr>\n",
       "      <th>All</th>\n",
       "      <td>0.29</td>\n",
       "      <td>6.44</td>\n",
       "      <td>93.27</td>\n",
       "      <td>100.00</td>\n",
       "    </tr>\n",
       "  </tbody>\n",
       "</table>\n",
       "</div>"
      ],
      "text/plain": [
       "e00900_sign           Negative  Positive   Zero     All\n",
       "expanded_income_sign                                   \n",
       "Negative                  0.06      0.02   0.06    0.14\n",
       "Positive                  0.23      6.42  89.43   96.08\n",
       "Zero                      0.00      0.00   3.78    3.78\n",
       "All                       0.29      6.44  93.27  100.00"
      ]
     },
     "execution_count": 17,
     "metadata": {},
     "output_type": "execute_result"
    }
   ],
   "source": [
    "pd.pivot_table(df, values='weight', index=['expanded_income_sign'],\n",
    "               columns=['e00900_sign'], aggfunc=np.sum, margins=True,\n",
    "               fill_value=0).round(2)"
   ]
  },
  {
   "cell_type": "markdown",
   "metadata": {},
   "source": [
    "Share of negative expanded income group with negative Schedule C."
   ]
  },
  {
   "cell_type": "code",
   "execution_count": 18,
   "metadata": {},
   "outputs": [
    {
     "name": "stdout",
     "output_type": "stream",
     "text": [
      "41% of tax units with negative expanded income filed a Schedule C loss.\n"
     ]
    }
   ],
   "source": [
    "print '{:.0f}% of tax units with negative expanded income filed a Schedule C loss.'.format(\n",
    "    100 * neg_ei[neg_ei['e00900'] < 0]['s006'].sum() / neg_ei['s006'].sum())"
   ]
  },
  {
   "cell_type": "markdown",
   "metadata": {},
   "source": [
    "Share of negative expanded income group with positive Schedule C."
   ]
  },
  {
   "cell_type": "code",
   "execution_count": 19,
   "metadata": {},
   "outputs": [
    {
     "name": "stdout",
     "output_type": "stream",
     "text": [
      "18% of tax units with negative expanded income filed a Schedule C gain.\n"
     ]
    }
   ],
   "source": [
    "print '{:.0f}% of tax units with negative expanded income filed a Schedule C gain.'.format(\n",
    "    100 * neg_ei[neg_ei['e00900'] > 0]['s006'].sum() / neg_ei['s006'].sum())"
   ]
  },
  {
   "cell_type": "markdown",
   "metadata": {},
   "source": [
    "> What would this subgroup's aggregate expanded income be if one or more of the negative income variables were set to zero?\n",
    "\n",
    "Share of negative expanded income total from Schedule C losses."
   ]
  },
  {
   "cell_type": "code",
   "execution_count": 20,
   "metadata": {},
   "outputs": [
    {
     "name": "stdout",
     "output_type": "stream",
     "text": [
      "0.15% of the negative expanded income total is from Schedule C losses.\n"
     ]
    }
   ],
   "source": [
    "print '{:.2f}% of the negative expanded income total is from Schedule C losses.'.format(\n",
    "    100 * neg_ei[neg_ei['e00900'] < 0]['e00900'].sum() / agg_neg_ei)"
   ]
  },
  {
   "cell_type": "markdown",
   "metadata": {},
   "source": [
    "Total Schedule C gains from tax units with negative expanded income."
   ]
  },
  {
   "cell_type": "code",
   "execution_count": 21,
   "metadata": {},
   "outputs": [
    {
     "name": "stdout",
     "output_type": "stream",
     "text": [
      "Tax units with negative expanded income and Schedule C gains have anaggregate Schedule C gain of $7.8M.\n"
     ]
    }
   ],
   "source": [
    "print ('Tax units with negative expanded income and Schedule C gains have an' +\n",
    "       'aggregate Schedule C gain of ${:.1f}M.'.format(\n",
    "           neg_ei[neg_ei['e00900'] > 0]['e00900'].sum() / 1e6))"
   ]
  },
  {
   "cell_type": "markdown",
   "metadata": {},
   "source": [
    "### Bottom decile with positive expanded income\n",
    "\n",
    "> What fraction of the bottom decile has positive expanded income?\n",
    "\n",
    "Per pivot table above, 63.6% of the bottom decile has positive expanded income."
   ]
  },
  {
   "cell_type": "markdown",
   "metadata": {},
   "source": [
    "> What is the aggregate expanded income of this subgroup?"
   ]
  },
  {
   "cell_type": "code",
   "execution_count": 22,
   "metadata": {},
   "outputs": [],
   "source": [
    "bd_pos_ei = df[(df['expanded_income'] > 0) & (df['expanded_income_percentile'] <= 10)]"
   ]
  },
  {
   "cell_type": "code",
   "execution_count": 23,
   "metadata": {},
   "outputs": [
    {
     "name": "stdout",
     "output_type": "stream",
     "text": [
      "Bottom-decile tax units with positive expanded income have a total expanded income of $21.0B\n",
      "This is an average of $2113 per tax unit.\n"
     ]
    }
   ],
   "source": [
    "agg_bd_pos_ei = (bd_pos_ei['expanded_income'] * bd_pos_ei['s006']).sum()\n",
    "bd_pos_ei_per_unit = agg_bd_pos_ei / bd_pos_ei['s006'].sum()\n",
    "print 'Bottom-decile tax units with positive expanded income have a total expanded income of ${:.1f}B'.format(\n",
    "    agg_bd_pos_ei / 1e9)\n",
    "print 'This is an average of ${:.0f} per tax unit.'.format(bd_pos_ei_per_unit)"
   ]
  }
 ],
 "metadata": {
  "kernelspec": {
   "display_name": "Python 2",
   "language": "python",
   "name": "python2"
  },
  "language_info": {
   "codemirror_mode": {
    "name": "ipython",
    "version": 2
   },
   "file_extension": ".py",
   "mimetype": "text/x-python",
   "name": "python",
   "nbconvert_exporter": "python",
   "pygments_lexer": "ipython2",
   "version": "2.7.14"
  }
 },
 "nbformat": 4,
 "nbformat_minor": 2
}
