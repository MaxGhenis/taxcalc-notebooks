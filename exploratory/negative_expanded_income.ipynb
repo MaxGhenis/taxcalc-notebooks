{
 "cells": [
  {
   "cell_type": "markdown",
   "metadata": {},
   "source": [
    "# Negative expanded income\n",
    "\n",
    "The bottom decile from both PUF and CPS have negative aggregate expanded income, as reported in [Tax-Calculator issue 1806](https://github.com/open-source-economics/Tax-Calculator/issues/1806). More information was requested in [taxdata issue 143](https://github.com/open-source-economics/taxdata/issues/143), in which codykallen@ said:\n",
    "\n",
    "> Based on a quick tabulation for 2017, there are 5066 filing units with negative expanded income, corresponding to 1.53 million tax filers. Of these 5066 units with negative expanded income, 1943 have a capital loss (`c23650` < 0), 1591 have a Schedule C (sole proprietorship) loss (`e00900` < 0), and 3507 have a Schedule E (partnership, S corporation, and passive business) loss (`e02000` < 0).\n",
    "\n",
    "This notebook reproduces those results to the extent possible using CPS data (which lacks `c23650` and `e02000`), and performs other analysis requested there.\n",
    "\n",
    "Using `taxcalc` 0.16.1, this analysis includes total value of benefits programs.\n",
    "\n",
    "TL;DR: CPS losses are explained by 1.1% of the bottom decile, and Schedule C explains 0.15% of this loss.\n",
    "\n",
    "*Data: CPS  |  Tax year: 2018  |  Type: Static  |  Author: Max Ghenis  |  Date run: 2018-02-22*"
   ]
  },
  {
   "cell_type": "markdown",
   "metadata": {},
   "source": [
    "## Setup"
   ]
  },
  {
   "cell_type": "code",
   "execution_count": 1,
   "metadata": {
    "collapsed": true
   },
   "outputs": [],
   "source": [
    "import taxcalc as tc\n",
    "import pandas as pd\n",
    "import numpy as np\n",
    "import matplotlib as mpl\n",
    "import matplotlib.pyplot as plt\n",
    "import seaborn as sns"
   ]
  },
  {
   "cell_type": "code",
   "execution_count": 2,
   "metadata": {},
   "outputs": [
    {
     "data": {
      "text/plain": [
       "'0.16.1'"
      ]
     },
     "execution_count": 2,
     "metadata": {},
     "output_type": "execute_result"
    }
   ],
   "source": [
    "tc.__version__"
   ]
  },
  {
   "cell_type": "code",
   "execution_count": 3,
   "metadata": {
    "collapsed": true
   },
   "outputs": [],
   "source": [
    "sns.set_style('white')\n",
    "DPI = 300\n",
    "mpl.rc('savefig', dpi=DPI)\n",
    "mpl.rcParams['figure.dpi']= DPI"
   ]
  },
  {
   "cell_type": "code",
   "execution_count": 4,
   "metadata": {},
   "outputs": [
    {
     "name": "stdout",
     "output_type": "stream",
     "text": [
      "You loaded data for 2014.\n",
      "Tax-Calculator startup automatically extrapolated your data to 2014.\n"
     ]
    }
   ],
   "source": [
    "recs = tc.Records.cps_constructor()\n",
    "calc = tc.Calculator(records=recs, policy=tc.Policy())\n",
    "calc.advance_to_year(2018)\n",
    "calc.calc_all()"
   ]
  },
  {
   "cell_type": "markdown",
   "metadata": {},
   "source": [
    "Create `DataFrame` of the items desired."
   ]
  },
  {
   "cell_type": "markdown",
   "metadata": {},
   "source": [
    "Which relevant columns are available? Totals, but really just care about != 0."
   ]
  },
  {
   "cell_type": "code",
   "execution_count": 5,
   "metadata": {},
   "outputs": [
    {
     "data": {
      "text/html": [
       "<div>\n",
       "<style scoped>\n",
       "    .dataframe tbody tr th:only-of-type {\n",
       "        vertical-align: middle;\n",
       "    }\n",
       "\n",
       "    .dataframe tbody tr th {\n",
       "        vertical-align: top;\n",
       "    }\n",
       "\n",
       "    .dataframe thead th {\n",
       "        text-align: right;\n",
       "    }\n",
       "</style>\n",
       "<table border=\"1\" class=\"dataframe\">\n",
       "  <thead>\n",
       "    <tr style=\"text-align: right;\">\n",
       "      <th></th>\n",
       "      <th>s006</th>\n",
       "      <th>expanded_income</th>\n",
       "      <th>aftertax_income</th>\n",
       "      <th>e00900</th>\n",
       "      <th>c00100</th>\n",
       "      <th>c23650</th>\n",
       "      <th>e02000</th>\n",
       "    </tr>\n",
       "  </thead>\n",
       "  <tbody>\n",
       "    <tr>\n",
       "      <th>0</th>\n",
       "      <td>239.46</td>\n",
       "      <td>52280.201254</td>\n",
       "      <td>42287.547869</td>\n",
       "      <td>0.0</td>\n",
       "      <td>48553.933770</td>\n",
       "      <td>0.0</td>\n",
       "      <td>0.0</td>\n",
       "    </tr>\n",
       "    <tr>\n",
       "      <th>1</th>\n",
       "      <td>202.59</td>\n",
       "      <td>18176.438090</td>\n",
       "      <td>20461.070670</td>\n",
       "      <td>0.0</td>\n",
       "      <td>16884.754380</td>\n",
       "      <td>0.0</td>\n",
       "      <td>0.0</td>\n",
       "    </tr>\n",
       "    <tr>\n",
       "      <th>2</th>\n",
       "      <td>255.35</td>\n",
       "      <td>96222.033747</td>\n",
       "      <td>96222.033747</td>\n",
       "      <td>0.0</td>\n",
       "      <td>0.000000</td>\n",
       "      <td>0.0</td>\n",
       "      <td>0.0</td>\n",
       "    </tr>\n",
       "    <tr>\n",
       "      <th>3</th>\n",
       "      <td>178.36</td>\n",
       "      <td>26002.668632</td>\n",
       "      <td>26597.379609</td>\n",
       "      <td>0.0</td>\n",
       "      <td>23218.363232</td>\n",
       "      <td>0.0</td>\n",
       "      <td>0.0</td>\n",
       "    </tr>\n",
       "    <tr>\n",
       "      <th>4</th>\n",
       "      <td>270.80</td>\n",
       "      <td>41631.335096</td>\n",
       "      <td>41631.335096</td>\n",
       "      <td>0.0</td>\n",
       "      <td>1048.805429</td>\n",
       "      <td>0.0</td>\n",
       "      <td>0.0</td>\n",
       "    </tr>\n",
       "  </tbody>\n",
       "</table>\n",
       "</div>"
      ],
      "text/plain": [
       "     s006  expanded_income  aftertax_income  e00900        c00100  c23650  \\\n",
       "0  239.46     52280.201254     42287.547869     0.0  48553.933770     0.0   \n",
       "1  202.59     18176.438090     20461.070670     0.0  16884.754380     0.0   \n",
       "2  255.35     96222.033747     96222.033747     0.0      0.000000     0.0   \n",
       "3  178.36     26002.668632     26597.379609     0.0  23218.363232     0.0   \n",
       "4  270.80     41631.335096     41631.335096     0.0   1048.805429     0.0   \n",
       "\n",
       "   e02000  \n",
       "0     0.0  \n",
       "1     0.0  \n",
       "2     0.0  \n",
       "3     0.0  \n",
       "4     0.0  "
      ]
     },
     "execution_count": 5,
     "metadata": {},
     "output_type": "execute_result"
    }
   ],
   "source": [
    "df = calc.dataframe(['s006',  # Weight. \n",
    "                     'expanded_income', \n",
    "                     'aftertax_income', \n",
    "                     'e00900',  # Schedule C.\n",
    "                     'c00100',  # AGI.\n",
    "                     'c23650',  # Net capital gain.\n",
    "                     'e02000'  # Schedule E.\n",
    "                    ])\n",
    "df.head()"
   ]
  },
  {
   "cell_type": "code",
   "execution_count": 6,
   "metadata": {},
   "outputs": [
    {
     "name": "stdout",
     "output_type": "stream",
     "text": [
      "c23650 (net capital gain): 0\n",
      "e00900 (Schedule C): 370,955,911,428\n",
      "e02000 (Schedule E): 0\n"
     ]
    }
   ],
   "source": [
    "print 'c23650 (net capital gain): {:,.0f}'.format(\n",
    "    (df['c23650'] * df['s006']).sum())\n",
    "print 'e00900 (Schedule C): {:,.0f}'.format(\n",
    "    (df['e00900'] * df['s006']).sum())\n",
    "print 'e02000 (Schedule E): {:,.0f}'.format(\n",
    "    (df['e02000'] * df['s006']).sum())"
   ]
  },
  {
   "cell_type": "markdown",
   "metadata": {},
   "source": [
    "## Preprocessing"
   ]
  },
  {
   "cell_type": "markdown",
   "metadata": {},
   "source": [
    "Add weight normalized to sum to 100, to simplify percentile calculations."
   ]
  },
  {
   "cell_type": "code",
   "execution_count": 7,
   "metadata": {
    "collapsed": true
   },
   "outputs": [],
   "source": [
    "df['weight'] = 100 * df['s006'] / df['s006'].sum()"
   ]
  },
  {
   "cell_type": "markdown",
   "metadata": {},
   "source": [
    "Add percentiles of expanded income, after-tax income, and e00900 by sorting and summing `cumsum` of normalized weight."
   ]
  },
  {
   "cell_type": "code",
   "execution_count": 8,
   "metadata": {
    "collapsed": true
   },
   "outputs": [],
   "source": [
    "df.sort_values(by=['expanded_income'], inplace=True)\n",
    "df['expanded_income_percentile'] = df['weight'].cumsum()\n",
    "df['expanded_income_s006_cumsum'] = df['s006'].cumsum()"
   ]
  },
  {
   "cell_type": "code",
   "execution_count": 9,
   "metadata": {
    "collapsed": true
   },
   "outputs": [],
   "source": [
    "df.sort_values(by=['aftertax_income'], inplace=True)\n",
    "df['aftertax_income_percentile'] = df['weight'].cumsum()"
   ]
  },
  {
   "cell_type": "code",
   "execution_count": 10,
   "metadata": {
    "collapsed": true
   },
   "outputs": [],
   "source": [
    "df.sort_values(by=['e00900'], inplace=True)\n",
    "df['e00900_percentile'] = df['weight'].cumsum()"
   ]
  },
  {
   "cell_type": "markdown",
   "metadata": {},
   "source": [
    "Add flags for whether expanded income and `e00900` are negative, zero, or positive. "
   ]
  },
  {
   "cell_type": "code",
   "execution_count": 11,
   "metadata": {
    "collapsed": true
   },
   "outputs": [],
   "source": [
    "df['expanded_income_sign'] = np.where(df['expanded_income'] < 0, 'Negative', \n",
    "                                      np.where(df['expanded_income'] > 0, 'Positive', 'Zero'))\n",
    "df['e00900_sign'] = np.where(df['e00900'] < 0, 'Negative', \n",
    "                             np.where(df['e00900'] > 0, 'Positive', 'Zero'))\n",
    "df['aftertax_income_sign'] = np.where(df['aftertax_income'] < 0, 'Negative', \n",
    "                                      np.where(df['aftertax_income'] > 0, 'Positive', 'Zero'))"
   ]
  },
  {
   "cell_type": "markdown",
   "metadata": {},
   "source": [
    "## Analysis"
   ]
  },
  {
   "cell_type": "markdown",
   "metadata": {},
   "source": [
    "### Examination"
   ]
  },
  {
   "cell_type": "code",
   "execution_count": 12,
   "metadata": {},
   "outputs": [
    {
     "data": {
      "text/html": [
       "<div>\n",
       "<style scoped>\n",
       "    .dataframe tbody tr th:only-of-type {\n",
       "        vertical-align: middle;\n",
       "    }\n",
       "\n",
       "    .dataframe tbody tr th {\n",
       "        vertical-align: top;\n",
       "    }\n",
       "\n",
       "    .dataframe thead th {\n",
       "        text-align: right;\n",
       "    }\n",
       "</style>\n",
       "<table border=\"1\" class=\"dataframe\">\n",
       "  <thead>\n",
       "    <tr style=\"text-align: right;\">\n",
       "      <th></th>\n",
       "      <th>s006</th>\n",
       "      <th>expanded_income</th>\n",
       "      <th>aftertax_income</th>\n",
       "      <th>e00900</th>\n",
       "      <th>c00100</th>\n",
       "      <th>c23650</th>\n",
       "      <th>e02000</th>\n",
       "      <th>weight</th>\n",
       "      <th>expanded_income_percentile</th>\n",
       "      <th>expanded_income_s006_cumsum</th>\n",
       "      <th>aftertax_income_percentile</th>\n",
       "      <th>e00900_percentile</th>\n",
       "      <th>expanded_income_sign</th>\n",
       "      <th>e00900_sign</th>\n",
       "      <th>aftertax_income_sign</th>\n",
       "    </tr>\n",
       "  </thead>\n",
       "  <tbody>\n",
       "    <tr>\n",
       "      <th>74827</th>\n",
       "      <td>5.71</td>\n",
       "      <td>7.064071e+07</td>\n",
       "      <td>4.046607e+07</td>\n",
       "      <td>-4.887883e+06</td>\n",
       "      <td>7.500053e+07</td>\n",
       "      <td>0.0</td>\n",
       "      <td>0.0</td>\n",
       "      <td>0.000003</td>\n",
       "      <td>99.999981</td>\n",
       "      <td>1.698948e+08</td>\n",
       "      <td>99.999981</td>\n",
       "      <td>0.000003</td>\n",
       "      <td>Positive</td>\n",
       "      <td>Negative</td>\n",
       "      <td>Positive</td>\n",
       "    </tr>\n",
       "    <tr>\n",
       "      <th>37355</th>\n",
       "      <td>60.49</td>\n",
       "      <td>-3.542510e+06</td>\n",
       "      <td>-3.555567e+06</td>\n",
       "      <td>-4.171901e+06</td>\n",
       "      <td>1.226559e+05</td>\n",
       "      <td>0.0</td>\n",
       "      <td>0.0</td>\n",
       "      <td>0.000036</td>\n",
       "      <td>0.000036</td>\n",
       "      <td>6.049000e+01</td>\n",
       "      <td>0.000036</td>\n",
       "      <td>0.000039</td>\n",
       "      <td>Negative</td>\n",
       "      <td>Negative</td>\n",
       "      <td>Negative</td>\n",
       "    </tr>\n",
       "    <tr>\n",
       "      <th>394742</th>\n",
       "      <td>499.17</td>\n",
       "      <td>-9.311799e+05</td>\n",
       "      <td>-9.314900e+05</td>\n",
       "      <td>-9.402773e+05</td>\n",
       "      <td>-4.919089e+05</td>\n",
       "      <td>0.0</td>\n",
       "      <td>0.0</td>\n",
       "      <td>0.000294</td>\n",
       "      <td>0.000329</td>\n",
       "      <td>5.596600e+02</td>\n",
       "      <td>0.000329</td>\n",
       "      <td>0.000333</td>\n",
       "      <td>Negative</td>\n",
       "      <td>Negative</td>\n",
       "      <td>Negative</td>\n",
       "    </tr>\n",
       "    <tr>\n",
       "      <th>306673</th>\n",
       "      <td>399.35</td>\n",
       "      <td>-7.753810e+05</td>\n",
       "      <td>-7.776941e+05</td>\n",
       "      <td>-8.118710e+05</td>\n",
       "      <td>-4.848821e+05</td>\n",
       "      <td>0.0</td>\n",
       "      <td>0.0</td>\n",
       "      <td>0.000235</td>\n",
       "      <td>0.001557</td>\n",
       "      <td>2.645460e+03</td>\n",
       "      <td>0.001557</td>\n",
       "      <td>0.000568</td>\n",
       "      <td>Negative</td>\n",
       "      <td>Negative</td>\n",
       "      <td>Negative</td>\n",
       "    </tr>\n",
       "    <tr>\n",
       "      <th>29539</th>\n",
       "      <td>1209.73</td>\n",
       "      <td>-8.047257e+05</td>\n",
       "      <td>-8.047257e+05</td>\n",
       "      <td>-8.047257e+05</td>\n",
       "      <td>-5.000000e+05</td>\n",
       "      <td>0.0</td>\n",
       "      <td>0.0</td>\n",
       "      <td>0.000712</td>\n",
       "      <td>0.001041</td>\n",
       "      <td>1.769390e+03</td>\n",
       "      <td>0.001041</td>\n",
       "      <td>0.001280</td>\n",
       "      <td>Negative</td>\n",
       "      <td>Negative</td>\n",
       "      <td>Negative</td>\n",
       "    </tr>\n",
       "  </tbody>\n",
       "</table>\n",
       "</div>"
      ],
      "text/plain": [
       "           s006  expanded_income  aftertax_income        e00900        c00100  \\\n",
       "74827      5.71     7.064071e+07     4.046607e+07 -4.887883e+06  7.500053e+07   \n",
       "37355     60.49    -3.542510e+06    -3.555567e+06 -4.171901e+06  1.226559e+05   \n",
       "394742   499.17    -9.311799e+05    -9.314900e+05 -9.402773e+05 -4.919089e+05   \n",
       "306673   399.35    -7.753810e+05    -7.776941e+05 -8.118710e+05 -4.848821e+05   \n",
       "29539   1209.73    -8.047257e+05    -8.047257e+05 -8.047257e+05 -5.000000e+05   \n",
       "\n",
       "        c23650  e02000    weight  expanded_income_percentile  \\\n",
       "74827      0.0     0.0  0.000003                   99.999981   \n",
       "37355      0.0     0.0  0.000036                    0.000036   \n",
       "394742     0.0     0.0  0.000294                    0.000329   \n",
       "306673     0.0     0.0  0.000235                    0.001557   \n",
       "29539      0.0     0.0  0.000712                    0.001041   \n",
       "\n",
       "        expanded_income_s006_cumsum  aftertax_income_percentile  \\\n",
       "74827                  1.698948e+08                   99.999981   \n",
       "37355                  6.049000e+01                    0.000036   \n",
       "394742                 5.596600e+02                    0.000329   \n",
       "306673                 2.645460e+03                    0.001557   \n",
       "29539                  1.769390e+03                    0.001041   \n",
       "\n",
       "        e00900_percentile expanded_income_sign e00900_sign  \\\n",
       "74827            0.000003             Positive    Negative   \n",
       "37355            0.000039             Negative    Negative   \n",
       "394742           0.000333             Negative    Negative   \n",
       "306673           0.000568             Negative    Negative   \n",
       "29539            0.001280             Negative    Negative   \n",
       "\n",
       "       aftertax_income_sign  \n",
       "74827              Positive  \n",
       "37355              Negative  \n",
       "394742             Negative  \n",
       "306673             Negative  \n",
       "29539              Negative  "
      ]
     },
     "execution_count": 12,
     "metadata": {},
     "output_type": "execute_result"
    }
   ],
   "source": [
    "df.head()"
   ]
  },
  {
   "cell_type": "markdown",
   "metadata": {},
   "source": [
    "Examine record with most negative expanded income."
   ]
  },
  {
   "cell_type": "code",
   "execution_count": 13,
   "metadata": {},
   "outputs": [
    {
     "data": {
      "text/html": [
       "<div>\n",
       "<style scoped>\n",
       "    .dataframe tbody tr th:only-of-type {\n",
       "        vertical-align: middle;\n",
       "    }\n",
       "\n",
       "    .dataframe tbody tr th {\n",
       "        vertical-align: top;\n",
       "    }\n",
       "\n",
       "    .dataframe thead th {\n",
       "        text-align: right;\n",
       "    }\n",
       "</style>\n",
       "<table border=\"1\" class=\"dataframe\">\n",
       "  <thead>\n",
       "    <tr style=\"text-align: right;\">\n",
       "      <th></th>\n",
       "      <th>s006</th>\n",
       "      <th>expanded_income</th>\n",
       "      <th>aftertax_income</th>\n",
       "      <th>e00900</th>\n",
       "      <th>c00100</th>\n",
       "      <th>c23650</th>\n",
       "      <th>e02000</th>\n",
       "      <th>weight</th>\n",
       "      <th>expanded_income_percentile</th>\n",
       "      <th>expanded_income_s006_cumsum</th>\n",
       "      <th>aftertax_income_percentile</th>\n",
       "      <th>e00900_percentile</th>\n",
       "      <th>expanded_income_sign</th>\n",
       "      <th>e00900_sign</th>\n",
       "      <th>aftertax_income_sign</th>\n",
       "    </tr>\n",
       "  </thead>\n",
       "  <tbody>\n",
       "    <tr>\n",
       "      <th>37355</th>\n",
       "      <td>60.49</td>\n",
       "      <td>-3.542510e+06</td>\n",
       "      <td>-3.555567e+06</td>\n",
       "      <td>-4.171901e+06</td>\n",
       "      <td>122655.929946</td>\n",
       "      <td>0.0</td>\n",
       "      <td>0.0</td>\n",
       "      <td>0.000036</td>\n",
       "      <td>0.000036</td>\n",
       "      <td>60.49</td>\n",
       "      <td>0.000036</td>\n",
       "      <td>0.000039</td>\n",
       "      <td>Negative</td>\n",
       "      <td>Negative</td>\n",
       "      <td>Negative</td>\n",
       "    </tr>\n",
       "  </tbody>\n",
       "</table>\n",
       "</div>"
      ],
      "text/plain": [
       "        s006  expanded_income  aftertax_income        e00900         c00100  \\\n",
       "37355  60.49    -3.542510e+06    -3.555567e+06 -4.171901e+06  122655.929946   \n",
       "\n",
       "       c23650  e02000    weight  expanded_income_percentile  \\\n",
       "37355     0.0     0.0  0.000036                    0.000036   \n",
       "\n",
       "       expanded_income_s006_cumsum  aftertax_income_percentile  \\\n",
       "37355                        60.49                    0.000036   \n",
       "\n",
       "       e00900_percentile expanded_income_sign e00900_sign aftertax_income_sign  \n",
       "37355           0.000039             Negative    Negative             Negative  "
      ]
     },
     "execution_count": 13,
     "metadata": {},
     "output_type": "execute_result"
    }
   ],
   "source": [
    "df[df['expanded_income'] == df['expanded_income'].min()]"
   ]
  },
  {
   "cell_type": "markdown",
   "metadata": {},
   "source": [
    "### Negative expanded vs after-tax income"
   ]
  },
  {
   "cell_type": "code",
   "execution_count": 14,
   "metadata": {
    "collapsed": true
   },
   "outputs": [],
   "source": [
    "df['expanded_income_b'] = df['s006'] * df['expanded_income'] / 1e9\n",
    "df['aftertax_income_b'] = df['s006'] * df['aftertax_income'] / 1e9"
   ]
  },
  {
   "cell_type": "code",
   "execution_count": 15,
   "metadata": {},
   "outputs": [
    {
     "data": {
      "text/html": [
       "<div>\n",
       "<style scoped>\n",
       "    .dataframe tbody tr th:only-of-type {\n",
       "        vertical-align: middle;\n",
       "    }\n",
       "\n",
       "    .dataframe tbody tr th {\n",
       "        vertical-align: top;\n",
       "    }\n",
       "\n",
       "    .dataframe thead tr th {\n",
       "        text-align: left;\n",
       "    }\n",
       "\n",
       "    .dataframe thead tr:last-of-type th {\n",
       "        text-align: right;\n",
       "    }\n",
       "</style>\n",
       "<table border=\"1\" class=\"dataframe\">\n",
       "  <thead>\n",
       "    <tr>\n",
       "      <th></th>\n",
       "      <th colspan=\"4\" halign=\"left\">aftertax_income_b</th>\n",
       "      <th colspan=\"4\" halign=\"left\">expanded_income_b</th>\n",
       "      <th colspan=\"4\" halign=\"left\">weight</th>\n",
       "    </tr>\n",
       "    <tr>\n",
       "      <th>aftertax_income_sign</th>\n",
       "      <th>Negative</th>\n",
       "      <th>Positive</th>\n",
       "      <th>Zero</th>\n",
       "      <th>All</th>\n",
       "      <th>Negative</th>\n",
       "      <th>Positive</th>\n",
       "      <th>Zero</th>\n",
       "      <th>All</th>\n",
       "      <th>Negative</th>\n",
       "      <th>Positive</th>\n",
       "      <th>Zero</th>\n",
       "      <th>All</th>\n",
       "    </tr>\n",
       "    <tr>\n",
       "      <th>expanded_income_sign</th>\n",
       "      <th></th>\n",
       "      <th></th>\n",
       "      <th></th>\n",
       "      <th></th>\n",
       "      <th></th>\n",
       "      <th></th>\n",
       "      <th></th>\n",
       "      <th></th>\n",
       "      <th></th>\n",
       "      <th></th>\n",
       "      <th></th>\n",
       "      <th></th>\n",
       "    </tr>\n",
       "  </thead>\n",
       "  <tbody>\n",
       "    <tr>\n",
       "      <th>Negative</th>\n",
       "      <td>-26.440</td>\n",
       "      <td>0.005</td>\n",
       "      <td>NaN</td>\n",
       "      <td>-26.435</td>\n",
       "      <td>-26.078</td>\n",
       "      <td>-0.003</td>\n",
       "      <td>NaN</td>\n",
       "      <td>-26.081</td>\n",
       "      <td>0.109</td>\n",
       "      <td>0.001</td>\n",
       "      <td>NaN</td>\n",
       "      <td>0.110</td>\n",
       "    </tr>\n",
       "    <tr>\n",
       "      <th>Positive</th>\n",
       "      <td>-0.045</td>\n",
       "      <td>10976.551</td>\n",
       "      <td>NaN</td>\n",
       "      <td>10976.506</td>\n",
       "      <td>0.042</td>\n",
       "      <td>13213.236</td>\n",
       "      <td>NaN</td>\n",
       "      <td>13213.278</td>\n",
       "      <td>0.008</td>\n",
       "      <td>99.148</td>\n",
       "      <td>NaN</td>\n",
       "      <td>99.156</td>\n",
       "    </tr>\n",
       "    <tr>\n",
       "      <th>Zero</th>\n",
       "      <td>NaN</td>\n",
       "      <td>NaN</td>\n",
       "      <td>0.0</td>\n",
       "      <td>0.000</td>\n",
       "      <td>NaN</td>\n",
       "      <td>NaN</td>\n",
       "      <td>0.0</td>\n",
       "      <td>0.000</td>\n",
       "      <td>NaN</td>\n",
       "      <td>NaN</td>\n",
       "      <td>0.734</td>\n",
       "      <td>0.734</td>\n",
       "    </tr>\n",
       "    <tr>\n",
       "      <th>All</th>\n",
       "      <td>-26.485</td>\n",
       "      <td>10976.556</td>\n",
       "      <td>0.0</td>\n",
       "      <td>10950.071</td>\n",
       "      <td>-26.036</td>\n",
       "      <td>13213.233</td>\n",
       "      <td>0.0</td>\n",
       "      <td>13187.197</td>\n",
       "      <td>0.116</td>\n",
       "      <td>99.149</td>\n",
       "      <td>0.734</td>\n",
       "      <td>100.000</td>\n",
       "    </tr>\n",
       "  </tbody>\n",
       "</table>\n",
       "</div>"
      ],
      "text/plain": [
       "                     aftertax_income_b                             \\\n",
       "aftertax_income_sign          Negative   Positive Zero        All   \n",
       "expanded_income_sign                                                \n",
       "Negative                       -26.440      0.005  NaN    -26.435   \n",
       "Positive                        -0.045  10976.551  NaN  10976.506   \n",
       "Zero                               NaN        NaN  0.0      0.000   \n",
       "All                            -26.485  10976.556  0.0  10950.071   \n",
       "\n",
       "                     expanded_income_b                              weight  \\\n",
       "aftertax_income_sign          Negative   Positive Zero        All Negative   \n",
       "expanded_income_sign                                                         \n",
       "Negative                       -26.078     -0.003  NaN    -26.081    0.109   \n",
       "Positive                         0.042  13213.236  NaN  13213.278    0.008   \n",
       "Zero                               NaN        NaN  0.0      0.000      NaN   \n",
       "All                            -26.036  13213.233  0.0  13187.197    0.116   \n",
       "\n",
       "                                               \n",
       "aftertax_income_sign Positive   Zero      All  \n",
       "expanded_income_sign                           \n",
       "Negative                0.001    NaN    0.110  \n",
       "Positive               99.148    NaN   99.156  \n",
       "Zero                      NaN  0.734    0.734  \n",
       "All                    99.149  0.734  100.000  "
      ]
     },
     "execution_count": 15,
     "metadata": {},
     "output_type": "execute_result"
    }
   ],
   "source": [
    "pd.pivot_table(df, values=['weight', 'expanded_income_b', 'aftertax_income_b'], \n",
    "               index=['expanded_income_sign'],\n",
    "               columns='aftertax_income_sign',\n",
    "               aggfunc=np.sum, margins=True).round(3)"
   ]
  },
  {
   "cell_type": "markdown",
   "metadata": {},
   "source": [
    "### Zero expanded income"
   ]
  },
  {
   "cell_type": "markdown",
   "metadata": {},
   "source": [
    "> What fraction (using sample weights) of the bottom decile has zero expanded income?\n",
    "\n",
    "Per below pivot table, 0.75%, or 7.5% of the bottom decile."
   ]
  },
  {
   "cell_type": "code",
   "execution_count": 16,
   "metadata": {},
   "outputs": [
    {
     "data": {
      "text/html": [
       "<div>\n",
       "<style scoped>\n",
       "    .dataframe tbody tr th:only-of-type {\n",
       "        vertical-align: middle;\n",
       "    }\n",
       "\n",
       "    .dataframe tbody tr th {\n",
       "        vertical-align: top;\n",
       "    }\n",
       "\n",
       "    .dataframe thead th {\n",
       "        text-align: right;\n",
       "    }\n",
       "</style>\n",
       "<table border=\"1\" class=\"dataframe\">\n",
       "  <thead>\n",
       "    <tr style=\"text-align: right;\">\n",
       "      <th></th>\n",
       "      <th>weight</th>\n",
       "    </tr>\n",
       "    <tr>\n",
       "      <th>expanded_income_sign</th>\n",
       "      <th></th>\n",
       "    </tr>\n",
       "  </thead>\n",
       "  <tbody>\n",
       "    <tr>\n",
       "      <th>Negative</th>\n",
       "      <td>0.11</td>\n",
       "    </tr>\n",
       "    <tr>\n",
       "      <th>Positive</th>\n",
       "      <td>99.16</td>\n",
       "    </tr>\n",
       "    <tr>\n",
       "      <th>Zero</th>\n",
       "      <td>0.73</td>\n",
       "    </tr>\n",
       "    <tr>\n",
       "      <th>All</th>\n",
       "      <td>100.00</td>\n",
       "    </tr>\n",
       "  </tbody>\n",
       "</table>\n",
       "</div>"
      ],
      "text/plain": [
       "                      weight\n",
       "expanded_income_sign        \n",
       "Negative                0.11\n",
       "Positive               99.16\n",
       "Zero                    0.73\n",
       "All                   100.00"
      ]
     },
     "execution_count": 16,
     "metadata": {},
     "output_type": "execute_result"
    }
   ],
   "source": [
    "pd.pivot_table(df, values='weight', index=['expanded_income_sign'],\n",
    "               aggfunc=np.sum, margins=True).round(2)"
   ]
  },
  {
   "cell_type": "markdown",
   "metadata": {},
   "source": [
    "### Negative expanded income"
   ]
  },
  {
   "cell_type": "markdown",
   "metadata": {},
   "source": [
    "> What fraction of the bottom decile has negative expanded income?\n",
    "\n",
    "Per above pivot table, 0.11% of total tax units, or 1.1% of the bottom decile."
   ]
  },
  {
   "cell_type": "code",
   "execution_count": 17,
   "metadata": {
    "collapsed": true
   },
   "outputs": [],
   "source": [
    "neg_ei = df[df['expanded_income'] < 0].sort_values(by=['expanded_income'])"
   ]
  },
  {
   "cell_type": "markdown",
   "metadata": {},
   "source": [
    "Aggregate expanded income of tax units with negative expanded income."
   ]
  },
  {
   "cell_type": "code",
   "execution_count": 18,
   "metadata": {},
   "outputs": [
    {
     "name": "stdout",
     "output_type": "stream",
     "text": [
      "Tax units with negative expanded income have a total expanded income of -$26.1B\n",
      "This is an average of -$139,515 per tax unit.\n"
     ]
    }
   ],
   "source": [
    "agg_neg_ei = (neg_ei['expanded_income'] * neg_ei['s006']).sum()\n",
    "neg_ei_per_unit = agg_neg_ei / neg_ei['s006'].sum()\n",
    "print 'Tax units with negative expanded income have a total expanded income of -${:.1f}B'.format(\n",
    "    -agg_neg_ei / 1e9)\n",
    "print 'This is an average of -${:,.0f} per tax unit.'.format(-neg_ei_per_unit)"
   ]
  },
  {
   "cell_type": "markdown",
   "metadata": {},
   "source": [
    "CDF."
   ]
  },
  {
   "cell_type": "code",
   "execution_count": 19,
   "metadata": {
    "scrolled": true
   },
   "outputs": [
    {
     "data": {
      "image/png": "[encoded data removed]",
      "text/plain": [
       "<matplotlib.figure.Figure at 0x7f9a4538c1d0>"
      ]
     },
     "metadata": {},
     "output_type": "display_data"
    }
   ],
   "source": [
    "f, ax = plt.subplots()\n",
    "\n",
    "line, = ax.plot(neg_ei['expanded_income'], neg_ei['expanded_income_s006_cumsum'])\n",
    "\n",
    "plt.xscale('symlog')\n",
    "\n",
    "ax.get_yaxis().set_major_formatter(plt.FuncFormatter(\n",
    "    lambda x, loc: \"{:,}\".format(int(x))))\n",
    "\n",
    "ax.get_xaxis().set_major_formatter(plt.FuncFormatter(\n",
    "    lambda x, loc: \"{:,}\".format(int(x))))\n",
    "\n",
    "ax.set(xlabel='Expanded income ($, log scale)', ylabel='Cumulative tax units', \n",
    "       title='Expanded income CDF of tax units with negative expanded income')\n",
    "\n",
    "plt.show()"
   ]
  },
  {
   "cell_type": "markdown",
   "metadata": {},
   "source": [
    "### Expanded income and `e00900`\n",
    "\n",
    "> Which input variables cause the negative expanded income for those people?\n"
   ]
  },
  {
   "cell_type": "code",
   "execution_count": 20,
   "metadata": {},
   "outputs": [
    {
     "data": {
      "text/html": [
       "<div>\n",
       "<style scoped>\n",
       "    .dataframe tbody tr th:only-of-type {\n",
       "        vertical-align: middle;\n",
       "    }\n",
       "\n",
       "    .dataframe tbody tr th {\n",
       "        vertical-align: top;\n",
       "    }\n",
       "\n",
       "    .dataframe thead th {\n",
       "        text-align: right;\n",
       "    }\n",
       "</style>\n",
       "<table border=\"1\" class=\"dataframe\">\n",
       "  <thead>\n",
       "    <tr style=\"text-align: right;\">\n",
       "      <th>e00900_sign</th>\n",
       "      <th>Negative</th>\n",
       "      <th>Positive</th>\n",
       "      <th>Zero</th>\n",
       "      <th>All</th>\n",
       "    </tr>\n",
       "    <tr>\n",
       "      <th>expanded_income_sign</th>\n",
       "      <th></th>\n",
       "      <th></th>\n",
       "      <th></th>\n",
       "      <th></th>\n",
       "    </tr>\n",
       "  </thead>\n",
       "  <tbody>\n",
       "    <tr>\n",
       "      <th>Negative</th>\n",
       "      <td>0.05</td>\n",
       "      <td>0.02</td>\n",
       "      <td>0.04</td>\n",
       "      <td>0.11</td>\n",
       "    </tr>\n",
       "    <tr>\n",
       "      <th>Positive</th>\n",
       "      <td>0.23</td>\n",
       "      <td>6.42</td>\n",
       "      <td>92.50</td>\n",
       "      <td>99.16</td>\n",
       "    </tr>\n",
       "    <tr>\n",
       "      <th>Zero</th>\n",
       "      <td>0.00</td>\n",
       "      <td>0.00</td>\n",
       "      <td>0.73</td>\n",
       "      <td>0.73</td>\n",
       "    </tr>\n",
       "    <tr>\n",
       "      <th>All</th>\n",
       "      <td>0.29</td>\n",
       "      <td>6.44</td>\n",
       "      <td>93.27</td>\n",
       "      <td>100.00</td>\n",
       "    </tr>\n",
       "  </tbody>\n",
       "</table>\n",
       "</div>"
      ],
      "text/plain": [
       "e00900_sign           Negative  Positive   Zero     All\n",
       "expanded_income_sign                                   \n",
       "Negative                  0.05      0.02   0.04    0.11\n",
       "Positive                  0.23      6.42  92.50   99.16\n",
       "Zero                      0.00      0.00   0.73    0.73\n",
       "All                       0.29      6.44  93.27  100.00"
      ]
     },
     "execution_count": 20,
     "metadata": {},
     "output_type": "execute_result"
    }
   ],
   "source": [
    "pd.pivot_table(df, values='weight', index=['expanded_income_sign'],\n",
    "               columns=['e00900_sign'], aggfunc=np.sum, margins=True,\n",
    "               fill_value=0).round(2)"
   ]
  },
  {
   "cell_type": "markdown",
   "metadata": {},
   "source": [
    "Share of negative expanded income group with negative Schedule C."
   ]
  },
  {
   "cell_type": "code",
   "execution_count": 21,
   "metadata": {},
   "outputs": [
    {
     "name": "stdout",
     "output_type": "stream",
     "text": [
      "47% of tax units with negative expanded income filed a Schedule C loss.\n"
     ]
    }
   ],
   "source": [
    "print '{:.0f}% of tax units with negative expanded income filed a Schedule C loss.'.format(\n",
    "    100 * neg_ei[neg_ei['e00900'] < 0]['s006'].sum() / neg_ei['s006'].sum())"
   ]
  },
  {
   "cell_type": "markdown",
   "metadata": {},
   "source": [
    "Share of negative expanded income group with positive Schedule C."
   ]
  },
  {
   "cell_type": "code",
   "execution_count": 22,
   "metadata": {},
   "outputs": [
    {
     "name": "stdout",
     "output_type": "stream",
     "text": [
      "17% of tax units with negative expanded income filed a Schedule C gain.\n"
     ]
    }
   ],
   "source": [
    "print '{:.0f}% of tax units with negative expanded income filed a Schedule C gain.'.format(\n",
    "    100 * neg_ei[neg_ei['e00900'] > 0]['s006'].sum() / neg_ei['s006'].sum())"
   ]
  },
  {
   "cell_type": "markdown",
   "metadata": {},
   "source": [
    "> What would this subgroup's aggregate expanded income be if one or more of the negative income variables were set to zero?\n",
    "\n",
    "Share of negative expanded income total from Schedule C losses."
   ]
  },
  {
   "cell_type": "code",
   "execution_count": 23,
   "metadata": {},
   "outputs": [
    {
     "name": "stdout",
     "output_type": "stream",
     "text": [
      "0.15% of the negative expanded income total is from Schedule C losses.\n"
     ]
    }
   ],
   "source": [
    "print '{:.2f}% of the negative expanded income total is from Schedule C losses.'.format(\n",
    "    100 * neg_ei[neg_ei['e00900'] < 0]['e00900'].sum() / agg_neg_ei)"
   ]
  },
  {
   "cell_type": "markdown",
   "metadata": {},
   "source": [
    "Total Schedule C gains from tax units with negative expanded income."
   ]
  },
  {
   "cell_type": "code",
   "execution_count": 24,
   "metadata": {},
   "outputs": [
    {
     "name": "stdout",
     "output_type": "stream",
     "text": [
      "Tax units with negative expanded income and Schedule C gains have an aggregate Schedule C gain of $7.7M.\n"
     ]
    }
   ],
   "source": [
    "print ('Tax units with negative expanded income and Schedule C gains have an ' +\n",
    "       'aggregate Schedule C gain of ${:.1f}M.'.format(\n",
    "           neg_ei[neg_ei['e00900'] > 0]['e00900'].sum() / 1e6))"
   ]
  },
  {
   "cell_type": "markdown",
   "metadata": {},
   "source": [
    "### Bottom decile with positive expanded income\n",
    "\n",
    "> What fraction of the bottom decile has positive expanded income?\n",
    "\n",
    "Per pivot table above, 91.6% of the bottom decile has positive expanded income."
   ]
  },
  {
   "cell_type": "markdown",
   "metadata": {},
   "source": [
    "> What is the aggregate expanded income of this subgroup?"
   ]
  },
  {
   "cell_type": "code",
   "execution_count": 25,
   "metadata": {
    "collapsed": true
   },
   "outputs": [],
   "source": [
    "bd_pos_ei = df[(df['expanded_income'] > 0) & (df['expanded_income_percentile'] <= 10)]"
   ]
  },
  {
   "cell_type": "code",
   "execution_count": 26,
   "metadata": {},
   "outputs": [
    {
     "name": "stdout",
     "output_type": "stream",
     "text": [
      "Bottom-decile tax units with positive expanded income have a total expanded income of $93.0B\n",
      "This is an average of $5,977 per tax unit.\n"
     ]
    }
   ],
   "source": [
    "agg_bd_pos_ei = (bd_pos_ei['expanded_income'] * bd_pos_ei['s006']).sum()\n",
    "bd_pos_ei_per_unit = agg_bd_pos_ei / bd_pos_ei['s006'].sum()\n",
    "print 'Bottom-decile tax units with positive expanded income have a total expanded income of ${:.1f}B'.format(\n",
    "    agg_bd_pos_ei / 1e9)\n",
    "print 'This is an average of ${:,.0f} per tax unit.'.format(bd_pos_ei_per_unit)"
   ]
  },
  {
   "cell_type": "markdown",
   "metadata": {},
   "source": [
    "% that negative after-tax income units reduce bottom-quintile by."
   ]
  },
  {
   "cell_type": "code",
   "execution_count": 27,
   "metadata": {},
   "outputs": [
    {
     "data": {
      "text/plain": [
       "0.28054385492371203"
      ]
     },
     "execution_count": 27,
     "metadata": {},
     "output_type": "execute_result"
    }
   ],
   "source": [
    "bd_total = df[df['expanded_income_percentile'] <= 10]\n",
    "1 - (bd_total['expanded_income'] * bd_total['s006']).sum() / agg_bd_pos_ei"
   ]
  },
  {
   "cell_type": "markdown",
   "metadata": {},
   "source": [
    "## Effect on bottom quintile\n",
    "\n",
    "How do negative after-tax units affect bottom quintile summaries?"
   ]
  },
  {
   "cell_type": "code",
   "execution_count": 28,
   "metadata": {
    "collapsed": true
   },
   "outputs": [],
   "source": [
    "bq_pos_ei = df[(df['expanded_income'] > 0) & (df['expanded_income_percentile'] <= 20)]"
   ]
  },
  {
   "cell_type": "code",
   "execution_count": 29,
   "metadata": {},
   "outputs": [
    {
     "name": "stdout",
     "output_type": "stream",
     "text": [
      "Bottom-quintile tax units with positive expanded income have a total expanded income of $395.6B\n",
      "This is an average of $12,157 per tax unit.\n"
     ]
    }
   ],
   "source": [
    "agg_bq_pos_ei = (bq_pos_ei['expanded_income'] * bq_pos_ei['s006']).sum()\n",
    "bq_pos_ei_per_unit = agg_bq_pos_ei / bq_pos_ei['s006'].sum()\n",
    "print 'Bottom-quintile tax units with positive expanded income have a total expanded income of ${:.1f}B'.format(\n",
    "    agg_bq_pos_ei / 1e9)\n",
    "print 'This is an average of ${:,.0f} per tax unit.'.format(bq_pos_ei_per_unit)"
   ]
  },
  {
   "cell_type": "markdown",
   "metadata": {},
   "source": [
    "% that negative after-tax income units reduce bottom-quintile by."
   ]
  },
  {
   "cell_type": "code",
   "execution_count": 30,
   "metadata": {},
   "outputs": [
    {
     "data": {
      "text/plain": [
       "0.06592234098456784"
      ]
     },
     "execution_count": 30,
     "metadata": {},
     "output_type": "execute_result"
    }
   ],
   "source": [
    "bq_total = df[df['expanded_income_percentile'] <= 20]\n",
    "1 - (bq_total['expanded_income'] * bq_total['s006']).sum() / agg_bq_pos_ei"
   ]
  }
 ],
 "metadata": {
  "kernelspec": {
   "display_name": "Python 2",
   "language": "python",
   "name": "python2"
  },
  "language_info": {
   "codemirror_mode": {
    "name": "ipython",
    "version": 2
   },
   "file_extension": ".py",
   "mimetype": "text/x-python",
   "name": "python",
   "nbconvert_exporter": "python",
   "pygments_lexer": "ipython2",
   "version": "2.7.14"
  }
 },
 "nbformat": 4,
 "nbformat_minor": 2
}
