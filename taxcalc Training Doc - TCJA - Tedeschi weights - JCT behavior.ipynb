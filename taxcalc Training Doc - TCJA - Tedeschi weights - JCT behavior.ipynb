{
 "cells": [
  {
   "cell_type": "markdown",
   "metadata": {},
   "source": [
    "[Rendered Version](http://nbviewer.jupyter.org/github/MaxGhenis/taxcalc-notebooks/blob/master/taxcalc%20Training%20Doc%20-%20TCJA%20-%20Tedeschi%20weights.ipynb.ipynb)"
   ]
  },
  {
   "cell_type": "markdown",
   "metadata": {},
   "source": [
    "This resembles the [normal training notebook](http://nbviewer.jupyter.org/github/andersonfrailey/Notebook-Uploads/blob/master/Training%20Doc.ipynb), with the following changes:\n",
    "* Models the House TCJA reform, not the sample reform.\n",
    "* Uses Ernie Tedeschi's weights instead. This approach can be used to use any other weight file.\n",
    "* Removes reference to sample reform dictionary."
   ]
  },
  {
   "cell_type": "code",
   "execution_count": 1,
   "metadata": {
    "collapsed": true
   },
   "outputs": [],
   "source": [
    "from taxcalc import *"
   ]
  },
  {
   "cell_type": "markdown",
   "metadata": {},
   "source": [
    "This example uses the packaged CPS file. If you were to use the PUF, you would create the records class using\n",
    "`Records()` or `Records('path to puf')` if the PUF is not in your current working directory."
   ]
  },
  {
   "cell_type": "code",
   "execution_count": 2,
   "metadata": {
    "collapsed": true
   },
   "outputs": [],
   "source": [
    "# Load Ernie Tedeschi's weights file.\n",
    "tedeschi_weights = pd.read_csv('cps_weights_2026.csv')"
   ]
  },
  {
   "cell_type": "code",
   "execution_count": 26,
   "metadata": {
    "collapsed": true
   },
   "outputs": [],
   "source": [
    "reforms = calc_x.read_json_param_objects('TCJA_House_Amended.json', 'JCT_Behavior.json')\n",
    "reforms_sample_behavior = calc_x.read_json_param_objects('TCJA_House_Amended.json', 'SampleBehavior.json')\n",
    "sample_reforms = calc_x.read_json_param_objects('SampleReform.json', 'SampleBehavior.json')\n",
    "sample_reform_jct_behavior = calc_x.read_json_param_objects('SampleReform.json', 'JCT_Behavior.json')\n",
    "reform_tcja_unamended_jct = calc_x.read_json_param_objects('TCJA_House.json', 'JCT_Behavior.json')\n",
    "reform_old_tcja = calc_x.read_json_param_objects('TCJA_House_old.json', 'JCT_Behavior.json')"
   ]
  },
  {
   "cell_type": "code",
   "execution_count": 3,
   "metadata": {},
   "outputs": [
    {
     "name": "stdout",
     "output_type": "stream",
     "text": [
      "You loaded data for 2014.\n",
      "Tax-Calculator startup automatically extrapolated your data to 2014.\n"
     ]
    }
   ],
   "source": [
    "# Initiate baseline calculator\n",
    "recs = Records.cps_constructor()\n",
    "calc = Calculator(records=recs, policy=Policy())\n",
    "# Replace weights attribute of calc.\n",
    "calc.records.s006 = tedeschi_weights.s006\n",
    "# Advance and calculate.\n",
    "calc.advance_to_year(2018)\n",
    "calc.calc_all()"
   ]
  },
  {
   "cell_type": "code",
   "execution_count": 4,
   "metadata": {},
   "outputs": [
    {
     "name": "stdout",
     "output_type": "stream",
     "text": [
      "You loaded data for 2014.\n",
      "Tax-Calculator startup automatically extrapolated your data to 2014.\n"
     ]
    }
   ],
   "source": [
    "# Initiate calculator to apply reforms to\n",
    "recs_x = Records.cps_constructor()\n",
    "calc_x = Calculator(records=recs_x, policy=Policy())\n",
    "# Replace weights attribute of calc_x.\n",
    "calc_x.records.s006 = tedeschi_weights.s006"
   ]
  },
  {
   "cell_type": "markdown",
   "metadata": {},
   "source": [
    "You can specify your reforms in a JSON file and, using the `read_json_param_objects` method, create a dictionary containing both policy reforms and behavioral assumptions\n",
    "\n",
    "The policy reform and any behavioral assumptions need to be in separate JSON files.\n",
    "\n",
    "Here is [more information](https://github.com/open-source-economics/Tax-Calculator/blob/master/taxcalc/reforms/REFORMS.md) on creating reform files."
   ]
  },
  {
   "cell_type": "code",
   "execution_count": 6,
   "metadata": {
    "collapsed": true
   },
   "outputs": [],
   "source": [
    "calc_x.policy.implement_reform(reforms['policy'])\n",
    "calc_x.consumption.update_consumption(reforms['consumption'])\n",
    "calc_x.advance_to_year(2018)"
   ]
  },
  {
   "cell_type": "markdown",
   "metadata": {},
   "source": [
    "### Behavioral response\n",
    "\n",
    "A dictionary is also used to implement behavioral reforms. The only difference is you must then pass the baseline and reform calculators into the response method of the behavioral class. This method calculates the change in tax liabilities and then, using the specified elasticities, returns a new calculator object that accounts for any behavioral change."
   ]
  },
  {
   "cell_type": "code",
   "execution_count": 8,
   "metadata": {},
   "outputs": [
    {
     "ename": "AssertionError",
     "evalue": "",
     "output_type": "error",
     "traceback": [
      "\u001b[0;31m---------------------------------------------------------------------------\u001b[0m",
      "\u001b[0;31mAssertionError\u001b[0m                            Traceback (most recent call last)",
      "\u001b[0;32m<ipython-input-8-517700093213>\u001b[0m in \u001b[0;36m<module>\u001b[0;34m()\u001b[0m\n\u001b[1;32m      1\u001b[0m \u001b[0mcalc_x\u001b[0m\u001b[0;34m.\u001b[0m\u001b[0mbehavior\u001b[0m\u001b[0;34m.\u001b[0m\u001b[0mupdate_behavior\u001b[0m\u001b[0;34m(\u001b[0m\u001b[0mreforms\u001b[0m\u001b[0;34m[\u001b[0m\u001b[0;34m'behavior'\u001b[0m\u001b[0;34m]\u001b[0m\u001b[0;34m)\u001b[0m\u001b[0;34m\u001b[0m\u001b[0m\n\u001b[0;32m----> 2\u001b[0;31m \u001b[0mcalc_response\u001b[0m \u001b[0;34m=\u001b[0m \u001b[0mBehavior\u001b[0m\u001b[0;34m.\u001b[0m\u001b[0mresponse\u001b[0m\u001b[0;34m(\u001b[0m\u001b[0mcalc\u001b[0m\u001b[0;34m,\u001b[0m \u001b[0mcalc_x\u001b[0m\u001b[0;34m)\u001b[0m\u001b[0;34m\u001b[0m\u001b[0m\n\u001b[0m",
      "\u001b[0;32m/usr/local/google/home/mghenis/miniconda2/lib/python2.7/site-packages/taxcalc/behavior.pyc\u001b[0m in \u001b[0;36mresponse\u001b[0;34m(calc_x, calc_y)\u001b[0m\n\u001b[1;32m    281\u001b[0m                                                calc_y_behv)\n\u001b[1;32m    282\u001b[0m         \u001b[0;31m# Recalculate post-reform taxes incorporating behavioral responses\u001b[0m\u001b[0;34m\u001b[0m\u001b[0;34m\u001b[0m\u001b[0m\n\u001b[0;32m--> 283\u001b[0;31m         \u001b[0mcalc_y_behv\u001b[0m\u001b[0;34m.\u001b[0m\u001b[0mcalc_all\u001b[0m\u001b[0;34m(\u001b[0m\u001b[0;34m)\u001b[0m\u001b[0;34m\u001b[0m\u001b[0m\n\u001b[0m\u001b[1;32m    284\u001b[0m         \u001b[0;32mreturn\u001b[0m \u001b[0mcalc_y_behv\u001b[0m\u001b[0;34m\u001b[0m\u001b[0m\n\u001b[1;32m    285\u001b[0m \u001b[0;34m\u001b[0m\u001b[0m\n",
      "\u001b[0;32m/usr/local/google/home/mghenis/miniconda2/lib/python2.7/site-packages/taxcalc/calculate.pyc\u001b[0m in \u001b[0;36mcalc_all\u001b[0;34m(self, zero_out_calc_vars)\u001b[0m\n\u001b[1;32m    142\u001b[0m         \"\"\"\n\u001b[1;32m    143\u001b[0m         \u001b[0;31m# conducts static analysis of Calculator object for current_year\u001b[0m\u001b[0;34m\u001b[0m\u001b[0;34m\u001b[0m\u001b[0m\n\u001b[0;32m--> 144\u001b[0;31m         \u001b[0;32massert\u001b[0m \u001b[0mself\u001b[0m\u001b[0;34m.\u001b[0m\u001b[0mrecords\u001b[0m\u001b[0;34m.\u001b[0m\u001b[0mcurrent_year\u001b[0m \u001b[0;34m==\u001b[0m \u001b[0mself\u001b[0m\u001b[0;34m.\u001b[0m\u001b[0mpolicy\u001b[0m\u001b[0;34m.\u001b[0m\u001b[0mcurrent_year\u001b[0m\u001b[0;34m\u001b[0m\u001b[0m\n\u001b[0m\u001b[1;32m    145\u001b[0m         \u001b[0mself\u001b[0m\u001b[0;34m.\u001b[0m\u001b[0m_calc_one_year\u001b[0m\u001b[0;34m(\u001b[0m\u001b[0mzero_out_calc_vars\u001b[0m\u001b[0;34m)\u001b[0m\u001b[0;34m\u001b[0m\u001b[0m\n\u001b[1;32m    146\u001b[0m         \u001b[0mBenefitSurtax\u001b[0m\u001b[0;34m(\u001b[0m\u001b[0mself\u001b[0m\u001b[0;34m)\u001b[0m\u001b[0;34m\u001b[0m\u001b[0m\n",
      "\u001b[0;31mAssertionError\u001b[0m: "
     ]
    }
   ],
   "source": [
    "calc_x.behavior.update_behavior(reforms['behavior'])\n",
    "calc_response = Behavior.response(calc, calc_x)"
   ]
  },
  {
   "cell_type": "markdown",
   "metadata": {},
   "source": [
    "\n",
    "### Without Tedeschi weights"
   ]
  },
  {
   "cell_type": "code",
   "execution_count": 9,
   "metadata": {},
   "outputs": [
    {
     "name": "stdout",
     "output_type": "stream",
     "text": [
      "You loaded data for 2014.\n",
      "Tax-Calculator startup automatically extrapolated your data to 2014.\n",
      "You loaded data for 2014.\n",
      "Tax-Calculator startup automatically extrapolated your data to 2014.\n"
     ]
    }
   ],
   "source": [
    "# Initiate baseline calculator\n",
    "recs = Records.cps_constructor()\n",
    "calc = Calculator(records=recs, policy=Policy())\n",
    "# Replace weights attribute of calc.\n",
    "#calc.records.s006 = tedeschi_weights.s006\n",
    "# Advance and calculate.\n",
    "calc.advance_to_year(2018)\n",
    "calc.calc_all()\n",
    "\n",
    "# Initiate calculator to apply reforms to\n",
    "recs_x = Records.cps_constructor()\n",
    "calc_x = Calculator(records=recs_x, policy=Policy())\n",
    "# Replace weights attribute of calc_x.\n",
    "#calc_x.records.s006 = tedeschi_weights.s006\n",
    "\n",
    "calc_x.policy.implement_reform(reforms['policy'])\n",
    "calc_x.consumption.update_consumption(reforms['consumption'])\n",
    "calc_x.advance_to_year(2018)\n",
    "\n",
    "calc_x.behavior.update_behavior(reforms['behavior'])\n",
    "calc_response = Behavior.response(calc, calc_x)"
   ]
  },
  {
   "cell_type": "code",
   "execution_count": 12,
   "metadata": {},
   "outputs": [
    {
     "name": "stdout",
     "output_type": "stream",
     "text": [
      "You loaded data for 2014.\n",
      "Tax-Calculator startup automatically extrapolated your data to 2014.\n",
      "You loaded data for 2014.\n",
      "Tax-Calculator startup automatically extrapolated your data to 2014.\n"
     ]
    },
    {
     "ename": "AssertionError",
     "evalue": "",
     "output_type": "error",
     "traceback": [
      "\u001b[0;31m---------------------------------------------------------------------------\u001b[0m",
      "\u001b[0;31mAssertionError\u001b[0m                            Traceback (most recent call last)",
      "\u001b[0;32m<ipython-input-12-fd21c8ab4fa9>\u001b[0m in \u001b[0;36m<module>\u001b[0;34m()\u001b[0m\n\u001b[1;32m     19\u001b[0m \u001b[0;34m\u001b[0m\u001b[0m\n\u001b[1;32m     20\u001b[0m \u001b[0mcalc_x\u001b[0m\u001b[0;34m.\u001b[0m\u001b[0mbehavior\u001b[0m\u001b[0;34m.\u001b[0m\u001b[0mupdate_behavior\u001b[0m\u001b[0;34m(\u001b[0m\u001b[0mreforms_sample_behavior\u001b[0m\u001b[0;34m[\u001b[0m\u001b[0;34m'behavior'\u001b[0m\u001b[0;34m]\u001b[0m\u001b[0;34m)\u001b[0m\u001b[0;34m\u001b[0m\u001b[0m\n\u001b[0;32m---> 21\u001b[0;31m \u001b[0mcalc_response\u001b[0m \u001b[0;34m=\u001b[0m \u001b[0mBehavior\u001b[0m\u001b[0;34m.\u001b[0m\u001b[0mresponse\u001b[0m\u001b[0;34m(\u001b[0m\u001b[0mcalc\u001b[0m\u001b[0;34m,\u001b[0m \u001b[0mcalc_x\u001b[0m\u001b[0;34m)\u001b[0m\u001b[0;34m\u001b[0m\u001b[0m\n\u001b[0m",
      "\u001b[0;32m/usr/local/google/home/mghenis/miniconda2/lib/python2.7/site-packages/taxcalc/behavior.pyc\u001b[0m in \u001b[0;36mresponse\u001b[0;34m(calc_x, calc_y)\u001b[0m\n\u001b[1;32m    281\u001b[0m                                                calc_y_behv)\n\u001b[1;32m    282\u001b[0m         \u001b[0;31m# Recalculate post-reform taxes incorporating behavioral responses\u001b[0m\u001b[0;34m\u001b[0m\u001b[0;34m\u001b[0m\u001b[0m\n\u001b[0;32m--> 283\u001b[0;31m         \u001b[0mcalc_y_behv\u001b[0m\u001b[0;34m.\u001b[0m\u001b[0mcalc_all\u001b[0m\u001b[0;34m(\u001b[0m\u001b[0;34m)\u001b[0m\u001b[0;34m\u001b[0m\u001b[0m\n\u001b[0m\u001b[1;32m    284\u001b[0m         \u001b[0;32mreturn\u001b[0m \u001b[0mcalc_y_behv\u001b[0m\u001b[0;34m\u001b[0m\u001b[0m\n\u001b[1;32m    285\u001b[0m \u001b[0;34m\u001b[0m\u001b[0m\n",
      "\u001b[0;32m/usr/local/google/home/mghenis/miniconda2/lib/python2.7/site-packages/taxcalc/calculate.pyc\u001b[0m in \u001b[0;36mcalc_all\u001b[0;34m(self, zero_out_calc_vars)\u001b[0m\n\u001b[1;32m    142\u001b[0m         \"\"\"\n\u001b[1;32m    143\u001b[0m         \u001b[0;31m# conducts static analysis of Calculator object for current_year\u001b[0m\u001b[0;34m\u001b[0m\u001b[0;34m\u001b[0m\u001b[0m\n\u001b[0;32m--> 144\u001b[0;31m         \u001b[0;32massert\u001b[0m \u001b[0mself\u001b[0m\u001b[0;34m.\u001b[0m\u001b[0mrecords\u001b[0m\u001b[0;34m.\u001b[0m\u001b[0mcurrent_year\u001b[0m \u001b[0;34m==\u001b[0m \u001b[0mself\u001b[0m\u001b[0;34m.\u001b[0m\u001b[0mpolicy\u001b[0m\u001b[0;34m.\u001b[0m\u001b[0mcurrent_year\u001b[0m\u001b[0;34m\u001b[0m\u001b[0m\n\u001b[0m\u001b[1;32m    145\u001b[0m         \u001b[0mself\u001b[0m\u001b[0;34m.\u001b[0m\u001b[0m_calc_one_year\u001b[0m\u001b[0;34m(\u001b[0m\u001b[0mzero_out_calc_vars\u001b[0m\u001b[0;34m)\u001b[0m\u001b[0;34m\u001b[0m\u001b[0m\n\u001b[1;32m    146\u001b[0m         \u001b[0mBenefitSurtax\u001b[0m\u001b[0;34m(\u001b[0m\u001b[0mself\u001b[0m\u001b[0;34m)\u001b[0m\u001b[0;34m\u001b[0m\u001b[0m\n",
      "\u001b[0;31mAssertionError\u001b[0m: "
     ]
    }
   ],
   "source": [
    "# Initiate baseline calculator\n",
    "recs = Records.cps_constructor()\n",
    "calc = Calculator(records=recs, policy=Policy())\n",
    "# Replace weights attribute of calc.\n",
    "#calc.records.s006 = tedeschi_weights.s006\n",
    "# Advance and calculate.\n",
    "calc.advance_to_year(2018)\n",
    "calc.calc_all()\n",
    "\n",
    "# Initiate calculator to apply reforms to\n",
    "recs_x = Records.cps_constructor()\n",
    "calc_x = Calculator(records=recs_x, policy=Policy())\n",
    "# Replace weights attribute of calc_x.\n",
    "#calc_x.records.s006 = tedeschi_weights.s006\n",
    "\n",
    "calc_x.policy.implement_reform(reforms_sample_behavior['policy'])\n",
    "calc_x.consumption.update_consumption(reforms_sample_behavior['consumption'])\n",
    "calc_x.advance_to_year(2018)\n",
    "\n",
    "calc_x.behavior.update_behavior(reforms_sample_behavior['behavior'])\n",
    "calc_response = Behavior.response(calc, calc_x)"
   ]
  },
  {
   "cell_type": "code",
   "execution_count": 14,
   "metadata": {},
   "outputs": [
    {
     "name": "stdout",
     "output_type": "stream",
     "text": [
      "You loaded data for 2014.\n",
      "Tax-Calculator startup automatically extrapolated your data to 2014.\n",
      "You loaded data for 2014.\n",
      "Tax-Calculator startup automatically extrapolated your data to 2014.\n"
     ]
    },
    {
     "ename": "AssertionError",
     "evalue": "",
     "output_type": "error",
     "traceback": [
      "\u001b[0;31m---------------------------------------------------------------------------\u001b[0m",
      "\u001b[0;31mAssertionError\u001b[0m                            Traceback (most recent call last)",
      "\u001b[0;32m<ipython-input-14-04596631f981>\u001b[0m in \u001b[0;36m<module>\u001b[0;34m()\u001b[0m\n\u001b[1;32m     19\u001b[0m \u001b[0;34m\u001b[0m\u001b[0m\n\u001b[1;32m     20\u001b[0m \u001b[0mcalc_x\u001b[0m\u001b[0;34m.\u001b[0m\u001b[0mbehavior\u001b[0m\u001b[0;34m.\u001b[0m\u001b[0mupdate_behavior\u001b[0m\u001b[0;34m(\u001b[0m\u001b[0mreforms_sample_behavior\u001b[0m\u001b[0;34m[\u001b[0m\u001b[0;34m'behavior'\u001b[0m\u001b[0;34m]\u001b[0m\u001b[0;34m)\u001b[0m\u001b[0;34m\u001b[0m\u001b[0m\n\u001b[0;32m---> 21\u001b[0;31m \u001b[0mcalc_response\u001b[0m \u001b[0;34m=\u001b[0m \u001b[0mBehavior\u001b[0m\u001b[0;34m.\u001b[0m\u001b[0mresponse\u001b[0m\u001b[0;34m(\u001b[0m\u001b[0mcalc\u001b[0m\u001b[0;34m,\u001b[0m \u001b[0mcalc_x\u001b[0m\u001b[0;34m)\u001b[0m\u001b[0;34m\u001b[0m\u001b[0m\n\u001b[0m",
      "\u001b[0;32m/usr/local/google/home/mghenis/miniconda2/lib/python2.7/site-packages/taxcalc/behavior.pyc\u001b[0m in \u001b[0;36mresponse\u001b[0;34m(calc_x, calc_y)\u001b[0m\n\u001b[1;32m    281\u001b[0m                                                calc_y_behv)\n\u001b[1;32m    282\u001b[0m         \u001b[0;31m# Recalculate post-reform taxes incorporating behavioral responses\u001b[0m\u001b[0;34m\u001b[0m\u001b[0;34m\u001b[0m\u001b[0m\n\u001b[0;32m--> 283\u001b[0;31m         \u001b[0mcalc_y_behv\u001b[0m\u001b[0;34m.\u001b[0m\u001b[0mcalc_all\u001b[0m\u001b[0;34m(\u001b[0m\u001b[0;34m)\u001b[0m\u001b[0;34m\u001b[0m\u001b[0m\n\u001b[0m\u001b[1;32m    284\u001b[0m         \u001b[0;32mreturn\u001b[0m \u001b[0mcalc_y_behv\u001b[0m\u001b[0;34m\u001b[0m\u001b[0m\n\u001b[1;32m    285\u001b[0m \u001b[0;34m\u001b[0m\u001b[0m\n",
      "\u001b[0;32m/usr/local/google/home/mghenis/miniconda2/lib/python2.7/site-packages/taxcalc/calculate.pyc\u001b[0m in \u001b[0;36mcalc_all\u001b[0;34m(self, zero_out_calc_vars)\u001b[0m\n\u001b[1;32m    142\u001b[0m         \"\"\"\n\u001b[1;32m    143\u001b[0m         \u001b[0;31m# conducts static analysis of Calculator object for current_year\u001b[0m\u001b[0;34m\u001b[0m\u001b[0;34m\u001b[0m\u001b[0m\n\u001b[0;32m--> 144\u001b[0;31m         \u001b[0;32massert\u001b[0m \u001b[0mself\u001b[0m\u001b[0;34m.\u001b[0m\u001b[0mrecords\u001b[0m\u001b[0;34m.\u001b[0m\u001b[0mcurrent_year\u001b[0m \u001b[0;34m==\u001b[0m \u001b[0mself\u001b[0m\u001b[0;34m.\u001b[0m\u001b[0mpolicy\u001b[0m\u001b[0;34m.\u001b[0m\u001b[0mcurrent_year\u001b[0m\u001b[0;34m\u001b[0m\u001b[0m\n\u001b[0m\u001b[1;32m    145\u001b[0m         \u001b[0mself\u001b[0m\u001b[0;34m.\u001b[0m\u001b[0m_calc_one_year\u001b[0m\u001b[0;34m(\u001b[0m\u001b[0mzero_out_calc_vars\u001b[0m\u001b[0;34m)\u001b[0m\u001b[0;34m\u001b[0m\u001b[0m\n\u001b[1;32m    146\u001b[0m         \u001b[0mBenefitSurtax\u001b[0m\u001b[0;34m(\u001b[0m\u001b[0mself\u001b[0m\u001b[0;34m)\u001b[0m\u001b[0;34m\u001b[0m\u001b[0m\n",
      "\u001b[0;31mAssertionError\u001b[0m: "
     ]
    }
   ],
   "source": [
    "# Initiate baseline calculator\n",
    "recs = Records.cps_constructor()\n",
    "calc = Calculator(records=recs, policy=Policy())\n",
    "# Replace weights attribute of calc.\n",
    "calc.records.s006 = tedeschi_weights.s006\n",
    "# Advance and calculate.\n",
    "calc.advance_to_year(2018)\n",
    "calc.calc_all()\n",
    "\n",
    "# Initiate calculator to apply reforms to\n",
    "recs_x = Records.cps_constructor()\n",
    "calc_x = Calculator(records=recs_x, policy=Policy())\n",
    "# Replace weights attribute of calc_x.\n",
    "calc_x.records.s006 = tedeschi_weights.s006\n",
    "\n",
    "calc_x.policy.implement_reform(reforms_sample_behavior['policy'])\n",
    "calc_x.consumption.update_consumption(reforms_sample_behavior['consumption'])\n",
    "calc_x.advance_to_year(2018)\n",
    "\n",
    "calc_x.behavior.update_behavior(reforms_sample_behavior['behavior'])\n",
    "calc_response = Behavior.response(calc, calc_x)"
   ]
  },
  {
   "cell_type": "code",
   "execution_count": 15,
   "metadata": {},
   "outputs": [
    {
     "name": "stdout",
     "output_type": "stream",
     "text": [
      "You loaded data for 2014.\n",
      "Tax-Calculator startup automatically extrapolated your data to 2014.\n",
      "You loaded data for 2014.\n",
      "Tax-Calculator startup automatically extrapolated your data to 2014.\n"
     ]
    }
   ],
   "source": [
    "# Initiate baseline calculator\n",
    "recs = Records.cps_constructor()\n",
    "calc = Calculator(records=recs, policy=Policy())\n",
    "# Replace weights attribute of calc.\n",
    "#calc.records.s006 = tedeschi_weights.s006\n",
    "# Advance and calculate.\n",
    "calc.advance_to_year(2018)\n",
    "calc.calc_all()\n",
    "\n",
    "# Initiate calculator to apply reforms to\n",
    "recs_x = Records.cps_constructor()\n",
    "calc_x = Calculator(records=recs_x, policy=Policy())\n",
    "# Replace weights attribute of calc_x.\n",
    "#calc_x.records.s006 = tedeschi_weights.s006\n",
    "\n",
    "calc_x.policy.implement_reform(sample_reforms['policy'])\n",
    "calc_x.consumption.update_consumption(sample_reforms['consumption'])\n",
    "calc_x.advance_to_year(2018)\n",
    "\n",
    "calc_x.behavior.update_behavior(sample_reforms['behavior'])\n",
    "calc_response = Behavior.response(calc, calc_x)"
   ]
  },
  {
   "cell_type": "code",
   "execution_count": 17,
   "metadata": {},
   "outputs": [
    {
     "name": "stdout",
     "output_type": "stream",
     "text": [
      "You loaded data for 2014.\n",
      "Tax-Calculator startup automatically extrapolated your data to 2014.\n",
      "You loaded data for 2014.\n",
      "Tax-Calculator startup automatically extrapolated your data to 2014.\n"
     ]
    }
   ],
   "source": [
    "# Initiate baseline calculator\n",
    "recs = Records.cps_constructor()\n",
    "calc = Calculator(records=recs, policy=Policy())\n",
    "# Replace weights attribute of calc.\n",
    "#calc.records.s006 = tedeschi_weights.s006\n",
    "# Advance and calculate.\n",
    "calc.advance_to_year(2018)\n",
    "calc.calc_all()\n",
    "\n",
    "# Initiate calculator to apply reforms to\n",
    "recs_x = Records.cps_constructor()\n",
    "calc_x = Calculator(records=recs_x, policy=Policy())\n",
    "# Replace weights attribute of calc_x.\n",
    "#calc_x.records.s006 = tedeschi_weights.s006\n",
    "\n",
    "calc_x.policy.implement_reform(sample_reform_jct_behavior['policy'])\n",
    "calc_x.consumption.update_consumption(sample_reform_jct_behavior['consumption'])\n",
    "calc_x.advance_to_year(2018)\n",
    "\n",
    "calc_x.behavior.update_behavior(sample_reform_jct_behavior['behavior'])\n",
    "calc_response = Behavior.response(calc, calc_x)"
   ]
  },
  {
   "cell_type": "code",
   "execution_count": 20,
   "metadata": {},
   "outputs": [
    {
     "name": "stdout",
     "output_type": "stream",
     "text": [
      "You loaded data for 2014.\n",
      "Tax-Calculator startup automatically extrapolated your data to 2014.\n",
      "You loaded data for 2014.\n",
      "Tax-Calculator startup automatically extrapolated your data to 2014.\n"
     ]
    }
   ],
   "source": [
    "# Initiate baseline calculator\n",
    "recs = Records.cps_constructor()\n",
    "calc = Calculator(records=recs, policy=Policy())\n",
    "# Replace weights attribute of calc.\n",
    "calc.records.s006 = tedeschi_weights.s006\n",
    "# Advance and calculate.\n",
    "calc.advance_to_year(2018)\n",
    "calc.calc_all()\n",
    "\n",
    "# Initiate calculator to apply reforms to\n",
    "recs_x = Records.cps_constructor()\n",
    "calc_x = Calculator(records=recs_x, policy=Policy())\n",
    "# Replace weights attribute of calc_x.\n",
    "calc_x.records.s006 = tedeschi_weights.s006\n",
    "\n",
    "calc_x.policy.implement_reform(sample_reform_jct_behavior['policy'])\n",
    "calc_x.consumption.update_consumption(sample_reform_jct_behavior['consumption'])\n",
    "calc_x.advance_to_year(2018)\n",
    "\n",
    "calc_x.behavior.update_behavior(sample_reform_jct_behavior['behavior'])\n",
    "calc_response = Behavior.response(calc, calc_x)"
   ]
  },
  {
   "cell_type": "code",
   "execution_count": 22,
   "metadata": {},
   "outputs": [
    {
     "name": "stdout",
     "output_type": "stream",
     "text": [
      "You loaded data for 2014.\n",
      "Tax-Calculator startup automatically extrapolated your data to 2014.\n",
      "You loaded data for 2014.\n",
      "Tax-Calculator startup automatically extrapolated your data to 2014.\n"
     ]
    },
    {
     "ename": "AssertionError",
     "evalue": "",
     "output_type": "error",
     "traceback": [
      "\u001b[0;31m---------------------------------------------------------------------------\u001b[0m",
      "\u001b[0;31mAssertionError\u001b[0m                            Traceback (most recent call last)",
      "\u001b[0;32m<ipython-input-22-9749e6b1563e>\u001b[0m in \u001b[0;36m<module>\u001b[0;34m()\u001b[0m\n\u001b[1;32m     19\u001b[0m \u001b[0;34m\u001b[0m\u001b[0m\n\u001b[1;32m     20\u001b[0m \u001b[0mcalc_x\u001b[0m\u001b[0;34m.\u001b[0m\u001b[0mbehavior\u001b[0m\u001b[0;34m.\u001b[0m\u001b[0mupdate_behavior\u001b[0m\u001b[0;34m(\u001b[0m\u001b[0mreform_tcja_unamended_jct\u001b[0m\u001b[0;34m[\u001b[0m\u001b[0;34m'behavior'\u001b[0m\u001b[0;34m]\u001b[0m\u001b[0;34m)\u001b[0m\u001b[0;34m\u001b[0m\u001b[0m\n\u001b[0;32m---> 21\u001b[0;31m \u001b[0mcalc_response\u001b[0m \u001b[0;34m=\u001b[0m \u001b[0mBehavior\u001b[0m\u001b[0;34m.\u001b[0m\u001b[0mresponse\u001b[0m\u001b[0;34m(\u001b[0m\u001b[0mcalc\u001b[0m\u001b[0;34m,\u001b[0m \u001b[0mcalc_x\u001b[0m\u001b[0;34m)\u001b[0m\u001b[0;34m\u001b[0m\u001b[0m\n\u001b[0m",
      "\u001b[0;32m/usr/local/google/home/mghenis/miniconda2/lib/python2.7/site-packages/taxcalc/behavior.pyc\u001b[0m in \u001b[0;36mresponse\u001b[0;34m(calc_x, calc_y)\u001b[0m\n\u001b[1;32m    281\u001b[0m                                                calc_y_behv)\n\u001b[1;32m    282\u001b[0m         \u001b[0;31m# Recalculate post-reform taxes incorporating behavioral responses\u001b[0m\u001b[0;34m\u001b[0m\u001b[0;34m\u001b[0m\u001b[0m\n\u001b[0;32m--> 283\u001b[0;31m         \u001b[0mcalc_y_behv\u001b[0m\u001b[0;34m.\u001b[0m\u001b[0mcalc_all\u001b[0m\u001b[0;34m(\u001b[0m\u001b[0;34m)\u001b[0m\u001b[0;34m\u001b[0m\u001b[0m\n\u001b[0m\u001b[1;32m    284\u001b[0m         \u001b[0;32mreturn\u001b[0m \u001b[0mcalc_y_behv\u001b[0m\u001b[0;34m\u001b[0m\u001b[0m\n\u001b[1;32m    285\u001b[0m \u001b[0;34m\u001b[0m\u001b[0m\n",
      "\u001b[0;32m/usr/local/google/home/mghenis/miniconda2/lib/python2.7/site-packages/taxcalc/calculate.pyc\u001b[0m in \u001b[0;36mcalc_all\u001b[0;34m(self, zero_out_calc_vars)\u001b[0m\n\u001b[1;32m    142\u001b[0m         \"\"\"\n\u001b[1;32m    143\u001b[0m         \u001b[0;31m# conducts static analysis of Calculator object for current_year\u001b[0m\u001b[0;34m\u001b[0m\u001b[0;34m\u001b[0m\u001b[0m\n\u001b[0;32m--> 144\u001b[0;31m         \u001b[0;32massert\u001b[0m \u001b[0mself\u001b[0m\u001b[0;34m.\u001b[0m\u001b[0mrecords\u001b[0m\u001b[0;34m.\u001b[0m\u001b[0mcurrent_year\u001b[0m \u001b[0;34m==\u001b[0m \u001b[0mself\u001b[0m\u001b[0;34m.\u001b[0m\u001b[0mpolicy\u001b[0m\u001b[0;34m.\u001b[0m\u001b[0mcurrent_year\u001b[0m\u001b[0;34m\u001b[0m\u001b[0m\n\u001b[0m\u001b[1;32m    145\u001b[0m         \u001b[0mself\u001b[0m\u001b[0;34m.\u001b[0m\u001b[0m_calc_one_year\u001b[0m\u001b[0;34m(\u001b[0m\u001b[0mzero_out_calc_vars\u001b[0m\u001b[0;34m)\u001b[0m\u001b[0;34m\u001b[0m\u001b[0m\n\u001b[1;32m    146\u001b[0m         \u001b[0mBenefitSurtax\u001b[0m\u001b[0;34m(\u001b[0m\u001b[0mself\u001b[0m\u001b[0;34m)\u001b[0m\u001b[0;34m\u001b[0m\u001b[0m\n",
      "\u001b[0;31mAssertionError\u001b[0m: "
     ]
    }
   ],
   "source": [
    "# Initiate baseline calculator\n",
    "recs = Records.cps_constructor()\n",
    "calc = Calculator(records=recs, policy=Policy())\n",
    "# Replace weights attribute of calc.\n",
    "#calc.records.s006 = tedeschi_weights.s006\n",
    "# Advance and calculate.\n",
    "calc.advance_to_year(2018)\n",
    "calc.calc_all()\n",
    "\n",
    "# Initiate calculator to apply reforms to\n",
    "recs_x = Records.cps_constructor()\n",
    "calc_x = Calculator(records=recs_x, policy=Policy())\n",
    "# Replace weights attribute of calc_x.\n",
    "#calc_x.records.s006 = tedeschi_weights.s006\n",
    "\n",
    "calc_x.policy.implement_reform(reform_tcja_unamended_jct['policy'])\n",
    "calc_x.consumption.update_consumption(reform_tcja_unamended_jct['consumption'])\n",
    "calc_x.advance_to_year(2018)\n",
    "\n",
    "calc_x.behavior.update_behavior(reform_tcja_unamended_jct['behavior'])\n",
    "calc_response = Behavior.response(calc, calc_x)"
   ]
  },
  {
   "cell_type": "code",
   "execution_count": 27,
   "metadata": {},
   "outputs": [
    {
     "name": "stdout",
     "output_type": "stream",
     "text": [
      "You loaded data for 2014.\n",
      "Tax-Calculator startup automatically extrapolated your data to 2014.\n",
      "You loaded data for 2014.\n",
      "Tax-Calculator startup automatically extrapolated your data to 2014.\n"
     ]
    }
   ],
   "source": [
    "# Initiate baseline calculator\n",
    "recs = Records.cps_constructor()\n",
    "calc = Calculator(records=recs, policy=Policy())\n",
    "# Replace weights attribute of calc.\n",
    "#calc.records.s006 = tedeschi_weights.s006\n",
    "# Advance and calculate.\n",
    "calc.advance_to_year(2018)\n",
    "calc.calc_all()\n",
    "\n",
    "# Initiate calculator to apply reforms to\n",
    "recs_x = Records.cps_constructor()\n",
    "calc_x = Calculator(records=recs_x, policy=Policy())\n",
    "# Replace weights attribute of calc_x.\n",
    "#calc_x.records.s006 = tedeschi_weights.s006\n",
    "\n",
    "calc_x.policy.implement_reform(reform_old_tcja['policy'])\n",
    "calc_x.consumption.update_consumption(reform_old_tcja['consumption'])\n",
    "calc_x.advance_to_year(2018)\n",
    "\n",
    "calc_x.behavior.update_behavior(reform_old_tcja['behavior'])\n",
    "calc_response = Behavior.response(calc, calc_x)"
   ]
  },
  {
   "cell_type": "markdown",
   "metadata": {},
   "source": [
    "### Viewing the results"
   ]
  },
  {
   "cell_type": "code",
   "execution_count": null,
   "metadata": {
    "collapsed": true
   },
   "outputs": [],
   "source": [
    "from taxcalc.utils import *"
   ]
  },
  {
   "cell_type": "markdown",
   "metadata": {},
   "source": [
    "#### Analyzing Individual Variables\n",
    "\n",
    "Individual variables are attributes of the records class and can therefore be accessed using a simple dot notation"
   ]
  },
  {
   "cell_type": "code",
   "execution_count": null,
   "metadata": {},
   "outputs": [],
   "source": [
    "baseline = (calc.records.combined * calc.records.s006).sum()  # combined is combined tax liability while s006 is weight\n",
    "reformed = (calc_response.records.combined * calc_response.records.s006).sum()\n",
    "diff = reformed - baseline\n",
    "print ('Combined Liability - Baseline: {:0.2f}'.format(baseline))\n",
    "print ('Combined Liability - Reform: {:>18.2f}'.format(reformed))\n",
    "print ('-' * 47)\n",
    "print ('Difference: {:35.2f}'.format(diff))"
   ]
  },
  {
   "cell_type": "markdown",
   "metadata": {},
   "source": [
    "#### Diagnostic Table\n",
    "\n",
    "Diagnostic tables are the most straight forward methods of evaluation. They simply show aggregate values for a given calculator"
   ]
  },
  {
   "cell_type": "code",
   "execution_count": null,
   "metadata": {},
   "outputs": [],
   "source": [
    "create_diagnostic_table(calc)"
   ]
  },
  {
   "cell_type": "code",
   "execution_count": 8,
   "metadata": {},
   "outputs": [
    {
     "ename": "NameError",
     "evalue": "name 'calc_response' is not defined",
     "output_type": "error",
     "traceback": [
      "\u001b[0;31m---------------------------------------------------------------------------\u001b[0m",
      "\u001b[0;31mNameError\u001b[0m                                 Traceback (most recent call last)",
      "\u001b[0;32m<ipython-input-8-da66bd84b3c2>\u001b[0m in \u001b[0;36m<module>\u001b[0;34m()\u001b[0m\n\u001b[0;32m----> 1\u001b[0;31m \u001b[0mcreate_diagnostic_table\u001b[0m\u001b[0;34m(\u001b[0m\u001b[0mcalc_response\u001b[0m\u001b[0;34m)\u001b[0m\u001b[0;34m\u001b[0m\u001b[0m\n\u001b[0m",
      "\u001b[0;31mNameError\u001b[0m: name 'calc_response' is not defined"
     ]
    }
   ],
   "source": [
    "create_diagnostic_table(calc_response)"
   ]
  },
  {
   "cell_type": "markdown",
   "metadata": {},
   "source": [
    "#### Distribution Table\n",
    "\n",
    "The distribution table shows the same information as the diagnostic table, but broken down by income bin or decile. You can view the results as either the weighted average or the weighted sum in each bin"
   ]
  },
  {
   "cell_type": "code",
   "execution_count": 9,
   "metadata": {},
   "outputs": [
    {
     "data": {
      "text/html": [
       "<div>\n",
       "<style>\n",
       "    .dataframe thead tr:only-child th {\n",
       "        text-align: right;\n",
       "    }\n",
       "\n",
       "    .dataframe thead th {\n",
       "        text-align: left;\n",
       "    }\n",
       "\n",
       "    .dataframe tbody tr th {\n",
       "        vertical-align: top;\n",
       "    }\n",
       "</style>\n",
       "<table border=\"1\" class=\"dataframe\">\n",
       "  <thead>\n",
       "    <tr style=\"text-align: right;\">\n",
       "      <th></th>\n",
       "      <th>s006</th>\n",
       "      <th>c00100</th>\n",
       "      <th>num_returns_StandardDed</th>\n",
       "      <th>standard</th>\n",
       "      <th>num_returns_ItemDed</th>\n",
       "      <th>c04470</th>\n",
       "      <th>c04600</th>\n",
       "      <th>c04800</th>\n",
       "      <th>taxbc</th>\n",
       "      <th>c62100</th>\n",
       "      <th>...</th>\n",
       "      <th>c09600</th>\n",
       "      <th>c05800</th>\n",
       "      <th>c07100</th>\n",
       "      <th>othertaxes</th>\n",
       "      <th>refund</th>\n",
       "      <th>iitax</th>\n",
       "      <th>payrolltax</th>\n",
       "      <th>combined</th>\n",
       "      <th>expanded_income</th>\n",
       "      <th>aftertax_income</th>\n",
       "    </tr>\n",
       "  </thead>\n",
       "  <tbody>\n",
       "    <tr>\n",
       "      <th>0</th>\n",
       "      <td>16,989,417</td>\n",
       "      <td>-662</td>\n",
       "      <td>1</td>\n",
       "      <td>6,587</td>\n",
       "      <td>0</td>\n",
       "      <td>5</td>\n",
       "      <td>5,262</td>\n",
       "      <td>24</td>\n",
       "      <td>1</td>\n",
       "      <td>-664</td>\n",
       "      <td>...</td>\n",
       "      <td>0</td>\n",
       "      <td>1</td>\n",
       "      <td>0</td>\n",
       "      <td>0</td>\n",
       "      <td>98</td>\n",
       "      <td>-97</td>\n",
       "      <td>176</td>\n",
       "      <td>79</td>\n",
       "      <td>-233</td>\n",
       "      <td>-312</td>\n",
       "    </tr>\n",
       "    <tr>\n",
       "      <th>1</th>\n",
       "      <td>16,988,286</td>\n",
       "      <td>5,118</td>\n",
       "      <td>1</td>\n",
       "      <td>7,814</td>\n",
       "      <td>0</td>\n",
       "      <td>207</td>\n",
       "      <td>5,904</td>\n",
       "      <td>190</td>\n",
       "      <td>13</td>\n",
       "      <td>5,018</td>\n",
       "      <td>...</td>\n",
       "      <td>0</td>\n",
       "      <td>13</td>\n",
       "      <td>3</td>\n",
       "      <td>0</td>\n",
       "      <td>755</td>\n",
       "      <td>-745</td>\n",
       "      <td>663</td>\n",
       "      <td>-82</td>\n",
       "      <td>9,847</td>\n",
       "      <td>9,929</td>\n",
       "    </tr>\n",
       "    <tr>\n",
       "      <th>2</th>\n",
       "      <td>16,990,004</td>\n",
       "      <td>9,116</td>\n",
       "      <td>1</td>\n",
       "      <td>7,860</td>\n",
       "      <td>0</td>\n",
       "      <td>1,045</td>\n",
       "      <td>6,319</td>\n",
       "      <td>1,636</td>\n",
       "      <td>153</td>\n",
       "      <td>8,514</td>\n",
       "      <td>...</td>\n",
       "      <td>1</td>\n",
       "      <td>154</td>\n",
       "      <td>29</td>\n",
       "      <td>0</td>\n",
       "      <td>1,020</td>\n",
       "      <td>-895</td>\n",
       "      <td>1,209</td>\n",
       "      <td>314</td>\n",
       "      <td>17,245</td>\n",
       "      <td>16,931</td>\n",
       "    </tr>\n",
       "    <tr>\n",
       "      <th>3</th>\n",
       "      <td>16,989,656</td>\n",
       "      <td>17,018</td>\n",
       "      <td>1</td>\n",
       "      <td>7,632</td>\n",
       "      <td>0</td>\n",
       "      <td>2,335</td>\n",
       "      <td>7,151</td>\n",
       "      <td>5,057</td>\n",
       "      <td>532</td>\n",
       "      <td>15,624</td>\n",
       "      <td>...</td>\n",
       "      <td>2</td>\n",
       "      <td>534</td>\n",
       "      <td>90</td>\n",
       "      <td>0</td>\n",
       "      <td>1,193</td>\n",
       "      <td>-750</td>\n",
       "      <td>2,327</td>\n",
       "      <td>1,577</td>\n",
       "      <td>25,262</td>\n",
       "      <td>23,685</td>\n",
       "    </tr>\n",
       "    <tr>\n",
       "      <th>4</th>\n",
       "      <td>16,989,955</td>\n",
       "      <td>26,269</td>\n",
       "      <td>1</td>\n",
       "      <td>7,157</td>\n",
       "      <td>0</td>\n",
       "      <td>3,910</td>\n",
       "      <td>7,667</td>\n",
       "      <td>10,826</td>\n",
       "      <td>1,244</td>\n",
       "      <td>23,898</td>\n",
       "      <td>...</td>\n",
       "      <td>4</td>\n",
       "      <td>1,247</td>\n",
       "      <td>168</td>\n",
       "      <td>0</td>\n",
       "      <td>921</td>\n",
       "      <td>158</td>\n",
       "      <td>3,609</td>\n",
       "      <td>3,768</td>\n",
       "      <td>34,401</td>\n",
       "      <td>30,633</td>\n",
       "    </tr>\n",
       "    <tr>\n",
       "      <th>5</th>\n",
       "      <td>16,989,241</td>\n",
       "      <td>37,913</td>\n",
       "      <td>1</td>\n",
       "      <td>6,375</td>\n",
       "      <td>0</td>\n",
       "      <td>5,941</td>\n",
       "      <td>8,090</td>\n",
       "      <td>19,220</td>\n",
       "      <td>2,298</td>\n",
       "      <td>34,325</td>\n",
       "      <td>...</td>\n",
       "      <td>5</td>\n",
       "      <td>2,303</td>\n",
       "      <td>279</td>\n",
       "      <td>0</td>\n",
       "      <td>426</td>\n",
       "      <td>1,598</td>\n",
       "      <td>5,182</td>\n",
       "      <td>6,780</td>\n",
       "      <td>45,965</td>\n",
       "      <td>39,185</td>\n",
       "    </tr>\n",
       "    <tr>\n",
       "      <th>6</th>\n",
       "      <td>16,989,686</td>\n",
       "      <td>54,723</td>\n",
       "      <td>0</td>\n",
       "      <td>4,842</td>\n",
       "      <td>1</td>\n",
       "      <td>9,622</td>\n",
       "      <td>8,499</td>\n",
       "      <td>32,350</td>\n",
       "      <td>4,206</td>\n",
       "      <td>48,877</td>\n",
       "      <td>...</td>\n",
       "      <td>3</td>\n",
       "      <td>4,209</td>\n",
       "      <td>394</td>\n",
       "      <td>0</td>\n",
       "      <td>82</td>\n",
       "      <td>3,733</td>\n",
       "      <td>7,416</td>\n",
       "      <td>11,149</td>\n",
       "      <td>61,857</td>\n",
       "      <td>50,708</td>\n",
       "    </tr>\n",
       "    <tr>\n",
       "      <th>7</th>\n",
       "      <td>16,989,485</td>\n",
       "      <td>78,655</td>\n",
       "      <td>0</td>\n",
       "      <td>3,383</td>\n",
       "      <td>1</td>\n",
       "      <td>13,995</td>\n",
       "      <td>9,343</td>\n",
       "      <td>52,170</td>\n",
       "      <td>7,544</td>\n",
       "      <td>70,468</td>\n",
       "      <td>...</td>\n",
       "      <td>4</td>\n",
       "      <td>7,549</td>\n",
       "      <td>496</td>\n",
       "      <td>0</td>\n",
       "      <td>13</td>\n",
       "      <td>7,040</td>\n",
       "      <td>10,754</td>\n",
       "      <td>17,794</td>\n",
       "      <td>85,684</td>\n",
       "      <td>67,890</td>\n",
       "    </tr>\n",
       "    <tr>\n",
       "      <th>8</th>\n",
       "      <td>16,989,613</td>\n",
       "      <td>114,892</td>\n",
       "      <td>0</td>\n",
       "      <td>2,039</td>\n",
       "      <td>1</td>\n",
       "      <td>19,742</td>\n",
       "      <td>10,530</td>\n",
       "      <td>82,679</td>\n",
       "      <td>12,939</td>\n",
       "      <td>103,702</td>\n",
       "      <td>...</td>\n",
       "      <td>6</td>\n",
       "      <td>12,946</td>\n",
       "      <td>449</td>\n",
       "      <td>0</td>\n",
       "      <td>3</td>\n",
       "      <td>12,494</td>\n",
       "      <td>15,860</td>\n",
       "      <td>28,354</td>\n",
       "      <td>124,252</td>\n",
       "      <td>95,898</td>\n",
       "    </tr>\n",
       "    <tr>\n",
       "      <th>9</th>\n",
       "      <td>16,989,497</td>\n",
       "      <td>275,212</td>\n",
       "      <td>0</td>\n",
       "      <td>990</td>\n",
       "      <td>1</td>\n",
       "      <td>31,544</td>\n",
       "      <td>10,053</td>\n",
       "      <td>232,701</td>\n",
       "      <td>51,691</td>\n",
       "      <td>259,091</td>\n",
       "      <td>...</td>\n",
       "      <td>1,036</td>\n",
       "      <td>52,726</td>\n",
       "      <td>29</td>\n",
       "      <td>549</td>\n",
       "      <td>0</td>\n",
       "      <td>53,246</td>\n",
       "      <td>25,411</td>\n",
       "      <td>78,657</td>\n",
       "      <td>290,513</td>\n",
       "      <td>211,856</td>\n",
       "    </tr>\n",
       "    <tr>\n",
       "      <th>10</th>\n",
       "      <td>169,894,840</td>\n",
       "      <td>61,825</td>\n",
       "      <td>0</td>\n",
       "      <td>5,468</td>\n",
       "      <td>0</td>\n",
       "      <td>8,835</td>\n",
       "      <td>7,882</td>\n",
       "      <td>43,685</td>\n",
       "      <td>8,062</td>\n",
       "      <td>56,885</td>\n",
       "      <td>...</td>\n",
       "      <td>106</td>\n",
       "      <td>8,168</td>\n",
       "      <td>194</td>\n",
       "      <td>55</td>\n",
       "      <td>451</td>\n",
       "      <td>7,578</td>\n",
       "      <td>7,261</td>\n",
       "      <td>14,839</td>\n",
       "      <td>69,480</td>\n",
       "      <td>54,641</td>\n",
       "    </tr>\n",
       "    <tr>\n",
       "      <th>11</th>\n",
       "      <td>8,494,307</td>\n",
       "      <td>275,522</td>\n",
       "      <td>0</td>\n",
       "      <td>832</td>\n",
       "      <td>1</td>\n",
       "      <td>34,428</td>\n",
       "      <td>10,319</td>\n",
       "      <td>230,081</td>\n",
       "      <td>52,892</td>\n",
       "      <td>258,274</td>\n",
       "      <td>...</td>\n",
       "      <td>1,311</td>\n",
       "      <td>54,202</td>\n",
       "      <td>39</td>\n",
       "      <td>421</td>\n",
       "      <td>0</td>\n",
       "      <td>54,584</td>\n",
       "      <td>25,806</td>\n",
       "      <td>80,390</td>\n",
       "      <td>291,849</td>\n",
       "      <td>211,459</td>\n",
       "    </tr>\n",
       "    <tr>\n",
       "      <th>12</th>\n",
       "      <td>6,795,859</td>\n",
       "      <td>227,307</td>\n",
       "      <td>0</td>\n",
       "      <td>1,112</td>\n",
       "      <td>1</td>\n",
       "      <td>28,422</td>\n",
       "      <td>10,529</td>\n",
       "      <td>187,262</td>\n",
       "      <td>39,191</td>\n",
       "      <td>212,227</td>\n",
       "      <td>...</td>\n",
       "      <td>437</td>\n",
       "      <td>39,627</td>\n",
       "      <td>21</td>\n",
       "      <td>183</td>\n",
       "      <td>0</td>\n",
       "      <td>39,789</td>\n",
       "      <td>25,123</td>\n",
       "      <td>64,912</td>\n",
       "      <td>241,486</td>\n",
       "      <td>176,575</td>\n",
       "    </tr>\n",
       "    <tr>\n",
       "      <th>13</th>\n",
       "      <td>1,699,332</td>\n",
       "      <td>465,235</td>\n",
       "      <td>0</td>\n",
       "      <td>1,288</td>\n",
       "      <td>1</td>\n",
       "      <td>29,612</td>\n",
       "      <td>6,821</td>\n",
       "      <td>427,514</td>\n",
       "      <td>95,675</td>\n",
       "      <td>450,590</td>\n",
       "      <td>...</td>\n",
       "      <td>2,056</td>\n",
       "      <td>97,731</td>\n",
       "      <td>6</td>\n",
       "      <td>2,649</td>\n",
       "      <td>0</td>\n",
       "      <td>100,375</td>\n",
       "      <td>24,584</td>\n",
       "      <td>124,958</td>\n",
       "      <td>479,898</td>\n",
       "      <td>354,940</td>\n",
       "    </tr>\n",
       "  </tbody>\n",
       "</table>\n",
       "<p>14 rows × 21 columns</p>\n",
       "</div>"
      ],
      "text/plain": [
       "          s006   c00100  num_returns_StandardDed  standard  \\\n",
       "0   16,989,417     -662                        1     6,587   \n",
       "1   16,988,286    5,118                        1     7,814   \n",
       "2   16,990,004    9,116                        1     7,860   \n",
       "3   16,989,656   17,018                        1     7,632   \n",
       "4   16,989,955   26,269                        1     7,157   \n",
       "5   16,989,241   37,913                        1     6,375   \n",
       "6   16,989,686   54,723                        0     4,842   \n",
       "7   16,989,485   78,655                        0     3,383   \n",
       "8   16,989,613  114,892                        0     2,039   \n",
       "9   16,989,497  275,212                        0       990   \n",
       "10 169,894,840   61,825                        0     5,468   \n",
       "11   8,494,307  275,522                        0       832   \n",
       "12   6,795,859  227,307                        0     1,112   \n",
       "13   1,699,332  465,235                        0     1,288   \n",
       "\n",
       "    num_returns_ItemDed   c04470   c04600   c04800    taxbc   c62100  \\\n",
       "0                     0        5    5,262       24        1     -664   \n",
       "1                     0      207    5,904      190       13    5,018   \n",
       "2                     0    1,045    6,319    1,636      153    8,514   \n",
       "3                     0    2,335    7,151    5,057      532   15,624   \n",
       "4                     0    3,910    7,667   10,826    1,244   23,898   \n",
       "5                     0    5,941    8,090   19,220    2,298   34,325   \n",
       "6                     1    9,622    8,499   32,350    4,206   48,877   \n",
       "7                     1   13,995    9,343   52,170    7,544   70,468   \n",
       "8                     1   19,742   10,530   82,679   12,939  103,702   \n",
       "9                     1   31,544   10,053  232,701   51,691  259,091   \n",
       "10                    0    8,835    7,882   43,685    8,062   56,885   \n",
       "11                    1   34,428   10,319  230,081   52,892  258,274   \n",
       "12                    1   28,422   10,529  187,262   39,191  212,227   \n",
       "13                    1   29,612    6,821  427,514   95,675  450,590   \n",
       "\n",
       "         ...          c09600   c05800   c07100  othertaxes   refund    iitax  \\\n",
       "0        ...               0        1        0           0       98      -97   \n",
       "1        ...               0       13        3           0      755     -745   \n",
       "2        ...               1      154       29           0    1,020     -895   \n",
       "3        ...               2      534       90           0    1,193     -750   \n",
       "4        ...               4    1,247      168           0      921      158   \n",
       "5        ...               5    2,303      279           0      426    1,598   \n",
       "6        ...               3    4,209      394           0       82    3,733   \n",
       "7        ...               4    7,549      496           0       13    7,040   \n",
       "8        ...               6   12,946      449           0        3   12,494   \n",
       "9        ...           1,036   52,726       29         549        0   53,246   \n",
       "10       ...             106    8,168      194          55      451    7,578   \n",
       "11       ...           1,311   54,202       39         421        0   54,584   \n",
       "12       ...             437   39,627       21         183        0   39,789   \n",
       "13       ...           2,056   97,731        6       2,649        0  100,375   \n",
       "\n",
       "    payrolltax  combined  expanded_income  aftertax_income  \n",
       "0          176        79             -233             -312  \n",
       "1          663       -82            9,847            9,929  \n",
       "2        1,209       314           17,245           16,931  \n",
       "3        2,327     1,577           25,262           23,685  \n",
       "4        3,609     3,768           34,401           30,633  \n",
       "5        5,182     6,780           45,965           39,185  \n",
       "6        7,416    11,149           61,857           50,708  \n",
       "7       10,754    17,794           85,684           67,890  \n",
       "8       15,860    28,354          124,252           95,898  \n",
       "9       25,411    78,657          290,513          211,856  \n",
       "10       7,261    14,839           69,480           54,641  \n",
       "11      25,806    80,390          291,849          211,459  \n",
       "12      25,123    64,912          241,486          176,575  \n",
       "13      24,584   124,958          479,898          354,940  \n",
       "\n",
       "[14 rows x 21 columns]"
      ]
     },
     "execution_count": 9,
     "metadata": {},
     "output_type": "execute_result"
    }
   ],
   "source": [
    "create_distribution_table(calc.records, groupby='weighted_deciles',\n",
    "                          income_measure='expanded_income', result_type='weighted_avg')"
   ]
  },
  {
   "cell_type": "code",
   "execution_count": 10,
   "metadata": {},
   "outputs": [
    {
     "ename": "NameError",
     "evalue": "name 'calc_response' is not defined",
     "output_type": "error",
     "traceback": [
      "\u001b[0;31m---------------------------------------------------------------------------\u001b[0m",
      "\u001b[0;31mNameError\u001b[0m                                 Traceback (most recent call last)",
      "\u001b[0;32m<ipython-input-10-b72bd119ddce>\u001b[0m in \u001b[0;36m<module>\u001b[0;34m()\u001b[0m\n\u001b[0;32m----> 1\u001b[0;31m create_distribution_table(calc_response.records, groupby='weighted_deciles',\n\u001b[0m\u001b[1;32m      2\u001b[0m                           income_measure='expanded_income', result_type='weighted_sum')\n",
      "\u001b[0;31mNameError\u001b[0m: name 'calc_response' is not defined"
     ]
    }
   ],
   "source": [
    "create_distribution_table(calc_response.records, groupby='weighted_deciles',\n",
    "                          income_measure='expanded_income', result_type='weighted_sum')"
   ]
  },
  {
   "cell_type": "markdown",
   "metadata": {},
   "source": [
    "#### Differences Table\n",
    "\n",
    "The differences table displays the difference between your baseline and refoms. You can also group the results by decile or income bin."
   ]
  },
  {
   "cell_type": "code",
   "execution_count": null,
   "metadata": {},
   "outputs": [],
   "source": [
    "create_difference_table(calc.records, calc_response.records, groupby='weighted_deciles',\n",
    "                        income_measure='expanded_income', tax_to_diff='combined')"
   ]
  },
  {
   "cell_type": "markdown",
   "metadata": {},
   "source": [
    "#### Plotting\n",
    "\n",
    "You can use built in methods to get MTR and ATR plots. Each one is returned as a simple Bokeh figure that you can then add to as desired"
   ]
  },
  {
   "cell_type": "code",
   "execution_count": null,
   "metadata": {},
   "outputs": [],
   "source": [
    "from bokeh.io import show, output_notebook\n",
    "output_notebook()"
   ]
  },
  {
   "cell_type": "code",
   "execution_count": 11,
   "metadata": {},
   "outputs": [
    {
     "ename": "NameError",
     "evalue": "name 'calc_response' is not defined",
     "output_type": "error",
     "traceback": [
      "\u001b[0;31m---------------------------------------------------------------------------\u001b[0m",
      "\u001b[0;31mNameError\u001b[0m                                 Traceback (most recent call last)",
      "\u001b[0;32m<ipython-input-11-f3d48d3a8b0b>\u001b[0m in \u001b[0;36m<module>\u001b[0;34m()\u001b[0m\n\u001b[0;32m----> 1\u001b[0;31m \u001b[0mmtr_plot_data\u001b[0m \u001b[0;34m=\u001b[0m \u001b[0mmtr_graph_data\u001b[0m\u001b[0;34m(\u001b[0m\u001b[0mcalc\u001b[0m\u001b[0;34m,\u001b[0m \u001b[0mcalc_response\u001b[0m\u001b[0;34m)\u001b[0m\u001b[0;34m\u001b[0m\u001b[0m\n\u001b[0m",
      "\u001b[0;31mNameError\u001b[0m: name 'calc_response' is not defined"
     ]
    }
   ],
   "source": [
    "mtr_plot_data = mtr_graph_data(calc, calc_response)"
   ]
  },
  {
   "cell_type": "code",
   "execution_count": 12,
   "metadata": {},
   "outputs": [
    {
     "ename": "NameError",
     "evalue": "name 'show' is not defined",
     "output_type": "error",
     "traceback": [
      "\u001b[0;31m---------------------------------------------------------------------------\u001b[0m",
      "\u001b[0;31mNameError\u001b[0m                                 Traceback (most recent call last)",
      "\u001b[0;32m<ipython-input-12-7093e56a8583>\u001b[0m in \u001b[0;36m<module>\u001b[0;34m()\u001b[0m\n\u001b[0;32m----> 1\u001b[0;31m \u001b[0mshow\u001b[0m\u001b[0;34m(\u001b[0m\u001b[0mxtr_graph_plot\u001b[0m\u001b[0;34m(\u001b[0m\u001b[0mmtr_plot_data\u001b[0m\u001b[0;34m)\u001b[0m\u001b[0;34m)\u001b[0m\u001b[0;34m\u001b[0m\u001b[0m\n\u001b[0m",
      "\u001b[0;31mNameError\u001b[0m: name 'show' is not defined"
     ]
    }
   ],
   "source": [
    "show(xtr_graph_plot(mtr_plot_data))"
   ]
  },
  {
   "cell_type": "code",
   "execution_count": 13,
   "metadata": {},
   "outputs": [
    {
     "ename": "NameError",
     "evalue": "name 'calc_response' is not defined",
     "output_type": "error",
     "traceback": [
      "\u001b[0;31m---------------------------------------------------------------------------\u001b[0m",
      "\u001b[0;31mNameError\u001b[0m                                 Traceback (most recent call last)",
      "\u001b[0;32m<ipython-input-13-1b510b420799>\u001b[0m in \u001b[0;36m<module>\u001b[0;34m()\u001b[0m\n\u001b[0;32m----> 1\u001b[0;31m \u001b[0matr_plot_data\u001b[0m \u001b[0;34m=\u001b[0m \u001b[0matr_graph_data\u001b[0m\u001b[0;34m(\u001b[0m\u001b[0mcalc\u001b[0m\u001b[0;34m,\u001b[0m \u001b[0mcalc_response\u001b[0m\u001b[0;34m)\u001b[0m\u001b[0;34m\u001b[0m\u001b[0m\n\u001b[0m",
      "\u001b[0;31mNameError\u001b[0m: name 'calc_response' is not defined"
     ]
    }
   ],
   "source": [
    "atr_plot_data = atr_graph_data(calc, calc_response)"
   ]
  },
  {
   "cell_type": "code",
   "execution_count": 14,
   "metadata": {},
   "outputs": [
    {
     "ename": "NameError",
     "evalue": "name 'show' is not defined",
     "output_type": "error",
     "traceback": [
      "\u001b[0;31m---------------------------------------------------------------------------\u001b[0m",
      "\u001b[0;31mNameError\u001b[0m                                 Traceback (most recent call last)",
      "\u001b[0;32m<ipython-input-14-b24eed1713f4>\u001b[0m in \u001b[0;36m<module>\u001b[0;34m()\u001b[0m\n\u001b[0;32m----> 1\u001b[0;31m \u001b[0mshow\u001b[0m\u001b[0;34m(\u001b[0m\u001b[0mxtr_graph_plot\u001b[0m\u001b[0;34m(\u001b[0m\u001b[0matr_plot_data\u001b[0m\u001b[0;34m)\u001b[0m\u001b[0;34m)\u001b[0m\u001b[0;34m\u001b[0m\u001b[0m\n\u001b[0m",
      "\u001b[0;31mNameError\u001b[0m: name 'show' is not defined"
     ]
    }
   ],
   "source": [
    "show(xtr_graph_plot(atr_plot_data))"
   ]
  },
  {
   "cell_type": "markdown",
   "metadata": {},
   "source": [
    "#### Multiyear diagnostic tables\n",
    "\n",
    "You can also produce diagnostic tables up to 2026"
   ]
  },
  {
   "cell_type": "code",
   "execution_count": 15,
   "metadata": {},
   "outputs": [
    {
     "data": {
      "text/html": [
       "<div>\n",
       "<style>\n",
       "    .dataframe thead tr:only-child th {\n",
       "        text-align: right;\n",
       "    }\n",
       "\n",
       "    .dataframe thead th {\n",
       "        text-align: left;\n",
       "    }\n",
       "\n",
       "    .dataframe tbody tr th {\n",
       "        vertical-align: top;\n",
       "    }\n",
       "</style>\n",
       "<table border=\"1\" class=\"dataframe\">\n",
       "  <thead>\n",
       "    <tr style=\"text-align: right;\">\n",
       "      <th></th>\n",
       "      <th>2018</th>\n",
       "      <th>2019</th>\n",
       "      <th>2020</th>\n",
       "      <th>2021</th>\n",
       "      <th>2022</th>\n",
       "      <th>2023</th>\n",
       "      <th>2024</th>\n",
       "      <th>2025</th>\n",
       "      <th>2026</th>\n",
       "    </tr>\n",
       "  </thead>\n",
       "  <tbody>\n",
       "    <tr>\n",
       "      <th>Returns (#m)</th>\n",
       "      <td>169.9</td>\n",
       "      <td>172.2</td>\n",
       "      <td>174.5</td>\n",
       "      <td>176.9</td>\n",
       "      <td>179.3</td>\n",
       "      <td>181.7</td>\n",
       "      <td>184.1</td>\n",
       "      <td>186.6</td>\n",
       "      <td>189.1</td>\n",
       "    </tr>\n",
       "    <tr>\n",
       "      <th>AGI ($b)</th>\n",
       "      <td>10,503.8</td>\n",
       "      <td>10,987.4</td>\n",
       "      <td>11,474.4</td>\n",
       "      <td>11,999.4</td>\n",
       "      <td>12,561.1</td>\n",
       "      <td>13,146.7</td>\n",
       "      <td>13,759.3</td>\n",
       "      <td>14,401.2</td>\n",
       "      <td>15,070.1</td>\n",
       "    </tr>\n",
       "    <tr>\n",
       "      <th>Itemizers (#m)</th>\n",
       "      <td>68.0</td>\n",
       "      <td>69.6</td>\n",
       "      <td>71.2</td>\n",
       "      <td>72.7</td>\n",
       "      <td>74.2</td>\n",
       "      <td>75.9</td>\n",
       "      <td>77.5</td>\n",
       "      <td>79.1</td>\n",
       "      <td>80.8</td>\n",
       "    </tr>\n",
       "    <tr>\n",
       "      <th>Itemized Deduction ($b)</th>\n",
       "      <td>1,500.9</td>\n",
       "      <td>1,585.9</td>\n",
       "      <td>1,672.3</td>\n",
       "      <td>1,765.4</td>\n",
       "      <td>1,863.4</td>\n",
       "      <td>1,967.0</td>\n",
       "      <td>2,075.8</td>\n",
       "      <td>2,189.2</td>\n",
       "      <td>2,312.4</td>\n",
       "    </tr>\n",
       "    <tr>\n",
       "      <th>Standard Deduction Filers (#m)</th>\n",
       "      <td>83.9</td>\n",
       "      <td>84.3</td>\n",
       "      <td>84.8</td>\n",
       "      <td>85.4</td>\n",
       "      <td>86.0</td>\n",
       "      <td>86.5</td>\n",
       "      <td>87.1</td>\n",
       "      <td>87.7</td>\n",
       "      <td>88.3</td>\n",
       "    </tr>\n",
       "    <tr>\n",
       "      <th>Standard Deduction ($b)</th>\n",
       "      <td>771.4</td>\n",
       "      <td>791.5</td>\n",
       "      <td>813.9</td>\n",
       "      <td>838.1</td>\n",
       "      <td>863.3</td>\n",
       "      <td>887.8</td>\n",
       "      <td>914.4</td>\n",
       "      <td>940.9</td>\n",
       "      <td>968.1</td>\n",
       "    </tr>\n",
       "    <tr>\n",
       "      <th>Personal Exemption ($b)</th>\n",
       "      <td>1,222.6</td>\n",
       "      <td>1,266.2</td>\n",
       "      <td>1,312.4</td>\n",
       "      <td>1,361.2</td>\n",
       "      <td>1,412.5</td>\n",
       "      <td>1,464.9</td>\n",
       "      <td>1,519.7</td>\n",
       "      <td>1,576.1</td>\n",
       "      <td>1,634.7</td>\n",
       "    </tr>\n",
       "    <tr>\n",
       "      <th>Taxable Income ($b)</th>\n",
       "      <td>7,421.9</td>\n",
       "      <td>7,768.6</td>\n",
       "      <td>8,113.2</td>\n",
       "      <td>8,485.3</td>\n",
       "      <td>8,886.3</td>\n",
       "      <td>9,305.2</td>\n",
       "      <td>9,742.7</td>\n",
       "      <td>10,203.3</td>\n",
       "      <td>10,678.8</td>\n",
       "    </tr>\n",
       "    <tr>\n",
       "      <th>Regular Tax ($b)</th>\n",
       "      <td>1,369.7</td>\n",
       "      <td>1,442.9</td>\n",
       "      <td>1,514.0</td>\n",
       "      <td>1,590.9</td>\n",
       "      <td>1,672.5</td>\n",
       "      <td>1,756.7</td>\n",
       "      <td>1,843.9</td>\n",
       "      <td>1,935.8</td>\n",
       "      <td>2,029.1</td>\n",
       "    </tr>\n",
       "    <tr>\n",
       "      <th>AMT Income ($b)</th>\n",
       "      <td>9,664.5</td>\n",
       "      <td>10,099.5</td>\n",
       "      <td>10,536.6</td>\n",
       "      <td>11,008.0</td>\n",
       "      <td>11,513.5</td>\n",
       "      <td>12,039.3</td>\n",
       "      <td>12,589.2</td>\n",
       "      <td>13,165.8</td>\n",
       "      <td>13,763.9</td>\n",
       "    </tr>\n",
       "    <tr>\n",
       "      <th>AMT Liability ($b)</th>\n",
       "      <td>18.0</td>\n",
       "      <td>18.5</td>\n",
       "      <td>19.2</td>\n",
       "      <td>20.1</td>\n",
       "      <td>21.1</td>\n",
       "      <td>22.3</td>\n",
       "      <td>23.6</td>\n",
       "      <td>24.9</td>\n",
       "      <td>26.5</td>\n",
       "    </tr>\n",
       "    <tr>\n",
       "      <th>AMT Filers (#m)</th>\n",
       "      <td>4.2</td>\n",
       "      <td>4.3</td>\n",
       "      <td>4.5</td>\n",
       "      <td>4.6</td>\n",
       "      <td>4.7</td>\n",
       "      <td>4.9</td>\n",
       "      <td>5.1</td>\n",
       "      <td>5.3</td>\n",
       "      <td>5.5</td>\n",
       "    </tr>\n",
       "    <tr>\n",
       "      <th>Tax before Credits ($b)</th>\n",
       "      <td>1,387.7</td>\n",
       "      <td>1,461.5</td>\n",
       "      <td>1,533.2</td>\n",
       "      <td>1,611.0</td>\n",
       "      <td>1,693.6</td>\n",
       "      <td>1,779.0</td>\n",
       "      <td>1,867.4</td>\n",
       "      <td>1,960.7</td>\n",
       "      <td>2,055.6</td>\n",
       "    </tr>\n",
       "    <tr>\n",
       "      <th>Refundable Credits ($b)</th>\n",
       "      <td>76.6</td>\n",
       "      <td>78.4</td>\n",
       "      <td>80.5</td>\n",
       "      <td>82.7</td>\n",
       "      <td>84.8</td>\n",
       "      <td>86.8</td>\n",
       "      <td>88.8</td>\n",
       "      <td>90.9</td>\n",
       "      <td>93.0</td>\n",
       "    </tr>\n",
       "    <tr>\n",
       "      <th>Nonrefundable Credits ($b)</th>\n",
       "      <td>32.9</td>\n",
       "      <td>32.9</td>\n",
       "      <td>32.9</td>\n",
       "      <td>32.8</td>\n",
       "      <td>32.6</td>\n",
       "      <td>32.5</td>\n",
       "      <td>32.3</td>\n",
       "      <td>32.1</td>\n",
       "      <td>31.9</td>\n",
       "    </tr>\n",
       "    <tr>\n",
       "      <th>Reform Surtaxes ($b)</th>\n",
       "      <td>0.0</td>\n",
       "      <td>0.0</td>\n",
       "      <td>0.0</td>\n",
       "      <td>0.0</td>\n",
       "      <td>0.0</td>\n",
       "      <td>0.0</td>\n",
       "      <td>0.0</td>\n",
       "      <td>0.0</td>\n",
       "      <td>0.0</td>\n",
       "    </tr>\n",
       "    <tr>\n",
       "      <th>Other Taxes ($b)</th>\n",
       "      <td>9.3</td>\n",
       "      <td>10.0</td>\n",
       "      <td>10.6</td>\n",
       "      <td>11.2</td>\n",
       "      <td>11.9</td>\n",
       "      <td>12.5</td>\n",
       "      <td>13.2</td>\n",
       "      <td>14.0</td>\n",
       "      <td>14.8</td>\n",
       "    </tr>\n",
       "    <tr>\n",
       "      <th>Ind Income Tax ($b)</th>\n",
       "      <td>1,287.5</td>\n",
       "      <td>1,360.1</td>\n",
       "      <td>1,430.4</td>\n",
       "      <td>1,506.8</td>\n",
       "      <td>1,588.1</td>\n",
       "      <td>1,672.3</td>\n",
       "      <td>1,759.6</td>\n",
       "      <td>1,851.7</td>\n",
       "      <td>1,945.6</td>\n",
       "    </tr>\n",
       "    <tr>\n",
       "      <th>Payroll Taxes ($b)</th>\n",
       "      <td>1,233.6</td>\n",
       "      <td>1,290.3</td>\n",
       "      <td>1,344.7</td>\n",
       "      <td>1,402.7</td>\n",
       "      <td>1,465.8</td>\n",
       "      <td>1,533.0</td>\n",
       "      <td>1,603.6</td>\n",
       "      <td>1,677.7</td>\n",
       "      <td>1,755.3</td>\n",
       "    </tr>\n",
       "    <tr>\n",
       "      <th>Combined Liability ($b)</th>\n",
       "      <td>2,521.1</td>\n",
       "      <td>2,650.5</td>\n",
       "      <td>2,775.1</td>\n",
       "      <td>2,909.4</td>\n",
       "      <td>3,053.9</td>\n",
       "      <td>3,205.3</td>\n",
       "      <td>3,363.2</td>\n",
       "      <td>3,529.4</td>\n",
       "      <td>3,700.9</td>\n",
       "    </tr>\n",
       "    <tr>\n",
       "      <th>With Income Tax &lt;= 0 (#m)</th>\n",
       "      <td>72.0</td>\n",
       "      <td>72.6</td>\n",
       "      <td>73.2</td>\n",
       "      <td>73.8</td>\n",
       "      <td>74.4</td>\n",
       "      <td>75.0</td>\n",
       "      <td>75.5</td>\n",
       "      <td>76.1</td>\n",
       "      <td>76.6</td>\n",
       "    </tr>\n",
       "    <tr>\n",
       "      <th>With Combined Tax &lt;= 0 (#m)</th>\n",
       "      <td>48.6</td>\n",
       "      <td>49.1</td>\n",
       "      <td>49.5</td>\n",
       "      <td>49.9</td>\n",
       "      <td>50.4</td>\n",
       "      <td>50.8</td>\n",
       "      <td>51.3</td>\n",
       "      <td>51.7</td>\n",
       "      <td>52.1</td>\n",
       "    </tr>\n",
       "  </tbody>\n",
       "</table>\n",
       "</div>"
      ],
      "text/plain": [
       "                                   2018     2019     2020     2021     2022  \\\n",
       "Returns (#m)                      169.9    172.2    174.5    176.9    179.3   \n",
       "AGI ($b)                       10,503.8 10,987.4 11,474.4 11,999.4 12,561.1   \n",
       "Itemizers (#m)                     68.0     69.6     71.2     72.7     74.2   \n",
       "Itemized Deduction ($b)         1,500.9  1,585.9  1,672.3  1,765.4  1,863.4   \n",
       "Standard Deduction Filers (#m)     83.9     84.3     84.8     85.4     86.0   \n",
       "Standard Deduction ($b)           771.4    791.5    813.9    838.1    863.3   \n",
       "Personal Exemption ($b)         1,222.6  1,266.2  1,312.4  1,361.2  1,412.5   \n",
       "Taxable Income ($b)             7,421.9  7,768.6  8,113.2  8,485.3  8,886.3   \n",
       "Regular Tax ($b)                1,369.7  1,442.9  1,514.0  1,590.9  1,672.5   \n",
       "AMT Income ($b)                 9,664.5 10,099.5 10,536.6 11,008.0 11,513.5   \n",
       "AMT Liability ($b)                 18.0     18.5     19.2     20.1     21.1   \n",
       "AMT Filers (#m)                     4.2      4.3      4.5      4.6      4.7   \n",
       "Tax before Credits ($b)         1,387.7  1,461.5  1,533.2  1,611.0  1,693.6   \n",
       "Refundable Credits ($b)            76.6     78.4     80.5     82.7     84.8   \n",
       "Nonrefundable Credits ($b)         32.9     32.9     32.9     32.8     32.6   \n",
       "Reform Surtaxes ($b)                0.0      0.0      0.0      0.0      0.0   \n",
       "Other Taxes ($b)                    9.3     10.0     10.6     11.2     11.9   \n",
       "Ind Income Tax ($b)             1,287.5  1,360.1  1,430.4  1,506.8  1,588.1   \n",
       "Payroll Taxes ($b)              1,233.6  1,290.3  1,344.7  1,402.7  1,465.8   \n",
       "Combined Liability ($b)         2,521.1  2,650.5  2,775.1  2,909.4  3,053.9   \n",
       "With Income Tax <= 0 (#m)          72.0     72.6     73.2     73.8     74.4   \n",
       "With Combined Tax <= 0 (#m)        48.6     49.1     49.5     49.9     50.4   \n",
       "\n",
       "                                   2023     2024     2025     2026  \n",
       "Returns (#m)                      181.7    184.1    186.6    189.1  \n",
       "AGI ($b)                       13,146.7 13,759.3 14,401.2 15,070.1  \n",
       "Itemizers (#m)                     75.9     77.5     79.1     80.8  \n",
       "Itemized Deduction ($b)         1,967.0  2,075.8  2,189.2  2,312.4  \n",
       "Standard Deduction Filers (#m)     86.5     87.1     87.7     88.3  \n",
       "Standard Deduction ($b)           887.8    914.4    940.9    968.1  \n",
       "Personal Exemption ($b)         1,464.9  1,519.7  1,576.1  1,634.7  \n",
       "Taxable Income ($b)             9,305.2  9,742.7 10,203.3 10,678.8  \n",
       "Regular Tax ($b)                1,756.7  1,843.9  1,935.8  2,029.1  \n",
       "AMT Income ($b)                12,039.3 12,589.2 13,165.8 13,763.9  \n",
       "AMT Liability ($b)                 22.3     23.6     24.9     26.5  \n",
       "AMT Filers (#m)                     4.9      5.1      5.3      5.5  \n",
       "Tax before Credits ($b)         1,779.0  1,867.4  1,960.7  2,055.6  \n",
       "Refundable Credits ($b)            86.8     88.8     90.9     93.0  \n",
       "Nonrefundable Credits ($b)         32.5     32.3     32.1     31.9  \n",
       "Reform Surtaxes ($b)                0.0      0.0      0.0      0.0  \n",
       "Other Taxes ($b)                   12.5     13.2     14.0     14.8  \n",
       "Ind Income Tax ($b)             1,672.3  1,759.6  1,851.7  1,945.6  \n",
       "Payroll Taxes ($b)              1,533.0  1,603.6  1,677.7  1,755.3  \n",
       "Combined Liability ($b)         3,205.3  3,363.2  3,529.4  3,700.9  \n",
       "With Income Tax <= 0 (#m)          75.0     75.5     76.1     76.6  \n",
       "With Combined Tax <= 0 (#m)        50.8     51.3     51.7     52.1  "
      ]
     },
     "execution_count": 15,
     "metadata": {},
     "output_type": "execute_result"
    }
   ],
   "source": [
    "multiyear_diagnostic_table(calc, num_years=9)"
   ]
  },
  {
   "cell_type": "code",
   "execution_count": 16,
   "metadata": {},
   "outputs": [
    {
     "ename": "NameError",
     "evalue": "name 'calc_response' is not defined",
     "output_type": "error",
     "traceback": [
      "\u001b[0;31m---------------------------------------------------------------------------\u001b[0m",
      "\u001b[0;31mNameError\u001b[0m                                 Traceback (most recent call last)",
      "\u001b[0;32m<ipython-input-16-8f2100d86ccc>\u001b[0m in \u001b[0;36m<module>\u001b[0;34m()\u001b[0m\n\u001b[0;32m----> 1\u001b[0;31m \u001b[0mmultiyear_diagnostic_table\u001b[0m\u001b[0;34m(\u001b[0m\u001b[0mcalc_response\u001b[0m\u001b[0;34m,\u001b[0m \u001b[0mnum_years\u001b[0m\u001b[0;34m=\u001b[0m\u001b[0;36m9\u001b[0m\u001b[0;34m)\u001b[0m\u001b[0;34m\u001b[0m\u001b[0m\n\u001b[0m",
      "\u001b[0;31mNameError\u001b[0m: name 'calc_response' is not defined"
     ]
    }
   ],
   "source": [
    "multiyear_diagnostic_table(calc_response, num_years=9)"
   ]
  },
  {
   "cell_type": "markdown",
   "metadata": {},
   "source": [
    "#### Reporting your changes\n",
    "\n",
    "To display what reforms you included in a way that is easy for humans to read, you can use the `reform_documentation` method. It will print out all of the policy parameters you've specified with a short description and their default and current values\n",
    "\n",
    "\n",
    "_Note: this feature is not yet available in the taxcalc package. You must use the source code to access it. It will be available in the next taxcalc release._"
   ]
  },
  {
   "cell_type": "code",
   "execution_count": null,
   "metadata": {},
   "outputs": [],
   "source": [
    "print(calc_response.reform_documentation(reforms))"
   ]
  },
  {
   "cell_type": "markdown",
   "metadata": {},
   "source": [
    "One thing I didn't cover is how to extract the marginal tax rates. All you need to do is call the `Calculator.mtr()` method. It will return MTR for individual income tax, payroll tax, and individaul income tax + payroll tax"
   ]
  },
  {
   "cell_type": "code",
   "execution_count": null,
   "metadata": {
    "collapsed": true
   },
   "outputs": [],
   "source": [
    "mtr_payroll, mtr_income, mtr_combined = calc.mtr()"
   ]
  },
  {
   "cell_type": "code",
   "execution_count": null,
   "metadata": {},
   "outputs": [],
   "source": [
    "mtr_payroll"
   ]
  },
  {
   "cell_type": "code",
   "execution_count": null,
   "metadata": {},
   "outputs": [],
   "source": [
    "mtr_income"
   ]
  },
  {
   "cell_type": "code",
   "execution_count": null,
   "metadata": {},
   "outputs": [],
   "source": [
    "mtr_combined"
   ]
  },
  {
   "cell_type": "code",
   "execution_count": null,
   "metadata": {
    "collapsed": true
   },
   "outputs": [],
   "source": []
  }
 ],
 "metadata": {
  "kernelspec": {
   "display_name": "Python 2",
   "language": "python",
   "name": "python2"
  },
  "language_info": {
   "codemirror_mode": {
    "name": "ipython",
    "version": 2
   },
   "file_extension": ".py",
   "mimetype": "text/x-python",
   "name": "python",
   "nbconvert_exporter": "python",
   "pygments_lexer": "ipython2",
   "version": "2.7.14"
  }
 },
 "nbformat": 4,
 "nbformat_minor": 2
}
