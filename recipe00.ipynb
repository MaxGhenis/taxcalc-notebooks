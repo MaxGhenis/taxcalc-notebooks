{
 "cells": [
  {
   "cell_type": "code",
   "execution_count": 1,
   "metadata": {},
   "outputs": [
    {
     "name": "stdout",
     "output_type": "stream",
     "text": [
      "You loaded data for 2014.\n",
      "Tax-Calculator startup automatically extrapolated your data to 2014.\n"
     ]
    },
    {
     "ename": "ValueError",
     "evalue": "Policy reform text below contains invalid JSON:\nNo JSON object could be decoded\nAbove location of the first error may be approximate.\nThe invalid JSON reform text is between the lines:\nXX----.----1----.----2----.----3----.----4----.----5----.----6----.----7\n01./ingredients/reformA.json\nXX----.----1----.----2----.----3----.----4----.----5----.----6----.----7\n",
     "output_type": "error",
     "traceback": [
      "\u001b[0;31m---------------------------------------------------------------------------\u001b[0m",
      "\u001b[0;31mValueError\u001b[0m                                Traceback (most recent call last)",
      "\u001b[0;32m<ipython-input-1-604d555707a0>\u001b[0m in \u001b[0;36m<module>\u001b[0;34m()\u001b[0m\n\u001b[1;32m     26\u001b[0m \u001b[0mreform_filename\u001b[0m \u001b[0;34m=\u001b[0m \u001b[0;34m'./ingredients/reformA.json'\u001b[0m\u001b[0;34m\u001b[0m\u001b[0m\n\u001b[1;32m     27\u001b[0m params = Calculator.read_json_param_objects(reform=reform_filename,\n\u001b[0;32m---> 28\u001b[0;31m                                             assump=None)\n\u001b[0m\u001b[1;32m     29\u001b[0m \u001b[0;34m\u001b[0m\u001b[0m\n\u001b[1;32m     30\u001b[0m \u001b[0;31m# specify Calculator object for static analysis of reform policy\u001b[0m\u001b[0;34m\u001b[0m\u001b[0;34m\u001b[0m\u001b[0m\n",
      "\u001b[0;32m/usr/local/google/home/mghenis/miniconda2/lib/python2.7/site-packages/taxcalc/calculate.pyc\u001b[0m in \u001b[0;36mread_json_param_objects\u001b[0;34m(reform, assump)\u001b[0m\n\u001b[1;32m    934\u001b[0m                 Calculator._read_json_policy_reform_text(txt,\n\u001b[1;32m    935\u001b[0m                                                          \u001b[0mgdiff_base_dict\u001b[0m\u001b[0;34m,\u001b[0m\u001b[0;34m\u001b[0m\u001b[0m\n\u001b[0;32m--> 936\u001b[0;31m                                                          gdiff_resp_dict)\n\u001b[0m\u001b[1;32m    937\u001b[0m             )\n\u001b[1;32m    938\u001b[0m         \u001b[0;32melse\u001b[0m\u001b[0;34m:\u001b[0m\u001b[0;34m\u001b[0m\u001b[0m\n",
      "\u001b[0;32m/usr/local/google/home/mghenis/miniconda2/lib/python2.7/site-packages/taxcalc/calculate.pyc\u001b[0m in \u001b[0;36m_read_json_policy_reform_text\u001b[0;34m(text_string, growdiff_baseline_dict, growdiff_response_dict)\u001b[0m\n\u001b[1;32m   1259\u001b[0m                 \u001b[0mmsg\u001b[0m \u001b[0;34m+=\u001b[0m \u001b[0;34m'{:02d}{}'\u001b[0m\u001b[0;34m.\u001b[0m\u001b[0mformat\u001b[0m\u001b[0;34m(\u001b[0m\u001b[0mlinenum\u001b[0m\u001b[0;34m,\u001b[0m \u001b[0mline\u001b[0m\u001b[0;34m)\u001b[0m \u001b[0;34m+\u001b[0m \u001b[0;34m'\\n'\u001b[0m\u001b[0;34m\u001b[0m\u001b[0m\n\u001b[1;32m   1260\u001b[0m             \u001b[0mmsg\u001b[0m \u001b[0;34m+=\u001b[0m \u001b[0mbline\u001b[0m \u001b[0;34m+\u001b[0m \u001b[0;34m'\\n'\u001b[0m\u001b[0;34m\u001b[0m\u001b[0m\n\u001b[0;32m-> 1261\u001b[0;31m             \u001b[0;32mraise\u001b[0m \u001b[0mValueError\u001b[0m\u001b[0;34m(\u001b[0m\u001b[0mmsg\u001b[0m\u001b[0;34m)\u001b[0m\u001b[0;34m\u001b[0m\u001b[0m\n\u001b[0m\u001b[1;32m   1262\u001b[0m         \u001b[0;31m# check key contents of dictionary\u001b[0m\u001b[0;34m\u001b[0m\u001b[0;34m\u001b[0m\u001b[0m\n\u001b[1;32m   1263\u001b[0m         \u001b[0mactual_keys\u001b[0m \u001b[0;34m=\u001b[0m \u001b[0mraw_dict\u001b[0m\u001b[0;34m.\u001b[0m\u001b[0mkeys\u001b[0m\u001b[0;34m(\u001b[0m\u001b[0;34m)\u001b[0m\u001b[0;34m\u001b[0m\u001b[0m\n",
      "\u001b[0;31mValueError\u001b[0m: Policy reform text below contains invalid JSON:\nNo JSON object could be decoded\nAbove location of the first error may be approximate.\nThe invalid JSON reform text is between the lines:\nXX----.----1----.----2----.----3----.----4----.----5----.----6----.----7\n01./ingredients/reformA.json\nXX----.----1----.----2----.----3----.----4----.----5----.----6----.----7\n"
     ]
    }
   ],
   "source": [
    "from __future__ import print_function  # necessary only if using Python 2.7\n",
    "from taxcalc import *"
   ]
  },
  {
   "cell_type": "code",
   "execution_count": null,
   "metadata": {
    "collapsed": true
   },
   "outputs": [],
   "source": [
    "# use publicly-available CPS input file\n",
    "recs = Records.cps_constructor()\n",
    "# NOTE: if you have access to the restricted-use IRS-SOI PUF-based input file\n",
    "#       and you have that file (named 'puf.csv') located in the directory\n",
    "#       where this script is located, then you can substitute the following\n",
    "#       statement for the prior statement:\n",
    "# recs = Records()\n",
    "\n",
    "# specify Calculator object for static analysis of current-law policy\n",
    "pol = Policy()\n",
    "calc1 = Calculator(policy=pol, records=recs)\n",
    "\n",
    "# NOTE: calc1 now contains a PRIVATE COPY of pol and a PRIVATE COPY of recs,\n",
    "#       so we can continue to use pol and recs in this script without any\n",
    "#       concern about side effects from Calculator method calls on calc1.\n",
    "\n",
    "# calculate aggregate current-law income tax liabilities for 2018\n",
    "calc1.advance_to_year(2018)\n",
    "calc1.calc_all()\n",
    "itax_rev1 = calc1.weighted_total('iitax')\n",
    "\n",
    "# read JSON reform file and use (the default) static analysis assumptions\n",
    "reform_filename = './ingredients/reformA.json'\n",
    "params = Calculator.read_json_param_objects(reform=reform_filename,\n",
    "                                            assump=None)\n",
    "\n",
    "# specify Calculator object for static analysis of reform policy\n",
    "pol.implement_reform(params['policy'])\n",
    "if pol.reform_errors:  # check for reform error messages\n",
    "    print(pol.reform_errors)\n",
    "    exit(1)\n",
    "calc2 = Calculator(policy=pol, records=recs)\n",
    "\n",
    "# calculate reform income tax liabilities for 2018\n",
    "calc2.advance_to_year(2018)\n",
    "calc2.calc_all()\n",
    "itax_rev2 = calc2.weighted_total('iitax')\n",
    "\n",
    "# print reform documentation\n",
    "print('')\n",
    "print(Calculator.reform_documentation(params))\n",
    "\n",
    "# print total revenue estimates for 2018\n",
    "# (estimates in billons of dollars rounded to nearest hundredth of a billion)\n",
    "print('2018_CLP_itax_rev($B)= {:.2f}'.format(itax_rev1 * 1e-9))\n",
    "print('2018_REF_itax_rev($B)= {:.2f}'.format(itax_rev2 * 1e-9))\n",
    "print('')\n",
    "\n",
    "# generate several other standard results tables:\n",
    "\n",
    "# aggregate diagnostic tables for 2018\n",
    "clp_diagnostic_table = calc1.diagnostic_table(1)\n",
    "ref_diagnostic_table = calc2.diagnostic_table(1)\n",
    "\n",
    "# income-tax distribution for 2018 with CLP and REF results side-by-side\n",
    "dist_table1, dist_table2 = calc1.distribution_tables(calc2)\n",
    "assert isinstance(dist_table1, pd.DataFrame)\n",
    "assert isinstance(dist_table2, pd.DataFrame)\n",
    "dist_extract = pd.DataFrame()\n",
    "dist_extract['funits(#m)'] = dist_table1['s006'] * 1e-6\n",
    "dist_extract['itax1($b)'] = dist_table1['iitax'] * 1e-9\n",
    "dist_extract['itax2($b)'] = dist_table2['iitax'] * 1e-9\n",
    "dist_extract['aftertax_inc1($b)'] = dist_table1['aftertax_income'] * 1e-9\n",
    "dist_extract['aftertax_inc2($b)'] = dist_table2['aftertax_income'] * 1e-9\n",
    "\n",
    "# income-tax difference table by expanded-income decile for 2018\n",
    "diff_table = calc1.difference_table(calc2, tax_to_diff='iitax')\n",
    "assert isinstance(diff_table, pd.DataFrame)\n",
    "diff_extract = pd.DataFrame()\n",
    "dif_colnames = ['count', 'tot_change', 'mean',\n",
    "                'pc_aftertaxinc']\n",
    "ext_colnames = ['funits(#m)', 'agg_diff($b)', 'mean_diff($)',\n",
    "                'aftertaxinc_diff(%)']\n",
    "scaling_factors = [1e-6, 1e-9, 1e0, 1e0, 1e0]\n",
    "for dname, ename, sfactor in zip(dif_colnames, ext_colnames, scaling_factors):\n",
    "    diff_extract[ename] = diff_table[dname] * sfactor\n",
    "\n",
    "# generate a graph and save in an HTML file\n",
    "fig = calc1.decile_graph(calc2)\n",
    "write_graph_file(fig, 'recipe00.graph.html', 'recipe00.graph')\n",
    "\n",
    "print('CLP diagnostic table for 2018:')\n",
    "print(clp_diagnostic_table)\n",
    "print('')\n",
    "print('REF diagnostic table for 2018:')\n",
    "print(ref_diagnostic_table)\n",
    "print('')\n",
    "\n",
    "print('Extract of 2018 distribution tables by baseline expanded-income decile:')\n",
    "print(dist_extract)\n",
    "print('Note: deciles are numbered 0-9 with top decile divided into bottom 5%,')\n",
    "print('      next 4%, and top 1%, in the lines numbered 11-13, respectively')\n",
    "print('')\n",
    "\n",
    "print('Extract of 2018 income-tax difference table by expanded-income decile:')\n",
    "print(diff_extract)\n",
    "print('Note: deciles are numbered 0-9 with top decile divided into bottom 5%,')\n",
    "print('      next 4%, and top 1%, in the lines numbered 11-13, respectively')"
   ]
  },
  {
   "cell_type": "code",
   "execution_count": null,
   "metadata": {
    "collapsed": true
   },
   "outputs": [],
   "source": []
  }
 ],
 "metadata": {
  "kernelspec": {
   "display_name": "Python 2",
   "language": "python",
   "name": "python2"
  },
  "language_info": {
   "codemirror_mode": {
    "name": "ipython",
    "version": 2
   },
   "file_extension": ".py",
   "mimetype": "text/x-python",
   "name": "python",
   "nbconvert_exporter": "python",
   "pygments_lexer": "ipython2",
   "version": "2.7.14"
  }
 },
 "nbformat": 4,
 "nbformat_minor": 2
}
