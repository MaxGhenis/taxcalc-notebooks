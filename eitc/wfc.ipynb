{
 "cells": [
  {
   "cell_type": "markdown",
   "metadata": {},
   "source": [
    "# San Francisco Working Families Credit\n",
    "\n",
    "Analysis of [eligibility criteria](https://www.sfhsa.org/services/jobs-money/working-families-credit-wfc-program/eligibility-wfc) for the San Francisco Working Families Credit:\n",
    "\n",
    "> * Have never received the WFC before\n",
    "* Have earned less than $53,930 in 2017\n",
    "* Have filed your tax return by April 17 deadline\n",
    "* Claim the Earned Income Tax Credit (EITC) on your federal income tax return (see table below for more information)\n",
    "* Claim at least one qualifying dependent child on your federal income tax return\n",
    "* Live in San Francisco\n",
    "\n",
    "The income limit of \\$53,930 is redundant with the EITC claiming, as this is the maximum AGI to claim the EITC, [per IRS guidelines](https://www.irs.gov/credits-deductions/individuals/earned-income-tax-credit/eitc-income-limits-maximum-credit-amounts).\n",
    "\n",
    "This notebook uses national CPS data to estimate the share of all EITC filers that have a qualifying dependent child.\n",
    "\n",
    "While these criteria concern 2017 thresholds, this analysis uses 2018 data and tax logic, as any reforms would be for the 2018 tax year (early 2019).\n",
    "\n",
    "*Data: CPS  |  Tax year: 2018  |  Type: Static  |  Author: Max Ghenis  |  Date run: 2018-03-08*"
   ]
  },
  {
   "cell_type": "markdown",
   "metadata": {},
   "source": [
    "## Setup\n",
    "\n",
    "### Imports"
   ]
  },
  {
   "cell_type": "code",
   "execution_count": 1,
   "metadata": {
    "collapsed": true
   },
   "outputs": [],
   "source": [
    "import taxcalc as tc\n",
    "import pandas as pd\n",
    "import numpy as np\n",
    "import copy\n",
    "from bokeh.io import show, output_notebook\n",
    "import matplotlib as mpl\n",
    "import matplotlib.pyplot as plt\n",
    "import seaborn as sns\n",
    "# On Python 3.6 use \"import urllib.request as url_lib\".\n",
    "import urllib as url_lib"
   ]
  },
  {
   "cell_type": "code",
   "execution_count": 2,
   "metadata": {},
   "outputs": [
    {
     "data": {
      "text/plain": [
       "'0.16.1'"
      ]
     },
     "execution_count": 2,
     "metadata": {},
     "output_type": "execute_result"
    }
   ],
   "source": [
    "tc.__version__"
   ]
  },
  {
   "cell_type": "markdown",
   "metadata": {},
   "source": [
    "### Configuration"
   ]
  },
  {
   "cell_type": "code",
   "execution_count": 3,
   "metadata": {
    "collapsed": true
   },
   "outputs": [],
   "source": [
    "sns.set_style('white')\n",
    "DPI = 75\n",
    "mpl.rc('savefig', dpi=DPI)\n",
    "mpl.rcParams['figure.dpi']= DPI\n",
    "mpl.rcParams['figure.figsize'] = 6.4, 4.8  # Default."
   ]
  },
  {
   "cell_type": "code",
   "execution_count": 4,
   "metadata": {
    "collapsed": true
   },
   "outputs": [],
   "source": [
    "mpl.rcParams['font.sans-serif'] = 'Roboto'\n",
    "mpl.rcParams['font.family'] = 'sans-serif'\n",
    "\n",
    "# Set title text color to dark gray (https://material.io/color) not black.\n",
    "TITLE_COLOR = '#212121'\n",
    "mpl.rcParams['text.color'] = TITLE_COLOR\n",
    "\n",
    "# Axis titles and tick marks are medium gray.\n",
    "AXIS_COLOR = '#757575'\n",
    "mpl.rcParams['axes.labelcolor'] = AXIS_COLOR\n",
    "mpl.rcParams['xtick.color'] = AXIS_COLOR\n",
    "mpl.rcParams['ytick.color'] = AXIS_COLOR\n",
    "\n",
    "# Use Seaborn's default color palette.\n",
    "# https://stackoverflow.com/q/48958426/1840471 for reproducibility.\n",
    "sns.set_palette(sns.color_palette())"
   ]
  },
  {
   "cell_type": "code",
   "execution_count": 6,
   "metadata": {
    "collapsed": true
   },
   "outputs": [],
   "source": [
    "# Show one decimal in tables.\n",
    "pd.set_option('precision', 2)"
   ]
  },
  {
   "cell_type": "markdown",
   "metadata": {},
   "source": [
    "### Constants"
   ]
  },
  {
   "cell_type": "code",
   "execution_count": 5,
   "metadata": {
    "collapsed": true
   },
   "outputs": [],
   "source": [
    "WFC_INC_C = 53930"
   ]
  },
  {
   "cell_type": "markdown",
   "metadata": {},
   "source": [
    "## Data\n",
    "\n",
    "Generate data using Tax-Calculator."
   ]
  },
  {
   "cell_type": "code",
   "execution_count": 7,
   "metadata": {
    "collapsed": true
   },
   "outputs": [],
   "source": [
    "recs = tc.Records.cps_constructor()"
   ]
  },
  {
   "cell_type": "code",
   "execution_count": 8,
   "metadata": {},
   "outputs": [
    {
     "name": "stdout",
     "output_type": "stream",
     "text": [
      "You loaded data for 2014.\n",
      "Tax-Calculator startup automatically extrapolated your data to 2014.\n"
     ]
    }
   ],
   "source": [
    "calc = tc.Calculator(records=recs, policy=tc.Policy())\n",
    "calc.advance_to_year(2018)\n",
    "calc.calc_all()"
   ]
  },
  {
   "cell_type": "code",
   "execution_count": 14,
   "metadata": {
    "collapsed": true
   },
   "outputs": [],
   "source": [
    "df = calc.dataframe([\n",
    "    's006', 'aftertax_income', 'XTOT',\n",
    "    'EIC',  # Children eligible for EITC.\n",
    "    'eitc',  # EITC amount.\n",
    "    'c00100',  # AGI, used for EITC threshold.\n",
    "    # Include non-cash benefits to subtract for cash income.\n",
    "    # Vet and other benefits have some cash components, but unclear how much.\n",
    "    'snap_ben', 'mcaid_ben', 'mcare_ben', 'vet_ben', 'other_ben'])"
   ]
  },
  {
   "cell_type": "markdown",
   "metadata": {},
   "source": [
    "Flags for WFC."
   ]
  },
  {
   "cell_type": "code",
   "execution_count": 20,
   "metadata": {
    "collapsed": true
   },
   "outputs": [],
   "source": [
    "df['wfc_agi_eligible'] = df['c00100'] < WFC_INC_C\n",
    "df['has_EIC'] = df['EIC'] > 0"
   ]
  },
  {
   "cell_type": "markdown",
   "metadata": {},
   "source": [
    "Summed variables."
   ]
  },
  {
   "cell_type": "code",
   "execution_count": 17,
   "metadata": {
    "collapsed": true
   },
   "outputs": [],
   "source": [
    "df['XTOT_m'] = df['XTOT'] * df['s006'] / 1e6\n",
    "df['EIC_m'] = df['EIC'] * df['s006'] / 1e6\n",
    "df['eitc_m'] = df['eitc'] * df['s006'] / 1e6\n",
    "df['aftertax_income_m'] = df['aftertax_income'] * df['s006'] / 1e6"
   ]
  },
  {
   "cell_type": "markdown",
   "metadata": {},
   "source": [
    "Limit to EITC recipients and compute shares of tax units and people."
   ]
  },
  {
   "cell_type": "code",
   "execution_count": 31,
   "metadata": {},
   "outputs": [],
   "source": [
    "eitcr = df[df['eitc'] > 0].copy()  # Avoids warning.\n",
    "eitcr['s006_share'] = 100 * eitcr['s006'] / eitcr['s006'].sum()\n",
    "eitcr['XTOT_share'] = 100 * eitcr['XTOT_m'] / eitcr['XTOT_m'].sum()"
   ]
  },
  {
   "cell_type": "markdown",
   "metadata": {},
   "source": [
    "## Analysis"
   ]
  },
  {
   "cell_type": "code",
   "execution_count": 32,
   "metadata": {},
   "outputs": [
    {
     "data": {
      "text/html": [
       "<div>\n",
       "<style scoped>\n",
       "    .dataframe tbody tr th:only-of-type {\n",
       "        vertical-align: middle;\n",
       "    }\n",
       "\n",
       "    .dataframe tbody tr th {\n",
       "        vertical-align: top;\n",
       "    }\n",
       "\n",
       "    .dataframe thead th {\n",
       "        text-align: right;\n",
       "    }\n",
       "</style>\n",
       "<table border=\"1\" class=\"dataframe\">\n",
       "  <thead>\n",
       "    <tr style=\"text-align: right;\">\n",
       "      <th></th>\n",
       "      <th></th>\n",
       "      <th>s006_share</th>\n",
       "      <th>XTOT_share</th>\n",
       "    </tr>\n",
       "    <tr>\n",
       "      <th>wfc_agi_eligible</th>\n",
       "      <th>has_EIC</th>\n",
       "      <th></th>\n",
       "      <th></th>\n",
       "    </tr>\n",
       "  </thead>\n",
       "  <tbody>\n",
       "    <tr>\n",
       "      <th>False</th>\n",
       "      <th>True</th>\n",
       "      <td>0.14</td>\n",
       "      <td>0.30</td>\n",
       "    </tr>\n",
       "    <tr>\n",
       "      <th rowspan=\"2\" valign=\"top\">True</th>\n",
       "      <th>False</th>\n",
       "      <td>24.24</td>\n",
       "      <td>14.45</td>\n",
       "    </tr>\n",
       "    <tr>\n",
       "      <th>True</th>\n",
       "      <td>75.62</td>\n",
       "      <td>85.25</td>\n",
       "    </tr>\n",
       "  </tbody>\n",
       "</table>\n",
       "</div>"
      ],
      "text/plain": [
       "                          s006_share  XTOT_share\n",
       "wfc_agi_eligible has_EIC                        \n",
       "False            True           0.14        0.30\n",
       "True             False         24.24       14.45\n",
       "                 True          75.62       85.25"
      ]
     },
     "execution_count": 32,
     "metadata": {},
     "output_type": "execute_result"
    }
   ],
   "source": [
    "eitcr.groupby(['wfc_agi_eligible', 'has_EIC'])['s006_share', \n",
    "                                               'XTOT_share'].sum()"
   ]
  },
  {
   "cell_type": "code",
   "execution_count": null,
   "metadata": {
    "collapsed": true
   },
   "outputs": [],
   "source": [
    "eitcr['s006'].sum()"
   ]
  },
  {
   "cell_type": "code",
   "execution_count": 10,
   "metadata": {},
   "outputs": [
    {
     "data": {
      "text/html": [
       "<div>\n",
       "<style scoped>\n",
       "    .dataframe tbody tr th:only-of-type {\n",
       "        vertical-align: middle;\n",
       "    }\n",
       "\n",
       "    .dataframe tbody tr th {\n",
       "        vertical-align: top;\n",
       "    }\n",
       "\n",
       "    .dataframe thead th {\n",
       "        text-align: right;\n",
       "    }\n",
       "</style>\n",
       "<table border=\"1\" class=\"dataframe\">\n",
       "  <thead>\n",
       "    <tr style=\"text-align: right;\">\n",
       "      <th></th>\n",
       "      <th>s006</th>\n",
       "      <th>aftertax_income</th>\n",
       "      <th>EIC</th>\n",
       "      <th>eitc</th>\n",
       "      <th>c00100</th>\n",
       "      <th>snap_ben</th>\n",
       "      <th>mcaid_ben</th>\n",
       "      <th>mcare_ben</th>\n",
       "      <th>vet_ben</th>\n",
       "      <th>other_ben</th>\n",
       "    </tr>\n",
       "  </thead>\n",
       "  <tbody>\n",
       "    <tr>\n",
       "      <th>0</th>\n",
       "      <td>239.46</td>\n",
       "      <td>42287.55</td>\n",
       "      <td>0.0</td>\n",
       "      <td>0.00</td>\n",
       "      <td>48553.93</td>\n",
       "      <td>0.0</td>\n",
       "      <td>0.0</td>\n",
       "      <td>0.0</td>\n",
       "      <td>0.0</td>\n",
       "      <td>0.00</td>\n",
       "    </tr>\n",
       "    <tr>\n",
       "      <th>1</th>\n",
       "      <td>202.59</td>\n",
       "      <td>20461.07</td>\n",
       "      <td>1.0</td>\n",
       "      <td>3468.00</td>\n",
       "      <td>16884.75</td>\n",
       "      <td>0.0</td>\n",
       "      <td>0.0</td>\n",
       "      <td>0.0</td>\n",
       "      <td>0.0</td>\n",
       "      <td>0.00</td>\n",
       "    </tr>\n",
       "    <tr>\n",
       "      <th>2</th>\n",
       "      <td>255.35</td>\n",
       "      <td>96222.03</td>\n",
       "      <td>0.0</td>\n",
       "      <td>0.00</td>\n",
       "      <td>0.00</td>\n",
       "      <td>915.0</td>\n",
       "      <td>46676.0</td>\n",
       "      <td>1914.0</td>\n",
       "      <td>0.0</td>\n",
       "      <td>30202.76</td>\n",
       "    </tr>\n",
       "    <tr>\n",
       "      <th>3</th>\n",
       "      <td>178.36</td>\n",
       "      <td>26597.38</td>\n",
       "      <td>1.0</td>\n",
       "      <td>2746.84</td>\n",
       "      <td>23218.36</td>\n",
       "      <td>0.0</td>\n",
       "      <td>634.0</td>\n",
       "      <td>0.0</td>\n",
       "      <td>0.0</td>\n",
       "      <td>372.92</td>\n",
       "    </tr>\n",
       "    <tr>\n",
       "      <th>4</th>\n",
       "      <td>270.80</td>\n",
       "      <td>41631.34</td>\n",
       "      <td>0.0</td>\n",
       "      <td>0.00</td>\n",
       "      <td>1048.81</td>\n",
       "      <td>0.0</td>\n",
       "      <td>0.0</td>\n",
       "      <td>5828.0</td>\n",
       "      <td>0.0</td>\n",
       "      <td>0.00</td>\n",
       "    </tr>\n",
       "  </tbody>\n",
       "</table>\n",
       "</div>"
      ],
      "text/plain": [
       "     s006  aftertax_income  EIC     eitc    c00100  snap_ben  mcaid_ben  \\\n",
       "0  239.46         42287.55  0.0     0.00  48553.93       0.0        0.0   \n",
       "1  202.59         20461.07  1.0  3468.00  16884.75       0.0        0.0   \n",
       "2  255.35         96222.03  0.0     0.00      0.00     915.0    46676.0   \n",
       "3  178.36         26597.38  1.0  2746.84  23218.36       0.0      634.0   \n",
       "4  270.80         41631.34  0.0     0.00   1048.81       0.0        0.0   \n",
       "\n",
       "   mcare_ben  vet_ben  other_ben  \n",
       "0        0.0      0.0       0.00  \n",
       "1        0.0      0.0       0.00  \n",
       "2     1914.0      0.0   30202.76  \n",
       "3        0.0      0.0     372.92  \n",
       "4     5828.0      0.0       0.00  "
      ]
     },
     "execution_count": 10,
     "metadata": {},
     "output_type": "execute_result"
    }
   ],
   "source": [
    "df.head()"
   ]
  }
 ],
 "metadata": {
  "kernelspec": {
   "display_name": "Python 2",
   "language": "python",
   "name": "python2"
  },
  "language_info": {
   "codemirror_mode": {
    "name": "ipython",
    "version": 2
   },
   "file_extension": ".py",
   "mimetype": "text/x-python",
   "name": "python",
   "nbconvert_exporter": "python",
   "pygments_lexer": "ipython2",
   "version": "2.7.14"
  },
  "toc": {
   "nav_menu": {},
   "number_sections": true,
   "sideBar": true,
   "skip_h1_title": false,
   "title_cell": "Table of Contents",
   "title_sidebar": "Contents",
   "toc_cell": false,
   "toc_position": {},
   "toc_section_display": true,
   "toc_window_display": true
  }
 },
 "nbformat": 4,
 "nbformat_minor": 2
}
