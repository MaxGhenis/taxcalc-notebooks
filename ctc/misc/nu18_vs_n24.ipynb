{
 "cells": [
  {
   "cell_type": "markdown",
   "metadata": {},
   "source": [
    "# `nu18` vs `n24`\n",
    "\n",
    "`n24` is the \"Number of children eligible for Child Tax Credit\" according to [Tax-Calculator documentation](http://open-source-economics.github.io/Tax-Calculator/). `nu18` is the number of people under age 18.\n",
    "\n",
    "Based on the Child Tax Credit's [definition of child](https://www.thebalance.com/child-tax-credit-3193009), this should be a subset of children under age 18. One criterion is being under age 17, and others limit further within that.\n",
    "\n",
    "This notebook examines tax units that violate this assumption by having `n24 > nu18`. This is discussed in [taxdata issue #157](https://github.com/open-source-economics/taxdata/issues/157).\n",
    "\n",
    "*Data: CPS  |  Tax year: 2014  |  Author: Max Ghenis*"
   ]
  },
  {
   "cell_type": "markdown",
   "metadata": {},
   "source": [
    "## Setup\n",
    "\n",
    "### Imports"
   ]
  },
  {
   "cell_type": "code",
   "execution_count": 1,
   "metadata": {},
   "outputs": [],
   "source": [
    "import taxcalc as tc\n",
    "import pandas as pd\n",
    "import numpy as np\n",
    "import matplotlib as mpl\n",
    "import matplotlib.pyplot as plt\n",
    "import seaborn as sns"
   ]
  },
  {
   "cell_type": "code",
   "execution_count": 2,
   "metadata": {},
   "outputs": [
    {
     "data": {
      "text/plain": [
       "'0.19.0'"
      ]
     },
     "execution_count": 2,
     "metadata": {},
     "output_type": "execute_result"
    }
   ],
   "source": [
    "tc.__version__"
   ]
  },
  {
   "cell_type": "code",
   "execution_count": 3,
   "metadata": {},
   "outputs": [],
   "source": [
    "# Specify number of decimals in tables.\n",
    "pd.set_option('precision', 2)"
   ]
  },
  {
   "cell_type": "markdown",
   "metadata": {},
   "source": [
    "## Summaries"
   ]
  },
  {
   "cell_type": "code",
   "execution_count": 4,
   "metadata": {},
   "outputs": [
    {
     "name": "stdout",
     "output_type": "stream",
     "text": [
      "You loaded data for 2014.\n",
      "Tax-Calculator startup automatically extrapolated your data to 2014.\n"
     ]
    }
   ],
   "source": [
    "recs = tc.Records.cps_constructor()\n",
    "calc = tc.Calculator(records=recs, policy=tc.Policy())\n",
    "calc.calc_all()"
   ]
  },
  {
   "cell_type": "markdown",
   "metadata": {},
   "source": [
    "We only care about records `n24 > 0`."
   ]
  },
  {
   "cell_type": "code",
   "execution_count": 5,
   "metadata": {},
   "outputs": [],
   "source": [
    "full = calc.dataframe(['s006', 'nu18', 'n24'])"
   ]
  },
  {
   "cell_type": "code",
   "execution_count": 6,
   "metadata": {},
   "outputs": [],
   "source": [
    "full['nu18_s006'] = full.nu18 * full.s006\n",
    "full['n24_s006'] = full.n24 * full.s006\n",
    "full['n24_gt_nu18'] = full.n24 > full.nu18\n",
    "full['n24_vs_nu18'] = np.where(full.n24 > full.nu18, 'n24 greater',\n",
    "                               np.where(full.nu18 > full.n24, \n",
    "                                        'nu18 greater', 'equal'))"
   ]
  },
  {
   "cell_type": "markdown",
   "metadata": {},
   "source": [
    "Total `nu18` and `n24`."
   ]
  },
  {
   "cell_type": "code",
   "execution_count": 7,
   "metadata": {},
   "outputs": [
    {
     "data": {
      "text/plain": [
       "76.33952"
      ]
     },
     "execution_count": 7,
     "metadata": {},
     "output_type": "execute_result"
    }
   ],
   "source": [
    "full.n24_s006.sum() / 1e6"
   ]
  },
  {
   "cell_type": "code",
   "execution_count": 8,
   "metadata": {},
   "outputs": [
    {
     "data": {
      "text/plain": [
       "78.647872"
      ]
     },
     "execution_count": 8,
     "metadata": {},
     "output_type": "execute_result"
    }
   ],
   "source": [
    "full.nu18_s006.sum() / 1e6"
   ]
  },
  {
   "cell_type": "code",
   "execution_count": 9,
   "metadata": {},
   "outputs": [
    {
     "data": {
      "text/html": [
       "<div>\n",
       "<style scoped>\n",
       "    .dataframe tbody tr th:only-of-type {\n",
       "        vertical-align: middle;\n",
       "    }\n",
       "\n",
       "    .dataframe tbody tr th {\n",
       "        vertical-align: top;\n",
       "    }\n",
       "\n",
       "    .dataframe thead th {\n",
       "        text-align: right;\n",
       "    }\n",
       "</style>\n",
       "<table border=\"1\" class=\"dataframe\">\n",
       "  <thead>\n",
       "    <tr style=\"text-align: right;\">\n",
       "      <th></th>\n",
       "      <th>n24_s006</th>\n",
       "      <th>nu18_s006</th>\n",
       "      <th>s006</th>\n",
       "    </tr>\n",
       "    <tr>\n",
       "      <th>n24_vs_nu18</th>\n",
       "      <th></th>\n",
       "      <th></th>\n",
       "      <th></th>\n",
       "    </tr>\n",
       "  </thead>\n",
       "  <tbody>\n",
       "    <tr>\n",
       "      <th>equal</th>\n",
       "      <td>5.39e+07</td>\n",
       "      <td>5.39e+07</td>\n",
       "      <td>1.42e+08</td>\n",
       "    </tr>\n",
       "    <tr>\n",
       "      <th>n24 greater</th>\n",
       "      <td>1.40e+07</td>\n",
       "      <td>1.16e+06</td>\n",
       "      <td>8.24e+06</td>\n",
       "    </tr>\n",
       "    <tr>\n",
       "      <th>nu18 greater</th>\n",
       "      <td>8.42e+06</td>\n",
       "      <td>2.36e+07</td>\n",
       "      <td>1.32e+07</td>\n",
       "    </tr>\n",
       "  </tbody>\n",
       "</table>\n",
       "</div>"
      ],
      "text/plain": [
       "              n24_s006  nu18_s006      s006\n",
       "n24_vs_nu18                                \n",
       "equal         5.39e+07   5.39e+07  1.42e+08\n",
       "n24 greater   1.40e+07   1.16e+06  8.24e+06\n",
       "nu18 greater  8.42e+06   2.36e+07  1.32e+07"
      ]
     },
     "execution_count": 9,
     "metadata": {},
     "output_type": "execute_result"
    }
   ],
   "source": [
    "full.pivot_table(index='n24_vs_nu18', \n",
    "                 values=['s006', 'n24_s006', 'nu18_s006'],\n",
    "                 aggfunc=sum)"
   ]
  },
  {
   "cell_type": "markdown",
   "metadata": {},
   "source": [
    "Limit to `n24>0` for remainder."
   ]
  },
  {
   "cell_type": "code",
   "execution_count": 10,
   "metadata": {},
   "outputs": [],
   "source": [
    "df = full[full.n24 > 0]"
   ]
  },
  {
   "cell_type": "code",
   "execution_count": 11,
   "metadata": {},
   "outputs": [
    {
     "data": {
      "text/html": [
       "<div>\n",
       "<style scoped>\n",
       "    .dataframe tbody tr th:only-of-type {\n",
       "        vertical-align: middle;\n",
       "    }\n",
       "\n",
       "    .dataframe tbody tr th {\n",
       "        vertical-align: top;\n",
       "    }\n",
       "\n",
       "    .dataframe thead th {\n",
       "        text-align: right;\n",
       "    }\n",
       "</style>\n",
       "<table border=\"1\" class=\"dataframe\">\n",
       "  <thead>\n",
       "    <tr style=\"text-align: right;\">\n",
       "      <th></th>\n",
       "      <th>n24_s006</th>\n",
       "      <th>nu18_s006</th>\n",
       "      <th>s006</th>\n",
       "    </tr>\n",
       "    <tr>\n",
       "      <th>n24_gt_nu18</th>\n",
       "      <th></th>\n",
       "      <th></th>\n",
       "      <th></th>\n",
       "    </tr>\n",
       "  </thead>\n",
       "  <tbody>\n",
       "    <tr>\n",
       "      <th>False</th>\n",
       "      <td>6.24e+07</td>\n",
       "      <td>6.78e+07</td>\n",
       "      <td>3.57e+07</td>\n",
       "    </tr>\n",
       "    <tr>\n",
       "      <th>True</th>\n",
       "      <td>1.40e+07</td>\n",
       "      <td>1.16e+06</td>\n",
       "      <td>8.24e+06</td>\n",
       "    </tr>\n",
       "  </tbody>\n",
       "</table>\n",
       "</div>"
      ],
      "text/plain": [
       "             n24_s006  nu18_s006      s006\n",
       "n24_gt_nu18                               \n",
       "False        6.24e+07   6.78e+07  3.57e+07\n",
       "True         1.40e+07   1.16e+06  8.24e+06"
      ]
     },
     "execution_count": 11,
     "metadata": {},
     "output_type": "execute_result"
    }
   ],
   "source": [
    "df.pivot_table(index='n24_gt_nu18', \n",
    "               values=['s006', 'n24_s006', 'nu18_s006'],\n",
    "               aggfunc=sum)"
   ]
  },
  {
   "cell_type": "markdown",
   "metadata": {},
   "source": [
    "Drill into records where `n24>nu18` by `nu18`."
   ]
  },
  {
   "cell_type": "code",
   "execution_count": 12,
   "metadata": {},
   "outputs": [
    {
     "data": {
      "text/html": [
       "<div>\n",
       "<style scoped>\n",
       "    .dataframe tbody tr th:only-of-type {\n",
       "        vertical-align: middle;\n",
       "    }\n",
       "\n",
       "    .dataframe tbody tr th {\n",
       "        vertical-align: top;\n",
       "    }\n",
       "\n",
       "    .dataframe thead th {\n",
       "        text-align: right;\n",
       "    }\n",
       "</style>\n",
       "<table border=\"1\" class=\"dataframe\">\n",
       "  <thead>\n",
       "    <tr style=\"text-align: right;\">\n",
       "      <th></th>\n",
       "      <th>n24_s006</th>\n",
       "      <th>nu18_s006</th>\n",
       "      <th>s006</th>\n",
       "    </tr>\n",
       "    <tr>\n",
       "      <th>nu18</th>\n",
       "      <th></th>\n",
       "      <th></th>\n",
       "      <th></th>\n",
       "    </tr>\n",
       "  </thead>\n",
       "  <tbody>\n",
       "    <tr>\n",
       "      <th>0.0</th>\n",
       "      <td>1.12e+07</td>\n",
       "      <td>0.00e+00</td>\n",
       "      <td>7.18e+06</td>\n",
       "    </tr>\n",
       "    <tr>\n",
       "      <th>1.0</th>\n",
       "      <td>2.52e+06</td>\n",
       "      <td>1.01e+06</td>\n",
       "      <td>1.01e+06</td>\n",
       "    </tr>\n",
       "    <tr>\n",
       "      <th>2.0</th>\n",
       "      <td>9.39e+04</td>\n",
       "      <td>5.34e+04</td>\n",
       "      <td>2.67e+04</td>\n",
       "    </tr>\n",
       "    <tr>\n",
       "      <th>3.0</th>\n",
       "      <td>4.26e+04</td>\n",
       "      <td>3.10e+04</td>\n",
       "      <td>1.03e+04</td>\n",
       "    </tr>\n",
       "    <tr>\n",
       "      <th>4.0</th>\n",
       "      <td>8.38e+04</td>\n",
       "      <td>6.70e+04</td>\n",
       "      <td>1.68e+04</td>\n",
       "    </tr>\n",
       "  </tbody>\n",
       "</table>\n",
       "</div>"
      ],
      "text/plain": [
       "      n24_s006  nu18_s006      s006\n",
       "nu18                               \n",
       "0.0   1.12e+07   0.00e+00  7.18e+06\n",
       "1.0   2.52e+06   1.01e+06  1.01e+06\n",
       "2.0   9.39e+04   5.34e+04  2.67e+04\n",
       "3.0   4.26e+04   3.10e+04  1.03e+04\n",
       "4.0   8.38e+04   6.70e+04  1.68e+04"
      ]
     },
     "execution_count": 12,
     "metadata": {},
     "output_type": "execute_result"
    }
   ],
   "source": [
    "df[df.n24_gt_nu18].pivot_table(\n",
    "    index='nu18', \n",
    "    values=['s006', 'n24_s006', 'nu18_s006'],\n",
    "    aggfunc=sum)"
   ]
  },
  {
   "cell_type": "code",
   "execution_count": 13,
   "metadata": {},
   "outputs": [
    {
     "data": {
      "text/html": [
       "<div>\n",
       "<style scoped>\n",
       "    .dataframe tbody tr th:only-of-type {\n",
       "        vertical-align: middle;\n",
       "    }\n",
       "\n",
       "    .dataframe tbody tr th {\n",
       "        vertical-align: top;\n",
       "    }\n",
       "\n",
       "    .dataframe thead tr th {\n",
       "        text-align: left;\n",
       "    }\n",
       "\n",
       "    .dataframe thead tr:last-of-type th {\n",
       "        text-align: right;\n",
       "    }\n",
       "</style>\n",
       "<table border=\"1\" class=\"dataframe\">\n",
       "  <thead>\n",
       "    <tr>\n",
       "      <th></th>\n",
       "      <th colspan=\"5\" halign=\"left\">n24_s006</th>\n",
       "      <th colspan=\"5\" halign=\"left\">nu18_s006</th>\n",
       "      <th colspan=\"5\" halign=\"left\">s006</th>\n",
       "    </tr>\n",
       "    <tr>\n",
       "      <th>n24</th>\n",
       "      <th>1.0</th>\n",
       "      <th>2.0</th>\n",
       "      <th>3.0</th>\n",
       "      <th>4.0</th>\n",
       "      <th>5.0</th>\n",
       "      <th>1.0</th>\n",
       "      <th>2.0</th>\n",
       "      <th>3.0</th>\n",
       "      <th>4.0</th>\n",
       "      <th>5.0</th>\n",
       "      <th>1.0</th>\n",
       "      <th>2.0</th>\n",
       "      <th>3.0</th>\n",
       "      <th>4.0</th>\n",
       "      <th>5.0</th>\n",
       "    </tr>\n",
       "    <tr>\n",
       "      <th>nu18</th>\n",
       "      <th></th>\n",
       "      <th></th>\n",
       "      <th></th>\n",
       "      <th></th>\n",
       "      <th></th>\n",
       "      <th></th>\n",
       "      <th></th>\n",
       "      <th></th>\n",
       "      <th></th>\n",
       "      <th></th>\n",
       "      <th></th>\n",
       "      <th></th>\n",
       "      <th></th>\n",
       "      <th></th>\n",
       "      <th></th>\n",
       "    </tr>\n",
       "  </thead>\n",
       "  <tbody>\n",
       "    <tr>\n",
       "      <th>0.0</th>\n",
       "      <td>4.31e+06</td>\n",
       "      <td>3.95e+06</td>\n",
       "      <td>1.96e+06</td>\n",
       "      <td>697956.0</td>\n",
       "      <td>324815.0</td>\n",
       "      <td>0.0</td>\n",
       "      <td>0.0</td>\n",
       "      <td>0.0</td>\n",
       "      <td>0.0</td>\n",
       "      <td>0.0</td>\n",
       "      <td>4.31e+06</td>\n",
       "      <td>1.97e+06</td>\n",
       "      <td>654623.0</td>\n",
       "      <td>174489.0</td>\n",
       "      <td>64963.0</td>\n",
       "    </tr>\n",
       "    <tr>\n",
       "      <th>1.0</th>\n",
       "      <td>NaN</td>\n",
       "      <td>1.32e+06</td>\n",
       "      <td>6.82e+05</td>\n",
       "      <td>361224.0</td>\n",
       "      <td>157745.0</td>\n",
       "      <td>NaN</td>\n",
       "      <td>658109.0</td>\n",
       "      <td>227218.0</td>\n",
       "      <td>90306.0</td>\n",
       "      <td>31549.0</td>\n",
       "      <td>NaN</td>\n",
       "      <td>6.58e+05</td>\n",
       "      <td>227218.0</td>\n",
       "      <td>90306.0</td>\n",
       "      <td>31549.0</td>\n",
       "    </tr>\n",
       "    <tr>\n",
       "      <th>2.0</th>\n",
       "      <td>NaN</td>\n",
       "      <td>NaN</td>\n",
       "      <td>5.05e+04</td>\n",
       "      <td>23680.0</td>\n",
       "      <td>19700.0</td>\n",
       "      <td>NaN</td>\n",
       "      <td>NaN</td>\n",
       "      <td>33654.0</td>\n",
       "      <td>11840.0</td>\n",
       "      <td>7880.0</td>\n",
       "      <td>NaN</td>\n",
       "      <td>NaN</td>\n",
       "      <td>16827.0</td>\n",
       "      <td>5920.0</td>\n",
       "      <td>3940.0</td>\n",
       "    </tr>\n",
       "    <tr>\n",
       "      <th>3.0</th>\n",
       "      <td>NaN</td>\n",
       "      <td>NaN</td>\n",
       "      <td>NaN</td>\n",
       "      <td>36104.0</td>\n",
       "      <td>6500.0</td>\n",
       "      <td>NaN</td>\n",
       "      <td>NaN</td>\n",
       "      <td>NaN</td>\n",
       "      <td>27078.0</td>\n",
       "      <td>3900.0</td>\n",
       "      <td>NaN</td>\n",
       "      <td>NaN</td>\n",
       "      <td>NaN</td>\n",
       "      <td>9026.0</td>\n",
       "      <td>1300.0</td>\n",
       "    </tr>\n",
       "    <tr>\n",
       "      <th>4.0</th>\n",
       "      <td>NaN</td>\n",
       "      <td>NaN</td>\n",
       "      <td>NaN</td>\n",
       "      <td>NaN</td>\n",
       "      <td>83780.0</td>\n",
       "      <td>NaN</td>\n",
       "      <td>NaN</td>\n",
       "      <td>NaN</td>\n",
       "      <td>NaN</td>\n",
       "      <td>67024.0</td>\n",
       "      <td>NaN</td>\n",
       "      <td>NaN</td>\n",
       "      <td>NaN</td>\n",
       "      <td>NaN</td>\n",
       "      <td>16756.0</td>\n",
       "    </tr>\n",
       "  </tbody>\n",
       "</table>\n",
       "</div>"
      ],
      "text/plain": [
       "      n24_s006                                         nu18_s006            \\\n",
       "n24        1.0       2.0       3.0       4.0       5.0       1.0       2.0   \n",
       "nu18                                                                         \n",
       "0.0   4.31e+06  3.95e+06  1.96e+06  697956.0  324815.0       0.0       0.0   \n",
       "1.0        NaN  1.32e+06  6.82e+05  361224.0  157745.0       NaN  658109.0   \n",
       "2.0        NaN       NaN  5.05e+04   23680.0   19700.0       NaN       NaN   \n",
       "3.0        NaN       NaN       NaN   36104.0    6500.0       NaN       NaN   \n",
       "4.0        NaN       NaN       NaN       NaN   83780.0       NaN       NaN   \n",
       "\n",
       "                                      s006                                \\\n",
       "n24        3.0      4.0      5.0       1.0       2.0       3.0       4.0   \n",
       "nu18                                                                       \n",
       "0.0        0.0      0.0      0.0  4.31e+06  1.97e+06  654623.0  174489.0   \n",
       "1.0   227218.0  90306.0  31549.0       NaN  6.58e+05  227218.0   90306.0   \n",
       "2.0    33654.0  11840.0   7880.0       NaN       NaN   16827.0    5920.0   \n",
       "3.0        NaN  27078.0   3900.0       NaN       NaN       NaN    9026.0   \n",
       "4.0        NaN      NaN  67024.0       NaN       NaN       NaN       NaN   \n",
       "\n",
       "               \n",
       "n24       5.0  \n",
       "nu18           \n",
       "0.0   64963.0  \n",
       "1.0   31549.0  \n",
       "2.0    3940.0  \n",
       "3.0    1300.0  \n",
       "4.0   16756.0  "
      ]
     },
     "execution_count": 13,
     "metadata": {},
     "output_type": "execute_result"
    }
   ],
   "source": [
    "df[df.n24_gt_nu18].pivot_table(\n",
    "    index='nu18', \n",
    "    columns='n24',\n",
    "    values=['s006', 'n24_s006', 'nu18_s006'],\n",
    "    aggfunc=sum)"
   ]
  },
  {
   "cell_type": "markdown",
   "metadata": {},
   "source": [
    "Share of tax units with `n24>0` where `n24>nu18`."
   ]
  },
  {
   "cell_type": "code",
   "execution_count": 14,
   "metadata": {},
   "outputs": [
    {
     "data": {
      "text/plain": [
       "0.18737077393125368"
      ]
     },
     "execution_count": 14,
     "metadata": {},
     "output_type": "execute_result"
    }
   ],
   "source": [
    "df.loc[df.n24_gt_nu18, 's006'].sum() / df.s006.sum()"
   ]
  }
 ],
 "metadata": {
  "kernelspec": {
   "display_name": "Python 3",
   "language": "python",
   "name": "python3"
  },
  "language_info": {
   "codemirror_mode": {
    "name": "ipython",
    "version": 3
   },
   "file_extension": ".py",
   "mimetype": "text/x-python",
   "name": "python",
   "nbconvert_exporter": "python",
   "pygments_lexer": "ipython3",
   "version": "3.6.5"
  },
  "toc": {
   "base_numbering": 1,
   "nav_menu": {},
   "number_sections": true,
   "sideBar": true,
   "skip_h1_title": false,
   "title_cell": "Table of Contents",
   "title_sidebar": "Contents",
   "toc_cell": false,
   "toc_position": {},
   "toc_section_display": true,
   "toc_window_display": true
  }
 },
 "nbformat": 4,
 "nbformat_minor": 2
}
