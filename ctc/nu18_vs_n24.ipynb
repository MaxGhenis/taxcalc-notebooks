{
 "cells": [
  {
   "cell_type": "markdown",
   "metadata": {},
   "source": [
    "# `nu18` vs `n24`\n",
    "\n",
    "`n24` is the \"Number of children eligible for Child Tax Credit\" according to [Tax-Calculator documentation](http://open-source-economics.github.io/Tax-Calculator/). `nu18` is the number of people under age 18.\n",
    "\n",
    "Based on the Child Tax Credit's [definition of child](https://www.thebalance.com/child-tax-credit-3193009), this should be a subset of children under age 18. One criterion is being under age 17, and others limit further within that.\n",
    "\n",
    "This notebook examines tax units that violate this assumption by having `n24 > nu18`.\n",
    "\n",
    "**NB:** [taxdata issue #131](https://github.com/open-source-economics/taxdata/issues/131) unnecessarily caps `n24` at 3, but that is not relevant to this problem.\n",
    "\n",
    "*Data: CPS  |  Tax year: 2014  |  Author: Max Ghenis  |  Date run: 2018-02-28*"
   ]
  },
  {
   "cell_type": "markdown",
   "metadata": {},
   "source": [
    "## Setup\n",
    "\n",
    "### Imports"
   ]
  },
  {
   "cell_type": "code",
   "execution_count": 1,
   "metadata": {
    "collapsed": true
   },
   "outputs": [],
   "source": [
    "import taxcalc as tc\n",
    "import pandas as pd\n",
    "import numpy as np\n",
    "import copy\n",
    "from bokeh.io import show, output_notebook\n",
    "import matplotlib as mpl\n",
    "import matplotlib.pyplot as plt\n",
    "import seaborn as sns\n",
    "import urllib as url_lib  # On Python 3.6 use \"import urllib.request as url_lib\"."
   ]
  },
  {
   "cell_type": "code",
   "execution_count": 2,
   "metadata": {},
   "outputs": [
    {
     "data": {
      "text/plain": [
       "'0.16.1'"
      ]
     },
     "execution_count": 2,
     "metadata": {},
     "output_type": "execute_result"
    }
   ],
   "source": [
    "tc.__version__"
   ]
  },
  {
   "cell_type": "code",
   "execution_count": 3,
   "metadata": {
    "collapsed": true
   },
   "outputs": [],
   "source": [
    "sns.set_style('white')\n",
    "DPI = 75\n",
    "mpl.rc('savefig', dpi=DPI)\n",
    "mpl.rcParams['figure.dpi']= DPI\n",
    "mpl.rcParams['figure.figsize'] = 6.4, 4.8  # Default."
   ]
  },
  {
   "cell_type": "code",
   "execution_count": 4,
   "metadata": {
    "collapsed": true
   },
   "outputs": [],
   "source": [
    "mpl.rcParams['font.sans-serif'] = 'Roboto'\n",
    "mpl.rcParams['font.family'] = 'sans-serif'\n",
    "\n",
    "# Set title text color to dark gray (https://material.io/color) not black.\n",
    "TITLE_COLOR = '#212121'\n",
    "mpl.rcParams['text.color'] = TITLE_COLOR\n",
    "\n",
    "# Axis titles and tick marks are medium gray.\n",
    "AXIS_COLOR = '#757575'\n",
    "mpl.rcParams['axes.labelcolor'] = AXIS_COLOR\n",
    "mpl.rcParams['xtick.color'] = AXIS_COLOR\n",
    "mpl.rcParams['ytick.color'] = AXIS_COLOR\n",
    "\n",
    "# Use Seaborn's default color palette.\n",
    "# https://stackoverflow.com/q/48958426/1840471 for reproducibility.\n",
    "sns.set_palette(sns.color_palette())"
   ]
  },
  {
   "cell_type": "code",
   "execution_count": 5,
   "metadata": {
    "collapsed": true
   },
   "outputs": [],
   "source": [
    "# Show one decimal in tables.\n",
    "pd.set_option('precision', 2)"
   ]
  },
  {
   "cell_type": "markdown",
   "metadata": {},
   "source": [
    "## Summaries"
   ]
  },
  {
   "cell_type": "code",
   "execution_count": 6,
   "metadata": {},
   "outputs": [
    {
     "name": "stdout",
     "output_type": "stream",
     "text": [
      "You loaded data for 2014.\n",
      "Tax-Calculator startup automatically extrapolated your data to 2014.\n"
     ]
    }
   ],
   "source": [
    "recs = tc.Records.cps_constructor()\n",
    "calc = tc.Calculator(records=recs, policy=tc.Policy())\n",
    "calc.calc_all()"
   ]
  },
  {
   "cell_type": "markdown",
   "metadata": {},
   "source": [
    "We only care about records `n24 > 0`."
   ]
  },
  {
   "cell_type": "code",
   "execution_count": 7,
   "metadata": {
    "collapsed": true
   },
   "outputs": [],
   "source": [
    "full = calc.dataframe(['s006', 'nu18', 'n24'])"
   ]
  },
  {
   "cell_type": "code",
   "execution_count": 8,
   "metadata": {
    "collapsed": true
   },
   "outputs": [],
   "source": [
    "full['nu18_s006'] = full['nu18'] * full['s006']\n",
    "full['n24_s006'] = full['n24'] * full['s006']\n",
    "full['n24_gt_nu18'] = full['n24'] > full['nu18']\n",
    "full['n24_vs_nu18'] = np.where(full['n24'] > full['nu18'], 'n24 greater',\n",
    "                               np.where(full['nu18'] > full['n24'], \n",
    "                                        'nu18 greater', 'equal'))"
   ]
  },
  {
   "cell_type": "markdown",
   "metadata": {},
   "source": [
    "Total `nu18` and `n24`."
   ]
  },
  {
   "cell_type": "code",
   "execution_count": 9,
   "metadata": {},
   "outputs": [
    {
     "data": {
      "text/plain": [
       "78.696698950010244"
      ]
     },
     "execution_count": 9,
     "metadata": {},
     "output_type": "execute_result"
    }
   ],
   "source": [
    "full['n24_s006'].sum() / 1e6"
   ]
  },
  {
   "cell_type": "code",
   "execution_count": 10,
   "metadata": {},
   "outputs": [
    {
     "data": {
      "text/plain": [
       "78.788336770005856"
      ]
     },
     "execution_count": 10,
     "metadata": {},
     "output_type": "execute_result"
    }
   ],
   "source": [
    "full['nu18_s006'].sum() / 1e6"
   ]
  },
  {
   "cell_type": "code",
   "execution_count": 11,
   "metadata": {},
   "outputs": [
    {
     "data": {
      "text/html": [
       "<div>\n",
       "<style scoped>\n",
       "    .dataframe tbody tr th:only-of-type {\n",
       "        vertical-align: middle;\n",
       "    }\n",
       "\n",
       "    .dataframe tbody tr th {\n",
       "        vertical-align: top;\n",
       "    }\n",
       "\n",
       "    .dataframe thead th {\n",
       "        text-align: right;\n",
       "    }\n",
       "</style>\n",
       "<table border=\"1\" class=\"dataframe\">\n",
       "  <thead>\n",
       "    <tr style=\"text-align: right;\">\n",
       "      <th></th>\n",
       "      <th>n24_s006</th>\n",
       "      <th>nu18_s006</th>\n",
       "      <th>s006</th>\n",
       "    </tr>\n",
       "    <tr>\n",
       "      <th>n24_vs_nu18</th>\n",
       "      <th></th>\n",
       "      <th></th>\n",
       "      <th></th>\n",
       "    </tr>\n",
       "  </thead>\n",
       "  <tbody>\n",
       "    <tr>\n",
       "      <th>equal</th>\n",
       "      <td>5.35e+07</td>\n",
       "      <td>5.35e+07</td>\n",
       "      <td>1.43e+08</td>\n",
       "    </tr>\n",
       "    <tr>\n",
       "      <th>n24 greater</th>\n",
       "      <td>1.49e+07</td>\n",
       "      <td>1.33e+06</td>\n",
       "      <td>9.02e+06</td>\n",
       "    </tr>\n",
       "    <tr>\n",
       "      <th>nu18 greater</th>\n",
       "      <td>1.02e+07</td>\n",
       "      <td>2.39e+07</td>\n",
       "      <td>1.13e+07</td>\n",
       "    </tr>\n",
       "  </tbody>\n",
       "</table>\n",
       "</div>"
      ],
      "text/plain": [
       "              n24_s006  nu18_s006      s006\n",
       "n24_vs_nu18                                \n",
       "equal         5.35e+07   5.35e+07  1.43e+08\n",
       "n24 greater   1.49e+07   1.33e+06  9.02e+06\n",
       "nu18 greater  1.02e+07   2.39e+07  1.13e+07"
      ]
     },
     "execution_count": 11,
     "metadata": {},
     "output_type": "execute_result"
    }
   ],
   "source": [
    "full.pivot_table(index='n24_vs_nu18', \n",
    "                 values=['s006', 'n24_s006', 'nu18_s006'],\n",
    "                 aggfunc=sum)"
   ]
  },
  {
   "cell_type": "markdown",
   "metadata": {},
   "source": [
    "Limit to `n24>0` for remainder."
   ]
  },
  {
   "cell_type": "code",
   "execution_count": 12,
   "metadata": {
    "collapsed": true
   },
   "outputs": [],
   "source": [
    "df = full[full['n24'] > 0]"
   ]
  },
  {
   "cell_type": "code",
   "execution_count": 13,
   "metadata": {},
   "outputs": [
    {
     "data": {
      "text/html": [
       "<div>\n",
       "<style scoped>\n",
       "    .dataframe tbody tr th:only-of-type {\n",
       "        vertical-align: middle;\n",
       "    }\n",
       "\n",
       "    .dataframe tbody tr th {\n",
       "        vertical-align: top;\n",
       "    }\n",
       "\n",
       "    .dataframe thead th {\n",
       "        text-align: right;\n",
       "    }\n",
       "</style>\n",
       "<table border=\"1\" class=\"dataframe\">\n",
       "  <thead>\n",
       "    <tr style=\"text-align: right;\">\n",
       "      <th></th>\n",
       "      <th>n24_s006</th>\n",
       "      <th>nu18_s006</th>\n",
       "      <th>s006</th>\n",
       "    </tr>\n",
       "    <tr>\n",
       "      <th>n24_gt_nu18</th>\n",
       "      <th></th>\n",
       "      <th></th>\n",
       "      <th></th>\n",
       "    </tr>\n",
       "  </thead>\n",
       "  <tbody>\n",
       "    <tr>\n",
       "      <th>False</th>\n",
       "      <td>6.38e+07</td>\n",
       "      <td>6.98e+07</td>\n",
       "      <td>3.74e+07</td>\n",
       "    </tr>\n",
       "    <tr>\n",
       "      <th>True</th>\n",
       "      <td>1.49e+07</td>\n",
       "      <td>1.33e+06</td>\n",
       "      <td>9.02e+06</td>\n",
       "    </tr>\n",
       "  </tbody>\n",
       "</table>\n",
       "</div>"
      ],
      "text/plain": [
       "             n24_s006  nu18_s006      s006\n",
       "n24_gt_nu18                               \n",
       "False        6.38e+07   6.98e+07  3.74e+07\n",
       "True         1.49e+07   1.33e+06  9.02e+06"
      ]
     },
     "execution_count": 13,
     "metadata": {},
     "output_type": "execute_result"
    }
   ],
   "source": [
    "df.pivot_table(index='n24_gt_nu18', \n",
    "               values=['s006', 'n24_s006', 'nu18_s006'],\n",
    "               aggfunc=sum)"
   ]
  },
  {
   "cell_type": "markdown",
   "metadata": {},
   "source": [
    "Drill into records where `n24>nu18` by `nu18`."
   ]
  },
  {
   "cell_type": "code",
   "execution_count": 14,
   "metadata": {},
   "outputs": [
    {
     "data": {
      "text/html": [
       "<div>\n",
       "<style scoped>\n",
       "    .dataframe tbody tr th:only-of-type {\n",
       "        vertical-align: middle;\n",
       "    }\n",
       "\n",
       "    .dataframe tbody tr th {\n",
       "        vertical-align: top;\n",
       "    }\n",
       "\n",
       "    .dataframe thead th {\n",
       "        text-align: right;\n",
       "    }\n",
       "</style>\n",
       "<table border=\"1\" class=\"dataframe\">\n",
       "  <thead>\n",
       "    <tr style=\"text-align: right;\">\n",
       "      <th></th>\n",
       "      <th>n24_s006</th>\n",
       "      <th>nu18_s006</th>\n",
       "      <th>s006</th>\n",
       "    </tr>\n",
       "    <tr>\n",
       "      <th>nu18</th>\n",
       "      <th></th>\n",
       "      <th></th>\n",
       "      <th></th>\n",
       "    </tr>\n",
       "  </thead>\n",
       "  <tbody>\n",
       "    <tr>\n",
       "      <th>0.0</th>\n",
       "      <td>1.18e+07</td>\n",
       "      <td>0.00e+00</td>\n",
       "      <td>7.71e+06</td>\n",
       "    </tr>\n",
       "    <tr>\n",
       "      <th>1.0</th>\n",
       "      <td>3.02e+06</td>\n",
       "      <td>1.28e+06</td>\n",
       "      <td>1.28e+06</td>\n",
       "    </tr>\n",
       "    <tr>\n",
       "      <th>2.0</th>\n",
       "      <td>8.31e+04</td>\n",
       "      <td>5.54e+04</td>\n",
       "      <td>2.77e+04</td>\n",
       "    </tr>\n",
       "  </tbody>\n",
       "</table>\n",
       "</div>"
      ],
      "text/plain": [
       "      n24_s006  nu18_s006      s006\n",
       "nu18                               \n",
       "0.0   1.18e+07   0.00e+00  7.71e+06\n",
       "1.0   3.02e+06   1.28e+06  1.28e+06\n",
       "2.0   8.31e+04   5.54e+04  2.77e+04"
      ]
     },
     "execution_count": 14,
     "metadata": {},
     "output_type": "execute_result"
    }
   ],
   "source": [
    "df[df['n24_gt_nu18']].pivot_table(\n",
    "    index='nu18', \n",
    "    values=['s006', 'n24_s006', 'nu18_s006'],\n",
    "    aggfunc=sum)"
   ]
  },
  {
   "cell_type": "code",
   "execution_count": 15,
   "metadata": {},
   "outputs": [
    {
     "data": {
      "text/html": [
       "<div>\n",
       "<style scoped>\n",
       "    .dataframe tbody tr th:only-of-type {\n",
       "        vertical-align: middle;\n",
       "    }\n",
       "\n",
       "    .dataframe tbody tr th {\n",
       "        vertical-align: top;\n",
       "    }\n",
       "\n",
       "    .dataframe thead tr th {\n",
       "        text-align: left;\n",
       "    }\n",
       "\n",
       "    .dataframe thead tr:last-of-type th {\n",
       "        text-align: right;\n",
       "    }\n",
       "</style>\n",
       "<table border=\"1\" class=\"dataframe\">\n",
       "  <thead>\n",
       "    <tr>\n",
       "      <th></th>\n",
       "      <th colspan=\"3\" halign=\"left\">n24_s006</th>\n",
       "      <th colspan=\"3\" halign=\"left\">nu18_s006</th>\n",
       "      <th colspan=\"3\" halign=\"left\">s006</th>\n",
       "    </tr>\n",
       "    <tr>\n",
       "      <th>n24</th>\n",
       "      <th>1.0</th>\n",
       "      <th>2.0</th>\n",
       "      <th>3.0</th>\n",
       "      <th>1.0</th>\n",
       "      <th>2.0</th>\n",
       "      <th>3.0</th>\n",
       "      <th>1.0</th>\n",
       "      <th>2.0</th>\n",
       "      <th>3.0</th>\n",
       "    </tr>\n",
       "    <tr>\n",
       "      <th>nu18</th>\n",
       "      <th></th>\n",
       "      <th></th>\n",
       "      <th></th>\n",
       "      <th></th>\n",
       "      <th></th>\n",
       "      <th></th>\n",
       "      <th></th>\n",
       "      <th></th>\n",
       "      <th></th>\n",
       "    </tr>\n",
       "  </thead>\n",
       "  <tbody>\n",
       "    <tr>\n",
       "      <th>0.0</th>\n",
       "      <td>4.57e+06</td>\n",
       "      <td>4.31e+06</td>\n",
       "      <td>2.97e+06</td>\n",
       "      <td>0.0</td>\n",
       "      <td>0.00</td>\n",
       "      <td>0.00</td>\n",
       "      <td>4.57e+06</td>\n",
       "      <td>2.16e+06</td>\n",
       "      <td>989063.70</td>\n",
       "    </tr>\n",
       "    <tr>\n",
       "      <th>1.0</th>\n",
       "      <td>NaN</td>\n",
       "      <td>1.64e+06</td>\n",
       "      <td>1.37e+06</td>\n",
       "      <td>NaN</td>\n",
       "      <td>821119.77</td>\n",
       "      <td>457641.90</td>\n",
       "      <td>NaN</td>\n",
       "      <td>8.21e+05</td>\n",
       "      <td>457641.90</td>\n",
       "    </tr>\n",
       "    <tr>\n",
       "      <th>2.0</th>\n",
       "      <td>NaN</td>\n",
       "      <td>NaN</td>\n",
       "      <td>8.31e+04</td>\n",
       "      <td>NaN</td>\n",
       "      <td>NaN</td>\n",
       "      <td>55395.93</td>\n",
       "      <td>NaN</td>\n",
       "      <td>NaN</td>\n",
       "      <td>27697.97</td>\n",
       "    </tr>\n",
       "  </tbody>\n",
       "</table>\n",
       "</div>"
      ],
      "text/plain": [
       "      n24_s006                     nu18_s006                            s006  \\\n",
       "n24        1.0       2.0       3.0       1.0        2.0        3.0       1.0   \n",
       "nu18                                                                           \n",
       "0.0   4.57e+06  4.31e+06  2.97e+06       0.0       0.00       0.00  4.57e+06   \n",
       "1.0        NaN  1.64e+06  1.37e+06       NaN  821119.77  457641.90       NaN   \n",
       "2.0        NaN       NaN  8.31e+04       NaN        NaN   55395.93       NaN   \n",
       "\n",
       "                           \n",
       "n24        2.0        3.0  \n",
       "nu18                       \n",
       "0.0   2.16e+06  989063.70  \n",
       "1.0   8.21e+05  457641.90  \n",
       "2.0        NaN   27697.97  "
      ]
     },
     "execution_count": 15,
     "metadata": {},
     "output_type": "execute_result"
    }
   ],
   "source": [
    "df[df['n24_gt_nu18']].pivot_table(\n",
    "    index='nu18', \n",
    "    columns='n24',\n",
    "    values=['s006', 'n24_s006', 'nu18_s006'],\n",
    "    aggfunc=sum)"
   ]
  },
  {
   "cell_type": "markdown",
   "metadata": {},
   "source": [
    "Share of tax units with `n24>0` where `n24>nu18`."
   ]
  },
  {
   "cell_type": "code",
   "execution_count": 16,
   "metadata": {},
   "outputs": [
    {
     "data": {
      "text/plain": [
       "0.19416512447730766"
      ]
     },
     "execution_count": 16,
     "metadata": {},
     "output_type": "execute_result"
    }
   ],
   "source": [
    "df.loc[df['n24_gt_nu18'], 's006'].sum() / df['s006'].sum()"
   ]
  }
 ],
 "metadata": {
  "kernelspec": {
   "display_name": "Python 2",
   "language": "python",
   "name": "python2"
  },
  "language_info": {
   "codemirror_mode": {
    "name": "ipython",
    "version": 2
   },
   "file_extension": ".py",
   "mimetype": "text/x-python",
   "name": "python",
   "nbconvert_exporter": "python",
   "pygments_lexer": "ipython2",
   "version": "2.7.14"
  }
 },
 "nbformat": 4,
 "nbformat_minor": 2
}
