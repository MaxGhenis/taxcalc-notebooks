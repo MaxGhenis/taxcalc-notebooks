{
 "cells": [
  {
   "cell_type": "markdown",
   "metadata": {},
   "source": [
    "# Effect of repealing Child Tax Credit with Child Dividend\n",
    "\n",
    "This identifies beneficiaries of the Child Tax Credit by modeling its repeal. Both repeal from current (2017) state and TCJA state are considered on a static basis. Change to after-tax income by decile and share of after-tax income held by top 10% are calculated.\n",
    "\n",
    "*Data: CPS  |  Tax year: 2018  |  Type: Static  |  Author: Max Ghenis  |  Date run: 2018-02-20*"
   ]
  },
  {
   "cell_type": "markdown",
   "metadata": {},
   "source": [
    "## Setup\n",
    "\n",
    "### Imports"
   ]
  },
  {
   "cell_type": "code",
   "execution_count": 2,
   "metadata": {
    "collapsed": true
   },
   "outputs": [],
   "source": [
    "import taxcalc as tc\n",
    "import pandas as pd\n",
    "import numpy as np\n",
    "import copy\n",
    "from bokeh.io import show, output_notebook\n",
    "import matplotlib as mpl\n",
    "import matplotlib.pyplot as plt\n",
    "import seaborn as sns\n",
    "import urllib as url_lib  # On Python 3.6 use \"import urllib.request as url_lib\"."
   ]
  },
  {
   "cell_type": "code",
   "execution_count": 3,
   "metadata": {},
   "outputs": [
    {
     "data": {
      "text/plain": [
       "'0.16.1'"
      ]
     },
     "execution_count": 3,
     "metadata": {},
     "output_type": "execute_result"
    }
   ],
   "source": [
    "tc.__version__"
   ]
  },
  {
   "cell_type": "code",
   "execution_count": 4,
   "metadata": {
    "collapsed": true
   },
   "outputs": [],
   "source": [
    "sns.set_style('white')\n",
    "DPI = 300\n",
    "mpl.rc('savefig', dpi=DPI)\n",
    "mpl.rcParams['figure.dpi']= DPI"
   ]
  },
  {
   "cell_type": "markdown",
   "metadata": {},
   "source": [
    "### Create policies\n",
    "\n",
    "Load reforms from GitHub. Policies and reforms are named according to this convention:\n",
    "\n",
    "**`{reform}_{year}_{object}`**\n",
    "\n",
    "For example:\n",
    "\n",
    "* `noctc_2017_policy`: Policy without CTC using 2017 law.\n",
    "* `ubi_2018_calc`: Calculator replacing CTC with UBI using 2018 (current) law."
   ]
  },
  {
   "cell_type": "code",
   "execution_count": 7,
   "metadata": {
    "collapsed": true
   },
   "outputs": [],
   "source": [
    "# Folders where reforms live.\n",
    "GITHUB_BASE_URL = 'https://raw.githubusercontent.com/'\n",
    "\n",
    "TAXCALC_GITHUB_BASE_URL = (GITHUB_BASE_URL +\n",
    "                           'open-source-economics/Tax-Calculator/master/' +\n",
    "                           'taxcalc/reforms/')\n",
    "\n",
    "def read_url(url):\n",
    "    return url_lib.urlopen(url).read()\n",
    "\n",
    "def read_reform_taxcalc_github(reform_name):\n",
    "    return read_url(TAXCALC_GITHUB_BASE_URL + reform_name + '.json')\n",
    "\n",
    "def policy_from_reform(reform):\n",
    "    pol = tc.Policy()\n",
    "    pol.implement_reform(reform['policy'])\n",
    "    if pol.reform_errors:\n",
    "        print(pol.reform_errors)\n",
    "    return pol\n",
    "\n",
    "def create_static_policy_taxcalc_github(reform_name):\n",
    "    reform = tc.Calculator.read_json_param_objects(\n",
    "        read_reform_taxcalc_github(reform_name), None)\n",
    "    return policy_from_reform(reform)"
   ]
  },
  {
   "cell_type": "code",
   "execution_count": 8,
   "metadata": {
    "collapsed": true
   },
   "outputs": [],
   "source": [
    "y2017_policy = create_static_policy_taxcalc_github(\n",
    "    '2017_law')"
   ]
  },
  {
   "cell_type": "code",
   "execution_count": 10,
   "metadata": {
    "collapsed": true
   },
   "outputs": [],
   "source": [
    "noctc_reform = {\n",
    "    2018: {\n",
    "        '_CTC_c': [0],\n",
    "        '_DependentCredit_Child_c': [0]\n",
    "    }}\n",
    "noctc_2017_policy = copy.deepcopy(y2017_policy)\n",
    "noctc_pol_2017.implement_reform(noctc_reform)\n",
    "noctc_pol_2018 = tc.Policy()  # Can't combine with next step.\n",
    "noctc_pol_2018.implement_reform(noctc_reform)"
   ]
  },
  {
   "cell_type": "markdown",
   "metadata": {},
   "source": [
    "### Specify `Calculator` objects for static analyses"
   ]
  },
  {
   "cell_type": "code",
   "execution_count": 11,
   "metadata": {
    "collapsed": true
   },
   "outputs": [],
   "source": [
    "recs = tc.Records.cps_constructor()"
   ]
  },
  {
   "cell_type": "code",
   "execution_count": 12,
   "metadata": {
    "collapsed": true
   },
   "outputs": [],
   "source": [
    "def static_baseline_calc(year):\n",
    "    calc = tc.Calculator(records=recs, policy=tc.Policy())\n",
    "    calc.advance_to_year(year)\n",
    "    calc.calc_all()\n",
    "    return calc"
   ]
  },
  {
   "cell_type": "code",
   "execution_count": 18,
   "metadata": {
    "collapsed": true
   },
   "outputs": [],
   "source": [
    "def weighted_sum(df, col):\n",
    "    return (df[col] * df['s006']).sum()"
   ]
  },
  {
   "cell_type": "code",
   "execution_count": 55,
   "metadata": {
    "collapsed": true
   },
   "outputs": [],
   "source": [
    "def child_ubi_reform(amount):\n",
    "    return {2018: {'_UBI_u18': [amount],\n",
    "                   '_UBI_ecrt': [1.0]}}"
   ]
  },
  {
   "cell_type": "code",
   "execution_count": 193,
   "metadata": {},
   "outputs": [
    {
     "data": {
      "text/plain": [
       "array(nan)"
      ]
     },
     "execution_count": 193,
     "metadata": {},
     "output_type": "execute_result"
    }
   ],
   "source": [
    "np.where(False, 1, np.nan)"
   ]
  },
  {
   "cell_type": "code",
   "execution_count": 227,
   "metadata": {},
   "outputs": [],
   "source": [
    "def add_weighted_quantiles(df, col):\n",
    "    df.sort_values(by=col, inplace=True)\n",
    "    col_pctile = col + '_percentile_exact'\n",
    "    df[col_pctile] = 100 * df['s006'].cumsum() / df['s006'].sum()\n",
    "    # Integer arrays can't be NaN, so set negatives to zero.\n",
    "    # TODO: Should these be null floats?\n",
    "    df[col_pctile] = np.where(df[col] >= 0, df[col_pctile], 0)\n",
    "    # Reduce top record, otherwise it's incorrectly rounded up.\n",
    "    df[col_pctile] = np.where(df[col_pctile] >= 99.99999, 99.99999, df[col_pctile])\n",
    "    df[col + '_percentile'] = np.ceil(df[col_pctile]).astype(int)\n",
    "    df[col + '_decile'] = np.ceil(df[col_pctile] / 10).astype(int)\n",
    "    df[col + '_quintile'] = np.ceil(df[col_pctile] / 20).astype(int)\n",
    "    # TODO: Null out if negative.\n",
    "    return df"
   ]
  },
  {
   "cell_type": "code",
   "execution_count": 228,
   "metadata": {
    "collapsed": true
   },
   "outputs": [],
   "source": [
    "def static_calc(use_2017_law=False, \n",
    "                ctc_treatment='keep',\n",
    "                child_ubi_amount=0,\n",
    "                year=2018,\n",
    "                cols=['s006', 'aftertax_income', 'expanded_income', 'nu18', 'n24', 'XTOT']):\n",
    "    \"\"\"Creates static Calculator.\n",
    "\n",
    "    Args:\n",
    "        use_2017_law: Whether to use 2017 law vs. current law. Defaults to False.\n",
    "        ctc_treatment: How the Child Tax Credit is treated. Options include:\n",
    "            * 'keep': No change. Default.\n",
    "            * 'repeal': End entirely.\n",
    "            * 'rev_neutral_ubi': Replace with revenue-neutral child UBI.\n",
    "            * 'no_cut_ubi': [NOT YET IMPLEMENTED] \n",
    "                Replace with a child UBI equal to the current maximum value.\n",
    "        year: Year to advance calculations to.\n",
    "        cols: Columns to extract per Calculator record. \n",
    "            Defaults to ['s006', 'expanded_income', 'aftertax_income', 'nu18', 'n24', 'XTOT'].\n",
    "        \n",
    "    Returns:\n",
    "        DataFrame with `cols` and percentile, decile, and quintile of after-tax income.\n",
    "    \"\"\"\n",
    "    # Initiate policy using either 2017 or current law.\n",
    "    if use_2017_law:\n",
    "        pol = copy.deepcopy(y2017_policy)\n",
    "    else:\n",
    "        pol = tc.Policy()\n",
    "    # Enact reform based on ctc_treatment.\n",
    "    # Repeal CTC unless it's kept.\n",
    "    if ctc_treatment != 'keep':\n",
    "        pol.implement_reform(noctc_reform)\n",
    "    if child_ubi_amount > 0:\n",
    "        pol.implement_reform(child_ubi_reform(child_ubi_amount))\n",
    "    # Calculate. This is needed to calculate the revenue-neutral UBI.\n",
    "    calc = tc.Calculator(records=recs, policy=pol)\n",
    "    calc.advance_to_year(year)\n",
    "    calc.calc_all()\n",
    "    # TODO: Calculate revenue for revenue-neutral UBI.\n",
    "    # Create DataFrame and add identifiers.\n",
    "    df = calc.dataframe(cols)\n",
    "    # Add percentiles.\n",
    "    df = add_weighted_quantiles(df, 'expanded_income')\n",
    "    df = add_weighted_quantiles(df, 'aftertax_income')\n",
    "    # Add identifiers.\n",
    "    df['use_2017_law'] = use_2017_law\n",
    "    df['ctc_treatment'] = ctc_treatment\n",
    "    # What's the column for the ID?\n",
    "    df['id'] = df.index\n",
    "    return df"
   ]
  },
  {
   "cell_type": "code",
   "execution_count": 229,
   "metadata": {},
   "outputs": [
    {
     "name": "stdout",
     "output_type": "stream",
     "text": [
      "You loaded data for 2014.\n",
      "Tax-Calculator startup automatically extrapolated your data to 2014.\n",
      "You loaded data for 2014.\n",
      "Tax-Calculator startup automatically extrapolated your data to 2014.\n",
      "You loaded data for 2014.\n",
      "Tax-Calculator startup automatically extrapolated your data to 2014.\n",
      "You loaded data for 2014.\n",
      "Tax-Calculator startup automatically extrapolated your data to 2014.\n"
     ]
    }
   ],
   "source": [
    "scenarios_pre_ubi = pd.concat([\n",
    "    static_calc(use_2017_law=False, ctc_treatment='keep'),\n",
    "    static_calc(use_2017_law=False, ctc_treatment='repeal'),\n",
    "    static_calc(use_2017_law=True, ctc_treatment='keep'),\n",
    "    static_calc(use_2017_law=True, ctc_treatment='repeal')])"
   ]
  },
  {
   "cell_type": "code",
   "execution_count": 231,
   "metadata": {},
   "outputs": [
    {
     "data": {
      "text/html": [
       "<div>\n",
       "<style scoped>\n",
       "    .dataframe tbody tr th:only-of-type {\n",
       "        vertical-align: middle;\n",
       "    }\n",
       "\n",
       "    .dataframe tbody tr th {\n",
       "        vertical-align: top;\n",
       "    }\n",
       "\n",
       "    .dataframe thead th {\n",
       "        text-align: right;\n",
       "    }\n",
       "</style>\n",
       "<table border=\"1\" class=\"dataframe\">\n",
       "  <thead>\n",
       "    <tr style=\"text-align: right;\">\n",
       "      <th></th>\n",
       "      <th>s006</th>\n",
       "      <th>aftertax_income</th>\n",
       "      <th>expanded_income</th>\n",
       "      <th>nu18</th>\n",
       "      <th>n24</th>\n",
       "      <th>XTOT</th>\n",
       "      <th>expanded_income_percentile_exact</th>\n",
       "      <th>expanded_income_percentile</th>\n",
       "      <th>expanded_income_decile</th>\n",
       "      <th>expanded_income_quintile</th>\n",
       "      <th>aftertax_income_percentile_exact</th>\n",
       "      <th>aftertax_income_percentile</th>\n",
       "      <th>aftertax_income_decile</th>\n",
       "      <th>aftertax_income_quintile</th>\n",
       "      <th>use_2017_law</th>\n",
       "      <th>ctc_treatment</th>\n",
       "      <th>id</th>\n",
       "    </tr>\n",
       "  </thead>\n",
       "  <tbody>\n",
       "    <tr>\n",
       "      <th>37355</th>\n",
       "      <td>60.49</td>\n",
       "      <td>-3.555567e+06</td>\n",
       "      <td>-3.542510e+06</td>\n",
       "      <td>0.0</td>\n",
       "      <td>0.0</td>\n",
       "      <td>2.0</td>\n",
       "      <td>0.0</td>\n",
       "      <td>0</td>\n",
       "      <td>0</td>\n",
       "      <td>0</td>\n",
       "      <td>0.0</td>\n",
       "      <td>0</td>\n",
       "      <td>0</td>\n",
       "      <td>0</td>\n",
       "      <td>False</td>\n",
       "      <td>keep</td>\n",
       "      <td>37355</td>\n",
       "    </tr>\n",
       "    <tr>\n",
       "      <th>394742</th>\n",
       "      <td>499.17</td>\n",
       "      <td>-9.314900e+05</td>\n",
       "      <td>-9.311799e+05</td>\n",
       "      <td>1.0</td>\n",
       "      <td>1.0</td>\n",
       "      <td>3.0</td>\n",
       "      <td>0.0</td>\n",
       "      <td>0</td>\n",
       "      <td>0</td>\n",
       "      <td>0</td>\n",
       "      <td>0.0</td>\n",
       "      <td>0</td>\n",
       "      <td>0</td>\n",
       "      <td>0</td>\n",
       "      <td>False</td>\n",
       "      <td>keep</td>\n",
       "      <td>394742</td>\n",
       "    </tr>\n",
       "    <tr>\n",
       "      <th>29539</th>\n",
       "      <td>1209.73</td>\n",
       "      <td>-8.047257e+05</td>\n",
       "      <td>-8.047257e+05</td>\n",
       "      <td>0.0</td>\n",
       "      <td>0.0</td>\n",
       "      <td>2.0</td>\n",
       "      <td>0.0</td>\n",
       "      <td>0</td>\n",
       "      <td>0</td>\n",
       "      <td>0</td>\n",
       "      <td>0.0</td>\n",
       "      <td>0</td>\n",
       "      <td>0</td>\n",
       "      <td>0</td>\n",
       "      <td>False</td>\n",
       "      <td>keep</td>\n",
       "      <td>29539</td>\n",
       "    </tr>\n",
       "    <tr>\n",
       "      <th>276823</th>\n",
       "      <td>476.72</td>\n",
       "      <td>-7.817199e+05</td>\n",
       "      <td>-7.817199e+05</td>\n",
       "      <td>0.0</td>\n",
       "      <td>0.0</td>\n",
       "      <td>2.0</td>\n",
       "      <td>0.0</td>\n",
       "      <td>0</td>\n",
       "      <td>0</td>\n",
       "      <td>0</td>\n",
       "      <td>0.0</td>\n",
       "      <td>0</td>\n",
       "      <td>0</td>\n",
       "      <td>0</td>\n",
       "      <td>False</td>\n",
       "      <td>keep</td>\n",
       "      <td>276823</td>\n",
       "    </tr>\n",
       "    <tr>\n",
       "      <th>306673</th>\n",
       "      <td>399.35</td>\n",
       "      <td>-7.776941e+05</td>\n",
       "      <td>-7.753810e+05</td>\n",
       "      <td>0.0</td>\n",
       "      <td>0.0</td>\n",
       "      <td>2.0</td>\n",
       "      <td>0.0</td>\n",
       "      <td>0</td>\n",
       "      <td>0</td>\n",
       "      <td>0</td>\n",
       "      <td>0.0</td>\n",
       "      <td>0</td>\n",
       "      <td>0</td>\n",
       "      <td>0</td>\n",
       "      <td>False</td>\n",
       "      <td>keep</td>\n",
       "      <td>306673</td>\n",
       "    </tr>\n",
       "  </tbody>\n",
       "</table>\n",
       "</div>"
      ],
      "text/plain": [
       "           s006  aftertax_income  expanded_income  nu18  n24  XTOT  \\\n",
       "37355     60.49    -3.555567e+06    -3.542510e+06   0.0  0.0   2.0   \n",
       "394742   499.17    -9.314900e+05    -9.311799e+05   1.0  1.0   3.0   \n",
       "29539   1209.73    -8.047257e+05    -8.047257e+05   0.0  0.0   2.0   \n",
       "276823   476.72    -7.817199e+05    -7.817199e+05   0.0  0.0   2.0   \n",
       "306673   399.35    -7.776941e+05    -7.753810e+05   0.0  0.0   2.0   \n",
       "\n",
       "        expanded_income_percentile_exact  expanded_income_percentile  \\\n",
       "37355                                0.0                           0   \n",
       "394742                               0.0                           0   \n",
       "29539                                0.0                           0   \n",
       "276823                               0.0                           0   \n",
       "306673                               0.0                           0   \n",
       "\n",
       "        expanded_income_decile  expanded_income_quintile  \\\n",
       "37355                        0                         0   \n",
       "394742                       0                         0   \n",
       "29539                        0                         0   \n",
       "276823                       0                         0   \n",
       "306673                       0                         0   \n",
       "\n",
       "        aftertax_income_percentile_exact  aftertax_income_percentile  \\\n",
       "37355                                0.0                           0   \n",
       "394742                               0.0                           0   \n",
       "29539                                0.0                           0   \n",
       "276823                               0.0                           0   \n",
       "306673                               0.0                           0   \n",
       "\n",
       "        aftertax_income_decile  aftertax_income_quintile  use_2017_law  \\\n",
       "37355                        0                         0         False   \n",
       "394742                       0                         0         False   \n",
       "29539                        0                         0         False   \n",
       "276823                       0                         0         False   \n",
       "306673                       0                         0         False   \n",
       "\n",
       "       ctc_treatment      id  \n",
       "37355           keep   37355  \n",
       "394742          keep  394742  \n",
       "29539           keep   29539  \n",
       "276823          keep  276823  \n",
       "306673          keep  306673  "
      ]
     },
     "execution_count": 231,
     "metadata": {},
     "output_type": "execute_result"
    }
   ],
   "source": [
    "scenarios_pre_ubi.head()"
   ]
  },
  {
   "cell_type": "markdown",
   "metadata": {},
   "source": [
    "Calculate child allowance."
   ]
  },
  {
   "cell_type": "code",
   "execution_count": 134,
   "metadata": {
    "collapsed": true
   },
   "outputs": [],
   "source": [
    "aftertax_income_summary = (\n",
    "    scenarios_pre_ubi.groupby(['use_2017_law', 'ctc_treatment'], as_index=False).\n",
    "    apply(lambda x: \n",
    "          pd.Series({\n",
    "              'aftertax_income': weighted_sum(x, 'aftertax_income'), \n",
    "              'nu18': weighted_sum(x, 'nu18')}))).reset_index()\n",
    "nu18_total = aftertax_income_summary['nu18'][0]"
   ]
  },
  {
   "cell_type": "code",
   "execution_count": 135,
   "metadata": {},
   "outputs": [
    {
     "data": {
      "text/html": [
       "<div>\n",
       "<style scoped>\n",
       "    .dataframe tbody tr th:only-of-type {\n",
       "        vertical-align: middle;\n",
       "    }\n",
       "\n",
       "    .dataframe tbody tr th {\n",
       "        vertical-align: top;\n",
       "    }\n",
       "\n",
       "    .dataframe thead th {\n",
       "        text-align: right;\n",
       "    }\n",
       "</style>\n",
       "<table border=\"1\" class=\"dataframe\">\n",
       "  <thead>\n",
       "    <tr style=\"text-align: right;\">\n",
       "      <th>ctc_treatment</th>\n",
       "      <th>keep</th>\n",
       "      <th>repeal</th>\n",
       "      <th>chg</th>\n",
       "      <th>child_ubi</th>\n",
       "    </tr>\n",
       "    <tr>\n",
       "      <th>use_2017_law</th>\n",
       "      <th></th>\n",
       "      <th></th>\n",
       "      <th></th>\n",
       "      <th></th>\n",
       "    </tr>\n",
       "  </thead>\n",
       "  <tbody>\n",
       "    <tr>\n",
       "      <th>False</th>\n",
       "      <td>1.095007e+13</td>\n",
       "      <td>1.082995e+13</td>\n",
       "      <td>1.201240e+11</td>\n",
       "      <td>1464.524234</td>\n",
       "    </tr>\n",
       "    <tr>\n",
       "      <th>True</th>\n",
       "      <td>1.081362e+13</td>\n",
       "      <td>1.076178e+13</td>\n",
       "      <td>5.184284e+10</td>\n",
       "      <td>632.056117</td>\n",
       "    </tr>\n",
       "  </tbody>\n",
       "</table>\n",
       "</div>"
      ],
      "text/plain": [
       "ctc_treatment          keep        repeal           chg    child_ubi\n",
       "use_2017_law                                                        \n",
       "False          1.095007e+13  1.082995e+13  1.201240e+11  1464.524234\n",
       "True           1.081362e+13  1.076178e+13  5.184284e+10   632.056117"
      ]
     },
     "execution_count": 135,
     "metadata": {},
     "output_type": "execute_result"
    }
   ],
   "source": [
    "aftertax_income_chg = aftertax_income_summary.pivot(\n",
    "    index='use_2017_law',\n",
    "    columns='ctc_treatment',\n",
    "    values='aftertax_income'\n",
    ")\n",
    "aftertax_income_chg['chg'] = aftertax_income_chg['keep'] - aftertax_income_chg['repeal']\n",
    "aftertax_income_chg['child_ubi'] = aftertax_income_chg['chg'] / nu18_total\n",
    "aftertax_income_chg"
   ]
  },
  {
   "cell_type": "code",
   "execution_count": 136,
   "metadata": {},
   "outputs": [
    {
     "name": "stdout",
     "output_type": "stream",
     "text": [
      "You loaded data for 2014.\n",
      "Tax-Calculator startup automatically extrapolated your data to 2014.\n",
      "You loaded data for 2014.\n",
      "Tax-Calculator startup automatically extrapolated your data to 2014.\n"
     ]
    }
   ],
   "source": [
    "scenarios = pd.concat([\n",
    "    scenarios_pre_ubi,\n",
    "    static_calc(use_2017_law=False, ctc_treatment='rev_neutral_ubi',\n",
    "                child_ubi_amount=aftertax_income_chg.loc[False, 'child_ubi']),\n",
    "    static_calc(use_2017_law=True, ctc_treatment='rev_neutral_ubi',\n",
    "                child_ubi_amount=aftertax_income_chg.loc[True, 'child_ubi'])\n",
    "])"
   ]
  },
  {
   "cell_type": "markdown",
   "metadata": {},
   "source": [
    "## Analysis\n",
    "\n",
    "* Add percentile to previous steps.\n",
    "* Should there be a field for more \"gross\" income? Without benefits and UBI."
   ]
  },
  {
   "cell_type": "markdown",
   "metadata": {},
   "source": [
    "### Differences between `nu18` and `n24`"
   ]
  },
  {
   "cell_type": "code",
   "execution_count": 169,
   "metadata": {},
   "outputs": [
    {
     "name": "stdout",
     "output_type": "stream",
     "text": [
      "Total children under 18: 82.0M\n",
      "Total children eligible for CTC: 81.9M\n"
     ]
    }
   ],
   "source": [
    "keep_cur = scenarios[(~scenarios['use_2017_law']) & \n",
    "                     (scenarios['ctc_treatment'] == 'keep')]\n",
    "print ('Total children under 18: ' +\n",
    "       '{:0.1f}M'.format((keep_cur['nu18'] * keep_cur['s006']).sum() / 1e6))\n",
    "print ('Total children eligible for CTC: ' +\n",
    "       '{:0.1f}M'.format((keep_cur['n24'] * keep_cur['s006']).sum() / 1e6))"
   ]
  },
  {
   "cell_type": "markdown",
   "metadata": {},
   "source": [
    "How many households have nu18 > n24? n24 > nu18?"
   ]
  },
  {
   "cell_type": "code",
   "execution_count": 175,
   "metadata": {},
   "outputs": [
    {
     "data": {
      "text/html": [
       "<div>\n",
       "<style scoped>\n",
       "    .dataframe tbody tr th:only-of-type {\n",
       "        vertical-align: middle;\n",
       "    }\n",
       "\n",
       "    .dataframe tbody tr th {\n",
       "        vertical-align: top;\n",
       "    }\n",
       "\n",
       "    .dataframe thead th {\n",
       "        text-align: right;\n",
       "    }\n",
       "</style>\n",
       "<table border=\"1\" class=\"dataframe\">\n",
       "  <thead>\n",
       "    <tr style=\"text-align: right;\">\n",
       "      <th>nu18</th>\n",
       "      <th>0.0</th>\n",
       "      <th>1.0</th>\n",
       "      <th>2.0</th>\n",
       "      <th>3.0</th>\n",
       "      <th>4.0</th>\n",
       "      <th>5.0</th>\n",
       "      <th>6.0</th>\n",
       "      <th>7.0</th>\n",
       "      <th>8.0</th>\n",
       "      <th>9.0</th>\n",
       "      <th>10.0</th>\n",
       "      <th>11.0</th>\n",
       "      <th>12.0</th>\n",
       "    </tr>\n",
       "    <tr>\n",
       "      <th>n24</th>\n",
       "      <th></th>\n",
       "      <th></th>\n",
       "      <th></th>\n",
       "      <th></th>\n",
       "      <th></th>\n",
       "      <th></th>\n",
       "      <th></th>\n",
       "      <th></th>\n",
       "      <th></th>\n",
       "      <th></th>\n",
       "      <th></th>\n",
       "      <th></th>\n",
       "      <th></th>\n",
       "    </tr>\n",
       "  </thead>\n",
       "  <tbody>\n",
       "    <tr>\n",
       "      <th>0.0</th>\n",
       "      <td>1.149045e+08</td>\n",
       "      <td>5766988.03</td>\n",
       "      <td>547510.00</td>\n",
       "      <td>211161.64</td>\n",
       "      <td>69313.39</td>\n",
       "      <td>18471.38</td>\n",
       "      <td>5404.80</td>\n",
       "      <td>2750.33</td>\n",
       "      <td>50.61</td>\n",
       "      <td>3008.35</td>\n",
       "      <td>NaN</td>\n",
       "      <td>NaN</td>\n",
       "      <td>NaN</td>\n",
       "    </tr>\n",
       "    <tr>\n",
       "      <th>1.0</th>\n",
       "      <td>4.757063e+06</td>\n",
       "      <td>16553862.59</td>\n",
       "      <td>1788753.63</td>\n",
       "      <td>87158.45</td>\n",
       "      <td>16146.37</td>\n",
       "      <td>3154.00</td>\n",
       "      <td>218.94</td>\n",
       "      <td>NaN</td>\n",
       "      <td>NaN</td>\n",
       "      <td>NaN</td>\n",
       "      <td>NaN</td>\n",
       "      <td>NaN</td>\n",
       "      <td>NaN</td>\n",
       "    </tr>\n",
       "    <tr>\n",
       "      <th>2.0</th>\n",
       "      <td>2.244122e+06</td>\n",
       "      <td>854826.11</td>\n",
       "      <td>12673415.39</td>\n",
       "      <td>928240.83</td>\n",
       "      <td>47172.02</td>\n",
       "      <td>7316.58</td>\n",
       "      <td>1759.92</td>\n",
       "      <td>486.02</td>\n",
       "      <td>NaN</td>\n",
       "      <td>NaN</td>\n",
       "      <td>NaN</td>\n",
       "      <td>NaN</td>\n",
       "      <td>NaN</td>\n",
       "    </tr>\n",
       "    <tr>\n",
       "      <th>3.0</th>\n",
       "      <td>1.029664e+06</td>\n",
       "      <td>476427.78</td>\n",
       "      <td>28834.94</td>\n",
       "      <td>4614543.24</td>\n",
       "      <td>1584990.14</td>\n",
       "      <td>459044.89</td>\n",
       "      <td>135175.92</td>\n",
       "      <td>47639.99</td>\n",
       "      <td>15654.63</td>\n",
       "      <td>5527.24</td>\n",
       "      <td>4263.23</td>\n",
       "      <td>118.96</td>\n",
       "      <td>147.68</td>\n",
       "    </tr>\n",
       "  </tbody>\n",
       "</table>\n",
       "</div>"
      ],
      "text/plain": [
       "nu18          0.0          1.0          2.0         3.0         4.0   \\\n",
       "n24                                                                    \n",
       "0.0   1.149045e+08   5766988.03    547510.00   211161.64    69313.39   \n",
       "1.0   4.757063e+06  16553862.59   1788753.63    87158.45    16146.37   \n",
       "2.0   2.244122e+06    854826.11  12673415.39   928240.83    47172.02   \n",
       "3.0   1.029664e+06    476427.78     28834.94  4614543.24  1584990.14   \n",
       "\n",
       "nu18       5.0        6.0       7.0       8.0      9.0      10.0    11.0  \\\n",
       "n24                                                                        \n",
       "0.0    18471.38    5404.80   2750.33     50.61  3008.35      NaN     NaN   \n",
       "1.0     3154.00     218.94       NaN       NaN      NaN      NaN     NaN   \n",
       "2.0     7316.58    1759.92    486.02       NaN      NaN      NaN     NaN   \n",
       "3.0   459044.89  135175.92  47639.99  15654.63  5527.24  4263.23  118.96   \n",
       "\n",
       "nu18    12.0  \n",
       "n24           \n",
       "0.0      NaN  \n",
       "1.0      NaN  \n",
       "2.0      NaN  \n",
       "3.0   147.68  "
      ]
     },
     "execution_count": 175,
     "metadata": {},
     "output_type": "execute_result"
    }
   ],
   "source": [
    "keep_cur.pivot_table(index='n24', columns='nu18', values='s006', aggfunc=sum)"
   ]
  },
  {
   "cell_type": "code",
   "execution_count": 171,
   "metadata": {},
   "outputs": [
    {
     "data": {
      "text/plain": [
       "11.757627970000001"
      ]
     },
     "execution_count": 171,
     "metadata": {},
     "output_type": "execute_result"
    }
   ],
   "source": [
    "keep_cur[keep_cur['nu18'] > keep_cur['n24']]['s006'].sum() / 1e6"
   ]
  },
  {
   "cell_type": "code",
   "execution_count": 173,
   "metadata": {},
   "outputs": [
    {
     "data": {
      "text/plain": [
       "9.3909378300000022"
      ]
     },
     "execution_count": 173,
     "metadata": {},
     "output_type": "execute_result"
    }
   ],
   "source": [
    "keep_cur[keep_cur['n24'] > keep_cur['nu18']]['s006'].sum() / 1e6"
   ]
  },
  {
   "cell_type": "markdown",
   "metadata": {},
   "source": [
    "### Distributional impact"
   ]
  },
  {
   "cell_type": "code",
   "execution_count": 137,
   "metadata": {},
   "outputs": [
    {
     "data": {
      "text/html": [
       "<div>\n",
       "<style scoped>\n",
       "    .dataframe tbody tr th:only-of-type {\n",
       "        vertical-align: middle;\n",
       "    }\n",
       "\n",
       "    .dataframe tbody tr th {\n",
       "        vertical-align: top;\n",
       "    }\n",
       "\n",
       "    .dataframe thead th {\n",
       "        text-align: right;\n",
       "    }\n",
       "</style>\n",
       "<table border=\"1\" class=\"dataframe\">\n",
       "  <thead>\n",
       "    <tr style=\"text-align: right;\">\n",
       "      <th></th>\n",
       "      <th>s006</th>\n",
       "      <th>aftertax_income</th>\n",
       "      <th>expanded_income</th>\n",
       "      <th>nu18</th>\n",
       "      <th>n24</th>\n",
       "      <th>use_2017_law</th>\n",
       "      <th>ctc_treatment</th>\n",
       "      <th>id</th>\n",
       "    </tr>\n",
       "  </thead>\n",
       "  <tbody>\n",
       "    <tr>\n",
       "      <th>1000</th>\n",
       "      <td>14.39</td>\n",
       "      <td>80743.440366</td>\n",
       "      <td>75425.491384</td>\n",
       "      <td>3.0</td>\n",
       "      <td>2.0</td>\n",
       "      <td>False</td>\n",
       "      <td>keep</td>\n",
       "      <td>1000</td>\n",
       "    </tr>\n",
       "    <tr>\n",
       "      <th>1000</th>\n",
       "      <td>14.39</td>\n",
       "      <td>78513.210786</td>\n",
       "      <td>75425.491384</td>\n",
       "      <td>3.0</td>\n",
       "      <td>2.0</td>\n",
       "      <td>False</td>\n",
       "      <td>repeal</td>\n",
       "      <td>1000</td>\n",
       "    </tr>\n",
       "    <tr>\n",
       "      <th>1000</th>\n",
       "      <td>14.39</td>\n",
       "      <td>82906.783490</td>\n",
       "      <td>79819.064088</td>\n",
       "      <td>3.0</td>\n",
       "      <td>2.0</td>\n",
       "      <td>False</td>\n",
       "      <td>rev_neutral_ubi</td>\n",
       "      <td>1000</td>\n",
       "    </tr>\n",
       "    <tr>\n",
       "      <th>1000</th>\n",
       "      <td>14.39</td>\n",
       "      <td>80527.250786</td>\n",
       "      <td>75425.491384</td>\n",
       "      <td>3.0</td>\n",
       "      <td>2.0</td>\n",
       "      <td>True</td>\n",
       "      <td>keep</td>\n",
       "      <td>1000</td>\n",
       "    </tr>\n",
       "    <tr>\n",
       "      <th>1000</th>\n",
       "      <td>14.39</td>\n",
       "      <td>78527.250786</td>\n",
       "      <td>75425.491384</td>\n",
       "      <td>3.0</td>\n",
       "      <td>2.0</td>\n",
       "      <td>True</td>\n",
       "      <td>repeal</td>\n",
       "      <td>1000</td>\n",
       "    </tr>\n",
       "    <tr>\n",
       "      <th>1000</th>\n",
       "      <td>14.39</td>\n",
       "      <td>80423.419136</td>\n",
       "      <td>77321.659734</td>\n",
       "      <td>3.0</td>\n",
       "      <td>2.0</td>\n",
       "      <td>True</td>\n",
       "      <td>rev_neutral_ubi</td>\n",
       "      <td>1000</td>\n",
       "    </tr>\n",
       "  </tbody>\n",
       "</table>\n",
       "</div>"
      ],
      "text/plain": [
       "       s006  aftertax_income  expanded_income  nu18  n24  use_2017_law  \\\n",
       "1000  14.39     80743.440366     75425.491384   3.0  2.0         False   \n",
       "1000  14.39     78513.210786     75425.491384   3.0  2.0         False   \n",
       "1000  14.39     82906.783490     79819.064088   3.0  2.0         False   \n",
       "1000  14.39     80527.250786     75425.491384   3.0  2.0          True   \n",
       "1000  14.39     78527.250786     75425.491384   3.0  2.0          True   \n",
       "1000  14.39     80423.419136     77321.659734   3.0  2.0          True   \n",
       "\n",
       "        ctc_treatment    id  \n",
       "1000             keep  1000  \n",
       "1000           repeal  1000  \n",
       "1000  rev_neutral_ubi  1000  \n",
       "1000             keep  1000  \n",
       "1000           repeal  1000  \n",
       "1000  rev_neutral_ubi  1000  "
      ]
     },
     "execution_count": 137,
     "metadata": {},
     "output_type": "execute_result"
    }
   ],
   "source": [
    "scenarios.loc[1000, :].sort_values('use_2017_law')"
   ]
  },
  {
   "cell_type": "code",
   "execution_count": 159,
   "metadata": {},
   "outputs": [],
   "source": [
    "scenario_pivot = scenarios.pivot_table(values=['expanded_income', 'aftertax_income'],\n",
    "                                       index=['id', 'use_2017_law', 's006', 'nu18', 'n24'],\n",
    "                                       columns='ctc_treatment').reset_index()\n",
    "# Adapted from https://stackoverflow.com/q/42099024/1840471.\n",
    "scenario_pivot.columns = [\"_\".join((j, i)) for i, j in scenario_pivot.columns]\n",
    "scenario_pivot.columns = scenario_pivot.columns.str.lstrip('_')"
   ]
  },
  {
   "cell_type": "code",
   "execution_count": 160,
   "metadata": {},
   "outputs": [],
   "source": [
    "scenario_pivot['afti_chg_ctc'] = (\n",
    "    (scenario_pivot['repeal_aftertax_income'] - scenario_pivot['keep_aftertax_income']) / \n",
    "    scenario_pivot['keep_aftertax_income'])\n",
    "scenario_pivot['afti_chg_ubi'] = (\n",
    "    (scenario_pivot['rev_neutral_ubi_aftertax_income'] - scenario_pivot['keep_aftertax_income']) / \n",
    "    scenario_pivot['keep_aftertax_income'])\n",
    "scenario18 = scenario_pivot[~scenario_pivot['use_2017_law']].drop(columns='use_2017_law')"
   ]
  },
  {
   "cell_type": "code",
   "execution_count": 184,
   "metadata": {},
   "outputs": [
    {
     "data": {
      "text/html": [
       "<div>\n",
       "<style scoped>\n",
       "    .dataframe tbody tr th:only-of-type {\n",
       "        vertical-align: middle;\n",
       "    }\n",
       "\n",
       "    .dataframe tbody tr th {\n",
       "        vertical-align: top;\n",
       "    }\n",
       "\n",
       "    .dataframe thead th {\n",
       "        text-align: right;\n",
       "    }\n",
       "</style>\n",
       "<table border=\"1\" class=\"dataframe\">\n",
       "  <thead>\n",
       "    <tr style=\"text-align: right;\">\n",
       "      <th></th>\n",
       "      <th>id</th>\n",
       "      <th>s006</th>\n",
       "      <th>nu18</th>\n",
       "      <th>n24</th>\n",
       "      <th>keep_aftertax_income</th>\n",
       "      <th>repeal_aftertax_income</th>\n",
       "      <th>rev_neutral_ubi_aftertax_income</th>\n",
       "      <th>keep_expanded_income</th>\n",
       "      <th>repeal_expanded_income</th>\n",
       "      <th>rev_neutral_ubi_expanded_income</th>\n",
       "      <th>afti_chg_ctc</th>\n",
       "      <th>afti_chg_ubi</th>\n",
       "    </tr>\n",
       "  </thead>\n",
       "  <tbody>\n",
       "    <tr>\n",
       "      <th>321318</th>\n",
       "      <td>160659</td>\n",
       "      <td>824.31</td>\n",
       "      <td>2.0</td>\n",
       "      <td>1.0</td>\n",
       "      <td>1.739164</td>\n",
       "      <td>1.739164</td>\n",
       "      <td>2930.787633</td>\n",
       "      <td>1.739164</td>\n",
       "      <td>1.739164</td>\n",
       "      <td>2930.787633</td>\n",
       "      <td>0.0</td>\n",
       "      <td>1684.170422</td>\n",
       "    </tr>\n",
       "    <tr>\n",
       "      <th>318758</th>\n",
       "      <td>159379</td>\n",
       "      <td>457.08</td>\n",
       "      <td>2.0</td>\n",
       "      <td>1.0</td>\n",
       "      <td>1.739164</td>\n",
       "      <td>1.739164</td>\n",
       "      <td>2930.787633</td>\n",
       "      <td>1.739164</td>\n",
       "      <td>1.739164</td>\n",
       "      <td>2930.787633</td>\n",
       "      <td>0.0</td>\n",
       "      <td>1684.170422</td>\n",
       "    </tr>\n",
       "    <tr>\n",
       "      <th>413628</th>\n",
       "      <td>206814</td>\n",
       "      <td>1007.05</td>\n",
       "      <td>3.0</td>\n",
       "      <td>2.0</td>\n",
       "      <td>1.549691</td>\n",
       "      <td>1.549691</td>\n",
       "      <td>4395.122394</td>\n",
       "      <td>1.549691</td>\n",
       "      <td>1.549691</td>\n",
       "      <td>4395.122394</td>\n",
       "      <td>0.0</td>\n",
       "      <td>2835.128587</td>\n",
       "    </tr>\n",
       "    <tr>\n",
       "      <th>258024</th>\n",
       "      <td>129012</td>\n",
       "      <td>203.45</td>\n",
       "      <td>3.0</td>\n",
       "      <td>2.0</td>\n",
       "      <td>1.541713</td>\n",
       "      <td>1.541713</td>\n",
       "      <td>4395.114416</td>\n",
       "      <td>1.541713</td>\n",
       "      <td>1.541713</td>\n",
       "      <td>4395.114416</td>\n",
       "      <td>0.0</td>\n",
       "      <td>2849.799369</td>\n",
       "    </tr>\n",
       "    <tr>\n",
       "      <th>450262</th>\n",
       "      <td>225131</td>\n",
       "      <td>355.67</td>\n",
       "      <td>3.0</td>\n",
       "      <td>0.0</td>\n",
       "      <td>1.363286</td>\n",
       "      <td>1.363286</td>\n",
       "      <td>4394.935990</td>\n",
       "      <td>1.363286</td>\n",
       "      <td>1.363286</td>\n",
       "      <td>4394.935990</td>\n",
       "      <td>0.0</td>\n",
       "      <td>3222.781213</td>\n",
       "    </tr>\n",
       "  </tbody>\n",
       "</table>\n",
       "</div>"
      ],
      "text/plain": [
       "            id     s006  nu18  n24  keep_aftertax_income  \\\n",
       "321318  160659   824.31   2.0  1.0              1.739164   \n",
       "318758  159379   457.08   2.0  1.0              1.739164   \n",
       "413628  206814  1007.05   3.0  2.0              1.549691   \n",
       "258024  129012   203.45   3.0  2.0              1.541713   \n",
       "450262  225131   355.67   3.0  0.0              1.363286   \n",
       "\n",
       "        repeal_aftertax_income  rev_neutral_ubi_aftertax_income  \\\n",
       "321318                1.739164                      2930.787633   \n",
       "318758                1.739164                      2930.787633   \n",
       "413628                1.549691                      4395.122394   \n",
       "258024                1.541713                      4395.114416   \n",
       "450262                1.363286                      4394.935990   \n",
       "\n",
       "        keep_expanded_income  repeal_expanded_income  \\\n",
       "321318              1.739164                1.739164   \n",
       "318758              1.739164                1.739164   \n",
       "413628              1.549691                1.549691   \n",
       "258024              1.541713                1.541713   \n",
       "450262              1.363286                1.363286   \n",
       "\n",
       "        rev_neutral_ubi_expanded_income  afti_chg_ctc  afti_chg_ubi  \n",
       "321318                      2930.787633           0.0   1684.170422  \n",
       "318758                      2930.787633           0.0   1684.170422  \n",
       "413628                      4395.122394           0.0   2835.128587  \n",
       "258024                      4395.114416           0.0   2849.799369  \n",
       "450262                      4394.935990           0.0   3222.781213  "
      ]
     },
     "execution_count": 184,
     "metadata": {},
     "output_type": "execute_result"
    }
   ],
   "source": [
    "scenario18[(scenario18['rev_neutral_ubi_aftertax_income'] >= 0) &\n",
    "           (scenario18['keep_aftertax_income'] >= 0) &\n",
    "           (scenario18['afti_chg_ubi'] < np.inf)].sort_values('afti_chg_ubi').tail()"
   ]
  },
  {
   "cell_type": "code",
   "execution_count": null,
   "metadata": {
    "collapsed": true
   },
   "outputs": [],
   "source": []
  }
 ],
 "metadata": {
  "kernelspec": {
   "display_name": "Python 2",
   "language": "python",
   "name": "python2"
  },
  "language_info": {
   "codemirror_mode": {
    "name": "ipython",
    "version": 2
   },
   "file_extension": ".py",
   "mimetype": "text/x-python",
   "name": "python",
   "nbconvert_exporter": "python",
   "pygments_lexer": "ipython2",
   "version": "2.7.14"
  }
 },
 "nbformat": 4,
 "nbformat_minor": 2
}
