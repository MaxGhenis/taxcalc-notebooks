{
 "cells": [
  {
   "cell_type": "markdown",
   "metadata": {},
   "source": [
    "# Effect of replacing Child Tax Credit with Child Dividend\n",
    "\n",
    "This identifies beneficiaries of the Child Tax Credit by modeling its repeal on a static basis, both against current and pre-TCJA law. Change to after-tax income by decile, inequality, and poverty rates are calculated.\n",
    "\n",
    "*Data: CPS  |  Tax year: 2018  |  Type: Static  |  Author: Max Ghenis*"
   ]
  },
  {
   "cell_type": "markdown",
   "metadata": {},
   "source": [
    "## Setup\n",
    "\n",
    "### Imports"
   ]
  },
  {
   "cell_type": "code",
   "execution_count": 1,
   "metadata": {},
   "outputs": [],
   "source": [
    "import taxcalc as tc\n",
    "import pandas as pd\n",
    "import numpy as np\n",
    "import matplotlib as mpl\n",
    "import matplotlib.pyplot as plt\n",
    "import seaborn as sns"
   ]
  },
  {
   "cell_type": "code",
   "execution_count": 2,
   "metadata": {
    "scrolled": true
   },
   "outputs": [
    {
     "data": {
      "text/plain": [
       "'0.22.2'"
      ]
     },
     "execution_count": 2,
     "metadata": {},
     "output_type": "execute_result"
    }
   ],
   "source": [
    "tc.__version__"
   ]
  },
  {
   "cell_type": "markdown",
   "metadata": {},
   "source": [
    "### Settings"
   ]
  },
  {
   "cell_type": "code",
   "execution_count": 3,
   "metadata": {},
   "outputs": [],
   "source": [
    "sns.set_style('white')\n",
    "DPI = 500\n",
    "mpl.rc('savefig', dpi=DPI)\n",
    "mpl.rcParams['figure.dpi'] = DPI\n",
    "mpl.rcParams['figure.figsize'] = 6.4, 4.8  # Default."
   ]
  },
  {
   "cell_type": "code",
   "execution_count": 4,
   "metadata": {},
   "outputs": [],
   "source": [
    "mpl.rcParams['font.sans-serif'] = 'Roboto'\n",
    "mpl.rcParams['font.family'] = 'sans-serif'\n",
    "\n",
    "# Set title text color to dark gray (https://material.io/color) not black.\n",
    "TITLE_COLOR = '#212121'\n",
    "mpl.rcParams['text.color'] = TITLE_COLOR\n",
    "\n",
    "# Axis titles and tick marks are medium gray.\n",
    "AXIS_COLOR = '#757575'\n",
    "mpl.rcParams['axes.labelcolor'] = AXIS_COLOR\n",
    "mpl.rcParams['xtick.color'] = AXIS_COLOR\n",
    "mpl.rcParams['ytick.color'] = AXIS_COLOR\n",
    "\n",
    "# Use Seaborn's default color palette.\n",
    "# https://stackoverflow.com/q/48958426/1840471 for reproducibility.\n",
    "sns.set_palette(sns.color_palette())"
   ]
  },
  {
   "cell_type": "code",
   "execution_count": null,
   "metadata": {},
   "outputs": [],
   "source": [
    "# Specify number of decimals in tables.\n",
    "pd.set_option('precision', 2)"
   ]
  },
  {
   "cell_type": "markdown",
   "metadata": {},
   "source": [
    "### Utilities"
   ]
  },
  {
   "cell_type": "markdown",
   "metadata": {},
   "source": [
    "From https://stackoverflow.com/a/49571213/1840471."
   ]
  },
  {
   "cell_type": "code",
   "execution_count": null,
   "metadata": {},
   "outputs": [],
   "source": [
    "def gini(x, w=None, zero_negatives=True):\n",
    "    # Requires float numpy arrays (not pandas Series or lists) to work.\n",
    "    x = np.array(x).astype('float')\n",
    "    if zero_negatives:\n",
    "        x[x < 0] = 0\n",
    "    if w is not None:\n",
    "        w = np.array(w).astype('float')\n",
    "        sorted_indices = np.argsort(x)\n",
    "        sorted_x = x[sorted_indices]\n",
    "        sorted_w = w[sorted_indices]\n",
    "        cumw = np.cumsum(sorted_w)\n",
    "        cumxw = np.cumsum(sorted_x * sorted_w)\n",
    "        return (np.sum(cumxw[1:] * cumw[:-1] - cumxw[:-1] * cumw[1:]) /\n",
    "                (cumxw[-1] * cumw[-1]))\n",
    "    else:\n",
    "        sorted_x = np.sort(x)\n",
    "        n = len(x)\n",
    "        cumxw = np.cumsum(sorted_x)\n",
    "        # The above formula, with all weights equal to 1 simplifies to:\n",
    "        return (n + 1 - 2 * np.sum(cumxw) / cumxw[-1]) / n"
   ]
  },
  {
   "cell_type": "markdown",
   "metadata": {},
   "source": [
    "2018 HHS Poverty Guidelines (Federal Poverty Level) for 48 Contiguous States and District of Columbia (Alaska and Hawaii have higher guidelines, but the data does not have state code): https://aspe.hhs.gov/poverty-guidelines"
   ]
  },
  {
   "cell_type": "code",
   "execution_count": null,
   "metadata": {},
   "outputs": [],
   "source": [
    "def fpl(XTOT):\n",
    "    return 7820 + 4320 * XTOT"
   ]
  },
  {
   "cell_type": "code",
   "execution_count": null,
   "metadata": {},
   "outputs": [],
   "source": [
    "def weighted_sum(df, col):\n",
    "    return (df[col] * df.s006).sum()\n",
    "\n",
    "def weighted_mean(df, col):\n",
    "    return weighted_sum(df, col) / df.s006.sum()"
   ]
  },
  {
   "cell_type": "markdown",
   "metadata": {},
   "source": [
    "### Create reforms\n",
    "\n",
    "CTC repeal involves eliminating the normal CTC as well as the new dependent credit for children.\n",
    "\n",
    "A reform to return to 2017 CTC law is used to show how the distribution of CTC benefits changed with TCJA."
   ]
  },
  {
   "cell_type": "code",
   "execution_count": null,
   "metadata": {},
   "outputs": [],
   "source": [
    "noctc_reform = {\n",
    "    2018: {\n",
    "        \"_CTC_c\": [0],\n",
    "        \"_DependentCredit_Child_c\": [0.0],\n",
    "        # Include old phase-out because it affects the non-child dep credit.\n",
    "        #\"_CTC_ps\": [[75000.0, 110000.0, 55000.0, 75000.0, 75000.0]],\n",
    "        \n",
    "        #\"_DependentCredit_before_CTC\": [False],\n",
    "    }\n",
    "}\n",
    "\n",
    "y2017_reform = {\n",
    "    2018: {\n",
    "        # Current: 1400.0\n",
    "        \"_CTC_c\": [1000.0],\n",
    "        # Current: [200000.0, 400000.0, 200000.0, 200000.0, 400000.0]\n",
    "        \"_CTC_ps\": [[75000.0, 110000.0, 55000.0, 75000.0, 75000.0]],\n",
    "        # Current: 2500.0\n",
    "        \"_ACTC_Income_thd\": [3000.0],\n",
    "        # Current: 600.0\n",
    "        \"_DependentCredit_Child_c\": [0.0],\n",
    "        # Current: True\n",
    "        \"_DependentCredit_before_CTC\": [False],\n",
    "    }\n",
    "}\n",
    "\n",
    "repeal_nonchild_dep_credit_reform = {\n",
    "    2018: {\n",
    "        # Current: 500.0.\n",
    "        # This keeps the nonchild component separate.\n",
    "        \"_DependentCredit_Nonchild_c\": [0.0]\n",
    "    }\n",
    "}"
   ]
  },
  {
   "cell_type": "markdown",
   "metadata": {},
   "source": [
    "## Generate data"
   ]
  },
  {
   "cell_type": "code",
   "execution_count": null,
   "metadata": {},
   "outputs": [],
   "source": [
    "recs = tc.Records.cps_constructor()"
   ]
  },
  {
   "cell_type": "code",
   "execution_count": null,
   "metadata": {},
   "outputs": [],
   "source": [
    "def static_baseline_calc(year):\n",
    "    calc = tc.Calculator(records=recs, policy=tc.Policy())\n",
    "    calc.advance_to_year(year)\n",
    "    calc.calc_all()\n",
    "    return calc"
   ]
  },
  {
   "cell_type": "code",
   "execution_count": null,
   "metadata": {},
   "outputs": [],
   "source": [
    "def add_weighted_quantiles(df, col):\n",
    "    df.sort_values(by=col, inplace=True)\n",
    "    col_pctile = col + '_percentile_exact'\n",
    "    df[col_pctile] = 100 * df.s006.cumsum() / df.s006.sum()\n",
    "    # \"Null out\" negatives using -1, since integer arrays can't be NaN.\n",
    "    # TODO: Should these be null floats?\n",
    "    df[col_pctile] = np.where(df[col] >= 0, df[col_pctile], 0)\n",
    "    # Reduce top record, otherwise it's incorrectly rounded up.\n",
    "    df[col_pctile] = np.where(df[col_pctile] >= 99.99999, 99.99999, \n",
    "                              df[col_pctile])\n",
    "    df[col + '_percentile'] = np.ceil(df[col_pctile]).astype(int)\n",
    "    df[col + '_2percentile'] = np.ceil(df[col_pctile] / 2).astype(int)\n",
    "    df[col + '_ventile'] = np.ceil(df[col_pctile] / 5).astype(int)\n",
    "    df[col + '_decile'] = np.ceil(df[col_pctile] / 10).astype(int)\n",
    "    df[col + '_quintile'] = np.ceil(df[col_pctile] / 20).astype(int)\n",
    "    df[col + '_quartile'] = np.ceil(df[col_pctile] / 25).astype(int)\n",
    "    return df"
   ]
  },
  {
   "cell_type": "code",
   "execution_count": null,
   "metadata": {},
   "outputs": [],
   "source": [
    "def static_calc(ctc_treatment='keep',\n",
    "                year=2018,\n",
    "                cols=['RECID', 's006', 'aftertax_income', 'expanded_income',\n",
    "                      'n24', 'XTOT', 'c07220', 'c11070', 'dep_credit'],\n",
    "                child_tax_units_only=True):\n",
    "    \"\"\"Creates static Calculator.\n",
    "\n",
    "    Args:\n",
    "        ctc_treatment: How the Child Tax Credit is treated. Options include:\n",
    "            * 'keep': No change. Default.\n",
    "            * 'repeal': End entirely.\n",
    "            * 'y2017': Use 2017 law.\n",
    "        year: Year to advance calculations to.\n",
    "        cols: Columns to extract per Calculator record. \n",
    "            Defaults to ['s006', 'expanded_income', 'aftertax_income', 'nu18',\n",
    "            'n24', 'XTOT'].\n",
    "        child_tax_units_only: Limit tax units to those with n24 > 0. \n",
    "            Quantiles are calculated after this filtering. Defaults to true.\n",
    "        \n",
    "    Returns:\n",
    "        DataFrame with `cols` and percentile, decile, and quintile of \n",
    "        after-tax income.\n",
    "    \"\"\"\n",
    "    pol = tc.Policy()\n",
    "    # Repeal the non-child dependent credit in all analysis, since it\n",
    "    # interacts with the CTC and child dependent credit.\n",
    "    pol.implement_reform(repeal_nonchild_dep_credit_reform)\n",
    "    # Enact reform based on ctc_treatment.\n",
    "    # Repeal CTC unless it's kept.\n",
    "    if ctc_treatment == 'y2017':\n",
    "        pol.implement_reform(y2017_reform)\n",
    "    elif ctc_treatment == 'repeal':\n",
    "        pol.implement_reform(noctc_reform)\n",
    "    # Calculate. This is needed to calculate the revenue-neutral UBI.\n",
    "    calc = tc.Calculator(records=recs, policy=pol, verbose=False)\n",
    "    calc.advance_to_year(year)\n",
    "    calc.calc_all()\n",
    "    # Create DataFrame and add identifiers.\n",
    "    df = calc.dataframe(cols)\n",
    "    if child_tax_units_only:\n",
    "        df = df[df.n24 > 0]\n",
    "    # Add percentiles.\n",
    "    df = add_weighted_quantiles(df, 'expanded_income')\n",
    "    df = add_weighted_quantiles(df, 'aftertax_income')\n",
    "    # Add identifier.\n",
    "    df['ctc_treatment'] = ctc_treatment\n",
    "    # Add weighted sums.\n",
    "    df['s006_m'] = df.s006 / 1e6\n",
    "    df['s006_b'] = df.s006 / 1e9\n",
    "    df['expanded_income_b'] = df.expanded_income * df.s006_b\n",
    "    df['aftertax_income_b'] = df.aftertax_income * df.s006_b\n",
    "    df['n24_m'] = df.n24 * df.s006_m\n",
    "    df['XTOT_m'] = df.XTOT * df.s006_m\n",
    "    df.set_index('RECID', inplace=True)\n",
    "    return df"
   ]
  },
  {
   "cell_type": "code",
   "execution_count": null,
   "metadata": {},
   "outputs": [],
   "source": [
    "scenarios = pd.concat([\n",
    "    static_calc(ctc_treatment='keep'),\n",
    "    static_calc(ctc_treatment='y2017'),\n",
    "    static_calc(ctc_treatment='repeal')])"
   ]
  },
  {
   "cell_type": "markdown",
   "metadata": {},
   "source": [
    "## Program cost and child allowance calculation"
   ]
  },
  {
   "cell_type": "code",
   "execution_count": null,
   "metadata": {},
   "outputs": [],
   "source": [
    "afti_summary = (\n",
    "    scenarios.groupby('ctc_treatment')['aftertax_income_b', 'n24_m'].sum())\n",
    "n24_m_total = afti_summary.iloc[0].n24_m\n",
    "ctc_cost_b = (afti_summary.loc['keep'].aftertax_income_b -\n",
    "              afti_summary.loc['repeal'].aftertax_income_b)\n",
    "rev_neutral_ubi_per_n24 = 1000 * ctc_cost_b / n24_m_total\n",
    "MAX_CTC = 2000\n",
    "top_ubi_cost_b = n24_m_total * MAX_CTC / 1000 - ctc_cost_b\n",
    "top_ubi_cost_b_pct = top_ubi_cost_b / ctc_cost_b"
   ]
  },
  {
   "cell_type": "code",
   "execution_count": null,
   "metadata": {},
   "outputs": [],
   "source": [
    "print('The CTC has an estimated total 2018 cost of ' + \n",
    "      '${:.1f}'.format(ctc_cost_b) + 'B.\\n' +\n",
    "      'This could fund a ${:,.0f}'.format(rev_neutral_ubi_per_n24) +\n",
    "      ' child benefit for all {:,.1f}'.format(n24_m_total) +\n",
    "      'M CTC-eligible children.\\n' +\n",
    "      'Topping up to $2,000 per CTC-eligible child would cost ' +\n",
    "      '${:.1f}'.format(top_ubi_cost_b) + \n",
    "      'B, a {:.1f}'.format(top_ubi_cost_b_pct * 100) + '% increase.')"
   ]
  },
  {
   "cell_type": "markdown",
   "metadata": {},
   "source": [
    "Two comparison points:\n",
    "\n",
    "1. PUF/TaxBrain estimates \\$112.4B\n",
    "2. [TPC's 2017 estimate](http://www.taxpolicycenter.org/publications/refundable-credits-earned-income-tax-credit-and-child-tax-credit/full) of \\$52B plus [JCT's estimate](https://www.jct.gov/publications.html?func=startdown&id=5053) that TCJA's non-SSN reforms would cost \\$68B starting in 2019, yields \\$120B. The 2018 estimate of \\$29B does not capture the refundable portions.\n",
    "\n",
    "See https://github.com/open-source-economics/taxdata/issues/170."
   ]
  },
  {
   "cell_type": "markdown",
   "metadata": {},
   "source": [
    "Set revenue-neutral amount as a round number close to the quantified amount."
   ]
  },
  {
   "cell_type": "code",
   "execution_count": null,
   "metadata": {},
   "outputs": [],
   "source": [
    "RN_UBI = 1500\n",
    "rn_ubi_str = '${:,.0f}'.format(RN_UBI)"
   ]
  },
  {
   "cell_type": "markdown",
   "metadata": {},
   "source": [
    "How much does rounding cost?"
   ]
  },
  {
   "cell_type": "code",
   "execution_count": null,
   "metadata": {},
   "outputs": [],
   "source": [
    "print('Rounding from ${:,.0f}'.format(rev_neutral_ubi_per_n24) +\n",
    "      ' to ${:,.0f}'.format(RN_UBI) + \n",
    "      ' would cost ${:,.1f}B.'.format(\n",
    "          (RN_UBI * n24_m_total / 1000) - ctc_cost_b))"
   ]
  },
  {
   "cell_type": "markdown",
   "metadata": {},
   "source": [
    "## Preprocess\n",
    "\n",
    "### Widen data\n",
    "\n",
    "Create `tu`, a `DataFrame` with one row per tax unit."
   ]
  },
  {
   "cell_type": "code",
   "execution_count": null,
   "metadata": {},
   "outputs": [],
   "source": [
    "tu = scenarios.pivot_table(values='aftertax_income',\n",
    "                           index='RECID', \n",
    "                           columns='ctc_treatment') #.reset_index()\n",
    "tu.columns = ['afti_keep', 'afti_repeal', 'afti_y2017']"
   ]
  },
  {
   "cell_type": "code",
   "execution_count": null,
   "metadata": {},
   "outputs": [],
   "source": [
    "AFTI_QUANTILES = ['aftertax_income_percentile', \n",
    "                  'aftertax_income_2percentile', 'aftertax_income_ventile', \n",
    "                  'aftertax_income_decile', 'aftertax_income_quintile', \n",
    "                  'aftertax_income_quartile']\n",
    "\n",
    "# Dimensions based on tax unit and baseline.\n",
    "base_aftiq = (\n",
    "    scenarios.loc[scenarios.ctc_treatment == 'keep',\n",
    "                  np.append(['n24', 'n24_m', 's006', 'XTOT', \n",
    "                             'XTOT_m'], AFTI_QUANTILES)])\n",
    "# Same for repeal scenario for showing who gets CTC.\n",
    "repeal_aftiq = scenarios.loc[scenarios['ctc_treatment'] == 'repeal',\n",
    "                             AFTI_QUANTILES]\n",
    "repeal_aftiq.columns = (repeal_aftiq.columns + '_repeal').tolist()"
   ]
  },
  {
   "cell_type": "code",
   "execution_count": null,
   "metadata": {},
   "outputs": [],
   "source": [
    "tu = tu.join(base_aftiq.join(repeal_aftiq))"
   ]
  },
  {
   "cell_type": "markdown",
   "metadata": {},
   "source": [
    "### Add UBI scenario after-tax incomes"
   ]
  },
  {
   "cell_type": "code",
   "execution_count": null,
   "metadata": {},
   "outputs": [],
   "source": [
    "tu['afti_ubi'] = tu.afti_repeal + tu.n24 * RN_UBI\n",
    "tu['afti_tubi'] = tu.afti_repeal + tu.n24 * MAX_CTC"
   ]
  },
  {
   "cell_type": "code",
   "execution_count": null,
   "metadata": {},
   "outputs": [],
   "source": [
    "for i in ['keep', 'repeal', 'y2017', 'ubi', 'tubi']:\n",
    "    tu['afti_' + i + '_b'] = tu['afti_' + i] * tu.s006 / 1e9"
   ]
  },
  {
   "cell_type": "code",
   "execution_count": null,
   "metadata": {},
   "outputs": [],
   "source": [
    "def add_ratios(df):\n",
    "    df['repeal_afti_chg'] = df.afti_repeal_b - df.afti_keep_b\n",
    "    df['repeal_afti_pctchg'] = 100 * df.repeal_afti_chg / df.afti_keep_b\n",
    "    df['ubi_afti_chg'] = df.afti_ubi_b - df.afti_keep_b\n",
    "    df['ubi_afti_pctchg'] = 100 * df.ubi_afti_chg / df.afti_keep_b\n",
    "    df['tubi_afti_chg'] = df.afti_tubi_b - df.afti_keep_b\n",
    "    df['tubi_afti_pctchg'] = 100 * df.tubi_afti_chg / df.afti_keep_b\n",
    "    df['keep_afti_pp'] = 1000 * df.afti_keep_b / df.XTOT_m\n",
    "    df['ctc_per_n24'] = 1000 * (df.afti_keep_b - df.afti_repeal_b) / df.n24_m\n",
    "    df['ctc_per_n24_2017'] = (\n",
    "        1000 * (df.afti_y2017_b - df.afti_repeal_b) / df.n24_m)\n",
    "    df['ctc_per_n24_2018'] = df.ctc_per_n24 - df.ctc_per_n24_2017"
   ]
  },
  {
   "cell_type": "code",
   "execution_count": null,
   "metadata": {},
   "outputs": [],
   "source": [
    "add_ratios(tu)"
   ]
  },
  {
   "cell_type": "markdown",
   "metadata": {},
   "source": [
    "Verify maximum CTC."
   ]
  },
  {
   "cell_type": "code",
   "execution_count": null,
   "metadata": {},
   "outputs": [],
   "source": [
    "tu['ctc_per_n24'].max().round()"
   ]
  },
  {
   "cell_type": "code",
   "execution_count": null,
   "metadata": {
    "scrolled": true
   },
   "outputs": [],
   "source": [
    "tu['ctc_per_n24_2017'].max().round()"
   ]
  },
  {
   "cell_type": "markdown",
   "metadata": {},
   "source": [
    "### Quantile summaries"
   ]
  },
  {
   "cell_type": "code",
   "execution_count": null,
   "metadata": {},
   "outputs": [],
   "source": [
    "def quantile_summary(df, groupby):\n",
    "    qs = df.groupby(groupby).sum()\n",
    "    add_ratios(qs)\n",
    "    # Exclude 0, the negative group.\n",
    "    return qs.loc[1:]"
   ]
  },
  {
   "cell_type": "code",
   "execution_count": null,
   "metadata": {},
   "outputs": [],
   "source": [
    "quart = quantile_summary(tu, 'aftertax_income_quartile')\n",
    "quint = quantile_summary(tu, 'aftertax_income_quintile')\n",
    "dec = quantile_summary(tu, 'aftertax_income_decile')\n",
    "vent = quantile_summary(tu, 'aftertax_income_ventile')\n",
    "twopct = quantile_summary(tu, 'aftertax_income_2percentile')\n",
    "pct = quantile_summary(tu, 'aftertax_income_percentile')"
   ]
  },
  {
   "cell_type": "code",
   "execution_count": null,
   "metadata": {},
   "outputs": [],
   "source": [
    "vent['percentile'] = vent.index * 5 - 2.5\n",
    "twopct['percentile'] = twopct.index * 2 - 1"
   ]
  },
  {
   "cell_type": "markdown",
   "metadata": {},
   "source": [
    "## CTC analysis"
   ]
  },
  {
   "cell_type": "markdown",
   "metadata": {},
   "source": [
    "### Households and children reached"
   ]
  },
  {
   "cell_type": "code",
   "execution_count": null,
   "metadata": {},
   "outputs": [],
   "source": [
    "tax_units_reached = tu.loc[tu['repeal_afti_chg'] < 0, 's006'].sum()\n",
    "share_of_tax_units_reached = tax_units_reached / tu['s006'].sum()"
   ]
  },
  {
   "cell_type": "code",
   "execution_count": null,
   "metadata": {},
   "outputs": [],
   "source": [
    "print('The CTC will reach {:.1f}'.format(tax_units_reached / 1e6) + \n",
    "      'M tax units in 2018.\\n' +\n",
    "      'This is {:.1f}'.format(share_of_tax_units_reached * 100) + \n",
    "      '% of all tax units with CTC-eligible children.')"
   ]
  },
  {
   "cell_type": "markdown",
   "metadata": {},
   "source": [
    "### CTC per child by percentile\n",
    "\n",
    "TODO: Ask about the warning in https://github.com/pandas-dev/pandas/issues/18671."
   ]
  },
  {
   "cell_type": "code",
   "execution_count": null,
   "metadata": {
    "scrolled": false
   },
   "outputs": [],
   "source": [
    "# Use colors from https://material.io/color/#!/?view.left=0&view.right=0&primary.color=64B5F6.\n",
    "ax = twopct.plot(x='percentile', y=['ctc_per_n24_2017', 'ctc_per_n24_2018'],\n",
    "    kind='area', color=['#2286c3', '#64b5f6'], linewidth=0)\n",
    "ax.legend_.remove()\n",
    "sns.despine(left=True, bottom=True)\n",
    "ax.set(xlabel=\n",
    "       'Percentile of income after non-CTC taxes and transfers (2% groups)',\n",
    "       ylabel='Average Child Tax Credit per CTC-eligible child',\n",
    "       ylim=(0, 2000))\n",
    "plt.axvline(x=99, c='gray', linestyle='dashed', linewidth=0.3, zorder=-1)\n",
    "ax.text(50, 400, '2017 CTC', horizontalalignment='center', color='white', \n",
    "        size=16)\n",
    "ax.text(50, 1100, '2018 expansion', horizontalalignment='center', \n",
    "        color='white', size=16)\n",
    "ax.get_yaxis().set_major_formatter(\n",
    "    mpl.ticker.FuncFormatter(lambda x, p: '$' + format(int(x), ',')))\n",
    "plt.title('Average Child Tax Credit per child by income', loc='left')\n",
    "ax.grid(color='#f5f5f5', axis='y')\n",
    "plt.show()"
   ]
  },
  {
   "cell_type": "markdown",
   "metadata": {},
   "source": [
    "## UBI vs. CTC"
   ]
  },
  {
   "cell_type": "markdown",
   "metadata": {},
   "source": [
    "### Distributional impact"
   ]
  },
  {
   "cell_type": "code",
   "execution_count": null,
   "metadata": {},
   "outputs": [],
   "source": [
    "# One line.\n",
    "UBI_LABEL = rn_ubi_str + ' (revenue-neutral)'\n",
    "TUBI_LABEL = '$2,000 (current maximum)'\n",
    "# Two lines.\n",
    "UBI_LABEL2 = rn_ubi_str + '\\n(revenue-neutral)'\n",
    "TUBI_LABEL2 = '\\$2,000\\n(current maximum)'\n",
    "# Three lines.\n",
    "UBI_LABEL3 = '\\\\' + rn_ubi_str + '\\n(revenue-\\nneutral)',\n",
    "TUBI_LABEL3 = '\\$2,000\\n(current\\nmaximum)'\n",
    "\n",
    "UBI_COLOR = '#757575'\n",
    "TUBI_COLOR = '#388e3c'\n",
    "\n",
    "UBI_LABELS = [UBI_LABEL, TUBI_LABEL]\n",
    "UBI_COLORS = [UBI_COLOR, TUBI_COLOR]\n",
    "UBI_COLS = ['ubi_afti_pctchg', 'tubi_afti_pctchg']\n",
    "\n",
    "YLAB = 'Change to income after taxes and transfers'"
   ]
  },
  {
   "cell_type": "markdown",
   "metadata": {},
   "source": [
    "#### Impact by quartile"
   ]
  },
  {
   "cell_type": "code",
   "execution_count": null,
   "metadata": {},
   "outputs": [],
   "source": [
    "quart[UBI_COLS]"
   ]
  },
  {
   "cell_type": "markdown",
   "metadata": {},
   "source": [
    "Overall impact on upper 75%."
   ]
  },
  {
   "cell_type": "code",
   "execution_count": null,
   "metadata": {},
   "outputs": [],
   "source": [
    "upper_75p = quart.loc[2:].sum()\n",
    "add_ratios(upper_75p)\n",
    "with pd.option_context('precision', 2):\n",
    "    print(upper_75p[UBI_COLS])"
   ]
  },
  {
   "cell_type": "code",
   "execution_count": null,
   "metadata": {},
   "outputs": [],
   "source": [
    "ax = quart.plot(y=UBI_COLS, color=UBI_COLORS)\n",
    "ax.legend_.remove()\n",
    "ax.text(2.8, 2, TUBI_LABEL, horizontalalignment='center', \n",
    "        color=TUBI_COLOR, size=12)\n",
    "ax.text(2.8, -0.1, UBI_LABEL, horizontalalignment='center', \n",
    "        color=UBI_COLOR, size=12)\n",
    "plt.axhline(y=0, c='gray', linestyle='dashed', linewidth=0.3, zorder=-1)\n",
    "sns.despine(left=True, bottom=True)\n",
    "ax.set(xlabel='Quartile of income after taxes and transfers (baseline)',\n",
    "       ylabel=YLAB,\n",
    "       xticks=[1, 2, 3, 4])\n",
    "ax.yaxis.set_major_formatter(mpl.ticker.FuncFormatter(\n",
    "    lambda y, _: '{:.0%}'.format(y / 100)))\n",
    "plt.title('Impact of replacing CTC with child benefit by quartile', \n",
    "          loc='left')\n",
    "ax.grid(color='#f5f5f5', axis='y')\n",
    "plt.show()"
   ]
  },
  {
   "cell_type": "markdown",
   "metadata": {},
   "source": [
    "#### Bottom quartile\n",
    "\n",
    "In 5% increments."
   ]
  },
  {
   "cell_type": "code",
   "execution_count": null,
   "metadata": {},
   "outputs": [],
   "source": [
    "vent.loc[:5, ['ubi_afti_pctchg', 'tubi_afti_pctchg', 'keep_afti_pp', 's006']]"
   ]
  },
  {
   "cell_type": "markdown",
   "metadata": {},
   "source": [
    "\\$1,218 per person per year is roughly $3.34 per day. 2.3M households in each ventile."
   ]
  },
  {
   "cell_type": "code",
   "execution_count": null,
   "metadata": {},
   "outputs": [],
   "source": [
    "ax = vent[:5].plot(x='percentile', y=UBI_COLS, color=UBI_COLORS)\n",
    "ax.legend_.remove()\n",
    "# Using UBI_LABEL3 and TUBI_LABEL3 does not work.\n",
    "ax.text(9.5, 40, '\\$2,000\\n(current\\nmaximum)', horizontalalignment='center', \n",
    "        color=TUBI_COLOR, size=12)\n",
    "ax.text(4.3, 20, rn_ubi_str + '\\n(revenue-\\nneutral)', \n",
    "        horizontalalignment='center',\n",
    "        multialignment='center', color=UBI_COLOR, size=12)\n",
    "plt.axhline(y=0, c='gray', linestyle='dashed', linewidth=0.3, zorder=-1)\n",
    "sns.despine(left=True, bottom=True)\n",
    "ax.set(xlabel=\n",
    "       'Percentile of income after taxes and transfers (baseline, 5% groups)',\n",
    "       ylabel=YLAB,\n",
    "       xlim=[0, 25])\n",
    "ax.yaxis.set_major_formatter(mpl.ticker.FuncFormatter(\n",
    "    lambda y, _: '{:.0%}'.format(y / 100))) \n",
    "plt.title('Impact of replacing CTC with child benefit (bottom 25%)', \n",
    "          loc='left')\n",
    "ax.grid(color='#f5f5f5', axis='y')\n",
    "plt.show()"
   ]
  },
  {
   "cell_type": "markdown",
   "metadata": {},
   "source": [
    "#### Impact on upper 75%."
   ]
  },
  {
   "cell_type": "code",
   "execution_count": null,
   "metadata": {},
   "outputs": [],
   "source": [
    "twopct.loc[48:, UBI_COLS]"
   ]
  },
  {
   "cell_type": "markdown",
   "metadata": {},
   "source": [
    "What level of after-tax income per person puts families in the top 1-2 percent?"
   ]
  },
  {
   "cell_type": "code",
   "execution_count": null,
   "metadata": {},
   "outputs": [],
   "source": [
    "scenarios[scenarios.ctc_treatment == 'keep'].pivot_table(\n",
    "    index='aftertax_income_percentile', values='expanded_income', aggfunc=min\n",
    ")[99:]"
   ]
  },
  {
   "cell_type": "code",
   "execution_count": null,
   "metadata": {},
   "outputs": [],
   "source": [
    "pct.keep_afti_pp[98:]"
   ]
  },
  {
   "cell_type": "code",
   "execution_count": null,
   "metadata": {},
   "outputs": [],
   "source": [
    "ax = twopct[13:].plot(x='percentile', y=UBI_COLS, color=UBI_COLORS)\n",
    "# ax.legend(UBI_LABELS)  # If new data.\n",
    "ax.legend_.remove()\n",
    "ax.text(38, 0.94, TUBI_LABEL2, horizontalalignment='center', \n",
    "        color=TUBI_COLOR, size=12)\n",
    "ax.text(70, -0.5, UBI_LABEL2, horizontalalignment='center',\n",
    "        color=UBI_COLOR, size=12)\n",
    "plt.axhline(y=0, c='gray', linestyle='dashed', linewidth=0.3, zorder=-1)\n",
    "sns.despine(left=True, bottom=True)\n",
    "ax.set(xlabel=\n",
    "       'Percentile of income after taxes and transfers (baseline, 2% groups)',\n",
    "       ylabel=YLAB)\n",
    "ax.yaxis.set_major_formatter(mpl.ticker.FuncFormatter(\n",
    "    lambda y, _: '{:.1%}'.format(y / 100))) \n",
    "plt.title('Impact of replacing CTC with child benefit (upper 75%)',\n",
    "          loc='left')\n",
    "ax.grid(color='#f5f5f5', axis='y')\n",
    "plt.show()"
   ]
  },
  {
   "cell_type": "markdown",
   "metadata": {},
   "source": [
    "Top 1% does better off. 2nd percentile is basically flat."
   ]
  },
  {
   "cell_type": "code",
   "execution_count": null,
   "metadata": {
    "scrolled": true
   },
   "outputs": [],
   "source": [
    "pct.loc[98:, ['ubi_afti_pctchg', 'tubi_afti_pctchg']]"
   ]
  },
  {
   "cell_type": "code",
   "execution_count": null,
   "metadata": {},
   "outputs": [],
   "source": [
    "twopct.loc[50, ['ubi_afti_pctchg', 'tubi_afti_pctchg']]"
   ]
  },
  {
   "cell_type": "markdown",
   "metadata": {},
   "source": [
    "### Inequality"
   ]
  },
  {
   "cell_type": "markdown",
   "metadata": {},
   "source": [
    "#### Gini"
   ]
  },
  {
   "cell_type": "code",
   "execution_count": null,
   "metadata": {},
   "outputs": [],
   "source": [
    "ginis = pd.DataFrame({\n",
    "    'keep': [gini(tu.afti_keep, tu.s006)],\n",
    "    'repeal': [gini(tu.afti_repeal, tu.s006)],\n",
    "    'ubi': [gini(tu.afti_ubi, tu.s006)],\n",
    "    'tubi': [gini(tu.afti_tubi, tu.s006)]})"
   ]
  },
  {
   "cell_type": "code",
   "execution_count": null,
   "metadata": {
    "scrolled": true
   },
   "outputs": [],
   "source": [
    "with pd.option_context('precision', 4):\n",
    "    print(ginis)"
   ]
  },
  {
   "cell_type": "markdown",
   "metadata": {},
   "source": [
    "### Poverty"
   ]
  },
  {
   "cell_type": "code",
   "execution_count": null,
   "metadata": {},
   "outputs": [],
   "source": [
    "tu['fpl'] = fpl(tu.XTOT)\n",
    "tu['fpl_pp'] = tu.fpl / tu.XTOT\n",
    "# Using $10k per person.\n",
    "tu['pov_10k'] = 10000 * tu.XTOT\n",
    "# $1.90 per day in 2011 dollars = $2.10 in 2018 dollars = $780/year.\n",
    "EXTREME_POVERTY_LINE = 780\n",
    "tu['extreme_pov'] = EXTREME_POVERTY_LINE * tu.XTOT"
   ]
  },
  {
   "cell_type": "markdown",
   "metadata": {},
   "source": [
    "Average FPL per person (in tax units with children)."
   ]
  },
  {
   "cell_type": "code",
   "execution_count": null,
   "metadata": {},
   "outputs": [],
   "source": [
    "weighted_mean(tu, 'fpl_pp').round()"
   ]
  },
  {
   "cell_type": "markdown",
   "metadata": {},
   "source": [
    "Compare to average of 2.54 per 2017 Census data (https://www.statista.com/statistics/183648/average-size-of-households-in-the-us/)."
   ]
  },
  {
   "cell_type": "code",
   "execution_count": null,
   "metadata": {},
   "outputs": [],
   "source": [
    "AVG_HH_SIZE = 2.54\n",
    "round(fpl(AVG_HH_SIZE) / AVG_HH_SIZE)"
   ]
  },
  {
   "cell_type": "code",
   "execution_count": null,
   "metadata": {},
   "outputs": [],
   "source": [
    "def pov_rate(metric, afti, pov_line):\n",
    "    return ((tu[metric] * (tu[afti] < tu[pov_line])).sum() / \n",
    "                      tu[metric].sum())"
   ]
  },
  {
   "cell_type": "code",
   "execution_count": null,
   "metadata": {},
   "outputs": [],
   "source": [
    "pov = pd.DataFrame([(metric, afti, pov_line) \n",
    "                    for metric in ['s006', 'n24_m']\n",
    "                    for afti in ['afti_repeal', 'afti_keep', \n",
    "                                 'afti_ubi', 'afti_tubi']\n",
    "                    for pov_line in ['fpl', 'pov_10k', 'extreme_pov']])\n",
    "pov.columns = ['metric', 'afti', 'pov_line']\n",
    "pov['pov_rate'] = pov.apply(lambda x: pov_rate(x.metric, x.afti, x.pov_line), \n",
    "                            axis=1)"
   ]
  },
  {
   "cell_type": "code",
   "execution_count": null,
   "metadata": {},
   "outputs": [],
   "source": [
    "# Widen for plotting.\n",
    "pov_wide_n24 = pov[pov.metric == 'n24_m'].pivot_table(\n",
    "    index='pov_line', columns='afti')\n",
    "pov_wide_n24.columns = ['afti_keep', 'afti_repeal', 'afti_tubi', 'afti_ubi']\n",
    "pov_wide_n24 = pov_wide_n24[['afti_repeal', 'afti_keep', 'afti_ubi', \n",
    "                             'afti_tubi']]"
   ]
  },
  {
   "cell_type": "code",
   "execution_count": null,
   "metadata": {},
   "outputs": [],
   "source": [
    "REPEAL_COLOR = '#e57373'  # Red from material.io/color.\n",
    "KEEP_COLOR = '#bdbdbd'  # Light gray from material.io/color.\n",
    "ax = pov_wide_n24.plot.bar(\n",
    "    color=[REPEAL_COLOR, KEEP_COLOR, UBI_COLOR, TUBI_COLOR])\n",
    "ax.set_xticklabels(('Extreme*', 'FPL*', '$10k pp'))\n",
    "sns.despine(left=True, bottom=True)\n",
    "# Use text instead of legend.\n",
    "ax.legend_.remove()\n",
    "LEFT_X = -0.28\n",
    "ax.text(LEFT_X, 0.235, 'Repeal CTC', horizontalalignment='left',\n",
    "        color=REPEAL_COLOR, size=8, weight='bold')\n",
    "ax.text(LEFT_X, 0.225, 'No change to CTC', horizontalalignment='left',\n",
    "        color=KEEP_COLOR, size=8, weight='bold')\n",
    "ax.text(LEFT_X, 0.215, rn_ubi_str + ' child benefit', \n",
    "        horizontalalignment='left', color=UBI_COLOR, size=8, weight='bold')\n",
    "ax.text(LEFT_X, 0.205, '$2,000 child benefit', \n",
    "        horizontalalignment='left', color=TUBI_COLOR, size=8, weight='bold')\n",
    "ax.yaxis.set_major_formatter(mpl.ticker.FuncFormatter(\n",
    "    lambda y, _: '{:.0%}'.format(y)))\n",
    "plt.title('Children in poverty, after taxes and transfers', \n",
    "          loc='left')\n",
    "ax.text(LEFT_X, 0.06, '*Not official poverty lines',\n",
    "        horizontalalignment='left', color=KEEP_COLOR, size=6)\n",
    "ax.set(xlabel='')\n",
    "ax.grid(color='#f5f5f5', axis='y')\n",
    "plt.show()"
   ]
  },
  {
   "cell_type": "markdown",
   "metadata": {},
   "source": [
    "Relative reductions."
   ]
  },
  {
   "cell_type": "code",
   "execution_count": null,
   "metadata": {},
   "outputs": [],
   "source": [
    "pov_wide_n24['ubi_reduction'] = 1 - (\n",
    "    pov_wide_n24.afti_ubi / pov_wide_n24.afti_keep)\n",
    "pov_wide_n24['tubi_reduction'] = 1 - (\n",
    "    pov_wide_n24.afti_tubi / pov_wide_n24.afti_keep)\n",
    "pov_wide_n24 * 100"
   ]
  },
  {
   "cell_type": "markdown",
   "metadata": {},
   "source": [
    "## Appendix"
   ]
  },
  {
   "cell_type": "markdown",
   "metadata": {},
   "source": [
    "### Tax units in poverty"
   ]
  },
  {
   "cell_type": "code",
   "execution_count": null,
   "metadata": {},
   "outputs": [],
   "source": [
    "# Widen and reorder for plotting.\n",
    "pov_wide = pov.pivot_table(index=['pov_line', 'metric'], columns='afti')\n",
    "pov_wide.columns = ['afti_keep', 'afti_repeal', 'afti_tubi', 'afti_ubi']\n",
    "pov_wide = pov_wide[['afti_repeal', 'afti_keep', 'afti_ubi', 'afti_tubi']]"
   ]
  },
  {
   "cell_type": "code",
   "execution_count": null,
   "metadata": {},
   "outputs": [],
   "source": [
    "REPEAL_COLOR = '#e57373'  # Red from material.io/color.\n",
    "KEEP_COLOR = '#bdbdbd'  # Light gray from material.io/color.\n",
    "ax = pov_wide.plot.bar(color=[REPEAL_COLOR, KEEP_COLOR, UBI_COLOR, \n",
    "                              TUBI_COLOR])\n",
    "ax.set_xticklabels(('Extreme, children*', 'Extreme, HHs with children*',\n",
    "                    'FPL, children*', 'FPL, HHs with children*', \n",
    "                    '$10k pp, children', '$10k pp, HHs with children'))\n",
    "sns.despine(left=True, bottom=True)\n",
    "# Use text instead of legend.\n",
    "ax.legend_.remove()\n",
    "LEFT_X = -0.4\n",
    "ax.text(LEFT_X, 0.24, 'Repeal CTC', horizontalalignment='left',\n",
    "        color=REPEAL_COLOR, size=8, weight='bold')\n",
    "ax.text(LEFT_X, 0.23, 'No change to CTC', horizontalalignment='left',\n",
    "        color=KEEP_COLOR, size=8, weight='bold')\n",
    "ax.text(LEFT_X, 0.22, rn_ubi_str + ' child benefit', \n",
    "        horizontalalignment='left', color=UBI_COLOR, size=8, weight='bold')\n",
    "ax.text(LEFT_X, 0.21, '$2,000 child benefit', \n",
    "        horizontalalignment='left', color=TUBI_COLOR, size=8, weight='bold')\n",
    "ax.yaxis.set_major_formatter(mpl.ticker.FuncFormatter(\n",
    "    lambda y, _: '{:.0%}'.format(y)))\n",
    "plt.title('Children and tax units with children in poverty, ' +\n",
    "          'after taxes and transfers', \n",
    "          loc='left')\n",
    "ax.text(LEFT_X, 0.06, '*Not official poverty lines',\n",
    "        horizontalalignment='left', color=KEEP_COLOR, size=6)\n",
    "ax.set(xlabel='')\n",
    "plt.show()"
   ]
  }
 ],
 "metadata": {
  "kernelspec": {
   "display_name": "Python 3",
   "language": "python",
   "name": "python3"
  },
  "language_info": {
   "codemirror_mode": {
    "name": "ipython",
    "version": 3
   },
   "file_extension": ".py",
   "mimetype": "text/x-python",
   "name": "python",
   "nbconvert_exporter": "python",
   "pygments_lexer": "ipython3",
   "version": "3.6.6"
  },
  "toc": {
   "base_numbering": 1,
   "nav_menu": {},
   "number_sections": true,
   "sideBar": true,
   "skip_h1_title": false,
   "title_cell": "Table of Contents",
   "title_sidebar": "Contents",
   "toc_cell": false,
   "toc_position": {
    "height": "calc(100% - 180px)",
    "left": "10px",
    "top": "150px",
    "width": "399px"
   },
   "toc_section_display": true,
   "toc_window_display": true
  }
 },
 "nbformat": 4,
 "nbformat_minor": 2
}
