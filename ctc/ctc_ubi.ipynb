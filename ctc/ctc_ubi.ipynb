{
 "cells": [
  {
   "cell_type": "markdown",
   "metadata": {},
   "source": [
    "# Effect of repealing Child Tax Credit with Child Dividend\n",
    "\n",
    "This identifies beneficiaries of the Child Tax Credit by modeling its repeal. Both repeal from current (2017) state and TCJA state are considered on a static basis. Change to after-tax income by decile and share of after-tax income held by top 10% are calculated.\n",
    "\n",
    "*Data: CPS  |  Tax year: 2018  |  Type: Static  |  Author: Max Ghenis  |  Date run: 2018-02-20*"
   ]
  },
  {
   "cell_type": "markdown",
   "metadata": {},
   "source": [
    "## Setup\n",
    "\n",
    "### Imports"
   ]
  },
  {
   "cell_type": "code",
   "execution_count": 2,
   "metadata": {
    "collapsed": true
   },
   "outputs": [],
   "source": [
    "import taxcalc as tc\n",
    "import pandas as pd\n",
    "import numpy as np\n",
    "import copy\n",
    "from bokeh.io import show, output_notebook\n",
    "import matplotlib as mpl\n",
    "import matplotlib.pyplot as plt\n",
    "import seaborn as sns\n",
    "import urllib as url_lib  # On Python 3.6 use \"import urllib.request as url_lib\"."
   ]
  },
  {
   "cell_type": "code",
   "execution_count": 3,
   "metadata": {},
   "outputs": [
    {
     "data": {
      "text/plain": [
       "'0.16.1'"
      ]
     },
     "execution_count": 3,
     "metadata": {},
     "output_type": "execute_result"
    }
   ],
   "source": [
    "tc.__version__"
   ]
  },
  {
   "cell_type": "code",
   "execution_count": 4,
   "metadata": {
    "collapsed": true
   },
   "outputs": [],
   "source": [
    "sns.set_style('white')\n",
    "DPI = 300\n",
    "mpl.rc('savefig', dpi=DPI)\n",
    "mpl.rcParams['figure.dpi']= DPI"
   ]
  },
  {
   "cell_type": "markdown",
   "metadata": {},
   "source": [
    "### Create policies\n",
    "\n",
    "Load reforms from GitHub. Policies and reforms are named according to this convention:\n",
    "\n",
    "**`{reform}_{year}_{object}`**\n",
    "\n",
    "For example:\n",
    "\n",
    "* `noctc_2017_policy`: Policy without CTC using 2017 law.\n",
    "* `ubi_2018_calc`: Calculator replacing CTC with UBI using 2018 (current) law."
   ]
  },
  {
   "cell_type": "code",
   "execution_count": 7,
   "metadata": {
    "collapsed": true
   },
   "outputs": [],
   "source": [
    "# Folders where reforms live.\n",
    "GITHUB_BASE_URL = 'https://raw.githubusercontent.com/'\n",
    "\n",
    "TAXCALC_GITHUB_BASE_URL = (GITHUB_BASE_URL +\n",
    "                           'open-source-economics/Tax-Calculator/master/' +\n",
    "                           'taxcalc/reforms/')\n",
    "\n",
    "def read_url(url):\n",
    "    return url_lib.urlopen(url).read()\n",
    "\n",
    "def read_reform_taxcalc_github(reform_name):\n",
    "    return read_url(TAXCALC_GITHUB_BASE_URL + reform_name + '.json')\n",
    "\n",
    "def policy_from_reform(reform):\n",
    "    pol = tc.Policy()\n",
    "    pol.implement_reform(reform['policy'])\n",
    "    if pol.reform_errors:\n",
    "        print(pol.reform_errors)\n",
    "    return pol\n",
    "\n",
    "def create_static_policy_taxcalc_github(reform_name):\n",
    "    reform = tc.Calculator.read_json_param_objects(\n",
    "        read_reform_taxcalc_github(reform_name), None)\n",
    "    return policy_from_reform(reform)"
   ]
  },
  {
   "cell_type": "code",
   "execution_count": 8,
   "metadata": {
    "collapsed": true
   },
   "outputs": [],
   "source": [
    "y2017_policy = create_static_policy_taxcalc_github(\n",
    "    '2017_law')"
   ]
  },
  {
   "cell_type": "code",
   "execution_count": 10,
   "metadata": {},
   "outputs": [],
   "source": [
    "noctc_reform = {\n",
    "    2018: {\n",
    "        '_CTC_c': [0],\n",
    "        '_DependentCredit_Child_c': [0]\n",
    "    }}\n",
    "noctc_2017_policy = copy.deepcopy(y2017_policy)\n",
    "noctc_pol_2017.implement_reform(noctc_reform)\n",
    "noctc_pol_2018 = tc.Policy()  # Can't combine with next step.\n",
    "noctc_pol_2018.implement_reform(noctc_reform)"
   ]
  },
  {
   "cell_type": "markdown",
   "metadata": {},
   "source": [
    "### Specify `Calculator` objects for static analyses"
   ]
  },
  {
   "cell_type": "code",
   "execution_count": 11,
   "metadata": {
    "collapsed": true
   },
   "outputs": [],
   "source": [
    "recs = tc.Records.cps_constructor()"
   ]
  },
  {
   "cell_type": "code",
   "execution_count": 12,
   "metadata": {
    "collapsed": true
   },
   "outputs": [],
   "source": [
    "def static_baseline_calc(year):\n",
    "    calc = tc.Calculator(records=recs, policy=tc.Policy())\n",
    "    calc.advance_to_year(year)\n",
    "    calc.calc_all()\n",
    "    return calc"
   ]
  },
  {
   "cell_type": "code",
   "execution_count": 18,
   "metadata": {
    "collapsed": true
   },
   "outputs": [],
   "source": [
    "def weighted_sum(df, col):\n",
    "    return (df[col] * df['s006']).sum()"
   ]
  },
  {
   "cell_type": "code",
   "execution_count": 55,
   "metadata": {
    "collapsed": true
   },
   "outputs": [],
   "source": [
    "def child_ubi_reform(amount):\n",
    "    return {2018: {'_UBI_u18': [amount],\n",
    "                   '_UBI_ecrt': [1.0]}}"
   ]
  },
  {
   "cell_type": "code",
   "execution_count": 58,
   "metadata": {},
   "outputs": [],
   "source": [
    "def static_calc(use_2017_law=False, \n",
    "                ctc_treatment='keep',\n",
    "                child_ubi_amount=0,\n",
    "                year=2018,\n",
    "                cols=['s006', 'aftertax_income', 'expanded_income', 'nu18']):\n",
    "    \"\"\"Creates static Calculator.\n",
    "\n",
    "    Args:\n",
    "        use_2017_law: Whether to use 2017 law vs. current law. Defaults to False.\n",
    "        ctc_treatment: How the Child Tax Credit is treated. Options include:\n",
    "            * 'keep': No change. Default.\n",
    "            * 'repeal': End entirely.\n",
    "            * 'rev_neutral_ubi': Replace with revenue-neutral child UBI.\n",
    "            * 'no_cut_ubi': [NOT YET IMPLEMENTED] \n",
    "                Replace with a child UBI equal to the current maximum value.\n",
    "        year: Year to advance calculations to.\n",
    "        cols: Columns to extract per Calculator record. \n",
    "            Defaults to ['s006', 'expanded_income', 'aftertax_income', 'nu18'].\n",
    "        \n",
    "    Returns:\n",
    "        DataFrame with `cols` and percentile, decile, and quintile of after-tax income.\n",
    "    \"\"\"\n",
    "    # Initiate policy using either 2017 or current law.\n",
    "    if use_2017_law:\n",
    "        pol = copy.deepcopy(y2017_policy)\n",
    "    else:\n",
    "        pol = tc.Policy()\n",
    "    # Enact reform based on ctc_treatment.\n",
    "    # Repeal CTC unless it's kept.\n",
    "    if ctc_treatment != 'keep':\n",
    "        pol.implement_reform(noctc_reform)\n",
    "    if child_ubi_amount > 0:\n",
    "        pol.implement_reform(child_ubi_reform(child_ubi_amount))\n",
    "    # Calculate. This is needed to calculate the revenue-neutral UBI.\n",
    "    calc = tc.Calculator(records=recs, policy=pol)\n",
    "    calc.advance_to_year(year)\n",
    "    calc.calc_all()\n",
    "    # TODO: Calculate revenue for revenue-neutral UBI.\n",
    "    # Create DataFrame and add identifiers.\n",
    "    df = calc.dataframe(cols)\n",
    "    df['use_2017_law'] = use_2017_law\n",
    "    df['ctc_treatment'] = ctc_treatment\n",
    "    return df"
   ]
  },
  {
   "cell_type": "code",
   "execution_count": 67,
   "metadata": {},
   "outputs": [
    {
     "name": "stdout",
     "output_type": "stream",
     "text": [
      "You loaded data for 2014.\n",
      "Tax-Calculator startup automatically extrapolated your data to 2014.\n",
      "You loaded data for 2014.\n",
      "Tax-Calculator startup automatically extrapolated your data to 2014.\n",
      "You loaded data for 2014.\n",
      "Tax-Calculator startup automatically extrapolated your data to 2014.\n",
      "You loaded data for 2014.\n",
      "Tax-Calculator startup automatically extrapolated your data to 2014.\n"
     ]
    }
   ],
   "source": [
    "scenarios_pre_ubi = pd.concat([\n",
    "    static_calc(use_2017_law=False, ctc_treatment='keep'),\n",
    "    static_calc(use_2017_law=False, ctc_treatment='repeal'),\n",
    "    static_calc(use_2017_law=True, ctc_treatment='keep'),\n",
    "    static_calc(use_2017_law=True, ctc_treatment='repeal')])"
   ]
  },
  {
   "cell_type": "code",
   "execution_count": 68,
   "metadata": {},
   "outputs": [
    {
     "data": {
      "text/html": [
       "<div>\n",
       "<style scoped>\n",
       "    .dataframe tbody tr th:only-of-type {\n",
       "        vertical-align: middle;\n",
       "    }\n",
       "\n",
       "    .dataframe tbody tr th {\n",
       "        vertical-align: top;\n",
       "    }\n",
       "\n",
       "    .dataframe thead th {\n",
       "        text-align: right;\n",
       "    }\n",
       "</style>\n",
       "<table border=\"1\" class=\"dataframe\">\n",
       "  <thead>\n",
       "    <tr style=\"text-align: right;\">\n",
       "      <th></th>\n",
       "      <th>s006</th>\n",
       "      <th>aftertax_income</th>\n",
       "      <th>expanded_income</th>\n",
       "      <th>nu18</th>\n",
       "      <th>use_2017_law</th>\n",
       "      <th>ctc_treatment</th>\n",
       "    </tr>\n",
       "  </thead>\n",
       "  <tbody>\n",
       "    <tr>\n",
       "      <th>0</th>\n",
       "      <td>239.46</td>\n",
       "      <td>42287.547869</td>\n",
       "      <td>52280.201254</td>\n",
       "      <td>0.0</td>\n",
       "      <td>False</td>\n",
       "      <td>keep</td>\n",
       "    </tr>\n",
       "    <tr>\n",
       "      <th>1</th>\n",
       "      <td>202.59</td>\n",
       "      <td>20461.070670</td>\n",
       "      <td>18176.438090</td>\n",
       "      <td>2.0</td>\n",
       "      <td>False</td>\n",
       "      <td>keep</td>\n",
       "    </tr>\n",
       "    <tr>\n",
       "      <th>2</th>\n",
       "      <td>255.35</td>\n",
       "      <td>96222.033747</td>\n",
       "      <td>96222.033747</td>\n",
       "      <td>0.0</td>\n",
       "      <td>False</td>\n",
       "      <td>keep</td>\n",
       "    </tr>\n",
       "    <tr>\n",
       "      <th>3</th>\n",
       "      <td>178.36</td>\n",
       "      <td>26597.379609</td>\n",
       "      <td>26002.668632</td>\n",
       "      <td>1.0</td>\n",
       "      <td>False</td>\n",
       "      <td>keep</td>\n",
       "    </tr>\n",
       "    <tr>\n",
       "      <th>4</th>\n",
       "      <td>270.80</td>\n",
       "      <td>41631.335096</td>\n",
       "      <td>41631.335096</td>\n",
       "      <td>0.0</td>\n",
       "      <td>False</td>\n",
       "      <td>keep</td>\n",
       "    </tr>\n",
       "  </tbody>\n",
       "</table>\n",
       "</div>"
      ],
      "text/plain": [
       "     s006  aftertax_income  expanded_income  nu18  use_2017_law ctc_treatment\n",
       "0  239.46     42287.547869     52280.201254   0.0         False          keep\n",
       "1  202.59     20461.070670     18176.438090   2.0         False          keep\n",
       "2  255.35     96222.033747     96222.033747   0.0         False          keep\n",
       "3  178.36     26597.379609     26002.668632   1.0         False          keep\n",
       "4  270.80     41631.335096     41631.335096   0.0         False          keep"
      ]
     },
     "execution_count": 68,
     "metadata": {},
     "output_type": "execute_result"
    }
   ],
   "source": [
    "scenarios_pre_ubi.head()"
   ]
  },
  {
   "cell_type": "markdown",
   "metadata": {},
   "source": [
    "Calculate child allowance."
   ]
  },
  {
   "cell_type": "code",
   "execution_count": 69,
   "metadata": {},
   "outputs": [],
   "source": [
    "aftertax_income_summary = (\n",
    "    scenarios_pre_ubi.groupby(['use_2017_law', 'ctc_treatment'], as_index=False).\n",
    "    apply(lambda x: \n",
    "          pd.Series({\n",
    "              'aftertax_income': weighted_sum(x, 'aftertax_income'), \n",
    "              'nu18': weighted_sum(x, 'nu18')}))).reset_index()\n",
    "nu18_total = aftertax_income_summary['nu18'][0]"
   ]
  },
  {
   "cell_type": "code",
   "execution_count": 62,
   "metadata": {},
   "outputs": [
    {
     "data": {
      "text/html": [
       "<div>\n",
       "<style scoped>\n",
       "    .dataframe tbody tr th:only-of-type {\n",
       "        vertical-align: middle;\n",
       "    }\n",
       "\n",
       "    .dataframe tbody tr th {\n",
       "        vertical-align: top;\n",
       "    }\n",
       "\n",
       "    .dataframe thead th {\n",
       "        text-align: right;\n",
       "    }\n",
       "</style>\n",
       "<table border=\"1\" class=\"dataframe\">\n",
       "  <thead>\n",
       "    <tr style=\"text-align: right;\">\n",
       "      <th>ctc_treatment</th>\n",
       "      <th>keep</th>\n",
       "      <th>repeal</th>\n",
       "      <th>chg</th>\n",
       "      <th>child_ubi</th>\n",
       "    </tr>\n",
       "    <tr>\n",
       "      <th>use_2017_law</th>\n",
       "      <th></th>\n",
       "      <th></th>\n",
       "      <th></th>\n",
       "      <th></th>\n",
       "    </tr>\n",
       "  </thead>\n",
       "  <tbody>\n",
       "    <tr>\n",
       "      <th>False</th>\n",
       "      <td>1.095007e+13</td>\n",
       "      <td>1.082995e+13</td>\n",
       "      <td>1.201240e+11</td>\n",
       "      <td>1464.524234</td>\n",
       "    </tr>\n",
       "    <tr>\n",
       "      <th>True</th>\n",
       "      <td>1.081362e+13</td>\n",
       "      <td>1.076178e+13</td>\n",
       "      <td>5.184284e+10</td>\n",
       "      <td>632.056117</td>\n",
       "    </tr>\n",
       "  </tbody>\n",
       "</table>\n",
       "</div>"
      ],
      "text/plain": [
       "ctc_treatment          keep        repeal           chg    child_ubi\n",
       "use_2017_law                                                        \n",
       "False          1.095007e+13  1.082995e+13  1.201240e+11  1464.524234\n",
       "True           1.081362e+13  1.076178e+13  5.184284e+10   632.056117"
      ]
     },
     "execution_count": 62,
     "metadata": {},
     "output_type": "execute_result"
    }
   ],
   "source": [
    "aftertax_income_chg = aftertax_income_summary.pivot(\n",
    "    index='use_2017_law',\n",
    "    columns='ctc_treatment',\n",
    "    values='aftertax_income'\n",
    ")\n",
    "aftertax_income_chg['chg'] = aftertax_income_chg['keep'] - aftertax_income_chg['repeal']\n",
    "aftertax_income_chg['child_ubi'] = aftertax_income_chg['chg'] / nu18_total\n",
    "aftertax_income_chg"
   ]
  },
  {
   "cell_type": "code",
   "execution_count": 79,
   "metadata": {},
   "outputs": [
    {
     "name": "stdout",
     "output_type": "stream",
     "text": [
      "You loaded data for 2014.\n",
      "Tax-Calculator startup automatically extrapolated your data to 2014.\n",
      "You loaded data for 2014.\n",
      "Tax-Calculator startup automatically extrapolated your data to 2014.\n"
     ]
    },
    {
     "data": {
      "text/html": [
       "<div>\n",
       "<style scoped>\n",
       "    .dataframe tbody tr th:only-of-type {\n",
       "        vertical-align: middle;\n",
       "    }\n",
       "\n",
       "    .dataframe tbody tr th {\n",
       "        vertical-align: top;\n",
       "    }\n",
       "\n",
       "    .dataframe thead th {\n",
       "        text-align: right;\n",
       "    }\n",
       "</style>\n",
       "<table border=\"1\" class=\"dataframe\">\n",
       "  <thead>\n",
       "    <tr style=\"text-align: right;\">\n",
       "      <th></th>\n",
       "      <th>s006</th>\n",
       "      <th>aftertax_income</th>\n",
       "      <th>expanded_income</th>\n",
       "      <th>nu18</th>\n",
       "      <th>use_2017_law</th>\n",
       "      <th>ctc_treatment</th>\n",
       "    </tr>\n",
       "  </thead>\n",
       "  <tbody>\n",
       "    <tr>\n",
       "      <th>0</th>\n",
       "      <td>239.46</td>\n",
       "      <td>42287.547869</td>\n",
       "      <td>52280.201254</td>\n",
       "      <td>0.0</td>\n",
       "      <td>False</td>\n",
       "      <td>keep</td>\n",
       "    </tr>\n",
       "    <tr>\n",
       "      <th>1</th>\n",
       "      <td>202.59</td>\n",
       "      <td>20461.070670</td>\n",
       "      <td>18176.438090</td>\n",
       "      <td>2.0</td>\n",
       "      <td>False</td>\n",
       "      <td>keep</td>\n",
       "    </tr>\n",
       "    <tr>\n",
       "      <th>2</th>\n",
       "      <td>255.35</td>\n",
       "      <td>96222.033747</td>\n",
       "      <td>96222.033747</td>\n",
       "      <td>0.0</td>\n",
       "      <td>False</td>\n",
       "      <td>keep</td>\n",
       "    </tr>\n",
       "    <tr>\n",
       "      <th>3</th>\n",
       "      <td>178.36</td>\n",
       "      <td>26597.379609</td>\n",
       "      <td>26002.668632</td>\n",
       "      <td>1.0</td>\n",
       "      <td>False</td>\n",
       "      <td>keep</td>\n",
       "    </tr>\n",
       "    <tr>\n",
       "      <th>4</th>\n",
       "      <td>270.80</td>\n",
       "      <td>41631.335096</td>\n",
       "      <td>41631.335096</td>\n",
       "      <td>0.0</td>\n",
       "      <td>False</td>\n",
       "      <td>keep</td>\n",
       "    </tr>\n",
       "  </tbody>\n",
       "</table>\n",
       "</div>"
      ],
      "text/plain": [
       "     s006  aftertax_income  expanded_income  nu18  use_2017_law ctc_treatment\n",
       "0  239.46     42287.547869     52280.201254   0.0         False          keep\n",
       "1  202.59     20461.070670     18176.438090   2.0         False          keep\n",
       "2  255.35     96222.033747     96222.033747   0.0         False          keep\n",
       "3  178.36     26597.379609     26002.668632   1.0         False          keep\n",
       "4  270.80     41631.335096     41631.335096   0.0         False          keep"
      ]
     },
     "execution_count": 79,
     "metadata": {},
     "output_type": "execute_result"
    }
   ],
   "source": [
    "scenarios = pd.concat([\n",
    "    scenarios_pre_ubi,\n",
    "    static_calc(use_2017_law=False, ctc_treatment='rev_neutral_ubi',\n",
    "                child_ubi_amount=aftertax_income_chg.loc[False, 'child_ubi']),\n",
    "    static_calc(use_2017_law=True, ctc_treatment='rev_neutral_ubi',\n",
    "                child_ubi_amount=aftertax_income_chg.loc[True, 'child_ubi'])\n",
    "])"
   ]
  },
  {
   "cell_type": "markdown",
   "metadata": {},
   "source": [
    "## Analysis\n",
    "\n",
    "* Add percentile to previous steps.\n",
    "* Should there be a field for more \"gross\" income? Without benefits and UBI."
   ]
  },
  {
   "cell_type": "code",
   "execution_count": 87,
   "metadata": {},
   "outputs": [
    {
     "data": {
      "text/html": [
       "<div>\n",
       "<style scoped>\n",
       "    .dataframe tbody tr th:only-of-type {\n",
       "        vertical-align: middle;\n",
       "    }\n",
       "\n",
       "    .dataframe tbody tr th {\n",
       "        vertical-align: top;\n",
       "    }\n",
       "\n",
       "    .dataframe thead th {\n",
       "        text-align: right;\n",
       "    }\n",
       "</style>\n",
       "<table border=\"1\" class=\"dataframe\">\n",
       "  <thead>\n",
       "    <tr style=\"text-align: right;\">\n",
       "      <th></th>\n",
       "      <th>s006</th>\n",
       "      <th>aftertax_income</th>\n",
       "      <th>expanded_income</th>\n",
       "      <th>nu18</th>\n",
       "      <th>use_2017_law</th>\n",
       "      <th>ctc_treatment</th>\n",
       "    </tr>\n",
       "  </thead>\n",
       "  <tbody>\n",
       "    <tr>\n",
       "      <th>1000</th>\n",
       "      <td>14.39</td>\n",
       "      <td>80743.440366</td>\n",
       "      <td>75425.491384</td>\n",
       "      <td>3.0</td>\n",
       "      <td>False</td>\n",
       "      <td>keep</td>\n",
       "    </tr>\n",
       "    <tr>\n",
       "      <th>1000</th>\n",
       "      <td>14.39</td>\n",
       "      <td>78513.210786</td>\n",
       "      <td>75425.491384</td>\n",
       "      <td>3.0</td>\n",
       "      <td>False</td>\n",
       "      <td>repeal</td>\n",
       "    </tr>\n",
       "    <tr>\n",
       "      <th>1000</th>\n",
       "      <td>14.39</td>\n",
       "      <td>82906.783490</td>\n",
       "      <td>79819.064088</td>\n",
       "      <td>3.0</td>\n",
       "      <td>False</td>\n",
       "      <td>rev_neutral_ubi</td>\n",
       "    </tr>\n",
       "    <tr>\n",
       "      <th>1000</th>\n",
       "      <td>14.39</td>\n",
       "      <td>80527.250786</td>\n",
       "      <td>75425.491384</td>\n",
       "      <td>3.0</td>\n",
       "      <td>True</td>\n",
       "      <td>keep</td>\n",
       "    </tr>\n",
       "    <tr>\n",
       "      <th>1000</th>\n",
       "      <td>14.39</td>\n",
       "      <td>78527.250786</td>\n",
       "      <td>75425.491384</td>\n",
       "      <td>3.0</td>\n",
       "      <td>True</td>\n",
       "      <td>repeal</td>\n",
       "    </tr>\n",
       "    <tr>\n",
       "      <th>1000</th>\n",
       "      <td>14.39</td>\n",
       "      <td>80423.419136</td>\n",
       "      <td>77321.659734</td>\n",
       "      <td>3.0</td>\n",
       "      <td>True</td>\n",
       "      <td>rev_neutral_ubi</td>\n",
       "    </tr>\n",
       "  </tbody>\n",
       "</table>\n",
       "</div>"
      ],
      "text/plain": [
       "       s006  aftertax_income  expanded_income  nu18  use_2017_law  \\\n",
       "1000  14.39     80743.440366     75425.491384   3.0         False   \n",
       "1000  14.39     78513.210786     75425.491384   3.0         False   \n",
       "1000  14.39     82906.783490     79819.064088   3.0         False   \n",
       "1000  14.39     80527.250786     75425.491384   3.0          True   \n",
       "1000  14.39     78527.250786     75425.491384   3.0          True   \n",
       "1000  14.39     80423.419136     77321.659734   3.0          True   \n",
       "\n",
       "        ctc_treatment  \n",
       "1000             keep  \n",
       "1000           repeal  \n",
       "1000  rev_neutral_ubi  \n",
       "1000             keep  \n",
       "1000           repeal  \n",
       "1000  rev_neutral_ubi  "
      ]
     },
     "execution_count": 87,
     "metadata": {},
     "output_type": "execute_result"
    }
   ],
   "source": [
    "scenarios.loc[1000, :].sort_values('use_2017_law')"
   ]
  },
  {
   "cell_type": "code",
   "execution_count": null,
   "metadata": {
    "collapsed": true
   },
   "outputs": [],
   "source": []
  }
 ],
 "metadata": {
  "kernelspec": {
   "display_name": "Python 2",
   "language": "python",
   "name": "python2"
  },
  "language_info": {
   "codemirror_mode": {
    "name": "ipython",
    "version": 2
   },
   "file_extension": ".py",
   "mimetype": "text/x-python",
   "name": "python",
   "nbconvert_exporter": "python",
   "pygments_lexer": "ipython2",
   "version": "2.7.14"
  }
 },
 "nbformat": 4,
 "nbformat_minor": 2
}
