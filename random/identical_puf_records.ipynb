{
 "cells": [
  {
   "cell_type": "markdown",
   "metadata": {},
   "source": [
    "# Identical records in the PUF\n",
    "\n",
    "Look at both the raw PUF and the taxdata version."
   ]
  },
  {
   "cell_type": "markdown",
   "metadata": {},
   "source": [
    "## Setup"
   ]
  },
  {
   "cell_type": "code",
   "execution_count": 1,
   "metadata": {},
   "outputs": [],
   "source": [
    "import pandas as pd"
   ]
  },
  {
   "cell_type": "markdown",
   "metadata": {},
   "source": [
    "## Load\n",
    "\n",
    "`pufr` is raw and `puf` is the taxdata version. Limit `pufr` columns to those used by taxdata (excluding `s006` which could be summed)."
   ]
  },
  {
   "cell_type": "code",
   "execution_count": 2,
   "metadata": {},
   "outputs": [],
   "source": [
    "puf = pd.read_csv('~/puf.csv').drop(['RECID', 's006'], axis=1)"
   ]
  },
  {
   "cell_type": "code",
   "execution_count": 3,
   "metadata": {},
   "outputs": [],
   "source": [
    "COLS = [\n",
    "    'DSI',\n",
    "    'E00200',\n",
    "    'E00300',\n",
    "    'E00400',\n",
    "    'E00600',\n",
    "    'E00650',\n",
    "    'E00700',\n",
    "    'E00800',\n",
    "    'E00900',\n",
    "    'E01100',\n",
    "    'E01200',\n",
    "    'E01400',\n",
    "    'E01500',\n",
    "    'E01700',\n",
    "    'E02000',\n",
    "    'E02100',\n",
    "    'E02300',\n",
    "    'E02400',\n",
    "    'E03150',\n",
    "    'E03210',\n",
    "    'E03220',\n",
    "    'E03230',\n",
    "    'E03240',\n",
    "    'E03270',\n",
    "    'E03290',\n",
    "    'E03300',\n",
    "    'E03400',\n",
    "    'E03500',\n",
    "    'E07240',\n",
    "    'E07260',\n",
    "    'E07300',\n",
    "    'E07400',\n",
    "    'E07600',\n",
    "    'E09700',\n",
    "    'E09800',\n",
    "    'E09900',\n",
    "    'E11200',\n",
    "    'E17500',\n",
    "    'E18400',\n",
    "    'E18500',\n",
    "    'E19200',\n",
    "    'E19800',\n",
    "    'E20100',\n",
    "    'E20400',\n",
    "    'E24515',\n",
    "    'E24518',\n",
    "    'E26270',\n",
    "    'E27200',\n",
    "    'E32800',\n",
    "    'E58990',\n",
    "    'E62900',\n",
    "    'E87521',\n",
    "    'E87530',\n",
    "    'EIC',\n",
    "    'F2441',\n",
    "    'F6251',\n",
    "    'FDED',\n",
    "    'MARS',\n",
    "    'MIDR',\n",
    "    'N24',\n",
    "    'P08000',\n",
    "    'P22250',\n",
    "    'P23250',\n",
    "#     'S006',  # Don't need weight.\n",
    "    'XTOT']"
   ]
  },
  {
   "cell_type": "code",
   "execution_count": 4,
   "metadata": {},
   "outputs": [],
   "source": [
    "pufr = pd.read_csv('~/puf2011.csv', usecols=COLS)"
   ]
  },
  {
   "cell_type": "markdown",
   "metadata": {},
   "source": [
    "## Raw PUF\n",
    "\n",
    "Limit to columns needed for taxdata."
   ]
  },
  {
   "cell_type": "code",
   "execution_count": 5,
   "metadata": {},
   "outputs": [],
   "source": [
    "def count_per_unique(df):\n",
    "    return df.groupby(df.columns.tolist(), as_index=False).size().reset_index().rename(\n",
    "        columns={0:'records'})"
   ]
  },
  {
   "cell_type": "code",
   "execution_count": 6,
   "metadata": {},
   "outputs": [],
   "source": [
    "pufru = count_per_unique(pufr)"
   ]
  },
  {
   "cell_type": "code",
   "execution_count": 7,
   "metadata": {},
   "outputs": [
    {
     "data": {
      "text/plain": [
       "15043"
      ]
     },
     "execution_count": 7,
     "metadata": {},
     "output_type": "execute_result"
    }
   ],
   "source": [
    "pufr.shape[0] - pufru.shape[0]"
   ]
  },
  {
   "cell_type": "code",
   "execution_count": 8,
   "metadata": {},
   "outputs": [
    {
     "data": {
      "text/plain": [
       "records\n",
       "1      144259\n",
       "2        2069\n",
       "3         905\n",
       "4         494\n",
       "5         281\n",
       "6         170\n",
       "7          91\n",
       "8          71\n",
       "9          42\n",
       "10         30\n",
       "11         33\n",
       "12         25\n",
       "13         30\n",
       "14         22\n",
       "15         25\n",
       "16         17\n",
       "17         17\n",
       "18         22\n",
       "19         16\n",
       "20         10\n",
       "21         19\n",
       "22         13\n",
       "23         12\n",
       "24         10\n",
       "25          5\n",
       "26         10\n",
       "27         10\n",
       "28          7\n",
       "29          9\n",
       "30          4\n",
       "31          2\n",
       "32          3\n",
       "33          2\n",
       "34          1\n",
       "35          3\n",
       "36          3\n",
       "37          3\n",
       "47          1\n",
       "131         1\n",
       "dtype: int64"
      ]
     },
     "execution_count": 8,
     "metadata": {},
     "output_type": "execute_result"
    }
   ],
   "source": [
    "pufru.groupby('records').size()"
   ]
  },
  {
   "cell_type": "markdown",
   "metadata": {},
   "source": [
    "## taxdata PUF\n",
    "\n",
    "Far fewer unique records since it involves imputation."
   ]
  },
  {
   "cell_type": "code",
   "execution_count": 9,
   "metadata": {},
   "outputs": [],
   "source": [
    "pufu = count_per_unique(puf)"
   ]
  },
  {
   "cell_type": "code",
   "execution_count": 10,
   "metadata": {},
   "outputs": [
    {
     "data": {
      "text/plain": [
       "40"
      ]
     },
     "execution_count": 10,
     "metadata": {},
     "output_type": "execute_result"
    }
   ],
   "source": [
    "puf.shape[0] - pufu.shape[0]"
   ]
  },
  {
   "cell_type": "code",
   "execution_count": 11,
   "metadata": {},
   "outputs": [
    {
     "data": {
      "text/plain": [
       "records\n",
       "1    248511\n",
       "2        40\n",
       "dtype: int64"
      ]
     },
     "execution_count": 11,
     "metadata": {},
     "output_type": "execute_result"
    }
   ],
   "source": [
    "pufu.groupby('records').size()"
   ]
  }
 ],
 "metadata": {
  "kernelspec": {
   "display_name": "Python 3",
   "language": "python",
   "name": "python3"
  },
  "language_info": {
   "codemirror_mode": {
    "name": "ipython",
    "version": 3
   },
   "file_extension": ".py",
   "mimetype": "text/x-python",
   "name": "python",
   "nbconvert_exporter": "python",
   "pygments_lexer": "ipython3",
   "version": "3.6.6"
  }
 },
 "nbformat": 4,
 "nbformat_minor": 2
}
