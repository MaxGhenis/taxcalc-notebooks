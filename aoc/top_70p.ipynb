{
 "cells": [
  {
   "cell_type": "markdown",
   "metadata": {},
   "source": [
    "# Top 70% marginal tax rate\n",
    "\n"
   ]
  },
  {
   "cell_type": "markdown",
   "metadata": {},
   "source": [
    "## Setup"
   ]
  },
  {
   "cell_type": "markdown",
   "metadata": {},
   "source": [
    "### Imports"
   ]
  },
  {
   "cell_type": "code",
   "execution_count": 19,
   "metadata": {},
   "outputs": [],
   "source": [
    "import taxcalc as tc\n",
    "import behresp as br"
   ]
  },
  {
   "cell_type": "markdown",
   "metadata": {},
   "source": [
    "### Define reform\n",
    "\n",
    "From https://apps.ospc.org/taxbrain/38482/."
   ]
  },
  {
   "cell_type": "code",
   "execution_count": 1,
   "metadata": {},
   "outputs": [],
   "source": [
    "THRESHOLD = 10000000.0  # 10 million.\n",
    "RATE = 0.7\n",
    "\n",
    "# List for each of the five MARS categories.\n",
    "threshold_mars = [[THRESHOLD, THRESHOLD, THRESHOLD, THRESHOLD, THRESHOLD]]\n",
    "\n",
    "reform = {\n",
    "    2019: {\n",
    "        '_CG_brk3': threshold_mars,\n",
    "        '_CG_rt4': [RATE],\n",
    "        '_AMT_CG_brk3': threshold_mars,\n",
    "        '_AMT_CG_rt4': [RATE],\n",
    "        '_II_brk7': threshold_mars,\n",
    "        '_II_rt8': [RATE],\n",
    "        '_PT_brk7': threshold_mars,\n",
    "        '_PT_rt8': [RATE]\n",
    "    }\n",
    "}"
   ]
  },
  {
   "cell_type": "code",
   "execution_count": 2,
   "metadata": {},
   "outputs": [
    {
     "name": "stdout",
     "output_type": "stream",
     "text": [
      "You loaded data for 2014.\n",
      "Tax-Calculator startup automatically extrapolated your data to 2014.\n",
      "You loaded data for 2014.\n",
      "Tax-Calculator startup automatically extrapolated your data to 2014.\n",
      "\n",
      "Response in Charitable Giving by Earnings Group\n",
      "Earnings Group    \t Num(#M)\tResp($B)\t Resp(%)\n",
      "[-9e+99, 50000)   \t 110.061\t   0.000\t    0.00\n",
      "[50000, 9e+99)    \t  57.451\t   0.001\t    0.00\n",
      "ALL               \t 167.512\t   0.001\t    0.00\n"
     ]
    }
   ],
   "source": [
    "from taxcalc import *\n",
    "\n",
    "# use publicly-available CPS input file\n",
    "recs = Records.cps_constructor()\n",
    "\n",
    "# specify Calculator object for static analysis of current-law policy\n",
    "pol = Policy()\n",
    "calc1 = Calculator(policy=pol, records=recs)\n",
    "\n",
    "cyr = 2020\n",
    "\n",
    "# calculate current-law tax liabilities for cyr\n",
    "calc1.advance_to_year(cyr)\n",
    "calc1.calc_all()\n",
    "\n",
    "# calculate marginal tax rate wrt cash charitable giving\n",
    "(_, _, mtr1) = calc1.mtr('e19800', calc_all_already_called=True,\n",
    "                         wrt_full_compensation=False)\n",
    "\n",
    "\n",
    "# specify Calculator object for static analysis of reform policy\n",
    "pol.implement_reform(reform)\n",
    "calc2 = Calculator(policy=pol, records=recs)\n",
    "\n",
    "# calculate reform tax liabilities for cyr\n",
    "calc2.advance_to_year(cyr)\n",
    "calc2.calc_all()\n",
    "\n",
    "# calculate marginal tax rate wrt cash charitable giving\n",
    "(_, _, mtr2) = calc2.mtr('e19800', calc_all_already_called=True,\n",
    "                         wrt_full_compensation=False)\n",
    "\n",
    "# extract variables needed for quantity_response utility function\n",
    "# (note the aftertax price is 1+mtr because mtr wrt charity is non-positive)\n",
    "vdf = calc1.dataframe(['s006', 'e19800', 'e00200'])\n",
    "vdf['price1'] = 1.0 + mtr1\n",
    "vdf['price2'] = 1.0 + mtr2\n",
    "vdf['atinc1'] = calc1.array('aftertax_income')\n",
    "vdf['atinc2'] = calc2.array('aftertax_income')\n",
    "\n",
    "# group filing units into earnings groups with different response elasticities\n",
    "# (note earnings groups are just an example based on no empirical results)\n",
    "earnings_bins = [-9e99, 50e3, 9e99]  # two groups: below and above $50,000\n",
    "vdf = add_income_table_row_variable(vdf, 'e00200', earnings_bins)\n",
    "gbydf = vdf.groupby('table_row', as_index=False)\n",
    "\n",
    "# compute percentage response in charitable giving\n",
    "# (note elasticity values are just an example based on no empirical results)\n",
    "price_elasticity = [-0.1, -0.4]\n",
    "income_elasticity = [0.1, 0.1]\n",
    "print('\\nResponse in Charitable Giving by Earnings Group')\n",
    "results = '{:18s}\\t{:8.3f}\\t{:8.3f}\\t{:8.2f}'\n",
    "colhead = '{:18s}\\t{:>8s}\\t{:>8s}\\t{:>8s}'\n",
    "print(colhead.format('Earnings Group', 'Num(#M)', 'Resp($B)', 'Resp(%)'))\n",
    "tot_funits = 0.\n",
    "tot_response = 0.\n",
    "tot_baseline = 0.\n",
    "idx = 0\n",
    "for grp_interval, grp in gbydf:\n",
    "    funits = grp['s006'].sum() * 1e-6\n",
    "    tot_funits += funits\n",
    "    response = quantity_response(grp['e19800'],\n",
    "                                 price_elasticity[idx],\n",
    "                                 grp['price1'],\n",
    "                                 grp['price2'],\n",
    "                                 income_elasticity[idx],\n",
    "                                 grp['atinc1'],\n",
    "                                 grp['atinc2'])\n",
    "    grp_response = (response * grp['s006']).sum() * 1e-9\n",
    "    tot_response += grp_response\n",
    "    grp_baseline = (grp['e19800'] * grp['s006']).sum() * 1e-9\n",
    "    tot_baseline += grp_baseline\n",
    "    pct_response = 100. * grp_response / grp_baseline\n",
    "    glabel = '[{:.8g}, {:.8g})'.format(grp_interval.left, grp_interval.right)\n",
    "    print(results.format(glabel, funits, grp_response, pct_response))\n",
    "    idx += 1\n",
    "pct_response = 100. * tot_response / tot_baseline\n",
    "print(results.format('ALL', tot_funits, tot_response, pct_response))"
   ]
  },
  {
   "cell_type": "markdown",
   "metadata": {},
   "source": [
    "### Initialize records and policy"
   ]
  },
  {
   "cell_type": "code",
   "execution_count": 21,
   "metadata": {},
   "outputs": [],
   "source": [
    "# use publicly-available CPS input file\n",
    "recs = tc.Records.cps_constructor()\n",
    "pol = tc.Policy()"
   ]
  },
  {
   "cell_type": "code",
   "execution_count": 17,
   "metadata": {},
   "outputs": [],
   "source": [
    "pol.implement_reform(reform=reform)"
   ]
  },
  {
   "cell_type": "markdown",
   "metadata": {},
   "source": [
    "## Analysis"
   ]
  },
  {
   "cell_type": "code",
   "execution_count": 25,
   "metadata": {},
   "outputs": [
    {
     "name": "stdout",
     "output_type": "stream",
     "text": [
      "You loaded data for 2014.\n",
      "Tax-Calculator startup automatically extrapolated your data to 2014.\n"
     ]
    }
   ],
   "source": [
    "base = tc.Calculator(policy=pol, records=recs)\n",
    "\n",
    "base.advance_to_year(2019)\n",
    "base.calc_all()\n",
    "itax_rev1 = base.weighted_total('iitax')"
   ]
  },
  {
   "cell_type": "code",
   "execution_count": null,
   "metadata": {},
   "outputs": [],
   "source": [
    "\n",
    "# specify baseline Calculator object representing current-law policy\n",
    "\n",
    "\n",
    "\n",
    "cyr = 2020\n",
    "\n",
    "# calculate aggregate current-law income tax liabilities for cyr\n",
    "calc1.advance_to_year(cyr)\n",
    "calc1.calc_all()\n",
    "itax_rev1 = calc1.weighted_total('iitax')\n",
    "\n",
    "# read JSON reform file\n",
    "reform_filename = './ingredients/reformA.json'\n",
    "params = Calculator.read_json_param_objects(reform=reform_filename,\n",
    "                                            assump=None)\n",
    "\n",
    "# specify Calculator object for static analysis of reform policy\n",
    "pol.implement_reform(params['policy'])\n",
    "calc2 = Calculator(policy=pol, records=recs)\n",
    "\n",
    "# calculate reform income tax liabilities for cyr under static assumptions\n",
    "calc2.advance_to_year(cyr)\n",
    "calc2.calc_all()\n",
    "itax_rev2sa = calc2.weighted_total('iitax')\n",
    "\n",
    "# specify behavioral-response assumptions\n",
    "behresp_json = '{\"BE_sub\": {\"2018\": 0.25}}'\n",
    "behresp_dict = Calculator.read_json_assumptions(behresp_json)\n",
    "\n",
    "# specify Calculator object for analysis of reform with behavioral response\n",
    "calc2 = Calculator(policy=pol, records=recs)\n",
    "calc2.advance_to_year(cyr)\n",
    "_, df2br = behresp.response(calc1, calc2, behresp_dict)\n",
    "\n",
    "# calculate reform income tax liabilities for cyr with behavioral response\n",
    "itax_rev2br = (df2br['iitax'] * df2br['s006']).sum()\n",
    "\n",
    "# print total income tax revenue estimates for cyr\n",
    "# (estimates in billons of dollars rounded to nearest hundredth of a billion)\n",
    "print('{}_CURRENT_LAW_P__itax_rev($B)= {:.3f}'.format(cyr, itax_rev1 * 1e-9))\n",
    "print('{}_REFORM_STATIC__itax_rev($B)= {:.3f}'.format(cyr, itax_rev2sa * 1e-9))\n",
    "print('{}_REFORM_DYNAMIC_itax_rev($B)= {:.3f}'.format(cyr, itax_rev2br * 1e-9))\n",
    "\n",
    "# create multi-year diagnostic tables for\n",
    "# (1) baseline,\n",
    "# (2) reform excluding behavioral responses, and\n",
    "# (3) reform including behavioral responses\n",
    "num_years = 3  # number of diagnostic table years beginning with cyr\n",
    "dtable1 = calc1.diagnostic_table(num_years)\n",
    "dtable2 = calc2.diagnostic_table(num_years)\n",
    "dvar_list3 = list()\n",
    "year_list3 = list()\n",
    "for year in range(cyr, cyr + num_years):\n",
    "    calc1.advance_to_year(year)\n",
    "    calc2.advance_to_year(year)\n",
    "    _, df2br = behresp.response(calc1, calc2, behresp_dict)\n",
    "    dvar_list3.append(df2br)\n",
    "    year_list3.append(year)\n",
    "dtable3 = create_diagnostic_table(dvar_list3, year_list3)\n",
    "print()\n",
    "print('DIAGNOSTIC TABLE FOR BASELINE')\n",
    "print(dtable1)\n",
    "print('DIAGNOSTIC TABLE FOR REFORM EXCLUDING BEHAVIORAL RESPONSES')\n",
    "print(dtable2)\n",
    "print('DIAGNOSTIC TABLE FOR REFORM INCLUDING BEHAVIORAL RESPONSES')\n",
    "print(dtable3)"
   ]
  },
  {
   "cell_type": "code",
   "execution_count": null,
   "metadata": {},
   "outputs": [],
   "source": []
  }
 ],
 "metadata": {
  "kernelspec": {
   "display_name": "Python 3",
   "language": "python",
   "name": "python3"
  },
  "language_info": {
   "codemirror_mode": {
    "name": "ipython",
    "version": 3
   },
   "file_extension": ".py",
   "mimetype": "text/x-python",
   "name": "python",
   "nbconvert_exporter": "python",
   "pygments_lexer": "ipython3",
   "version": "3.6.6"
  }
 },
 "nbformat": 4,
 "nbformat_minor": 2
}
