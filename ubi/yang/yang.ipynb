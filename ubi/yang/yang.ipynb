{
 "cells": [
  {
   "cell_type": "markdown",
   "metadata": {},
   "source": [
    "# Andrew Yang's Freedom Dividend\n",
    "\n",
    "Estimate the effect of Andrew Yang's [Freedom Dividend](https://www.yang2020.com/policies/the-freedom-dividend/) of $12,000 per year per adult over age 18, funded by a 10 percent [value-added tax](https://www.yang2020.com/policies/value-added-tax/) and reducing benefits by up to the UBI amount for each tax unit.\n",
    "\n",
    "Assumptions:\n",
    "* Adults are 18+ not 19+, for data availability.\n",
    "* Benefits include Social Security, SNAP, WIC, SSI, TANF, WIC, housing benefits, and \"other benefits\" included in C-TAM. It does not include Medicare, Medicaid, or veteran's benefits.\n",
    "* VAT incidence is proportional to [Tax Policy Center's estimate](https://www.taxpolicycenter.org/briefing-book/who-would-bear-burden-vat) of a 5 percent VAT's effect as of 2015. These are scaled linearly to match Yang's estimate that his VAT would raise $800 billion per year.\n",
    "* VAT incidence is treated as an income tax; per TPC:\n",
    ">Conceptually, the tax can either raise the total price (inclusive of the sales tax) paid by consumers or reduce the amount of business revenue available to compensate workers and investors. Theory and evidence suggest that the VAT is passed along to consumers via higher prices. Either way, the decline in real household income is the same regardless of whether prices rise (holding nominal incomes constant) or whether nominal incomes fall (holding the price level constant).\n",
    "\n",
    "*Data: CPS  |  Tax year: 2019  |  Type: Static  |  Author: Max Ghenis*"
   ]
  },
  {
   "cell_type": "markdown",
   "metadata": {},
   "source": [
    "## Setup\n",
    "\n",
    "### Imports"
   ]
  },
  {
   "cell_type": "code",
   "execution_count": 1,
   "metadata": {},
   "outputs": [],
   "source": [
    "import taxcalc as tc\n",
    "import taxcalc_helpers as tch\n",
    "import pandas as pd\n",
    "import numpy as np\n",
    "import matplotlib as mpl\n",
    "import matplotlib.pyplot as plt\n",
    "import seaborn as sns"
   ]
  },
  {
   "cell_type": "code",
   "execution_count": 2,
   "metadata": {},
   "outputs": [
    {
     "data": {
      "text/plain": [
       "'1.0.1'"
      ]
     },
     "execution_count": 2,
     "metadata": {},
     "output_type": "execute_result"
    }
   ],
   "source": [
    "tc.__version__"
   ]
  },
  {
   "cell_type": "markdown",
   "metadata": {},
   "source": [
    "### Settings"
   ]
  },
  {
   "cell_type": "code",
   "execution_count": 3,
   "metadata": {},
   "outputs": [],
   "source": [
    "sns.set_style('white')\n",
    "DPI = 200\n",
    "mpl.rc('savefig', dpi=DPI)\n",
    "mpl.rcParams['figure.dpi'] = DPI\n",
    "mpl.rcParams['figure.figsize'] = 6.4, 4.8  # Default."
   ]
  },
  {
   "cell_type": "code",
   "execution_count": 4,
   "metadata": {},
   "outputs": [],
   "source": [
    "mpl.rcParams['font.sans-serif'] = 'Roboto'\n",
    "mpl.rcParams['font.family'] = 'sans-serif'\n",
    "\n",
    "# Set title text color to dark gray (https://material.io/color) not black.\n",
    "TITLE_COLOR = '#212121'\n",
    "mpl.rcParams['text.color'] = TITLE_COLOR\n",
    "\n",
    "# Axis titles and tick marks are medium gray.\n",
    "AXIS_COLOR = '#757575'\n",
    "mpl.rcParams['axes.labelcolor'] = AXIS_COLOR\n",
    "mpl.rcParams['xtick.color'] = AXIS_COLOR\n",
    "mpl.rcParams['ytick.color'] = AXIS_COLOR\n",
    "\n",
    "# Use Seaborn's default color palette.\n",
    "# https://stackoverflow.com/q/48958426/1840471 for reproducibility.\n",
    "sns.set_palette(sns.color_palette())"
   ]
  },
  {
   "cell_type": "code",
   "execution_count": 5,
   "metadata": {},
   "outputs": [],
   "source": [
    "# Show one decimal in tables.\n",
    "pd.set_option('precision', 2)"
   ]
  },
  {
   "cell_type": "markdown",
   "metadata": {},
   "source": [
    "## Data"
   ]
  },
  {
   "cell_type": "code",
   "execution_count": 6,
   "metadata": {},
   "outputs": [],
   "source": [
    "recs = tc.Records.cps_constructor()"
   ]
  },
  {
   "cell_type": "code",
   "execution_count": 7,
   "metadata": {},
   "outputs": [],
   "source": [
    "BENS = ['other_ben', 'snap_ben', 'ssi_ben', 'tanf_ben', 'wic_ben']"
   ]
  },
  {
   "cell_type": "code",
   "execution_count": 8,
   "metadata": {},
   "outputs": [],
   "source": [
    "base = tch.calc_df(records=recs, year=2019, \n",
    "                   group_vars=['XTOT', 'nu18'] + BENS,\n",
    "                   group_n65=True,\n",
    "                   metric_vars=['aftertax_income', 'XTOT'])\n",
    "tch.add_weighted_quantiles(base, 'aftertax_income')"
   ]
  },
  {
   "cell_type": "markdown",
   "metadata": {},
   "source": [
    "### Calculations"
   ]
  },
  {
   "cell_type": "code",
   "execution_count": 95,
   "metadata": {},
   "outputs": [],
   "source": [
    "UBI = 12000\n",
    "base['bens'] = base[BENS].sum(axis=1)\n",
    "base['adults'] = base.XTOT - base.nu18\n",
    "base['ubi_max'] = base.adults * UBI\n",
    "base['ubi'] = np.where(base.ubi_max > base.bens, base.ubi_max - base.bens, 0)"
   ]
  },
  {
   "cell_type": "markdown",
   "metadata": {},
   "source": [
    "Weight."
   ]
  },
  {
   "cell_type": "code",
   "execution_count": 96,
   "metadata": {},
   "outputs": [],
   "source": [
    "base['ubi_m'] = base.ubi * base.s006 / 1e6\n",
    "base['ubi_max_m'] = base.ubi_max * base.s006 / 1e6\n",
    "base['bens_m'] = base.bens * base.s006 / 1e6"
   ]
  },
  {
   "cell_type": "code",
   "execution_count": 97,
   "metadata": {},
   "outputs": [
    {
     "data": {
      "text/plain": [
       "2583075.3367059343"
      ]
     },
     "execution_count": 97,
     "metadata": {},
     "output_type": "execute_result"
    }
   ],
   "source": [
    "base.ubi_m.sum()"
   ]
  },
  {
   "cell_type": "code",
   "execution_count": 98,
   "metadata": {},
   "outputs": [
    {
     "data": {
      "text/plain": [
       "2970909.8827199996"
      ]
     },
     "execution_count": 98,
     "metadata": {},
     "output_type": "execute_result"
    }
   ],
   "source": [
    "base.ubi_max_m.sum()"
   ]
  },
  {
   "cell_type": "code",
   "execution_count": 99,
   "metadata": {},
   "outputs": [
    {
     "data": {
      "text/plain": [
       "387834.5460140654"
      ]
     },
     "execution_count": 99,
     "metadata": {},
     "output_type": "execute_result"
    }
   ],
   "source": [
    "base.ubi_max_m.sum() - base.ubi_m.sum()"
   ]
  },
  {
   "cell_type": "code",
   "execution_count": 100,
   "metadata": {},
   "outputs": [
    {
     "data": {
      "text/plain": [
       "461648.64029236446"
      ]
     },
     "execution_count": 100,
     "metadata": {},
     "output_type": "execute_result"
    }
   ],
   "source": [
    "base.bens_m.sum()"
   ]
  },
  {
   "cell_type": "markdown",
   "metadata": {},
   "source": [
    "### VAT\n",
    "\n",
    "Start with equal incidence, then re-weight according to [TPC paper](https://www.taxpolicycenter.org/briefing-book/who-would-bear-burden-vat)."
   ]
  },
  {
   "cell_type": "code",
   "execution_count": 101,
   "metadata": {},
   "outputs": [],
   "source": [
    "TOTAL_VAT = 800e9\n",
    "VAT_INCIDENCE = pd.DataFrame({\n",
    "    'income_percentile_floor': [-1, 20, 40, 60, 80, 90, 95, 99, 99.9],\n",
    "    'rate': [3.9, 3.6, 3.6, 3.6, 3.4, 3.2, 2.8, 2.5, 2.5]\n",
    "})\n",
    "VAT_INCIDENCE.rate /= 100"
   ]
  },
  {
   "cell_type": "code",
   "execution_count": 102,
   "metadata": {},
   "outputs": [],
   "source": [
    "base['afti_yang_prevat'] = base.aftertax_income + base.ubi\n",
    "base['afti_yang_prevat_noneg'] = base.afti_yang_prevat.clip_lower(0)"
   ]
  },
  {
   "cell_type": "code",
   "execution_count": 103,
   "metadata": {},
   "outputs": [
    {
     "data": {
      "text/plain": [
       "18312.942421341926"
      ]
     },
     "execution_count": 103,
     "metadata": {},
     "output_type": "execute_result"
    }
   ],
   "source": [
    "base.afti_yang_prevat.median() - base.aftertax_income.median()"
   ]
  },
  {
   "cell_type": "code",
   "execution_count": 104,
   "metadata": {},
   "outputs": [],
   "source": [
    "tch.add_weighted_quantiles(base, 'afti_yang_prevat_noneg')"
   ]
  },
  {
   "cell_type": "code",
   "execution_count": 105,
   "metadata": {},
   "outputs": [],
   "source": [
    "base['vat_rate_prescale'] = VAT_INCIDENCE.rate[\n",
    "    pd.cut(base.afti_yang_prevat_noneg_percentile_exact,\n",
    "           bins=VAT_INCIDENCE.income_percentile_floor.tolist() + [100],\n",
    "           labels=False)].values"
   ]
  },
  {
   "cell_type": "code",
   "execution_count": 106,
   "metadata": {},
   "outputs": [],
   "source": [
    "base['vat_base'] = base.afti_yang_prevat_noneg * base.vat_rate_prescale"
   ]
  },
  {
   "cell_type": "code",
   "execution_count": 111,
   "metadata": {},
   "outputs": [
    {
     "data": {
      "text/plain": [
       "1.5898868114189384"
      ]
     },
     "execution_count": 111,
     "metadata": {},
     "output_type": "execute_result"
    }
   ],
   "source": [
    "vat_mult = TOTAL_VAT / tch.weighted_sum(base, 'vat_base')\n",
    "vat_mult"
   ]
  },
  {
   "cell_type": "code",
   "execution_count": 144,
   "metadata": {},
   "outputs": [],
   "source": [
    "base['vat'] = base.vat_base * vat_mult\n",
    "base['vat_m'] = tch.weight(base, 'vat') / 1e6\n",
    "base['afti_yang_prevat_noneg_m'] = tch.weight(base, 'afti_yang_prevat_noneg_m') / 1e6"
   ]
  },
  {
   "cell_type": "code",
   "execution_count": 113,
   "metadata": {},
   "outputs": [],
   "source": [
    "base['afti_yang'] = base.afti_yang_prevat - base.vat"
   ]
  },
  {
   "cell_type": "code",
   "execution_count": 114,
   "metadata": {},
   "outputs": [
    {
     "data": {
      "text/plain": [
       "0.45102436073606283"
      ]
     },
     "execution_count": 114,
     "metadata": {},
     "output_type": "execute_result"
    }
   ],
   "source": [
    "tch.gini(base.aftertax_income, base.s006)"
   ]
  },
  {
   "cell_type": "code",
   "execution_count": 116,
   "metadata": {},
   "outputs": [
    {
     "data": {
      "text/plain": [
       "0.4014956211805211"
      ]
     },
     "execution_count": 116,
     "metadata": {},
     "output_type": "execute_result"
    }
   ],
   "source": [
    "tch.gini(base.afti_yang, base.s006)"
   ]
  },
  {
   "cell_type": "code",
   "execution_count": 117,
   "metadata": {},
   "outputs": [
    {
     "data": {
      "text/plain": [
       "count    4.56e+05\n",
       "mean     1.46e+05\n",
       "std      1.54e+06\n",
       "min     -3.11e+06\n",
       "25%      5.05e+04\n",
       "50%      9.62e+04\n",
       "75%      1.77e+05\n",
       "max      1.03e+09\n",
       "Name: afti_yang, dtype: float64"
      ]
     },
     "execution_count": 117,
     "metadata": {},
     "output_type": "execute_result"
    }
   ],
   "source": [
    "base.afti_yang.describe()"
   ]
  },
  {
   "cell_type": "code",
   "execution_count": 129,
   "metadata": {},
   "outputs": [],
   "source": [
    "base['afti_chg'] = base.afti_yang - base.aftertax_income\n",
    "base['afti_chg_m'] = base.afti_chg * base.s006 / 1e6"
   ]
  },
  {
   "cell_type": "code",
   "execution_count": 128,
   "metadata": {},
   "outputs": [
    {
     "data": {
      "text/plain": [
       "'$1.78 billion shortfall'"
      ]
     },
     "execution_count": 128,
     "metadata": {},
     "output_type": "execute_result"
    }
   ],
   "source": [
    "'${} billion shortfall'.format((base.afti_chg_m.sum() / 1e6).round(2))"
   ]
  },
  {
   "cell_type": "markdown",
   "metadata": {},
   "source": [
    "## Analysis"
   ]
  },
  {
   "cell_type": "code",
   "execution_count": 120,
   "metadata": {},
   "outputs": [],
   "source": [
    "# base.sort_values('afti).head()"
   ]
  },
  {
   "cell_type": "code",
   "execution_count": 130,
   "metadata": {},
   "outputs": [
    {
     "data": {
      "text/html": [
       "<div>\n",
       "<style scoped>\n",
       "    .dataframe tbody tr th:only-of-type {\n",
       "        vertical-align: middle;\n",
       "    }\n",
       "\n",
       "    .dataframe tbody tr th {\n",
       "        vertical-align: top;\n",
       "    }\n",
       "\n",
       "    .dataframe thead th {\n",
       "        text-align: right;\n",
       "    }\n",
       "</style>\n",
       "<table border=\"1\" class=\"dataframe\">\n",
       "  <thead>\n",
       "    <tr style=\"text-align: right;\">\n",
       "      <th></th>\n",
       "      <th>wic_ben</th>\n",
       "      <th>ssi_ben</th>\n",
       "      <th>aftertax_income</th>\n",
       "      <th>snap_ben</th>\n",
       "      <th>tanf_ben</th>\n",
       "      <th>XTOT</th>\n",
       "      <th>nu18</th>\n",
       "      <th>other_ben</th>\n",
       "      <th>s006</th>\n",
       "      <th>n65</th>\n",
       "      <th>...</th>\n",
       "      <th>afti_yang_prevat_noneg_percentile_exact</th>\n",
       "      <th>afti_yang_prevat_noneg_percentile</th>\n",
       "      <th>afti_yang_prevat_noneg_2percentile</th>\n",
       "      <th>afti_yang_prevat_noneg_ventile</th>\n",
       "      <th>afti_yang_prevat_noneg_decile</th>\n",
       "      <th>afti_yang_prevat_noneg_quintile</th>\n",
       "      <th>afti_yang_prevat_noneg_quartile</th>\n",
       "      <th>afti_yang_prevat_noneg_percentile_map</th>\n",
       "      <th>vat_rate_prescale</th>\n",
       "      <th>vat_base</th>\n",
       "    </tr>\n",
       "    <tr>\n",
       "      <th>RECID</th>\n",
       "      <th></th>\n",
       "      <th></th>\n",
       "      <th></th>\n",
       "      <th></th>\n",
       "      <th></th>\n",
       "      <th></th>\n",
       "      <th></th>\n",
       "      <th></th>\n",
       "      <th></th>\n",
       "      <th></th>\n",
       "      <th></th>\n",
       "      <th></th>\n",
       "      <th></th>\n",
       "      <th></th>\n",
       "      <th></th>\n",
       "      <th></th>\n",
       "      <th></th>\n",
       "      <th></th>\n",
       "      <th></th>\n",
       "      <th></th>\n",
       "      <th></th>\n",
       "    </tr>\n",
       "  </thead>\n",
       "  <tbody>\n",
       "    <tr>\n",
       "      <th>167613</th>\n",
       "      <td>0.0</td>\n",
       "      <td>0.0</td>\n",
       "      <td>2935.90</td>\n",
       "      <td>0.0</td>\n",
       "      <td>0.0</td>\n",
       "      <td>12.0</td>\n",
       "      <td>0.0</td>\n",
       "      <td>0.0</td>\n",
       "      <td>877.33</td>\n",
       "      <td>0.0</td>\n",
       "      <td>...</td>\n",
       "      <td>85.87</td>\n",
       "      <td>86</td>\n",
       "      <td>86</td>\n",
       "      <td>90</td>\n",
       "      <td>9</td>\n",
       "      <td>5</td>\n",
       "      <td>4</td>\n",
       "      <td>3.4</td>\n",
       "      <td>0.03</td>\n",
       "      <td>4995.82</td>\n",
       "    </tr>\n",
       "    <tr>\n",
       "      <th>388397</th>\n",
       "      <td>0.0</td>\n",
       "      <td>0.0</td>\n",
       "      <td>0.00</td>\n",
       "      <td>0.0</td>\n",
       "      <td>0.0</td>\n",
       "      <td>7.0</td>\n",
       "      <td>0.0</td>\n",
       "      <td>0.0</td>\n",
       "      <td>550.97</td>\n",
       "      <td>0.0</td>\n",
       "      <td>...</td>\n",
       "      <td>61.44</td>\n",
       "      <td>62</td>\n",
       "      <td>62</td>\n",
       "      <td>65</td>\n",
       "      <td>7</td>\n",
       "      <td>4</td>\n",
       "      <td>3</td>\n",
       "      <td>3.6</td>\n",
       "      <td>0.04</td>\n",
       "      <td>3024.00</td>\n",
       "    </tr>\n",
       "    <tr>\n",
       "      <th>201238</th>\n",
       "      <td>0.0</td>\n",
       "      <td>0.0</td>\n",
       "      <td>20623.71</td>\n",
       "      <td>0.0</td>\n",
       "      <td>0.0</td>\n",
       "      <td>7.0</td>\n",
       "      <td>0.0</td>\n",
       "      <td>0.0</td>\n",
       "      <td>107.18</td>\n",
       "      <td>0.0</td>\n",
       "      <td>...</td>\n",
       "      <td>72.43</td>\n",
       "      <td>73</td>\n",
       "      <td>74</td>\n",
       "      <td>75</td>\n",
       "      <td>8</td>\n",
       "      <td>4</td>\n",
       "      <td>3</td>\n",
       "      <td>3.6</td>\n",
       "      <td>0.04</td>\n",
       "      <td>3766.45</td>\n",
       "    </tr>\n",
       "    <tr>\n",
       "      <th>201242</th>\n",
       "      <td>0.0</td>\n",
       "      <td>0.0</td>\n",
       "      <td>20623.71</td>\n",
       "      <td>0.0</td>\n",
       "      <td>0.0</td>\n",
       "      <td>7.0</td>\n",
       "      <td>0.0</td>\n",
       "      <td>0.0</td>\n",
       "      <td>107.18</td>\n",
       "      <td>0.0</td>\n",
       "      <td>...</td>\n",
       "      <td>72.43</td>\n",
       "      <td>73</td>\n",
       "      <td>74</td>\n",
       "      <td>75</td>\n",
       "      <td>8</td>\n",
       "      <td>4</td>\n",
       "      <td>3</td>\n",
       "      <td>3.6</td>\n",
       "      <td>0.04</td>\n",
       "      <td>3766.45</td>\n",
       "    </tr>\n",
       "    <tr>\n",
       "      <th>201244</th>\n",
       "      <td>0.0</td>\n",
       "      <td>0.0</td>\n",
       "      <td>20623.71</td>\n",
       "      <td>0.0</td>\n",
       "      <td>0.0</td>\n",
       "      <td>7.0</td>\n",
       "      <td>0.0</td>\n",
       "      <td>0.0</td>\n",
       "      <td>107.18</td>\n",
       "      <td>0.0</td>\n",
       "      <td>...</td>\n",
       "      <td>72.43</td>\n",
       "      <td>73</td>\n",
       "      <td>74</td>\n",
       "      <td>75</td>\n",
       "      <td>8</td>\n",
       "      <td>4</td>\n",
       "      <td>3</td>\n",
       "      <td>3.6</td>\n",
       "      <td>0.04</td>\n",
       "      <td>3766.45</td>\n",
       "    </tr>\n",
       "  </tbody>\n",
       "</table>\n",
       "<p>5 rows × 43 columns</p>\n",
       "</div>"
      ],
      "text/plain": [
       "        wic_ben  ssi_ben  aftertax_income  snap_ben  tanf_ben  XTOT  nu18  \\\n",
       "RECID                                                                       \n",
       "167613      0.0      0.0          2935.90       0.0       0.0  12.0   0.0   \n",
       "388397      0.0      0.0             0.00       0.0       0.0   7.0   0.0   \n",
       "201238      0.0      0.0         20623.71       0.0       0.0   7.0   0.0   \n",
       "201242      0.0      0.0         20623.71       0.0       0.0   7.0   0.0   \n",
       "201244      0.0      0.0         20623.71       0.0       0.0   7.0   0.0   \n",
       "\n",
       "        other_ben    s006  n65    ...     \\\n",
       "RECID                             ...      \n",
       "167613        0.0  877.33  0.0    ...      \n",
       "388397        0.0  550.97  0.0    ...      \n",
       "201238        0.0  107.18  0.0    ...      \n",
       "201242        0.0  107.18  0.0    ...      \n",
       "201244        0.0  107.18  0.0    ...      \n",
       "\n",
       "        afti_yang_prevat_noneg_percentile_exact  \\\n",
       "RECID                                             \n",
       "167613                                    85.87   \n",
       "388397                                    61.44   \n",
       "201238                                    72.43   \n",
       "201242                                    72.43   \n",
       "201244                                    72.43   \n",
       "\n",
       "        afti_yang_prevat_noneg_percentile  afti_yang_prevat_noneg_2percentile  \\\n",
       "RECID                                                                           \n",
       "167613                                 86                                  86   \n",
       "388397                                 62                                  62   \n",
       "201238                                 73                                  74   \n",
       "201242                                 73                                  74   \n",
       "201244                                 73                                  74   \n",
       "\n",
       "        afti_yang_prevat_noneg_ventile  afti_yang_prevat_noneg_decile  \\\n",
       "RECID                                                                   \n",
       "167613                              90                              9   \n",
       "388397                              65                              7   \n",
       "201238                              75                              8   \n",
       "201242                              75                              8   \n",
       "201244                              75                              8   \n",
       "\n",
       "        afti_yang_prevat_noneg_quintile  afti_yang_prevat_noneg_quartile  \\\n",
       "RECID                                                                      \n",
       "167613                                5                                4   \n",
       "388397                                4                                3   \n",
       "201238                                4                                3   \n",
       "201242                                4                                3   \n",
       "201244                                4                                3   \n",
       "\n",
       "        afti_yang_prevat_noneg_percentile_map  vat_rate_prescale  vat_base  \n",
       "RECID                                                                       \n",
       "167613                                    3.4               0.03   4995.82  \n",
       "388397                                    3.6               0.04   3024.00  \n",
       "201238                                    3.6               0.04   3766.45  \n",
       "201242                                    3.6               0.04   3766.45  \n",
       "201244                                    3.6               0.04   3766.45  \n",
       "\n",
       "[5 rows x 43 columns]"
      ]
     },
     "execution_count": 130,
     "metadata": {},
     "output_type": "execute_result"
    }
   ],
   "source": [
    "base.sort_values('afti_chg', ascending=False).head()"
   ]
  },
  {
   "cell_type": "code",
   "execution_count": 145,
   "metadata": {},
   "outputs": [
    {
     "data": {
      "text/html": [
       "<div>\n",
       "<style scoped>\n",
       "    .dataframe tbody tr th:only-of-type {\n",
       "        vertical-align: middle;\n",
       "    }\n",
       "\n",
       "    .dataframe tbody tr th {\n",
       "        vertical-align: top;\n",
       "    }\n",
       "\n",
       "    .dataframe thead th {\n",
       "        text-align: right;\n",
       "    }\n",
       "</style>\n",
       "<table border=\"1\" class=\"dataframe\">\n",
       "  <thead>\n",
       "    <tr style=\"text-align: right;\">\n",
       "      <th></th>\n",
       "      <th>aftertax_income_m</th>\n",
       "      <th>afti_chg_m</th>\n",
       "      <th>vat_m</th>\n",
       "      <th>afti_yang_prevat_noneg_m</th>\n",
       "      <th>s006</th>\n",
       "      <th>afti_chg</th>\n",
       "      <th>afti_chg_pct</th>\n",
       "      <th>vat</th>\n",
       "      <th>vat_pct</th>\n",
       "    </tr>\n",
       "    <tr>\n",
       "      <th>aftertax_income_decile</th>\n",
       "      <th></th>\n",
       "      <th></th>\n",
       "      <th></th>\n",
       "      <th></th>\n",
       "      <th></th>\n",
       "      <th></th>\n",
       "      <th></th>\n",
       "      <th></th>\n",
       "      <th></th>\n",
       "    </tr>\n",
       "  </thead>\n",
       "  <tbody>\n",
       "    <tr>\n",
       "      <th>1</th>\n",
       "      <td>1.65e+05</td>\n",
       "      <td>172599.07</td>\n",
       "      <td>22195.81</td>\n",
       "      <td>18.21</td>\n",
       "      <td>1.65e+07</td>\n",
       "      <td>10475.35</td>\n",
       "      <td>1.05</td>\n",
       "      <td>1347.10</td>\n",
       "      <td>1218.91</td>\n",
       "    </tr>\n",
       "    <tr>\n",
       "      <th>2</th>\n",
       "      <td>3.87e+05</td>\n",
       "      <td>172044.26</td>\n",
       "      <td>36242.02</td>\n",
       "      <td>38.49</td>\n",
       "      <td>1.65e+07</td>\n",
       "      <td>10410.32</td>\n",
       "      <td>0.45</td>\n",
       "      <td>2192.99</td>\n",
       "      <td>941.61</td>\n",
       "    </tr>\n",
       "    <tr>\n",
       "      <th>3</th>\n",
       "      <td>5.18e+05</td>\n",
       "      <td>165985.66</td>\n",
       "      <td>42080.28</td>\n",
       "      <td>43.87</td>\n",
       "      <td>1.65e+07</td>\n",
       "      <td>10044.04</td>\n",
       "      <td>0.32</td>\n",
       "      <td>2546.34</td>\n",
       "      <td>959.18</td>\n",
       "    </tr>\n",
       "    <tr>\n",
       "      <th>4</th>\n",
       "      <td>6.45e+05</td>\n",
       "      <td>166226.71</td>\n",
       "      <td>49304.50</td>\n",
       "      <td>52.02</td>\n",
       "      <td>1.65e+07</td>\n",
       "      <td>10058.11</td>\n",
       "      <td>0.26</td>\n",
       "      <td>2983.34</td>\n",
       "      <td>947.79</td>\n",
       "    </tr>\n",
       "    <tr>\n",
       "      <th>5</th>\n",
       "      <td>7.93e+05</td>\n",
       "      <td>170713.30</td>\n",
       "      <td>58476.96</td>\n",
       "      <td>59.14</td>\n",
       "      <td>1.65e+07</td>\n",
       "      <td>10330.07</td>\n",
       "      <td>0.22</td>\n",
       "      <td>3538.51</td>\n",
       "      <td>988.74</td>\n",
       "    </tr>\n",
       "    <tr>\n",
       "      <th>6</th>\n",
       "      <td>9.76e+05</td>\n",
       "      <td>175716.06</td>\n",
       "      <td>69921.06</td>\n",
       "      <td>66.97</td>\n",
       "      <td>1.65e+07</td>\n",
       "      <td>10631.49</td>\n",
       "      <td>0.18</td>\n",
       "      <td>4230.49</td>\n",
       "      <td>1044.06</td>\n",
       "    </tr>\n",
       "    <tr>\n",
       "      <th>7</th>\n",
       "      <td>1.21e+06</td>\n",
       "      <td>186236.91</td>\n",
       "      <td>84499.54</td>\n",
       "      <td>81.17</td>\n",
       "      <td>1.65e+07</td>\n",
       "      <td>11269.41</td>\n",
       "      <td>0.15</td>\n",
       "      <td>5113.16</td>\n",
       "      <td>1041.02</td>\n",
       "    </tr>\n",
       "    <tr>\n",
       "      <th>8</th>\n",
       "      <td>1.52e+06</td>\n",
       "      <td>198841.83</td>\n",
       "      <td>103539.30</td>\n",
       "      <td>92.94</td>\n",
       "      <td>1.65e+07</td>\n",
       "      <td>12031.61</td>\n",
       "      <td>0.13</td>\n",
       "      <td>6265.00</td>\n",
       "      <td>1114.07</td>\n",
       "    </tr>\n",
       "    <tr>\n",
       "      <th>9</th>\n",
       "      <td>2.03e+06</td>\n",
       "      <td>207124.10</td>\n",
       "      <td>128374.27</td>\n",
       "      <td>107.68</td>\n",
       "      <td>1.65e+07</td>\n",
       "      <td>12532.87</td>\n",
       "      <td>0.10</td>\n",
       "      <td>7767.79</td>\n",
       "      <td>1192.22</td>\n",
       "    </tr>\n",
       "    <tr>\n",
       "      <th>10</th>\n",
       "      <td>4.14e+06</td>\n",
       "      <td>166915.01</td>\n",
       "      <td>205363.12</td>\n",
       "      <td>143.55</td>\n",
       "      <td>1.65e+07</td>\n",
       "      <td>10099.46</td>\n",
       "      <td>0.04</td>\n",
       "      <td>12425.82</td>\n",
       "      <td>1430.62</td>\n",
       "    </tr>\n",
       "  </tbody>\n",
       "</table>\n",
       "</div>"
      ],
      "text/plain": [
       "                        aftertax_income_m  afti_chg_m      vat_m  \\\n",
       "aftertax_income_decile                                             \n",
       "1                                1.65e+05   172599.07   22195.81   \n",
       "2                                3.87e+05   172044.26   36242.02   \n",
       "3                                5.18e+05   165985.66   42080.28   \n",
       "4                                6.45e+05   166226.71   49304.50   \n",
       "5                                7.93e+05   170713.30   58476.96   \n",
       "6                                9.76e+05   175716.06   69921.06   \n",
       "7                                1.21e+06   186236.91   84499.54   \n",
       "8                                1.52e+06   198841.83  103539.30   \n",
       "9                                2.03e+06   207124.10  128374.27   \n",
       "10                               4.14e+06   166915.01  205363.12   \n",
       "\n",
       "                        afti_yang_prevat_noneg_m      s006  afti_chg  \\\n",
       "aftertax_income_decile                                                 \n",
       "1                                          18.21  1.65e+07  10475.35   \n",
       "2                                          38.49  1.65e+07  10410.32   \n",
       "3                                          43.87  1.65e+07  10044.04   \n",
       "4                                          52.02  1.65e+07  10058.11   \n",
       "5                                          59.14  1.65e+07  10330.07   \n",
       "6                                          66.97  1.65e+07  10631.49   \n",
       "7                                          81.17  1.65e+07  11269.41   \n",
       "8                                          92.94  1.65e+07  12031.61   \n",
       "9                                         107.68  1.65e+07  12532.87   \n",
       "10                                        143.55  1.65e+07  10099.46   \n",
       "\n",
       "                        afti_chg_pct       vat  vat_pct  \n",
       "aftertax_income_decile                                   \n",
       "1                               1.05   1347.10  1218.91  \n",
       "2                               0.45   2192.99   941.61  \n",
       "3                               0.32   2546.34   959.18  \n",
       "4                               0.26   2983.34   947.79  \n",
       "5                               0.22   3538.51   988.74  \n",
       "6                               0.18   4230.49  1044.06  \n",
       "7                               0.15   5113.16  1041.02  \n",
       "8                               0.13   6265.00  1114.07  \n",
       "9                               0.10   7767.79  1192.22  \n",
       "10                              0.04  12425.82  1430.62  "
      ]
     },
     "execution_count": 145,
     "metadata": {},
     "output_type": "execute_result"
    }
   ],
   "source": [
    "decile = base.groupby('aftertax_income_decile')['aftertax_income_m', 'afti_chg_m',\n",
    "                                                'vat_m', 'afti_yang_prevat_noneg_m', 's006'].sum()\n",
    "decile['afti_chg'] = 1e6 * decile.afti_chg_m / decile.s006\n",
    "decile['afti_chg_pct'] = decile.afti_chg_m / decile.aftertax_income_m\n",
    "decile['vat'] = 1e6 * decile.vat_m / decile.s006\n",
    "decile['vat_pct'] = decile.vat_m / decile.afti_yang_prevat_noneg_m\n",
    "decile.drop(0, inplace=True)\n",
    "decile"
   ]
  },
  {
   "cell_type": "code",
   "execution_count": 146,
   "metadata": {},
   "outputs": [
    {
     "data": {
      "image/png": "[encoded data removed]",
      "text/plain": [
       "<Figure size 1280x960 with 1 Axes>"
      ]
     },
     "metadata": {},
     "output_type": "display_data"
    }
   ],
   "source": [
    "decile.afti_chg.plot('bar', color='blue')\n",
    "plt.show()"
   ]
  },
  {
   "cell_type": "code",
   "execution_count": 147,
   "metadata": {},
   "outputs": [
    {
     "data": {
      "image/png": "[encoded data removed]",
      "text/plain": [
       "<Figure size 1280x960 with 1 Axes>"
      ]
     },
     "metadata": {},
     "output_type": "display_data"
    }
   ],
   "source": [
    "ax = decile.afti_chg_pct.plot('bar', color='blue')\n",
    "ax.yaxis.set_major_formatter(mpl.ticker.FuncFormatter(\n",
    "        lambda y, _: '{:.0%}'.format(y)))\n",
    "plt.show()"
   ]
  },
  {
   "cell_type": "code",
   "execution_count": 148,
   "metadata": {},
   "outputs": [
    {
     "data": {
      "image/png": "[encoded data removed]",
      "text/plain": [
       "<Figure size 1280x960 with 1 Axes>"
      ]
     },
     "metadata": {},
     "output_type": "display_data"
    }
   ],
   "source": [
    "decile.vat.plot('bar', color='blue')\n",
    "plt.show()"
   ]
  },
  {
   "cell_type": "code",
   "execution_count": 149,
   "metadata": {},
   "outputs": [
    {
     "data": {
      "image/png": "[encoded data removed]",
      "text/plain": [
       "<Figure size 1280x960 with 1 Axes>"
      ]
     },
     "metadata": {},
     "output_type": "display_data"
    }
   ],
   "source": [
    "decile.vat_pct.plot('bar', color='blue')\n",
    "plt.show()"
   ]
  },
  {
   "cell_type": "code",
   "execution_count": 37,
   "metadata": {},
   "outputs": [
    {
     "data": {
      "text/html": [
       "<div>\n",
       "<style scoped>\n",
       "    .dataframe tbody tr th:only-of-type {\n",
       "        vertical-align: middle;\n",
       "    }\n",
       "\n",
       "    .dataframe tbody tr th {\n",
       "        vertical-align: top;\n",
       "    }\n",
       "\n",
       "    .dataframe thead th {\n",
       "        text-align: right;\n",
       "    }\n",
       "</style>\n",
       "<table border=\"1\" class=\"dataframe\">\n",
       "  <thead>\n",
       "    <tr style=\"text-align: right;\">\n",
       "      <th></th>\n",
       "      <th>aftertax_income_m</th>\n",
       "      <th>afti_chg_m</th>\n",
       "      <th>s006</th>\n",
       "      <th>afti_chg</th>\n",
       "      <th>afti_chg_pct</th>\n",
       "    </tr>\n",
       "    <tr>\n",
       "      <th>aftertax_income_ventile</th>\n",
       "      <th></th>\n",
       "      <th></th>\n",
       "      <th></th>\n",
       "      <th></th>\n",
       "      <th></th>\n",
       "    </tr>\n",
       "  </thead>\n",
       "  <tbody>\n",
       "    <tr>\n",
       "      <th>5</th>\n",
       "      <td>3.87e+04</td>\n",
       "      <td>86670.55</td>\n",
       "      <td>8.21e+06</td>\n",
       "      <td>10552.88</td>\n",
       "      <td>2.24e+00</td>\n",
       "    </tr>\n",
       "    <tr>\n",
       "      <th>10</th>\n",
       "      <td>1.26e+05</td>\n",
       "      <td>85419.13</td>\n",
       "      <td>8.26e+06</td>\n",
       "      <td>10336.66</td>\n",
       "      <td>6.75e-01</td>\n",
       "    </tr>\n",
       "    <tr>\n",
       "      <th>15</th>\n",
       "      <td>1.75e+05</td>\n",
       "      <td>84478.82</td>\n",
       "      <td>8.26e+06</td>\n",
       "      <td>10223.46</td>\n",
       "      <td>4.84e-01</td>\n",
       "    </tr>\n",
       "    <tr>\n",
       "      <th>20</th>\n",
       "      <td>2.12e+05</td>\n",
       "      <td>75639.63</td>\n",
       "      <td>8.26e+06</td>\n",
       "      <td>9153.92</td>\n",
       "      <td>3.57e-01</td>\n",
       "    </tr>\n",
       "    <tr>\n",
       "      <th>25</th>\n",
       "      <td>2.44e+05</td>\n",
       "      <td>68882.07</td>\n",
       "      <td>8.26e+06</td>\n",
       "      <td>8335.78</td>\n",
       "      <td>2.82e-01</td>\n",
       "    </tr>\n",
       "    <tr>\n",
       "      <th>30</th>\n",
       "      <td>2.74e+05</td>\n",
       "      <td>63615.60</td>\n",
       "      <td>8.26e+06</td>\n",
       "      <td>7699.45</td>\n",
       "      <td>2.32e-01</td>\n",
       "    </tr>\n",
       "    <tr>\n",
       "      <th>35</th>\n",
       "      <td>3.06e+05</td>\n",
       "      <td>64797.64</td>\n",
       "      <td>8.26e+06</td>\n",
       "      <td>7840.81</td>\n",
       "      <td>2.12e-01</td>\n",
       "    </tr>\n",
       "    <tr>\n",
       "      <th>40</th>\n",
       "      <td>3.39e+05</td>\n",
       "      <td>67769.16</td>\n",
       "      <td>8.26e+06</td>\n",
       "      <td>8202.03</td>\n",
       "      <td>2.00e-01</td>\n",
       "    </tr>\n",
       "    <tr>\n",
       "      <th>45</th>\n",
       "      <td>3.76e+05</td>\n",
       "      <td>68982.39</td>\n",
       "      <td>8.26e+06</td>\n",
       "      <td>8347.94</td>\n",
       "      <td>1.83e-01</td>\n",
       "    </tr>\n",
       "    <tr>\n",
       "      <th>50</th>\n",
       "      <td>4.17e+05</td>\n",
       "      <td>66527.33</td>\n",
       "      <td>8.26e+06</td>\n",
       "      <td>8051.76</td>\n",
       "      <td>1.60e-01</td>\n",
       "    </tr>\n",
       "    <tr>\n",
       "      <th>55</th>\n",
       "      <td>4.62e+05</td>\n",
       "      <td>61961.88</td>\n",
       "      <td>8.26e+06</td>\n",
       "      <td>7497.22</td>\n",
       "      <td>1.34e-01</td>\n",
       "    </tr>\n",
       "    <tr>\n",
       "      <th>60</th>\n",
       "      <td>5.14e+05</td>\n",
       "      <td>61586.57</td>\n",
       "      <td>8.26e+06</td>\n",
       "      <td>7453.08</td>\n",
       "      <td>1.20e-01</td>\n",
       "    </tr>\n",
       "    <tr>\n",
       "      <th>65</th>\n",
       "      <td>5.71e+05</td>\n",
       "      <td>63848.47</td>\n",
       "      <td>8.26e+06</td>\n",
       "      <td>7727.55</td>\n",
       "      <td>1.12e-01</td>\n",
       "    </tr>\n",
       "    <tr>\n",
       "      <th>70</th>\n",
       "      <td>6.35e+05</td>\n",
       "      <td>63086.05</td>\n",
       "      <td>8.26e+06</td>\n",
       "      <td>7634.36</td>\n",
       "      <td>9.93e-02</td>\n",
       "    </tr>\n",
       "    <tr>\n",
       "      <th>75</th>\n",
       "      <td>7.14e+05</td>\n",
       "      <td>64941.00</td>\n",
       "      <td>8.26e+06</td>\n",
       "      <td>7858.83</td>\n",
       "      <td>9.10e-02</td>\n",
       "    </tr>\n",
       "    <tr>\n",
       "      <th>80</th>\n",
       "      <td>8.07e+05</td>\n",
       "      <td>61990.11</td>\n",
       "      <td>8.26e+06</td>\n",
       "      <td>7501.97</td>\n",
       "      <td>7.68e-02</td>\n",
       "    </tr>\n",
       "    <tr>\n",
       "      <th>85</th>\n",
       "      <td>9.29e+05</td>\n",
       "      <td>57607.53</td>\n",
       "      <td>8.26e+06</td>\n",
       "      <td>6971.23</td>\n",
       "      <td>6.20e-02</td>\n",
       "    </tr>\n",
       "    <tr>\n",
       "      <th>90</th>\n",
       "      <td>1.10e+06</td>\n",
       "      <td>55297.38</td>\n",
       "      <td>8.26e+06</td>\n",
       "      <td>6692.28</td>\n",
       "      <td>5.01e-02</td>\n",
       "    </tr>\n",
       "    <tr>\n",
       "      <th>95</th>\n",
       "      <td>1.39e+06</td>\n",
       "      <td>46140.94</td>\n",
       "      <td>8.26e+06</td>\n",
       "      <td>5583.46</td>\n",
       "      <td>3.32e-02</td>\n",
       "    </tr>\n",
       "    <tr>\n",
       "      <th>100</th>\n",
       "      <td>2.75e+06</td>\n",
       "      <td>-23461.70</td>\n",
       "      <td>8.26e+06</td>\n",
       "      <td>-2839.27</td>\n",
       "      <td>-8.54e-03</td>\n",
       "    </tr>\n",
       "  </tbody>\n",
       "</table>\n",
       "</div>"
      ],
      "text/plain": [
       "                         aftertax_income_m  afti_chg_m      s006  afti_chg  \\\n",
       "aftertax_income_ventile                                                      \n",
       "5                                 3.87e+04    86670.55  8.21e+06  10552.88   \n",
       "10                                1.26e+05    85419.13  8.26e+06  10336.66   \n",
       "15                                1.75e+05    84478.82  8.26e+06  10223.46   \n",
       "20                                2.12e+05    75639.63  8.26e+06   9153.92   \n",
       "25                                2.44e+05    68882.07  8.26e+06   8335.78   \n",
       "30                                2.74e+05    63615.60  8.26e+06   7699.45   \n",
       "35                                3.06e+05    64797.64  8.26e+06   7840.81   \n",
       "40                                3.39e+05    67769.16  8.26e+06   8202.03   \n",
       "45                                3.76e+05    68982.39  8.26e+06   8347.94   \n",
       "50                                4.17e+05    66527.33  8.26e+06   8051.76   \n",
       "55                                4.62e+05    61961.88  8.26e+06   7497.22   \n",
       "60                                5.14e+05    61586.57  8.26e+06   7453.08   \n",
       "65                                5.71e+05    63848.47  8.26e+06   7727.55   \n",
       "70                                6.35e+05    63086.05  8.26e+06   7634.36   \n",
       "75                                7.14e+05    64941.00  8.26e+06   7858.83   \n",
       "80                                8.07e+05    61990.11  8.26e+06   7501.97   \n",
       "85                                9.29e+05    57607.53  8.26e+06   6971.23   \n",
       "90                                1.10e+06    55297.38  8.26e+06   6692.28   \n",
       "95                                1.39e+06    46140.94  8.26e+06   5583.46   \n",
       "100                               2.75e+06   -23461.70  8.26e+06  -2839.27   \n",
       "\n",
       "                         afti_chg_pct  \n",
       "aftertax_income_ventile                \n",
       "5                            2.24e+00  \n",
       "10                           6.75e-01  \n",
       "15                           4.84e-01  \n",
       "20                           3.57e-01  \n",
       "25                           2.82e-01  \n",
       "30                           2.32e-01  \n",
       "35                           2.12e-01  \n",
       "40                           2.00e-01  \n",
       "45                           1.83e-01  \n",
       "50                           1.60e-01  \n",
       "55                           1.34e-01  \n",
       "60                           1.20e-01  \n",
       "65                           1.12e-01  \n",
       "70                           9.93e-02  \n",
       "75                           9.10e-02  \n",
       "80                           7.68e-02  \n",
       "85                           6.20e-02  \n",
       "90                           5.01e-02  \n",
       "95                           3.32e-02  \n",
       "100                         -8.54e-03  "
      ]
     },
     "execution_count": 37,
     "metadata": {},
     "output_type": "execute_result"
    }
   ],
   "source": [
    "ventile = base.groupby('aftertax_income_ventile')['aftertax_income_m', 'afti_chg_m', 's006'].sum()\n",
    "ventile['afti_chg'] = 1e6 * ventile.afti_chg_m / ventile.s006\n",
    "ventile['afti_chg_pct'] = ventile.afti_chg_m / ventile.aftertax_income_m\n",
    "ventile.drop(0, inplace=True)\n",
    "ventile"
   ]
  },
  {
   "cell_type": "code",
   "execution_count": null,
   "metadata": {},
   "outputs": [],
   "source": [
    "ax = ventile.afti_chg_pct.plot()\n",
    "ax.yaxis.set_major_formatter(mpl.ticker.FuncFormatter(\n",
    "        lambda y, _: '{:.0%}'.format(y)))\n",
    "plt.show()"
   ]
  },
  {
   "cell_type": "code",
   "execution_count": null,
   "metadata": {},
   "outputs": [],
   "source": [
    "ventile.afti_chg.plot()\n",
    "plt.show()"
   ]
  },
  {
   "cell_type": "markdown",
   "metadata": {},
   "source": [
    "### Poverty"
   ]
  },
  {
   "cell_type": "code",
   "execution_count": null,
   "metadata": {},
   "outputs": [],
   "source": [
    "base['fpl'] = tch.fpl(base.XTOT)\n",
    "base['fpl_base_m'] = base.XTOT_m * (base.aftertax_income < base.fpl)\n",
    "base['fpl_yang_m'] = base.XTOT_m * (base.afti_yang < base.fpl)"
   ]
  },
  {
   "cell_type": "code",
   "execution_count": null,
   "metadata": {},
   "outputs": [],
   "source": [
    "base.fpl_base_m.sum() / base.XTOT_m.sum()"
   ]
  },
  {
   "cell_type": "code",
   "execution_count": null,
   "metadata": {},
   "outputs": [],
   "source": [
    "base.fpl_yang_m.sum() / base.XTOT_m.sum()"
   ]
  },
  {
   "cell_type": "code",
   "execution_count": null,
   "metadata": {},
   "outputs": [],
   "source": [
    "base[base.fpl_base_m < base.fpl_yang_m].adults.describe()"
   ]
  }
 ],
 "metadata": {
  "kernelspec": {
   "display_name": "Python 3",
   "language": "python",
   "name": "python3"
  },
  "language_info": {
   "codemirror_mode": {
    "name": "ipython",
    "version": 3
   },
   "file_extension": ".py",
   "mimetype": "text/x-python",
   "name": "python",
   "nbconvert_exporter": "python",
   "pygments_lexer": "ipython3",
   "version": "3.6.6"
  },
  "toc": {
   "base_numbering": 1,
   "nav_menu": {},
   "number_sections": true,
   "sideBar": true,
   "skip_h1_title": false,
   "title_cell": "Table of Contents",
   "title_sidebar": "Contents",
   "toc_cell": false,
   "toc_position": {},
   "toc_section_display": true,
   "toc_window_display": false
  }
 },
 "nbformat": 4,
 "nbformat_minor": 2
}
