{
 "cells": [
  {
   "cell_type": "markdown",
   "metadata": {},
   "source": [
    "# Andrew Yang's Freedom Dividend\n",
    "\n",
    "Estimate the effect of Andrew Yang's [Freedom Dividend](https://www.yang2020.com/policies/the-freedom-dividend/) of $12,000 per year per adult over age 18, funded by a 10 percent [value-added tax](https://www.yang2020.com/policies/value-added-tax/) and reducing benefits by up to the UBI amount for each tax unit.\n",
    "\n",
    "Assumptions:\n",
    "* Adults are 18+ not 19+, for data availability.\n",
    "* Benefits include Social Security, SNAP, WIC, SSI, TANF, WIC, housing benefits, and \"other benefits\" included in C-TAM. It does not include Medicare, Medicaid, or veteran's benefits.\n",
    "* VAT incidence is proportional to [Tax Policy Center's estimate](https://www.taxpolicycenter.org/briefing-book/who-would-bear-burden-vat) of a 5 percent VAT's effect as of 2015. These are scaled linearly to match Yang's estimate that his VAT would raise $800 billion per year.\n",
    "* VAT incidence is treated as an income tax; per TPC:\n",
    ">Conceptually, the tax can either raise the total price (inclusive of the sales tax) paid by consumers or reduce the amount of business revenue available to compensate workers and investors. Theory and evidence suggest that the VAT is passed along to consumers via higher prices. Either way, the decline in real household income is the same regardless of whether prices rise (holding nominal incomes constant) or whether nominal incomes fall (holding the price level constant).\n",
    "\n",
    "*Data: CPS  |  Tax year: 2019  |  Type: Static  |  Author: Max Ghenis*"
   ]
  },
  {
   "cell_type": "markdown",
   "metadata": {},
   "source": [
    "## Setup\n",
    "\n",
    "### Imports"
   ]
  },
  {
   "cell_type": "code",
   "execution_count": 1,
   "metadata": {},
   "outputs": [],
   "source": [
    "import taxcalc as tc\n",
    "import taxcalc_helpers as tch\n",
    "import pandas as pd\n",
    "import numpy as np\n",
    "import matplotlib as mpl\n",
    "import matplotlib.pyplot as plt\n",
    "import seaborn as sns"
   ]
  },
  {
   "cell_type": "code",
   "execution_count": 2,
   "metadata": {},
   "outputs": [
    {
     "data": {
      "text/plain": [
       "'1.0.1'"
      ]
     },
     "execution_count": 2,
     "metadata": {},
     "output_type": "execute_result"
    }
   ],
   "source": [
    "tc.__version__"
   ]
  },
  {
   "cell_type": "markdown",
   "metadata": {},
   "source": [
    "### Settings"
   ]
  },
  {
   "cell_type": "code",
   "execution_count": 3,
   "metadata": {},
   "outputs": [],
   "source": [
    "sns.set_style('white')\n",
    "DPI = 200\n",
    "mpl.rc('savefig', dpi=DPI)\n",
    "mpl.rcParams['figure.dpi'] = DPI\n",
    "mpl.rcParams['figure.figsize'] = 6.4, 4.8  # Default."
   ]
  },
  {
   "cell_type": "code",
   "execution_count": 4,
   "metadata": {},
   "outputs": [],
   "source": [
    "mpl.rcParams['font.sans-serif'] = 'Roboto'\n",
    "mpl.rcParams['font.family'] = 'sans-serif'\n",
    "\n",
    "# Set title text color to dark gray (https://material.io/color) not black.\n",
    "TITLE_COLOR = '#212121'\n",
    "mpl.rcParams['text.color'] = TITLE_COLOR\n",
    "\n",
    "# Axis titles and tick marks are medium gray.\n",
    "AXIS_COLOR = '#757575'\n",
    "mpl.rcParams['axes.labelcolor'] = AXIS_COLOR\n",
    "mpl.rcParams['xtick.color'] = AXIS_COLOR\n",
    "mpl.rcParams['ytick.color'] = AXIS_COLOR\n",
    "\n",
    "# Use Seaborn's default color palette.\n",
    "# https://stackoverflow.com/q/48958426/1840471 for reproducibility.\n",
    "sns.set_palette(sns.color_palette())"
   ]
  },
  {
   "cell_type": "code",
   "execution_count": 5,
   "metadata": {},
   "outputs": [],
   "source": [
    "# Show one decimal in tables.\n",
    "pd.set_option('precision', 2)"
   ]
  },
  {
   "cell_type": "markdown",
   "metadata": {},
   "source": [
    "## Data"
   ]
  },
  {
   "cell_type": "code",
   "execution_count": 155,
   "metadata": {},
   "outputs": [],
   "source": [
    "recs = tc.Records.cps_constructor()"
   ]
  },
  {
   "cell_type": "code",
   "execution_count": 156,
   "metadata": {},
   "outputs": [],
   "source": [
    "BENS = ['other_ben', 'snap_ben', 'ssi_ben', 'tanf_ben', 'wic_ben',\n",
    "        'housing_ben',\n",
    "        'e02400'  # OASDI.\n",
    "       ]"
   ]
  },
  {
   "cell_type": "code",
   "execution_count": 157,
   "metadata": {},
   "outputs": [],
   "source": [
    "base = tch.calc_df(records=recs, year=2019, \n",
    "                   group_vars=['XTOT', 'nu18'] + BENS,\n",
    "                   group_n65=True,\n",
    "                   metric_vars=['aftertax_income', 'XTOT'])\n",
    "tch.add_weighted_quantiles(base, 'aftertax_income')"
   ]
  },
  {
   "cell_type": "markdown",
   "metadata": {},
   "source": [
    "### Calculations"
   ]
  },
  {
   "cell_type": "code",
   "execution_count": 158,
   "metadata": {},
   "outputs": [],
   "source": [
    "UBI = 12000\n",
    "base['bens'] = base[BENS].sum(axis=1)\n",
    "base['adults'] = base.XTOT - base.nu18\n",
    "base['ubi_max'] = base.adults * UBI\n",
    "base['ubi'] = np.where(base.ubi_max > base.bens, base.ubi_max, 0)\n",
    "base['bens_yang'] = np.where(base.ubi > 0, base.bens, 0)"
   ]
  },
  {
   "cell_type": "markdown",
   "metadata": {},
   "source": [
    "Weight."
   ]
  },
  {
   "cell_type": "code",
   "execution_count": 159,
   "metadata": {},
   "outputs": [],
   "source": [
    "base['ubi_m'] = base.ubi * base.s006 / 1e6\n",
    "base['ubi_max_m'] = base.ubi_max * base.s006 / 1e6\n",
    "base['bens_m'] = base.bens * base.s006 / 1e6\n",
    "base['bens_yang_m'] = base.bens_yang * base.s006 / 1e6"
   ]
  },
  {
   "cell_type": "code",
   "execution_count": 160,
   "metadata": {},
   "outputs": [
    {
     "data": {
      "text/plain": [
       "2272396.1144399997"
      ]
     },
     "execution_count": 160,
     "metadata": {},
     "output_type": "execute_result"
    }
   ],
   "source": [
    "base.ubi_m.sum()"
   ]
  },
  {
   "cell_type": "code",
   "execution_count": 161,
   "metadata": {},
   "outputs": [
    {
     "data": {
      "text/plain": [
       "2970909.8827200015"
      ]
     },
     "execution_count": 161,
     "metadata": {},
     "output_type": "execute_result"
    }
   ],
   "source": [
    "base.ubi_max_m.sum()"
   ]
  },
  {
   "cell_type": "code",
   "execution_count": 162,
   "metadata": {},
   "outputs": [
    {
     "data": {
      "text/plain": [
       "698513.7682800018"
      ]
     },
     "execution_count": 162,
     "metadata": {},
     "output_type": "execute_result"
    }
   ],
   "source": [
    "base.ubi_max_m.sum() - base.ubi_m.sum()"
   ]
  },
  {
   "cell_type": "code",
   "execution_count": 163,
   "metadata": {},
   "outputs": [
    {
     "data": {
      "text/plain": [
       "1552832.407484551"
      ]
     },
     "execution_count": 163,
     "metadata": {},
     "output_type": "execute_result"
    }
   ],
   "source": [
    "base.bens_m.sum()"
   ]
  },
  {
   "cell_type": "code",
   "execution_count": 164,
   "metadata": {},
   "outputs": [
    {
     "data": {
      "text/plain": [
       "363953.3765214061"
      ]
     },
     "execution_count": 164,
     "metadata": {},
     "output_type": "execute_result"
    }
   ],
   "source": [
    "base.bens_yang_m.sum()"
   ]
  },
  {
   "cell_type": "code",
   "execution_count": 165,
   "metadata": {},
   "outputs": [
    {
     "data": {
      "text/plain": [
       "288.04924511373207"
      ]
     },
     "execution_count": 165,
     "metadata": {},
     "output_type": "execute_result"
    }
   ],
   "source": [
    "tch.weighted_sum(base, 'other_ben') / 1e9"
   ]
  },
  {
   "cell_type": "code",
   "execution_count": 166,
   "metadata": {},
   "outputs": [
    {
     "data": {
      "text/html": [
       "<div>\n",
       "<style scoped>\n",
       "    .dataframe tbody tr th:only-of-type {\n",
       "        vertical-align: middle;\n",
       "    }\n",
       "\n",
       "    .dataframe tbody tr th {\n",
       "        vertical-align: top;\n",
       "    }\n",
       "\n",
       "    .dataframe thead th {\n",
       "        text-align: right;\n",
       "    }\n",
       "</style>\n",
       "<table border=\"1\" class=\"dataframe\">\n",
       "  <thead>\n",
       "    <tr style=\"text-align: right;\">\n",
       "      <th></th>\n",
       "      <th>XTOT</th>\n",
       "      <th>adults</th>\n",
       "      <th>ubi_max</th>\n",
       "      <th>ubi</th>\n",
       "      <th>bens</th>\n",
       "      <th>bens_yang</th>\n",
       "      <th>other_ben</th>\n",
       "      <th>snap_ben</th>\n",
       "      <th>ssi_ben</th>\n",
       "      <th>tanf_ben</th>\n",
       "      <th>wic_ben</th>\n",
       "      <th>housing_ben</th>\n",
       "      <th>e02400</th>\n",
       "    </tr>\n",
       "    <tr>\n",
       "      <th>RECID</th>\n",
       "      <th></th>\n",
       "      <th></th>\n",
       "      <th></th>\n",
       "      <th></th>\n",
       "      <th></th>\n",
       "      <th></th>\n",
       "      <th></th>\n",
       "      <th></th>\n",
       "      <th></th>\n",
       "      <th></th>\n",
       "      <th></th>\n",
       "      <th></th>\n",
       "      <th></th>\n",
       "    </tr>\n",
       "  </thead>\n",
       "  <tbody>\n",
       "    <tr>\n",
       "      <th>219778</th>\n",
       "      <td>10.0</td>\n",
       "      <td>1.0</td>\n",
       "      <td>12000.0</td>\n",
       "      <td>0.0</td>\n",
       "      <td>57814.93</td>\n",
       "      <td>0.0</td>\n",
       "      <td>41628.07</td>\n",
       "      <td>12699.85</td>\n",
       "      <td>0.0</td>\n",
       "      <td>1972.68</td>\n",
       "      <td>1514.33</td>\n",
       "      <td>0.0</td>\n",
       "      <td>0.0</td>\n",
       "    </tr>\n",
       "  </tbody>\n",
       "</table>\n",
       "</div>"
      ],
      "text/plain": [
       "        XTOT  adults  ubi_max  ubi      bens  bens_yang  other_ben  snap_ben  \\\n",
       "RECID                                                                          \n",
       "219778  10.0     1.0  12000.0  0.0  57814.93        0.0   41628.07  12699.85   \n",
       "\n",
       "        ssi_ben  tanf_ben  wic_ben  housing_ben  e02400  \n",
       "RECID                                                    \n",
       "219778      0.0   1972.68  1514.33          0.0     0.0  "
      ]
     },
     "execution_count": 166,
     "metadata": {},
     "output_type": "execute_result"
    }
   ],
   "source": [
    "base[(base.ubi + base.e02400 == 0)].sample()[['XTOT', 'adults', 'ubi_max', 'ubi', 'bens', 'bens_yang'] + BENS]"
   ]
  },
  {
   "cell_type": "code",
   "execution_count": 167,
   "metadata": {},
   "outputs": [
    {
     "data": {
      "text/html": [
       "<div>\n",
       "<style scoped>\n",
       "    .dataframe tbody tr th:only-of-type {\n",
       "        vertical-align: middle;\n",
       "    }\n",
       "\n",
       "    .dataframe tbody tr th {\n",
       "        vertical-align: top;\n",
       "    }\n",
       "\n",
       "    .dataframe thead th {\n",
       "        text-align: right;\n",
       "    }\n",
       "</style>\n",
       "<table border=\"1\" class=\"dataframe\">\n",
       "  <thead>\n",
       "    <tr style=\"text-align: right;\">\n",
       "      <th></th>\n",
       "      <th>XTOT</th>\n",
       "      <th>adults</th>\n",
       "      <th>ubi_max</th>\n",
       "      <th>ubi</th>\n",
       "      <th>bens</th>\n",
       "      <th>bens_yang</th>\n",
       "      <th>other_ben</th>\n",
       "      <th>snap_ben</th>\n",
       "      <th>ssi_ben</th>\n",
       "      <th>tanf_ben</th>\n",
       "      <th>wic_ben</th>\n",
       "      <th>housing_ben</th>\n",
       "      <th>e02400</th>\n",
       "    </tr>\n",
       "    <tr>\n",
       "      <th>RECID</th>\n",
       "      <th></th>\n",
       "      <th></th>\n",
       "      <th></th>\n",
       "      <th></th>\n",
       "      <th></th>\n",
       "      <th></th>\n",
       "      <th></th>\n",
       "      <th></th>\n",
       "      <th></th>\n",
       "      <th></th>\n",
       "      <th></th>\n",
       "      <th></th>\n",
       "      <th></th>\n",
       "    </tr>\n",
       "  </thead>\n",
       "  <tbody>\n",
       "    <tr>\n",
       "      <th>160173</th>\n",
       "      <td>1.0</td>\n",
       "      <td>0.0</td>\n",
       "      <td>0.0</td>\n",
       "      <td>0.0</td>\n",
       "      <td>3906.54</td>\n",
       "      <td>0.0</td>\n",
       "      <td>3906.54</td>\n",
       "      <td>0.0</td>\n",
       "      <td>0.0</td>\n",
       "      <td>0.0</td>\n",
       "      <td>0.0</td>\n",
       "      <td>0.0</td>\n",
       "      <td>0.0</td>\n",
       "    </tr>\n",
       "  </tbody>\n",
       "</table>\n",
       "</div>"
      ],
      "text/plain": [
       "        XTOT  adults  ubi_max  ubi     bens  bens_yang  other_ben  snap_ben  \\\n",
       "RECID                                                                         \n",
       "160173   1.0     0.0      0.0  0.0  3906.54        0.0    3906.54       0.0   \n",
       "\n",
       "        ssi_ben  tanf_ben  wic_ben  housing_ben  e02400  \n",
       "RECID                                                    \n",
       "160173      0.0       0.0      0.0          0.0     0.0  "
      ]
     },
     "execution_count": 167,
     "metadata": {},
     "output_type": "execute_result"
    }
   ],
   "source": [
    "base[base.ubi == 0].sample()[['XTOT', 'adults', 'ubi_max', 'ubi', 'bens', 'bens_yang'] + BENS]"
   ]
  },
  {
   "cell_type": "markdown",
   "metadata": {},
   "source": [
    "### VAT\n",
    "\n",
    "Start with equal incidence, then re-weight according to [TPC paper](https://www.taxpolicycenter.org/briefing-book/who-would-bear-burden-vat)."
   ]
  },
  {
   "cell_type": "code",
   "execution_count": 168,
   "metadata": {},
   "outputs": [],
   "source": [
    "TOTAL_VAT = 800e9\n",
    "VAT_INCIDENCE = pd.DataFrame({\n",
    "    'income_percentile_floor': [-1, 20, 40, 60, 80, 90, 95, 99, 99.9],\n",
    "    'rate': [3.9, 3.6, 3.6, 3.6, 3.4, 3.2, 2.8, 2.5, 2.5]\n",
    "})\n",
    "VAT_INCIDENCE.rate /= 100"
   ]
  },
  {
   "cell_type": "code",
   "execution_count": 169,
   "metadata": {},
   "outputs": [],
   "source": [
    "base['afti_yang_prevat'] = base.aftertax_income + base.ubi\n",
    "base['afti_yang_prevat_noneg'] = base.afti_yang_prevat.clip_lower(0)"
   ]
  },
  {
   "cell_type": "code",
   "execution_count": 170,
   "metadata": {},
   "outputs": [
    {
     "data": {
      "text/plain": [
       "16467.878021415047"
      ]
     },
     "execution_count": 170,
     "metadata": {},
     "output_type": "execute_result"
    }
   ],
   "source": [
    "base.afti_yang_prevat.median() - base.aftertax_income.median()"
   ]
  },
  {
   "cell_type": "code",
   "execution_count": 171,
   "metadata": {},
   "outputs": [],
   "source": [
    "tch.add_weighted_quantiles(base, 'afti_yang_prevat_noneg')"
   ]
  },
  {
   "cell_type": "code",
   "execution_count": 172,
   "metadata": {},
   "outputs": [],
   "source": [
    "base['vat_rate_prescale'] = VAT_INCIDENCE.rate[\n",
    "    pd.cut(base.afti_yang_prevat_noneg_percentile_exact,\n",
    "           bins=VAT_INCIDENCE.income_percentile_floor.tolist() + [100],\n",
    "           labels=False)].values"
   ]
  },
  {
   "cell_type": "code",
   "execution_count": 173,
   "metadata": {},
   "outputs": [],
   "source": [
    "base['vat_base'] = base.afti_yang_prevat_noneg * base.vat_rate_prescale"
   ]
  },
  {
   "cell_type": "code",
   "execution_count": 174,
   "metadata": {},
   "outputs": [
    {
     "data": {
      "text/plain": [
       "1.6243280377912117"
      ]
     },
     "execution_count": 174,
     "metadata": {},
     "output_type": "execute_result"
    }
   ],
   "source": [
    "vat_mult = TOTAL_VAT / tch.weighted_sum(base, 'vat_base')\n",
    "vat_mult"
   ]
  },
  {
   "cell_type": "code",
   "execution_count": 175,
   "metadata": {},
   "outputs": [],
   "source": [
    "base['vat'] = base.vat_base * vat_mult\n",
    "base['vat_m'] = tch.weight(base, 'vat') / 1e6\n",
    "base['afti_yang_prevat_noneg_m'] = tch.weight(base, 'afti_yang_prevat_noneg') / 1e6"
   ]
  },
  {
   "cell_type": "code",
   "execution_count": 176,
   "metadata": {},
   "outputs": [],
   "source": [
    "base['afti_yang'] = base.afti_yang_prevat - base.vat"
   ]
  },
  {
   "cell_type": "code",
   "execution_count": 177,
   "metadata": {},
   "outputs": [
    {
     "data": {
      "text/plain": [
       "0.4510243607360635"
      ]
     },
     "execution_count": 177,
     "metadata": {},
     "output_type": "execute_result"
    }
   ],
   "source": [
    "tch.gini(base.aftertax_income, base.s006)"
   ]
  },
  {
   "cell_type": "code",
   "execution_count": 178,
   "metadata": {},
   "outputs": [
    {
     "data": {
      "text/plain": [
       "0.40213641704913383"
      ]
     },
     "execution_count": 178,
     "metadata": {},
     "output_type": "execute_result"
    }
   ],
   "source": [
    "tch.gini(base.afti_yang, base.s006)"
   ]
  },
  {
   "cell_type": "code",
   "execution_count": 179,
   "metadata": {},
   "outputs": [
    {
     "data": {
      "text/plain": [
       "count    4.56e+05\n",
       "mean     1.43e+05\n",
       "std      1.53e+06\n",
       "min     -3.11e+06\n",
       "25%      4.99e+04\n",
       "50%      9.43e+04\n",
       "75%      1.73e+05\n",
       "max      1.02e+09\n",
       "Name: afti_yang, dtype: float64"
      ]
     },
     "execution_count": 179,
     "metadata": {},
     "output_type": "execute_result"
    }
   ],
   "source": [
    "base.afti_yang.describe()"
   ]
  },
  {
   "cell_type": "code",
   "execution_count": 180,
   "metadata": {},
   "outputs": [],
   "source": [
    "base['afti_chg'] = base.afti_yang - base.aftertax_income\n",
    "base['afti_chg_m'] = base.afti_chg * base.s006 / 1e6"
   ]
  },
  {
   "cell_type": "code",
   "execution_count": 181,
   "metadata": {},
   "outputs": [
    {
     "data": {
      "text/plain": [
       "'$1.47 billion shortfall'"
      ]
     },
     "execution_count": 181,
     "metadata": {},
     "output_type": "execute_result"
    }
   ],
   "source": [
    "'${} billion shortfall'.format((base.afti_chg_m.sum() / 1e6).round(2))"
   ]
  },
  {
   "cell_type": "markdown",
   "metadata": {},
   "source": [
    "### Revenue-neutral"
   ]
  },
  {
   "cell_type": "code",
   "execution_count": 182,
   "metadata": {},
   "outputs": [],
   "source": [
    "def deficit_by_ubi(ubi=UBI, data=base):\n",
    "    base = data.copy(deep=True)\n",
    "    base['bens'] = base[BENS].sum(axis=1)\n",
    "    base['adults'] = base.XTOT - base.nu18\n",
    "    base['ubi_max'] = base.adults * ubi\n",
    "    base['ubi'] = np.where(base.ubi_max > base.bens, base.ubi_max, 0)\n",
    "    base['bens_yang'] = np.where(base.ubi > 0, base.bens, 0)\n",
    "    base['ubi_m'] = base.ubi * base.s006 / 1e6\n",
    "    base['ubi_max_m'] = base.ubi_max * base.s006 / 1e6\n",
    "    base['bens_m'] = base.bens * base.s006 / 1e6\n",
    "    base['bens_yang_m'] = base.bens_yang * base.s006 / 1e6\n",
    "    base['afti_yang_prevat'] = base.aftertax_income + base.ubi\n",
    "    base['afti_yang_prevat_noneg'] = base.afti_yang_prevat.clip_lower(0)\n",
    "    tch.add_weighted_quantiles(base, 'afti_yang_prevat_noneg')\n",
    "    base['vat_rate_prescale'] = VAT_INCIDENCE.rate[\n",
    "        pd.cut(base.afti_yang_prevat_noneg_percentile_exact,\n",
    "               bins=VAT_INCIDENCE.income_percentile_floor.tolist() + [100],\n",
    "               labels=False)].values\n",
    "    base['vat_base'] = base.afti_yang_prevat_noneg * base.vat_rate_prescale\n",
    "    vat_mult = TOTAL_VAT / tch.weighted_sum(base, 'vat_base')\n",
    "    base['vat'] = base.vat_base * vat_mult\n",
    "    base['vat_m'] = tch.weight(base, 'vat') / 1e6\n",
    "    base['afti_yang_prevat_noneg_m'] = tch.weight(base, 'afti_yang_prevat_noneg') / 1e6\n",
    "    base['afti_yang'] = base.afti_yang_prevat - base.vat\n",
    "    base['afti_chg'] = base.afti_yang - base.aftertax_income\n",
    "    return tch.weighted_sum(base, 'afti_chg')"
   ]
  },
  {
   "cell_type": "code",
   "execution_count": 189,
   "metadata": {},
   "outputs": [
    {
     "data": {
      "text/plain": [
       "array([ 0, 10, 20, 30, 40, 50, 60, 70, 80, 90])"
      ]
     },
     "execution_count": 189,
     "metadata": {},
     "output_type": "execute_result"
    }
   ],
   "source": [
    "np.arange(0, 100, 10)"
   ]
  },
  {
   "cell_type": "code",
   "execution_count": 191,
   "metadata": {},
   "outputs": [],
   "source": [
    "deficits_l = []\n",
    "for i in np.arange(0, UBI+1, 100):\n",
    "    tmp = pd.DataFrame({'deficit': deficit_by_ubi(ubi=i)},\n",
    "                       index=[i])\n",
    "    deficits_l.append(tmp)\n",
    "deficits = pd.concat(deficits_l)"
   ]
  },
  {
   "cell_type": "code",
   "execution_count": 197,
   "metadata": {},
   "outputs": [
    {
     "data": {
      "text/html": [
       "<div>\n",
       "<style scoped>\n",
       "    .dataframe tbody tr th:only-of-type {\n",
       "        vertical-align: middle;\n",
       "    }\n",
       "\n",
       "    .dataframe tbody tr th {\n",
       "        vertical-align: top;\n",
       "    }\n",
       "\n",
       "    .dataframe thead th {\n",
       "        text-align: right;\n",
       "    }\n",
       "</style>\n",
       "<table border=\"1\" class=\"dataframe\">\n",
       "  <thead>\n",
       "    <tr style=\"text-align: right;\">\n",
       "      <th></th>\n",
       "      <th>deficit</th>\n",
       "      <th>abs_deficit</th>\n",
       "    </tr>\n",
       "  </thead>\n",
       "  <tbody>\n",
       "    <tr>\n",
       "      <th>5100</th>\n",
       "      <td>-6.04e+09</td>\n",
       "      <td>6.04e+09</td>\n",
       "    </tr>\n",
       "    <tr>\n",
       "      <th>5200</th>\n",
       "      <td>1.20e+10</td>\n",
       "      <td>1.20e+10</td>\n",
       "    </tr>\n",
       "    <tr>\n",
       "      <th>5000</th>\n",
       "      <td>-2.43e+10</td>\n",
       "      <td>2.43e+10</td>\n",
       "    </tr>\n",
       "    <tr>\n",
       "      <th>5300</th>\n",
       "      <td>3.17e+10</td>\n",
       "      <td>3.17e+10</td>\n",
       "    </tr>\n",
       "    <tr>\n",
       "      <th>4900</th>\n",
       "      <td>-4.24e+10</td>\n",
       "      <td>4.24e+10</td>\n",
       "    </tr>\n",
       "    <tr>\n",
       "      <th>5400</th>\n",
       "      <td>5.05e+10</td>\n",
       "      <td>5.05e+10</td>\n",
       "    </tr>\n",
       "    <tr>\n",
       "      <th>4800</th>\n",
       "      <td>-6.02e+10</td>\n",
       "      <td>6.02e+10</td>\n",
       "    </tr>\n",
       "    <tr>\n",
       "      <th>5500</th>\n",
       "      <td>6.90e+10</td>\n",
       "      <td>6.90e+10</td>\n",
       "    </tr>\n",
       "    <tr>\n",
       "      <th>4700</th>\n",
       "      <td>-7.79e+10</td>\n",
       "      <td>7.79e+10</td>\n",
       "    </tr>\n",
       "    <tr>\n",
       "      <th>5600</th>\n",
       "      <td>8.71e+10</td>\n",
       "      <td>8.71e+10</td>\n",
       "    </tr>\n",
       "    <tr>\n",
       "      <th>4600</th>\n",
       "      <td>-9.55e+10</td>\n",
       "      <td>9.55e+10</td>\n",
       "    </tr>\n",
       "    <tr>\n",
       "      <th>5700</th>\n",
       "      <td>1.05e+11</td>\n",
       "      <td>1.05e+11</td>\n",
       "    </tr>\n",
       "    <tr>\n",
       "      <th>4500</th>\n",
       "      <td>-1.13e+11</td>\n",
       "      <td>1.13e+11</td>\n",
       "    </tr>\n",
       "    <tr>\n",
       "      <th>5800</th>\n",
       "      <td>1.23e+11</td>\n",
       "      <td>1.23e+11</td>\n",
       "    </tr>\n",
       "    <tr>\n",
       "      <th>4400</th>\n",
       "      <td>-1.31e+11</td>\n",
       "      <td>1.31e+11</td>\n",
       "    </tr>\n",
       "    <tr>\n",
       "      <th>4300</th>\n",
       "      <td>-1.48e+11</td>\n",
       "      <td>1.48e+11</td>\n",
       "    </tr>\n",
       "    <tr>\n",
       "      <th>5900</th>\n",
       "      <td>1.48e+11</td>\n",
       "      <td>1.48e+11</td>\n",
       "    </tr>\n",
       "    <tr>\n",
       "      <th>4200</th>\n",
       "      <td>-1.65e+11</td>\n",
       "      <td>1.65e+11</td>\n",
       "    </tr>\n",
       "    <tr>\n",
       "      <th>6000</th>\n",
       "      <td>1.67e+11</td>\n",
       "      <td>1.67e+11</td>\n",
       "    </tr>\n",
       "    <tr>\n",
       "      <th>4100</th>\n",
       "      <td>-1.82e+11</td>\n",
       "      <td>1.82e+11</td>\n",
       "    </tr>\n",
       "    <tr>\n",
       "      <th>6100</th>\n",
       "      <td>1.86e+11</td>\n",
       "      <td>1.86e+11</td>\n",
       "    </tr>\n",
       "    <tr>\n",
       "      <th>4000</th>\n",
       "      <td>-1.99e+11</td>\n",
       "      <td>1.99e+11</td>\n",
       "    </tr>\n",
       "    <tr>\n",
       "      <th>6200</th>\n",
       "      <td>2.05e+11</td>\n",
       "      <td>2.05e+11</td>\n",
       "    </tr>\n",
       "    <tr>\n",
       "      <th>6300</th>\n",
       "      <td>2.23e+11</td>\n",
       "      <td>2.23e+11</td>\n",
       "    </tr>\n",
       "    <tr>\n",
       "      <th>3900</th>\n",
       "      <td>-2.39e+11</td>\n",
       "      <td>2.39e+11</td>\n",
       "    </tr>\n",
       "    <tr>\n",
       "      <th>6400</th>\n",
       "      <td>2.41e+11</td>\n",
       "      <td>2.41e+11</td>\n",
       "    </tr>\n",
       "    <tr>\n",
       "      <th>3800</th>\n",
       "      <td>-2.55e+11</td>\n",
       "      <td>2.55e+11</td>\n",
       "    </tr>\n",
       "    <tr>\n",
       "      <th>6500</th>\n",
       "      <td>2.60e+11</td>\n",
       "      <td>2.60e+11</td>\n",
       "    </tr>\n",
       "    <tr>\n",
       "      <th>3700</th>\n",
       "      <td>-2.70e+11</td>\n",
       "      <td>2.70e+11</td>\n",
       "    </tr>\n",
       "    <tr>\n",
       "      <th>6600</th>\n",
       "      <td>2.79e+11</td>\n",
       "      <td>2.79e+11</td>\n",
       "    </tr>\n",
       "    <tr>\n",
       "      <th>...</th>\n",
       "      <td>...</td>\n",
       "      <td>...</td>\n",
       "    </tr>\n",
       "    <tr>\n",
       "      <th>9100</th>\n",
       "      <td>8.03e+11</td>\n",
       "      <td>8.03e+11</td>\n",
       "    </tr>\n",
       "    <tr>\n",
       "      <th>9200</th>\n",
       "      <td>8.23e+11</td>\n",
       "      <td>8.23e+11</td>\n",
       "    </tr>\n",
       "    <tr>\n",
       "      <th>9300</th>\n",
       "      <td>8.45e+11</td>\n",
       "      <td>8.45e+11</td>\n",
       "    </tr>\n",
       "    <tr>\n",
       "      <th>9400</th>\n",
       "      <td>8.68e+11</td>\n",
       "      <td>8.68e+11</td>\n",
       "    </tr>\n",
       "    <tr>\n",
       "      <th>9500</th>\n",
       "      <td>8.90e+11</td>\n",
       "      <td>8.90e+11</td>\n",
       "    </tr>\n",
       "    <tr>\n",
       "      <th>9600</th>\n",
       "      <td>9.11e+11</td>\n",
       "      <td>9.11e+11</td>\n",
       "    </tr>\n",
       "    <tr>\n",
       "      <th>9700</th>\n",
       "      <td>9.33e+11</td>\n",
       "      <td>9.33e+11</td>\n",
       "    </tr>\n",
       "    <tr>\n",
       "      <th>9800</th>\n",
       "      <td>9.57e+11</td>\n",
       "      <td>9.57e+11</td>\n",
       "    </tr>\n",
       "    <tr>\n",
       "      <th>9900</th>\n",
       "      <td>9.78e+11</td>\n",
       "      <td>9.78e+11</td>\n",
       "    </tr>\n",
       "    <tr>\n",
       "      <th>10000</th>\n",
       "      <td>1.00e+12</td>\n",
       "      <td>1.00e+12</td>\n",
       "    </tr>\n",
       "    <tr>\n",
       "      <th>10100</th>\n",
       "      <td>1.03e+12</td>\n",
       "      <td>1.03e+12</td>\n",
       "    </tr>\n",
       "    <tr>\n",
       "      <th>10200</th>\n",
       "      <td>1.05e+12</td>\n",
       "      <td>1.05e+12</td>\n",
       "    </tr>\n",
       "    <tr>\n",
       "      <th>10300</th>\n",
       "      <td>1.07e+12</td>\n",
       "      <td>1.07e+12</td>\n",
       "    </tr>\n",
       "    <tr>\n",
       "      <th>10400</th>\n",
       "      <td>1.09e+12</td>\n",
       "      <td>1.09e+12</td>\n",
       "    </tr>\n",
       "    <tr>\n",
       "      <th>10500</th>\n",
       "      <td>1.12e+12</td>\n",
       "      <td>1.12e+12</td>\n",
       "    </tr>\n",
       "    <tr>\n",
       "      <th>10600</th>\n",
       "      <td>1.14e+12</td>\n",
       "      <td>1.14e+12</td>\n",
       "    </tr>\n",
       "    <tr>\n",
       "      <th>10700</th>\n",
       "      <td>1.16e+12</td>\n",
       "      <td>1.16e+12</td>\n",
       "    </tr>\n",
       "    <tr>\n",
       "      <th>10800</th>\n",
       "      <td>1.19e+12</td>\n",
       "      <td>1.19e+12</td>\n",
       "    </tr>\n",
       "    <tr>\n",
       "      <th>10900</th>\n",
       "      <td>1.21e+12</td>\n",
       "      <td>1.21e+12</td>\n",
       "    </tr>\n",
       "    <tr>\n",
       "      <th>11000</th>\n",
       "      <td>1.23e+12</td>\n",
       "      <td>1.23e+12</td>\n",
       "    </tr>\n",
       "    <tr>\n",
       "      <th>11100</th>\n",
       "      <td>1.26e+12</td>\n",
       "      <td>1.26e+12</td>\n",
       "    </tr>\n",
       "    <tr>\n",
       "      <th>11200</th>\n",
       "      <td>1.28e+12</td>\n",
       "      <td>1.28e+12</td>\n",
       "    </tr>\n",
       "    <tr>\n",
       "      <th>11300</th>\n",
       "      <td>1.30e+12</td>\n",
       "      <td>1.30e+12</td>\n",
       "    </tr>\n",
       "    <tr>\n",
       "      <th>11400</th>\n",
       "      <td>1.33e+12</td>\n",
       "      <td>1.33e+12</td>\n",
       "    </tr>\n",
       "    <tr>\n",
       "      <th>11500</th>\n",
       "      <td>1.35e+12</td>\n",
       "      <td>1.35e+12</td>\n",
       "    </tr>\n",
       "    <tr>\n",
       "      <th>11600</th>\n",
       "      <td>1.37e+12</td>\n",
       "      <td>1.37e+12</td>\n",
       "    </tr>\n",
       "    <tr>\n",
       "      <th>11700</th>\n",
       "      <td>1.40e+12</td>\n",
       "      <td>1.40e+12</td>\n",
       "    </tr>\n",
       "    <tr>\n",
       "      <th>11800</th>\n",
       "      <td>1.43e+12</td>\n",
       "      <td>1.43e+12</td>\n",
       "    </tr>\n",
       "    <tr>\n",
       "      <th>11900</th>\n",
       "      <td>1.45e+12</td>\n",
       "      <td>1.45e+12</td>\n",
       "    </tr>\n",
       "    <tr>\n",
       "      <th>12000</th>\n",
       "      <td>1.47e+12</td>\n",
       "      <td>1.47e+12</td>\n",
       "    </tr>\n",
       "  </tbody>\n",
       "</table>\n",
       "<p>121 rows × 2 columns</p>\n",
       "</div>"
      ],
      "text/plain": [
       "        deficit  abs_deficit\n",
       "5100  -6.04e+09     6.04e+09\n",
       "5200   1.20e+10     1.20e+10\n",
       "5000  -2.43e+10     2.43e+10\n",
       "5300   3.17e+10     3.17e+10\n",
       "4900  -4.24e+10     4.24e+10\n",
       "5400   5.05e+10     5.05e+10\n",
       "4800  -6.02e+10     6.02e+10\n",
       "5500   6.90e+10     6.90e+10\n",
       "4700  -7.79e+10     7.79e+10\n",
       "5600   8.71e+10     8.71e+10\n",
       "4600  -9.55e+10     9.55e+10\n",
       "5700   1.05e+11     1.05e+11\n",
       "4500  -1.13e+11     1.13e+11\n",
       "5800   1.23e+11     1.23e+11\n",
       "4400  -1.31e+11     1.31e+11\n",
       "4300  -1.48e+11     1.48e+11\n",
       "5900   1.48e+11     1.48e+11\n",
       "4200  -1.65e+11     1.65e+11\n",
       "6000   1.67e+11     1.67e+11\n",
       "4100  -1.82e+11     1.82e+11\n",
       "6100   1.86e+11     1.86e+11\n",
       "4000  -1.99e+11     1.99e+11\n",
       "6200   2.05e+11     2.05e+11\n",
       "6300   2.23e+11     2.23e+11\n",
       "3900  -2.39e+11     2.39e+11\n",
       "6400   2.41e+11     2.41e+11\n",
       "3800  -2.55e+11     2.55e+11\n",
       "6500   2.60e+11     2.60e+11\n",
       "3700  -2.70e+11     2.70e+11\n",
       "6600   2.79e+11     2.79e+11\n",
       "...         ...          ...\n",
       "9100   8.03e+11     8.03e+11\n",
       "9200   8.23e+11     8.23e+11\n",
       "9300   8.45e+11     8.45e+11\n",
       "9400   8.68e+11     8.68e+11\n",
       "9500   8.90e+11     8.90e+11\n",
       "9600   9.11e+11     9.11e+11\n",
       "9700   9.33e+11     9.33e+11\n",
       "9800   9.57e+11     9.57e+11\n",
       "9900   9.78e+11     9.78e+11\n",
       "10000  1.00e+12     1.00e+12\n",
       "10100  1.03e+12     1.03e+12\n",
       "10200  1.05e+12     1.05e+12\n",
       "10300  1.07e+12     1.07e+12\n",
       "10400  1.09e+12     1.09e+12\n",
       "10500  1.12e+12     1.12e+12\n",
       "10600  1.14e+12     1.14e+12\n",
       "10700  1.16e+12     1.16e+12\n",
       "10800  1.19e+12     1.19e+12\n",
       "10900  1.21e+12     1.21e+12\n",
       "11000  1.23e+12     1.23e+12\n",
       "11100  1.26e+12     1.26e+12\n",
       "11200  1.28e+12     1.28e+12\n",
       "11300  1.30e+12     1.30e+12\n",
       "11400  1.33e+12     1.33e+12\n",
       "11500  1.35e+12     1.35e+12\n",
       "11600  1.37e+12     1.37e+12\n",
       "11700  1.40e+12     1.40e+12\n",
       "11800  1.43e+12     1.43e+12\n",
       "11900  1.45e+12     1.45e+12\n",
       "12000  1.47e+12     1.47e+12\n",
       "\n",
       "[121 rows x 2 columns]"
      ]
     },
     "execution_count": 197,
     "metadata": {},
     "output_type": "execute_result"
    }
   ],
   "source": [
    "deficits['abs_deficit'] = np.abs(deficits.deficit)\n",
    "deficits.sort_values('abs_deficit')"
   ]
  },
  {
   "cell_type": "code",
   "execution_count": 199,
   "metadata": {},
   "outputs": [
    {
     "data": {
      "text/plain": [
       "<matplotlib.axes._subplots.AxesSubplot at 0x7f15459ad668>"
      ]
     },
     "execution_count": 199,
     "metadata": {},
     "output_type": "execute_result"
    },
    {
     "data": {
      "image/png": "[encoded data removed]",
      "text/plain": [
       "<Figure size 1280x960 with 1 Axes>"
      ]
     },
     "metadata": {},
     "output_type": "display_data"
    }
   ],
   "source": [
    "deficits.deficit.plot()"
   ]
  },
  {
   "cell_type": "code",
   "execution_count": 198,
   "metadata": {},
   "outputs": [
    {
     "data": {
      "text/plain": [
       "425.0"
      ]
     },
     "execution_count": 198,
     "metadata": {},
     "output_type": "execute_result"
    }
   ],
   "source": [
    "5100/12"
   ]
  },
  {
   "cell_type": "markdown",
   "metadata": {},
   "source": [
    "## Analysis"
   ]
  },
  {
   "cell_type": "markdown",
   "metadata": {},
   "source": [
    "### Benefit reductions"
   ]
  },
  {
   "cell_type": "code",
   "execution_count": 123,
   "metadata": {},
   "outputs": [
    {
     "data": {
      "text/html": [
       "<div>\n",
       "<style scoped>\n",
       "    .dataframe tbody tr th:only-of-type {\n",
       "        vertical-align: middle;\n",
       "    }\n",
       "\n",
       "    .dataframe tbody tr th {\n",
       "        vertical-align: top;\n",
       "    }\n",
       "\n",
       "    .dataframe thead th {\n",
       "        text-align: right;\n",
       "    }\n",
       "</style>\n",
       "<table border=\"1\" class=\"dataframe\">\n",
       "  <thead>\n",
       "    <tr style=\"text-align: right;\">\n",
       "      <th></th>\n",
       "      <th>base</th>\n",
       "      <th>yang</th>\n",
       "      <th>reduction</th>\n",
       "      <th>pct_reduction</th>\n",
       "    </tr>\n",
       "  </thead>\n",
       "  <tbody>\n",
       "    <tr>\n",
       "      <th>other_ben</th>\n",
       "      <td>2.88e+11</td>\n",
       "      <td>1.32e+11</td>\n",
       "      <td>1.56e+11</td>\n",
       "      <td>0.54</td>\n",
       "    </tr>\n",
       "    <tr>\n",
       "      <th>snap_ben</th>\n",
       "      <td>8.76e+10</td>\n",
       "      <td>3.52e+10</td>\n",
       "      <td>5.24e+10</td>\n",
       "      <td>0.60</td>\n",
       "    </tr>\n",
       "    <tr>\n",
       "      <th>ssi_ben</th>\n",
       "      <td>5.23e+10</td>\n",
       "      <td>5.28e+09</td>\n",
       "      <td>4.70e+10</td>\n",
       "      <td>0.90</td>\n",
       "    </tr>\n",
       "    <tr>\n",
       "      <th>tanf_ben</th>\n",
       "      <td>2.99e+10</td>\n",
       "      <td>1.13e+10</td>\n",
       "      <td>1.86e+10</td>\n",
       "      <td>0.62</td>\n",
       "    </tr>\n",
       "    <tr>\n",
       "      <th>wic_ben</th>\n",
       "      <td>3.71e+09</td>\n",
       "      <td>1.92e+09</td>\n",
       "      <td>1.79e+09</td>\n",
       "      <td>0.48</td>\n",
       "    </tr>\n",
       "    <tr>\n",
       "      <th>housing_ben</th>\n",
       "      <td>3.68e+10</td>\n",
       "      <td>4.24e+09</td>\n",
       "      <td>3.26e+10</td>\n",
       "      <td>0.88</td>\n",
       "    </tr>\n",
       "    <tr>\n",
       "      <th>e02400</th>\n",
       "      <td>1.05e+12</td>\n",
       "      <td>1.74e+11</td>\n",
       "      <td>8.80e+11</td>\n",
       "      <td>0.84</td>\n",
       "    </tr>\n",
       "  </tbody>\n",
       "</table>\n",
       "</div>"
      ],
      "text/plain": [
       "                 base      yang  reduction  pct_reduction\n",
       "other_ben    2.88e+11  1.32e+11   1.56e+11           0.54\n",
       "snap_ben     8.76e+10  3.52e+10   5.24e+10           0.60\n",
       "ssi_ben      5.23e+10  5.28e+09   4.70e+10           0.90\n",
       "tanf_ben     2.99e+10  1.13e+10   1.86e+10           0.62\n",
       "wic_ben      3.71e+09  1.92e+09   1.79e+09           0.48\n",
       "housing_ben  3.68e+10  4.24e+09   3.26e+10           0.88\n",
       "e02400       1.05e+12  1.74e+11   8.80e+11           0.84"
      ]
     },
     "execution_count": 123,
     "metadata": {},
     "output_type": "execute_result"
    }
   ],
   "source": [
    "ben_reduction_l = []\n",
    "for i in BENS:\n",
    "    tmp = pd.DataFrame({\n",
    "        'base': [tch.weighted_sum(base, i)],\n",
    "        'yang': [tch.weighted_sum(base[base.ubi > 0], i)]\n",
    "    }, index=[i])\n",
    "    ben_reduction_l.append(tmp)\n",
    "ben_reduction = pd.concat(ben_reduction_l)\n",
    "ben_reduction['reduction'] = ben_reduction.base - ben_reduction.yang\n",
    "ben_reduction['pct_reduction'] = ben_reduction.reduction / ben_reduction.base\n",
    "ben_reduction"
   ]
  },
  {
   "cell_type": "code",
   "execution_count": 125,
   "metadata": {},
   "outputs": [
    {
     "data": {
      "image/png": "[encoded data removed]",
      "text/plain": [
       "<Figure size 1280x960 with 1 Axes>"
      ]
     },
     "metadata": {},
     "output_type": "display_data"
    }
   ],
   "source": [
    "ben_reduction.sort_values('pct_reduction').pct_reduction.plot('barh', color='blue')\n",
    "plt.show()"
   ]
  },
  {
   "cell_type": "code",
   "execution_count": 124,
   "metadata": {},
   "outputs": [
    {
     "data": {
      "image/png": "[encoded data removed]",
      "text/plain": [
       "<Figure size 1280x960 with 1 Axes>"
      ]
     },
     "metadata": {},
     "output_type": "display_data"
    }
   ],
   "source": [
    "ben_reduction.sort_values('reduction').reduction.plot('barh', color='blue')\n",
    "plt.show()"
   ]
  },
  {
   "cell_type": "code",
   "execution_count": 31,
   "metadata": {},
   "outputs": [],
   "source": [
    "# base.sort_values('afti).head()"
   ]
  },
  {
   "cell_type": "code",
   "execution_count": 89,
   "metadata": {},
   "outputs": [
    {
     "data": {
      "text/html": [
       "<div>\n",
       "<style scoped>\n",
       "    .dataframe tbody tr th:only-of-type {\n",
       "        vertical-align: middle;\n",
       "    }\n",
       "\n",
       "    .dataframe tbody tr th {\n",
       "        vertical-align: top;\n",
       "    }\n",
       "\n",
       "    .dataframe thead th {\n",
       "        text-align: right;\n",
       "    }\n",
       "</style>\n",
       "<table border=\"1\" class=\"dataframe\">\n",
       "  <thead>\n",
       "    <tr style=\"text-align: right;\">\n",
       "      <th></th>\n",
       "      <th>e02400</th>\n",
       "      <th>XTOT</th>\n",
       "      <th>ssi_ben</th>\n",
       "      <th>housing_ben</th>\n",
       "      <th>other_ben</th>\n",
       "      <th>nu18</th>\n",
       "      <th>snap_ben</th>\n",
       "      <th>tanf_ben</th>\n",
       "      <th>aftertax_income</th>\n",
       "      <th>wic_ben</th>\n",
       "      <th>...</th>\n",
       "      <th>vat_rate_prescale</th>\n",
       "      <th>vat_base</th>\n",
       "      <th>vat</th>\n",
       "      <th>vat_m</th>\n",
       "      <th>afti_yang_prevat_noneg_m</th>\n",
       "      <th>afti_yang</th>\n",
       "      <th>afti_chg</th>\n",
       "      <th>afti_chg_m</th>\n",
       "      <th>bens_yang</th>\n",
       "      <th>bens_yang_m</th>\n",
       "    </tr>\n",
       "    <tr>\n",
       "      <th>RECID</th>\n",
       "      <th></th>\n",
       "      <th></th>\n",
       "      <th></th>\n",
       "      <th></th>\n",
       "      <th></th>\n",
       "      <th></th>\n",
       "      <th></th>\n",
       "      <th></th>\n",
       "      <th></th>\n",
       "      <th></th>\n",
       "      <th></th>\n",
       "      <th></th>\n",
       "      <th></th>\n",
       "      <th></th>\n",
       "      <th></th>\n",
       "      <th></th>\n",
       "      <th></th>\n",
       "      <th></th>\n",
       "      <th></th>\n",
       "      <th></th>\n",
       "      <th></th>\n",
       "    </tr>\n",
       "  </thead>\n",
       "  <tbody>\n",
       "    <tr>\n",
       "      <th>167613</th>\n",
       "      <td>0.0</td>\n",
       "      <td>12.0</td>\n",
       "      <td>0.0</td>\n",
       "      <td>0.0</td>\n",
       "      <td>0.0</td>\n",
       "      <td>0.0</td>\n",
       "      <td>0.0</td>\n",
       "      <td>0.0</td>\n",
       "      <td>2935.90</td>\n",
       "      <td>0.0</td>\n",
       "      <td>...</td>\n",
       "      <td>0.03</td>\n",
       "      <td>4995.82</td>\n",
       "      <td>8332.88</td>\n",
       "      <td>7.31</td>\n",
       "      <td>128.91</td>\n",
       "      <td>138603.02</td>\n",
       "      <td>135667.12</td>\n",
       "      <td>119.02</td>\n",
       "      <td>0.0</td>\n",
       "      <td>0.0</td>\n",
       "    </tr>\n",
       "    <tr>\n",
       "      <th>388397</th>\n",
       "      <td>0.0</td>\n",
       "      <td>7.0</td>\n",
       "      <td>0.0</td>\n",
       "      <td>0.0</td>\n",
       "      <td>0.0</td>\n",
       "      <td>0.0</td>\n",
       "      <td>0.0</td>\n",
       "      <td>0.0</td>\n",
       "      <td>0.00</td>\n",
       "      <td>0.0</td>\n",
       "      <td>...</td>\n",
       "      <td>0.04</td>\n",
       "      <td>3024.00</td>\n",
       "      <td>5043.94</td>\n",
       "      <td>2.78</td>\n",
       "      <td>46.28</td>\n",
       "      <td>78956.06</td>\n",
       "      <td>78956.06</td>\n",
       "      <td>43.50</td>\n",
       "      <td>0.0</td>\n",
       "      <td>0.0</td>\n",
       "    </tr>\n",
       "    <tr>\n",
       "      <th>201242</th>\n",
       "      <td>0.0</td>\n",
       "      <td>7.0</td>\n",
       "      <td>0.0</td>\n",
       "      <td>0.0</td>\n",
       "      <td>0.0</td>\n",
       "      <td>0.0</td>\n",
       "      <td>0.0</td>\n",
       "      <td>0.0</td>\n",
       "      <td>20623.71</td>\n",
       "      <td>0.0</td>\n",
       "      <td>...</td>\n",
       "      <td>0.04</td>\n",
       "      <td>3766.45</td>\n",
       "      <td>6282.33</td>\n",
       "      <td>0.67</td>\n",
       "      <td>11.21</td>\n",
       "      <td>98341.38</td>\n",
       "      <td>77717.67</td>\n",
       "      <td>8.33</td>\n",
       "      <td>0.0</td>\n",
       "      <td>0.0</td>\n",
       "    </tr>\n",
       "    <tr>\n",
       "      <th>201246</th>\n",
       "      <td>0.0</td>\n",
       "      <td>7.0</td>\n",
       "      <td>0.0</td>\n",
       "      <td>0.0</td>\n",
       "      <td>0.0</td>\n",
       "      <td>0.0</td>\n",
       "      <td>0.0</td>\n",
       "      <td>0.0</td>\n",
       "      <td>20623.71</td>\n",
       "      <td>0.0</td>\n",
       "      <td>...</td>\n",
       "      <td>0.04</td>\n",
       "      <td>3766.45</td>\n",
       "      <td>6282.33</td>\n",
       "      <td>0.67</td>\n",
       "      <td>11.21</td>\n",
       "      <td>98341.38</td>\n",
       "      <td>77717.67</td>\n",
       "      <td>8.33</td>\n",
       "      <td>0.0</td>\n",
       "      <td>0.0</td>\n",
       "    </tr>\n",
       "    <tr>\n",
       "      <th>201252</th>\n",
       "      <td>0.0</td>\n",
       "      <td>7.0</td>\n",
       "      <td>0.0</td>\n",
       "      <td>0.0</td>\n",
       "      <td>0.0</td>\n",
       "      <td>0.0</td>\n",
       "      <td>0.0</td>\n",
       "      <td>0.0</td>\n",
       "      <td>20623.71</td>\n",
       "      <td>0.0</td>\n",
       "      <td>...</td>\n",
       "      <td>0.04</td>\n",
       "      <td>3766.45</td>\n",
       "      <td>6282.33</td>\n",
       "      <td>0.67</td>\n",
       "      <td>11.21</td>\n",
       "      <td>98341.38</td>\n",
       "      <td>77717.67</td>\n",
       "      <td>8.33</td>\n",
       "      <td>0.0</td>\n",
       "      <td>0.0</td>\n",
       "    </tr>\n",
       "  </tbody>\n",
       "</table>\n",
       "<p>5 rows × 48 columns</p>\n",
       "</div>"
      ],
      "text/plain": [
       "        e02400  XTOT  ssi_ben  housing_ben  other_ben  nu18  snap_ben  \\\n",
       "RECID                                                                   \n",
       "167613     0.0  12.0      0.0          0.0        0.0   0.0       0.0   \n",
       "388397     0.0   7.0      0.0          0.0        0.0   0.0       0.0   \n",
       "201242     0.0   7.0      0.0          0.0        0.0   0.0       0.0   \n",
       "201246     0.0   7.0      0.0          0.0        0.0   0.0       0.0   \n",
       "201252     0.0   7.0      0.0          0.0        0.0   0.0       0.0   \n",
       "\n",
       "        tanf_ben  aftertax_income  wic_ben     ...       vat_rate_prescale  \\\n",
       "RECID                                          ...                           \n",
       "167613       0.0          2935.90      0.0     ...                    0.03   \n",
       "388397       0.0             0.00      0.0     ...                    0.04   \n",
       "201242       0.0         20623.71      0.0     ...                    0.04   \n",
       "201246       0.0         20623.71      0.0     ...                    0.04   \n",
       "201252       0.0         20623.71      0.0     ...                    0.04   \n",
       "\n",
       "        vat_base      vat  vat_m  afti_yang_prevat_noneg_m  afti_yang  \\\n",
       "RECID                                                                   \n",
       "167613   4995.82  8332.88   7.31                    128.91  138603.02   \n",
       "388397   3024.00  5043.94   2.78                     46.28   78956.06   \n",
       "201242   3766.45  6282.33   0.67                     11.21   98341.38   \n",
       "201246   3766.45  6282.33   0.67                     11.21   98341.38   \n",
       "201252   3766.45  6282.33   0.67                     11.21   98341.38   \n",
       "\n",
       "         afti_chg  afti_chg_m  bens_yang  bens_yang_m  \n",
       "RECID                                                  \n",
       "167613  135667.12      119.02        0.0          0.0  \n",
       "388397   78956.06       43.50        0.0          0.0  \n",
       "201242   77717.67        8.33        0.0          0.0  \n",
       "201246   77717.67        8.33        0.0          0.0  \n",
       "201252   77717.67        8.33        0.0          0.0  \n",
       "\n",
       "[5 rows x 48 columns]"
      ]
     },
     "execution_count": 89,
     "metadata": {},
     "output_type": "execute_result"
    }
   ],
   "source": [
    "base.sort_values('afti_chg', ascending=False).head()"
   ]
  },
  {
   "cell_type": "code",
   "execution_count": 90,
   "metadata": {},
   "outputs": [
    {
     "data": {
      "text/html": [
       "<div>\n",
       "<style scoped>\n",
       "    .dataframe tbody tr th:only-of-type {\n",
       "        vertical-align: middle;\n",
       "    }\n",
       "\n",
       "    .dataframe tbody tr th {\n",
       "        vertical-align: top;\n",
       "    }\n",
       "\n",
       "    .dataframe thead th {\n",
       "        text-align: right;\n",
       "    }\n",
       "</style>\n",
       "<table border=\"1\" class=\"dataframe\">\n",
       "  <thead>\n",
       "    <tr style=\"text-align: right;\">\n",
       "      <th></th>\n",
       "      <th>aftertax_income_m</th>\n",
       "      <th>afti_chg_m</th>\n",
       "      <th>vat_m</th>\n",
       "      <th>afti_yang_prevat_noneg_m</th>\n",
       "      <th>s006</th>\n",
       "      <th>afti_chg</th>\n",
       "      <th>afti_chg_pct</th>\n",
       "      <th>vat</th>\n",
       "      <th>vat_pct</th>\n",
       "    </tr>\n",
       "    <tr>\n",
       "      <th>aftertax_income_decile</th>\n",
       "      <th></th>\n",
       "      <th></th>\n",
       "      <th></th>\n",
       "      <th></th>\n",
       "      <th></th>\n",
       "      <th></th>\n",
       "      <th></th>\n",
       "      <th></th>\n",
       "      <th></th>\n",
       "    </tr>\n",
       "  </thead>\n",
       "  <tbody>\n",
       "    <tr>\n",
       "      <th>1</th>\n",
       "      <td>1.65e+05</td>\n",
       "      <td>165876.87</td>\n",
       "      <td>22847.83</td>\n",
       "      <td>3.54e+05</td>\n",
       "      <td>1.65e+07</td>\n",
       "      <td>10067.37</td>\n",
       "      <td>1.00</td>\n",
       "      <td>1386.68</td>\n",
       "      <td>0.06</td>\n",
       "    </tr>\n",
       "    <tr>\n",
       "      <th>2</th>\n",
       "      <td>3.87e+05</td>\n",
       "      <td>147758.78</td>\n",
       "      <td>35922.80</td>\n",
       "      <td>5.70e+05</td>\n",
       "      <td>1.65e+07</td>\n",
       "      <td>8940.81</td>\n",
       "      <td>0.38</td>\n",
       "      <td>2173.67</td>\n",
       "      <td>0.06</td>\n",
       "    </tr>\n",
       "    <tr>\n",
       "      <th>3</th>\n",
       "      <td>5.18e+05</td>\n",
       "      <td>116780.54</td>\n",
       "      <td>41496.67</td>\n",
       "      <td>6.77e+05</td>\n",
       "      <td>1.65e+07</td>\n",
       "      <td>7066.57</td>\n",
       "      <td>0.23</td>\n",
       "      <td>2511.03</td>\n",
       "      <td>0.06</td>\n",
       "    </tr>\n",
       "    <tr>\n",
       "      <th>4</th>\n",
       "      <td>6.45e+05</td>\n",
       "      <td>115664.57</td>\n",
       "      <td>48739.86</td>\n",
       "      <td>8.09e+05</td>\n",
       "      <td>1.65e+07</td>\n",
       "      <td>6998.68</td>\n",
       "      <td>0.18</td>\n",
       "      <td>2949.17</td>\n",
       "      <td>0.06</td>\n",
       "    </tr>\n",
       "    <tr>\n",
       "      <th>5</th>\n",
       "      <td>7.93e+05</td>\n",
       "      <td>118089.54</td>\n",
       "      <td>58170.35</td>\n",
       "      <td>9.69e+05</td>\n",
       "      <td>1.65e+07</td>\n",
       "      <td>7145.74</td>\n",
       "      <td>0.15</td>\n",
       "      <td>3519.96</td>\n",
       "      <td>0.06</td>\n",
       "    </tr>\n",
       "    <tr>\n",
       "      <th>6</th>\n",
       "      <td>9.76e+05</td>\n",
       "      <td>102280.87</td>\n",
       "      <td>68881.69</td>\n",
       "      <td>1.15e+06</td>\n",
       "      <td>1.65e+07</td>\n",
       "      <td>6188.38</td>\n",
       "      <td>0.10</td>\n",
       "      <td>4167.61</td>\n",
       "      <td>0.06</td>\n",
       "    </tr>\n",
       "    <tr>\n",
       "      <th>7</th>\n",
       "      <td>1.21e+06</td>\n",
       "      <td>103225.12</td>\n",
       "      <td>83600.29</td>\n",
       "      <td>1.39e+06</td>\n",
       "      <td>1.65e+07</td>\n",
       "      <td>6246.27</td>\n",
       "      <td>0.09</td>\n",
       "      <td>5058.75</td>\n",
       "      <td>0.06</td>\n",
       "    </tr>\n",
       "    <tr>\n",
       "      <th>8</th>\n",
       "      <td>1.52e+06</td>\n",
       "      <td>101759.49</td>\n",
       "      <td>102340.77</td>\n",
       "      <td>1.72e+06</td>\n",
       "      <td>1.65e+07</td>\n",
       "      <td>6157.31</td>\n",
       "      <td>0.07</td>\n",
       "      <td>6192.48</td>\n",
       "      <td>0.06</td>\n",
       "    </tr>\n",
       "    <tr>\n",
       "      <th>9</th>\n",
       "      <td>2.03e+06</td>\n",
       "      <td>91683.65</td>\n",
       "      <td>128076.58</td>\n",
       "      <td>2.25e+06</td>\n",
       "      <td>1.65e+07</td>\n",
       "      <td>5547.68</td>\n",
       "      <td>0.05</td>\n",
       "      <td>7749.78</td>\n",
       "      <td>0.06</td>\n",
       "    </tr>\n",
       "    <tr>\n",
       "      <th>10</th>\n",
       "      <td>4.14e+06</td>\n",
       "      <td>44706.70</td>\n",
       "      <td>209919.86</td>\n",
       "      <td>4.39e+06</td>\n",
       "      <td>1.65e+07</td>\n",
       "      <td>2705.05</td>\n",
       "      <td>0.01</td>\n",
       "      <td>12701.53</td>\n",
       "      <td>0.05</td>\n",
       "    </tr>\n",
       "  </tbody>\n",
       "</table>\n",
       "</div>"
      ],
      "text/plain": [
       "                        aftertax_income_m  afti_chg_m      vat_m  \\\n",
       "aftertax_income_decile                                             \n",
       "1                                1.65e+05   165876.87   22847.83   \n",
       "2                                3.87e+05   147758.78   35922.80   \n",
       "3                                5.18e+05   116780.54   41496.67   \n",
       "4                                6.45e+05   115664.57   48739.86   \n",
       "5                                7.93e+05   118089.54   58170.35   \n",
       "6                                9.76e+05   102280.87   68881.69   \n",
       "7                                1.21e+06   103225.12   83600.29   \n",
       "8                                1.52e+06   101759.49  102340.77   \n",
       "9                                2.03e+06    91683.65  128076.58   \n",
       "10                               4.14e+06    44706.70  209919.86   \n",
       "\n",
       "                        afti_yang_prevat_noneg_m      s006  afti_chg  \\\n",
       "aftertax_income_decile                                                 \n",
       "1                                       3.54e+05  1.65e+07  10067.37   \n",
       "2                                       5.70e+05  1.65e+07   8940.81   \n",
       "3                                       6.77e+05  1.65e+07   7066.57   \n",
       "4                                       8.09e+05  1.65e+07   6998.68   \n",
       "5                                       9.69e+05  1.65e+07   7145.74   \n",
       "6                                       1.15e+06  1.65e+07   6188.38   \n",
       "7                                       1.39e+06  1.65e+07   6246.27   \n",
       "8                                       1.72e+06  1.65e+07   6157.31   \n",
       "9                                       2.25e+06  1.65e+07   5547.68   \n",
       "10                                      4.39e+06  1.65e+07   2705.05   \n",
       "\n",
       "                        afti_chg_pct       vat  vat_pct  \n",
       "aftertax_income_decile                                   \n",
       "1                               1.00   1386.68     0.06  \n",
       "2                               0.38   2173.67     0.06  \n",
       "3                               0.23   2511.03     0.06  \n",
       "4                               0.18   2949.17     0.06  \n",
       "5                               0.15   3519.96     0.06  \n",
       "6                               0.10   4167.61     0.06  \n",
       "7                               0.09   5058.75     0.06  \n",
       "8                               0.07   6192.48     0.06  \n",
       "9                               0.05   7749.78     0.06  \n",
       "10                              0.01  12701.53     0.05  "
      ]
     },
     "execution_count": 90,
     "metadata": {},
     "output_type": "execute_result"
    }
   ],
   "source": [
    "decile = base.groupby('aftertax_income_decile')['aftertax_income_m', 'afti_chg_m',\n",
    "                                                'vat_m', 'afti_yang_prevat_noneg_m', 's006'].sum()\n",
    "decile['afti_chg'] = 1e6 * decile.afti_chg_m / decile.s006\n",
    "decile['afti_chg_pct'] = decile.afti_chg_m / decile.aftertax_income_m\n",
    "decile['vat'] = 1e6 * decile.vat_m / decile.s006\n",
    "decile['vat_pct'] = decile.vat_m / decile.afti_yang_prevat_noneg_m\n",
    "decile.drop(0, inplace=True)\n",
    "decile"
   ]
  },
  {
   "cell_type": "code",
   "execution_count": 91,
   "metadata": {},
   "outputs": [
    {
     "data": {
      "image/png": "[encoded data removed]",
      "text/plain": [
       "<Figure size 1280x960 with 1 Axes>"
      ]
     },
     "metadata": {},
     "output_type": "display_data"
    }
   ],
   "source": [
    "decile.afti_chg.plot('bar', color='blue')\n",
    "plt.show()"
   ]
  },
  {
   "cell_type": "code",
   "execution_count": 92,
   "metadata": {},
   "outputs": [
    {
     "data": {
      "image/png": "[encoded data removed]",
      "text/plain": [
       "<Figure size 1280x960 with 1 Axes>"
      ]
     },
     "metadata": {},
     "output_type": "display_data"
    }
   ],
   "source": [
    "ax = decile.afti_chg_pct.plot('bar', color='blue')\n",
    "ax.yaxis.set_major_formatter(mpl.ticker.FuncFormatter(\n",
    "        lambda y, _: '{:.0%}'.format(y)))\n",
    "plt.show()"
   ]
  },
  {
   "cell_type": "code",
   "execution_count": 93,
   "metadata": {},
   "outputs": [
    {
     "data": {
      "image/png": "[encoded data removed]",
      "text/plain": [
       "<Figure size 1280x960 with 1 Axes>"
      ]
     },
     "metadata": {},
     "output_type": "display_data"
    }
   ],
   "source": [
    "decile.vat.plot('bar', color='blue')\n",
    "plt.show()"
   ]
  },
  {
   "cell_type": "markdown",
   "metadata": {},
   "source": [
    "UBI skeptics point to issues that could arise under specific implementations, depending on their perspective: on the left, that it will increase poverty by reducing benefits, and on the right that it will reduce work incentives by raising marginal tax rates. How much is the UBI discussion hampered (or benefited) by the lack of a specific plan that could be analyzed?"
   ]
  },
  {
   "cell_type": "code",
   "execution_count": 94,
   "metadata": {},
   "outputs": [
    {
     "data": {
      "image/png": "[encoded data removed]",
      "text/plain": [
       "<Figure size 1280x960 with 1 Axes>"
      ]
     },
     "metadata": {},
     "output_type": "display_data"
    }
   ],
   "source": [
    "ax = decile.vat_pct.plot('bar', color='blue')\n",
    "ax.yaxis.set_major_formatter(mpl.ticker.FuncFormatter(\n",
    "        lambda y, _: '{:.0%}'.format(y)))\n",
    "plt.show()"
   ]
  },
  {
   "cell_type": "code",
   "execution_count": 38,
   "metadata": {},
   "outputs": [
    {
     "data": {
      "text/html": [
       "<div>\n",
       "<style scoped>\n",
       "    .dataframe tbody tr th:only-of-type {\n",
       "        vertical-align: middle;\n",
       "    }\n",
       "\n",
       "    .dataframe tbody tr th {\n",
       "        vertical-align: top;\n",
       "    }\n",
       "\n",
       "    .dataframe thead th {\n",
       "        text-align: right;\n",
       "    }\n",
       "</style>\n",
       "<table border=\"1\" class=\"dataframe\">\n",
       "  <thead>\n",
       "    <tr style=\"text-align: right;\">\n",
       "      <th></th>\n",
       "      <th>aftertax_income_m</th>\n",
       "      <th>afti_chg_m</th>\n",
       "      <th>s006</th>\n",
       "      <th>afti_chg</th>\n",
       "      <th>afti_chg_pct</th>\n",
       "    </tr>\n",
       "    <tr>\n",
       "      <th>aftertax_income_ventile</th>\n",
       "      <th></th>\n",
       "      <th></th>\n",
       "      <th></th>\n",
       "      <th></th>\n",
       "      <th></th>\n",
       "    </tr>\n",
       "  </thead>\n",
       "  <tbody>\n",
       "    <tr>\n",
       "      <th>5</th>\n",
       "      <td>3.87e+04</td>\n",
       "      <td>87183.91</td>\n",
       "      <td>8.21e+06</td>\n",
       "      <td>10615.38</td>\n",
       "      <td>2.26</td>\n",
       "    </tr>\n",
       "    <tr>\n",
       "      <th>10</th>\n",
       "      <td>1.26e+05</td>\n",
       "      <td>85415.16</td>\n",
       "      <td>8.26e+06</td>\n",
       "      <td>10336.18</td>\n",
       "      <td>0.68</td>\n",
       "    </tr>\n",
       "    <tr>\n",
       "      <th>15</th>\n",
       "      <td>1.75e+05</td>\n",
       "      <td>87484.91</td>\n",
       "      <td>8.26e+06</td>\n",
       "      <td>10587.25</td>\n",
       "      <td>0.50</td>\n",
       "    </tr>\n",
       "    <tr>\n",
       "      <th>20</th>\n",
       "      <td>2.12e+05</td>\n",
       "      <td>84559.37</td>\n",
       "      <td>8.26e+06</td>\n",
       "      <td>10233.39</td>\n",
       "      <td>0.40</td>\n",
       "    </tr>\n",
       "    <tr>\n",
       "      <th>25</th>\n",
       "      <td>2.44e+05</td>\n",
       "      <td>83511.73</td>\n",
       "      <td>8.26e+06</td>\n",
       "      <td>10106.19</td>\n",
       "      <td>0.34</td>\n",
       "    </tr>\n",
       "    <tr>\n",
       "      <th>30</th>\n",
       "      <td>2.74e+05</td>\n",
       "      <td>82473.92</td>\n",
       "      <td>8.26e+06</td>\n",
       "      <td>9981.89</td>\n",
       "      <td>0.30</td>\n",
       "    </tr>\n",
       "    <tr>\n",
       "      <th>35</th>\n",
       "      <td>3.06e+05</td>\n",
       "      <td>82609.01</td>\n",
       "      <td>8.26e+06</td>\n",
       "      <td>9996.07</td>\n",
       "      <td>0.27</td>\n",
       "    </tr>\n",
       "    <tr>\n",
       "      <th>40</th>\n",
       "      <td>3.39e+05</td>\n",
       "      <td>83617.69</td>\n",
       "      <td>8.26e+06</td>\n",
       "      <td>10120.16</td>\n",
       "      <td>0.25</td>\n",
       "    </tr>\n",
       "    <tr>\n",
       "      <th>45</th>\n",
       "      <td>3.76e+05</td>\n",
       "      <td>85258.73</td>\n",
       "      <td>8.26e+06</td>\n",
       "      <td>10317.63</td>\n",
       "      <td>0.23</td>\n",
       "    </tr>\n",
       "    <tr>\n",
       "      <th>50</th>\n",
       "      <td>4.17e+05</td>\n",
       "      <td>85454.56</td>\n",
       "      <td>8.26e+06</td>\n",
       "      <td>10342.51</td>\n",
       "      <td>0.21</td>\n",
       "    </tr>\n",
       "    <tr>\n",
       "      <th>55</th>\n",
       "      <td>4.62e+05</td>\n",
       "      <td>86385.34</td>\n",
       "      <td>8.26e+06</td>\n",
       "      <td>10452.39</td>\n",
       "      <td>0.19</td>\n",
       "    </tr>\n",
       "    <tr>\n",
       "      <th>60</th>\n",
       "      <td>5.14e+05</td>\n",
       "      <td>89330.72</td>\n",
       "      <td>8.26e+06</td>\n",
       "      <td>10810.63</td>\n",
       "      <td>0.17</td>\n",
       "    </tr>\n",
       "    <tr>\n",
       "      <th>65</th>\n",
       "      <td>5.71e+05</td>\n",
       "      <td>92376.45</td>\n",
       "      <td>8.26e+06</td>\n",
       "      <td>11180.28</td>\n",
       "      <td>0.16</td>\n",
       "    </tr>\n",
       "    <tr>\n",
       "      <th>70</th>\n",
       "      <td>6.35e+05</td>\n",
       "      <td>93860.46</td>\n",
       "      <td>8.26e+06</td>\n",
       "      <td>11358.53</td>\n",
       "      <td>0.15</td>\n",
       "    </tr>\n",
       "    <tr>\n",
       "      <th>75</th>\n",
       "      <td>7.14e+05</td>\n",
       "      <td>98796.81</td>\n",
       "      <td>8.26e+06</td>\n",
       "      <td>11955.88</td>\n",
       "      <td>0.14</td>\n",
       "    </tr>\n",
       "    <tr>\n",
       "      <th>80</th>\n",
       "      <td>8.07e+05</td>\n",
       "      <td>100045.01</td>\n",
       "      <td>8.26e+06</td>\n",
       "      <td>12107.33</td>\n",
       "      <td>0.12</td>\n",
       "    </tr>\n",
       "    <tr>\n",
       "      <th>85</th>\n",
       "      <td>9.29e+05</td>\n",
       "      <td>102471.45</td>\n",
       "      <td>8.26e+06</td>\n",
       "      <td>12400.31</td>\n",
       "      <td>0.11</td>\n",
       "    </tr>\n",
       "    <tr>\n",
       "      <th>90</th>\n",
       "      <td>1.10e+06</td>\n",
       "      <td>104652.65</td>\n",
       "      <td>8.26e+06</td>\n",
       "      <td>12665.43</td>\n",
       "      <td>0.09</td>\n",
       "    </tr>\n",
       "    <tr>\n",
       "      <th>95</th>\n",
       "      <td>1.39e+06</td>\n",
       "      <td>101347.76</td>\n",
       "      <td>8.26e+06</td>\n",
       "      <td>12263.98</td>\n",
       "      <td>0.07</td>\n",
       "    </tr>\n",
       "    <tr>\n",
       "      <th>100</th>\n",
       "      <td>2.75e+06</td>\n",
       "      <td>65567.25</td>\n",
       "      <td>8.26e+06</td>\n",
       "      <td>7934.78</td>\n",
       "      <td>0.02</td>\n",
       "    </tr>\n",
       "  </tbody>\n",
       "</table>\n",
       "</div>"
      ],
      "text/plain": [
       "                         aftertax_income_m  afti_chg_m      s006  afti_chg  \\\n",
       "aftertax_income_ventile                                                      \n",
       "5                                 3.87e+04    87183.91  8.21e+06  10615.38   \n",
       "10                                1.26e+05    85415.16  8.26e+06  10336.18   \n",
       "15                                1.75e+05    87484.91  8.26e+06  10587.25   \n",
       "20                                2.12e+05    84559.37  8.26e+06  10233.39   \n",
       "25                                2.44e+05    83511.73  8.26e+06  10106.19   \n",
       "30                                2.74e+05    82473.92  8.26e+06   9981.89   \n",
       "35                                3.06e+05    82609.01  8.26e+06   9996.07   \n",
       "40                                3.39e+05    83617.69  8.26e+06  10120.16   \n",
       "45                                3.76e+05    85258.73  8.26e+06  10317.63   \n",
       "50                                4.17e+05    85454.56  8.26e+06  10342.51   \n",
       "55                                4.62e+05    86385.34  8.26e+06  10452.39   \n",
       "60                                5.14e+05    89330.72  8.26e+06  10810.63   \n",
       "65                                5.71e+05    92376.45  8.26e+06  11180.28   \n",
       "70                                6.35e+05    93860.46  8.26e+06  11358.53   \n",
       "75                                7.14e+05    98796.81  8.26e+06  11955.88   \n",
       "80                                8.07e+05   100045.01  8.26e+06  12107.33   \n",
       "85                                9.29e+05   102471.45  8.26e+06  12400.31   \n",
       "90                                1.10e+06   104652.65  8.26e+06  12665.43   \n",
       "95                                1.39e+06   101347.76  8.26e+06  12263.98   \n",
       "100                               2.75e+06    65567.25  8.26e+06   7934.78   \n",
       "\n",
       "                         afti_chg_pct  \n",
       "aftertax_income_ventile                \n",
       "5                                2.26  \n",
       "10                               0.68  \n",
       "15                               0.50  \n",
       "20                               0.40  \n",
       "25                               0.34  \n",
       "30                               0.30  \n",
       "35                               0.27  \n",
       "40                               0.25  \n",
       "45                               0.23  \n",
       "50                               0.21  \n",
       "55                               0.19  \n",
       "60                               0.17  \n",
       "65                               0.16  \n",
       "70                               0.15  \n",
       "75                               0.14  \n",
       "80                               0.12  \n",
       "85                               0.11  \n",
       "90                               0.09  \n",
       "95                               0.07  \n",
       "100                              0.02  "
      ]
     },
     "execution_count": 38,
     "metadata": {},
     "output_type": "execute_result"
    }
   ],
   "source": [
    "ventile = base.groupby('aftertax_income_ventile')['aftertax_income_m', 'afti_chg_m', 's006'].sum()\n",
    "ventile['afti_chg'] = 1e6 * ventile.afti_chg_m / ventile.s006\n",
    "ventile['afti_chg_pct'] = ventile.afti_chg_m / ventile.aftertax_income_m\n",
    "ventile.drop(0, inplace=True)\n",
    "ventile"
   ]
  },
  {
   "cell_type": "code",
   "execution_count": null,
   "metadata": {},
   "outputs": [],
   "source": [
    "ax = ventile.afti_chg_pct.plot()\n",
    "ax.yaxis.set_major_formatter(mpl.ticker.FuncFormatter(\n",
    "        lambda y, _: '{:.0%}'.format(y)))\n",
    "plt.show()"
   ]
  },
  {
   "cell_type": "code",
   "execution_count": null,
   "metadata": {},
   "outputs": [],
   "source": [
    "ventile.afti_chg.plot()\n",
    "plt.show()"
   ]
  },
  {
   "cell_type": "markdown",
   "metadata": {},
   "source": [
    "### Poverty"
   ]
  },
  {
   "cell_type": "code",
   "execution_count": null,
   "metadata": {},
   "outputs": [],
   "source": [
    "base['fpl'] = tch.fpl(base.XTOT)\n",
    "base['fpl_base_m'] = base.XTOT_m * (base.aftertax_income < base.fpl)\n",
    "base['fpl_yang_m'] = base.XTOT_m * (base.afti_yang < base.fpl)"
   ]
  },
  {
   "cell_type": "code",
   "execution_count": null,
   "metadata": {},
   "outputs": [],
   "source": [
    "base.fpl_base_m.sum() / base.XTOT_m.sum()"
   ]
  },
  {
   "cell_type": "code",
   "execution_count": null,
   "metadata": {},
   "outputs": [],
   "source": [
    "base.fpl_yang_m.sum() / base.XTOT_m.sum()"
   ]
  },
  {
   "cell_type": "code",
   "execution_count": null,
   "metadata": {},
   "outputs": [],
   "source": [
    "base[base.fpl_base_m < base.fpl_yang_m].adults.describe()"
   ]
  }
 ],
 "metadata": {
  "kernelspec": {
   "display_name": "Python 3",
   "language": "python",
   "name": "python3"
  },
  "language_info": {
   "codemirror_mode": {
    "name": "ipython",
    "version": 3
   },
   "file_extension": ".py",
   "mimetype": "text/x-python",
   "name": "python",
   "nbconvert_exporter": "python",
   "pygments_lexer": "ipython3",
   "version": "3.6.6"
  },
  "toc": {
   "base_numbering": 1,
   "nav_menu": {},
   "number_sections": true,
   "sideBar": true,
   "skip_h1_title": false,
   "title_cell": "Table of Contents",
   "title_sidebar": "Contents",
   "toc_cell": false,
   "toc_position": {},
   "toc_section_display": true,
   "toc_window_display": false
  }
 },
 "nbformat": 4,
 "nbformat_minor": 2
}
