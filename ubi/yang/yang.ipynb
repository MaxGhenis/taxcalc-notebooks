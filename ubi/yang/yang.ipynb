{
 "cells": [
  {
   "cell_type": "markdown",
   "metadata": {},
   "source": [
    "# Andrew Yang's Freedom Dividend\n",
    "\n",
    "Estimate the effect of Andrew Yang's Freedom Dividend of $12,000 per year per adult age 18 to 64, funded by a 10 percent value-added tax and reducing benefits by up to the UBI amount for each tax unit.\n",
    "\n",
    "*Data: CPS  |  Tax year: 2019  |  Type: Static  |  Author: Max Ghenis*"
   ]
  },
  {
   "cell_type": "markdown",
   "metadata": {},
   "source": [
    "## Setup\n",
    "\n",
    "### Imports"
   ]
  },
  {
   "cell_type": "code",
   "execution_count": 1,
   "metadata": {},
   "outputs": [],
   "source": [
    "import taxcalc as tc\n",
    "import taxcalc_helpers as tch\n",
    "import pandas as pd\n",
    "import numpy as np\n",
    "import matplotlib as mpl\n",
    "import matplotlib.pyplot as plt\n",
    "import seaborn as sns"
   ]
  },
  {
   "cell_type": "code",
   "execution_count": 2,
   "metadata": {},
   "outputs": [
    {
     "data": {
      "text/plain": [
       "'1.0.1'"
      ]
     },
     "execution_count": 2,
     "metadata": {},
     "output_type": "execute_result"
    }
   ],
   "source": [
    "tc.__version__"
   ]
  },
  {
   "cell_type": "markdown",
   "metadata": {},
   "source": [
    "### Settings"
   ]
  },
  {
   "cell_type": "code",
   "execution_count": 3,
   "metadata": {},
   "outputs": [],
   "source": [
    "sns.set_style('white')\n",
    "DPI = 200\n",
    "mpl.rc('savefig', dpi=DPI)\n",
    "mpl.rcParams['figure.dpi'] = DPI\n",
    "mpl.rcParams['figure.figsize'] = 6.4, 4.8  # Default."
   ]
  },
  {
   "cell_type": "code",
   "execution_count": 4,
   "metadata": {},
   "outputs": [],
   "source": [
    "mpl.rcParams['font.sans-serif'] = 'Roboto'\n",
    "mpl.rcParams['font.family'] = 'sans-serif'\n",
    "\n",
    "# Set title text color to dark gray (https://material.io/color) not black.\n",
    "TITLE_COLOR = '#212121'\n",
    "mpl.rcParams['text.color'] = TITLE_COLOR\n",
    "\n",
    "# Axis titles and tick marks are medium gray.\n",
    "AXIS_COLOR = '#757575'\n",
    "mpl.rcParams['axes.labelcolor'] = AXIS_COLOR\n",
    "mpl.rcParams['xtick.color'] = AXIS_COLOR\n",
    "mpl.rcParams['ytick.color'] = AXIS_COLOR\n",
    "\n",
    "# Use Seaborn's default color palette.\n",
    "# https://stackoverflow.com/q/48958426/1840471 for reproducibility.\n",
    "sns.set_palette(sns.color_palette())"
   ]
  },
  {
   "cell_type": "code",
   "execution_count": 5,
   "metadata": {},
   "outputs": [],
   "source": [
    "# Show one decimal in tables.\n",
    "pd.set_option('precision', 2)"
   ]
  },
  {
   "cell_type": "markdown",
   "metadata": {},
   "source": [
    "## Data"
   ]
  },
  {
   "cell_type": "code",
   "execution_count": 6,
   "metadata": {},
   "outputs": [],
   "source": [
    "recs = tc.Records.cps_constructor()"
   ]
  },
  {
   "cell_type": "code",
   "execution_count": 41,
   "metadata": {},
   "outputs": [],
   "source": [
    "BENS = ['other_ben', 'snap_ben', 'ssi_ben', 'tanf_ben', 'wic_ben']"
   ]
  },
  {
   "cell_type": "code",
   "execution_count": 64,
   "metadata": {},
   "outputs": [],
   "source": [
    "base = tch.calc_df(records=recs, year=2019, \n",
    "                   group_vars=['XTOT', 'nu18'] + BENS,\n",
    "                   group_n65=True,\n",
    "                   metric_vars=['aftertax_income', 'XTOT'])\n",
    "tch.add_weighted_quantiles(base, 'aftertax_income')"
   ]
  },
  {
   "cell_type": "markdown",
   "metadata": {},
   "source": [
    "### Calculations"
   ]
  },
  {
   "cell_type": "code",
   "execution_count": 65,
   "metadata": {},
   "outputs": [],
   "source": [
    "UBI = 12000\n",
    "base['bens'] = base[BENS].sum(axis=1)\n",
    "base['adults'] = base.XTOT - base.n65 - base.nu18\n",
    "base['ubi_max'] = base.adults * UBI\n",
    "base['ubi'] = np.where(base.ubi_max > base.bens, base.ubi_max - base.bens, 0)"
   ]
  },
  {
   "cell_type": "markdown",
   "metadata": {},
   "source": [
    "Weight."
   ]
  },
  {
   "cell_type": "code",
   "execution_count": 66,
   "metadata": {},
   "outputs": [],
   "source": [
    "base['ubi_m'] = base.ubi * base.s006 / 1e6\n",
    "base['ubi_max_m'] = base.ubi_max * base.s006 / 1e6\n",
    "base['bens_m'] = base.bens * base.s006 / 1e6"
   ]
  },
  {
   "cell_type": "code",
   "execution_count": 67,
   "metadata": {},
   "outputs": [
    {
     "data": {
      "text/plain": [
       "2046415.1640859575"
      ]
     },
     "execution_count": 67,
     "metadata": {},
     "output_type": "execute_result"
    }
   ],
   "source": [
    "base.ubi_m.sum()"
   ]
  },
  {
   "cell_type": "code",
   "execution_count": 68,
   "metadata": {},
   "outputs": [
    {
     "data": {
      "text/plain": [
       "2377812.78564"
      ]
     },
     "execution_count": 68,
     "metadata": {},
     "output_type": "execute_result"
    }
   ],
   "source": [
    "base.ubi_max_m.sum()"
   ]
  },
  {
   "cell_type": "code",
   "execution_count": 69,
   "metadata": {},
   "outputs": [
    {
     "data": {
      "text/plain": [
       "331397.62155404245"
      ]
     },
     "execution_count": 69,
     "metadata": {},
     "output_type": "execute_result"
    }
   ],
   "source": [
    "base.ubi_max_m.sum() - base.ubi_m.sum()"
   ]
  },
  {
   "cell_type": "code",
   "execution_count": 70,
   "metadata": {},
   "outputs": [
    {
     "data": {
      "text/plain": [
       "461648.64029236435"
      ]
     },
     "execution_count": 70,
     "metadata": {},
     "output_type": "execute_result"
    }
   ],
   "source": [
    "base.bens_m.sum()"
   ]
  },
  {
   "cell_type": "markdown",
   "metadata": {},
   "source": [
    "### VAT\n",
    "\n",
    "Start with equal incidence, then re-weight according to Brookings paper."
   ]
  },
  {
   "cell_type": "code",
   "execution_count": 71,
   "metadata": {},
   "outputs": [],
   "source": [
    "TOTAL_VAT = 800e9"
   ]
  },
  {
   "cell_type": "code",
   "execution_count": 100,
   "metadata": {},
   "outputs": [],
   "source": [
    "base['afti_yang_prevat'] = base.aftertax_income + base.ubi\n",
    "base['afti_yang_prevat_noneg'] = base.afti_yang_prevat.clip_lower(0)"
   ]
  },
  {
   "cell_type": "code",
   "execution_count": 73,
   "metadata": {},
   "outputs": [
    {
     "data": {
      "text/plain": [
       "14500.536719064417"
      ]
     },
     "execution_count": 73,
     "metadata": {},
     "output_type": "execute_result"
    }
   ],
   "source": [
    "base.afti_yang_prevat.median() - base.aftertax_income.median()"
   ]
  },
  {
   "cell_type": "code",
   "execution_count": 103,
   "metadata": {},
   "outputs": [],
   "source": [
    "base['vat'] = (TOTAL_VAT * base.afti_yang_prevat_noneg / \n",
    "               tch.weighted_sum(df=base, col='afti_yang_prevat_noneg'))"
   ]
  },
  {
   "cell_type": "code",
   "execution_count": 104,
   "metadata": {},
   "outputs": [],
   "source": [
    "base['afti_yang'] = base.afti_yang_prevat - base.vat"
   ]
  },
  {
   "cell_type": "code",
   "execution_count": 105,
   "metadata": {},
   "outputs": [
    {
     "data": {
      "text/plain": [
       "0.45102436073606167"
      ]
     },
     "execution_count": 105,
     "metadata": {},
     "output_type": "execute_result"
    }
   ],
   "source": [
    "tch.gini(base.aftertax_income, base.s006)"
   ]
  },
  {
   "cell_type": "code",
   "execution_count": 106,
   "metadata": {},
   "outputs": [
    {
     "data": {
      "text/plain": [
       "0.4029194074126732"
      ]
     },
     "execution_count": 106,
     "metadata": {},
     "output_type": "execute_result"
    }
   ],
   "source": [
    "tch.gini(base.afti_yang, base.s006)"
   ]
  },
  {
   "cell_type": "code",
   "execution_count": 107,
   "metadata": {},
   "outputs": [
    {
     "data": {
      "text/plain": [
       "count    4.56e+05\n",
       "mean     1.41e+05\n",
       "std      1.51e+06\n",
       "min     -3.11e+06\n",
       "25%      4.90e+04\n",
       "50%      9.28e+04\n",
       "75%      1.70e+05\n",
       "max      1.01e+09\n",
       "Name: afti_yang, dtype: float64"
      ]
     },
     "execution_count": 107,
     "metadata": {},
     "output_type": "execute_result"
    }
   ],
   "source": [
    "base.afti_yang.describe()"
   ]
  },
  {
   "cell_type": "code",
   "execution_count": 108,
   "metadata": {},
   "outputs": [],
   "source": [
    "base['afti_chg'] = base.afti_yang - base.aftertax_income\n",
    "base['afti_chg_m'] = base.afti_chg * base.s006 / 1e6"
   ]
  },
  {
   "cell_type": "code",
   "execution_count": 109,
   "metadata": {},
   "outputs": [
    {
     "data": {
      "text/plain": [
       "1246.4151640859568"
      ]
     },
     "execution_count": 109,
     "metadata": {},
     "output_type": "execute_result"
    }
   ],
   "source": [
    "tch.weighted_sum(base, 'afti_chg') / 1e9"
   ]
  },
  {
   "cell_type": "markdown",
   "metadata": {},
   "source": [
    "## Analysis"
   ]
  },
  {
   "cell_type": "code",
   "execution_count": 147,
   "metadata": {},
   "outputs": [
    {
     "data": {
      "text/html": [
       "<div>\n",
       "<style scoped>\n",
       "    .dataframe tbody tr th:only-of-type {\n",
       "        vertical-align: middle;\n",
       "    }\n",
       "\n",
       "    .dataframe tbody tr th {\n",
       "        vertical-align: top;\n",
       "    }\n",
       "\n",
       "    .dataframe thead th {\n",
       "        text-align: right;\n",
       "    }\n",
       "</style>\n",
       "<table border=\"1\" class=\"dataframe\">\n",
       "  <thead>\n",
       "    <tr style=\"text-align: right;\">\n",
       "      <th></th>\n",
       "      <th>other_ben</th>\n",
       "      <th>aftertax_income</th>\n",
       "      <th>s006</th>\n",
       "      <th>wic_ben</th>\n",
       "      <th>tanf_ben</th>\n",
       "      <th>snap_ben</th>\n",
       "      <th>ssi_ben</th>\n",
       "      <th>XTOT</th>\n",
       "      <th>nu18</th>\n",
       "      <th>n65</th>\n",
       "      <th>...</th>\n",
       "      <th>bens_m</th>\n",
       "      <th>afti_yang_prevat</th>\n",
       "      <th>vat</th>\n",
       "      <th>afti_yang</th>\n",
       "      <th>afti_chg</th>\n",
       "      <th>afti_chg_m</th>\n",
       "      <th>afti_yang_prevat_noneg</th>\n",
       "      <th>fpl</th>\n",
       "      <th>fpl_base_m</th>\n",
       "      <th>fpl_yang_m</th>\n",
       "    </tr>\n",
       "    <tr>\n",
       "      <th>RECID</th>\n",
       "      <th></th>\n",
       "      <th></th>\n",
       "      <th></th>\n",
       "      <th></th>\n",
       "      <th></th>\n",
       "      <th></th>\n",
       "      <th></th>\n",
       "      <th></th>\n",
       "      <th></th>\n",
       "      <th></th>\n",
       "      <th></th>\n",
       "      <th></th>\n",
       "      <th></th>\n",
       "      <th></th>\n",
       "      <th></th>\n",
       "      <th></th>\n",
       "      <th></th>\n",
       "      <th></th>\n",
       "      <th></th>\n",
       "      <th></th>\n",
       "      <th></th>\n",
       "    </tr>\n",
       "  </thead>\n",
       "  <tbody>\n",
       "    <tr>\n",
       "      <th>267908</th>\n",
       "      <td>0.0</td>\n",
       "      <td>1.07e+09</td>\n",
       "      <td>34.56</td>\n",
       "      <td>0.0</td>\n",
       "      <td>0.0</td>\n",
       "      <td>0.0</td>\n",
       "      <td>0.0</td>\n",
       "      <td>2.0</td>\n",
       "      <td>0.0</td>\n",
       "      <td>0.0</td>\n",
       "      <td>...</td>\n",
       "      <td>0.0</td>\n",
       "      <td>1.07e+09</td>\n",
       "      <td>5.92e+07</td>\n",
       "      <td>1.01e+09</td>\n",
       "      <td>-5.92e+07</td>\n",
       "      <td>-2045.56</td>\n",
       "      <td>1.07e+09</td>\n",
       "      <td>16460.0</td>\n",
       "      <td>0.0</td>\n",
       "      <td>0.0</td>\n",
       "    </tr>\n",
       "    <tr>\n",
       "      <th>255188</th>\n",
       "      <td>0.0</td>\n",
       "      <td>3.78e+07</td>\n",
       "      <td>172.45</td>\n",
       "      <td>0.0</td>\n",
       "      <td>0.0</td>\n",
       "      <td>0.0</td>\n",
       "      <td>0.0</td>\n",
       "      <td>2.0</td>\n",
       "      <td>0.0</td>\n",
       "      <td>2.0</td>\n",
       "      <td>...</td>\n",
       "      <td>0.0</td>\n",
       "      <td>3.78e+07</td>\n",
       "      <td>2.09e+06</td>\n",
       "      <td>3.57e+07</td>\n",
       "      <td>-2.09e+06</td>\n",
       "      <td>-361.15</td>\n",
       "      <td>3.78e+07</td>\n",
       "      <td>16460.0</td>\n",
       "      <td>0.0</td>\n",
       "      <td>0.0</td>\n",
       "    </tr>\n",
       "    <tr>\n",
       "      <th>376925</th>\n",
       "      <td>0.0</td>\n",
       "      <td>3.45e+07</td>\n",
       "      <td>36.87</td>\n",
       "      <td>0.0</td>\n",
       "      <td>0.0</td>\n",
       "      <td>0.0</td>\n",
       "      <td>0.0</td>\n",
       "      <td>2.0</td>\n",
       "      <td>0.0</td>\n",
       "      <td>0.0</td>\n",
       "      <td>...</td>\n",
       "      <td>0.0</td>\n",
       "      <td>3.46e+07</td>\n",
       "      <td>1.92e+06</td>\n",
       "      <td>3.26e+07</td>\n",
       "      <td>-1.89e+06</td>\n",
       "      <td>-69.80</td>\n",
       "      <td>3.46e+07</td>\n",
       "      <td>16460.0</td>\n",
       "      <td>0.0</td>\n",
       "      <td>0.0</td>\n",
       "    </tr>\n",
       "    <tr>\n",
       "      <th>74828</th>\n",
       "      <td>0.0</td>\n",
       "      <td>2.99e+07</td>\n",
       "      <td>7.23</td>\n",
       "      <td>0.0</td>\n",
       "      <td>0.0</td>\n",
       "      <td>0.0</td>\n",
       "      <td>0.0</td>\n",
       "      <td>2.0</td>\n",
       "      <td>0.0</td>\n",
       "      <td>2.0</td>\n",
       "      <td>...</td>\n",
       "      <td>0.0</td>\n",
       "      <td>2.99e+07</td>\n",
       "      <td>1.66e+06</td>\n",
       "      <td>2.83e+07</td>\n",
       "      <td>-1.66e+06</td>\n",
       "      <td>-12.00</td>\n",
       "      <td>2.99e+07</td>\n",
       "      <td>16460.0</td>\n",
       "      <td>0.0</td>\n",
       "      <td>0.0</td>\n",
       "    </tr>\n",
       "    <tr>\n",
       "      <th>81421</th>\n",
       "      <td>0.0</td>\n",
       "      <td>2.97e+07</td>\n",
       "      <td>69.77</td>\n",
       "      <td>0.0</td>\n",
       "      <td>0.0</td>\n",
       "      <td>0.0</td>\n",
       "      <td>0.0</td>\n",
       "      <td>3.0</td>\n",
       "      <td>1.0</td>\n",
       "      <td>0.0</td>\n",
       "      <td>...</td>\n",
       "      <td>0.0</td>\n",
       "      <td>2.97e+07</td>\n",
       "      <td>1.65e+06</td>\n",
       "      <td>2.81e+07</td>\n",
       "      <td>-1.63e+06</td>\n",
       "      <td>-113.39</td>\n",
       "      <td>2.97e+07</td>\n",
       "      <td>20780.0</td>\n",
       "      <td>0.0</td>\n",
       "      <td>0.0</td>\n",
       "    </tr>\n",
       "  </tbody>\n",
       "</table>\n",
       "<p>5 rows × 36 columns</p>\n",
       "</div>"
      ],
      "text/plain": [
       "        other_ben  aftertax_income    s006  wic_ben  tanf_ben  snap_ben  \\\n",
       "RECID                                                                     \n",
       "267908        0.0         1.07e+09   34.56      0.0       0.0       0.0   \n",
       "255188        0.0         3.78e+07  172.45      0.0       0.0       0.0   \n",
       "376925        0.0         3.45e+07   36.87      0.0       0.0       0.0   \n",
       "74828         0.0         2.99e+07    7.23      0.0       0.0       0.0   \n",
       "81421         0.0         2.97e+07   69.77      0.0       0.0       0.0   \n",
       "\n",
       "        ssi_ben  XTOT  nu18  n65     ...      bens_m  afti_yang_prevat  \\\n",
       "RECID                                ...                                 \n",
       "267908      0.0   2.0   0.0  0.0     ...         0.0          1.07e+09   \n",
       "255188      0.0   2.0   0.0  2.0     ...         0.0          3.78e+07   \n",
       "376925      0.0   2.0   0.0  0.0     ...         0.0          3.46e+07   \n",
       "74828       0.0   2.0   0.0  2.0     ...         0.0          2.99e+07   \n",
       "81421       0.0   3.0   1.0  0.0     ...         0.0          2.97e+07   \n",
       "\n",
       "             vat  afti_yang  afti_chg  afti_chg_m  afti_yang_prevat_noneg  \\\n",
       "RECID                                                                       \n",
       "267908  5.92e+07   1.01e+09 -5.92e+07    -2045.56                1.07e+09   \n",
       "255188  2.09e+06   3.57e+07 -2.09e+06     -361.15                3.78e+07   \n",
       "376925  1.92e+06   3.26e+07 -1.89e+06      -69.80                3.46e+07   \n",
       "74828   1.66e+06   2.83e+07 -1.66e+06      -12.00                2.99e+07   \n",
       "81421   1.65e+06   2.81e+07 -1.63e+06     -113.39                2.97e+07   \n",
       "\n",
       "            fpl  fpl_base_m  fpl_yang_m  \n",
       "RECID                                    \n",
       "267908  16460.0         0.0         0.0  \n",
       "255188  16460.0         0.0         0.0  \n",
       "376925  16460.0         0.0         0.0  \n",
       "74828   16460.0         0.0         0.0  \n",
       "81421   20780.0         0.0         0.0  \n",
       "\n",
       "[5 rows x 36 columns]"
      ]
     },
     "execution_count": 147,
     "metadata": {},
     "output_type": "execute_result"
    }
   ],
   "source": [
    "base.sort_values('afti).head()"
   ]
  },
  {
   "cell_type": "code",
   "execution_count": 110,
   "metadata": {},
   "outputs": [
    {
     "data": {
      "text/html": [
       "<div>\n",
       "<style scoped>\n",
       "    .dataframe tbody tr th:only-of-type {\n",
       "        vertical-align: middle;\n",
       "    }\n",
       "\n",
       "    .dataframe tbody tr th {\n",
       "        vertical-align: top;\n",
       "    }\n",
       "\n",
       "    .dataframe thead th {\n",
       "        text-align: right;\n",
       "    }\n",
       "</style>\n",
       "<table border=\"1\" class=\"dataframe\">\n",
       "  <thead>\n",
       "    <tr style=\"text-align: right;\">\n",
       "      <th></th>\n",
       "      <th>other_ben</th>\n",
       "      <th>aftertax_income</th>\n",
       "      <th>s006</th>\n",
       "      <th>wic_ben</th>\n",
       "      <th>tanf_ben</th>\n",
       "      <th>snap_ben</th>\n",
       "      <th>ssi_ben</th>\n",
       "      <th>XTOT</th>\n",
       "      <th>nu18</th>\n",
       "      <th>n65</th>\n",
       "      <th>...</th>\n",
       "      <th>ubi</th>\n",
       "      <th>ubi_m</th>\n",
       "      <th>ubi_max_m</th>\n",
       "      <th>bens_m</th>\n",
       "      <th>afti_yang_prevat</th>\n",
       "      <th>vat</th>\n",
       "      <th>afti_yang</th>\n",
       "      <th>afti_chg</th>\n",
       "      <th>afti_chg_m</th>\n",
       "      <th>afti_yang_prevat_noneg</th>\n",
       "    </tr>\n",
       "    <tr>\n",
       "      <th>RECID</th>\n",
       "      <th></th>\n",
       "      <th></th>\n",
       "      <th></th>\n",
       "      <th></th>\n",
       "      <th></th>\n",
       "      <th></th>\n",
       "      <th></th>\n",
       "      <th></th>\n",
       "      <th></th>\n",
       "      <th></th>\n",
       "      <th></th>\n",
       "      <th></th>\n",
       "      <th></th>\n",
       "      <th></th>\n",
       "      <th></th>\n",
       "      <th></th>\n",
       "      <th></th>\n",
       "      <th></th>\n",
       "      <th></th>\n",
       "      <th></th>\n",
       "      <th></th>\n",
       "    </tr>\n",
       "  </thead>\n",
       "  <tbody>\n",
       "    <tr>\n",
       "      <th>167613</th>\n",
       "      <td>0.0</td>\n",
       "      <td>2935.90</td>\n",
       "      <td>877.33</td>\n",
       "      <td>0.0</td>\n",
       "      <td>0.0</td>\n",
       "      <td>0.0</td>\n",
       "      <td>0.0</td>\n",
       "      <td>12.0</td>\n",
       "      <td>0.0</td>\n",
       "      <td>0.0</td>\n",
       "      <td>...</td>\n",
       "      <td>144000.0</td>\n",
       "      <td>126.34</td>\n",
       "      <td>126.34</td>\n",
       "      <td>0.0</td>\n",
       "      <td>146935.90</td>\n",
       "      <td>8149.89</td>\n",
       "      <td>138786.01</td>\n",
       "      <td>135850.11</td>\n",
       "      <td>119.19</td>\n",
       "      <td>146935.90</td>\n",
       "    </tr>\n",
       "    <tr>\n",
       "      <th>388397</th>\n",
       "      <td>0.0</td>\n",
       "      <td>0.00</td>\n",
       "      <td>550.97</td>\n",
       "      <td>0.0</td>\n",
       "      <td>0.0</td>\n",
       "      <td>0.0</td>\n",
       "      <td>0.0</td>\n",
       "      <td>7.0</td>\n",
       "      <td>0.0</td>\n",
       "      <td>0.0</td>\n",
       "      <td>...</td>\n",
       "      <td>84000.0</td>\n",
       "      <td>46.28</td>\n",
       "      <td>46.28</td>\n",
       "      <td>0.0</td>\n",
       "      <td>84000.00</td>\n",
       "      <td>4659.11</td>\n",
       "      <td>79340.89</td>\n",
       "      <td>79340.89</td>\n",
       "      <td>43.71</td>\n",
       "      <td>84000.00</td>\n",
       "    </tr>\n",
       "    <tr>\n",
       "      <th>201242</th>\n",
       "      <td>0.0</td>\n",
       "      <td>20623.71</td>\n",
       "      <td>107.18</td>\n",
       "      <td>0.0</td>\n",
       "      <td>0.0</td>\n",
       "      <td>0.0</td>\n",
       "      <td>0.0</td>\n",
       "      <td>7.0</td>\n",
       "      <td>0.0</td>\n",
       "      <td>0.0</td>\n",
       "      <td>...</td>\n",
       "      <td>84000.0</td>\n",
       "      <td>9.00</td>\n",
       "      <td>9.00</td>\n",
       "      <td>0.0</td>\n",
       "      <td>104623.71</td>\n",
       "      <td>5803.02</td>\n",
       "      <td>98820.69</td>\n",
       "      <td>78196.98</td>\n",
       "      <td>8.38</td>\n",
       "      <td>104623.71</td>\n",
       "    </tr>\n",
       "    <tr>\n",
       "      <th>201244</th>\n",
       "      <td>0.0</td>\n",
       "      <td>20623.71</td>\n",
       "      <td>107.18</td>\n",
       "      <td>0.0</td>\n",
       "      <td>0.0</td>\n",
       "      <td>0.0</td>\n",
       "      <td>0.0</td>\n",
       "      <td>7.0</td>\n",
       "      <td>0.0</td>\n",
       "      <td>0.0</td>\n",
       "      <td>...</td>\n",
       "      <td>84000.0</td>\n",
       "      <td>9.00</td>\n",
       "      <td>9.00</td>\n",
       "      <td>0.0</td>\n",
       "      <td>104623.71</td>\n",
       "      <td>5803.02</td>\n",
       "      <td>98820.69</td>\n",
       "      <td>78196.98</td>\n",
       "      <td>8.38</td>\n",
       "      <td>104623.71</td>\n",
       "    </tr>\n",
       "    <tr>\n",
       "      <th>201245</th>\n",
       "      <td>0.0</td>\n",
       "      <td>20623.71</td>\n",
       "      <td>107.18</td>\n",
       "      <td>0.0</td>\n",
       "      <td>0.0</td>\n",
       "      <td>0.0</td>\n",
       "      <td>0.0</td>\n",
       "      <td>7.0</td>\n",
       "      <td>0.0</td>\n",
       "      <td>0.0</td>\n",
       "      <td>...</td>\n",
       "      <td>84000.0</td>\n",
       "      <td>9.00</td>\n",
       "      <td>9.00</td>\n",
       "      <td>0.0</td>\n",
       "      <td>104623.71</td>\n",
       "      <td>5803.02</td>\n",
       "      <td>98820.69</td>\n",
       "      <td>78196.98</td>\n",
       "      <td>8.38</td>\n",
       "      <td>104623.71</td>\n",
       "    </tr>\n",
       "  </tbody>\n",
       "</table>\n",
       "<p>5 rows × 33 columns</p>\n",
       "</div>"
      ],
      "text/plain": [
       "        other_ben  aftertax_income    s006  wic_ben  tanf_ben  snap_ben  \\\n",
       "RECID                                                                     \n",
       "167613        0.0          2935.90  877.33      0.0       0.0       0.0   \n",
       "388397        0.0             0.00  550.97      0.0       0.0       0.0   \n",
       "201242        0.0         20623.71  107.18      0.0       0.0       0.0   \n",
       "201244        0.0         20623.71  107.18      0.0       0.0       0.0   \n",
       "201245        0.0         20623.71  107.18      0.0       0.0       0.0   \n",
       "\n",
       "        ssi_ben  XTOT  nu18  n65           ...                 ubi   ubi_m  \\\n",
       "RECID                                      ...                               \n",
       "167613      0.0  12.0   0.0  0.0           ...            144000.0  126.34   \n",
       "388397      0.0   7.0   0.0  0.0           ...             84000.0   46.28   \n",
       "201242      0.0   7.0   0.0  0.0           ...             84000.0    9.00   \n",
       "201244      0.0   7.0   0.0  0.0           ...             84000.0    9.00   \n",
       "201245      0.0   7.0   0.0  0.0           ...             84000.0    9.00   \n",
       "\n",
       "        ubi_max_m  bens_m  afti_yang_prevat      vat  afti_yang   afti_chg  \\\n",
       "RECID                                                                        \n",
       "167613     126.34     0.0         146935.90  8149.89  138786.01  135850.11   \n",
       "388397      46.28     0.0          84000.00  4659.11   79340.89   79340.89   \n",
       "201242       9.00     0.0         104623.71  5803.02   98820.69   78196.98   \n",
       "201244       9.00     0.0         104623.71  5803.02   98820.69   78196.98   \n",
       "201245       9.00     0.0         104623.71  5803.02   98820.69   78196.98   \n",
       "\n",
       "        afti_chg_m  afti_yang_prevat_noneg  \n",
       "RECID                                       \n",
       "167613      119.19               146935.90  \n",
       "388397       43.71                84000.00  \n",
       "201242        8.38               104623.71  \n",
       "201244        8.38               104623.71  \n",
       "201245        8.38               104623.71  \n",
       "\n",
       "[5 rows x 33 columns]"
      ]
     },
     "execution_count": 110,
     "metadata": {},
     "output_type": "execute_result"
    }
   ],
   "source": [
    "base.sort_values('afti_chg', ascending=False).head()"
   ]
  },
  {
   "cell_type": "code",
   "execution_count": 115,
   "metadata": {},
   "outputs": [
    {
     "data": {
      "text/html": [
       "<div>\n",
       "<style scoped>\n",
       "    .dataframe tbody tr th:only-of-type {\n",
       "        vertical-align: middle;\n",
       "    }\n",
       "\n",
       "    .dataframe tbody tr th {\n",
       "        vertical-align: top;\n",
       "    }\n",
       "\n",
       "    .dataframe thead th {\n",
       "        text-align: right;\n",
       "    }\n",
       "</style>\n",
       "<table border=\"1\" class=\"dataframe\">\n",
       "  <thead>\n",
       "    <tr style=\"text-align: right;\">\n",
       "      <th></th>\n",
       "      <th>aftertax_income_m</th>\n",
       "      <th>afti_chg_m</th>\n",
       "      <th>s006</th>\n",
       "      <th>afti_chg</th>\n",
       "      <th>afti_chg_pct</th>\n",
       "    </tr>\n",
       "    <tr>\n",
       "      <th>aftertax_income_decile</th>\n",
       "      <th></th>\n",
       "      <th></th>\n",
       "      <th></th>\n",
       "      <th></th>\n",
       "      <th></th>\n",
       "    </tr>\n",
       "  </thead>\n",
       "  <tbody>\n",
       "    <tr>\n",
       "      <th>0</th>\n",
       "      <td>-1.26e+04</td>\n",
       "      <td>634.60</td>\n",
       "      <td>4.98e+04</td>\n",
       "      <td>12738.39</td>\n",
       "      <td>-5.06e-02</td>\n",
       "    </tr>\n",
       "    <tr>\n",
       "      <th>1</th>\n",
       "      <td>1.65e+05</td>\n",
       "      <td>172089.67</td>\n",
       "      <td>1.65e+07</td>\n",
       "      <td>10444.44</td>\n",
       "      <td>1.04e+00</td>\n",
       "    </tr>\n",
       "    <tr>\n",
       "      <th>2</th>\n",
       "      <td>3.87e+05</td>\n",
       "      <td>160118.45</td>\n",
       "      <td>1.65e+07</td>\n",
       "      <td>9688.69</td>\n",
       "      <td>4.14e-01</td>\n",
       "    </tr>\n",
       "    <tr>\n",
       "      <th>3</th>\n",
       "      <td>5.18e+05</td>\n",
       "      <td>132497.67</td>\n",
       "      <td>1.65e+07</td>\n",
       "      <td>8017.63</td>\n",
       "      <td>2.56e-01</td>\n",
       "    </tr>\n",
       "    <tr>\n",
       "      <th>4</th>\n",
       "      <td>6.45e+05</td>\n",
       "      <td>132566.80</td>\n",
       "      <td>1.65e+07</td>\n",
       "      <td>8021.40</td>\n",
       "      <td>2.06e-01</td>\n",
       "    </tr>\n",
       "    <tr>\n",
       "      <th>5</th>\n",
       "      <td>7.93e+05</td>\n",
       "      <td>135509.72</td>\n",
       "      <td>1.65e+07</td>\n",
       "      <td>8199.86</td>\n",
       "      <td>1.71e-01</td>\n",
       "    </tr>\n",
       "    <tr>\n",
       "      <th>6</th>\n",
       "      <td>9.76e+05</td>\n",
       "      <td>123548.45</td>\n",
       "      <td>1.65e+07</td>\n",
       "      <td>7475.15</td>\n",
       "      <td>1.27e-01</td>\n",
       "    </tr>\n",
       "    <tr>\n",
       "      <th>7</th>\n",
       "      <td>1.21e+06</td>\n",
       "      <td>126934.51</td>\n",
       "      <td>1.65e+07</td>\n",
       "      <td>7680.95</td>\n",
       "      <td>1.05e-01</td>\n",
       "    </tr>\n",
       "    <tr>\n",
       "      <th>8</th>\n",
       "      <td>1.52e+06</td>\n",
       "      <td>126931.11</td>\n",
       "      <td>1.65e+07</td>\n",
       "      <td>7680.40</td>\n",
       "      <td>8.35e-02</td>\n",
       "    </tr>\n",
       "    <tr>\n",
       "      <th>9</th>\n",
       "      <td>2.03e+06</td>\n",
       "      <td>112904.92</td>\n",
       "      <td>1.65e+07</td>\n",
       "      <td>6831.76</td>\n",
       "      <td>5.55e-02</td>\n",
       "    </tr>\n",
       "    <tr>\n",
       "      <th>10</th>\n",
       "      <td>4.14e+06</td>\n",
       "      <td>22679.24</td>\n",
       "      <td>1.65e+07</td>\n",
       "      <td>1372.24</td>\n",
       "      <td>5.48e-03</td>\n",
       "    </tr>\n",
       "  </tbody>\n",
       "</table>\n",
       "</div>"
      ],
      "text/plain": [
       "                        aftertax_income_m  afti_chg_m      s006  afti_chg  \\\n",
       "aftertax_income_decile                                                      \n",
       "0                               -1.26e+04      634.60  4.98e+04  12738.39   \n",
       "1                                1.65e+05   172089.67  1.65e+07  10444.44   \n",
       "2                                3.87e+05   160118.45  1.65e+07   9688.69   \n",
       "3                                5.18e+05   132497.67  1.65e+07   8017.63   \n",
       "4                                6.45e+05   132566.80  1.65e+07   8021.40   \n",
       "5                                7.93e+05   135509.72  1.65e+07   8199.86   \n",
       "6                                9.76e+05   123548.45  1.65e+07   7475.15   \n",
       "7                                1.21e+06   126934.51  1.65e+07   7680.95   \n",
       "8                                1.52e+06   126931.11  1.65e+07   7680.40   \n",
       "9                                2.03e+06   112904.92  1.65e+07   6831.76   \n",
       "10                               4.14e+06    22679.24  1.65e+07   1372.24   \n",
       "\n",
       "                        afti_chg_pct  \n",
       "aftertax_income_decile                \n",
       "0                          -5.06e-02  \n",
       "1                           1.04e+00  \n",
       "2                           4.14e-01  \n",
       "3                           2.56e-01  \n",
       "4                           2.06e-01  \n",
       "5                           1.71e-01  \n",
       "6                           1.27e-01  \n",
       "7                           1.05e-01  \n",
       "8                           8.35e-02  \n",
       "9                           5.55e-02  \n",
       "10                          5.48e-03  "
      ]
     },
     "execution_count": 115,
     "metadata": {},
     "output_type": "execute_result"
    }
   ],
   "source": [
    "decile = base.groupby('aftertax_income_decile')['aftertax_income_m', 'afti_chg_m', 's006'].sum()\n",
    "decile['afti_chg'] = 1e6 * decile.afti_chg_m / decile.s006\n",
    "decile['afti_chg_pct'] = decile.afti_chg_m / decile.aftertax_income_m\n",
    "decile"
   ]
  },
  {
   "cell_type": "code",
   "execution_count": 112,
   "metadata": {},
   "outputs": [
    {
     "data": {
      "image/png": "[encoded data removed]",
      "text/plain": [
       "<Figure size 1280x960 with 1 Axes>"
      ]
     },
     "metadata": {},
     "output_type": "display_data"
    }
   ],
   "source": [
    "decile.afti_chg.plot()\n",
    "plt.show()"
   ]
  },
  {
   "cell_type": "code",
   "execution_count": 118,
   "metadata": {},
   "outputs": [
    {
     "data": {
      "image/png": "[encoded data removed]",
      "text/plain": [
       "<Figure size 1280x960 with 1 Axes>"
      ]
     },
     "metadata": {},
     "output_type": "display_data"
    }
   ],
   "source": [
    "ax = decile.afti_chg_pct.plot()\n",
    "ax.yaxis.set_major_formatter(mpl.ticker.FuncFormatter(\n",
    "        lambda y, _: '{:.0%}'.format(y)))\n",
    "plt.show()"
   ]
  },
  {
   "cell_type": "code",
   "execution_count": 120,
   "metadata": {},
   "outputs": [
    {
     "data": {
      "text/html": [
       "<div>\n",
       "<style scoped>\n",
       "    .dataframe tbody tr th:only-of-type {\n",
       "        vertical-align: middle;\n",
       "    }\n",
       "\n",
       "    .dataframe tbody tr th {\n",
       "        vertical-align: top;\n",
       "    }\n",
       "\n",
       "    .dataframe thead th {\n",
       "        text-align: right;\n",
       "    }\n",
       "</style>\n",
       "<table border=\"1\" class=\"dataframe\">\n",
       "  <thead>\n",
       "    <tr style=\"text-align: right;\">\n",
       "      <th></th>\n",
       "      <th>aftertax_income_m</th>\n",
       "      <th>afti_chg_m</th>\n",
       "      <th>s006</th>\n",
       "      <th>afti_chg</th>\n",
       "      <th>afti_chg_pct</th>\n",
       "    </tr>\n",
       "    <tr>\n",
       "      <th>aftertax_income_ventile</th>\n",
       "      <th></th>\n",
       "      <th></th>\n",
       "      <th></th>\n",
       "      <th></th>\n",
       "      <th></th>\n",
       "    </tr>\n",
       "  </thead>\n",
       "  <tbody>\n",
       "    <tr>\n",
       "      <th>0</th>\n",
       "      <td>-1.26e+04</td>\n",
       "      <td>634.60</td>\n",
       "      <td>4.98e+04</td>\n",
       "      <td>12738.39</td>\n",
       "      <td>-5.06e-02</td>\n",
       "    </tr>\n",
       "    <tr>\n",
       "      <th>5</th>\n",
       "      <td>3.87e+04</td>\n",
       "      <td>86670.55</td>\n",
       "      <td>8.21e+06</td>\n",
       "      <td>10552.88</td>\n",
       "      <td>2.24e+00</td>\n",
       "    </tr>\n",
       "    <tr>\n",
       "      <th>10</th>\n",
       "      <td>1.26e+05</td>\n",
       "      <td>85419.13</td>\n",
       "      <td>8.26e+06</td>\n",
       "      <td>10336.66</td>\n",
       "      <td>6.75e-01</td>\n",
       "    </tr>\n",
       "    <tr>\n",
       "      <th>15</th>\n",
       "      <td>1.75e+05</td>\n",
       "      <td>84478.82</td>\n",
       "      <td>8.26e+06</td>\n",
       "      <td>10223.46</td>\n",
       "      <td>4.84e-01</td>\n",
       "    </tr>\n",
       "    <tr>\n",
       "      <th>20</th>\n",
       "      <td>2.12e+05</td>\n",
       "      <td>75639.63</td>\n",
       "      <td>8.26e+06</td>\n",
       "      <td>9153.92</td>\n",
       "      <td>3.57e-01</td>\n",
       "    </tr>\n",
       "    <tr>\n",
       "      <th>25</th>\n",
       "      <td>2.44e+05</td>\n",
       "      <td>68882.07</td>\n",
       "      <td>8.26e+06</td>\n",
       "      <td>8335.78</td>\n",
       "      <td>2.82e-01</td>\n",
       "    </tr>\n",
       "    <tr>\n",
       "      <th>30</th>\n",
       "      <td>2.74e+05</td>\n",
       "      <td>63615.60</td>\n",
       "      <td>8.26e+06</td>\n",
       "      <td>7699.45</td>\n",
       "      <td>2.32e-01</td>\n",
       "    </tr>\n",
       "    <tr>\n",
       "      <th>35</th>\n",
       "      <td>3.06e+05</td>\n",
       "      <td>64797.64</td>\n",
       "      <td>8.26e+06</td>\n",
       "      <td>7840.81</td>\n",
       "      <td>2.12e-01</td>\n",
       "    </tr>\n",
       "    <tr>\n",
       "      <th>40</th>\n",
       "      <td>3.39e+05</td>\n",
       "      <td>67769.16</td>\n",
       "      <td>8.26e+06</td>\n",
       "      <td>8202.03</td>\n",
       "      <td>2.00e-01</td>\n",
       "    </tr>\n",
       "    <tr>\n",
       "      <th>45</th>\n",
       "      <td>3.76e+05</td>\n",
       "      <td>68982.39</td>\n",
       "      <td>8.26e+06</td>\n",
       "      <td>8347.94</td>\n",
       "      <td>1.83e-01</td>\n",
       "    </tr>\n",
       "    <tr>\n",
       "      <th>50</th>\n",
       "      <td>4.17e+05</td>\n",
       "      <td>66527.33</td>\n",
       "      <td>8.26e+06</td>\n",
       "      <td>8051.76</td>\n",
       "      <td>1.60e-01</td>\n",
       "    </tr>\n",
       "    <tr>\n",
       "      <th>55</th>\n",
       "      <td>4.62e+05</td>\n",
       "      <td>61961.88</td>\n",
       "      <td>8.26e+06</td>\n",
       "      <td>7497.22</td>\n",
       "      <td>1.34e-01</td>\n",
       "    </tr>\n",
       "    <tr>\n",
       "      <th>60</th>\n",
       "      <td>5.14e+05</td>\n",
       "      <td>61586.57</td>\n",
       "      <td>8.26e+06</td>\n",
       "      <td>7453.08</td>\n",
       "      <td>1.20e-01</td>\n",
       "    </tr>\n",
       "    <tr>\n",
       "      <th>65</th>\n",
       "      <td>5.71e+05</td>\n",
       "      <td>63848.47</td>\n",
       "      <td>8.26e+06</td>\n",
       "      <td>7727.55</td>\n",
       "      <td>1.12e-01</td>\n",
       "    </tr>\n",
       "    <tr>\n",
       "      <th>70</th>\n",
       "      <td>6.35e+05</td>\n",
       "      <td>63086.05</td>\n",
       "      <td>8.26e+06</td>\n",
       "      <td>7634.36</td>\n",
       "      <td>9.93e-02</td>\n",
       "    </tr>\n",
       "    <tr>\n",
       "      <th>75</th>\n",
       "      <td>7.14e+05</td>\n",
       "      <td>64941.00</td>\n",
       "      <td>8.26e+06</td>\n",
       "      <td>7858.83</td>\n",
       "      <td>9.10e-02</td>\n",
       "    </tr>\n",
       "    <tr>\n",
       "      <th>80</th>\n",
       "      <td>8.07e+05</td>\n",
       "      <td>61990.11</td>\n",
       "      <td>8.26e+06</td>\n",
       "      <td>7501.97</td>\n",
       "      <td>7.68e-02</td>\n",
       "    </tr>\n",
       "    <tr>\n",
       "      <th>85</th>\n",
       "      <td>9.29e+05</td>\n",
       "      <td>57607.53</td>\n",
       "      <td>8.26e+06</td>\n",
       "      <td>6971.23</td>\n",
       "      <td>6.20e-02</td>\n",
       "    </tr>\n",
       "    <tr>\n",
       "      <th>90</th>\n",
       "      <td>1.10e+06</td>\n",
       "      <td>55297.38</td>\n",
       "      <td>8.26e+06</td>\n",
       "      <td>6692.28</td>\n",
       "      <td>5.01e-02</td>\n",
       "    </tr>\n",
       "    <tr>\n",
       "      <th>95</th>\n",
       "      <td>1.39e+06</td>\n",
       "      <td>46140.94</td>\n",
       "      <td>8.26e+06</td>\n",
       "      <td>5583.46</td>\n",
       "      <td>3.32e-02</td>\n",
       "    </tr>\n",
       "    <tr>\n",
       "      <th>100</th>\n",
       "      <td>2.75e+06</td>\n",
       "      <td>-23461.70</td>\n",
       "      <td>8.26e+06</td>\n",
       "      <td>-2839.27</td>\n",
       "      <td>-8.54e-03</td>\n",
       "    </tr>\n",
       "  </tbody>\n",
       "</table>\n",
       "</div>"
      ],
      "text/plain": [
       "                         aftertax_income_m  afti_chg_m      s006  afti_chg  \\\n",
       "aftertax_income_ventile                                                      \n",
       "0                                -1.26e+04      634.60  4.98e+04  12738.39   \n",
       "5                                 3.87e+04    86670.55  8.21e+06  10552.88   \n",
       "10                                1.26e+05    85419.13  8.26e+06  10336.66   \n",
       "15                                1.75e+05    84478.82  8.26e+06  10223.46   \n",
       "20                                2.12e+05    75639.63  8.26e+06   9153.92   \n",
       "25                                2.44e+05    68882.07  8.26e+06   8335.78   \n",
       "30                                2.74e+05    63615.60  8.26e+06   7699.45   \n",
       "35                                3.06e+05    64797.64  8.26e+06   7840.81   \n",
       "40                                3.39e+05    67769.16  8.26e+06   8202.03   \n",
       "45                                3.76e+05    68982.39  8.26e+06   8347.94   \n",
       "50                                4.17e+05    66527.33  8.26e+06   8051.76   \n",
       "55                                4.62e+05    61961.88  8.26e+06   7497.22   \n",
       "60                                5.14e+05    61586.57  8.26e+06   7453.08   \n",
       "65                                5.71e+05    63848.47  8.26e+06   7727.55   \n",
       "70                                6.35e+05    63086.05  8.26e+06   7634.36   \n",
       "75                                7.14e+05    64941.00  8.26e+06   7858.83   \n",
       "80                                8.07e+05    61990.11  8.26e+06   7501.97   \n",
       "85                                9.29e+05    57607.53  8.26e+06   6971.23   \n",
       "90                                1.10e+06    55297.38  8.26e+06   6692.28   \n",
       "95                                1.39e+06    46140.94  8.26e+06   5583.46   \n",
       "100                               2.75e+06   -23461.70  8.26e+06  -2839.27   \n",
       "\n",
       "                         afti_chg_pct  \n",
       "aftertax_income_ventile                \n",
       "0                           -5.06e-02  \n",
       "5                            2.24e+00  \n",
       "10                           6.75e-01  \n",
       "15                           4.84e-01  \n",
       "20                           3.57e-01  \n",
       "25                           2.82e-01  \n",
       "30                           2.32e-01  \n",
       "35                           2.12e-01  \n",
       "40                           2.00e-01  \n",
       "45                           1.83e-01  \n",
       "50                           1.60e-01  \n",
       "55                           1.34e-01  \n",
       "60                           1.20e-01  \n",
       "65                           1.12e-01  \n",
       "70                           9.93e-02  \n",
       "75                           9.10e-02  \n",
       "80                           7.68e-02  \n",
       "85                           6.20e-02  \n",
       "90                           5.01e-02  \n",
       "95                           3.32e-02  \n",
       "100                         -8.54e-03  "
      ]
     },
     "execution_count": 120,
     "metadata": {},
     "output_type": "execute_result"
    }
   ],
   "source": [
    "ventile = base.groupby('aftertax_income_ventile')['aftertax_income_m', 'afti_chg_m', 's006'].sum()\n",
    "ventile['afti_chg'] = 1e6 * ventile.afti_chg_m / ventile.s006\n",
    "ventile['afti_chg_pct'] = ventile.afti_chg_m / ventile.aftertax_income_m\n",
    "ventile"
   ]
  },
  {
   "cell_type": "code",
   "execution_count": 122,
   "metadata": {},
   "outputs": [
    {
     "data": {
      "image/png": "[encoded data removed]",
      "text/plain": [
       "<Figure size 1280x960 with 1 Axes>"
      ]
     },
     "metadata": {},
     "output_type": "display_data"
    }
   ],
   "source": [
    "ax = ventile.afti_chg_pct.plot()\n",
    "ax.yaxis.set_major_formatter(mpl.ticker.FuncFormatter(\n",
    "        lambda y, _: '{:.0%}'.format(y)))\n",
    "plt.show()"
   ]
  },
  {
   "cell_type": "code",
   "execution_count": 114,
   "metadata": {},
   "outputs": [
    {
     "data": {
      "image/png": "[encoded data removed]",
      "text/plain": [
       "<Figure size 1280x960 with 1 Axes>"
      ]
     },
     "metadata": {},
     "output_type": "display_data"
    }
   ],
   "source": [
    "ventile.afti_chg.plot()\n",
    "plt.show()"
   ]
  },
  {
   "cell_type": "markdown",
   "metadata": {},
   "source": [
    "### Poverty"
   ]
  },
  {
   "cell_type": "code",
   "execution_count": 137,
   "metadata": {},
   "outputs": [],
   "source": [
    "base['fpl'] = tch.fpl(base.XTOT)\n",
    "base['fpl_base_m'] = base.XTOT_m * (base.aftertax_income < base.fpl)\n",
    "base['fpl_yang_m'] = base.XTOT_m * (base.afti_yang < base.fpl)"
   ]
  },
  {
   "cell_type": "code",
   "execution_count": 138,
   "metadata": {},
   "outputs": [
    {
     "data": {
      "text/plain": [
       "0.05053883636467064"
      ]
     },
     "execution_count": 138,
     "metadata": {},
     "output_type": "execute_result"
    }
   ],
   "source": [
    "base.fpl_base_m.sum() / base.XTOT_m.sum()"
   ]
  },
  {
   "cell_type": "code",
   "execution_count": 139,
   "metadata": {},
   "outputs": [
    {
     "data": {
      "text/plain": [
       "0.013771445987322386"
      ]
     },
     "execution_count": 139,
     "metadata": {},
     "output_type": "execute_result"
    }
   ],
   "source": [
    "base.fpl_yang_m.sum() / base.XTOT_m.sum()"
   ]
  },
  {
   "cell_type": "code",
   "execution_count": 146,
   "metadata": {},
   "outputs": [
    {
     "data": {
      "text/plain": [
       "count    146.00\n",
       "mean       0.04\n",
       "std        0.20\n",
       "min        0.00\n",
       "25%        0.00\n",
       "50%        0.00\n",
       "75%        0.00\n",
       "max        1.00\n",
       "Name: adults, dtype: float64"
      ]
     },
     "execution_count": 146,
     "metadata": {},
     "output_type": "execute_result"
    }
   ],
   "source": [
    "base[base.fpl_base_m < base.fpl_yang_m].adults.describe()"
   ]
  }
 ],
 "metadata": {
  "kernelspec": {
   "display_name": "Python 3",
   "language": "python",
   "name": "python3"
  },
  "language_info": {
   "codemirror_mode": {
    "name": "ipython",
    "version": 3
   },
   "file_extension": ".py",
   "mimetype": "text/x-python",
   "name": "python",
   "nbconvert_exporter": "python",
   "pygments_lexer": "ipython3",
   "version": "3.6.6"
  },
  "toc": {
   "base_numbering": 1,
   "nav_menu": {},
   "number_sections": true,
   "sideBar": true,
   "skip_h1_title": false,
   "title_cell": "Table of Contents",
   "title_sidebar": "Contents",
   "toc_cell": false,
   "toc_position": {},
   "toc_section_display": true,
   "toc_window_display": false
  }
 },
 "nbformat": 4,
 "nbformat_minor": 2
}
