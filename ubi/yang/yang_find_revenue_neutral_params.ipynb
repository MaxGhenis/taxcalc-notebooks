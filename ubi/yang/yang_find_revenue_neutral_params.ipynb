{
 "cells": [
  {
   "cell_type": "markdown",
   "metadata": {},
   "source": [
    "# Andrew Yang's Freedom Dividend: Find revenue-neutral parameters\n",
    "\n",
    "Estimate the effect of Andrew Yang's [Freedom Dividend](https://www.yang2020.com/policies/the-freedom-dividend/) of $12,000 per year per adult over age 18, funded by a 10 percent [value-added tax](https://www.yang2020.com/policies/value-added-tax/) and reducing benefits by up to the UBI amount for each tax unit.\n",
    "\n",
    "Assumptions:\n",
    "* Adults are 18+ not 19+, for data availability.\n",
    "* Benefits include SNAP, WIC, SSI, TANF, WIC, Social Security, and unemployment insurance. Per Yang's [tweet](https://twitter.com/AndrewYang/status/970104619832659968), it excludes housing benefits and Medicare. It also excludes Medicaid, veteran's benefits (which are largely pension and healthcare) and \"other benefits\" included in C-TAM, which also include some healthcare.\n",
    "* VAT incidence is proportional to [Tax Policy Center's estimate](https://www.taxpolicycenter.org/briefing-book/who-would-bear-burden-vat) of a 5 percent VAT's effect as of 2015. These are scaled linearly to match Yang's estimate that his VAT would raise $800 billion per year.\n",
    "* VAT incidence is treated as an income tax; per TPC:\n",
    ">Conceptually, the tax can either raise the total price (inclusive of the sales tax) paid by consumers or reduce the amount of business revenue available to compensate workers and investors. Theory and evidence suggest that the VAT is passed along to consumers via higher prices. Either way, the decline in real household income is the same regardless of whether prices rise (holding nominal incomes constant) or whether nominal incomes fall (holding the price level constant).\n",
    "\n",
    "*Data: CPS  |  Tax year: 2019  |  Type: Static  |  Author: Max Ghenis*"
   ]
  },
  {
   "cell_type": "markdown",
   "metadata": {},
   "source": [
    "## Setup\n",
    "\n",
    "### Imports"
   ]
  },
  {
   "cell_type": "code",
   "execution_count": 1,
   "metadata": {},
   "outputs": [],
   "source": [
    "import taxcalc as tc\n",
    "import taxcalc_helpers as tch\n",
    "import pandas as pd\n",
    "import numpy as np\n",
    "import matplotlib as mpl\n",
    "import matplotlib.pyplot as plt\n",
    "import seaborn as sns"
   ]
  },
  {
   "cell_type": "code",
   "execution_count": 2,
   "metadata": {},
   "outputs": [
    {
     "data": {
      "text/plain": [
       "'2.0.0'"
      ]
     },
     "execution_count": 2,
     "metadata": {},
     "output_type": "execute_result"
    }
   ],
   "source": [
    "tc.__version__"
   ]
  },
  {
   "cell_type": "markdown",
   "metadata": {},
   "source": [
    "### Settings"
   ]
  },
  {
   "cell_type": "code",
   "execution_count": 3,
   "metadata": {},
   "outputs": [],
   "source": [
    "sns.set_style('white')\n",
    "DPI = 200\n",
    "mpl.rc('savefig', dpi=DPI)\n",
    "mpl.rcParams['figure.dpi'] = DPI\n",
    "mpl.rcParams['figure.figsize'] = 6.4, 4.8  # Default."
   ]
  },
  {
   "cell_type": "code",
   "execution_count": 4,
   "metadata": {},
   "outputs": [],
   "source": [
    "mpl.rcParams['font.sans-serif'] = 'Roboto'\n",
    "mpl.rcParams['font.family'] = 'sans-serif'\n",
    "\n",
    "# Set title text color to dark gray (https://material.io/color) not black.\n",
    "TITLE_COLOR = '#212121'\n",
    "mpl.rcParams['text.color'] = TITLE_COLOR\n",
    "\n",
    "# Axis titles and tick marks are medium gray.\n",
    "AXIS_COLOR = '#757575'\n",
    "mpl.rcParams['axes.labelcolor'] = AXIS_COLOR\n",
    "mpl.rcParams['xtick.color'] = AXIS_COLOR\n",
    "mpl.rcParams['ytick.color'] = AXIS_COLOR\n",
    "\n",
    "GRID_COLOR = '#f5f5f5'\n",
    "\n",
    "# Use Seaborn's default color palette.\n",
    "# https://stackoverflow.com/q/48958426/1840471 for reproducibility.\n",
    "sns.set_palette(sns.color_palette())"
   ]
  },
  {
   "cell_type": "code",
   "execution_count": 5,
   "metadata": {},
   "outputs": [],
   "source": [
    "# Show one decimal in tables.\n",
    "pd.set_option('precision', 2)"
   ]
  },
  {
   "cell_type": "code",
   "execution_count": 6,
   "metadata": {},
   "outputs": [],
   "source": [
    "np.random.seed(0)"
   ]
  },
  {
   "cell_type": "markdown",
   "metadata": {},
   "source": [
    "## Major parameters"
   ]
  },
  {
   "cell_type": "code",
   "execution_count": 7,
   "metadata": {},
   "outputs": [],
   "source": [
    "UBI = 1000 * 12\n",
    "TOTAL_VAT = 800e9\n",
    "TOTAL_FTT = 50e9\n",
    "CARBON_FEE = 40\n",
    "CARBON_FEE_TPC = 49  # Fee from the paper.\n",
    "CARBON_FEE_UBI_SHARE = 0.5  # Half goes to UBI, half to other projects.\n",
    "PCT_CITIZEN = 0.93"
   ]
  },
  {
   "cell_type": "code",
   "execution_count": 8,
   "metadata": {},
   "outputs": [],
   "source": [
    "INCIDENCE = pd.DataFrame({\n",
    "    'income_percentile_floor': [-1, 10, 20, 30, 40, 50, 60, 70, 80, 90, 95, 99, 99.9],\n",
    "    'vat': [3.9, 3.9, 3.6, 3.6, 3.6, 3.6, 3.6, 3.4, 3.4, 3.2, 2.8, 2.5, 2.5],\n",
    "    'carbon_tax': [0.8, 1.2, 1.4, 1.5, 1.6, 1.7, 1.8, 1.8, 1.8, 1.8, 1.6, 1.4, 0.7],\n",
    "    'ftt': [0.1, 0.1, 0.1, 0.1, 0.1, 0.1, 0.2, 0.2, 0.2, 0.3, 0.4, 0.8, 1.0]\n",
    "})\n",
    "\n",
    "INCIDENCE[['vat', 'carbon_tax', 'ftt']] /= 100\n",
    "\n",
    "# Adjust carbon tax by the relative fee schedule.\n",
    "INCIDENCE.carbon_tax *= CARBON_FEE / CARBON_FEE_TPC"
   ]
  },
  {
   "cell_type": "code",
   "execution_count": 9,
   "metadata": {
    "scrolled": false
   },
   "outputs": [
    {
     "data": {
      "text/html": [
       "<div>\n",
       "<style scoped>\n",
       "    .dataframe tbody tr th:only-of-type {\n",
       "        vertical-align: middle;\n",
       "    }\n",
       "\n",
       "    .dataframe tbody tr th {\n",
       "        vertical-align: top;\n",
       "    }\n",
       "\n",
       "    .dataframe thead th {\n",
       "        text-align: right;\n",
       "    }\n",
       "</style>\n",
       "<table border=\"1\" class=\"dataframe\">\n",
       "  <thead>\n",
       "    <tr style=\"text-align: right;\">\n",
       "      <th></th>\n",
       "      <th>income_percentile_floor</th>\n",
       "      <th>vat</th>\n",
       "      <th>carbon_tax</th>\n",
       "      <th>ftt</th>\n",
       "    </tr>\n",
       "  </thead>\n",
       "  <tbody>\n",
       "    <tr>\n",
       "      <th>0</th>\n",
       "      <td>-1.0</td>\n",
       "      <td>0.04</td>\n",
       "      <td>6.53e-03</td>\n",
       "      <td>1.00e-03</td>\n",
       "    </tr>\n",
       "    <tr>\n",
       "      <th>1</th>\n",
       "      <td>10.0</td>\n",
       "      <td>0.04</td>\n",
       "      <td>9.80e-03</td>\n",
       "      <td>1.00e-03</td>\n",
       "    </tr>\n",
       "    <tr>\n",
       "      <th>2</th>\n",
       "      <td>20.0</td>\n",
       "      <td>0.04</td>\n",
       "      <td>1.14e-02</td>\n",
       "      <td>1.00e-03</td>\n",
       "    </tr>\n",
       "    <tr>\n",
       "      <th>3</th>\n",
       "      <td>30.0</td>\n",
       "      <td>0.04</td>\n",
       "      <td>1.22e-02</td>\n",
       "      <td>1.00e-03</td>\n",
       "    </tr>\n",
       "    <tr>\n",
       "      <th>4</th>\n",
       "      <td>40.0</td>\n",
       "      <td>0.04</td>\n",
       "      <td>1.31e-02</td>\n",
       "      <td>1.00e-03</td>\n",
       "    </tr>\n",
       "    <tr>\n",
       "      <th>5</th>\n",
       "      <td>50.0</td>\n",
       "      <td>0.04</td>\n",
       "      <td>1.39e-02</td>\n",
       "      <td>1.00e-03</td>\n",
       "    </tr>\n",
       "    <tr>\n",
       "      <th>6</th>\n",
       "      <td>60.0</td>\n",
       "      <td>0.04</td>\n",
       "      <td>1.47e-02</td>\n",
       "      <td>2.00e-03</td>\n",
       "    </tr>\n",
       "    <tr>\n",
       "      <th>7</th>\n",
       "      <td>70.0</td>\n",
       "      <td>0.03</td>\n",
       "      <td>1.47e-02</td>\n",
       "      <td>2.00e-03</td>\n",
       "    </tr>\n",
       "    <tr>\n",
       "      <th>8</th>\n",
       "      <td>80.0</td>\n",
       "      <td>0.03</td>\n",
       "      <td>1.47e-02</td>\n",
       "      <td>2.00e-03</td>\n",
       "    </tr>\n",
       "    <tr>\n",
       "      <th>9</th>\n",
       "      <td>90.0</td>\n",
       "      <td>0.03</td>\n",
       "      <td>1.47e-02</td>\n",
       "      <td>3.00e-03</td>\n",
       "    </tr>\n",
       "    <tr>\n",
       "      <th>10</th>\n",
       "      <td>95.0</td>\n",
       "      <td>0.03</td>\n",
       "      <td>1.31e-02</td>\n",
       "      <td>4.00e-03</td>\n",
       "    </tr>\n",
       "    <tr>\n",
       "      <th>11</th>\n",
       "      <td>99.0</td>\n",
       "      <td>0.03</td>\n",
       "      <td>1.14e-02</td>\n",
       "      <td>8.00e-03</td>\n",
       "    </tr>\n",
       "    <tr>\n",
       "      <th>12</th>\n",
       "      <td>99.9</td>\n",
       "      <td>0.03</td>\n",
       "      <td>5.71e-03</td>\n",
       "      <td>1.00e-02</td>\n",
       "    </tr>\n",
       "  </tbody>\n",
       "</table>\n",
       "</div>"
      ],
      "text/plain": [
       "    income_percentile_floor   vat  carbon_tax       ftt\n",
       "0                      -1.0  0.04    6.53e-03  1.00e-03\n",
       "1                      10.0  0.04    9.80e-03  1.00e-03\n",
       "2                      20.0  0.04    1.14e-02  1.00e-03\n",
       "3                      30.0  0.04    1.22e-02  1.00e-03\n",
       "4                      40.0  0.04    1.31e-02  1.00e-03\n",
       "5                      50.0  0.04    1.39e-02  1.00e-03\n",
       "6                      60.0  0.04    1.47e-02  2.00e-03\n",
       "7                      70.0  0.03    1.47e-02  2.00e-03\n",
       "8                      80.0  0.03    1.47e-02  2.00e-03\n",
       "9                      90.0  0.03    1.47e-02  3.00e-03\n",
       "10                     95.0  0.03    1.31e-02  4.00e-03\n",
       "11                     99.0  0.03    1.14e-02  8.00e-03\n",
       "12                     99.9  0.03    5.71e-03  1.00e-02"
      ]
     },
     "execution_count": 9,
     "metadata": {},
     "output_type": "execute_result"
    }
   ],
   "source": [
    "INCIDENCE"
   ]
  },
  {
   "cell_type": "markdown",
   "metadata": {},
   "source": [
    "## Data"
   ]
  },
  {
   "cell_type": "code",
   "execution_count": 10,
   "metadata": {},
   "outputs": [],
   "source": [
    "recs = tc.Records.cps_constructor()"
   ]
  },
  {
   "cell_type": "code",
   "execution_count": 11,
   "metadata": {},
   "outputs": [],
   "source": [
    "BENS = ['snap_ben', 'ssi_ben', 'tanf_ben', 'wic_ben',\n",
    "        'e02400',  # Social Security (OASDI).\n",
    "        'e02300'  # Unemployment insurance.\n",
    "       ]"
   ]
  },
  {
   "cell_type": "code",
   "execution_count": 12,
   "metadata": {},
   "outputs": [],
   "source": [
    "base = tch.calc_df(records=recs, year=2021,  # Yang's page says it begins in 2021.\n",
    "                   group_vars=['nu18', 'n1820', 'n21'] + BENS,\n",
    "                   group_n65=True,\n",
    "                   metric_vars=['aftertax_income', 'XTOT'])\n",
    "tch.add_weighted_quantiles(base, 'aftertax_income')"
   ]
  },
  {
   "cell_type": "markdown",
   "metadata": {},
   "source": [
    "### Preprocessing"
   ]
  },
  {
   "cell_type": "code",
   "execution_count": 13,
   "metadata": {},
   "outputs": [],
   "source": [
    "base['bens'] = base[BENS].sum(axis=1)\n",
    "base['adults'] = base.n1820 + base.n21\n",
    "# Assign tax units entirely to citizenship status randomly.\n",
    "base['adult_citizens'] = base.adults * np.random.binomial(1, PCT_CITIZEN, base.shape[0])"
   ]
  },
  {
   "cell_type": "markdown",
   "metadata": {},
   "source": [
    "### Revenue-neutral"
   ]
  },
  {
   "cell_type": "code",
   "execution_count": 14,
   "metadata": {},
   "outputs": [],
   "source": [
    "def yang_shortfall(ubi=UBI, data=base):\n",
    "    base = data.copy(deep=True)\n",
    "    base['ubi_max'] = base.adult_citizens * ubi\n",
    "    # Tax units take the UBI if it exceeds benefits.\n",
    "    base['ubi'] = np.where(base.ubi_max > base.bens, base.ubi_max, 0)\n",
    "    # Tax units that take the UBI decline benefits.\n",
    "    base['bens_yang'] = np.where(base.ubi > 0, 0, base.bens)\n",
    "    base['bens_cut'] = base.bens - base.bens_yang\n",
    "    # Weight\n",
    "    base['ubi_m'] = base.ubi * base.s006 / 1e6\n",
    "    base['ubi_max_m'] = base.ubi_max * base.s006 / 1e6\n",
    "    base['bens_m'] = base.bens * base.s006 / 1e6\n",
    "    base['bens_yang_m'] = base.bens_yang * base.s006 / 1e6\n",
    "    base['bens_cut_m'] = base.bens_cut * base.s006 / 1e6\n",
    "    # New taxes\n",
    "    base['afti_yang_pre_new_taxes'] = base.aftertax_income + base.ubi - base.bens_cut\n",
    "    base['afti_yang_pre_new_taxes_noneg'] = base.afti_yang_pre_new_taxes.clip_lower(0)\n",
    "    tch.add_weighted_quantiles(base, 'afti_yang_pre_new_taxes_noneg')\n",
    "    base['vat_rate_prescale'] = INCIDENCE.vat[\n",
    "        pd.cut(base.afti_yang_pre_new_taxes_noneg_percentile_exact,\n",
    "               bins=INCIDENCE.income_percentile_floor.tolist() + [100],\n",
    "               labels=False)].values\n",
    "    base['ftt_rate_prescale'] = INCIDENCE.ftt[\n",
    "        pd.cut(base.afti_yang_pre_new_taxes_noneg_percentile_exact,\n",
    "               bins=INCIDENCE.income_percentile_floor.tolist() + [100],\n",
    "               labels=False)].values\n",
    "    base['carbon_tax_rate_prescale'] = INCIDENCE.carbon_tax[\n",
    "        pd.cut(base.afti_yang_pre_new_taxes_noneg_percentile_exact,\n",
    "               bins=INCIDENCE.income_percentile_floor.tolist() + [100],\n",
    "               labels=False)].values\n",
    "    base['vat_base'] = base.afti_yang_pre_new_taxes_noneg * base.vat_rate_prescale\n",
    "    base['ftt_base'] = base.afti_yang_pre_new_taxes_noneg * base.ftt_rate_prescale\n",
    "    # No need for a base here, since the target carbon tax isn't specified.\n",
    "    base['carbon_tax'] = base.afti_yang_pre_new_taxes_noneg * base.carbon_tax_rate_prescale\n",
    "    vat_mult = TOTAL_VAT / tch.weighted_sum(base, 'vat_base')\n",
    "    ftt_mult = TOTAL_FTT / tch.weighted_sum(base, 'ftt_base')\n",
    "    base['vat'] = base.vat_base * vat_mult\n",
    "    base['ftt'] = base.ftt_base * ftt_mult\n",
    "    base['new_taxes'] = base.vat + base.ftt + base.carbon_tax\n",
    "    base['vat_m'] = tch.weight(base, 'vat') / 1e6\n",
    "    base['ftt_m'] = tch.weight(base, 'ftt') / 1e6\n",
    "    base['new_taxes_m'] = tch.weight(base, 'new_taxes') / 1e6\n",
    "    base['afti_yang_pre_new_taxes_noneg_m'] = tch.weight(base, 'afti_yang_pre_new_taxes_noneg') / 1e6\n",
    "    base['afti_yang'] = base.afti_yang_pre_new_taxes - base.vat - base.ftt - base.carbon_tax\n",
    "    base['afti_chg'] = base.afti_yang - base.aftertax_income\n",
    "    base['afti_chg_m'] = base.afti_chg * base.s006 / 1e6\n",
    "    shortfall_m = (base.afti_chg_m.sum() + \n",
    "                   CARBON_FEE_UBI_SHARE * tch.weighted_sum(base, 'carbon_tax') / 1e6)\n",
    "    return shortfall_m * 1e6"
   ]
  },
  {
   "cell_type": "code",
   "execution_count": 15,
   "metadata": {},
   "outputs": [],
   "source": [
    "def shortfall_by_ubi(ubi=UBI, data=base):\n",
    "    return pd.DataFrame({'ubi': [ubi],\n",
    "                         'shortfall': [yang_shortfall(ubi)]})"
   ]
  },
  {
   "cell_type": "code",
   "execution_count": 16,
   "metadata": {},
   "outputs": [],
   "source": [
    "shortfalls_l = []\n",
    "for i in np.arange(0, UBI+1, 120):\n",
    "    shortfalls_l.append(shortfall_by_ubi(ubi=i))\n",
    "shortfalls = pd.concat(shortfalls_l).drop_duplicates()"
   ]
  },
  {
   "cell_type": "code",
   "execution_count": 17,
   "metadata": {},
   "outputs": [],
   "source": [
    "shortfalls['abs_shortfall'] = np.abs(shortfalls.shortfall)\n",
    "shortfalls['ubi_monthly'] = shortfalls.ubi / 12"
   ]
  },
  {
   "cell_type": "code",
   "execution_count": 18,
   "metadata": {},
   "outputs": [
    {
     "data": {
      "text/plain": [
       "'The stated tax parameters could fund a UBI of $530 per month.'"
      ]
     },
     "execution_count": 18,
     "metadata": {},
     "output_type": "execute_result"
    }
   ],
   "source": [
    "rn_ubi = shortfalls.sort_values('abs_shortfall').iloc[0].ubi_monthly\n",
    "('The stated tax parameters could fund a UBI of ${:} per month.'.format(int(rn_ubi)))"
   ]
  },
  {
   "cell_type": "code",
   "execution_count": 19,
   "metadata": {},
   "outputs": [
    {
     "data": {
      "image/png": "[encoded data removed]",
      "text/plain": [
       "<Figure size 1280x960 with 1 Axes>"
      ]
     },
     "metadata": {},
     "output_type": "display_data"
    }
   ],
   "source": [
    "ax = shortfalls.sort_values('ubi').plot('ubi_monthly', 'shortfall')\n",
    "plt.title('Deficit by monthly UBI with Yang revenue proposals', loc='left')\n",
    "sns.despine(left=True, bottom=True)\n",
    "ax.get_xaxis().set_major_formatter(\n",
    "    mpl.ticker.FuncFormatter(lambda x, p: '$' + format(int(x), ',')))\n",
    "ax.get_yaxis().set_major_formatter(\n",
    "    mpl.ticker.FuncFormatter(lambda x, p: '$' + format(x / 1e12) + 'T'))\n",
    "ax.grid(color=GRID_COLOR)\n",
    "ax.legend_.remove()\n",
    "plt.xlabel('')\n",
    "plt.show()"
   ]
  }
 ],
 "metadata": {
  "kernelspec": {
   "display_name": "Python 3",
   "language": "python",
   "name": "python3"
  },
  "language_info": {
   "codemirror_mode": {
    "name": "ipython",
    "version": 3
   },
   "file_extension": ".py",
   "mimetype": "text/x-python",
   "name": "python",
   "nbconvert_exporter": "python",
   "pygments_lexer": "ipython3",
   "version": "3.6.6"
  },
  "toc": {
   "base_numbering": 1,
   "nav_menu": {},
   "number_sections": true,
   "sideBar": true,
   "skip_h1_title": false,
   "title_cell": "Table of Contents",
   "title_sidebar": "Contents",
   "toc_cell": false,
   "toc_position": {},
   "toc_section_display": true,
   "toc_window_display": false
  }
 },
 "nbformat": 4,
 "nbformat_minor": 2
}
