{
 "cells": [
  {
   "cell_type": "markdown",
   "metadata": {},
   "source": [
    "# Andrew Yang's Freedom Dividend: Find revenue-neutral parameters\n",
    "\n",
    "Estimate the effect of Andrew Yang's [Freedom Dividend](https://www.yang2020.com/policies/the-freedom-dividend/) of $12,000 per year per adult over age 18, funded by a 10 percent [value-added tax](https://www.yang2020.com/policies/value-added-tax/) and reducing benefits by up to the UBI amount for each tax unit.\n",
    "\n",
    "Assumptions:\n",
    "* Adults are 18+ not 19+, for data availability.\n",
    "* Benefits include SNAP, WIC, SSI, TANF, WIC, Social Security, and unemployment insurance. Per Yang's [tweet](https://twitter.com/AndrewYang/status/970104619832659968), it excludes housing benefits and Medicare. It also excludes Medicaid, veteran's benefits (which are largely pension and healthcare) and \"other benefits\" included in C-TAM, which also include some healthcare.\n",
    "* VAT incidence is proportional to [Tax Policy Center's estimate](https://www.taxpolicycenter.org/briefing-book/who-would-bear-burden-vat) of a 5 percent VAT's effect as of 2015. These are scaled linearly to match Yang's estimate that his VAT would raise $800 billion per year.\n",
    "* VAT incidence is treated as an income tax; per TPC:\n",
    ">Conceptually, the tax can either raise the total price (inclusive of the sales tax) paid by consumers or reduce the amount of business revenue available to compensate workers and investors. Theory and evidence suggest that the VAT is passed along to consumers via higher prices. Either way, the decline in real household income is the same regardless of whether prices rise (holding nominal incomes constant) or whether nominal incomes fall (holding the price level constant).\n",
    "\n",
    "*Data: CPS  |  Tax year: 2019  |  Type: Static  |  Author: Max Ghenis*"
   ]
  },
  {
   "cell_type": "markdown",
   "metadata": {},
   "source": [
    "## Setup\n",
    "\n",
    "### Imports"
   ]
  },
  {
   "cell_type": "code",
   "execution_count": 1,
   "metadata": {},
   "outputs": [],
   "source": [
    "import taxcalc as tc\n",
    "import taxcalc_helpers as tch\n",
    "import pandas as pd\n",
    "import numpy as np\n",
    "import matplotlib as mpl\n",
    "import matplotlib.pyplot as plt\n",
    "import seaborn as sns"
   ]
  },
  {
   "cell_type": "code",
   "execution_count": 2,
   "metadata": {},
   "outputs": [
    {
     "data": {
      "text/plain": [
       "'1.2.0'"
      ]
     },
     "execution_count": 2,
     "metadata": {},
     "output_type": "execute_result"
    }
   ],
   "source": [
    "tc.__version__"
   ]
  },
  {
   "cell_type": "markdown",
   "metadata": {},
   "source": [
    "### Settings"
   ]
  },
  {
   "cell_type": "code",
   "execution_count": 3,
   "metadata": {},
   "outputs": [],
   "source": [
    "sns.set_style('white')\n",
    "DPI = 200\n",
    "mpl.rc('savefig', dpi=DPI)\n",
    "mpl.rcParams['figure.dpi'] = DPI\n",
    "mpl.rcParams['figure.figsize'] = 6.4, 4.8  # Default."
   ]
  },
  {
   "cell_type": "code",
   "execution_count": 4,
   "metadata": {},
   "outputs": [],
   "source": [
    "mpl.rcParams['font.sans-serif'] = 'Roboto'\n",
    "mpl.rcParams['font.family'] = 'sans-serif'\n",
    "\n",
    "# Set title text color to dark gray (https://material.io/color) not black.\n",
    "TITLE_COLOR = '#212121'\n",
    "mpl.rcParams['text.color'] = TITLE_COLOR\n",
    "\n",
    "# Axis titles and tick marks are medium gray.\n",
    "AXIS_COLOR = '#757575'\n",
    "mpl.rcParams['axes.labelcolor'] = AXIS_COLOR\n",
    "mpl.rcParams['xtick.color'] = AXIS_COLOR\n",
    "mpl.rcParams['ytick.color'] = AXIS_COLOR\n",
    "\n",
    "GRID_COLOR = '#f5f5f5'\n",
    "\n",
    "# Use Seaborn's default color palette.\n",
    "# https://stackoverflow.com/q/48958426/1840471 for reproducibility.\n",
    "sns.set_palette(sns.color_palette())"
   ]
  },
  {
   "cell_type": "code",
   "execution_count": 5,
   "metadata": {},
   "outputs": [],
   "source": [
    "# Show one decimal in tables.\n",
    "pd.set_option('precision', 2)"
   ]
  },
  {
   "cell_type": "markdown",
   "metadata": {},
   "source": [
    "## Data"
   ]
  },
  {
   "cell_type": "code",
   "execution_count": 6,
   "metadata": {},
   "outputs": [],
   "source": [
    "recs = tc.Records.cps_constructor()"
   ]
  },
  {
   "cell_type": "code",
   "execution_count": 7,
   "metadata": {},
   "outputs": [],
   "source": [
    "BENS = ['snap_ben', 'ssi_ben', 'tanf_ben', 'wic_ben',\n",
    "        'e02400',  # Social Security (OASDI).\n",
    "        'e02300'  # Unemployment insurance.\n",
    "       ]"
   ]
  },
  {
   "cell_type": "code",
   "execution_count": 8,
   "metadata": {},
   "outputs": [],
   "source": [
    "base = tch.calc_df(records=recs, year=2021,  # Yang's page says it begins in 2021.\n",
    "                   group_vars=['nu18', 'n1820', 'n21'] + BENS,\n",
    "                   group_n65=True,\n",
    "                   metric_vars=['aftertax_income', 'XTOT'])\n",
    "tch.add_weighted_quantiles(base, 'aftertax_income')"
   ]
  },
  {
   "cell_type": "markdown",
   "metadata": {},
   "source": [
    "### Calculations"
   ]
  },
  {
   "cell_type": "code",
   "execution_count": 9,
   "metadata": {},
   "outputs": [],
   "source": [
    "UBI = 1000 * 12\n",
    "base['bens'] = base[BENS].sum(axis=1)\n",
    "base['adults'] = base.n1820 + base.n21\n",
    "base['ubi_max'] = base.adults * UBI\n",
    "base['ubi'] = np.where(base.ubi_max > base.bens, base.ubi_max, 0)\n",
    "base['bens_yang'] = np.where(base.ubi > 0, base.bens, 0)"
   ]
  },
  {
   "cell_type": "markdown",
   "metadata": {},
   "source": [
    "Weight."
   ]
  },
  {
   "cell_type": "code",
   "execution_count": 10,
   "metadata": {},
   "outputs": [],
   "source": [
    "base['ubi_m'] = base.ubi * base.s006 / 1e6\n",
    "base['ubi_max_m'] = base.ubi_max * base.s006 / 1e6\n",
    "base['bens_m'] = base.bens * base.s006 / 1e6\n",
    "base['bens_yang_m'] = base.bens_yang * base.s006 / 1e6"
   ]
  },
  {
   "cell_type": "code",
   "execution_count": 11,
   "metadata": {},
   "outputs": [
    {
     "data": {
      "text/plain": [
       "2392735.615319999"
      ]
     },
     "execution_count": 11,
     "metadata": {},
     "output_type": "execute_result"
    }
   ],
   "source": [
    "base.ubi_m.sum()"
   ]
  },
  {
   "cell_type": "code",
   "execution_count": 12,
   "metadata": {},
   "outputs": [
    {
     "data": {
      "text/plain": [
       "3049946.9811600004"
      ]
     },
     "execution_count": 12,
     "metadata": {},
     "output_type": "execute_result"
    }
   ],
   "source": [
    "base.ubi_max_m.sum()"
   ]
  },
  {
   "cell_type": "code",
   "execution_count": 13,
   "metadata": {},
   "outputs": [
    {
     "data": {
      "text/plain": [
       "657211.3658400015"
      ]
     },
     "execution_count": 13,
     "metadata": {},
     "output_type": "execute_result"
    }
   ],
   "source": [
    "base.ubi_max_m.sum() - base.ubi_m.sum()"
   ]
  },
  {
   "cell_type": "code",
   "execution_count": 14,
   "metadata": {},
   "outputs": [
    {
     "data": {
      "text/plain": [
       "1413383.8203193196"
      ]
     },
     "execution_count": 14,
     "metadata": {},
     "output_type": "execute_result"
    }
   ],
   "source": [
    "base.bens_m.sum()"
   ]
  },
  {
   "cell_type": "code",
   "execution_count": 15,
   "metadata": {},
   "outputs": [
    {
     "data": {
      "text/plain": [
       "316026.1288288797"
      ]
     },
     "execution_count": 15,
     "metadata": {},
     "output_type": "execute_result"
    }
   ],
   "source": [
    "base.bens_yang_m.sum()"
   ]
  },
  {
   "cell_type": "code",
   "execution_count": 16,
   "metadata": {},
   "outputs": [
    {
     "name": "stderr",
     "output_type": "stream",
     "text": [
      "/home/maxghenis/miniconda3/lib/python3.6/site-packages/ipykernel_launcher.py:2: SettingWithCopyWarning: \n",
      "A value is trying to be set on a copy of a slice from a DataFrame.\n",
      "Try using .loc[row_indexer,col_indexer] = value instead\n",
      "\n",
      "See the caveats in the documentation: http://pandas.pydata.org/pandas-docs/stable/indexing.html#indexing-view-versus-copy\n",
      "  \n"
     ]
    }
   ],
   "source": [
    "oasdis = base[(base.e02400 > 0) & (base.adults > 0)]\n",
    "oasdis['e02400_pp'] = oasdis.e02400 / oasdis.adults"
   ]
  },
  {
   "cell_type": "code",
   "execution_count": 17,
   "metadata": {},
   "outputs": [
    {
     "data": {
      "text/plain": [
       "count    127361.00\n",
       "mean      15863.57\n",
       "std        7758.68\n",
       "min           0.58\n",
       "25%       10236.05\n",
       "50%       15774.99\n",
       "75%       20534.40\n",
       "max       63382.88\n",
       "Name: e02400_pp, dtype: float64"
      ]
     },
     "execution_count": 17,
     "metadata": {},
     "output_type": "execute_result"
    }
   ],
   "source": [
    "oasdis.e02400_pp.describe()"
   ]
  },
  {
   "cell_type": "code",
   "execution_count": 18,
   "metadata": {},
   "outputs": [
    {
     "data": {
      "text/html": [
       "<div>\n",
       "<style scoped>\n",
       "    .dataframe tbody tr th:only-of-type {\n",
       "        vertical-align: middle;\n",
       "    }\n",
       "\n",
       "    .dataframe tbody tr th {\n",
       "        vertical-align: top;\n",
       "    }\n",
       "\n",
       "    .dataframe thead th {\n",
       "        text-align: right;\n",
       "    }\n",
       "</style>\n",
       "<table border=\"1\" class=\"dataframe\">\n",
       "  <thead>\n",
       "    <tr style=\"text-align: right;\">\n",
       "      <th></th>\n",
       "      <th>XTOT</th>\n",
       "      <th>adults</th>\n",
       "      <th>ubi_max</th>\n",
       "      <th>ubi</th>\n",
       "      <th>bens</th>\n",
       "      <th>bens_yang</th>\n",
       "      <th>snap_ben</th>\n",
       "      <th>ssi_ben</th>\n",
       "      <th>tanf_ben</th>\n",
       "      <th>wic_ben</th>\n",
       "      <th>e02400</th>\n",
       "      <th>e02300</th>\n",
       "    </tr>\n",
       "    <tr>\n",
       "      <th>RECID</th>\n",
       "      <th></th>\n",
       "      <th></th>\n",
       "      <th></th>\n",
       "      <th></th>\n",
       "      <th></th>\n",
       "      <th></th>\n",
       "      <th></th>\n",
       "      <th></th>\n",
       "      <th></th>\n",
       "      <th></th>\n",
       "      <th></th>\n",
       "      <th></th>\n",
       "    </tr>\n",
       "  </thead>\n",
       "  <tbody>\n",
       "    <tr>\n",
       "      <th>185441</th>\n",
       "      <td>5.0</td>\n",
       "      <td>2.0</td>\n",
       "      <td>24000.0</td>\n",
       "      <td>0.0</td>\n",
       "      <td>27797.59</td>\n",
       "      <td>0.0</td>\n",
       "      <td>0.0</td>\n",
       "      <td>0.0</td>\n",
       "      <td>27797.59</td>\n",
       "      <td>0.0</td>\n",
       "      <td>0.0</td>\n",
       "      <td>0.0</td>\n",
       "    </tr>\n",
       "  </tbody>\n",
       "</table>\n",
       "</div>"
      ],
      "text/plain": [
       "        XTOT  adults  ubi_max  ubi      bens  bens_yang  snap_ben  ssi_ben  \\\n",
       "RECID                                                                        \n",
       "185441   5.0     2.0  24000.0  0.0  27797.59        0.0       0.0      0.0   \n",
       "\n",
       "        tanf_ben  wic_ben  e02400  e02300  \n",
       "RECID                                      \n",
       "185441  27797.59      0.0     0.0     0.0  "
      ]
     },
     "execution_count": 18,
     "metadata": {},
     "output_type": "execute_result"
    }
   ],
   "source": [
    "base[(base.ubi + base.e02400 == 0)].sample()[['XTOT', 'adults', 'ubi_max', 'ubi', 'bens', 'bens_yang'] + BENS]"
   ]
  },
  {
   "cell_type": "code",
   "execution_count": 19,
   "metadata": {},
   "outputs": [
    {
     "data": {
      "text/html": [
       "<div>\n",
       "<style scoped>\n",
       "    .dataframe tbody tr th:only-of-type {\n",
       "        vertical-align: middle;\n",
       "    }\n",
       "\n",
       "    .dataframe tbody tr th {\n",
       "        vertical-align: top;\n",
       "    }\n",
       "\n",
       "    .dataframe thead th {\n",
       "        text-align: right;\n",
       "    }\n",
       "</style>\n",
       "<table border=\"1\" class=\"dataframe\">\n",
       "  <thead>\n",
       "    <tr style=\"text-align: right;\">\n",
       "      <th></th>\n",
       "      <th>XTOT</th>\n",
       "      <th>adults</th>\n",
       "      <th>ubi_max</th>\n",
       "      <th>ubi</th>\n",
       "      <th>bens</th>\n",
       "      <th>bens_yang</th>\n",
       "      <th>snap_ben</th>\n",
       "      <th>ssi_ben</th>\n",
       "      <th>tanf_ben</th>\n",
       "      <th>wic_ben</th>\n",
       "      <th>e02400</th>\n",
       "      <th>e02300</th>\n",
       "    </tr>\n",
       "    <tr>\n",
       "      <th>RECID</th>\n",
       "      <th></th>\n",
       "      <th></th>\n",
       "      <th></th>\n",
       "      <th></th>\n",
       "      <th></th>\n",
       "      <th></th>\n",
       "      <th></th>\n",
       "      <th></th>\n",
       "      <th></th>\n",
       "      <th></th>\n",
       "      <th></th>\n",
       "      <th></th>\n",
       "    </tr>\n",
       "  </thead>\n",
       "  <tbody>\n",
       "    <tr>\n",
       "      <th>242461</th>\n",
       "      <td>3.0</td>\n",
       "      <td>1.0</td>\n",
       "      <td>12000.0</td>\n",
       "      <td>0.0</td>\n",
       "      <td>22586.35</td>\n",
       "      <td>0.0</td>\n",
       "      <td>12430.29</td>\n",
       "      <td>0.0</td>\n",
       "      <td>10156.05</td>\n",
       "      <td>0.0</td>\n",
       "      <td>0.0</td>\n",
       "      <td>0.0</td>\n",
       "    </tr>\n",
       "  </tbody>\n",
       "</table>\n",
       "</div>"
      ],
      "text/plain": [
       "        XTOT  adults  ubi_max  ubi      bens  bens_yang  snap_ben  ssi_ben  \\\n",
       "RECID                                                                        \n",
       "242461   3.0     1.0  12000.0  0.0  22586.35        0.0  12430.29      0.0   \n",
       "\n",
       "        tanf_ben  wic_ben  e02400  e02300  \n",
       "RECID                                      \n",
       "242461  10156.05      0.0     0.0     0.0  "
      ]
     },
     "execution_count": 19,
     "metadata": {},
     "output_type": "execute_result"
    }
   ],
   "source": [
    "base[base.ubi == 0].sample()[['XTOT', 'adults', 'ubi_max', 'ubi', 'bens', 'bens_yang'] + BENS]"
   ]
  },
  {
   "cell_type": "markdown",
   "metadata": {},
   "source": [
    "### VAT\n",
    "\n",
    "Start with equal incidence, then re-weight according to [TPC paper](https://www.taxpolicycenter.org/briefing-book/who-would-bear-burden-vat)."
   ]
  },
  {
   "cell_type": "code",
   "execution_count": 20,
   "metadata": {},
   "outputs": [],
   "source": [
    "TOTAL_VAT = 800e9\n",
    "VAT_INCIDENCE = pd.DataFrame({\n",
    "    'income_percentile_floor': [-1, 20, 40, 60, 80, 90, 95, 99, 99.9],\n",
    "    'rate': [3.9, 3.6, 3.6, 3.6, 3.4, 3.2, 2.8, 2.5, 2.5]\n",
    "})\n",
    "VAT_INCIDENCE.rate /= 100"
   ]
  },
  {
   "cell_type": "code",
   "execution_count": 21,
   "metadata": {},
   "outputs": [],
   "source": [
    "base['afti_yang_prevat'] = base.aftertax_income + base.ubi\n",
    "base['afti_yang_prevat_noneg'] = base.afti_yang_prevat.clip_lower(0)"
   ]
  },
  {
   "cell_type": "code",
   "execution_count": 22,
   "metadata": {},
   "outputs": [
    {
     "data": {
      "text/plain": [
       "16979.09981787234"
      ]
     },
     "execution_count": 22,
     "metadata": {},
     "output_type": "execute_result"
    }
   ],
   "source": [
    "base.afti_yang_prevat.median() - base.aftertax_income.median()"
   ]
  },
  {
   "cell_type": "code",
   "execution_count": 23,
   "metadata": {},
   "outputs": [],
   "source": [
    "tch.add_weighted_quantiles(base, 'afti_yang_prevat_noneg')"
   ]
  },
  {
   "cell_type": "code",
   "execution_count": 24,
   "metadata": {},
   "outputs": [],
   "source": [
    "base['vat_rate_prescale'] = VAT_INCIDENCE.rate[\n",
    "    pd.cut(base.afti_yang_prevat_noneg_percentile_exact,\n",
    "           bins=VAT_INCIDENCE.income_percentile_floor.tolist() + [100],\n",
    "           labels=False)].values"
   ]
  },
  {
   "cell_type": "code",
   "execution_count": 25,
   "metadata": {},
   "outputs": [],
   "source": [
    "base['vat_base'] = base.afti_yang_prevat_noneg * base.vat_rate_prescale"
   ]
  },
  {
   "cell_type": "code",
   "execution_count": 26,
   "metadata": {},
   "outputs": [
    {
     "data": {
      "text/plain": [
       "1.4818307037745246"
      ]
     },
     "execution_count": 26,
     "metadata": {},
     "output_type": "execute_result"
    }
   ],
   "source": [
    "vat_mult = TOTAL_VAT / tch.weighted_sum(base, 'vat_base')\n",
    "vat_mult"
   ]
  },
  {
   "cell_type": "code",
   "execution_count": 27,
   "metadata": {},
   "outputs": [
    {
     "data": {
      "text/plain": [
       "4.260263273351758"
      ]
     },
     "execution_count": 27,
     "metadata": {},
     "output_type": "execute_result"
    }
   ],
   "source": [
    "2.3e12 / tch.weighted_sum(base, 'vat_base')"
   ]
  },
  {
   "cell_type": "code",
   "execution_count": 28,
   "metadata": {},
   "outputs": [],
   "source": [
    "base['vat'] = base.vat_base * vat_mult\n",
    "base['vat_m'] = tch.weight(base, 'vat') / 1e6\n",
    "base['afti_yang_prevat_noneg_m'] = tch.weight(base, 'afti_yang_prevat_noneg') / 1e6"
   ]
  },
  {
   "cell_type": "code",
   "execution_count": 29,
   "metadata": {},
   "outputs": [],
   "source": [
    "base['afti_yang'] = base.afti_yang_prevat - base.vat"
   ]
  },
  {
   "cell_type": "code",
   "execution_count": 30,
   "metadata": {},
   "outputs": [
    {
     "data": {
      "text/plain": [
       "0.4529853146121249"
      ]
     },
     "execution_count": 30,
     "metadata": {},
     "output_type": "execute_result"
    }
   ],
   "source": [
    "tch.gini(base.aftertax_income, base.s006)"
   ]
  },
  {
   "cell_type": "code",
   "execution_count": 31,
   "metadata": {},
   "outputs": [
    {
     "data": {
      "text/plain": [
       "0.40483265622347103"
      ]
     },
     "execution_count": 31,
     "metadata": {},
     "output_type": "execute_result"
    }
   ],
   "source": [
    "tch.gini(base.afti_yang, base.s006)"
   ]
  },
  {
   "cell_type": "code",
   "execution_count": 32,
   "metadata": {},
   "outputs": [
    {
     "data": {
      "text/plain": [
       "count    4.56e+05\n",
       "mean     1.59e+05\n",
       "std      1.73e+06\n",
       "min     -3.64e+06\n",
       "25%      5.38e+04\n",
       "50%      1.02e+05\n",
       "75%      1.88e+05\n",
       "max      1.15e+09\n",
       "Name: afti_yang, dtype: float64"
      ]
     },
     "execution_count": 32,
     "metadata": {},
     "output_type": "execute_result"
    }
   ],
   "source": [
    "base.afti_yang.describe()"
   ]
  },
  {
   "cell_type": "code",
   "execution_count": 33,
   "metadata": {},
   "outputs": [],
   "source": [
    "base['afti_chg'] = base.afti_yang - base.aftertax_income\n",
    "base['afti_chg_m'] = base.afti_chg * base.s006 / 1e6"
   ]
  },
  {
   "cell_type": "code",
   "execution_count": 34,
   "metadata": {},
   "outputs": [
    {
     "data": {
      "text/plain": [
       "'$1.59 billion shortfall'"
      ]
     },
     "execution_count": 34,
     "metadata": {},
     "output_type": "execute_result"
    }
   ],
   "source": [
    "'${} billion shortfall'.format((base.afti_chg_m.sum() / 1e6).round(2))"
   ]
  },
  {
   "cell_type": "markdown",
   "metadata": {},
   "source": [
    "### Revenue-neutral"
   ]
  },
  {
   "cell_type": "code",
   "execution_count": 35,
   "metadata": {},
   "outputs": [],
   "source": [
    "def yang(ubi=UBI, total_vat=TOTAL_VAT, data=base):\n",
    "    base = data.copy(deep=True)\n",
    "    base['bens'] = base[BENS].sum(axis=1)\n",
    "    base['adults'] = base.XTOT - base.nu18\n",
    "    base['ubi_max'] = base.adults * ubi\n",
    "    base['ubi'] = np.where(base.ubi_max > base.bens, base.ubi_max, 0)\n",
    "    base['bens_yang'] = np.where(base.ubi > 0, base.bens, 0)\n",
    "    base['ubi_m'] = base.ubi * base.s006 / 1e6\n",
    "    base['ubi_max_m'] = base.ubi_max * base.s006 / 1e6\n",
    "    base['bens_m'] = base.bens * base.s006 / 1e6\n",
    "    base['bens_yang_m'] = base.bens_yang * base.s006 / 1e6\n",
    "    base['afti_yang_prevat'] = base.aftertax_income + base.ubi\n",
    "    base['afti_yang_prevat_noneg'] = base.afti_yang_prevat.clip_lower(0)\n",
    "    tch.add_weighted_quantiles(base, 'afti_yang_prevat_noneg')\n",
    "    base['vat_rate_prescale'] = VAT_INCIDENCE.rate[\n",
    "        pd.cut(base.afti_yang_prevat_noneg_percentile_exact,\n",
    "               bins=VAT_INCIDENCE.income_percentile_floor.tolist() + [100],\n",
    "               labels=False)].values\n",
    "    base['vat_base'] = base.afti_yang_prevat_noneg * base.vat_rate_prescale\n",
    "    vat_mult = total_vat / tch.weighted_sum(base, 'vat_base')\n",
    "    base['vat'] = base.vat_base * vat_mult\n",
    "    base['vat_m'] = tch.weight(base, 'vat') / 1e6\n",
    "    base['afti_yang_prevat_noneg_m'] = tch.weight(base, 'afti_yang_prevat_noneg') / 1e6\n",
    "    base['afti_yang'] = base.afti_yang_prevat - base.vat\n",
    "    base['afti_chg'] = base.afti_yang - base.aftertax_income\n",
    "    return base"
   ]
  },
  {
   "cell_type": "code",
   "execution_count": 36,
   "metadata": {},
   "outputs": [],
   "source": [
    "def deficit_by_ubi(ubi=UBI, total_vat=TOTAL_VAT, data=base):\n",
    "    return pd.DataFrame({'ubi': [ubi],\n",
    "                         'total_vat': [total_vat],\n",
    "                         'deficit': [tch.weighted_sum(yang(ubi, total_vat, base), \n",
    "                                                      'afti_chg')]})"
   ]
  },
  {
   "cell_type": "code",
   "execution_count": 37,
   "metadata": {},
   "outputs": [],
   "source": [
    "deficits_l = []\n",
    "for i in np.arange(0, TOTAL_VAT * 4, 1e11):\n",
    "    deficits_l.append(deficit_by_ubi(total_vat=i))\n",
    "for i in np.arange(0, UBI+1, 120):\n",
    "    deficits_l.append(deficit_by_ubi(ubi=i))\n",
    "deficits = pd.concat(deficits_l).drop_duplicates()"
   ]
  },
  {
   "cell_type": "code",
   "execution_count": 38,
   "metadata": {},
   "outputs": [],
   "source": [
    "deficits['abs_deficit'] = np.abs(deficits.deficit)\n",
    "deficits['ubi_monthly'] = deficits.ubi / 12"
   ]
  },
  {
   "cell_type": "code",
   "execution_count": 39,
   "metadata": {},
   "outputs": [
    {
     "data": {
      "text/plain": [
       "'The stated $800.0 billion VAT could fund a UBI of $390 per month.'"
      ]
     },
     "execution_count": 39,
     "metadata": {},
     "output_type": "execute_result"
    }
   ],
   "source": [
    "rn_ubi = deficits[deficits.total_vat == TOTAL_VAT].sort_values('abs_deficit').iloc[0].ubi_monthly\n",
    "('The stated ${} billion VAT could fund a UBI of '.format(TOTAL_VAT / 1e9) +\n",
    " '${:} per month.'.format(int(rn_ubi)))"
   ]
  },
  {
   "cell_type": "code",
   "execution_count": 40,
   "metadata": {},
   "outputs": [
    {
     "data": {
      "text/plain": [
       "'The stated $1,000 monthly UBI would require a total VAT of $2.4 trillion.'"
      ]
     },
     "execution_count": 40,
     "metadata": {},
     "output_type": "execute_result"
    }
   ],
   "source": [
    "rn_vat = deficits[deficits.ubi == UBI].sort_values('abs_deficit').iloc[0].total_vat\n",
    "('The stated ${:,} monthly UBI would require a total VAT of '.format(int(UBI / 12)) +\n",
    " '${} trillion.'.format(rn_vat / 1e12))"
   ]
  },
  {
   "cell_type": "code",
   "execution_count": 41,
   "metadata": {},
   "outputs": [
    {
     "data": {
      "image/png": "[encoded data removed]",
      "text/plain": [
       "<Figure size 1280x960 with 1 Axes>"
      ]
     },
     "metadata": {},
     "output_type": "display_data"
    }
   ],
   "source": [
    "ax = deficits[deficits.ubi == UBI].sort_values('total_vat').plot('total_vat', 'deficit')\n",
    "plt.title('Deficit by total VAT with a $' + str(int(UBI / 12)) +' monthly UBI', loc='left')\n",
    "sns.despine(left=True, bottom=True)\n",
    "ax.get_xaxis().set_major_formatter(\n",
    "    mpl.ticker.FuncFormatter(lambda x, p: '$' + format(x / 1e12) + 'T'))\n",
    "ax.get_yaxis().set_major_formatter(\n",
    "    mpl.ticker.FuncFormatter(lambda x, p: '$' + format(x / 1e12) + 'T'))\n",
    "ax.grid(color=GRID_COLOR)\n",
    "ax.legend_.remove()\n",
    "plt.xlabel('')\n",
    "plt.show()"
   ]
  },
  {
   "cell_type": "code",
   "execution_count": 42,
   "metadata": {},
   "outputs": [
    {
     "data": {
      "image/png": "[encoded data removed]",
      "text/plain": [
       "<Figure size 1280x960 with 1 Axes>"
      ]
     },
     "metadata": {},
     "output_type": "display_data"
    }
   ],
   "source": [
    "ax = deficits[deficits.total_vat == TOTAL_VAT].drop_duplicates().sort_values('ubi').plot('ubi_monthly', 'deficit')\n",
    "plt.title('Deficit by monthly UBI with a $' + str(int(TOTAL_VAT / 1e9)) + ' billion VAT', loc='left')\n",
    "sns.despine(left=True, bottom=True)\n",
    "ax.get_xaxis().set_major_formatter(\n",
    "    mpl.ticker.FuncFormatter(lambda x, p: '$' + format(int(x), ',')))\n",
    "ax.get_yaxis().set_major_formatter(\n",
    "    mpl.ticker.FuncFormatter(lambda x, p: '$' + format(x / 1e12) + 'T'))\n",
    "ax.grid(color=GRID_COLOR)\n",
    "ax.legend_.remove()\n",
    "plt.xlabel('')\n",
    "plt.show()"
   ]
  }
 ],
 "metadata": {
  "kernelspec": {
   "display_name": "Python 3",
   "language": "python",
   "name": "python3"
  },
  "language_info": {
   "codemirror_mode": {
    "name": "ipython",
    "version": 3
   },
   "file_extension": ".py",
   "mimetype": "text/x-python",
   "name": "python",
   "nbconvert_exporter": "python",
   "pygments_lexer": "ipython3",
   "version": "3.6.6"
  },
  "toc": {
   "base_numbering": 1,
   "nav_menu": {},
   "number_sections": true,
   "sideBar": true,
   "skip_h1_title": false,
   "title_cell": "Table of Contents",
   "title_sidebar": "Contents",
   "toc_cell": false,
   "toc_position": {},
   "toc_section_display": true,
   "toc_window_display": false
  }
 },
 "nbformat": 4,
 "nbformat_minor": 2
}
