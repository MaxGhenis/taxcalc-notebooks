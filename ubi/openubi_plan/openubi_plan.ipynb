{
 "cells": [
  {
   "cell_type": "markdown",
   "metadata": {},
   "source": [
    "# OpenUBI plan\n",
    "\n",
    "A UBI plan which minimizes the net losses per tax unit."
   ]
  },
  {
   "cell_type": "markdown",
   "metadata": {},
   "source": [
    "## Setup"
   ]
  },
  {
   "cell_type": "code",
   "execution_count": 2,
   "metadata": {},
   "outputs": [],
   "source": [
    "import taxcalc as tc\n",
    "import taxcalc_helpers as tch\n",
    "import pandas as pd\n",
    "import numpy as np\n",
    "import matplotlib as mpl\n",
    "import matplotlib.pyplot as plt\n",
    "import seaborn as sns"
   ]
  },
  {
   "cell_type": "code",
   "execution_count": 3,
   "metadata": {},
   "outputs": [
    {
     "data": {
      "text/plain": [
       "'0.20.1'"
      ]
     },
     "execution_count": 3,
     "metadata": {},
     "output_type": "execute_result"
    }
   ],
   "source": [
    "tc.__version__"
   ]
  },
  {
   "cell_type": "markdown",
   "metadata": {},
   "source": [
    "### Settings"
   ]
  },
  {
   "cell_type": "code",
   "execution_count": 4,
   "metadata": {},
   "outputs": [],
   "source": [
    "sns.set_style('white')\n",
    "DPI = 300\n",
    "mpl.rc('savefig', dpi=DPI)\n",
    "mpl.rcParams['figure.dpi'] = DPI\n",
    "mpl.rcParams['figure.figsize'] = 6.4, 4.8  # Default."
   ]
  },
  {
   "cell_type": "code",
   "execution_count": 8,
   "metadata": {},
   "outputs": [],
   "source": [
    "mpl.rcParams['font.sans-serif'] = 'Roboto'\n",
    "mpl.rcParams['font.family'] = 'sans-serif'\n",
    "\n",
    "# Set title text color to dark gray (https://material.io/color) not black.\n",
    "TITLE_COLOR = '#212121'\n",
    "mpl.rcParams['text.color'] = TITLE_COLOR\n",
    "\n",
    "# Axis titles and tick marks are medium gray.\n",
    "AXIS_COLOR = '#757575'\n",
    "mpl.rcParams['axes.labelcolor'] = AXIS_COLOR\n",
    "mpl.rcParams['xtick.color'] = AXIS_COLOR\n",
    "mpl.rcParams['ytick.color'] = AXIS_COLOR\n",
    "\n",
    "# Use Seaborn's default color palette.\n",
    "# https://stackoverflow.com/q/48958426/1840471 for reproducibility.\n",
    "sns.set_palette(sns.color_palette())"
   ]
  },
  {
   "cell_type": "code",
   "execution_count": 6,
   "metadata": {},
   "outputs": [],
   "source": [
    "# Show one decimal in tables.\n",
    "pd.set_option('precision', 2)"
   ]
  },
  {
   "cell_type": "markdown",
   "metadata": {},
   "source": [
    "## Data"
   ]
  },
  {
   "cell_type": "code",
   "execution_count": 18,
   "metadata": {},
   "outputs": [],
   "source": [
    "CG_RATES = [0., 0.15, 0.2]\n",
    "II_RATES = [0.1, 0.12, 0.22, 0.24, 0.32, 0.35, 0.37]"
   ]
  },
  {
   "cell_type": "code",
   "execution_count": 19,
   "metadata": {},
   "outputs": [],
   "source": [
    "reform_eliminate_bottom_bracket = {\n",
    "    2018: {\n",
    "        '_CG_rt1': [CG_RATES[1]],\n",
    "        '_AMT_CG_rt1': [CG_RATES[1]],\n",
    "        '_II_rt1': [II_RATES[1]],\n",
    "        '_PT_rt1': [II_RATES[1]]\n",
    "    }\n",
    "}"
   ]
  },
  {
   "cell_type": "code",
   "execution_count": 21,
   "metadata": {},
   "outputs": [],
   "source": [
    "reform_eliminate_bottom_2bracket = {\n",
    "    2018: {\n",
    "        '_CG_rt1': [CG_RATES[2]],\n",
    "        '_AMT_CG_rt1': [CG_RATES[2]],\n",
    "        '_II_rt1': [II_RATES[2]],\n",
    "        '_PT_rt1': [II_RATES[2]],\n",
    "        '_CG_rt2': [CG_RATES[2]],\n",
    "        '_AMT_CG_rt2': [CG_RATES[2]],\n",
    "        '_II_rt2': [II_RATES[2]],\n",
    "        '_PT_rt2': [II_RATES[2]]\n",
    "    }\n",
    "}"
   ]
  },
  {
   "cell_type": "code",
   "execution_count": 25,
   "metadata": {},
   "outputs": [],
   "source": [
    "reform_eliminate_bottom_3bracket = {\n",
    "    2018: {\n",
    "        '_CG_rt1': [CG_RATES[2]],\n",
    "        '_AMT_CG_rt1': [CG_RATES[2]],\n",
    "        '_II_rt1': [II_RATES[3]],\n",
    "        '_PT_rt1': [II_RATES[3]],\n",
    "        '_CG_rt2': [CG_RATES[2]],\n",
    "        '_AMT_CG_rt2': [CG_RATES[2]],\n",
    "        '_II_rt2': [II_RATES[3]],\n",
    "        '_PT_rt2': [II_RATES[3]],\n",
    "        '_II_rt3': [II_RATES[3]],\n",
    "        '_PT_rt3': [II_RATES[3]],\n",
    "    }\n",
    "}"
   ]
  },
  {
   "cell_type": "code",
   "execution_count": 28,
   "metadata": {},
   "outputs": [],
   "source": [
    "reform_eliminate_bottom_4bracket = {\n",
    "    2018: {\n",
    "        '_CG_rt1': [CG_RATES[2]],\n",
    "        '_AMT_CG_rt1': [CG_RATES[2]],\n",
    "        '_II_rt1': [II_RATES[4]],\n",
    "        '_PT_rt1': [II_RATES[4]],\n",
    "        '_CG_rt2': [CG_RATES[2]],\n",
    "        '_AMT_CG_rt2': [CG_RATES[2]],\n",
    "        '_II_rt2': [II_RATES[4]],\n",
    "        '_PT_rt2': [II_RATES[4]],\n",
    "        '_II_rt3': [II_RATES[4]],\n",
    "        '_PT_rt3': [II_RATES[4]],\n",
    "        '_II_rt4': [II_RATES[4]],\n",
    "        '_PT_rt4': [II_RATES[4]]\n",
    "    }\n",
    "}"
   ]
  },
  {
   "cell_type": "code",
   "execution_count": 40,
   "metadata": {},
   "outputs": [],
   "source": [
    "reform_eliminate_bottom_5bracket = {\n",
    "    2018: {\n",
    "        '_CG_rt1': [CG_RATES[2]],\n",
    "        '_AMT_CG_rt1': [CG_RATES[2]],\n",
    "        '_II_rt1': [II_RATES[5]],\n",
    "        '_PT_rt1': [II_RATES[5]],\n",
    "        '_CG_rt2': [CG_RATES[2]],\n",
    "        '_AMT_CG_rt2': [CG_RATES[2]],\n",
    "        '_II_rt2': [II_RATES[5]],\n",
    "        '_PT_rt2': [II_RATES[5]],\n",
    "        '_II_rt3': [II_RATES[5]],\n",
    "        '_PT_rt3': [II_RATES[5]],\n",
    "        '_II_rt4': [II_RATES[5]],\n",
    "        '_PT_rt4': [II_RATES[5]],\n",
    "        '_II_rt5': [II_RATES[5]],\n",
    "        '_PT_rt5': [II_RATES[5]]\n",
    "    }\n",
    "}"
   ]
  },
  {
   "cell_type": "code",
   "execution_count": 41,
   "metadata": {},
   "outputs": [],
   "source": [
    "reform_eliminate_bottom_6bracket = {\n",
    "    2018: {\n",
    "        '_CG_rt1': [CG_RATES[2]],\n",
    "        '_AMT_CG_rt1': [CG_RATES[2]],\n",
    "        '_II_rt1': [II_RATES[6]],\n",
    "        '_PT_rt1': [II_RATES[6]],\n",
    "        '_CG_rt2': [CG_RATES[2]],\n",
    "        '_AMT_CG_rt2': [CG_RATES[2]],\n",
    "        '_II_rt2': [II_RATES[6]],\n",
    "        '_PT_rt2': [II_RATES[6]],\n",
    "        '_II_rt3': [II_RATES[6]],\n",
    "        '_PT_rt3': [II_RATES[6]],\n",
    "        '_II_rt4': [II_RATES[6]],\n",
    "        '_PT_rt4': [II_RATES[6]],\n",
    "        '_II_rt5': [II_RATES[6]],\n",
    "        '_PT_rt5': [II_RATES[6]],\n",
    "        '_II_rt6': [II_RATES[6]],\n",
    "        '_PT_rt6': [II_RATES[6]]\n",
    "    }\n",
    "}"
   ]
  },
  {
   "cell_type": "code",
   "execution_count": 11,
   "metadata": {},
   "outputs": [],
   "source": [
    "reform_no_medicaid_medicare = {\n",
    "    2018: {\n",
    "        \"_BEN_mcaid_repeal\": [True],\n",
    "        \"_BEN_mcare_repeal\": [True]\n",
    "    }\n",
    "}"
   ]
  },
  {
   "cell_type": "code",
   "execution_count": 13,
   "metadata": {},
   "outputs": [],
   "source": [
    "pol = tc.Policy()\n",
    "pol.implement_reform(reform_no_medicaid_medicare)"
   ]
  },
  {
   "cell_type": "code",
   "execution_count": 14,
   "metadata": {},
   "outputs": [],
   "source": [
    "base = tch.calc_df(records=tc.Records.cps_constructor(),\n",
    "                   policy=pol,\n",
    "                   year=2018,\n",
    "                   group_vars=['XTOT', 'nu18', 'aftertax_income'],\n",
    "                   metric_vars=['aftertax_income', 'XTOT', 'nu18'])"
   ]
  },
  {
   "cell_type": "code",
   "execution_count": 15,
   "metadata": {},
   "outputs": [],
   "source": [
    "ubi = tch.calc_df(records=tc.Records.cps_constructor(),\n",
    "                  policy=pol,\n",
    "                  reform=reform_eliminate_bottom_bracket,\n",
    "                  year=2018,\n",
    "                  group_vars=['XTOT', 'nu18', 'aftertax_income'],\n",
    "                  metric_vars=['aftertax_income', 'XTOT', 'nu18'])"
   ]
  },
  {
   "cell_type": "code",
   "execution_count": 22,
   "metadata": {},
   "outputs": [],
   "source": [
    "ubi2 = tch.calc_df(records=tc.Records.cps_constructor(),\n",
    "                   policy=pol,\n",
    "                   reform=reform_eliminate_bottom_2bracket,\n",
    "                   year=2018,\n",
    "                   group_vars=['XTOT', 'nu18', 'aftertax_income'],\n",
    "                   metric_vars=['aftertax_income', 'XTOT', 'nu18'])"
   ]
  },
  {
   "cell_type": "code",
   "execution_count": 26,
   "metadata": {},
   "outputs": [],
   "source": [
    "ubi3 = tch.calc_df(records=tc.Records.cps_constructor(),\n",
    "                   policy=pol,\n",
    "                   reform=reform_eliminate_bottom_3bracket,\n",
    "                   year=2018,\n",
    "                   group_vars=['XTOT', 'nu18', 'aftertax_income'],\n",
    "                   metric_vars=['aftertax_income', 'XTOT', 'nu18'])"
   ]
  },
  {
   "cell_type": "code",
   "execution_count": 29,
   "metadata": {},
   "outputs": [],
   "source": [
    "ubi4 = tch.calc_df(records=tc.Records.cps_constructor(),\n",
    "                   policy=pol,\n",
    "                   reform=reform_eliminate_bottom_4bracket,\n",
    "                   year=2018,\n",
    "                   group_vars=['XTOT', 'nu18', 'aftertax_income'],\n",
    "                   metric_vars=['aftertax_income', 'XTOT', 'nu18'])"
   ]
  },
  {
   "cell_type": "code",
   "execution_count": 42,
   "metadata": {},
   "outputs": [],
   "source": [
    "ubi5 = tch.calc_df(records=tc.Records.cps_constructor(),\n",
    "                   policy=pol,\n",
    "                   reform=reform_eliminate_bottom_5bracket,\n",
    "                   year=2018,\n",
    "                   group_vars=['XTOT', 'nu18', 'aftertax_income'],\n",
    "                   metric_vars=['aftertax_income', 'XTOT', 'nu18'])"
   ]
  },
  {
   "cell_type": "code",
   "execution_count": 43,
   "metadata": {},
   "outputs": [],
   "source": [
    "ubi6 = tch.calc_df(records=tc.Records.cps_constructor(),\n",
    "                   policy=pol,\n",
    "                   reform=reform_eliminate_bottom_6bracket,\n",
    "                   year=2018,\n",
    "                   group_vars=['XTOT', 'nu18', 'aftertax_income'],\n",
    "                   metric_vars=['aftertax_income', 'XTOT', 'nu18'])"
   ]
  },
  {
   "cell_type": "code",
   "execution_count": 16,
   "metadata": {},
   "outputs": [
    {
     "data": {
      "text/plain": [
       "10451.984854785078"
      ]
     },
     "execution_count": 16,
     "metadata": {},
     "output_type": "execute_result"
    }
   ],
   "source": [
    "base.aftertax_income_m.sum() / 1e3"
   ]
  },
  {
   "cell_type": "code",
   "execution_count": 17,
   "metadata": {},
   "outputs": [
    {
     "data": {
      "text/plain": [
       "10409.448299002657"
      ]
     },
     "execution_count": 17,
     "metadata": {},
     "output_type": "execute_result"
    }
   ],
   "source": [
    "ubi.aftertax_income_m.sum() / 1e3"
   ]
  },
  {
   "cell_type": "code",
   "execution_count": 23,
   "metadata": {},
   "outputs": [
    {
     "data": {
      "text/plain": [
       "9940.437698470332"
      ]
     },
     "execution_count": 23,
     "metadata": {},
     "output_type": "execute_result"
    }
   ],
   "source": [
    "ubi2.aftertax_income_m.sum() / 1e3"
   ]
  },
  {
   "cell_type": "code",
   "execution_count": 27,
   "metadata": {},
   "outputs": [
    {
     "data": {
      "text/plain": [
       "9819.186626261906"
      ]
     },
     "execution_count": 27,
     "metadata": {},
     "output_type": "execute_result"
    }
   ],
   "source": [
    "ubi3.aftertax_income_m.sum() / 1e3"
   ]
  },
  {
   "cell_type": "code",
   "execution_count": 30,
   "metadata": {},
   "outputs": [
    {
     "data": {
      "text/plain": [
       "9281.660643789925"
      ]
     },
     "execution_count": 30,
     "metadata": {},
     "output_type": "execute_result"
    }
   ],
   "source": [
    "ubi4.aftertax_income_m.sum() / 1e3"
   ]
  },
  {
   "cell_type": "code",
   "execution_count": 44,
   "metadata": {},
   "outputs": [
    {
     "data": {
      "text/plain": [
       "9076.295573693627"
      ]
     },
     "execution_count": 44,
     "metadata": {},
     "output_type": "execute_result"
    }
   ],
   "source": [
    "ubi5.aftertax_income_m.sum() / 1e3"
   ]
  },
  {
   "cell_type": "code",
   "execution_count": 45,
   "metadata": {},
   "outputs": [
    {
     "data": {
      "text/plain": [
       "8935.862676622963"
      ]
     },
     "execution_count": 45,
     "metadata": {},
     "output_type": "execute_result"
    }
   ],
   "source": [
    "ubi6.aftertax_income_m.sum() / 1e3"
   ]
  },
  {
   "cell_type": "code",
   "execution_count": 47,
   "metadata": {},
   "outputs": [
    {
     "data": {
      "text/plain": [
       "4530.97323429576"
      ]
     },
     "execution_count": 47,
     "metadata": {},
     "output_type": "execute_result"
    }
   ],
   "source": [
    "(base.aftertax_income_m.sum() - ubi6.aftertax_income_m.sum()) / base.XTOT_m.sum()"
   ]
  },
  {
   "cell_type": "markdown",
   "metadata": {},
   "source": [
    "Zero out negative after-tax incomes."
   ]
  },
  {
   "cell_type": "code",
   "execution_count": 8,
   "metadata": {},
   "outputs": [],
   "source": [
    "df.aftertax_income.clip_lower(0, inplace=True)\n",
    "df.aftertax_income_m.clip_lower(0, inplace=True)"
   ]
  },
  {
   "cell_type": "markdown",
   "metadata": {},
   "source": [
    "Add after-tax income per person."
   ]
  },
  {
   "cell_type": "code",
   "execution_count": 9,
   "metadata": {},
   "outputs": [],
   "source": [
    "df['afti_pp'] = df.aftertax_income / df.XTOT"
   ]
  },
  {
   "cell_type": "code",
   "execution_count": null,
   "metadata": {},
   "outputs": [],
   "source": []
  }
 ],
 "metadata": {
  "kernelspec": {
   "display_name": "Python 3",
   "language": "python",
   "name": "python3"
  },
  "language_info": {
   "codemirror_mode": {
    "name": "ipython",
    "version": 3
   },
   "file_extension": ".py",
   "mimetype": "text/x-python",
   "name": "python",
   "nbconvert_exporter": "python",
   "pygments_lexer": "ipython3",
   "version": "3.6.6"
  }
 },
 "nbformat": 4,
 "nbformat_minor": 2
}
