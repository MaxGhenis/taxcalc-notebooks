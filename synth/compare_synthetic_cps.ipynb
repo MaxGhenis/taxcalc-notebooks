{
 "cells": [
  {
   "cell_type": "markdown",
   "metadata": {
    "colab_type": "text",
    "id": "PQdJbWCS9N3G"
   },
   "source": [
    "# Synthetic CPS\n",
    "\n",
    "\n",
    "Use the [CPS data.](https://github.com/open-source-economics/taxdata/blob/master/cps_data/cps.csv.gz)"
   ]
  },
  {
   "cell_type": "markdown",
   "metadata": {
    "colab_type": "text",
    "id": "VjvK4vP2-X_D"
   },
   "source": [
    "## Setup"
   ]
  },
  {
   "cell_type": "code",
   "execution_count": 2,
   "metadata": {
    "colab": {},
    "colab_type": "code",
    "id": "yf26Fpx3-H-Y"
   },
   "outputs": [],
   "source": [
    "import pandas as pd\n",
    "import numpy as np\n",
    "\n",
    "import matplotlib as mpl\n",
    "import matplotlib.pyplot as plt\n",
    "import seaborn as sns"
   ]
  },
  {
   "cell_type": "markdown",
   "metadata": {
    "colab_type": "text",
    "id": "sm3RTN850S70"
   },
   "source": [
    "### Graph options"
   ]
  },
  {
   "cell_type": "code",
   "execution_count": 3,
   "metadata": {
    "colab": {
     "base_uri": "https://localhost:8080/",
     "height": 289
    },
    "colab_type": "code",
    "id": "2x4nw9Pm1r6S",
    "outputId": "cf35e98f-9367-42fc-9809-d2f70406397b"
   },
   "outputs": [
    {
     "name": "stdout",
     "output_type": "stream",
     "text": [
      "--2018-11-14 21:33:28--  https://github.com/MaxGhenis/random/raw/master/Roboto-Regular.ttf\n",
      "Resolving github.com (github.com)... 192.30.255.112, 192.30.255.113\n",
      "Connecting to github.com (github.com)|192.30.255.112|:443... connected.\n",
      "HTTP request sent, awaiting response... 302 Found\n",
      "Location: https://raw.githubusercontent.com/MaxGhenis/random/master/Roboto-Regular.ttf [following]\n",
      "--2018-11-14 21:33:28--  https://raw.githubusercontent.com/MaxGhenis/random/master/Roboto-Regular.ttf\n",
      "Resolving raw.githubusercontent.com (raw.githubusercontent.com)... 151.101.0.133, 151.101.64.133, 151.101.128.133, ...\n",
      "Connecting to raw.githubusercontent.com (raw.githubusercontent.com)|151.101.0.133|:443... connected.\n",
      "HTTP request sent, awaiting response... 200 OK\n",
      "Length: 145348 (142K) [application/octet-stream]\n",
      "/usr/local/lib/python3.6/dist-packages/matplotlib/mpl-data/fonts/ttf: No such file or directory/usr/local/lib/python3.6/dist-packages/matplotlib/mpl-data/fonts/ttf/Roboto-Regular.ttf: No such file or directory\n",
      "\n",
      "Cannot write to ‘/usr/local/lib/python3.6/dist-packages/matplotlib/mpl-data/fonts/ttf/Roboto-Regular.ttf’ (No such file or directory).\n"
     ]
    }
   ],
   "source": [
    "!wget https://github.com/MaxGhenis/random/raw/master/Roboto-Regular.ttf -P /usr/local/lib/python3.6/dist-packages/matplotlib/mpl-data/fonts/ttf\n",
    "mpl.font_manager._rebuild()"
   ]
  },
  {
   "cell_type": "code",
   "execution_count": 4,
   "metadata": {
    "colab": {},
    "colab_type": "code",
    "id": "Nhth3s2j0VIK"
   },
   "outputs": [],
   "source": [
    "sns.set_style('white')\n",
    "DPI = 200\n",
    "mpl.rc('savefig', dpi=DPI)\n",
    "mpl.rcParams['figure.dpi'] = DPI\n",
    "mpl.rcParams['figure.figsize'] = 6.4, 4.8  # Default.\n",
    "mpl.rcParams['font.sans-serif'] = 'Roboto'\n",
    "mpl.rcParams['font.family'] = 'sans-serif'\n",
    "\n",
    "# Set title text color to dark gray (https://material.io/color) not black.\n",
    "TITLE_COLOR = '#212121'\n",
    "mpl.rcParams['text.color'] = TITLE_COLOR\n",
    "\n",
    "# Axis titles and tick marks are medium gray.\n",
    "AXIS_COLOR = '#757575'\n",
    "mpl.rcParams['axes.labelcolor'] = AXIS_COLOR\n",
    "mpl.rcParams['xtick.color'] = AXIS_COLOR\n",
    "mpl.rcParams['ytick.color'] = AXIS_COLOR"
   ]
  },
  {
   "cell_type": "markdown",
   "metadata": {
    "colab_type": "text",
    "id": "vdaqXkSCe7gG"
   },
   "source": [
    "### Data\n",
    "\n",
    "#### Load"
   ]
  },
  {
   "cell_type": "code",
   "execution_count": 5,
   "metadata": {
    "colab": {},
    "colab_type": "code",
    "id": "6DX58bWylfOC"
   },
   "outputs": [],
   "source": [
    "test = pd.read_csv('test.csv')\n",
    "rf = pd.read_csv('synth.csv')\n",
    "synthpop = pd.read_csv('synth_synthpop.csv')"
   ]
  },
  {
   "cell_type": "markdown",
   "metadata": {
    "colab_type": "text",
    "id": "Ef6HVQgE0GBd"
   },
   "source": [
    "## Evaluate\n",
    "\n",
    "Compare CDFs and correlations to test data."
   ]
  },
  {
   "cell_type": "code",
   "execution_count": 6,
   "metadata": {
    "colab": {},
    "colab_type": "code",
    "id": "zaP0x6FX314f"
   },
   "outputs": [],
   "source": [
    "def cdf(df, col):\n",
    "  res = df[[col, 's006']].sort_values(col)\n",
    "  res['s006_cumpct'] = res.s006.cumsum() / res.s006.sum()\n",
    "  return res"
   ]
  },
  {
   "cell_type": "code",
   "execution_count": null,
   "metadata": {
    "colab": {},
    "colab_type": "code",
    "id": "OC8p04pO1lSf"
   },
   "outputs": [],
   "source": [
    "from matplotlib.ticker import MaxNLocator\n",
    "\n",
    "def compare_cdf(rf, synthpop, test, col, unit_prepend=''):\n",
    "    rf_cdf = cdf(rf, col)\n",
    "    synthpop_cdf = cdf(synthpop, col)\n",
    "    test_cdf = cdf(test, col)\n",
    "    ax = rf_cdf.plot(x=col, y='s006_cumpct')\n",
    "    synthpop_cdf.plot(x=col, y='s006_cumpct', ax=ax, color='green')\n",
    "    test_cdf.plot(x=col, y='s006_cumpct', ax=ax, color='#BDBDBD')\n",
    "    ax.legend(['Sequential random forests', 'synthpop R package', 'Test'])\n",
    "    ax.grid(color='#eeeeee')\n",
    "    ax.xaxis.set_major_locator(MaxNLocator(integer=True))\n",
    "    # Assume a dollar amount if exceeds 100. Use symlog and $ axis.\n",
    "    if test[col].max() > 100:\n",
    "        unit_prepend = '$'\n",
    "        plt.xscale('symlog')\n",
    "    ax.xaxis.set_major_formatter(mpl.ticker.FuncFormatter(\n",
    "        lambda x, _: unit_prepend + format(int(x), ',')))\n",
    "    ax.yaxis.set_major_formatter(mpl.ticker.FuncFormatter(\n",
    "        lambda y, _: '{:.0%}'.format(y)))\n",
    "    ax.set(xlabel=col, ylabel='Share of tax units')\n",
    "    plt.title('CDF of ' + col + ' for synthetic and test sets', loc='left')\n",
    "    sns.despine(left=True, bottom=True)\n",
    "    plt.show()"
   ]
  },
  {
   "cell_type": "code",
   "execution_count": null,
   "metadata": {
    "colab": {},
    "colab_type": "code",
    "id": "udxFbu5F0HgP"
   },
   "outputs": [],
   "source": [
    "for i in test.columns:\n",
    "    if i != 's006':\n",
    "        compare_cdf(rf, synthpop, test, i)"
   ]
  },
  {
   "cell_type": "code",
   "execution_count": null,
   "metadata": {},
   "outputs": [],
   "source": []
  }
 ],
 "metadata": {
  "colab": {
   "collapsed_sections": [],
   "name": "synthetic_cps_sample.ipynb",
   "provenance": [],
   "version": "0.3.2"
  },
  "kernelspec": {
   "display_name": "Python 3",
   "language": "python",
   "name": "python3"
  },
  "language_info": {
   "codemirror_mode": {
    "name": "ipython",
    "version": 3
   },
   "file_extension": ".py",
   "mimetype": "text/x-python",
   "name": "python",
   "nbconvert_exporter": "python",
   "pygments_lexer": "ipython3",
   "version": "3.7.0"
  }
 },
 "nbformat": 4,
 "nbformat_minor": 1
}
