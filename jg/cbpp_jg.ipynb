{
 "cells": [
  {
   "cell_type": "markdown",
   "metadata": {},
   "source": [
    "# CBPP Federal Jobs Guarantee\n",
    "\n",
    "This analyzes the [CBPP's 2018 Federal Jobs Guarantee proposal](https://www.cbpp.org/research/full-employment/the-federal-job-guarantee-a-policy-to-achieve-permanent-full-employment#_ftn1) from Mark Paul, William Darity, Jr., and Darrick Hamilton. It is primarily described by this table:\n",
    "\n",
    "![img](https://imgur.com/5Km1yLO.png)\n",
    "\n",
    "In addition to the \\$32,500 average wage, the base wage is \\$24,600. The program is available to people age 18 and over.\n",
    "\n",
    "Modeling the uptake is nontrivial. I estimate each tax unit's benefit as follows:\n",
    "\n",
    "1. Assign a JG wage $w$ which draws from a random uniform between \\$24,600 and \\$40,400.\n",
    "2. Assign a maximum JG benefit $mb$ equal to $w * n_{18-64}$.\n",
    "3. Assign an actual JG benefit $b$ equal to $max(\\$0, mb - wages)$.\n",
    "4. Assign % FTE (which includes both % FTE while working and share of the year with the JG job) equal to $b / (b+e00200)$ (`e00200` is \"wages, salaries, and tips for filing unit\"*).\n",
    "5. Calculate the total FTE across tax units as the weighted sum of % FTE. This is the total FTE the JG would be expected to hire with 100% participation.\n",
    "6. Divide the expected 9.7 million (from the table) by this FTE total. Call this $p$, the probability that each tax unit will participate in the JG.\n",
    "7. Randomly assign each tax unit a participation flag with probability $p$.\n",
    "8. Add $b$ to the `e00200` of tax units flagged as participating.\n",
    "9. Multiply itemizable state and local income/sales taxes (`e18400`) by the change in `e00200p` (i.e., assume flat SALT--unrealistically).\n",
    "\n",
    "\\* This could be enhanced by splitting `e00200` between `e00200p` and `e00200s` for the taxpayer and spouse, respectively.\n",
    "\n",
    "*Data: CPS  |  Tax year: 2018  |  Type: Static  |  Author: Max Ghenis*"
   ]
  },
  {
   "cell_type": "markdown",
   "metadata": {},
   "source": [
    "## Setup\n",
    "\n",
    "### Imports"
   ]
  },
  {
   "cell_type": "code",
   "execution_count": 1,
   "metadata": {},
   "outputs": [],
   "source": [
    "import taxcalc as tc\n",
    "import taxcalc_helpers as tch\n",
    "import pandas as pd\n",
    "import numpy as np\n",
    "import matplotlib as mpl\n",
    "import matplotlib.pyplot as plt\n",
    "import seaborn as sns\n",
    "import os"
   ]
  },
  {
   "cell_type": "code",
   "execution_count": 2,
   "metadata": {
    "scrolled": true
   },
   "outputs": [
    {
     "data": {
      "text/plain": [
       "'0.20.1'"
      ]
     },
     "execution_count": 2,
     "metadata": {},
     "output_type": "execute_result"
    }
   ],
   "source": [
    "tc.__version__"
   ]
  },
  {
   "cell_type": "markdown",
   "metadata": {},
   "source": [
    "### Settings"
   ]
  },
  {
   "cell_type": "code",
   "execution_count": 3,
   "metadata": {},
   "outputs": [],
   "source": [
    "sns.set_style('white')\n",
    "DPI = 500\n",
    "mpl.rc('savefig', dpi=DPI)\n",
    "mpl.rcParams['figure.dpi'] = DPI\n",
    "mpl.rcParams['figure.figsize'] = 6.4, 4.8  # Default."
   ]
  },
  {
   "cell_type": "code",
   "execution_count": 4,
   "metadata": {},
   "outputs": [],
   "source": [
    "mpl.rcParams['font.sans-serif'] = 'Roboto'\n",
    "mpl.rcParams['font.family'] = 'sans-serif'\n",
    "\n",
    "# Set title text color to dark gray (https://material.io/color) not black.\n",
    "TITLE_COLOR = '#212121'\n",
    "mpl.rcParams['text.color'] = TITLE_COLOR\n",
    "\n",
    "# Axis titles and tick marks are medium gray.\n",
    "AXIS_COLOR = '#757575'\n",
    "mpl.rcParams['axes.labelcolor'] = AXIS_COLOR\n",
    "mpl.rcParams['xtick.color'] = AXIS_COLOR\n",
    "mpl.rcParams['ytick.color'] = AXIS_COLOR\n",
    "\n",
    "# Use Seaborn's default color palette.\n",
    "# https://stackoverflow.com/q/48958426/1840471 for reproducibility.\n",
    "sns.set_palette(sns.color_palette())"
   ]
  },
  {
   "cell_type": "code",
   "execution_count": 5,
   "metadata": {},
   "outputs": [],
   "source": [
    "# Specify number of decimals in tables.\n",
    "pd.set_option('precision', 2)"
   ]
  },
  {
   "cell_type": "markdown",
   "metadata": {},
   "source": [
    "## Generate data\n",
    "\n",
    "### Load data\n",
    "\n",
    "Generate a set of normal CPS records for 2018 using `Calculator`, then extract the dataframe."
   ]
  },
  {
   "cell_type": "code",
   "execution_count": 152,
   "metadata": {},
   "outputs": [],
   "source": [
    "calc = tc.Calculator(records=tc.Records.cps_constructor(), \n",
    "                     policy=tc.Policy(), verbose=False)\n",
    "calc.advance_to_year(2018)"
   ]
  },
  {
   "cell_type": "code",
   "execution_count": 153,
   "metadata": {},
   "outputs": [],
   "source": [
    "cps_raw_cols = pd.read_csv(\n",
    "    os.path.join(tc.Records.CUR_PATH, 'cps.csv.gz')).columns"
   ]
  },
  {
   "cell_type": "code",
   "execution_count": 154,
   "metadata": {},
   "outputs": [],
   "source": [
    "df = calc.dataframe(list(cps_raw_cols))"
   ]
  },
  {
   "cell_type": "markdown",
   "metadata": {},
   "source": [
    "1) Assign a JG wage $w$ which draws from a random uniform between \\$24,600 and \\$40,400."
   ]
  },
  {
   "cell_type": "code",
   "execution_count": 155,
   "metadata": {},
   "outputs": [
    {
     "name": "stdout",
     "output_type": "stream",
     "text": [
      "24600 39800\n"
     ]
    }
   ],
   "source": [
    "JG_MIN_WAGE = 24600\n",
    "JG_AVG_WAGE = 32500\n",
    "jg_max_wage = 39800  # Set to calibrate the average wage to $32,500.\n",
    "# jg_max_wage = JG_AVG_WAGE + (JG_AVG_WAGE - JG_MIN_WAGE)\n",
    "print(JG_MIN_WAGE, jg_max_wage)"
   ]
  },
  {
   "cell_type": "code",
   "execution_count": 156,
   "metadata": {},
   "outputs": [],
   "source": [
    "df['jg_w'] = np.random.randint(low=JG_MIN_WAGE, high=jg_max_wage, \n",
    "                               size=df.shape[0])"
   ]
  },
  {
   "cell_type": "code",
   "execution_count": 157,
   "metadata": {},
   "outputs": [
    {
     "name": "stdout",
     "output_type": "stream",
     "text": [
      "24600 39799\n"
     ]
    }
   ],
   "source": [
    "print(df.jg_w.min(), df.jg_w.max())"
   ]
  },
  {
   "cell_type": "markdown",
   "metadata": {},
   "source": [
    "2) Assign a maximum JG benefit $mb$ equal to $w * n_{1864}$."
   ]
  },
  {
   "cell_type": "code",
   "execution_count": 158,
   "metadata": {},
   "outputs": [],
   "source": [
    "def n65(df):\n",
    "    return ((df.age_head >= 65).astype(int) + \n",
    "            (df.age_spouse >= 65).astype(int) + \n",
    "            df.elderly_dependent)"
   ]
  },
  {
   "cell_type": "code",
   "execution_count": 159,
   "metadata": {},
   "outputs": [],
   "source": [
    "df['n65'] = n65(df)"
   ]
  },
  {
   "cell_type": "code",
   "execution_count": 160,
   "metadata": {},
   "outputs": [],
   "source": [
    "df['n1864'] = df.n1820 + df.n21 - df.n65\n",
    "df['jg_mb'] = df.jg_w * df.n1864"
   ]
  },
  {
   "cell_type": "markdown",
   "metadata": {},
   "source": [
    "3) Assign an actual JG benefit $b$ equal to $max(\\$0, mb - wages)$."
   ]
  },
  {
   "cell_type": "code",
   "execution_count": 161,
   "metadata": {},
   "outputs": [],
   "source": [
    "df['jg_b'] = np.maximum(0, df.jg_mb - df.e00200)"
   ]
  },
  {
   "cell_type": "markdown",
   "metadata": {},
   "source": [
    "4) Assign % FTE (which includes both % FTE while working and share of the year with the JG job) equal to $n1864 * b / (b+e00200)$ (`e00200` is \"wages, salaries, and tips for filing unit\"*)."
   ]
  },
  {
   "cell_type": "code",
   "execution_count": 162,
   "metadata": {},
   "outputs": [],
   "source": [
    "df['jg_fte'] = df.n1864 * df.jg_b / (df.jg_b + df.e00200)"
   ]
  },
  {
   "cell_type": "code",
   "execution_count": 163,
   "metadata": {},
   "outputs": [
    {
     "data": {
      "text/plain": [
       "0.48934879818895816"
      ]
     },
     "execution_count": 163,
     "metadata": {},
     "output_type": "execute_result"
    }
   ],
   "source": [
    "df.jg_fte.mean()"
   ]
  },
  {
   "cell_type": "markdown",
   "metadata": {},
   "source": [
    "5) Calculate the total FTE across tax units as the weighted sum of % FTE. This is the total FTE the JG would be expected to hire with 100% participation."
   ]
  },
  {
   "cell_type": "code",
   "execution_count": 164,
   "metadata": {},
   "outputs": [
    {
     "data": {
      "text/plain": [
       "71767968.53982866"
      ]
     },
     "execution_count": 164,
     "metadata": {},
     "output_type": "execute_result"
    }
   ],
   "source": [
    "total_potential_jg_fte = (df.jg_fte * df.s006).sum()\n",
    "total_potential_jg_fte"
   ]
  },
  {
   "cell_type": "markdown",
   "metadata": {},
   "source": [
    "6) Divide the expected 9.7 million (from the table) by this FTE total. Call this $p$, the probability that each tax unit will participate in the JG."
   ]
  },
  {
   "cell_type": "code",
   "execution_count": 165,
   "metadata": {},
   "outputs": [
    {
     "data": {
      "text/plain": [
       "0.13515778971250728"
      ]
     },
     "execution_count": 165,
     "metadata": {},
     "output_type": "execute_result"
    }
   ],
   "source": [
    "JG_FTE = 9700000\n",
    "jg_p = JG_FTE / total_potential_jg_fte\n",
    "jg_p"
   ]
  },
  {
   "cell_type": "markdown",
   "metadata": {},
   "source": [
    "7) Randomly assign each tax unit a participation flag with probability $p$."
   ]
  },
  {
   "cell_type": "code",
   "execution_count": 166,
   "metadata": {},
   "outputs": [],
   "source": [
    "df['jg_participate'] = np.random.rand(df.shape[0]) < jg_p"
   ]
  },
  {
   "cell_type": "markdown",
   "metadata": {},
   "source": [
    "8) Add $b$ to the `e00200` of tax units flagged as participating, and split the additional amount between `e00200p` and `e00200s` according to the current split."
   ]
  },
  {
   "cell_type": "code",
   "execution_count": 167,
   "metadata": {},
   "outputs": [],
   "source": [
    "df['jg'] = df.jg_b * df.jg_participate"
   ]
  },
  {
   "cell_type": "code",
   "execution_count": 168,
   "metadata": {},
   "outputs": [
    {
     "data": {
      "text/plain": [
       "316.64144925864247"
      ]
     },
     "execution_count": 168,
     "metadata": {},
     "output_type": "execute_result"
    }
   ],
   "source": [
    "(df.jg * df.s006).sum() / 1e9"
   ]
  },
  {
   "cell_type": "code",
   "execution_count": 169,
   "metadata": {},
   "outputs": [
    {
     "data": {
      "text/html": [
       "<div>\n",
       "<style scoped>\n",
       "    .dataframe tbody tr th:only-of-type {\n",
       "        vertical-align: middle;\n",
       "    }\n",
       "\n",
       "    .dataframe tbody tr th {\n",
       "        vertical-align: top;\n",
       "    }\n",
       "\n",
       "    .dataframe thead th {\n",
       "        text-align: right;\n",
       "    }\n",
       "</style>\n",
       "<table border=\"1\" class=\"dataframe\">\n",
       "  <thead>\n",
       "    <tr style=\"text-align: right;\">\n",
       "      <th></th>\n",
       "      <th>e00200</th>\n",
       "      <th>jg</th>\n",
       "      <th>e00200p</th>\n",
       "      <th>jg_fte</th>\n",
       "      <th>n1864</th>\n",
       "      <th>jg_w</th>\n",
       "      <th>jg_mb</th>\n",
       "      <th>jg_b</th>\n",
       "    </tr>\n",
       "  </thead>\n",
       "  <tbody>\n",
       "    <tr>\n",
       "      <th>98003</th>\n",
       "      <td>211638.82</td>\n",
       "      <td>0.00</td>\n",
       "      <td>0.00</td>\n",
       "      <td>6.34e-02</td>\n",
       "      <td>6.0</td>\n",
       "      <td>35650</td>\n",
       "      <td>213900.0</td>\n",
       "      <td>2261.18</td>\n",
       "    </tr>\n",
       "    <tr>\n",
       "      <th>98004</th>\n",
       "      <td>211638.82</td>\n",
       "      <td>0.00</td>\n",
       "      <td>0.00</td>\n",
       "      <td>1.58e-01</td>\n",
       "      <td>6.0</td>\n",
       "      <td>36230</td>\n",
       "      <td>217380.0</td>\n",
       "      <td>5741.18</td>\n",
       "    </tr>\n",
       "    <tr>\n",
       "      <th>98006</th>\n",
       "      <td>211638.82</td>\n",
       "      <td>0.00</td>\n",
       "      <td>0.00</td>\n",
       "      <td>1.98e-01</td>\n",
       "      <td>6.0</td>\n",
       "      <td>36475</td>\n",
       "      <td>218850.0</td>\n",
       "      <td>7211.18</td>\n",
       "    </tr>\n",
       "    <tr>\n",
       "      <th>81436</th>\n",
       "      <td>169739.80</td>\n",
       "      <td>6910.20</td>\n",
       "      <td>13400.08</td>\n",
       "      <td>1.96e-01</td>\n",
       "      <td>5.0</td>\n",
       "      <td>35330</td>\n",
       "      <td>176650.0</td>\n",
       "      <td>6910.20</td>\n",
       "    </tr>\n",
       "    <tr>\n",
       "      <th>81426</th>\n",
       "      <td>169739.80</td>\n",
       "      <td>0.00</td>\n",
       "      <td>13400.08</td>\n",
       "      <td>2.69e-01</td>\n",
       "      <td>5.0</td>\n",
       "      <td>35879</td>\n",
       "      <td>179395.0</td>\n",
       "      <td>9655.20</td>\n",
       "    </tr>\n",
       "    <tr>\n",
       "      <th>81424</th>\n",
       "      <td>169739.80</td>\n",
       "      <td>0.00</td>\n",
       "      <td>13400.08</td>\n",
       "      <td>1.30e-01</td>\n",
       "      <td>5.0</td>\n",
       "      <td>34851</td>\n",
       "      <td>174255.0</td>\n",
       "      <td>4515.20</td>\n",
       "    </tr>\n",
       "    <tr>\n",
       "      <th>81431</th>\n",
       "      <td>169739.80</td>\n",
       "      <td>0.00</td>\n",
       "      <td>13400.08</td>\n",
       "      <td>2.62e-01</td>\n",
       "      <td>5.0</td>\n",
       "      <td>35827</td>\n",
       "      <td>179135.0</td>\n",
       "      <td>9395.20</td>\n",
       "    </tr>\n",
       "    <tr>\n",
       "      <th>81432</th>\n",
       "      <td>169739.80</td>\n",
       "      <td>0.00</td>\n",
       "      <td>13400.08</td>\n",
       "      <td>5.13e-01</td>\n",
       "      <td>5.0</td>\n",
       "      <td>37827</td>\n",
       "      <td>189135.0</td>\n",
       "      <td>19395.20</td>\n",
       "    </tr>\n",
       "    <tr>\n",
       "      <th>81428</th>\n",
       "      <td>169739.80</td>\n",
       "      <td>0.00</td>\n",
       "      <td>13400.08</td>\n",
       "      <td>7.21e-02</td>\n",
       "      <td>5.0</td>\n",
       "      <td>34445</td>\n",
       "      <td>172225.0</td>\n",
       "      <td>2485.20</td>\n",
       "    </tr>\n",
       "    <tr>\n",
       "      <th>81433</th>\n",
       "      <td>169739.80</td>\n",
       "      <td>0.00</td>\n",
       "      <td>13400.08</td>\n",
       "      <td>1.21e-01</td>\n",
       "      <td>5.0</td>\n",
       "      <td>34790</td>\n",
       "      <td>173950.0</td>\n",
       "      <td>4210.20</td>\n",
       "    </tr>\n",
       "    <tr>\n",
       "      <th>81435</th>\n",
       "      <td>169739.80</td>\n",
       "      <td>0.00</td>\n",
       "      <td>13400.08</td>\n",
       "      <td>7.36e-02</td>\n",
       "      <td>5.0</td>\n",
       "      <td>34455</td>\n",
       "      <td>172275.0</td>\n",
       "      <td>2535.20</td>\n",
       "    </tr>\n",
       "    <tr>\n",
       "      <th>79814</th>\n",
       "      <td>167506.84</td>\n",
       "      <td>0.00</td>\n",
       "      <td>167506.84</td>\n",
       "      <td>7.67e-01</td>\n",
       "      <td>5.0</td>\n",
       "      <td>39570</td>\n",
       "      <td>197850.0</td>\n",
       "      <td>30343.16</td>\n",
       "    </tr>\n",
       "    <tr>\n",
       "      <th>317386</th>\n",
       "      <td>162826.54</td>\n",
       "      <td>0.00</td>\n",
       "      <td>85171.18</td>\n",
       "      <td>8.52e-01</td>\n",
       "      <td>5.0</td>\n",
       "      <td>39258</td>\n",
       "      <td>196290.0</td>\n",
       "      <td>33463.46</td>\n",
       "    </tr>\n",
       "    <tr>\n",
       "      <th>243940</th>\n",
       "      <td>154494.95</td>\n",
       "      <td>0.00</td>\n",
       "      <td>77247.47</td>\n",
       "      <td>7.46e-02</td>\n",
       "      <td>4.0</td>\n",
       "      <td>39358</td>\n",
       "      <td>157432.0</td>\n",
       "      <td>2937.05</td>\n",
       "    </tr>\n",
       "    <tr>\n",
       "      <th>88026</th>\n",
       "      <td>153711.61</td>\n",
       "      <td>0.00</td>\n",
       "      <td>153711.61</td>\n",
       "      <td>1.94e-02</td>\n",
       "      <td>5.0</td>\n",
       "      <td>30862</td>\n",
       "      <td>154310.0</td>\n",
       "      <td>598.39</td>\n",
       "    </tr>\n",
       "    <tr>\n",
       "      <th>320949</th>\n",
       "      <td>152915.53</td>\n",
       "      <td>0.00</td>\n",
       "      <td>78614.83</td>\n",
       "      <td>9.58e-02</td>\n",
       "      <td>4.0</td>\n",
       "      <td>39167</td>\n",
       "      <td>156668.0</td>\n",
       "      <td>3752.47</td>\n",
       "    </tr>\n",
       "    <tr>\n",
       "      <th>320942</th>\n",
       "      <td>152915.53</td>\n",
       "      <td>0.00</td>\n",
       "      <td>78614.83</td>\n",
       "      <td>1.51e-02</td>\n",
       "      <td>4.0</td>\n",
       "      <td>38374</td>\n",
       "      <td>153496.0</td>\n",
       "      <td>580.47</td>\n",
       "    </tr>\n",
       "    <tr>\n",
       "      <th>63270</th>\n",
       "      <td>152820.52</td>\n",
       "      <td>0.00</td>\n",
       "      <td>113200.81</td>\n",
       "      <td>2.67e-02</td>\n",
       "      <td>4.0</td>\n",
       "      <td>38462</td>\n",
       "      <td>153848.0</td>\n",
       "      <td>1027.48</td>\n",
       "    </tr>\n",
       "    <tr>\n",
       "      <th>92730</th>\n",
       "      <td>152363.96</td>\n",
       "      <td>0.00</td>\n",
       "      <td>79312.41</td>\n",
       "      <td>1.04e+00</td>\n",
       "      <td>5.0</td>\n",
       "      <td>38465</td>\n",
       "      <td>192325.0</td>\n",
       "      <td>39961.04</td>\n",
       "    </tr>\n",
       "    <tr>\n",
       "      <th>380423</th>\n",
       "      <td>152102.07</td>\n",
       "      <td>0.00</td>\n",
       "      <td>117001.60</td>\n",
       "      <td>1.74e-01</td>\n",
       "      <td>4.0</td>\n",
       "      <td>39755</td>\n",
       "      <td>159020.0</td>\n",
       "      <td>6917.93</td>\n",
       "    </tr>\n",
       "    <tr>\n",
       "      <th>23875</th>\n",
       "      <td>152076.58</td>\n",
       "      <td>0.00</td>\n",
       "      <td>148601.41</td>\n",
       "      <td>6.60e-03</td>\n",
       "      <td>4.0</td>\n",
       "      <td>38082</td>\n",
       "      <td>152328.0</td>\n",
       "      <td>251.42</td>\n",
       "    </tr>\n",
       "    <tr>\n",
       "      <th>268956</th>\n",
       "      <td>151336.12</td>\n",
       "      <td>0.00</td>\n",
       "      <td>121662.19</td>\n",
       "      <td>1.37e-01</td>\n",
       "      <td>4.0</td>\n",
       "      <td>39174</td>\n",
       "      <td>156696.0</td>\n",
       "      <td>5359.88</td>\n",
       "    </tr>\n",
       "    <tr>\n",
       "      <th>228422</th>\n",
       "      <td>149872.59</td>\n",
       "      <td>0.00</td>\n",
       "      <td>103757.95</td>\n",
       "      <td>2.70e-02</td>\n",
       "      <td>4.0</td>\n",
       "      <td>37723</td>\n",
       "      <td>150892.0</td>\n",
       "      <td>1019.41</td>\n",
       "    </tr>\n",
       "    <tr>\n",
       "      <th>185199</th>\n",
       "      <td>147555.04</td>\n",
       "      <td>0.00</td>\n",
       "      <td>94435.60</td>\n",
       "      <td>6.74e-02</td>\n",
       "      <td>4.0</td>\n",
       "      <td>37521</td>\n",
       "      <td>150084.0</td>\n",
       "      <td>2528.96</td>\n",
       "    </tr>\n",
       "    <tr>\n",
       "      <th>185198</th>\n",
       "      <td>147555.04</td>\n",
       "      <td>0.00</td>\n",
       "      <td>94435.60</td>\n",
       "      <td>1.03e-01</td>\n",
       "      <td>4.0</td>\n",
       "      <td>37864</td>\n",
       "      <td>151456.0</td>\n",
       "      <td>3900.96</td>\n",
       "    </tr>\n",
       "    <tr>\n",
       "      <th>185194</th>\n",
       "      <td>147555.04</td>\n",
       "      <td>0.00</td>\n",
       "      <td>94435.60</td>\n",
       "      <td>1.65e-01</td>\n",
       "      <td>4.0</td>\n",
       "      <td>38472</td>\n",
       "      <td>153888.0</td>\n",
       "      <td>6332.96</td>\n",
       "    </tr>\n",
       "    <tr>\n",
       "      <th>185191</th>\n",
       "      <td>147555.04</td>\n",
       "      <td>0.00</td>\n",
       "      <td>94435.60</td>\n",
       "      <td>1.24e-01</td>\n",
       "      <td>4.0</td>\n",
       "      <td>38067</td>\n",
       "      <td>152268.0</td>\n",
       "      <td>4712.96</td>\n",
       "    </tr>\n",
       "    <tr>\n",
       "      <th>185189</th>\n",
       "      <td>147555.04</td>\n",
       "      <td>0.00</td>\n",
       "      <td>94435.60</td>\n",
       "      <td>1.18e-01</td>\n",
       "      <td>4.0</td>\n",
       "      <td>38009</td>\n",
       "      <td>152036.0</td>\n",
       "      <td>4480.96</td>\n",
       "    </tr>\n",
       "    <tr>\n",
       "      <th>136503</th>\n",
       "      <td>147060.24</td>\n",
       "      <td>383.76</td>\n",
       "      <td>147060.24</td>\n",
       "      <td>1.04e-02</td>\n",
       "      <td>4.0</td>\n",
       "      <td>36861</td>\n",
       "      <td>147444.0</td>\n",
       "      <td>383.76</td>\n",
       "    </tr>\n",
       "    <tr>\n",
       "      <th>412103</th>\n",
       "      <td>146048.63</td>\n",
       "      <td>10567.37</td>\n",
       "      <td>105678.04</td>\n",
       "      <td>2.70e-01</td>\n",
       "      <td>4.0</td>\n",
       "      <td>39154</td>\n",
       "      <td>156616.0</td>\n",
       "      <td>10567.37</td>\n",
       "    </tr>\n",
       "    <tr>\n",
       "      <th>...</th>\n",
       "      <td>...</td>\n",
       "      <td>...</td>\n",
       "      <td>...</td>\n",
       "      <td>...</td>\n",
       "      <td>...</td>\n",
       "      <td>...</td>\n",
       "      <td>...</td>\n",
       "      <td>...</td>\n",
       "    </tr>\n",
       "    <tr>\n",
       "      <th>146065</th>\n",
       "      <td>0.00</td>\n",
       "      <td>0.00</td>\n",
       "      <td>0.00</td>\n",
       "      <td>1.00e+00</td>\n",
       "      <td>1.0</td>\n",
       "      <td>36259</td>\n",
       "      <td>36259.0</td>\n",
       "      <td>36259.00</td>\n",
       "    </tr>\n",
       "    <tr>\n",
       "      <th>319090</th>\n",
       "      <td>0.00</td>\n",
       "      <td>0.00</td>\n",
       "      <td>0.00</td>\n",
       "      <td>3.00e+00</td>\n",
       "      <td>3.0</td>\n",
       "      <td>33847</td>\n",
       "      <td>101541.0</td>\n",
       "      <td>101541.00</td>\n",
       "    </tr>\n",
       "    <tr>\n",
       "      <th>145976</th>\n",
       "      <td>0.00</td>\n",
       "      <td>0.00</td>\n",
       "      <td>0.00</td>\n",
       "      <td>4.00e+00</td>\n",
       "      <td>4.0</td>\n",
       "      <td>25688</td>\n",
       "      <td>102752.0</td>\n",
       "      <td>102752.00</td>\n",
       "    </tr>\n",
       "    <tr>\n",
       "      <th>146156</th>\n",
       "      <td>0.00</td>\n",
       "      <td>29020.00</td>\n",
       "      <td>0.00</td>\n",
       "      <td>1.00e+00</td>\n",
       "      <td>1.0</td>\n",
       "      <td>29020</td>\n",
       "      <td>29020.0</td>\n",
       "      <td>29020.00</td>\n",
       "    </tr>\n",
       "    <tr>\n",
       "      <th>319069</th>\n",
       "      <td>0.00</td>\n",
       "      <td>0.00</td>\n",
       "      <td>0.00</td>\n",
       "      <td>1.00e+00</td>\n",
       "      <td>1.0</td>\n",
       "      <td>31240</td>\n",
       "      <td>31240.0</td>\n",
       "      <td>31240.00</td>\n",
       "    </tr>\n",
       "    <tr>\n",
       "      <th>146157</th>\n",
       "      <td>0.00</td>\n",
       "      <td>0.00</td>\n",
       "      <td>0.00</td>\n",
       "      <td>1.00e+00</td>\n",
       "      <td>1.0</td>\n",
       "      <td>26598</td>\n",
       "      <td>26598.0</td>\n",
       "      <td>26598.00</td>\n",
       "    </tr>\n",
       "    <tr>\n",
       "      <th>146179</th>\n",
       "      <td>0.00</td>\n",
       "      <td>0.00</td>\n",
       "      <td>0.00</td>\n",
       "      <td>2.00e+00</td>\n",
       "      <td>2.0</td>\n",
       "      <td>31980</td>\n",
       "      <td>63960.0</td>\n",
       "      <td>63960.00</td>\n",
       "    </tr>\n",
       "    <tr>\n",
       "      <th>146208</th>\n",
       "      <td>0.00</td>\n",
       "      <td>37918.00</td>\n",
       "      <td>0.00</td>\n",
       "      <td>1.00e+00</td>\n",
       "      <td>1.0</td>\n",
       "      <td>37918</td>\n",
       "      <td>37918.0</td>\n",
       "      <td>37918.00</td>\n",
       "    </tr>\n",
       "    <tr>\n",
       "      <th>146209</th>\n",
       "      <td>0.00</td>\n",
       "      <td>0.00</td>\n",
       "      <td>0.00</td>\n",
       "      <td>1.00e+00</td>\n",
       "      <td>1.0</td>\n",
       "      <td>24976</td>\n",
       "      <td>24976.0</td>\n",
       "      <td>24976.00</td>\n",
       "    </tr>\n",
       "    <tr>\n",
       "      <th>146210</th>\n",
       "      <td>0.00</td>\n",
       "      <td>0.00</td>\n",
       "      <td>0.00</td>\n",
       "      <td>1.00e+00</td>\n",
       "      <td>1.0</td>\n",
       "      <td>28861</td>\n",
       "      <td>28861.0</td>\n",
       "      <td>28861.00</td>\n",
       "    </tr>\n",
       "    <tr>\n",
       "      <th>319129</th>\n",
       "      <td>0.00</td>\n",
       "      <td>73824.00</td>\n",
       "      <td>0.00</td>\n",
       "      <td>3.00e+00</td>\n",
       "      <td>3.0</td>\n",
       "      <td>24608</td>\n",
       "      <td>73824.0</td>\n",
       "      <td>73824.00</td>\n",
       "    </tr>\n",
       "    <tr>\n",
       "      <th>319130</th>\n",
       "      <td>0.00</td>\n",
       "      <td>0.00</td>\n",
       "      <td>0.00</td>\n",
       "      <td>3.00e+00</td>\n",
       "      <td>3.0</td>\n",
       "      <td>37876</td>\n",
       "      <td>113628.0</td>\n",
       "      <td>113628.00</td>\n",
       "    </tr>\n",
       "    <tr>\n",
       "      <th>319131</th>\n",
       "      <td>0.00</td>\n",
       "      <td>0.00</td>\n",
       "      <td>0.00</td>\n",
       "      <td>3.00e+00</td>\n",
       "      <td>3.0</td>\n",
       "      <td>31799</td>\n",
       "      <td>95397.0</td>\n",
       "      <td>95397.00</td>\n",
       "    </tr>\n",
       "    <tr>\n",
       "      <th>319132</th>\n",
       "      <td>0.00</td>\n",
       "      <td>86571.00</td>\n",
       "      <td>0.00</td>\n",
       "      <td>3.00e+00</td>\n",
       "      <td>3.0</td>\n",
       "      <td>28857</td>\n",
       "      <td>86571.0</td>\n",
       "      <td>86571.00</td>\n",
       "    </tr>\n",
       "    <tr>\n",
       "      <th>145977</th>\n",
       "      <td>0.00</td>\n",
       "      <td>148532.00</td>\n",
       "      <td>0.00</td>\n",
       "      <td>4.00e+00</td>\n",
       "      <td>4.0</td>\n",
       "      <td>37133</td>\n",
       "      <td>148532.0</td>\n",
       "      <td>148532.00</td>\n",
       "    </tr>\n",
       "    <tr>\n",
       "      <th>145978</th>\n",
       "      <td>0.00</td>\n",
       "      <td>0.00</td>\n",
       "      <td>0.00</td>\n",
       "      <td>4.00e+00</td>\n",
       "      <td>4.0</td>\n",
       "      <td>27383</td>\n",
       "      <td>109532.0</td>\n",
       "      <td>109532.00</td>\n",
       "    </tr>\n",
       "    <tr>\n",
       "      <th>145979</th>\n",
       "      <td>0.00</td>\n",
       "      <td>0.00</td>\n",
       "      <td>0.00</td>\n",
       "      <td>4.00e+00</td>\n",
       "      <td>4.0</td>\n",
       "      <td>31476</td>\n",
       "      <td>125904.0</td>\n",
       "      <td>125904.00</td>\n",
       "    </tr>\n",
       "    <tr>\n",
       "      <th>319146</th>\n",
       "      <td>0.00</td>\n",
       "      <td>38853.00</td>\n",
       "      <td>0.00</td>\n",
       "      <td>1.00e+00</td>\n",
       "      <td>1.0</td>\n",
       "      <td>38853</td>\n",
       "      <td>38853.0</td>\n",
       "      <td>38853.00</td>\n",
       "    </tr>\n",
       "    <tr>\n",
       "      <th>319143</th>\n",
       "      <td>0.00</td>\n",
       "      <td>0.00</td>\n",
       "      <td>0.00</td>\n",
       "      <td>3.00e+00</td>\n",
       "      <td>3.0</td>\n",
       "      <td>29698</td>\n",
       "      <td>89094.0</td>\n",
       "      <td>89094.00</td>\n",
       "    </tr>\n",
       "    <tr>\n",
       "      <th>319142</th>\n",
       "      <td>0.00</td>\n",
       "      <td>0.00</td>\n",
       "      <td>0.00</td>\n",
       "      <td>3.00e+00</td>\n",
       "      <td>3.0</td>\n",
       "      <td>32378</td>\n",
       "      <td>97134.0</td>\n",
       "      <td>97134.00</td>\n",
       "    </tr>\n",
       "    <tr>\n",
       "      <th>319141</th>\n",
       "      <td>0.00</td>\n",
       "      <td>0.00</td>\n",
       "      <td>0.00</td>\n",
       "      <td>3.00e+00</td>\n",
       "      <td>3.0</td>\n",
       "      <td>39425</td>\n",
       "      <td>118275.0</td>\n",
       "      <td>118275.00</td>\n",
       "    </tr>\n",
       "    <tr>\n",
       "      <th>319140</th>\n",
       "      <td>0.00</td>\n",
       "      <td>0.00</td>\n",
       "      <td>0.00</td>\n",
       "      <td>3.00e+00</td>\n",
       "      <td>3.0</td>\n",
       "      <td>38264</td>\n",
       "      <td>114792.0</td>\n",
       "      <td>114792.00</td>\n",
       "    </tr>\n",
       "    <tr>\n",
       "      <th>319139</th>\n",
       "      <td>0.00</td>\n",
       "      <td>0.00</td>\n",
       "      <td>0.00</td>\n",
       "      <td>3.00e+00</td>\n",
       "      <td>3.0</td>\n",
       "      <td>25926</td>\n",
       "      <td>77778.0</td>\n",
       "      <td>77778.00</td>\n",
       "    </tr>\n",
       "    <tr>\n",
       "      <th>319138</th>\n",
       "      <td>0.00</td>\n",
       "      <td>0.00</td>\n",
       "      <td>0.00</td>\n",
       "      <td>3.00e+00</td>\n",
       "      <td>3.0</td>\n",
       "      <td>27166</td>\n",
       "      <td>81498.0</td>\n",
       "      <td>81498.00</td>\n",
       "    </tr>\n",
       "    <tr>\n",
       "      <th>319137</th>\n",
       "      <td>0.00</td>\n",
       "      <td>0.00</td>\n",
       "      <td>0.00</td>\n",
       "      <td>3.00e+00</td>\n",
       "      <td>3.0</td>\n",
       "      <td>28445</td>\n",
       "      <td>85335.0</td>\n",
       "      <td>85335.00</td>\n",
       "    </tr>\n",
       "    <tr>\n",
       "      <th>319136</th>\n",
       "      <td>0.00</td>\n",
       "      <td>0.00</td>\n",
       "      <td>0.00</td>\n",
       "      <td>3.00e+00</td>\n",
       "      <td>3.0</td>\n",
       "      <td>26996</td>\n",
       "      <td>80988.0</td>\n",
       "      <td>80988.00</td>\n",
       "    </tr>\n",
       "    <tr>\n",
       "      <th>319135</th>\n",
       "      <td>0.00</td>\n",
       "      <td>0.00</td>\n",
       "      <td>0.00</td>\n",
       "      <td>3.00e+00</td>\n",
       "      <td>3.0</td>\n",
       "      <td>31881</td>\n",
       "      <td>95643.0</td>\n",
       "      <td>95643.00</td>\n",
       "    </tr>\n",
       "    <tr>\n",
       "      <th>319134</th>\n",
       "      <td>0.00</td>\n",
       "      <td>117543.00</td>\n",
       "      <td>0.00</td>\n",
       "      <td>3.00e+00</td>\n",
       "      <td>3.0</td>\n",
       "      <td>39181</td>\n",
       "      <td>117543.0</td>\n",
       "      <td>117543.00</td>\n",
       "    </tr>\n",
       "    <tr>\n",
       "      <th>319133</th>\n",
       "      <td>0.00</td>\n",
       "      <td>0.00</td>\n",
       "      <td>0.00</td>\n",
       "      <td>3.00e+00</td>\n",
       "      <td>3.0</td>\n",
       "      <td>39001</td>\n",
       "      <td>117003.0</td>\n",
       "      <td>117003.00</td>\n",
       "    </tr>\n",
       "    <tr>\n",
       "      <th>241408</th>\n",
       "      <td>0.00</td>\n",
       "      <td>0.00</td>\n",
       "      <td>0.00</td>\n",
       "      <td>2.00e+00</td>\n",
       "      <td>2.0</td>\n",
       "      <td>39548</td>\n",
       "      <td>79096.0</td>\n",
       "      <td>79096.00</td>\n",
       "    </tr>\n",
       "  </tbody>\n",
       "</table>\n",
       "<p>187055 rows × 8 columns</p>\n",
       "</div>"
      ],
      "text/plain": [
       "           e00200         jg    e00200p    jg_fte  n1864   jg_w     jg_mb  \\\n",
       "98003   211638.82       0.00       0.00  6.34e-02    6.0  35650  213900.0   \n",
       "98004   211638.82       0.00       0.00  1.58e-01    6.0  36230  217380.0   \n",
       "98006   211638.82       0.00       0.00  1.98e-01    6.0  36475  218850.0   \n",
       "81436   169739.80    6910.20   13400.08  1.96e-01    5.0  35330  176650.0   \n",
       "81426   169739.80       0.00   13400.08  2.69e-01    5.0  35879  179395.0   \n",
       "81424   169739.80       0.00   13400.08  1.30e-01    5.0  34851  174255.0   \n",
       "81431   169739.80       0.00   13400.08  2.62e-01    5.0  35827  179135.0   \n",
       "81432   169739.80       0.00   13400.08  5.13e-01    5.0  37827  189135.0   \n",
       "81428   169739.80       0.00   13400.08  7.21e-02    5.0  34445  172225.0   \n",
       "81433   169739.80       0.00   13400.08  1.21e-01    5.0  34790  173950.0   \n",
       "81435   169739.80       0.00   13400.08  7.36e-02    5.0  34455  172275.0   \n",
       "79814   167506.84       0.00  167506.84  7.67e-01    5.0  39570  197850.0   \n",
       "317386  162826.54       0.00   85171.18  8.52e-01    5.0  39258  196290.0   \n",
       "243940  154494.95       0.00   77247.47  7.46e-02    4.0  39358  157432.0   \n",
       "88026   153711.61       0.00  153711.61  1.94e-02    5.0  30862  154310.0   \n",
       "320949  152915.53       0.00   78614.83  9.58e-02    4.0  39167  156668.0   \n",
       "320942  152915.53       0.00   78614.83  1.51e-02    4.0  38374  153496.0   \n",
       "63270   152820.52       0.00  113200.81  2.67e-02    4.0  38462  153848.0   \n",
       "92730   152363.96       0.00   79312.41  1.04e+00    5.0  38465  192325.0   \n",
       "380423  152102.07       0.00  117001.60  1.74e-01    4.0  39755  159020.0   \n",
       "23875   152076.58       0.00  148601.41  6.60e-03    4.0  38082  152328.0   \n",
       "268956  151336.12       0.00  121662.19  1.37e-01    4.0  39174  156696.0   \n",
       "228422  149872.59       0.00  103757.95  2.70e-02    4.0  37723  150892.0   \n",
       "185199  147555.04       0.00   94435.60  6.74e-02    4.0  37521  150084.0   \n",
       "185198  147555.04       0.00   94435.60  1.03e-01    4.0  37864  151456.0   \n",
       "185194  147555.04       0.00   94435.60  1.65e-01    4.0  38472  153888.0   \n",
       "185191  147555.04       0.00   94435.60  1.24e-01    4.0  38067  152268.0   \n",
       "185189  147555.04       0.00   94435.60  1.18e-01    4.0  38009  152036.0   \n",
       "136503  147060.24     383.76  147060.24  1.04e-02    4.0  36861  147444.0   \n",
       "412103  146048.63   10567.37  105678.04  2.70e-01    4.0  39154  156616.0   \n",
       "...           ...        ...        ...       ...    ...    ...       ...   \n",
       "146065       0.00       0.00       0.00  1.00e+00    1.0  36259   36259.0   \n",
       "319090       0.00       0.00       0.00  3.00e+00    3.0  33847  101541.0   \n",
       "145976       0.00       0.00       0.00  4.00e+00    4.0  25688  102752.0   \n",
       "146156       0.00   29020.00       0.00  1.00e+00    1.0  29020   29020.0   \n",
       "319069       0.00       0.00       0.00  1.00e+00    1.0  31240   31240.0   \n",
       "146157       0.00       0.00       0.00  1.00e+00    1.0  26598   26598.0   \n",
       "146179       0.00       0.00       0.00  2.00e+00    2.0  31980   63960.0   \n",
       "146208       0.00   37918.00       0.00  1.00e+00    1.0  37918   37918.0   \n",
       "146209       0.00       0.00       0.00  1.00e+00    1.0  24976   24976.0   \n",
       "146210       0.00       0.00       0.00  1.00e+00    1.0  28861   28861.0   \n",
       "319129       0.00   73824.00       0.00  3.00e+00    3.0  24608   73824.0   \n",
       "319130       0.00       0.00       0.00  3.00e+00    3.0  37876  113628.0   \n",
       "319131       0.00       0.00       0.00  3.00e+00    3.0  31799   95397.0   \n",
       "319132       0.00   86571.00       0.00  3.00e+00    3.0  28857   86571.0   \n",
       "145977       0.00  148532.00       0.00  4.00e+00    4.0  37133  148532.0   \n",
       "145978       0.00       0.00       0.00  4.00e+00    4.0  27383  109532.0   \n",
       "145979       0.00       0.00       0.00  4.00e+00    4.0  31476  125904.0   \n",
       "319146       0.00   38853.00       0.00  1.00e+00    1.0  38853   38853.0   \n",
       "319143       0.00       0.00       0.00  3.00e+00    3.0  29698   89094.0   \n",
       "319142       0.00       0.00       0.00  3.00e+00    3.0  32378   97134.0   \n",
       "319141       0.00       0.00       0.00  3.00e+00    3.0  39425  118275.0   \n",
       "319140       0.00       0.00       0.00  3.00e+00    3.0  38264  114792.0   \n",
       "319139       0.00       0.00       0.00  3.00e+00    3.0  25926   77778.0   \n",
       "319138       0.00       0.00       0.00  3.00e+00    3.0  27166   81498.0   \n",
       "319137       0.00       0.00       0.00  3.00e+00    3.0  28445   85335.0   \n",
       "319136       0.00       0.00       0.00  3.00e+00    3.0  26996   80988.0   \n",
       "319135       0.00       0.00       0.00  3.00e+00    3.0  31881   95643.0   \n",
       "319134       0.00  117543.00       0.00  3.00e+00    3.0  39181  117543.0   \n",
       "319133       0.00       0.00       0.00  3.00e+00    3.0  39001  117003.0   \n",
       "241408       0.00       0.00       0.00  2.00e+00    2.0  39548   79096.0   \n",
       "\n",
       "             jg_b  \n",
       "98003     2261.18  \n",
       "98004     5741.18  \n",
       "98006     7211.18  \n",
       "81436     6910.20  \n",
       "81426     9655.20  \n",
       "81424     4515.20  \n",
       "81431     9395.20  \n",
       "81432    19395.20  \n",
       "81428     2485.20  \n",
       "81433     4210.20  \n",
       "81435     2535.20  \n",
       "79814    30343.16  \n",
       "317386   33463.46  \n",
       "243940    2937.05  \n",
       "88026      598.39  \n",
       "320949    3752.47  \n",
       "320942     580.47  \n",
       "63270     1027.48  \n",
       "92730    39961.04  \n",
       "380423    6917.93  \n",
       "23875      251.42  \n",
       "268956    5359.88  \n",
       "228422    1019.41  \n",
       "185199    2528.96  \n",
       "185198    3900.96  \n",
       "185194    6332.96  \n",
       "185191    4712.96  \n",
       "185189    4480.96  \n",
       "136503     383.76  \n",
       "412103   10567.37  \n",
       "...           ...  \n",
       "146065   36259.00  \n",
       "319090  101541.00  \n",
       "145976  102752.00  \n",
       "146156   29020.00  \n",
       "319069   31240.00  \n",
       "146157   26598.00  \n",
       "146179   63960.00  \n",
       "146208   37918.00  \n",
       "146209   24976.00  \n",
       "146210   28861.00  \n",
       "319129   73824.00  \n",
       "319130  113628.00  \n",
       "319131   95397.00  \n",
       "319132   86571.00  \n",
       "145977  148532.00  \n",
       "145978  109532.00  \n",
       "145979  125904.00  \n",
       "319146   38853.00  \n",
       "319143   89094.00  \n",
       "319142   97134.00  \n",
       "319141  118275.00  \n",
       "319140  114792.00  \n",
       "319139   77778.00  \n",
       "319138   81498.00  \n",
       "319137   85335.00  \n",
       "319136   80988.00  \n",
       "319135   95643.00  \n",
       "319134  117543.00  \n",
       "319133  117003.00  \n",
       "241408   79096.00  \n",
       "\n",
       "[187055 rows x 8 columns]"
      ]
     },
     "execution_count": 169,
     "metadata": {},
     "output_type": "execute_result"
    }
   ],
   "source": [
    "df[df.jg_fte > 0][['e00200', 'jg', 'e00200p', 'jg_fte', 'n1864', 'jg_w', 'jg_mb', 'jg_b']].sort_values('e00200', ascending=False)"
   ]
  },
  {
   "cell_type": "code",
   "execution_count": 170,
   "metadata": {},
   "outputs": [
    {
     "data": {
      "text/plain": [
       "32539.489542408715"
      ]
     },
     "execution_count": 170,
     "metadata": {},
     "output_type": "execute_result"
    }
   ],
   "source": [
    "(df.jg * df.s006).sum() / (df.jg_participate * df.jg_fte * df.s006).sum()"
   ]
  },
  {
   "cell_type": "code",
   "execution_count": 171,
   "metadata": {},
   "outputs": [],
   "source": [
    "df['e00200_orig'] = df.e00200\n",
    "df['e00200p_orig'] = df.e00200p\n",
    "df['e00200s_orig'] = df.e00200s"
   ]
  },
  {
   "cell_type": "code",
   "execution_count": 172,
   "metadata": {},
   "outputs": [],
   "source": [
    "df['jgp'] = df.jg * np.where(df.e00200_orig > 0, \n",
    "                             df.e00200p_orig / df.e00200_orig, 1)\n",
    "df['jgs'] = df.jg * np.where(df.e00200_orig > 0, \n",
    "                             df.e00200s_orig / df.e00200_orig, 0)"
   ]
  },
  {
   "cell_type": "code",
   "execution_count": 173,
   "metadata": {},
   "outputs": [],
   "source": [
    "df['e00200'] = df.e00200_orig + df.jg\n",
    "df['e00200p'] = df.e00200p_orig + df.jgp\n",
    "df['e00200s'] = df.e00200s_orig + df.jgs"
   ]
  },
  {
   "cell_type": "code",
   "execution_count": 174,
   "metadata": {},
   "outputs": [
    {
     "data": {
      "text/plain": [
       "730.1471804819707"
      ]
     },
     "execution_count": 174,
     "metadata": {},
     "output_type": "execute_result"
    }
   ],
   "source": [
    "df.jgp.sum() / 1e6"
   ]
  },
  {
   "cell_type": "code",
   "execution_count": 175,
   "metadata": {},
   "outputs": [
    {
     "data": {
      "text/plain": [
       "116.1330323910663"
      ]
     },
     "execution_count": 175,
     "metadata": {},
     "output_type": "execute_result"
    }
   ],
   "source": [
    "df.jgs.sum() / 1e6"
   ]
  },
  {
   "cell_type": "code",
   "execution_count": 176,
   "metadata": {},
   "outputs": [
    {
     "data": {
      "text/plain": [
       "846.280212873037"
      ]
     },
     "execution_count": 176,
     "metadata": {},
     "output_type": "execute_result"
    }
   ],
   "source": [
    "df.jg.sum() / 1e6"
   ]
  },
  {
   "cell_type": "code",
   "execution_count": 177,
   "metadata": {},
   "outputs": [
    {
     "data": {
      "text/plain": [
       "127.37582310368"
      ]
     },
     "execution_count": 177,
     "metadata": {},
     "output_type": "execute_result"
    }
   ],
   "source": [
    "df_noinc = df[(df.e00200_orig == 0)]\n",
    "(df_noinc.jg * df_noinc.s006).sum() / 1e9"
   ]
  },
  {
   "cell_type": "code",
   "execution_count": 178,
   "metadata": {},
   "outputs": [
    {
     "data": {
      "text/plain": [
       "189.26562615496238"
      ]
     },
     "execution_count": 178,
     "metadata": {},
     "output_type": "execute_result"
    }
   ],
   "source": [
    "df_noinc = df[(df.e00200_orig > 0)]\n",
    "(df_noinc.jg * df_noinc.s006).sum() / 1e9"
   ]
  },
  {
   "cell_type": "code",
   "execution_count": 203,
   "metadata": {},
   "outputs": [
    {
     "data": {
      "text/html": [
       "<div>\n",
       "<style scoped>\n",
       "    .dataframe tbody tr th:only-of-type {\n",
       "        vertical-align: middle;\n",
       "    }\n",
       "\n",
       "    .dataframe tbody tr th {\n",
       "        vertical-align: top;\n",
       "    }\n",
       "\n",
       "    .dataframe thead th {\n",
       "        text-align: right;\n",
       "    }\n",
       "</style>\n",
       "<table border=\"1\" class=\"dataframe\">\n",
       "  <thead>\n",
       "    <tr style=\"text-align: right;\">\n",
       "      <th></th>\n",
       "      <th>jg</th>\n",
       "      <th>jgp</th>\n",
       "      <th>jgs</th>\n",
       "      <th>e00200</th>\n",
       "      <th>e00200p</th>\n",
       "      <th>e00200s</th>\n",
       "      <th>n1864</th>\n",
       "      <th>e18400</th>\n",
       "    </tr>\n",
       "  </thead>\n",
       "  <tbody>\n",
       "    <tr>\n",
       "      <th>0</th>\n",
       "      <td>0.00</td>\n",
       "      <td>0.00</td>\n",
       "      <td>0.0</td>\n",
       "      <td>48543.44</td>\n",
       "      <td>42211.89</td>\n",
       "      <td>6331.55</td>\n",
       "      <td>2.0</td>\n",
       "      <td>2647.39</td>\n",
       "    </tr>\n",
       "    <tr>\n",
       "      <th>1</th>\n",
       "      <td>18580.48</td>\n",
       "      <td>18580.48</td>\n",
       "      <td>0.0</td>\n",
       "      <td>35465.00</td>\n",
       "      <td>35465.00</td>\n",
       "      <td>0.00</td>\n",
       "      <td>1.0</td>\n",
       "      <td>920.03</td>\n",
       "    </tr>\n",
       "    <tr>\n",
       "      <th>2</th>\n",
       "      <td>0.00</td>\n",
       "      <td>0.00</td>\n",
       "      <td>0.0</td>\n",
       "      <td>0.00</td>\n",
       "      <td>0.00</td>\n",
       "      <td>0.00</td>\n",
       "      <td>0.0</td>\n",
       "      <td>679.67</td>\n",
       "    </tr>\n",
       "    <tr>\n",
       "      <th>3</th>\n",
       "      <td>0.00</td>\n",
       "      <td>0.00</td>\n",
       "      <td>0.0</td>\n",
       "      <td>23216.07</td>\n",
       "      <td>23216.07</td>\n",
       "      <td>0.00</td>\n",
       "      <td>1.0</td>\n",
       "      <td>1265.04</td>\n",
       "    </tr>\n",
       "    <tr>\n",
       "      <th>4</th>\n",
       "      <td>0.00</td>\n",
       "      <td>0.00</td>\n",
       "      <td>0.0</td>\n",
       "      <td>0.00</td>\n",
       "      <td>0.00</td>\n",
       "      <td>0.00</td>\n",
       "      <td>0.0</td>\n",
       "      <td>1060.34</td>\n",
       "    </tr>\n",
       "  </tbody>\n",
       "</table>\n",
       "</div>"
      ],
      "text/plain": [
       "         jg       jgp  jgs    e00200   e00200p  e00200s  n1864   e18400\n",
       "0      0.00      0.00  0.0  48543.44  42211.89  6331.55    2.0  2647.39\n",
       "1  18580.48  18580.48  0.0  35465.00  35465.00     0.00    1.0   920.03\n",
       "2      0.00      0.00  0.0      0.00      0.00     0.00    0.0   679.67\n",
       "3      0.00      0.00  0.0  23216.07  23216.07     0.00    1.0  1265.04\n",
       "4      0.00      0.00  0.0      0.00      0.00     0.00    0.0  1060.34"
      ]
     },
     "execution_count": 203,
     "metadata": {},
     "output_type": "execute_result"
    }
   ],
   "source": [
    "df[['jg', 'jgp', 'jgs', 'e00200', 'e00200p', 'e00200s', 'n1864', \n",
    "    'e18400']].head()"
   ]
  },
  {
   "cell_type": "markdown",
   "metadata": {},
   "source": [
    "People in tax units benefiting from JG."
   ]
  },
  {
   "cell_type": "code",
   "execution_count": 208,
   "metadata": {},
   "outputs": [
    {
     "data": {
      "text/plain": [
       "15.553943800000003"
      ]
     },
     "execution_count": 208,
     "metadata": {},
     "output_type": "execute_result"
    }
   ],
   "source": [
    "((df.jg > 0) * df.s006 * df.n1864).sum() / 1e6"
   ]
  },
  {
   "cell_type": "code",
   "execution_count": 206,
   "metadata": {},
   "outputs": [
    {
     "data": {
      "text/plain": [
       "21.82475198"
      ]
     },
     "execution_count": 206,
     "metadata": {},
     "output_type": "execute_result"
    }
   ],
   "source": [
    "((df.jg > 0) * df.s006 * df.XTOT).sum() / 1e6"
   ]
  },
  {
   "cell_type": "code",
   "execution_count": 180,
   "metadata": {},
   "outputs": [
    {
     "data": {
      "text/plain": [
       "316.6414492586416"
      ]
     },
     "execution_count": 180,
     "metadata": {},
     "output_type": "execute_result"
    }
   ],
   "source": [
    "((df.e00200 * df.s006).sum() - (df.e00200_orig * df.s006).sum()) / 1e9"
   ]
  },
  {
   "cell_type": "markdown",
   "metadata": {},
   "source": [
    "9) Multiply itemizable state and local income/sales taxes (`e18400`) by the change in `e00200p` (i.e., assume flat SALT--unrealistically).\n",
    "\n",
    "**TODO**"
   ]
  },
  {
   "cell_type": "markdown",
   "metadata": {},
   "source": [
    "### Clean data\n",
    "\n",
    "Fix `e00900` pending https://github.com/open-source-economics/Tax-Calculator/issues/2024."
   ]
  },
  {
   "cell_type": "code",
   "execution_count": 181,
   "metadata": {},
   "outputs": [],
   "source": [
    "df['e00900'] = df.e00900p + df.e00900s"
   ]
  },
  {
   "cell_type": "markdown",
   "metadata": {},
   "source": [
    "## Calculate\n",
    "\n",
    "Run Tax-Calculator."
   ]
  },
  {
   "cell_type": "code",
   "execution_count": 182,
   "metadata": {},
   "outputs": [
    {
     "data": {
      "text/plain": [
       "4823675338.633316"
      ]
     },
     "execution_count": 182,
     "metadata": {},
     "output_type": "execute_result"
    }
   ],
   "source": [
    "df.e00900.sum()"
   ]
  },
  {
   "cell_type": "code",
   "execution_count": 213,
   "metadata": {},
   "outputs": [],
   "source": [
    "recs = tc.Records(data=df, \n",
    "                  start_year=2018, \n",
    "                  weights=tc.Records.CPS_WEIGHTS_FILENAME,\n",
    "                  adjust_ratios=tc.Records.CPS_RATIOS_FILENAME,\n",
    "                  benefits=tc.Records.CPS_BENEFITS_FILENAME)"
   ]
  },
  {
   "cell_type": "code",
   "execution_count": 214,
   "metadata": {},
   "outputs": [],
   "source": [
    "jg = tch.calc_df(records=recs,\n",
    "                 year=2018,\n",
    "                 group_vars=['expanded_income', 'e00200', 'c00100'],\n",
    "                 metric_vars=['aftertax_income', 'XTOT', 'nu18', 'eitc',\n",
    "                              'e00200', 'c07220', 'c11070'])"
   ]
  },
  {
   "cell_type": "code",
   "execution_count": null,
   "metadata": {},
   "outputs": [],
   "source": []
  },
  {
   "cell_type": "code",
   "execution_count": 215,
   "metadata": {},
   "outputs": [],
   "source": [
    "base = tch.calc_df(records=tc.Records.cps_constructor(), #no_benefits=True),\n",
    "                   year=2018,\n",
    "                   group_vars=['expanded_income', 'e00200', 'c00100'],\n",
    "                   metric_vars=['aftertax_income', 'XTOT', 'nu18', 'eitc',\n",
    "                                'e00200', 'c07220', 'c11070'])"
   ]
  },
  {
   "cell_type": "markdown",
   "metadata": {},
   "source": [
    "Add refundable and nonrefundable CTC components."
   ]
  },
  {
   "cell_type": "code",
   "execution_count": 216,
   "metadata": {},
   "outputs": [],
   "source": [
    "jg['ctc_m'] = jg.c07220_m + jg.c11070_m\n",
    "base['ctc_m'] = base.c07220_m + base.c11070_m"
   ]
  },
  {
   "cell_type": "code",
   "execution_count": 217,
   "metadata": {},
   "outputs": [
    {
     "data": {
      "text/plain": [
       "(316.6, 0.039)"
      ]
     },
     "execution_count": 217,
     "metadata": {},
     "output_type": "execute_result"
    }
   ],
   "source": [
    "e00200_diff = jg.e00200_m.sum() - base.e00200_m.sum()\n",
    "((e00200_diff / 1e3).round(1), (e00200_diff / base.e00200_m.sum()).round(3))"
   ]
  },
  {
   "cell_type": "code",
   "execution_count": 218,
   "metadata": {},
   "outputs": [
    {
     "data": {
      "text/plain": [
       "(256.1970055245701, 0.022157447359856145)"
      ]
     },
     "execution_count": 218,
     "metadata": {},
     "output_type": "execute_result"
    }
   ],
   "source": [
    "afti_diff = jg.aftertax_income_m.sum() - base.aftertax_income_m.sum()\n",
    "(afti_diff / 1e3, afti_diff / base.aftertax_income_m.sum())"
   ]
  },
  {
   "cell_type": "code",
   "execution_count": 219,
   "metadata": {},
   "outputs": [
    {
     "data": {
      "text/plain": [
       "(-4.54439052450825, -0.07630014333557093)"
      ]
     },
     "execution_count": 219,
     "metadata": {},
     "output_type": "execute_result"
    }
   ],
   "source": [
    "eitc_diff = jg.eitc_m.sum() - base.eitc_m.sum()\n",
    "(eitc_diff / 1e3, eitc_diff / base.eitc_m.sum())"
   ]
  },
  {
   "cell_type": "code",
   "execution_count": 220,
   "metadata": {},
   "outputs": [
    {
     "data": {
      "text/plain": [
       "(2.5118629733739217, 0.02915574884641976)"
      ]
     },
     "execution_count": 220,
     "metadata": {},
     "output_type": "execute_result"
    }
   ],
   "source": [
    "ctc_diff = jg.ctc_m.sum() - base.ctc_m.sum()\n",
    "(ctc_diff / 1e3, ctc_diff / base.ctc_m.sum())"
   ]
  },
  {
   "cell_type": "code",
   "execution_count": 221,
   "metadata": {},
   "outputs": [
    {
     "data": {
      "text/plain": [
       "Index(['nu18', 'XTOT', 's006', 'c11070', 'c07220', 'e00200', 'eitc', 'c00100',\n",
       "       'expanded_income', 'aftertax_income', 's006_m', 'aftertax_income_m',\n",
       "       'XTOT_m', 'nu18_m', 'eitc_m', 'e00200_m', 'c07220_m', 'c11070_m',\n",
       "       'ctc_m'],\n",
       "      dtype='object')"
      ]
     },
     "execution_count": 221,
     "metadata": {},
     "output_type": "execute_result"
    }
   ],
   "source": [
    "jg.columns"
   ]
  },
  {
   "cell_type": "markdown",
   "metadata": {},
   "source": [
    "## Analysis"
   ]
  },
  {
   "cell_type": "code",
   "execution_count": 222,
   "metadata": {},
   "outputs": [],
   "source": [
    "def add_poverty(df):\n",
    "    EXTREME_POVERTY_LINE = 780\n",
    "    df['pov_extreme_m'] = df.XTOT_m * (\n",
    "        df.aftertax_income < (EXTREME_POVERTY_LINE * df.XTOT))\n",
    "    df['pov_child_extreme_m'] = df.nu18_m * (\n",
    "        df.aftertax_income < (EXTREME_POVERTY_LINE * df.XTOT))\n",
    "    df['pov_10k_m'] = df.XTOT_m * (\n",
    "        df.aftertax_income < (10000 * df.XTOT))\n",
    "    df['pov_child_10k_m'] = df.nu18_m * (\n",
    "        df.aftertax_income < (10000 * df.XTOT))\n",
    "    df['fpl_m'] = df.XTOT_m * (df.c00100 < tch.fpl(df.XTOT))\n",
    "    df['fpl_child_m'] = df.nu18_m * (df.c00100 < tch.fpl(df.XTOT))\n",
    "    df['fpla_m'] = df.XTOT_m * (df.aftertax_income < tch.fpl(df.XTOT))\n",
    "    df['fpla_child_m'] = df.nu18_m * (df.aftertax_income < tch.fpl(df.XTOT))"
   ]
  },
  {
   "cell_type": "code",
   "execution_count": 223,
   "metadata": {},
   "outputs": [],
   "source": [
    "add_poverty(jg)\n",
    "add_poverty(base)"
   ]
  },
  {
   "cell_type": "code",
   "execution_count": 224,
   "metadata": {},
   "outputs": [],
   "source": [
    "def print_poverty(numerator, denominator='XTOT_m'):\n",
    "    print('JG reduced ' + numerator)\n",
    "    print(jg[numerator].sum() / jg[denominator].sum())\n",
    "    print(base[numerator].sum() / base[denominator].sum())\n",
    "    print(jg[numerator].sum() / base[numerator].sum())"
   ]
  },
  {
   "cell_type": "code",
   "execution_count": 225,
   "metadata": {},
   "outputs": [
    {
     "name": "stdout",
     "output_type": "stream",
     "text": [
      "JG reduced fpla_m\n",
      "0.07673612460967885\n",
      "0.0882321892438526\n",
      "0.8697066826438888\n"
     ]
    }
   ],
   "source": [
    "print_poverty('fpla_m')"
   ]
  },
  {
   "cell_type": "code",
   "execution_count": 226,
   "metadata": {},
   "outputs": [
    {
     "name": "stdout",
     "output_type": "stream",
     "text": [
      "JG reduced fpla_child_m\n",
      "0.08547431458620527\n",
      "0.0960975441798089\n",
      "0.8894536828774062\n"
     ]
    }
   ],
   "source": [
    "print_poverty('fpla_child_m', 'nu18_m')"
   ]
  },
  {
   "cell_type": "code",
   "execution_count": 227,
   "metadata": {},
   "outputs": [
    {
     "name": "stdout",
     "output_type": "stream",
     "text": [
      "JG reduced fpl_m\n",
      "0.24233873492393562\n",
      "0.26931514075715246\n",
      "0.8998333114232814\n"
     ]
    }
   ],
   "source": [
    "print_poverty('fpl_m')"
   ]
  },
  {
   "cell_type": "code",
   "execution_count": 228,
   "metadata": {},
   "outputs": [
    {
     "name": "stdout",
     "output_type": "stream",
     "text": [
      "JG reduced fpl_child_m\n",
      "0.24992102466007765\n",
      "0.2821072376781893\n",
      "0.8859078792766469\n"
     ]
    }
   ],
   "source": [
    "print_poverty('fpl_child_m', 'nu18_m')"
   ]
  },
  {
   "cell_type": "code",
   "execution_count": 229,
   "metadata": {},
   "outputs": [
    {
     "name": "stdout",
     "output_type": "stream",
     "text": [
      "JG reduced pov_extreme_m\n",
      "0.012076157987397314\n",
      "0.013908062782076819\n",
      "0.8682846904429952\n"
     ]
    }
   ],
   "source": [
    "print_poverty('pov_extreme_m')"
   ]
  },
  {
   "cell_type": "code",
   "execution_count": 230,
   "metadata": {},
   "outputs": [
    {
     "name": "stdout",
     "output_type": "stream",
     "text": [
      "JG reduced pov_child_extreme_m\n",
      "0.015021647353044253\n",
      "0.016866669723265722\n",
      "0.8906113417471818\n"
     ]
    }
   ],
   "source": [
    "print_poverty('pov_child_extreme_m', 'nu18_m')"
   ]
  },
  {
   "cell_type": "code",
   "execution_count": 231,
   "metadata": {},
   "outputs": [
    {
     "name": "stdout",
     "output_type": "stream",
     "text": [
      "JG reduced pov_10k_m\n",
      "0.1277743039182432\n",
      "0.14562817122994118\n",
      "0.8774010058568448\n"
     ]
    }
   ],
   "source": [
    "print_poverty('pov_10k_m')"
   ]
  },
  {
   "cell_type": "code",
   "execution_count": 232,
   "metadata": {},
   "outputs": [
    {
     "name": "stdout",
     "output_type": "stream",
     "text": [
      "JG reduced pov_child_10k_m\n",
      "0.2010102516468281\n",
      "0.22498692153609093\n",
      "0.8934308282207566\n"
     ]
    }
   ],
   "source": [
    "print_poverty('pov_child_10k_m', 'nu18_m')"
   ]
  },
  {
   "cell_type": "markdown",
   "metadata": {},
   "source": [
    "TODO: How many single-earner 4+ kid tax units?"
   ]
  },
  {
   "cell_type": "code",
   "execution_count": 239,
   "metadata": {},
   "outputs": [
    {
     "data": {
      "text/plain": [
       "632007.49"
      ]
     },
     "execution_count": 239,
     "metadata": {},
     "output_type": "execute_result"
    }
   ],
   "source": [
    "df[(df.nu18 > 3) & (df.n1864 == 1)].s006.sum()"
   ]
  },
  {
   "cell_type": "code",
   "execution_count": 238,
   "metadata": {},
   "outputs": [
    {
     "data": {
      "text/plain": [
       "0.007846737463945095"
      ]
     },
     "execution_count": 238,
     "metadata": {},
     "output_type": "execute_result"
    }
   ],
   "source": [
    "df[(df.nu18 > 3) & (df.n1864 == 1)].s006.sum() / df[(df.n1864 == 1)].s006.sum()"
   ]
  },
  {
   "cell_type": "code",
   "execution_count": 245,
   "metadata": {},
   "outputs": [
    {
     "data": {
      "text/plain": [
       "2.7969877800000003"
      ]
     },
     "execution_count": 245,
     "metadata": {},
     "output_type": "execute_result"
    }
   ],
   "source": [
    "df[(df.nu18 > 3) & (df.n1864 == 1)].nu18_m.sum()"
   ]
  },
  {
   "cell_type": "code",
   "execution_count": 243,
   "metadata": {},
   "outputs": [],
   "source": [
    "df['nu18_m'] = df.nu18 * df.s006 / 1e6"
   ]
  },
  {
   "cell_type": "code",
   "execution_count": 244,
   "metadata": {},
   "outputs": [
    {
     "data": {
      "text/plain": [
       "0.11688084259489248"
      ]
     },
     "execution_count": 244,
     "metadata": {},
     "output_type": "execute_result"
    }
   ],
   "source": [
    "df[(df.nu18 > 3) & (df.n1864 == 1)].nu18_m.sum() / df[(df.n1864 == 1)].nu18_m.sum()"
   ]
  },
  {
   "cell_type": "code",
   "execution_count": null,
   "metadata": {},
   "outputs": [],
   "source": []
  }
 ],
 "metadata": {
  "kernelspec": {
   "display_name": "Python 3",
   "language": "python",
   "name": "python3"
  },
  "language_info": {
   "codemirror_mode": {
    "name": "ipython",
    "version": 3
   },
   "file_extension": ".py",
   "mimetype": "text/x-python",
   "name": "python",
   "nbconvert_exporter": "python",
   "pygments_lexer": "ipython3",
   "version": "3.6.5"
  },
  "toc": {
   "base_numbering": 1,
   "nav_menu": {},
   "number_sections": true,
   "sideBar": true,
   "skip_h1_title": false,
   "title_cell": "Table of Contents",
   "title_sidebar": "Contents",
   "toc_cell": false,
   "toc_position": {},
   "toc_section_display": true,
   "toc_window_display": false
  }
 },
 "nbformat": 4,
 "nbformat_minor": 2
}
