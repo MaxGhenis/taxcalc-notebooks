{
 "cells": [
  {
   "cell_type": "markdown",
   "metadata": {},
   "source": [
    "# CBPP Federal Jobs Guarantee\n",
    "\n",
    "This analyzes the [CBPP's 2018 Federal Jobs Guarantee proposal](https://www.cbpp.org/research/full-employment/the-federal-job-guarantee-a-policy-to-achieve-permanent-full-employment#_ftn1) from Mark Paul, William Darity, Jr., and Darrick Hamilton. It is primarily described by this table:\n",
    "\n",
    "![img](https://imgur.com/5Km1yLO.png)\n",
    "\n",
    "In addition to the \\$32,500 average wage, the base wage is \\$24,600. The program is available to people age 18 and over.\n",
    "\n",
    "Modeling the uptake is nontrivial. I estimate each tax unit's benefit as follows:\n",
    "\n",
    "1. Assign a JG wage $w$ which draws from a random uniform between \\$24,600 and \\$40,400.\n",
    "2. Assign a maximum JG benefit $mb$ equal to $w * n_{18-64}$.\n",
    "3. Assign an actual JG benefit $b$ equal to $max(\\$0, mb - wages)$.\n",
    "4. Assign % FTE (which includes both % FTE while working and share of the year with the JG job) equal to $b / (b+e00200)$ (`e00200` is \"wages, salaries, and tips for filing unit\"*).\n",
    "5. Calculate the total FTE across tax units as the weighted sum of % FTE. This is the total FTE the JG would be expected to hire with 100% participation.\n",
    "6. Divide the expected 9.7 million (from the table) by this FTE total. Call this $p$, the probability that each tax unit will participate in the JG.\n",
    "7. Randomly assign each tax unit a participation flag with probability $p$.\n",
    "8. Add $b$ to the `e00200` of tax units flagged as participating.\n",
    "9. Multiply itemizable state and local income/sales taxes (`e18400`) by the change in `e00200p` (i.e., assume flat SALT--unrealistically).\n",
    "\n",
    "\\* This could be enhanced by splitting `e00200` between `e00200p` and `e00200s` for the taxpayer and spouse, respectively.\n",
    "\n",
    "*Data: CPS  |  Tax year: 2018  |  Type: Static  |  Author: Max Ghenis*"
   ]
  },
  {
   "cell_type": "markdown",
   "metadata": {},
   "source": [
    "## Setup\n",
    "\n",
    "### Imports"
   ]
  },
  {
   "cell_type": "code",
   "execution_count": 1,
   "metadata": {},
   "outputs": [],
   "source": [
    "import taxcalc as tc\n",
    "import taxcalc_helpers as tch\n",
    "import pandas as pd\n",
    "import numpy as np\n",
    "import matplotlib as mpl\n",
    "import matplotlib.pyplot as plt\n",
    "import seaborn as sns\n",
    "import os"
   ]
  },
  {
   "cell_type": "code",
   "execution_count": 2,
   "metadata": {
    "scrolled": true
   },
   "outputs": [
    {
     "data": {
      "text/plain": [
       "'0.20.1'"
      ]
     },
     "execution_count": 2,
     "metadata": {},
     "output_type": "execute_result"
    }
   ],
   "source": [
    "tc.__version__"
   ]
  },
  {
   "cell_type": "markdown",
   "metadata": {},
   "source": [
    "### Settings"
   ]
  },
  {
   "cell_type": "code",
   "execution_count": 3,
   "metadata": {},
   "outputs": [],
   "source": [
    "sns.set_style('white')\n",
    "DPI = 500\n",
    "mpl.rc('savefig', dpi=DPI)\n",
    "mpl.rcParams['figure.dpi'] = DPI\n",
    "mpl.rcParams['figure.figsize'] = 6.4, 4.8  # Default."
   ]
  },
  {
   "cell_type": "code",
   "execution_count": 4,
   "metadata": {},
   "outputs": [],
   "source": [
    "mpl.rcParams['font.sans-serif'] = 'Roboto'\n",
    "mpl.rcParams['font.family'] = 'sans-serif'\n",
    "\n",
    "# Set title text color to dark gray (https://material.io/color) not black.\n",
    "TITLE_COLOR = '#212121'\n",
    "mpl.rcParams['text.color'] = TITLE_COLOR\n",
    "\n",
    "# Axis titles and tick marks are medium gray.\n",
    "AXIS_COLOR = '#757575'\n",
    "mpl.rcParams['axes.labelcolor'] = AXIS_COLOR\n",
    "mpl.rcParams['xtick.color'] = AXIS_COLOR\n",
    "mpl.rcParams['ytick.color'] = AXIS_COLOR\n",
    "\n",
    "# Use Seaborn's default color palette.\n",
    "# https://stackoverflow.com/q/48958426/1840471 for reproducibility.\n",
    "sns.set_palette(sns.color_palette())"
   ]
  },
  {
   "cell_type": "code",
   "execution_count": 5,
   "metadata": {},
   "outputs": [],
   "source": [
    "# Specify number of decimals in tables.\n",
    "pd.set_option('precision', 2)"
   ]
  },
  {
   "cell_type": "markdown",
   "metadata": {},
   "source": [
    "## Generate data\n",
    "\n",
    "### Load data\n",
    "\n",
    "Generate a set of normal CPS records for 2018 using `Calculator`, then extract the dataframe."
   ]
  },
  {
   "cell_type": "code",
   "execution_count": 6,
   "metadata": {},
   "outputs": [],
   "source": [
    "calc = tc.Calculator(records=tc.Records.cps_constructor(), \n",
    "                     policy=tc.Policy(), verbose=False)\n",
    "calc.advance_to_year(2018)"
   ]
  },
  {
   "cell_type": "code",
   "execution_count": 7,
   "metadata": {},
   "outputs": [],
   "source": [
    "cps_raw_cols = pd.read_csv(\n",
    "    os.path.join(tc.Records.CUR_PATH, 'cps.csv.gz')).columns"
   ]
  },
  {
   "cell_type": "code",
   "execution_count": 8,
   "metadata": {},
   "outputs": [],
   "source": [
    "df = calc.dataframe(list(cps_raw_cols))"
   ]
  },
  {
   "cell_type": "markdown",
   "metadata": {},
   "source": [
    "1) Assign a JG wage $w$ which draws from a random uniform between \\$24,600 and \\$40,400."
   ]
  },
  {
   "cell_type": "code",
   "execution_count": 9,
   "metadata": {},
   "outputs": [],
   "source": [
    "JG_MIN_WAGE = 24600\n",
    "JG_AVG_WAGE = 32500\n",
    "jg_max_wage = 39800  # Set to calibrate the average wage to $32,500.\n",
    "# jg_max_wage = JG_AVG_WAGE + (JG_AVG_WAGE - JG_MIN_WAGE)"
   ]
  },
  {
   "cell_type": "code",
   "execution_count": 10,
   "metadata": {},
   "outputs": [],
   "source": [
    "np.random.seed(1)\n",
    "df['jg_w'] = np.random.randint(low=JG_MIN_WAGE, high=jg_max_wage, \n",
    "                               size=df.shape[0])"
   ]
  },
  {
   "cell_type": "code",
   "execution_count": 11,
   "metadata": {},
   "outputs": [
    {
     "name": "stdout",
     "output_type": "stream",
     "text": [
      "Simulated JG wages range from $24,600 to $39,799.\n"
     ]
    }
   ],
   "source": [
    "print('Simulated JG wages range from ${:,.0f}'.format(df.jg_w.min()) + \n",
    "      ' to ${:,.0f}.'.format(df.jg_w.max()))"
   ]
  },
  {
   "cell_type": "markdown",
   "metadata": {},
   "source": [
    "2) Assign a maximum JG benefit $mb$ equal to $w * n_{1864}$."
   ]
  },
  {
   "cell_type": "code",
   "execution_count": 12,
   "metadata": {},
   "outputs": [],
   "source": [
    "def n65(df):\n",
    "    return ((df.age_head >= 65).astype(int) + \n",
    "            (df.age_spouse >= 65).astype(int) + \n",
    "            df.elderly_dependent)"
   ]
  },
  {
   "cell_type": "code",
   "execution_count": 13,
   "metadata": {},
   "outputs": [],
   "source": [
    "df['n65'] = n65(df)"
   ]
  },
  {
   "cell_type": "code",
   "execution_count": 14,
   "metadata": {},
   "outputs": [],
   "source": [
    "df['n1864'] = df.n1820 + df.n21 - df.n65\n",
    "df['jg_mb'] = df.jg_w * df.n1864"
   ]
  },
  {
   "cell_type": "markdown",
   "metadata": {},
   "source": [
    "3) Assign an actual JG benefit $b$ equal to $max(\\$0, mb - wages)$."
   ]
  },
  {
   "cell_type": "code",
   "execution_count": 15,
   "metadata": {},
   "outputs": [],
   "source": [
    "df['jg_b'] = np.maximum(0, df.jg_mb - df.e00200)"
   ]
  },
  {
   "cell_type": "markdown",
   "metadata": {},
   "source": [
    "4) Assign % FTE (which includes both % FTE while working and share of the year with the JG job) equal to $n1864 * b / (b+e00200)$ (`e00200` is \"wages, salaries, and tips for filing unit\"*)."
   ]
  },
  {
   "cell_type": "code",
   "execution_count": 16,
   "metadata": {},
   "outputs": [],
   "source": [
    "df['jg_fte'] = df.n1864 * df.jg_b / (df.jg_b + df.e00200)"
   ]
  },
  {
   "cell_type": "code",
   "execution_count": 17,
   "metadata": {},
   "outputs": [
    {
     "name": "stdout",
     "output_type": "stream",
     "text": [
      "On average, JG workers are simulated to work 49% of the year in the JG job.\n"
     ]
    }
   ],
   "source": [
    "print('On average, JG workers are simulated to work ' +\n",
    "      '{:.0f}% of the year in the JG job.'.format(df.jg_fte.mean() * 100))"
   ]
  },
  {
   "cell_type": "markdown",
   "metadata": {},
   "source": [
    "5) Calculate the total FTE across tax units as the weighted sum of % FTE. This is the total FTE the JG would be expected to hire with 100% participation."
   ]
  },
  {
   "cell_type": "code",
   "execution_count": 18,
   "metadata": {},
   "outputs": [
    {
     "name": "stdout",
     "output_type": "stream",
     "text": [
      "With 100% participation, the JG would hire 71.8M people.\n"
     ]
    }
   ],
   "source": [
    "total_potential_jg_fte = (df.jg_fte * df.s006).sum()\n",
    "print('With 100% participation, the JG would hire ' +\n",
    "      '{:.1f}M people.'.format(total_potential_jg_fte / 1e6))"
   ]
  },
  {
   "cell_type": "markdown",
   "metadata": {},
   "source": [
    "6) Divide the expected 9.7 million (from the table) by this FTE total. Call this $p$, the probability that each tax unit will participate in the JG."
   ]
  },
  {
   "cell_type": "code",
   "execution_count": 19,
   "metadata": {},
   "outputs": [
    {
     "name": "stdout",
     "output_type": "stream",
     "text": [
      "To meet the CBPP target of 9.7M FTE, 13.5% of eligible workers would participate in the JG.\n"
     ]
    }
   ],
   "source": [
    "JG_FTE = 9700000\n",
    "jg_p = JG_FTE / total_potential_jg_fte\n",
    "print('To meet the CBPP target of {:.1f}M FTE, '.format(JG_FTE / 1e6) +\n",
    "      '{:.1f}%'.format(jg_p * 100) + \n",
    "      ' of eligible workers would participate in the JG.')"
   ]
  },
  {
   "cell_type": "markdown",
   "metadata": {},
   "source": [
    "7) Randomly assign each tax unit a participation flag with probability $p$."
   ]
  },
  {
   "cell_type": "code",
   "execution_count": 20,
   "metadata": {},
   "outputs": [],
   "source": [
    "df['jg_participate'] = np.random.rand(df.shape[0]) < jg_p"
   ]
  },
  {
   "cell_type": "markdown",
   "metadata": {},
   "source": [
    "8) Add $b$ to the `e00200` of tax units flagged as participating, and split the additional amount between `e00200p` and `e00200s` according to the current split."
   ]
  },
  {
   "cell_type": "code",
   "execution_count": 21,
   "metadata": {},
   "outputs": [],
   "source": [
    "df['jg'] = df.jg_b * df.jg_participate"
   ]
  },
  {
   "cell_type": "code",
   "execution_count": 22,
   "metadata": {},
   "outputs": [
    {
     "name": "stdout",
     "output_type": "stream",
     "text": [
      "Total simulated wages are $316.2B.\n"
     ]
    }
   ],
   "source": [
    "df['jg_m'] = df.jg * df.s006 / 1e6\n",
    "jg_total_m = df.jg_m.sum()\n",
    "print('Total simulated wages are ${:.1f}B.'.format(jg_total_m / 1e3))"
   ]
  },
  {
   "cell_type": "code",
   "execution_count": 23,
   "metadata": {},
   "outputs": [
    {
     "data": {
      "text/html": [
       "<div>\n",
       "<style scoped>\n",
       "    .dataframe tbody tr th:only-of-type {\n",
       "        vertical-align: middle;\n",
       "    }\n",
       "\n",
       "    .dataframe tbody tr th {\n",
       "        vertical-align: top;\n",
       "    }\n",
       "\n",
       "    .dataframe thead th {\n",
       "        text-align: right;\n",
       "    }\n",
       "</style>\n",
       "<table border=\"1\" class=\"dataframe\">\n",
       "  <thead>\n",
       "    <tr style=\"text-align: right;\">\n",
       "      <th></th>\n",
       "      <th>e00200</th>\n",
       "      <th>jg</th>\n",
       "      <th>e00200p</th>\n",
       "      <th>jg_fte</th>\n",
       "      <th>n1864</th>\n",
       "      <th>jg_w</th>\n",
       "      <th>jg_mb</th>\n",
       "      <th>jg_b</th>\n",
       "    </tr>\n",
       "  </thead>\n",
       "  <tbody>\n",
       "    <tr>\n",
       "      <th>98011</th>\n",
       "      <td>211638.82</td>\n",
       "      <td>7853.18</td>\n",
       "      <td>0.0</td>\n",
       "      <td>0.21</td>\n",
       "      <td>6.0</td>\n",
       "      <td>36582</td>\n",
       "      <td>219492.0</td>\n",
       "      <td>7853.18</td>\n",
       "    </tr>\n",
       "    <tr>\n",
       "      <th>98008</th>\n",
       "      <td>211638.82</td>\n",
       "      <td>0.00</td>\n",
       "      <td>0.0</td>\n",
       "      <td>0.38</td>\n",
       "      <td>6.0</td>\n",
       "      <td>37691</td>\n",
       "      <td>226146.0</td>\n",
       "      <td>14507.18</td>\n",
       "    </tr>\n",
       "    <tr>\n",
       "      <th>98001</th>\n",
       "      <td>211638.82</td>\n",
       "      <td>0.00</td>\n",
       "      <td>0.0</td>\n",
       "      <td>0.65</td>\n",
       "      <td>6.0</td>\n",
       "      <td>39562</td>\n",
       "      <td>237372.0</td>\n",
       "      <td>25733.18</td>\n",
       "    </tr>\n",
       "  </tbody>\n",
       "</table>\n",
       "</div>"
      ],
      "text/plain": [
       "          e00200       jg  e00200p  jg_fte  n1864   jg_w     jg_mb      jg_b\n",
       "98011  211638.82  7853.18      0.0    0.21    6.0  36582  219492.0   7853.18\n",
       "98008  211638.82     0.00      0.0    0.38    6.0  37691  226146.0  14507.18\n",
       "98001  211638.82     0.00      0.0    0.65    6.0  39562  237372.0  25733.18"
      ]
     },
     "execution_count": 23,
     "metadata": {},
     "output_type": "execute_result"
    }
   ],
   "source": [
    "df[df.jg_fte > 0][['e00200', 'jg', 'e00200p', 'jg_fte', 'n1864', 'jg_w', \n",
    "                   'jg_mb', 'jg_b']].sort_values('e00200', \n",
    "                                                 ascending=False).head(3)"
   ]
  },
  {
   "cell_type": "code",
   "execution_count": 24,
   "metadata": {},
   "outputs": [
    {
     "name": "stdout",
     "output_type": "stream",
     "text": [
      "The average JG wage per FTE is $32,575 (should be close to $32,500 target).\n"
     ]
    }
   ],
   "source": [
    "avg_jg_wage = ((df.jg * df.s006).sum() / \n",
    "               (df.jg_participate * df.jg_fte * df.s006).sum())\n",
    "print('The average JG wage per FTE is ${:,.0f}'.format(avg_jg_wage) +\n",
    "      ' (should be close to ${:,.0f} target).'.format(JG_AVG_WAGE))"
   ]
  },
  {
   "cell_type": "markdown",
   "metadata": {},
   "source": [
    "Split JG between primary and spouse."
   ]
  },
  {
   "cell_type": "code",
   "execution_count": 25,
   "metadata": {},
   "outputs": [],
   "source": [
    "df['e00200_orig'] = df.e00200\n",
    "df['e00200p_orig'] = df.e00200p\n",
    "df['e00200s_orig'] = df.e00200s"
   ]
  },
  {
   "cell_type": "code",
   "execution_count": 26,
   "metadata": {},
   "outputs": [],
   "source": [
    "df['jgp'] = df.jg * np.where(df.e00200_orig > 0, \n",
    "                             df.e00200p_orig / df.e00200_orig, 1)\n",
    "df['jgs'] = df.jg * np.where(df.e00200_orig > 0, \n",
    "                             df.e00200s_orig / df.e00200_orig, 0)"
   ]
  },
  {
   "cell_type": "code",
   "execution_count": 27,
   "metadata": {},
   "outputs": [],
   "source": [
    "df['e00200'] = df.e00200_orig + df.jg\n",
    "df['e00200p'] = df.e00200p_orig + df.jgp\n",
    "df['e00200s'] = df.e00200s_orig + df.jgs"
   ]
  },
  {
   "cell_type": "markdown",
   "metadata": {},
   "source": [
    "9) Multiply itemizable state and local income/sales taxes (`e18400`) by the change in `e00200p` (i.e., assume flat SALT--unrealistically).\n",
    "\n",
    "**TODO**"
   ]
  },
  {
   "cell_type": "markdown",
   "metadata": {},
   "source": [
    "### Clean data\n",
    "\n",
    "Fix `e00900` pending https://github.com/open-source-economics/Tax-Calculator/issues/2024."
   ]
  },
  {
   "cell_type": "code",
   "execution_count": 28,
   "metadata": {},
   "outputs": [],
   "source": [
    "df['e00900'] = df.e00900p + df.e00900s"
   ]
  },
  {
   "cell_type": "markdown",
   "metadata": {},
   "source": [
    "## Calculate\n",
    "\n",
    "Run Tax-Calculator."
   ]
  },
  {
   "cell_type": "markdown",
   "metadata": {},
   "source": [
    "Include non-health benefits in calculating after-tax income."
   ]
  },
  {
   "cell_type": "code",
   "execution_count": 29,
   "metadata": {},
   "outputs": [],
   "source": [
    "reform_no_medicaid_medicare = {\n",
    "    2018: {\n",
    "        \"_BEN_mcaid_repeal\": [True],\n",
    "        \"_BEN_mcare_repeal\": [True]\n",
    "    }\n",
    "}"
   ]
  },
  {
   "cell_type": "code",
   "execution_count": 30,
   "metadata": {},
   "outputs": [],
   "source": [
    "recs = tc.Records(data=df,\n",
    "                  start_year=2018, \n",
    "                  weights=tc.Records.CPS_WEIGHTS_FILENAME,\n",
    "                  adjust_ratios=tc.Records.CPS_RATIOS_FILENAME,\n",
    "                  benefits=tc.Records.CPS_BENEFITS_FILENAME)"
   ]
  },
  {
   "cell_type": "markdown",
   "metadata": {},
   "source": [
    "TODO: Provide JG to all records in `jg`, then split records with according weight. This will give more stable results."
   ]
  },
  {
   "cell_type": "code",
   "execution_count": 31,
   "metadata": {},
   "outputs": [],
   "source": [
    "jg = tch.calc_df(records=recs,\n",
    "                 year=2018,\n",
    "                 reform=reform_no_medicaid_medicare,\n",
    "                 group_vars=['expanded_income', 'e00200', 'c00100'],\n",
    "                 metric_vars=['aftertax_income', 'XTOT', 'nu18', 'eitc',\n",
    "                              'e00200', 'c07220', 'c11070'])"
   ]
  },
  {
   "cell_type": "code",
   "execution_count": 32,
   "metadata": {},
   "outputs": [],
   "source": [
    "base = tch.calc_df(records=tc.Records.cps_constructor(),\n",
    "                   year=2018,\n",
    "                   reform=reform_no_medicaid_medicare,\n",
    "                   group_vars=['expanded_income', 'e00200', 'c00100'],\n",
    "                   metric_vars=['aftertax_income', 'XTOT', 'nu18', 'eitc',\n",
    "                                'e00200', 'c07220', 'c11070'])"
   ]
  },
  {
   "cell_type": "markdown",
   "metadata": {},
   "source": [
    "Add refundable and nonrefundable CTC components."
   ]
  },
  {
   "cell_type": "code",
   "execution_count": 33,
   "metadata": {},
   "outputs": [],
   "source": [
    "jg['ctc_m'] = jg.c07220_m + jg.c11070_m\n",
    "base['ctc_m'] = base.c07220_m + base.c11070_m"
   ]
  },
  {
   "cell_type": "markdown",
   "metadata": {},
   "source": [
    "Calculate differences across income measures, EITC, and CTC."
   ]
  },
  {
   "cell_type": "code",
   "execution_count": 34,
   "metadata": {},
   "outputs": [],
   "source": [
    "def jg_diff(var):\n",
    "    diff = jg[var + '_m'].sum() - base[var + '_m'].sum()\n",
    "    pct_diff = diff / base[var + '_m'].sum()\n",
    "    print('JG changes ' + var + ' by ${:.1f}B'.format(diff / 1e3) +\n",
    "          ' ({:.1f}%).'.format(pct_diff * 100))"
   ]
  },
  {
   "cell_type": "code",
   "execution_count": 35,
   "metadata": {},
   "outputs": [
    {
     "name": "stdout",
     "output_type": "stream",
     "text": [
      "JG changes e00200 by $316.2B (3.9%).\n",
      "JG changes aftertax_income by $256.1B (2.5%).\n",
      "JG changes eitc by $-4.4B (-7.3%).\n",
      "JG changes ctc by $2.6B (3.0%).\n"
     ]
    }
   ],
   "source": [
    "jg_diff('e00200')\n",
    "jg_diff('aftertax_income')\n",
    "jg_diff('eitc')\n",
    "jg_diff('ctc')"
   ]
  },
  {
   "cell_type": "markdown",
   "metadata": {},
   "source": [
    "### Total cost\n",
    "\n",
    "Change in after-tax income, plus \\$11,000 per FTE in supplies and capital goods. \n",
    "\n",
    "Ignore employer's share of FICA (essentially tax revenue) and \\$10,000 per job in benefits (until analysis of lost safety net benefits like Medicaid is conducted, assume they roughly balance out)."
   ]
  },
  {
   "cell_type": "code",
   "execution_count": 36,
   "metadata": {},
   "outputs": [
    {
     "name": "stdout",
     "output_type": "stream",
     "text": [
      "The total cost of JG is $362.8B: $256.1B in after-tax wages plus $106.7B in supplies and capital goods.\n"
     ]
    }
   ],
   "source": [
    "afti_chg_b = (jg.aftertax_income_m.sum() - base.aftertax_income_m.sum()) / 1e3\n",
    "SUPPLIES_PER_FTE = 11000\n",
    "supplies_b = (SUPPLIES_PER_FTE * JG_FTE) / 1e9\n",
    "total_cost_b = afti_chg_b + supplies_b\n",
    "print('The total cost of JG is ${:.1f}B'.format(total_cost_b) +\n",
    "      ': ${:.1f}B in after-tax wages plus '.format(afti_chg_b) +\n",
    "      '${:.1f}B in supplies and capital goods.'.format(supplies_b))"
   ]
  },
  {
   "cell_type": "markdown",
   "metadata": {},
   "source": [
    "## Analysis"
   ]
  },
  {
   "cell_type": "markdown",
   "metadata": {},
   "source": [
    "### Who benefits?"
   ]
  },
  {
   "cell_type": "code",
   "execution_count": 37,
   "metadata": {},
   "outputs": [
    {
     "name": "stdout",
     "output_type": "stream",
     "text": [
      "40.7% of JG wages go to tax units with no current wages.\n"
     ]
    }
   ],
   "source": [
    "jg_share_no_wages = df[(df.e00200_orig == 0)].jg_m.sum() / jg_total_m\n",
    "print('{:.1f}%'.format(jg_share_no_wages * 100) +\n",
    "      ' of JG wages go to tax units with no current wages.')"
   ]
  },
  {
   "cell_type": "code",
   "execution_count": 38,
   "metadata": {},
   "outputs": [
    {
     "name": "stdout",
     "output_type": "stream",
     "text": [
      "28.6% of JG wages go to tax units with current SNAP benefits.\n"
     ]
    }
   ],
   "source": [
    "jg_share_snap = df[(df.snap_ben > 0)].jg_m.sum() / jg_total_m\n",
    "print('{:.1f}%'.format(jg_share_snap * 100) +\n",
    "      ' of JG wages go to tax units with current SNAP benefits.')"
   ]
  },
  {
   "cell_type": "code",
   "execution_count": 39,
   "metadata": {},
   "outputs": [
    {
     "name": "stdout",
     "output_type": "stream",
     "text": [
      "3.5% of JG wages go to tax units with current TANF benefits.\n"
     ]
    }
   ],
   "source": [
    "jg_share_tanf = df[(df.tanf_ben > 0)].jg_m.sum() / jg_total_m\n",
    "print('{:.1f}%'.format(jg_share_tanf * 100) +\n",
    "      ' of JG wages go to tax units with current TANF benefits.')"
   ]
  },
  {
   "cell_type": "markdown",
   "metadata": {},
   "source": [
    "People in tax units benefiting from JG."
   ]
  },
  {
   "cell_type": "code",
   "execution_count": 40,
   "metadata": {},
   "outputs": [
    {
     "name": "stdout",
     "output_type": "stream",
     "text": [
      "21.8M people are in tax units that would benefit from JG, of whom 15.5M are age 18-64.\n"
     ]
    }
   ],
   "source": [
    "jg_tu_XTOT = ((df.jg > 0) * df.s006 * df.XTOT).sum()\n",
    "jg_tu_n1864 = ((df.jg > 0) * df.s006 * df.n1864).sum()\n",
    "print('{:.1f}M'.format(jg_tu_XTOT / 1e6) + \n",
    "      ' people are in tax units that would benefit from JG, of whom ' +\n",
    "      '{:.1f}M'.format(jg_tu_n1864 / 1e6) + ' are age 18-64.')"
   ]
  },
  {
   "cell_type": "markdown",
   "metadata": {},
   "source": [
    "### Poverty impact"
   ]
  },
  {
   "cell_type": "code",
   "execution_count": 41,
   "metadata": {},
   "outputs": [],
   "source": [
    "def add_poverty(df):\n",
    "    EXTREME_POVERTY_LINE = 780\n",
    "    df['pov_extreme_m'] = df.XTOT_m * (\n",
    "        df.aftertax_income < (EXTREME_POVERTY_LINE * df.XTOT))\n",
    "    df['pov_extreme_child_m'] = df.nu18_m * (\n",
    "        df.aftertax_income < (EXTREME_POVERTY_LINE * df.XTOT))\n",
    "    df['pov_10k_m'] = df.XTOT_m * (\n",
    "        df.aftertax_income < (10000 * df.XTOT))\n",
    "    df['pov_10k_child_m'] = df.nu18_m * (\n",
    "        df.aftertax_income < (10000 * df.XTOT))\n",
    "    # Use $7,500 threshold as that's what NIT could guarantee.\n",
    "    df['pov_7500_m'] = df.XTOT_m * (\n",
    "        df.aftertax_income < (7500 * df.XTOT))\n",
    "    df['pov_7500_child_m'] = df.nu18_m * (\n",
    "        df.aftertax_income < (7500 * df.XTOT))\n",
    "    df['fpl_m'] = df.XTOT_m * (df.c00100 < tch.fpl(df.XTOT))\n",
    "    df['fpl_child_m'] = df.nu18_m * (df.c00100 < tch.fpl(df.XTOT))\n",
    "    df['fpla_m'] = df.XTOT_m * (df.aftertax_income < tch.fpl(df.XTOT))\n",
    "    df['fpla_child_m'] = df.nu18_m * (df.aftertax_income < tch.fpl(df.XTOT))"
   ]
  },
  {
   "cell_type": "code",
   "execution_count": 42,
   "metadata": {},
   "outputs": [],
   "source": [
    "add_poverty(jg)\n",
    "add_poverty(base)"
   ]
  },
  {
   "cell_type": "code",
   "execution_count": 43,
   "metadata": {},
   "outputs": [],
   "source": [
    "def print_poverty(numerator, denominator='XTOT_m'):\n",
    "    jg_rate = jg[numerator].sum() / jg[denominator].sum()\n",
    "    base_rate = base[numerator].sum() / base[denominator].sum()\n",
    "    chg = 1 - jg_rate / base_rate\n",
    "    diff = base[numerator].sum() - jg[numerator].sum()\n",
    "    cost_pp = 1000 * total_cost_b / diff\n",
    "    print('JG reduces ' + numerator + ' by {:.1f}%'.format(chg * 100) +\n",
    "          ', from {:,.1f}%'.format(base_rate * 100) + \n",
    "          ' to {:,.1f}%. '.format(jg_rate * 100) +\n",
    "          'It does so at a cost of ${:,.0f} '.format(cost_pp) +\n",
    "          'per person lifted out of poverty.')"
   ]
  },
  {
   "cell_type": "markdown",
   "metadata": {},
   "source": [
    "TODO: Put this in a DataFrame."
   ]
  },
  {
   "cell_type": "code",
   "execution_count": 44,
   "metadata": {},
   "outputs": [
    {
     "name": "stdout",
     "output_type": "stream",
     "text": [
      "JG reduces fpla_m by 12.0%, from 11.2% to 9.8%. It does so at a cost of $80,574 per person lifted out of poverty.\n",
      "JG reduces fpla_child_m by 10.7%, from 13.0% to 11.6%. It does so at a cost of $317,006 per person lifted out of poverty.\n",
      "JG reduces fpl_m by 10.0%, from 26.9% to 24.2%. It does so at a cost of $40,203 per person lifted out of poverty.\n",
      "JG reduces fpl_child_m by 11.3%, from 28.2% to 25.0%. It does so at a cost of $139,323 per person lifted out of poverty.\n",
      "JG reduces pov_extreme_m by 12.2%, from 1.6% to 1.4%. It does so at a cost of $555,625 per person lifted out of poverty.\n",
      "JG reduces pov_extreme_child_m by 10.9%, from 2.0% to 1.8%. It does so at a cost of $1,995,090 per person lifted out of poverty.\n",
      "JG reduces pov_10k_m by 11.5%, from 18.4% to 16.3%. It does so at a cost of $51,225 per person lifted out of poverty.\n",
      "JG reduces pov_10k_child_m by 10.2%, from 29.2% to 26.3%. It does so at a cost of $148,699 per person lifted out of poverty.\n",
      "JG reduces pov_7500_m by 12.4%, from 11.1% to 9.7%. It does so at a cost of $78,375 per person lifted out of poverty.\n",
      "JG reduces pov_7500_child_m by 11.4%, from 16.7% to 14.8%. It does so at a cost of $232,388 per person lifted out of poverty.\n"
     ]
    }
   ],
   "source": [
    "for i in ['fpla', 'fpl', 'pov_extreme', 'pov_10k', 'pov_7500']:\n",
    "    print_poverty(i + '_m')\n",
    "    print_poverty(i + '_child_m', 'nu18_m')"
   ]
  },
  {
   "cell_type": "markdown",
   "metadata": {},
   "source": [
    "#### Cost per person lifted out of poverty"
   ]
  },
  {
   "cell_type": "code",
   "execution_count": 45,
   "metadata": {},
   "outputs": [],
   "source": [
    "pov_7500_m_diff = base.pov_7500_m.sum() - jg.pov_7500_m.sum()\n",
    "# 1000 * total_cost_b / pov_7500_m_diff"
   ]
  },
  {
   "cell_type": "code",
   "execution_count": 46,
   "metadata": {},
   "outputs": [
    {
     "data": {
      "text/plain": [
       "78374.51176481046"
      ]
     },
     "execution_count": 46,
     "metadata": {},
     "output_type": "execute_result"
    }
   ],
   "source": [
    "(1e9 * total_cost_b) / (1e6 * pov_7500_m_diff)"
   ]
  },
  {
   "cell_type": "markdown",
   "metadata": {},
   "source": [
    "Comparison to NIT."
   ]
  },
  {
   "cell_type": "code",
   "execution_count": 47,
   "metadata": {},
   "outputs": [
    {
     "data": {
      "text/plain": [
       "8.479389808503733"
      ]
     },
     "execution_count": 47,
     "metadata": {},
     "output_type": "execute_result"
    }
   ],
   "source": [
    "78375 / 9243"
   ]
  }
 ],
 "metadata": {
  "kernelspec": {
   "display_name": "Python 3",
   "language": "python",
   "name": "python3"
  },
  "language_info": {
   "codemirror_mode": {
    "name": "ipython",
    "version": 3
   },
   "file_extension": ".py",
   "mimetype": "text/x-python",
   "name": "python",
   "nbconvert_exporter": "python",
   "pygments_lexer": "ipython3",
   "version": "3.6.5"
  },
  "toc": {
   "base_numbering": 1,
   "nav_menu": {},
   "number_sections": true,
   "sideBar": true,
   "skip_h1_title": false,
   "title_cell": "Table of Contents",
   "title_sidebar": "Contents",
   "toc_cell": false,
   "toc_position": {},
   "toc_section_display": true,
   "toc_window_display": false
  }
 },
 "nbformat": 4,
 "nbformat_minor": 2
}
