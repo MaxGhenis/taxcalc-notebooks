{
 "cells": [
  {
   "cell_type": "markdown",
   "metadata": {},
   "source": [
    "# CBPP Federal Jobs Guarantee\n",
    "\n",
    "This analyzes the [CBPP's 2018 Federal Jobs Guarantee proposal](https://www.cbpp.org/research/full-employment/the-federal-job-guarantee-a-policy-to-achieve-permanent-full-employment#_ftn1) from Mark Paul, William Darity, Jr., and Darrick Hamilton. It is primarily described by this table:\n",
    "\n",
    "![img](https://imgur.com/5Km1yLO.png)\n",
    "\n",
    "In addition to the \\$32,500 average wage, the base wage is \\$24,600. The program is available to people age 18 and over.\n",
    "\n",
    "Modeling the uptake is nontrivial. I estimate each tax unit's benefit as follows:\n",
    "\n",
    "1. Assign a JG wage $w$ which draws from a random uniform between \\$24,600 and \\$40,400.\n",
    "2. Assign a maximum JG benefit $mb$ equal to $w * n_{18-64}$.\n",
    "3. Assign an actual JG benefit $b$ equal to $max(\\$0, mb - wages)$.\n",
    "4. Assign % FTE (which includes both % FTE while working and share of the year with the JG job) equal to $b / (b+e00200)$ (`e00200` is \"wages, salaries, and tips for filing unit\"*).\n",
    "5. Calculate the total FTE across tax units as the weighted sum of % FTE. This is the total FTE the JG would be expected to hire with 100% participation.\n",
    "6. Divide the expected 9.7 million (from the table) by this FTE total. Call this $p$, the probability that each tax unit will participate in the JG.\n",
    "7. Randomly assign each tax unit a participation flag with probability $p$.\n",
    "8. Add $b$ to the `e00200` of tax units flagged as participating.\n",
    "9. Multiply itemizable state and local income/sales taxes (`e18400`) by the change in `e00200p` (i.e., assume flat SALT--unrealistically).\n",
    "\n",
    "\\* This could be enhanced by splitting `e00200` between `e00200p` and `e00200s` for the taxpayer and spouse, respectively.\n",
    "\n",
    "*Data: CPS  |  Tax year: 2018  |  Type: Static  |  Author: Max Ghenis*"
   ]
  },
  {
   "cell_type": "markdown",
   "metadata": {},
   "source": [
    "## Setup\n",
    "\n",
    "### Imports"
   ]
  },
  {
   "cell_type": "code",
   "execution_count": 1,
   "metadata": {},
   "outputs": [],
   "source": [
    "import taxcalc as tc\n",
    "import taxcalc_helpers as tch\n",
    "import pandas as pd\n",
    "import numpy as np\n",
    "import matplotlib as mpl\n",
    "import matplotlib.pyplot as plt\n",
    "import seaborn as sns\n",
    "import os"
   ]
  },
  {
   "cell_type": "code",
   "execution_count": 2,
   "metadata": {
    "scrolled": true
   },
   "outputs": [
    {
     "data": {
      "text/plain": [
       "'0.20.1'"
      ]
     },
     "execution_count": 2,
     "metadata": {},
     "output_type": "execute_result"
    }
   ],
   "source": [
    "tc.__version__"
   ]
  },
  {
   "cell_type": "markdown",
   "metadata": {},
   "source": [
    "### Settings"
   ]
  },
  {
   "cell_type": "code",
   "execution_count": 3,
   "metadata": {},
   "outputs": [],
   "source": [
    "sns.set_style('white')\n",
    "DPI = 500\n",
    "mpl.rc('savefig', dpi=DPI)\n",
    "mpl.rcParams['figure.dpi'] = DPI\n",
    "mpl.rcParams['figure.figsize'] = 6.4, 4.8  # Default."
   ]
  },
  {
   "cell_type": "code",
   "execution_count": 4,
   "metadata": {},
   "outputs": [],
   "source": [
    "mpl.rcParams['font.sans-serif'] = 'Roboto'\n",
    "mpl.rcParams['font.family'] = 'sans-serif'\n",
    "\n",
    "# Set title text color to dark gray (https://material.io/color) not black.\n",
    "TITLE_COLOR = '#212121'\n",
    "mpl.rcParams['text.color'] = TITLE_COLOR\n",
    "\n",
    "# Axis titles and tick marks are medium gray.\n",
    "AXIS_COLOR = '#757575'\n",
    "mpl.rcParams['axes.labelcolor'] = AXIS_COLOR\n",
    "mpl.rcParams['xtick.color'] = AXIS_COLOR\n",
    "mpl.rcParams['ytick.color'] = AXIS_COLOR\n",
    "\n",
    "# Use Seaborn's default color palette.\n",
    "# https://stackoverflow.com/q/48958426/1840471 for reproducibility.\n",
    "sns.set_palette(sns.color_palette())"
   ]
  },
  {
   "cell_type": "code",
   "execution_count": 5,
   "metadata": {},
   "outputs": [],
   "source": [
    "# Specify number of decimals in tables.\n",
    "pd.set_option('precision', 2)"
   ]
  },
  {
   "cell_type": "markdown",
   "metadata": {},
   "source": [
    "## Generate data\n",
    "\n",
    "### Load data\n",
    "\n",
    "Generate a set of normal CPS records for 2018 using `Calculator`, then extract the dataframe."
   ]
  },
  {
   "cell_type": "code",
   "execution_count": 6,
   "metadata": {},
   "outputs": [],
   "source": [
    "calc = tc.Calculator(records=tc.Records.cps_constructor(), \n",
    "                     policy=tc.Policy(), verbose=False)\n",
    "calc.advance_to_year(2018)"
   ]
  },
  {
   "cell_type": "code",
   "execution_count": 7,
   "metadata": {},
   "outputs": [],
   "source": [
    "cps_raw_cols = pd.read_csv(\n",
    "    os.path.join(tc.Records.CUR_PATH, 'cps.csv.gz')).columns"
   ]
  },
  {
   "cell_type": "code",
   "execution_count": 8,
   "metadata": {},
   "outputs": [],
   "source": [
    "df = calc.dataframe(list(cps_raw_cols))"
   ]
  },
  {
   "cell_type": "markdown",
   "metadata": {},
   "source": [
    "1) Assign a JG wage $w$ which draws from a random uniform between \\$24,600 and \\$40,400."
   ]
  },
  {
   "cell_type": "code",
   "execution_count": 9,
   "metadata": {},
   "outputs": [
    {
     "name": "stdout",
     "output_type": "stream",
     "text": [
      "24600 39800\n"
     ]
    }
   ],
   "source": [
    "JG_MIN_WAGE = 24600\n",
    "JG_AVG_WAGE = 32500\n",
    "jg_max_wage = 39800  # Set to calibrate the average wage to $32,500.\n",
    "# jg_max_wage = JG_AVG_WAGE + (JG_AVG_WAGE - JG_MIN_WAGE)\n",
    "print(JG_MIN_WAGE, jg_max_wage)"
   ]
  },
  {
   "cell_type": "code",
   "execution_count": 10,
   "metadata": {},
   "outputs": [],
   "source": [
    "df['jg_w'] = np.random.randint(low=JG_MIN_WAGE, high=jg_max_wage, \n",
    "                               size=df.shape[0])"
   ]
  },
  {
   "cell_type": "code",
   "execution_count": 11,
   "metadata": {},
   "outputs": [
    {
     "name": "stdout",
     "output_type": "stream",
     "text": [
      "24600 39799\n"
     ]
    }
   ],
   "source": [
    "print(df.jg_w.min(), df.jg_w.max())"
   ]
  },
  {
   "cell_type": "markdown",
   "metadata": {},
   "source": [
    "2) Assign a maximum JG benefit $mb$ equal to $w * n_{1864}$."
   ]
  },
  {
   "cell_type": "code",
   "execution_count": 12,
   "metadata": {},
   "outputs": [],
   "source": [
    "def n65(df):\n",
    "    return ((df.age_head >= 65).astype(int) + \n",
    "            (df.age_spouse >= 65).astype(int) + \n",
    "            df.elderly_dependent)"
   ]
  },
  {
   "cell_type": "code",
   "execution_count": 13,
   "metadata": {},
   "outputs": [],
   "source": [
    "df['n65'] = n65(df)"
   ]
  },
  {
   "cell_type": "code",
   "execution_count": 14,
   "metadata": {},
   "outputs": [],
   "source": [
    "df['n1864'] = df.n1820 + df.n21 - df.n65\n",
    "df['jg_mb'] = df.jg_w * df.n1864"
   ]
  },
  {
   "cell_type": "markdown",
   "metadata": {},
   "source": [
    "3) Assign an actual JG benefit $b$ equal to $max(\\$0, mb - wages)$."
   ]
  },
  {
   "cell_type": "code",
   "execution_count": 15,
   "metadata": {},
   "outputs": [],
   "source": [
    "df['jg_b'] = np.maximum(0, df.jg_mb - df.e00200)"
   ]
  },
  {
   "cell_type": "markdown",
   "metadata": {},
   "source": [
    "4) Assign % FTE (which includes both % FTE while working and share of the year with the JG job) equal to $n1864 * b / (b+e00200)$ (`e00200` is \"wages, salaries, and tips for filing unit\"*)."
   ]
  },
  {
   "cell_type": "code",
   "execution_count": 16,
   "metadata": {},
   "outputs": [],
   "source": [
    "df['jg_fte'] = df.n1864 * df.jg_b / (df.jg_b + df.e00200)"
   ]
  },
  {
   "cell_type": "code",
   "execution_count": 17,
   "metadata": {},
   "outputs": [
    {
     "data": {
      "text/plain": [
       "0.4895278567011761"
      ]
     },
     "execution_count": 17,
     "metadata": {},
     "output_type": "execute_result"
    }
   ],
   "source": [
    "df.jg_fte.mean()"
   ]
  },
  {
   "cell_type": "markdown",
   "metadata": {},
   "source": [
    "5) Calculate the total FTE across tax units as the weighted sum of % FTE. This is the total FTE the JG would be expected to hire with 100% participation."
   ]
  },
  {
   "cell_type": "code",
   "execution_count": 18,
   "metadata": {},
   "outputs": [
    {
     "data": {
      "text/plain": [
       "71811317.37304085"
      ]
     },
     "execution_count": 18,
     "metadata": {},
     "output_type": "execute_result"
    }
   ],
   "source": [
    "total_potential_jg_fte = (df.jg_fte * df.s006).sum()\n",
    "total_potential_jg_fte"
   ]
  },
  {
   "cell_type": "markdown",
   "metadata": {},
   "source": [
    "6) Divide the expected 9.7 million (from the table) by this FTE total. Call this $p$, the probability that each tax unit will participate in the JG."
   ]
  },
  {
   "cell_type": "code",
   "execution_count": 19,
   "metadata": {},
   "outputs": [
    {
     "data": {
      "text/plain": [
       "0.1350762018417105"
      ]
     },
     "execution_count": 19,
     "metadata": {},
     "output_type": "execute_result"
    }
   ],
   "source": [
    "JG_FTE = 9700000\n",
    "jg_p = JG_FTE / total_potential_jg_fte\n",
    "jg_p"
   ]
  },
  {
   "cell_type": "markdown",
   "metadata": {},
   "source": [
    "7) Randomly assign each tax unit a participation flag with probability $p$."
   ]
  },
  {
   "cell_type": "code",
   "execution_count": 20,
   "metadata": {},
   "outputs": [],
   "source": [
    "df['jg_participate'] = np.random.rand(df.shape[0]) < jg_p"
   ]
  },
  {
   "cell_type": "markdown",
   "metadata": {},
   "source": [
    "8) Add $b$ to the `e00200` of tax units flagged as participating, and split the additional amount between `e00200p` and `e00200s` according to the current split."
   ]
  },
  {
   "cell_type": "code",
   "execution_count": 21,
   "metadata": {},
   "outputs": [],
   "source": [
    "df['jg'] = df.jg_b * df.jg_participate"
   ]
  },
  {
   "cell_type": "code",
   "execution_count": 22,
   "metadata": {},
   "outputs": [
    {
     "data": {
      "text/plain": [
       "315.19119870177"
      ]
     },
     "execution_count": 22,
     "metadata": {},
     "output_type": "execute_result"
    }
   ],
   "source": [
    "(df.jg * df.s006).sum() / 1e9"
   ]
  },
  {
   "cell_type": "code",
   "execution_count": 23,
   "metadata": {},
   "outputs": [
    {
     "data": {
      "text/html": [
       "<div>\n",
       "<style scoped>\n",
       "    .dataframe tbody tr th:only-of-type {\n",
       "        vertical-align: middle;\n",
       "    }\n",
       "\n",
       "    .dataframe tbody tr th {\n",
       "        vertical-align: top;\n",
       "    }\n",
       "\n",
       "    .dataframe thead th {\n",
       "        text-align: right;\n",
       "    }\n",
       "</style>\n",
       "<table border=\"1\" class=\"dataframe\">\n",
       "  <thead>\n",
       "    <tr style=\"text-align: right;\">\n",
       "      <th></th>\n",
       "      <th>e00200</th>\n",
       "      <th>jg</th>\n",
       "      <th>e00200p</th>\n",
       "      <th>jg_fte</th>\n",
       "      <th>n1864</th>\n",
       "      <th>jg_w</th>\n",
       "      <th>jg_mb</th>\n",
       "      <th>jg_b</th>\n",
       "    </tr>\n",
       "  </thead>\n",
       "  <tbody>\n",
       "    <tr>\n",
       "      <th>98004</th>\n",
       "      <td>211638.82</td>\n",
       "      <td>0.00</td>\n",
       "      <td>0.00</td>\n",
       "      <td>0.54</td>\n",
       "      <td>6.0</td>\n",
       "      <td>38767</td>\n",
       "      <td>232602.0</td>\n",
       "      <td>20963.18</td>\n",
       "    </tr>\n",
       "    <tr>\n",
       "      <th>98012</th>\n",
       "      <td>211638.82</td>\n",
       "      <td>11093.18</td>\n",
       "      <td>0.00</td>\n",
       "      <td>0.30</td>\n",
       "      <td>6.0</td>\n",
       "      <td>37122</td>\n",
       "      <td>222732.0</td>\n",
       "      <td>11093.18</td>\n",
       "    </tr>\n",
       "    <tr>\n",
       "      <th>434972</th>\n",
       "      <td>176406.24</td>\n",
       "      <td>0.00</td>\n",
       "      <td>176406.24</td>\n",
       "      <td>0.47</td>\n",
       "      <td>5.0</td>\n",
       "      <td>38959</td>\n",
       "      <td>194795.0</td>\n",
       "      <td>18388.76</td>\n",
       "    </tr>\n",
       "    <tr>\n",
       "      <th>129727</th>\n",
       "      <td>171921.78</td>\n",
       "      <td>4273.22</td>\n",
       "      <td>171921.78</td>\n",
       "      <td>0.12</td>\n",
       "      <td>5.0</td>\n",
       "      <td>35239</td>\n",
       "      <td>176195.0</td>\n",
       "      <td>4273.22</td>\n",
       "    </tr>\n",
       "    <tr>\n",
       "      <th>81430</th>\n",
       "      <td>169739.80</td>\n",
       "      <td>3940.20</td>\n",
       "      <td>13400.08</td>\n",
       "      <td>0.11</td>\n",
       "      <td>5.0</td>\n",
       "      <td>34736</td>\n",
       "      <td>173680.0</td>\n",
       "      <td>3940.20</td>\n",
       "    </tr>\n",
       "    <tr>\n",
       "      <th>81424</th>\n",
       "      <td>169739.80</td>\n",
       "      <td>0.00</td>\n",
       "      <td>13400.08</td>\n",
       "      <td>0.14</td>\n",
       "      <td>5.0</td>\n",
       "      <td>34905</td>\n",
       "      <td>174525.0</td>\n",
       "      <td>4785.20</td>\n",
       "    </tr>\n",
       "    <tr>\n",
       "      <th>81425</th>\n",
       "      <td>169739.80</td>\n",
       "      <td>0.00</td>\n",
       "      <td>13400.08</td>\n",
       "      <td>0.60</td>\n",
       "      <td>5.0</td>\n",
       "      <td>38612</td>\n",
       "      <td>193060.0</td>\n",
       "      <td>23320.20</td>\n",
       "    </tr>\n",
       "    <tr>\n",
       "      <th>81423</th>\n",
       "      <td>169739.80</td>\n",
       "      <td>0.00</td>\n",
       "      <td>13400.08</td>\n",
       "      <td>0.44</td>\n",
       "      <td>5.0</td>\n",
       "      <td>37244</td>\n",
       "      <td>186220.0</td>\n",
       "      <td>16480.20</td>\n",
       "    </tr>\n",
       "    <tr>\n",
       "      <th>259638</th>\n",
       "      <td>163860.17</td>\n",
       "      <td>0.00</td>\n",
       "      <td>163860.17</td>\n",
       "      <td>0.34</td>\n",
       "      <td>5.0</td>\n",
       "      <td>35158</td>\n",
       "      <td>175790.0</td>\n",
       "      <td>11929.83</td>\n",
       "    </tr>\n",
       "    <tr>\n",
       "      <th>317386</th>\n",
       "      <td>162826.54</td>\n",
       "      <td>0.00</td>\n",
       "      <td>85171.18</td>\n",
       "      <td>0.33</td>\n",
       "      <td>5.0</td>\n",
       "      <td>34878</td>\n",
       "      <td>174390.0</td>\n",
       "      <td>11563.46</td>\n",
       "    </tr>\n",
       "    <tr>\n",
       "      <th>82147</th>\n",
       "      <td>156338.56</td>\n",
       "      <td>42206.44</td>\n",
       "      <td>106087.09</td>\n",
       "      <td>1.06</td>\n",
       "      <td>5.0</td>\n",
       "      <td>39709</td>\n",
       "      <td>198545.0</td>\n",
       "      <td>42206.44</td>\n",
       "    </tr>\n",
       "    <tr>\n",
       "      <th>125268</th>\n",
       "      <td>154361.69</td>\n",
       "      <td>4274.31</td>\n",
       "      <td>154361.69</td>\n",
       "      <td>0.11</td>\n",
       "      <td>4.0</td>\n",
       "      <td>39659</td>\n",
       "      <td>158636.0</td>\n",
       "      <td>4274.31</td>\n",
       "    </tr>\n",
       "    <tr>\n",
       "      <th>72783</th>\n",
       "      <td>154252.76</td>\n",
       "      <td>0.00</td>\n",
       "      <td>123356.32</td>\n",
       "      <td>0.03</td>\n",
       "      <td>4.0</td>\n",
       "      <td>38811</td>\n",
       "      <td>155244.0</td>\n",
       "      <td>991.24</td>\n",
       "    </tr>\n",
       "    <tr>\n",
       "      <th>267948</th>\n",
       "      <td>153653.68</td>\n",
       "      <td>0.00</td>\n",
       "      <td>0.00</td>\n",
       "      <td>0.14</td>\n",
       "      <td>4.0</td>\n",
       "      <td>39758</td>\n",
       "      <td>159032.0</td>\n",
       "      <td>5378.32</td>\n",
       "    </tr>\n",
       "    <tr>\n",
       "      <th>320945</th>\n",
       "      <td>152915.53</td>\n",
       "      <td>0.00</td>\n",
       "      <td>78614.83</td>\n",
       "      <td>0.15</td>\n",
       "      <td>4.0</td>\n",
       "      <td>39669</td>\n",
       "      <td>158676.0</td>\n",
       "      <td>5760.47</td>\n",
       "    </tr>\n",
       "    <tr>\n",
       "      <th>320938</th>\n",
       "      <td>152915.53</td>\n",
       "      <td>0.00</td>\n",
       "      <td>78614.83</td>\n",
       "      <td>0.05</td>\n",
       "      <td>4.0</td>\n",
       "      <td>38688</td>\n",
       "      <td>154752.0</td>\n",
       "      <td>1836.47</td>\n",
       "    </tr>\n",
       "    <tr>\n",
       "      <th>92730</th>\n",
       "      <td>152363.96</td>\n",
       "      <td>5806.04</td>\n",
       "      <td>79312.41</td>\n",
       "      <td>0.18</td>\n",
       "      <td>5.0</td>\n",
       "      <td>31634</td>\n",
       "      <td>158170.0</td>\n",
       "      <td>5806.04</td>\n",
       "    </tr>\n",
       "    <tr>\n",
       "      <th>227782</th>\n",
       "      <td>152177.39</td>\n",
       "      <td>0.00</td>\n",
       "      <td>13833.47</td>\n",
       "      <td>1.05</td>\n",
       "      <td>5.0</td>\n",
       "      <td>38555</td>\n",
       "      <td>192775.0</td>\n",
       "      <td>40597.61</td>\n",
       "    </tr>\n",
       "    <tr>\n",
       "      <th>23875</th>\n",
       "      <td>152076.58</td>\n",
       "      <td>0.00</td>\n",
       "      <td>148601.41</td>\n",
       "      <td>0.15</td>\n",
       "      <td>4.0</td>\n",
       "      <td>39515</td>\n",
       "      <td>158060.0</td>\n",
       "      <td>5983.42</td>\n",
       "    </tr>\n",
       "    <tr>\n",
       "      <th>86063</th>\n",
       "      <td>148221.33</td>\n",
       "      <td>0.00</td>\n",
       "      <td>148221.33</td>\n",
       "      <td>0.01</td>\n",
       "      <td>4.0</td>\n",
       "      <td>37188</td>\n",
       "      <td>148752.0</td>\n",
       "      <td>530.67</td>\n",
       "    </tr>\n",
       "    <tr>\n",
       "      <th>185202</th>\n",
       "      <td>147555.04</td>\n",
       "      <td>0.00</td>\n",
       "      <td>94435.60</td>\n",
       "      <td>0.16</td>\n",
       "      <td>4.0</td>\n",
       "      <td>38400</td>\n",
       "      <td>153600.0</td>\n",
       "      <td>6044.96</td>\n",
       "    </tr>\n",
       "    <tr>\n",
       "      <th>185195</th>\n",
       "      <td>147555.04</td>\n",
       "      <td>0.00</td>\n",
       "      <td>94435.60</td>\n",
       "      <td>0.06</td>\n",
       "      <td>4.0</td>\n",
       "      <td>37419</td>\n",
       "      <td>149676.0</td>\n",
       "      <td>2120.96</td>\n",
       "    </tr>\n",
       "    <tr>\n",
       "      <th>185196</th>\n",
       "      <td>147555.04</td>\n",
       "      <td>0.00</td>\n",
       "      <td>94435.60</td>\n",
       "      <td>0.16</td>\n",
       "      <td>4.0</td>\n",
       "      <td>38464</td>\n",
       "      <td>153856.0</td>\n",
       "      <td>6300.96</td>\n",
       "    </tr>\n",
       "    <tr>\n",
       "      <th>185189</th>\n",
       "      <td>147555.04</td>\n",
       "      <td>3836.96</td>\n",
       "      <td>94435.60</td>\n",
       "      <td>0.10</td>\n",
       "      <td>4.0</td>\n",
       "      <td>37848</td>\n",
       "      <td>151392.0</td>\n",
       "      <td>3836.96</td>\n",
       "    </tr>\n",
       "    <tr>\n",
       "      <th>185197</th>\n",
       "      <td>147555.04</td>\n",
       "      <td>7784.96</td>\n",
       "      <td>94435.60</td>\n",
       "      <td>0.20</td>\n",
       "      <td>4.0</td>\n",
       "      <td>38835</td>\n",
       "      <td>155340.0</td>\n",
       "      <td>7784.96</td>\n",
       "    </tr>\n",
       "    <tr>\n",
       "      <th>185198</th>\n",
       "      <td>147555.04</td>\n",
       "      <td>604.96</td>\n",
       "      <td>94435.60</td>\n",
       "      <td>0.02</td>\n",
       "      <td>4.0</td>\n",
       "      <td>37040</td>\n",
       "      <td>148160.0</td>\n",
       "      <td>604.96</td>\n",
       "    </tr>\n",
       "    <tr>\n",
       "      <th>279893</th>\n",
       "      <td>147006.94</td>\n",
       "      <td>0.00</td>\n",
       "      <td>94085.64</td>\n",
       "      <td>0.11</td>\n",
       "      <td>4.0</td>\n",
       "      <td>37828</td>\n",
       "      <td>151312.0</td>\n",
       "      <td>4305.06</td>\n",
       "    </tr>\n",
       "    <tr>\n",
       "      <th>138751</th>\n",
       "      <td>146483.17</td>\n",
       "      <td>0.00</td>\n",
       "      <td>49169.18</td>\n",
       "      <td>0.13</td>\n",
       "      <td>4.0</td>\n",
       "      <td>37851</td>\n",
       "      <td>151404.0</td>\n",
       "      <td>4920.83</td>\n",
       "    </tr>\n",
       "    <tr>\n",
       "      <th>373110</th>\n",
       "      <td>146288.50</td>\n",
       "      <td>0.00</td>\n",
       "      <td>146288.50</td>\n",
       "      <td>0.09</td>\n",
       "      <td>4.0</td>\n",
       "      <td>37398</td>\n",
       "      <td>149592.0</td>\n",
       "      <td>3303.50</td>\n",
       "    </tr>\n",
       "    <tr>\n",
       "      <th>24001</th>\n",
       "      <td>143807.56</td>\n",
       "      <td>0.00</td>\n",
       "      <td>69506.85</td>\n",
       "      <td>0.25</td>\n",
       "      <td>4.0</td>\n",
       "      <td>38352</td>\n",
       "      <td>153408.0</td>\n",
       "      <td>9600.44</td>\n",
       "    </tr>\n",
       "    <tr>\n",
       "      <th>...</th>\n",
       "      <td>...</td>\n",
       "      <td>...</td>\n",
       "      <td>...</td>\n",
       "      <td>...</td>\n",
       "      <td>...</td>\n",
       "      <td>...</td>\n",
       "      <td>...</td>\n",
       "      <td>...</td>\n",
       "    </tr>\n",
       "    <tr>\n",
       "      <th>121576</th>\n",
       "      <td>0.00</td>\n",
       "      <td>107262.00</td>\n",
       "      <td>0.00</td>\n",
       "      <td>3.00</td>\n",
       "      <td>3.0</td>\n",
       "      <td>35754</td>\n",
       "      <td>107262.0</td>\n",
       "      <td>107262.00</td>\n",
       "    </tr>\n",
       "    <tr>\n",
       "      <th>259563</th>\n",
       "      <td>0.00</td>\n",
       "      <td>0.00</td>\n",
       "      <td>0.00</td>\n",
       "      <td>2.00</td>\n",
       "      <td>2.0</td>\n",
       "      <td>29217</td>\n",
       "      <td>58434.0</td>\n",
       "      <td>58434.00</td>\n",
       "    </tr>\n",
       "    <tr>\n",
       "      <th>259564</th>\n",
       "      <td>0.00</td>\n",
       "      <td>0.00</td>\n",
       "      <td>0.00</td>\n",
       "      <td>2.00</td>\n",
       "      <td>2.0</td>\n",
       "      <td>25880</td>\n",
       "      <td>51760.0</td>\n",
       "      <td>51760.00</td>\n",
       "    </tr>\n",
       "    <tr>\n",
       "      <th>121577</th>\n",
       "      <td>0.00</td>\n",
       "      <td>0.00</td>\n",
       "      <td>0.00</td>\n",
       "      <td>3.00</td>\n",
       "      <td>3.0</td>\n",
       "      <td>32523</td>\n",
       "      <td>97569.0</td>\n",
       "      <td>97569.00</td>\n",
       "    </tr>\n",
       "    <tr>\n",
       "      <th>121579</th>\n",
       "      <td>0.00</td>\n",
       "      <td>0.00</td>\n",
       "      <td>0.00</td>\n",
       "      <td>3.00</td>\n",
       "      <td>3.0</td>\n",
       "      <td>33060</td>\n",
       "      <td>99180.0</td>\n",
       "      <td>99180.00</td>\n",
       "    </tr>\n",
       "    <tr>\n",
       "      <th>342878</th>\n",
       "      <td>0.00</td>\n",
       "      <td>53648.00</td>\n",
       "      <td>0.00</td>\n",
       "      <td>2.00</td>\n",
       "      <td>2.0</td>\n",
       "      <td>26824</td>\n",
       "      <td>53648.0</td>\n",
       "      <td>53648.00</td>\n",
       "    </tr>\n",
       "    <tr>\n",
       "      <th>121580</th>\n",
       "      <td>0.00</td>\n",
       "      <td>0.00</td>\n",
       "      <td>0.00</td>\n",
       "      <td>3.00</td>\n",
       "      <td>3.0</td>\n",
       "      <td>38473</td>\n",
       "      <td>115419.0</td>\n",
       "      <td>115419.00</td>\n",
       "    </tr>\n",
       "    <tr>\n",
       "      <th>121581</th>\n",
       "      <td>0.00</td>\n",
       "      <td>0.00</td>\n",
       "      <td>0.00</td>\n",
       "      <td>3.00</td>\n",
       "      <td>3.0</td>\n",
       "      <td>37071</td>\n",
       "      <td>111213.0</td>\n",
       "      <td>111213.00</td>\n",
       "    </tr>\n",
       "    <tr>\n",
       "      <th>121582</th>\n",
       "      <td>0.00</td>\n",
       "      <td>112044.00</td>\n",
       "      <td>0.00</td>\n",
       "      <td>3.00</td>\n",
       "      <td>3.0</td>\n",
       "      <td>37348</td>\n",
       "      <td>112044.0</td>\n",
       "      <td>112044.00</td>\n",
       "    </tr>\n",
       "    <tr>\n",
       "      <th>121610</th>\n",
       "      <td>0.00</td>\n",
       "      <td>0.00</td>\n",
       "      <td>0.00</td>\n",
       "      <td>1.00</td>\n",
       "      <td>1.0</td>\n",
       "      <td>38681</td>\n",
       "      <td>38681.0</td>\n",
       "      <td>38681.00</td>\n",
       "    </tr>\n",
       "    <tr>\n",
       "      <th>259565</th>\n",
       "      <td>0.00</td>\n",
       "      <td>0.00</td>\n",
       "      <td>0.00</td>\n",
       "      <td>2.00</td>\n",
       "      <td>2.0</td>\n",
       "      <td>32776</td>\n",
       "      <td>65552.0</td>\n",
       "      <td>65552.00</td>\n",
       "    </tr>\n",
       "    <tr>\n",
       "      <th>259566</th>\n",
       "      <td>0.00</td>\n",
       "      <td>0.00</td>\n",
       "      <td>0.00</td>\n",
       "      <td>2.00</td>\n",
       "      <td>2.0</td>\n",
       "      <td>34011</td>\n",
       "      <td>68022.0</td>\n",
       "      <td>68022.00</td>\n",
       "    </tr>\n",
       "    <tr>\n",
       "      <th>121575</th>\n",
       "      <td>0.00</td>\n",
       "      <td>0.00</td>\n",
       "      <td>0.00</td>\n",
       "      <td>3.00</td>\n",
       "      <td>3.0</td>\n",
       "      <td>35402</td>\n",
       "      <td>106206.0</td>\n",
       "      <td>106206.00</td>\n",
       "    </tr>\n",
       "    <tr>\n",
       "      <th>121574</th>\n",
       "      <td>0.00</td>\n",
       "      <td>0.00</td>\n",
       "      <td>0.00</td>\n",
       "      <td>3.00</td>\n",
       "      <td>3.0</td>\n",
       "      <td>29217</td>\n",
       "      <td>87651.0</td>\n",
       "      <td>87651.00</td>\n",
       "    </tr>\n",
       "    <tr>\n",
       "      <th>259560</th>\n",
       "      <td>0.00</td>\n",
       "      <td>0.00</td>\n",
       "      <td>0.00</td>\n",
       "      <td>2.00</td>\n",
       "      <td>2.0</td>\n",
       "      <td>36517</td>\n",
       "      <td>73034.0</td>\n",
       "      <td>73034.00</td>\n",
       "    </tr>\n",
       "    <tr>\n",
       "      <th>121573</th>\n",
       "      <td>0.00</td>\n",
       "      <td>0.00</td>\n",
       "      <td>0.00</td>\n",
       "      <td>3.00</td>\n",
       "      <td>3.0</td>\n",
       "      <td>37318</td>\n",
       "      <td>111954.0</td>\n",
       "      <td>111954.00</td>\n",
       "    </tr>\n",
       "    <tr>\n",
       "      <th>342865</th>\n",
       "      <td>0.00</td>\n",
       "      <td>0.00</td>\n",
       "      <td>0.00</td>\n",
       "      <td>2.00</td>\n",
       "      <td>2.0</td>\n",
       "      <td>36051</td>\n",
       "      <td>72102.0</td>\n",
       "      <td>72102.00</td>\n",
       "    </tr>\n",
       "    <tr>\n",
       "      <th>342866</th>\n",
       "      <td>0.00</td>\n",
       "      <td>0.00</td>\n",
       "      <td>0.00</td>\n",
       "      <td>2.00</td>\n",
       "      <td>2.0</td>\n",
       "      <td>32222</td>\n",
       "      <td>64444.0</td>\n",
       "      <td>64444.00</td>\n",
       "    </tr>\n",
       "    <tr>\n",
       "      <th>342867</th>\n",
       "      <td>0.00</td>\n",
       "      <td>0.00</td>\n",
       "      <td>0.00</td>\n",
       "      <td>2.00</td>\n",
       "      <td>2.0</td>\n",
       "      <td>35646</td>\n",
       "      <td>71292.0</td>\n",
       "      <td>71292.00</td>\n",
       "    </tr>\n",
       "    <tr>\n",
       "      <th>342868</th>\n",
       "      <td>0.00</td>\n",
       "      <td>0.00</td>\n",
       "      <td>0.00</td>\n",
       "      <td>2.00</td>\n",
       "      <td>2.0</td>\n",
       "      <td>36741</td>\n",
       "      <td>73482.0</td>\n",
       "      <td>73482.00</td>\n",
       "    </tr>\n",
       "    <tr>\n",
       "      <th>342869</th>\n",
       "      <td>0.00</td>\n",
       "      <td>0.00</td>\n",
       "      <td>0.00</td>\n",
       "      <td>2.00</td>\n",
       "      <td>2.0</td>\n",
       "      <td>31118</td>\n",
       "      <td>62236.0</td>\n",
       "      <td>62236.00</td>\n",
       "    </tr>\n",
       "    <tr>\n",
       "      <th>342870</th>\n",
       "      <td>0.00</td>\n",
       "      <td>0.00</td>\n",
       "      <td>0.00</td>\n",
       "      <td>2.00</td>\n",
       "      <td>2.0</td>\n",
       "      <td>38033</td>\n",
       "      <td>76066.0</td>\n",
       "      <td>76066.00</td>\n",
       "    </tr>\n",
       "    <tr>\n",
       "      <th>342871</th>\n",
       "      <td>0.00</td>\n",
       "      <td>0.00</td>\n",
       "      <td>0.00</td>\n",
       "      <td>2.00</td>\n",
       "      <td>2.0</td>\n",
       "      <td>31956</td>\n",
       "      <td>63912.0</td>\n",
       "      <td>63912.00</td>\n",
       "    </tr>\n",
       "    <tr>\n",
       "      <th>342872</th>\n",
       "      <td>0.00</td>\n",
       "      <td>0.00</td>\n",
       "      <td>0.00</td>\n",
       "      <td>2.00</td>\n",
       "      <td>2.0</td>\n",
       "      <td>38401</td>\n",
       "      <td>76802.0</td>\n",
       "      <td>76802.00</td>\n",
       "    </tr>\n",
       "    <tr>\n",
       "      <th>342873</th>\n",
       "      <td>0.00</td>\n",
       "      <td>0.00</td>\n",
       "      <td>0.00</td>\n",
       "      <td>2.00</td>\n",
       "      <td>2.0</td>\n",
       "      <td>32174</td>\n",
       "      <td>64348.0</td>\n",
       "      <td>64348.00</td>\n",
       "    </tr>\n",
       "    <tr>\n",
       "      <th>342874</th>\n",
       "      <td>0.00</td>\n",
       "      <td>0.00</td>\n",
       "      <td>0.00</td>\n",
       "      <td>2.00</td>\n",
       "      <td>2.0</td>\n",
       "      <td>28824</td>\n",
       "      <td>57648.0</td>\n",
       "      <td>57648.00</td>\n",
       "    </tr>\n",
       "    <tr>\n",
       "      <th>342875</th>\n",
       "      <td>0.00</td>\n",
       "      <td>0.00</td>\n",
       "      <td>0.00</td>\n",
       "      <td>2.00</td>\n",
       "      <td>2.0</td>\n",
       "      <td>39752</td>\n",
       "      <td>79504.0</td>\n",
       "      <td>79504.00</td>\n",
       "    </tr>\n",
       "    <tr>\n",
       "      <th>342876</th>\n",
       "      <td>0.00</td>\n",
       "      <td>0.00</td>\n",
       "      <td>0.00</td>\n",
       "      <td>2.00</td>\n",
       "      <td>2.0</td>\n",
       "      <td>27292</td>\n",
       "      <td>54584.0</td>\n",
       "      <td>54584.00</td>\n",
       "    </tr>\n",
       "    <tr>\n",
       "      <th>342877</th>\n",
       "      <td>0.00</td>\n",
       "      <td>0.00</td>\n",
       "      <td>0.00</td>\n",
       "      <td>2.00</td>\n",
       "      <td>2.0</td>\n",
       "      <td>27903</td>\n",
       "      <td>55806.0</td>\n",
       "      <td>55806.00</td>\n",
       "    </tr>\n",
       "    <tr>\n",
       "      <th>346401</th>\n",
       "      <td>0.00</td>\n",
       "      <td>0.00</td>\n",
       "      <td>0.00</td>\n",
       "      <td>2.00</td>\n",
       "      <td>2.0</td>\n",
       "      <td>28403</td>\n",
       "      <td>56806.0</td>\n",
       "      <td>56806.00</td>\n",
       "    </tr>\n",
       "  </tbody>\n",
       "</table>\n",
       "<p>187129 rows × 8 columns</p>\n",
       "</div>"
      ],
      "text/plain": [
       "           e00200         jg    e00200p  jg_fte  n1864   jg_w     jg_mb  \\\n",
       "98004   211638.82       0.00       0.00    0.54    6.0  38767  232602.0   \n",
       "98012   211638.82   11093.18       0.00    0.30    6.0  37122  222732.0   \n",
       "434972  176406.24       0.00  176406.24    0.47    5.0  38959  194795.0   \n",
       "129727  171921.78    4273.22  171921.78    0.12    5.0  35239  176195.0   \n",
       "81430   169739.80    3940.20   13400.08    0.11    5.0  34736  173680.0   \n",
       "81424   169739.80       0.00   13400.08    0.14    5.0  34905  174525.0   \n",
       "81425   169739.80       0.00   13400.08    0.60    5.0  38612  193060.0   \n",
       "81423   169739.80       0.00   13400.08    0.44    5.0  37244  186220.0   \n",
       "259638  163860.17       0.00  163860.17    0.34    5.0  35158  175790.0   \n",
       "317386  162826.54       0.00   85171.18    0.33    5.0  34878  174390.0   \n",
       "82147   156338.56   42206.44  106087.09    1.06    5.0  39709  198545.0   \n",
       "125268  154361.69    4274.31  154361.69    0.11    4.0  39659  158636.0   \n",
       "72783   154252.76       0.00  123356.32    0.03    4.0  38811  155244.0   \n",
       "267948  153653.68       0.00       0.00    0.14    4.0  39758  159032.0   \n",
       "320945  152915.53       0.00   78614.83    0.15    4.0  39669  158676.0   \n",
       "320938  152915.53       0.00   78614.83    0.05    4.0  38688  154752.0   \n",
       "92730   152363.96    5806.04   79312.41    0.18    5.0  31634  158170.0   \n",
       "227782  152177.39       0.00   13833.47    1.05    5.0  38555  192775.0   \n",
       "23875   152076.58       0.00  148601.41    0.15    4.0  39515  158060.0   \n",
       "86063   148221.33       0.00  148221.33    0.01    4.0  37188  148752.0   \n",
       "185202  147555.04       0.00   94435.60    0.16    4.0  38400  153600.0   \n",
       "185195  147555.04       0.00   94435.60    0.06    4.0  37419  149676.0   \n",
       "185196  147555.04       0.00   94435.60    0.16    4.0  38464  153856.0   \n",
       "185189  147555.04    3836.96   94435.60    0.10    4.0  37848  151392.0   \n",
       "185197  147555.04    7784.96   94435.60    0.20    4.0  38835  155340.0   \n",
       "185198  147555.04     604.96   94435.60    0.02    4.0  37040  148160.0   \n",
       "279893  147006.94       0.00   94085.64    0.11    4.0  37828  151312.0   \n",
       "138751  146483.17       0.00   49169.18    0.13    4.0  37851  151404.0   \n",
       "373110  146288.50       0.00  146288.50    0.09    4.0  37398  149592.0   \n",
       "24001   143807.56       0.00   69506.85    0.25    4.0  38352  153408.0   \n",
       "...           ...        ...        ...     ...    ...    ...       ...   \n",
       "121576       0.00  107262.00       0.00    3.00    3.0  35754  107262.0   \n",
       "259563       0.00       0.00       0.00    2.00    2.0  29217   58434.0   \n",
       "259564       0.00       0.00       0.00    2.00    2.0  25880   51760.0   \n",
       "121577       0.00       0.00       0.00    3.00    3.0  32523   97569.0   \n",
       "121579       0.00       0.00       0.00    3.00    3.0  33060   99180.0   \n",
       "342878       0.00   53648.00       0.00    2.00    2.0  26824   53648.0   \n",
       "121580       0.00       0.00       0.00    3.00    3.0  38473  115419.0   \n",
       "121581       0.00       0.00       0.00    3.00    3.0  37071  111213.0   \n",
       "121582       0.00  112044.00       0.00    3.00    3.0  37348  112044.0   \n",
       "121610       0.00       0.00       0.00    1.00    1.0  38681   38681.0   \n",
       "259565       0.00       0.00       0.00    2.00    2.0  32776   65552.0   \n",
       "259566       0.00       0.00       0.00    2.00    2.0  34011   68022.0   \n",
       "121575       0.00       0.00       0.00    3.00    3.0  35402  106206.0   \n",
       "121574       0.00       0.00       0.00    3.00    3.0  29217   87651.0   \n",
       "259560       0.00       0.00       0.00    2.00    2.0  36517   73034.0   \n",
       "121573       0.00       0.00       0.00    3.00    3.0  37318  111954.0   \n",
       "342865       0.00       0.00       0.00    2.00    2.0  36051   72102.0   \n",
       "342866       0.00       0.00       0.00    2.00    2.0  32222   64444.0   \n",
       "342867       0.00       0.00       0.00    2.00    2.0  35646   71292.0   \n",
       "342868       0.00       0.00       0.00    2.00    2.0  36741   73482.0   \n",
       "342869       0.00       0.00       0.00    2.00    2.0  31118   62236.0   \n",
       "342870       0.00       0.00       0.00    2.00    2.0  38033   76066.0   \n",
       "342871       0.00       0.00       0.00    2.00    2.0  31956   63912.0   \n",
       "342872       0.00       0.00       0.00    2.00    2.0  38401   76802.0   \n",
       "342873       0.00       0.00       0.00    2.00    2.0  32174   64348.0   \n",
       "342874       0.00       0.00       0.00    2.00    2.0  28824   57648.0   \n",
       "342875       0.00       0.00       0.00    2.00    2.0  39752   79504.0   \n",
       "342876       0.00       0.00       0.00    2.00    2.0  27292   54584.0   \n",
       "342877       0.00       0.00       0.00    2.00    2.0  27903   55806.0   \n",
       "346401       0.00       0.00       0.00    2.00    2.0  28403   56806.0   \n",
       "\n",
       "             jg_b  \n",
       "98004    20963.18  \n",
       "98012    11093.18  \n",
       "434972   18388.76  \n",
       "129727    4273.22  \n",
       "81430     3940.20  \n",
       "81424     4785.20  \n",
       "81425    23320.20  \n",
       "81423    16480.20  \n",
       "259638   11929.83  \n",
       "317386   11563.46  \n",
       "82147    42206.44  \n",
       "125268    4274.31  \n",
       "72783      991.24  \n",
       "267948    5378.32  \n",
       "320945    5760.47  \n",
       "320938    1836.47  \n",
       "92730     5806.04  \n",
       "227782   40597.61  \n",
       "23875     5983.42  \n",
       "86063      530.67  \n",
       "185202    6044.96  \n",
       "185195    2120.96  \n",
       "185196    6300.96  \n",
       "185189    3836.96  \n",
       "185197    7784.96  \n",
       "185198     604.96  \n",
       "279893    4305.06  \n",
       "138751    4920.83  \n",
       "373110    3303.50  \n",
       "24001     9600.44  \n",
       "...           ...  \n",
       "121576  107262.00  \n",
       "259563   58434.00  \n",
       "259564   51760.00  \n",
       "121577   97569.00  \n",
       "121579   99180.00  \n",
       "342878   53648.00  \n",
       "121580  115419.00  \n",
       "121581  111213.00  \n",
       "121582  112044.00  \n",
       "121610   38681.00  \n",
       "259565   65552.00  \n",
       "259566   68022.00  \n",
       "121575  106206.00  \n",
       "121574   87651.00  \n",
       "259560   73034.00  \n",
       "121573  111954.00  \n",
       "342865   72102.00  \n",
       "342866   64444.00  \n",
       "342867   71292.00  \n",
       "342868   73482.00  \n",
       "342869   62236.00  \n",
       "342870   76066.00  \n",
       "342871   63912.00  \n",
       "342872   76802.00  \n",
       "342873   64348.00  \n",
       "342874   57648.00  \n",
       "342875   79504.00  \n",
       "342876   54584.00  \n",
       "342877   55806.00  \n",
       "346401   56806.00  \n",
       "\n",
       "[187129 rows x 8 columns]"
      ]
     },
     "execution_count": 23,
     "metadata": {},
     "output_type": "execute_result"
    }
   ],
   "source": [
    "df[df.jg_fte > 0][['e00200', 'jg', 'e00200p', 'jg_fte', 'n1864', 'jg_w', 'jg_mb', 'jg_b']].sort_values('e00200', ascending=False)"
   ]
  },
  {
   "cell_type": "code",
   "execution_count": 24,
   "metadata": {},
   "outputs": [
    {
     "data": {
      "text/plain": [
       "32571.418079717852"
      ]
     },
     "execution_count": 24,
     "metadata": {},
     "output_type": "execute_result"
    }
   ],
   "source": [
    "(df.jg * df.s006).sum() / (df.jg_participate * df.jg_fte * df.s006).sum()"
   ]
  },
  {
   "cell_type": "code",
   "execution_count": 25,
   "metadata": {},
   "outputs": [],
   "source": [
    "df['e00200_orig'] = df.e00200\n",
    "df['e00200p_orig'] = df.e00200p\n",
    "df['e00200s_orig'] = df.e00200s"
   ]
  },
  {
   "cell_type": "code",
   "execution_count": 26,
   "metadata": {},
   "outputs": [],
   "source": [
    "df['jgp'] = df.jg * np.where(df.e00200_orig > 0, \n",
    "                             df.e00200p_orig / df.e00200_orig, 1)\n",
    "df['jgs'] = df.jg * np.where(df.e00200_orig > 0, \n",
    "                             df.e00200s_orig / df.e00200_orig, 0)"
   ]
  },
  {
   "cell_type": "code",
   "execution_count": 27,
   "metadata": {},
   "outputs": [],
   "source": [
    "df['e00200'] = df.e00200_orig + df.jg\n",
    "df['e00200p'] = df.e00200p_orig + df.jgp\n",
    "df['e00200s'] = df.e00200s_orig + df.jgs"
   ]
  },
  {
   "cell_type": "code",
   "execution_count": 28,
   "metadata": {},
   "outputs": [
    {
     "data": {
      "text/plain": [
       "731.584099501059"
      ]
     },
     "execution_count": 28,
     "metadata": {},
     "output_type": "execute_result"
    }
   ],
   "source": [
    "df.jgp.sum() / 1e6"
   ]
  },
  {
   "cell_type": "code",
   "execution_count": 29,
   "metadata": {},
   "outputs": [
    {
     "data": {
      "text/plain": [
       "121.45499329868814"
      ]
     },
     "execution_count": 29,
     "metadata": {},
     "output_type": "execute_result"
    }
   ],
   "source": [
    "df.jgs.sum() / 1e6"
   ]
  },
  {
   "cell_type": "code",
   "execution_count": 30,
   "metadata": {},
   "outputs": [
    {
     "data": {
      "text/plain": [
       "853.0390927997471"
      ]
     },
     "execution_count": 30,
     "metadata": {},
     "output_type": "execute_result"
    }
   ],
   "source": [
    "df.jg.sum() / 1e6"
   ]
  },
  {
   "cell_type": "code",
   "execution_count": 31,
   "metadata": {},
   "outputs": [
    {
     "data": {
      "text/plain": [
       "128.08371287645002"
      ]
     },
     "execution_count": 31,
     "metadata": {},
     "output_type": "execute_result"
    }
   ],
   "source": [
    "df_noinc = df[(df.e00200_orig == 0)]\n",
    "(df_noinc.jg * df_noinc.s006).sum() / 1e9"
   ]
  },
  {
   "cell_type": "code",
   "execution_count": 32,
   "metadata": {},
   "outputs": [
    {
     "data": {
      "text/plain": [
       "187.10748582531997"
      ]
     },
     "execution_count": 32,
     "metadata": {},
     "output_type": "execute_result"
    }
   ],
   "source": [
    "df_noinc = df[(df.e00200_orig > 0)]\n",
    "(df_noinc.jg * df_noinc.s006).sum() / 1e9"
   ]
  },
  {
   "cell_type": "code",
   "execution_count": 33,
   "metadata": {},
   "outputs": [
    {
     "data": {
      "text/html": [
       "<div>\n",
       "<style scoped>\n",
       "    .dataframe tbody tr th:only-of-type {\n",
       "        vertical-align: middle;\n",
       "    }\n",
       "\n",
       "    .dataframe tbody tr th {\n",
       "        vertical-align: top;\n",
       "    }\n",
       "\n",
       "    .dataframe thead th {\n",
       "        text-align: right;\n",
       "    }\n",
       "</style>\n",
       "<table border=\"1\" class=\"dataframe\">\n",
       "  <thead>\n",
       "    <tr style=\"text-align: right;\">\n",
       "      <th></th>\n",
       "      <th>jg</th>\n",
       "      <th>jgp</th>\n",
       "      <th>jgs</th>\n",
       "      <th>e00200</th>\n",
       "      <th>e00200p</th>\n",
       "      <th>e00200s</th>\n",
       "      <th>n1864</th>\n",
       "      <th>e18400</th>\n",
       "    </tr>\n",
       "  </thead>\n",
       "  <tbody>\n",
       "    <tr>\n",
       "      <th>0</th>\n",
       "      <td>0.0</td>\n",
       "      <td>0.0</td>\n",
       "      <td>0.0</td>\n",
       "      <td>48543.44</td>\n",
       "      <td>42211.89</td>\n",
       "      <td>6331.55</td>\n",
       "      <td>2.0</td>\n",
       "      <td>2647.39</td>\n",
       "    </tr>\n",
       "    <tr>\n",
       "      <th>1</th>\n",
       "      <td>0.0</td>\n",
       "      <td>0.0</td>\n",
       "      <td>0.0</td>\n",
       "      <td>16884.52</td>\n",
       "      <td>16884.52</td>\n",
       "      <td>0.00</td>\n",
       "      <td>1.0</td>\n",
       "      <td>920.03</td>\n",
       "    </tr>\n",
       "    <tr>\n",
       "      <th>2</th>\n",
       "      <td>0.0</td>\n",
       "      <td>0.0</td>\n",
       "      <td>0.0</td>\n",
       "      <td>0.00</td>\n",
       "      <td>0.00</td>\n",
       "      <td>0.00</td>\n",
       "      <td>0.0</td>\n",
       "      <td>679.67</td>\n",
       "    </tr>\n",
       "    <tr>\n",
       "      <th>3</th>\n",
       "      <td>0.0</td>\n",
       "      <td>0.0</td>\n",
       "      <td>0.0</td>\n",
       "      <td>23216.07</td>\n",
       "      <td>23216.07</td>\n",
       "      <td>0.00</td>\n",
       "      <td>1.0</td>\n",
       "      <td>1265.04</td>\n",
       "    </tr>\n",
       "    <tr>\n",
       "      <th>4</th>\n",
       "      <td>0.0</td>\n",
       "      <td>0.0</td>\n",
       "      <td>0.0</td>\n",
       "      <td>0.00</td>\n",
       "      <td>0.00</td>\n",
       "      <td>0.00</td>\n",
       "      <td>0.0</td>\n",
       "      <td>1060.34</td>\n",
       "    </tr>\n",
       "  </tbody>\n",
       "</table>\n",
       "</div>"
      ],
      "text/plain": [
       "    jg  jgp  jgs    e00200   e00200p  e00200s  n1864   e18400\n",
       "0  0.0  0.0  0.0  48543.44  42211.89  6331.55    2.0  2647.39\n",
       "1  0.0  0.0  0.0  16884.52  16884.52     0.00    1.0   920.03\n",
       "2  0.0  0.0  0.0      0.00      0.00     0.00    0.0   679.67\n",
       "3  0.0  0.0  0.0  23216.07  23216.07     0.00    1.0  1265.04\n",
       "4  0.0  0.0  0.0      0.00      0.00     0.00    0.0  1060.34"
      ]
     },
     "execution_count": 33,
     "metadata": {},
     "output_type": "execute_result"
    }
   ],
   "source": [
    "df[['jg', 'jgp', 'jgs', 'e00200', 'e00200p', 'e00200s', 'n1864', \n",
    "    'e18400']].head()"
   ]
  },
  {
   "cell_type": "markdown",
   "metadata": {},
   "source": [
    "People in tax units benefiting from JG."
   ]
  },
  {
   "cell_type": "code",
   "execution_count": 34,
   "metadata": {},
   "outputs": [
    {
     "data": {
      "text/plain": [
       "15.531844619999996"
      ]
     },
     "execution_count": 34,
     "metadata": {},
     "output_type": "execute_result"
    }
   ],
   "source": [
    "((df.jg > 0) * df.s006 * df.n1864).sum() / 1e6"
   ]
  },
  {
   "cell_type": "code",
   "execution_count": 35,
   "metadata": {},
   "outputs": [
    {
     "data": {
      "text/plain": [
       "21.910523080000004"
      ]
     },
     "execution_count": 35,
     "metadata": {},
     "output_type": "execute_result"
    }
   ],
   "source": [
    "((df.jg > 0) * df.s006 * df.XTOT).sum() / 1e6"
   ]
  },
  {
   "cell_type": "code",
   "execution_count": 36,
   "metadata": {},
   "outputs": [
    {
     "data": {
      "text/plain": [
       "315.19119870176854"
      ]
     },
     "execution_count": 36,
     "metadata": {},
     "output_type": "execute_result"
    }
   ],
   "source": [
    "((df.e00200 * df.s006).sum() - (df.e00200_orig * df.s006).sum()) / 1e9"
   ]
  },
  {
   "cell_type": "markdown",
   "metadata": {},
   "source": [
    "9) Multiply itemizable state and local income/sales taxes (`e18400`) by the change in `e00200p` (i.e., assume flat SALT--unrealistically).\n",
    "\n",
    "**TODO**"
   ]
  },
  {
   "cell_type": "markdown",
   "metadata": {},
   "source": [
    "### Clean data\n",
    "\n",
    "Fix `e00900` pending https://github.com/open-source-economics/Tax-Calculator/issues/2024."
   ]
  },
  {
   "cell_type": "code",
   "execution_count": 37,
   "metadata": {},
   "outputs": [],
   "source": [
    "df['e00900'] = df.e00900p + df.e00900s"
   ]
  },
  {
   "cell_type": "markdown",
   "metadata": {},
   "source": [
    "## Calculate\n",
    "\n",
    "Run Tax-Calculator."
   ]
  },
  {
   "cell_type": "code",
   "execution_count": 38,
   "metadata": {},
   "outputs": [
    {
     "data": {
      "text/plain": [
       "4823675338.633316"
      ]
     },
     "execution_count": 38,
     "metadata": {},
     "output_type": "execute_result"
    }
   ],
   "source": [
    "df.e00900.sum()"
   ]
  },
  {
   "cell_type": "code",
   "execution_count": 39,
   "metadata": {},
   "outputs": [],
   "source": [
    "recs = tc.Records(data=df, \n",
    "                  start_year=2018, \n",
    "                  weights=tc.Records.CPS_WEIGHTS_FILENAME,\n",
    "                  adjust_ratios=tc.Records.CPS_RATIOS_FILENAME,\n",
    "                  benefits=tc.Records.CPS_BENEFITS_FILENAME)"
   ]
  },
  {
   "cell_type": "code",
   "execution_count": 40,
   "metadata": {},
   "outputs": [],
   "source": [
    "jg = tch.calc_df(records=recs,\n",
    "                 year=2018,\n",
    "                 group_vars=['expanded_income', 'e00200', 'c00100'],\n",
    "                 metric_vars=['aftertax_income', 'XTOT', 'nu18', 'eitc',\n",
    "                              'e00200', 'c07220', 'c11070'])"
   ]
  },
  {
   "cell_type": "code",
   "execution_count": 41,
   "metadata": {},
   "outputs": [],
   "source": [
    "base = tch.calc_df(records=tc.Records.cps_constructor(), #no_benefits=True),\n",
    "                   year=2018,\n",
    "                   group_vars=['expanded_income', 'e00200', 'c00100'],\n",
    "                   metric_vars=['aftertax_income', 'XTOT', 'nu18', 'eitc',\n",
    "                                'e00200', 'c07220', 'c11070'])"
   ]
  },
  {
   "cell_type": "markdown",
   "metadata": {},
   "source": [
    "Add refundable and nonrefundable CTC components."
   ]
  },
  {
   "cell_type": "code",
   "execution_count": 42,
   "metadata": {},
   "outputs": [],
   "source": [
    "jg['ctc_m'] = jg.c07220_m + jg.c11070_m\n",
    "base['ctc_m'] = base.c07220_m + base.c11070_m"
   ]
  },
  {
   "cell_type": "markdown",
   "metadata": {},
   "source": [
    "Calculate differences across income measures, EITC, and CTC."
   ]
  },
  {
   "cell_type": "code",
   "execution_count": 43,
   "metadata": {},
   "outputs": [],
   "source": [
    "def jg_diff(var):\n",
    "    diff = jg[var + '_m'].sum() - base[var + '_m'].sum()\n",
    "    pct_diff = diff / base[var + '_m'].sum()\n",
    "    print('JG changes ' + var + ' by ${:.1f}B'.format(diff / 1e3) +\n",
    "          ' ({:.1f}%).'.format(pct_diff * 100))"
   ]
  },
  {
   "cell_type": "code",
   "execution_count": 44,
   "metadata": {},
   "outputs": [
    {
     "name": "stdout",
     "output_type": "stream",
     "text": [
      "JG changes e00200 by $315.2B (3.9%).\n",
      "JG changes aftertax_income by $255.0B (2.2%).\n",
      "JG changes eitc by $-4.6B (-7.6%).\n",
      "JG changes ctc by $2.6B (3.0%).\n"
     ]
    }
   ],
   "source": [
    "jg_diff('e00200')\n",
    "jg_diff('aftertax_income')\n",
    "jg_diff('eitc')\n",
    "jg_diff('ctc')"
   ]
  },
  {
   "cell_type": "markdown",
   "metadata": {},
   "source": [
    "## Analysis"
   ]
  },
  {
   "cell_type": "code",
   "execution_count": 45,
   "metadata": {},
   "outputs": [],
   "source": [
    "def add_poverty(df):\n",
    "    EXTREME_POVERTY_LINE = 780\n",
    "    df['pov_extreme_m'] = df.XTOT_m * (\n",
    "        df.aftertax_income < (EXTREME_POVERTY_LINE * df.XTOT))\n",
    "    df['pov_extreme_child_m'] = df.nu18_m * (\n",
    "        df.aftertax_income < (EXTREME_POVERTY_LINE * df.XTOT))\n",
    "    df['pov_10k_m'] = df.XTOT_m * (\n",
    "        df.aftertax_income < (10000 * df.XTOT))\n",
    "    df['pov_10k_child_m'] = df.nu18_m * (\n",
    "        df.aftertax_income < (10000 * df.XTOT))\n",
    "    df['fpl_m'] = df.XTOT_m * (df.c00100 < tch.fpl(df.XTOT))\n",
    "    df['fpl_child_m'] = df.nu18_m * (df.c00100 < tch.fpl(df.XTOT))\n",
    "    df['fpla_m'] = df.XTOT_m * (df.aftertax_income < tch.fpl(df.XTOT))\n",
    "    df['fpla_child_m'] = df.nu18_m * (df.aftertax_income < tch.fpl(df.XTOT))"
   ]
  },
  {
   "cell_type": "code",
   "execution_count": 46,
   "metadata": {},
   "outputs": [],
   "source": [
    "add_poverty(jg)\n",
    "add_poverty(base)"
   ]
  },
  {
   "cell_type": "code",
   "execution_count": 49,
   "metadata": {},
   "outputs": [],
   "source": [
    "def print_poverty(numerator, denominator='XTOT_m'):\n",
    "    jg_rate = jg[numerator].sum() / jg[denominator].sum()\n",
    "    base_rate = base[numerator].sum() / base[denominator].sum()\n",
    "    chg = 1 - jg_rate / base_rate\n",
    "    print('JG reduces ' + numerator + ' by {:.1f}%'.format(chg * 100) +\n",
    "          ', from {:,.1f}%'.format(base_rate * 100) + \n",
    "          ' to {:,.1f}%.'.format(jg_rate * 100))"
   ]
  },
  {
   "cell_type": "code",
   "execution_count": 50,
   "metadata": {},
   "outputs": [
    {
     "name": "stdout",
     "output_type": "stream",
     "text": [
      "JG reduces fpla_m by 12.2%, from 8.8% to 7.7%.\n",
      "JG reduces fpla_child_m by 9.9%, from 9.6% to 8.7%.\n",
      "JG reduces fpl_m by 10.1%, from 26.9% to 24.2%.\n",
      "JG reduces fpl_child_m by 11.5%, from 28.2% to 25.0%.\n",
      "JG reduces pov_extreme_m by 12.4%, from 1.4% to 1.2%.\n",
      "JG reduces pov_extreme_child_m by 9.7%, from 1.7% to 1.5%.\n",
      "JG reduces pov_10k_m by 12.3%, from 14.6% to 12.8%.\n",
      "JG reduces pov_10k_child_m by 11.0%, from 22.5% to 20.0%.\n"
     ]
    }
   ],
   "source": [
    "for i in ['fpla', 'fpl', 'pov_extreme', 'pov_10k']:\n",
    "    print_poverty(i + '_m')\n",
    "    print_poverty(i + '_child_m', 'nu18_m')"
   ]
  },
  {
   "cell_type": "code",
   "execution_count": null,
   "metadata": {},
   "outputs": [],
   "source": []
  }
 ],
 "metadata": {
  "kernelspec": {
   "display_name": "Python 3",
   "language": "python",
   "name": "python3"
  },
  "language_info": {
   "codemirror_mode": {
    "name": "ipython",
    "version": 3
   },
   "file_extension": ".py",
   "mimetype": "text/x-python",
   "name": "python",
   "nbconvert_exporter": "python",
   "pygments_lexer": "ipython3",
   "version": "3.6.5"
  },
  "toc": {
   "base_numbering": 1,
   "nav_menu": {},
   "number_sections": true,
   "sideBar": true,
   "skip_h1_title": false,
   "title_cell": "Table of Contents",
   "title_sidebar": "Contents",
   "toc_cell": false,
   "toc_position": {},
   "toc_section_display": true,
   "toc_window_display": false
  }
 },
 "nbformat": 4,
 "nbformat_minor": 2
}
