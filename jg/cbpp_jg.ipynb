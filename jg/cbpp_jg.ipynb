{
 "cells": [
  {
   "cell_type": "markdown",
   "metadata": {},
   "source": [
    "# CBPP Federal Jobs Guarantee\n",
    "\n",
    "This analyzes the [CBPP's 2018 Federal Jobs Guarantee proposal](https://www.cbpp.org/research/full-employment/the-federal-job-guarantee-a-policy-to-achieve-permanent-full-employment#_ftn1) from Mark Paul, William Darity, Jr., and Darrick Hamilton. It is primarily described by this table:\n",
    "\n",
    "![img](https://imgur.com/5Km1yLO.png)\n",
    "\n",
    "In addition to the \\$32,500 average wage, the base wage is \\$24,600. The program is available to people age 18 and over.\n",
    "\n",
    "Modeling the uptake is nontrivial. I estimate each tax unit's benefit as follows:\n",
    "\n",
    "1. Assign a JG wage $w$ which draws from a random uniform between \\$24,600 and \\$40,400.\n",
    "2. Assign a maximum JG benefit $mb$ equal to $w * n_{18-64}$.\n",
    "3. Assign an actual JG benefit $b$ equal to $max(\\$0, mb - wages)$.\n",
    "4. Assign % FTE (which includes both % FTE while working and share of the year with the JG job) equal to $b / (b+e00200)$ (`e00200` is \"wages, salaries, and tips for filing unit\"*).\n",
    "5. Calculate the total FTE across tax units as the weighted sum of % FTE. This is the total FTE the JG would be expected to hire with 100% participation.\n",
    "6. Divide the expected 9.7 million (from the table) by this FTE total. Call this $p$, the probability that each tax unit will participate in the JG.\n",
    "7. Randomly assign each tax unit a participation flag with probability $p$.\n",
    "8. Add $b$ to the `e00200` of tax units flagged as participating.\n",
    "9. Multiply itemizable state and local income/sales taxes (`e18400`) by the change in `e00200p` (i.e., assume flat SALT--unrealistically).\n",
    "\n",
    "\\* This could be enhanced by splitting `e00200` between `e00200p` and `e00200s` for the taxpayer and spouse, respectively.\n",
    "\n",
    "*Data: CPS  |  Tax year: 2018  |  Type: Static  |  Author: Max Ghenis*"
   ]
  },
  {
   "cell_type": "markdown",
   "metadata": {},
   "source": [
    "## Setup\n",
    "\n",
    "### Imports"
   ]
  },
  {
   "cell_type": "code",
   "execution_count": 1,
   "metadata": {},
   "outputs": [],
   "source": [
    "import taxcalc as tc\n",
    "import taxcalc_helpers as tch\n",
    "import pandas as pd\n",
    "import numpy as np\n",
    "import matplotlib as mpl\n",
    "import matplotlib.pyplot as plt\n",
    "import seaborn as sns\n",
    "import os"
   ]
  },
  {
   "cell_type": "code",
   "execution_count": 2,
   "metadata": {
    "scrolled": true
   },
   "outputs": [
    {
     "data": {
      "text/plain": [
       "'0.20.1'"
      ]
     },
     "execution_count": 2,
     "metadata": {},
     "output_type": "execute_result"
    }
   ],
   "source": [
    "tc.__version__"
   ]
  },
  {
   "cell_type": "markdown",
   "metadata": {},
   "source": [
    "### Settings"
   ]
  },
  {
   "cell_type": "code",
   "execution_count": 3,
   "metadata": {},
   "outputs": [],
   "source": [
    "sns.set_style('white')\n",
    "DPI = 500\n",
    "mpl.rc('savefig', dpi=DPI)\n",
    "mpl.rcParams['figure.dpi'] = DPI\n",
    "mpl.rcParams['figure.figsize'] = 6.4, 4.8  # Default."
   ]
  },
  {
   "cell_type": "code",
   "execution_count": 4,
   "metadata": {},
   "outputs": [],
   "source": [
    "mpl.rcParams['font.sans-serif'] = 'Roboto'\n",
    "mpl.rcParams['font.family'] = 'sans-serif'\n",
    "\n",
    "# Set title text color to dark gray (https://material.io/color) not black.\n",
    "TITLE_COLOR = '#212121'\n",
    "mpl.rcParams['text.color'] = TITLE_COLOR\n",
    "\n",
    "# Axis titles and tick marks are medium gray.\n",
    "AXIS_COLOR = '#757575'\n",
    "mpl.rcParams['axes.labelcolor'] = AXIS_COLOR\n",
    "mpl.rcParams['xtick.color'] = AXIS_COLOR\n",
    "mpl.rcParams['ytick.color'] = AXIS_COLOR\n",
    "\n",
    "# Use Seaborn's default color palette.\n",
    "# https://stackoverflow.com/q/48958426/1840471 for reproducibility.\n",
    "sns.set_palette(sns.color_palette())"
   ]
  },
  {
   "cell_type": "code",
   "execution_count": 5,
   "metadata": {},
   "outputs": [],
   "source": [
    "# Specify number of decimals in tables.\n",
    "pd.set_option('precision', 2)"
   ]
  },
  {
   "cell_type": "markdown",
   "metadata": {},
   "source": [
    "## Generate data\n",
    "\n",
    "### Load data\n",
    "\n",
    "Generate a set of normal CPS records for 2018 using `Calculator`, then extract the dataframe."
   ]
  },
  {
   "cell_type": "code",
   "execution_count": 6,
   "metadata": {},
   "outputs": [],
   "source": [
    "calc = tc.Calculator(records=tc.Records.cps_constructor(), \n",
    "                     policy=tc.Policy(), verbose=False)\n",
    "calc.advance_to_year(2018)"
   ]
  },
  {
   "cell_type": "code",
   "execution_count": 7,
   "metadata": {},
   "outputs": [],
   "source": [
    "cps_raw_cols = pd.read_csv(\n",
    "    os.path.join(tc.Records.CUR_PATH, 'cps.csv.gz')).columns"
   ]
  },
  {
   "cell_type": "code",
   "execution_count": 8,
   "metadata": {},
   "outputs": [],
   "source": [
    "df = calc.dataframe(list(cps_raw_cols))"
   ]
  },
  {
   "cell_type": "markdown",
   "metadata": {},
   "source": [
    "1) Assign a JG wage $w$ which draws from a random uniform between \\$24,600 and \\$40,400."
   ]
  },
  {
   "cell_type": "code",
   "execution_count": 9,
   "metadata": {},
   "outputs": [
    {
     "name": "stdout",
     "output_type": "stream",
     "text": [
      "24600 39800\n"
     ]
    }
   ],
   "source": [
    "JG_MIN_WAGE = 24600\n",
    "JG_AVG_WAGE = 32500\n",
    "jg_max_wage = 39800  # Set to calibrate the average wage to $32,500.\n",
    "# jg_max_wage = JG_AVG_WAGE + (JG_AVG_WAGE - JG_MIN_WAGE)\n",
    "print(JG_MIN_WAGE, jg_max_wage)"
   ]
  },
  {
   "cell_type": "code",
   "execution_count": 10,
   "metadata": {},
   "outputs": [],
   "source": [
    "df['jg_w'] = np.random.randint(low=JG_MIN_WAGE, high=jg_max_wage, \n",
    "                               size=df.shape[0])"
   ]
  },
  {
   "cell_type": "code",
   "execution_count": 11,
   "metadata": {},
   "outputs": [
    {
     "name": "stdout",
     "output_type": "stream",
     "text": [
      "24600 39799\n"
     ]
    }
   ],
   "source": [
    "print(df.jg_w.min(), df.jg_w.max())"
   ]
  },
  {
   "cell_type": "markdown",
   "metadata": {},
   "source": [
    "2) Assign a maximum JG benefit $mb$ equal to $w * n_{1864}$."
   ]
  },
  {
   "cell_type": "code",
   "execution_count": 12,
   "metadata": {},
   "outputs": [],
   "source": [
    "def n65(df):\n",
    "    return ((df.age_head >= 65).astype(int) + \n",
    "            (df.age_spouse >= 65).astype(int) + \n",
    "            df.elderly_dependent)"
   ]
  },
  {
   "cell_type": "code",
   "execution_count": 13,
   "metadata": {},
   "outputs": [],
   "source": [
    "df['n65'] = n65(df)"
   ]
  },
  {
   "cell_type": "code",
   "execution_count": 14,
   "metadata": {},
   "outputs": [],
   "source": [
    "df['n1864'] = df.n1820 + df.n21 - df.n65\n",
    "df['jg_mb'] = df.jg_w * df.n1864"
   ]
  },
  {
   "cell_type": "markdown",
   "metadata": {},
   "source": [
    "3) Assign an actual JG benefit $b$ equal to $max(\\$0, mb - wages)$."
   ]
  },
  {
   "cell_type": "code",
   "execution_count": 15,
   "metadata": {},
   "outputs": [],
   "source": [
    "df['jg_b'] = np.maximum(0, df.jg_mb - df.e00200)"
   ]
  },
  {
   "cell_type": "markdown",
   "metadata": {},
   "source": [
    "4) Assign % FTE (which includes both % FTE while working and share of the year with the JG job) equal to $n1864 * b / (b+e00200)$ (`e00200` is \"wages, salaries, and tips for filing unit\"*)."
   ]
  },
  {
   "cell_type": "code",
   "execution_count": 16,
   "metadata": {},
   "outputs": [],
   "source": [
    "df['jg_fte'] = df.n1864 * df.jg_b / (df.jg_b + df.e00200)"
   ]
  },
  {
   "cell_type": "code",
   "execution_count": 17,
   "metadata": {},
   "outputs": [
    {
     "data": {
      "text/plain": [
       "0.4896669591873464"
      ]
     },
     "execution_count": 17,
     "metadata": {},
     "output_type": "execute_result"
    }
   ],
   "source": [
    "df.jg_fte.mean()"
   ]
  },
  {
   "cell_type": "markdown",
   "metadata": {},
   "source": [
    "5) Calculate the total FTE across tax units as the weighted sum of % FTE. This is the total FTE the JG would be expected to hire with 100% participation."
   ]
  },
  {
   "cell_type": "code",
   "execution_count": 18,
   "metadata": {},
   "outputs": [
    {
     "data": {
      "text/plain": [
       "71820361.28312072"
      ]
     },
     "execution_count": 18,
     "metadata": {},
     "output_type": "execute_result"
    }
   ],
   "source": [
    "total_potential_jg_fte = (df.jg_fte * df.s006).sum()\n",
    "total_potential_jg_fte"
   ]
  },
  {
   "cell_type": "markdown",
   "metadata": {},
   "source": [
    "6) Divide the expected 9.7 million (from the table) by this FTE total. Call this $p$, the probability that each tax unit will participate in the JG."
   ]
  },
  {
   "cell_type": "code",
   "execution_count": 19,
   "metadata": {},
   "outputs": [
    {
     "data": {
      "text/plain": [
       "0.135059192500605"
      ]
     },
     "execution_count": 19,
     "metadata": {},
     "output_type": "execute_result"
    }
   ],
   "source": [
    "JG_FTE = 9700000\n",
    "jg_p = JG_FTE / total_potential_jg_fte\n",
    "jg_p"
   ]
  },
  {
   "cell_type": "markdown",
   "metadata": {},
   "source": [
    "7) Randomly assign each tax unit a participation flag with probability $p$."
   ]
  },
  {
   "cell_type": "code",
   "execution_count": 20,
   "metadata": {},
   "outputs": [],
   "source": [
    "df['jg_participate'] = np.random.rand(df.shape[0]) < jg_p"
   ]
  },
  {
   "cell_type": "markdown",
   "metadata": {},
   "source": [
    "8) Add $b$ to the `e00200` of tax units flagged as participating, and split the additional amount between `e00200p` and `e00200s` according to the current split."
   ]
  },
  {
   "cell_type": "code",
   "execution_count": 21,
   "metadata": {},
   "outputs": [],
   "source": [
    "df['jg'] = df.jg_b * df.jg_participate"
   ]
  },
  {
   "cell_type": "code",
   "execution_count": 22,
   "metadata": {},
   "outputs": [
    {
     "data": {
      "text/plain": [
       "311.30958300990454"
      ]
     },
     "execution_count": 22,
     "metadata": {},
     "output_type": "execute_result"
    }
   ],
   "source": [
    "(df.jg * df.s006).sum() / 1e9"
   ]
  },
  {
   "cell_type": "code",
   "execution_count": 23,
   "metadata": {},
   "outputs": [
    {
     "data": {
      "text/html": [
       "<div>\n",
       "<style scoped>\n",
       "    .dataframe tbody tr th:only-of-type {\n",
       "        vertical-align: middle;\n",
       "    }\n",
       "\n",
       "    .dataframe tbody tr th {\n",
       "        vertical-align: top;\n",
       "    }\n",
       "\n",
       "    .dataframe thead th {\n",
       "        text-align: right;\n",
       "    }\n",
       "</style>\n",
       "<table border=\"1\" class=\"dataframe\">\n",
       "  <thead>\n",
       "    <tr style=\"text-align: right;\">\n",
       "      <th></th>\n",
       "      <th>e00200</th>\n",
       "      <th>jg</th>\n",
       "      <th>e00200p</th>\n",
       "      <th>jg_fte</th>\n",
       "      <th>n1864</th>\n",
       "      <th>jg_w</th>\n",
       "      <th>jg_mb</th>\n",
       "      <th>jg_b</th>\n",
       "    </tr>\n",
       "  </thead>\n",
       "  <tbody>\n",
       "    <tr>\n",
       "      <th>98011</th>\n",
       "      <td>211638.82</td>\n",
       "      <td>0.00</td>\n",
       "      <td>0.00</td>\n",
       "      <td>0.51</td>\n",
       "      <td>6.0</td>\n",
       "      <td>38554</td>\n",
       "      <td>231324.0</td>\n",
       "      <td>19685.18</td>\n",
       "    </tr>\n",
       "    <tr>\n",
       "      <th>98002</th>\n",
       "      <td>211638.82</td>\n",
       "      <td>0.00</td>\n",
       "      <td>0.00</td>\n",
       "      <td>0.28</td>\n",
       "      <td>6.0</td>\n",
       "      <td>36984</td>\n",
       "      <td>221904.0</td>\n",
       "      <td>10265.18</td>\n",
       "    </tr>\n",
       "    <tr>\n",
       "      <th>98008</th>\n",
       "      <td>211638.82</td>\n",
       "      <td>0.00</td>\n",
       "      <td>0.00</td>\n",
       "      <td>0.43</td>\n",
       "      <td>6.0</td>\n",
       "      <td>37976</td>\n",
       "      <td>227856.0</td>\n",
       "      <td>16217.18</td>\n",
       "    </tr>\n",
       "    <tr>\n",
       "      <th>98005</th>\n",
       "      <td>211638.82</td>\n",
       "      <td>0.00</td>\n",
       "      <td>0.00</td>\n",
       "      <td>0.54</td>\n",
       "      <td>6.0</td>\n",
       "      <td>38787</td>\n",
       "      <td>232722.0</td>\n",
       "      <td>21083.18</td>\n",
       "    </tr>\n",
       "    <tr>\n",
       "      <th>97998</th>\n",
       "      <td>211638.82</td>\n",
       "      <td>0.00</td>\n",
       "      <td>0.00</td>\n",
       "      <td>0.33</td>\n",
       "      <td>6.0</td>\n",
       "      <td>37337</td>\n",
       "      <td>224022.0</td>\n",
       "      <td>12383.18</td>\n",
       "    </tr>\n",
       "    <tr>\n",
       "      <th>20820</th>\n",
       "      <td>187878.12</td>\n",
       "      <td>4621.88</td>\n",
       "      <td>150302.50</td>\n",
       "      <td>0.12</td>\n",
       "      <td>5.0</td>\n",
       "      <td>38500</td>\n",
       "      <td>192500.0</td>\n",
       "      <td>4621.88</td>\n",
       "    </tr>\n",
       "    <tr>\n",
       "      <th>81426</th>\n",
       "      <td>169739.80</td>\n",
       "      <td>0.00</td>\n",
       "      <td>13400.08</td>\n",
       "      <td>0.43</td>\n",
       "      <td>5.0</td>\n",
       "      <td>37147</td>\n",
       "      <td>185735.0</td>\n",
       "      <td>15995.20</td>\n",
       "    </tr>\n",
       "    <tr>\n",
       "      <th>81436</th>\n",
       "      <td>169739.80</td>\n",
       "      <td>24420.20</td>\n",
       "      <td>13400.08</td>\n",
       "      <td>0.63</td>\n",
       "      <td>5.0</td>\n",
       "      <td>38832</td>\n",
       "      <td>194160.0</td>\n",
       "      <td>24420.20</td>\n",
       "    </tr>\n",
       "    <tr>\n",
       "      <th>81434</th>\n",
       "      <td>169739.80</td>\n",
       "      <td>0.00</td>\n",
       "      <td>13400.08</td>\n",
       "      <td>0.57</td>\n",
       "      <td>5.0</td>\n",
       "      <td>38345</td>\n",
       "      <td>191725.0</td>\n",
       "      <td>21985.20</td>\n",
       "    </tr>\n",
       "    <tr>\n",
       "      <th>81431</th>\n",
       "      <td>169739.80</td>\n",
       "      <td>0.00</td>\n",
       "      <td>13400.08</td>\n",
       "      <td>0.35</td>\n",
       "      <td>5.0</td>\n",
       "      <td>36496</td>\n",
       "      <td>182480.0</td>\n",
       "      <td>12740.20</td>\n",
       "    </tr>\n",
       "    <tr>\n",
       "      <th>81423</th>\n",
       "      <td>169739.80</td>\n",
       "      <td>0.00</td>\n",
       "      <td>13400.08</td>\n",
       "      <td>0.40</td>\n",
       "      <td>5.0</td>\n",
       "      <td>36879</td>\n",
       "      <td>184395.0</td>\n",
       "      <td>14655.20</td>\n",
       "    </tr>\n",
       "    <tr>\n",
       "      <th>81429</th>\n",
       "      <td>169739.80</td>\n",
       "      <td>0.00</td>\n",
       "      <td>13400.08</td>\n",
       "      <td>0.49</td>\n",
       "      <td>5.0</td>\n",
       "      <td>37675</td>\n",
       "      <td>188375.0</td>\n",
       "      <td>18635.20</td>\n",
       "    </tr>\n",
       "    <tr>\n",
       "      <th>81427</th>\n",
       "      <td>169739.80</td>\n",
       "      <td>0.00</td>\n",
       "      <td>13400.08</td>\n",
       "      <td>0.50</td>\n",
       "      <td>5.0</td>\n",
       "      <td>37712</td>\n",
       "      <td>188560.0</td>\n",
       "      <td>18820.20</td>\n",
       "    </tr>\n",
       "    <tr>\n",
       "      <th>81428</th>\n",
       "      <td>169739.80</td>\n",
       "      <td>0.00</td>\n",
       "      <td>13400.08</td>\n",
       "      <td>0.45</td>\n",
       "      <td>5.0</td>\n",
       "      <td>37302</td>\n",
       "      <td>186510.0</td>\n",
       "      <td>16770.20</td>\n",
       "    </tr>\n",
       "    <tr>\n",
       "      <th>79814</th>\n",
       "      <td>167506.84</td>\n",
       "      <td>14808.16</td>\n",
       "      <td>167506.84</td>\n",
       "      <td>0.41</td>\n",
       "      <td>5.0</td>\n",
       "      <td>36463</td>\n",
       "      <td>182315.0</td>\n",
       "      <td>14808.16</td>\n",
       "    </tr>\n",
       "    <tr>\n",
       "      <th>88026</th>\n",
       "      <td>153711.61</td>\n",
       "      <td>4443.39</td>\n",
       "      <td>153711.61</td>\n",
       "      <td>0.14</td>\n",
       "      <td>5.0</td>\n",
       "      <td>31631</td>\n",
       "      <td>158155.0</td>\n",
       "      <td>4443.39</td>\n",
       "    </tr>\n",
       "    <tr>\n",
       "      <th>267948</th>\n",
       "      <td>153653.68</td>\n",
       "      <td>0.00</td>\n",
       "      <td>0.00</td>\n",
       "      <td>0.03</td>\n",
       "      <td>4.0</td>\n",
       "      <td>38689</td>\n",
       "      <td>154756.0</td>\n",
       "      <td>1102.32</td>\n",
       "    </tr>\n",
       "    <tr>\n",
       "      <th>320940</th>\n",
       "      <td>152915.53</td>\n",
       "      <td>0.00</td>\n",
       "      <td>78614.83</td>\n",
       "      <td>0.04</td>\n",
       "      <td>4.0</td>\n",
       "      <td>38623</td>\n",
       "      <td>154492.0</td>\n",
       "      <td>1576.47</td>\n",
       "    </tr>\n",
       "    <tr>\n",
       "      <th>320941</th>\n",
       "      <td>152915.53</td>\n",
       "      <td>0.00</td>\n",
       "      <td>78614.83</td>\n",
       "      <td>0.11</td>\n",
       "      <td>4.0</td>\n",
       "      <td>39333</td>\n",
       "      <td>157332.0</td>\n",
       "      <td>4416.47</td>\n",
       "    </tr>\n",
       "    <tr>\n",
       "      <th>92730</th>\n",
       "      <td>152363.96</td>\n",
       "      <td>18051.04</td>\n",
       "      <td>79312.41</td>\n",
       "      <td>0.53</td>\n",
       "      <td>5.0</td>\n",
       "      <td>34083</td>\n",
       "      <td>170415.0</td>\n",
       "      <td>18051.04</td>\n",
       "    </tr>\n",
       "    <tr>\n",
       "      <th>133841</th>\n",
       "      <td>151858.73</td>\n",
       "      <td>0.00</td>\n",
       "      <td>117720.04</td>\n",
       "      <td>0.12</td>\n",
       "      <td>4.0</td>\n",
       "      <td>39118</td>\n",
       "      <td>156472.0</td>\n",
       "      <td>4613.27</td>\n",
       "    </tr>\n",
       "    <tr>\n",
       "      <th>377809</th>\n",
       "      <td>150966.47</td>\n",
       "      <td>6661.53</td>\n",
       "      <td>8234.26</td>\n",
       "      <td>0.17</td>\n",
       "      <td>4.0</td>\n",
       "      <td>39407</td>\n",
       "      <td>157628.0</td>\n",
       "      <td>6661.53</td>\n",
       "    </tr>\n",
       "    <tr>\n",
       "      <th>230456</th>\n",
       "      <td>149872.59</td>\n",
       "      <td>0.00</td>\n",
       "      <td>34585.98</td>\n",
       "      <td>0.95</td>\n",
       "      <td>5.0</td>\n",
       "      <td>37037</td>\n",
       "      <td>185185.0</td>\n",
       "      <td>35312.41</td>\n",
       "    </tr>\n",
       "    <tr>\n",
       "      <th>282822</th>\n",
       "      <td>149355.78</td>\n",
       "      <td>0.00</td>\n",
       "      <td>74089.81</td>\n",
       "      <td>0.16</td>\n",
       "      <td>4.0</td>\n",
       "      <td>38857</td>\n",
       "      <td>155428.0</td>\n",
       "      <td>6072.22</td>\n",
       "    </tr>\n",
       "    <tr>\n",
       "      <th>185188</th>\n",
       "      <td>147555.04</td>\n",
       "      <td>0.00</td>\n",
       "      <td>94435.60</td>\n",
       "      <td>0.03</td>\n",
       "      <td>4.0</td>\n",
       "      <td>37161</td>\n",
       "      <td>148644.0</td>\n",
       "      <td>1088.96</td>\n",
       "    </tr>\n",
       "    <tr>\n",
       "      <th>185198</th>\n",
       "      <td>147555.04</td>\n",
       "      <td>0.00</td>\n",
       "      <td>94435.60</td>\n",
       "      <td>0.11</td>\n",
       "      <td>4.0</td>\n",
       "      <td>37927</td>\n",
       "      <td>151708.0</td>\n",
       "      <td>4152.96</td>\n",
       "    </tr>\n",
       "    <tr>\n",
       "      <th>185192</th>\n",
       "      <td>147555.04</td>\n",
       "      <td>0.00</td>\n",
       "      <td>94435.60</td>\n",
       "      <td>0.21</td>\n",
       "      <td>4.0</td>\n",
       "      <td>38937</td>\n",
       "      <td>155748.0</td>\n",
       "      <td>8192.96</td>\n",
       "    </tr>\n",
       "    <tr>\n",
       "      <th>185189</th>\n",
       "      <td>147555.04</td>\n",
       "      <td>0.00</td>\n",
       "      <td>94435.60</td>\n",
       "      <td>0.08</td>\n",
       "      <td>4.0</td>\n",
       "      <td>37596</td>\n",
       "      <td>150384.0</td>\n",
       "      <td>2828.96</td>\n",
       "    </tr>\n",
       "    <tr>\n",
       "      <th>388257</th>\n",
       "      <td>147088.05</td>\n",
       "      <td>9467.95</td>\n",
       "      <td>70898.54</td>\n",
       "      <td>0.24</td>\n",
       "      <td>4.0</td>\n",
       "      <td>39139</td>\n",
       "      <td>156556.0</td>\n",
       "      <td>9467.95</td>\n",
       "    </tr>\n",
       "    <tr>\n",
       "      <th>373110</th>\n",
       "      <td>146288.50</td>\n",
       "      <td>0.00</td>\n",
       "      <td>146288.50</td>\n",
       "      <td>0.08</td>\n",
       "      <td>4.0</td>\n",
       "      <td>37313</td>\n",
       "      <td>149252.0</td>\n",
       "      <td>2963.50</td>\n",
       "    </tr>\n",
       "    <tr>\n",
       "      <th>...</th>\n",
       "      <td>...</td>\n",
       "      <td>...</td>\n",
       "      <td>...</td>\n",
       "      <td>...</td>\n",
       "      <td>...</td>\n",
       "      <td>...</td>\n",
       "      <td>...</td>\n",
       "      <td>...</td>\n",
       "    </tr>\n",
       "    <tr>\n",
       "      <th>346141</th>\n",
       "      <td>0.00</td>\n",
       "      <td>0.00</td>\n",
       "      <td>0.00</td>\n",
       "      <td>1.00</td>\n",
       "      <td>1.0</td>\n",
       "      <td>32172</td>\n",
       "      <td>32172.0</td>\n",
       "      <td>32172.00</td>\n",
       "    </tr>\n",
       "    <tr>\n",
       "      <th>346140</th>\n",
       "      <td>0.00</td>\n",
       "      <td>0.00</td>\n",
       "      <td>0.00</td>\n",
       "      <td>1.00</td>\n",
       "      <td>1.0</td>\n",
       "      <td>28547</td>\n",
       "      <td>28547.0</td>\n",
       "      <td>28547.00</td>\n",
       "    </tr>\n",
       "    <tr>\n",
       "      <th>346139</th>\n",
       "      <td>0.00</td>\n",
       "      <td>0.00</td>\n",
       "      <td>0.00</td>\n",
       "      <td>1.00</td>\n",
       "      <td>1.0</td>\n",
       "      <td>34358</td>\n",
       "      <td>34358.0</td>\n",
       "      <td>34358.00</td>\n",
       "    </tr>\n",
       "    <tr>\n",
       "      <th>346138</th>\n",
       "      <td>0.00</td>\n",
       "      <td>38802.00</td>\n",
       "      <td>0.00</td>\n",
       "      <td>1.00</td>\n",
       "      <td>1.0</td>\n",
       "      <td>38802</td>\n",
       "      <td>38802.0</td>\n",
       "      <td>38802.00</td>\n",
       "    </tr>\n",
       "    <tr>\n",
       "      <th>346136</th>\n",
       "      <td>0.00</td>\n",
       "      <td>0.00</td>\n",
       "      <td>0.00</td>\n",
       "      <td>1.00</td>\n",
       "      <td>1.0</td>\n",
       "      <td>29487</td>\n",
       "      <td>29487.0</td>\n",
       "      <td>29487.00</td>\n",
       "    </tr>\n",
       "    <tr>\n",
       "      <th>346170</th>\n",
       "      <td>0.00</td>\n",
       "      <td>0.00</td>\n",
       "      <td>0.00</td>\n",
       "      <td>2.00</td>\n",
       "      <td>2.0</td>\n",
       "      <td>32196</td>\n",
       "      <td>64392.0</td>\n",
       "      <td>64392.00</td>\n",
       "    </tr>\n",
       "    <tr>\n",
       "      <th>346135</th>\n",
       "      <td>0.00</td>\n",
       "      <td>0.00</td>\n",
       "      <td>0.00</td>\n",
       "      <td>1.00</td>\n",
       "      <td>1.0</td>\n",
       "      <td>34612</td>\n",
       "      <td>34612.0</td>\n",
       "      <td>34612.00</td>\n",
       "    </tr>\n",
       "    <tr>\n",
       "      <th>346134</th>\n",
       "      <td>0.00</td>\n",
       "      <td>0.00</td>\n",
       "      <td>0.00</td>\n",
       "      <td>1.00</td>\n",
       "      <td>1.0</td>\n",
       "      <td>37357</td>\n",
       "      <td>37357.0</td>\n",
       "      <td>37357.00</td>\n",
       "    </tr>\n",
       "    <tr>\n",
       "      <th>346133</th>\n",
       "      <td>0.00</td>\n",
       "      <td>0.00</td>\n",
       "      <td>0.00</td>\n",
       "      <td>1.00</td>\n",
       "      <td>1.0</td>\n",
       "      <td>26623</td>\n",
       "      <td>26623.0</td>\n",
       "      <td>26623.00</td>\n",
       "    </tr>\n",
       "    <tr>\n",
       "      <th>346132</th>\n",
       "      <td>0.00</td>\n",
       "      <td>0.00</td>\n",
       "      <td>0.00</td>\n",
       "      <td>1.00</td>\n",
       "      <td>1.0</td>\n",
       "      <td>30046</td>\n",
       "      <td>30046.0</td>\n",
       "      <td>30046.00</td>\n",
       "    </tr>\n",
       "    <tr>\n",
       "      <th>346131</th>\n",
       "      <td>0.00</td>\n",
       "      <td>0.00</td>\n",
       "      <td>0.00</td>\n",
       "      <td>1.00</td>\n",
       "      <td>1.0</td>\n",
       "      <td>31815</td>\n",
       "      <td>31815.0</td>\n",
       "      <td>31815.00</td>\n",
       "    </tr>\n",
       "    <tr>\n",
       "      <th>346130</th>\n",
       "      <td>0.00</td>\n",
       "      <td>0.00</td>\n",
       "      <td>0.00</td>\n",
       "      <td>1.00</td>\n",
       "      <td>1.0</td>\n",
       "      <td>34890</td>\n",
       "      <td>34890.0</td>\n",
       "      <td>34890.00</td>\n",
       "    </tr>\n",
       "    <tr>\n",
       "      <th>196122</th>\n",
       "      <td>0.00</td>\n",
       "      <td>0.00</td>\n",
       "      <td>0.00</td>\n",
       "      <td>1.00</td>\n",
       "      <td>1.0</td>\n",
       "      <td>28467</td>\n",
       "      <td>28467.0</td>\n",
       "      <td>28467.00</td>\n",
       "    </tr>\n",
       "    <tr>\n",
       "      <th>119557</th>\n",
       "      <td>0.00</td>\n",
       "      <td>49252.00</td>\n",
       "      <td>0.00</td>\n",
       "      <td>2.00</td>\n",
       "      <td>2.0</td>\n",
       "      <td>24626</td>\n",
       "      <td>49252.0</td>\n",
       "      <td>49252.00</td>\n",
       "    </tr>\n",
       "    <tr>\n",
       "      <th>119556</th>\n",
       "      <td>0.00</td>\n",
       "      <td>0.00</td>\n",
       "      <td>0.00</td>\n",
       "      <td>2.00</td>\n",
       "      <td>2.0</td>\n",
       "      <td>28455</td>\n",
       "      <td>56910.0</td>\n",
       "      <td>56910.00</td>\n",
       "    </tr>\n",
       "    <tr>\n",
       "      <th>196123</th>\n",
       "      <td>0.00</td>\n",
       "      <td>0.00</td>\n",
       "      <td>0.00</td>\n",
       "      <td>1.00</td>\n",
       "      <td>1.0</td>\n",
       "      <td>32761</td>\n",
       "      <td>32761.0</td>\n",
       "      <td>32761.00</td>\n",
       "    </tr>\n",
       "    <tr>\n",
       "      <th>196124</th>\n",
       "      <td>0.00</td>\n",
       "      <td>0.00</td>\n",
       "      <td>0.00</td>\n",
       "      <td>1.00</td>\n",
       "      <td>1.0</td>\n",
       "      <td>25064</td>\n",
       "      <td>25064.0</td>\n",
       "      <td>25064.00</td>\n",
       "    </tr>\n",
       "    <tr>\n",
       "      <th>196125</th>\n",
       "      <td>0.00</td>\n",
       "      <td>0.00</td>\n",
       "      <td>0.00</td>\n",
       "      <td>1.00</td>\n",
       "      <td>1.0</td>\n",
       "      <td>31828</td>\n",
       "      <td>31828.0</td>\n",
       "      <td>31828.00</td>\n",
       "    </tr>\n",
       "    <tr>\n",
       "      <th>196126</th>\n",
       "      <td>0.00</td>\n",
       "      <td>0.00</td>\n",
       "      <td>0.00</td>\n",
       "      <td>1.00</td>\n",
       "      <td>1.0</td>\n",
       "      <td>34678</td>\n",
       "      <td>34678.0</td>\n",
       "      <td>34678.00</td>\n",
       "    </tr>\n",
       "    <tr>\n",
       "      <th>196127</th>\n",
       "      <td>0.00</td>\n",
       "      <td>0.00</td>\n",
       "      <td>0.00</td>\n",
       "      <td>1.00</td>\n",
       "      <td>1.0</td>\n",
       "      <td>30979</td>\n",
       "      <td>30979.0</td>\n",
       "      <td>30979.00</td>\n",
       "    </tr>\n",
       "    <tr>\n",
       "      <th>346161</th>\n",
       "      <td>0.00</td>\n",
       "      <td>0.00</td>\n",
       "      <td>0.00</td>\n",
       "      <td>2.00</td>\n",
       "      <td>2.0</td>\n",
       "      <td>30649</td>\n",
       "      <td>61298.0</td>\n",
       "      <td>61298.00</td>\n",
       "    </tr>\n",
       "    <tr>\n",
       "      <th>346162</th>\n",
       "      <td>0.00</td>\n",
       "      <td>0.00</td>\n",
       "      <td>0.00</td>\n",
       "      <td>2.00</td>\n",
       "      <td>2.0</td>\n",
       "      <td>25760</td>\n",
       "      <td>51520.0</td>\n",
       "      <td>51520.00</td>\n",
       "    </tr>\n",
       "    <tr>\n",
       "      <th>346163</th>\n",
       "      <td>0.00</td>\n",
       "      <td>0.00</td>\n",
       "      <td>0.00</td>\n",
       "      <td>2.00</td>\n",
       "      <td>2.0</td>\n",
       "      <td>30827</td>\n",
       "      <td>61654.0</td>\n",
       "      <td>61654.00</td>\n",
       "    </tr>\n",
       "    <tr>\n",
       "      <th>346164</th>\n",
       "      <td>0.00</td>\n",
       "      <td>0.00</td>\n",
       "      <td>0.00</td>\n",
       "      <td>2.00</td>\n",
       "      <td>2.0</td>\n",
       "      <td>28845</td>\n",
       "      <td>57690.0</td>\n",
       "      <td>57690.00</td>\n",
       "    </tr>\n",
       "    <tr>\n",
       "      <th>346165</th>\n",
       "      <td>0.00</td>\n",
       "      <td>0.00</td>\n",
       "      <td>0.00</td>\n",
       "      <td>2.00</td>\n",
       "      <td>2.0</td>\n",
       "      <td>36059</td>\n",
       "      <td>72118.0</td>\n",
       "      <td>72118.00</td>\n",
       "    </tr>\n",
       "    <tr>\n",
       "      <th>346166</th>\n",
       "      <td>0.00</td>\n",
       "      <td>0.00</td>\n",
       "      <td>0.00</td>\n",
       "      <td>2.00</td>\n",
       "      <td>2.0</td>\n",
       "      <td>27161</td>\n",
       "      <td>54322.0</td>\n",
       "      <td>54322.00</td>\n",
       "    </tr>\n",
       "    <tr>\n",
       "      <th>346167</th>\n",
       "      <td>0.00</td>\n",
       "      <td>0.00</td>\n",
       "      <td>0.00</td>\n",
       "      <td>2.00</td>\n",
       "      <td>2.0</td>\n",
       "      <td>29360</td>\n",
       "      <td>58720.0</td>\n",
       "      <td>58720.00</td>\n",
       "    </tr>\n",
       "    <tr>\n",
       "      <th>346168</th>\n",
       "      <td>0.00</td>\n",
       "      <td>0.00</td>\n",
       "      <td>0.00</td>\n",
       "      <td>2.00</td>\n",
       "      <td>2.0</td>\n",
       "      <td>27499</td>\n",
       "      <td>54998.0</td>\n",
       "      <td>54998.00</td>\n",
       "    </tr>\n",
       "    <tr>\n",
       "      <th>346169</th>\n",
       "      <td>0.00</td>\n",
       "      <td>0.00</td>\n",
       "      <td>0.00</td>\n",
       "      <td>2.00</td>\n",
       "      <td>2.0</td>\n",
       "      <td>29650</td>\n",
       "      <td>59300.0</td>\n",
       "      <td>59300.00</td>\n",
       "    </tr>\n",
       "    <tr>\n",
       "      <th>241070</th>\n",
       "      <td>0.00</td>\n",
       "      <td>0.00</td>\n",
       "      <td>0.00</td>\n",
       "      <td>1.00</td>\n",
       "      <td>1.0</td>\n",
       "      <td>29433</td>\n",
       "      <td>29433.0</td>\n",
       "      <td>29433.00</td>\n",
       "    </tr>\n",
       "  </tbody>\n",
       "</table>\n",
       "<p>187205 rows × 8 columns</p>\n",
       "</div>"
      ],
      "text/plain": [
       "           e00200        jg    e00200p  jg_fte  n1864   jg_w     jg_mb  \\\n",
       "98011   211638.82      0.00       0.00    0.51    6.0  38554  231324.0   \n",
       "98002   211638.82      0.00       0.00    0.28    6.0  36984  221904.0   \n",
       "98008   211638.82      0.00       0.00    0.43    6.0  37976  227856.0   \n",
       "98005   211638.82      0.00       0.00    0.54    6.0  38787  232722.0   \n",
       "97998   211638.82      0.00       0.00    0.33    6.0  37337  224022.0   \n",
       "20820   187878.12   4621.88  150302.50    0.12    5.0  38500  192500.0   \n",
       "81426   169739.80      0.00   13400.08    0.43    5.0  37147  185735.0   \n",
       "81436   169739.80  24420.20   13400.08    0.63    5.0  38832  194160.0   \n",
       "81434   169739.80      0.00   13400.08    0.57    5.0  38345  191725.0   \n",
       "81431   169739.80      0.00   13400.08    0.35    5.0  36496  182480.0   \n",
       "81423   169739.80      0.00   13400.08    0.40    5.0  36879  184395.0   \n",
       "81429   169739.80      0.00   13400.08    0.49    5.0  37675  188375.0   \n",
       "81427   169739.80      0.00   13400.08    0.50    5.0  37712  188560.0   \n",
       "81428   169739.80      0.00   13400.08    0.45    5.0  37302  186510.0   \n",
       "79814   167506.84  14808.16  167506.84    0.41    5.0  36463  182315.0   \n",
       "88026   153711.61   4443.39  153711.61    0.14    5.0  31631  158155.0   \n",
       "267948  153653.68      0.00       0.00    0.03    4.0  38689  154756.0   \n",
       "320940  152915.53      0.00   78614.83    0.04    4.0  38623  154492.0   \n",
       "320941  152915.53      0.00   78614.83    0.11    4.0  39333  157332.0   \n",
       "92730   152363.96  18051.04   79312.41    0.53    5.0  34083  170415.0   \n",
       "133841  151858.73      0.00  117720.04    0.12    4.0  39118  156472.0   \n",
       "377809  150966.47   6661.53    8234.26    0.17    4.0  39407  157628.0   \n",
       "230456  149872.59      0.00   34585.98    0.95    5.0  37037  185185.0   \n",
       "282822  149355.78      0.00   74089.81    0.16    4.0  38857  155428.0   \n",
       "185188  147555.04      0.00   94435.60    0.03    4.0  37161  148644.0   \n",
       "185198  147555.04      0.00   94435.60    0.11    4.0  37927  151708.0   \n",
       "185192  147555.04      0.00   94435.60    0.21    4.0  38937  155748.0   \n",
       "185189  147555.04      0.00   94435.60    0.08    4.0  37596  150384.0   \n",
       "388257  147088.05   9467.95   70898.54    0.24    4.0  39139  156556.0   \n",
       "373110  146288.50      0.00  146288.50    0.08    4.0  37313  149252.0   \n",
       "...           ...       ...        ...     ...    ...    ...       ...   \n",
       "346141       0.00      0.00       0.00    1.00    1.0  32172   32172.0   \n",
       "346140       0.00      0.00       0.00    1.00    1.0  28547   28547.0   \n",
       "346139       0.00      0.00       0.00    1.00    1.0  34358   34358.0   \n",
       "346138       0.00  38802.00       0.00    1.00    1.0  38802   38802.0   \n",
       "346136       0.00      0.00       0.00    1.00    1.0  29487   29487.0   \n",
       "346170       0.00      0.00       0.00    2.00    2.0  32196   64392.0   \n",
       "346135       0.00      0.00       0.00    1.00    1.0  34612   34612.0   \n",
       "346134       0.00      0.00       0.00    1.00    1.0  37357   37357.0   \n",
       "346133       0.00      0.00       0.00    1.00    1.0  26623   26623.0   \n",
       "346132       0.00      0.00       0.00    1.00    1.0  30046   30046.0   \n",
       "346131       0.00      0.00       0.00    1.00    1.0  31815   31815.0   \n",
       "346130       0.00      0.00       0.00    1.00    1.0  34890   34890.0   \n",
       "196122       0.00      0.00       0.00    1.00    1.0  28467   28467.0   \n",
       "119557       0.00  49252.00       0.00    2.00    2.0  24626   49252.0   \n",
       "119556       0.00      0.00       0.00    2.00    2.0  28455   56910.0   \n",
       "196123       0.00      0.00       0.00    1.00    1.0  32761   32761.0   \n",
       "196124       0.00      0.00       0.00    1.00    1.0  25064   25064.0   \n",
       "196125       0.00      0.00       0.00    1.00    1.0  31828   31828.0   \n",
       "196126       0.00      0.00       0.00    1.00    1.0  34678   34678.0   \n",
       "196127       0.00      0.00       0.00    1.00    1.0  30979   30979.0   \n",
       "346161       0.00      0.00       0.00    2.00    2.0  30649   61298.0   \n",
       "346162       0.00      0.00       0.00    2.00    2.0  25760   51520.0   \n",
       "346163       0.00      0.00       0.00    2.00    2.0  30827   61654.0   \n",
       "346164       0.00      0.00       0.00    2.00    2.0  28845   57690.0   \n",
       "346165       0.00      0.00       0.00    2.00    2.0  36059   72118.0   \n",
       "346166       0.00      0.00       0.00    2.00    2.0  27161   54322.0   \n",
       "346167       0.00      0.00       0.00    2.00    2.0  29360   58720.0   \n",
       "346168       0.00      0.00       0.00    2.00    2.0  27499   54998.0   \n",
       "346169       0.00      0.00       0.00    2.00    2.0  29650   59300.0   \n",
       "241070       0.00      0.00       0.00    1.00    1.0  29433   29433.0   \n",
       "\n",
       "            jg_b  \n",
       "98011   19685.18  \n",
       "98002   10265.18  \n",
       "98008   16217.18  \n",
       "98005   21083.18  \n",
       "97998   12383.18  \n",
       "20820    4621.88  \n",
       "81426   15995.20  \n",
       "81436   24420.20  \n",
       "81434   21985.20  \n",
       "81431   12740.20  \n",
       "81423   14655.20  \n",
       "81429   18635.20  \n",
       "81427   18820.20  \n",
       "81428   16770.20  \n",
       "79814   14808.16  \n",
       "88026    4443.39  \n",
       "267948   1102.32  \n",
       "320940   1576.47  \n",
       "320941   4416.47  \n",
       "92730   18051.04  \n",
       "133841   4613.27  \n",
       "377809   6661.53  \n",
       "230456  35312.41  \n",
       "282822   6072.22  \n",
       "185188   1088.96  \n",
       "185198   4152.96  \n",
       "185192   8192.96  \n",
       "185189   2828.96  \n",
       "388257   9467.95  \n",
       "373110   2963.50  \n",
       "...          ...  \n",
       "346141  32172.00  \n",
       "346140  28547.00  \n",
       "346139  34358.00  \n",
       "346138  38802.00  \n",
       "346136  29487.00  \n",
       "346170  64392.00  \n",
       "346135  34612.00  \n",
       "346134  37357.00  \n",
       "346133  26623.00  \n",
       "346132  30046.00  \n",
       "346131  31815.00  \n",
       "346130  34890.00  \n",
       "196122  28467.00  \n",
       "119557  49252.00  \n",
       "119556  56910.00  \n",
       "196123  32761.00  \n",
       "196124  25064.00  \n",
       "196125  31828.00  \n",
       "196126  34678.00  \n",
       "196127  30979.00  \n",
       "346161  61298.00  \n",
       "346162  51520.00  \n",
       "346163  61654.00  \n",
       "346164  57690.00  \n",
       "346165  72118.00  \n",
       "346166  54322.00  \n",
       "346167  58720.00  \n",
       "346168  54998.00  \n",
       "346169  59300.00  \n",
       "241070  29433.00  \n",
       "\n",
       "[187205 rows x 8 columns]"
      ]
     },
     "execution_count": 23,
     "metadata": {},
     "output_type": "execute_result"
    }
   ],
   "source": [
    "df[df.jg_fte > 0][['e00200', 'jg', 'e00200p', 'jg_fte', 'n1864', 'jg_w', 'jg_mb', 'jg_b']].sort_values('e00200', ascending=False)"
   ]
  },
  {
   "cell_type": "code",
   "execution_count": 24,
   "metadata": {},
   "outputs": [
    {
     "data": {
      "text/plain": [
       "32571.539691026257"
      ]
     },
     "execution_count": 24,
     "metadata": {},
     "output_type": "execute_result"
    }
   ],
   "source": [
    "(df.jg * df.s006).sum() / (df.jg_participate * df.jg_fte * df.s006).sum()"
   ]
  },
  {
   "cell_type": "code",
   "execution_count": 25,
   "metadata": {},
   "outputs": [],
   "source": [
    "df['e00200_orig'] = df.e00200\n",
    "df['e00200p_orig'] = df.e00200p\n",
    "df['e00200s_orig'] = df.e00200s"
   ]
  },
  {
   "cell_type": "code",
   "execution_count": 26,
   "metadata": {},
   "outputs": [],
   "source": [
    "df['jgp'] = df.jg * np.where(df.e00200_orig > 0, \n",
    "                             df.e00200p_orig / df.e00200_orig, 1)\n",
    "df['jgs'] = df.jg * np.where(df.e00200_orig > 0, \n",
    "                             df.e00200s_orig / df.e00200_orig, 0)"
   ]
  },
  {
   "cell_type": "code",
   "execution_count": 27,
   "metadata": {},
   "outputs": [],
   "source": [
    "df['e00200'] = df.e00200_orig + df.jg\n",
    "df['e00200p'] = df.e00200p_orig + df.jgp\n",
    "df['e00200s'] = df.e00200s_orig + df.jgs"
   ]
  },
  {
   "cell_type": "code",
   "execution_count": 28,
   "metadata": {},
   "outputs": [
    {
     "data": {
      "text/plain": [
       "722.6369085665077"
      ]
     },
     "execution_count": 28,
     "metadata": {},
     "output_type": "execute_result"
    }
   ],
   "source": [
    "df.jgp.sum() / 1e6"
   ]
  },
  {
   "cell_type": "code",
   "execution_count": 29,
   "metadata": {},
   "outputs": [
    {
     "data": {
      "text/plain": [
       "122.80841721677486"
      ]
     },
     "execution_count": 29,
     "metadata": {},
     "output_type": "execute_result"
    }
   ],
   "source": [
    "df.jgs.sum() / 1e6"
   ]
  },
  {
   "cell_type": "code",
   "execution_count": 30,
   "metadata": {},
   "outputs": [
    {
     "data": {
      "text/plain": [
       "845.4453257832824"
      ]
     },
     "execution_count": 30,
     "metadata": {},
     "output_type": "execute_result"
    }
   ],
   "source": [
    "df.jg.sum() / 1e6"
   ]
  },
  {
   "cell_type": "code",
   "execution_count": 31,
   "metadata": {},
   "outputs": [
    {
     "data": {
      "text/plain": [
       "127.94247555103999"
      ]
     },
     "execution_count": 31,
     "metadata": {},
     "output_type": "execute_result"
    }
   ],
   "source": [
    "df_noinc = df[(df.e00200_orig == 0)]\n",
    "(df_noinc.jg * df_noinc.s006).sum() / 1e9"
   ]
  },
  {
   "cell_type": "code",
   "execution_count": 32,
   "metadata": {},
   "outputs": [
    {
     "data": {
      "text/plain": [
       "183.3671074588645"
      ]
     },
     "execution_count": 32,
     "metadata": {},
     "output_type": "execute_result"
    }
   ],
   "source": [
    "df_noinc = df[(df.e00200_orig > 0)]\n",
    "(df_noinc.jg * df_noinc.s006).sum() / 1e9"
   ]
  },
  {
   "cell_type": "code",
   "execution_count": 33,
   "metadata": {},
   "outputs": [
    {
     "data": {
      "text/html": [
       "<div>\n",
       "<style scoped>\n",
       "    .dataframe tbody tr th:only-of-type {\n",
       "        vertical-align: middle;\n",
       "    }\n",
       "\n",
       "    .dataframe tbody tr th {\n",
       "        vertical-align: top;\n",
       "    }\n",
       "\n",
       "    .dataframe thead th {\n",
       "        text-align: right;\n",
       "    }\n",
       "</style>\n",
       "<table border=\"1\" class=\"dataframe\">\n",
       "  <thead>\n",
       "    <tr style=\"text-align: right;\">\n",
       "      <th></th>\n",
       "      <th>jg</th>\n",
       "      <th>jgp</th>\n",
       "      <th>jgs</th>\n",
       "      <th>e00200</th>\n",
       "      <th>e00200p</th>\n",
       "      <th>e00200s</th>\n",
       "      <th>n1864</th>\n",
       "      <th>e18400</th>\n",
       "    </tr>\n",
       "  </thead>\n",
       "  <tbody>\n",
       "    <tr>\n",
       "      <th>0</th>\n",
       "      <td>0.0</td>\n",
       "      <td>0.0</td>\n",
       "      <td>0.0</td>\n",
       "      <td>48543.44</td>\n",
       "      <td>42211.89</td>\n",
       "      <td>6331.55</td>\n",
       "      <td>2.0</td>\n",
       "      <td>2647.39</td>\n",
       "    </tr>\n",
       "    <tr>\n",
       "      <th>1</th>\n",
       "      <td>0.0</td>\n",
       "      <td>0.0</td>\n",
       "      <td>0.0</td>\n",
       "      <td>16884.52</td>\n",
       "      <td>16884.52</td>\n",
       "      <td>0.00</td>\n",
       "      <td>1.0</td>\n",
       "      <td>920.03</td>\n",
       "    </tr>\n",
       "    <tr>\n",
       "      <th>2</th>\n",
       "      <td>0.0</td>\n",
       "      <td>0.0</td>\n",
       "      <td>0.0</td>\n",
       "      <td>0.00</td>\n",
       "      <td>0.00</td>\n",
       "      <td>0.00</td>\n",
       "      <td>0.0</td>\n",
       "      <td>679.67</td>\n",
       "    </tr>\n",
       "    <tr>\n",
       "      <th>3</th>\n",
       "      <td>0.0</td>\n",
       "      <td>0.0</td>\n",
       "      <td>0.0</td>\n",
       "      <td>23216.07</td>\n",
       "      <td>23216.07</td>\n",
       "      <td>0.00</td>\n",
       "      <td>1.0</td>\n",
       "      <td>1265.04</td>\n",
       "    </tr>\n",
       "    <tr>\n",
       "      <th>4</th>\n",
       "      <td>0.0</td>\n",
       "      <td>0.0</td>\n",
       "      <td>0.0</td>\n",
       "      <td>0.00</td>\n",
       "      <td>0.00</td>\n",
       "      <td>0.00</td>\n",
       "      <td>0.0</td>\n",
       "      <td>1060.34</td>\n",
       "    </tr>\n",
       "  </tbody>\n",
       "</table>\n",
       "</div>"
      ],
      "text/plain": [
       "    jg  jgp  jgs    e00200   e00200p  e00200s  n1864   e18400\n",
       "0  0.0  0.0  0.0  48543.44  42211.89  6331.55    2.0  2647.39\n",
       "1  0.0  0.0  0.0  16884.52  16884.52     0.00    1.0   920.03\n",
       "2  0.0  0.0  0.0      0.00      0.00     0.00    0.0   679.67\n",
       "3  0.0  0.0  0.0  23216.07  23216.07     0.00    1.0  1265.04\n",
       "4  0.0  0.0  0.0      0.00      0.00     0.00    0.0  1060.34"
      ]
     },
     "execution_count": 33,
     "metadata": {},
     "output_type": "execute_result"
    }
   ],
   "source": [
    "df[['jg', 'jgp', 'jgs', 'e00200', 'e00200p', 'e00200s', 'n1864', \n",
    "    'e18400']].head()"
   ]
  },
  {
   "cell_type": "markdown",
   "metadata": {},
   "source": [
    "People in tax units benefiting from JG."
   ]
  },
  {
   "cell_type": "code",
   "execution_count": 34,
   "metadata": {},
   "outputs": [
    {
     "data": {
      "text/plain": [
       "15.470947869999998"
      ]
     },
     "execution_count": 34,
     "metadata": {},
     "output_type": "execute_result"
    }
   ],
   "source": [
    "((df.jg > 0) * df.s006 * df.n1864).sum() / 1e6"
   ]
  },
  {
   "cell_type": "code",
   "execution_count": 35,
   "metadata": {},
   "outputs": [
    {
     "data": {
      "text/plain": [
       "21.65840587"
      ]
     },
     "execution_count": 35,
     "metadata": {},
     "output_type": "execute_result"
    }
   ],
   "source": [
    "((df.jg > 0) * df.s006 * df.XTOT).sum() / 1e6"
   ]
  },
  {
   "cell_type": "code",
   "execution_count": 36,
   "metadata": {},
   "outputs": [
    {
     "data": {
      "text/plain": [
       "311.3095830099023"
      ]
     },
     "execution_count": 36,
     "metadata": {},
     "output_type": "execute_result"
    }
   ],
   "source": [
    "((df.e00200 * df.s006).sum() - (df.e00200_orig * df.s006).sum()) / 1e9"
   ]
  },
  {
   "cell_type": "markdown",
   "metadata": {},
   "source": [
    "9) Multiply itemizable state and local income/sales taxes (`e18400`) by the change in `e00200p` (i.e., assume flat SALT--unrealistically).\n",
    "\n",
    "**TODO**"
   ]
  },
  {
   "cell_type": "markdown",
   "metadata": {},
   "source": [
    "### Clean data\n",
    "\n",
    "Fix `e00900` pending https://github.com/open-source-economics/Tax-Calculator/issues/2024."
   ]
  },
  {
   "cell_type": "code",
   "execution_count": 37,
   "metadata": {},
   "outputs": [],
   "source": [
    "df['e00900'] = df.e00900p + df.e00900s"
   ]
  },
  {
   "cell_type": "markdown",
   "metadata": {},
   "source": [
    "## Calculate\n",
    "\n",
    "Run Tax-Calculator."
   ]
  },
  {
   "cell_type": "code",
   "execution_count": 38,
   "metadata": {},
   "outputs": [
    {
     "data": {
      "text/plain": [
       "4823675338.633316"
      ]
     },
     "execution_count": 38,
     "metadata": {},
     "output_type": "execute_result"
    }
   ],
   "source": [
    "df.e00900.sum()"
   ]
  },
  {
   "cell_type": "markdown",
   "metadata": {},
   "source": [
    "Include non-health benefits in calculating after-tax income."
   ]
  },
  {
   "cell_type": "code",
   "execution_count": 50,
   "metadata": {},
   "outputs": [],
   "source": [
    "reform_no_medicaid_medicare = {\n",
    "    2018: {\n",
    "        \"_BEN_mcaid_repeal\": [True],\n",
    "        \"_BEN_mcare_repeal\": [True]\n",
    "    }\n",
    "}"
   ]
  },
  {
   "cell_type": "code",
   "execution_count": 51,
   "metadata": {},
   "outputs": [],
   "source": [
    "recs = tc.Records(data=df,\n",
    "                  start_year=2018, \n",
    "                  weights=tc.Records.CPS_WEIGHTS_FILENAME,\n",
    "                  adjust_ratios=tc.Records.CPS_RATIOS_FILENAME,\n",
    "                  benefits=tc.Records.CPS_BENEFITS_FILENAME)"
   ]
  },
  {
   "cell_type": "code",
   "execution_count": 52,
   "metadata": {},
   "outputs": [],
   "source": [
    "jg = tch.calc_df(records=recs,\n",
    "                 year=2018,\n",
    "                 reform=reform_no_medicaid_medicare,\n",
    "                 group_vars=['expanded_income', 'e00200', 'c00100'],\n",
    "                 metric_vars=['aftertax_income', 'XTOT', 'nu18', 'eitc',\n",
    "                              'e00200', 'c07220', 'c11070'])"
   ]
  },
  {
   "cell_type": "code",
   "execution_count": 53,
   "metadata": {},
   "outputs": [],
   "source": [
    "base = tch.calc_df(records=tc.Records.cps_constructor(), #no_benefits=True),\n",
    "                   year=2018,\n",
    "                   reform=reform_no_medicaid_medicare,\n",
    "                   group_vars=['expanded_income', 'e00200', 'c00100'],\n",
    "                   metric_vars=['aftertax_income', 'XTOT', 'nu18', 'eitc',\n",
    "                                'e00200', 'c07220', 'c11070'])"
   ]
  },
  {
   "cell_type": "markdown",
   "metadata": {},
   "source": [
    "Add refundable and nonrefundable CTC components."
   ]
  },
  {
   "cell_type": "code",
   "execution_count": 54,
   "metadata": {},
   "outputs": [],
   "source": [
    "jg['ctc_m'] = jg.c07220_m + jg.c11070_m\n",
    "base['ctc_m'] = base.c07220_m + base.c11070_m"
   ]
  },
  {
   "cell_type": "markdown",
   "metadata": {},
   "source": [
    "Calculate differences across income measures, EITC, and CTC."
   ]
  },
  {
   "cell_type": "code",
   "execution_count": 55,
   "metadata": {},
   "outputs": [],
   "source": [
    "def jg_diff(var):\n",
    "    diff = jg[var + '_m'].sum() - base[var + '_m'].sum()\n",
    "    pct_diff = diff / base[var + '_m'].sum()\n",
    "    print('JG changes ' + var + ' by ${:.1f}B'.format(diff / 1e3) +\n",
    "          ' ({:.1f}%).'.format(pct_diff * 100))"
   ]
  },
  {
   "cell_type": "code",
   "execution_count": 56,
   "metadata": {},
   "outputs": [
    {
     "name": "stdout",
     "output_type": "stream",
     "text": [
      "JG changes e00200 by $311.3B (3.9%).\n",
      "JG changes aftertax_income by $251.9B (2.4%).\n",
      "JG changes eitc by $-4.5B (-7.5%).\n",
      "JG changes ctc by $2.4B (2.8%).\n"
     ]
    }
   ],
   "source": [
    "jg_diff('e00200')\n",
    "jg_diff('aftertax_income')\n",
    "jg_diff('eitc')\n",
    "jg_diff('ctc')"
   ]
  },
  {
   "cell_type": "markdown",
   "metadata": {},
   "source": [
    "### Total cost\n",
    "\n",
    "Change in after-tax income, plus \\$11,000 per FTE in supplies and capital goods. \n",
    "\n",
    "Ignore employer's share of FICA (essentially tax revenue) and \\$10,000 per job in benefits (until analysis of lost safety net benefits like Medicaid is conducted, assume they roughly balance out)."
   ]
  },
  {
   "cell_type": "code",
   "execution_count": 57,
   "metadata": {},
   "outputs": [
    {
     "name": "stdout",
     "output_type": "stream",
     "text": [
      "The total cost of JG is $358.6B: $251.9B in after-tax wages plus $106.7B in supplies and capital goods.\n"
     ]
    }
   ],
   "source": [
    "afti_chg_b = (jg.aftertax_income_m.sum() - base.aftertax_income_m.sum()) / 1e3\n",
    "SUPPLIES_PER_FTE = 11000\n",
    "supplies_b = (SUPPLIES_PER_FTE * JG_FTE) / 1e9\n",
    "total_cost_b = afti_chg_b + supplies_b\n",
    "print('The total cost of JG is ${:.1f}B'.format(total_cost_b) +\n",
    "      ': ${:.1f}B in after-tax wages plus '.format(afti_chg_b) +\n",
    "      '${:.1f}B in supplies and capital goods.'.format(supplies_b))"
   ]
  },
  {
   "cell_type": "markdown",
   "metadata": {},
   "source": [
    "## Analysis"
   ]
  },
  {
   "cell_type": "code",
   "execution_count": 62,
   "metadata": {},
   "outputs": [],
   "source": [
    "def add_poverty(df):\n",
    "    EXTREME_POVERTY_LINE = 780\n",
    "    df['pov_extreme_m'] = df.XTOT_m * (\n",
    "        df.aftertax_income < (EXTREME_POVERTY_LINE * df.XTOT))\n",
    "    df['pov_extreme_child_m'] = df.nu18_m * (\n",
    "        df.aftertax_income < (EXTREME_POVERTY_LINE * df.XTOT))\n",
    "    df['pov_10k_m'] = df.XTOT_m * (\n",
    "        df.aftertax_income < (10000 * df.XTOT))\n",
    "    df['pov_10k_child_m'] = df.nu18_m * (\n",
    "        df.aftertax_income < (10000 * df.XTOT))\n",
    "    # Use $7,500 threshold as that's what NIT could guarantee.\n",
    "    df['pov_7500_m'] = df.XTOT_m * (\n",
    "        df.aftertax_income < (7500 * df.XTOT))\n",
    "    df['pov_7500_child_m'] = df.nu18_m * (\n",
    "        df.aftertax_income < (7500 * df.XTOT))\n",
    "    df['fpl_m'] = df.XTOT_m * (df.c00100 < tch.fpl(df.XTOT))\n",
    "    df['fpl_child_m'] = df.nu18_m * (df.c00100 < tch.fpl(df.XTOT))\n",
    "    df['fpla_m'] = df.XTOT_m * (df.aftertax_income < tch.fpl(df.XTOT))\n",
    "    df['fpla_child_m'] = df.nu18_m * (df.aftertax_income < tch.fpl(df.XTOT))"
   ]
  },
  {
   "cell_type": "code",
   "execution_count": 63,
   "metadata": {},
   "outputs": [],
   "source": [
    "add_poverty(jg)\n",
    "add_poverty(base)"
   ]
  },
  {
   "cell_type": "code",
   "execution_count": 64,
   "metadata": {},
   "outputs": [],
   "source": [
    "def print_poverty(numerator, denominator='XTOT_m'):\n",
    "    jg_rate = jg[numerator].sum() / jg[denominator].sum()\n",
    "    base_rate = base[numerator].sum() / base[denominator].sum()\n",
    "    chg = 1 - jg_rate / base_rate\n",
    "    print('JG reduces ' + numerator + ' by {:.1f}%'.format(chg * 100) +\n",
    "          ', from {:,.1f}%'.format(base_rate * 100) + \n",
    "          ' to {:,.1f}%.'.format(jg_rate * 100))"
   ]
  },
  {
   "cell_type": "code",
   "execution_count": 65,
   "metadata": {},
   "outputs": [
    {
     "name": "stdout",
     "output_type": "stream",
     "text": [
      "JG reduces fpla_m by 11.9%, from 11.2% to 9.9%.\n",
      "JG reduces fpla_child_m by 10.5%, from 13.0% to 11.6%.\n",
      "JG reduces fpl_m by 9.9%, from 26.9% to 24.3%.\n",
      "JG reduces fpl_child_m by 11.0%, from 28.2% to 25.1%.\n",
      "JG reduces pov_extreme_m by 11.8%, from 1.6% to 1.4%.\n",
      "JG reduces pov_extreme_child_m by 9.3%, from 2.0% to 1.8%.\n",
      "JG reduces pov_10k_m by 11.5%, from 18.4% to 16.3%.\n",
      "JG reduces pov_10k_child_m by 10.2%, from 29.2% to 26.2%.\n",
      "JG reduces pov_7500_m by 12.1%, from 11.1% to 9.8%.\n",
      "JG reduces pov_7500_child_m by 11.0%, from 16.7% to 14.9%.\n"
     ]
    }
   ],
   "source": [
    "for i in ['fpla', 'fpl', 'pov_extreme', 'pov_10k', 'pov_7500']:\n",
    "    print_poverty(i + '_m')\n",
    "    print_poverty(i + '_child_m', 'nu18_m')"
   ]
  }
 ],
 "metadata": {
  "kernelspec": {
   "display_name": "Python 3",
   "language": "python",
   "name": "python3"
  },
  "language_info": {
   "codemirror_mode": {
    "name": "ipython",
    "version": 3
   },
   "file_extension": ".py",
   "mimetype": "text/x-python",
   "name": "python",
   "nbconvert_exporter": "python",
   "pygments_lexer": "ipython3",
   "version": "3.6.5"
  },
  "toc": {
   "base_numbering": 1,
   "nav_menu": {},
   "number_sections": true,
   "sideBar": true,
   "skip_h1_title": false,
   "title_cell": "Table of Contents",
   "title_sidebar": "Contents",
   "toc_cell": false,
   "toc_position": {},
   "toc_section_display": true,
   "toc_window_display": false
  }
 },
 "nbformat": 4,
 "nbformat_minor": 2
}
