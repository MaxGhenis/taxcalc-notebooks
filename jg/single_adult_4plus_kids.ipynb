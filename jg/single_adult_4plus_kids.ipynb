{
 "cells": [
  {
   "cell_type": "markdown",
   "metadata": {},
   "source": [
    "# Tax units with single adult and 4+ kids\n",
    "\n",
    "[CBPP's 2018 Federal Jobs Guarantee proposal](https://www.cbpp.org/research/full-employment/the-federal-job-guarantee-a-policy-to-achieve-permanent-full-employment#_ftn1) sets a minimum wage of \\$24,600 in order to meet the poverty line for a family of four. This notebook calculates the number of tax units where this would be insufficient to lift one out of poverty: those with a single adult and 4+ kids.\n",
    "\n",
    "![img](https://imgur.com/5Km1yLO.png)\n",
    "\n",
    "*Data: CPS  |  Tax year: 2018  |  Type: Static  |  Author: Max Ghenis*"
   ]
  },
  {
   "cell_type": "markdown",
   "metadata": {},
   "source": [
    "## Setup\n",
    "\n",
    "### Imports"
   ]
  },
  {
   "cell_type": "code",
   "execution_count": 1,
   "metadata": {},
   "outputs": [],
   "source": [
    "import taxcalc as tc\n",
    "import pandas as pd\n",
    "import numpy as np"
   ]
  },
  {
   "cell_type": "code",
   "execution_count": 2,
   "metadata": {
    "scrolled": true
   },
   "outputs": [
    {
     "data": {
      "text/plain": [
       "'0.20.1'"
      ]
     },
     "execution_count": 2,
     "metadata": {},
     "output_type": "execute_result"
    }
   ],
   "source": [
    "tc.__version__"
   ]
  },
  {
   "cell_type": "markdown",
   "metadata": {},
   "source": [
    "### Settings"
   ]
  },
  {
   "cell_type": "code",
   "execution_count": 3,
   "metadata": {},
   "outputs": [],
   "source": [
    "# Specify number of decimals in tables.\n",
    "pd.set_option('precision', 2)"
   ]
  },
  {
   "cell_type": "markdown",
   "metadata": {},
   "source": [
    "## Generate data\n",
    "\n",
    "### Load data\n",
    "\n",
    "Generate a set of normal CPS records for 2018 using `Calculator`, then extract the dataframe."
   ]
  },
  {
   "cell_type": "code",
   "execution_count": 4,
   "metadata": {},
   "outputs": [],
   "source": [
    "calc = tc.Calculator(records=tc.Records.cps_constructor(), \n",
    "                     policy=tc.Policy(), verbose=False)\n",
    "calc.advance_to_year(2018)"
   ]
  },
  {
   "cell_type": "code",
   "execution_count": 5,
   "metadata": {},
   "outputs": [],
   "source": [
    "df = calc.dataframe(['nu18', 'XTOT', 's006', 'e00200'])"
   ]
  },
  {
   "cell_type": "markdown",
   "metadata": {},
   "source": [
    "### Preprocess"
   ]
  },
  {
   "cell_type": "code",
   "execution_count": 6,
   "metadata": {},
   "outputs": [],
   "source": [
    "df['n18'] = df.XTOT - df.nu18\n",
    "df['has_wages'] = df.e00200 > 0\n",
    "df['nu18_m'] = df.nu18 * df.s006 / 1e6\n",
    "df['nu18_4plus'] = df.nu18 > 3\n",
    "df['adults'] = np.where(df.n18 > 1, '2+', df.n18.astype(int).astype(str))\n",
    "df['nu18_4plus_01adult'] = (df.adults != '2+') & df.nu18_4plus"
   ]
  },
  {
   "cell_type": "markdown",
   "metadata": {},
   "source": [
    "## Analysis"
   ]
  },
  {
   "cell_type": "code",
   "execution_count": 7,
   "metadata": {},
   "outputs": [
    {
     "data": {
      "text/html": [
       "<div>\n",
       "<style scoped>\n",
       "    .dataframe tbody tr th:only-of-type {\n",
       "        vertical-align: middle;\n",
       "    }\n",
       "\n",
       "    .dataframe tbody tr th {\n",
       "        vertical-align: top;\n",
       "    }\n",
       "\n",
       "    .dataframe thead th {\n",
       "        text-align: right;\n",
       "    }\n",
       "</style>\n",
       "<table border=\"1\" class=\"dataframe\">\n",
       "  <thead>\n",
       "    <tr style=\"text-align: right;\">\n",
       "      <th>nu18_4plus</th>\n",
       "      <th>False</th>\n",
       "      <th>True</th>\n",
       "      <th>All</th>\n",
       "    </tr>\n",
       "    <tr>\n",
       "      <th>adults</th>\n",
       "      <th></th>\n",
       "      <th></th>\n",
       "      <th></th>\n",
       "    </tr>\n",
       "  </thead>\n",
       "  <tbody>\n",
       "    <tr>\n",
       "      <th>0</th>\n",
       "      <td>2.47</td>\n",
       "      <td>4.82e-03</td>\n",
       "      <td>2.48</td>\n",
       "    </tr>\n",
       "    <tr>\n",
       "      <th>1</th>\n",
       "      <td>21.26</td>\n",
       "      <td>2.75e+00</td>\n",
       "      <td>24.01</td>\n",
       "    </tr>\n",
       "    <tr>\n",
       "      <th>2+</th>\n",
       "      <td>47.52</td>\n",
       "      <td>8.02e+00</td>\n",
       "      <td>55.53</td>\n",
       "    </tr>\n",
       "    <tr>\n",
       "      <th>All</th>\n",
       "      <td>71.25</td>\n",
       "      <td>1.08e+01</td>\n",
       "      <td>82.02</td>\n",
       "    </tr>\n",
       "  </tbody>\n",
       "</table>\n",
       "</div>"
      ],
      "text/plain": [
       "nu18_4plus  False      True    All\n",
       "adults                            \n",
       "0            2.47  4.82e-03   2.48\n",
       "1           21.26  2.75e+00  24.01\n",
       "2+          47.52  8.02e+00  55.53\n",
       "All         71.25  1.08e+01  82.02"
      ]
     },
     "execution_count": 7,
     "metadata": {},
     "output_type": "execute_result"
    }
   ],
   "source": [
    "df.pivot_table(index='adults', columns='nu18_4plus', values='nu18_m',\n",
    "               aggfunc=sum, margins=True)"
   ]
  },
  {
   "cell_type": "code",
   "execution_count": 8,
   "metadata": {},
   "outputs": [
    {
     "data": {
      "text/html": [
       "<div>\n",
       "<style scoped>\n",
       "    .dataframe tbody tr th:only-of-type {\n",
       "        vertical-align: middle;\n",
       "    }\n",
       "\n",
       "    .dataframe tbody tr th {\n",
       "        vertical-align: top;\n",
       "    }\n",
       "\n",
       "    .dataframe thead th {\n",
       "        text-align: right;\n",
       "    }\n",
       "</style>\n",
       "<table border=\"1\" class=\"dataframe\">\n",
       "  <thead>\n",
       "    <tr style=\"text-align: right;\">\n",
       "      <th>has_wages</th>\n",
       "      <th>False</th>\n",
       "      <th>True</th>\n",
       "      <th>All</th>\n",
       "    </tr>\n",
       "    <tr>\n",
       "      <th>nu18_4plus_01adult</th>\n",
       "      <th></th>\n",
       "      <th></th>\n",
       "      <th></th>\n",
       "    </tr>\n",
       "  </thead>\n",
       "  <tbody>\n",
       "    <tr>\n",
       "      <th>False</th>\n",
       "      <td>9.66</td>\n",
       "      <td>69.61</td>\n",
       "      <td>79.27</td>\n",
       "    </tr>\n",
       "    <tr>\n",
       "      <th>True</th>\n",
       "      <td>0.89</td>\n",
       "      <td>1.86</td>\n",
       "      <td>2.75</td>\n",
       "    </tr>\n",
       "    <tr>\n",
       "      <th>All</th>\n",
       "      <td>10.56</td>\n",
       "      <td>71.47</td>\n",
       "      <td>82.02</td>\n",
       "    </tr>\n",
       "  </tbody>\n",
       "</table>\n",
       "</div>"
      ],
      "text/plain": [
       "has_wages           False   True    All\n",
       "nu18_4plus_01adult                     \n",
       "False                9.66  69.61  79.27\n",
       "True                 0.89   1.86   2.75\n",
       "All                 10.56  71.47  82.02"
      ]
     },
     "execution_count": 8,
     "metadata": {},
     "output_type": "execute_result"
    }
   ],
   "source": [
    "df.pivot_table(index='nu18_4plus_01adult', columns='has_wages', \n",
    "               values='nu18_m', aggfunc=sum, margins=True)"
   ]
  },
  {
   "cell_type": "code",
   "execution_count": 9,
   "metadata": {},
   "outputs": [],
   "source": [
    "nu18_m_share_wages = (\n",
    "    df[df.has_wages & df.nu18_4plus_01adult].nu18_m.sum() / \n",
    "    df[df.has_wages].nu18_m.sum())\n",
    "nu18_m_share_no_wages = (\n",
    "    df[~df.has_wages & df.nu18_4plus_01adult].nu18_m.sum() / \n",
    "    df[~df.has_wages].nu18_m.sum())\n",
    "nu18_m_share = df[df.nu18_4plus_01adult].nu18_m.sum() / df.nu18_m.sum()"
   ]
  },
  {
   "cell_type": "code",
   "execution_count": 10,
   "metadata": {},
   "outputs": [
    {
     "name": "stdout",
     "output_type": "stream",
     "text": [
      "The share of children in tax units with 0-1 adults and 4+ children is 3.4%: 2.6% of tax units with wages and 8.5% of tax units with no wages.\n"
     ]
    }
   ],
   "source": [
    "print('The share of children in tax units with 0-1 adults and 4+ children ' + \n",
    "      'is {:.1f}%'.format(nu18_m_share * 100) +\n",
    "      ': {:.1f}% of tax units with wages'.format(nu18_m_share_wages * 100) +\n",
    "      ' and {:.1f}% of tax units with no wages.'.format(\n",
    "          nu18_m_share_no_wages * 100))"
   ]
  },
  {
   "cell_type": "code",
   "execution_count": 11,
   "metadata": {},
   "outputs": [
    {
     "data": {
      "text/html": [
       "<div>\n",
       "<style scoped>\n",
       "    .dataframe tbody tr th:only-of-type {\n",
       "        vertical-align: middle;\n",
       "    }\n",
       "\n",
       "    .dataframe tbody tr th {\n",
       "        vertical-align: top;\n",
       "    }\n",
       "\n",
       "    .dataframe thead th {\n",
       "        text-align: right;\n",
       "    }\n",
       "</style>\n",
       "<table border=\"1\" class=\"dataframe\">\n",
       "  <thead>\n",
       "    <tr style=\"text-align: right;\">\n",
       "      <th>has_wages</th>\n",
       "      <th>False</th>\n",
       "      <th>True</th>\n",
       "      <th>All</th>\n",
       "    </tr>\n",
       "    <tr>\n",
       "      <th>nu18_4plus_01adult</th>\n",
       "      <th></th>\n",
       "      <th></th>\n",
       "      <th></th>\n",
       "    </tr>\n",
       "  </thead>\n",
       "  <tbody>\n",
       "    <tr>\n",
       "      <th>False</th>\n",
       "      <td>4.58e+07</td>\n",
       "      <td>1.24e+08</td>\n",
       "      <td>1.69e+08</td>\n",
       "    </tr>\n",
       "    <tr>\n",
       "      <th>True</th>\n",
       "      <td>2.01e+05</td>\n",
       "      <td>4.21e+05</td>\n",
       "      <td>6.21e+05</td>\n",
       "    </tr>\n",
       "    <tr>\n",
       "      <th>All</th>\n",
       "      <td>4.60e+07</td>\n",
       "      <td>1.24e+08</td>\n",
       "      <td>1.70e+08</td>\n",
       "    </tr>\n",
       "  </tbody>\n",
       "</table>\n",
       "</div>"
      ],
      "text/plain": [
       "has_wages              False      True       All\n",
       "nu18_4plus_01adult                              \n",
       "False               4.58e+07  1.24e+08  1.69e+08\n",
       "True                2.01e+05  4.21e+05  6.21e+05\n",
       "All                 4.60e+07  1.24e+08  1.70e+08"
      ]
     },
     "execution_count": 11,
     "metadata": {},
     "output_type": "execute_result"
    }
   ],
   "source": [
    "df.pivot_table(index='nu18_4plus_01adult', columns='has_wages', \n",
    "               values='s006', aggfunc=sum, margins=True)"
   ]
  },
  {
   "cell_type": "code",
   "execution_count": 12,
   "metadata": {},
   "outputs": [],
   "source": [
    "s006_share_wages = (\n",
    "    df[df.has_wages & df.nu18_4plus_01adult].s006.sum() / \n",
    "    df[df.has_wages].s006.sum())\n",
    "s006_share_no_wages = (\n",
    "    df[~df.has_wages & df.nu18_4plus_01adult].s006.sum() / \n",
    "    df[~df.has_wages].s006.sum())\n",
    "s006_share = df[df.nu18_4plus_01adult].s006.sum() / df.s006.sum()"
   ]
  },
  {
   "cell_type": "code",
   "execution_count": 13,
   "metadata": {},
   "outputs": [
    {
     "name": "stdout",
     "output_type": "stream",
     "text": [
      "The share of tax units with 0-1 adults and 4+ children is 0.4%: 0.3% of tax units with wages and 0.4% of tax units with no wages.\n"
     ]
    }
   ],
   "source": [
    "print('The share of tax units with 0-1 adults and 4+ children ' + \n",
    "      'is {:.1f}%'.format(s006_share * 100) +\n",
    "      ': {:.1f}% of tax units with wages'.format(s006_share_wages * 100) +\n",
    "      ' and {:.1f}% of tax units with no wages.'.format(\n",
    "          s006_share_no_wages * 100))"
   ]
  }
 ],
 "metadata": {
  "kernelspec": {
   "display_name": "Python 3",
   "language": "python",
   "name": "python3"
  },
  "language_info": {
   "codemirror_mode": {
    "name": "ipython",
    "version": 3
   },
   "file_extension": ".py",
   "mimetype": "text/x-python",
   "name": "python",
   "nbconvert_exporter": "python",
   "pygments_lexer": "ipython3",
   "version": "3.6.5"
  },
  "toc": {
   "base_numbering": 1,
   "nav_menu": {},
   "number_sections": true,
   "sideBar": true,
   "skip_h1_title": false,
   "title_cell": "Table of Contents",
   "title_sidebar": "Contents",
   "toc_cell": false,
   "toc_position": {},
   "toc_section_display": true,
   "toc_window_display": false
  }
 },
 "nbformat": 4,
 "nbformat_minor": 2
}
