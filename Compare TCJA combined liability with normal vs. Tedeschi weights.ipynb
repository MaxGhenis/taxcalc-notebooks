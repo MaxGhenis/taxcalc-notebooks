{
 "cells": [
  {
   "cell_type": "markdown",
   "metadata": {},
   "source": [
    "Compare House TCJA total change in liability when using default weights vs. those provided by Ernie Tedeschi. \n",
    "\n",
    "Uses behavior file provided by Matt Jensen."
   ]
  },
  {
   "cell_type": "code",
   "execution_count": 1,
   "metadata": {
    "collapsed": true
   },
   "outputs": [],
   "source": [
    "from taxcalc import *\n",
    "from taxcalc.utils import *"
   ]
  },
  {
   "cell_type": "code",
   "execution_count": 2,
   "metadata": {
    "collapsed": true
   },
   "outputs": [],
   "source": [
    "recs_orig = Records.cps_constructor()"
   ]
  },
  {
   "cell_type": "code",
   "execution_count": 3,
   "metadata": {},
   "outputs": [],
   "source": [
    "recs_alt = Records(data=os.path.join(Records.CUR_PATH, 'cps.csv.gz'),\n",
    "                   weights='cps_weights_alt.csv',\n",
    "                   adjust_ratios=None,\n",
    "                   start_year=Records.CPSCSV_YEAR)"
   ]
  },
  {
   "cell_type": "code",
   "execution_count": 4,
   "metadata": {
    "collapsed": true
   },
   "outputs": [],
   "source": [
    "reform = Calculator.read_json_param_objects('TCJA_House_Amended.json',\n",
    "                                            'JCT_Behavior.json')\n",
    "pol = Policy()\n",
    "pol.implement_reform(reform['policy'])\n",
    "con = Consumption()\n",
    "con.update_consumption(reform['consumption'])\n",
    "beh = Behavior()\n",
    "beh.update_behavior(reform['behavior'])"
   ]
  },
  {
   "cell_type": "code",
   "execution_count": 5,
   "metadata": {},
   "outputs": [],
   "source": [
    "def total_combined_liability(calc):\n",
    "    # combined is combined tax liability while s006 is weight.\n",
    "    return (calc.records.combined * calc.records.s006).sum()"
   ]
  },
  {
   "cell_type": "code",
   "execution_count": 6,
   "metadata": {
    "collapsed": true
   },
   "outputs": [],
   "source": [
    "def print_combined_liability(baseline_calc, reform_calc):\n",
    "    # Calculate and print liabilities.\n",
    "    baseline = total_combined_liability(baseline_calc)\n",
    "    reformed = total_combined_liability(reform_calc)\n",
    "    diff = reformed - baseline\n",
    "    print ('Combined Liability - Baseline: {:0.2f}'.format(baseline))\n",
    "    print ('Combined Liability - Reform: {:>18.2f}'.format(reformed))\n",
    "    print ('-' * 47)\n",
    "    print ('Difference: {:35.2f}'.format(diff))"
   ]
  },
  {
   "cell_type": "code",
   "execution_count": 7,
   "metadata": {},
   "outputs": [
    {
     "name": "stdout",
     "output_type": "stream",
     "text": [
      "You loaded data for 2014.\n",
      "Tax-Calculator startup automatically extrapolated your data to 2014.\n",
      "You loaded data for 2014.\n",
      "Tax-Calculator startup automatically extrapolated your data to 2014.\n",
      "Combined Liability - Baseline: 2521070511449.64\n",
      "Combined Liability - Reform:   2458101656483.74\n",
      "-----------------------------------------------\n",
      "Difference:                     -62968854965.90\n"
     ]
    }
   ],
   "source": [
    "calc_orig = Calculator(records=recs_orig, policy=Policy())\n",
    "calc_orig.advance_to_year(2018)\n",
    "calc_orig.calc_all()\n",
    "calc_orig_reform = Calculator(records=recs_orig, policy=pol,\n",
    "                              consumption=con, behavior=beh)\n",
    "calc_orig_reform.advance_to_year(2018)\n",
    "calc_orig_response = Behavior.response(calc_orig, calc_orig_reform)\n",
    "print_combined_liability(calc_orig, calc_orig_response)"
   ]
  },
  {
   "cell_type": "code",
   "execution_count": 8,
   "metadata": {},
   "outputs": [
    {
     "name": "stdout",
     "output_type": "stream",
     "text": [
      "You loaded data for 2014.\n",
      "Tax-Calculator startup automatically extrapolated your data to 2014.\n",
      "You loaded data for 2014.\n",
      "Tax-Calculator startup automatically extrapolated your data to 2014.\n",
      "Combined Liability - Baseline: 2718451561189.63\n",
      "Combined Liability - Reform:   2656473608389.99\n",
      "-----------------------------------------------\n",
      "Difference:                     -61977952799.63\n"
     ]
    }
   ],
   "source": [
    "calc_alt = Calculator(records=recs_alt, policy=Policy())\n",
    "calc_alt.advance_to_year(2018)\n",
    "calc_alt.calc_all()\n",
    "calc_alt_reform = Calculator(records=recs_alt, policy=pol,\n",
    "                              consumption=con, behavior=beh)\n",
    "calc_alt_reform.advance_to_year(2018)\n",
    "calc_alt_response = Behavior.response(calc_alt, calc_alt_reform)\n",
    "print_combined_liability(calc_alt, calc_alt_response)"
   ]
  }
 ],
 "metadata": {
  "kernelspec": {
   "display_name": "Python 2",
   "language": "python",
   "name": "python2"
  },
  "language_info": {
   "codemirror_mode": {
    "name": "ipython",
    "version": 2
   },
   "file_extension": ".py",
   "mimetype": "text/x-python",
   "name": "python",
   "nbconvert_exporter": "python",
   "pygments_lexer": "ipython2",
   "version": "2.7.14"
  }
 },
 "nbformat": 4,
 "nbformat_minor": 2
}
