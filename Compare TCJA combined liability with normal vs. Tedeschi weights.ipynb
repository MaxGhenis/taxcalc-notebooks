{
 "cells": [
  {
   "cell_type": "markdown",
   "metadata": {},
   "source": [
    "Compare House TCJA total change in liability when using default weights vs. those provided by Ernie Tedeschi. \n",
    "\n",
    "Uses behavior file provided by Matt Jensen."
   ]
  },
  {
   "cell_type": "code",
   "execution_count": 1,
   "metadata": {
    "collapsed": true
   },
   "outputs": [],
   "source": [
    "from taxcalc import *\n",
    "from taxcalc.utils import *"
   ]
  },
  {
   "cell_type": "code",
   "execution_count": 2,
   "metadata": {},
   "outputs": [],
   "source": [
    "# Load Ernie Tedeschi's weights file.\n",
    "tedeschi_weights = pd.read_csv('~/cps_weights_2026.csv')"
   ]
  },
  {
   "cell_type": "code",
   "execution_count": 98,
   "metadata": {},
   "outputs": [
    {
     "data": {
      "text/plain": [
       "912930"
      ]
     },
     "execution_count": 98,
     "metadata": {},
     "output_type": "execute_result"
    }
   ],
   "source": [
    "tedeschi_weights.size"
   ]
  },
  {
   "cell_type": "code",
   "execution_count": 67,
   "metadata": {
    "collapsed": true
   },
   "outputs": [],
   "source": [
    "def print_total_weight(v, msg):\n",
    "    print 'Total record weight [' + msg + ']: {:0.2f}'.format(v.sum())"
   ]
  },
  {
   "cell_type": "markdown",
   "metadata": {},
   "source": [
    "What the total record weight should be."
   ]
  },
  {
   "cell_type": "code",
   "execution_count": 70,
   "metadata": {},
   "outputs": [
    {
     "name": "stdout",
     "output_type": "stream",
     "text": [
      "Total record weight [Records raw]: 163195770.40\n",
      "Total record weight [Tedeschi raw]: 191164588.00\n"
     ]
    }
   ],
   "source": [
    "print_total_weight(Records.cps_constructor().s006, 'Records raw')\n",
    "print_total_weight(tedeschi_weights.s006, 'Tedeschi raw')"
   ]
  },
  {
   "cell_type": "code",
   "execution_count": 33,
   "metadata": {},
   "outputs": [],
   "source": [
    "def total_combined_liability(calc):\n",
    "    # combined is combined tax liability while s006 is weight.\n",
    "    return (calc.records.combined * calc.records.s006).sum()"
   ]
  },
  {
   "cell_type": "code",
   "execution_count": 34,
   "metadata": {
    "collapsed": true
   },
   "outputs": [],
   "source": [
    "def print_combined_liability(baseline_calc, reform_calc):\n",
    "    # Calculate and print liabilities.\n",
    "    baseline = total_combined_liability(baseline_calc)\n",
    "    reformed = total_combined_liability(reform_calc)\n",
    "    diff = reformed - baseline\n",
    "    print ('Combined Liability - Baseline: {:0.2f}'.format(baseline))\n",
    "    print ('Combined Liability - Reform: {:>18.2f}'.format(reformed))\n",
    "    print ('-' * 47)\n",
    "    print ('Difference: {:35.2f}'.format(diff))"
   ]
  },
  {
   "cell_type": "code",
   "execution_count": 92,
   "metadata": {
    "collapsed": true
   },
   "outputs": [],
   "source": [
    "def test(replace_records_tedeschi_weights,\n",
    "         replace_calc_tedeschi_weights,\n",
    "         replace_calc_tedeschi_weights_after_advance_to_year):\n",
    "    # Initiate baseline calculator and replace weights as needed.\n",
    "    recs = Records.cps_constructor()\n",
    "    if (replace_records_tedeschi_weights):\n",
    "        recs.s006 = tedeschi_weights.s006\n",
    "    print_total_weight(recs.s006, 'recs after setting record weight')\n",
    "    calc = Calculator(records=recs, policy=Policy())\n",
    "    print_total_weight(calc.records.s006, 'calc after creation')\n",
    "    if (replace_calc_tedeschi_weights):\n",
    "        calc.records.s006 = tedeschi_weights.s006\n",
    "    print_total_weight(calc.records.s006, 'calc after setting calc weight')\n",
    "    # Advance and calculate.\n",
    "    calc.advance_to_year(2018)\n",
    "    if (replace_calc_tedeschi_weights_after_advance_to_year):\n",
    "        calc.records.s006 = tedeschi_weights.s006\n",
    "    print_total_weight(calc.records.s006, 'calc after advance_to_year')\n",
    "    calc.calc_all()\n",
    "    print_total_weight(calc.records.s006, 'calc after calc_all')\n",
    "    # Initiate calculator to apply reforms to\n",
    "    reform = Calculator.read_json_param_objects('TCJA_House_Amended.json',\n",
    "                                                'JCT_Behavior.json')\n",
    "    pol = Policy()\n",
    "    pol.implement_reform(reform['policy'])\n",
    "    con = Consumption()\n",
    "    con.update_consumption(reform['consumption'])\n",
    "    beh = Behavior()\n",
    "    beh.update_behavior(reform['behavior'])\n",
    "    calc_x = Calculator(records=recs, policy=pol,\n",
    "                        consumption=con, behavior=beh)\n",
    "    print_total_weight(calc_x.records.s006, 'calc_x after creation')\n",
    "    if (replace_calc_tedeschi_weights):\n",
    "        calc_x.s006 = tedeschi_weights.s006\n",
    "    calc_x.advance_to_year(2018)\n",
    "    if (replace_calc_tedeschi_weights_after_advance_to_year):\n",
    "        calc_x.records.s006 = tedeschi_weights.s006\n",
    "    print_total_weight(calc_x.records.s006, 'calc_x after advance_to_year')\n",
    "    calc_response = Behavior.response(calc, calc_x)\n",
    "    print_total_weight(calc_response.records.s006, \n",
    "                       'calc_response after creation')\n",
    "    print_combined_liability(calc, calc_response)"
   ]
  },
  {
   "cell_type": "code",
   "execution_count": 93,
   "metadata": {},
   "outputs": [
    {
     "name": "stdout",
     "output_type": "stream",
     "text": [
      "Total record weight [recs after setting record weight]: 191164588.00\n",
      "You loaded data for 2014.\n",
      "Tax-Calculator startup automatically extrapolated your data to 2014.\n",
      "Total record weight [calc after creation]: 191164588.00\n",
      "Total record weight [calc after setting calc weight]: 191164588.00\n",
      "Total record weight [calc after advance_to_year]: 169894839.66\n",
      "Total record weight [calc after calc_all]: 169894839.66\n",
      "You loaded data for 2014.\n",
      "Tax-Calculator startup automatically extrapolated your data to 2014.\n",
      "Total record weight [calc_x after creation]: 191164588.00\n",
      "Total record weight [calc_x after advance_to_year]: 169894839.66\n",
      "Total record weight [calc_response after creation]: 169894839.66\n",
      "Combined Liability - Baseline: 2521070511449.64\n",
      "Combined Liability - Reform:   2458101656483.74\n",
      "-----------------------------------------------\n",
      "Difference:                     -62968854965.90\n"
     ]
    }
   ],
   "source": [
    "test(replace_records_tedeschi_weights = True,\n",
    "     replace_calc_tedeschi_weights = True,\n",
    "     replace_calc_tedeschi_weights_after_advance_to_year = False)"
   ]
  },
  {
   "cell_type": "code",
   "execution_count": 94,
   "metadata": {},
   "outputs": [
    {
     "name": "stdout",
     "output_type": "stream",
     "text": [
      "Total record weight [recs after setting record weight]: 191164588.00\n",
      "You loaded data for 2014.\n",
      "Tax-Calculator startup automatically extrapolated your data to 2014.\n",
      "Total record weight [calc after creation]: 191164588.00\n",
      "Total record weight [calc after setting calc weight]: 191164588.00\n",
      "Total record weight [calc after advance_to_year]: 191164588.00\n",
      "Total record weight [calc after calc_all]: 191164588.00\n",
      "You loaded data for 2014.\n",
      "Tax-Calculator startup automatically extrapolated your data to 2014.\n",
      "Total record weight [calc_x after creation]: 191164588.00\n",
      "Total record weight [calc_x after advance_to_year]: 191164588.00\n",
      "Total record weight [calc_response after creation]: 191164588.00\n",
      "Combined Liability - Baseline: 7458477789103.90\n",
      "Combined Liability - Reform:   7412113754574.96\n",
      "-----------------------------------------------\n",
      "Difference:                     -46364034528.94\n"
     ]
    }
   ],
   "source": [
    "test(replace_records_tedeschi_weights = True,\n",
    "     replace_calc_tedeschi_weights = True,\n",
    "     replace_calc_tedeschi_weights_after_advance_to_year = True)"
   ]
  },
  {
   "cell_type": "code",
   "execution_count": 95,
   "metadata": {},
   "outputs": [
    {
     "name": "stdout",
     "output_type": "stream",
     "text": [
      "Total record weight [recs after setting record weight]: 163195770.40\n",
      "You loaded data for 2014.\n",
      "Tax-Calculator startup automatically extrapolated your data to 2014.\n",
      "Total record weight [calc after creation]: 163195770.40\n",
      "Total record weight [calc after setting calc weight]: 163195770.40\n",
      "Total record weight [calc after advance_to_year]: 169894839.66\n",
      "Total record weight [calc after calc_all]: 169894839.66\n",
      "You loaded data for 2014.\n",
      "Tax-Calculator startup automatically extrapolated your data to 2014.\n",
      "Total record weight [calc_x after creation]: 163195770.40\n",
      "Total record weight [calc_x after advance_to_year]: 169894839.66\n",
      "Total record weight [calc_response after creation]: 169894839.66\n",
      "Combined Liability - Baseline: 2521070511449.64\n",
      "Combined Liability - Reform:   2458101656483.74\n",
      "-----------------------------------------------\n",
      "Difference:                     -62968854965.90\n"
     ]
    }
   ],
   "source": [
    "test(replace_records_tedeschi_weights = False,\n",
    "     replace_calc_tedeschi_weights = False,\n",
    "     replace_calc_tedeschi_weights_after_advance_to_year = False)"
   ]
  }
 ],
 "metadata": {
  "kernelspec": {
   "display_name": "Python 2",
   "language": "python",
   "name": "python2"
  },
  "language_info": {
   "codemirror_mode": {
    "name": "ipython",
    "version": 2
   },
   "file_extension": ".py",
   "mimetype": "text/x-python",
   "name": "python",
   "nbconvert_exporter": "python",
   "pygments_lexer": "ipython2",
   "version": "2.7.14"
  }
 },
 "nbformat": 4,
 "nbformat_minor": 2
}
