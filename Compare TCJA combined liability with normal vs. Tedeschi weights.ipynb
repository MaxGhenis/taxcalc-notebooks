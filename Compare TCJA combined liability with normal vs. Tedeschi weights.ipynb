{
 "cells": [
  {
   "cell_type": "markdown",
   "metadata": {},
   "source": [
    "Compare House TCJA total change in liability when using default weights vs. those provided by Ernie Tedeschi. \n",
    "\n",
    "Uses behavior file provided by Matt Jensen."
   ]
  },
  {
   "cell_type": "code",
   "execution_count": 4,
   "metadata": {
    "collapsed": true
   },
   "outputs": [],
   "source": [
    "import taxcalc as tc\n",
    "#from taxcalc.utils import *"
   ]
  },
  {
   "cell_type": "code",
   "execution_count": 5,
   "metadata": {},
   "outputs": [
    {
     "name": "stdout",
     "output_type": "stream",
     "text": [
      "0.14.3\n"
     ]
    }
   ],
   "source": [
    "print tc.__version__"
   ]
  },
  {
   "cell_type": "code",
   "execution_count": 2,
   "metadata": {
    "collapsed": true
   },
   "outputs": [],
   "source": [
    "recs_orig = tc.Records.cps_constructor()"
   ]
  },
  {
   "cell_type": "code",
   "execution_count": 6,
   "metadata": {
    "collapsed": true
   },
   "outputs": [],
   "source": [
    "recs_alt = tc.Records(data=os.path.join(tc.Records.CUR_PATH, 'cps.csv.gz'),\n",
    "                      weights='cps_weights_alt.csv',\n",
    "                      adjust_ratios=None,\n",
    "                      start_year=tc.Records.CPSCSV_YEAR)"
   ]
  },
  {
   "cell_type": "code",
   "execution_count": 7,
   "metadata": {},
   "outputs": [
    {
     "ename": "ValueError",
     "evalue": "Economic assumption text below contains invalid JSON:\nNo JSON object could be decoded\nAbove location of the first error may be approximate.\nThe invalid JSON asssump text is between the lines:\nXX----.----1----.----2----.----3----.----4----.----5----.----6----.----7\n01JCT_Behavior.json\nXX----.----1----.----2----.----3----.----4----.----5----.----6----.----7\n",
     "output_type": "error",
     "traceback": [
      "\u001b[0;31m---------------------------------------------------------------------------\u001b[0m",
      "\u001b[0;31mValueError\u001b[0m                                Traceback (most recent call last)",
      "\u001b[0;32m<ipython-input-7-1bb233636fb3>\u001b[0m in \u001b[0;36m<module>\u001b[0;34m()\u001b[0m\n\u001b[1;32m      1\u001b[0m reform = tc.Calculator.read_json_param_objects('TCJA_House_Amended.json',\n\u001b[0;32m----> 2\u001b[0;31m                                                'JCT_Behavior.json')\n\u001b[0m\u001b[1;32m      3\u001b[0m \u001b[0mpol\u001b[0m \u001b[0;34m=\u001b[0m \u001b[0mtc\u001b[0m\u001b[0;34m.\u001b[0m\u001b[0mPolicy\u001b[0m\u001b[0;34m(\u001b[0m\u001b[0;34m)\u001b[0m\u001b[0;34m\u001b[0m\u001b[0m\n\u001b[1;32m      4\u001b[0m \u001b[0mpol\u001b[0m\u001b[0;34m.\u001b[0m\u001b[0mimplement_reform\u001b[0m\u001b[0;34m(\u001b[0m\u001b[0mreform\u001b[0m\u001b[0;34m[\u001b[0m\u001b[0;34m'policy'\u001b[0m\u001b[0;34m]\u001b[0m\u001b[0;34m)\u001b[0m\u001b[0;34m\u001b[0m\u001b[0m\n\u001b[1;32m      5\u001b[0m \u001b[0mcon\u001b[0m \u001b[0;34m=\u001b[0m \u001b[0mtc\u001b[0m\u001b[0;34m.\u001b[0m\u001b[0mConsumption\u001b[0m\u001b[0;34m(\u001b[0m\u001b[0;34m)\u001b[0m\u001b[0;34m\u001b[0m\u001b[0m\n",
      "\u001b[0;32m/usr/local/google/home/mghenis/miniconda2/lib/python2.7/site-packages/taxcalc/calculate.pyc\u001b[0m in \u001b[0;36mread_json_param_objects\u001b[0;34m(reform, assump)\u001b[0m\n\u001b[1;32m    920\u001b[0m              \u001b[0mbehv_dict\u001b[0m\u001b[0;34m,\u001b[0m\u001b[0;34m\u001b[0m\u001b[0m\n\u001b[1;32m    921\u001b[0m              \u001b[0mgdiff_base_dict\u001b[0m\u001b[0;34m,\u001b[0m\u001b[0;34m\u001b[0m\u001b[0m\n\u001b[0;32m--> 922\u001b[0;31m              gdiff_resp_dict) = Calculator._read_json_econ_assump_text(txt)\n\u001b[0m\u001b[1;32m    923\u001b[0m         \u001b[0;32melse\u001b[0m\u001b[0;34m:\u001b[0m\u001b[0;34m\u001b[0m\u001b[0m\n\u001b[1;32m    924\u001b[0m             \u001b[0;32mraise\u001b[0m \u001b[0mValueError\u001b[0m\u001b[0;34m(\u001b[0m\u001b[0;34m'assump is neither None nor string'\u001b[0m\u001b[0;34m)\u001b[0m\u001b[0;34m\u001b[0m\u001b[0m\n",
      "\u001b[0;32m/usr/local/google/home/mghenis/miniconda2/lib/python2.7/site-packages/taxcalc/calculate.pyc\u001b[0m in \u001b[0;36m_read_json_econ_assump_text\u001b[0;34m(text_string)\u001b[0m\n\u001b[1;32m   1328\u001b[0m                 \u001b[0mmsg\u001b[0m \u001b[0;34m+=\u001b[0m \u001b[0;34m'{:02d}{}'\u001b[0m\u001b[0;34m.\u001b[0m\u001b[0mformat\u001b[0m\u001b[0;34m(\u001b[0m\u001b[0mlinenum\u001b[0m\u001b[0;34m,\u001b[0m \u001b[0mline\u001b[0m\u001b[0;34m)\u001b[0m \u001b[0;34m+\u001b[0m \u001b[0;34m'\\n'\u001b[0m\u001b[0;34m\u001b[0m\u001b[0m\n\u001b[1;32m   1329\u001b[0m             \u001b[0mmsg\u001b[0m \u001b[0;34m+=\u001b[0m \u001b[0mbline\u001b[0m \u001b[0;34m+\u001b[0m \u001b[0;34m'\\n'\u001b[0m\u001b[0;34m\u001b[0m\u001b[0m\n\u001b[0;32m-> 1330\u001b[0;31m             \u001b[0;32mraise\u001b[0m \u001b[0mValueError\u001b[0m\u001b[0;34m(\u001b[0m\u001b[0mmsg\u001b[0m\u001b[0;34m)\u001b[0m\u001b[0;34m\u001b[0m\u001b[0m\n\u001b[0m\u001b[1;32m   1331\u001b[0m         \u001b[0;31m# check key contents of dictionary\u001b[0m\u001b[0;34m\u001b[0m\u001b[0;34m\u001b[0m\u001b[0m\n\u001b[1;32m   1332\u001b[0m         \u001b[0mactual_keys\u001b[0m \u001b[0;34m=\u001b[0m \u001b[0mraw_dict\u001b[0m\u001b[0;34m.\u001b[0m\u001b[0mkeys\u001b[0m\u001b[0;34m(\u001b[0m\u001b[0;34m)\u001b[0m\u001b[0;34m\u001b[0m\u001b[0m\n",
      "\u001b[0;31mValueError\u001b[0m: Economic assumption text below contains invalid JSON:\nNo JSON object could be decoded\nAbove location of the first error may be approximate.\nThe invalid JSON asssump text is between the lines:\nXX----.----1----.----2----.----3----.----4----.----5----.----6----.----7\n01JCT_Behavior.json\nXX----.----1----.----2----.----3----.----4----.----5----.----6----.----7\n"
     ]
    }
   ],
   "source": [
    "reform = tc.Calculator.read_json_param_objects('TCJA_House_Amended.json',\n",
    "                                               'JCT_Behavior.json')\n",
    "pol = tc.Policy()\n",
    "pol.implement_reform(reform['policy'])\n",
    "con = tc.Consumption()\n",
    "con.update_consumption(reform['consumption'])\n",
    "beh = tc.Behavior()\n",
    "beh.update_behavior(reform['behavior'])"
   ]
  },
  {
   "cell_type": "code",
   "execution_count": 5,
   "metadata": {
    "collapsed": true
   },
   "outputs": [],
   "source": [
    "def total_combined_liability(calc):\n",
    "    # combined is combined tax liability while s006 is weight.\n",
    "    return (calc.records.combined * calc.records.s006).sum()"
   ]
  },
  {
   "cell_type": "code",
   "execution_count": 6,
   "metadata": {
    "collapsed": true
   },
   "outputs": [],
   "source": [
    "def print_combined_liability(baseline_calc, reform_calc):\n",
    "    # Calculate and print liabilities.\n",
    "    baseline = total_combined_liability(baseline_calc)\n",
    "    reformed = total_combined_liability(reform_calc)\n",
    "    diff = reformed - baseline\n",
    "    print ('Combined Liability - Baseline: {:0.2f}'.format(baseline))\n",
    "    print ('Combined Liability - Reform: {:>18.2f}'.format(reformed))\n",
    "    print ('-' * 47)\n",
    "    print ('Difference: {:35.2f}'.format(diff))"
   ]
  },
  {
   "cell_type": "code",
   "execution_count": 7,
   "metadata": {},
   "outputs": [
    {
     "name": "stdout",
     "output_type": "stream",
     "text": [
      "You loaded data for 2014.\n",
      "Tax-Calculator startup automatically extrapolated your data to 2014.\n",
      "You loaded data for 2014.\n",
      "Tax-Calculator startup automatically extrapolated your data to 2014.\n",
      "Combined Liability - Baseline: 2521070511449.64\n",
      "Combined Liability - Reform:   2458101656483.74\n",
      "-----------------------------------------------\n",
      "Difference:                     -62968854965.90\n"
     ]
    }
   ],
   "source": [
    "calc_orig = Calculator(records=recs_orig, policy=Policy())\n",
    "calc_orig.advance_to_year(2018)\n",
    "calc_orig.calc_all()\n",
    "calc_orig_reform = Calculator(records=recs_orig, policy=pol,\n",
    "                              consumption=con, behavior=beh)\n",
    "calc_orig_reform.advance_to_year(2018)\n",
    "calc_orig_response = Behavior.response(calc_orig, calc_orig_reform)\n",
    "print_combined_liability(calc_orig, calc_orig_response)"
   ]
  },
  {
   "cell_type": "code",
   "execution_count": 8,
   "metadata": {},
   "outputs": [
    {
     "name": "stdout",
     "output_type": "stream",
     "text": [
      "You loaded data for 2014.\n",
      "Tax-Calculator startup automatically extrapolated your data to 2014.\n",
      "You loaded data for 2014.\n",
      "Tax-Calculator startup automatically extrapolated your data to 2014.\n",
      "Combined Liability - Baseline: 2718451561189.63\n",
      "Combined Liability - Reform:   2656473608389.99\n",
      "-----------------------------------------------\n",
      "Difference:                     -61977952799.63\n"
     ]
    }
   ],
   "source": [
    "calc_alt = Calculator(records=recs_alt, policy=Policy())\n",
    "calc_alt.advance_to_year(2018)\n",
    "calc_alt.calc_all()\n",
    "calc_alt_reform = Calculator(records=recs_alt, policy=pol,\n",
    "                              consumption=con, behavior=beh)\n",
    "calc_alt_reform.advance_to_year(2018)\n",
    "calc_alt_response = Behavior.response(calc_alt, calc_alt_reform)\n",
    "print_combined_liability(calc_alt, calc_alt_response)"
   ]
  }
 ],
 "metadata": {
  "kernelspec": {
   "display_name": "Python 2",
   "language": "python",
   "name": "python2"
  },
  "language_info": {
   "codemirror_mode": {
    "name": "ipython",
    "version": 2
   },
   "file_extension": ".py",
   "mimetype": "text/x-python",
   "name": "python",
   "nbconvert_exporter": "python",
   "pygments_lexer": "ipython2",
   "version": "2.7.14"
  }
 },
 "nbformat": 4,
 "nbformat_minor": 2
}
