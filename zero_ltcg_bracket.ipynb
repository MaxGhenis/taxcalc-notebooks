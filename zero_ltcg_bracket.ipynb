{
  "nbformat": 4,
  "nbformat_minor": 0,
  "metadata": {
    "colab": {
      "name": "zero_ltcg_bracket.ipynb",
      "provenance": [],
      "include_colab_link": true
    },
    "kernelspec": {
      "name": "python3",
      "display_name": "Python 3"
    }
  },
  "cells": [
    {
      "cell_type": "markdown",
      "metadata": {
        "id": "view-in-github",
        "colab_type": "text"
      },
      "source": [
        "<a href=\"https://colab.research.google.com/github/MaxGhenis/taxcalc-notebooks/blob/master/zero_ltcg_bracket.ipynb\" target=\"_parent\"><img src=\"https://colab.research.google.com/assets/colab-badge.svg\" alt=\"Open In Colab\"/></a>"
      ]
    },
    {
      "cell_type": "markdown",
      "metadata": {
        "id": "ILT5RSEet0tR",
        "colab_type": "text"
      },
      "source": [
        "# Zero long-term capital gains bracket\n",
        "\n",
        "Several \n",
        "\n",
        "https://quarryhilladvisors.com/blog/can-capital-gains-push-me-into-a-higher-tax-bracket says:\n",
        ">Starting in 2018 and until (at least) 2025, the long-term capital gains tax is 0% if the seller is roughly in the 12% ordinary income tax bracket (married couples with a combined salary of \\$78,750 or single filers with an income of \\$39,375).\n",
        "\n",
        "This evaluates how tax liabilities change for single tax units with low ordinary income, depending on the amount of long-term capital gains realized.\n"
      ]
    },
    {
      "cell_type": "markdown",
      "metadata": {
        "id": "vFTm_0RqwxW_",
        "colab_type": "text"
      },
      "source": [
        "## Setup"
      ]
    },
    {
      "cell_type": "code",
      "metadata": {
        "id": "d9HoCi9u4L1I",
        "colab_type": "code",
        "colab": {}
      },
      "source": [
        "import sys\n",
        "!pip install matplotlib-label-lines\n",
        "if 'microdf' not in sys.modules:\n",
        "    !pip install git+git://github.com/maxghenis/microdf.git\n",
        "if 'taxcalc' not in sys.modules:\n",
        "    !pip install git+git://github.com/PSLmodels/Tax-Calculator.git"
      ],
      "execution_count": 0,
      "outputs": []
    },
    {
      "cell_type": "code",
      "metadata": {
        "id": "LRSD1C_cwyIQ",
        "colab_type": "code",
        "colab": {}
      },
      "source": [
        "import pandas as pd\n",
        "import numpy as np\n",
        "import microdf as mdf\n",
        "import taxcalc as tc\n",
        "import itertools"
      ],
      "execution_count": 0,
      "outputs": []
    },
    {
      "cell_type": "markdown",
      "metadata": {
        "id": "dZQrV2nmdk6u",
        "colab_type": "text"
      },
      "source": [
        "## Analysis"
      ]
    },
    {
      "cell_type": "code",
      "metadata": {
        "id": "vHLitX0aK6lO",
        "colab_type": "code",
        "colab": {}
      },
      "source": [
        "def cartesian_product(d):\n",
        "    index = pd.MultiIndex.from_product(d.values(), names=d.keys())\n",
        "    return pd.DataFrame(index=index).reset_index()"
      ],
      "execution_count": 0,
      "outputs": []
    },
    {
      "cell_type": "code",
      "metadata": {
        "id": "8cLWdrpVEwSW",
        "colab_type": "code",
        "colab": {}
      },
      "source": [
        "# Wages, salaries, and tips for taxpayer net of pension contributions\n",
        "e00200p = np.arange(0, 50001, 10000)\n",
        "# Net long-term capital gains/losses\n",
        "p23250 = np.arange(0, 100001, 1000)"
      ],
      "execution_count": 0,
      "outputs": []
    },
    {
      "cell_type": "code",
      "metadata": {
        "id": "X0fSlnPUKfdF",
        "colab_type": "code",
        "colab": {}
      },
      "source": [
        "d = {'e00200p': e00200p, \n",
        "     'p23250': p23250}"
      ],
      "execution_count": 0,
      "outputs": []
    },
    {
      "cell_type": "code",
      "metadata": {
        "id": "wTnOdSiHGB76",
        "colab_type": "code",
        "colab": {}
      },
      "source": [
        "data = cartesian_product(d)"
      ],
      "execution_count": 0,
      "outputs": []
    },
    {
      "cell_type": "code",
      "metadata": {
        "id": "il3xyvJZGWyb",
        "colab_type": "code",
        "colab": {}
      },
      "source": [
        "data['RECID'] = data.index + 1\n",
        "data['MARS'] = 1  # Single.\n",
        "data['e00200'] = data.e00200p  # Asserts e00200 == e00200p + e00200s."
      ],
      "execution_count": 0,
      "outputs": []
    },
    {
      "cell_type": "code",
      "metadata": {
        "id": "i6NMMv2KCotd",
        "colab_type": "code",
        "colab": {}
      },
      "source": [
        "recs = tc.Records(data=data, start_year=2019)"
      ],
      "execution_count": 0,
      "outputs": []
    },
    {
      "cell_type": "code",
      "metadata": {
        "id": "ehEf8WRUBMhu",
        "colab_type": "code",
        "colab": {}
      },
      "source": [
        "df = mdf.calc_df(records=recs, group_vars=['e00200p', 'p23250'])"
      ],
      "execution_count": 0,
      "outputs": []
    },
    {
      "cell_type": "code",
      "metadata": {
        "id": "Nf1vYS8mDQld",
        "colab_type": "code",
        "colab": {
          "base_uri": "https://localhost:8080/",
          "height": 300
        },
        "outputId": "48287af9-f8c2-46b1-acca-2090a81a8624"
      },
      "source": [
        "df[df.e00200p == 0][['p23250', 'tax']].set_index('p23250').plot()"
      ],
      "execution_count": 10,
      "outputs": [
        {
          "output_type": "execute_result",
          "data": {
            "text/plain": [
              "<matplotlib.axes._subplots.AxesSubplot at 0x7f8de3f644e0>"
            ]
          },
          "metadata": {
            "tags": []
          },
          "execution_count": 10
        },
        {
          "output_type": "display_data",
          "data": {
            "image/png": "[encoded data removed]",
            "text/plain": [
              "<Figure size 432x288 with 1 Axes>"
            ]
          },
          "metadata": {
            "tags": []
          }
        }
      ]
    },
    {
      "cell_type": "code",
      "metadata": {
        "id": "_Xkh7NlQHsXC",
        "colab_type": "code",
        "colab": {
          "base_uri": "https://localhost:8080/",
          "height": 300
        },
        "outputId": "d0d07229-a11b-4a44-918e-6ec3f10fbd51"
      },
      "source": [
        "df[df.e00200p == 30000][['p23250', 'tax']].set_index('p23250').plot()"
      ],
      "execution_count": 11,
      "outputs": [
        {
          "output_type": "execute_result",
          "data": {
            "text/plain": [
              "<matplotlib.axes._subplots.AxesSubplot at 0x7f8de2498a20>"
            ]
          },
          "metadata": {
            "tags": []
          },
          "execution_count": 11
        },
        {
          "output_type": "display_data",
          "data": {
            "image/png": "[encoded data removed]",
            "text/plain": [
              "<Figure size 432x288 with 1 Axes>"
            ]
          },
          "metadata": {
            "tags": []
          }
        }
      ]
    },
    {
      "cell_type": "code",
      "metadata": {
        "id": "ZLsW3WNAHibq",
        "colab_type": "code",
        "colab": {
          "base_uri": "https://localhost:8080/",
          "height": 140
        },
        "outputId": "49fd9b00-3acc-4c68-c64b-d4e6aaa2a62d"
      },
      "source": [
        "df[(df.e00200p == 30000) & df.p23250.isin([50e3, 51e3])][['p23250', 'tax']]"
      ],
      "execution_count": 12,
      "outputs": [
        {
          "output_type": "execute_result",
          "data": {
            "text/html": [
              "<div>\n",
              "<style scoped>\n",
              "    .dataframe tbody tr th:only-of-type {\n",
              "        vertical-align: middle;\n",
              "    }\n",
              "\n",
              "    .dataframe tbody tr th {\n",
              "        vertical-align: top;\n",
              "    }\n",
              "\n",
              "    .dataframe thead th {\n",
              "        text-align: right;\n",
              "    }\n",
              "</style>\n",
              "<table border=\"1\" class=\"dataframe\">\n",
              "  <thead>\n",
              "    <tr style=\"text-align: right;\">\n",
              "      <th></th>\n",
              "      <th>p23250</th>\n",
              "      <th>tax</th>\n",
              "    </tr>\n",
              "    <tr>\n",
              "      <th>RECID</th>\n",
              "      <th></th>\n",
              "      <th></th>\n",
              "    </tr>\n",
              "  </thead>\n",
              "  <tbody>\n",
              "    <tr>\n",
              "      <th>354</th>\n",
              "      <td>50000.0</td>\n",
              "      <td>10762.9608</td>\n",
              "    </tr>\n",
              "    <tr>\n",
              "      <th>355</th>\n",
              "      <td>51000.0</td>\n",
              "      <td>10912.9608</td>\n",
              "    </tr>\n",
              "  </tbody>\n",
              "</table>\n",
              "</div>"
            ],
            "text/plain": [
              "        p23250         tax\n",
              "RECID                     \n",
              "354    50000.0  10762.9608\n",
              "355    51000.0  10912.9608"
            ]
          },
          "metadata": {
            "tags": []
          },
          "execution_count": 12
        }
      ]
    },
    {
      "cell_type": "code",
      "metadata": {
        "id": "dViTsX2kILXR",
        "colab_type": "code",
        "colab": {
          "base_uri": "https://localhost:8080/",
          "height": 140
        },
        "outputId": "1cab5d3b-2a4b-44c4-df92-75c1ff520dc9"
      },
      "source": [
        "df[(df.e00200p == 0) & df.p23250.isin([80e3, 81e3])][['p23250', 'tax']]"
      ],
      "execution_count": 13,
      "outputs": [
        {
          "output_type": "execute_result",
          "data": {
            "text/html": [
              "<div>\n",
              "<style scoped>\n",
              "    .dataframe tbody tr th:only-of-type {\n",
              "        vertical-align: middle;\n",
              "    }\n",
              "\n",
              "    .dataframe tbody tr th {\n",
              "        vertical-align: top;\n",
              "    }\n",
              "\n",
              "    .dataframe thead th {\n",
              "        text-align: right;\n",
              "    }\n",
              "</style>\n",
              "<table border=\"1\" class=\"dataframe\">\n",
              "  <thead>\n",
              "    <tr style=\"text-align: right;\">\n",
              "      <th></th>\n",
              "      <th>p23250</th>\n",
              "      <th>tax</th>\n",
              "    </tr>\n",
              "    <tr>\n",
              "      <th>RECID</th>\n",
              "      <th></th>\n",
              "      <th></th>\n",
              "    </tr>\n",
              "  </thead>\n",
              "  <tbody>\n",
              "    <tr>\n",
              "      <th>81</th>\n",
              "      <td>80000.0</td>\n",
              "      <td>4239.984</td>\n",
              "    </tr>\n",
              "    <tr>\n",
              "      <th>82</th>\n",
              "      <td>81000.0</td>\n",
              "      <td>4389.984</td>\n",
              "    </tr>\n",
              "  </tbody>\n",
              "</table>\n",
              "</div>"
            ],
            "text/plain": [
              "        p23250       tax\n",
              "RECID                   \n",
              "81     80000.0  4239.984\n",
              "82     81000.0  4389.984"
            ]
          },
          "metadata": {
            "tags": []
          },
          "execution_count": 13
        }
      ]
    },
    {
      "cell_type": "code",
      "metadata": {
        "id": "HXTHf6POIbd2",
        "colab_type": "code",
        "colab": {
          "base_uri": "https://localhost:8080/",
          "height": 79
        },
        "outputId": "b4a77b46-0eb3-43b8-b675-947a87009c36"
      },
      "source": [
        "df[(df.e00200p == 40000) & df.p23250.isin([290e3, 291e3])][['p23250', 'tax']]"
      ],
      "execution_count": 14,
      "outputs": [
        {
          "output_type": "execute_result",
          "data": {
            "text/html": [
              "<div>\n",
              "<style scoped>\n",
              "    .dataframe tbody tr th:only-of-type {\n",
              "        vertical-align: middle;\n",
              "    }\n",
              "\n",
              "    .dataframe tbody tr th {\n",
              "        vertical-align: top;\n",
              "    }\n",
              "\n",
              "    .dataframe thead th {\n",
              "        text-align: right;\n",
              "    }\n",
              "</style>\n",
              "<table border=\"1\" class=\"dataframe\">\n",
              "  <thead>\n",
              "    <tr style=\"text-align: right;\">\n",
              "      <th></th>\n",
              "      <th>p23250</th>\n",
              "      <th>tax</th>\n",
              "    </tr>\n",
              "    <tr>\n",
              "      <th>RECID</th>\n",
              "      <th></th>\n",
              "      <th></th>\n",
              "    </tr>\n",
              "  </thead>\n",
              "  <tbody>\n",
              "  </tbody>\n",
              "</table>\n",
              "</div>"
            ],
            "text/plain": [
              "Empty DataFrame\n",
              "Columns: [p23250, tax]\n",
              "Index: []"
            ]
          },
          "metadata": {
            "tags": []
          },
          "execution_count": 14
        }
      ]
    }
  ]
}