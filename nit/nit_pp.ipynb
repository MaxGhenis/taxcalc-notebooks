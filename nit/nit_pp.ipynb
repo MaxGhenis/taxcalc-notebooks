{
 "cells": [
  {
   "cell_type": "markdown",
   "metadata": {},
   "source": [
    "# Per-person negative income tax\n",
    "\n",
    "Calculate the per-person negative income tax cost depending on the threshold, given a 50% phase-out and no benefit reductions.\n",
    "\n",
    "*Data: CPS  |  Tax year: 2018  |  Type: Static  |  Author: Max Ghenis*"
   ]
  },
  {
   "cell_type": "markdown",
   "metadata": {},
   "source": [
    "## Setup\n",
    "\n",
    "### Imports"
   ]
  },
  {
   "cell_type": "code",
   "execution_count": 1,
   "metadata": {},
   "outputs": [],
   "source": [
    "import taxcalc as tc\n",
    "import taxcalc_helpers as tch\n",
    "import pandas as pd\n",
    "import numpy as np\n",
    "import matplotlib as mpl\n",
    "import matplotlib.pyplot as plt\n",
    "import seaborn as sns"
   ]
  },
  {
   "cell_type": "code",
   "execution_count": 2,
   "metadata": {},
   "outputs": [
    {
     "data": {
      "text/plain": [
       "'0.20.1'"
      ]
     },
     "execution_count": 2,
     "metadata": {},
     "output_type": "execute_result"
    }
   ],
   "source": [
    "tc.__version__"
   ]
  },
  {
   "cell_type": "markdown",
   "metadata": {},
   "source": [
    "### Settings"
   ]
  },
  {
   "cell_type": "code",
   "execution_count": 3,
   "metadata": {},
   "outputs": [],
   "source": [
    "sns.set_style('white')\n",
    "DPI = 75\n",
    "mpl.rc('savefig', dpi=DPI)\n",
    "mpl.rcParams['figure.dpi'] = DPI\n",
    "mpl.rcParams['figure.figsize'] = 6.4, 4.8  # Default."
   ]
  },
  {
   "cell_type": "code",
   "execution_count": 4,
   "metadata": {},
   "outputs": [],
   "source": [
    "mpl.rcParams['font.sans-serif'] = 'Roboto'\n",
    "mpl.rcParams['font.family'] = 'sans-serif'\n",
    "\n",
    "# Set title text color to dark gray (https://material.io/color) not black.\n",
    "TITLE_COLOR = '#212121'\n",
    "mpl.rcParams['text.color'] = TITLE_COLOR\n",
    "\n",
    "# Axis titles and tick marks are medium gray.\n",
    "AXIS_COLOR = '#757575'\n",
    "mpl.rcParams['axes.labelcolor'] = AXIS_COLOR\n",
    "mpl.rcParams['xtick.color'] = AXIS_COLOR\n",
    "mpl.rcParams['ytick.color'] = AXIS_COLOR\n",
    "\n",
    "# Use Seaborn's default color palette.\n",
    "# https://stackoverflow.com/q/48958426/1840471 for reproducibility.\n",
    "sns.set_palette(sns.color_palette())"
   ]
  },
  {
   "cell_type": "code",
   "execution_count": 5,
   "metadata": {},
   "outputs": [],
   "source": [
    "# Show one decimal in tables.\n",
    "pd.set_option('precision', 2)"
   ]
  },
  {
   "cell_type": "markdown",
   "metadata": {},
   "source": [
    "## Data"
   ]
  },
  {
   "cell_type": "code",
   "execution_count": 6,
   "metadata": {},
   "outputs": [],
   "source": [
    "reform_no_medicaid_medicare = {\n",
    "    2018: {\n",
    "        \"_BEN_mcaid_repeal\": [True],\n",
    "        \"_BEN_mcare_repeal\": [True]\n",
    "    }\n",
    "}"
   ]
  },
  {
   "cell_type": "code",
   "execution_count": 7,
   "metadata": {},
   "outputs": [],
   "source": [
    "df = tch.calc_df(records=tc.Records.cps_constructor(),\n",
    "                 reform=reform_no_medicaid_medicare,\n",
    "                 year=2018,\n",
    "                 group_vars=['XTOT', 'nu18', 'aftertax_income'],\n",
    "                 metric_vars=['aftertax_income', 'XTOT', 'nu18'])"
   ]
  },
  {
   "cell_type": "markdown",
   "metadata": {},
   "source": [
    "Zero out negative after-tax incomes."
   ]
  },
  {
   "cell_type": "code",
   "execution_count": 8,
   "metadata": {},
   "outputs": [],
   "source": [
    "df.aftertax_income.clip_lower(0, inplace=True)\n",
    "df.aftertax_income_m.clip_lower(0, inplace=True)"
   ]
  },
  {
   "cell_type": "markdown",
   "metadata": {},
   "source": [
    "Add after-tax income per person."
   ]
  },
  {
   "cell_type": "code",
   "execution_count": 9,
   "metadata": {},
   "outputs": [],
   "source": [
    "df['afti_pp'] = df.aftertax_income / df.XTOT"
   ]
  },
  {
   "cell_type": "markdown",
   "metadata": {},
   "source": [
    "## Analysis\n",
    "\n",
    "### Example"
   ]
  },
  {
   "cell_type": "code",
   "execution_count": 10,
   "metadata": {},
   "outputs": [],
   "source": [
    "def phase_out(c, ps, inc):\n",
    "    return np.where(inc <= 0, c,\n",
    "                    np.where(inc >= (c / ps), 0,\n",
    "                             c - (inc * ps)))"
   ]
  },
  {
   "cell_type": "code",
   "execution_count": 11,
   "metadata": {},
   "outputs": [],
   "source": [
    "def total(c, ps, inc):\n",
    "    return inc + phase_out(c, ps, inc)"
   ]
  },
  {
   "cell_type": "code",
   "execution_count": 12,
   "metadata": {},
   "outputs": [],
   "source": [
    "demo = pd.DataFrame({\n",
    "    'inc': pd.Series(range(0, 300)) * 100\n",
    "})\n",
    "demo['nit'] = phase_out(10000, 0.5, demo.inc)\n",
    "demo['total'] = demo.inc + demo.nit\n",
    "demo['inc2'] = demo.inc"
   ]
  },
  {
   "cell_type": "code",
   "execution_count": 13,
   "metadata": {},
   "outputs": [
    {
     "name": "stderr",
     "output_type": "stream",
     "text": [
      "/home/mghenis/miniconda3/lib/python3.6/site-packages/pandas/plotting/_core.py:1716: UserWarning: Pandas doesn't allow columns to be created via a new attribute name - see https://pandas.pydata.org/pandas-docs/stable/indexing.html#attribute-access\n",
      "  series.name = label\n"
     ]
    },
    {
     "data": {
      "text/plain": [
       "Text(0.5,1,'$10k guarantee + 50% phase-out')"
      ]
     },
     "execution_count": 13,
     "metadata": {},
     "output_type": "execute_result"
    },
    {
     "data": {
      "image/png": "[encoded data removed]",
      "text/plain": [
       "<Figure size 480x360 with 1 Axes>"
      ]
     },
     "metadata": {},
     "output_type": "display_data"
    }
   ],
   "source": [
    "demo.plot(x='inc', y=['inc2', 'nit', 'total'])\n",
    "sns.despine(left=True, bottom=True)\n",
    "plt.suptitle('Total income after negative income tax')\n",
    "plt.title('$10k guarantee + 50% phase-out')"
   ]
  },
  {
   "cell_type": "markdown",
   "metadata": {},
   "source": [
    "### Run on real data"
   ]
  },
  {
   "cell_type": "code",
   "execution_count": 14,
   "metadata": {},
   "outputs": [],
   "source": [
    "def nit_total_b(df, guarantee, ps):\n",
    "    return (phase_out(guarantee, ps, df.afti_pp) * df.XTOT_m).sum() / 1e3"
   ]
  },
  {
   "cell_type": "code",
   "execution_count": 15,
   "metadata": {},
   "outputs": [],
   "source": [
    "nit_totals = pd.DataFrame({\n",
    "    'guarantee': pd.Series(range(0, 150)) * 100\n",
    "})"
   ]
  },
  {
   "cell_type": "code",
   "execution_count": 16,
   "metadata": {},
   "outputs": [],
   "source": [
    "nit_totals['nit_total_b_50'] = nit_totals.apply(\n",
    "    lambda x: nit_total_b(df, x.guarantee, 0.5), axis=1)\n",
    "nit_totals['nit_total_b_33'] = nit_totals.apply(\n",
    "    lambda x: nit_total_b(df, x.guarantee, 0.33), axis=1)"
   ]
  },
  {
   "cell_type": "code",
   "execution_count": 17,
   "metadata": {},
   "outputs": [],
   "source": [
    "def XTOT_m_under_line(df, line):\n",
    "    return df[df.afti_pp < line].XTOT_m.sum()\n",
    "\n",
    "nit_totals['XTOT_m_under_line'] = nit_totals.apply(\n",
    "    lambda x: XTOT_m_under_line(df, x.guarantee), axis=1)\n",
    "nit_totals['XTOT_share_under_line'] = (\n",
    "    nit_totals.XTOT_m_under_line / df.XTOT_m.sum())"
   ]
  },
  {
   "cell_type": "code",
   "execution_count": 18,
   "metadata": {},
   "outputs": [],
   "source": [
    "nit_totals['cost_per_pov_50'] = (\n",
    "    1000 * nit_totals.nit_total_b_50 / nit_totals.XTOT_m_under_line)\n",
    "nit_totals['cost_per_pov_33'] = (\n",
    "    1000 * nit_totals.nit_total_b_33 / nit_totals.XTOT_m_under_line)"
   ]
  },
  {
   "cell_type": "code",
   "execution_count": 19,
   "metadata": {},
   "outputs": [
    {
     "data": {
      "text/html": [
       "<div>\n",
       "<style scoped>\n",
       "    .dataframe tbody tr th:only-of-type {\n",
       "        vertical-align: middle;\n",
       "    }\n",
       "\n",
       "    .dataframe tbody tr th {\n",
       "        vertical-align: top;\n",
       "    }\n",
       "\n",
       "    .dataframe thead th {\n",
       "        text-align: right;\n",
       "    }\n",
       "</style>\n",
       "<table border=\"1\" class=\"dataframe\">\n",
       "  <thead>\n",
       "    <tr style=\"text-align: right;\">\n",
       "      <th></th>\n",
       "      <th>guarantee</th>\n",
       "      <th>nit_total_b_50</th>\n",
       "      <th>nit_total_b_33</th>\n",
       "      <th>XTOT_m_under_line</th>\n",
       "      <th>XTOT_share_under_line</th>\n",
       "      <th>cost_per_pov_50</th>\n",
       "      <th>cost_per_pov_33</th>\n",
       "    </tr>\n",
       "  </thead>\n",
       "  <tbody>\n",
       "    <tr>\n",
       "      <th>75</th>\n",
       "      <td>7500</td>\n",
       "      <td>344.26</td>\n",
       "      <td>598.15</td>\n",
       "      <td>37.24</td>\n",
       "      <td>0.11</td>\n",
       "      <td>9243.23</td>\n",
       "      <td>16060.1</td>\n",
       "    </tr>\n",
       "  </tbody>\n",
       "</table>\n",
       "</div>"
      ],
      "text/plain": [
       "    guarantee  nit_total_b_50  nit_total_b_33  XTOT_m_under_line  \\\n",
       "75       7500          344.26          598.15              37.24   \n",
       "\n",
       "    XTOT_share_under_line  cost_per_pov_50  cost_per_pov_33  \n",
       "75                   0.11          9243.23          16060.1  "
      ]
     },
     "execution_count": 19,
     "metadata": {},
     "output_type": "execute_result"
    }
   ],
   "source": [
    "nit_totals[nit_totals.guarantee==7500]"
   ]
  },
  {
   "cell_type": "code",
   "execution_count": 20,
   "metadata": {},
   "outputs": [
    {
     "name": "stderr",
     "output_type": "stream",
     "text": [
      "/home/mghenis/miniconda3/lib/python3.6/site-packages/pandas/plotting/_core.py:1716: UserWarning: Pandas doesn't allow columns to be created via a new attribute name - see https://pandas.pydata.org/pandas-docs/stable/indexing.html#attribute-access\n",
      "  series.name = label\n"
     ]
    },
    {
     "data": {
      "text/plain": [
       "Text(0.5,1,'Cost of a negative income tax by per-person guaranteed income')"
      ]
     },
     "execution_count": 20,
     "metadata": {},
     "output_type": "execute_result"
    },
    {
     "data": {
      "image/png": "[encoded data removed]",
      "text/plain": [
       "<Figure size 480x360 with 1 Axes>"
      ]
     },
     "metadata": {},
     "output_type": "display_data"
    }
   ],
   "source": [
    "nit_totals.plot(x='guarantee', y=['nit_total_b_50', 'nit_total_b_33'])\n",
    "# Remove legend.\n",
    "sns.despine(left=True, bottom=True)\n",
    "plt.title('Cost of a negative income tax by per-person guaranteed income')"
   ]
  },
  {
   "cell_type": "code",
   "execution_count": 21,
   "metadata": {},
   "outputs": [
    {
     "data": {
      "text/html": [
       "<div>\n",
       "<style scoped>\n",
       "    .dataframe tbody tr th:only-of-type {\n",
       "        vertical-align: middle;\n",
       "    }\n",
       "\n",
       "    .dataframe tbody tr th {\n",
       "        vertical-align: top;\n",
       "    }\n",
       "\n",
       "    .dataframe thead th {\n",
       "        text-align: right;\n",
       "    }\n",
       "</style>\n",
       "<table border=\"1\" class=\"dataframe\">\n",
       "  <thead>\n",
       "    <tr style=\"text-align: right;\">\n",
       "      <th></th>\n",
       "      <th>guarantee</th>\n",
       "      <th>nit_total_b_50</th>\n",
       "      <th>nit_total_b_33</th>\n",
       "      <th>XTOT_m_under_line</th>\n",
       "      <th>XTOT_share_under_line</th>\n",
       "      <th>cost_per_pov_50</th>\n",
       "      <th>cost_per_pov_33</th>\n",
       "    </tr>\n",
       "  </thead>\n",
       "  <tbody>\n",
       "    <tr>\n",
       "      <th>75</th>\n",
       "      <td>7500</td>\n",
       "      <td>344.26</td>\n",
       "      <td>598.15</td>\n",
       "      <td>37.24</td>\n",
       "      <td>0.11</td>\n",
       "      <td>9243.23</td>\n",
       "      <td>16060.10</td>\n",
       "    </tr>\n",
       "    <tr>\n",
       "      <th>76</th>\n",
       "      <td>7600</td>\n",
       "      <td>355.63</td>\n",
       "      <td>615.71</td>\n",
       "      <td>38.10</td>\n",
       "      <td>0.11</td>\n",
       "      <td>9333.16</td>\n",
       "      <td>16158.56</td>\n",
       "    </tr>\n",
       "  </tbody>\n",
       "</table>\n",
       "</div>"
      ],
      "text/plain": [
       "    guarantee  nit_total_b_50  nit_total_b_33  XTOT_m_under_line  \\\n",
       "75       7500          344.26          598.15              37.24   \n",
       "76       7600          355.63          615.71              38.10   \n",
       "\n",
       "    XTOT_share_under_line  cost_per_pov_50  cost_per_pov_33  \n",
       "75                   0.11          9243.23         16060.10  \n",
       "76                   0.11          9333.16         16158.56  "
      ]
     },
     "execution_count": 21,
     "metadata": {},
     "output_type": "execute_result"
    }
   ],
   "source": [
    "JG_COST = 360.9\n",
    "nit_totals[nit_totals.nit_total_b_50 < JG_COST].tail(2)"
   ]
  },
  {
   "cell_type": "code",
   "execution_count": 22,
   "metadata": {},
   "outputs": [
    {
     "data": {
      "text/html": [
       "<div>\n",
       "<style scoped>\n",
       "    .dataframe tbody tr th:only-of-type {\n",
       "        vertical-align: middle;\n",
       "    }\n",
       "\n",
       "    .dataframe tbody tr th {\n",
       "        vertical-align: top;\n",
       "    }\n",
       "\n",
       "    .dataframe thead th {\n",
       "        text-align: right;\n",
       "    }\n",
       "</style>\n",
       "<table border=\"1\" class=\"dataframe\">\n",
       "  <thead>\n",
       "    <tr style=\"text-align: right;\">\n",
       "      <th></th>\n",
       "      <th>guarantee</th>\n",
       "      <th>nit_total_b_50</th>\n",
       "      <th>nit_total_b_33</th>\n",
       "      <th>XTOT_m_under_line</th>\n",
       "      <th>XTOT_share_under_line</th>\n",
       "      <th>cost_per_pov_50</th>\n",
       "      <th>cost_per_pov_33</th>\n",
       "    </tr>\n",
       "  </thead>\n",
       "  <tbody>\n",
       "    <tr>\n",
       "      <th>75</th>\n",
       "      <td>7500</td>\n",
       "      <td>344.26</td>\n",
       "      <td>598.15</td>\n",
       "      <td>37.24</td>\n",
       "      <td>0.11</td>\n",
       "      <td>9243.23</td>\n",
       "      <td>16060.1</td>\n",
       "    </tr>\n",
       "    <tr>\n",
       "      <th>100</th>\n",
       "      <td>10000</td>\n",
       "      <td>681.13</td>\n",
       "      <td>1091.80</td>\n",
       "      <td>61.52</td>\n",
       "      <td>0.18</td>\n",
       "      <td>11072.30</td>\n",
       "      <td>17748.1</td>\n",
       "    </tr>\n",
       "  </tbody>\n",
       "</table>\n",
       "</div>"
      ],
      "text/plain": [
       "     guarantee  nit_total_b_50  nit_total_b_33  XTOT_m_under_line  \\\n",
       "75        7500          344.26          598.15              37.24   \n",
       "100      10000          681.13         1091.80              61.52   \n",
       "\n",
       "     XTOT_share_under_line  cost_per_pov_50  cost_per_pov_33  \n",
       "75                    0.11          9243.23          16060.1  \n",
       "100                   0.18         11072.30          17748.1  "
      ]
     },
     "execution_count": 22,
     "metadata": {},
     "output_type": "execute_result"
    }
   ],
   "source": [
    "nit_totals[nit_totals.guarantee.isin([7500, 10000])]"
   ]
  },
  {
   "cell_type": "code",
   "execution_count": 23,
   "metadata": {},
   "outputs": [
    {
     "data": {
      "text/html": [
       "<div>\n",
       "<style scoped>\n",
       "    .dataframe tbody tr th:only-of-type {\n",
       "        vertical-align: middle;\n",
       "    }\n",
       "\n",
       "    .dataframe tbody tr th {\n",
       "        vertical-align: top;\n",
       "    }\n",
       "\n",
       "    .dataframe thead th {\n",
       "        text-align: right;\n",
       "    }\n",
       "</style>\n",
       "<table border=\"1\" class=\"dataframe\">\n",
       "  <thead>\n",
       "    <tr style=\"text-align: right;\">\n",
       "      <th></th>\n",
       "      <th>guarantee</th>\n",
       "      <th>nit_total_b_50</th>\n",
       "      <th>nit_total_b_33</th>\n",
       "      <th>XTOT_m_under_line</th>\n",
       "      <th>XTOT_share_under_line</th>\n",
       "      <th>cost_per_pov_50</th>\n",
       "      <th>cost_per_pov_33</th>\n",
       "    </tr>\n",
       "  </thead>\n",
       "  <tbody>\n",
       "    <tr>\n",
       "      <th>100</th>\n",
       "      <td>10000</td>\n",
       "      <td>681.13</td>\n",
       "      <td>1091.80</td>\n",
       "      <td>61.52</td>\n",
       "      <td>0.18</td>\n",
       "      <td>11072.30</td>\n",
       "      <td>17748.10</td>\n",
       "    </tr>\n",
       "    <tr>\n",
       "      <th>138</th>\n",
       "      <td>13800</td>\n",
       "      <td>1368.81</td>\n",
       "      <td>2008.88</td>\n",
       "      <td>101.61</td>\n",
       "      <td>0.30</td>\n",
       "      <td>13470.76</td>\n",
       "      <td>19769.83</td>\n",
       "    </tr>\n",
       "    <tr>\n",
       "      <th>122</th>\n",
       "      <td>12200</td>\n",
       "      <td>1056.80</td>\n",
       "      <td>1603.27</td>\n",
       "      <td>85.18</td>\n",
       "      <td>0.25</td>\n",
       "      <td>12405.99</td>\n",
       "      <td>18821.07</td>\n",
       "    </tr>\n",
       "    <tr>\n",
       "      <th>64</th>\n",
       "      <td>6400</td>\n",
       "      <td>231.56</td>\n",
       "      <td>418.98</td>\n",
       "      <td>29.31</td>\n",
       "      <td>0.09</td>\n",
       "      <td>7899.82</td>\n",
       "      <td>14293.86</td>\n",
       "    </tr>\n",
       "    <tr>\n",
       "      <th>48</th>\n",
       "      <td>4800</td>\n",
       "      <td>112.53</td>\n",
       "      <td>210.59</td>\n",
       "      <td>19.91</td>\n",
       "      <td>0.06</td>\n",
       "      <td>5651.91</td>\n",
       "      <td>10576.81</td>\n",
       "    </tr>\n",
       "  </tbody>\n",
       "</table>\n",
       "</div>"
      ],
      "text/plain": [
       "     guarantee  nit_total_b_50  nit_total_b_33  XTOT_m_under_line  \\\n",
       "100      10000          681.13         1091.80              61.52   \n",
       "138      13800         1368.81         2008.88             101.61   \n",
       "122      12200         1056.80         1603.27              85.18   \n",
       "64        6400          231.56          418.98              29.31   \n",
       "48        4800          112.53          210.59              19.91   \n",
       "\n",
       "     XTOT_share_under_line  cost_per_pov_50  cost_per_pov_33  \n",
       "100                   0.18         11072.30         17748.10  \n",
       "138                   0.30         13470.76         19769.83  \n",
       "122                   0.25         12405.99         18821.07  \n",
       "64                    0.09          7899.82         14293.86  \n",
       "48                    0.06          5651.91         10576.81  "
      ]
     },
     "execution_count": 23,
     "metadata": {},
     "output_type": "execute_result"
    }
   ],
   "source": [
    "nit_totals.sample(5)"
   ]
  },
  {
   "cell_type": "markdown",
   "metadata": {},
   "source": [
    "### Cost per person lifted out of poverty"
   ]
  },
  {
   "cell_type": "code",
   "execution_count": 24,
   "metadata": {},
   "outputs": [
    {
     "name": "stderr",
     "output_type": "stream",
     "text": [
      "/home/mghenis/miniconda3/lib/python3.6/site-packages/pandas/plotting/_core.py:1716: UserWarning: Pandas doesn't allow columns to be created via a new attribute name - see https://pandas.pydata.org/pandas-docs/stable/indexing.html#attribute-access\n",
      "  series.name = label\n"
     ]
    },
    {
     "data": {
      "text/plain": [
       "Text(0.5,1,'Cost per person lifted above line with a negative income tax at that line')"
      ]
     },
     "execution_count": 24,
     "metadata": {},
     "output_type": "execute_result"
    },
    {
     "data": {
      "image/png": "[encoded data removed]",
      "text/plain": [
       "<Figure size 480x360 with 1 Axes>"
      ]
     },
     "metadata": {},
     "output_type": "display_data"
    }
   ],
   "source": [
    "nit_totals.plot(x='guarantee', y=['cost_per_pov_50', 'cost_per_pov_33'])\n",
    "# Remove legend.\n",
    "sns.despine(left=True, bottom=True)\n",
    "plt.title('Cost per person lifted above line with a negative income tax at that line')"
   ]
  },
  {
   "cell_type": "code",
   "execution_count": 25,
   "metadata": {},
   "outputs": [
    {
     "name": "stderr",
     "output_type": "stream",
     "text": [
      "/home/mghenis/miniconda3/lib/python3.6/site-packages/pandas/plotting/_core.py:1716: UserWarning: Pandas doesn't allow columns to be created via a new attribute name - see https://pandas.pydata.org/pandas-docs/stable/indexing.html#attribute-access\n",
      "  series.name = label\n"
     ]
    },
    {
     "data": {
      "text/plain": [
       "Text(0.5,1,'Share of people in tax units below income levels')"
      ]
     },
     "execution_count": 25,
     "metadata": {},
     "output_type": "execute_result"
    },
    {
     "data": {
      "image/png": "[encoded data removed]",
      "text/plain": [
       "<Figure size 480x360 with 1 Axes>"
      ]
     },
     "metadata": {},
     "output_type": "display_data"
    }
   ],
   "source": [
    "nit_totals.plot(x='guarantee', y=['XTOT_share_under_line'])\n",
    "# Remove legend.\n",
    "sns.despine(left=True, bottom=True)\n",
    "plt.title('Share of people in tax units below income levels')"
   ]
  }
 ],
 "metadata": {
  "kernelspec": {
   "display_name": "Python 3",
   "language": "python",
   "name": "python3"
  },
  "language_info": {
   "codemirror_mode": {
    "name": "ipython",
    "version": 3
   },
   "file_extension": ".py",
   "mimetype": "text/x-python",
   "name": "python",
   "nbconvert_exporter": "python",
   "pygments_lexer": "ipython3",
   "version": "3.6.5"
  },
  "toc": {
   "base_numbering": 1,
   "nav_menu": {},
   "number_sections": true,
   "sideBar": true,
   "skip_h1_title": false,
   "title_cell": "Table of Contents",
   "title_sidebar": "Contents",
   "toc_cell": false,
   "toc_position": {},
   "toc_section_display": true,
   "toc_window_display": true
  }
 },
 "nbformat": 4,
 "nbformat_minor": 2
}
