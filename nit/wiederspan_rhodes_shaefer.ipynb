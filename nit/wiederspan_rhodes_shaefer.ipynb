{
 "cells": [
  {
   "cell_type": "markdown",
   "metadata": {},
   "source": [
    "# Re-reconsidering the negative income tax\n",
    "\n",
    "Revisits [Wiederspan, Rhodes and Shaefer (2015)](https://drive.google.com/file/d/0B5yUTVqCinNRdWo3YVlhZFZIRlU/view?usp=sharing): *Expanding the Discourse on Antipoverty Policy: Reconsidering a Negative Income Tax*.\n",
    "\n",
    "This paper with a negative income tax these programs, using :\n",
    "* EITC\n",
    "* SSI\n",
    "* SNAP\n",
    "* TANF\n",
    "* School meal programs\n",
    "* Housing subsidies\n",
    "\n",
    "*Data: CPS  |  Tax year: 2018  |  Type: Static  |  Author: Max Ghenis*"
   ]
  },
  {
   "cell_type": "markdown",
   "metadata": {},
   "source": [
    "## Setup\n",
    "\n",
    "### Imports"
   ]
  },
  {
   "cell_type": "code",
   "execution_count": 1,
   "metadata": {},
   "outputs": [],
   "source": [
    "import taxcalc as tc\n",
    "import pandas as pd\n",
    "import numpy as np\n",
    "import matplotlib as mpl\n",
    "import matplotlib.pyplot as plt\n",
    "import seaborn as sns"
   ]
  },
  {
   "cell_type": "code",
   "execution_count": 2,
   "metadata": {},
   "outputs": [
    {
     "data": {
      "text/plain": [
       "'0.19.0'"
      ]
     },
     "execution_count": 2,
     "metadata": {},
     "output_type": "execute_result"
    }
   ],
   "source": [
    "tc.__version__"
   ]
  },
  {
   "cell_type": "markdown",
   "metadata": {},
   "source": [
    "### Settings"
   ]
  },
  {
   "cell_type": "code",
   "execution_count": 3,
   "metadata": {},
   "outputs": [],
   "source": [
    "sns.set_style('white')\n",
    "DPI = 75\n",
    "mpl.rc('savefig', dpi=DPI)\n",
    "mpl.rcParams['figure.dpi'] = DPI\n",
    "mpl.rcParams['figure.figsize'] = 6.4, 4.8  # Default."
   ]
  },
  {
   "cell_type": "code",
   "execution_count": 4,
   "metadata": {},
   "outputs": [],
   "source": [
    "mpl.rcParams['font.sans-serif'] = 'Roboto'\n",
    "mpl.rcParams['font.family'] = 'sans-serif'\n",
    "\n",
    "# Set title text color to dark gray (https://material.io/color) not black.\n",
    "TITLE_COLOR = '#212121'\n",
    "mpl.rcParams['text.color'] = TITLE_COLOR\n",
    "\n",
    "# Axis titles and tick marks are medium gray.\n",
    "AXIS_COLOR = '#757575'\n",
    "mpl.rcParams['axes.labelcolor'] = AXIS_COLOR\n",
    "mpl.rcParams['xtick.color'] = AXIS_COLOR\n",
    "mpl.rcParams['ytick.color'] = AXIS_COLOR\n",
    "\n",
    "# Use Seaborn's default color palette.\n",
    "# https://stackoverflow.com/q/48958426/1840471 for reproducibility.\n",
    "sns.set_palette(sns.color_palette())"
   ]
  },
  {
   "cell_type": "code",
   "execution_count": 6,
   "metadata": {},
   "outputs": [],
   "source": [
    "# Show one decimal in tables.\n",
    "pd.set_option('precision', 2)"
   ]
  },
  {
   "cell_type": "markdown",
   "metadata": {},
   "source": [
    "### Utilities"
   ]
  },
  {
   "cell_type": "markdown",
   "metadata": {},
   "source": [
    "From https://stackoverflow.com/a/48999797/1840471."
   ]
  },
  {
   "cell_type": "code",
   "execution_count": 7,
   "metadata": {},
   "outputs": [],
   "source": [
    "def gini(x, w=None):\n",
    "    # Requires float numpy arrays (not pandas Series or lists) to work.\n",
    "    x = np.array(x).astype('float')\n",
    "    if w is not None:\n",
    "        w = np.array(w).astype('float')\n",
    "        sorted_indices = np.argsort(x)\n",
    "        sorted_x = x[sorted_indices]\n",
    "        sorted_w = w[sorted_indices]\n",
    "        cumw = np.cumsum(sorted_w)\n",
    "        cumxw = np.cumsum(sorted_x * sorted_w)\n",
    "        return (np.sum(cumxw[1:] * cumw[:-1] - cumxw[:-1] * cumw[1:]) /\n",
    "                (cumxw[-1] * cumw[-1]))\n",
    "    else:\n",
    "        sorted_x = np.sort(x)\n",
    "        n = len(x)\n",
    "        cumxw = np.cumsum(sorted_x)\n",
    "        # The above formula, with all weights equal to 1 simplifies to:\n",
    "        return (n + 1 - 2 * np.sum(cumxw) / cumxw[-1]) / n"
   ]
  },
  {
   "cell_type": "markdown",
   "metadata": {},
   "source": [
    "2018 HHS Poverty Guidelines (Federal Poverty Level) for 48 Contiguous States and District of Columbia (Alaska and Hawaii have higher guidelines, but the data does not have state code): https://aspe.hhs.gov/poverty-guidelines"
   ]
  },
  {
   "cell_type": "code",
   "execution_count": 8,
   "metadata": {},
   "outputs": [],
   "source": [
    "def fpl(XTOT):\n",
    "    return 7820 + 4320 * XTOT"
   ]
  },
  {
   "cell_type": "code",
   "execution_count": 9,
   "metadata": {},
   "outputs": [],
   "source": [
    "def weight(df, col):\n",
    "    return df[col] * df.s006\n",
    "\n",
    "def weighted_sum(df, col):\n",
    "    return (weight(df, col)).sum()\n",
    "\n",
    "def weighted_mean(df, col):\n",
    "    return weighted_sum(df, col) / df.s006.sum()"
   ]
  },
  {
   "cell_type": "markdown",
   "metadata": {},
   "source": [
    "## Data"
   ]
  },
  {
   "cell_type": "code",
   "execution_count": 10,
   "metadata": {},
   "outputs": [],
   "source": [
    "recs = tc.Records.cps_constructor()\n",
    "calc = tc.Calculator(records=recs, policy=tc.Policy(), verbose=False)\n",
    "calc.advance_to_year(2018)\n",
    "calc.calc_all()"
   ]
  },
  {
   "cell_type": "markdown",
   "metadata": {},
   "source": [
    "TODO: Try a reform with EITC repeal in case it affects other credits.\n",
    "\n",
    "Ordered biggest to smallest for charting."
   ]
  },
  {
   "cell_type": "code",
   "execution_count": 11,
   "metadata": {},
   "outputs": [],
   "source": [
    "BENS = ['snap_ben', 'eitc', 'ssi_ben', 'housing_ben', 'tanf_ben']\n",
    "OTHER_COLS = ['XTOT', 'expanded_income', 'aftertax_income']"
   ]
  },
  {
   "cell_type": "code",
   "execution_count": 12,
   "metadata": {},
   "outputs": [],
   "source": [
    "# 'ffpos', 'FLPDYR'\n",
    "df_tu = calc.dataframe(['s006', 'h_seq', 'RECID'] + BENS + OTHER_COLS)\n",
    "df_tu['filers'] = 1"
   ]
  },
  {
   "cell_type": "code",
   "execution_count": 13,
   "metadata": {},
   "outputs": [],
   "source": [
    "for i in BENS + OTHER_COLS + ['filers']:\n",
    "    df_tu[i + '_b'] = df_tu[i] * df_tu.s006 / 1e9"
   ]
  },
  {
   "cell_type": "markdown",
   "metadata": {},
   "source": [
    "### Create household-level dataset"
   ]
  },
  {
   "cell_type": "code",
   "execution_count": 14,
   "metadata": {},
   "outputs": [],
   "source": [
    "df = df_tu.groupby(['h_seq']).sum().reset_index()"
   ]
  },
  {
   "cell_type": "code",
   "execution_count": 15,
   "metadata": {},
   "outputs": [],
   "source": [
    "df['hh_s006'] = df.s006 / df.filers"
   ]
  },
  {
   "cell_type": "code",
   "execution_count": 16,
   "metadata": {},
   "outputs": [
    {
     "data": {
      "text/plain": [
       "53.663831758721415"
      ]
     },
     "execution_count": 16,
     "metadata": {},
     "output_type": "execute_result"
    }
   ],
   "source": [
    "df.hh_s006.sum() / 1e6"
   ]
  },
  {
   "cell_type": "code",
   "execution_count": 17,
   "metadata": {},
   "outputs": [
    {
     "data": {
      "text/plain": [
       "11562.56861919646"
      ]
     },
     "execution_count": 17,
     "metadata": {},
     "output_type": "execute_result"
    }
   ],
   "source": [
    "weighted_sum(df_tu, 'aftertax_income') / 1e9"
   ]
  },
  {
   "cell_type": "code",
   "execution_count": 18,
   "metadata": {},
   "outputs": [
    {
     "data": {
      "text/plain": [
       "(456465, 21)"
      ]
     },
     "execution_count": 18,
     "metadata": {},
     "output_type": "execute_result"
    }
   ],
   "source": [
    "df_tu.shape"
   ]
  },
  {
   "cell_type": "code",
   "execution_count": 19,
   "metadata": {},
   "outputs": [
    {
     "data": {
      "text/plain": [
       "456465"
      ]
     },
     "execution_count": 19,
     "metadata": {},
     "output_type": "execute_result"
    }
   ],
   "source": [
    "df_tu.RECID.unique().size"
   ]
  },
  {
   "cell_type": "code",
   "execution_count": 20,
   "metadata": {},
   "outputs": [
    {
     "data": {
      "text/plain": [
       "334.6129186299999"
      ]
     },
     "execution_count": 20,
     "metadata": {},
     "output_type": "execute_result"
    }
   ],
   "source": [
    "df_tu.XTOT_b.sum() * 1e3"
   ]
  },
  {
   "cell_type": "code",
   "execution_count": 21,
   "metadata": {},
   "outputs": [
    {
     "data": {
      "text/plain": [
       "169.89483966"
      ]
     },
     "execution_count": 21,
     "metadata": {},
     "output_type": "execute_result"
    }
   ],
   "source": [
    "df_tu.filers_b.sum() * 1e3"
   ]
  },
  {
   "cell_type": "code",
   "execution_count": 22,
   "metadata": {},
   "outputs": [
    {
     "data": {
      "text/plain": [
       "169.89483966000003"
      ]
     },
     "execution_count": 22,
     "metadata": {},
     "output_type": "execute_result"
    }
   ],
   "source": [
    "df.filers_b.sum() * 1e3"
   ]
  },
  {
   "cell_type": "code",
   "execution_count": 23,
   "metadata": {},
   "outputs": [
    {
     "data": {
      "text/plain": [
       "334.61291863000014"
      ]
     },
     "execution_count": 23,
     "metadata": {},
     "output_type": "execute_result"
    }
   ],
   "source": [
    "(df_tu.XTOT * df_tu.s006).sum() / 1e6"
   ]
  },
  {
   "cell_type": "code",
   "execution_count": 24,
   "metadata": {},
   "outputs": [
    {
     "data": {
      "text/plain": [
       "2057.8212440899997"
      ]
     },
     "execution_count": 24,
     "metadata": {},
     "output_type": "execute_result"
    }
   ],
   "source": [
    "(df.XTOT * df.s006).sum() / 1e6"
   ]
  },
  {
   "cell_type": "code",
   "execution_count": 245,
   "metadata": {},
   "outputs": [
    {
     "data": {
      "text/plain": [
       "XTOT\n",
       "1.0      0.08\n",
       "2.0      0.15\n",
       "3.0      0.24\n",
       "4.0      0.35\n",
       "5.0      0.46\n",
       "6.0      0.56\n",
       "7.0      0.65\n",
       "8.0      0.72\n",
       "9.0      0.77\n",
       "10.0     0.81\n",
       "11.0     0.83\n",
       "12.0     0.85\n",
       "13.0     0.86\n",
       "14.0     0.86\n",
       "15.0     0.87\n",
       "16.0     0.87\n",
       "17.0     0.88\n",
       "18.0     0.88\n",
       "19.0     0.89\n",
       "20.0     0.89\n",
       "21.0     0.89\n",
       "22.0     0.89\n",
       "23.0     0.90\n",
       "24.0     0.90\n",
       "25.0     0.90\n",
       "26.0     0.90\n",
       "27.0     0.90\n",
       "28.0     0.90\n",
       "29.0     0.90\n",
       "30.0     0.90\n",
       "         ... \n",
       "121.0    1.00\n",
       "122.0    1.00\n",
       "123.0    1.00\n",
       "124.0    1.00\n",
       "125.0    1.00\n",
       "126.0    1.00\n",
       "128.0    1.00\n",
       "129.0    1.00\n",
       "130.0    1.00\n",
       "135.0    1.00\n",
       "136.0    1.00\n",
       "137.0    1.00\n",
       "138.0    1.00\n",
       "139.0    1.00\n",
       "140.0    1.00\n",
       "141.0    1.00\n",
       "142.0    1.00\n",
       "143.0    1.00\n",
       "144.0    1.00\n",
       "146.0    1.00\n",
       "150.0    1.00\n",
       "151.0    1.00\n",
       "153.0    1.00\n",
       "154.0    1.00\n",
       "167.0    1.00\n",
       "169.0    1.00\n",
       "181.0    1.00\n",
       "182.0    1.00\n",
       "195.0    1.00\n",
       "210.0    1.00\n",
       "Name: s006, Length: 141, dtype: float64"
      ]
     },
     "execution_count": 245,
     "metadata": {},
     "output_type": "execute_result"
    }
   ],
   "source": [
    "df.groupby('XTOT').s006.sum().cumsum() / df.s006.sum()"
   ]
  },
  {
   "cell_type": "markdown",
   "metadata": {},
   "source": [
    "### Add calculated fields\n",
    "\n",
    "\\$B of values, sums, and percentiles."
   ]
  },
  {
   "cell_type": "code",
   "execution_count": 138,
   "metadata": {
    "collapsed": true
   },
   "outputs": [],
   "source": [
    "df['bens'] = df[BENS].sum(axis=1)\n",
    "df['afti'] = df.aftertax_income\n",
    "df['expi'] = df.expanded_income\n",
    "# After-tax income before modeled benefits.\n",
    "df['aftip'] = df.afti - df.bens\n",
    "df['expi_pp'] = df.expi / df.XTOT\n",
    "df['aftip_pp'] = df.aftip / df.XTOT\n",
    "COLS_TO_SUM = BENS + ['bens', 'afti', 'aftip', 'expi', 'XTOT']"
   ]
  },
  {
   "cell_type": "code",
   "execution_count": 54,
   "metadata": {},
   "outputs": [
    {
     "name": "stdout",
     "output_type": "stream",
     "text": [
      "('eitc', 59.6)\n",
      "('ssi_ben', 57.0)\n",
      "('housing_ben', 36.5)\n",
      "('snap_ben', 78.9)\n",
      "('tanf_ben', 7.8)\n",
      "('bens', 239.8)\n",
      "('afti', 11596.6)\n",
      "('aftip', 11356.8)\n",
      "('expi', 13918.2)\n",
      "('XTOT', 0.3)\n"
     ]
    }
   ],
   "source": [
    "for i in COLS_TO_SUM:\n",
    "    df[i + '_b'] = weight(df, i) / 1e9\n",
    "    print(i, round(df[i + '_b'].sum(), 1))"
   ]
  },
  {
   "cell_type": "markdown",
   "metadata": {},
   "source": [
    "#### Percentiles"
   ]
  },
  {
   "cell_type": "code",
   "execution_count": 150,
   "metadata": {
    "collapsed": true
   },
   "outputs": [],
   "source": [
    "def add_weighted_quantiles(df, col):\n",
    "    df.sort_values(by=col, inplace=True)\n",
    "    col_pctile = col + '_percentile_exact'\n",
    "    df[col_pctile] = 100 * df.s006.cumsum() / df.s006.sum()\n",
    "    # \"Null out\" negatives using -0, since integer arrays can't be NaN.\n",
    "    # TODO: Should these be null floats?\n",
    "    df[col_pctile] = np.where(df[col] >= 0, df[col_pctile], 0)\n",
    "    # Reduce top record, otherwise it's incorrectly rounded up.\n",
    "    df[col_pctile] = np.where(df[col_pctile] >= 99.99999, 99.99999, \n",
    "                              df[col_pctile])\n",
    "    df[col + '_percentile'] = np.ceil(df[col_pctile]).astype(int)\n",
    "    # Center 2percentiles as percentiles.\n",
    "    df[col + '_2percentile'] = 2 * np.ceil(df[col_pctile] / 2).astype(int) - 1\n",
    "    # Center ventiles as percentiles.\n",
    "    df[col + '_ventile'] = 5 * np.ceil(df[col_pctile] / 5).astype(int) - 2.5\n",
    "    df[col + '_decile'] = np.ceil(df[col_pctile] / 10).astype(int)\n",
    "    df[col + '_quintile'] = np.ceil(df[col_pctile] / 20).astype(int)\n",
    "    df[col + '_quartile'] = np.ceil(df[col_pctile] / 25).astype(int)\n",
    "    return df"
   ]
  },
  {
   "cell_type": "code",
   "execution_count": 151,
   "metadata": {
    "collapsed": true
   },
   "outputs": [],
   "source": [
    "df = add_weighted_quantiles(df, 'expi')\n",
    "df = add_weighted_quantiles(df, 'aftip')\n",
    "df = add_weighted_quantiles(df, 'expi_pp')\n",
    "df = add_weighted_quantiles(df, 'aftip_pp')"
   ]
  },
  {
   "cell_type": "markdown",
   "metadata": {},
   "source": [
    "### Add NIT\n",
    "\n",
    "Six combinations of these two variables:\n",
    "\n",
    "* Minimum threshold as a share of poverty (FPL): 75%, 100%, 133%\n",
    "* Marginal tax rate (i.e., phase-out): 50%, 33%\n",
    "\n",
    "![fd](https://imgur.com/PsW6fUU.png)"
   ]
  },
  {
   "cell_type": "code",
   "execution_count": 58,
   "metadata": {
    "collapsed": true
   },
   "outputs": [],
   "source": [
    "df['fpl'] = fpl(df.XTOT)"
   ]
  },
  {
   "cell_type": "code",
   "execution_count": 74,
   "metadata": {
    "collapsed": true
   },
   "outputs": [],
   "source": [
    "def phase_out(c, ps, inc):\n",
    "    return np.where(inc <= 0, c,\n",
    "                    np.where(inc >= (c / ps), 0,\n",
    "                             c - (inc * ps)))"
   ]
  },
  {
   "cell_type": "code",
   "execution_count": 126,
   "metadata": {
    "collapsed": true
   },
   "outputs": [],
   "source": [
    "for c in [75, 100, 133]:\n",
    "    for ps in [67, 50, 33]:\n",
    "        for inc in ['expi', 'aftip']:\n",
    "            col = 'nit_' + str(c) + '_' + str(ps) + '_' + inc\n",
    "            df[col] = phase_out(c * df.fpl / 100., ps / 100., df[inc])\n",
    "            df[col + '_b'] = weight(df, col) / 1e9"
   ]
  },
  {
   "cell_type": "code",
   "execution_count": 137,
   "metadata": {},
   "outputs": [
    {
     "data": {
      "text/plain": [
       "nit_75_33_expi_b       280.81\n",
       "nit_100_33_expi_b      543.18\n",
       "nit_133_33_expi_b     1004.55\n",
       "nit_75_50_expi_b       163.28\n",
       "nit_100_50_expi_b      315.49\n",
       "nit_133_50_expi_b      612.76\n",
       "nit_75_67_expi_b       117.50\n",
       "nit_100_67_expi_b      216.39\n",
       "nit_133_67_expi_b      415.44\n",
       "nit_75_33_aftip_b      346.61\n",
       "nit_100_33_aftip_b     656.93\n",
       "nit_133_33_aftip_b    1188.33\n",
       "nit_75_50_aftip_b      204.27\n",
       "nit_100_50_aftip_b     392.01\n",
       "nit_133_50_aftip_b     748.28\n",
       "nit_75_67_aftip_b      146.37\n",
       "nit_100_67_aftip_b     270.72\n",
       "nit_133_67_aftip_b     516.34\n",
       "dtype: float64"
      ]
     },
     "execution_count": 137,
     "metadata": {},
     "output_type": "execute_result"
    }
   ],
   "source": [
    "df[['nit_75_33_expi_b', 'nit_100_33_expi_b', 'nit_133_33_expi_b', \n",
    "    'nit_75_50_expi_b', 'nit_100_50_expi_b', 'nit_133_50_expi_b',\n",
    "    'nit_75_67_expi_b', 'nit_100_67_expi_b', 'nit_133_67_expi_b',\n",
    "    'nit_75_33_aftip_b', 'nit_100_33_aftip_b', 'nit_133_33_aftip_b', \n",
    "    'nit_75_50_aftip_b', 'nit_100_50_aftip_b', 'nit_133_50_aftip_b',\n",
    "    'nit_75_67_aftip_b', 'nit_100_67_aftip_b', 'nit_133_67_aftip_b']].sum()"
   ]
  },
  {
   "cell_type": "markdown",
   "metadata": {},
   "source": [
    "### Create summary tables"
   ]
  },
  {
   "cell_type": "code",
   "execution_count": 171,
   "metadata": {
    "collapsed": true
   },
   "outputs": [],
   "source": [
    "def add_ratios(df):\n",
    "    for i in BENS + ['bens', 'nit_100_50_aftip']:\n",
    "        df[i + '_pp'] = df[i + '_b'] / df.XTOT_b\n",
    "    \n",
    "#     df['repeal_afti_chg'] = df.afti_repeal_b - df.afti_keep_b\n",
    "#     df['repeal_afti_pctchg'] = 100 * df.repeal_afti_chg / df.afti_keep_b"
   ]
  },
  {
   "cell_type": "code",
   "execution_count": 166,
   "metadata": {
    "collapsed": true
   },
   "outputs": [],
   "source": [
    "def quantile_summary(df, groupby):\n",
    "    qs = df.groupby(groupby).sum()\n",
    "    add_ratios(qs)\n",
    "    # Exclude 0, the negative group.\n",
    "    return qs.loc[1:]"
   ]
  },
  {
   "cell_type": "code",
   "execution_count": null,
   "metadata": {
    "collapsed": true
   },
   "outputs": [],
   "source": [
    "quantile_summary(df, 'aftip_pp_decile')[[s + '_pp' for s in BENS]].plot.area()\n",
    "plt.show()"
   ]
  },
  {
   "cell_type": "code",
   "execution_count": 169,
   "metadata": {},
   "outputs": [
    {
     "data": {
      "image/png": "[encoded data removed]",
      "text/plain": [
       "<matplotlib.figure.Figure at 0x7f71a05faa50>"
      ]
     },
     "metadata": {},
     "output_type": "display_data"
    }
   ],
   "source": [
    "quantile_summary(df, 'aftip_pp_ventile')[[s + '_pp' for s in BENS]].plot()\n",
    "sns.despine(left=True, bottom=True)\n",
    "plt.legend(['SNAP', 'EITC', 'SSI', 'Housing', 'TANF'])\n",
    "plt.title('Benefit values per person by income percentile group', loc='left')\n",
    "plt.show()"
   ]
  },
  {
   "cell_type": "code",
   "execution_count": 170,
   "metadata": {},
   "outputs": [
    {
     "data": {
      "image/png": "[encoded data removed]",
      "text/plain": [
       "<matplotlib.figure.Figure at 0x7f71a0329f50>"
      ]
     },
     "metadata": {},
     "output_type": "display_data"
    }
   ],
   "source": [
    "quantile_summary(df, 'aftip_pp_ventile')[[\n",
    "    s + '_pp' for s in BENS]].plot.area()\n",
    "sns.despine(left=True, bottom=True)\n",
    "plt.legend(['SNAP', 'EITC', 'SSI', 'Housing', 'TANF'])\n",
    "plt.title('Benefit values per person by income percentile group', loc='left')\n",
    "plt.show()"
   ]
  },
  {
   "cell_type": "code",
   "execution_count": 180,
   "metadata": {},
   "outputs": [
    {
     "data": {
      "text/plain": [
       "162968130.0"
      ]
     },
     "execution_count": 180,
     "metadata": {},
     "output_type": "execute_result"
    }
   ],
   "source": [
    "recs.s006.sum() #/ 117.7e6"
   ]
  },
  {
   "cell_type": "code",
   "execution_count": 176,
   "metadata": {},
   "outputs": [
    {
     "data": {
      "text/plain": [
       "169894839.66"
      ]
     },
     "execution_count": 176,
     "metadata": {},
     "output_type": "execute_result"
    }
   ],
   "source": [
    "df.s006.sum()  # 126M households?"
   ]
  },
  {
   "cell_type": "code",
   "execution_count": 177,
   "metadata": {},
   "outputs": [
    {
     "data": {
      "text/plain": [
       "1.3483717433333333"
      ]
     },
     "execution_count": 177,
     "metadata": {},
     "output_type": "execute_result"
    }
   ],
   "source": [
    "df.s006.sum() / 126e6 # 126M households?"
   ]
  },
  {
   "cell_type": "code",
   "execution_count": 174,
   "metadata": {},
   "outputs": [
    {
     "data": {
      "image/png": "[encoded data removed]",
      "text/plain": [
       "<matplotlib.figure.Figure at 0x7f71a0881c90>"
      ]
     },
     "metadata": {},
     "output_type": "display_data"
    }
   ],
   "source": [
    "quantile_summary(df, 'aftip_pp_ventile')[['bens_pp', \n",
    "                                          'nit_100_50_aftip_pp']].plot()\n",
    "sns.despine(left=True, bottom=True)\n",
    "# plt.legend(['SNAP', 'EITC', 'SSI', 'Housing', 'TANF'])\n",
    "plt.title('Benefit values per person by income percentile group', loc='left')\n",
    "plt.show()"
   ]
  },
  {
   "cell_type": "code",
   "execution_count": 142,
   "metadata": {},
   "outputs": [
    {
     "data": {
      "text/plain": [
       "5137145.4273059294"
      ]
     },
     "execution_count": 142,
     "metadata": {},
     "output_type": "execute_result"
    }
   ],
   "source": [
    "df[df.snap_ben > 0].expanded_income.max()"
   ]
  },
  {
   "cell_type": "markdown",
   "metadata": {},
   "source": [
    "## Exploratory\n",
    "\n",
    "Current distribution of benefits programs as listed in Wiederspan et al:\n",
    "\n",
    "![fd](https://i.imgur.com/LrYROJp.png)"
   ]
  },
  {
   "cell_type": "markdown",
   "metadata": {},
   "source": [
    "These are:\n",
    "* `eitc`\n",
    "* `ssi_ben`\n",
    "* `housing_ben`\n",
    "* `snap_ben`\n",
    "* `tanf_ben` (too low, should be \\$29B in 2014: https://github.com/open-source-economics/C-TAM/issues/65)\n",
    "\n",
    "School food programs are not explicitly modeled."
   ]
  },
  {
   "cell_type": "code",
   "execution_count": 44,
   "metadata": {},
   "outputs": [
    {
     "data": {
      "text/plain": [
       "Index([u's006', u'XTOT', u'expanded_income', u'aftertax_income', u'eitc',\n",
       "       u'ssi_ben', u'housing_ben', u'snap_ben', u'tanf_ben', u'bens', u'afti',\n",
       "       u'expi', u'afti_preben', u'eitc_b', u'ssi_ben_b', u'housing_ben_b',\n",
       "       u'snap_ben_b', u'tanf_ben_b', u'bens_b', u'afti_b', u'afti_preben_b',\n",
       "       u'expi_b', u'expi_percentile_exact', u'expi_percentile',\n",
       "       u'expi_2percentile', u'expi_ventile', u'expi_decile', u'expi_quintile',\n",
       "       u'expi_quartile', u'afti_preben_percentile_exact',\n",
       "       u'afti_preben_percentile', u'afti_preben_2percentile',\n",
       "       u'afti_preben_ventile', u'afti_preben_decile', u'afti_preben_quintile',\n",
       "       u'afti_preben_quartile'],\n",
       "      dtype='object')"
      ]
     },
     "execution_count": 44,
     "metadata": {},
     "output_type": "execute_result"
    }
   ],
   "source": [
    "df.columns"
   ]
  },
  {
   "cell_type": "code",
   "execution_count": 45,
   "metadata": {},
   "outputs": [
    {
     "ename": "TypeError",
     "evalue": "can only concatenate list (not \"str\") to list",
     "output_type": "error",
     "traceback": [
      "\u001b[0;31m---------------------------------------------------------------------------\u001b[0m",
      "\u001b[0;31mTypeError\u001b[0m                                 Traceback (most recent call last)",
      "\u001b[0;32m<ipython-input-45-0670fd5e1e33>\u001b[0m in \u001b[0;36m<module>\u001b[0;34m()\u001b[0m\n\u001b[0;32m----> 1\u001b[0;31m \u001b[0mdf\u001b[0m\u001b[0;34m[\u001b[0m\u001b[0mBENS\u001b[0m \u001b[0;34m+\u001b[0m \u001b[0;34m'_b'\u001b[0m\u001b[0;34m]\u001b[0m\u001b[0;34m\u001b[0m\u001b[0m\n\u001b[0m",
      "\u001b[0;31mTypeError\u001b[0m: can only concatenate list (not \"str\") to list"
     ]
    }
   ],
   "source": [
    "df[BENS + '_b']"
   ]
  }
 ],
 "metadata": {
  "kernelspec": {
   "display_name": "Python 3",
   "language": "python",
   "name": "python3"
  },
  "language_info": {
   "codemirror_mode": {
    "name": "ipython",
    "version": 3
   },
   "file_extension": ".py",
   "mimetype": "text/x-python",
   "name": "python",
   "nbconvert_exporter": "python",
   "pygments_lexer": "ipython3",
   "version": "3.6.5"
  },
  "toc": {
   "base_numbering": 1,
   "nav_menu": {},
   "number_sections": true,
   "sideBar": true,
   "skip_h1_title": false,
   "title_cell": "Table of Contents",
   "title_sidebar": "Contents",
   "toc_cell": false,
   "toc_position": {},
   "toc_section_display": true,
   "toc_window_display": true
  }
 },
 "nbformat": 4,
 "nbformat_minor": 2
}
