{
 "cells": [
  {
   "cell_type": "markdown",
   "metadata": {},
   "source": [
    "# Re-reconsidering the negative income tax\n",
    "\n",
    "Revisits [Wiederspan, Rhodes and Shaefer (2015)](https://drive.google.com/file/d/0B5yUTVqCinNRdWo3YVlhZFZIRlU/view?usp=sharing): *Expanding the Discourse on Antipoverty Policy: Reconsidering a Negative Income Tax*.\n",
    "\n",
    "This paper with a negative income tax these programs, using :\n",
    "* EITC\n",
    "* SSI\n",
    "* SNAP\n",
    "* TANF\n",
    "* School meal programs\n",
    "* Housing subsidies\n",
    "\n",
    "*Data: CPS  |  Tax year: 2018  |  Type: Static  |  Author: Max Ghenis  |  Date run: 2018-02-20*"
   ]
  },
  {
   "cell_type": "markdown",
   "metadata": {},
   "source": [
    "## Setup\n",
    "\n",
    "### Imports"
   ]
  },
  {
   "cell_type": "code",
   "execution_count": 1,
   "metadata": {
    "collapsed": true
   },
   "outputs": [],
   "source": [
    "import taxcalc as tc\n",
    "import pandas as pd\n",
    "import numpy as np\n",
    "import copy\n",
    "from bokeh.io import show, output_notebook\n",
    "import matplotlib as mpl\n",
    "import matplotlib.pyplot as plt\n",
    "import seaborn as sns\n",
    "# On Python 3.6 use \"import urllib.request as url_lib\".\n",
    "import urllib as url_lib"
   ]
  },
  {
   "cell_type": "code",
   "execution_count": 2,
   "metadata": {},
   "outputs": [
    {
     "data": {
      "text/plain": [
       "'0.17.0'"
      ]
     },
     "execution_count": 2,
     "metadata": {},
     "output_type": "execute_result"
    }
   ],
   "source": [
    "tc.__version__"
   ]
  },
  {
   "cell_type": "markdown",
   "metadata": {},
   "source": [
    "### Settings"
   ]
  },
  {
   "cell_type": "code",
   "execution_count": 3,
   "metadata": {
    "collapsed": true
   },
   "outputs": [],
   "source": [
    "sns.set_style('white')\n",
    "DPI = 75\n",
    "mpl.rc('savefig', dpi=DPI)\n",
    "mpl.rcParams['figure.dpi'] = DPI\n",
    "mpl.rcParams['figure.figsize'] = 6.4, 4.8  # Default."
   ]
  },
  {
   "cell_type": "code",
   "execution_count": 4,
   "metadata": {
    "collapsed": true
   },
   "outputs": [],
   "source": [
    "mpl.rcParams['font.sans-serif'] = 'Roboto'\n",
    "mpl.rcParams['font.family'] = 'sans-serif'\n",
    "\n",
    "# Set title text color to dark gray (https://material.io/color) not black.\n",
    "TITLE_COLOR = '#212121'\n",
    "mpl.rcParams['text.color'] = TITLE_COLOR\n",
    "\n",
    "# Axis titles and tick marks are medium gray.\n",
    "AXIS_COLOR = '#757575'\n",
    "mpl.rcParams['axes.labelcolor'] = AXIS_COLOR\n",
    "mpl.rcParams['xtick.color'] = AXIS_COLOR\n",
    "mpl.rcParams['ytick.color'] = AXIS_COLOR\n",
    "\n",
    "# Use Seaborn's default color palette.\n",
    "# https://stackoverflow.com/q/48958426/1840471 for reproducibility.\n",
    "sns.set_palette(sns.color_palette())"
   ]
  },
  {
   "cell_type": "code",
   "execution_count": 5,
   "metadata": {
    "collapsed": true
   },
   "outputs": [],
   "source": [
    "# Show one decimal in tables.\n",
    "pd.set_option('precision', 2)"
   ]
  },
  {
   "cell_type": "markdown",
   "metadata": {},
   "source": [
    "### Utilities"
   ]
  },
  {
   "cell_type": "markdown",
   "metadata": {},
   "source": [
    "From https://stackoverflow.com/a/48999797/1840471."
   ]
  },
  {
   "cell_type": "code",
   "execution_count": 6,
   "metadata": {
    "collapsed": true
   },
   "outputs": [],
   "source": [
    "def gini(x, w=None):\n",
    "    # Array indexing requires reset indexes.\n",
    "    x = pd.Series(x).reset_index(drop=True)\n",
    "    if w is None:\n",
    "        w = np.ones_like(x)\n",
    "    w = pd.Series(w).reset_index(drop=True)\n",
    "    n = x.size\n",
    "    wxsum = sum(w * x)\n",
    "    wsum = sum(w)\n",
    "    sxw = np.argsort(x)\n",
    "    sx = x[sxw] * w[sxw]\n",
    "    sw = w[sxw]\n",
    "    pxi = np.cumsum(sx) / wxsum\n",
    "    pci = np.cumsum(sw) / wsum\n",
    "    g = 0.0\n",
    "    for i in np.arange(1, n):\n",
    "        g = g + pxi.iloc[i] * pci.iloc[i - 1] - pci.iloc[i] * pxi.iloc[i - 1]\n",
    "    return g"
   ]
  },
  {
   "cell_type": "markdown",
   "metadata": {},
   "source": [
    "2018 HHS Poverty Guidelines (Federal Poverty Level) for 48 Contiguous States and District of Columbia (Alaska and Hawaii have higher guidelines, but the data does not have state code): https://aspe.hhs.gov/poverty-guidelines"
   ]
  },
  {
   "cell_type": "code",
   "execution_count": 7,
   "metadata": {
    "collapsed": true
   },
   "outputs": [],
   "source": [
    "def fpl(XTOT):\n",
    "    return 7820 + 4320 * XTOT"
   ]
  },
  {
   "cell_type": "code",
   "execution_count": 8,
   "metadata": {
    "collapsed": true
   },
   "outputs": [],
   "source": [
    "def weight(df, col):\n",
    "    return df[col] * df.s006\n",
    "\n",
    "def weighted_sum(df, col):\n",
    "    return (weight(df, col)).sum()\n",
    "\n",
    "def weighted_mean(df, col):\n",
    "    return weighted_sum(df, col) / df.s006.sum()"
   ]
  },
  {
   "cell_type": "markdown",
   "metadata": {},
   "source": [
    "## Data"
   ]
  },
  {
   "cell_type": "code",
   "execution_count": 9,
   "metadata": {},
   "outputs": [],
   "source": [
    "recs = tc.Records.cps_constructor()\n",
    "calc = tc.Calculator(records=recs, policy=tc.Policy(), verbose=False)\n",
    "calc.advance_to_year(2018)\n",
    "calc.calc_all()"
   ]
  },
  {
   "cell_type": "markdown",
   "metadata": {},
   "source": [
    "TODO: Try a reform with EITC repeal in case it affects other credits."
   ]
  },
  {
   "cell_type": "code",
   "execution_count": 10,
   "metadata": {
    "collapsed": true
   },
   "outputs": [],
   "source": [
    "BENS = ['eitc', 'ssi_ben', 'housing_ben', 'snap_ben', 'tanf_ben']"
   ]
  },
  {
   "cell_type": "code",
   "execution_count": 11,
   "metadata": {
    "collapsed": true
   },
   "outputs": [],
   "source": [
    "df = calc.dataframe(['s006', 'XTOT', 'expanded_income', 'aftertax_income'] +\n",
    "                    BENS)"
   ]
  },
  {
   "cell_type": "code",
   "execution_count": 12,
   "metadata": {},
   "outputs": [
    {
     "name": "stdout",
     "output_type": "stream",
     "text": [
      "('eitc', 59.6)\n",
      "('ssi_ben', 57.0)\n",
      "('housing_ben', 2.4)\n",
      "('snap_ben', 78.9)\n",
      "('tanf_ben', 7.8)\n"
     ]
    }
   ],
   "source": [
    "for i in BENS:\n",
    "    df[i + '_b'] = weight(df, i) / 1e9\n",
    "    print(i, round(df[i + '_b'].sum(), 1))"
   ]
  },
  {
   "cell_type": "markdown",
   "metadata": {},
   "source": [
    "## Exploratory\n",
    "\n",
    "Current distribution of benefits programs as listed in Wiederspan et al:\n",
    "\n",
    "![fd](https://i.imgur.com/LrYROJp.png)"
   ]
  },
  {
   "cell_type": "markdown",
   "metadata": {},
   "source": [
    "These are:\n",
    "* `eitc`\n",
    "* `ssi_ben`\n",
    "* `housing_ben` (too low: https://github.com/open-source-economics/C-TAM/issues/66)\n",
    "* `snap_ben`\n",
    "* `tanf_ben` (too low: https://github.com/open-source-economics/C-TAM/issues/65)\n",
    "\n",
    "School food programs are not explicitly modeled."
   ]
  }
 ],
 "metadata": {
  "kernelspec": {
   "display_name": "Python 2",
   "language": "python",
   "name": "python2"
  },
  "language_info": {
   "codemirror_mode": {
    "name": "ipython",
    "version": 2
   },
   "file_extension": ".py",
   "mimetype": "text/x-python",
   "name": "python",
   "nbconvert_exporter": "python",
   "pygments_lexer": "ipython2",
   "version": "2.7.14"
  },
  "toc": {
   "nav_menu": {},
   "number_sections": true,
   "sideBar": true,
   "skip_h1_title": false,
   "title_cell": "Table of Contents",
   "title_sidebar": "Contents",
   "toc_cell": false,
   "toc_position": {},
   "toc_section_display": true,
   "toc_window_display": true
  }
 },
 "nbformat": 4,
 "nbformat_minor": 2
}
