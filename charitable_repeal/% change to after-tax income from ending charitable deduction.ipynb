{
 "cells": [
  {
   "cell_type": "markdown",
   "metadata": {},
   "source": [
    "Compare House TCJA total change in liability when using default weights vs. those provided by Ernie Tedeschi. \n",
    "\n",
    "Uses behavior file provided by Matt Jensen."
   ]
  },
  {
   "cell_type": "code",
   "execution_count": 1,
   "metadata": {
    "collapsed": true
   },
   "outputs": [],
   "source": [
    "from taxcalc import *\n",
    "from taxcalc.utils import *"
   ]
  },
  {
   "cell_type": "code",
   "execution_count": 23,
   "metadata": {},
   "outputs": [],
   "source": [
    "recs = Records.cps_constructor()"
   ]
  },
  {
   "cell_type": "code",
   "execution_count": 24,
   "metadata": {
    "collapsed": true
   },
   "outputs": [],
   "source": [
    "reform = Calculator.read_json_param_objects(\n",
    "    'NoCharitableDeduction.json', None)\n",
    "pol = Policy()\n",
    "pol.implement_reform(reform['policy'])\n",
    "con = Consumption()\n",
    "con.update_consumption(reform['consumption'])\n",
    "beh = Behavior()\n",
    "beh.update_behavior(reform['behavior'])"
   ]
  },
  {
   "cell_type": "code",
   "execution_count": 25,
   "metadata": {
    "collapsed": true
   },
   "outputs": [],
   "source": [
    "def total_combined_liability(calc):\n",
    "    # combined is combined tax liability while s006 is weight.\n",
    "    return (calc.records.combined * calc.records.s006).sum()"
   ]
  },
  {
   "cell_type": "code",
   "execution_count": 26,
   "metadata": {
    "collapsed": true
   },
   "outputs": [],
   "source": [
    "def print_combined_liability(baseline_calc, reform_calc):\n",
    "    # Calculate and print liabilities.\n",
    "    baseline = total_combined_liability(baseline_calc)\n",
    "    reformed = total_combined_liability(reform_calc)\n",
    "    diff = reformed - baseline\n",
    "    print ('Combined Liability - Baseline: {:0.2f}'.format(baseline))\n",
    "    print ('Combined Liability - Reform: {:>18.2f}'.format(reformed))\n",
    "    print ('-' * 47)\n",
    "    print ('Difference: {:35.2f}'.format(diff))"
   ]
  },
  {
   "cell_type": "code",
   "execution_count": 27,
   "metadata": {},
   "outputs": [
    {
     "name": "stdout",
     "output_type": "stream",
     "text": [
      "You loaded data for 2014.\n",
      "Tax-Calculator startup automatically extrapolated your data to 2014.\n",
      "You loaded data for 2014.\n",
      "Tax-Calculator startup automatically extrapolated your data to 2014.\n"
     ]
    }
   ],
   "source": [
    "calc = Calculator(records=recs, policy=Policy())\n",
    "calc.advance_to_year(2018)\n",
    "calc.calc_all()\n",
    "calc_reform = Calculator(records=recs, policy=pol,\n",
    "                         consumption=con, behavior=beh)\n",
    "calc_reform.advance_to_year(2018)\n",
    "calc_response = Behavior.response(calc, calc_reform)"
   ]
  },
  {
   "cell_type": "code",
   "execution_count": 28,
   "metadata": {},
   "outputs": [
    {
     "name": "stdout",
     "output_type": "stream",
     "text": [
      "Combined Liability - Baseline: 2521070511449.64\n",
      "Combined Liability - Reform:   2565820874040.19\n",
      "-----------------------------------------------\n",
      "Difference:                      44750362590.55\n"
     ]
    }
   ],
   "source": [
    "print_combined_liability(calc, calc_reform)"
   ]
  },
  {
   "cell_type": "code",
   "execution_count": 29,
   "metadata": {},
   "outputs": [
    {
     "name": "stdout",
     "output_type": "stream",
     "text": [
      "Combined Liability - Baseline: 2521070511449.64\n",
      "Combined Liability - Reform:   2570232942856.80\n",
      "-----------------------------------------------\n",
      "Difference:                      49162431407.16\n"
     ]
    }
   ],
   "source": [
    "print_combined_liability(calc, calc_response)"
   ]
  },
  {
   "cell_type": "code",
   "execution_count": 30,
   "metadata": {},
   "outputs": [
    {
     "ename": "ValueError",
     "evalue": "Buffer dtype mismatch, expected 'Python object' but got 'long'",
     "output_type": "error",
     "traceback": [
      "\u001b[0;31m---------------------------------------------------------------------\u001b[0m",
      "\u001b[0;31mValueError\u001b[0m                          Traceback (most recent call last)",
      "\u001b[0;31mValueError\u001b[0m: Buffer dtype mismatch, expected 'Python object' but got 'long'"
     ]
    },
    {
     "name": "stderr",
     "output_type": "stream",
     "text": [
      "Exception ValueError: \"Buffer dtype mismatch, expected 'Python object' but got 'long'\" in 'pandas._libs.lib.is_bool_array' ignored\n"
     ]
    }
   ],
   "source": [
    "diff_table = calc.difference_table(calc_response, tax_to_diff='iitax')"
   ]
  },
  {
   "cell_type": "code",
   "execution_count": 31,
   "metadata": {},
   "outputs": [],
   "source": [
    "pc_aftertaxinc_decrease = -diff_table['pc_aftertaxinc']"
   ]
  },
  {
   "cell_type": "code",
   "execution_count": 32,
   "metadata": {},
   "outputs": [
    {
     "data": {
      "text/plain": [
       "0         -0.00\n",
       "1          0.00\n",
       "2          0.00\n",
       "3          0.02\n",
       "4          0.04\n",
       "5          0.10\n",
       "6          0.16\n",
       "7          0.29\n",
       "8          0.37\n",
       "9          0.40\n",
       "10         0.29\n",
       "11         0.55\n",
       "12         0.50\n",
       "13         0.21\n",
       "Name: pc_aftertaxinc, dtype: float64"
      ]
     },
     "execution_count": 32,
     "metadata": {},
     "output_type": "execute_result"
    }
   ],
   "source": [
    "pc_aftertaxinc"
   ]
  },
  {
   "cell_type": "code",
   "execution_count": null,
   "metadata": {
    "collapsed": true
   },
   "outputs": [],
   "source": [
    "print('2018_REFORM1_iitax_rev($B)= {:.1f}'.format(iitax_rev1 * 1e-9))\n",
    "print('2018_REFORM2_iitax_rev($B)= {:.1f}'.format(iitax_rev2 * 1e-9))"
   ]
  }
 ],
 "metadata": {
  "kernelspec": {
   "display_name": "Python 2",
   "language": "python",
   "name": "python2"
  },
  "language_info": {
   "codemirror_mode": {
    "name": "ipython",
    "version": 2
   },
   "file_extension": ".py",
   "mimetype": "text/x-python",
   "name": "python",
   "nbconvert_exporter": "python",
   "pygments_lexer": "ipython2",
   "version": "2.7.14"
  }
 },
 "nbformat": 4,
 "nbformat_minor": 2
}
