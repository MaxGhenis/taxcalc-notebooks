{
 "cells": [
  {
   "cell_type": "markdown",
   "metadata": {},
   "source": [
    "# Effect of repealing charitable deduction\n",
    "\n",
    "This identifies beneficiaries of the charitable deduction by modeling its repeal. Both repeal from current (2017) state and TCJA state are considered on a static basis. Change to after-tax income by decile and share of after-tax income held by top 10% are calculated.\n",
    "\n",
    "*taxcalc version: 0.14.3  |  Data: CPS  |  Tax year: 2018  |  Type: Static  |  Author: Max Ghenis  |  Date run: 2017-12-30*"
   ]
  },
  {
   "cell_type": "markdown",
   "metadata": {},
   "source": [
    "## Setup\n",
    "\n",
    "### Imports"
   ]
  },
  {
   "cell_type": "code",
   "execution_count": 1,
   "metadata": {
    "collapsed": true
   },
   "outputs": [],
   "source": [
    "from __future__ import print_function  # Necessary only if using Python 2.7.\n",
    "import taxcalc as tc\n",
    "import urllib as url_lib  # On Python 3.6 use \"import urllib.request as url_lib\"."
   ]
  },
  {
   "cell_type": "markdown",
   "metadata": {},
   "source": [
    "### Load reforms\n",
    "\n",
    "Load from Github."
   ]
  },
  {
   "cell_type": "code",
   "execution_count": 2,
   "metadata": {
    "collapsed": true
   },
   "outputs": [],
   "source": [
    "# Folders where reforms live.\n",
    "GITHUB_BASE_URL = 'https://raw.githubusercontent.com/'\n",
    "\n",
    "TAXCALC_GITHUB_BASE_URL = (GITHUB_BASE_URL +\n",
    "                           'open-source-economics/Tax-Calculator/master/' +\n",
    "                           'taxcalc/reforms/')\n",
    "\n",
    "def read_url(url):\n",
    "    return url_lib.urlopen(url).read()\n",
    "\n",
    "def read_reform_github(reform_name):\n",
    "    return read_url(GITHUB_BASE_URL + reform_name + '.json')\n",
    "\n",
    "def read_reform_taxcalc_github(reform_name):\n",
    "    return read_url(TAXCALC_GITHUB_BASE_URL + reform_name + '.json')\n",
    "\n",
    "def create_static_params_github(reform_name):\n",
    "    return tc.Calculator.read_json_param_objects(\n",
    "        read_reform_github(reform_name), None)\n",
    "\n",
    "def create_static_params_taxcalc_github(reform_name):\n",
    "    return tc.Calculator.read_json_param_objects(\n",
    "        read_reform_taxcalc_github(reform_name), None)"
   ]
  },
  {
   "cell_type": "code",
   "execution_count": 3,
   "metadata": {
    "collapsed": true
   },
   "outputs": [],
   "source": [
    "no_charitable_reform = create_static_params_github(\n",
    "    'MaxGhenis/taxcalc-notebooks/master/charitable_repeal/NoCharitableDeduction')\n",
    "tcja_reform = create_static_params_taxcalc_github(\n",
    "    'TCJA_Reconciliation')\n",
    "tcja_no_charitable_reform = create_static_params_github(\n",
    "    'MaxGhenis/taxcalc-notebooks/master/charitable_repeal/TCJA_NoCharitable')"
   ]
  },
  {
   "cell_type": "markdown",
   "metadata": {},
   "source": [
    "### Specify `Policy` objects for static analyses"
   ]
  },
  {
   "cell_type": "code",
   "execution_count": 4,
   "metadata": {},
   "outputs": [],
   "source": [
    "recs = tc.Records.cps_constructor()"
   ]
  },
  {
   "cell_type": "code",
   "execution_count": 5,
   "metadata": {
    "collapsed": true
   },
   "outputs": [],
   "source": [
    "def static_baseline_calc(year):\n",
    "    calc = tc.Calculator(records=recs, policy=Policy())\n",
    "    calc.advance_to_year(year)\n",
    "    calc.calc_all()\n",
    "    return calc"
   ]
  },
  {
   "cell_type": "code",
   "execution_count": 6,
   "metadata": {
    "collapsed": true
   },
   "outputs": [],
   "source": [
    "def static_calc_from_reform(reform, year):\n",
    "    pol = tc.Policy()\n",
    "    pol.implement_reform(reform['policy'])\n",
    "    if pol.reform_errors:\n",
    "        print(pol.reform_errors)\n",
    "    calc = tc.Calculator(records=recs, policy=pol)\n",
    "    calc.advance_to_year(year)\n",
    "    calc.calc_all()\n",
    "    # Needs more if adding behavior.\n",
    "    return calc"
   ]
  },
  {
   "cell_type": "code",
   "execution_count": 7,
   "metadata": {},
   "outputs": [
    {
     "ename": "NameError",
     "evalue": "global name 'Policy' is not defined",
     "output_type": "error",
     "traceback": [
      "\u001b[0;31m---------------------------------------------------------------------\u001b[0m",
      "\u001b[0;31mNameError\u001b[0m                           Traceback (most recent call last)",
      "\u001b[0;32m<ipython-input-7-0fad5d206811>\u001b[0m in \u001b[0;36m<module>\u001b[0;34m()\u001b[0m\n\u001b[0;32m----> 1\u001b[0;31m \u001b[0mbaseline_calc\u001b[0m \u001b[0;34m=\u001b[0m \u001b[0mstatic_baseline_calc\u001b[0m\u001b[0;34m(\u001b[0m\u001b[0;36m2018\u001b[0m\u001b[0;34m)\u001b[0m\u001b[0;34m\u001b[0m\u001b[0m\n\u001b[0m\u001b[1;32m      2\u001b[0m \u001b[0mno_charitable_calc\u001b[0m \u001b[0;34m=\u001b[0m \u001b[0mstatic_calc_from_reform\u001b[0m\u001b[0;34m(\u001b[0m\u001b[0mno_charitable_reform\u001b[0m\u001b[0;34m,\u001b[0m \u001b[0;36m2018\u001b[0m\u001b[0;34m)\u001b[0m\u001b[0;34m\u001b[0m\u001b[0m\n\u001b[1;32m      3\u001b[0m \u001b[0mtcja_calc\u001b[0m \u001b[0;34m=\u001b[0m \u001b[0mstatic_calc_from_reform\u001b[0m\u001b[0;34m(\u001b[0m\u001b[0mtcja_reform\u001b[0m\u001b[0;34m,\u001b[0m \u001b[0;36m2018\u001b[0m\u001b[0;34m)\u001b[0m\u001b[0;34m\u001b[0m\u001b[0m\n\u001b[1;32m      4\u001b[0m \u001b[0mtcja_no_charitable_calc\u001b[0m \u001b[0;34m=\u001b[0m \u001b[0mstatic_calc_from_reform\u001b[0m\u001b[0;34m(\u001b[0m\u001b[0mtcja_no_charitable_reform\u001b[0m\u001b[0;34m,\u001b[0m \u001b[0;36m2018\u001b[0m\u001b[0;34m)\u001b[0m\u001b[0;34m\u001b[0m\u001b[0m\n",
      "\u001b[0;32m<ipython-input-5-be88245b30ff>\u001b[0m in \u001b[0;36mstatic_baseline_calc\u001b[0;34m(year)\u001b[0m\n\u001b[1;32m      1\u001b[0m \u001b[0;32mdef\u001b[0m \u001b[0mstatic_baseline_calc\u001b[0m\u001b[0;34m(\u001b[0m\u001b[0myear\u001b[0m\u001b[0;34m)\u001b[0m\u001b[0;34m:\u001b[0m\u001b[0;34m\u001b[0m\u001b[0m\n\u001b[0;32m----> 2\u001b[0;31m     \u001b[0mcalc\u001b[0m \u001b[0;34m=\u001b[0m \u001b[0mtc\u001b[0m\u001b[0;34m.\u001b[0m\u001b[0mCalculator\u001b[0m\u001b[0;34m(\u001b[0m\u001b[0mrecords\u001b[0m\u001b[0;34m=\u001b[0m\u001b[0mrecs\u001b[0m\u001b[0;34m,\u001b[0m \u001b[0mpolicy\u001b[0m\u001b[0;34m=\u001b[0m\u001b[0mPolicy\u001b[0m\u001b[0;34m(\u001b[0m\u001b[0;34m)\u001b[0m\u001b[0;34m)\u001b[0m\u001b[0;34m\u001b[0m\u001b[0m\n\u001b[0m\u001b[1;32m      3\u001b[0m     \u001b[0mcalc\u001b[0m\u001b[0;34m.\u001b[0m\u001b[0madvance_to_year\u001b[0m\u001b[0;34m(\u001b[0m\u001b[0myear\u001b[0m\u001b[0;34m)\u001b[0m\u001b[0;34m\u001b[0m\u001b[0m\n\u001b[1;32m      4\u001b[0m     \u001b[0mcalc\u001b[0m\u001b[0;34m.\u001b[0m\u001b[0mcalc_all\u001b[0m\u001b[0;34m(\u001b[0m\u001b[0;34m)\u001b[0m\u001b[0;34m\u001b[0m\u001b[0m\n\u001b[1;32m      5\u001b[0m     \u001b[0;32mreturn\u001b[0m \u001b[0mcalc\u001b[0m\u001b[0;34m\u001b[0m\u001b[0m\n",
      "\u001b[0;31mNameError\u001b[0m: global name 'Policy' is not defined"
     ]
    }
   ],
   "source": [
    "baseline_calc = static_baseline_calc(2018)\n",
    "no_charitable_calc = static_calc_from_reform(no_charitable_reform, 2018)\n",
    "tcja_calc = static_calc_from_reform(tcja_reform, 2018)\n",
    "tcja_no_charitable_calc = static_calc_from_reform(tcja_no_charitable_reform, 2018)"
   ]
  },
  {
   "cell_type": "markdown",
   "metadata": {},
   "source": [
    "## Analysis"
   ]
  },
  {
   "cell_type": "markdown",
   "metadata": {},
   "source": [
    "### Change to aggregate individual income tax revenue"
   ]
  },
  {
   "cell_type": "code",
   "execution_count": null,
   "metadata": {},
   "outputs": [],
   "source": [
    "print ('Pre-TCJA: ${:0.1f}B'.\n",
    "       format((no_charitable_calc.weighted_total('iitax') - \n",
    "               baseline_calc.weighted_total('iitax')) / 1e9))\n",
    "print ('TCJA: ${:0.1f}B'.\n",
    "       format((tcja_no_charitable_calc.weighted_total('iitax') - \n",
    "               tcja_calc.weighted_total('iitax')) / 1e9))"
   ]
  },
  {
   "cell_type": "markdown",
   "metadata": {},
   "source": [
    "### Construct difference tables by income decile\n",
    "\n",
    "Ignore errors ([issue](https://github.com/open-source-economics/Tax-Calculator/issues/1799))."
   ]
  },
  {
   "cell_type": "code",
   "execution_count": null,
   "metadata": {},
   "outputs": [],
   "source": [
    "baseline_diff_table = baseline_calc.difference_table(no_charitable_calc, tax_to_diff='iitax')\n",
    "tcja_diff_table = tcja_calc.difference_table(tcja_no_charitable_calc, tax_to_diff='iitax')"
   ]
  },
  {
   "cell_type": "code",
   "execution_count": null,
   "metadata": {},
   "outputs": [],
   "source": [
    "baseline_diff_table"
   ]
  },
  {
   "cell_type": "code",
   "execution_count": null,
   "metadata": {},
   "outputs": [],
   "source": [
    "tcja_diff_table"
   ]
  },
  {
   "cell_type": "markdown",
   "metadata": {},
   "source": [
    "Focus on % change to after-tax income."
   ]
  },
  {
   "cell_type": "code",
   "execution_count": null,
   "metadata": {},
   "outputs": [],
   "source": [
    "pd.DataFrame({'baseline': -baseline_diff_table['pc_aftertaxinc'],\n",
    "              'tcja': -tcja_diff_table['pc_aftertaxinc']})"
   ]
  },
  {
   "cell_type": "markdown",
   "metadata": {},
   "source": [
    "Graphed in Google Sheets [here](https://docs.google.com/spreadsheets/d/17ozKKuWUzgI4yn1OwqshmPBVWVklQ1GlpTAUepuwsF8/edit?usp=sharing).\n",
    "\n",
    "*TODO: Make a Seaborn or Bokeh plot here instead.*"
   ]
  },
  {
   "cell_type": "markdown",
   "metadata": {},
   "source": [
    "### After-tax income held by top decile\n",
    "\n",
    "Ignore errors ([issue](https://github.com/open-source-economics/Tax-Calculator/issues/1799))."
   ]
  },
  {
   "cell_type": "code",
   "execution_count": null,
   "metadata": {},
   "outputs": [],
   "source": [
    "baseline_dist, no_charitable_dist = baseline_calc.distribution_tables(no_charitable_calc)\n",
    "tcja_dist, tcja_no_charitable_dist = tcja_calc.distribution_tables(tcja_no_charitable_calc)"
   ]
  },
  {
   "cell_type": "code",
   "execution_count": null,
   "metadata": {
    "collapsed": true
   },
   "outputs": [],
   "source": [
    "def after_tax_income_top10pct(calc):\n",
    "    return calc.aftertax_income[9] / calc.aftertax_income[10]"
   ]
  },
  {
   "cell_type": "code",
   "execution_count": null,
   "metadata": {},
   "outputs": [],
   "source": [
    "print ('After-tax income from top 10% - Baseline: {:0.3f}%'.\n",
    "       format(after_tax_income_top10pct(baseline_dist) * 100))\n",
    "print ('After-tax income from top 10% - No charitable: {:0.3f}%'.\n",
    "       format(after_tax_income_top10pct(no_charitable_dist) * 100))\n",
    "print ('After-tax income from top 10% - Difference: {:0.3f}%'.\n",
    "       format((after_tax_income_top10pct(no_charitable_dist) - \n",
    "               after_tax_income_top10pct(baseline_dist)) * 100))"
   ]
  },
  {
   "cell_type": "code",
   "execution_count": null,
   "metadata": {},
   "outputs": [],
   "source": [
    "print ('After-tax income from top 10% - Baseline: {:0.3f}%'.\n",
    "       format(after_tax_income_top10pct(tcja_dist) * 100))\n",
    "print ('After-tax income from top 10% - No charitable: {:0.3f}%'.\n",
    "       format(after_tax_income_top10pct(tcja_no_charitable_dist) * 100))\n",
    "print ('After-tax income from top 10% - Difference: {:0.3f}%'.\n",
    "       format((after_tax_income_top10pct(tcja_no_charitable_dist) - \n",
    "               after_tax_income_top10pct(tcja_dist)) * 100))"
   ]
  }
 ],
 "metadata": {
  "kernelspec": {
   "display_name": "Python 2",
   "language": "python",
   "name": "python2"
  },
  "language_info": {
   "codemirror_mode": {
    "name": "ipython",
    "version": 2
   },
   "file_extension": ".py",
   "mimetype": "text/x-python",
   "name": "python",
   "nbconvert_exporter": "python",
   "pygments_lexer": "ipython2",
   "version": "2.7.14"
  }
 },
 "nbformat": 4,
 "nbformat_minor": 2
}
