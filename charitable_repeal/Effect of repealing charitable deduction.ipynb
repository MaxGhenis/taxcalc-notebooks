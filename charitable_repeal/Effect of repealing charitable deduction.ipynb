{
 "cells": [
  {
   "cell_type": "markdown",
   "metadata": {},
   "source": [
    "# Effect of repealing charitable deduction\n",
    "\n",
    "This identifies beneficiaries of the charitable deduction by modeling its repeal. Both repeal from current (2017) state and TCJA state are considered on a static basis. Change to after-tax income by decile and share of after-tax income held by top 10% are calculated.\n",
    "\n",
    "*taxcalc version: 0.14.3  |  Data: CPS  |  Tax year: 2018  |  Type: Static  |  Author: Max Ghenis  |  Date run: 2017-12-30*"
   ]
  },
  {
   "cell_type": "markdown",
   "metadata": {},
   "source": [
    "## Setup\n",
    "\n",
    "### Imports"
   ]
  },
  {
   "cell_type": "code",
   "execution_count": 1,
   "metadata": {
    "collapsed": true
   },
   "outputs": [],
   "source": [
    "from __future__ import print_function  # Necessary only if using Python 2.7.\n",
    "import taxcalc as tc\n",
    "import pandas as pd\n",
    "import urllib as url_lib  # On Python 3.6 use \"import urllib.request as url_lib\"."
   ]
  },
  {
   "cell_type": "markdown",
   "metadata": {},
   "source": [
    "### Load reforms\n",
    "\n",
    "Load from Github."
   ]
  },
  {
   "cell_type": "code",
   "execution_count": 2,
   "metadata": {
    "collapsed": true
   },
   "outputs": [],
   "source": [
    "# Folders where reforms live.\n",
    "GITHUB_BASE_URL = 'https://raw.githubusercontent.com/'\n",
    "\n",
    "TAXCALC_GITHUB_BASE_URL = (GITHUB_BASE_URL +\n",
    "                           'open-source-economics/Tax-Calculator/master/' +\n",
    "                           'taxcalc/reforms/')\n",
    "\n",
    "def read_url(url):\n",
    "    return url_lib.urlopen(url).read()\n",
    "\n",
    "def read_reform_github(reform_name):\n",
    "    return read_url(GITHUB_BASE_URL + reform_name + '.json')\n",
    "\n",
    "def read_reform_taxcalc_github(reform_name):\n",
    "    return read_url(TAXCALC_GITHUB_BASE_URL + reform_name + '.json')\n",
    "\n",
    "def create_static_params_github(reform_name):\n",
    "    return tc.Calculator.read_json_param_objects(\n",
    "        read_reform_github(reform_name), None)\n",
    "\n",
    "def create_static_params_taxcalc_github(reform_name):\n",
    "    return tc.Calculator.read_json_param_objects(\n",
    "        read_reform_taxcalc_github(reform_name), None)"
   ]
  },
  {
   "cell_type": "code",
   "execution_count": 3,
   "metadata": {
    "collapsed": true
   },
   "outputs": [],
   "source": [
    "no_charitable_reform = create_static_params_github(\n",
    "    'MaxGhenis/taxcalc-notebooks/master/charitable_repeal/NoCharitableDeduction')\n",
    "tcja_reform = create_static_params_taxcalc_github(\n",
    "    'TCJA_Reconciliation')\n",
    "tcja_no_charitable_reform = create_static_params_github(\n",
    "    'MaxGhenis/taxcalc-notebooks/master/charitable_repeal/TCJA_NoCharitable')"
   ]
  },
  {
   "cell_type": "markdown",
   "metadata": {},
   "source": [
    "### Specify `Policy` objects for static analyses"
   ]
  },
  {
   "cell_type": "code",
   "execution_count": 4,
   "metadata": {},
   "outputs": [],
   "source": [
    "recs = tc.Records.cps_constructor()"
   ]
  },
  {
   "cell_type": "code",
   "execution_count": 5,
   "metadata": {
    "collapsed": true
   },
   "outputs": [],
   "source": [
    "def static_baseline_calc(year):\n",
    "    calc = tc.Calculator(records=recs, policy=tc.Policy())\n",
    "    calc.advance_to_year(year)\n",
    "    calc.calc_all()\n",
    "    return calc"
   ]
  },
  {
   "cell_type": "code",
   "execution_count": 6,
   "metadata": {
    "collapsed": true
   },
   "outputs": [],
   "source": [
    "def static_calc_from_reform(reform, year):\n",
    "    pol = tc.Policy()\n",
    "    pol.implement_reform(reform['policy'])\n",
    "    if pol.reform_errors:\n",
    "        print(pol.reform_errors)\n",
    "    calc = tc.Calculator(records=recs, policy=pol)\n",
    "    calc.advance_to_year(year)\n",
    "    calc.calc_all()\n",
    "    # Needs more if adding behavior.\n",
    "    return calc"
   ]
  },
  {
   "cell_type": "code",
   "execution_count": 7,
   "metadata": {},
   "outputs": [
    {
     "name": "stdout",
     "output_type": "stream",
     "text": [
      "You loaded data for 2014.\n",
      "Tax-Calculator startup automatically extrapolated your data to 2014.\n",
      "You loaded data for 2014.\n",
      "Tax-Calculator startup automatically extrapolated your data to 2014.\n",
      "You loaded data for 2014.\n",
      "Tax-Calculator startup automatically extrapolated your data to 2014.\n",
      "You loaded data for 2014.\n",
      "Tax-Calculator startup automatically extrapolated your data to 2014.\n"
     ]
    }
   ],
   "source": [
    "baseline_calc = static_baseline_calc(2018)\n",
    "no_charitable_calc = static_calc_from_reform(no_charitable_reform, 2018)\n",
    "tcja_calc = static_calc_from_reform(tcja_reform, 2018)\n",
    "tcja_no_charitable_calc = static_calc_from_reform(tcja_no_charitable_reform, 2018)"
   ]
  },
  {
   "cell_type": "markdown",
   "metadata": {},
   "source": [
    "## Analysis"
   ]
  },
  {
   "cell_type": "markdown",
   "metadata": {},
   "source": [
    "### Change to aggregate individual income tax revenue"
   ]
  },
  {
   "cell_type": "code",
   "execution_count": 8,
   "metadata": {},
   "outputs": [
    {
     "name": "stdout",
     "output_type": "stream",
     "text": [
      "Pre-TCJA: $44.8B\n",
      "TCJA: $22.4B\n"
     ]
    }
   ],
   "source": [
    "print ('Pre-TCJA: ${:0.1f}B'.\n",
    "       format((no_charitable_calc.weighted_total('iitax') - \n",
    "               baseline_calc.weighted_total('iitax')) / 1e9))\n",
    "print ('TCJA: ${:0.1f}B'.\n",
    "       format((tcja_no_charitable_calc.weighted_total('iitax') - \n",
    "               tcja_calc.weighted_total('iitax')) / 1e9))"
   ]
  },
  {
   "cell_type": "markdown",
   "metadata": {},
   "source": [
    "### Construct difference tables by income decile\n",
    "\n",
    "Ignore errors ([issue](https://github.com/open-source-economics/Tax-Calculator/issues/1799))."
   ]
  },
  {
   "cell_type": "code",
   "execution_count": 9,
   "metadata": {},
   "outputs": [
    {
     "ename": "ValueError",
     "evalue": "Buffer dtype mismatch, expected 'Python object' but got 'long'",
     "output_type": "error",
     "traceback": [
      "\u001b[0;31m---------------------------------------------------------------------\u001b[0m",
      "\u001b[0;31mValueError\u001b[0m                          Traceback (most recent call last)",
      "\u001b[0;31mValueError\u001b[0m: Buffer dtype mismatch, expected 'Python object' but got 'long'"
     ]
    },
    {
     "name": "stderr",
     "output_type": "stream",
     "text": [
      "Exception ValueError: \"Buffer dtype mismatch, expected 'Python object' but got 'long'\" in 'pandas._libs.lib.is_bool_array' ignored\n"
     ]
    },
    {
     "ename": "ValueError",
     "evalue": "Buffer dtype mismatch, expected 'Python object' but got 'long'",
     "output_type": "error",
     "traceback": [
      "\u001b[0;31m---------------------------------------------------------------------\u001b[0m",
      "\u001b[0;31mValueError\u001b[0m                          Traceback (most recent call last)",
      "\u001b[0;31mValueError\u001b[0m: Buffer dtype mismatch, expected 'Python object' but got 'long'"
     ]
    },
    {
     "name": "stderr",
     "output_type": "stream",
     "text": [
      "Exception ValueError: \"Buffer dtype mismatch, expected 'Python object' but got 'long'\" in 'pandas._libs.lib.is_bool_array' ignored\n"
     ]
    }
   ],
   "source": [
    "baseline_diff_table = baseline_calc.difference_table(no_charitable_calc, tax_to_diff='iitax')\n",
    "tcja_diff_table = tcja_calc.difference_table(tcja_no_charitable_calc, tax_to_diff='iitax')"
   ]
  },
  {
   "cell_type": "code",
   "execution_count": 10,
   "metadata": {},
   "outputs": [
    {
     "data": {
      "text/html": [
       "<div>\n",
       "<style scoped>\n",
       "    .dataframe tbody tr th:only-of-type {\n",
       "        vertical-align: middle;\n",
       "    }\n",
       "\n",
       "    .dataframe tbody tr th {\n",
       "        vertical-align: top;\n",
       "    }\n",
       "\n",
       "    .dataframe thead th {\n",
       "        text-align: right;\n",
       "    }\n",
       "</style>\n",
       "<table border=\"1\" class=\"dataframe\">\n",
       "  <thead>\n",
       "    <tr style=\"text-align: right;\">\n",
       "      <th></th>\n",
       "      <th>count</th>\n",
       "      <th>tax_cut</th>\n",
       "      <th>perc_cut</th>\n",
       "      <th>tax_inc</th>\n",
       "      <th>perc_inc</th>\n",
       "      <th>mean</th>\n",
       "      <th>tot_change</th>\n",
       "      <th>share_of_change</th>\n",
       "      <th>perc_aftertax</th>\n",
       "      <th>pc_aftertaxinc</th>\n",
       "    </tr>\n",
       "  </thead>\n",
       "  <tbody>\n",
       "    <tr>\n",
       "      <th>0</th>\n",
       "      <td>16,989,416.58</td>\n",
       "      <td>0.00</td>\n",
       "      <td>0.00</td>\n",
       "      <td>500.80</td>\n",
       "      <td>0.00</td>\n",
       "      <td>0.00</td>\n",
       "      <td>43,611.20</td>\n",
       "      <td>0.00</td>\n",
       "      <td>-0.00</td>\n",
       "      <td>0.00</td>\n",
       "    </tr>\n",
       "    <tr>\n",
       "      <th>1</th>\n",
       "      <td>16,988,285.70</td>\n",
       "      <td>0.00</td>\n",
       "      <td>0.00</td>\n",
       "      <td>50,187.09</td>\n",
       "      <td>0.30</td>\n",
       "      <td>0.28</td>\n",
       "      <td>4,760,463.72</td>\n",
       "      <td>0.01</td>\n",
       "      <td>0.00</td>\n",
       "      <td>-0.00</td>\n",
       "    </tr>\n",
       "    <tr>\n",
       "      <th>2</th>\n",
       "      <td>16,990,004.05</td>\n",
       "      <td>0.00</td>\n",
       "      <td>0.00</td>\n",
       "      <td>691,813.67</td>\n",
       "      <td>4.07</td>\n",
       "      <td>5.15</td>\n",
       "      <td>87,448,642.66</td>\n",
       "      <td>0.20</td>\n",
       "      <td>0.03</td>\n",
       "      <td>-0.03</td>\n",
       "    </tr>\n",
       "    <tr>\n",
       "      <th>3</th>\n",
       "      <td>16,989,656.05</td>\n",
       "      <td>0.00</td>\n",
       "      <td>0.00</td>\n",
       "      <td>1,903,067.48</td>\n",
       "      <td>11.20</td>\n",
       "      <td>27.14</td>\n",
       "      <td>461,137,528.32</td>\n",
       "      <td>1.03</td>\n",
       "      <td>0.11</td>\n",
       "      <td>-0.11</td>\n",
       "    </tr>\n",
       "    <tr>\n",
       "      <th>4</th>\n",
       "      <td>16,989,954.66</td>\n",
       "      <td>0.00</td>\n",
       "      <td>0.00</td>\n",
       "      <td>2,738,159.87</td>\n",
       "      <td>16.12</td>\n",
       "      <td>64.25</td>\n",
       "      <td>1,091,628,802.00</td>\n",
       "      <td>2.44</td>\n",
       "      <td>0.21</td>\n",
       "      <td>-0.21</td>\n",
       "    </tr>\n",
       "    <tr>\n",
       "      <th>5</th>\n",
       "      <td>16,989,240.80</td>\n",
       "      <td>0.00</td>\n",
       "      <td>0.00</td>\n",
       "      <td>3,682,693.42</td>\n",
       "      <td>21.68</td>\n",
       "      <td>119.80</td>\n",
       "      <td>2,035,392,083.49</td>\n",
       "      <td>4.55</td>\n",
       "      <td>0.31</td>\n",
       "      <td>-0.31</td>\n",
       "    </tr>\n",
       "    <tr>\n",
       "      <th>6</th>\n",
       "      <td>16,989,686.38</td>\n",
       "      <td>0.00</td>\n",
       "      <td>0.00</td>\n",
       "      <td>4,935,193.47</td>\n",
       "      <td>29.05</td>\n",
       "      <td>254.36</td>\n",
       "      <td>4,321,435,690.84</td>\n",
       "      <td>9.66</td>\n",
       "      <td>0.50</td>\n",
       "      <td>-0.50</td>\n",
       "    </tr>\n",
       "    <tr>\n",
       "      <th>7</th>\n",
       "      <td>16,989,484.52</td>\n",
       "      <td>0.00</td>\n",
       "      <td>0.00</td>\n",
       "      <td>5,809,046.03</td>\n",
       "      <td>34.19</td>\n",
       "      <td>399.90</td>\n",
       "      <td>6,794,116,838.92</td>\n",
       "      <td>15.18</td>\n",
       "      <td>0.59</td>\n",
       "      <td>-0.59</td>\n",
       "    </tr>\n",
       "    <tr>\n",
       "      <th>8</th>\n",
       "      <td>16,989,613.44</td>\n",
       "      <td>0.00</td>\n",
       "      <td>0.00</td>\n",
       "      <td>7,050,328.08</td>\n",
       "      <td>41.50</td>\n",
       "      <td>626.33</td>\n",
       "      <td>10,641,103,380.35</td>\n",
       "      <td>23.78</td>\n",
       "      <td>0.65</td>\n",
       "      <td>-0.65</td>\n",
       "    </tr>\n",
       "    <tr>\n",
       "      <th>9</th>\n",
       "      <td>16,989,497.48</td>\n",
       "      <td>0.00</td>\n",
       "      <td>0.00</td>\n",
       "      <td>8,284,178.18</td>\n",
       "      <td>48.76</td>\n",
       "      <td>1,136.78</td>\n",
       "      <td>19,313,295,549.07</td>\n",
       "      <td>43.16</td>\n",
       "      <td>0.54</td>\n",
       "      <td>-0.54</td>\n",
       "    </tr>\n",
       "    <tr>\n",
       "      <th>10</th>\n",
       "      <td>169,894,839.66</td>\n",
       "      <td>0.00</td>\n",
       "      <td>0.00</td>\n",
       "      <td>35,145,168.09</td>\n",
       "      <td>20.69</td>\n",
       "      <td>263.40</td>\n",
       "      <td>44,750,362,590.55</td>\n",
       "      <td>100.00</td>\n",
       "      <td>0.48</td>\n",
       "      <td>-0.48</td>\n",
       "    </tr>\n",
       "    <tr>\n",
       "      <th>11</th>\n",
       "      <td>8,494,172.66</td>\n",
       "      <td>0.00</td>\n",
       "      <td>0.00</td>\n",
       "      <td>3,966,043.29</td>\n",
       "      <td>46.69</td>\n",
       "      <td>901.35</td>\n",
       "      <td>7,656,258,958.38</td>\n",
       "      <td>17.11</td>\n",
       "      <td>0.67</td>\n",
       "      <td>-0.67</td>\n",
       "    </tr>\n",
       "    <tr>\n",
       "      <th>12</th>\n",
       "      <td>6,794,896.30</td>\n",
       "      <td>0.00</td>\n",
       "      <td>0.00</td>\n",
       "      <td>3,404,351.01</td>\n",
       "      <td>50.10</td>\n",
       "      <td>1,267.41</td>\n",
       "      <td>8,611,913,816.30</td>\n",
       "      <td>19.24</td>\n",
       "      <td>0.62</td>\n",
       "      <td>-0.62</td>\n",
       "    </tr>\n",
       "    <tr>\n",
       "      <th>13</th>\n",
       "      <td>1,700,428.52</td>\n",
       "      <td>0.00</td>\n",
       "      <td>0.00</td>\n",
       "      <td>913,783.88</td>\n",
       "      <td>53.74</td>\n",
       "      <td>1,790.80</td>\n",
       "      <td>3,045,122,774.39</td>\n",
       "      <td>6.80</td>\n",
       "      <td>0.29</td>\n",
       "      <td>-0.29</td>\n",
       "    </tr>\n",
       "  </tbody>\n",
       "</table>\n",
       "</div>"
      ],
      "text/plain": [
       "            count    tax_cut   perc_cut       tax_inc   perc_inc       mean  \\\n",
       "0   16,989,416.58       0.00       0.00        500.80       0.00       0.00   \n",
       "1   16,988,285.70       0.00       0.00     50,187.09       0.30       0.28   \n",
       "2   16,990,004.05       0.00       0.00    691,813.67       4.07       5.15   \n",
       "3   16,989,656.05       0.00       0.00  1,903,067.48      11.20      27.14   \n",
       "4   16,989,954.66       0.00       0.00  2,738,159.87      16.12      64.25   \n",
       "5   16,989,240.80       0.00       0.00  3,682,693.42      21.68     119.80   \n",
       "6   16,989,686.38       0.00       0.00  4,935,193.47      29.05     254.36   \n",
       "7   16,989,484.52       0.00       0.00  5,809,046.03      34.19     399.90   \n",
       "8   16,989,613.44       0.00       0.00  7,050,328.08      41.50     626.33   \n",
       "9   16,989,497.48       0.00       0.00  8,284,178.18      48.76   1,136.78   \n",
       "10 169,894,839.66       0.00       0.00 35,145,168.09      20.69     263.40   \n",
       "11   8,494,172.66       0.00       0.00  3,966,043.29      46.69     901.35   \n",
       "12   6,794,896.30       0.00       0.00  3,404,351.01      50.10   1,267.41   \n",
       "13   1,700,428.52       0.00       0.00    913,783.88      53.74   1,790.80   \n",
       "\n",
       "          tot_change  share_of_change  perc_aftertax  pc_aftertaxinc  \n",
       "0          43,611.20             0.00          -0.00            0.00  \n",
       "1       4,760,463.72             0.01           0.00           -0.00  \n",
       "2      87,448,642.66             0.20           0.03           -0.03  \n",
       "3     461,137,528.32             1.03           0.11           -0.11  \n",
       "4   1,091,628,802.00             2.44           0.21           -0.21  \n",
       "5   2,035,392,083.49             4.55           0.31           -0.31  \n",
       "6   4,321,435,690.84             9.66           0.50           -0.50  \n",
       "7   6,794,116,838.92            15.18           0.59           -0.59  \n",
       "8  10,641,103,380.35            23.78           0.65           -0.65  \n",
       "9  19,313,295,549.07            43.16           0.54           -0.54  \n",
       "10 44,750,362,590.55           100.00           0.48           -0.48  \n",
       "11  7,656,258,958.38            17.11           0.67           -0.67  \n",
       "12  8,611,913,816.30            19.24           0.62           -0.62  \n",
       "13  3,045,122,774.39             6.80           0.29           -0.29  "
      ]
     },
     "execution_count": 10,
     "metadata": {},
     "output_type": "execute_result"
    }
   ],
   "source": [
    "baseline_diff_table"
   ]
  },
  {
   "cell_type": "code",
   "execution_count": 11,
   "metadata": {},
   "outputs": [
    {
     "data": {
      "text/html": [
       "<div>\n",
       "<style scoped>\n",
       "    .dataframe tbody tr th:only-of-type {\n",
       "        vertical-align: middle;\n",
       "    }\n",
       "\n",
       "    .dataframe tbody tr th {\n",
       "        vertical-align: top;\n",
       "    }\n",
       "\n",
       "    .dataframe thead th {\n",
       "        text-align: right;\n",
       "    }\n",
       "</style>\n",
       "<table border=\"1\" class=\"dataframe\">\n",
       "  <thead>\n",
       "    <tr style=\"text-align: right;\">\n",
       "      <th></th>\n",
       "      <th>count</th>\n",
       "      <th>tax_cut</th>\n",
       "      <th>perc_cut</th>\n",
       "      <th>tax_inc</th>\n",
       "      <th>perc_inc</th>\n",
       "      <th>mean</th>\n",
       "      <th>tot_change</th>\n",
       "      <th>share_of_change</th>\n",
       "      <th>perc_aftertax</th>\n",
       "      <th>pc_aftertaxinc</th>\n",
       "    </tr>\n",
       "  </thead>\n",
       "  <tbody>\n",
       "    <tr>\n",
       "      <th>0</th>\n",
       "      <td>16,989,416.58</td>\n",
       "      <td>0.00</td>\n",
       "      <td>0.00</td>\n",
       "      <td>500.80</td>\n",
       "      <td>0.00</td>\n",
       "      <td>0.00</td>\n",
       "      <td>62,591.29</td>\n",
       "      <td>0.00</td>\n",
       "      <td>-0.00</td>\n",
       "      <td>0.00</td>\n",
       "    </tr>\n",
       "    <tr>\n",
       "      <th>1</th>\n",
       "      <td>16,988,285.70</td>\n",
       "      <td>0.00</td>\n",
       "      <td>0.00</td>\n",
       "      <td>5,207.10</td>\n",
       "      <td>0.03</td>\n",
       "      <td>0.01</td>\n",
       "      <td>222,332.56</td>\n",
       "      <td>0.00</td>\n",
       "      <td>0.00</td>\n",
       "      <td>-0.00</td>\n",
       "    </tr>\n",
       "    <tr>\n",
       "      <th>2</th>\n",
       "      <td>16,990,004.05</td>\n",
       "      <td>0.00</td>\n",
       "      <td>0.00</td>\n",
       "      <td>133,144.85</td>\n",
       "      <td>0.78</td>\n",
       "      <td>1.41</td>\n",
       "      <td>23,923,356.00</td>\n",
       "      <td>0.11</td>\n",
       "      <td>0.01</td>\n",
       "      <td>-0.01</td>\n",
       "    </tr>\n",
       "    <tr>\n",
       "      <th>3</th>\n",
       "      <td>16,989,656.05</td>\n",
       "      <td>0.00</td>\n",
       "      <td>0.00</td>\n",
       "      <td>332,876.29</td>\n",
       "      <td>1.96</td>\n",
       "      <td>5.39</td>\n",
       "      <td>91,611,714.09</td>\n",
       "      <td>0.41</td>\n",
       "      <td>0.02</td>\n",
       "      <td>-0.02</td>\n",
       "    </tr>\n",
       "    <tr>\n",
       "      <th>4</th>\n",
       "      <td>16,989,954.66</td>\n",
       "      <td>0.00</td>\n",
       "      <td>0.00</td>\n",
       "      <td>615,923.46</td>\n",
       "      <td>3.63</td>\n",
       "      <td>13.49</td>\n",
       "      <td>229,159,421.60</td>\n",
       "      <td>1.02</td>\n",
       "      <td>0.04</td>\n",
       "      <td>-0.04</td>\n",
       "    </tr>\n",
       "    <tr>\n",
       "      <th>5</th>\n",
       "      <td>16,989,240.80</td>\n",
       "      <td>0.00</td>\n",
       "      <td>0.00</td>\n",
       "      <td>960,374.81</td>\n",
       "      <td>5.65</td>\n",
       "      <td>29.21</td>\n",
       "      <td>496,188,132.72</td>\n",
       "      <td>2.21</td>\n",
       "      <td>0.07</td>\n",
       "      <td>-0.07</td>\n",
       "    </tr>\n",
       "    <tr>\n",
       "      <th>6</th>\n",
       "      <td>16,989,686.38</td>\n",
       "      <td>0.00</td>\n",
       "      <td>0.00</td>\n",
       "      <td>1,536,497.48</td>\n",
       "      <td>9.04</td>\n",
       "      <td>76.15</td>\n",
       "      <td>1,293,752,014.36</td>\n",
       "      <td>5.77</td>\n",
       "      <td>0.15</td>\n",
       "      <td>-0.15</td>\n",
       "    </tr>\n",
       "    <tr>\n",
       "      <th>7</th>\n",
       "      <td>16,989,484.52</td>\n",
       "      <td>0.00</td>\n",
       "      <td>0.00</td>\n",
       "      <td>2,781,233.05</td>\n",
       "      <td>16.37</td>\n",
       "      <td>128.86</td>\n",
       "      <td>2,189,182,040.94</td>\n",
       "      <td>9.76</td>\n",
       "      <td>0.19</td>\n",
       "      <td>-0.19</td>\n",
       "    </tr>\n",
       "    <tr>\n",
       "      <th>8</th>\n",
       "      <td>16,989,613.44</td>\n",
       "      <td>0.00</td>\n",
       "      <td>0.00</td>\n",
       "      <td>5,451,774.32</td>\n",
       "      <td>32.09</td>\n",
       "      <td>308.49</td>\n",
       "      <td>5,241,064,357.63</td>\n",
       "      <td>23.37</td>\n",
       "      <td>0.32</td>\n",
       "      <td>-0.32</td>\n",
       "    </tr>\n",
       "    <tr>\n",
       "      <th>9</th>\n",
       "      <td>16,989,497.48</td>\n",
       "      <td>0.00</td>\n",
       "      <td>0.00</td>\n",
       "      <td>7,132,252.57</td>\n",
       "      <td>41.98</td>\n",
       "      <td>757.16</td>\n",
       "      <td>12,863,684,595.64</td>\n",
       "      <td>57.35</td>\n",
       "      <td>0.35</td>\n",
       "      <td>-0.35</td>\n",
       "    </tr>\n",
       "    <tr>\n",
       "      <th>10</th>\n",
       "      <td>169,894,839.66</td>\n",
       "      <td>0.00</td>\n",
       "      <td>0.00</td>\n",
       "      <td>18,949,784.73</td>\n",
       "      <td>11.15</td>\n",
       "      <td>132.02</td>\n",
       "      <td>22,428,850,556.81</td>\n",
       "      <td>100.00</td>\n",
       "      <td>0.24</td>\n",
       "      <td>-0.24</td>\n",
       "    </tr>\n",
       "    <tr>\n",
       "      <th>11</th>\n",
       "      <td>8,494,172.66</td>\n",
       "      <td>0.00</td>\n",
       "      <td>0.00</td>\n",
       "      <td>3,318,480.06</td>\n",
       "      <td>39.07</td>\n",
       "      <td>552.80</td>\n",
       "      <td>4,695,555,959.32</td>\n",
       "      <td>20.94</td>\n",
       "      <td>0.40</td>\n",
       "      <td>-0.40</td>\n",
       "    </tr>\n",
       "    <tr>\n",
       "      <th>12</th>\n",
       "      <td>6,794,896.30</td>\n",
       "      <td>0.00</td>\n",
       "      <td>0.00</td>\n",
       "      <td>2,972,824.34</td>\n",
       "      <td>43.75</td>\n",
       "      <td>829.85</td>\n",
       "      <td>5,638,718,300.70</td>\n",
       "      <td>25.14</td>\n",
       "      <td>0.40</td>\n",
       "      <td>-0.40</td>\n",
       "    </tr>\n",
       "    <tr>\n",
       "      <th>13</th>\n",
       "      <td>1,700,428.52</td>\n",
       "      <td>0.00</td>\n",
       "      <td>0.00</td>\n",
       "      <td>840,948.17</td>\n",
       "      <td>49.46</td>\n",
       "      <td>1,487.51</td>\n",
       "      <td>2,529,410,335.61</td>\n",
       "      <td>11.28</td>\n",
       "      <td>0.23</td>\n",
       "      <td>-0.23</td>\n",
       "    </tr>\n",
       "  </tbody>\n",
       "</table>\n",
       "</div>"
      ],
      "text/plain": [
       "            count    tax_cut   perc_cut       tax_inc   perc_inc       mean  \\\n",
       "0   16,989,416.58       0.00       0.00        500.80       0.00       0.00   \n",
       "1   16,988,285.70       0.00       0.00      5,207.10       0.03       0.01   \n",
       "2   16,990,004.05       0.00       0.00    133,144.85       0.78       1.41   \n",
       "3   16,989,656.05       0.00       0.00    332,876.29       1.96       5.39   \n",
       "4   16,989,954.66       0.00       0.00    615,923.46       3.63      13.49   \n",
       "5   16,989,240.80       0.00       0.00    960,374.81       5.65      29.21   \n",
       "6   16,989,686.38       0.00       0.00  1,536,497.48       9.04      76.15   \n",
       "7   16,989,484.52       0.00       0.00  2,781,233.05      16.37     128.86   \n",
       "8   16,989,613.44       0.00       0.00  5,451,774.32      32.09     308.49   \n",
       "9   16,989,497.48       0.00       0.00  7,132,252.57      41.98     757.16   \n",
       "10 169,894,839.66       0.00       0.00 18,949,784.73      11.15     132.02   \n",
       "11   8,494,172.66       0.00       0.00  3,318,480.06      39.07     552.80   \n",
       "12   6,794,896.30       0.00       0.00  2,972,824.34      43.75     829.85   \n",
       "13   1,700,428.52       0.00       0.00    840,948.17      49.46   1,487.51   \n",
       "\n",
       "          tot_change  share_of_change  perc_aftertax  pc_aftertaxinc  \n",
       "0          62,591.29             0.00          -0.00            0.00  \n",
       "1         222,332.56             0.00           0.00           -0.00  \n",
       "2      23,923,356.00             0.11           0.01           -0.01  \n",
       "3      91,611,714.09             0.41           0.02           -0.02  \n",
       "4     229,159,421.60             1.02           0.04           -0.04  \n",
       "5     496,188,132.72             2.21           0.07           -0.07  \n",
       "6   1,293,752,014.36             5.77           0.15           -0.15  \n",
       "7   2,189,182,040.94             9.76           0.19           -0.19  \n",
       "8   5,241,064,357.63            23.37           0.32           -0.32  \n",
       "9  12,863,684,595.64            57.35           0.35           -0.35  \n",
       "10 22,428,850,556.81           100.00           0.24           -0.24  \n",
       "11  4,695,555,959.32            20.94           0.40           -0.40  \n",
       "12  5,638,718,300.70            25.14           0.40           -0.40  \n",
       "13  2,529,410,335.61            11.28           0.23           -0.23  "
      ]
     },
     "execution_count": 11,
     "metadata": {},
     "output_type": "execute_result"
    }
   ],
   "source": [
    "tcja_diff_table"
   ]
  },
  {
   "cell_type": "markdown",
   "metadata": {},
   "source": [
    "Focus on % change to after-tax income."
   ]
  },
  {
   "cell_type": "code",
   "execution_count": 12,
   "metadata": {},
   "outputs": [
    {
     "data": {
      "text/html": [
       "<div>\n",
       "<style scoped>\n",
       "    .dataframe tbody tr th:only-of-type {\n",
       "        vertical-align: middle;\n",
       "    }\n",
       "\n",
       "    .dataframe tbody tr th {\n",
       "        vertical-align: top;\n",
       "    }\n",
       "\n",
       "    .dataframe thead th {\n",
       "        text-align: right;\n",
       "    }\n",
       "</style>\n",
       "<table border=\"1\" class=\"dataframe\">\n",
       "  <thead>\n",
       "    <tr style=\"text-align: right;\">\n",
       "      <th></th>\n",
       "      <th>baseline</th>\n",
       "      <th>tcja</th>\n",
       "    </tr>\n",
       "  </thead>\n",
       "  <tbody>\n",
       "    <tr>\n",
       "      <th>0</th>\n",
       "      <td>-0.00</td>\n",
       "      <td>-0.00</td>\n",
       "    </tr>\n",
       "    <tr>\n",
       "      <th>1</th>\n",
       "      <td>0.00</td>\n",
       "      <td>0.00</td>\n",
       "    </tr>\n",
       "    <tr>\n",
       "      <th>2</th>\n",
       "      <td>0.03</td>\n",
       "      <td>0.01</td>\n",
       "    </tr>\n",
       "    <tr>\n",
       "      <th>3</th>\n",
       "      <td>0.11</td>\n",
       "      <td>0.02</td>\n",
       "    </tr>\n",
       "    <tr>\n",
       "      <th>4</th>\n",
       "      <td>0.21</td>\n",
       "      <td>0.04</td>\n",
       "    </tr>\n",
       "    <tr>\n",
       "      <th>5</th>\n",
       "      <td>0.31</td>\n",
       "      <td>0.07</td>\n",
       "    </tr>\n",
       "    <tr>\n",
       "      <th>6</th>\n",
       "      <td>0.50</td>\n",
       "      <td>0.15</td>\n",
       "    </tr>\n",
       "    <tr>\n",
       "      <th>7</th>\n",
       "      <td>0.59</td>\n",
       "      <td>0.19</td>\n",
       "    </tr>\n",
       "    <tr>\n",
       "      <th>8</th>\n",
       "      <td>0.65</td>\n",
       "      <td>0.32</td>\n",
       "    </tr>\n",
       "    <tr>\n",
       "      <th>9</th>\n",
       "      <td>0.54</td>\n",
       "      <td>0.35</td>\n",
       "    </tr>\n",
       "    <tr>\n",
       "      <th>10</th>\n",
       "      <td>0.48</td>\n",
       "      <td>0.24</td>\n",
       "    </tr>\n",
       "    <tr>\n",
       "      <th>11</th>\n",
       "      <td>0.67</td>\n",
       "      <td>0.40</td>\n",
       "    </tr>\n",
       "    <tr>\n",
       "      <th>12</th>\n",
       "      <td>0.62</td>\n",
       "      <td>0.40</td>\n",
       "    </tr>\n",
       "    <tr>\n",
       "      <th>13</th>\n",
       "      <td>0.29</td>\n",
       "      <td>0.23</td>\n",
       "    </tr>\n",
       "  </tbody>\n",
       "</table>\n",
       "</div>"
      ],
      "text/plain": [
       "     baseline       tcja\n",
       "0       -0.00      -0.00\n",
       "1        0.00       0.00\n",
       "2        0.03       0.01\n",
       "3        0.11       0.02\n",
       "4        0.21       0.04\n",
       "5        0.31       0.07\n",
       "6        0.50       0.15\n",
       "7        0.59       0.19\n",
       "8        0.65       0.32\n",
       "9        0.54       0.35\n",
       "10       0.48       0.24\n",
       "11       0.67       0.40\n",
       "12       0.62       0.40\n",
       "13       0.29       0.23"
      ]
     },
     "execution_count": 12,
     "metadata": {},
     "output_type": "execute_result"
    }
   ],
   "source": [
    "pd.DataFrame({'baseline': -baseline_diff_table['pc_aftertaxinc'],\n",
    "              'tcja': -tcja_diff_table['pc_aftertaxinc']})"
   ]
  },
  {
   "cell_type": "markdown",
   "metadata": {},
   "source": [
    "Graphed in Google Sheets [here](https://docs.google.com/spreadsheets/d/17ozKKuWUzgI4yn1OwqshmPBVWVklQ1GlpTAUepuwsF8/edit?usp=sharing).\n",
    "\n",
    "*TODO: Make a Seaborn or Bokeh plot here instead.*"
   ]
  },
  {
   "cell_type": "markdown",
   "metadata": {},
   "source": [
    "### After-tax income held by top decile\n",
    "\n",
    "Ignore errors ([issue](https://github.com/open-source-economics/Tax-Calculator/issues/1799))."
   ]
  },
  {
   "cell_type": "code",
   "execution_count": 13,
   "metadata": {},
   "outputs": [
    {
     "ename": "ValueError",
     "evalue": "Buffer dtype mismatch, expected 'Python object' but got 'long'",
     "output_type": "error",
     "traceback": [
      "\u001b[0;31m---------------------------------------------------------------------\u001b[0m",
      "\u001b[0;31mValueError\u001b[0m                          Traceback (most recent call last)",
      "\u001b[0;31mValueError\u001b[0m: Buffer dtype mismatch, expected 'Python object' but got 'long'"
     ]
    },
    {
     "name": "stderr",
     "output_type": "stream",
     "text": [
      "Exception ValueError: \"Buffer dtype mismatch, expected 'Python object' but got 'long'\" in 'pandas._libs.lib.is_bool_array' ignored\n"
     ]
    },
    {
     "ename": "ValueError",
     "evalue": "Buffer dtype mismatch, expected 'Python object' but got 'long'",
     "output_type": "error",
     "traceback": [
      "\u001b[0;31m---------------------------------------------------------------------\u001b[0m",
      "\u001b[0;31mValueError\u001b[0m                          Traceback (most recent call last)",
      "\u001b[0;31mValueError\u001b[0m: Buffer dtype mismatch, expected 'Python object' but got 'long'"
     ]
    },
    {
     "name": "stderr",
     "output_type": "stream",
     "text": [
      "Exception ValueError: \"Buffer dtype mismatch, expected 'Python object' but got 'long'\" in 'pandas._libs.lib.is_bool_array' ignored\n"
     ]
    },
    {
     "ename": "ValueError",
     "evalue": "Buffer dtype mismatch, expected 'Python object' but got 'long'",
     "output_type": "error",
     "traceback": [
      "\u001b[0;31m---------------------------------------------------------------------\u001b[0m",
      "\u001b[0;31mValueError\u001b[0m                          Traceback (most recent call last)",
      "\u001b[0;31mValueError\u001b[0m: Buffer dtype mismatch, expected 'Python object' but got 'long'"
     ]
    },
    {
     "name": "stderr",
     "output_type": "stream",
     "text": [
      "Exception ValueError: \"Buffer dtype mismatch, expected 'Python object' but got 'long'\" in 'pandas._libs.lib.is_bool_array' ignored\n"
     ]
    },
    {
     "ename": "ValueError",
     "evalue": "Buffer dtype mismatch, expected 'Python object' but got 'long'",
     "output_type": "error",
     "traceback": [
      "\u001b[0;31m---------------------------------------------------------------------\u001b[0m",
      "\u001b[0;31mValueError\u001b[0m                          Traceback (most recent call last)",
      "\u001b[0;31mValueError\u001b[0m: Buffer dtype mismatch, expected 'Python object' but got 'long'"
     ]
    },
    {
     "name": "stderr",
     "output_type": "stream",
     "text": [
      "Exception ValueError: \"Buffer dtype mismatch, expected 'Python object' but got 'long'\" in 'pandas._libs.lib.is_bool_array' ignored\n"
     ]
    }
   ],
   "source": [
    "baseline_dist, no_charitable_dist = baseline_calc.distribution_tables(no_charitable_calc)\n",
    "tcja_dist, tcja_no_charitable_dist = tcja_calc.distribution_tables(tcja_no_charitable_calc)"
   ]
  },
  {
   "cell_type": "code",
   "execution_count": 14,
   "metadata": {
    "collapsed": true
   },
   "outputs": [],
   "source": [
    "def after_tax_income_top10pct(calc):\n",
    "    return calc.aftertax_income[9] / calc.aftertax_income[10]"
   ]
  },
  {
   "cell_type": "code",
   "execution_count": 15,
   "metadata": {},
   "outputs": [
    {
     "name": "stdout",
     "output_type": "stream",
     "text": [
      "After-tax income from top 10% - Baseline: 38.773%\n",
      "After-tax income from top 10% - No charitable: 38.751%\n",
      "After-tax income from top 10% - Difference: -0.021%\n"
     ]
    }
   ],
   "source": [
    "print ('After-tax income from top 10% - Baseline: {:0.3f}%'.\n",
    "       format(after_tax_income_top10pct(baseline_dist) * 100))\n",
    "print ('After-tax income from top 10% - No charitable: {:0.3f}%'.\n",
    "       format(after_tax_income_top10pct(no_charitable_dist) * 100))\n",
    "print ('After-tax income from top 10% - Difference: {:0.3f}%'.\n",
    "       format((after_tax_income_top10pct(no_charitable_dist) - \n",
    "               after_tax_income_top10pct(baseline_dist)) * 100))"
   ]
  },
  {
   "cell_type": "code",
   "execution_count": 16,
   "metadata": {},
   "outputs": [
    {
     "name": "stdout",
     "output_type": "stream",
     "text": [
      "After-tax income from top 10% - Baseline: 38.966%\n",
      "After-tax income from top 10% - No charitable: 38.922%\n",
      "After-tax income from top 10% - Difference: -0.044%\n"
     ]
    }
   ],
   "source": [
    "print ('After-tax income from top 10% - Baseline: {:0.3f}%'.\n",
    "       format(after_tax_income_top10pct(tcja_dist) * 100))\n",
    "print ('After-tax income from top 10% - No charitable: {:0.3f}%'.\n",
    "       format(after_tax_income_top10pct(tcja_no_charitable_dist) * 100))\n",
    "print ('After-tax income from top 10% - Difference: {:0.3f}%'.\n",
    "       format((after_tax_income_top10pct(tcja_no_charitable_dist) - \n",
    "               after_tax_income_top10pct(tcja_dist)) * 100))"
   ]
  }
 ],
 "metadata": {
  "kernelspec": {
   "display_name": "Python 2",
   "language": "python",
   "name": "python2"
  },
  "language_info": {
   "codemirror_mode": {
    "name": "ipython",
    "version": 2
   },
   "file_extension": ".py",
   "mimetype": "text/x-python",
   "name": "python",
   "nbconvert_exporter": "python",
   "pygments_lexer": "ipython2",
   "version": "2.7.14"
  }
 },
 "nbformat": 4,
 "nbformat_minor": 2
}
