{
 "cells": [
  {
   "cell_type": "markdown",
   "metadata": {},
   "source": [
    "# Advanced Recipe: Directly Comparing Two Reforms\n",
    "This is an advanced recipe that should be followed only after mastering the basic recipe. This recipe shows how to compare two reforms (instead of comparing a reform to current-law policy) and also shows how to use the reform files available on the Tax-Calculator website (instead of reform files on your computer's disk).\n",
    "\n",
    "Specifically, we compare the House's TCJA with the conference committee version.\n",
    "\n",
    "**Ingredients**\n",
    "\n",
    "No ingredients required because we read reform files from the Tax-Calculator website."
   ]
  },
  {
   "cell_type": "markdown",
   "metadata": {},
   "source": [
    "### Imports."
   ]
  },
  {
   "cell_type": "code",
   "execution_count": 1,
   "metadata": {
    "collapsed": true
   },
   "outputs": [],
   "source": [
    "from __future__ import print_function  # Necessary only if using Python 2.7.\n",
    "from taxcalc import *\n",
    "import urllib as url_lib  # On Python 3.6 use \"import urllib.request as url_lib\"."
   ]
  },
  {
   "cell_type": "markdown",
   "metadata": {},
   "source": [
    "### Specify `Policy` object for static analysis of `reform1`."
   ]
  },
  {
   "cell_type": "code",
   "execution_count": 2,
   "metadata": {
    "collapsed": true
   },
   "outputs": [],
   "source": [
    "reform1 = Calculator.read_json_param_objects('TCJA_Reconciliation.json', None)\n",
    "policy1 = Policy()\n",
    "policy1.implement_reform(reform1['policy'])\n",
    "if policy1.reform_errors:\n",
    "    print(policy1.reform_errors)\n",
    "    exit(1)"
   ]
  },
  {
   "cell_type": "markdown",
   "metadata": {},
   "source": [
    "### Specify `Policy` object for static analysis of `reform2`."
   ]
  },
  {
   "cell_type": "code",
   "execution_count": 3,
   "metadata": {},
   "outputs": [],
   "source": [
    "reform2 = Calculator.read_json_param_objects('TCJA_NoCharitable.json', None)\n",
    "policy2 = Policy()\n",
    "policy2.implement_reform(reform2['policy'])\n",
    "if policy2.reform_errors:\n",
    "    print(policy2.reform_errors)\n",
    "    exit(1)"
   ]
  },
  {
   "cell_type": "markdown",
   "metadata": {},
   "source": [
    "### Specify `Calculator` objects using `policy1` and `policy2` and calculate for 2018."
   ]
  },
  {
   "cell_type": "code",
   "execution_count": 4,
   "metadata": {},
   "outputs": [
    {
     "name": "stdout",
     "output_type": "stream",
     "text": [
      "You loaded data for 2014.\n",
      "Tax-Calculator startup automatically extrapolated your data to 2014.\n",
      "You loaded data for 2014.\n",
      "Tax-Calculator startup automatically extrapolated your data to 2014.\n"
     ]
    }
   ],
   "source": [
    "calc1 = Calculator(policy=policy1, records=Records.cps_constructor())\n",
    "calc1.advance_to_year(2018)\n",
    "calc1.calc_all()\n",
    "calc2 = Calculator(policy=policy2, records=Records.cps_constructor())\n",
    "calc2.advance_to_year(2018)\n",
    "calc2.calc_all()"
   ]
  },
  {
   "cell_type": "markdown",
   "metadata": {},
   "source": [
    "### Compare aggregate individual income tax revenue in 2018."
   ]
  },
  {
   "cell_type": "code",
   "execution_count": 5,
   "metadata": {
    "collapsed": true
   },
   "outputs": [],
   "source": [
    "iitax_rev1 = calc1.weighted_total('iitax')\n",
    "iitax_rev2 = calc2.weighted_total('iitax')"
   ]
  },
  {
   "cell_type": "markdown",
   "metadata": {},
   "source": [
    "### Construct `reform2`-vs-`reform1` difference table with results for income deciles.\n",
    "\n",
    "Start with printing the raw difference table, then a simplified version."
   ]
  },
  {
   "cell_type": "code",
   "execution_count": 6,
   "metadata": {},
   "outputs": [
    {
     "ename": "ValueError",
     "evalue": "Buffer dtype mismatch, expected 'Python object' but got 'long'",
     "output_type": "error",
     "traceback": [
      "\u001b[0;31m---------------------------------------------------------------------\u001b[0m",
      "\u001b[0;31mValueError\u001b[0m                          Traceback (most recent call last)",
      "\u001b[0;31mValueError\u001b[0m: Buffer dtype mismatch, expected 'Python object' but got 'long'"
     ]
    },
    {
     "name": "stderr",
     "output_type": "stream",
     "text": [
      "Exception ValueError: \"Buffer dtype mismatch, expected 'Python object' but got 'long'\" in 'pandas._libs.lib.is_bool_array' ignored\n"
     ]
    },
    {
     "data": {
      "text/html": [
       "<div>\n",
       "<style scoped>\n",
       "    .dataframe tbody tr th:only-of-type {\n",
       "        vertical-align: middle;\n",
       "    }\n",
       "\n",
       "    .dataframe tbody tr th {\n",
       "        vertical-align: top;\n",
       "    }\n",
       "\n",
       "    .dataframe thead th {\n",
       "        text-align: right;\n",
       "    }\n",
       "</style>\n",
       "<table border=\"1\" class=\"dataframe\">\n",
       "  <thead>\n",
       "    <tr style=\"text-align: right;\">\n",
       "      <th></th>\n",
       "      <th>count</th>\n",
       "      <th>tax_cut</th>\n",
       "      <th>perc_cut</th>\n",
       "      <th>tax_inc</th>\n",
       "      <th>perc_inc</th>\n",
       "      <th>mean</th>\n",
       "      <th>tot_change</th>\n",
       "      <th>share_of_change</th>\n",
       "      <th>perc_aftertax</th>\n",
       "      <th>pc_aftertaxinc</th>\n",
       "    </tr>\n",
       "  </thead>\n",
       "  <tbody>\n",
       "    <tr>\n",
       "      <th>0</th>\n",
       "      <td>16,989,416.58</td>\n",
       "      <td>0.00</td>\n",
       "      <td>0.00</td>\n",
       "      <td>500.80</td>\n",
       "      <td>0.00</td>\n",
       "      <td>0.00</td>\n",
       "      <td>62,591.29</td>\n",
       "      <td>0.00</td>\n",
       "      <td>-0.00</td>\n",
       "      <td>0.00</td>\n",
       "    </tr>\n",
       "    <tr>\n",
       "      <th>1</th>\n",
       "      <td>16,988,285.70</td>\n",
       "      <td>0.00</td>\n",
       "      <td>0.00</td>\n",
       "      <td>5,207.10</td>\n",
       "      <td>0.03</td>\n",
       "      <td>0.01</td>\n",
       "      <td>222,332.56</td>\n",
       "      <td>0.00</td>\n",
       "      <td>0.00</td>\n",
       "      <td>-0.00</td>\n",
       "    </tr>\n",
       "    <tr>\n",
       "      <th>2</th>\n",
       "      <td>16,990,004.05</td>\n",
       "      <td>0.00</td>\n",
       "      <td>0.00</td>\n",
       "      <td>133,144.85</td>\n",
       "      <td>0.78</td>\n",
       "      <td>1.41</td>\n",
       "      <td>23,923,356.00</td>\n",
       "      <td>0.11</td>\n",
       "      <td>0.01</td>\n",
       "      <td>-0.01</td>\n",
       "    </tr>\n",
       "    <tr>\n",
       "      <th>3</th>\n",
       "      <td>16,989,656.05</td>\n",
       "      <td>0.00</td>\n",
       "      <td>0.00</td>\n",
       "      <td>332,876.29</td>\n",
       "      <td>1.96</td>\n",
       "      <td>5.39</td>\n",
       "      <td>91,611,714.09</td>\n",
       "      <td>0.41</td>\n",
       "      <td>0.02</td>\n",
       "      <td>-0.02</td>\n",
       "    </tr>\n",
       "    <tr>\n",
       "      <th>4</th>\n",
       "      <td>16,989,954.66</td>\n",
       "      <td>0.00</td>\n",
       "      <td>0.00</td>\n",
       "      <td>615,923.46</td>\n",
       "      <td>3.63</td>\n",
       "      <td>13.49</td>\n",
       "      <td>229,159,421.60</td>\n",
       "      <td>1.02</td>\n",
       "      <td>0.04</td>\n",
       "      <td>-0.04</td>\n",
       "    </tr>\n",
       "    <tr>\n",
       "      <th>5</th>\n",
       "      <td>16,989,240.80</td>\n",
       "      <td>0.00</td>\n",
       "      <td>0.00</td>\n",
       "      <td>960,374.81</td>\n",
       "      <td>5.65</td>\n",
       "      <td>29.21</td>\n",
       "      <td>496,188,132.72</td>\n",
       "      <td>2.21</td>\n",
       "      <td>0.07</td>\n",
       "      <td>-0.07</td>\n",
       "    </tr>\n",
       "    <tr>\n",
       "      <th>6</th>\n",
       "      <td>16,989,686.38</td>\n",
       "      <td>0.00</td>\n",
       "      <td>0.00</td>\n",
       "      <td>1,536,497.48</td>\n",
       "      <td>9.04</td>\n",
       "      <td>76.15</td>\n",
       "      <td>1,293,752,014.36</td>\n",
       "      <td>5.77</td>\n",
       "      <td>0.15</td>\n",
       "      <td>-0.15</td>\n",
       "    </tr>\n",
       "    <tr>\n",
       "      <th>7</th>\n",
       "      <td>16,989,484.52</td>\n",
       "      <td>0.00</td>\n",
       "      <td>0.00</td>\n",
       "      <td>2,781,233.05</td>\n",
       "      <td>16.37</td>\n",
       "      <td>128.86</td>\n",
       "      <td>2,189,182,040.94</td>\n",
       "      <td>9.76</td>\n",
       "      <td>0.19</td>\n",
       "      <td>-0.19</td>\n",
       "    </tr>\n",
       "    <tr>\n",
       "      <th>8</th>\n",
       "      <td>16,989,613.44</td>\n",
       "      <td>0.00</td>\n",
       "      <td>0.00</td>\n",
       "      <td>5,451,774.32</td>\n",
       "      <td>32.09</td>\n",
       "      <td>308.49</td>\n",
       "      <td>5,241,064,357.63</td>\n",
       "      <td>23.37</td>\n",
       "      <td>0.32</td>\n",
       "      <td>-0.32</td>\n",
       "    </tr>\n",
       "    <tr>\n",
       "      <th>9</th>\n",
       "      <td>16,989,497.48</td>\n",
       "      <td>0.00</td>\n",
       "      <td>0.00</td>\n",
       "      <td>7,132,252.57</td>\n",
       "      <td>41.98</td>\n",
       "      <td>757.16</td>\n",
       "      <td>12,863,684,595.64</td>\n",
       "      <td>57.35</td>\n",
       "      <td>0.35</td>\n",
       "      <td>-0.35</td>\n",
       "    </tr>\n",
       "    <tr>\n",
       "      <th>10</th>\n",
       "      <td>169,894,839.66</td>\n",
       "      <td>0.00</td>\n",
       "      <td>0.00</td>\n",
       "      <td>18,949,784.73</td>\n",
       "      <td>11.15</td>\n",
       "      <td>132.02</td>\n",
       "      <td>22,428,850,556.81</td>\n",
       "      <td>100.00</td>\n",
       "      <td>0.24</td>\n",
       "      <td>-0.24</td>\n",
       "    </tr>\n",
       "    <tr>\n",
       "      <th>11</th>\n",
       "      <td>8,494,172.66</td>\n",
       "      <td>0.00</td>\n",
       "      <td>0.00</td>\n",
       "      <td>3,318,480.06</td>\n",
       "      <td>39.07</td>\n",
       "      <td>552.80</td>\n",
       "      <td>4,695,555,959.32</td>\n",
       "      <td>20.94</td>\n",
       "      <td>0.40</td>\n",
       "      <td>-0.40</td>\n",
       "    </tr>\n",
       "    <tr>\n",
       "      <th>12</th>\n",
       "      <td>6,794,896.30</td>\n",
       "      <td>0.00</td>\n",
       "      <td>0.00</td>\n",
       "      <td>2,972,824.34</td>\n",
       "      <td>43.75</td>\n",
       "      <td>829.85</td>\n",
       "      <td>5,638,718,300.70</td>\n",
       "      <td>25.14</td>\n",
       "      <td>0.40</td>\n",
       "      <td>-0.40</td>\n",
       "    </tr>\n",
       "    <tr>\n",
       "      <th>13</th>\n",
       "      <td>1,700,428.52</td>\n",
       "      <td>0.00</td>\n",
       "      <td>0.00</td>\n",
       "      <td>840,948.17</td>\n",
       "      <td>49.46</td>\n",
       "      <td>1,487.51</td>\n",
       "      <td>2,529,410,335.61</td>\n",
       "      <td>11.28</td>\n",
       "      <td>0.23</td>\n",
       "      <td>-0.23</td>\n",
       "    </tr>\n",
       "  </tbody>\n",
       "</table>\n",
       "</div>"
      ],
      "text/plain": [
       "            count    tax_cut   perc_cut       tax_inc   perc_inc       mean  \\\n",
       "0   16,989,416.58       0.00       0.00        500.80       0.00       0.00   \n",
       "1   16,988,285.70       0.00       0.00      5,207.10       0.03       0.01   \n",
       "2   16,990,004.05       0.00       0.00    133,144.85       0.78       1.41   \n",
       "3   16,989,656.05       0.00       0.00    332,876.29       1.96       5.39   \n",
       "4   16,989,954.66       0.00       0.00    615,923.46       3.63      13.49   \n",
       "5   16,989,240.80       0.00       0.00    960,374.81       5.65      29.21   \n",
       "6   16,989,686.38       0.00       0.00  1,536,497.48       9.04      76.15   \n",
       "7   16,989,484.52       0.00       0.00  2,781,233.05      16.37     128.86   \n",
       "8   16,989,613.44       0.00       0.00  5,451,774.32      32.09     308.49   \n",
       "9   16,989,497.48       0.00       0.00  7,132,252.57      41.98     757.16   \n",
       "10 169,894,839.66       0.00       0.00 18,949,784.73      11.15     132.02   \n",
       "11   8,494,172.66       0.00       0.00  3,318,480.06      39.07     552.80   \n",
       "12   6,794,896.30       0.00       0.00  2,972,824.34      43.75     829.85   \n",
       "13   1,700,428.52       0.00       0.00    840,948.17      49.46   1,487.51   \n",
       "\n",
       "          tot_change  share_of_change  perc_aftertax  pc_aftertaxinc  \n",
       "0          62,591.29             0.00          -0.00            0.00  \n",
       "1         222,332.56             0.00           0.00           -0.00  \n",
       "2      23,923,356.00             0.11           0.01           -0.01  \n",
       "3      91,611,714.09             0.41           0.02           -0.02  \n",
       "4     229,159,421.60             1.02           0.04           -0.04  \n",
       "5     496,188,132.72             2.21           0.07           -0.07  \n",
       "6   1,293,752,014.36             5.77           0.15           -0.15  \n",
       "7   2,189,182,040.94             9.76           0.19           -0.19  \n",
       "8   5,241,064,357.63            23.37           0.32           -0.32  \n",
       "9  12,863,684,595.64            57.35           0.35           -0.35  \n",
       "10 22,428,850,556.81           100.00           0.24           -0.24  \n",
       "11  4,695,555,959.32            20.94           0.40           -0.40  \n",
       "12  5,638,718,300.70            25.14           0.40           -0.40  \n",
       "13  2,529,410,335.61            11.28           0.23           -0.23  "
      ]
     },
     "execution_count": 6,
     "metadata": {},
     "output_type": "execute_result"
    }
   ],
   "source": [
    "diff_table = calc1.difference_table(calc2, tax_to_diff='iitax')\n",
    "diff_table"
   ]
  },
  {
   "cell_type": "code",
   "execution_count": 8,
   "metadata": {},
   "outputs": [
    {
     "data": {
      "text/plain": [
       "0         -0.00\n",
       "1          0.00\n",
       "2          0.01\n",
       "3          0.02\n",
       "4          0.04\n",
       "5          0.07\n",
       "6          0.15\n",
       "7          0.19\n",
       "8          0.32\n",
       "9          0.35\n",
       "10         0.24\n",
       "11         0.40\n",
       "12         0.40\n",
       "13         0.23\n",
       "Name: pc_aftertaxinc, dtype: float64"
      ]
     },
     "execution_count": 8,
     "metadata": {},
     "output_type": "execute_result"
    }
   ],
   "source": [
    "-diff_table['pc_aftertaxinc']"
   ]
  },
  {
   "cell_type": "markdown",
   "metadata": {},
   "source": [
    "### Print total revenue estimates for 2018.\n",
    "\n",
    "*Estimates in billons of dollars rounded to nearest tenth of a billion.*"
   ]
  },
  {
   "cell_type": "code",
   "execution_count": 19,
   "metadata": {},
   "outputs": [
    {
     "name": "stdout",
     "output_type": "stream",
     "text": [
      "2018_REFORM1_iitax_rev($B)= 1138.4\n",
      "2018_REFORM2_iitax_rev($B)= 1160.9\n"
     ]
    }
   ],
   "source": [
    "print('2018_REFORM1_iitax_rev($B)= {:.1f}'.format(iitax_rev1 * 1e-9))\n",
    "print('2018_REFORM2_iitax_rev($B)= {:.1f}'.format(iitax_rev2 * 1e-9))"
   ]
  },
  {
   "cell_type": "markdown",
   "metadata": {},
   "source": [
    "## Calculate Gini coefficient"
   ]
  },
  {
   "cell_type": "code",
   "execution_count": 13,
   "metadata": {},
   "outputs": [
    {
     "ename": "ValueError",
     "evalue": "Buffer dtype mismatch, expected 'Python object' but got 'long'",
     "output_type": "error",
     "traceback": [
      "\u001b[0;31m---------------------------------------------------------------------\u001b[0m",
      "\u001b[0;31mValueError\u001b[0m                          Traceback (most recent call last)",
      "\u001b[0;31mValueError\u001b[0m: Buffer dtype mismatch, expected 'Python object' but got 'long'"
     ]
    },
    {
     "name": "stderr",
     "output_type": "stream",
     "text": [
      "Exception ValueError: \"Buffer dtype mismatch, expected 'Python object' but got 'long'\" in 'pandas._libs.lib.is_bool_array' ignored\n"
     ]
    },
    {
     "ename": "ValueError",
     "evalue": "Buffer dtype mismatch, expected 'Python object' but got 'long'",
     "output_type": "error",
     "traceback": [
      "\u001b[0;31m---------------------------------------------------------------------\u001b[0m",
      "\u001b[0;31mValueError\u001b[0m                          Traceback (most recent call last)",
      "\u001b[0;31mValueError\u001b[0m: Buffer dtype mismatch, expected 'Python object' but got 'long'"
     ]
    },
    {
     "name": "stderr",
     "output_type": "stream",
     "text": [
      "Exception ValueError: \"Buffer dtype mismatch, expected 'Python object' but got 'long'\" in 'pandas._libs.lib.is_bool_array' ignored\n"
     ]
    }
   ],
   "source": [
    "calc1_dist, calc2_dist = calc1.distribution_tables(calc2)"
   ]
  },
  {
   "cell_type": "code",
   "execution_count": 17,
   "metadata": {},
   "outputs": [
    {
     "data": {
      "text/plain": [
       "0.38965756806225921"
      ]
     },
     "execution_count": 17,
     "metadata": {},
     "output_type": "execute_result"
    }
   ],
   "source": [
    "calc1_dist.aftertax_income[9] / calc1_dist.aftertax_income[10]"
   ]
  },
  {
   "cell_type": "code",
   "execution_count": 18,
   "metadata": {},
   "outputs": [
    {
     "data": {
      "text/plain": [
       "0.38921928950760326"
      ]
     },
     "execution_count": 18,
     "metadata": {},
     "output_type": "execute_result"
    }
   ],
   "source": [
    "calc2_dist.aftertax_income[9] / calc2_dist.aftertax_income[10]"
   ]
  },
  {
   "cell_type": "code",
   "execution_count": null,
   "metadata": {
    "collapsed": true
   },
   "outputs": [],
   "source": []
  }
 ],
 "metadata": {
  "kernelspec": {
   "display_name": "Python 2",
   "language": "python",
   "name": "python2"
  },
  "language_info": {
   "codemirror_mode": {
    "name": "ipython",
    "version": 2
   },
   "file_extension": ".py",
   "mimetype": "text/x-python",
   "name": "python",
   "nbconvert_exporter": "python",
   "pygments_lexer": "ipython2",
   "version": "2.7.14"
  }
 },
 "nbformat": 4,
 "nbformat_minor": 2
}
